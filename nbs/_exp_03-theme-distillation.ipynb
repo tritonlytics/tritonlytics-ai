{
 "cells": [
  {
   "cell_type": "markdown",
   "metadata": {},
   "source": [
    "# Theme Distilation\n",
    "\n",
    "Experiments related to verbatim clustering and summarization"
   ]
  },
  {
   "cell_type": "code",
   "execution_count": 1,
   "metadata": {},
   "outputs": [],
   "source": [
    "%reload_ext autoreload\n",
    "%autoreload 2\n",
    "%matplotlib inline\n",
    "\n",
    "import sys\n",
    "sys.path.append('..')"
   ]
  },
  {
   "cell_type": "code",
   "execution_count": 2,
   "metadata": {},
   "outputs": [],
   "source": [
    "from fastai.text import *   # Quick accesss to NLP functionality\n",
    "from fastai.callbacks import *\n",
    "\n",
    "import pdb\n",
    "from tritonlytics import Metrics as metrics_util, DataGeneration as dg_util, PandasUtil as pd_util\n",
    "from tritonlytics.evaluation import *\n",
    "from tritonlytics.callbacks import RocAucEvaluation\n",
    "\n",
    "import dill as pickle\n",
    "\n",
    "import spacy\n",
    "spacy_en = spacy.load('en')\n",
    "spacy_es = spacy.load('es')\n",
    "\n",
    "# pandas and plotting config\n",
    "import seaborn as sns\n",
    "sns.set_style('whitegrid')\n",
    "\n",
    "plt.rcParams['figure.figsize'] = (9,6)\n",
    "\n",
    "pd.set_option('display.max_rows', 500)\n",
    "pd.set_option('display.max_columns', 500)\n",
    "pd.set_option('display.width', 1000)\n",
    "pd.set_option('display.max_colwidth', 100)"
   ]
  },
  {
   "cell_type": "code",
   "execution_count": 3,
   "metadata": {},
   "outputs": [
    {
     "name": "stdout",
     "output_type": "stream",
     "text": [
      "fastai version: 1.0.52\n"
     ]
    }
   ],
   "source": [
    "print(f'fastai version: {__version__}')"
   ]
  },
  {
   "cell_type": "code",
   "execution_count": 4,
   "metadata": {},
   "outputs": [
    {
     "name": "stdout",
     "output_type": "stream",
     "text": [
      "Using GPU #1\n"
     ]
    }
   ],
   "source": [
    "torch.cuda.set_device(1)\n",
    "print(f'Using GPU #{torch.cuda.current_device()}')"
   ]
  },
  {
   "cell_type": "markdown",
   "metadata": {},
   "source": [
    "## Configuration"
   ]
  },
  {
   "cell_type": "code",
   "execution_count": 5,
   "metadata": {},
   "outputs": [],
   "source": [
    "# various default, LM, and classification paths\n",
    "PATH = Path('../data/thematization')\n",
    "\n",
    "LM_PATH = Path('../data/sent_analysis/lm')\n",
    "CLS_PATH = Path('../data/sent_analysis/class')"
   ]
  },
  {
   "cell_type": "code",
   "execution_count": 6,
   "metadata": {},
   "outputs": [],
   "source": [
    "# dataframe config\n",
    "verbatims_filename = 'verbatims-clean.csv'\n",
    "\n",
    "# basic columns\n",
    "col_dtypes = { \n",
    "    'AnswerText': str, 'AnswerText_NonEnglish': str, 'Language': str,\n",
    "    \n",
    "    'SurveyTypeID': int, 'BenchmarkSurveyType': str, 'ClientId': str,\n",
    "    \n",
    "    'QuestionReportAbbr': str, 'QuestionText': str, 'QuestionClass': str, \n",
    "    \n",
    "    'QuestionCategoryID': float, 'QuestionCategoryAbbr': str, 'QuestionCategoryLabel': str, \n",
    "    'BenchmarkLevel1': str, 'BenchmarkLevel2': str, 'BenchmarkLevel3': str, 'ClientBenchmarkLevel': str,\n",
    "    \n",
    "    'GroupCode': float, 'GroupName': str, \n",
    "    'GroupLevel1Code': float, 'GroupLevel1Name': str, 'GroupLevel2Code': float, 'GroupLevel2Name': str, \n",
    "    'GroupLevel3Code': float, 'GroupLevel3Name': str, 'GroupLevel4Code': float, 'GroupLevel4Name': str,\n",
    "    'GroupLevel5Code': float, 'GroupLevel5Name': str, 'GroupLevel6Code': float, 'GroupLevel6Name': str, \n",
    "    'GroupLevel7Code': float, 'GroupLevel7Name': str, 'GroupLevel8Code': float, 'GroupLevel8Name': str,\n",
    "    \n",
    "    'TagCount': int\n",
    "}\n",
    "\n",
    "# sentiment and entity labels\n",
    "sent_dtypes = { \n",
    "    'OverallSentiment': int, 'IsVeryPositive': int, 'IsPositive': int, 'IsVeryNegative': int, 'IsNegative' : int, \n",
    "    'IsSuggestion' : int, 'FeelsThreatened' : int, 'HasProfanity' : int, 'IsNonsense' : int \n",
    "}\n",
    "\n",
    "# date columns\n",
    "date_cols = ['LastTaggedOn']\n",
    "\n",
    "dtypes = {**col_dtypes, **sent_dtypes }\n",
    "\n",
    "\n",
    "# string columns (that can be used in language modeling), labels and classes\n",
    "TXT_COLS = [\n",
    "    'AnswerText', 'AnswerText_NonEnglish', 'Language',\n",
    "    'BenchmarkSurveyType', 'ClientId',\n",
    "    'QuestionReportAbbr', 'QuestionText', 'QuestionClass', \n",
    "    'QuestionCategoryAbbr', 'QuestionCategoryLabel',\n",
    "    'BenchmarkLevel1', 'BenchmarkLevel2', 'BenchmarkLevel3', 'ClientBenchmarkLevel',\n",
    "    'GroupName', \n",
    "    'GroupLevel1Name', 'GroupLevel2Name', 'GroupLevel3Name', 'GroupLevel4Name', \n",
    "    'GroupLevel5Name', 'GroupLevel6Name', 'GroupLevel7Name', 'GroupLevel8Name'\n",
    "]\n",
    "\n",
    "LABELS_SENT = list(sent_dtypes.keys())\n",
    "LABELS = LABELS_SENT\n",
    "\n",
    "CLASSES = [['Very Negative', 'Negative', 'Neutral', 'Positive', 'VeryPositive'], ['no', 'yes']]"
   ]
  },
  {
   "cell_type": "code",
   "execution_count": 7,
   "metadata": {},
   "outputs": [
    {
     "data": {
      "text/html": [
       "<div>\n",
       "<style scoped>\n",
       "    .dataframe tbody tr th:only-of-type {\n",
       "        vertical-align: middle;\n",
       "    }\n",
       "\n",
       "    .dataframe tbody tr th {\n",
       "        vertical-align: top;\n",
       "    }\n",
       "\n",
       "    .dataframe thead th {\n",
       "        text-align: right;\n",
       "    }\n",
       "</style>\n",
       "<table border=\"1\" class=\"dataframe\">\n",
       "  <thead>\n",
       "    <tr style=\"text-align: right;\">\n",
       "      <th></th>\n",
       "      <th>Id</th>\n",
       "      <th>SurveyID</th>\n",
       "      <th>QuestionAnsID</th>\n",
       "      <th>RspID</th>\n",
       "      <th>QuestionCategoryID</th>\n",
       "      <th>GroupID</th>\n",
       "      <th>AnswerText</th>\n",
       "      <th>AnswerText_NonEnglish</th>\n",
       "      <th>Language</th>\n",
       "      <th>SurveyTypeID</th>\n",
       "      <th>BenchmarkSurveyType</th>\n",
       "      <th>ClientId</th>\n",
       "      <th>QuestionReportAbbr</th>\n",
       "      <th>QuestionClass</th>\n",
       "      <th>QuestionText</th>\n",
       "      <th>QuestionCategoryAbbr</th>\n",
       "      <th>QuestionCategoryLabel</th>\n",
       "      <th>BenchmarkLevel1</th>\n",
       "      <th>BenchmarkLevel2</th>\n",
       "      <th>BenchmarkLevel3</th>\n",
       "      <th>ClientBenchmarkLevel</th>\n",
       "      <th>GroupCode</th>\n",
       "      <th>GroupName</th>\n",
       "      <th>GroupLevel1Code</th>\n",
       "      <th>GroupLevel1Name</th>\n",
       "      <th>GroupLevel2Code</th>\n",
       "      <th>GroupLevel2Name</th>\n",
       "      <th>GroupLevel3Code</th>\n",
       "      <th>GroupLevel3Name</th>\n",
       "      <th>GroupLevel4Code</th>\n",
       "      <th>GroupLevel4Name</th>\n",
       "      <th>GroupLevel5Code</th>\n",
       "      <th>GroupLevel5Name</th>\n",
       "      <th>GroupLevel6Code</th>\n",
       "      <th>GroupLevel6Name</th>\n",
       "      <th>GroupLevel7Code</th>\n",
       "      <th>GroupLevel7Name</th>\n",
       "      <th>GroupLevel8Code</th>\n",
       "      <th>GroupLevel8Name</th>\n",
       "      <th>OverallSentiment</th>\n",
       "      <th>IsVeryPositive</th>\n",
       "      <th>IsPositive</th>\n",
       "      <th>IsVeryNegative</th>\n",
       "      <th>IsNegative</th>\n",
       "      <th>IsSuggestion</th>\n",
       "      <th>FeelsThreatened</th>\n",
       "      <th>HasProfanity</th>\n",
       "      <th>IsNonsense</th>\n",
       "      <th>TagCount</th>\n",
       "      <th>LastTaggedOn</th>\n",
       "      <th>labels</th>\n",
       "      <th>prob_IsVeryPositive</th>\n",
       "      <th>prob_IsPositive</th>\n",
       "      <th>prob_IsVeryNegative</th>\n",
       "      <th>prob_IsNegative</th>\n",
       "      <th>prob_IsSuggestion</th>\n",
       "      <th>prob_FeelsThreatened</th>\n",
       "      <th>prob_HasProfanity</th>\n",
       "      <th>prob_IsNonsense</th>\n",
       "      <th>pred_IsVeryPositive</th>\n",
       "      <th>pred_IsPositive</th>\n",
       "      <th>pred_IsVeryNegative</th>\n",
       "      <th>pred_IsNegative</th>\n",
       "      <th>pred_IsSuggestion</th>\n",
       "      <th>pred_FeelsThreatened</th>\n",
       "      <th>pred_HasProfanity</th>\n",
       "      <th>pred_IsNonsense</th>\n",
       "      <th>threshold_f05</th>\n",
       "      <th>threshold_f1</th>\n",
       "      <th>threshold_f2</th>\n",
       "    </tr>\n",
       "  </thead>\n",
       "  <tbody>\n",
       "    <tr>\n",
       "      <th>0</th>\n",
       "      <td>9</td>\n",
       "      <td>115</td>\n",
       "      <td>1877</td>\n",
       "      <td>34968</td>\n",
       "      <td>NaN</td>\n",
       "      <td>1890</td>\n",
       "      <td>The biggest problem with my office is that the director and management positions are secretive, ...</td>\n",
       "      <td>NaN</td>\n",
       "      <td>English</td>\n",
       "      <td>9</td>\n",
       "      <td>SAW</td>\n",
       "      <td>UCSD</td>\n",
       "      <td>Additional Comments</td>\n",
       "      <td>None</td>\n",
       "      <td>Please provide any additional feedback regarding the work environment at UC San Diego.  Your com...</td>\n",
       "      <td>NaN</td>\n",
       "      <td>NaN</td>\n",
       "      <td>NaN</td>\n",
       "      <td>NaN</td>\n",
       "      <td>NaN</td>\n",
       "      <td>NaN</td>\n",
       "      <td>NaN</td>\n",
       "      <td>NaN</td>\n",
       "      <td>NaN</td>\n",
       "      <td>NaN</td>\n",
       "      <td>NaN</td>\n",
       "      <td>NaN</td>\n",
       "      <td>NaN</td>\n",
       "      <td>NaN</td>\n",
       "      <td>NaN</td>\n",
       "      <td>NaN</td>\n",
       "      <td>NaN</td>\n",
       "      <td>NaN</td>\n",
       "      <td>NaN</td>\n",
       "      <td>NaN</td>\n",
       "      <td>NaN</td>\n",
       "      <td>NaN</td>\n",
       "      <td>NaN</td>\n",
       "      <td>NaN</td>\n",
       "      <td>3</td>\n",
       "      <td>0</td>\n",
       "      <td>0</td>\n",
       "      <td>0</td>\n",
       "      <td>0</td>\n",
       "      <td>0</td>\n",
       "      <td>0</td>\n",
       "      <td>0</td>\n",
       "      <td>0</td>\n",
       "      <td>0</td>\n",
       "      <td>NaT</td>\n",
       "      <td>NaN</td>\n",
       "      <td>0.004085</td>\n",
       "      <td>0.021811</td>\n",
       "      <td>0.572653</td>\n",
       "      <td>0.977242</td>\n",
       "      <td>0.025068</td>\n",
       "      <td>0.620683</td>\n",
       "      <td>0.007176</td>\n",
       "      <td>0.000232</td>\n",
       "      <td>0</td>\n",
       "      <td>0</td>\n",
       "      <td>1</td>\n",
       "      <td>1</td>\n",
       "      <td>0</td>\n",
       "      <td>1</td>\n",
       "      <td>0</td>\n",
       "      <td>0</td>\n",
       "      <td>0.29</td>\n",
       "      <td>0.28</td>\n",
       "      <td>0.14</td>\n",
       "    </tr>\n",
       "    <tr>\n",
       "      <th>1</th>\n",
       "      <td>10</td>\n",
       "      <td>115</td>\n",
       "      <td>1877</td>\n",
       "      <td>35000</td>\n",
       "      <td>NaN</td>\n",
       "      <td>1893</td>\n",
       "      <td>There are not enough advancement opportunities for MSP level personnel.  There exist no structur...</td>\n",
       "      <td>NaN</td>\n",
       "      <td>English</td>\n",
       "      <td>9</td>\n",
       "      <td>SAW</td>\n",
       "      <td>UCSD</td>\n",
       "      <td>Additional Comments</td>\n",
       "      <td>None</td>\n",
       "      <td>Please provide any additional feedback regarding the work environment at UC San Diego.  Your com...</td>\n",
       "      <td>NaN</td>\n",
       "      <td>NaN</td>\n",
       "      <td>NaN</td>\n",
       "      <td>NaN</td>\n",
       "      <td>NaN</td>\n",
       "      <td>NaN</td>\n",
       "      <td>NaN</td>\n",
       "      <td>NaN</td>\n",
       "      <td>NaN</td>\n",
       "      <td>NaN</td>\n",
       "      <td>NaN</td>\n",
       "      <td>NaN</td>\n",
       "      <td>NaN</td>\n",
       "      <td>NaN</td>\n",
       "      <td>NaN</td>\n",
       "      <td>NaN</td>\n",
       "      <td>NaN</td>\n",
       "      <td>NaN</td>\n",
       "      <td>NaN</td>\n",
       "      <td>NaN</td>\n",
       "      <td>NaN</td>\n",
       "      <td>NaN</td>\n",
       "      <td>NaN</td>\n",
       "      <td>NaN</td>\n",
       "      <td>3</td>\n",
       "      <td>0</td>\n",
       "      <td>0</td>\n",
       "      <td>0</td>\n",
       "      <td>0</td>\n",
       "      <td>0</td>\n",
       "      <td>0</td>\n",
       "      <td>0</td>\n",
       "      <td>0</td>\n",
       "      <td>0</td>\n",
       "      <td>NaT</td>\n",
       "      <td>NaN</td>\n",
       "      <td>0.000633</td>\n",
       "      <td>0.020610</td>\n",
       "      <td>0.018632</td>\n",
       "      <td>0.937055</td>\n",
       "      <td>0.236660</td>\n",
       "      <td>0.143600</td>\n",
       "      <td>0.000013</td>\n",
       "      <td>0.001554</td>\n",
       "      <td>0</td>\n",
       "      <td>0</td>\n",
       "      <td>0</td>\n",
       "      <td>1</td>\n",
       "      <td>0</td>\n",
       "      <td>0</td>\n",
       "      <td>0</td>\n",
       "      <td>0</td>\n",
       "      <td>0.29</td>\n",
       "      <td>0.28</td>\n",
       "      <td>0.14</td>\n",
       "    </tr>\n",
       "  </tbody>\n",
       "</table>\n",
       "</div>"
      ],
      "text/plain": [
       "   Id  SurveyID  QuestionAnsID  RspID  QuestionCategoryID  GroupID                                                                                           AnswerText AnswerText_NonEnglish Language  SurveyTypeID BenchmarkSurveyType ClientId   QuestionReportAbbr QuestionClass                                                                                         QuestionText QuestionCategoryAbbr QuestionCategoryLabel BenchmarkLevel1 BenchmarkLevel2 BenchmarkLevel3 ClientBenchmarkLevel  GroupCode GroupName  GroupLevel1Code GroupLevel1Name  GroupLevel2Code GroupLevel2Name  GroupLevel3Code GroupLevel3Name  GroupLevel4Code GroupLevel4Name  GroupLevel5Code GroupLevel5Name  GroupLevel6Code GroupLevel6Name  GroupLevel7Code GroupLevel7Name  GroupLevel8Code GroupLevel8Name  OverallSentiment  IsVeryPositive  IsPositive  IsVeryNegative  IsNegative  IsSuggestion  FeelsThreatened  HasProfanity  IsNonsense  TagCount LastTaggedOn  labels  prob_IsVeryPositive  prob_IsPositive  prob_IsVeryNegative  \\\n",
       "0   9       115           1877  34968                 NaN     1890  The biggest problem with my office is that the director and management positions are secretive, ...                   NaN  English             9                 SAW     UCSD  Additional Comments          None  Please provide any additional feedback regarding the work environment at UC San Diego.  Your com...                  NaN                   NaN             NaN             NaN             NaN                  NaN        NaN       NaN              NaN             NaN              NaN             NaN              NaN             NaN              NaN             NaN              NaN             NaN              NaN             NaN              NaN             NaN              NaN             NaN                 3               0           0               0           0             0                0             0           0         0          NaT     NaN             0.004085         0.021811             0.572653   \n",
       "1  10       115           1877  35000                 NaN     1893  There are not enough advancement opportunities for MSP level personnel.  There exist no structur...                   NaN  English             9                 SAW     UCSD  Additional Comments          None  Please provide any additional feedback regarding the work environment at UC San Diego.  Your com...                  NaN                   NaN             NaN             NaN             NaN                  NaN        NaN       NaN              NaN             NaN              NaN             NaN              NaN             NaN              NaN             NaN              NaN             NaN              NaN             NaN              NaN             NaN              NaN             NaN                 3               0           0               0           0             0                0             0           0         0          NaT     NaN             0.000633         0.020610             0.018632   \n",
       "\n",
       "   prob_IsNegative  prob_IsSuggestion  prob_FeelsThreatened  prob_HasProfanity  prob_IsNonsense  pred_IsVeryPositive  pred_IsPositive  pred_IsVeryNegative  pred_IsNegative  pred_IsSuggestion  pred_FeelsThreatened  pred_HasProfanity  pred_IsNonsense  threshold_f05  threshold_f1  threshold_f2  \n",
       "0         0.977242           0.025068              0.620683           0.007176         0.000232                    0                0                    1                1                  0                     1                  0                0           0.29          0.28          0.14  \n",
       "1         0.937055           0.236660              0.143600           0.000013         0.001554                    0                0                    0                1                  0                     0                  0                0           0.29          0.28          0.14  "
      ]
     },
     "metadata": {},
     "output_type": "display_data"
    },
    {
     "data": {
      "text/plain": [
       "444135"
      ]
     },
     "metadata": {},
     "output_type": "display_data"
    },
    {
     "data": {
      "text/plain": [
       "(444135, 400)"
      ]
     },
     "metadata": {},
     "output_type": "display_data"
    },
    {
     "data": {
      "text/plain": [
       "(444135, 1200)"
      ]
     },
     "metadata": {},
     "output_type": "display_data"
    },
    {
     "name": "stdout",
     "output_type": "stream",
     "text": [
      "CPU times: user 4.89 s, sys: 1.97 s, total: 6.86 s\n",
      "Wall time: 8.69 s\n"
     ]
    }
   ],
   "source": [
    "%%time \n",
    "\n",
    "final_df = pd.read_csv(CLS_PATH/f'all_predictions_20190522.csv', dtype=dtypes, parse_dates=date_cols)\n",
    "\n",
    "doc_vecs = np.load(CLS_PATH/f'all_predictions_20190522_fwd_d400.npy')\n",
    "concat_doc_vecs = np.load(CLS_PATH/f'all_predictions_20190522_fwd_d1200.npy')\n",
    "\n",
    "# doc_vecs = np.load(CLS_PATH/f'all_predictions_20190110_bwd_d1200.npy')\n",
    "\n",
    "display(final_df.head(2))\n",
    "display(len(final_df))\n",
    "display(doc_vecs.shape, concat_doc_vecs.shape)"
   ]
  },
  {
   "cell_type": "markdown",
   "metadata": {},
   "source": [
    "## Document Vector derived themes\n",
    "\n",
    "We're using the classification model instead of the language model (LM) since the encoder is further fine-tuned on the corpus specific task of identifying various sentiments.  If our classifier works well, we should expect that our document vectors (raw_outputs) capture the meaning of each document well."
   ]
  },
  {
   "cell_type": "code",
   "execution_count": 8,
   "metadata": {},
   "outputs": [
    {
     "data": {
      "text/plain": [
       "((444135, 400), 'all_predictions_20190522_fwd_d400')"
      ]
     },
     "execution_count": 8,
     "metadata": {},
     "output_type": "execute_result"
    }
   ],
   "source": [
    "vecs = doc_vecs # concat_doc_vecs\n",
    "nmsidx_prefix = f'all_predictions_20190522_fwd_d{vecs.shape[1]}'\n",
    "\n",
    "vecs.shape, nmsidx_prefix"
   ]
  },
  {
   "cell_type": "markdown",
   "metadata": {
    "heading_collapsed": true
   },
   "source": [
    "### Nearest Neighbors Experiments"
   ]
  },
  {
   "cell_type": "markdown",
   "metadata": {
    "hidden": true
   },
   "source": [
    "#### Looking at FULL dataset"
   ]
  },
  {
   "cell_type": "code",
   "execution_count": 9,
   "metadata": {
    "hidden": true
   },
   "outputs": [],
   "source": [
    "import nmslib"
   ]
  },
  {
   "cell_type": "code",
   "execution_count": 10,
   "metadata": {
    "hidden": true
   },
   "outputs": [
    {
     "name": "stdout",
     "output_type": "stream",
     "text": [
      "CPU times: user 1h 24min 23s, sys: 44.9 s, total: 1h 25min 8s\n",
      "Wall time: 5min 30s\n"
     ]
    }
   ],
   "source": [
    "%%time \n",
    "# taking ~ 14 mins on DL Rig\n",
    "\n",
    "# initialize a new index, using a HNSW index on Cosine Similarity\n",
    "nms_index = nmslib.init(method='hnsw', space='cosinesimil')\n",
    "nms_index.addDataPointBatch(vecs)\n",
    "nms_index.createIndex({'post': 2}, print_progress=True)"
   ]
  },
  {
   "cell_type": "code",
   "execution_count": 11,
   "metadata": {
    "hidden": true
   },
   "outputs": [
    {
     "name": "stdout",
     "output_type": "stream",
     "text": [
      "CPU times: user 56.6 ms, sys: 436 ms, total: 492 ms\n",
      "Wall time: 1.71 s\n"
     ]
    }
   ],
   "source": [
    "%%time\n",
    "# save search index -> takes ~ 2 seconds\n",
    "\n",
    "nms_index.saveIndex(str(PATH/f'{nmsidx_prefix}_nmsidx.nmslib'))"
   ]
  },
  {
   "cell_type": "code",
   "execution_count": 12,
   "metadata": {
    "hidden": true
   },
   "outputs": [
    {
     "name": "stdout",
     "output_type": "stream",
     "text": [
      "CPU times: user 142 ms, sys: 312 ms, total: 453 ms\n",
      "Wall time: 454 ms\n"
     ]
    }
   ],
   "source": [
    "%%time \n",
    "# taking ~ 4 seconds on DL Rig\n",
    "\n",
    "nms_index = nmslib.init(method='hnsw', space='cosinesimil')\n",
    "nms_index.loadIndex(str(PATH/f'{nmsidx_prefix}_nmsidx.nmslib'))"
   ]
  },
  {
   "cell_type": "code",
   "execution_count": 13,
   "metadata": {
    "hidden": true
   },
   "outputs": [
    {
     "data": {
      "text/plain": [
       "'It is obvious that Student Affairs does not value the contribution our Department makes to the UCSD community. There are many surveys, forums and presentations and lip service without sincere action. With all of the above indicating the positive influence our department can have on campus life for the students at UCSD, Student Affairs continues to demand we do more with less financial support.'"
      ]
     },
     "execution_count": 13,
     "metadata": {},
     "output_type": "execute_result"
    }
   ],
   "source": [
    "test_idx = 42\n",
    "final_df.iloc[test_idx].AnswerText"
   ]
  },
  {
   "cell_type": "code",
   "execution_count": 14,
   "metadata": {
    "hidden": true
   },
   "outputs": [],
   "source": [
    "# query for the nearest neighbours of the first datapoint\n",
    "ids, distances = nms_index.knnQuery(vecs[test_idx], k=10)"
   ]
  },
  {
   "cell_type": "code",
   "execution_count": 15,
   "metadata": {
    "hidden": true,
    "scrolled": true
   },
   "outputs": [
    {
     "name": "stdout",
     "output_type": "stream",
     "text": [
      "Index: 42\tDistance: 1.7881393432617188e-07\n",
      "Index: 285644\tDistance: 0.09569191932678223\n",
      "Index: 275933\tDistance: 0.09804314374923706\n",
      "Index: 31925\tDistance: 0.0987863540649414\n",
      "Index: 48846\tDistance: 0.10131394863128662\n",
      "Index: 1734\tDistance: 0.1119832992553711\n",
      "Index: 50918\tDistance: 0.11395370960235596\n",
      "Index: 341493\tDistance: 0.1147843599319458\n",
      "Index: 6104\tDistance: 0.11515653133392334\n",
      "Index: 334048\tDistance: 0.11541712284088135\n"
     ]
    }
   ],
   "source": [
    "for idx, dist in zip(ids, distances): print(f'Index: {idx}\\tDistance: {dist}')"
   ]
  },
  {
   "cell_type": "code",
   "execution_count": 16,
   "metadata": {
    "hidden": true
   },
   "outputs": [
    {
     "name": "stdout",
     "output_type": "stream",
     "text": [
      "Input\n",
      "------------------------------------\n",
      "It is obvious that Student Affairs does not value the contribution our Department makes to the UCSD community. There are many surveys, forums and presentations and lip service without sincere action. With all of the above indicating the positive influence our department can have on campus life for the students at UCSD, Student Affairs continues to demand we do more with less financial support.\n",
      "\n",
      "10 Nearest Neighbors\n",
      "------------------------------------\n",
      "42        It is obvious that Student Affairs does not value the contribution our Department makes to the U...\n",
      "285644    The recent moves toward outsourced vendors. Dining concepts are not a university's core competen...\n",
      "275933    The work environment within FAS is good overall. The VPFAS does an excellent job at communicatin...\n",
      "31925     The biggest problem is the increase in tuition while some people are getting multi-million dolla...\n",
      "48846     The salary I receive at UCSD is still lower than the salary I received in a similar position mor...\n",
      "1734      Various employee benefits are good, compensation is becoming a problem.  Many staff are compensa...\n",
      "50918     I think hiring an AVC for EDI is a step in the right direction, but if the rest of administratio...\n",
      "341493    The salary provided by UC Davis doesn't adequately scale over time with comparable salaries in t...\n",
      "6104      Simply put, you need a more rigorous hiring process and higher pay for your dining halls.  Nearl...\n",
      "334048    Used to like the Geisel parking structure but it has now been removed as far as staff \"B\" spaces...\n",
      "Name: AnswerText, dtype: object\n",
      "\n"
     ]
    }
   ],
   "source": [
    "print('Input')\n",
    "print('------------------------------------')\n",
    "print(f'{final_df.iloc[test_idx].AnswerText}\\n')\n",
    "\n",
    "print('10 Nearest Neighbors')\n",
    "print('------------------------------------')\n",
    "print(f'{final_df.iloc[ids].AnswerText}\\n')"
   ]
  },
  {
   "cell_type": "markdown",
   "metadata": {
    "hidden": true
   },
   "source": [
    "**Similarity ... *Is anyone else talking about X, and if so, what are they saying?***"
   ]
  },
  {
   "cell_type": "code",
   "execution_count": 17,
   "metadata": {
    "hidden": true
   },
   "outputs": [
    {
     "name": "stdout",
     "output_type": "stream",
     "text": [
      "CPU times: user 2min 35s, sys: 3.33 s, total: 2min 38s\n",
      "Wall time: 41.1 s\n"
     ]
    }
   ],
   "source": [
    "%%time\n",
    "\n",
    "# get all nearest neighbours for all the datapoint using a pool of 4 threads to compute\n",
    "neighbors = nms_index.knnQueryBatch(vecs, k=10, num_threads=4)"
   ]
  },
  {
   "cell_type": "code",
   "execution_count": 18,
   "metadata": {
    "hidden": true
   },
   "outputs": [
    {
     "data": {
      "text/plain": [
       "(444135,\n",
       " (array([     0, 368676,  98389, 433379, 341339,  80271, 331872, 426977, 104964, 219496], dtype=int32),\n",
       "  array([-2.384186e-07,  5.924785e-02,  6.565255e-02,  6.686026e-02,  6.723416e-02,  6.784725e-02,  6.919652e-02,\n",
       "          6.957263e-02,  7.132113e-02,  7.251030e-02], dtype=float32)))"
      ]
     },
     "execution_count": 18,
     "metadata": {},
     "output_type": "execute_result"
    }
   ],
   "source": [
    "len(neighbors), neighbors[0]"
   ]
  },
  {
   "cell_type": "code",
   "execution_count": 19,
   "metadata": {
    "hidden": true
   },
   "outputs": [
    {
     "data": {
      "text/plain": [
       "'It is obvious that Student Affairs does not value the contribution our Department makes to the UCSD community. There are many surveys, forums and presentations and lip service without sincere action. With all of the above indicating the positive influence our department can have on campus life for the students at UCSD, Student Affairs continues to demand we do more with less financial support.'"
      ]
     },
     "execution_count": 19,
     "metadata": {},
     "output_type": "execute_result"
    }
   ],
   "source": [
    "final_df.iloc[test_idx].AnswerText"
   ]
  },
  {
   "cell_type": "code",
   "execution_count": 20,
   "metadata": {
    "hidden": true
   },
   "outputs": [
    {
     "name": "stdout",
     "output_type": "stream",
     "text": [
      "Input\n",
      "------------------------------------\n",
      "It is obvious that Student Affairs does not value the contribution our Department makes to the UCSD community. There are many surveys, forums and presentations and lip service without sincere action. With all of the above indicating the positive influence our department can have on campus life for the students at UCSD, Student Affairs continues to demand we do more with less financial support.\n",
      "\n",
      "10 Nearest Neighbors\n",
      "------------------------------------\n",
      "42        It is obvious that Student Affairs does not value the contribution our Department makes to the U...\n",
      "285644    The recent moves toward outsourced vendors. Dining concepts are not a university's core competen...\n",
      "275933    The work environment within FAS is good overall. The VPFAS does an excellent job at communicatin...\n",
      "31925     The biggest problem is the increase in tuition while some people are getting multi-million dolla...\n",
      "48846     The salary I receive at UCSD is still lower than the salary I received in a similar position mor...\n",
      "1734      Various employee benefits are good, compensation is becoming a problem.  Many staff are compensa...\n",
      "50918     I think hiring an AVC for EDI is a step in the right direction, but if the rest of administratio...\n",
      "341493    The salary provided by UC Davis doesn't adequately scale over time with comparable salaries in t...\n",
      "6104      Simply put, you need a more rigorous hiring process and higher pay for your dining halls.  Nearl...\n",
      "334048    Used to like the Geisel parking structure but it has now been removed as far as staff \"B\" spaces...\n",
      "Name: AnswerText, dtype: object\n",
      "\n"
     ]
    }
   ],
   "source": [
    "print('Input')\n",
    "print('------------------------------------')\n",
    "print(f'{final_df.iloc[test_idx].AnswerText}\\n')\n",
    "\n",
    "print('10 Nearest Neighbors')\n",
    "print('------------------------------------')\n",
    "print(f'{final_df.iloc[neighbors[test_idx][0]].AnswerText}\\n')"
   ]
  },
  {
   "cell_type": "markdown",
   "metadata": {
    "hidden": true
   },
   "source": [
    "***KNN Search Engine***"
   ]
  },
  {
   "cell_type": "code",
   "execution_count": 21,
   "metadata": {
    "hidden": true
   },
   "outputs": [],
   "source": [
    "# does regex replace making the substitution the same case\n",
    "def re_replace(word, replacement, text):\n",
    "    def func(match):\n",
    "        g = match.group()\n",
    "        if g.islower(): return replacement.lower()\n",
    "        if g.istitle(): return replacement.title()\n",
    "        if g.isupper(): return replacement.upper()\n",
    "        return replacement      \n",
    "    \n",
    "    return re.sub(word, func, text, flags=re.I)\n",
    "\n",
    "# define regex and string replacements\n",
    "re_repls = {}  # e.g., { **spelling_regex_repls } \n",
    "str_repls = {} # e.g., { **weirdchar_str_repls }\n",
    "\n",
    "def make_replacements(t:str) -> str:\n",
    "    # replace based on regexs (keeping case) and then strings\n",
    "    for k, v in re_repls.items(): t = re_replace(k, v, t)\n",
    "    for k, v in str_repls.items(): t = t.replace(k, t)\n",
    "    return t\n",
    "\n",
    "# ensure am|pm is considered it own token (7:00pm > 7:00 pm, 7am-10pm > 7 am - 10 pm))\n",
    "def fix_ampm(t:str) -> str:\n",
    "    re_ampm = re.compile(r'(\\d+)(am|pm|am\\-|pm\\-|a\\.m\\.|p\\.m\\.|a\\.m\\.\\-|p\\.m\\.\\-)')    \n",
    "    return re_ampm.sub(r'\\1 \\2 ', t)\n",
    "\n",
    "# try to handle places where a new sentence doesn't begin with a space (e.g., I like dogs.I like cats)\n",
    "# without breaking apart things like urls and emails\n",
    "def fix_sentence_ends(t:str) -> str:\n",
    "    re_sentend = re.compile(r'(?<!www)\\.((?!com|edu|org|net|m\\b)[a-zA-Z]+)(?!(@|\\.(com|edu|org|net)))\\b') \n",
    "    return re_sentend.sub(r'. \\1 ', t)\n",
    "\n",
    "# separate hyphen|tilde if it is at beginning of letter/digit\n",
    "def fix_hyphenated_words(t:str) -> str:\n",
    "    re_hypword = re.compile(r'\\s(\\-+|~+)([a-zA-Z0-9])')\n",
    "    return re_hypword.sub(r' \\1 \\2', t)\n",
    "\n",
    "\n",
    "# prepend custom tokenization rules to defaults\n",
    "custom_tok_rules = defaults.text_pre_rules + [make_replacements, fix_ampm, fix_sentence_ends, fix_hyphenated_words]\n",
    "\n",
    "# use this customized Tokenizer for qualitative data\n",
    "tokenizer = Tokenizer(pre_rules=custom_tok_rules)"
   ]
  },
  {
   "cell_type": "code",
   "execution_count": 22,
   "metadata": {
    "hidden": true
   },
   "outputs": [],
   "source": [
    "beta = 1\n",
    "start = 0.1\n",
    "\n",
    "def fscore(preds, targs):\n",
    "    return metrics_util.best_fscore(preds, targs, beta, start=start)\n",
    "    \n",
    "def opt_th(preds, targs):\n",
    "    return metrics_util.best_fthresh(preds, targs, beta=beta, start=start)\n",
    "\n",
    "def multilbl_accuracy(preds, targs):\n",
    "    return metrics_util.multi_accuracy(preds, targs, beta=beta, start=start)"
   ]
  },
  {
   "cell_type": "code",
   "execution_count": 23,
   "metadata": {
    "hidden": true
   },
   "outputs": [],
   "source": [
    "class MultiLabelClassifier(nn.Module):\n",
    "    \n",
    "    def __init__(self, y_range=None):\n",
    "        super().__init__()\n",
    "        self.y_range = y_range\n",
    "    \n",
    "    def forward(self, input):\n",
    "        x, raw_outputs, outputs = input\n",
    "        x = torch.sigmoid(x)\n",
    "        if (self.y_range):\n",
    "            x = x * (self.y_range[1] - self.y_range[0])\n",
    "            x = x + self.y_range[0]\n",
    "        \n",
    "        return x, raw_outputs, outputs"
   ]
  },
  {
   "cell_type": "code",
   "execution_count": null,
   "metadata": {
    "hidden": true
   },
   "outputs": [],
   "source": []
  },
  {
   "cell_type": "code",
   "execution_count": 24,
   "metadata": {
    "hidden": true
   },
   "outputs": [
    {
     "name": "stdout",
     "output_type": "stream",
     "text": [
      "cuda:1\n"
     ]
    }
   ],
   "source": [
    "device = torch.device('cuda:1') if torch.cuda.is_available() else torch.device('cpu')\n",
    "# device = torch.device('cpu')\n",
    "print(device)"
   ]
  },
  {
   "cell_type": "code",
   "execution_count": 25,
   "metadata": {
    "hidden": true
   },
   "outputs": [
    {
     "name": "stderr",
     "output_type": "stream",
     "text": [
      "/home/wgilliam/anaconda3/envs/tritonlytics-ml/lib/python3.7/site-packages/torch/serialization.py:256: UserWarning: Couldn't retrieve source code for container of type MultiLabelClassifier. It won't be checked for correctness upon loading.\n",
      "  \"type \" + obj.__name__ + \". It won't be checked \"\n"
     ]
    }
   ],
   "source": [
    "learn = None; gc.collect()\n",
    "learn = load_learner(CLS_PATH, file='export_clas.pkl').load('fwd_cls_bestmodel_multilabel')\n",
    "learn.model = learn.model.to(device)"
   ]
  },
  {
   "cell_type": "code",
   "execution_count": 26,
   "metadata": {
    "hidden": true
   },
   "outputs": [],
   "source": [
    "tokenizer, numericalizer = learn.data.processor"
   ]
  },
  {
   "cell_type": "code",
   "execution_count": 27,
   "metadata": {
    "hidden": true
   },
   "outputs": [],
   "source": [
    "query = 'What I love about the library is'\n",
    "\n",
    "query_nums = numericalizer.process_one(tokenizer.process_one(query))"
   ]
  },
  {
   "cell_type": "code",
   "execution_count": 28,
   "metadata": {
    "hidden": true
   },
   "outputs": [],
   "source": [
    "def concat_pool(raw_outputs):\n",
    "    last_rnn_layer = raw_outputs[-1]\n",
    "    bsz = last_rnn_layer.shape[0] \n",
    "    \n",
    "    avg_pool = F.adaptive_avg_pool1d(last_rnn_layer.permute(0,2,1), 1).view(bsz, -1)\n",
    "    max_pool = F.adaptive_max_pool1d(last_rnn_layer.permute(0,2,1), 1).view(bsz, -1)\n",
    "    last_outp = last_rnn_layer[:,-1,:]\n",
    "    \n",
    "    return torch.cat([last_outp, max_pool, avg_pool], 1)"
   ]
  },
  {
   "cell_type": "code",
   "execution_count": 29,
   "metadata": {
    "hidden": true
   },
   "outputs": [
    {
     "data": {
      "text/plain": [
       "(torch.Size([8]), torch.Size([1, 9, 1150]), torch.Size([1, 9, 400]))"
      ]
     },
     "execution_count": 29,
     "metadata": {},
     "output_type": "execute_result"
    }
   ],
   "source": [
    "learn.model.eval()\n",
    "\n",
    "with torch.no_grad():\n",
    "    learn.model.reset()\n",
    "    x = tensor(query_nums).unsqueeze(0).cuda()\n",
    "    probs, raw_outputs, outputs = to_detach(learn.model(x))\n",
    "    \n",
    "probs[0].shape, raw_outputs[0].shape, raw_outputs[-1].shape"
   ]
  },
  {
   "cell_type": "code",
   "execution_count": 30,
   "metadata": {
    "hidden": true,
    "scrolled": true
   },
   "outputs": [
    {
     "data": {
      "text/plain": [
       "torch.Size([1, 400])"
      ]
     },
     "execution_count": 30,
     "metadata": {},
     "output_type": "execute_result"
    }
   ],
   "source": [
    "query_vec = concat_pool(raw_outputs) if vecs.shape[1] == 1200 else raw_outputs[-1][:,-1,:]\n",
    "query_vec.shape"
   ]
  },
  {
   "cell_type": "code",
   "execution_count": 31,
   "metadata": {
    "hidden": true
   },
   "outputs": [],
   "source": [
    "# query for the nearest neighbours of the first datapoint\n",
    "ids, distances = nms_index.knnQuery(query_vec, k=10)"
   ]
  },
  {
   "cell_type": "code",
   "execution_count": 32,
   "metadata": {
    "hidden": true
   },
   "outputs": [
    {
     "name": "stdout",
     "output_type": "stream",
     "text": [
      "Query: What I love about the library is\n",
      "\n",
      "10 Nearest Neighbors\n",
      "------------------------------------\n"
     ]
    },
    {
     "data": {
      "text/plain": [
       "316142                                                                      The most important thing to me is\n",
       "84459     I really appreciate the use of and links to online information and the access I have to our libr...\n",
       "436650                                                                    I think it's pretty enjoyable as is\n",
       "277140                                                                          I'm satisfied with everything\n",
       "402417                                                                         I am satisfied with everything\n",
       "47478                                                                          I am happy with their services\n",
       "24487                                                         So far I am very satisfied with UCSD's services\n",
       "389560                                                            I like the convient hours, and good service\n",
       "78058                                                                   It's clean and organized, I love that\n",
       "391053                                                                         I'm satisfied with the service\n",
       "Name: AnswerText, dtype: object"
      ]
     },
     "execution_count": 32,
     "metadata": {},
     "output_type": "execute_result"
    }
   ],
   "source": [
    "print(f'Query: {query}\\n')\n",
    "print('10 Nearest Neighbors')\n",
    "print('------------------------------------')\n",
    "final_df.iloc[ids].AnswerText"
   ]
  },
  {
   "cell_type": "code",
   "execution_count": 33,
   "metadata": {
    "hidden": true
   },
   "outputs": [
    {
     "data": {
      "text/plain": [
       "\"I think it's pretty enjoyable as is\""
      ]
     },
     "execution_count": 33,
     "metadata": {},
     "output_type": "execute_result"
    }
   ],
   "source": [
    "final_df.iloc[436650].AnswerText"
   ]
  },
  {
   "cell_type": "markdown",
   "metadata": {
    "heading_collapsed": true
   },
   "source": [
    "### PCA Experiments"
   ]
  },
  {
   "cell_type": "code",
   "execution_count": 38,
   "metadata": {
    "hidden": true
   },
   "outputs": [
    {
     "data": {
      "text/plain": [
       "(444135, 400)"
      ]
     },
     "execution_count": 38,
     "metadata": {},
     "output_type": "execute_result"
    }
   ],
   "source": [
    "vecs.shape"
   ]
  },
  {
   "cell_type": "code",
   "execution_count": 39,
   "metadata": {
    "hidden": true
   },
   "outputs": [],
   "source": [
    "from sklearn.decomposition import PCA"
   ]
  },
  {
   "cell_type": "code",
   "execution_count": 40,
   "metadata": {
    "hidden": true
   },
   "outputs": [],
   "source": [
    "pca = PCA(n_components=10)"
   ]
  },
  {
   "cell_type": "markdown",
   "metadata": {
    "hidden": true
   },
   "source": [
    "What is the difference between these two approachs?\n",
    "\n",
    "Approach #1"
   ]
  },
  {
   "cell_type": "code",
   "execution_count": 41,
   "metadata": {
    "hidden": true
   },
   "outputs": [
    {
     "data": {
      "text/plain": [
       "PCA(copy=True, iterated_power='auto', n_components=10, random_state=None,\n",
       "  svd_solver='auto', tol=0.0, whiten=False)"
      ]
     },
     "execution_count": 41,
     "metadata": {},
     "output_type": "execute_result"
    }
   ],
   "source": [
    "pca.fit(vecs)"
   ]
  },
  {
   "cell_type": "code",
   "execution_count": 42,
   "metadata": {
    "hidden": true
   },
   "outputs": [
    {
     "data": {
      "text/plain": [
       "(444135, 10)"
      ]
     },
     "execution_count": 42,
     "metadata": {},
     "output_type": "execute_result"
    }
   ],
   "source": [
    "x = pca.transform(vecs)\n",
    "x.shape"
   ]
  },
  {
   "cell_type": "code",
   "execution_count": 43,
   "metadata": {
    "hidden": true
   },
   "outputs": [
    {
     "data": {
      "text/plain": [
       "(10, 400)"
      ]
     },
     "execution_count": 43,
     "metadata": {},
     "output_type": "execute_result"
    }
   ],
   "source": [
    "pca.components_.shape"
   ]
  },
  {
   "cell_type": "markdown",
   "metadata": {
    "hidden": true
   },
   "source": [
    "Approach #2"
   ]
  },
  {
   "cell_type": "code",
   "execution_count": 53,
   "metadata": {
    "hidden": true
   },
   "outputs": [],
   "source": [
    "pca2 = PCA(n_components=10)"
   ]
  },
  {
   "cell_type": "code",
   "execution_count": 54,
   "metadata": {
    "hidden": true
   },
   "outputs": [
    {
     "data": {
      "text/plain": [
       "PCA(copy=True, iterated_power='auto', n_components=10, random_state=None,\n",
       "  svd_solver='auto', tol=0.0, whiten=False)"
      ]
     },
     "execution_count": 54,
     "metadata": {},
     "output_type": "execute_result"
    }
   ],
   "source": [
    "pca2.fit(vecs.T)"
   ]
  },
  {
   "cell_type": "code",
   "execution_count": 55,
   "metadata": {
    "hidden": true
   },
   "outputs": [
    {
     "data": {
      "text/plain": [
       "(400, 10)"
      ]
     },
     "execution_count": 55,
     "metadata": {},
     "output_type": "execute_result"
    }
   ],
   "source": [
    "x2 = pca2.transform(vecs.T)\n",
    "x2.shape"
   ]
  },
  {
   "cell_type": "code",
   "execution_count": 56,
   "metadata": {
    "hidden": true
   },
   "outputs": [
    {
     "data": {
      "text/plain": [
       "(10, 444135)"
      ]
     },
     "execution_count": 56,
     "metadata": {},
     "output_type": "execute_result"
    }
   ],
   "source": [
    "pca2.components_.shape"
   ]
  },
  {
   "cell_type": "code",
   "execution_count": null,
   "metadata": {
    "hidden": true
   },
   "outputs": [],
   "source": []
  },
  {
   "cell_type": "code",
   "execution_count": 57,
   "metadata": {
    "hidden": true
   },
   "outputs": [
    {
     "data": {
      "text/plain": [
       "array([ 0.559682,  0.195418,  0.235243, -0.215344,  0.372617,  0.47011 ,  0.48245 ,  0.200531, -0.399206,  0.475062],\n",
       "      dtype=float32)"
      ]
     },
     "execution_count": 57,
     "metadata": {},
     "output_type": "execute_result"
    }
   ],
   "source": [
    "x[:10,0]"
   ]
  },
  {
   "cell_type": "code",
   "execution_count": 58,
   "metadata": {
    "hidden": true
   },
   "outputs": [
    {
     "data": {
      "text/plain": [
       "array([-16.625849,  11.195127,   5.207843,  -4.917706,   0.099287,   1.646228,  -4.895801,  -4.610067,  -5.638983,\n",
       "         2.749946], dtype=float32)"
      ]
     },
     "execution_count": 58,
     "metadata": {},
     "output_type": "execute_result"
    }
   ],
   "source": [
    "x2[0,:10]"
   ]
  },
  {
   "cell_type": "code",
   "execution_count": null,
   "metadata": {
    "hidden": true
   },
   "outputs": [],
   "source": []
  },
  {
   "cell_type": "code",
   "execution_count": 59,
   "metadata": {
    "hidden": true
   },
   "outputs": [],
   "source": [
    "x = pca.fit(vecs.T).components_"
   ]
  },
  {
   "cell_type": "code",
   "execution_count": 60,
   "metadata": {
    "hidden": true
   },
   "outputs": [
    {
     "name": "stdout",
     "output_type": "stream",
     "text": [
      "[0.185619 0.135031 0.081957 0.059822 0.033198 0.030418 0.025353 0.021579 0.018722 0.014422]\n",
      "[172.0523   146.74635  114.32553   97.67437   72.76192   69.6493    63.586216  58.66343   54.64223   47.95895 ]\n"
     ]
    }
   ],
   "source": [
    "print(pca.explained_variance_ratio_) \n",
    "print(pca.singular_values_)  "
   ]
  },
  {
   "cell_type": "code",
   "execution_count": 61,
   "metadata": {
    "hidden": true
   },
   "outputs": [
    {
     "data": {
      "text/plain": [
       "(10, 444135)"
      ]
     },
     "execution_count": 61,
     "metadata": {},
     "output_type": "execute_result"
    }
   ],
   "source": [
    "x.shape"
   ]
  },
  {
   "cell_type": "code",
   "execution_count": 62,
   "metadata": {
    "hidden": true
   },
   "outputs": [
    {
     "name": "stdout",
     "output_type": "stream",
     "text": [
      "[[-2.295373e-03 -3.867572e-04 -5.766839e-04  1.688790e-03 ... -1.813506e-03 -5.774024e-04  2.934574e-03 -1.746775e-03]\n",
      " [-2.983778e-03 -1.925181e-03 -2.066793e-03 -4.680631e-04 ... -3.012169e-03 -1.447076e-03 -8.860634e-04 -3.108552e-03]\n",
      " [-1.657729e-03 -5.672823e-04 -3.566218e-04 -3.963458e-04 ... -1.746683e-03 -8.897505e-05 -9.674024e-04 -1.654190e-03]\n",
      " [-1.186245e-03  1.012991e-03  5.292573e-04  1.620075e-03 ... -6.877169e-04 -9.146417e-04  5.500034e-04 -4.045283e-04]\n",
      " ...\n",
      " [ 1.495161e-03 -1.090275e-03 -3.750138e-04 -1.091341e-03 ...  1.959452e-03  1.077569e-03 -1.479890e-03  1.882574e-03]\n",
      " [ 8.657775e-04 -2.798892e-04 -7.880488e-04 -1.796314e-04 ...  2.382540e-04  9.306696e-04  3.961544e-03 -1.201417e-03]\n",
      " [ 7.754151e-04 -1.009137e-03 -3.279002e-04 -1.183660e-03 ...  5.104583e-04 -2.182849e-03 -5.384159e-04  2.521856e-04]\n",
      " [ 1.556009e-03  1.068319e-03  8.626779e-04 -2.638526e-04 ...  1.388512e-03 -2.293616e-03  1.836015e-04 -3.296542e-04]]\n",
      "278.06125\n"
     ]
    }
   ],
   "source": [
    "print(x[:, :10])\n",
    "print(np.sum(x[0]))"
   ]
  },
  {
   "cell_type": "code",
   "execution_count": 63,
   "metadata": {
    "hidden": true
   },
   "outputs": [
    {
     "data": {
      "text/plain": [
       "<BarContainer object of 10 artists>"
      ]
     },
     "execution_count": 63,
     "metadata": {},
     "output_type": "execute_result"
    },
    {
     "data": {
      "image/png": "[encoded data removed]",
      "text/plain": [
       "<Figure size 648x432 with 1 Axes>"
      ]
     },
     "metadata": {},
     "output_type": "display_data"
    }
   ],
   "source": [
    "plt.bar(np.arange(10), pca.explained_variance_ratio_)"
   ]
  },
  {
   "cell_type": "code",
   "execution_count": 64,
   "metadata": {
    "hidden": true,
    "scrolled": true
   },
   "outputs": [
    {
     "data": {
      "text/plain": [
       "(444135,)"
      ]
     },
     "execution_count": 64,
     "metadata": {},
     "output_type": "execute_result"
    }
   ],
   "source": [
    "pca_d1 = x[0,:]\n",
    "pca_d1.shape"
   ]
  },
  {
   "cell_type": "code",
   "execution_count": 65,
   "metadata": {
    "hidden": true
   },
   "outputs": [],
   "source": [
    "pca_d1_top10, pca_d1_bottom_10 =  pca_d1.argsort()[::-1][:10], pca_d1.argsort()[:10]"
   ]
  },
  {
   "cell_type": "code",
   "execution_count": 66,
   "metadata": {
    "hidden": true
   },
   "outputs": [
    {
     "name": "stdout",
     "output_type": "stream",
     "text": [
      "[338530 102499 299353 364737   1156 306150 115951 342422  49424 367931] [ 63604 352187 333345  14972 347588 224953 144618  15405  53181 129222]\n",
      "\n",
      "[0.005227 0.005158 0.004942 0.004927 0.004884 0.004857 0.004809 0.004775 0.004713 0.004706] [-0.004917 -0.004752 -0.004685 -0.00467  -0.004668 -0.004648 -0.004644 -0.004609 -0.004588 -0.004567]\n"
     ]
    }
   ],
   "source": [
    "print(pca_d1_top10, pca_d1_bottom_10)\n",
    "print('')\n",
    "print(pca_d1[pca_d1_top10], pca_d1[pca_d1_bottom_10])"
   ]
  },
  {
   "cell_type": "code",
   "execution_count": 67,
   "metadata": {
    "hidden": true
   },
   "outputs": [
    {
     "data": {
      "text/plain": [
       "338530    I would like to highlight Pat Hochstein for playing a major role in our department by contributi...\n",
       "102499    I had occasion to call upon Occupational Health & Hygiene this year to assist with an employee's...\n",
       "299353    Having been assisted by Ms. Valladolid several times, I have always been impressed by her knowle...\n",
       "364737    The communications team has advanced the online presence of the university by miles and miles. I...\n",
       "1156      Vanessa Gonzalez (Pediatrics Department) is an amazing colleague who works very hard to keep our...\n",
       "306150    Beverly Huizar, Olga Santillan, Hilary Wolf  These ladies do an exceptional job providing outsta...\n",
       "115951    I feel that Mariko Cavey (Human Development Program) and Christina Knerr Frink (Linguistics) hav...\n",
       "342422    The custodial service team responds to special situations during their work day with professiona...\n",
       "49424     Pamela Fruge has been a mentor since I started my position as both the MSO of Education Studies ...\n",
       "367931                                                   MARLENE MOORE provided exceptional customer service.\n",
       "Name: AnswerText, dtype: object"
      ]
     },
     "execution_count": 67,
     "metadata": {},
     "output_type": "execute_result"
    }
   ],
   "source": [
    "final_df.iloc[pca_d1_top10].AnswerText"
   ]
  },
  {
   "cell_type": "code",
   "execution_count": 68,
   "metadata": {
    "hidden": true
   },
   "outputs": [
    {
     "data": {
      "text/plain": [
       "63604     I have always had direct communication to our Financial Aid IT staff.  With them not being readi...\n",
       "352187                          can't check badminton court reservation status online is really inconvenient.\n",
       "333345                                                 The online system to place orders is very frustrating.\n",
       "14972                                                          Markeptplace iRequest is still very confusing.\n",
       "347588    Personally feel that, with all of the issues experienced with processing payroll through Workday...\n",
       "224953                                                                      Wifi here is absolutely terrible.\n",
       "144618                                                                Wireless Network is very very very bad.\n",
       "15405                                                         The BFS changeover has been somewhat confusing.\n",
       "53181                                                  The wireless connection in Sixth College is very poor.\n",
       "129222                                                               The campus wifi is extremely unreliable.\n",
       "Name: AnswerText, dtype: object"
      ]
     },
     "execution_count": 68,
     "metadata": {},
     "output_type": "execute_result"
    }
   ],
   "source": [
    "final_df.iloc[pca_d1_bottom_10].AnswerText"
   ]
  },
  {
   "cell_type": "code",
   "execution_count": null,
   "metadata": {
    "hidden": true
   },
   "outputs": [],
   "source": []
  },
  {
   "cell_type": "markdown",
   "metadata": {
    "heading_collapsed": true
   },
   "source": [
    "## Word Count derived themes\n",
    "\n",
    "Using CountVectorizer and TFIDF to look at unigrams, bigrams, and trigrams.  Could be useful to infer themes across for all verbatims, for a given client, for a given survey type, and/or for a given question, etc..."
   ]
  },
  {
   "cell_type": "code",
   "execution_count": null,
   "metadata": {
    "hidden": true
   },
   "outputs": [],
   "source": [
    "from sklearn.feature_extraction.text import CountVectorizer"
   ]
  },
  {
   "cell_type": "code",
   "execution_count": null,
   "metadata": {
    "hidden": true
   },
   "outputs": [],
   "source": [
    "def get_token_counts(df, ngrams=1):\n",
    "    cnt_vec = CountVectorizer(strip_accents='unicode', \n",
    "                              stop_words='english', \n",
    "                              ngram_range=(ngrams,ngrams), min_df=1)\n",
    "    \n",
    "    dtm = cnt_vec.fit_transform(df[pd.notnull(df.AnswerText_Cleaned_Lemmatized)].AnswerText_Cleaned)\n",
    "     \n",
    "    sdf = pd.SparseDataFrame(dtm, columns=cnt_vec.get_feature_names(), \n",
    "                             dtype=np.int64, default_fill_value=0)\n",
    "    \n",
    "    token_count_df = sdf.sum().to_frame('count').copy()\n",
    "    token_count_df.index.name = 'token'\n",
    "    token_count_df['ngrams'] = ngrams\n",
    "    \n",
    "    return token_count_df.reset_index(), sdf"
   ]
  },
  {
   "cell_type": "code",
   "execution_count": null,
   "metadata": {
    "hidden": true
   },
   "outputs": [],
   "source": [
    "# returns a tuple (the filtered df, the token counts for ea gram, and the\n",
    "# document-term-matrices (DTMs) for each gram)\n",
    "def get_count_based_themes(benchmark_surveytype=None, \n",
    "                           survey_id=None, \n",
    "                           question_ans_id=None, \n",
    "                           question_text=None,\n",
    "                           max_ngrams=3, n_top=10):\n",
    "\n",
    "    # filter df based on args\n",
    "    df = (\n",
    "        final_df\n",
    "            .loc[(survey_id is None) | (final_df.SurveyID == survey_id)]\n",
    "            .loc[(question_ans_id is None) | (final_df.QuestionAnsID == question_ans_id)]\n",
    "            .loc[(benchmark_surveytype is None) | \n",
    "                 (final_df.BenchmarkSurveyType.str.startswith(str(benchmark_surveytype), na=False))]\n",
    "            .loc[(question_text is None) | \n",
    "                 (final_df.QuestionText.str.contains(str(question_text), na=False))]\n",
    "    )\n",
    "\n",
    "    tok_count_df = pd.DataFrame(columns=['token', 'count', 'ngrams'])\n",
    "    dtm_dfs = []\n",
    "    \n",
    "    for i in range(max_ngrams):\n",
    "        ngram = i+1\n",
    "        ngram_tok_count_df, dtm_df = get_token_counts(df, ngram)\n",
    "        \n",
    "        tok_count_df = tok_count_df.append(\n",
    "            ngram_tok_count_df.sort_values(by='count', ascending=False)[:n_top], ignore_index=True)\n",
    "        \n",
    "        dtm_dfs.append({'ngrams': ngram, 'dtm_df': dtm_df})\n",
    "        \n",
    "    return df, tok_count_df, dtm_dfs"
   ]
  },
  {
   "cell_type": "code",
   "execution_count": null,
   "metadata": {
    "hidden": true
   },
   "outputs": [],
   "source": [
    "final_df.BenchmarkSurveyType.value_counts()"
   ]
  },
  {
   "cell_type": "code",
   "execution_count": null,
   "metadata": {
    "hidden": true
   },
   "outputs": [],
   "source": [
    "filtered_clean_df, tok_count_df, dtm_dfs = get_count_based_themes(benchmark_surveytype='CSS', \n",
    "                                                                  survey_id = 144,\n",
    "                                                                  question_text = 'improve',\n",
    "                                                                  max_ngrams=4)\n",
    "\n",
    "len(filtered_clean_df), len(tok_count_df), len(dtm_dfs)"
   ]
  },
  {
   "cell_type": "code",
   "execution_count": null,
   "metadata": {
    "hidden": true
   },
   "outputs": [],
   "source": [
    "qans_ids = (final_df\n",
    "    .loc[final_df.SurveyID == 144]\n",
    "    .loc[final_df.QuestionText.str.contains('improve', na=False)]\n",
    "    .QuestionAnsID.value_counts().index.tolist())"
   ]
  },
  {
   "cell_type": "code",
   "execution_count": null,
   "metadata": {
    "hidden": true
   },
   "outputs": [],
   "source": [
    "dept_tok_count_df = pd.DataFrame(columns=['token', 'count', 'ngrams', 'dept', 'question_text'])\n",
    "\n",
    "for i in qans_ids:\n",
    "    filtered_clean_df, tok_count_df, dtm_dfs = get_count_based_themes(survey_id = 144,\n",
    "                                                                      question_ans_id = i,\n",
    "                                                                      max_ngrams=3)\n",
    "    dept = filtered_clean_df.iloc[0].QuestionCategoryAbbr\n",
    "    qtext = filtered_clean_df.iloc[0].QuestionText\n",
    "    tok_count_df['dept'] = dept\n",
    "    tok_count_df['question_text'] = qtext\n",
    "    \n",
    "    dept_tok_count_df = dept_tok_count_df.append(tok_count_df, ignore_index=True)"
   ]
  },
  {
   "cell_type": "code",
   "execution_count": null,
   "metadata": {
    "hidden": true
   },
   "outputs": [],
   "source": []
  },
  {
   "cell_type": "markdown",
   "metadata": {
    "hidden": true
   },
   "source": [
    "This is an example about how to cross-reference the actual verbatims for a given word in a specific DTM."
   ]
  },
  {
   "cell_type": "code",
   "execution_count": null,
   "metadata": {
    "hidden": true
   },
   "outputs": [],
   "source": [
    "dtm_dfs[0]['dtm_df']"
   ]
  },
  {
   "cell_type": "code",
   "execution_count": null,
   "metadata": {
    "hidden": true
   },
   "outputs": [],
   "source": [
    "# get the DTM built off of unigrams\n",
    "unigram_dtm_df = dtm_dfs[0]['dtm_df']\n",
    "len(unigram_dtm_df)"
   ]
  },
  {
   "cell_type": "code",
   "execution_count": null,
   "metadata": {
    "hidden": true
   },
   "outputs": [],
   "source": [
    "# get the indexes for where the word \"work\" was found in the DTM\n",
    "indexes = list(unigram_dtm_df[unigram_dtm_df['buildings'] >= 1].index)\n",
    "len(indexes)"
   ]
  },
  {
   "cell_type": "code",
   "execution_count": null,
   "metadata": {
    "hidden": true
   },
   "outputs": [],
   "source": [
    "# use the filtered df to display the indexes where the word \"work\" was found\n",
    "filtered_clean_df.iloc[indexes].AnswerText.head(10)"
   ]
  },
  {
   "cell_type": "code",
   "execution_count": null,
   "metadata": {
    "hidden": true,
    "scrolled": true
   },
   "outputs": [],
   "source": [
    "final_df.iloc[329419].AnswerText"
   ]
  },
  {
   "cell_type": "markdown",
   "metadata": {},
   "source": [
    "## Clustering by department (CSS) or group (S@W)"
   ]
  },
  {
   "cell_type": "code",
   "execution_count": 224,
   "metadata": {},
   "outputs": [],
   "source": [
    "from sklearn.decomposition import PCA\n",
    "from sklearn.manifold import TSNE"
   ]
  },
  {
   "cell_type": "code",
   "execution_count": 225,
   "metadata": {},
   "outputs": [
    {
     "data": {
      "text/plain": [
       "((444135, 1200), 444135)"
      ]
     },
     "execution_count": 225,
     "metadata": {},
     "output_type": "execute_result"
    }
   ],
   "source": [
    "vecs = concat_doc_vecs #doc_vecs \n",
    "vecs.shape, len(final_df)"
   ]
  },
  {
   "cell_type": "code",
   "execution_count": 226,
   "metadata": {
    "scrolled": true
   },
   "outputs": [
    {
     "data": {
      "text/html": [
       "<div>\n",
       "<style scoped>\n",
       "    .dataframe tbody tr th:only-of-type {\n",
       "        vertical-align: middle;\n",
       "    }\n",
       "\n",
       "    .dataframe tbody tr th {\n",
       "        vertical-align: top;\n",
       "    }\n",
       "\n",
       "    .dataframe thead th {\n",
       "        text-align: right;\n",
       "    }\n",
       "</style>\n",
       "<table border=\"1\" class=\"dataframe\">\n",
       "  <thead>\n",
       "    <tr style=\"text-align: right;\">\n",
       "      <th></th>\n",
       "      <th>Id</th>\n",
       "      <th>SurveyID</th>\n",
       "      <th>QuestionAnsID</th>\n",
       "      <th>RspID</th>\n",
       "      <th>QuestionCategoryID</th>\n",
       "      <th>GroupID</th>\n",
       "      <th>AnswerText</th>\n",
       "      <th>AnswerText_NonEnglish</th>\n",
       "      <th>Language</th>\n",
       "      <th>SurveyTypeID</th>\n",
       "      <th>BenchmarkSurveyType</th>\n",
       "      <th>ClientId</th>\n",
       "      <th>QuestionReportAbbr</th>\n",
       "      <th>QuestionClass</th>\n",
       "      <th>QuestionText</th>\n",
       "      <th>QuestionCategoryAbbr</th>\n",
       "      <th>QuestionCategoryLabel</th>\n",
       "      <th>BenchmarkLevel1</th>\n",
       "      <th>BenchmarkLevel2</th>\n",
       "      <th>BenchmarkLevel3</th>\n",
       "      <th>ClientBenchmarkLevel</th>\n",
       "      <th>GroupCode</th>\n",
       "      <th>GroupName</th>\n",
       "      <th>GroupLevel1Code</th>\n",
       "      <th>GroupLevel1Name</th>\n",
       "      <th>GroupLevel2Code</th>\n",
       "      <th>GroupLevel2Name</th>\n",
       "      <th>GroupLevel3Code</th>\n",
       "      <th>GroupLevel3Name</th>\n",
       "      <th>GroupLevel4Code</th>\n",
       "      <th>GroupLevel4Name</th>\n",
       "      <th>GroupLevel5Code</th>\n",
       "      <th>GroupLevel5Name</th>\n",
       "      <th>GroupLevel6Code</th>\n",
       "      <th>GroupLevel6Name</th>\n",
       "      <th>GroupLevel7Code</th>\n",
       "      <th>GroupLevel7Name</th>\n",
       "      <th>GroupLevel8Code</th>\n",
       "      <th>GroupLevel8Name</th>\n",
       "      <th>OverallSentiment</th>\n",
       "      <th>IsVeryPositive</th>\n",
       "      <th>IsPositive</th>\n",
       "      <th>IsVeryNegative</th>\n",
       "      <th>IsNegative</th>\n",
       "      <th>IsSuggestion</th>\n",
       "      <th>FeelsThreatened</th>\n",
       "      <th>HasProfanity</th>\n",
       "      <th>IsNonsense</th>\n",
       "      <th>TagCount</th>\n",
       "      <th>LastTaggedOn</th>\n",
       "      <th>labels</th>\n",
       "      <th>prob_IsVeryPositive</th>\n",
       "      <th>prob_IsPositive</th>\n",
       "      <th>prob_IsVeryNegative</th>\n",
       "      <th>prob_IsNegative</th>\n",
       "      <th>prob_IsSuggestion</th>\n",
       "      <th>prob_FeelsThreatened</th>\n",
       "      <th>prob_HasProfanity</th>\n",
       "      <th>prob_IsNonsense</th>\n",
       "      <th>pred_IsVeryPositive</th>\n",
       "      <th>pred_IsPositive</th>\n",
       "      <th>pred_IsVeryNegative</th>\n",
       "      <th>pred_IsNegative</th>\n",
       "      <th>pred_IsSuggestion</th>\n",
       "      <th>pred_FeelsThreatened</th>\n",
       "      <th>pred_HasProfanity</th>\n",
       "      <th>pred_IsNonsense</th>\n",
       "      <th>threshold_f05</th>\n",
       "      <th>threshold_f1</th>\n",
       "      <th>threshold_f2</th>\n",
       "      <th>doc_vector</th>\n",
       "    </tr>\n",
       "  </thead>\n",
       "  <tbody>\n",
       "    <tr>\n",
       "      <th>0</th>\n",
       "      <td>9</td>\n",
       "      <td>115</td>\n",
       "      <td>1877</td>\n",
       "      <td>34968</td>\n",
       "      <td>NaN</td>\n",
       "      <td>1890</td>\n",
       "      <td>The biggest problem with my office is that the director and management positions are secretive, ...</td>\n",
       "      <td>NaN</td>\n",
       "      <td>English</td>\n",
       "      <td>9</td>\n",
       "      <td>SAW</td>\n",
       "      <td>UCSD</td>\n",
       "      <td>Additional Comments</td>\n",
       "      <td>None</td>\n",
       "      <td>Please provide any additional feedback regarding the work environment at UC San Diego.  Your com...</td>\n",
       "      <td>NaN</td>\n",
       "      <td>NaN</td>\n",
       "      <td>NaN</td>\n",
       "      <td>NaN</td>\n",
       "      <td>NaN</td>\n",
       "      <td>NaN</td>\n",
       "      <td>NaN</td>\n",
       "      <td>NaN</td>\n",
       "      <td>NaN</td>\n",
       "      <td>NaN</td>\n",
       "      <td>NaN</td>\n",
       "      <td>NaN</td>\n",
       "      <td>NaN</td>\n",
       "      <td>NaN</td>\n",
       "      <td>NaN</td>\n",
       "      <td>NaN</td>\n",
       "      <td>NaN</td>\n",
       "      <td>NaN</td>\n",
       "      <td>NaN</td>\n",
       "      <td>NaN</td>\n",
       "      <td>NaN</td>\n",
       "      <td>NaN</td>\n",
       "      <td>NaN</td>\n",
       "      <td>NaN</td>\n",
       "      <td>3</td>\n",
       "      <td>0</td>\n",
       "      <td>0</td>\n",
       "      <td>0</td>\n",
       "      <td>0</td>\n",
       "      <td>0</td>\n",
       "      <td>0</td>\n",
       "      <td>0</td>\n",
       "      <td>0</td>\n",
       "      <td>0</td>\n",
       "      <td>NaT</td>\n",
       "      <td>NaN</td>\n",
       "      <td>0.004085</td>\n",
       "      <td>0.021811</td>\n",
       "      <td>0.572653</td>\n",
       "      <td>0.977242</td>\n",
       "      <td>0.025068</td>\n",
       "      <td>0.620683</td>\n",
       "      <td>0.007176</td>\n",
       "      <td>0.000232</td>\n",
       "      <td>0</td>\n",
       "      <td>0</td>\n",
       "      <td>1</td>\n",
       "      <td>1</td>\n",
       "      <td>0</td>\n",
       "      <td>1</td>\n",
       "      <td>0</td>\n",
       "      <td>0</td>\n",
       "      <td>0.29</td>\n",
       "      <td>0.28</td>\n",
       "      <td>0.14</td>\n",
       "      <td>[-0.024407988414168358, 0.007260238751769066, 0.00017472155741415918, -0.0006572951679117978, 9....</td>\n",
       "    </tr>\n",
       "    <tr>\n",
       "      <th>1</th>\n",
       "      <td>10</td>\n",
       "      <td>115</td>\n",
       "      <td>1877</td>\n",
       "      <td>35000</td>\n",
       "      <td>NaN</td>\n",
       "      <td>1893</td>\n",
       "      <td>There are not enough advancement opportunities for MSP level personnel.  There exist no structur...</td>\n",
       "      <td>NaN</td>\n",
       "      <td>English</td>\n",
       "      <td>9</td>\n",
       "      <td>SAW</td>\n",
       "      <td>UCSD</td>\n",
       "      <td>Additional Comments</td>\n",
       "      <td>None</td>\n",
       "      <td>Please provide any additional feedback regarding the work environment at UC San Diego.  Your com...</td>\n",
       "      <td>NaN</td>\n",
       "      <td>NaN</td>\n",
       "      <td>NaN</td>\n",
       "      <td>NaN</td>\n",
       "      <td>NaN</td>\n",
       "      <td>NaN</td>\n",
       "      <td>NaN</td>\n",
       "      <td>NaN</td>\n",
       "      <td>NaN</td>\n",
       "      <td>NaN</td>\n",
       "      <td>NaN</td>\n",
       "      <td>NaN</td>\n",
       "      <td>NaN</td>\n",
       "      <td>NaN</td>\n",
       "      <td>NaN</td>\n",
       "      <td>NaN</td>\n",
       "      <td>NaN</td>\n",
       "      <td>NaN</td>\n",
       "      <td>NaN</td>\n",
       "      <td>NaN</td>\n",
       "      <td>NaN</td>\n",
       "      <td>NaN</td>\n",
       "      <td>NaN</td>\n",
       "      <td>NaN</td>\n",
       "      <td>3</td>\n",
       "      <td>0</td>\n",
       "      <td>0</td>\n",
       "      <td>0</td>\n",
       "      <td>0</td>\n",
       "      <td>0</td>\n",
       "      <td>0</td>\n",
       "      <td>0</td>\n",
       "      <td>0</td>\n",
       "      <td>0</td>\n",
       "      <td>NaT</td>\n",
       "      <td>NaN</td>\n",
       "      <td>0.000633</td>\n",
       "      <td>0.020610</td>\n",
       "      <td>0.018632</td>\n",
       "      <td>0.937055</td>\n",
       "      <td>0.236660</td>\n",
       "      <td>0.143600</td>\n",
       "      <td>0.000013</td>\n",
       "      <td>0.001554</td>\n",
       "      <td>0</td>\n",
       "      <td>0</td>\n",
       "      <td>0</td>\n",
       "      <td>1</td>\n",
       "      <td>0</td>\n",
       "      <td>0</td>\n",
       "      <td>0</td>\n",
       "      <td>0</td>\n",
       "      <td>0.29</td>\n",
       "      <td>0.28</td>\n",
       "      <td>0.14</td>\n",
       "      <td>[-0.019768530502915382, 0.003138097235932946, 0.0018363832496106625, -0.0017876098863780499, 0.0...</td>\n",
       "    </tr>\n",
       "  </tbody>\n",
       "</table>\n",
       "</div>"
      ],
      "text/plain": [
       "   Id  SurveyID  QuestionAnsID  RspID  QuestionCategoryID  GroupID                                                                                           AnswerText AnswerText_NonEnglish Language  SurveyTypeID BenchmarkSurveyType ClientId   QuestionReportAbbr QuestionClass                                                                                         QuestionText QuestionCategoryAbbr QuestionCategoryLabel BenchmarkLevel1 BenchmarkLevel2 BenchmarkLevel3 ClientBenchmarkLevel  GroupCode GroupName  GroupLevel1Code GroupLevel1Name  GroupLevel2Code GroupLevel2Name  GroupLevel3Code GroupLevel3Name  GroupLevel4Code GroupLevel4Name  GroupLevel5Code GroupLevel5Name  GroupLevel6Code GroupLevel6Name  GroupLevel7Code GroupLevel7Name  GroupLevel8Code GroupLevel8Name  OverallSentiment  IsVeryPositive  IsPositive  IsVeryNegative  IsNegative  IsSuggestion  FeelsThreatened  HasProfanity  IsNonsense  TagCount LastTaggedOn  labels  prob_IsVeryPositive  prob_IsPositive  prob_IsVeryNegative  \\\n",
       "0   9       115           1877  34968                 NaN     1890  The biggest problem with my office is that the director and management positions are secretive, ...                   NaN  English             9                 SAW     UCSD  Additional Comments          None  Please provide any additional feedback regarding the work environment at UC San Diego.  Your com...                  NaN                   NaN             NaN             NaN             NaN                  NaN        NaN       NaN              NaN             NaN              NaN             NaN              NaN             NaN              NaN             NaN              NaN             NaN              NaN             NaN              NaN             NaN              NaN             NaN                 3               0           0               0           0             0                0             0           0         0          NaT     NaN             0.004085         0.021811             0.572653   \n",
       "1  10       115           1877  35000                 NaN     1893  There are not enough advancement opportunities for MSP level personnel.  There exist no structur...                   NaN  English             9                 SAW     UCSD  Additional Comments          None  Please provide any additional feedback regarding the work environment at UC San Diego.  Your com...                  NaN                   NaN             NaN             NaN             NaN                  NaN        NaN       NaN              NaN             NaN              NaN             NaN              NaN             NaN              NaN             NaN              NaN             NaN              NaN             NaN              NaN             NaN              NaN             NaN                 3               0           0               0           0             0                0             0           0         0          NaT     NaN             0.000633         0.020610             0.018632   \n",
       "\n",
       "   prob_IsNegative  prob_IsSuggestion  prob_FeelsThreatened  prob_HasProfanity  prob_IsNonsense  pred_IsVeryPositive  pred_IsPositive  pred_IsVeryNegative  pred_IsNegative  pred_IsSuggestion  pred_FeelsThreatened  pred_HasProfanity  pred_IsNonsense  threshold_f05  threshold_f1  threshold_f2                                                                                           doc_vector  \n",
       "0         0.977242           0.025068              0.620683           0.007176         0.000232                    0                0                    1                1                  0                     1                  0                0           0.29          0.28          0.14  [-0.024407988414168358, 0.007260238751769066, 0.00017472155741415918, -0.0006572951679117978, 9....  \n",
       "1         0.937055           0.236660              0.143600           0.000013         0.001554                    0                0                    0                1                  0                     0                  0                0           0.29          0.28          0.14  [-0.019768530502915382, 0.003138097235932946, 0.0018363832496106625, -0.0017876098863780499, 0.0...  "
      ]
     },
     "execution_count": 226,
     "metadata": {},
     "output_type": "execute_result"
    }
   ],
   "source": [
    "# add vectors to DataFrame\n",
    "df = final_df.copy() \n",
    "df['doc_vector'] = None\n",
    "df['doc_vector'] = vecs.tolist()\n",
    "\n",
    "df.head(2)"
   ]
  },
  {
   "cell_type": "code",
   "execution_count": 227,
   "metadata": {},
   "outputs": [],
   "source": [
    "# df.iloc[0]['doc_vector'], vecs[0]"
   ]
  },
  {
   "cell_type": "code",
   "execution_count": 228,
   "metadata": {},
   "outputs": [
    {
     "data": {
      "text/html": [
       "<div>\n",
       "<style scoped>\n",
       "    .dataframe tbody tr th:only-of-type {\n",
       "        vertical-align: middle;\n",
       "    }\n",
       "\n",
       "    .dataframe tbody tr th {\n",
       "        vertical-align: top;\n",
       "    }\n",
       "\n",
       "    .dataframe thead th {\n",
       "        text-align: right;\n",
       "    }\n",
       "</style>\n",
       "<table border=\"1\" class=\"dataframe\">\n",
       "  <thead>\n",
       "    <tr style=\"text-align: right;\">\n",
       "      <th></th>\n",
       "      <th>Id</th>\n",
       "      <th>SurveyID</th>\n",
       "      <th>QuestionAnsID</th>\n",
       "      <th>RspID</th>\n",
       "      <th>QuestionCategoryID</th>\n",
       "      <th>GroupID</th>\n",
       "      <th>AnswerText</th>\n",
       "      <th>AnswerText_NonEnglish</th>\n",
       "      <th>Language</th>\n",
       "      <th>SurveyTypeID</th>\n",
       "      <th>BenchmarkSurveyType</th>\n",
       "      <th>ClientId</th>\n",
       "      <th>QuestionReportAbbr</th>\n",
       "      <th>QuestionClass</th>\n",
       "      <th>QuestionText</th>\n",
       "      <th>QuestionCategoryAbbr</th>\n",
       "      <th>QuestionCategoryLabel</th>\n",
       "      <th>BenchmarkLevel1</th>\n",
       "      <th>BenchmarkLevel2</th>\n",
       "      <th>BenchmarkLevel3</th>\n",
       "      <th>ClientBenchmarkLevel</th>\n",
       "      <th>GroupCode</th>\n",
       "      <th>GroupName</th>\n",
       "      <th>GroupLevel1Code</th>\n",
       "      <th>GroupLevel1Name</th>\n",
       "      <th>GroupLevel2Code</th>\n",
       "      <th>GroupLevel2Name</th>\n",
       "      <th>GroupLevel3Code</th>\n",
       "      <th>GroupLevel3Name</th>\n",
       "      <th>GroupLevel4Code</th>\n",
       "      <th>GroupLevel4Name</th>\n",
       "      <th>GroupLevel5Code</th>\n",
       "      <th>GroupLevel5Name</th>\n",
       "      <th>GroupLevel6Code</th>\n",
       "      <th>GroupLevel6Name</th>\n",
       "      <th>GroupLevel7Code</th>\n",
       "      <th>GroupLevel7Name</th>\n",
       "      <th>GroupLevel8Code</th>\n",
       "      <th>GroupLevel8Name</th>\n",
       "      <th>OverallSentiment</th>\n",
       "      <th>IsVeryPositive</th>\n",
       "      <th>IsPositive</th>\n",
       "      <th>IsVeryNegative</th>\n",
       "      <th>IsNegative</th>\n",
       "      <th>IsSuggestion</th>\n",
       "      <th>FeelsThreatened</th>\n",
       "      <th>HasProfanity</th>\n",
       "      <th>IsNonsense</th>\n",
       "      <th>TagCount</th>\n",
       "      <th>LastTaggedOn</th>\n",
       "      <th>labels</th>\n",
       "      <th>prob_IsVeryPositive</th>\n",
       "      <th>prob_IsPositive</th>\n",
       "      <th>prob_IsVeryNegative</th>\n",
       "      <th>prob_IsNegative</th>\n",
       "      <th>prob_IsSuggestion</th>\n",
       "      <th>prob_FeelsThreatened</th>\n",
       "      <th>prob_HasProfanity</th>\n",
       "      <th>prob_IsNonsense</th>\n",
       "      <th>pred_IsVeryPositive</th>\n",
       "      <th>pred_IsPositive</th>\n",
       "      <th>pred_IsVeryNegative</th>\n",
       "      <th>pred_IsNegative</th>\n",
       "      <th>pred_IsSuggestion</th>\n",
       "      <th>pred_FeelsThreatened</th>\n",
       "      <th>pred_HasProfanity</th>\n",
       "      <th>pred_IsNonsense</th>\n",
       "      <th>threshold_f05</th>\n",
       "      <th>threshold_f1</th>\n",
       "      <th>threshold_f2</th>\n",
       "      <th>doc_vector</th>\n",
       "    </tr>\n",
       "  </thead>\n",
       "  <tbody>\n",
       "    <tr>\n",
       "      <th>0</th>\n",
       "      <td>424934</td>\n",
       "      <td>199</td>\n",
       "      <td>27977</td>\n",
       "      <td>384580</td>\n",
       "      <td>361.0</td>\n",
       "      <td>-1</td>\n",
       "      <td>Unfortunately, I don't find the academic coaching helpful.  Even though the issues are outlined ...</td>\n",
       "      <td>NaN</td>\n",
       "      <td>English</td>\n",
       "      <td>24</td>\n",
       "      <td>CSS</td>\n",
       "      <td>UW</td>\n",
       "      <td>HousingDisabilities_Experience</td>\n",
       "      <td>Verbatim-Dept-Question</td>\n",
       "      <td>Is there anything else we should know about your experience with Disability Resources for Students?</td>\n",
       "      <td>Acad Housing Students w Disabilities</td>\n",
       "      <td>Academic &amp; Housing Accommodations for Students with Disabilities</td>\n",
       "      <td>Student</td>\n",
       "      <td>Student Life</td>\n",
       "      <td>Student Activities</td>\n",
       "      <td>1</td>\n",
       "      <td>-1.0</td>\n",
       "      <td>None</td>\n",
       "      <td>-1.0</td>\n",
       "      <td>None</td>\n",
       "      <td>NaN</td>\n",
       "      <td>NaN</td>\n",
       "      <td>NaN</td>\n",
       "      <td>NaN</td>\n",
       "      <td>NaN</td>\n",
       "      <td>NaN</td>\n",
       "      <td>NaN</td>\n",
       "      <td>NaN</td>\n",
       "      <td>NaN</td>\n",
       "      <td>NaN</td>\n",
       "      <td>NaN</td>\n",
       "      <td>NaN</td>\n",
       "      <td>NaN</td>\n",
       "      <td>NaN</td>\n",
       "      <td>3</td>\n",
       "      <td>0</td>\n",
       "      <td>0</td>\n",
       "      <td>0</td>\n",
       "      <td>0</td>\n",
       "      <td>0</td>\n",
       "      <td>0</td>\n",
       "      <td>0</td>\n",
       "      <td>0</td>\n",
       "      <td>0</td>\n",
       "      <td>NaT</td>\n",
       "      <td>NaN</td>\n",
       "      <td>0.000852</td>\n",
       "      <td>0.190996</td>\n",
       "      <td>0.028945</td>\n",
       "      <td>0.708579</td>\n",
       "      <td>0.050113</td>\n",
       "      <td>0.000900</td>\n",
       "      <td>0.001065</td>\n",
       "      <td>0.029044</td>\n",
       "      <td>0</td>\n",
       "      <td>0</td>\n",
       "      <td>0</td>\n",
       "      <td>1</td>\n",
       "      <td>0</td>\n",
       "      <td>0</td>\n",
       "      <td>0</td>\n",
       "      <td>0</td>\n",
       "      <td>0.29</td>\n",
       "      <td>0.28</td>\n",
       "      <td>0.14</td>\n",
       "      <td>[-0.023184537887573242, 0.003676343709230423, 0.0014154794625937939, -0.0037151856813579798, 0.0...</td>\n",
       "    </tr>\n",
       "    <tr>\n",
       "      <th>1</th>\n",
       "      <td>424936</td>\n",
       "      <td>199</td>\n",
       "      <td>27977</td>\n",
       "      <td>384822</td>\n",
       "      <td>361.0</td>\n",
       "      <td>-1</td>\n",
       "      <td>Its apparent that theyre understaffed.</td>\n",
       "      <td>NaN</td>\n",
       "      <td>English</td>\n",
       "      <td>24</td>\n",
       "      <td>CSS</td>\n",
       "      <td>UW</td>\n",
       "      <td>HousingDisabilities_Experience</td>\n",
       "      <td>Verbatim-Dept-Question</td>\n",
       "      <td>Is there anything else we should know about your experience with Disability Resources for Students?</td>\n",
       "      <td>Acad Housing Students w Disabilities</td>\n",
       "      <td>Academic &amp; Housing Accommodations for Students with Disabilities</td>\n",
       "      <td>Student</td>\n",
       "      <td>Student Life</td>\n",
       "      <td>Student Activities</td>\n",
       "      <td>1</td>\n",
       "      <td>-1.0</td>\n",
       "      <td>None</td>\n",
       "      <td>-1.0</td>\n",
       "      <td>None</td>\n",
       "      <td>NaN</td>\n",
       "      <td>NaN</td>\n",
       "      <td>NaN</td>\n",
       "      <td>NaN</td>\n",
       "      <td>NaN</td>\n",
       "      <td>NaN</td>\n",
       "      <td>NaN</td>\n",
       "      <td>NaN</td>\n",
       "      <td>NaN</td>\n",
       "      <td>NaN</td>\n",
       "      <td>NaN</td>\n",
       "      <td>NaN</td>\n",
       "      <td>NaN</td>\n",
       "      <td>NaN</td>\n",
       "      <td>3</td>\n",
       "      <td>0</td>\n",
       "      <td>0</td>\n",
       "      <td>0</td>\n",
       "      <td>0</td>\n",
       "      <td>0</td>\n",
       "      <td>0</td>\n",
       "      <td>0</td>\n",
       "      <td>0</td>\n",
       "      <td>0</td>\n",
       "      <td>NaT</td>\n",
       "      <td>NaN</td>\n",
       "      <td>0.000254</td>\n",
       "      <td>0.054518</td>\n",
       "      <td>0.033582</td>\n",
       "      <td>0.857174</td>\n",
       "      <td>0.006592</td>\n",
       "      <td>0.000509</td>\n",
       "      <td>0.000507</td>\n",
       "      <td>0.033611</td>\n",
       "      <td>0</td>\n",
       "      <td>0</td>\n",
       "      <td>0</td>\n",
       "      <td>1</td>\n",
       "      <td>0</td>\n",
       "      <td>0</td>\n",
       "      <td>0</td>\n",
       "      <td>0</td>\n",
       "      <td>0.29</td>\n",
       "      <td>0.28</td>\n",
       "      <td>0.14</td>\n",
       "      <td>[-0.03287908062338829, 0.00359342060983181, 0.0008299615583382547, -0.0014927068259567022, 0.003...</td>\n",
       "    </tr>\n",
       "  </tbody>\n",
       "</table>\n",
       "</div>"
      ],
      "text/plain": [
       "       Id  SurveyID  QuestionAnsID   RspID  QuestionCategoryID  GroupID                                                                                           AnswerText AnswerText_NonEnglish Language  SurveyTypeID BenchmarkSurveyType ClientId              QuestionReportAbbr           QuestionClass                                                                                         QuestionText                  QuestionCategoryAbbr                                             QuestionCategoryLabel BenchmarkLevel1 BenchmarkLevel2     BenchmarkLevel3 ClientBenchmarkLevel  GroupCode GroupName  GroupLevel1Code GroupLevel1Name  GroupLevel2Code GroupLevel2Name  GroupLevel3Code GroupLevel3Name  GroupLevel4Code GroupLevel4Name  GroupLevel5Code GroupLevel5Name  GroupLevel6Code GroupLevel6Name  GroupLevel7Code GroupLevel7Name  GroupLevel8Code GroupLevel8Name  OverallSentiment  IsVeryPositive  IsPositive  IsVeryNegative  IsNegative  IsSuggestion  FeelsThreatened  HasProfanity  IsNonsense  \\\n",
       "0  424934       199          27977  384580               361.0       -1  Unfortunately, I don't find the academic coaching helpful.  Even though the issues are outlined ...                   NaN  English            24                 CSS       UW  HousingDisabilities_Experience  Verbatim-Dept-Question  Is there anything else we should know about your experience with Disability Resources for Students?  Acad Housing Students w Disabilities  Academic & Housing Accommodations for Students with Disabilities         Student    Student Life  Student Activities                    1       -1.0      None             -1.0            None              NaN             NaN              NaN             NaN              NaN             NaN              NaN             NaN              NaN             NaN              NaN             NaN              NaN             NaN                 3               0           0               0           0             0                0             0           0   \n",
       "1  424936       199          27977  384822               361.0       -1                                                               Its apparent that theyre understaffed.                   NaN  English            24                 CSS       UW  HousingDisabilities_Experience  Verbatim-Dept-Question  Is there anything else we should know about your experience with Disability Resources for Students?  Acad Housing Students w Disabilities  Academic & Housing Accommodations for Students with Disabilities         Student    Student Life  Student Activities                    1       -1.0      None             -1.0            None              NaN             NaN              NaN             NaN              NaN             NaN              NaN             NaN              NaN             NaN              NaN             NaN              NaN             NaN                 3               0           0               0           0             0                0             0           0   \n",
       "\n",
       "   TagCount LastTaggedOn  labels  prob_IsVeryPositive  prob_IsPositive  prob_IsVeryNegative  prob_IsNegative  prob_IsSuggestion  prob_FeelsThreatened  prob_HasProfanity  prob_IsNonsense  pred_IsVeryPositive  pred_IsPositive  pred_IsVeryNegative  pred_IsNegative  pred_IsSuggestion  pred_FeelsThreatened  pred_HasProfanity  pred_IsNonsense  threshold_f05  threshold_f1  threshold_f2                                                                                           doc_vector  \n",
       "0         0          NaT     NaN             0.000852         0.190996             0.028945         0.708579           0.050113              0.000900           0.001065         0.029044                    0                0                    0                1                  0                     0                  0                0           0.29          0.28          0.14  [-0.023184537887573242, 0.003676343709230423, 0.0014154794625937939, -0.0037151856813579798, 0.0...  \n",
       "1         0          NaT     NaN             0.000254         0.054518             0.033582         0.857174           0.006592              0.000509           0.000507         0.033611                    0                0                    0                1                  0                     0                  0                0           0.29          0.28          0.14  [-0.03287908062338829, 0.00359342060983181, 0.0008299615583382547, -0.0014927068259567022, 0.003...  "
      ]
     },
     "execution_count": 228,
     "metadata": {},
     "output_type": "execute_result"
    }
   ],
   "source": [
    "# Filter DataFrame\n",
    "df_filtered = df[df.SurveyID == 199].copy().reset_index(drop=True)\n",
    "df_filtered.head(2)"
   ]
  },
  {
   "cell_type": "code",
   "execution_count": 229,
   "metadata": {},
   "outputs": [
    {
     "data": {
      "text/plain": [
       "((21360, 1200), (21360, 71))"
      ]
     },
     "execution_count": 229,
     "metadata": {},
     "output_type": "execute_result"
    }
   ],
   "source": [
    "# get filtered vecs\n",
    "filtered_vecs = np.array(list(df_filtered.doc_vector.values))\n",
    "\n",
    "filtered_vecs.shape, df_filtered.shape"
   ]
  },
  {
   "cell_type": "code",
   "execution_count": 230,
   "metadata": {},
   "outputs": [
    {
     "data": {
      "text/plain": [
       "(136, 49)"
      ]
     },
     "execution_count": 230,
     "metadata": {},
     "output_type": "execute_result"
    }
   ],
   "source": [
    "unique_qsts = df_filtered.QuestionAnsID.unique()\n",
    "unique_depts = df_filtered.QuestionCategoryID.unique()\n",
    "\n",
    "len(unique_qsts), len(unique_depts)"
   ]
  },
  {
   "cell_type": "code",
   "execution_count": 231,
   "metadata": {},
   "outputs": [
    {
     "data": {
      "text/plain": [
       "((933, 71), (933, 1200))"
      ]
     },
     "execution_count": 231,
     "metadata": {},
     "output_type": "execute_result"
    }
   ],
   "source": [
    "q_df = df_filtered[df_filtered.QuestionAnsID == 79901].copy().reset_index(drop=True)\n",
    "q_vecs = np.array(list(q_df.doc_vector.values))\n",
    "\n",
    "q_df.shape, q_vecs.shape"
   ]
  },
  {
   "cell_type": "markdown",
   "metadata": {},
   "source": [
    "### Using PCA"
   ]
  },
  {
   "cell_type": "code",
   "execution_count": 237,
   "metadata": {},
   "outputs": [],
   "source": [
    "pca = PCA(10)\n",
    "q_pca_vecs = pca.fit_transform(q_vecs)"
   ]
  },
  {
   "cell_type": "code",
   "execution_count": 238,
   "metadata": {},
   "outputs": [
    {
     "data": {
      "text/plain": [
       "((933, 10), (10, 1200), 0.5809631918792639)"
      ]
     },
     "execution_count": 238,
     "metadata": {},
     "output_type": "execute_result"
    }
   ],
   "source": [
    "q_pca_vecs.shape, pca.components_.shape, np.sum(pca.explained_variance_ratio_)"
   ]
  },
  {
   "cell_type": "code",
   "execution_count": 239,
   "metadata": {},
   "outputs": [
    {
     "data": {
      "text/plain": [
       "<BarContainer object of 10 artists>"
      ]
     },
     "execution_count": 239,
     "metadata": {},
     "output_type": "execute_result"
    },
    {
     "data": {
      "image/png": "[encoded data removed]",
      "text/plain": [
       "<Figure size 648x432 with 1 Axes>"
      ]
     },
     "metadata": {},
     "output_type": "display_data"
    }
   ],
   "source": [
    "plt.bar(np.arange(pca.n_components_), pca.explained_variance_ratio_)"
   ]
  },
  {
   "cell_type": "code",
   "execution_count": 240,
   "metadata": {},
   "outputs": [
    {
     "data": {
      "text/plain": [
       "(10, 933)"
      ]
     },
     "execution_count": 240,
     "metadata": {},
     "output_type": "execute_result"
    }
   ],
   "source": [
    "pcs= q_pca_vecs.T\n",
    "pcs.shape"
   ]
  },
  {
   "cell_type": "code",
   "execution_count": 241,
   "metadata": {},
   "outputs": [
    {
     "name": "stdout",
     "output_type": "stream",
     "text": [
      "PC: 1\n",
      "\n",
      "top idxs: [279  69 205 372 539 386 494 487  88 163]\n",
      "bottom idxs: [868 293 896 910 103 869 913 295 898 907]\n",
      "\n",
      "top verbatims\n",
      "------------\n",
      "W46 - I have expressed concerns abt the changes being made - specifically that W46, as I understand, is now a lot that can be assigned as an overflow lot. Given the restricted number of spaces available now, this seems an undue burden on those of us who park in it as a primary lot, particularly given my second point: W45 is no longer available as an overflow lot for W46. We are told that we can use lots very far away as overflow lots, when there is a whole 2nd garage available right next to the first one. First, this is a waste of my valuable work time - why should I have to walk from a far overflow location, when a second garage is available right here? I pay a lot of money to park close to where I work. And no, this is not a choice. I have a family situation that requires, for now, that I have a car available at a moment's notice. I can't park far away, in another lot several blocks away. My point is that I don't feel that the parking office is listening. They are doing what the grand plan says they should do, with no concern for feedback from those of us who are impacted.\n",
      "\n",
      "It is asinine that I spent more than $8000/quarter in a health sciences graduate program and do not have guaranteed parking near the buildings that I need (T-wing and SOCC).  S1 is often \"full\" even when parking spots are obviously available.  Just today I had to park at the stadium and walk to the far end of the health sciences building with 4+ bags (I am a milk-pumping/breastfeeding new mom) after spending $27 to park because I have to be here all day.  I spend $80/quarter for a U-pass I cant use due to transportation needs for my child.  I spend money each quarter for a gym membership I can't use because my childcare schedule doesn't allow it.  So I am forced to spend money for services I can't use and forced again to spend extra money for the inconvenience of parking far away with tons of bags.  All this on top of a ridiculous amount of tuition.  The way the University forces me to pay for services I don't need and doesn't help (in fact, makes it worse) to use services I actually DO need is infuriating.  I definitely do not tell people I know who are interested in a similar degree that it is worth it to obtain it at the UW.\n",
      "\n",
      "I understand that UW offers free bus transportation. However, the commuter lounge is a competitive place where you have to get there early to get a locker and it's always crowded. There is no place for a commuter to take a secluded break! \\r\\n\\r\\nSo, I chose to drive because otherwise I would have to take two buses and have no area to relax between classes like students who can go to their dorms. It's also just not practical as an engineering student to spend three hours of precious time per day on the bus. Now I have to pay a ridiculous fee to park here - I'm a student, not a professional paying for parking in the city. I understand that it's essentially a carbon tax, but if you don't want me to drive, can you please talk to commuter services about improving and expanding their facilities?\\r\\n\\r\\nFurthermore, after I have paid the ridiculous fee to park in E18, please associate my license plate with the parking pass and don't give me a ticket if I forget to put my pass in the window. It's 2019 and I've paid all this money-- can you give the parking attendants a list of E18 license plates please? It's a huge headache to have to appeal the ticket that I paid to avoid in the first place.\n",
      "\n",
      "I work in henderson hall W10. It's probably not parkings fault, but our lot has been sold off \"temporarily\" (for years now) to construction workers. It used to be somewhat used by workers, but now it's mostly empty every single day now. I used to have ICT's for the lot as I drive about once a month because I need to bring in heavy things that I can't take on my bike. My only options now are the PPU program to a garage that is almost as far away as parking in the neighborhood off campus and walking in. Why is our lot still reserved for people that don't use it? I want the ICT's back.\n",
      "\n",
      "Would be REALLY NICE to have a clear, easily accessible posting online of when weekend parking on campus ISN'T free because of special events. If it is there, I haven't been able to find it. Grad students who drive in to work on the weekend only to find that \"this Sunday, you can't park here\" is frustrating.\\r\\n\\r\\nAlso cheap/free load/unload parking passes for people doing outreach activities. E.g. we do a lot of science nights at local elementary schools, and need to load a bunch of equipment into whatever student volunteered that day's car in the building's loading dock. The parking people have come and told us off and threatened to ticket us for not buying a parking pass, when all we need is 5 minutes to load the science equipment into the car to go do public outreach on behalf of the university that apparently wants to ticket us.\n",
      "\n",
      "I work part time.  I wanted to park close to work and pay only 3 days/week.  They said the only way they could do that is for me to have to walk all the way over to parking office every 3 months, which is a huge burden.  I'm a physician, I seldom get a full lunch break and I work over a mile away.  They refused to mail it to me. They also said I had to park pretty far away and walk (about 10-15 minutes) because they didn't have room in the closer lot.  They said they' put me on a wait list for the Padelford Lot but I have never heard back and that was about a year ago.  I have to pay $15 at the card machine to park in Padelford visitor spaces.\n",
      "\n",
      "I requested a monthly parking pass at a parking garage near Harborview, but was told that no parking passes are available at View Park or NJB.  I was told that I could either buy a monthly pass at a garage multiple blocks from Harborview, or pay a daily rate for parking at View Park or NJB. (The latter option is much more expensive than a monthly pass.) Parking at a garage multiple blocks away is not a safe option for me, as I frequently work shifts that end at night when it is not safe to walk alone. I requested that Parking Services staff explore ways to increase availability of monthly parking passes in View Park and NJB, but was brusquely told that this would not be an option under any circumstances. I am dissatisfied with the lack of willingness to have transparent discussions or problem-solve about issues that directly affect staff well-being.\n",
      "\n",
      "I pay $150/month to park in E8 because due to the hours I work and the distance from campus public transportation isn't an option.  I understand the issues with parking during football games and graduation.  We lose half the lot to donors for a men's basketball game and I normally can't get parking in the 1/2 we can still use.  Much of the lot remains unused yet we still will get towed if parked there.  I have to continually run down to try to move my car or park in the big lot.  If I was paying less I would be less grumpy about being displaced.\n",
      "\n",
      "Parking on campus is an absolute confusing and expensive mess of an experience. I've been parking on campus since my freshmen year, and so I don't say this lightly. I've poked and prodded and tried to understand the opportunities provided to students through parking services. What I found is a entity on campus that does not care about the student population. \\r\\n\\r\\nThe parking on campus is very expensive and confusing to locate in the first place. The main places one can park are in Central Garage, Padelford, and E1/E18.  Central is $15 a day which is ludicrous for a student to pay (if they have no job, and still a massive percentage of a minimum wage 19.5 hour/week paycheck). \\r\\n\\r\\nPadelford is an okay/mediocre experience, but still relatively expensive. The fact that the gatehouse attendants try to direct you towards paddleford instead of central all day every day because it's \"full\" is ridiculous. The University seriously needs to reconsider the direction they are trying to take if they can't provide decent inexpensive parking for students who commmute. \\r\\n\\r\\nAs for E1/E18, I wouldn't even call that \"on-campus parking\". It's so far away from the main buildings that parking should cost half of what it does. \\r\\n\\r\\nAs for the staff, not including the gatehouse people who I'm sure are instructed from higher-ups, the experience is rather disappointing. After several phone-calls I got the same standard \"we'll have to put you on a wait list\". \\r\\n\\r\\nDemand is high, so increase supply!\n",
      "\n",
      "The walk to the parking lot by the tower (W45) has gotten unsafe. I've called UWPD a few times to chat about this but nothing seemed to get done. For 6 years, I walked from main campus to that parking lot. This year, I switched to central plaza and luckily there was a space. I could not bear to walk feeling unsafe anymore. Homeless and drug users line the walk from main campus to the W45 and they blow smoke in your face, holler at you, and say inappropriate things. They have bonfires and exchange drugs. I was walking with my child one day when a homeless person popped out and stuck a hypodermic needle right in his own arm - my child was freaked out. I constantly felt unsafe. Please work with UWPD to fix that area. I would never send my child to UW if I saw Univ Ave and this walk. I'm an incredibly tolerant person but it's just gone too far.\n",
      "\n",
      "bottom verbatims\n",
      "------------\n",
      "Nope\n",
      "\n",
      "Overpriced\n",
      "\n",
      "No\n",
      "\n",
      "Cheaper parking options\n",
      "\n",
      "Amazing staff and efficient kiosk interface/usage.\n",
      "\n",
      "Over sells certain areas.\n",
      "\n",
      "Their way or the highway.\n",
      "\n",
      "Too expensive\n",
      "\n",
      "Pretty straight forward.\n",
      "\n",
      "Make parking more affordable\n",
      "\n",
      "PC: 2\n",
      "\n",
      "top idxs: [ 88  48 639 717 840 545 135 871  59  69]\n",
      "bottom idxs: [698 569 423 235 166 158 471 165 361 400]\n",
      "\n",
      "top verbatims\n",
      "------------\n",
      "Parking on campus is an absolute confusing and expensive mess of an experience. I've been parking on campus since my freshmen year, and so I don't say this lightly. I've poked and prodded and tried to understand the opportunities provided to students through parking services. What I found is a entity on campus that does not care about the student population. \\r\\n\\r\\nThe parking on campus is very expensive and confusing to locate in the first place. The main places one can park are in Central Garage, Padelford, and E1/E18.  Central is $15 a day which is ludicrous for a student to pay (if they have no job, and still a massive percentage of a minimum wage 19.5 hour/week paycheck). \\r\\n\\r\\nPadelford is an okay/mediocre experience, but still relatively expensive. The fact that the gatehouse attendants try to direct you towards paddleford instead of central all day every day because it's \"full\" is ridiculous. The University seriously needs to reconsider the direction they are trying to take if they can't provide decent inexpensive parking for students who commmute. \\r\\n\\r\\nAs for E1/E18, I wouldn't even call that \"on-campus parking\". It's so far away from the main buildings that parking should cost half of what it does. \\r\\n\\r\\nAs for the staff, not including the gatehouse people who I'm sure are instructed from higher-ups, the experience is rather disappointing. After several phone-calls I got the same standard \"we'll have to put you on a wait list\". \\r\\n\\r\\nDemand is high, so increase supply!\n",
      "\n",
      "As a late-stage graduate student (basically just a working scientist at this point), I often need to come into my lab for brief periods even when I'm otherwise working from home or taking the day off. Yet the parking options near Roberts Hall are abysmal, and the gatehouse workers usually decline to give me an hourly permit for Lot C12 near the building, even after I explain that I'm a graduate student who works near there. This means I usually have to park far away from my building and walk (often in the rain, sometimes carrying large items!) across campus. And I shouldn't have to tell you that buying a quarterly parking pass is out of the question on a graduate student budget. \\r\\n\\r\\nLook, I understand that you don't want students crowding out staff/faculty who have permits for these lots with limited space, but I AM ALSO WORKING FOR THE UNIVERSITY. There needs to be some exception for the \"no hourly permits before 4pm\" rule for student employees, etc. I'm tired of having to choose between walking a quarter-mile both ways, in bad weather, within 1-2 hours, or risking a parking ticket. I also understand that you want to encourage people to use public transport, and I usually commute by bus for this reason, but there has to be some kind of compromise here. The parking situation on campus has become an active impediment to doing my job.\n",
      "\n",
      "Parking on campus is ridiculously expensive for students. Paying over $1000 dollars an academic year to park on campus is excessive, unmanageable, and unrealistic for many students, both those who live in the dorms and those who commute. I understand that space is limited, however, I know that not all the parking permits available on campus are used. Having access to a car for students at the UW should not be an extra burden and stressor, but a convenience meant to make student's already stressful lives easier. Many students hold off-campus jobs or commute from far distances. Having to pay an excessive amount to park either at their place of residence or their educational institution is extremely difficult for students and unethical from the university. Parking for students should be a reasonable expense, especially given how much they already have to pay to receive an education. $350 a quarter to park on campus is too expensive.\n",
      "\n",
      "I find it fully insane that the state's premier institution of higher learning doesn't have a staff and faculty parking lot.  I appreciate that space is at a premium, but I have found that the parking situation to be frustrating, confusing, and inefficient.  I was on a waiting list for weeks before being admitted to the first parking lot in which I was authorized.  The staff at Parking Services said that the pay-per-use rate was $6.00 per use.  After using the lot for some time, I found on my deductions email that the *actual* rate was $7.50 per use.  While I appreciate that these are nominal differences, it's still frustrating to be paying more than was advertised.  Additionally, after months of waiting, I was admitted to a lot nearer my work-site in the School of Social Work.  I have never seen that lot any more than 40% full at any time of day.  The idea that there are wait lists for facilities that are not in full use is frustrating.  While I understand that not everyone who is signed up may park in the same place at the same time, the aggregate experience of paying more than the promised rate, spending weeks-to-months on waiting lists, and not being able to park anywhere other than the designated lot (which is never even close to full) leaves a bad, frustrating taste in one's mouth.  I've worked as a contractor in a variety of places and have always been able to access staff parking.  It's surprising and disappointing that this is not a standard practice at the UW.\n",
      "\n",
      "Because campus outsources this to various companies, it's hit or miss with the staff I come into contact with. I've received tickets despite having a permit, and have contacted them, received no response, but never had repercussions about my ticket fee--so I've had to assume the case was dropped.\\r\\nThe prices for parking at a campus like UW Tacoma are exorbitant. Public transport is not extensive/far reaching, reliable, or safe enough for people like me who live extremely far away from campus. We have no choice but to commute, and the prices of parking permits are ridiculous.\\r\\nAdditionally, the site crashes and becomes inaccessible every time permits go on sale because of the high demand. \\r\\nHaving evening permits for Court 17 makes no sense, either. The permits for the TPS Lot are so limited, and yet the lot is always empty. It makes no sense. \\r\\nThe parking meters at the Convention Center Lot E parking have been covered in spider webs, and completely nonfunctional more than once.\\r\\nThe Cragle Lot often rejects my card repeatedly before finally working.\\r\\nThe Tioga Lot frequently runs out of paper for receipts which prevents people from parking there, even when it's available.\\r\\nStreet parking being limited to 90 minutes is ludicrous--classes are 2 hours minimum, and for staff, we can't run across campus to repay for parking that often. It needs to be longer--and cheaper. We also need campus blue buttons closer to street parking for safety.\n",
      "\n",
      "The parking services staff are always helpful and courteous.  My biggest critique is that there is no way to purchase a Saturday morning parking pass in advance.  I regularly taking sailing classes and workshops through the UW's sailing club and we sometimes have to leave the dock before the 7am opening of the parking service booths.  Because of this, I am forced to purchase parking from the meter (in E19) which charges $3 an hour instead of being able to buy a parking pass.  This means that for a Saturday morning there is a difference between a $5 pass and $15 in metered parking.  It seems silly that there isn't a way to purchase a Saturday morning pass in advance, particularly as the reason I am parking there is for a UW related activity.  This seems like it could be an easy fix and is needlessly restrictive, but I have had no luck finding someone who has the authority to address this concern.\n",
      "\n",
      "I have gotten multiple parking tickets which were not warranted. I had to appeal two tickets I got and did not end up paying. The time it took to respond to the appeal was also long, about 3 weeks. Also, I am a commuting student and last quarter got a parking permit for over $300. I was told that since I was a commuting student the only place I could get a parking permit for was in lot E18. E18 is near the soccer field and was very far from my classes. I had to walk a long distance (in bad weather most of the time) to get to my classes, and eventually stopped parking there in the middle of fall quarter since it was too much for me to handle. I ended up parking in another lot that cost me a lot each day. There should be more parking options for commuting students which are closer to campus, such as the parking garage near Schmitz hall. I have tried parking at this lot however it is always full, and I cannot get a spot. This is very frustrating for me and other commuting students. I hope that new parking options open for commuting students next quarter.\n",
      "\n",
      "I park in S-1 and it used to be very difficult to find parking after 9am--this is a problem for those of us who need to be at multiple sites on different days.  This situation has improved over the past year, and I no longer have difficulty finding a parking space.  Parking is expensive and it was very frustrating to have to drive around for 10-15 minutes or to need to go to another parking lot was very frustrating.  Thank you for improving this situation.\\r\\nHaving more trash and recycling bins in S-1 would be helpful\n",
      "\n",
      "I am an employee of UW headquartered at Harborview. I pay a biweekly fee for motorcycle parking there. I visit  the UWMC campus up to twice weekly and ride a motorcycle. Though I pay a monthly rate for motorcycle parking, this isn't recognized at UWMC, and I am expected to pay the typical parking rate for motorcycle parking that the public pays, even though I am there as a UW employee, and I have already paid for parking at my place of employment.  A person can't be in 2 places at once, yet at UWMC, one is expected to pay for motorcycle parking in 2 places at the same time. Also, the parking fee for motorcycles is greater than that for cars, as there is no hourly motorcycle parking fee.  Most motorcycles get gas mileage in excess of most hybrid vehicles, take up less space in parking, and use less non-renewable resources in their operation and construction. It is unfortunate for UW Parking to disincentivize a more efficient and environmentally friendly method of transportation. So, I end up parking on the street on Boat Street because it is cheaper than UW parking.  I am aware that there is a shuttle from Harborview, but I am not traveling to UWMC from Harborview, I am coming from dialysis units in the Central District and Lake City that are not served by public transportation that would get me there and back in less than 1.5 hours so that is not a practical option either. I  do appreciate Orca card access as part of the motorcycle parking fee as I only motorcycle 2 days/week\n",
      "\n",
      "It is asinine that I spent more than $8000/quarter in a health sciences graduate program and do not have guaranteed parking near the buildings that I need (T-wing and SOCC).  S1 is often \"full\" even when parking spots are obviously available.  Just today I had to park at the stadium and walk to the far end of the health sciences building with 4+ bags (I am a milk-pumping/breastfeeding new mom) after spending $27 to park because I have to be here all day.  I spend $80/quarter for a U-pass I cant use due to transportation needs for my child.  I spend money each quarter for a gym membership I can't use because my childcare schedule doesn't allow it.  So I am forced to spend money for services I can't use and forced again to spend extra money for the inconvenience of parking far away with tons of bags.  All this on top of a ridiculous amount of tuition.  The way the University forces me to pay for services I don't need and doesn't help (in fact, makes it worse) to use services I actually DO need is infuriating.  I definitely do not tell people I know who are interested in a similar degree that it is worth it to obtain it at the UW.\n",
      "\n",
      "bottom verbatims\n",
      "------------\n",
      "As a\n",
      "\n",
      "Mug mug mug mug mug mug mug\n",
      "\n",
      "Parking nightmares\n",
      "\n",
      "Not enough parking\n",
      "\n",
      "no\n",
      "\n",
      "No\n",
      "\n",
      "amazing staff\n",
      "\n",
      "I'm happy.\n",
      "\n",
      "lower parking prices\n",
      "\n",
      "All is well\n",
      "\n",
      "PC: 3\n",
      "\n",
      "top idxs: [490 249   6 702 657 520 916 499 260 290]\n",
      "bottom idxs: [656 812 681 556 383 832 272 254 689 117]\n",
      "\n",
      "top verbatims\n",
      "------------\n",
      "parking is too expensive.\n",
      "\n",
      "The parking fee is too expensive.\n",
      "\n",
      "Parking for employees is too expensive.\n",
      "\n",
      "IMO, parking rates are too expensive.\n",
      "\n",
      "Quarterly parking is too expensive.\n",
      "\n",
      "parking is inordinately expensive on campus.\n",
      "\n",
      "Parking is too expensive\n",
      "\n",
      "Parking rates are excessive.\n",
      "\n",
      "Parking is kind of expensive\n",
      "\n",
      "Parking is very expensive!\n",
      "\n",
      "bottom verbatims\n",
      "------------\n",
      "Overall, I am very satisfied with parking services and the services and help that I received. In particular, customer service has been among the best I have ever received! One request that I would like to make is to allocate at least some spaces for STAFF parking in lot S1. Currently, we must go through our department to request spaces in this lot and my department has a rule where only faculty are allowed to park in this lot. I would urge that Parking Services take back the ability to assign spaces in this lot (for at least some spaces if it is not possible to do so for all) in cases where it is solely controlled by the department and reassign spaces in this lot in a more equitable manner, or at the very least use a lottery system so that everyone has an EQUAL opportunity to have access to this lot. In addition, many times, I have encountered situations where I needed to park for 20-60 minutes to \"run into\" the building and there was no short-term parking available near the Health Sciences complex. At the very least, it would be much appreciated if you could add a dozen or so spaces where staff may be able to park short term (<60 mins) when they need to access the building briefly. Thanks for your consideration.\n",
      "\n",
      "There are many ways in which parking services could be improved, and I expect that changes would take time and significant cost. Nevertheless, it would be a great improvement if parking vouchers and issues could be managed online. An example of an issue that could be improved is that at Harborview, if you badge into one parking garage, but the lot is full (e.g., the nest in P2), you must badge into another garage/level and lose two of your paid vouchers. The only way to correct this is to go to the parking office, which can be quite time-consuming. If there were a way that the badge reader permitted a few minutes (e.g., within 10 minutes of badging in, you can leave without consequence), that would be a big time-saver. Additionally, there are parking garages where the entrance has a count of open spaces, and some that have green/red lights on every spot to indicate openings. While this would require more time and expense, I think this would be incredibly helpful. Finally, I want to say that I greatly appreciate the discounted rates of vouchers for physicians.\n",
      "\n",
      "Locked myself out of my car and the guy at the gate in the parking garage was the best help I've ever received in a stressful situation when trying to juggle life, career, and school. That gate worker and his supervisor we're so awesome! Great customer service! Thank you!\\r\\n\\r\\nI would just ask that this Dept be more available to students who are not able to be on campus during \"regular business hours\" ... It seems like UW really wants to attract students outside of the traditional F/T day cohort and it's important that all depts realize the need for student support after 5pm and/or on Saturdays. Pretty sure my tuition costs as much as (if not more than) those traditional students' tuition.\n",
      "\n",
      "Create app-based payment system so clients can park and pay by phone.\\r\\nApp-based system should support ad-hoc carpooling. \\r\\nSwitch from monthly to daily parking to create incentive to use alternatives to SOV driving.\n",
      "\n",
      "The TPS lot should be paved so there are real parking spots to maximize parking.  Also the purchasing site may need work to allow for the capacity at that time and not prohibit students from buying passes\n",
      "\n",
      "I have worked for the campus Disabled Shuttle, Dial-a-Ride, for over 40 years and have the highest regard for the foot soldiers of Parking. They are very knowledgable and helpful. Truly unsung heroes. In the course of my job, I come across challenges to the community I serve. The most recent campus construction, including the new north campus dorms, are not ADA-compliant. A number of our passengers live there now and we are not allowed to access the upper, main, ADA entrances or designate any stop/s at those locations. It would be a reasonable accommodation to allow us this access as we meet the requirements of \"service vehicles,\" as posted at the entrance by Haggett Hall. As it exists now, we must watch as large trucks, private trucks, Uber, Lyft and a host of other vehicles drive past the sign at Haggett and up to the dorms. This \"restriction\" is not enforced, and as an ADA-related, Federally-mandated service, we belong closest to ADA entrances to these buildings. Additionally, cooperation between Parking and Dial-a-Ride should be restored in regards to placement of our stops, new stops, and signage pertaining to our access.\n",
      "\n",
      "The online system for reordering ICT is easy and efficient. For work I make pre-arranged parking request a lot and that is easy and efficient. With the move to self-serve parking, it would be great to have a way for departments to pre-arrange or reimburse parking even at pay stations or metered parking.\n",
      "\n",
      "I would like to also like to extend extra KUDOs to Noah Drost who worked with our department to brainstorm better parking throughout the course of this past year. Without his constant help I don't believe our problem would have been resolved.  Thank you for being so responsive and great problem solver!\n",
      "\n",
      "Customer service is EXCELLENT.  The staff is clearly very well trained.  I like to pick up my ICTs in person, and it's clear that the staff works as a team to get things done.\\r\\n\\r\\nMy designated lot is C6 in the Central Plaza Garage.  Availability has improved *greatly* even when the \"full...disability and permit only\" signs are up.  The effort invested in sending folks out to collect data on lot usage has really paid off!\n",
      "\n",
      "I am happy that Brent Curtis is working with Transportation services and has been very attentive to things I bring to his attention.  The poor marks I gave are due to the problems I had prior to becoming acquainted with Brent and prior to the UW settling on the parking lawsuit.  I am hopeful the progress that has been made since then will continue.\n",
      "\n",
      "PC: 4\n",
      "\n",
      "top idxs: [907 910 295 904 293  95 916 869  84 917]\n",
      "bottom idxs: [123 159 117 201 466 229 122 343 731 475]\n",
      "\n",
      "top verbatims\n",
      "------------\n",
      "Make parking more affordable\n",
      "\n",
      "Cheaper parking options\n",
      "\n",
      "Too expensive\n",
      "\n",
      "There should be more parking available, or more help understanding how to use the public transit options for commuters.\n",
      "\n",
      "Overpriced\n",
      "\n",
      "Not enough parking on campus. Parking should not be charged per hour but by day. Passes are unaffordable\n",
      "\n",
      "Parking is too expensive\n",
      "\n",
      "Over sells certain areas.\n",
      "\n",
      "Morning parking options needed, and documentation needs to explain in more detail where to get things, etc.\n",
      "\n",
      "I think that the campus needs more handicapped parking. With a large Veteran community there are more personnel that have disabilites and require parking closer to buildings\n",
      "\n",
      "bottom verbatims\n",
      "------------\n",
      "Great staff.  Half the time I don't even know what kind of parking service would work best for my needs.  They have helped me determine the right services and even helped my department save money.  They have made miracles happen with last minute requests for reserved parking in S-1. thank you!\n",
      "\n",
      "These folks are GREAT in assisting everyone. THANK YOU!\n",
      "\n",
      "I am happy that Brent Curtis is working with Transportation services and has been very attentive to things I bring to his attention.  The poor marks I gave are due to the problems I had prior to becoming acquainted with Brent and prior to the UW settling on the parking lawsuit.  I am hopeful the progress that has been made since then will continue.\n",
      "\n",
      "Lots of ability to do things online and the new website looks great! Ive had great support for citation appeals and payment, renewal online is always easy and the efforts made to eliminate the lines at the gate houses has been phenomenal! Pend Oreille used to get backed up all the way to the Burke-Gilman and now traffic flows easily even at peak times. I dont think TS gets enough credit for these changes.\n",
      "\n",
      "It is very challenging to arrange nearby parking for our VIP guests. This has been an ongoing issue.\n",
      "\n",
      "Extremely helpful in making the physical transition from a yearly/quarterly parking pass to pay-per-use-parking (PPUP).  \\r\\n\\r\\nI am glad that someone had the forethought to cap the PPUP at yearly/quarterly parking pass rate.\n",
      "\n",
      "Most interactions with Parking have been very positive.  Appreciate all the effort they put into help make the change from parking passes to pay-per-use for our lot. So much information was shared and staff were available.  Where I am disappointed is in the event parking.  We have had more than one mishap with arranged parking for our caterers and Parking has not worked with us to resolve the issue.\n",
      "\n",
      "I received a parking ticket because my UW parking pass expired. While it was pretty straightforward in fixing this and avoiding the penalty, the process did take a while.\n",
      "\n",
      "I received a $15 parking ticket for parking out of area in N24.  My normal lot is C15, which is assigned only after many years at UW (I've been here over 28 years).  C15 has no overflow lot.  I requested an overflow lot for C15, because we have so few spots, over 1.5 weeks ago.  No resolution.  After one week I got an email that said, \"We received your email.\"\\r\\n\\r\\nSeriously?!!  \\r\\n\\r\\nC12 has N24 as an overflow lot so this is just lame.\n",
      "\n",
      "Very positive group.\n",
      "\n",
      "PC: 5\n",
      "\n",
      "top idxs: [920 117  97 898 417 743 103 159 779 576]\n",
      "bottom idxs: [705 765 644 697  71 755  21 221 353 637]\n",
      "\n",
      "top verbatims\n",
      "------------\n",
      "Very thankful for the options and the quick responses.\n",
      "\n",
      "I am happy that Brent Curtis is working with Transportation services and has been very attentive to things I bring to his attention.  The poor marks I gave are due to the problems I had prior to becoming acquainted with Brent and prior to the UW settling on the parking lawsuit.  I am hopeful the progress that has been made since then will continue.\n",
      "\n",
      "Thank you for pay by the hour!  Being able to pay for half hours would be AMAZING.\n",
      "\n",
      "Pretty straight forward.\n",
      "\n",
      "I was having issues with changing my vehicle multiple times with my parking permit and they helped me emmediatly every time I contacted them and they were very nice about it as well. I would have gotten annoyed with myself but they maintained a great customer service attitude and I appreciate it greatly.\n",
      "\n",
      "The PPUP option is great!\n",
      "\n",
      "Amazing staff and efficient kiosk interface/usage.\n",
      "\n",
      "These folks are GREAT in assisting everyone. THANK YOU!\n",
      "\n",
      "The staff in the Parking/Transportation Services Office have been very helpful and knowledgeable. Thank you!\n",
      "\n",
      "Parking Services has been very responsive and helpful when responding to Disability parking issues.\n",
      "\n",
      "bottom verbatims\n",
      "------------\n",
      "Provide more parking spaces on campus (that isnt at the tacoma dome) that arent permit only. Permits are sold out within two minutes of them being available. Theres simply too many students for the amount of available parking spaces we have on campus.\n",
      "\n",
      "Thinking about how many students there are compared to the limited amount of parking is ridiculous. There are too many parking lots that are reserved for certain permit holders. There needs to be more parking spaces available to any student throughout campus.\n",
      "\n",
      "Can we get longer parking times?  This is tacoma not seattle.  I dislike that we have to pay for parking in tacoma period, let alone for school.  Maybe a student discount for parking.\n",
      "\n",
      "Parking seems to be a big problem. I think the 90 minute parking needs to be switched to at least 3 hour parking. Most classes are an hour and a half to 2 hours. Thats not enough time to get back to our car an pay for more parking without having to walk out of class and pay for more parking so we don't receive a ticket. Thats not okay.\n",
      "\n",
      "Could use additional offices to dispense services (or make them available at the parking booths). Online information is hard to find at times.\n",
      "\n",
      "Raise rates. We should be driving less and using the money we raise to find things like better transit, better bike infra, etc. It will also reduce traffic. We need more flexible parking products. Flex pass is good. We need parking products that charge by the day rather than by the month, since monthly passes mean people are more likely to drive since their parking fees are a sunk cost.\n",
      "\n",
      "Need more areas to park and more time for our money. A lot of courses are 2 hours so an hour and a half doesn't help. Also more available and cheaper parking permits.\n",
      "\n",
      "Needs more parking space.\n",
      "\n",
      "Need more elevators in the garages\n",
      "\n",
      "I wish you could petition for a cheap temporary parking pass for a short amount of time if there are certain conditions where you need to park somewhere close and safe, but don't want to buy a year/quarter long pass.\n",
      "\n",
      "PC: 6\n",
      "\n",
      "top idxs: [292 767 114 482 189 907 906 184 110 910]\n",
      "bottom idxs: [261 699 417 598 714  60 274 618 239 665]\n",
      "\n",
      "top verbatims\n",
      "------------\n",
      "Parking should be improved and designated parking passes should be more affordable and less competitive. There is not enough room for the amount of growing students and the downtown Tacoma community. I understand UWT wants to enforce and encourage public transportation but unfortunately its not high school where we can take the bus to and from home straight after/before class. We have jobs, obligations, responsibilities and have to continue using our cars. Paying for parking everyday does not seem logical for attending a campus I already pay a lot to attend. Not only that I have days when I have class from 8am-8pm and 3 hour parking does not do me justice.\n",
      "\n",
      "UW parking services could use more online capacity and more carpool parking. I do not live near transit, and had a need to get to school via car. I used carpool parking, and would have appreciated a receipt emailed to me, or associated with my student ID. At the end of the quarter, I tried to take out a loan to help with the cost of parking, and was unable to do so because I hadn't saved the daily paper receipts. Also, more spots should be reserved for students who car pool or park daily. The central garage was marked \"full\" nearly every day, and carpools were turned away despite the fact that dozens of spaces were clearly available / open.\n",
      "\n",
      "It would be helpful if managers were able to offer parking as part of the compensation package offered to employees. There are many employees that have extended commutes that prevent them from being able to take advantage of public transportation. Having the ability to negotiate parking as part of your employee benefits would make this much less stressful for employees priced out of being able to live closer to UW.\n",
      "\n",
      "Need more parking spots\n",
      "\n",
      "There needs to be better online documentation for when the parking lots by the IMA/athletic facilities will be closed for events.\n",
      "\n",
      "Make parking more affordable\n",
      "\n",
      "UWT seriously need more parking space. I have been late for my class due to unavailable parking many times\n",
      "\n",
      "More automated/credit card options like Padelford, please.\n",
      "\n",
      "The upper Padelford lot often has a lot of vegetation debris, which is a mess, and sometimes obscures parking lines. Water pools about an inch deep in a number of spots. There is a chronic problem with staff and faculty illegally smoking in the upper lot (both levels), but there is zero enforcement. Parking staff should enforce, or call the police. PLEASE have the group with the no smoking sandwich boards put one on each level. I think it is EH&S.\n",
      "\n",
      "Cheaper parking options\n",
      "\n",
      "bottom verbatims\n",
      "------------\n",
      "I was able to get my permit quickly & the staff member that helped me explained the process thoroughly. I had to call to make an appeal and the gal who took my call was very pleasant & directive.\n",
      "\n",
      "Parking services is responsive, efficient and even though I disagree with where they assignd me to park, when I had an accident and needed handicap parking they bwere quick and extremely helpful.\n",
      "\n",
      "I was having issues with changing my vehicle multiple times with my parking permit and they helped me emmediatly every time I contacted them and they were very nice about it as well. I would have gotten annoyed with myself but they maintained a great customer service attitude and I appreciate it greatly.\n",
      "\n",
      "The gatehouse staff are amazing and always very helpful. It makes the mornings I have to drive into work much easier.\n",
      "\n",
      "I was very impressed by the quality of service when I visited the office to obtain a parking permit. The staff helped me select the best option for me and I had my new parking pass in hand in no time flat. Kudos!\n",
      "\n",
      "Very kind staff, very helpful in solving parking disputes and solving problems that come up. Appeals are processed in a timely manner, and event staff were kind and gave clear direction.\n",
      "\n",
      "I have interacted with Parking Services for 30 years. The service has improved so dramatically in that time that the current Parking Service office shares only in name with it's former iterations. I can say it is almost a pleasure to deal with the office now. I often have very complicated parking needs that occur immediately and unplanned. The office now handles my requests quickly, courteously and in a manner that puts it in a very positive light for my clients needs, Thanks for the improvements!\n",
      "\n",
      "Wonderful service! Everyone is super nice and were able to answer all of my questions!\n",
      "\n",
      "because I work and live on campus, my car is parked here pretty much 24 hours a day, and due to where I live, I need to park in a pay per use lot.  everytime we have new staff in a similar situation start, I feel like we go through the whole runaround all over again to try to explain and get it figured out.  also, the w8 garage are sometimes doesn't work (get locked out after hours because it doesn't think you left before).\n",
      "\n",
      "Love the special events team. They are always so helpful!\n",
      "\n",
      "PC: 7\n",
      "\n",
      "top idxs: [621 747  44 217 139 357 445 219 153 172]\n",
      "bottom idxs: [246 587 674 694 251 556 592 702 596 435]\n",
      "\n",
      "top verbatims\n",
      "------------\n",
      "I need to use my car for work, so I find it ridiculous that I have to pay for parking.\\r\\nI also think it's unfair that the individual parking rate goes up after  4 uses from $6 to $7.50. It's very greedy.\\r\\nThe assignment of parking lots is also unfair, when I first started I was assigned a parking lot that was a 15 minute walk from my office which is ridiculous for someone who uses their car for work\n",
      "\n",
      "Parking at this institution is dismal at best. Its extremely expensive, even for those who try to carpool as much as possible. And the ease of transition from student to employee parking is terrible as well. The time I have to park varies every day, from 8am to 330pm. Im lucky if I can ever find a spot to park thats not across campus. As an employee, I have to be to work at 3pm and there is no permit that allows that time frame with a decent lot. Since I dont get off til after midnight, I need to park close for my safety.\n",
      "\n",
      "The customer service provided to the 4545 building staff when the parking garage converted to a gated entry was great... Transportation staff were on-site multiple times before the conversion, were friendly, courteous and knowledgeable.\\r\\n\\r\\nI know we are all working towards reducing our carbon footprint, but sometimes it just isn't feasible to walk/bike/bus everywhere and a car is necessary.  Parking at the Transportation office is terrible; so much so that I now avoid going there.  Is there any way to reserve 20 min parking spaces for customers?  Fortunately the online presence has become very good so I rarely need to visit in person.\n",
      "\n",
      "I wish there were more pay by the day parking facilities.  Having to move my car every 90 or 120 minutes is a pain and I've already received one ticket for $25 when my car hadn't been moved by the 100 minute mark.  Perhaps the City of Tacoma, Diamond, etc., would be willing to invest in longer hour parking.  Thank you.\n",
      "\n",
      "Uw parking is basically not designed for med student needs and is priced out of student budget which makes it very difficult to commute to campus from places where buses take > 1 hour to get to campus. I still pay for full price parking and I still pay for a bus pass and a gym I cannot use given the $$$ restrictions in place. On top of parking expenses I end up having to pay for a separate gym membership because parking at the gym is not free & too tough of a commute if you are working from a different hospital for a rotation....\n",
      "\n",
      "They're good, but sometimes I need to park my car on campus for 5 minutes to turn in homework or to unload something for my engineering club and certain zones are restricted at certain hours? I don't know, not entirely clear on that but they do their job.\n",
      "\n",
      "I spent less than 5 minutes getting my motorcycle parking permit each time I've picked one up. \\r\\n\\r\\nQuick, efficient, and fairly priced. Employees are courteous and well-trained.\n",
      "\n",
      "Parking at UW is not affordable whatsoever. As a student that commutes from pretty far away public transportation is not feasible and is very challenging. The fact that I paid around $400 A QUARTER to occupy one of thousands of parking spots a mile away from where I needed to be was ridiculous. If you care about your students you would make this more accessible for them. I cannot afford to spend that much on something that shouldnt cost that much. Same for your staff. I know what they pay too and thats ridiculous.\n",
      "\n",
      "Parking surrounding campus is specifically put at 1 hour and 30 minutes max because many students are not able to go put more money into their parking meter without missing class. I leave class an average of 4 times a day to out money Into the meter. As a student with 2 jobs I cannot take public transportation. I have paid over $100 In.parking tickets to.the city and I feel that they make parking expire in short times to.make more money off students. Ticketing students for parking is only putting more financial problems on students like me who already have a hard time affording to live and go.to school. These are opppresive actions not only by the school but also by the state\n",
      "\n",
      "Parking staff is nice but parking rates are too expensive. I am a researcher near the medical center. I usually take the train to work but a couple times a year I need to drive. It is very frustrating that not only are parking lots full (so I have to park on the street and move my car every two hours over a 10 hr work day), if the lots have spots open it costs $15. Employees should have a discounted rate and priority parking over the public.\n",
      "\n",
      "bottom verbatims\n",
      "------------\n",
      "Have sometimes had delays or gaps in communication related to the parking area which I use for PPUP.  In the past, this was once related to a safety concern, and immediate notification would have been preferred.  Communications related to ongoing work in that area are sent, so it seems the infrastructure for more immediate notifications is there.\n",
      "\n",
      "Parking services are one of the areas were UWT lacks in.\n",
      "\n",
      "The parking situation in N4 and N5 is very confusing.\n",
      "\n",
      "poor communication about changes to parking services, VERY SLOW new computer system at parking booths to obtain daily passes, failed to acknowledge purchase of annual S1 parking pass despite online receipt due to \"problems with our system\"\n",
      "\n",
      "I appreciate the new-ish garage entry passes and direct deduction for PPUP. If the parking spaces got any smaller in W8, though, I'd have to park my car with two wheels in the air, and at high demand times there seem to be an abundance of UW vehicles there. Why?\n",
      "\n",
      "Create app-based payment system so clients can park and pay by phone.\\r\\nApp-based system should support ad-hoc carpooling. \\r\\nSwitch from monthly to daily parking to create incentive to use alternatives to SOV driving.\n",
      "\n",
      "had an issue resolved (N5 is not clearly labeled vs N4) on a ticket quickly and effectively.\n",
      "\n",
      "IMO, parking rates are too expensive.\n",
      "\n",
      "The parking office is in the most inaccessible location. I was on crutches and couldn't find a place to park within two blocks. There was zero handicapped parking spots and all the closest spots were taken by UW parking cars.\n",
      "\n",
      "I'm not very satisfied with the conversion of the W46 garage to PPUP and eliminating use of the ICTs.  I wish ICTs were still allowed there.  Some weeks I don't use my ICTs at all and others I might use them every day.  The PPUP is more restrictive in that I can only use the garage 4 times in a pay period.  The ICTs are more flexible.\n",
      "\n",
      "PC: 8\n",
      "\n",
      "top idxs: [483 602 551 480 871 365 478 211 366 291]\n",
      "bottom idxs: [386 239  69 372 179 731   0 487 163 577]\n",
      "\n",
      "top verbatims\n",
      "------------\n",
      "The website is fairly confusing and there should be an option to renew parking online using a credit card rather than dining funds. Staff is excellent though, Ive had a number of issues with renewing/card functionality and theyve been extremely helpful overall.\n",
      "\n",
      "The online portal for parking services at UW Tacoma is extremely confusing.  It would be great if Parking Services would hire a UX expert to assist in making the page more clear and accessible for all, and especially for student users.\n",
      "\n",
      "The waiting list for parking lots is extremely confusing. I was added to one central parking waiting list, and then learned later that I specifically needed to ask to be added for each level. Could there be an online portal to track that? And online portal to sign up for the waitlist?\\r\\nThanks!\n",
      "\n",
      "I regularly use two different cars to come to work, and getting tickets on days when I've left the permit in one car and forgot to stop at the gatehouse for a temporary permit is extremely frustrating. I realize this is my mistake, but in 2019, it seems like we could have advanced beyond a plastic placard and printed temporary cards to verify permits. Could there be a license-plate database that connects to parking officers' devices instead?\n",
      "\n",
      "I park in S-1 and it used to be very difficult to find parking after 9am--this is a problem for those of us who need to be at multiple sites on different days.  This situation has improved over the past year, and I no longer have difficulty finding a parking space.  Parking is expensive and it was very frustrating to have to drive around for 10-15 minutes or to need to go to another parking lot was very frustrating.  Thank you for improving this situation.\\r\\nHaving more trash and recycling bins in S-1 would be helpful\n",
      "\n",
      "Parking is too limited or too far away! More parking needed.\n",
      "\n",
      "Parking rates are too high for students. There is not free parking for IMA(using IMA is a paid service. Why no complementary parking?)\n",
      "\n",
      "Parking is way too expensive for students. There should be a discount, especially if we live on campus\n",
      "\n",
      "Need more free parking options/more parking pass options\n",
      "\n",
      "Website is very confusing\\r\\nLots of missed messaging regarding weekend and overnight parking with quarterly pass in e18, especially when games are happening: staff at parking center (by phone) said parking was allowed as long as there was space, physical parking pass made it seem that it was allowed (and that people with E-18 passes could NOT park elsewhere), posted signs for games were unclear, parking staff day of the event said absolutely no parking there without purchasing another pass. \\r\\nNeed more parking options for medical students!!\n",
      "\n",
      "bottom verbatims\n",
      "------------\n",
      "I work part time.  I wanted to park close to work and pay only 3 days/week.  They said the only way they could do that is for me to have to walk all the way over to parking office every 3 months, which is a huge burden.  I'm a physician, I seldom get a full lunch break and I work over a mile away.  They refused to mail it to me. They also said I had to park pretty far away and walk (about 10-15 minutes) because they didn't have room in the closer lot.  They said they' put me on a wait list for the Padelford Lot but I have never heard back and that was about a year ago.  I have to pay $15 at the card machine to park in Padelford visitor spaces.\n",
      "\n",
      "because I work and live on campus, my car is parked here pretty much 24 hours a day, and due to where I live, I need to park in a pay per use lot.  everytime we have new staff in a similar situation start, I feel like we go through the whole runaround all over again to try to explain and get it figured out.  also, the w8 garage are sometimes doesn't work (get locked out after hours because it doesn't think you left before).\n",
      "\n",
      "It is asinine that I spent more than $8000/quarter in a health sciences graduate program and do not have guaranteed parking near the buildings that I need (T-wing and SOCC).  S1 is often \"full\" even when parking spots are obviously available.  Just today I had to park at the stadium and walk to the far end of the health sciences building with 4+ bags (I am a milk-pumping/breastfeeding new mom) after spending $27 to park because I have to be here all day.  I spend $80/quarter for a U-pass I cant use due to transportation needs for my child.  I spend money each quarter for a gym membership I can't use because my childcare schedule doesn't allow it.  So I am forced to spend money for services I can't use and forced again to spend extra money for the inconvenience of parking far away with tons of bags.  All this on top of a ridiculous amount of tuition.  The way the University forces me to pay for services I don't need and doesn't help (in fact, makes it worse) to use services I actually DO need is infuriating.  I definitely do not tell people I know who are interested in a similar degree that it is worth it to obtain it at the UW.\n",
      "\n",
      "I work in henderson hall W10. It's probably not parkings fault, but our lot has been sold off \"temporarily\" (for years now) to construction workers. It used to be somewhat used by workers, but now it's mostly empty every single day now. I used to have ICT's for the lot as I drive about once a month because I need to bring in heavy things that I can't take on my bike. My only options now are the PPU program to a garage that is almost as far away as parking in the neighborhood off campus and walking in. Why is our lot still reserved for people that don't use it? I want the ICT's back.\n",
      "\n",
      "I'm not sure of the changes that can be made in a direction that best suits my needs, but most of my issues lie in the garage staff. Any issues that I've had with parking, which have been relatively few, have been resolved. But when I have a poor attitude accompanying somewhat effective customer service, this takes the entire experience down a few notches. While I can't make anyone smile and unfortunately it can't be a requirement of the job, I have worked in customer service (a LOT) and as a consumer, a smile goes a long way. Even just a hello or some acknowledgement that I'm a human would be nice. We're all tired at 8:00a but let's not make it dreadful too.\n",
      "\n",
      "I received a $15 parking ticket for parking out of area in N24.  My normal lot is C15, which is assigned only after many years at UW (I've been here over 28 years).  C15 has no overflow lot.  I requested an overflow lot for C15, because we have so few spots, over 1.5 weeks ago.  No resolution.  After one week I got an email that said, \"We received your email.\"\\r\\n\\r\\nSeriously?!!  \\r\\n\\r\\nC12 has N24 as an overflow lot so this is just lame.\n",
      "\n",
      "Most of the time, when I get a person who \"looks\" like an undergrad, the service is acceptable (but not amazing).  But almost anytime the person helping me looks like \"permanent staff, let's call them, the service is really horrible.  They expect that everyone knows everything about campus (locations, names, etc.) which is a funny expectation since a HUGE percentage of people using parking services are VISITORS!  Some people are just plain rude.  On one occasion I politely, but firmly called-out this behavior, and the elderly gentleman said that he could not be expected to know about parking policies that were made within the last two years because he had been working there for 20 years and mostly does enforcement.  Think through that logic.  I asked him, \"whey are you working in the parking booth at the front of campus, then, if you can't and won't help me?\"  He said \"I don't know.\"  When I asked him why he was rude and why he initially ignored me (did I offend him somehow?), he simply said, \"I was busy, so deal with it.\"   A large number of people working at Parking services are really rude and unmotivated to show basic kindness to people.\n",
      "\n",
      "I pay $150/month to park in E8 because due to the hours I work and the distance from campus public transportation isn't an option.  I understand the issues with parking during football games and graduation.  We lose half the lot to donors for a men's basketball game and I normally can't get parking in the 1/2 we can still use.  Much of the lot remains unused yet we still will get towed if parked there.  I have to continually run down to try to move my car or park in the big lot.  If I was paying less I would be less grumpy about being displaced.\n",
      "\n",
      "The walk to the parking lot by the tower (W45) has gotten unsafe. I've called UWPD a few times to chat about this but nothing seemed to get done. For 6 years, I walked from main campus to that parking lot. This year, I switched to central plaza and luckily there was a space. I could not bear to walk feeling unsafe anymore. Homeless and drug users line the walk from main campus to the W45 and they blow smoke in your face, holler at you, and say inappropriate things. They have bonfires and exchange drugs. I was walking with my child one day when a homeless person popped out and stuck a hypodermic needle right in his own arm - my child was freaked out. I constantly felt unsafe. Please work with UWPD to fix that area. I would never send my child to UW if I saw Univ Ave and this walk. I'm an incredibly tolerant person but it's just gone too far.\n",
      "\n",
      "Strict enforcement of parking rules in a hospital environment where scheduled are dictated by patient care are not helpful.  On at least two occasions, the cars of FACULTY have been towed from S-1 for parking over allotted time or having an incorrect parking slip.  This is certainly not helpful to retention and not in keeping with good patient care.  Also, in S-1, there are approximately 50 handicapped parking spots which are rarely fully utilized and NEVER ON WEEKENDS.  These spots should be remarked to permit non handicapped use after hours and on weekends.  I also do not feel that any employee should have to pay for parking.\n",
      "\n",
      "PC: 9\n",
      "\n",
      "top idxs: [153  69 639 386 285 172 711 223 487 443]\n",
      "bottom idxs: [723 264 105 660  74 402 130 641 495 458]\n",
      "\n",
      "top verbatims\n",
      "------------\n",
      "Parking surrounding campus is specifically put at 1 hour and 30 minutes max because many students are not able to go put more money into their parking meter without missing class. I leave class an average of 4 times a day to out money Into the meter. As a student with 2 jobs I cannot take public transportation. I have paid over $100 In.parking tickets to.the city and I feel that they make parking expire in short times to.make more money off students. Ticketing students for parking is only putting more financial problems on students like me who already have a hard time affording to live and go.to school. These are opppresive actions not only by the school but also by the state\n",
      "\n",
      "It is asinine that I spent more than $8000/quarter in a health sciences graduate program and do not have guaranteed parking near the buildings that I need (T-wing and SOCC).  S1 is often \"full\" even when parking spots are obviously available.  Just today I had to park at the stadium and walk to the far end of the health sciences building with 4+ bags (I am a milk-pumping/breastfeeding new mom) after spending $27 to park because I have to be here all day.  I spend $80/quarter for a U-pass I cant use due to transportation needs for my child.  I spend money each quarter for a gym membership I can't use because my childcare schedule doesn't allow it.  So I am forced to spend money for services I can't use and forced again to spend extra money for the inconvenience of parking far away with tons of bags.  All this on top of a ridiculous amount of tuition.  The way the University forces me to pay for services I don't need and doesn't help (in fact, makes it worse) to use services I actually DO need is infuriating.  I definitely do not tell people I know who are interested in a similar degree that it is worth it to obtain it at the UW.\n",
      "\n",
      "Parking on campus is ridiculously expensive for students. Paying over $1000 dollars an academic year to park on campus is excessive, unmanageable, and unrealistic for many students, both those who live in the dorms and those who commute. I understand that space is limited, however, I know that not all the parking permits available on campus are used. Having access to a car for students at the UW should not be an extra burden and stressor, but a convenience meant to make student's already stressful lives easier. Many students hold off-campus jobs or commute from far distances. Having to pay an excessive amount to park either at their place of residence or their educational institution is extremely difficult for students and unethical from the university. Parking for students should be a reasonable expense, especially given how much they already have to pay to receive an education. $350 a quarter to park on campus is too expensive.\n",
      "\n",
      "I work part time.  I wanted to park close to work and pay only 3 days/week.  They said the only way they could do that is for me to have to walk all the way over to parking office every 3 months, which is a huge burden.  I'm a physician, I seldom get a full lunch break and I work over a mile away.  They refused to mail it to me. They also said I had to park pretty far away and walk (about 10-15 minutes) because they didn't have room in the closer lot.  They said they' put me on a wait list for the Padelford Lot but I have never heard back and that was about a year ago.  I have to pay $15 at the card machine to park in Padelford visitor spaces.\n",
      "\n",
      "I went to school on a game day to get work done (Grad student in chem lab) and was charged game day price ($30), I didn't even stay that long. Please have another option!\n",
      "\n",
      "Parking staff is nice but parking rates are too expensive. I am a researcher near the medical center. I usually take the train to work but a couple times a year I need to drive. It is very frustrating that not only are parking lots full (so I have to park on the street and move my car every two hours over a 10 hr work day), if the lots have spots open it costs $15. Employees should have a discounted rate and priority parking over the public.\n",
      "\n",
      "As a student paying almost $5000 a quarter, I should not have to walk almost a half mile to a full mile to campus. Parking should be free on campus and I should not have to pay for close parking. Its ridiculous.\n",
      "\n",
      "There is not enough parking spaces on campus.\\r\\nI moved to a new rental house which made using the buses more difficult with several transfer and considerable waste of time; not a good option when getting old. Accepted to pay more for parking on campus more than for the commuter tickets; to my surprise, I could not find a spot for SOV or pay-per-use and have to wait for probably 4 or 5 months for a chance that may or may not be available. I am being forced to either park on the far end of campus, e.g. at the stadium ~E12, and walk long distance to/from my office, search for nearby private parking at higher cost, or work from home. At this time, it cost around $15 each day I go to work (includes 520-bridge tolls).\n",
      "\n",
      "I pay $150/month to park in E8 because due to the hours I work and the distance from campus public transportation isn't an option.  I understand the issues with parking during football games and graduation.  We lose half the lot to donors for a men's basketball game and I normally can't get parking in the 1/2 we can still use.  Much of the lot remains unused yet we still will get towed if parked there.  I have to continually run down to try to move my car or park in the big lot.  If I was paying less I would be less grumpy about being displaced.\n",
      "\n",
      "Having trouble finding parking when I commute to work at the IMA during sporting events. I have to pay for extra parking ($20)\n",
      "\n",
      "bottom verbatims\n",
      "------------\n",
      "Although I haven't yet had problems with the parking services, I am aware that students often have difficulty filing a complaint against why they got a ticket. I've tried to assist these individuals and the mobile site, although you can manage to navigate through it, can be tricky. Additionally, you've got to be somewhat selective on what photos/ \"evidence\" you provide. The worse problem, however, is the lack of response that these students get via the site. Friendly staff in person but absolutely no notion if your case \"is under review\" through an online complaint filing.\n",
      "\n",
      "In my many years at UW, parking services has been by far the worst service here. Everything from extremely rude staff at the parking booths (one woman started sarcastically speaking to me like a small child when I didn't automatically know where one of the parking lots was), the people handling the permits (I ended up with the wrong permit somehow but at least I ended up with 2 free months of parking), and especially the people who handle complaints. I often will not get responses to my questions/concerns. In some situations, they tell me that they have done things when it's not true at all (cleaning up messes left by the homeless in the garages/elevators including human urine all over an elevator - that one was 2 months before they finally took care of it).\n",
      "\n",
      "I had difficulty with submitting an appeal request for a parking ticket on the website.\n",
      "\n",
      "Parking changed my lot to pay for parking. This service has not been integrated with the main gate despite there being a sensor. The change was rolled out poorly to staff. Most staff were not polite and had either a 'talking points' approach (where they just said the same things over and over) a 'my way or the highway' approach (where they explained that they didn't care and reminded people that they could bus in for they didn't like parking). Removing the U-Pass from parking cut down on my routes to campus and between campus areas. I don't see how that helps with parking.\n",
      "\n",
      "Several employees in our unit experienced an issue that prevented them from purchasing products through payroll deduction. The reps the employees interacted with did not show any curiosity about seeing this problem repeatedly. I escalated the problem to the head of parking services, who delegated it down two levels. While the people I then worked with were very nice, the problem continued for three or four months. We can't have been the only unit on campus with employees who were being forced to pay upfront for their product, yet there was no apparent sense of urgency to address an issue that impacted employees in their wallets. Again the people I worked with were very, very nice, and ultimately got the problem solved, but overall my impression with this unit was \"oh well, it's just one of those things.\" That is unfortunate, as these matters affect human beings.\n",
      "\n",
      "Tried to use the parking online service right when it opened, and the website completed bugged out for me. Was unable to purchase the parking ticket I needed for the quarter as it had sold out while I was experience website bugs.\n",
      "\n",
      "I filed a ticket because of an issue.  I got no response until 1 sent an email followup 30 days later.  At that time I received a response with the email and number of another department without any narrative explaining what I was to do.\n",
      "\n",
      "Some staff are really mean (usually the older staff) when asking for permits. I have better experience with the younger staff being more courteous, though there are some instances that what information you get over the phone with the parking services is not what they practice at the entrance even if you give the information you received. Next time, I will take the name of the person I have asked questions from the department and ask the lady at the booth to call to confirm.\n",
      "\n",
      "Took multiple weeks to receive answer regarding waiver of ticket fine. Answer by staff was short and did not address my concern/request.\n",
      "\n",
      "I've got two parking tickets with my pass on the dash of my car.  Both times they said they could not see it and took pictures as \"evidence\" from obscure angles.  Not happy at all with Parking Services, I will not park on campus again as long as I don't have to.\n",
      "\n",
      "PC: 10\n",
      "\n",
      "top idxs: [364 167 171 359 711 139 285 223 224 666]\n",
      "bottom idxs: [337 136 516 398 496 840 696 395 547 629]\n",
      "\n",
      "top verbatims\n",
      "------------\n",
      "I have to pay $1500 (4% of my salary) a year to park in order to come to work.\n",
      "\n",
      "I wish the parking passes were a little bit cheaper given that students that drive usually dont ride the bus but they still have to pay $84 for a UPASS each quarter on top of the quarterly parking pass.\n",
      "\n",
      "greedy. UW's big money making scheme. Don't give us bus passes and make us pay $6 to park. I bike here, I don't care. but it's clearly a money making entity that needs cars to survive. Conflicting values.\n",
      "\n",
      "I'm a DNP student in my final year. I pay for parking at my clinical site(s) and when I'm on campus; public transportation isn't an option as I live so far away and it won't get me there on time. It's a huge expense considering between being on campus or on site I'm pay $12-17/day 3-4 times a week. I also have to pay for the student U-Pass even though I can rarely use it. This is probably my biggest complaint about UW.\n",
      "\n",
      "As a student paying almost $5000 a quarter, I should not have to walk almost a half mile to a full mile to campus. Parking should be free on campus and I should not have to pay for close parking. Its ridiculous.\n",
      "\n",
      "Uw parking is basically not designed for med student needs and is priced out of student budget which makes it very difficult to commute to campus from places where buses take > 1 hour to get to campus. I still pay for full price parking and I still pay for a bus pass and a gym I cannot use given the $$$ restrictions in place. On top of parking expenses I end up having to pay for a separate gym membership because parking at the gym is not free & too tough of a commute if you are working from a different hospital for a rotation....\n",
      "\n",
      "I went to school on a game day to get work done (Grad student in chem lab) and was charged game day price ($30), I didn't even stay that long. Please have another option!\n",
      "\n",
      "There is not enough parking spaces on campus.\\r\\nI moved to a new rental house which made using the buses more difficult with several transfer and considerable waste of time; not a good option when getting old. Accepted to pay more for parking on campus more than for the commuter tickets; to my surprise, I could not find a spot for SOV or pay-per-use and have to wait for probably 4 or 5 months for a chance that may or may not be available. I am being forced to either park on the far end of campus, e.g. at the stadium ~E12, and walk long distance to/from my office, search for nearby private parking at higher cost, or work from home. At this time, it cost around $15 each day I go to work (includes 520-bridge tolls).\n",
      "\n",
      "I like the new payment scheme for on-campus parking (i.e. $3 per hour instead of getting refunded later). Almost everyday there is a sign in S1 saying the lot is full but there are always open spots.\n",
      "\n",
      "2 issues at Lot WT31: (1) the parking meter displayed the wrong price and (2) the machine ate my money ($3).\n",
      "\n",
      "bottom verbatims\n",
      "------------\n",
      "Let's be real, parking services is tasked with nickel and diming tourists, and doesn't really care about actual students who attend here, because for the most part, only tourists have cars, and most students use public transportation. \\r\\n\\r\\nThis means Parking Services can be lazy with handing out fines. No need to double check if it's real because a tourist can't deal with appealing it and will have to give in. \\r\\n\\r\\nBut when you ticket someone who actually goes here and knows the rules and didn't break them, the appeal process is slow, inefficient, and honestly not worth the time. \\r\\n\\r\\nScrew that, you're manipulating people with your awful bureaucracy into just accepting BS fines. Leave me alone. Not once has parking services been in the right to ticket my car. Not once. And every time it's just so painful to fight it, as if I'm almost willing to just pay you to drop the stupid appeal process. Screw you and your BS appeal system, and your BS tickets\n",
      "\n",
      "Parking services on campus is very poor.   They seem to go out of their way to make it difficult for people that have no choice but to drive to work (there is no public transportation near where I live).  I would go so far as to call them car hostile when again, some of us have no choice.   Even basic management of their parking locations is problematic, for example each year faculty must renew their parking permits and faculty/staff receive their new permits in mid June, with new permits being required in July.   Yet because this is summer break it is easy to forget the new permit when the switch happens that first week in July.   Every single year I see dozens of people ticketed in the parking garage for having their old permits rather than the new.   Why parking services doesn't put up a sign at the entrance of their facilities like the central garage reminding everyone I honestly don't know.  My guess is that they want the added revenue from all the tickets and are more interested in that than treating their customers well.   It is this anti-customer, charge more, ticket more, make it harder to park attitude that makes parking services one of the worst units on campus to deal with.  Yes they have a hard job, but they sure could be more customer friendly!\n",
      "\n",
      "Parking services continues to change its policies regarding parking passes and options.   It is unclear what the current policy is regarding out of area parking after 5:00pm, when it used to be OK.  The policy regarding out of area for spaces near Paccar Hall has no flexiblity, which can be a real pain when we have things to bring into or out of the building.   The front gatehouse staff were pretty nasty regarding my request for out of area when I had a bunch of items to bring into Paccar.   \\r\\n\\r\\nThe elevators in the Central parking garage were out of order off and on for a long period of time earlier this year.   The spaces for \"compact cars only\" on P5 are ineffective - hard to park into them and often times larger cars are parked in them, making adjacent spaces unusable.  They should be converted back to normal sized and angled spaces, and be more utilized.  They are always the last to fill up.\n",
      "\n",
      "Parking is too expensive and lots are often times unavailable\n",
      "\n",
      "I think the UWT website needs to make it clearer for incoming students that it has a parking problem and they may want to plan accordingly. I am obviously not a parking expert, but instead of expanding parking, but why not give financial incentives to those who commute? I know a few students who live less than 6 blocks away, yet still choose to drive to campus. There are commuting options, they just do not want to give up the convenience. UWT offers a discounted pass, but it is not worth buying it if you commute irregularly. Highline College for example has carpool passes at a lower cost, and many other places offer discounts or bonuses if you commute to campus or work.\n",
      "\n",
      "Because campus outsources this to various companies, it's hit or miss with the staff I come into contact with. I've received tickets despite having a permit, and have contacted them, received no response, but never had repercussions about my ticket fee--so I've had to assume the case was dropped.\\r\\nThe prices for parking at a campus like UW Tacoma are exorbitant. Public transport is not extensive/far reaching, reliable, or safe enough for people like me who live extremely far away from campus. We have no choice but to commute, and the prices of parking permits are ridiculous.\\r\\nAdditionally, the site crashes and becomes inaccessible every time permits go on sale because of the high demand. \\r\\nHaving evening permits for Court 17 makes no sense, either. The permits for the TPS Lot are so limited, and yet the lot is always empty. It makes no sense. \\r\\nThe parking meters at the Convention Center Lot E parking have been covered in spider webs, and completely nonfunctional more than once.\\r\\nThe Cragle Lot often rejects my card repeatedly before finally working.\\r\\nThe Tioga Lot frequently runs out of paper for receipts which prevents people from parking there, even when it's available.\\r\\nStreet parking being limited to 90 minutes is ludicrous--classes are 2 hours minimum, and for staff, we can't run across campus to repay for parking that often. It needs to be longer--and cheaper. We also need campus blue buttons closer to street parking for safety.\n",
      "\n",
      "Parking too far from my work site. Snow closure and clearing not great and poor clean up after. Employees often seem annoyed or frustrated and do not seem to have enough independent decision making authority to effectively solve problems in a helpful or timely way\n",
      "\n",
      "When have emailed the parking division on at least two different occasions to ask questions and lodge complaints against parking attendants (as is instructed to do on the website) there has been absolutely no response either by email or phone. And they indicate they will respond within 48 hours if memory serves.  Totally dissatisfied with the standard at which the gate system operates - way too slow. I'm sure it's due to the speed of the operating system that's used but should be upgraded - if we are going to charge the prices, we need to have more expedient customer service. And the parking gate attendants need to be more customer service oriented. I have had SO many rude encounters it's not close to being funny at this point.\n",
      "\n",
      "Price for student parking is too much\n",
      "\n",
      "Parking services is supposed to be an essential service for campus users, and not a cash cow. I do field research, and frequently need to transport equipment to and from campus in my personal vehicle at the loading docks behind some buildings on campus. I have been made to pay several dollars for half hour permits (which are too short) to load UW equipment into my car so that I can do UW sponsored research. Parking staff refuse to grant me free commercial load permits, saying that I am not delivering goods commercially. This is true, but shouldn't people conducting official UW business be allowed free loading passes if commercial deliveries who are visiting for profit are allowed free loading passes? Parking staff have agreed with my reasoning, but said they have to do things by the book, making no effort whatsoever to improve the situation. They have said that I could rent UCars which would be exempt from the permit requirements (which is not true), or simply claim parking costs, but all these would result in unnecessary financial burden on my tight research budget. I have tried loading my equipment after hours, but that has been made practically impossible by recent changes to make parking enforcement hours between 7 am till 9 pm. What is the rationale for these hours when official business should be 9 am to 5 pm? Loading docks should service university employees, and it is a disgrace to the image of UW that this essential service is used to profit off UW staff and students\n",
      "\n"
     ]
    }
   ],
   "source": [
    "for idx, pc in enumerate(pcs):\n",
    "    print(f'PC: {idx+1}\\n')\n",
    "    \n",
    "    top_idxs, bottom_idxs = pc.argsort()[::-1][:10], pc.argsort()[:10]\n",
    "    print(f'top idxs: {top_idxs[:10]}')\n",
    "    print(f'bottom idxs: {bottom_idxs[:10]}\\n')\n",
    "    \n",
    "    print('top verbatims\\n------------')\n",
    "    [ print(ans + '\\n') for ans in list(q_df.iloc[top_idxs].AnswerText.values) ]\n",
    "    \n",
    "    print('bottom verbatims\\n------------')\n",
    "    [ print(ans + '\\n') for ans in list(q_df.iloc[bottom_idxs].AnswerText.values) ]"
   ]
  },
  {
   "cell_type": "markdown",
   "metadata": {},
   "source": [
    "### Using t-SNE"
   ]
  },
  {
   "cell_type": "code",
   "execution_count": 242,
   "metadata": {},
   "outputs": [
    {
     "data": {
      "text/plain": [
       "(933, 10)"
      ]
     },
     "execution_count": 242,
     "metadata": {},
     "output_type": "execute_result"
    }
   ],
   "source": [
    "tsne = TSNE(n_components=10, method='exact')\n",
    "q_tsne_vecs = tsne.fit_transform(q_vecs)\n",
    "\n",
    "q_tsne_vecs.shape"
   ]
  },
  {
   "cell_type": "code",
   "execution_count": 243,
   "metadata": {},
   "outputs": [
    {
     "name": "stdout",
     "output_type": "stream",
     "text": [
      "PC: 1\n",
      "\n",
      "top idxs: [521  64 390 693 154 701 208 682 239 696]\n",
      "bottom idxs: [212 133  52 738 891 876  99  43 865 606]\n",
      "\n",
      "top verbatims\n",
      "------------\n",
      "The new system where guests provide a number is less easy for guests than the previous system. We have also had issues where we were told there would not be enough parking for our event but in reality, there were many spots available.\n",
      "\n",
      "The parking situation is awful.  Meters on the street dont even Allow you enough time to get through a two hour class and the parking pass options are vastly insufficient for the number of students trying to buy them for what is primarily a commuter campus.\n",
      "\n",
      "Its terrible in every way decribable\n",
      "\n",
      "We need more parking pay stations in the Padelford Garage. I have been up to 20 min late to my 6p class trying to pay for evening parking.\n",
      "\n",
      "I am working professional.  I had to plan out to get a parking permit every quarter.  Any possible option of renewing on either weekend or online?\n",
      "\n",
      "The people in the central plaza gatehouse tend to tell me that they can't help me or that lots are full without actually checking anything. Several times, I've been able to get out of area passes from other gatehouses for lots that the Central Plaza Gatehouse says are full without checking.\n",
      "\n",
      "More specifically- if I pay for a spot in a garage I expect there to be a spot for me. Its frustrating when there is an event and the parking is all gone, yet I paid in advance.\n",
      "\n",
      "E18 was not cleared of snow and ice during the days of school operation.\\r\\nIf would be safer for the students if the snow and ice were to be cleared.\\r\\nThe lines of the parking lot were unclear and slippery.\n",
      "\n",
      "because I work and live on campus, my car is parked here pretty much 24 hours a day, and due to where I live, I need to park in a pay per use lot.  everytime we have new staff in a similar situation start, I feel like we go through the whole runaround all over again to try to explain and get it figured out.  also, the w8 garage are sometimes doesn't work (get locked out after hours because it doesn't think you left before).\n",
      "\n",
      "Parking too far from my work site. Snow closure and clearing not great and poor clean up after. Employees often seem annoyed or frustrated and do not seem to have enough independent decision making authority to effectively solve problems in a helpful or timely way\n",
      "\n",
      "bottom verbatims\n",
      "------------\n",
      "No parking, permits are gone quickly. If you have a disability, it is very difficult to get around campus.\n",
      "\n",
      "Great customer service and I like how there are options to park full time or part time.\n",
      "\n",
      "Purchasing parking pass crashing web browser due to so many people accessing it.\n",
      "\n",
      "S1 parking space is in a severe shortage.  Many full time faculty members in Health sciences couldn't get a spot and had to park in distance.\n",
      "\n",
      "I only park on campus a couple times a month, so the PPUP is a great deal for me.  Also, it is nice that there is motorcycle parking, but it would be nice if that could be included in the PPUP program.\n",
      "\n",
      "I miss the days of when you could submit a code word for reserved parking. Giving a six digit number to guests is harder for them to remember.\n",
      "\n",
      "Parking is very limited at the UWT campus. I often have to park 4 or 5 blocks from campus.\n",
      "\n",
      "when trying to pay at a machine the instructions are not very clear. The machines are not very easy to use\n",
      "\n",
      "More parking at the UW Tacoma campus\n",
      "\n",
      "Parking is too expensive on campus and unfortunately I don't have a choice about driving.\n",
      "\n",
      "PC: 2\n",
      "\n",
      "top idxs: [ 52 154  64 133 594 465 612 373 375 359]\n",
      "bottom idxs: [212 521 675 702 398   6 916 657 168 826]\n",
      "\n",
      "top verbatims\n",
      "------------\n",
      "Purchasing parking pass crashing web browser due to so many people accessing it.\n",
      "\n",
      "I am working professional.  I had to plan out to get a parking permit every quarter.  Any possible option of renewing on either weekend or online?\n",
      "\n",
      "The parking situation is awful.  Meters on the street dont even Allow you enough time to get through a two hour class and the parking pass options are vastly insufficient for the number of students trying to buy them for what is primarily a commuter campus.\n",
      "\n",
      "Great customer service and I like how there are options to park full time or part time.\n",
      "\n",
      "Campus parking services became irrelevant to me after I saw how much it costs for students to park on campus for classes.\n",
      "\n",
      "What is going on with parking?  Stairwells that smell like human feces.  Over the top ticketing without any flexibility if a parking pass is difficult to see.\n",
      "\n",
      "Parking is outrageously expensive, crowded, and inaccessible to most buildings. Parking tickets are aggressively administered. Ticketing is more frequent than necessary. \\r\\nParking meters are slow and do not always work. I have parked, gotten out of my car to walk to a meter to pay a for time, paid $15, and then walked back to my car to find a ticket on my dashboard (either aggressive parking police or the technical system does not update fast enough). Then I'm required to walk to the on-campus building, wait in line forever, and pay it within 2 weeks. There is very little empathy for student time. There is no way to dispute a ticket without significant paperwork and even more useless consumption of student time. There is no online way to pay. Lime bikes are not frequently available next to classes. Parking should not be charged on federal holidays.\n",
      "\n",
      "People at the parking gate have provided information that has led to me getting tickets.\n",
      "\n",
      "Parking is horrible. It stresses me out beyond belief. Ive had to miss class some days because I drove around for 45 minutes to find a parking spot and there werent any. With how much we pay in tuition, we need a parking garage. I understand there arent many spots for a garage, but it needs to happen.\n",
      "\n",
      "I'm a DNP student in my final year. I pay for parking at my clinical site(s) and when I'm on campus; public transportation isn't an option as I live so far away and it won't get me there on time. It's a huge expense considering between being on campus or on site I'm pay $12-17/day 3-4 times a week. I also have to pay for the student U-Pass even though I can rarely use it. This is probably my biggest complaint about UW.\n",
      "\n",
      "bottom verbatims\n",
      "------------\n",
      "No parking, permits are gone quickly. If you have a disability, it is very difficult to get around campus.\n",
      "\n",
      "The new system where guests provide a number is less easy for guests than the previous system. We have also had issues where we were told there would not be enough parking for our event but in reality, there were many spots available.\n",
      "\n",
      "There aren't enough handicapped parking spaces. Or parking in general.\n",
      "\n",
      "IMO, parking rates are too expensive.\n",
      "\n",
      "Parking is too expensive and lots are often times unavailable\n",
      "\n",
      "Parking for employees is too expensive.\n",
      "\n",
      "Parking is too expensive\n",
      "\n",
      "Quarterly parking is too expensive.\n",
      "\n",
      "WAY too expensive and fills up VERY fast\n",
      "\n",
      "Parking office/permit office hours are not helpful for periodic/distance or professional students.\n",
      "\n",
      "PC: 3\n",
      "\n",
      "top idxs: [521  52 662 133 656  59 773 494  48 136]\n",
      "bottom idxs: [212 154 390 208  64  97 120 925 835 907]\n",
      "\n",
      "top verbatims\n",
      "------------\n",
      "The new system where guests provide a number is less easy for guests than the previous system. We have also had issues where we were told there would not be enough parking for our event but in reality, there were many spots available.\n",
      "\n",
      "Purchasing parking pass crashing web browser due to so many people accessing it.\n",
      "\n",
      "Due to my disability I use C1 parking, sometimes I wait for days until I get a response for the parking code for a new quarter. I am also quite frustrated since every quarter there are specific cars that don't have a pass and are routinely parking in these spots meant for those with disabilities for free, while others like me are paying money for these spots each quarter and aren't even guaranteed a spot when there's people parking there who didn't go through with the process of qualifying or paying for the pass. My first  year at UW I hd addressed the issue to one of the campus security people and was baffled when they not only knew the car/person I was talking about, but was justifying them parking in these spots for free without passes and not ticketing them.\n",
      "\n",
      "Great customer service and I like how there are options to park full time or part time.\n",
      "\n",
      "Overall, I am very satisfied with parking services and the services and help that I received. In particular, customer service has been among the best I have ever received! One request that I would like to make is to allocate at least some spaces for STAFF parking in lot S1. Currently, we must go through our department to request spaces in this lot and my department has a rule where only faculty are allowed to park in this lot. I would urge that Parking Services take back the ability to assign spaces in this lot (for at least some spaces if it is not possible to do so for all) in cases where it is solely controlled by the department and reassign spaces in this lot in a more equitable manner, or at the very least use a lottery system so that everyone has an EQUAL opportunity to have access to this lot. In addition, many times, I have encountered situations where I needed to park for 20-60 minutes to \"run into\" the building and there was no short-term parking available near the Health Sciences complex. At the very least, it would be much appreciated if you could add a dozen or so spaces where staff may be able to park short term (<60 mins) when they need to access the building briefly. Thanks for your consideration.\n",
      "\n",
      "I am an employee of UW headquartered at Harborview. I pay a biweekly fee for motorcycle parking there. I visit  the UWMC campus up to twice weekly and ride a motorcycle. Though I pay a monthly rate for motorcycle parking, this isn't recognized at UWMC, and I am expected to pay the typical parking rate for motorcycle parking that the public pays, even though I am there as a UW employee, and I have already paid for parking at my place of employment.  A person can't be in 2 places at once, yet at UWMC, one is expected to pay for motorcycle parking in 2 places at the same time. Also, the parking fee for motorcycles is greater than that for cars, as there is no hourly motorcycle parking fee.  Most motorcycles get gas mileage in excess of most hybrid vehicles, take up less space in parking, and use less non-renewable resources in their operation and construction. It is unfortunate for UW Parking to disincentivize a more efficient and environmentally friendly method of transportation. So, I end up parking on the street on Boat Street because it is cheaper than UW parking.  I am aware that there is a shuttle from Harborview, but I am not traveling to UWMC from Harborview, I am coming from dialysis units in the Central District and Lake City that are not served by public transportation that would get me there and back in less than 1.5 hours so that is not a practical option either. I  do appreciate Orca card access as part of the motorcycle parking fee as I only motorcycle 2 days/week\n",
      "\n",
      "This office overcharged me for my parking permit, didn't tell me about it until I coincidentally found out and had an agent inform me that I shouldin fact be refunded. Now they refuse to refund me and have stopped responding to emails. What gives?\\r\\n\\r\\nAlso, parking rates for scooters and motorcycles are exorbitant considering that they're much greener than cars, don't contribute to traffic congestion like cars, and the scooter/motorcycle lots go largely unused. UW should simply make scooter and motorcycle parking free. Doing so would incentivize against driving cars, and there would still be leftover space in the motorcycle lots.\\r\\n\\r\\nBased on how this organization operates it seems to me that it is not designed for the benefit of the people of UW; it simply operates to squeeze as much profit as possible out of every single member of the community. This crusade of avarice disproportionately affects those who don't come from means and can't afford to live within walking distance or within reasonable distance for public transit. These are the members of our community that Parking Services hurts the most.\n",
      "\n",
      "I requested a monthly parking pass at a parking garage near Harborview, but was told that no parking passes are available at View Park or NJB.  I was told that I could either buy a monthly pass at a garage multiple blocks from Harborview, or pay a daily rate for parking at View Park or NJB. (The latter option is much more expensive than a monthly pass.) Parking at a garage multiple blocks away is not a safe option for me, as I frequently work shifts that end at night when it is not safe to walk alone. I requested that Parking Services staff explore ways to increase availability of monthly parking passes in View Park and NJB, but was brusquely told that this would not be an option under any circumstances. I am dissatisfied with the lack of willingness to have transparent discussions or problem-solve about issues that directly affect staff well-being.\n",
      "\n",
      "As a late-stage graduate student (basically just a working scientist at this point), I often need to come into my lab for brief periods even when I'm otherwise working from home or taking the day off. Yet the parking options near Roberts Hall are abysmal, and the gatehouse workers usually decline to give me an hourly permit for Lot C12 near the building, even after I explain that I'm a graduate student who works near there. This means I usually have to park far away from my building and walk (often in the rain, sometimes carrying large items!) across campus. And I shouldn't have to tell you that buying a quarterly parking pass is out of the question on a graduate student budget. \\r\\n\\r\\nLook, I understand that you don't want students crowding out staff/faculty who have permits for these lots with limited space, but I AM ALSO WORKING FOR THE UNIVERSITY. There needs to be some exception for the \"no hourly permits before 4pm\" rule for student employees, etc. I'm tired of having to choose between walking a quarter-mile both ways, in bad weather, within 1-2 hours, or risking a parking ticket. I also understand that you want to encourage people to use public transport, and I usually commute by bus for this reason, but there has to be some kind of compromise here. The parking situation on campus has become an active impediment to doing my job.\n",
      "\n",
      "Parking services on campus is very poor.   They seem to go out of their way to make it difficult for people that have no choice but to drive to work (there is no public transportation near where I live).  I would go so far as to call them car hostile when again, some of us have no choice.   Even basic management of their parking locations is problematic, for example each year faculty must renew their parking permits and faculty/staff receive their new permits in mid June, with new permits being required in July.   Yet because this is summer break it is easy to forget the new permit when the switch happens that first week in July.   Every single year I see dozens of people ticketed in the parking garage for having their old permits rather than the new.   Why parking services doesn't put up a sign at the entrance of their facilities like the central garage reminding everyone I honestly don't know.  My guess is that they want the added revenue from all the tickets and are more interested in that than treating their customers well.   It is this anti-customer, charge more, ticket more, make it harder to park attitude that makes parking services one of the worst units on campus to deal with.  Yes they have a hard job, but they sure could be more customer friendly!\n",
      "\n",
      "bottom verbatims\n",
      "------------\n",
      "No parking, permits are gone quickly. If you have a disability, it is very difficult to get around campus.\n",
      "\n",
      "I am working professional.  I had to plan out to get a parking permit every quarter.  Any possible option of renewing on either weekend or online?\n",
      "\n",
      "Its terrible in every way decribable\n",
      "\n",
      "More specifically- if I pay for a spot in a garage I expect there to be a spot for me. Its frustrating when there is an event and the parking is all gone, yet I paid in advance.\n",
      "\n",
      "The parking situation is awful.  Meters on the street dont even Allow you enough time to get through a two hour class and the parking pass options are vastly insufficient for the number of students trying to buy them for what is primarily a commuter campus.\n",
      "\n",
      "Thank you for pay by the hour!  Being able to pay for half hours would be AMAZING.\n",
      "\n",
      "No\n",
      "\n",
      "I wish it was cheaper to park at UW\n",
      "\n",
      "Possibly reduce the time limit to 4 hours? For the 1-3 hour parking section.\n",
      "\n",
      "Make parking more affordable\n",
      "\n",
      "PC: 4\n",
      "\n",
      "top idxs: [154 241 614 225  78 820  58 918  25 192]\n",
      "bottom idxs: [212 521  52  64 830 185 838 571 555 160]\n",
      "\n",
      "top verbatims\n",
      "------------\n",
      "I am working professional.  I had to plan out to get a parking permit every quarter.  Any possible option of renewing on either weekend or online?\n",
      "\n",
      "Please consider leaving the escalator near padelford parking on for more than the current limited hours. I have to use that lot on the weekends to get to the art building (when the other lots are full, it's more often than you think) and there is no way for a person with a knee/hip disability to get up that hill, also the building is locked so the elevator is never an option.\n",
      "\n",
      "Employees should be able to park on campus for free\n",
      "\n",
      "Hours, locations, pricing, and lot use are unreasonable\n",
      "\n",
      "Parking services In unresponsive, unclear, and quick to handout tickets. You shouldnt take students and student teachers like my self over the coals for needing to park on campus some days. Moreover, when citations are handed out response time is terrible and they possess difficulty conveying policies.\n",
      "\n",
      "There needs to be some sort of ability to fix issues when pay stations  go out\n",
      "\n",
      "There needs to be more parking available and the process to buy glitches. There should be an email confirmation when putting yourself on the waitlist.\n",
      "\n",
      "Just curious if there are future plans to increase the amount of parking available to UW students at a reasonable rate\n",
      "\n",
      "I don't agree with the University's policy on parking, it's much too expensive\n",
      "\n",
      "The first year that I was at UWT, paid parking was terrible because parking was not limited to pre-paid staff.  So many times there was no room for me to park, but now that is no longer a problem.  Not only are compact parking places in Court 17 small, but many considered full size are more like compact and yet there are huge trucks and SUVs parking in both compact and regular spaces.  Scratches on my car is a common issue from large vehicles parked i these limited spaces.\n",
      "\n",
      "bottom verbatims\n",
      "------------\n",
      "No parking, permits are gone quickly. If you have a disability, it is very difficult to get around campus.\n",
      "\n",
      "The new system where guests provide a number is less easy for guests than the previous system. We have also had issues where we were told there would not be enough parking for our event but in reality, there were many spots available.\n",
      "\n",
      "Purchasing parking pass crashing web browser due to so many people accessing it.\n",
      "\n",
      "The parking situation is awful.  Meters on the street dont even Allow you enough time to get through a two hour class and the parking pass options are vastly insufficient for the number of students trying to buy them for what is primarily a commuter campus.\n",
      "\n",
      "There's not enough parking place. It's expensive. No bonus or reserved parking for UWT students who travel to attend classes in Seattle and are short of time to take a bus or use any other public transportation. I recommend the advance paid parking charged on U-PASS or Student card. The registration for saved parkings be done on line for those from UWT and UWB.\n",
      "\n",
      "One of the issues in regards to parking for commuters like myself is that transportation office will only sell me an E18 permit. Driving currently is my only option and I am trying to reduce my carbon footprint by driving an electric car. This is inline with the university mission to reduce its carbon footprint. E18 pass does not allow me to use EV chargers on campus for 2 hours which would greatly help me to acquire a bit more of driving range. My suggestions for this fix is to sell a special kind of pass for EV drivers with a different pricing structure or, just add the EV charging 2hr limit for E18 passes as well. Additionally, gatehouse attendants sometimes are unwilling to sell a two hour pass for EV charging because they claim it is full and then afterwards I drive by to notice the stall unused. Thanks.\n",
      "\n",
      "I mentioned this in the commute options section - I'm a UW-funded postdoc, but my research occurs at Hutch so my office is there. It would be great to add a shuttle stop from Hutch to E18 to improve access to affordable parking options and safety to/from E18 parking and Hutch.\n",
      "\n",
      "Lines are always long for parking stalls. Sometimes not all stalls are staffed, but I've been ticketed because I didn't have time to drive and find another parking stall and then drive back to the lot I was trying to park in. There needs to be two workers/stalls/windows open\n",
      "\n",
      "I've had some issues with parking to drop my daughter off at childcare (she's an infant). The pass is from 7-9am, and sometimes I drop her off around 9:05. A parking attendant threatened to give me a ticket as I was coming back to my car (around 9:10) because I was out of the hours. I understand that she was following the rules, but the rules are a bit silly (this lot has a LOT of room).\n",
      "\n",
      "When I needed a temporary disability parking permit I was required to go to the parking office when I could not walk.  I was told that someone could do this for me but I didn't have anyone to assist. There should be an alternative to coming to the parking office. It is difficult to park close by which is a problem when one is not mobile.\n",
      "\n",
      "PC: 5\n",
      "\n",
      "top idxs: [521 133 738 161  22 230 534 862 699 506]\n",
      "bottom idxs: [212 763 154  64  52  78 227 666 609 787]\n",
      "\n",
      "top verbatims\n",
      "------------\n",
      "The new system where guests provide a number is less easy for guests than the previous system. We have also had issues where we were told there would not be enough parking for our event but in reality, there were many spots available.\n",
      "\n",
      "Great customer service and I like how there are options to park full time or part time.\n",
      "\n",
      "S1 parking space is in a severe shortage.  Many full time faculty members in Health sciences couldn't get a spot and had to park in distance.\n",
      "\n",
      "The parking is great and the lots easily accessible. The fact that it is a well known issue that people can just walk through the security gates and car prowl and there aren't any other basic security measures is a huge disappointment considering the hefty cost of the parking. I dont think that people using the parking garages should have to go out of their way to make sure their car doesn't get broken into, I think that the garage itself should actually be secure with more than just an easily bypassible gate as security.\n",
      "\n",
      "I've wanted to buy a parking permit but have yet to figure out how to navigate the system. As such, I parked at the tacoma dome last quarter and this quarter am paying for daily parking away the Washington State History Museum. I would love if the online tools were more clear\n",
      "\n",
      "Our unit often prearranges parking for our events.  This is always an easy thing to arrange.  We also receive billing in a reasonable time period.  My feedback is when parking is full, it would be great if alternative suggestions for parking could be given to our guests.  It has been reported back to us that parking attendants only let them know parking was full.  I did not observe this I am only reporting what we were told.  \\r\\n\\r\\nTwice now I received a ticket by parking enforcement that was resolved because it was given in error.  I was satisfied with the resolution.  I'm sharing because it did take time and energy to remedy the ticket.  It would be better if the parking attendant was better trained.\n",
      "\n",
      "The parking pass service should be online, allowing students to get passes easier (especially commuter students) rather than treking to Transportation Services to get a parking pass. Also, saying on your calendar that you can get your parking pass 2 week before finals for the following quarter and then saying no when I get there frustrates me and messed up my schedule and made me go to Transportation twice just to get a pass that I should have been able to get online.\n",
      "\n",
      "PPUP in Portage Bay has been a great help to get to work and off-campus meetings during inclement weather / while teaching off-campus. Initially, the policy of which instances of parking would be billed at the higher rate (all, rather than just the excess instances of parking) if I parked more than 4 times per pay period was not clear to me from the wording online. However, I figured it out when I examined my PPUP-statement. \\r\\n\\r\\nThis is a great service and would be even better if it were possible to park 6 times per pay-period, rather than 4.\\r\\n\\r\\nThe garage is well-lit and maintained. There was only one Friday night when a group of people (students) seemed to be hosting a party with pot smoke in the garage. Otherwise it has always felt clean and safe, even when staying late at work. \\r\\n\\r\\nHusky NightWalk is also a wonderful service, for which I am very grateful.\n",
      "\n",
      "Parking services is responsive, efficient and even though I disagree with where they assignd me to park, when I had an accident and needed handicap parking they bwere quick and extremely helpful.\n",
      "\n",
      "Need a UW parking app that allows students to update their parking from class if they parked in a school lot. Not all classes get breaks and its not convenient to leave class to update parking. City parking I understand the school cannot control, but the school lots school appeal to the students: get a parking meter app.\n",
      "\n",
      "bottom verbatims\n",
      "------------\n",
      "No parking, permits are gone quickly. If you have a disability, it is very difficult to get around campus.\n",
      "\n",
      "Please do something more about drivers entering through the N18 exit.\n",
      "\n",
      "I am working professional.  I had to plan out to get a parking permit every quarter.  Any possible option of renewing on either weekend or online?\n",
      "\n",
      "The parking situation is awful.  Meters on the street dont even Allow you enough time to get through a two hour class and the parking pass options are vastly insufficient for the number of students trying to buy them for what is primarily a commuter campus.\n",
      "\n",
      "Purchasing parking pass crashing web browser due to so many people accessing it.\n",
      "\n",
      "Parking services In unresponsive, unclear, and quick to handout tickets. You shouldnt take students and student teachers like my self over the coals for needing to park on campus some days. Moreover, when citations are handed out response time is terrible and they possess difficulty conveying policies.\n",
      "\n",
      "The policy that you can get a six-week disability permit with no questions asked is very helpful.  However, I had to go to the parking office to find out about the policy.  And there is no disability parking there, so that was a challenge.\n",
      "\n",
      "2 issues at Lot WT31: (1) the parking meter displayed the wrong price and (2) the machine ate my money ($3).\n",
      "\n",
      "I'm not sure if this is in the direct category of \"parking services\", but it is very difficult when most of the remaining parking options are 90 minutes, and most classes are 120 minutes.\n",
      "\n",
      "LOVE THE PORTAGE BAY GARAGE\n",
      "\n",
      "PC: 6\n",
      "\n",
      "top idxs: [181 553 293 475 540 471 225 445 528 306]\n",
      "bottom idxs: [212 521 154  52 160  45 305 417 742 195]\n",
      "\n",
      "top verbatims\n",
      "------------\n",
      "Parking Services is a delight to interact with, they are knowledgeable and efficient.\n",
      "\n",
      "I really appreciate the option of having the commuter tickets for the occasional days I need to drive.  Requests for ICTs are handled very promptly and efficiently.\n",
      "\n",
      "Overpriced\n",
      "\n",
      "Very positive group.\n",
      "\n",
      "I appreciate the fast turnaround and detailed instructions on parking permit requests, and the fact that I can get commuter parking tickets by mail.\n",
      "\n",
      "amazing staff\n",
      "\n",
      "Hours, locations, pricing, and lot use are unreasonable\n",
      "\n",
      "I spent less than 5 minutes getting my motorcycle parking permit each time I've picked one up. \\r\\n\\r\\nQuick, efficient, and fairly priced. Employees are courteous and well-trained.\n",
      "\n",
      "Always fast and helpful, knowledgeable\n",
      "\n",
      "The parking services staff is fantastic. The price of parking for employees, however, is far too high.\n",
      "\n",
      "bottom verbatims\n",
      "------------\n",
      "No parking, permits are gone quickly. If you have a disability, it is very difficult to get around campus.\n",
      "\n",
      "The new system where guests provide a number is less easy for guests than the previous system. We have also had issues where we were told there would not be enough parking for our event but in reality, there were many spots available.\n",
      "\n",
      "I am working professional.  I had to plan out to get a parking permit every quarter.  Any possible option of renewing on either weekend or online?\n",
      "\n",
      "Purchasing parking pass crashing web browser due to so many people accessing it.\n",
      "\n",
      "When I needed a temporary disability parking permit I was required to go to the parking office when I could not walk.  I was told that someone could do this for me but I didn't have anyone to assist. There should be an alternative to coming to the parking office. It is difficult to park close by which is a problem when one is not mobile.\n",
      "\n",
      "Decreasing parking options (UW Tower commuter service tickets).  Received misinformation regarding it. New product will be more expensive based on my usage patterns.  No great options for my situation (primary commute by bike).  Need to drive when slightly icy or have childcare pickup issues.  Overall don't need to drive much but when I do it is clustered.\n",
      "\n",
      "Parking is way too expensive. If you are going to charge that much to park you should give staff free ORCA passes. I worked for Seattle Children's and they give all staff ORCA cards and pay you a bonus of $4.50 a day if you any type of transportation besides driving alone and parking.\n",
      "\n",
      "I was having issues with changing my vehicle multiple times with my parking permit and they helped me emmediatly every time I contacted them and they were very nice about it as well. I would have gotten annoyed with myself but they maintained a great customer service attitude and I appreciate it greatly.\n",
      "\n",
      "It feels like anytime I put together a commuting strategy that fits with my personal and family needs and obligations, someone runs out and make sure it gets squashed.  This is the one and only aspect of working at the UW that I absolutely hate.\n",
      "\n",
      "Ive gotten a ticket for parking in an area that I payed for, so that makes no sense. Also the rates for lots are ridiculously expensive, there should be an all day option like E1 that caters to students who have classes across campus from that lot\n",
      "\n",
      "PC: 7\n",
      "\n",
      "top idxs: [212 763 154 208 207 133 808 530 298  30]\n",
      "bottom idxs: [ 52 521 176 255 122 707 124 573 441 620]\n",
      "\n",
      "top verbatims\n",
      "------------\n",
      "No parking, permits are gone quickly. If you have a disability, it is very difficult to get around campus.\n",
      "\n",
      "Please do something more about drivers entering through the N18 exit.\n",
      "\n",
      "I am working professional.  I had to plan out to get a parking permit every quarter.  Any possible option of renewing on either weekend or online?\n",
      "\n",
      "More specifically- if I pay for a spot in a garage I expect there to be a spot for me. Its frustrating when there is an event and the parking is all gone, yet I paid in advance.\n",
      "\n",
      "This is mainly a commuter school and we all have to pay a ridiculous amount a month to buy parking passes and then we have to come early to campus in order to compete for spots.\n",
      "\n",
      "Great customer service and I like how there are options to park full time or part time.\n",
      "\n",
      "Parking services always seem to be misinformed about parking lots that are open/closed/full. I disagree with many of the parking policies and there are often inconsistencies between employees. Also I have had interactions with gate house employees ranging from incredibly rude and frustrating to friendly and pleasant. Never know what to expect.\n",
      "\n",
      "I am a happy (if infrequent) purchaser of ICTs and find the online renewal process to be very easy, once I remember what they are called and how to find them on your site - that sometimes take a few minutes.\n",
      "\n",
      "The frustrating thing about parking services is that the experience depends entirely on who your point of contact is each time. Some are very courteous and helpful, some are not willing to help at all, and sometimes important information is not communicated to the gate staff, who then misinform guests.\n",
      "\n",
      "The cost of parking for parking passes is cost prohibitive, especially for how far away you have to park to go to work.\n",
      "\n",
      "bottom verbatims\n",
      "------------\n",
      "Purchasing parking pass crashing web browser due to so many people accessing it.\n",
      "\n",
      "The new system where guests provide a number is less easy for guests than the previous system. We have also had issues where we were told there would not be enough parking for our event but in reality, there were many spots available.\n",
      "\n",
      "There should be signs for Uber/Lyft saying they don't have to stop at the booth. Drivers are always confused what to do to wait and stop or just go from the side\n",
      "\n",
      "Some classes are 2+hrs, yet all the sidewalk parking has 90 mins limit. This doesnt really work well\n",
      "\n",
      "Most interactions with Parking have been very positive.  Appreciate all the effort they put into help make the change from parking passes to pay-per-use for our lot. So much information was shared and staff were available.  Where I am disappointed is in the event parking.  We have had more than one mishap with arranged parking for our caterers and Parking has not worked with us to resolve the issue.\n",
      "\n",
      "Such lovely people in the office! I have always had a pleasant experience when talking with a member of the team at Parking Services. My only complaint would come from an incident where my wife had parked our car in the temporary spots by Stevens Court to briefly pop back into our apartment. She was confronted by Campus police saying she had committed a violation, they'd taken down her plate number, and that she deserved to be fined. This was early in the morning, around 5 am... campus was dead quiet... It all seemed over the top and it shook her up immensely. We see their vehicle and student vehicles parked in the same spots all the time. Seems a bit hypocritical.\n",
      "\n",
      "I've had a few negative interactions with employees working in the parking booths. My simple request to park near my building has been met with poor attitude. Twice I've been denied parking on what seem to be made-up reasons and made to park far from my building. I only park on campus when it's free or absolutely necessary.\n",
      "\n",
      "It is extremely expensive for students to use it.\n",
      "\n",
      "have more parking available and make it free since we already are paying so much to go here might as well have the parking free\n",
      "\n",
      "I've always been very satisfied with my experience with Parking Services. I think many of the frustrations I have are beyond their control. Long waitlists for parking closer to where I worked (past tense, I now work remotely), and the location of the new office is much harder to access in a car. The old location had visitor parking, which was wonderful when I needed to stop by quickly for parking passes or something. Again, this is certainly not something their office has any control over, but I did miss those visitor spots a lot when they moved to the busy intersection they occupy currently.\n",
      "\n",
      "PC: 8\n",
      "\n",
      "top idxs: [ 64 133 863 198 289 675 920 706 926 901]\n",
      "bottom idxs: [521 212 763 799 154 563 515 516 493 178]\n",
      "\n",
      "top verbatims\n",
      "------------\n",
      "The parking situation is awful.  Meters on the street dont even Allow you enough time to get through a two hour class and the parking pass options are vastly insufficient for the number of students trying to buy them for what is primarily a commuter campus.\n",
      "\n",
      "Great customer service and I like how there are options to park full time or part time.\n",
      "\n",
      "We need more parking spaces at an affordable price.\n",
      "\n",
      "They have failed to send notifications about lot closures in a timely manner. Generally parking services is not responsive to community needs in assigning parking and resolving problems. I have had some very nice employees at the desk try to help me, but it is unclear why solutions are unattainable. Is it management? It must be a management issue.\n",
      "\n",
      "This is a mess. They don't respond to emails and the process of getting a parking pass is labyrinthine. They didn't even have renewals from quarter to quarter, so I lost my spot.\n",
      "\n",
      "There aren't enough handicapped parking spaces. Or parking in general.\n",
      "\n",
      "Very thankful for the options and the quick responses.\n",
      "\n",
      "I've used this team on multiple occasions. They have excellent customer service skills!\n",
      "\n",
      "How to prevent the homeless from staying in the stairwells.\n",
      "\n",
      "Not enough backup provided for staff working in this area. A request for commuter tickets took nearly a month because someone was on vacation.\n",
      "\n",
      "bottom verbatims\n",
      "------------\n",
      "The new system where guests provide a number is less easy for guests than the previous system. We have also had issues where we were told there would not be enough parking for our event but in reality, there were many spots available.\n",
      "\n",
      "No parking, permits are gone quickly. If you have a disability, it is very difficult to get around campus.\n",
      "\n",
      "Please do something more about drivers entering through the N18 exit.\n",
      "\n",
      "Parking service staff not consistent with information.\n",
      "\n",
      "I am working professional.  I had to plan out to get a parking permit every quarter.  Any possible option of renewing on either weekend or online?\n",
      "\n",
      "I think there needs to be more parking pay kiosks available around campus; this would greatly reduce traffic and reduce the time people take to get parked at onto campus to their destination. Currently if I want to park at E18 for example (nice and cheap $6 per day parking), I need to drive all the way up to the parking booth by Padelford to pay, then back to the lot which can take up to 5 minutes total for that whole trip. If there was a kiosk in the lot that would be better. In addition I think the permit pricing doesn't make much sense. It's so high that it's basically the same price as is someone paid for full-day parking every day of the month. What's the point of that? It totally eliminates the incentive to purchase a permit.\n",
      "\n",
      "Parking is extremely expensive on university campus. The university, especially the law school department should invest in creating its own parking lot so that law students can have adequate places to park their vehicle without having to worry about getting a parking ticket. When I used to commute to campus, I struggled to find parking spaces. I used to park on the lower campus, which is quite a distance from my class. It is also a safety concern for me when walking to my vehicle after my late night class.\n",
      "\n",
      "Parking services continues to change its policies regarding parking passes and options.   It is unclear what the current policy is regarding out of area parking after 5:00pm, when it used to be OK.  The policy regarding out of area for spaces near Paccar Hall has no flexiblity, which can be a real pain when we have things to bring into or out of the building.   The front gatehouse staff were pretty nasty regarding my request for out of area when I had a bunch of items to bring into Paccar.   \\r\\n\\r\\nThe elevators in the Central parking garage were out of order off and on for a long period of time earlier this year.   The spaces for \"compact cars only\" on P5 are ineffective - hard to park into them and often times larger cars are parked in them, making adjacent spaces unusable.  They should be converted back to normal sized and angled spaces, and be more utilized.  They are always the last to fill up.\n",
      "\n",
      "Its absolutely ridiculous that the parking is sold out daily - even when there are many spot left. As a student who HAS to drive for my work before and after classes, this has been a MAJOR impediment to me being in class on time and sometimes has resulted in missing class altogether. The parking should be sold only to students, faculty, and staff, rather than being offered to the public at large (inconveniencing students). The price is also outrageous. There is no way that I could afford the parking pass on a quarterly basis which would allow me to park every day without buying a daily pass. The parking staff are often rude (especially the 50-60 year old woman with reddish hair). The university shows once again that it is not committed to its students but instead to how much money it can make off of us and the community. Its abhorrent.\n",
      "\n",
      "I find it very unfair to anyone who needs to park on campus for a meeting or appointment, to have to pay for a full hour when it is not needed. For example, I have meetings on campus often for 1.5 hours, but I have to pay for 2 hours. This needs to change!\\r\\nAnother complaint I have is if I find out upon my arrival at a faculty's office that they forgot to notify me beforehand that the meeting time has changed. (fortunately this doesn't happen too often), I cannot get a refund for what I pay for parking. I work off campus, and I have a disability placard, so I drive to my meetings.and request the disability parking.\n",
      "\n",
      "PC: 9\n",
      "\n",
      "top idxs: [521 212 133 382 367 596 169 572 684 402]\n",
      "bottom idxs: [ 64 675 373 154 160 208 834 396 733 900]\n",
      "\n",
      "top verbatims\n",
      "------------\n",
      "The new system where guests provide a number is less easy for guests than the previous system. We have also had issues where we were told there would not be enough parking for our event but in reality, there were many spots available.\n",
      "\n",
      "No parking, permits are gone quickly. If you have a disability, it is very difficult to get around campus.\n",
      "\n",
      "Great customer service and I like how there are options to park full time or part time.\n",
      "\n",
      "There is simply not enough parking, unless I want to pay a ridiculous amount of money when I am already paying for tuition as is.\n",
      "\n",
      "You make money hand over fist at this university and you charge TWICE as much as you should. Shame on you.\n",
      "\n",
      "The parking office is in the most inaccessible location. I was on crutches and couldn't find a place to park within two blocks. There was zero handicapped parking spots and all the closest spots were taken by UW parking cars.\n",
      "\n",
      "As someone who pays for an on campus parking permit, I feel like the quarterly renewal process could be made much easier. The link to the renewal online survey should be accessible through the Parking Services website and not just through an email which is easily lost or filtered.\n",
      "\n",
      "SLU garage 750 parking has allocated much of the prime parking in a very cramped parking garage for a clinic that isn't even open yet....\n",
      "\n",
      "Need to sort out compensation between parking at HMC and UW.  If one pays for parking at one place, you should not have to pay at another.  Period. For people who travel between venues frequently paying for parkijng twice while conducting business for the UW is unfair.  Asking inidviduals is get compensation from the departments is time consuming, annoying and inefficient\\r\\n\\r\\nA parking pass at HMC needs to work at UWMC!!\n",
      "\n",
      "Tried to use the parking online service right when it opened, and the website completed bugged out for me. Was unable to purchase the parking ticket I needed for the quarter as it had sold out while I was experience website bugs.\n",
      "\n",
      "bottom verbatims\n",
      "------------\n",
      "The parking situation is awful.  Meters on the street dont even Allow you enough time to get through a two hour class and the parking pass options are vastly insufficient for the number of students trying to buy them for what is primarily a commuter campus.\n",
      "\n",
      "There aren't enough handicapped parking spaces. Or parking in general.\n",
      "\n",
      "People at the parking gate have provided information that has led to me getting tickets.\n",
      "\n",
      "I am working professional.  I had to plan out to get a parking permit every quarter.  Any possible option of renewing on either weekend or online?\n",
      "\n",
      "When I needed a temporary disability parking permit I was required to go to the parking office when I could not walk.  I was told that someone could do this for me but I didn't have anyone to assist. There should be an alternative to coming to the parking office. It is difficult to park close by which is a problem when one is not mobile.\n",
      "\n",
      "More specifically- if I pay for a spot in a garage I expect there to be a spot for me. Its frustrating when there is an event and the parking is all gone, yet I paid in advance.\n",
      "\n",
      "Really hard to figure out where to park based on the website, as well as what my parking rate will be and if I, as a grad student, have other options for where to park and how much to pay.\n",
      "\n",
      "Faculty pay a high price to park on campus, at times we have to use out of area. I'll head over to central campus parking to park in the C lot, and it will be full. The staff won't allow an out of area. I think you should reserve 20 or 30 slots for out of area only, I never know if I will make it to my meeting on campus because of the parking --it's difficult for me to walk and the other lots are very far away. The booth staff there are also very RUDE, I\"ll see cars leaving and they still give no preference to an out of area request. The just say no in a rude, abrupt manner. Now I have to leave 20 minutes earlier than necessary because of out of area parking limits.\n",
      "\n",
      "I wasnt informed the more people that carpool reduce the rate more until the last Friday course. Every class we carpooled with three or four students and only got the discount for one.\n",
      "\n",
      "too many windows to jump through to purchase a parking pass. Even if you buy a pass this won't guarantee you will even find a spot within that assigned lot.\n",
      "\n",
      "PC: 10\n",
      "\n",
      "top idxs: [289 738 545 930 157 332 674 638 188 352]\n",
      "bottom idxs: [521 212  52  78 154 792 895 115 838 751]\n",
      "\n",
      "top verbatims\n",
      "------------\n",
      "This is a mess. They don't respond to emails and the process of getting a parking pass is labyrinthine. They didn't even have renewals from quarter to quarter, so I lost my spot.\n",
      "\n",
      "S1 parking space is in a severe shortage.  Many full time faculty members in Health sciences couldn't get a spot and had to park in distance.\n",
      "\n",
      "The parking services staff are always helpful and courteous.  My biggest critique is that there is no way to purchase a Saturday morning parking pass in advance.  I regularly taking sailing classes and workshops through the UW's sailing club and we sometimes have to leave the dock before the 7am opening of the parking service booths.  Because of this, I am forced to purchase parking from the meter (in E19) which charges $3 an hour instead of being able to buy a parking pass.  This means that for a Saturday morning there is a difference between a $5 pass and $15 in metered parking.  It seems silly that there isn't a way to purchase a Saturday morning pass in advance, particularly as the reason I am parking there is for a UW related activity.  This seems like it could be an easy fix and is needlessly restrictive, but I have had no luck finding someone who has the authority to address this concern.\n",
      "\n",
      "This is a commuter university campus.  There is not enough parking for the student population that is attending this campus. It is extremely difficult to  fight citations because no one ever gets back to you. I have spent two days trying to get a hold of somebody to help fight a violation that I wrongfully received. It is ridiculous and something needs to be done about parking at UWT.I know plenty of high school students who are not attending you Deb T specifically for the lock in parking and no I know plenty of high school students who are not attending you UWT specifically for the lock and parking.  I understand the move to go environmentally friendly but forcing people to carpool when their lives, the lives of college students working multiple jobs and attending school full-time plus children, is unrealistic and is unfair.\n",
      "\n",
      "Parking is so difficult here and constantly paying to park to go to school is ridiculous. everyone here is already poor so these absurd fines and fees are proving the criminalization of poverty\n",
      "\n",
      "There should be something online stating that those with handicap permits can park for free and outline on a map where those spots are for free.\n",
      "\n",
      "The parking situation in N4 and N5 is very confusing.\n",
      "\n",
      "Commuter lot is too far\n",
      "\n",
      "When I got a ticket for parking in the wrong place (I thought that my permit would allow me to be out of area at that time), Parking Services resolved the problem quickly and courteously.\\r\\nNow that we have a Link stop at Husky Stadium, I find I more often want to park out of area to hop on the train (generally evenings and weekends)--so I'd like to see better signage about where it's OK.\n",
      "\n",
      "As a UW Employee, I have to park two miles away from work every day due to the fact that parking for UW employees is minimal and extremely over priced. I have attempted to ride the LINK light rail but that is also roughly $60-$70 every two weeks (this is as much as three weeks worth of gasoline for my vehicle). It would be nice for there to be some type of compromise for employees who park their vehicles in the garage or discounted ORCA cards available to UW employees. Anything that could prevent me from having to walk through dark and unsafe trails on my way to work every morning would be fantastic. Thank you for listening.\n",
      "\n",
      "bottom verbatims\n",
      "------------\n",
      "The new system where guests provide a number is less easy for guests than the previous system. We have also had issues where we were told there would not be enough parking for our event but in reality, there were many spots available.\n",
      "\n",
      "No parking, permits are gone quickly. If you have a disability, it is very difficult to get around campus.\n",
      "\n",
      "Purchasing parking pass crashing web browser due to so many people accessing it.\n",
      "\n",
      "Parking services In unresponsive, unclear, and quick to handout tickets. You shouldnt take students and student teachers like my self over the coals for needing to park on campus some days. Moreover, when citations are handed out response time is terrible and they possess difficulty conveying policies.\n",
      "\n",
      "I am working professional.  I had to plan out to get a parking permit every quarter.  Any possible option of renewing on either weekend or online?\n",
      "\n",
      "The staff with Parking Services are consistently professional and helpful. I just wish that the facilities in the Central Parking Garage (e.g., elevator maintenance) were at the same level.\n",
      "\n",
      "Staff always answers phone and questions quickly and efficiently. Parking services flexibility with parking tickets for students who have purchased a pass but may have forgotten it one day or messed up one way or another is appreciated.\\r\\n\\r\\nMy biggest complaint is parking on game days. There is no standard alternate parking that parking services employees seem to agree upon. Alternatives should be made more clear to staff so they know where to direct me if I need to park my car somewhere other than E18 the night before those game days or the very early morning before those game day.\n",
      "\n",
      "Please provide permit to student at the central parking garage. Its not reasonable if students have to arrive before nine to get a parking permit just for the central garage\n",
      "\n",
      "I mentioned this in the commute options section - I'm a UW-funded postdoc, but my research occurs at Hutch so my office is there. It would be great to add a shuttle stop from Hutch to E18 to improve access to affordable parking options and safety to/from E18 parking and Hutch.\n",
      "\n",
      "They need to update their camera when taking parking violation pictures or teach their staff how to take valid pictures.  This would save a whole lot of time and money.\n",
      "\n"
     ]
    }
   ],
   "source": [
    "pcs= q_tsne_vecs.T\n",
    "pcs.shape\n",
    "\n",
    "for idx, pc in enumerate(pcs):\n",
    "    print(f'PC: {idx+1}\\n')\n",
    "    \n",
    "    top_idxs, bottom_idxs = pc.argsort()[::-1][:10], pc.argsort()[:10]\n",
    "    print(f'top idxs: {top_idxs[:10]}')\n",
    "    print(f'bottom idxs: {bottom_idxs[:10]}\\n')\n",
    "    \n",
    "    print('top verbatims\\n------------')\n",
    "    [ print(ans + '\\n') for ans in list(q_df.iloc[top_idxs].AnswerText.values) ]\n",
    "    \n",
    "    print('bottom verbatims\\n------------')\n",
    "    [ print(ans + '\\n') for ans in list(q_df.iloc[bottom_idxs].AnswerText.values) ]"
   ]
  },
  {
   "cell_type": "markdown",
   "metadata": {
    "heading_collapsed": true
   },
   "source": [
    "## Clustering via test dataset"
   ]
  },
  {
   "cell_type": "code",
   "execution_count": 69,
   "metadata": {
    "hidden": true
   },
   "outputs": [],
   "source": [
    "test_df = pd.read_csv(CLS_PATH/f'all_predictions_20190522.csv', dtype=dtypes, parse_dates=date_cols)\n",
    "\n",
    "# prepare dataset\n",
    "test_df = pd.read_csv(f'../data/clean/{verbatims_filename}', dtype=dtypes, parse_dates=date_cols)\n",
    "test_df_filtered = test_df[test_df.SurveyID == 199].copy()\n",
    "test_df_filtered.reset_index(drop=True, inplace=True)\n",
    "\n",
    "test_df_filtered['labels'] = ''"
   ]
  },
  {
   "cell_type": "code",
   "execution_count": 70,
   "metadata": {
    "hidden": true
   },
   "outputs": [],
   "source": [
    "test_data = (TextList\n",
    "             .from_df(test_df_filtered, cols=['AnswerText'], processor=learn.data.processor)\n",
    "             .split_none()\n",
    "             .label_from_df(cols='labels', classes=LABELS_SENT[1:], label_delim=' ')\n",
    "#              .process()\n",
    "            )"
   ]
  },
  {
   "cell_type": "code",
   "execution_count": 71,
   "metadata": {
    "hidden": true
   },
   "outputs": [],
   "source": [
    "# build a DataLoader => fastai.basic_data.DeviceDataLoader\n",
    "test_dl = DeviceDataLoader.create(test_data.train, bs=80, shuffle=False, collate_fn=pad_collate, device=device)"
   ]
  },
  {
   "cell_type": "code",
   "execution_count": 72,
   "metadata": {
    "hidden": true
   },
   "outputs": [
    {
     "name": "stderr",
     "output_type": "stream",
     "text": [
      "/home/wgilliam/anaconda3/envs/tritonlytics-ml/lib/python3.7/site-packages/torch/serialization.py:256: UserWarning: Couldn't retrieve source code for container of type MultiLabelClassifier. It won't be checked for correctness upon loading.\n",
      "  \"type \" + obj.__name__ + \". It won't be checked \"\n"
     ]
    }
   ],
   "source": [
    "learn = None; gc.collect()\n",
    "learn = load_learner(CLS_PATH, file='export_clas.pkl').load('fwd_cls_bestmodel_multilabel')\n",
    "learn.model = learn.model.to(device)\n",
    "learn.model = learn.model.eval()"
   ]
  },
  {
   "cell_type": "code",
   "execution_count": 73,
   "metadata": {
    "hidden": true
   },
   "outputs": [
    {
     "name": "stdout",
     "output_type": "stream",
     "text": [
      "0\n",
      "CPU times: user 6min 23s, sys: 32.7 s, total: 6min 56s\n",
      "Wall time: 1min 11s\n"
     ]
    }
   ],
   "source": [
    "%%time\n",
    "\n",
    "test_probs, doc_vecs, concat_doc_vecs = [], [], []\n",
    "\n",
    "with torch.no_grad():\n",
    "    for i,b in enumerate(iter(test_dl)):\n",
    "        if i % 1000 == 0: print(i)\n",
    "            \n",
    "        # reset hidden state (if you don't do this you will OOM)\n",
    "        learn.model.reset()\n",
    "        \n",
    "        probs, raw_outputs, outputs = to_detach(learn.model(b[0]))\n",
    "        test_probs.append(probs)\n",
    "        doc_vecs.append(raw_outputs[-1][:,-1,:])\n",
    "        concat_doc_vecs.append(concat_pool(raw_outputs))\n",
    "        \n",
    "all_probs = torch.cat(test_probs)\n",
    "all_vecs = torch.cat(doc_vecs)\n",
    "all_concat_vecs = torch.cat(concat_doc_vecs)"
   ]
  },
  {
   "cell_type": "code",
   "execution_count": 74,
   "metadata": {
    "hidden": true
   },
   "outputs": [
    {
     "data": {
      "text/plain": [
       "(torch.Size([21360, 8]), torch.Size([21360, 400]), torch.Size([21360, 1200]))"
      ]
     },
     "execution_count": 74,
     "metadata": {},
     "output_type": "execute_result"
    }
   ],
   "source": [
    "all_probs.shape, all_vecs.shape, all_concat_vecs.shape"
   ]
  },
  {
   "cell_type": "code",
   "execution_count": 75,
   "metadata": {
    "hidden": true
   },
   "outputs": [
    {
     "data": {
      "text/html": [
       "<div>\n",
       "<style scoped>\n",
       "    .dataframe tbody tr th:only-of-type {\n",
       "        vertical-align: middle;\n",
       "    }\n",
       "\n",
       "    .dataframe tbody tr th {\n",
       "        vertical-align: top;\n",
       "    }\n",
       "\n",
       "    .dataframe thead th {\n",
       "        text-align: right;\n",
       "    }\n",
       "</style>\n",
       "<table border=\"1\" class=\"dataframe\">\n",
       "  <thead>\n",
       "    <tr style=\"text-align: right;\">\n",
       "      <th></th>\n",
       "      <th>Id</th>\n",
       "      <th>SurveyID</th>\n",
       "      <th>QuestionAnsID</th>\n",
       "      <th>RspID</th>\n",
       "      <th>QuestionCategoryID</th>\n",
       "      <th>GroupID</th>\n",
       "      <th>AnswerText</th>\n",
       "      <th>AnswerText_NonEnglish</th>\n",
       "      <th>Language</th>\n",
       "      <th>SurveyTypeID</th>\n",
       "      <th>BenchmarkSurveyType</th>\n",
       "      <th>ClientId</th>\n",
       "      <th>QuestionReportAbbr</th>\n",
       "      <th>QuestionClass</th>\n",
       "      <th>QuestionText</th>\n",
       "      <th>QuestionCategoryAbbr</th>\n",
       "      <th>QuestionCategoryLabel</th>\n",
       "      <th>BenchmarkLevel1</th>\n",
       "      <th>BenchmarkLevel2</th>\n",
       "      <th>BenchmarkLevel3</th>\n",
       "      <th>ClientBenchmarkLevel</th>\n",
       "      <th>GroupCode</th>\n",
       "      <th>GroupName</th>\n",
       "      <th>GroupLevel1Code</th>\n",
       "      <th>GroupLevel1Name</th>\n",
       "      <th>GroupLevel2Code</th>\n",
       "      <th>GroupLevel2Name</th>\n",
       "      <th>GroupLevel3Code</th>\n",
       "      <th>GroupLevel3Name</th>\n",
       "      <th>GroupLevel4Code</th>\n",
       "      <th>GroupLevel4Name</th>\n",
       "      <th>GroupLevel5Code</th>\n",
       "      <th>GroupLevel5Name</th>\n",
       "      <th>GroupLevel6Code</th>\n",
       "      <th>GroupLevel6Name</th>\n",
       "      <th>GroupLevel7Code</th>\n",
       "      <th>GroupLevel7Name</th>\n",
       "      <th>GroupLevel8Code</th>\n",
       "      <th>GroupLevel8Name</th>\n",
       "      <th>OverallSentiment</th>\n",
       "      <th>IsVeryPositive</th>\n",
       "      <th>IsPositive</th>\n",
       "      <th>IsVeryNegative</th>\n",
       "      <th>IsNegative</th>\n",
       "      <th>IsSuggestion</th>\n",
       "      <th>FeelsThreatened</th>\n",
       "      <th>HasProfanity</th>\n",
       "      <th>IsNonsense</th>\n",
       "      <th>TagCount</th>\n",
       "      <th>LastTaggedOn</th>\n",
       "      <th>labels</th>\n",
       "    </tr>\n",
       "  </thead>\n",
       "  <tbody>\n",
       "    <tr>\n",
       "      <th>0</th>\n",
       "      <td>424934</td>\n",
       "      <td>199</td>\n",
       "      <td>27977</td>\n",
       "      <td>384580</td>\n",
       "      <td>361.0</td>\n",
       "      <td>-1</td>\n",
       "      <td>Unfortunately, I don't find the academic coaching helpful.  Even though the issues are outlined ...</td>\n",
       "      <td>NaN</td>\n",
       "      <td>English</td>\n",
       "      <td>24</td>\n",
       "      <td>CSS</td>\n",
       "      <td>UW</td>\n",
       "      <td>HousingDisabilities_Experience</td>\n",
       "      <td>Verbatim-Dept-Question</td>\n",
       "      <td>Is there anything else we should know about your experience with Disability Resources for Students?</td>\n",
       "      <td>Acad Housing Students w Disabilities</td>\n",
       "      <td>Academic &amp; Housing Accommodations for Students with Disabilities</td>\n",
       "      <td>Student</td>\n",
       "      <td>Student Life</td>\n",
       "      <td>Student Activities</td>\n",
       "      <td>1</td>\n",
       "      <td>-1.0</td>\n",
       "      <td>None</td>\n",
       "      <td>-1.0</td>\n",
       "      <td>None</td>\n",
       "      <td>NaN</td>\n",
       "      <td>NaN</td>\n",
       "      <td>NaN</td>\n",
       "      <td>NaN</td>\n",
       "      <td>NaN</td>\n",
       "      <td>NaN</td>\n",
       "      <td>NaN</td>\n",
       "      <td>NaN</td>\n",
       "      <td>NaN</td>\n",
       "      <td>NaN</td>\n",
       "      <td>NaN</td>\n",
       "      <td>NaN</td>\n",
       "      <td>NaN</td>\n",
       "      <td>NaN</td>\n",
       "      <td>3</td>\n",
       "      <td>0</td>\n",
       "      <td>0</td>\n",
       "      <td>0</td>\n",
       "      <td>0</td>\n",
       "      <td>0</td>\n",
       "      <td>0</td>\n",
       "      <td>0</td>\n",
       "      <td>0</td>\n",
       "      <td>0</td>\n",
       "      <td>NaT</td>\n",
       "      <td></td>\n",
       "    </tr>\n",
       "    <tr>\n",
       "      <th>1</th>\n",
       "      <td>424936</td>\n",
       "      <td>199</td>\n",
       "      <td>27977</td>\n",
       "      <td>384822</td>\n",
       "      <td>361.0</td>\n",
       "      <td>-1</td>\n",
       "      <td>Its apparent that theyre understaffed.</td>\n",
       "      <td>NaN</td>\n",
       "      <td>English</td>\n",
       "      <td>24</td>\n",
       "      <td>CSS</td>\n",
       "      <td>UW</td>\n",
       "      <td>HousingDisabilities_Experience</td>\n",
       "      <td>Verbatim-Dept-Question</td>\n",
       "      <td>Is there anything else we should know about your experience with Disability Resources for Students?</td>\n",
       "      <td>Acad Housing Students w Disabilities</td>\n",
       "      <td>Academic &amp; Housing Accommodations for Students with Disabilities</td>\n",
       "      <td>Student</td>\n",
       "      <td>Student Life</td>\n",
       "      <td>Student Activities</td>\n",
       "      <td>1</td>\n",
       "      <td>-1.0</td>\n",
       "      <td>None</td>\n",
       "      <td>-1.0</td>\n",
       "      <td>None</td>\n",
       "      <td>NaN</td>\n",
       "      <td>NaN</td>\n",
       "      <td>NaN</td>\n",
       "      <td>NaN</td>\n",
       "      <td>NaN</td>\n",
       "      <td>NaN</td>\n",
       "      <td>NaN</td>\n",
       "      <td>NaN</td>\n",
       "      <td>NaN</td>\n",
       "      <td>NaN</td>\n",
       "      <td>NaN</td>\n",
       "      <td>NaN</td>\n",
       "      <td>NaN</td>\n",
       "      <td>NaN</td>\n",
       "      <td>3</td>\n",
       "      <td>0</td>\n",
       "      <td>0</td>\n",
       "      <td>0</td>\n",
       "      <td>0</td>\n",
       "      <td>0</td>\n",
       "      <td>0</td>\n",
       "      <td>0</td>\n",
       "      <td>0</td>\n",
       "      <td>0</td>\n",
       "      <td>NaT</td>\n",
       "      <td></td>\n",
       "    </tr>\n",
       "    <tr>\n",
       "      <th>2</th>\n",
       "      <td>424941</td>\n",
       "      <td>199</td>\n",
       "      <td>27977</td>\n",
       "      <td>385064</td>\n",
       "      <td>361.0</td>\n",
       "      <td>-1</td>\n",
       "      <td>They don't have a lot of power over anything in the University. The little they're allowed to do...</td>\n",
       "      <td>NaN</td>\n",
       "      <td>English</td>\n",
       "      <td>24</td>\n",
       "      <td>CSS</td>\n",
       "      <td>UW</td>\n",
       "      <td>HousingDisabilities_Experience</td>\n",
       "      <td>Verbatim-Dept-Question</td>\n",
       "      <td>Is there anything else we should know about your experience with Disability Resources for Students?</td>\n",
       "      <td>Acad Housing Students w Disabilities</td>\n",
       "      <td>Academic &amp; Housing Accommodations for Students with Disabilities</td>\n",
       "      <td>Student</td>\n",
       "      <td>Student Life</td>\n",
       "      <td>Student Activities</td>\n",
       "      <td>1</td>\n",
       "      <td>-1.0</td>\n",
       "      <td>None</td>\n",
       "      <td>-1.0</td>\n",
       "      <td>None</td>\n",
       "      <td>NaN</td>\n",
       "      <td>NaN</td>\n",
       "      <td>NaN</td>\n",
       "      <td>NaN</td>\n",
       "      <td>NaN</td>\n",
       "      <td>NaN</td>\n",
       "      <td>NaN</td>\n",
       "      <td>NaN</td>\n",
       "      <td>NaN</td>\n",
       "      <td>NaN</td>\n",
       "      <td>NaN</td>\n",
       "      <td>NaN</td>\n",
       "      <td>NaN</td>\n",
       "      <td>NaN</td>\n",
       "      <td>3</td>\n",
       "      <td>0</td>\n",
       "      <td>0</td>\n",
       "      <td>0</td>\n",
       "      <td>0</td>\n",
       "      <td>0</td>\n",
       "      <td>0</td>\n",
       "      <td>0</td>\n",
       "      <td>0</td>\n",
       "      <td>0</td>\n",
       "      <td>NaT</td>\n",
       "      <td></td>\n",
       "    </tr>\n",
       "    <tr>\n",
       "      <th>3</th>\n",
       "      <td>424943</td>\n",
       "      <td>199</td>\n",
       "      <td>27977</td>\n",
       "      <td>385404</td>\n",
       "      <td>361.0</td>\n",
       "      <td>-1</td>\n",
       "      <td>I felt largely confused by the office, was misled several times, treated extremely rudely, and o...</td>\n",
       "      <td>NaN</td>\n",
       "      <td>English</td>\n",
       "      <td>24</td>\n",
       "      <td>CSS</td>\n",
       "      <td>UW</td>\n",
       "      <td>HousingDisabilities_Experience</td>\n",
       "      <td>Verbatim-Dept-Question</td>\n",
       "      <td>Is there anything else we should know about your experience with Disability Resources for Students?</td>\n",
       "      <td>Acad Housing Students w Disabilities</td>\n",
       "      <td>Academic &amp; Housing Accommodations for Students with Disabilities</td>\n",
       "      <td>Student</td>\n",
       "      <td>Student Life</td>\n",
       "      <td>Student Activities</td>\n",
       "      <td>1</td>\n",
       "      <td>-1.0</td>\n",
       "      <td>None</td>\n",
       "      <td>-1.0</td>\n",
       "      <td>None</td>\n",
       "      <td>NaN</td>\n",
       "      <td>NaN</td>\n",
       "      <td>NaN</td>\n",
       "      <td>NaN</td>\n",
       "      <td>NaN</td>\n",
       "      <td>NaN</td>\n",
       "      <td>NaN</td>\n",
       "      <td>NaN</td>\n",
       "      <td>NaN</td>\n",
       "      <td>NaN</td>\n",
       "      <td>NaN</td>\n",
       "      <td>NaN</td>\n",
       "      <td>NaN</td>\n",
       "      <td>NaN</td>\n",
       "      <td>3</td>\n",
       "      <td>0</td>\n",
       "      <td>0</td>\n",
       "      <td>0</td>\n",
       "      <td>0</td>\n",
       "      <td>0</td>\n",
       "      <td>0</td>\n",
       "      <td>0</td>\n",
       "      <td>0</td>\n",
       "      <td>0</td>\n",
       "      <td>NaT</td>\n",
       "      <td></td>\n",
       "    </tr>\n",
       "    <tr>\n",
       "      <th>4</th>\n",
       "      <td>424945</td>\n",
       "      <td>199</td>\n",
       "      <td>27977</td>\n",
       "      <td>385698</td>\n",
       "      <td>361.0</td>\n",
       "      <td>-1</td>\n",
       "      <td>Testing center staff is always really helpful and respectful.</td>\n",
       "      <td>NaN</td>\n",
       "      <td>English</td>\n",
       "      <td>24</td>\n",
       "      <td>CSS</td>\n",
       "      <td>UW</td>\n",
       "      <td>HousingDisabilities_Experience</td>\n",
       "      <td>Verbatim-Dept-Question</td>\n",
       "      <td>Is there anything else we should know about your experience with Disability Resources for Students?</td>\n",
       "      <td>Acad Housing Students w Disabilities</td>\n",
       "      <td>Academic &amp; Housing Accommodations for Students with Disabilities</td>\n",
       "      <td>Student</td>\n",
       "      <td>Student Life</td>\n",
       "      <td>Student Activities</td>\n",
       "      <td>1</td>\n",
       "      <td>-1.0</td>\n",
       "      <td>None</td>\n",
       "      <td>-1.0</td>\n",
       "      <td>None</td>\n",
       "      <td>NaN</td>\n",
       "      <td>NaN</td>\n",
       "      <td>NaN</td>\n",
       "      <td>NaN</td>\n",
       "      <td>NaN</td>\n",
       "      <td>NaN</td>\n",
       "      <td>NaN</td>\n",
       "      <td>NaN</td>\n",
       "      <td>NaN</td>\n",
       "      <td>NaN</td>\n",
       "      <td>NaN</td>\n",
       "      <td>NaN</td>\n",
       "      <td>NaN</td>\n",
       "      <td>NaN</td>\n",
       "      <td>3</td>\n",
       "      <td>0</td>\n",
       "      <td>0</td>\n",
       "      <td>0</td>\n",
       "      <td>0</td>\n",
       "      <td>0</td>\n",
       "      <td>0</td>\n",
       "      <td>0</td>\n",
       "      <td>0</td>\n",
       "      <td>0</td>\n",
       "      <td>NaT</td>\n",
       "      <td></td>\n",
       "    </tr>\n",
       "  </tbody>\n",
       "</table>\n",
       "</div>"
      ],
      "text/plain": [
       "       Id  SurveyID  QuestionAnsID   RspID  QuestionCategoryID  GroupID                                                                                           AnswerText AnswerText_NonEnglish Language  SurveyTypeID BenchmarkSurveyType ClientId              QuestionReportAbbr           QuestionClass                                                                                         QuestionText                  QuestionCategoryAbbr                                             QuestionCategoryLabel BenchmarkLevel1 BenchmarkLevel2     BenchmarkLevel3 ClientBenchmarkLevel  GroupCode GroupName  GroupLevel1Code GroupLevel1Name  GroupLevel2Code GroupLevel2Name  GroupLevel3Code GroupLevel3Name  GroupLevel4Code GroupLevel4Name  GroupLevel5Code GroupLevel5Name  GroupLevel6Code GroupLevel6Name  GroupLevel7Code GroupLevel7Name  GroupLevel8Code GroupLevel8Name  OverallSentiment  IsVeryPositive  IsPositive  IsVeryNegative  IsNegative  IsSuggestion  FeelsThreatened  HasProfanity  IsNonsense  \\\n",
       "0  424934       199          27977  384580               361.0       -1  Unfortunately, I don't find the academic coaching helpful.  Even though the issues are outlined ...                   NaN  English            24                 CSS       UW  HousingDisabilities_Experience  Verbatim-Dept-Question  Is there anything else we should know about your experience with Disability Resources for Students?  Acad Housing Students w Disabilities  Academic & Housing Accommodations for Students with Disabilities         Student    Student Life  Student Activities                    1       -1.0      None             -1.0            None              NaN             NaN              NaN             NaN              NaN             NaN              NaN             NaN              NaN             NaN              NaN             NaN              NaN             NaN                 3               0           0               0           0             0                0             0           0   \n",
       "1  424936       199          27977  384822               361.0       -1                                                               Its apparent that theyre understaffed.                   NaN  English            24                 CSS       UW  HousingDisabilities_Experience  Verbatim-Dept-Question  Is there anything else we should know about your experience with Disability Resources for Students?  Acad Housing Students w Disabilities  Academic & Housing Accommodations for Students with Disabilities         Student    Student Life  Student Activities                    1       -1.0      None             -1.0            None              NaN             NaN              NaN             NaN              NaN             NaN              NaN             NaN              NaN             NaN              NaN             NaN              NaN             NaN                 3               0           0               0           0             0                0             0           0   \n",
       "2  424941       199          27977  385064               361.0       -1  They don't have a lot of power over anything in the University. The little they're allowed to do...                   NaN  English            24                 CSS       UW  HousingDisabilities_Experience  Verbatim-Dept-Question  Is there anything else we should know about your experience with Disability Resources for Students?  Acad Housing Students w Disabilities  Academic & Housing Accommodations for Students with Disabilities         Student    Student Life  Student Activities                    1       -1.0      None             -1.0            None              NaN             NaN              NaN             NaN              NaN             NaN              NaN             NaN              NaN             NaN              NaN             NaN              NaN             NaN                 3               0           0               0           0             0                0             0           0   \n",
       "3  424943       199          27977  385404               361.0       -1  I felt largely confused by the office, was misled several times, treated extremely rudely, and o...                   NaN  English            24                 CSS       UW  HousingDisabilities_Experience  Verbatim-Dept-Question  Is there anything else we should know about your experience with Disability Resources for Students?  Acad Housing Students w Disabilities  Academic & Housing Accommodations for Students with Disabilities         Student    Student Life  Student Activities                    1       -1.0      None             -1.0            None              NaN             NaN              NaN             NaN              NaN             NaN              NaN             NaN              NaN             NaN              NaN             NaN              NaN             NaN                 3               0           0               0           0             0                0             0           0   \n",
       "4  424945       199          27977  385698               361.0       -1                                        Testing center staff is always really helpful and respectful.                   NaN  English            24                 CSS       UW  HousingDisabilities_Experience  Verbatim-Dept-Question  Is there anything else we should know about your experience with Disability Resources for Students?  Acad Housing Students w Disabilities  Academic & Housing Accommodations for Students with Disabilities         Student    Student Life  Student Activities                    1       -1.0      None             -1.0            None              NaN             NaN              NaN             NaN              NaN             NaN              NaN             NaN              NaN             NaN              NaN             NaN              NaN             NaN                 3               0           0               0           0             0                0             0           0   \n",
       "\n",
       "   TagCount LastTaggedOn labels  \n",
       "0         0          NaT         \n",
       "1         0          NaT         \n",
       "2         0          NaT         \n",
       "3         0          NaT         \n",
       "4         0          NaT         "
      ]
     },
     "execution_count": 75,
     "metadata": {},
     "output_type": "execute_result"
    }
   ],
   "source": [
    "test_df_filtered.head()"
   ]
  },
  {
   "cell_type": "code",
   "execution_count": 76,
   "metadata": {
    "hidden": true
   },
   "outputs": [
    {
     "data": {
      "text/plain": [
       "array([[6.145311e-04, 1.804924e-01, 2.623472e-02, 7.295148e-01, 4.416472e-02, 7.668567e-04, 8.197485e-04,\n",
       "        2.655916e-02],\n",
       "       [2.850520e-04, 7.916389e-02, 1.990854e-02, 7.931570e-01, 7.734378e-03, 5.966546e-04, 4.138617e-04,\n",
       "        5.213697e-02],\n",
       "       [8.186911e-05, 8.098610e-02, 5.137621e-02, 9.363937e-01, 1.378011e-02, 1.404198e-03, 2.203869e-03,\n",
       "        3.653332e-03],\n",
       "       [5.775928e-04, 2.478627e-03, 3.887125e-01, 9.938024e-01, 2.150196e-03, 5.250870e-01, 2.070175e-04,\n",
       "        1.647093e-03],\n",
       "       [6.098409e-01, 9.776468e-01, 9.124706e-03, 4.855023e-03, 1.970284e-03, 3.619016e-03, 4.822638e-03,\n",
       "        2.852986e-02]], dtype=float32)"
      ]
     },
     "execution_count": 76,
     "metadata": {},
     "output_type": "execute_result"
    }
   ],
   "source": [
    "to_np(all_probs[:5])"
   ]
  },
  {
   "cell_type": "code",
   "execution_count": null,
   "metadata": {
    "hidden": true
   },
   "outputs": [],
   "source": []
  }
 ],
 "metadata": {
  "kernelspec": {
   "display_name": "Python 3",
   "language": "python",
   "name": "python3"
  },
  "language_info": {
   "codemirror_mode": {
    "name": "ipython",
    "version": 3
   },
   "file_extension": ".py",
   "mimetype": "text/x-python",
   "name": "python",
   "nbconvert_exporter": "python",
   "pygments_lexer": "ipython3",
   "version": "3.7.6"
  },
  "varInspector": {
   "cols": {
    "lenName": 16,
    "lenType": 16,
    "lenVar": 40
   },
   "kernels_config": {
    "python": {
     "delete_cmd_postfix": "",
     "delete_cmd_prefix": "del ",
     "library": "var_list.py",
     "varRefreshCmd": "print(var_dic_list())"
    },
    "r": {
     "delete_cmd_postfix": ") ",
     "delete_cmd_prefix": "rm(",
     "library": "var_list.r",
     "varRefreshCmd": "cat(var_dic_list()) "
    }
   },
   "types_to_exclude": [
    "module",
    "function",
    "builtin_function_or_method",
    "instance",
    "_Feature"
   ],
   "window_display": false
  }
 },
 "nbformat": 4,
 "nbformat_minor": 2
}
