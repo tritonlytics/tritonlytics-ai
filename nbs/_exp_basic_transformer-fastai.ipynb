{
 "cells": [
  {
   "cell_type": "code",
   "execution_count": 9,
   "metadata": {},
   "outputs": [],
   "source": [
    "import pdb\n",
    "\n",
    "from fastai.text import *"
   ]
  },
  {
   "cell_type": "code",
   "execution_count": 10,
   "metadata": {},
   "outputs": [
    {
     "name": "stdout",
     "output_type": "stream",
     "text": [
      "fastai version: 1.0.58\n",
      "Using cuda:1 - GeForce GTX 1080 Ti\n"
     ]
    }
   ],
   "source": [
    "device = 'cuda:1'\n",
    "torch.cuda.set_device(device)\n",
    "\n",
    "print(f'fastai version: {__version__}')\n",
    "print(f'Using cuda:{torch.cuda.current_device()} - {torch.cuda.get_device_name()}')"
   ]
  },
  {
   "cell_type": "markdown",
   "metadata": {},
   "source": [
    "## Configuration"
   ]
  },
  {
   "cell_type": "code",
   "execution_count": 11,
   "metadata": {},
   "outputs": [
    {
     "data": {
      "text/plain": [
       "[PosixPath('/home/wgilliam/.fastai/data/giga-fren/questions_easy.csv'),\n",
       " PosixPath('/home/wgilliam/.fastai/data/giga-fren/giga-fren.release2.fixed.fr'),\n",
       " PosixPath('/home/wgilliam/.fastai/data/giga-fren/cc.fr.300.bin'),\n",
       " PosixPath('/home/wgilliam/.fastai/data/giga-fren/models'),\n",
       " PosixPath('/home/wgilliam/.fastai/data/giga-fren/cc.en.300.bin.gz'),\n",
       " PosixPath('/home/wgilliam/.fastai/data/giga-fren/giga-fren.release2.fixed.en'),\n",
       " PosixPath('/home/wgilliam/.fastai/data/giga-fren/cc.en.300.bin'),\n",
       " PosixPath('/home/wgilliam/.fastai/data/giga-fren/cc.fr.300.bin.gz'),\n",
       " PosixPath('/home/wgilliam/.fastai/data/giga-fren/data_save.pkl')]"
      ]
     },
     "execution_count": 11,
     "metadata": {},
     "output_type": "execute_result"
    }
   ],
   "source": [
    "PATH = Path('data/translate')\n",
    "PATH.mkdir(parents=True, exist_ok=True)\n",
    "\n",
    "DATA_PATH = untar_data(URLs.MT_ENG_FRA)\n",
    "DATA_PATH.ls()"
   ]
  },
  {
   "cell_type": "code",
   "execution_count": 12,
   "metadata": {},
   "outputs": [],
   "source": [
    "folder = 'giga-fren.release2.fixed'\n",
    "en_folder = DATA_PATH/f'{folder}.en'\n",
    "fr_folder = DATA_PATH/f'{folder}.fr'"
   ]
  },
  {
   "cell_type": "markdown",
   "metadata": {},
   "source": [
    "## Prepare data\n",
    "\n",
    "*NOTE: only need to run through the section 1x to build the .csv file*"
   ]
  },
  {
   "cell_type": "code",
   "execution_count": 13,
   "metadata": {},
   "outputs": [],
   "source": [
    "# re_eq = re.compile('^(Wh[^?.!]+\\?)')\n",
    "# re_fq = re.compile('^([^?.!]+\\?)')\n",
    "\n",
    "# lines = ((re_eq.search(eq), re_fq.search(fq)) \n",
    "#           for eq, fq in zip(open(en_folder, encoding='utf-8'), open(fr_folder, encoding='utf-8')))\n",
    "\n",
    "# qs = [ {'english_text': e.group(), 'french_text': f.group()} for e, f in lines if e and f ]"
   ]
  },
  {
   "cell_type": "code",
   "execution_count": 14,
   "metadata": {},
   "outputs": [],
   "source": [
    "# qs[:5]"
   ]
  },
  {
   "cell_type": "code",
   "execution_count": 15,
   "metadata": {},
   "outputs": [],
   "source": [
    "# df = pd.DataFrame(qs)\n",
    "# df.head()"
   ]
  },
  {
   "cell_type": "code",
   "execution_count": 16,
   "metadata": {},
   "outputs": [],
   "source": [
    "# df.to_csv(PATH/'english_french_translate.csv', index=False)"
   ]
  },
  {
   "cell_type": "markdown",
   "metadata": {},
   "source": [
    "## Prepare data for training"
   ]
  },
  {
   "cell_type": "code",
   "execution_count": 17,
   "metadata": {},
   "outputs": [],
   "source": [
    "np.random.seed(42)"
   ]
  },
  {
   "cell_type": "code",
   "execution_count": 18,
   "metadata": {},
   "outputs": [
    {
     "name": "stdout",
     "output_type": "stream",
     "text": [
      "52331\n"
     ]
    },
    {
     "data": {
      "text/html": [
       "<div>\n",
       "<style scoped>\n",
       "    .dataframe tbody tr th:only-of-type {\n",
       "        vertical-align: middle;\n",
       "    }\n",
       "\n",
       "    .dataframe tbody tr th {\n",
       "        vertical-align: top;\n",
       "    }\n",
       "\n",
       "    .dataframe thead th {\n",
       "        text-align: right;\n",
       "    }\n",
       "</style>\n",
       "<table border=\"1\" class=\"dataframe\">\n",
       "  <thead>\n",
       "    <tr style=\"text-align: right;\">\n",
       "      <th></th>\n",
       "      <th>english_text</th>\n",
       "      <th>french_text</th>\n",
       "    </tr>\n",
       "  </thead>\n",
       "  <tbody>\n",
       "    <tr>\n",
       "      <td>0</td>\n",
       "      <td>What is light ?</td>\n",
       "      <td>Qu’est-ce que la lumière?</td>\n",
       "    </tr>\n",
       "    <tr>\n",
       "      <td>1</td>\n",
       "      <td>Who are we?</td>\n",
       "      <td>Où sommes-nous?</td>\n",
       "    </tr>\n",
       "    <tr>\n",
       "      <td>2</td>\n",
       "      <td>Where did we come from?</td>\n",
       "      <td>D'où venons-nous?</td>\n",
       "    </tr>\n",
       "    <tr>\n",
       "      <td>3</td>\n",
       "      <td>What would we do without it?</td>\n",
       "      <td>Que ferions-nous sans elle ?</td>\n",
       "    </tr>\n",
       "    <tr>\n",
       "      <td>4</td>\n",
       "      <td>What is the absolute location (latitude and lo...</td>\n",
       "      <td>Quelle sont les coordonnées (latitude et longi...</td>\n",
       "    </tr>\n",
       "  </tbody>\n",
       "</table>\n",
       "</div>"
      ],
      "text/plain": [
       "                                        english_text  \\\n",
       "0                                    What is light ?   \n",
       "1                                        Who are we?   \n",
       "2                            Where did we come from?   \n",
       "3                       What would we do without it?   \n",
       "4  What is the absolute location (latitude and lo...   \n",
       "\n",
       "                                         french_text  \n",
       "0                          Qu’est-ce que la lumière?  \n",
       "1                                    Où sommes-nous?  \n",
       "2                                  D'où venons-nous?  \n",
       "3                       Que ferions-nous sans elle ?  \n",
       "4  Quelle sont les coordonnées (latitude et longi...  "
      ]
     },
     "metadata": {},
     "output_type": "display_data"
    }
   ],
   "source": [
    "df = pd.read_csv(PATH/'english_french_translate.csv')\n",
    "\n",
    "print(len(df))\n",
    "display(df.head())"
   ]
  },
  {
   "cell_type": "markdown",
   "metadata": {},
   "source": [
    "**Why am I restricting my datasets to the mean length of French or corresponding English translation?**\n",
    "\n",
    "Including the longer documents tend to require much more training, consume more memory, and don't necessarily work all that great for models such as we're building here."
   ]
  },
  {
   "cell_type": "code",
   "execution_count": 19,
   "metadata": {},
   "outputs": [
    {
     "name": "stdout",
     "output_type": "stream",
     "text": [
      "152.0 186.0 186.0 69.66941201200054 85.48424452045633 85.48424452045633\n"
     ]
    }
   ],
   "source": [
    "en_max_len = np.percentile(df.english_text.str.len(), 95)\n",
    "fr_max_len = np.percentile(df.french_text.str.len(), 95)\n",
    "max_len = np.max([en_max_len, fr_max_len])\n",
    "\n",
    "en_mean_len = np.mean(df.english_text.str.len())\n",
    "fr_mean_len = np.mean(df.french_text.str.len())\n",
    "max_mean = np.max([en_mean_len, fr_mean_len])\n",
    "\n",
    "print(en_max_len, fr_max_len, max_len, en_mean_len, fr_mean_len, max_mean)"
   ]
  },
  {
   "cell_type": "markdown",
   "metadata": {},
   "source": [
    "Keeping examples where both inputs and targets are < max 90th percentile"
   ]
  },
  {
   "cell_type": "code",
   "execution_count": 20,
   "metadata": {},
   "outputs": [
    {
     "data": {
      "text/html": [
       "<div>\n",
       "<style scoped>\n",
       "    .dataframe tbody tr th:only-of-type {\n",
       "        vertical-align: middle;\n",
       "    }\n",
       "\n",
       "    .dataframe tbody tr th {\n",
       "        vertical-align: top;\n",
       "    }\n",
       "\n",
       "    .dataframe thead th {\n",
       "        text-align: right;\n",
       "    }\n",
       "</style>\n",
       "<table border=\"1\" class=\"dataframe\">\n",
       "  <thead>\n",
       "    <tr style=\"text-align: right;\">\n",
       "      <th></th>\n",
       "      <th>english_text</th>\n",
       "      <th>french_text</th>\n",
       "    </tr>\n",
       "  </thead>\n",
       "  <tbody>\n",
       "    <tr>\n",
       "      <td>0</td>\n",
       "      <td>What is light ?</td>\n",
       "      <td>Qu’est-ce que la lumière?</td>\n",
       "    </tr>\n",
       "    <tr>\n",
       "      <td>1</td>\n",
       "      <td>Who are we?</td>\n",
       "      <td>Où sommes-nous?</td>\n",
       "    </tr>\n",
       "    <tr>\n",
       "      <td>2</td>\n",
       "      <td>Where did we come from?</td>\n",
       "      <td>D'où venons-nous?</td>\n",
       "    </tr>\n",
       "    <tr>\n",
       "      <td>3</td>\n",
       "      <td>What would we do without it?</td>\n",
       "      <td>Que ferions-nous sans elle ?</td>\n",
       "    </tr>\n",
       "    <tr>\n",
       "      <td>4</td>\n",
       "      <td>What is the absolute location (latitude and lo...</td>\n",
       "      <td>Quelle sont les coordonnées (latitude et longi...</td>\n",
       "    </tr>\n",
       "  </tbody>\n",
       "</table>\n",
       "</div>"
      ],
      "text/plain": [
       "                                        english_text  \\\n",
       "0                                    What is light ?   \n",
       "1                                        Who are we?   \n",
       "2                            Where did we come from?   \n",
       "3                       What would we do without it?   \n",
       "4  What is the absolute location (latitude and lo...   \n",
       "\n",
       "                                         french_text  \n",
       "0                          Qu’est-ce que la lumière?  \n",
       "1                                    Où sommes-nous?  \n",
       "2                                  D'où venons-nous?  \n",
       "3                       Que ferions-nous sans elle ?  \n",
       "4  Quelle sont les coordonnées (latitude et longi...  "
      ]
     },
     "execution_count": 20,
     "metadata": {},
     "output_type": "execute_result"
    }
   ],
   "source": [
    "df = df.loc[(df.english_text.str.len() < max_len) & (df.french_text.str.len() < max_len)]\n",
    "df.reset_index(inplace=True, drop=True)\n",
    "df.head()"
   ]
  },
  {
   "cell_type": "code",
   "execution_count": 21,
   "metadata": {},
   "outputs": [
    {
     "data": {
      "text/plain": [
       "(39671, 9918)"
      ]
     },
     "execution_count": 21,
     "metadata": {},
     "output_type": "execute_result"
    }
   ],
   "source": [
    "train_df = df.sample(frac=0.8, random_state=42)\n",
    "valid_df = df.iloc[~df.index.isin(train_df.index)]\n",
    "len(train_df), len(valid_df)"
   ]
  },
  {
   "cell_type": "markdown",
   "metadata": {},
   "source": [
    "## Custom DataBlock API code"
   ]
  },
  {
   "cell_type": "markdown",
   "metadata": {},
   "source": [
    "**Why am I creating my own collate function?**\n",
    "\n",
    "Two reasons. First, I want to be able to pad both the inputs and targets (the default pad_collate function for TextList instances only takes are of the inputs). Second, I wanted to set things up so I could include my targets in training for \"teacher forcing\" as well as the actual, non-padded, lenghts of each document along with their corresponding masks for masking.\n",
    "\n",
    "Writing your own collate_fn is a nice way to pass in whatever you need/want to your model's forward() function."
   ]
  },
  {
   "cell_type": "code",
   "execution_count": 22,
   "metadata": {},
   "outputs": [],
   "source": [
    "def seq2seq_pad_collate(samples:BatchSamples, pad_idx:int=1, pad_first:bool=False, \n",
    "                        include_shifted_targets=True, shifted_idx:int=1,\n",
    "                        include_lengths=False, include_masks=False,\n",
    "                        backwards:bool=False) -> Tuple[LongTensor, LongTensor]:\n",
    "    \n",
    "    \"Function that collect samples and adds padding. Flips token order if needed\"\n",
    "    \n",
    "    samples = to_data(samples)\n",
    "\n",
    "    x_lens = [len(s[0]) for s in samples]\n",
    "    x_max_len = max(x_lens)\n",
    "    x_res = torch.zeros(len(samples), x_max_len).long() + pad_idx\n",
    "    \n",
    "    y_lens = [len(s[1]) for s in samples]\n",
    "    y_max_len = max(y_lens)\n",
    "    y_res = torch.zeros(len(samples), y_max_len).long() + pad_idx\n",
    "    \n",
    "    if backwards: pad_first = not pad_first\n",
    "        \n",
    "    for i,s in enumerate(samples):\n",
    "        if pad_first: \n",
    "            x_res[i,-len(s[0]):] = LongTensor(s[0])\n",
    "            y_res[i,-len(s[1]):] = LongTensor(s[1])\n",
    "        else:         \n",
    "            x_res[i,:len(s[0]):] = LongTensor(s[0])\n",
    "            y_res[i,:len(s[1]):] = LongTensor(s[1])\n",
    "            \n",
    "    if backwards: x_res, y_res = x_res.flip(1), y_res.flip(1)\n",
    "        \n",
    "    x = [x_res]\n",
    "    \n",
    "    if (include_shifted_targets): \n",
    "        y = F.pad(y_res, (1, 0), value=shifted_idx)\n",
    "        x += [y[:,:-1]]\n",
    "        \n",
    "    if (include_lengths): x += [torch.tensor(x_lens), torch.tensor(y_lens)]\n",
    "    if (include_masks): x += [x_res != pad_idx, y_res != pad_idx]\n",
    "    \n",
    "    return x, y_res"
   ]
  },
  {
   "cell_type": "markdown",
   "metadata": {},
   "source": [
    "**Why am I creating a custom DataBunch class?**\n",
    "\n",
    "\n",
    "Because the default class for TextList doesn't allow me to override the collate_fn. Everything else pretty much comes right from the framework."
   ]
  },
  {
   "cell_type": "code",
   "execution_count": 23,
   "metadata": {},
   "outputs": [],
   "source": [
    "class Seq2SeqDataBunch(DataBunch):\n",
    "\n",
    "    @classmethod\n",
    "    def create(cls, train_ds, valid_ds, test_ds=None, path:PathOrStr='.', bs:int=32, val_bs:int=None, \n",
    "               pad_idx=1, pad_first=False, shifted_idx=1, dl_tfms=None, \n",
    "               device:torch.device=None, no_check:bool=False, backwards:bool=False, **dl_kwargs) -> DataBunch:\n",
    "        \n",
    "        \"\"\"Function that transform the `datasets` in a `DataBunch` for classification. \n",
    "        Passes `**dl_kwargs` on to `DataLoader()`\"\"\"\n",
    "        \n",
    "        datasets = cls._init_ds(train_ds, valid_ds, test_ds)\n",
    "        val_bs = ifnone(val_bs, bs)\n",
    "        \n",
    "        collate_fn = partial(seq2seq_pad_collate, pad_idx=pad_idx, pad_first=pad_first, shifted_idx=shifted_idx, \n",
    "                             backwards=backwards)\n",
    "        \n",
    "        train_sampler = SortishSampler(datasets[0].x, key=lambda t: len(datasets[0][t][0].data), bs=bs//2)\n",
    "        train_dl = DataLoader(datasets[0], batch_size=bs, sampler=train_sampler, drop_last=True, **dl_kwargs)\n",
    "        \n",
    "        dataloaders = [train_dl]\n",
    "        for ds in datasets[1:]:\n",
    "            lengths = [len(t) for t in ds.x.items]\n",
    "            sampler = SortSampler(ds.x, key=lengths.__getitem__)\n",
    "            dataloaders.append(DataLoader(ds, batch_size=val_bs, sampler=sampler, **dl_kwargs))\n",
    "            \n",
    "        return cls(*dataloaders, path=path, device=device, dl_tfms=dl_tfms, collate_fn=collate_fn, no_check=no_check)"
   ]
  },
  {
   "cell_type": "markdown",
   "metadata": {},
   "source": [
    "Below is one of the reason I like the DataBlock API. I can inherit all the goodness form TextList while just overriding the DataBunch class. Very nice!"
   ]
  },
  {
   "cell_type": "code",
   "execution_count": 24,
   "metadata": {},
   "outputs": [],
   "source": [
    "class Seq2SeqTextList(TextList):\n",
    "    _bunch = Seq2SeqDataBunch\n",
    "    _label_cls = TextList\n",
    "    \n",
    "    def reconstruct(self, t:Tensor):\n",
    "        # this because the input, in addition to the data, can contain targets, lengths, and masks\n",
    "        data_tensor = t[0] if isinstance(t, list) else t\n",
    "        \n",
    "        idx_min = (data_tensor != self.pad_idx).nonzero().min()\n",
    "        idx_max = (data_tensor != self.pad_idx).nonzero().max()\n",
    "        return Text(data_tensor[idx_min:idx_max+1], self.vocab.textify(data_tensor[idx_min:idx_max+1]))"
   ]
  },
  {
   "cell_type": "markdown",
   "metadata": {},
   "source": [
    "## Build our DataBunch"
   ]
  },
  {
   "cell_type": "code",
   "execution_count": 25,
   "metadata": {},
   "outputs": [],
   "source": [
    "bs = 64\n",
    "val_bs = 128\n",
    "\n",
    "tok_pre_rules = [fix_html, replace_rep, replace_wrep, spec_add_spaces, rm_useless_spaces]\n",
    "tok_post_rules = [replace_all_caps, deal_caps]"
   ]
  },
  {
   "cell_type": "code",
   "execution_count": 26,
   "metadata": {},
   "outputs": [],
   "source": [
    "en_tok = Tokenizer(lang='en', pre_rules=tok_pre_rules, post_rules=tok_post_rules)\n",
    "fr_tok = Tokenizer(lang='fr', pre_rules=tok_pre_rules, post_rules=tok_post_rules)"
   ]
  },
  {
   "cell_type": "code",
   "execution_count": 27,
   "metadata": {},
   "outputs": [],
   "source": [
    "en_procs = [TokenizeProcessor(tokenizer=en_tok, include_bos=False, include_eos=False), \n",
    "            NumericalizeProcessor(min_freq=1)]\n",
    "\n",
    "fr_procs = [TokenizeProcessor(tokenizer=fr_tok,include_bos=False, include_eos=False), \n",
    "            NumericalizeProcessor(min_freq=1)]"
   ]
  },
  {
   "cell_type": "code",
   "execution_count": 28,
   "metadata": {},
   "outputs": [],
   "source": [
    "en_train_il = Seq2SeqTextList.from_df(train_df, path=PATH, cols=['english_text'], \n",
    "                                      processor=en_procs).process()\n",
    "\n",
    "en_valid_il = Seq2SeqTextList.from_df(valid_df, path=PATH, cols=['english_text'], \n",
    "                                      processor=en_train_il.processor).process()"
   ]
  },
  {
   "cell_type": "code",
   "execution_count": 29,
   "metadata": {},
   "outputs": [],
   "source": [
    "fr_train_il = Seq2SeqTextList.from_df(train_df, path=PATH, cols=['french_text'], \n",
    "                                      processor=fr_procs).process()\n",
    "\n",
    "fr_valid_il = Seq2SeqTextList.from_df(valid_df, path=PATH, cols=['french_text'], \n",
    "                                      processor=fr_train_il.processor).process()"
   ]
  },
  {
   "cell_type": "markdown",
   "metadata": {},
   "source": [
    "Remember: A LabelList is a PyTorch Dataset"
   ]
  },
  {
   "cell_type": "code",
   "execution_count": 30,
   "metadata": {},
   "outputs": [],
   "source": [
    "trn_ll = LabelList(fr_train_il, en_train_il)\n",
    "val_ll = LabelList(fr_valid_il, en_valid_il)\n",
    "\n",
    "lls = LabelLists(PATH, train=trn_ll, valid=val_ll)"
   ]
  },
  {
   "cell_type": "code",
   "execution_count": 31,
   "metadata": {},
   "outputs": [
    {
     "data": {
      "text/plain": [
       "(22184, 22184, 15976, 15976)"
      ]
     },
     "execution_count": 31,
     "metadata": {},
     "output_type": "execute_result"
    }
   ],
   "source": [
    "len(lls.train.x.vocab.itos), len(lls.valid.x.vocab.itos), len(lls.train.y.vocab.itos), len(lls.valid.y.vocab.itos)"
   ]
  },
  {
   "cell_type": "code",
   "execution_count": 32,
   "metadata": {},
   "outputs": [
    {
     "data": {
      "text/plain": [
       "Text xxmaj qu’ entend - on par barrières non tarifaires ?"
      ]
     },
     "execution_count": 32,
     "metadata": {},
     "output_type": "execute_result"
    }
   ],
   "source": [
    "lls.train.x[0]"
   ]
  },
  {
   "cell_type": "code",
   "execution_count": 33,
   "metadata": {},
   "outputs": [
    {
     "data": {
      "text/plain": [
       "Text xxmaj what are non - tariff barriers ?"
      ]
     },
     "execution_count": 33,
     "metadata": {},
     "output_type": "execute_result"
    }
   ],
   "source": [
    "lls.train.y[0]"
   ]
  },
  {
   "cell_type": "code",
   "execution_count": 34,
   "metadata": {},
   "outputs": [
    {
     "name": "stdout",
     "output_type": "stream",
     "text": [
      "['xxunk', 'xxpad', 'xxbos', 'xxeos', 'xxfld', 'xxmaj', 'xxup', 'xxrep', 'xxwrep', '?']\n",
      "['xxunk', 'xxpad', 'xxbos', 'xxeos', 'xxfld', 'xxmaj', 'xxup', 'xxrep', 'xxwrep', '?']\n"
     ]
    }
   ],
   "source": [
    "print(list(lls.train.x.vocab.itos[:10]))\n",
    "print(list(lls.train.y.vocab.itos[:10]))"
   ]
  },
  {
   "cell_type": "markdown",
   "metadata": {},
   "source": [
    "### Creating a DataBunch via the API"
   ]
  },
  {
   "cell_type": "code",
   "execution_count": 35,
   "metadata": {},
   "outputs": [],
   "source": [
    "# define the token idx for padding the right-shifted targets in the input (default=pad_idx=1)\n",
    "shifted_idx = en_tok.special_cases.index(BOS)\n",
    "data = lls.databunch(bs=bs, val_bs=val_bs, shifted_idx=shifted_idx)"
   ]
  },
  {
   "cell_type": "code",
   "execution_count": 36,
   "metadata": {},
   "outputs": [
    {
     "name": "stdout",
     "output_type": "stream",
     "text": [
      "inputs:\n",
      "torch.Size([64, 63])\n",
      "torch.Size([64, 50])\n",
      "\n",
      "targets:\n",
      "torch.Size([64, 50])\n"
     ]
    }
   ],
   "source": [
    "b = next(iter(data.train_dl))\n",
    "\n",
    "print('inputs:')\n",
    "for i in range(len(b[0])): print(b[0][i].shape)\n",
    "    \n",
    "print('\\ntargets:')\n",
    "print(b[1].shape)"
   ]
  },
  {
   "cell_type": "code",
   "execution_count": 37,
   "metadata": {},
   "outputs": [
    {
     "data": {
      "text/html": [
       "<table border=\"1\" class=\"dataframe\">\n",
       "  <thead>\n",
       "    <tr style=\"text-align: right;\">\n",
       "      <th>text</th>\n",
       "      <th>target</th>\n",
       "    </tr>\n",
       "  </thead>\n",
       "  <tbody>\n",
       "    <tr>\n",
       "      <td>xxmaj moins de 9 999 $ _ _ _ xxmaj de 10 000 $ à 19 999 $ _ _ _ xxmaj de 20 000 $ à 29 999 $ _ _ _ xxmaj de 30 000 $ à 39 999 $ _ _ _ 40 000 $ et plus _ _ _  ",
       " xxmaj quel autre soutien financier vous est versé ?</td>\n",
       "      <td>xxmaj what is your annual salary range :  ",
       " ",
       " under $ 10,000 _ _ _ 10 - 20 _ _ _ 20 - 30 _ _ 30 - 40 _ _ _ 40 and over _ _ _  ",
       " xxmaj what other kind of income support do you get ?</td>\n",
       "    </tr>\n",
       "    <tr>\n",
       "      <td>xxmaj pourquoi cliquer sur cette page [ xxmaj site du xxmaj canada ] pour ensuite être amené à cette page - ci alors que j' ignorais que je pouvais aboutir à cette page à partir de la page du xxmaj site du xxmaj canada ?</td>\n",
       "      <td>xxmaj why click on that page [ xxmaj canada xxmaj site ] and then be brought to this page when i did n't even know i could come to this page from that page ?</td>\n",
       "    </tr>\n",
       "    <tr>\n",
       "      <td>xxmaj et s’ il créait le pacte de la paix , un accord signé par des centaines , voire des milliers de jeunes s’ engageant , par simple fraternité , à détruire leur collection de jeux de guerre ?</td>\n",
       "      <td>xxmaj what if he created a xxmaj peace xxmaj pact , a promise signed by hundreds , even thousands , of young people united as brothers and sisters to destroy their collection of war games ?</td>\n",
       "    </tr>\n",
       "    <tr>\n",
       "      <td>xxmaj qu’ est - ce - qui fait que l’ xxmaj irlande , pour ce qui est de l’ économie , soit passée , pendant la même période , du peloton de queue au sommet de la catégorie ?</td>\n",
       "      <td>xxmaj what explains xxmaj ireland ’s rise from far behind to the top of the economic league in the same period ?</td>\n",
       "    </tr>\n",
       "    <tr>\n",
       "      <td>xxmaj que puis - je faire pour soutenir la demande de visa de résident temporaire de mon ami , d' un membre de ma famille ou d' un homme / femme d' affaires ressource qui a été rejetée ?</td>\n",
       "      <td>xxmaj what can i do to support the application of my friend , relative or business contact who was refused a xxmaj temporary xxmaj resident xxmaj visa ?</td>\n",
       "    </tr>\n",
       "  </tbody>\n",
       "</table>"
      ],
      "text/plain": [
       "<IPython.core.display.HTML object>"
      ]
     },
     "metadata": {},
     "output_type": "display_data"
    }
   ],
   "source": [
    "data.show_batch()"
   ]
  },
  {
   "cell_type": "code",
   "execution_count": 38,
   "metadata": {},
   "outputs": [
    {
     "data": {
      "text/plain": [
       "tensor([[  2,   5,  11,  ...,  21,  23, 114],\n",
       "        [  2,   5,  33,  ...,   1,   1,   1],\n",
       "        [  2,   5,  39,  ...,   1,   1,   1],\n",
       "        ...,\n",
       "        [  2,   5,  40,  ...,   1,   1,   1],\n",
       "        [  2,   5,  11,  ...,   1,   1,   1],\n",
       "        [  2,   5,  11,  ...,   1,   1,   1]], device='cuda:1')"
      ]
     },
     "execution_count": 38,
     "metadata": {},
     "output_type": "execute_result"
    }
   ],
   "source": [
    "b[0][1]"
   ]
  },
  {
   "cell_type": "code",
   "execution_count": 39,
   "metadata": {},
   "outputs": [
    {
     "data": {
      "text/plain": [
       "tensor([[   5,   11,   14,  ...,   23,  114,    9],\n",
       "        [   5,   33,   59,  ...,    1,    1,    1],\n",
       "        [   5,   39, 2483,  ...,    1,    1,    1],\n",
       "        ...,\n",
       "        [   5,   40,   57,  ...,    1,    1,    1],\n",
       "        [   5,   11,   84,  ...,    1,    1,    1],\n",
       "        [   5,   11,   14,  ...,    1,    1,    1]], device='cuda:1')"
      ]
     },
     "execution_count": 39,
     "metadata": {},
     "output_type": "execute_result"
    }
   ],
   "source": [
    "b[1]"
   ]
  },
  {
   "cell_type": "code",
   "execution_count": 40,
   "metadata": {},
   "outputs": [],
   "source": [
    "data.save('data_1.pkl')\n",
    "data = load_data(PATH, 'data_1.pkl', shifted_idx=shifted_idx)"
   ]
  },
  {
   "cell_type": "markdown",
   "metadata": {},
   "source": [
    "### Creating DataBunch via DataLoaders"
   ]
  },
  {
   "cell_type": "code",
   "execution_count": 41,
   "metadata": {},
   "outputs": [],
   "source": [
    "train_sampler = SortishSampler(lls.train.x, key=lambda t: len(lls.train[t][0].data), bs=bs//2)\n",
    "valid_sampler = SortSampler(lls.valid.x, key=lambda t: len(lls.valid[t][0].data))"
   ]
  },
  {
   "cell_type": "code",
   "execution_count": 42,
   "metadata": {},
   "outputs": [],
   "source": [
    "train_dl = DataLoader(lls.train, batch_size=bs, sampler=train_sampler, drop_last=True)\n",
    "valid_dl = DataLoader(lls.valid, batch_size=val_bs, sampler=valid_sampler)"
   ]
  },
  {
   "cell_type": "code",
   "execution_count": 43,
   "metadata": {},
   "outputs": [],
   "source": [
    "data = DataBunch(train_dl=train_dl, valid_dl=valid_dl, \n",
    "                 collate_fn=partial(seq2seq_pad_collate,shifted_idx=2))"
   ]
  },
  {
   "cell_type": "markdown",
   "metadata": {},
   "source": [
    "### Creating DataBunch via API with filtering and dl transforms (optional)"
   ]
  },
  {
   "cell_type": "code",
   "execution_count": 44,
   "metadata": {},
   "outputs": [],
   "source": [
    "df = pd.read_csv(PATH/'english_french_translate.csv')"
   ]
  },
  {
   "cell_type": "markdown",
   "metadata": {},
   "source": [
    "Define batch sizes and tokenization/numericalization strategies"
   ]
  },
  {
   "cell_type": "code",
   "execution_count": 45,
   "metadata": {},
   "outputs": [],
   "source": [
    "bs = 64\n",
    "val_bs = 128\n",
    "\n",
    "tok_pre_rules = [fix_html, replace_rep, replace_wrep, spec_add_spaces, rm_useless_spaces]\n",
    "tok_post_rules = [replace_all_caps, deal_caps]"
   ]
  },
  {
   "cell_type": "code",
   "execution_count": 46,
   "metadata": {},
   "outputs": [],
   "source": [
    "en_tok = Tokenizer(lang='en', pre_rules=tok_pre_rules, post_rules=tok_post_rules)\n",
    "fr_tok = Tokenizer(lang='fr', pre_rules=tok_pre_rules, post_rules=tok_post_rules)"
   ]
  },
  {
   "cell_type": "code",
   "execution_count": 47,
   "metadata": {},
   "outputs": [],
   "source": [
    "en_procs = [TokenizeProcessor(tokenizer=en_tok, include_bos=False, include_eos=False), \n",
    "            NumericalizeProcessor(min_freq=1)]\n",
    "\n",
    "fr_procs = [TokenizeProcessor(tokenizer=fr_tok,include_bos=False, include_eos=False), \n",
    "            NumericalizeProcessor(min_freq=1)]"
   ]
  },
  {
   "cell_type": "markdown",
   "metadata": {},
   "source": [
    "Build the datasets"
   ]
  },
  {
   "cell_type": "code",
   "execution_count": 48,
   "metadata": {},
   "outputs": [],
   "source": [
    "src = (Seq2SeqTextList.from_df(df, path=PATH, cols='french_text', processor=fr_procs)\n",
    "           .split_by_rand_pct()\n",
    "           .label_from_df(cols='english_text', label_cls=TextList, processor=en_procs))"
   ]
  },
  {
   "cell_type": "code",
   "execution_count": 49,
   "metadata": {},
   "outputs": [
    {
     "name": "stdout",
     "output_type": "stream",
     "text": [
      "36.0 30.0 36.0\n"
     ]
    }
   ],
   "source": [
    "x_max_len = np.percentile([len(o) for o in src.train.x.items] + [len(o) for o in src.valid.x.items], 95)\n",
    "y_max_len = np.percentile([len(o) for o in src.train.y.items] + [len(o) for o in src.valid.y.items], 95)\n",
    "max_len = np.max([x_max_len, y_max_len])\n",
    "\n",
    "print(x_max_len, y_max_len, max_len)"
   ]
  },
  {
   "cell_type": "markdown",
   "metadata": {},
   "source": [
    "As before, we remove questions with more than `max_90` tokens using `filter_by_func`.  This is a more flexible approach as us to change the items included in the datasets defined in `src` *without* having to re-create them from scratch"
   ]
  },
  {
   "cell_type": "code",
   "execution_count": 50,
   "metadata": {},
   "outputs": [
    {
     "name": "stdout",
     "output_type": "stream",
     "text": [
      "49772\n"
     ]
    }
   ],
   "source": [
    "src = src.filter_by_func(lambda x,y: len(x) > max_len or len(y) > max_len)\n",
    "print(len(src.train) + len(src.valid))"
   ]
  },
  {
   "cell_type": "markdown",
   "metadata": {},
   "source": [
    "Build the databunch"
   ]
  },
  {
   "cell_type": "code",
   "execution_count": 51,
   "metadata": {},
   "outputs": [],
   "source": [
    "shifted_idx = en_tok.special_cases.index(BOS)\n",
    "data = src.databunch(bs=bs, val_bs=val_bs, shifted_idx=shifted_idx)"
   ]
  },
  {
   "cell_type": "code",
   "execution_count": 52,
   "metadata": {},
   "outputs": [
    {
     "data": {
      "text/html": [
       "<table border=\"1\" class=\"dataframe\">\n",
       "  <thead>\n",
       "    <tr style=\"text-align: right;\">\n",
       "      <th>text</th>\n",
       "      <th>target</th>\n",
       "    </tr>\n",
       "  </thead>\n",
       "  <tbody>\n",
       "    <tr>\n",
       "      <td>xxmaj lorsque vous demandez une culture bactérienne d' un échantillon fécal et que vous ne faites aucune demande précise , prenez - vous pour acquis que le laboratoire testera automatiquement la présence des pathogènes suivants ?</td>\n",
       "      <td>xxmaj when you order a stool sample for bacterial culture , and you do not make any specific requests , is it your understanding that the lab will routinely test for the following pathogens ?</td>\n",
       "    </tr>\n",
       "    <tr>\n",
       "      <td>xxmaj quels critères devraient régir la décision d’ administrer un traitement auquel elle n’ a pas consenti à une personne qui est incapable de prendre à cet égard une décision en toute connaissance de cause ?</td>\n",
       "      <td>xxmaj what criteria ought to govern the decision to impose treatment on a person who lacks capacity to make an understanding choice in the matter ?</td>\n",
       "    </tr>\n",
       "    <tr>\n",
       "      <td>xxmaj pourquoi devrions - nous mettre tous nos espoirs dans un vaccin quand on sait qu' il existe déjà des médicaments qui prolongent l' espérance de vie et permettent d' empêcher la progression du virus ?</td>\n",
       "      <td>xxmaj why should we pin all our hopes on a vaccine when we already have drugs that will extend people 's lives and can keep the virus in check ?</td>\n",
       "    </tr>\n",
       "    <tr>\n",
       "      <td>xxmaj pourquoi le pays le plus riche du monde devrait - il vivre au - dessus de ses moyens alors que le xxup fmi réprimande les pays les plus pauvres pour des transgressions moins importantes ?</td>\n",
       "      <td>xxmaj why should the richest country in the world live beyond its means while the xxup imf scolds poorer countries for smaller transgressions ?</td>\n",
       "    </tr>\n",
       "    <tr>\n",
       "      <td>xxmaj quelle est par ailleurs la taille requise du logement en fonction du nombre de personnes accueillies , la durée ou la pérennité du titre de séjour , les prestations auxquelles ont droit les bénéficiaires ?</td>\n",
       "      <td>xxmaj what size of accommodation is required according to the number of persons taken in ; for how long are the residence permits valid and to what benefits are the persons concerned entitled ?</td>\n",
       "    </tr>\n",
       "  </tbody>\n",
       "</table>"
      ],
      "text/plain": [
       "<IPython.core.display.HTML object>"
      ]
     },
     "metadata": {},
     "output_type": "display_data"
    }
   ],
   "source": [
    "data.show_batch()"
   ]
  },
  {
   "cell_type": "code",
   "execution_count": 53,
   "metadata": {},
   "outputs": [],
   "source": [
    "data.save('data_2.pkl')\n",
    "data = load_data(PATH, 'data_2.pkl', shifted_idx=shifted_idx)"
   ]
  },
  {
   "cell_type": "markdown",
   "metadata": {},
   "source": [
    "If we wanted to, we could add a dl transform as such to change the shifted padding index on the fly without having to rebuild our datasets/dataloaders"
   ]
  },
  {
   "cell_type": "code",
   "execution_count": 54,
   "metadata": {},
   "outputs": [],
   "source": [
    "def shift_tfm(b):\n",
    "    x,y = b\n",
    "    y = F.pad(y, (1, 0), value=999)\n",
    "    x.insert(1,y[:,:-1])\n",
    "    return x, y[:,1:]"
   ]
  },
  {
   "cell_type": "code",
   "execution_count": 55,
   "metadata": {},
   "outputs": [],
   "source": [
    "data = load_data(PATH, 'data_2.pkl', shifted_idx=shifted_idx)\n",
    "data.add_tfm(shift_tfm)"
   ]
  },
  {
   "cell_type": "code",
   "execution_count": 56,
   "metadata": {},
   "outputs": [
    {
     "name": "stdout",
     "output_type": "stream",
     "text": [
      "inputs:\n",
      "torch.Size([64, 36])\n",
      "torch.Size([64, 34])\n",
      "torch.Size([64, 34])\n",
      "\n",
      "targets:\n",
      "torch.Size([64, 34])\n"
     ]
    }
   ],
   "source": [
    "b = next(iter(data.train_dl))\n",
    "\n",
    "print('inputs:')\n",
    "for i in range(len(b[0])): print(b[0][i].shape)\n",
    "    \n",
    "print('\\ntargets:')\n",
    "print(b[1].shape)"
   ]
  },
  {
   "cell_type": "code",
   "execution_count": 57,
   "metadata": {},
   "outputs": [
    {
     "data": {
      "text/plain": [
       "(tensor([[999,   5,  11,  ...,   1,   1,   1],\n",
       "         [999,   5,  11,  ...,   1,   1,   1],\n",
       "         [999,   5,  11,  ...,   1,   1,   1],\n",
       "         ...,\n",
       "         [999,   5,  11,  ...,   1,   1,   1],\n",
       "         [999,   5,  22,  ...,   1,   1,   1],\n",
       "         [999,   5,  41,  ...,   1,   1,   1]], device='cuda:1'),\n",
       " tensor([[   5,   11, 1983,  ...,    1,    1,    1],\n",
       "         [   5,   11,  419,  ...,    1,    1,    1],\n",
       "         [   5,   11,   89,  ...,    1,    1,    1],\n",
       "         ...,\n",
       "         [   5,   11,   15,  ...,    1,    1,    1],\n",
       "         [   5,   22,   16,  ...,    1,    1,    1],\n",
       "         [   5,   41,   34,  ...,    1,    1,    1]], device='cuda:1'))"
      ]
     },
     "execution_count": 57,
     "metadata": {},
     "output_type": "execute_result"
    }
   ],
   "source": [
    "b[0][1], b[1] #=> shifted outputs, target outputs"
   ]
  },
  {
   "cell_type": "markdown",
   "metadata": {},
   "source": [
    "## Transformer"
   ]
  },
  {
   "cell_type": "markdown",
   "metadata": {},
   "source": [
    "### Embeddings\n",
    "\n",
    "The input and output embeddings are traditional PyTorch embeddings (and we can use pretrained vectors if we want to). The transformer model isn't a recurrent one, so it has no idea of the relative positions of the words. To help it with that, they had to the input embeddings a positional encoding which is cosine of a certain frequency:"
   ]
  },
  {
   "cell_type": "code",
   "execution_count": 58,
   "metadata": {},
   "outputs": [],
   "source": [
    "class PositionalEncoding(nn.Module):\n",
    "    \"Encode the position with a sinusoid.\"\n",
    "    def __init__(self, d:int):\n",
    "        super().__init__()\n",
    "        self.register_buffer('freq', 1 / (10000 ** (torch.arange(0., d, 2.)/d)))\n",
    "    \n",
    "    def forward(self, pos:Tensor):\n",
    "        inp = torch.ger(pos, self.freq)\n",
    "        enc = torch.cat([inp.sin(), inp.cos()], dim=-1)\n",
    "        return enc"
   ]
  },
  {
   "cell_type": "code",
   "execution_count": 59,
   "metadata": {},
   "outputs": [
    {
     "data": {
      "image/png": "[encoded data removed]",
      "text/plain": [
       "<Figure size 432x288 with 1 Axes>"
      ]
     },
     "metadata": {
      "needs_background": "light"
     },
     "output_type": "display_data"
    }
   ],
   "source": [
    "tst_encoding = PositionalEncoding(20)\n",
    "res = tst_encoding(torch.arange(0,100).float())\n",
    "_, ax = plt.subplots(1,1)\n",
    "for i in range(1,5): ax.plot(res[:,i])"
   ]
  },
  {
   "cell_type": "code",
   "execution_count": 60,
   "metadata": {},
   "outputs": [],
   "source": [
    "class TransformerEmbedding(nn.Module):\n",
    "    \"Embedding + positional encoding + dropout\"\n",
    "    def __init__(self, vocab_sz:int, emb_sz:int, inp_p:float=0.):\n",
    "        super().__init__()\n",
    "        self.emb_sz = emb_sz\n",
    "        self.embed = embedding(vocab_sz, emb_sz)\n",
    "        self.pos_enc = PositionalEncoding(emb_sz)\n",
    "        self.drop = nn.Dropout(inp_p)\n",
    "    \n",
    "    def forward(self, inp): \n",
    "        pos = torch.arange(0, inp.size(1), device=inp.device).float()\n",
    "        return self.drop(self.embed(inp) * math.sqrt(self.emb_sz) + self.pos_enc(pos))"
   ]
  },
  {
   "cell_type": "markdown",
   "metadata": {},
   "source": [
    "### Multi-head attention"
   ]
  },
  {
   "attachments": {
    "image.png": {
     "image/png": "[encoded data removed]"
    }
   },
   "cell_type": "markdown",
   "metadata": {},
   "source": [
    "![image.png](attachment:image.png)"
   ]
  },
  {
   "cell_type": "code",
   "execution_count": 61,
   "metadata": {},
   "outputs": [],
   "source": [
    "class MultiHeadAttention(nn.Module):\n",
    "    \"MutiHeadAttention.\"\n",
    "    def __init__(self, n_heads:int, d_inp:int, d_head:int=None, \n",
    "                 resid_p:float=0., attn_p:float=0., bias:bool=True, scale:bool=True):\n",
    "        super().__init__()\n",
    "        \n",
    "        d_head = ifnone(d_head, d_inp // d_inp)\n",
    "        \n",
    "        self.n_heads, self.d_head, self.scale = n_heads, d_head, scale\n",
    "        \n",
    "        self.q_wgt = nn.Linear(d_inp, n_heads * d_head, bias=bias)\n",
    "        self.k_wgt = nn.Linear(d_inp, n_heads * d_head, bias=bias)\n",
    "        self.v_wgt = nn.Linear(d_inp, n_heads * d_head, bias=bias)\n",
    "        \n",
    "        self.out = nn.Linear(n_heads * d_head, d_inp, bias=bias)\n",
    "        \n",
    "        self.drop_att,self.drop_res = nn.Dropout(attn_p), nn.Dropout(resid_p)\n",
    "        \n",
    "        self.ln = nn.LayerNorm(d_inp)\n",
    "        \n",
    "    def forward(self, q:Tensor, k:Tensor, v:Tensor, mask:Tensor=None):\n",
    "        weighted_v, attn_probs = self._apply_attention(q, k, v, mask=mask)\n",
    "        out = self.drop_res(self.out(weighted_v))\n",
    "        return self.ln(q + out)\n",
    "        \n",
    "    def _apply_attention(self, q:Tensor, k:Tensor, v:Tensor, mask:Tensor=None):\n",
    "        bsz, seq_len = q.size(0), q.size(1)\n",
    "        \n",
    "        wq, wk, wv = self.q_wgt(q), self.k_wgt(k), self.v_wgt(v)\n",
    "        wq, wk, wv = map(lambda x:x.view(bsz, x.size(1), self.n_heads, self.d_head), (wq, wk, wv))\n",
    "        wq, wk, wv = wq.permute(0, 2, 1, 3), wk.permute(0, 2, 3, 1), wv.permute(0, 2, 1, 3)\n",
    "        \n",
    "        attn_scores = torch.matmul(wq, wk)\n",
    "        \n",
    "        if self.scale: \n",
    "            attn_scores = attn_scores.div_(self.d_head ** 0.5)\n",
    "        if mask is not None: \n",
    "            attn_scores = attn_scores.float().masked_fill(mask, -float('inf')).type_as(attn_scores)\n",
    "            \n",
    "        attn_probs = self.drop_att(F.softmax(attn_scores, dim=-1))\n",
    "        \n",
    "        weighted_v = torch.matmul(attn_probs, wv)\n",
    "        return weighted_v.permute(0, 2, 1, 3).contiguous().contiguous().view(bsz, seq_len, -1), attn_probs\n",
    "        \n",
    "    def _attention_einsum(self, q:Tensor, k:Tensor, v:Tensor, mask:Tensor=None):\n",
    "        # Permute and matmul is a little bit faster but this implementation is more readable\n",
    "        bsz, seq_len = q.size(0), q.size(1)\n",
    "        \n",
    "        wq, wk, wv = self.q_wgt(q),self.k_wgt(k),self.v_wgt(v)\n",
    "        wq, wk, wv = map(lambda x:x.view(bs, x.size(1), self.n_heads, self.d_head), (wq, wk, wv))\n",
    "        \n",
    "        attn_scores = torch.einsum('bind,bjnd->bijn', (wq, wk))\n",
    "        \n",
    "        if self.scale: \n",
    "            attn_scores = attn_scores.mul_(1/(self.d_head ** 0.5))\n",
    "        if mask is not None: \n",
    "            attn_scores = attn_scores.float().masked_fill(mask, -float('inf')).type_as(attn_scores)\n",
    "        \n",
    "        attn_probs = self.drop_att(F.softmax(attn_scores, dim=2))\n",
    "        \n",
    "        weighted_v = torch.einsum('bijn,bjnd->bind', (attn_prob, wv))\n",
    "        return weighted_v.contiguous().view(bsz, seq_len, -1), attn_probs"
   ]
  },
  {
   "cell_type": "markdown",
   "metadata": {},
   "source": [
    "### Masking\n",
    "\n",
    "The attention layer uses a mask to avoid paying attention to certain timesteps. The first thing is that we don't really want the network to pay attention to the padding, so we're going to mask it. The second thing is that since this model isn't recurrent, we need to mask (in the output) all the tokens we're not supposed to see yet (otherwise it would be cheating)."
   ]
  },
  {
   "cell_type": "code",
   "execution_count": 62,
   "metadata": {},
   "outputs": [],
   "source": [
    "def get_padding_mask(inp, pad_idx:int=1):\n",
    "    return None\n",
    "    return (inp == pad_idx)[:,None,:,None]"
   ]
  },
  {
   "cell_type": "code",
   "execution_count": 63,
   "metadata": {},
   "outputs": [],
   "source": [
    "def get_output_mask(inp, pad_idx:int=1):\n",
    "    return torch.triu(inp.new_ones(inp.size(1), inp.size(1)), diagonal=1)[None, None].bool()\n",
    "    return ((inp == pad_idx)[:, None, :, None].long() + \n",
    "            torch.triu(inp.new_ones(inp.size(1), inp.size(1)), diagonal=1)[None,None] != 0)"
   ]
  },
  {
   "cell_type": "code",
   "execution_count": 64,
   "metadata": {},
   "outputs": [
    {
     "data": {
      "text/plain": [
       "tensor([[0, 1, 1, 1, 1, 1, 1, 1, 1, 1],\n",
       "        [0, 0, 1, 1, 1, 1, 1, 1, 1, 1],\n",
       "        [0, 0, 0, 1, 1, 1, 1, 1, 1, 1],\n",
       "        [0, 0, 0, 0, 1, 1, 1, 1, 1, 1],\n",
       "        [0, 0, 0, 0, 0, 1, 1, 1, 1, 1],\n",
       "        [0, 0, 0, 0, 0, 0, 1, 1, 1, 1],\n",
       "        [0, 0, 0, 0, 0, 0, 0, 1, 1, 1],\n",
       "        [0, 0, 0, 0, 0, 0, 0, 0, 1, 1],\n",
       "        [0, 0, 0, 0, 0, 0, 0, 0, 0, 1],\n",
       "        [0, 0, 0, 0, 0, 0, 0, 0, 0, 0]], dtype=torch.uint8)"
      ]
     },
     "execution_count": 64,
     "metadata": {},
     "output_type": "execute_result"
    }
   ],
   "source": [
    "torch.triu(torch.ones(10,10), diagonal=1).byte()"
   ]
  },
  {
   "cell_type": "markdown",
   "metadata": {},
   "source": [
    "### Feed forward\n",
    "\n",
    "The feed forward cell is easy: it's just two linear layers with a skip connection and a LayerNorm."
   ]
  },
  {
   "cell_type": "code",
   "execution_count": 65,
   "metadata": {},
   "outputs": [],
   "source": [
    "def feed_forward(d_inp:int, d_ff:int, ff_p:float=0., double_drop:bool=True):\n",
    "    layers = [nn.Linear(d_inp, d_ff), nn.ReLU()]\n",
    "    if double_drop: layers.append(nn.Dropout(ff_p))\n",
    "        \n",
    "    return SequentialEx(*layers, \n",
    "                        nn.Linear(d_ff, d_inp), \n",
    "                        nn.Dropout(ff_p), \n",
    "                        MergeLayer(), \n",
    "                        nn.LayerNorm(d_inp))"
   ]
  },
  {
   "cell_type": "markdown",
   "metadata": {},
   "source": [
    "## Encoder and Decoder Blocks"
   ]
  },
  {
   "attachments": {
    "image.png": {
     "image/png": "[encoded data removed]"
    }
   },
   "cell_type": "markdown",
   "metadata": {},
   "source": [
    "![image.png](attachment:image.png)"
   ]
  },
  {
   "cell_type": "code",
   "execution_count": 66,
   "metadata": {},
   "outputs": [],
   "source": [
    "class EncoderBlock(nn.Module):\n",
    "    \"Encoder block of a Transformer model.\"\n",
    "    \n",
    "    def __init__(self, n_heads:int, d_inp:int, d_head:int, d_inner:int, \n",
    "                 resid_p:float=0., attn_p:float=0., ff_p:float=0.,\n",
    "                 bias:bool=True, scale:bool=True, double_drop:bool=True):\n",
    "        \n",
    "        super().__init__()\n",
    "        \n",
    "        self.mha = MultiHeadAttention(n_heads, d_inp, d_head, \n",
    "                                      resid_p=resid_p, attn_p=attn_p, bias=bias, scale=scale)\n",
    "        \n",
    "        self.ff = feed_forward(d_inp, d_inner, ff_p=ff_p, double_drop=double_drop)\n",
    "    \n",
    "    def forward(self, x:Tensor, mask:Tensor=None): \n",
    "        return self.ff(self.mha(x, x, x, mask=mask))"
   ]
  },
  {
   "cell_type": "code",
   "execution_count": 67,
   "metadata": {},
   "outputs": [],
   "source": [
    "class DecoderBlock(nn.Module):\n",
    "    \"Decoder block of a Transformer model.\"\n",
    "\n",
    "    def __init__(self, n_heads:int, d_inp:int, d_head:int, d_inner:int, \n",
    "                 resid_p:float=0., attn_p:float=0., ff_p:float=0.,\n",
    "                 bias:bool=True, scale:bool=True, double_drop:bool=True):\n",
    "        \n",
    "        super().__init__()\n",
    "        \n",
    "        self.mha1 = MultiHeadAttention(n_heads, d_inp, d_head, \n",
    "                                       resid_p=resid_p, attn_p=attn_p, bias=bias, scale=scale)\n",
    "        \n",
    "        self.mha2 = MultiHeadAttention(n_heads, d_inp, d_head, \n",
    "                                       resid_p=resid_p, attn_p=attn_p, bias=bias, scale=scale)\n",
    "        \n",
    "        self.ff = feed_forward(d_inp, d_inner, ff_p=ff_p, double_drop=double_drop)\n",
    "    \n",
    "    def forward(self, x:Tensor, enc:Tensor, mask_in:Tensor=None, mask_out:Tensor=None): \n",
    "        out = self.mha1(x, x, x, mask_out)          # self-attention\n",
    "        out = self.mha2(x, enc, enc, mask=mask_in)  # encoder/decoder attention\n",
    "        return self.ff(out)"
   ]
  },
  {
   "cell_type": "markdown",
   "metadata": {},
   "source": [
    "### The Transformer model"
   ]
  },
  {
   "cell_type": "code",
   "execution_count": 68,
   "metadata": {},
   "outputs": [],
   "source": [
    "class Transformer(nn.Module):\n",
    "    \"Transformer model\"\n",
    "    \n",
    "    def __init__(self, inp_vsz:int, out_vsz:int, \n",
    "                 n_layers:int=6, n_heads:int=8, d_inp:int=256, d_head:int=32, d_inner:int=1024, \n",
    "                 inp_p:float=0.1, resid_p:float=0.1, attn_p:float=0.1, ff_p:float=0.1, \n",
    "                 bias:bool=True, scale:bool=True, double_drop:bool=True, pad_idx:int=1):\n",
    "        \n",
    "        super().__init__()\n",
    "        \n",
    "        self.enc_emb = TransformerEmbedding(inp_vsz, d_inp, inp_p)\n",
    "        self.dec_emb = TransformerEmbedding(out_vsz, d_inp, 0.)\n",
    "        \n",
    "        self.encoder = nn.ModuleList([EncoderBlock(n_heads, d_inp, d_head, d_inner, resid_p, attn_p, ff_p, \n",
    "                                                   bias, scale, double_drop) for _ in range(n_layers)])\n",
    "        \n",
    "        self.decoder = nn.ModuleList([DecoderBlock(n_heads, d_inp, d_head, d_inner, \n",
    "                                                   resid_p, attn_p, ff_p, \n",
    "                                                   bias, scale, double_drop) for _ in range(n_layers)])\n",
    "        self.out = nn.Linear(d_inp, out_vsz)\n",
    "        \n",
    "        self.out.weight = self.dec_emb.embed.weight\n",
    "        \n",
    "        self.pad_idx = pad_idx\n",
    "        \n",
    "    def forward(self, inp, out):\n",
    "        mask_src  = get_padding_mask(inp, self.pad_idx)\n",
    "        mask_trg = get_output_mask (out, self.pad_idx)\n",
    "        \n",
    "        src, trg = self.enc_emb(inp), self.dec_emb(out)\n",
    "        \n",
    "        for enc_block in self.encoder: src = enc_block(src, mask_src)\n",
    "        for dec_block in self.decoder: trg = dec_block(trg, src, mask_src, mask_trg)\n",
    "        return self.out(trg)"
   ]
  },
  {
   "cell_type": "code",
   "execution_count": 69,
   "metadata": {},
   "outputs": [],
   "source": [
    "class Transformer2(nn.Module):\n",
    "    \"Transformer model\"\n",
    "    \n",
    "    def __init__(self, inp_vsz:int, out_vsz:int, \n",
    "                 n_layers:int=6, n_heads:int=8, d_inp:int=256, d_head:int=32, d_inner:int=1024, \n",
    "                 inp_p:float=0.1, resid_p:float=0.1, attn_p:float=0.1, ff_p:float=0.1, \n",
    "                 bias:bool=True, scale:bool=True, double_drop:bool=True, pad_idx:int=1):\n",
    "        \n",
    "        super().__init__()\n",
    "        \n",
    "        self.enc_emb = TransformerEmbedding(inp_vsz, d_inp, inp_p)\n",
    "        self.dec_emb = TransformerEmbedding(out_vsz, d_inp, 0.)\n",
    "        \n",
    "        self.encoder = nn.ModuleList([EncoderBlock(n_heads, d_inp, d_head, d_inner, resid_p, attn_p, ff_p, \n",
    "                                                   bias, scale, double_drop) for _ in range(n_layers)])\n",
    "        \n",
    "        self.decoder = nn.ModuleList([DecoderBlock(n_heads, d_inp, d_head, d_inner, \n",
    "                                                   resid_p, attn_p, ff_p, \n",
    "                                                   bias, scale, double_drop) for _ in range(n_layers)])\n",
    "        self.out = nn.Linear(d_inp, out_vsz)\n",
    "        \n",
    "        self.out.weight = self.dec_emb.embed.weight\n",
    "        \n",
    "        self.pad_idx = pad_idx\n",
    "        \n",
    "    def forward(self, inp, out):\n",
    "        mask_src  = get_padding_mask(inp, self.pad_idx)\n",
    "        mask_trg = get_output_mask (out, self.pad_idx)\n",
    "        \n",
    "        src, trg = self.enc_emb(inp), self.dec_emb(out)\n",
    "        \n",
    "        enc_outputs = []\n",
    "        for idx, enc_block in enumerate(self.encoder): \n",
    "            src = enc_block(src, mask_src)\n",
    "            enc_outputs.append(src)\n",
    "            \n",
    "        for idx, dec_block in enumerate(self.decoder): \n",
    "            trg = dec_block(trg, enc_outputs[idx], mask_src, mask_trg)\n",
    "            \n",
    "        return self.out(trg)"
   ]
  },
  {
   "cell_type": "markdown",
   "metadata": {},
   "source": [
    "## Bleu metric \n",
    "\n",
    "See dedicated notebook"
   ]
  },
  {
   "cell_type": "code",
   "execution_count": 70,
   "metadata": {},
   "outputs": [],
   "source": [
    "class NGram():\n",
    "    def __init__(self, ngram, max_n=5000): \n",
    "        self.ngram, self.max_n = ngram, max_n\n",
    "        \n",
    "    def __eq__(self, other):\n",
    "        if len(self.ngram) != len(other.ngram): return False\n",
    "        return np.all(np.array(self.ngram) == np.array(other.ngram))\n",
    "    \n",
    "    def __hash__(self): \n",
    "        return int(sum([ o * self.max_n**i for i, o in enumerate(self.ngram) ]))"
   ]
  },
  {
   "cell_type": "code",
   "execution_count": 71,
   "metadata": {},
   "outputs": [],
   "source": [
    "def get_grams(x, n, max_n=5000):\n",
    "    return x if n==1 else [ NGram(x[i:i+n], max_n=max_n) for i in range(len(x)-n+1) ]"
   ]
  },
  {
   "cell_type": "code",
   "execution_count": 72,
   "metadata": {},
   "outputs": [],
   "source": [
    "def get_correct_ngrams(pred, targ, n, max_n=5000):\n",
    "    pred_grams, targ_grams = get_grams(pred, n, max_n=max_n), get_grams(targ, n, max_n=max_n)\n",
    "    \n",
    "    pred_cnt, targ_cnt = Counter(pred_grams), Counter(targ_grams)\n",
    "    \n",
    "    return sum([ min(c, targ_cnt[g]) for g,c in pred_cnt.items() ]), len(pred_grams)"
   ]
  },
  {
   "cell_type": "code",
   "execution_count": 73,
   "metadata": {},
   "outputs": [],
   "source": [
    "class CorpusBLEU(Callback):\n",
    "    def __init__(self, vocab_sz):\n",
    "        self.vocab_sz = vocab_sz\n",
    "        self.name = 'bleu'\n",
    "    \n",
    "    def on_epoch_begin(self, **kwargs):\n",
    "        self.pred_len, self.targ_len, self.corrects, self.counts = 0, 0, [0]*4, [0]*4\n",
    "    \n",
    "    def on_batch_end(self, last_output, last_target, **kwargs):\n",
    "        last_output = last_output.argmax(dim=-1)\n",
    "        \n",
    "        for pred, targ in zip(last_output.cpu().numpy(), last_target.cpu().numpy()):\n",
    "            self.pred_len += len(pred)\n",
    "            self.targ_len += len(targ)\n",
    "            \n",
    "            for i in range(4):\n",
    "                c, t = get_correct_ngrams(pred, targ, i+1, max_n=self.vocab_sz)\n",
    "                self.corrects[i] += c\n",
    "                self.counts[i] += t\n",
    "    \n",
    "    def on_epoch_end(self, last_metrics, **kwargs):\n",
    "        precs = [ c/t for c, t in zip(self.corrects,self.counts) ]\n",
    "        \n",
    "        len_penalty = exp(1 - self.targ_len/self.pred_len) if self.pred_len < self.targ_len else 1\n",
    "        \n",
    "        bleu = len_penalty * ((precs[0] * precs[1] * precs[2] * precs[3]) ** 0.25)\n",
    "        \n",
    "        return add_metrics(last_metrics, bleu)"
   ]
  },
  {
   "cell_type": "markdown",
   "metadata": {},
   "source": [
    "## Training"
   ]
  },
  {
   "cell_type": "code",
   "execution_count": 74,
   "metadata": {},
   "outputs": [],
   "source": [
    "shifted_idx = en_tok.special_cases.index(BOS)\n",
    "data = load_data(PATH, 'data_2.pkl', bs=128, val_bs=256, shifted_idx=shifted_idx)"
   ]
  },
  {
   "cell_type": "code",
   "execution_count": 75,
   "metadata": {},
   "outputs": [],
   "source": [
    "try: learn.destroy(); learn.purge(); learn = None; gc.collect(); torch.cuda.empty_cache()\n",
    "except: pass"
   ]
  },
  {
   "cell_type": "code",
   "execution_count": 76,
   "metadata": {},
   "outputs": [],
   "source": [
    "p_mult= 1\n",
    "\n",
    "model = Transformer(len(data.train_ds.x.vocab.itos), len(data.train_ds.y.vocab.itos), \n",
    "                    n_layers=6, d_inp=512, n_heads=8, d_head=64, d_inner=2048,\n",
    "                    inp_p=0.1*p_mult, resid_p=0.1*p_mult, attn_p=0.1*p_mult, ff_p=0.1*p_mult)"
   ]
  },
  {
   "cell_type": "code",
   "execution_count": 77,
   "metadata": {},
   "outputs": [],
   "source": [
    "learn = Learner(data, \n",
    "                model, \n",
    "                metrics=[ accuracy, CorpusBLEU(len(data.train_ds.y.vocab.itos)) ], \n",
    "                loss_func = CrossEntropyFlat())"
   ]
  },
  {
   "cell_type": "code",
   "execution_count": 78,
   "metadata": {},
   "outputs": [
    {
     "data": {
      "text/html": [],
      "text/plain": [
       "<IPython.core.display.HTML object>"
      ]
     },
     "metadata": {},
     "output_type": "display_data"
    },
    {
     "name": "stdout",
     "output_type": "stream",
     "text": [
      "LR Finder is complete, type {learner_name}.recorder.plot() to see the graph.\n"
     ]
    },
    {
     "data": {
      "image/png": "[encoded data removed]",
      "text/plain": [
       "<Figure size 432x288 with 1 Axes>"
      ]
     },
     "metadata": {
      "needs_background": "light"
     },
     "output_type": "display_data"
    }
   ],
   "source": [
    "learn.lr_find()\n",
    "learn.recorder.plot()"
   ]
  },
  {
   "cell_type": "code",
   "execution_count": 79,
   "metadata": {},
   "outputs": [
    {
     "data": {
      "text/html": [
       "<table border=\"1\" class=\"dataframe\">\n",
       "  <thead>\n",
       "    <tr style=\"text-align: left;\">\n",
       "      <th>epoch</th>\n",
       "      <th>train_loss</th>\n",
       "      <th>valid_loss</th>\n",
       "      <th>accuracy</th>\n",
       "      <th>bleu</th>\n",
       "      <th>time</th>\n",
       "    </tr>\n",
       "  </thead>\n",
       "  <tbody>\n",
       "    <tr>\n",
       "      <td>0</td>\n",
       "      <td>2.451249</td>\n",
       "      <td>2.341283</td>\n",
       "      <td>0.650746</td>\n",
       "      <td>0.548448</td>\n",
       "      <td>01:18</td>\n",
       "    </tr>\n",
       "    <tr>\n",
       "      <td>1</td>\n",
       "      <td>2.216482</td>\n",
       "      <td>2.086355</td>\n",
       "      <td>0.677285</td>\n",
       "      <td>0.552907</td>\n",
       "      <td>01:19</td>\n",
       "    </tr>\n",
       "    <tr>\n",
       "      <td>2</td>\n",
       "      <td>1.744299</td>\n",
       "      <td>1.791988</td>\n",
       "      <td>0.717938</td>\n",
       "      <td>0.586367</td>\n",
       "      <td>01:20</td>\n",
       "    </tr>\n",
       "    <tr>\n",
       "      <td>3</td>\n",
       "      <td>1.437060</td>\n",
       "      <td>1.545233</td>\n",
       "      <td>0.747074</td>\n",
       "      <td>0.614853</td>\n",
       "      <td>01:19</td>\n",
       "    </tr>\n",
       "    <tr>\n",
       "      <td>4</td>\n",
       "      <td>1.225073</td>\n",
       "      <td>1.425202</td>\n",
       "      <td>0.763856</td>\n",
       "      <td>0.632004</td>\n",
       "      <td>01:20</td>\n",
       "    </tr>\n",
       "    <tr>\n",
       "      <td>5</td>\n",
       "      <td>0.924580</td>\n",
       "      <td>1.396154</td>\n",
       "      <td>0.773153</td>\n",
       "      <td>0.643565</td>\n",
       "      <td>01:20</td>\n",
       "    </tr>\n",
       "    <tr>\n",
       "      <td>6</td>\n",
       "      <td>0.796753</td>\n",
       "      <td>1.402485</td>\n",
       "      <td>0.777286</td>\n",
       "      <td>0.648901</td>\n",
       "      <td>01:20</td>\n",
       "    </tr>\n",
       "    <tr>\n",
       "      <td>7</td>\n",
       "      <td>0.698285</td>\n",
       "      <td>1.412895</td>\n",
       "      <td>0.777405</td>\n",
       "      <td>0.649557</td>\n",
       "      <td>01:20</td>\n",
       "    </tr>\n",
       "  </tbody>\n",
       "</table>"
      ],
      "text/plain": [
       "<IPython.core.display.HTML object>"
      ]
     },
     "metadata": {},
     "output_type": "display_data"
    }
   ],
   "source": [
    "learn.fit_one_cycle(8, 5e-4, div_factor=5)\n",
    "\n",
    "# final acc/bleu Transformer  = 0.777987\t0.650103\n",
    "# final acc/bleu Transformer2 = 0.778919\t0.655187"
   ]
  },
  {
   "cell_type": "code",
   "execution_count": 72,
   "metadata": {},
   "outputs": [],
   "source": [
    "def get_predictions(learn, ds_type=DatasetType.Valid):\n",
    "    learn.model.eval()\n",
    "    \n",
    "    inputs, targets, outputs = [], [], []\n",
    "    with torch.no_grad():\n",
    "        for xb,yb in progress_bar(learn.dl(ds_type)):\n",
    "            out = learn.model(*xb)\n",
    "            \n",
    "            for x,y,z in zip(xb[0], xb[1], out):\n",
    "                inputs.append(learn.data.train_ds.x.reconstruct(x))\n",
    "                targets.append(learn.data.train_ds.y.reconstruct(y))\n",
    "                outputs.append(learn.data.train_ds.y.reconstruct(z.argmax(1)))\n",
    "                \n",
    "    return inputs, targets, outputs"
   ]
  },
  {
   "cell_type": "code",
   "execution_count": 73,
   "metadata": {},
   "outputs": [
    {
     "data": {
      "text/html": [
       "\n",
       "    <div>\n",
       "        <style>\n",
       "            /* Turns off some styling */\n",
       "            progress {\n",
       "                /* gets rid of default border in Firefox and Opera. */\n",
       "                border: none;\n",
       "                /* Needs to be in here for Safari polyfill so background images work as expected. */\n",
       "                background-size: auto;\n",
       "            }\n",
       "            .progress-bar-interrupted, .progress-bar-interrupted::-webkit-progress-bar {\n",
       "                background: #F44336;\n",
       "            }\n",
       "        </style>\n",
       "      <progress value='39' class='' max='39', style='width:300px; height:20px; vertical-align: middle;'></progress>\n",
       "      100.00% [39/39 00:19<00:00]\n",
       "    </div>\n",
       "    "
      ],
      "text/plain": [
       "<IPython.core.display.HTML object>"
      ]
     },
     "metadata": {},
     "output_type": "display_data"
    }
   ],
   "source": [
    "inputs, targets, outputs = get_predictions(learn)"
   ]
  },
  {
   "cell_type": "code",
   "execution_count": 74,
   "metadata": {},
   "outputs": [
    {
     "data": {
      "text/plain": [
       "(Text xxmaj pourquoi le xxmaj conseil de l’ xxmaj europe organise - t - il une grande campagne contre la violence à l’ égard des femmes , y compris la violence domestique , et pourquoi aujourd’hui ?,\n",
       " Text xxbos xxmaj why is the xxmaj council of xxmaj europe carrying out an entire campaign against domestic violence – and why now ?,\n",
       " Text xxmaj why is the xxmaj council of xxmaj europe revise out an campaign campaign against women violence against – women is ,)"
      ]
     },
     "execution_count": 74,
     "metadata": {},
     "output_type": "execute_result"
    }
   ],
   "source": [
    "inputs[10],targets[10],outputs[10]"
   ]
  },
  {
   "cell_type": "code",
   "execution_count": 75,
   "metadata": {},
   "outputs": [
    {
     "data": {
      "text/plain": [
       "(Text xxmaj quelles préoccupations pour la santé les chercheurs médicaux soulèvent - ils à propos des matières plastiques pouvant se « xxunk » dans l’ eau des bouteilles ?,\n",
       " Text xxbos xxmaj what kind of health questions do medical researchers raise about xxunk \" xxunk \" into the water in water xxunk ?,\n",
       " Text xxmaj what health of health concerns to the researchers from the the a hazardous a bumped the \" supply the supply a)"
      ]
     },
     "execution_count": 75,
     "metadata": {},
     "output_type": "execute_result"
    }
   ],
   "source": [
    "inputs[700],targets[700],outputs[700]"
   ]
  },
  {
   "cell_type": "code",
   "execution_count": 76,
   "metadata": {},
   "outputs": [
    {
     "data": {
      "text/plain": [
       "(Text xxmaj quelle autre proposition suggèreriez - vous afin d’ élaborer et de réorganiser les approches au problème des xxup lmr dans le processus du xxmaj renouveau législatif ?,\n",
       " Text xxbos xxmaj what other proposals would you suggest to revamp approaches to the xxup mrl issue in the legislation renewal process ?,\n",
       " Text xxmaj what other proposal would you suggest to develop approaches to the xxup ea issue of the xxmaj legislation process ?)"
      ]
     },
     "execution_count": 76,
     "metadata": {},
     "output_type": "execute_result"
    }
   ],
   "source": [
    "inputs[701],targets[701],outputs[701]"
   ]
  },
  {
   "cell_type": "code",
   "execution_count": 77,
   "metadata": {},
   "outputs": [
    {
     "data": {
      "text/plain": [
       "(Text xxmaj quelles sont les exigences et les étapes à franchir en vue d' obtenir un enregistrement de xxup tci ?,\n",
       " Text xxbos xxmaj what are the requirements and steps for obtaining an integrated circuit topography registration ?,\n",
       " Text xxmaj what are the requirements and steps for xxmaj a xxup xxmaj topography ? ?)"
      ]
     },
     "execution_count": 77,
     "metadata": {},
     "output_type": "execute_result"
    }
   ],
   "source": [
    "inputs[2500],targets[2500],outputs[2500]"
   ]
  },
  {
   "cell_type": "code",
   "execution_count": 78,
   "metadata": {},
   "outputs": [
    {
     "data": {
      "text/plain": [
       "(Text xxmaj quelle serait l' incidence d' une telle obligation sur les fournisseurs de services de programmation ?,\n",
       " Text xxbos xxmaj what effect , if any , would such a requirement have on programming service providers ?,\n",
       " Text xxmaj what would would if any , does have service service of on programming programming providers ?)"
      ]
     },
     "execution_count": 78,
     "metadata": {},
     "output_type": "execute_result"
    }
   ],
   "source": [
    "inputs[4002],targets[4002],outputs[4002]"
   ]
  },
  {
   "cell_type": "markdown",
   "metadata": {},
   "source": [
    "## Training with Label smoothing\n",
    "\n",
    "They point out in the paper that using label smoothing helped getting a better BLEU/accuracy, even if it made the loss worse."
   ]
  },
  {
   "cell_type": "code",
   "execution_count": 79,
   "metadata": {},
   "outputs": [
    {
     "name": "stdout",
     "output_type": "stream",
     "text": [
      "this Learner object self-destroyed - it still exists, but no longer usable\n",
      "this object has been destroyed\n"
     ]
    }
   ],
   "source": [
    "try: learn.destroy(); learn.purge(); learn = None; gc.collect(); torch.cuda.empty_cache()\n",
    "except: pass"
   ]
  },
  {
   "cell_type": "code",
   "execution_count": 80,
   "metadata": {},
   "outputs": [],
   "source": [
    "p_mult= 1\n",
    "\n",
    "model = Transformer(len(data.train_ds.x.vocab.itos), len(data.train_ds.y.vocab.itos), \n",
    "                    n_layers=6, d_inp=512, n_heads=8, d_head=64, d_inner=2048,\n",
    "                    inp_p=0.1*p_mult, resid_p=0.1*p_mult, attn_p=0.1*p_mult, ff_p=0.1*p_mult)"
   ]
  },
  {
   "cell_type": "code",
   "execution_count": 81,
   "metadata": {},
   "outputs": [],
   "source": [
    "learn = Learner(data, \n",
    "                model, \n",
    "                metrics=[accuracy, CorpusBLEU(len(data.train_ds.y.vocab.itos))], \n",
    "                loss_func=FlattenedLoss(LabelSmoothingCrossEntropy, axis=-1))"
   ]
  },
  {
   "cell_type": "code",
   "execution_count": 82,
   "metadata": {},
   "outputs": [
    {
     "data": {
      "text/html": [
       "<table border=\"1\" class=\"dataframe\">\n",
       "  <thead>\n",
       "    <tr style=\"text-align: left;\">\n",
       "      <th>epoch</th>\n",
       "      <th>train_loss</th>\n",
       "      <th>valid_loss</th>\n",
       "      <th>accuracy</th>\n",
       "      <th>bleu</th>\n",
       "      <th>time</th>\n",
       "    </tr>\n",
       "  </thead>\n",
       "  <tbody>\n",
       "    <tr>\n",
       "      <td>0</td>\n",
       "      <td>3.444345</td>\n",
       "      <td>3.331615</td>\n",
       "      <td>0.653676</td>\n",
       "      <td>0.547837</td>\n",
       "      <td>01:20</td>\n",
       "    </tr>\n",
       "    <tr>\n",
       "      <td>1</td>\n",
       "      <td>3.179899</td>\n",
       "      <td>3.144272</td>\n",
       "      <td>0.671906</td>\n",
       "      <td>0.553816</td>\n",
       "      <td>01:21</td>\n",
       "    </tr>\n",
       "    <tr>\n",
       "      <td>2</td>\n",
       "      <td>2.976780</td>\n",
       "      <td>2.935330</td>\n",
       "      <td>0.705135</td>\n",
       "      <td>0.572160</td>\n",
       "      <td>01:20</td>\n",
       "    </tr>\n",
       "    <tr>\n",
       "      <td>3</td>\n",
       "      <td>2.670957</td>\n",
       "      <td>2.692283</td>\n",
       "      <td>0.741964</td>\n",
       "      <td>0.607721</td>\n",
       "      <td>01:19</td>\n",
       "    </tr>\n",
       "    <tr>\n",
       "      <td>4</td>\n",
       "      <td>2.469953</td>\n",
       "      <td>2.570217</td>\n",
       "      <td>0.760099</td>\n",
       "      <td>0.626703</td>\n",
       "      <td>01:19</td>\n",
       "    </tr>\n",
       "    <tr>\n",
       "      <td>5</td>\n",
       "      <td>2.240818</td>\n",
       "      <td>2.533178</td>\n",
       "      <td>0.768883</td>\n",
       "      <td>0.636445</td>\n",
       "      <td>01:19</td>\n",
       "    </tr>\n",
       "    <tr>\n",
       "      <td>6</td>\n",
       "      <td>2.055273</td>\n",
       "      <td>2.520301</td>\n",
       "      <td>0.774898</td>\n",
       "      <td>0.645486</td>\n",
       "      <td>01:20</td>\n",
       "    </tr>\n",
       "    <tr>\n",
       "      <td>7</td>\n",
       "      <td>1.996721</td>\n",
       "      <td>2.531414</td>\n",
       "      <td>0.775542</td>\n",
       "      <td>0.646462</td>\n",
       "      <td>01:20</td>\n",
       "    </tr>\n",
       "  </tbody>\n",
       "</table>"
      ],
      "text/plain": [
       "<IPython.core.display.HTML object>"
      ]
     },
     "metadata": {},
     "output_type": "display_data"
    }
   ],
   "source": [
    "learn.fit_one_cycle(8, 5e-4, div_factor=5)"
   ]
  },
  {
   "cell_type": "code",
   "execution_count": 83,
   "metadata": {},
   "outputs": [
    {
     "data": {
      "text/html": [
       "<table border=\"1\" class=\"dataframe\">\n",
       "  <thead>\n",
       "    <tr style=\"text-align: left;\">\n",
       "      <th>epoch</th>\n",
       "      <th>train_loss</th>\n",
       "      <th>valid_loss</th>\n",
       "      <th>accuracy</th>\n",
       "      <th>bleu</th>\n",
       "      <th>time</th>\n",
       "    </tr>\n",
       "  </thead>\n",
       "  <tbody>\n",
       "    <tr>\n",
       "      <td>0</td>\n",
       "      <td>2.062765</td>\n",
       "      <td>2.542817</td>\n",
       "      <td>0.771094</td>\n",
       "      <td>0.641162</td>\n",
       "      <td>01:19</td>\n",
       "    </tr>\n",
       "    <tr>\n",
       "      <td>1</td>\n",
       "      <td>2.090187</td>\n",
       "      <td>2.544931</td>\n",
       "      <td>0.769975</td>\n",
       "      <td>0.639861</td>\n",
       "      <td>01:20</td>\n",
       "    </tr>\n",
       "    <tr>\n",
       "      <td>2</td>\n",
       "      <td>2.043633</td>\n",
       "      <td>2.546366</td>\n",
       "      <td>0.772180</td>\n",
       "      <td>0.643641</td>\n",
       "      <td>01:18</td>\n",
       "    </tr>\n",
       "    <tr>\n",
       "      <td>3</td>\n",
       "      <td>1.917475</td>\n",
       "      <td>2.533861</td>\n",
       "      <td>0.777781</td>\n",
       "      <td>0.652558</td>\n",
       "      <td>01:20</td>\n",
       "    </tr>\n",
       "    <tr>\n",
       "      <td>4</td>\n",
       "      <td>1.778482</td>\n",
       "      <td>2.548270</td>\n",
       "      <td>0.784087</td>\n",
       "      <td>0.660600</td>\n",
       "      <td>01:20</td>\n",
       "    </tr>\n",
       "    <tr>\n",
       "      <td>5</td>\n",
       "      <td>1.636508</td>\n",
       "      <td>2.570303</td>\n",
       "      <td>0.789192</td>\n",
       "      <td>0.670855</td>\n",
       "      <td>01:21</td>\n",
       "    </tr>\n",
       "    <tr>\n",
       "      <td>6</td>\n",
       "      <td>1.552929</td>\n",
       "      <td>2.590939</td>\n",
       "      <td>0.791898</td>\n",
       "      <td>0.676279</td>\n",
       "      <td>01:19</td>\n",
       "    </tr>\n",
       "    <tr>\n",
       "      <td>7</td>\n",
       "      <td>1.501993</td>\n",
       "      <td>2.598413</td>\n",
       "      <td>0.792549</td>\n",
       "      <td>0.677013</td>\n",
       "      <td>01:20</td>\n",
       "    </tr>\n",
       "  </tbody>\n",
       "</table>"
      ],
      "text/plain": [
       "<IPython.core.display.HTML object>"
      ]
     },
     "metadata": {},
     "output_type": "display_data"
    }
   ],
   "source": [
    "learn.fit_one_cycle(8, 5e-4, div_factor=5)\n",
    "\n",
    "# final acc/bleu Transformer  = 0.792145\t0.676361\n",
    "# final acc/bleu Transformer2 = 0.792084\t0.679445"
   ]
  },
  {
   "cell_type": "code",
   "execution_count": 84,
   "metadata": {},
   "outputs": [
    {
     "name": "stdout",
     "output_type": "stream",
     "text": [
      "Quels sont les atouts particuliers du Canada en recherche sur l'obésité sur la scène internationale ?\n",
      "What are Specific strengths canada strengths in obesity - ? are up canada ? from international international stage ?\n",
      "Quelles sont les répercussions politiques à long terme de cette révolution scientifique mondiale ?\n",
      "What are the long the long - term policies implications of this global scientific ? ?\n"
     ]
    }
   ],
   "source": [
    "print(\"Quels sont les atouts particuliers du Canada en recherche sur l'obésité sur la scène internationale ?\")\n",
    "\n",
    "print(\"What are Specific strengths canada strengths in obesity - ? are up canada ? from international international stage ?\")\n",
    "\n",
    "print(\"Quelles sont les répercussions politiques à long terme de cette révolution scientifique mondiale ?\")\n",
    "\n",
    "print(\"What are the long the long - term policies implications of this global scientific ? ?\")"
   ]
  },
  {
   "cell_type": "code",
   "execution_count": 85,
   "metadata": {},
   "outputs": [
    {
     "data": {
      "text/html": [
       "\n",
       "    <div>\n",
       "        <style>\n",
       "            /* Turns off some styling */\n",
       "            progress {\n",
       "                /* gets rid of default border in Firefox and Opera. */\n",
       "                border: none;\n",
       "                /* Needs to be in here for Safari polyfill so background images work as expected. */\n",
       "                background-size: auto;\n",
       "            }\n",
       "            .progress-bar-interrupted, .progress-bar-interrupted::-webkit-progress-bar {\n",
       "                background: #F44336;\n",
       "            }\n",
       "        </style>\n",
       "      <progress value='39' class='' max='39', style='width:300px; height:20px; vertical-align: middle;'></progress>\n",
       "      100.00% [39/39 00:19<00:00]\n",
       "    </div>\n",
       "    "
      ],
      "text/plain": [
       "<IPython.core.display.HTML object>"
      ]
     },
     "metadata": {},
     "output_type": "display_data"
    }
   ],
   "source": [
    "inputs, targets, outputs = get_predictions(learn)"
   ]
  },
  {
   "cell_type": "code",
   "execution_count": 86,
   "metadata": {},
   "outputs": [
    {
     "data": {
      "text/plain": [
       "(Text xxmaj pourquoi le xxmaj conseil de l’ xxmaj europe organise - t - il une grande campagne contre la violence à l’ égard des femmes , y compris la violence domestique , et pourquoi aujourd’hui ?,\n",
       " Text xxbos xxmaj why is the xxmaj council of xxmaj europe carrying out an entire campaign against domestic violence – and why now ?,\n",
       " Text xxmaj why is the xxmaj council of xxmaj europe carrying out an entire campaign against violence violence , and why now ?)"
      ]
     },
     "execution_count": 86,
     "metadata": {},
     "output_type": "execute_result"
    }
   ],
   "source": [
    "inputs[10],targets[10],outputs[10]"
   ]
  },
  {
   "cell_type": "code",
   "execution_count": 87,
   "metadata": {},
   "outputs": [
    {
     "data": {
      "text/plain": [
       "(Text xxmaj quelles préoccupations pour la santé les chercheurs médicaux soulèvent - ils à propos des matières plastiques pouvant se « xxunk » dans l’ eau des bouteilles ?,\n",
       " Text xxbos xxmaj what kind of health questions do medical researchers raise about xxunk \" xxunk \" into the water in water xxunk ?,\n",
       " Text xxmaj what concerns of health researchers using to researchers using xxmaj the the green for restaurants \" \" ? the ? ?)"
      ]
     },
     "execution_count": 87,
     "metadata": {},
     "output_type": "execute_result"
    }
   ],
   "source": [
    "inputs[700],targets[700],outputs[700]"
   ]
  },
  {
   "cell_type": "code",
   "execution_count": 88,
   "metadata": {},
   "outputs": [
    {
     "data": {
      "text/plain": [
       "(Text xxmaj quelle autre proposition suggèreriez - vous afin d’ élaborer et de réorganiser les approches au problème des xxup lmr dans le processus du xxmaj renouveau législatif ?,\n",
       " Text xxbos xxmaj what other proposals would you suggest to revamp approaches to the xxup mrl issue in the legislation renewal process ?,\n",
       " Text xxmaj what other proposals would you suggest to the approaches to the xxup mrl issue in the legislation renewal process ?)"
      ]
     },
     "execution_count": 88,
     "metadata": {},
     "output_type": "execute_result"
    }
   ],
   "source": [
    "inputs[701],targets[701],outputs[701]"
   ]
  },
  {
   "cell_type": "code",
   "execution_count": 89,
   "metadata": {},
   "outputs": [
    {
     "data": {
      "text/plain": [
       "(Text xxmaj quelles sont les exigences et les étapes à franchir en vue d' obtenir un enregistrement de xxup tci ?,\n",
       " Text xxbos xxmaj what are the requirements and steps for obtaining an integrated circuit topography registration ?,\n",
       " Text xxmaj what are the requirements and steps to obtaining a xxup xxup topography registration ?)"
      ]
     },
     "execution_count": 89,
     "metadata": {},
     "output_type": "execute_result"
    }
   ],
   "source": [
    "inputs[2500],targets[2500],outputs[2500]"
   ]
  },
  {
   "cell_type": "code",
   "execution_count": 90,
   "metadata": {},
   "outputs": [
    {
     "data": {
      "text/plain": [
       "(Text xxmaj quelle serait l' incidence d' une telle obligation sur les fournisseurs de services de programmation ?,\n",
       " Text xxbos xxmaj what effect , if any , would such a requirement have on programming service providers ?,\n",
       " Text xxmaj what would would if any , do such a responsibility of on programming ? providers ?)"
      ]
     },
     "execution_count": 90,
     "metadata": {},
     "output_type": "execute_result"
    }
   ],
   "source": [
    "inputs[4002],targets[4002],outputs[4002]"
   ]
  },
  {
   "cell_type": "code",
   "execution_count": null,
   "metadata": {},
   "outputs": [],
   "source": []
  },
  {
   "cell_type": "code",
   "execution_count": 80,
   "metadata": {},
   "outputs": [
    {
     "data": {
      "text/plain": [
       "2"
      ]
     },
     "execution_count": 80,
     "metadata": {},
     "output_type": "execute_result"
    }
   ],
   "source": [
    "en_tok.special_cases.index(BOS)"
   ]
  },
  {
   "cell_type": "code",
   "execution_count": 88,
   "metadata": {},
   "outputs": [],
   "source": [
    "def beam_search(learn, ds_type=DatasetType.Valid, n_words:int=20, \n",
    "                no_unk:bool=True, top_k:int=10, beam_sz:int=1000, temperature:float=1.,\n",
    "                sep:str=' '):\n",
    "    \n",
    "    \"Return the `n_words` that come after `text` using beam search.\"\n",
    "    \n",
    "    learn.model.eval()\n",
    "    \n",
    "    bos_idx = en_tok.special_cases.index(BOS)\n",
    "    \n",
    "    inputs, targets, outputs = [], [], []\n",
    "    \n",
    "    with torch.no_grad():\n",
    "        for xb,yb in progress_bar(learn.dl(ds_type)):\n",
    "\n",
    "            nodes = None\n",
    "            bsz, inp_sl = xb[0].size()\n",
    "            dec_inp = (xb[0].new_zeros(bsz) + bos_idx).unsqueeze(1)\n",
    "            nodes = dec_inp.clone()\n",
    "            scores = dec_inp.new_zeros(1).float()\n",
    "            \n",
    "            for k in progress_bar(range(n_words), leave=False):\n",
    "                \n",
    "                out = F.log_softmax(learn.model(xb[0], dec_inp), dim=-1) #=> (bsz, :k, vocab_sz)\n",
    "                \n",
    "                if no_unk: out[:,:,learn.data.y.vocab.stoi[UNK]] = -float('Inf')\n",
    "                    \n",
    "                values, indices = out.topk(top_k, dim=-1)     #=> (256, 1, 10) | (256, 1, 10)\n",
    "                scores = (-values + scores[:,None]).view(-1)  #=> (2560)\n",
    "            \n",
    "                indices_idx = torch.arange(0, bsz)[:,None].expand(bsz, top_k).contiguous().view(-1) #=> (2560)\n",
    "                \n",
    "                sort_idx = scores.argsort()[:beam_sz] #=> (1000)\n",
    "                scores = scores[sort_idx]             #=> (1000)\n",
    "                \n",
    "                pdb.set_trace()\n",
    "                nodes = torch.cat([nodes[:,None].expand(bsz, top_k, nodes.size(1)),\n",
    "                                   indices[:,:,:,None].expand(bsz, top_k, 1),], dim=2)\n",
    "                \n",
    "                nodes = nodes.view(-1, nodes.size(2))[sort_idx]\n",
    "                \n",
    "                learn.model[0].select_hidden(indices_idx[sort_idx])\n",
    "                xb = nodes[:,-1][:,None]\n",
    "                \n",
    "            if temperature != 1.: scores.div_(temperature)\n",
    "            \n",
    "            node_idx = torch.multinomial(torch.exp(-scores), 1).item()\n",
    "            \n",
    "            for x,y,z in zip(xb[0], xb[1], out):\n",
    "                inputs.append(learn.data.train_ds.x.reconstruct(x))\n",
    "                targets.append(learn.data.train_ds.y.reconstruct(y))\n",
    "                outputs.append(learn.data.train_ds.y.reconstruct(z.argmax(1)))\n",
    "                \n",
    "    return inputs, targets, outputs"
   ]
  },
  {
   "cell_type": "code",
   "execution_count": 89,
   "metadata": {},
   "outputs": [
    {
     "ename": "BdbQuit",
     "evalue": "",
     "output_type": "error",
     "traceback": [
      "\u001b[0;31m---------------------------------------------------------------------------\u001b[0m",
      "\u001b[0;31mBdbQuit\u001b[0m                                   Traceback (most recent call last)",
      "\u001b[0;32m<ipython-input-89-8999130d2db9>\u001b[0m in \u001b[0;36m<module>\u001b[0;34m\u001b[0m\n\u001b[0;32m----> 1\u001b[0;31m \u001b[0minputs\u001b[0m\u001b[0;34m,\u001b[0m \u001b[0mtargets\u001b[0m\u001b[0;34m,\u001b[0m \u001b[0moutputs\u001b[0m \u001b[0;34m=\u001b[0m \u001b[0mbeam_search\u001b[0m\u001b[0;34m(\u001b[0m\u001b[0mlearn\u001b[0m\u001b[0;34m)\u001b[0m\u001b[0;34m\u001b[0m\u001b[0;34m\u001b[0m\u001b[0m\n\u001b[0m",
      "\u001b[0;32m<ipython-input-88-46c4f15a9caf>\u001b[0m in \u001b[0;36mbeam_search\u001b[0;34m(learn, ds_type, n_words, no_unk, top_k, beam_sz, temperature, sep)\u001b[0m\n\u001b[1;32m     35\u001b[0m \u001b[0;34m\u001b[0m\u001b[0m\n\u001b[1;32m     36\u001b[0m                 \u001b[0mpdb\u001b[0m\u001b[0;34m.\u001b[0m\u001b[0mset_trace\u001b[0m\u001b[0;34m(\u001b[0m\u001b[0;34m)\u001b[0m\u001b[0;34m\u001b[0m\u001b[0;34m\u001b[0m\u001b[0m\n\u001b[0;32m---> 37\u001b[0;31m                 nodes = torch.cat([nodes[:,None].expand(bsz, top_k, nodes.size(1)),\n\u001b[0m\u001b[1;32m     38\u001b[0m                                    indices[:,:,None].expand(bsz, top_k, 1),], dim=2)\n\u001b[1;32m     39\u001b[0m \u001b[0;34m\u001b[0m\u001b[0m\n",
      "\u001b[0;32m<ipython-input-88-46c4f15a9caf>\u001b[0m in \u001b[0;36mbeam_search\u001b[0;34m(learn, ds_type, n_words, no_unk, top_k, beam_sz, temperature, sep)\u001b[0m\n\u001b[1;32m     35\u001b[0m \u001b[0;34m\u001b[0m\u001b[0m\n\u001b[1;32m     36\u001b[0m                 \u001b[0mpdb\u001b[0m\u001b[0;34m.\u001b[0m\u001b[0mset_trace\u001b[0m\u001b[0;34m(\u001b[0m\u001b[0;34m)\u001b[0m\u001b[0;34m\u001b[0m\u001b[0;34m\u001b[0m\u001b[0m\n\u001b[0;32m---> 37\u001b[0;31m                 nodes = torch.cat([nodes[:,None].expand(bsz, top_k, nodes.size(1)),\n\u001b[0m\u001b[1;32m     38\u001b[0m                                    indices[:,:,None].expand(bsz, top_k, 1),], dim=2)\n\u001b[1;32m     39\u001b[0m \u001b[0;34m\u001b[0m\u001b[0m\n",
      "\u001b[0;32m~/anaconda3/lib/python3.7/bdb.py\u001b[0m in \u001b[0;36mtrace_dispatch\u001b[0;34m(self, frame, event, arg)\u001b[0m\n\u001b[1;32m     86\u001b[0m             \u001b[0;32mreturn\u001b[0m \u001b[0;31m# None\u001b[0m\u001b[0;34m\u001b[0m\u001b[0;34m\u001b[0m\u001b[0m\n\u001b[1;32m     87\u001b[0m         \u001b[0;32mif\u001b[0m \u001b[0mevent\u001b[0m \u001b[0;34m==\u001b[0m \u001b[0;34m'line'\u001b[0m\u001b[0;34m:\u001b[0m\u001b[0;34m\u001b[0m\u001b[0;34m\u001b[0m\u001b[0m\n\u001b[0;32m---> 88\u001b[0;31m             \u001b[0;32mreturn\u001b[0m \u001b[0mself\u001b[0m\u001b[0;34m.\u001b[0m\u001b[0mdispatch_line\u001b[0m\u001b[0;34m(\u001b[0m\u001b[0mframe\u001b[0m\u001b[0;34m)\u001b[0m\u001b[0;34m\u001b[0m\u001b[0;34m\u001b[0m\u001b[0m\n\u001b[0m\u001b[1;32m     89\u001b[0m         \u001b[0;32mif\u001b[0m \u001b[0mevent\u001b[0m \u001b[0;34m==\u001b[0m \u001b[0;34m'call'\u001b[0m\u001b[0;34m:\u001b[0m\u001b[0;34m\u001b[0m\u001b[0;34m\u001b[0m\u001b[0m\n\u001b[1;32m     90\u001b[0m             \u001b[0;32mreturn\u001b[0m \u001b[0mself\u001b[0m\u001b[0;34m.\u001b[0m\u001b[0mdispatch_call\u001b[0m\u001b[0;34m(\u001b[0m\u001b[0mframe\u001b[0m\u001b[0;34m,\u001b[0m \u001b[0marg\u001b[0m\u001b[0;34m)\u001b[0m\u001b[0;34m\u001b[0m\u001b[0;34m\u001b[0m\u001b[0m\n",
      "\u001b[0;32m~/anaconda3/lib/python3.7/bdb.py\u001b[0m in \u001b[0;36mdispatch_line\u001b[0;34m(self, frame)\u001b[0m\n\u001b[1;32m    111\u001b[0m         \u001b[0;32mif\u001b[0m \u001b[0mself\u001b[0m\u001b[0;34m.\u001b[0m\u001b[0mstop_here\u001b[0m\u001b[0;34m(\u001b[0m\u001b[0mframe\u001b[0m\u001b[0;34m)\u001b[0m \u001b[0;32mor\u001b[0m \u001b[0mself\u001b[0m\u001b[0;34m.\u001b[0m\u001b[0mbreak_here\u001b[0m\u001b[0;34m(\u001b[0m\u001b[0mframe\u001b[0m\u001b[0;34m)\u001b[0m\u001b[0;34m:\u001b[0m\u001b[0;34m\u001b[0m\u001b[0;34m\u001b[0m\u001b[0m\n\u001b[1;32m    112\u001b[0m             \u001b[0mself\u001b[0m\u001b[0;34m.\u001b[0m\u001b[0muser_line\u001b[0m\u001b[0;34m(\u001b[0m\u001b[0mframe\u001b[0m\u001b[0;34m)\u001b[0m\u001b[0;34m\u001b[0m\u001b[0;34m\u001b[0m\u001b[0m\n\u001b[0;32m--> 113\u001b[0;31m             \u001b[0;32mif\u001b[0m \u001b[0mself\u001b[0m\u001b[0;34m.\u001b[0m\u001b[0mquitting\u001b[0m\u001b[0;34m:\u001b[0m \u001b[0;32mraise\u001b[0m \u001b[0mBdbQuit\u001b[0m\u001b[0;34m\u001b[0m\u001b[0;34m\u001b[0m\u001b[0m\n\u001b[0m\u001b[1;32m    114\u001b[0m         \u001b[0;32mreturn\u001b[0m \u001b[0mself\u001b[0m\u001b[0;34m.\u001b[0m\u001b[0mtrace_dispatch\u001b[0m\u001b[0;34m\u001b[0m\u001b[0;34m\u001b[0m\u001b[0m\n\u001b[1;32m    115\u001b[0m \u001b[0;34m\u001b[0m\u001b[0m\n",
      "\u001b[0;31mBdbQuit\u001b[0m: "
     ]
    }
   ],
   "source": [
    "inputs, targets, outputs = beam_search(learn)"
   ]
  },
  {
   "cell_type": "code",
   "execution_count": null,
   "metadata": {},
   "outputs": [],
   "source": [
    "# 17360 = number of target tokens"
   ]
  }
 ],
 "metadata": {
  "kernelspec": {
   "display_name": "Python 3",
   "language": "python",
   "name": "python3"
  },
  "language_info": {
   "codemirror_mode": {
    "name": "ipython",
    "version": 3
   },
   "file_extension": ".py",
   "mimetype": "text/x-python",
   "name": "python",
   "nbconvert_exporter": "python",
   "pygments_lexer": "ipython3",
   "version": "3.7.6"
  },
  "varInspector": {
   "cols": {
    "lenName": 16,
    "lenType": 16,
    "lenVar": 40
   },
   "kernels_config": {
    "python": {
     "delete_cmd_postfix": "",
     "delete_cmd_prefix": "del ",
     "library": "var_list.py",
     "varRefreshCmd": "print(var_dic_list())"
    },
    "r": {
     "delete_cmd_postfix": ") ",
     "delete_cmd_prefix": "rm(",
     "library": "var_list.r",
     "varRefreshCmd": "cat(var_dic_list()) "
    }
   },
   "types_to_exclude": [
    "module",
    "function",
    "builtin_function_or_method",
    "instance",
    "_Feature"
   ],
   "window_display": false
  }
 },
 "nbformat": 4,
 "nbformat_minor": 2
}
