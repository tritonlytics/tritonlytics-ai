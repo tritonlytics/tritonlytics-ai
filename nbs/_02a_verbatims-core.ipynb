{
 "cells": [
  {
   "cell_type": "code",
   "execution_count": 1,
   "metadata": {},
   "outputs": [],
   "source": [
    "#default_exp verbatims/core"
   ]
  },
  {
   "cell_type": "code",
   "execution_count": 2,
   "metadata": {},
   "outputs": [],
   "source": [
    "#all_slow"
   ]
  },
  {
   "cell_type": "code",
   "execution_count": 3,
   "metadata": {},
   "outputs": [],
   "source": [
    "#hide\n",
    "%reload_ext autoreload\n",
    "%autoreload 2\n",
    "%matplotlib inline"
   ]
  },
  {
   "cell_type": "markdown",
   "metadata": {},
   "source": [
    "# Verbatims - Core\n",
    "\n",
    "> This module defines the training configuration objects for all verbatim ML tasks, DataBlocks, and helper methods to build DataLoaders for each"
   ]
  },
  {
   "cell_type": "code",
   "execution_count": 4,
   "metadata": {},
   "outputs": [],
   "source": [
    "#export\n",
    "import os, datetime\n",
    "import sklearn.metrics as skm\n",
    "from tritonlytics_ai.utils import *\n",
    "\n",
    "from fastai.text.all import *\n",
    "from transformers import *\n",
    "from blurr.utils import *\n",
    "from blurr.data.core import *\n",
    "from blurr.modeling.core import *\n",
    "\n",
    "from transformers import logging as hf_logging\n",
    "hf_logging.set_verbosity_error()"
   ]
  },
  {
   "cell_type": "code",
   "execution_count": 5,
   "metadata": {},
   "outputs": [],
   "source": [
    "#hide\n",
    "import pdb, gc\n",
    "\n",
    "# pandas and plotting config\n",
    "import seaborn as sns\n",
    "sns.set_style('whitegrid')\n",
    "\n",
    "plt.rcParams['figure.figsize'] = (9,6)\n",
    "\n",
    "pd.set_option('display.max_rows', 500)\n",
    "pd.set_option('display.max_columns', 500)\n",
    "pd.set_option('display.width', 1000)\n",
    "pd.set_option('display.max_colwidth', 100)\n",
    "\n",
    "from nbdev.showdoc import *\n",
    "from fastcore.test import *"
   ]
  },
  {
   "cell_type": "code",
   "execution_count": 6,
   "metadata": {
    "tags": []
   },
   "outputs": [
    {
     "name": "stdout",
     "output_type": "stream",
     "text": [
      "Using pytorch 1.7.1+cu110\n",
      "Using fastai 2.2.7\n",
      "Using transformers 4.3.3\n"
     ]
    }
   ],
   "source": [
    "#hide\n",
    "from fastai import __version__ as fa_version\n",
    "from torch import __version__ as pt_version\n",
    "from transformers import __version__ as hft_version\n",
    "\n",
    "print(f'Using pytorch {pt_version}')\n",
    "print(f'Using fastai {fa_version}')\n",
    "print(f'Using transformers {hft_version}')"
   ]
  },
  {
   "cell_type": "code",
   "execution_count": 7,
   "metadata": {
    "tags": []
   },
   "outputs": [
    {
     "name": "stdout",
     "output_type": "stream",
     "text": [
      "Using GPU #1: GeForce GTX 1080 Ti\n"
     ]
    }
   ],
   "source": [
    "#cuda\n",
    "torch.cuda.set_device(1)\n",
    "print(f'Using GPU #{torch.cuda.current_device()}: {torch.cuda.get_device_name()}')"
   ]
  },
  {
   "cell_type": "markdown",
   "metadata": {},
   "source": [
    "## Sentiment"
   ]
  },
  {
   "cell_type": "markdown",
   "metadata": {},
   "source": [
    "Basic Configuration"
   ]
  },
  {
   "cell_type": "code",
   "execution_count": 8,
   "metadata": {},
   "outputs": [],
   "source": [
    "#export\n",
    "m_pre_sentiment = ''\n",
    "m_suf_sentiment = '_multilabel_hf'\n",
    "base_model_name_sentiment = 'verbatim_sent'\n",
    "\n",
    "sentiment_train_config = {\n",
    "    'm_pre': m_pre_sentiment,\n",
    "    'm_suf': m_suf_sentiment,\n",
    "    'base_model_name': base_model_name_sentiment,\n",
    "    \n",
    "    'max_seq_length': None,\n",
    "    'batch_size': 8,\n",
    "    'corpus_cols': ['answer_text'],\n",
    "    'corpus_suf': '_ans',\n",
    "    'train_data': SENTIMENT_CLS_PATH/'train.csv',\n",
    "    'valid_data': SENTIMENT_CLS_PATH/'test.csv',\n",
    "    'cache_data_path': SENTIMENT_CLS_PATH/f'data_{base_model_name_sentiment}.pkl',\n",
    "    \n",
    "    'opt_beta': 1, \n",
    "    'opt_beta_average': 'weighted',\n",
    "    'opt_beta_sample_weight': None,\n",
    "    'opt_start': 0.08, \n",
    "    'opt_end': 0.7,\n",
    "    \n",
    "    'save_model_monitor': 'fbeta_score', \n",
    "    'save_model_comp': np.greater,\n",
    "    'save_model_filename': f'{m_pre_sentiment}{base_model_name_sentiment}{m_suf_sentiment}_bestmodel',\n",
    "    'export_filename': f'{m_pre_sentiment}{base_model_name_sentiment}{m_suf_sentiment}_export.pkl',\n",
    "\n",
    "    'learner_path': SENTIMENT_CLS_PATH\n",
    "}"
   ]
  },
  {
   "cell_type": "markdown",
   "metadata": {},
   "source": [
    "Prepare the data source"
   ]
  },
  {
   "cell_type": "code",
   "execution_count": 9,
   "metadata": {},
   "outputs": [],
   "source": [
    "train_df = pd.read_csv(sentiment_train_config['train_data'])\n",
    "valid_df = pd.read_csv(sentiment_train_config['valid_data'])"
   ]
  },
  {
   "cell_type": "code",
   "execution_count": 10,
   "metadata": {},
   "outputs": [
    {
     "data": {
      "text/html": [
       "<div>\n",
       "<style scoped>\n",
       "    .dataframe tbody tr th:only-of-type {\n",
       "        vertical-align: middle;\n",
       "    }\n",
       "\n",
       "    .dataframe tbody tr th {\n",
       "        vertical-align: top;\n",
       "    }\n",
       "\n",
       "    .dataframe thead th {\n",
       "        text-align: right;\n",
       "    }\n",
       "</style>\n",
       "<table border=\"1\" class=\"dataframe\">\n",
       "  <thead>\n",
       "    <tr style=\"text-align: right;\">\n",
       "      <th></th>\n",
       "      <th>id</th>\n",
       "      <th>question_ans_id</th>\n",
       "      <th>answer_text</th>\n",
       "      <th>answer_text_non_english</th>\n",
       "      <th>language</th>\n",
       "      <th>survey_id</th>\n",
       "      <th>survey_type_id</th>\n",
       "      <th>benchmark_survey_type</th>\n",
       "      <th>client_id</th>\n",
       "      <th>rsp_id</th>\n",
       "      <th>question_category_abbr</th>\n",
       "      <th>question_text</th>\n",
       "      <th>question_class</th>\n",
       "      <th>question_category_id</th>\n",
       "      <th>question_report_abbr</th>\n",
       "      <th>question_category_label</th>\n",
       "      <th>benchmark_level1</th>\n",
       "      <th>benchmark_level2</th>\n",
       "      <th>benchmark_level3</th>\n",
       "      <th>client_benchmark_level</th>\n",
       "      <th>group_code</th>\n",
       "      <th>group_id</th>\n",
       "      <th>group_level1_code</th>\n",
       "      <th>group_level1_name</th>\n",
       "      <th>group_level2_code</th>\n",
       "      <th>group_level2_name</th>\n",
       "      <th>group_level3_code</th>\n",
       "      <th>group_level3_name</th>\n",
       "      <th>group_level4_code</th>\n",
       "      <th>group_level4_name</th>\n",
       "      <th>group_level5_code</th>\n",
       "      <th>group_level5_name</th>\n",
       "      <th>group_level6_code</th>\n",
       "      <th>group_level6_name</th>\n",
       "      <th>group_level7_code</th>\n",
       "      <th>group_level7_name</th>\n",
       "      <th>group_level8_code</th>\n",
       "      <th>group_level8_name</th>\n",
       "      <th>overall_sentiment</th>\n",
       "      <th>is_very_positive</th>\n",
       "      <th>is_positive</th>\n",
       "      <th>is_very_negative</th>\n",
       "      <th>is_negative</th>\n",
       "      <th>is_suggestion</th>\n",
       "      <th>feels_threatened</th>\n",
       "      <th>has_profanity</th>\n",
       "      <th>is_nonsense</th>\n",
       "    </tr>\n",
       "  </thead>\n",
       "  <tbody>\n",
       "    <tr>\n",
       "      <th>0</th>\n",
       "      <td>72661</td>\n",
       "      <td>1877</td>\n",
       "      <td>The major area of concern for me is the communication between the divisions/department and the p...</td>\n",
       "      <td>NaN</td>\n",
       "      <td>English</td>\n",
       "      <td>110</td>\n",
       "      <td>9</td>\n",
       "      <td>SAW</td>\n",
       "      <td>UCSD</td>\n",
       "      <td>179154</td>\n",
       "      <td>SAT</td>\n",
       "      <td>If you would like to elaborate on your responses above, or if you have any additional feedback r...</td>\n",
       "      <td>Verbatim</td>\n",
       "      <td>114.0</td>\n",
       "      <td>Comments re Work Environment at UCSD</td>\n",
       "      <td>Satisfaction with UC San Diego</td>\n",
       "      <td>None</td>\n",
       "      <td>None</td>\n",
       "      <td>None</td>\n",
       "      <td>1.0</td>\n",
       "      <td>90860.0</td>\n",
       "      <td>3659</td>\n",
       "      <td>999999.0</td>\n",
       "      <td>UC San Diego</td>\n",
       "      <td>90000.0</td>\n",
       "      <td>VICE CHANCELLOR HEALTH SCIENCES</td>\n",
       "      <td>93000.0</td>\n",
       "      <td>SCHOOL OF MEDICINE</td>\n",
       "      <td>90800.0</td>\n",
       "      <td>MEDICINE</td>\n",
       "      <td>90860.0</td>\n",
       "      <td>CARDIOLOGY</td>\n",
       "      <td>NaN</td>\n",
       "      <td>NaN</td>\n",
       "      <td>NaN</td>\n",
       "      <td>NaN</td>\n",
       "      <td>NaN</td>\n",
       "      <td>NaN</td>\n",
       "      <td>2.0</td>\n",
       "      <td>0</td>\n",
       "      <td>0</td>\n",
       "      <td>0</td>\n",
       "      <td>1</td>\n",
       "      <td>0</td>\n",
       "      <td>0</td>\n",
       "      <td>0</td>\n",
       "      <td>0</td>\n",
       "    </tr>\n",
       "    <tr>\n",
       "      <th>1</th>\n",
       "      <td>162330</td>\n",
       "      <td>8475</td>\n",
       "      <td>First and foremost, there needs to be more parking spots. FOR UNDERGRADUATE STUDENTS - not visit...</td>\n",
       "      <td>NaN</td>\n",
       "      <td>English</td>\n",
       "      <td>132</td>\n",
       "      <td>7</td>\n",
       "      <td>CSS-STUDENT-ONLY</td>\n",
       "      <td>UCSD</td>\n",
       "      <td>190733</td>\n",
       "      <td>Parking</td>\n",
       "      <td>Let us know your suggestions on how to improve Campus Parking</td>\n",
       "      <td>Verbatim-Dept-Improve</td>\n",
       "      <td>9.0</td>\n",
       "      <td>Parking-Improve</td>\n",
       "      <td>Campus Parking</td>\n",
       "      <td>Parking &amp; Transportation</td>\n",
       "      <td>Parking &amp; Transportation</td>\n",
       "      <td>Parking, Commuter Services</td>\n",
       "      <td>1.0</td>\n",
       "      <td>-1.0</td>\n",
       "      <td>-1</td>\n",
       "      <td>-1.0</td>\n",
       "      <td>None</td>\n",
       "      <td>NaN</td>\n",
       "      <td>NaN</td>\n",
       "      <td>NaN</td>\n",
       "      <td>NaN</td>\n",
       "      <td>NaN</td>\n",
       "      <td>NaN</td>\n",
       "      <td>NaN</td>\n",
       "      <td>NaN</td>\n",
       "      <td>NaN</td>\n",
       "      <td>NaN</td>\n",
       "      <td>NaN</td>\n",
       "      <td>NaN</td>\n",
       "      <td>NaN</td>\n",
       "      <td>NaN</td>\n",
       "      <td>2.0</td>\n",
       "      <td>0</td>\n",
       "      <td>0</td>\n",
       "      <td>0</td>\n",
       "      <td>1</td>\n",
       "      <td>1</td>\n",
       "      <td>0</td>\n",
       "      <td>0</td>\n",
       "      <td>0</td>\n",
       "    </tr>\n",
       "  </tbody>\n",
       "</table>\n",
       "</div>"
      ],
      "text/plain": [
       "       id  question_ans_id                                                                                          answer_text answer_text_non_english language  survey_id  survey_type_id benchmark_survey_type client_id  rsp_id question_category_abbr                                                                                        question_text         question_class  question_category_id                  question_report_abbr         question_category_label          benchmark_level1          benchmark_level2            benchmark_level3  client_benchmark_level  group_code  group_id  group_level1_code group_level1_name  group_level2_code                group_level2_name  group_level3_code   group_level3_name  group_level4_code group_level4_name  group_level5_code group_level5_name  group_level6_code group_level6_name  group_level7_code  group_level7_name  group_level8_code  group_level8_name  overall_sentiment  is_very_positive  is_positive  is_very_negative  is_negative  \\\n",
       "0   72661             1877  The major area of concern for me is the communication between the divisions/department and the p...                     NaN  English        110               9                   SAW      UCSD  179154                    SAT  If you would like to elaborate on your responses above, or if you have any additional feedback r...               Verbatim                 114.0  Comments re Work Environment at UCSD  Satisfaction with UC San Diego                      None                      None                        None                     1.0     90860.0      3659           999999.0      UC San Diego            90000.0  VICE CHANCELLOR HEALTH SCIENCES            93000.0  SCHOOL OF MEDICINE            90800.0          MEDICINE            90860.0        CARDIOLOGY                NaN               NaN                NaN                NaN                NaN                NaN                2.0                 0            0                 0            1   \n",
       "1  162330             8475  First and foremost, there needs to be more parking spots. FOR UNDERGRADUATE STUDENTS - not visit...                     NaN  English        132               7      CSS-STUDENT-ONLY      UCSD  190733                Parking                                        Let us know your suggestions on how to improve Campus Parking  Verbatim-Dept-Improve                   9.0                       Parking-Improve                  Campus Parking  Parking & Transportation  Parking & Transportation  Parking, Commuter Services                     1.0        -1.0        -1               -1.0              None                NaN                              NaN                NaN                 NaN                NaN               NaN                NaN               NaN                NaN               NaN                NaN                NaN                NaN                NaN                2.0                 0            0                 0            1   \n",
       "\n",
       "   is_suggestion  feels_threatened  has_profanity  is_nonsense  \n",
       "0              0                 0              0            0  \n",
       "1              1                 0              0            0  "
      ]
     },
     "execution_count": 10,
     "metadata": {},
     "output_type": "execute_result"
    }
   ],
   "source": [
    "train_df.head(2)"
   ]
  },
  {
   "cell_type": "markdown",
   "metadata": {},
   "source": [
    "Remove any rows whre the \"corpus_cols\" are nan"
   ]
  },
  {
   "cell_type": "code",
   "execution_count": 11,
   "metadata": {},
   "outputs": [],
   "source": [
    "train_df.dropna(subset=sentiment_train_config['corpus_cols'], inplace=True)\n",
    "valid_df.dropna(subset=sentiment_train_config['corpus_cols'], inplace=True)"
   ]
  },
  {
   "cell_type": "code",
   "execution_count": 12,
   "metadata": {},
   "outputs": [
    {
     "data": {
      "text/plain": [
       "(0    14039\n",
       " 1      351\n",
       " Name: feels_threatened, dtype: int64,\n",
       " 0    1560\n",
       " 1      36\n",
       " Name: feels_threatened, dtype: int64)"
      ]
     },
     "execution_count": 12,
     "metadata": {},
     "output_type": "execute_result"
    }
   ],
   "source": [
    "train_df.feels_threatened.value_counts(), valid_df.feels_threatened.value_counts()"
   ]
  },
  {
   "cell_type": "code",
   "execution_count": 13,
   "metadata": {},
   "outputs": [
    {
     "data": {
      "text/html": [
       "<div>\n",
       "<style scoped>\n",
       "    .dataframe tbody tr th:only-of-type {\n",
       "        vertical-align: middle;\n",
       "    }\n",
       "\n",
       "    .dataframe tbody tr th {\n",
       "        vertical-align: top;\n",
       "    }\n",
       "\n",
       "    .dataframe thead th {\n",
       "        text-align: right;\n",
       "    }\n",
       "</style>\n",
       "<table border=\"1\" class=\"dataframe\">\n",
       "  <thead>\n",
       "    <tr style=\"text-align: right;\">\n",
       "      <th></th>\n",
       "      <th>labels</th>\n",
       "      <th>is_very_positive</th>\n",
       "      <th>is_positive</th>\n",
       "      <th>is_very_negative</th>\n",
       "      <th>is_negative</th>\n",
       "      <th>is_suggestion</th>\n",
       "      <th>feels_threatened</th>\n",
       "      <th>has_profanity</th>\n",
       "      <th>is_nonsense</th>\n",
       "    </tr>\n",
       "  </thead>\n",
       "  <tbody>\n",
       "    <tr>\n",
       "      <th>0</th>\n",
       "      <td>is_negative</td>\n",
       "      <td>0</td>\n",
       "      <td>0</td>\n",
       "      <td>0</td>\n",
       "      <td>1</td>\n",
       "      <td>0</td>\n",
       "      <td>0</td>\n",
       "      <td>0</td>\n",
       "      <td>0</td>\n",
       "    </tr>\n",
       "    <tr>\n",
       "      <th>1</th>\n",
       "      <td>is_negative is_suggestion</td>\n",
       "      <td>0</td>\n",
       "      <td>0</td>\n",
       "      <td>0</td>\n",
       "      <td>1</td>\n",
       "      <td>1</td>\n",
       "      <td>0</td>\n",
       "      <td>0</td>\n",
       "      <td>0</td>\n",
       "    </tr>\n",
       "    <tr>\n",
       "      <th>2</th>\n",
       "      <td>is_negative</td>\n",
       "      <td>0</td>\n",
       "      <td>0</td>\n",
       "      <td>0</td>\n",
       "      <td>1</td>\n",
       "      <td>0</td>\n",
       "      <td>0</td>\n",
       "      <td>0</td>\n",
       "      <td>0</td>\n",
       "    </tr>\n",
       "    <tr>\n",
       "      <th>3</th>\n",
       "      <td>is_negative</td>\n",
       "      <td>0</td>\n",
       "      <td>0</td>\n",
       "      <td>0</td>\n",
       "      <td>1</td>\n",
       "      <td>0</td>\n",
       "      <td>0</td>\n",
       "      <td>0</td>\n",
       "      <td>0</td>\n",
       "    </tr>\n",
       "    <tr>\n",
       "      <th>4</th>\n",
       "      <td>is_negative</td>\n",
       "      <td>0</td>\n",
       "      <td>0</td>\n",
       "      <td>0</td>\n",
       "      <td>1</td>\n",
       "      <td>0</td>\n",
       "      <td>0</td>\n",
       "      <td>0</td>\n",
       "      <td>0</td>\n",
       "    </tr>\n",
       "  </tbody>\n",
       "</table>\n",
       "</div>"
      ],
      "text/plain": [
       "                      labels  is_very_positive  is_positive  is_very_negative  is_negative  is_suggestion  feels_threatened  has_profanity  is_nonsense\n",
       "0                is_negative                 0            0                 0            1              0                 0              0            0\n",
       "1  is_negative is_suggestion                 0            0                 0            1              1                 0              0            0\n",
       "2                is_negative                 0            0                 0            1              0                 0              0            0\n",
       "3                is_negative                 0            0                 0            1              0                 0              0            0\n",
       "4                is_negative                 0            0                 0            1              0                 0              0            0"
      ]
     },
     "execution_count": 13,
     "metadata": {},
     "output_type": "execute_result"
    }
   ],
   "source": [
    "#hide\n",
    "\n",
    "# If we want to add a \"labels\" column with all the labels space delimited (for exmaple, as we would with\n",
    "# non-encoded labels)\n",
    "# train_df['labels'] = train_df[SENT_LABELS[1:]].apply(lambda row: ' '.join(row.columns[row.values == 1]), axis=1)\n",
    "# valid_df['labels'] = valid_df[SENT_LABELS[1:]].apply(lambda row: ' '.join(row.columns[row.values == 1], axis=1)\n",
    "\n",
    "train_df['labels'] = train_df[SENT_LABELS[1:]].apply(lambda x: ' '.join(x.index[x.astype(bool)]), axis=1)\n",
    "valid_df['labels'] = valid_df[SENT_LABELS[1:]].apply(lambda x: ' '.join(x.index[x.astype(bool)]), axis=1)\n",
    "\n",
    "train_df[['labels'] + SENT_LABELS[1:]].head()"
   ]
  },
  {
   "cell_type": "code",
   "execution_count": 14,
   "metadata": {},
   "outputs": [
    {
     "data": {
      "text/plain": [
       "15986"
      ]
     },
     "execution_count": 14,
     "metadata": {},
     "output_type": "execute_result"
    }
   ],
   "source": [
    "train_df['is_valid'] = False\n",
    "valid_df['is_valid'] = True\n",
    "df = pd.concat([train_df, valid_df])\n",
    "len(df)"
   ]
  },
  {
   "cell_type": "code",
   "execution_count": 15,
   "metadata": {},
   "outputs": [],
   "source": [
    "#export\n",
    "def get_sentiment_train_data(train_config={}, trg_labels=SENT_LABELS[1:]):\n",
    "    config = {**sentiment_train_config, **train_config}\n",
    "    \n",
    "    train_df = pd.read_csv(config['train_data'])\n",
    "    train_df.dropna(subset=config['corpus_cols'], inplace=True)\n",
    "    train_df.reset_index(drop=True, inplace=True)\n",
    "    train_df['labels'] = train_df[trg_labels].apply(lambda x: ' '.join(x.index[x.astype(bool)]), axis=1)\n",
    "    train_df['is_valid'] = False\n",
    "    \n",
    "    if ('valid_data' in config and config['valid_data'] is not None):\n",
    "        valid_df = pd.read_csv(config['valid_data'])\n",
    "        valid_df.dropna(subset=config['corpus_cols'], inplace=True)\n",
    "        valid_df.reset_index(drop=True, inplace=True)\n",
    "        valid_df['labels'] = valid_df[trg_labels].apply(lambda x: ' '.join(x.index[x.astype(bool)]), axis=1)\n",
    "        valid_df['is_valid'] = True\n",
    "        \n",
    "        return pd.concat([train_df, valid_df])\n",
    "    \n",
    "    return train_df"
   ]
  },
  {
   "cell_type": "code",
   "execution_count": 16,
   "metadata": {},
   "outputs": [],
   "source": [
    "df = get_sentiment_train_data()\n",
    "test(len(df), 0, operator.ge)"
   ]
  },
  {
   "cell_type": "markdown",
   "metadata": {},
   "source": [
    "Using the mid-level `DataBlocks` API"
   ]
  },
  {
   "cell_type": "code",
   "execution_count": 17,
   "metadata": {},
   "outputs": [],
   "source": [
    "#hide\n",
    "task = HF_TASKS_AUTO.SequenceClassification\n",
    "\n",
    "pretrained_model_name = \"roberta-base\"\n",
    "config = AutoConfig.from_pretrained(pretrained_model_name)\n",
    "config.num_labels = len(STANDARD_THEME_SAW_LABELS)\n",
    "\n",
    "hf_arch, hf_config, hf_tokenizer, hf_model = BLURR_MODEL_HELPER.get_hf_objects(pretrained_model_name, \n",
    "                                                                               task=task, \n",
    "                                                                               config=config)"
   ]
  },
  {
   "cell_type": "code",
   "execution_count": 18,
   "metadata": {
    "tags": []
   },
   "outputs": [],
   "source": [
    "#hide\n",
    "blocks = (\n",
    "    HF_TextBlock(hf_arch, hf_config, hf_tokenizer, hf_model), \n",
    "    MultiCategoryBlock(encoded=True, vocab=SENT_LABELS[1:])\n",
    ")\n",
    "\n",
    "def get_x(inp): return ': '.join(inp[sentiment_train_config['corpus_cols']].values)\n",
    "\n",
    "dblock = DataBlock(blocks=blocks, \n",
    "                   get_x=get_x, \n",
    "                   get_y=ColReader(SENT_LABELS[1:]), \n",
    "                   splitter=ColSplitter(col='is_valid'))"
   ]
  },
  {
   "cell_type": "code",
   "execution_count": 19,
   "metadata": {
    "scrolled": true,
    "tags": []
   },
   "outputs": [],
   "source": [
    "#hide\n",
    "set_seed(TL_RAND_SEED)\n",
    "dls = dblock.dataloaders(df, bs=sentiment_train_config['batch_size'], num_workers=0)"
   ]
  },
  {
   "cell_type": "code",
   "execution_count": 20,
   "metadata": {
    "tags": []
   },
   "outputs": [
    {
     "name": "stdout",
     "output_type": "stream",
     "text": [
      "The Target vocab has (8 items)\n"
     ]
    }
   ],
   "source": [
    "#hide\n",
    "print(f'The Target vocab has ({len(dls.vocab)} items)')"
   ]
  },
  {
   "cell_type": "code",
   "execution_count": 21,
   "metadata": {
    "tags": []
   },
   "outputs": [
    {
     "data": {
      "text/plain": [
       "(2, torch.Size([8, 512]), torch.Size([8, 8]))"
      ]
     },
     "execution_count": 21,
     "metadata": {},
     "output_type": "execute_result"
    }
   ],
   "source": [
    "#hide\n",
    "b = dls.one_batch()\n",
    "len(b), b[0]['input_ids'].shape, b[1].shape"
   ]
  },
  {
   "cell_type": "code",
   "execution_count": 22,
   "metadata": {},
   "outputs": [
    {
     "data": {
      "text/html": [
       "<table border=\"1\" class=\"dataframe\">\n",
       "  <thead>\n",
       "    <tr style=\"text-align: right;\">\n",
       "      <th></th>\n",
       "      <th>text</th>\n",
       "      <th>None</th>\n",
       "    </tr>\n",
       "  </thead>\n",
       "  <tbody>\n",
       "    <tr>\n",
       "      <th>0</th>\n",
       "      <td>So another survey has come around and I anticipate it will have the same effect as all the other surveys … basically nothing will change, or should I say any changes will not be for the good of the staff. This years rant will consist of two items. First lets discuss the eternal issue of lack of pay. We all know that working for a University results in a paycheck 15 to 20% less than typical outside jobs of the same type but right now I know of people that are 20 to 30% under the going rate while we sit and watch upper echelon employees get anywhere from $2000 to over $50,000 dollars pay raises since 2008. We are still trying to figure out how some people can get $251,249.96 in “Extra Pay”. It is understood that keeping quality people is important and pay is a very big incentive to keep these people but the message it sends is that we have plenty of money for people that already earn plenty of money but we cant cough up a quarter more an hour for the custodians or the grounds people let alone actually pay anyone else near what they are worth. It has been shown time and time again that to achieve higher wages your best bet is to get another job and be prepared to leave, then (and only then) the purse strings open. This sends the message that there is no reason for loyalty to the University just be a mercenary and you will get the pay increase, meanwhile the employee that is dedicated and long term receives nothing for that dedication and loyalty. I want to see what the reason for no pay raises this year will be. In the last several years it has been “The State keeps cutting our budget” … yes the state that only is about 10% of the UC budget effects every pay scale except when someone threatens to leave. Now that Prop 30 has passed, which I believe had a lot of help due to the veiled threat of “Vote for this or you will lose your job”, what will be the new invented reason for cutbacks. Hers one you can use … “Well, actually you guys are not really State employees you are Reagent employees and we cant afford to give you raises … unless you are already earning over $100,00 a year, then we got plenty of money. BTW it is interesting that the Treasurer of the Regents has earned an average of over $280,000 in “Extra Pay” over the last 5 years on top of her $470,000 base salary.</td>\n",
       "      <td>is_very_negative;is_negative;feels_threatened</td>\n",
       "    </tr>\n",
       "    <tr>\n",
       "      <th>1</th>\n",
       "      <td>Staff should receive an EQUITY INCREASE.The effectiveness of the supervisor is an area that needs improving.  Supervisors should not use their status to threaten subordinates in order to gain control.  Supervisors should be responsible for their area by assisting their staff to succeed.  They should not set their area up for failure.  Supervisors should be professional and not carry negative attitudes because it affects the morale of the staff in their area.  Supervisors should not excessively socialize during business hours - while subordinates are reprimanded if they socialize, supervisors get away without getting reprimanded. Supervisors should be as productive as, or even more productive than the staff in their area.  Lack of effort and motivation from supervisors create feelings of bad morale.  Supervisors should not abuse their staff by demanding high productivity, when the supervisors themself do not contribute to their success.  Some supervisors do not have enough work to do - they delegate every work they have to their subordinates - even though their subordinates are extremely overworked, and then the supervisors are socializing among other supervisors for hours and they do not get reprimanded for being unproductive because the subordinates do have anyone they can go to, to report the unproductiveness of their supervisor.It is difficult to respect a supervisor if they do not have much knowledge in their area (when staff asks questions to their supervisor, they will not assist the staff, but the supervisors will simply say \"I don't know\" and they will not provide any guidance nor any resources to help the staff.)  Yet this supervisor will demand that their subordinates respect them - respect is earned, it should not be taken for granted.A supervisor should not become a supervisor, just because they have been in the department for xx number of years.  Currently, there is a supervisor who does not have much knowledge about their area, they stay afloat only because of the dedicated and knowledgeable staff that work under them; however, that supervisor does not see it that way and takes everything for granted and tries to intimidate the staff by threatening them.  Intimidation and threats by a supervisor should not be a means to try to motivate staff - intimidation and threats will have a negative impact on staff.  Supervisors should be respectful of deadlines in their area, even though they do not have any work to do for the deadline.</td>\n",
       "      <td>is_very_negative;is_negative;is_suggestion;feels_threatened</td>\n",
       "    </tr>\n",
       "  </tbody>\n",
       "</table>"
      ],
      "text/plain": [
       "<IPython.core.display.HTML object>"
      ]
     },
     "metadata": {},
     "output_type": "display_data"
    }
   ],
   "source": [
    "#hide\n",
    "dls.show_batch(dataloaders=dls, max_n=2)"
   ]
  },
  {
   "cell_type": "code",
   "execution_count": 23,
   "metadata": {},
   "outputs": [],
   "source": [
    "#hide\n",
    "# save dataloaders\n",
    "# torch.save(dls, STANDARD_THEME_SAW_PATH/f'data_cls_sentiment_multilabel_hf.pkl')\n",
    "# dls = torch.load(STANDARD_THEME_SAW_PATH/f'data_cls_sentiment_multilabel_hf.pkl')"
   ]
  },
  {
   "cell_type": "code",
   "execution_count": null,
   "metadata": {},
   "outputs": [],
   "source": []
  },
  {
   "cell_type": "code",
   "execution_count": 24,
   "metadata": {},
   "outputs": [],
   "source": [
    "#export\n",
    "def get_sentiment_train_x(inp, corpus_cols): return ': '.join(inp[corpus_cols].values)\n",
    "\n",
    "def get_sentiment_train_dls(df, hf_arch, hf_config, hf_tokenizer, hf_model, \n",
    "                            vocab=SENT_LABELS[1:], train_config={}, use_cache=True):\n",
    "    \n",
    "    config = {**sentiment_train_config, **train_config}\n",
    "    cache_path = config['cache_data_path'] if ('cache_data_path' in config) else None\n",
    "    \n",
    "    if (use_cache and cache_path is not None):\n",
    "        if (os.path.isfile(cache_path)): \n",
    "            dls = torch.load(cache_path)\n",
    "            dls.bs = config['batch_size']\n",
    "            return dls\n",
    "    \n",
    "    blocks = (\n",
    "        HF_TextBlock(hf_arch, hf_config, hf_tokenizer, hf_model, max_length=config['max_seq_length']), \n",
    "        MultiCategoryBlock(encoded=True, vocab=vocab)\n",
    "    )\n",
    "\n",
    "    dblock = DataBlock(blocks=blocks, \n",
    "                       get_x=partial(get_sentiment_train_x, corpus_cols=config['corpus_cols']), \n",
    "                       get_y=ColReader(vocab), \n",
    "                       splitter=ColSplitter(col='is_valid'))\n",
    "    \n",
    "    set_seed(TL_RAND_SEED)\n",
    "    dls = dblock.dataloaders(df, bs=config['batch_size'], num_workers=0)\n",
    "    if (cache_path is not None): torch.save(dls, config['cache_data_path'])\n",
    "        \n",
    "    return dls"
   ]
  },
  {
   "cell_type": "markdown",
   "metadata": {},
   "source": [
    "Tests"
   ]
  },
  {
   "cell_type": "code",
   "execution_count": 25,
   "metadata": {},
   "outputs": [],
   "source": [
    "df = get_sentiment_train_data()\n",
    "dls = get_sentiment_train_dls(df, hf_arch, hf_config, hf_tokenizer, hf_model)\n",
    "\n",
    "test_eq(dls.bs, sentiment_train_config['batch_size'])\n",
    "test_eq(len(SENT_LABELS[1:]), len(dls.vocab))\n",
    "\n",
    "b = dls.one_batch()\n",
    "test_eq(len(b), 2)\n",
    "test_eq(b[1].shape[1], len(dls.vocab))"
   ]
  },
  {
   "cell_type": "code",
   "execution_count": 26,
   "metadata": {},
   "outputs": [],
   "source": [
    "dls = get_sentiment_train_dls(df, hf_arch, hf_config, hf_tokenizer, hf_model, use_cache=False)\n",
    "\n",
    "test_eq(dls.bs, sentiment_train_config['batch_size'])\n",
    "test_eq(len(SENT_LABELS[1:]), len(dls.vocab))\n",
    "\n",
    "b = dls.one_batch()\n",
    "test_eq(len(b), 2)\n",
    "test_eq(b[1].shape[1], len(dls.vocab))"
   ]
  },
  {
   "cell_type": "code",
   "execution_count": 27,
   "metadata": {
    "scrolled": true
   },
   "outputs": [
    {
     "data": {
      "text/html": [
       "<table border=\"1\" class=\"dataframe\">\n",
       "  <thead>\n",
       "    <tr style=\"text-align: right;\">\n",
       "      <th></th>\n",
       "      <th>text</th>\n",
       "      <th>None</th>\n",
       "    </tr>\n",
       "  </thead>\n",
       "  <tbody>\n",
       "    <tr>\n",
       "      <th>0</th>\n",
       "      <td>So another survey has come around and I anticipate it will have the same effect as all the other surveys … basically nothing will change, or should I say any changes will not be for the good of the staff. This years rant will consist of two items. First lets discuss the eternal issue of lack of pay. We all know that working for a University results in a paycheck 15 to 20% less than typical outside jobs of the same type but right now I know of people that are 20 to 30% under the going rate while we sit and watch upper echelon employees get anywhere from $2000 to over $50,000 dollars pay raises since 2008. We are still trying to figure out how some people can get $251,249.96 in “Extra Pay”. It is understood that keeping quality people is important and pay is a very big incentive to keep these people but the message it sends is that we have plenty of money for people that already earn plenty of money but we cant cough up a quarter more an hour for the custodians or the grounds people let alone actually pay anyone else near what they are worth. It has been shown time and time again that to achieve higher wages your best bet is to get another job and be prepared to leave, then (and only then) the purse strings open. This sends the message that there is no reason for loyalty to the University just be a mercenary and you will get the pay increase, meanwhile the employee that is dedicated and long term receives nothing for that dedication and loyalty. I want to see what the reason for no pay raises this year will be. In the last several years it has been “The State keeps cutting our budget” … yes the state that only is about 10% of the UC budget effects every pay scale except when someone threatens to leave. Now that Prop 30 has passed, which I believe had a lot of help due to the veiled threat of “Vote for this or you will lose your job”, what will be the new invented reason for cutbacks. Hers one you can use … “Well, actually you guys are not really State employees you are Reagent employees and we cant afford to give you raises … unless you are already earning over $100,00 a year, then we got plenty of money. BTW it is interesting that the Treasurer of the Regents has earned an average of over $280,000 in “Extra Pay” over the last 5 years on top of her $470,000 base salary.</td>\n",
       "      <td>is_very_negative;is_negative;feels_threatened</td>\n",
       "    </tr>\n",
       "    <tr>\n",
       "      <th>1</th>\n",
       "      <td>Staff should receive an EQUITY INCREASE.The effectiveness of the supervisor is an area that needs improving.  Supervisors should not use their status to threaten subordinates in order to gain control.  Supervisors should be responsible for their area by assisting their staff to succeed.  They should not set their area up for failure.  Supervisors should be professional and not carry negative attitudes because it affects the morale of the staff in their area.  Supervisors should not excessively socialize during business hours - while subordinates are reprimanded if they socialize, supervisors get away without getting reprimanded. Supervisors should be as productive as, or even more productive than the staff in their area.  Lack of effort and motivation from supervisors create feelings of bad morale.  Supervisors should not abuse their staff by demanding high productivity, when the supervisors themself do not contribute to their success.  Some supervisors do not have enough work to do - they delegate every work they have to their subordinates - even though their subordinates are extremely overworked, and then the supervisors are socializing among other supervisors for hours and they do not get reprimanded for being unproductive because the subordinates do have anyone they can go to, to report the unproductiveness of their supervisor.It is difficult to respect a supervisor if they do not have much knowledge in their area (when staff asks questions to their supervisor, they will not assist the staff, but the supervisors will simply say \"I don't know\" and they will not provide any guidance nor any resources to help the staff.)  Yet this supervisor will demand that their subordinates respect them - respect is earned, it should not be taken for granted.A supervisor should not become a supervisor, just because they have been in the department for xx number of years.  Currently, there is a supervisor who does not have much knowledge about their area, they stay afloat only because of the dedicated and knowledgeable staff that work under them; however, that supervisor does not see it that way and takes everything for granted and tries to intimidate the staff by threatening them.  Intimidation and threats by a supervisor should not be a means to try to motivate staff - intimidation and threats will have a negative impact on staff.  Supervisors should be respectful of deadlines in their area, even though they do not have any work to do for the deadline.</td>\n",
       "      <td>is_very_negative;is_negative;is_suggestion;feels_threatened</td>\n",
       "    </tr>\n",
       "  </tbody>\n",
       "</table>"
      ],
      "text/plain": [
       "<IPython.core.display.HTML object>"
      ]
     },
     "metadata": {},
     "output_type": "display_data"
    }
   ],
   "source": [
    "dls.show_batch(dataloaders=dls, max_n=2)"
   ]
  },
  {
   "cell_type": "markdown",
   "metadata": {},
   "source": [
    "## Standard Themes - S@W"
   ]
  },
  {
   "cell_type": "markdown",
   "metadata": {},
   "source": [
    "Basic Configuration"
   ]
  },
  {
   "cell_type": "code",
   "execution_count": 28,
   "metadata": {},
   "outputs": [],
   "source": [
    "#export\n",
    "m_pre_standard_themes_saw = ''\n",
    "m_suf_standard_themes_saw = '_multilabel_hf'\n",
    "base_model_name_standard_themes_saw  = 'verbatim_standard_theme_saw'\n",
    "\n",
    "saw_standard_themes_train_config = {\n",
    "    'm_pre': m_pre_standard_themes_saw,\n",
    "    'm_suf': m_suf_standard_themes_saw,\n",
    "    'base_model_name': base_model_name_standard_themes_saw,\n",
    "    \n",
    "    'max_seq_length': None,\n",
    "    'batch_size': 8,\n",
    "    'corpus_cols': ['answer_text'],\n",
    "    'corpus_suf': '_ans',\n",
    "    'train_data': STANDARD_THEME_SAW_PATH/'train.csv',\n",
    "    'valid_data': STANDARD_THEME_SAW_PATH/'test.csv',\n",
    "    'cache_data_path': STANDARD_THEME_SAW_PATH/f'data_{base_model_name_standard_themes_saw}.pkl',\n",
    "    \n",
    "    'opt_beta': 0.5, \n",
    "    'opt_beta_average': 'weighted',\n",
    "    'opt_beta_sample_weight': None,\n",
    "    'opt_start': 0.08, \n",
    "    'opt_end': 0.7,\n",
    "    \n",
    "    'save_model_monitor': 'precision_score', \n",
    "    'save_model_comp': np.greater,\n",
    "    'save_model_filename': f'{m_pre_standard_themes_saw}{base_model_name_standard_themes_saw}{m_suf_standard_themes_saw}_bestmodel',\n",
    "    'export_filename': f'{m_pre_standard_themes_saw}{base_model_name_standard_themes_saw}{m_suf_standard_themes_saw}_export.pkl',\n",
    "\n",
    "    'learner_path': STANDARD_THEME_SAW_PATH\n",
    "}"
   ]
  },
  {
   "cell_type": "markdown",
   "metadata": {},
   "source": [
    "Prepare the data source"
   ]
  },
  {
   "cell_type": "code",
   "execution_count": 29,
   "metadata": {},
   "outputs": [],
   "source": [
    "train_df = pd.read_csv(saw_standard_themes_train_config['train_data'])\n",
    "valid_df = pd.read_csv(saw_standard_themes_train_config['valid_data'])"
   ]
  },
  {
   "cell_type": "code",
   "execution_count": 30,
   "metadata": {},
   "outputs": [
    {
     "data": {
      "text/html": [
       "<div>\n",
       "<style scoped>\n",
       "    .dataframe tbody tr th:only-of-type {\n",
       "        vertical-align: middle;\n",
       "    }\n",
       "\n",
       "    .dataframe tbody tr th {\n",
       "        vertical-align: top;\n",
       "    }\n",
       "\n",
       "    .dataframe thead th {\n",
       "        text-align: right;\n",
       "    }\n",
       "</style>\n",
       "<table border=\"1\" class=\"dataframe\">\n",
       "  <thead>\n",
       "    <tr style=\"text-align: right;\">\n",
       "      <th></th>\n",
       "      <th>id</th>\n",
       "      <th>question_ans_id</th>\n",
       "      <th>answer_text</th>\n",
       "      <th>answer_text_non_english</th>\n",
       "      <th>language</th>\n",
       "      <th>survey_id</th>\n",
       "      <th>survey_type_id</th>\n",
       "      <th>benchmark_survey_type</th>\n",
       "      <th>client_id</th>\n",
       "      <th>rsp_id</th>\n",
       "      <th>question_category_abbr</th>\n",
       "      <th>question_text</th>\n",
       "      <th>question_class</th>\n",
       "      <th>question_category_id</th>\n",
       "      <th>question_report_abbr</th>\n",
       "      <th>question_category_label</th>\n",
       "      <th>benchmark_level1</th>\n",
       "      <th>benchmark_level2</th>\n",
       "      <th>benchmark_level3</th>\n",
       "      <th>client_benchmark_level</th>\n",
       "      <th>group_code</th>\n",
       "      <th>group_id</th>\n",
       "      <th>group_level1_code</th>\n",
       "      <th>group_level1_name</th>\n",
       "      <th>group_level2_code</th>\n",
       "      <th>group_level2_name</th>\n",
       "      <th>group_level3_code</th>\n",
       "      <th>group_level3_name</th>\n",
       "      <th>group_level4_code</th>\n",
       "      <th>group_level4_name</th>\n",
       "      <th>group_level5_code</th>\n",
       "      <th>group_level5_name</th>\n",
       "      <th>group_level6_code</th>\n",
       "      <th>group_level6_name</th>\n",
       "      <th>group_level7_code</th>\n",
       "      <th>group_level7_name</th>\n",
       "      <th>group_level8_code</th>\n",
       "      <th>group_level8_name</th>\n",
       "      <th>adequate_staffing</th>\n",
       "      <th>advancement_and_training_opportunities</th>\n",
       "      <th>appropriate_stress_work_assigned_equitably</th>\n",
       "      <th>benefits</th>\n",
       "      <th>better_ways_recognized_participate_in_decisions</th>\n",
       "      <th>career_advancement</th>\n",
       "      <th>committed_to_diversity</th>\n",
       "      <th>communicates_essential_information</th>\n",
       "      <th>ethical_conduct_perform_responsibilities_spirit_of_cooperation</th>\n",
       "      <th>evaluated_fairly</th>\n",
       "      <th>experienced_discrimination</th>\n",
       "      <th>facilities_workspace_safety</th>\n",
       "      <th>faculty_value_contributions</th>\n",
       "      <th>favoritism_cliques</th>\n",
       "      <th>fear_of_retaliation_negative_consequences</th>\n",
       "      <th>feel_valued_by_department</th>\n",
       "      <th>flexibility_work_life_balance</th>\n",
       "      <th>good_use_of_skills</th>\n",
       "      <th>have_necessary_tools</th>\n",
       "      <th>have_voice_within_my_institution_valued_member_of_my_institution</th>\n",
       "      <th>internal_processes_effective</th>\n",
       "      <th>parking_transportation</th>\n",
       "      <th>salary_pay</th>\n",
       "      <th>satisfied_with_diversity_progams</th>\n",
       "      <th>supervisor_effectiveness_resolves_staff_issues</th>\n",
       "    </tr>\n",
       "  </thead>\n",
       "  <tbody>\n",
       "    <tr>\n",
       "      <th>0</th>\n",
       "      <td>589315</td>\n",
       "      <td>1877</td>\n",
       "      <td>From day one, my department and colleagues made me feel welcomed. Most importantly, I sincerely ...</td>\n",
       "      <td>NaN</td>\n",
       "      <td>English</td>\n",
       "      <td>212</td>\n",
       "      <td>9</td>\n",
       "      <td>SAW</td>\n",
       "      <td>UCSD</td>\n",
       "      <td>451357</td>\n",
       "      <td>SAT</td>\n",
       "      <td>If you would like to elaborate on your responses above, or if you have any additional feedback r...</td>\n",
       "      <td>Verbatim</td>\n",
       "      <td>114</td>\n",
       "      <td>Comments re Work Environment at UCSD</td>\n",
       "      <td>Satisfaction with UC San Diego</td>\n",
       "      <td>None</td>\n",
       "      <td>None</td>\n",
       "      <td>None</td>\n",
       "      <td>1</td>\n",
       "      <td>11926.0</td>\n",
       "      <td>3267</td>\n",
       "      <td>999999.0</td>\n",
       "      <td>UC San Diego</td>\n",
       "      <td>10000.0</td>\n",
       "      <td>ACADEMIC AFFAIRS</td>\n",
       "      <td>10017.0</td>\n",
       "      <td>EVC</td>\n",
       "      <td>11926.0</td>\n",
       "      <td>EVC - TEACHING + LEARNING COMMONS</td>\n",
       "      <td>NaN</td>\n",
       "      <td>NaN</td>\n",
       "      <td>NaN</td>\n",
       "      <td>NaN</td>\n",
       "      <td>NaN</td>\n",
       "      <td>NaN</td>\n",
       "      <td>NaN</td>\n",
       "      <td>NaN</td>\n",
       "      <td>0</td>\n",
       "      <td>0</td>\n",
       "      <td>0</td>\n",
       "      <td>0</td>\n",
       "      <td>0</td>\n",
       "      <td>0</td>\n",
       "      <td>0</td>\n",
       "      <td>0</td>\n",
       "      <td>1</td>\n",
       "      <td>0</td>\n",
       "      <td>0</td>\n",
       "      <td>0</td>\n",
       "      <td>0</td>\n",
       "      <td>0</td>\n",
       "      <td>0</td>\n",
       "      <td>1</td>\n",
       "      <td>0</td>\n",
       "      <td>0</td>\n",
       "      <td>0</td>\n",
       "      <td>0</td>\n",
       "      <td>0</td>\n",
       "      <td>0</td>\n",
       "      <td>0</td>\n",
       "      <td>0</td>\n",
       "      <td>0</td>\n",
       "    </tr>\n",
       "    <tr>\n",
       "      <th>1</th>\n",
       "      <td>682696</td>\n",
       "      <td>1877</td>\n",
       "      <td>I am overly satisfied with how my department is ran.  My supervisor is very supportive, my Chair...</td>\n",
       "      <td>NaN</td>\n",
       "      <td>English</td>\n",
       "      <td>401</td>\n",
       "      <td>9</td>\n",
       "      <td>SAW</td>\n",
       "      <td>UCSD</td>\n",
       "      <td>492788</td>\n",
       "      <td>SAT</td>\n",
       "      <td>If you would like to elaborate on your responses above, or if you have any additional feedback r...</td>\n",
       "      <td>Verbatim</td>\n",
       "      <td>114</td>\n",
       "      <td>Comments re Work Environment at UCSD</td>\n",
       "      <td>Satisfaction with UC San Diego</td>\n",
       "      <td>None</td>\n",
       "      <td>None</td>\n",
       "      <td>None</td>\n",
       "      <td>1</td>\n",
       "      <td>91510.0</td>\n",
       "      <td>3691</td>\n",
       "      <td>999999.0</td>\n",
       "      <td>UC San Diego</td>\n",
       "      <td>90000.0</td>\n",
       "      <td>VICE CHANCELLOR HEALTH SCIENCES</td>\n",
       "      <td>93000.0</td>\n",
       "      <td>SCHOOL OF MEDICINE</td>\n",
       "      <td>91500.0</td>\n",
       "      <td>PHARMACOLOGY</td>\n",
       "      <td>91510.0</td>\n",
       "      <td>BUSINESS OFFICE - STAFF</td>\n",
       "      <td>NaN</td>\n",
       "      <td>NaN</td>\n",
       "      <td>NaN</td>\n",
       "      <td>NaN</td>\n",
       "      <td>NaN</td>\n",
       "      <td>NaN</td>\n",
       "      <td>0</td>\n",
       "      <td>0</td>\n",
       "      <td>0</td>\n",
       "      <td>0</td>\n",
       "      <td>0</td>\n",
       "      <td>0</td>\n",
       "      <td>0</td>\n",
       "      <td>0</td>\n",
       "      <td>0</td>\n",
       "      <td>0</td>\n",
       "      <td>0</td>\n",
       "      <td>0</td>\n",
       "      <td>0</td>\n",
       "      <td>0</td>\n",
       "      <td>0</td>\n",
       "      <td>1</td>\n",
       "      <td>0</td>\n",
       "      <td>0</td>\n",
       "      <td>0</td>\n",
       "      <td>0</td>\n",
       "      <td>0</td>\n",
       "      <td>0</td>\n",
       "      <td>0</td>\n",
       "      <td>0</td>\n",
       "      <td>1</td>\n",
       "    </tr>\n",
       "  </tbody>\n",
       "</table>\n",
       "</div>"
      ],
      "text/plain": [
       "       id  question_ans_id                                                                                          answer_text  answer_text_non_english language  survey_id  survey_type_id benchmark_survey_type client_id  rsp_id question_category_abbr                                                                                        question_text question_class  question_category_id                  question_report_abbr         question_category_label benchmark_level1 benchmark_level2 benchmark_level3  client_benchmark_level  group_code  group_id  group_level1_code group_level1_name  group_level2_code                group_level2_name  group_level3_code   group_level3_name  group_level4_code                  group_level4_name  group_level5_code        group_level5_name  group_level6_code group_level6_name  group_level7_code group_level7_name  group_level8_code  group_level8_name  adequate_staffing  advancement_and_training_opportunities  appropriate_stress_work_assigned_equitably  \\\n",
       "0  589315             1877  From day one, my department and colleagues made me feel welcomed. Most importantly, I sincerely ...                      NaN  English        212               9                   SAW      UCSD  451357                    SAT  If you would like to elaborate on your responses above, or if you have any additional feedback r...       Verbatim                   114  Comments re Work Environment at UCSD  Satisfaction with UC San Diego             None             None             None                       1     11926.0      3267           999999.0      UC San Diego            10000.0                 ACADEMIC AFFAIRS            10017.0                 EVC            11926.0  EVC - TEACHING + LEARNING COMMONS                NaN                      NaN                NaN               NaN                NaN               NaN                NaN                NaN                  0                                       0                                           0   \n",
       "1  682696             1877  I am overly satisfied with how my department is ran.  My supervisor is very supportive, my Chair...                      NaN  English        401               9                   SAW      UCSD  492788                    SAT  If you would like to elaborate on your responses above, or if you have any additional feedback r...       Verbatim                   114  Comments re Work Environment at UCSD  Satisfaction with UC San Diego             None             None             None                       1     91510.0      3691           999999.0      UC San Diego            90000.0  VICE CHANCELLOR HEALTH SCIENCES            93000.0  SCHOOL OF MEDICINE            91500.0                       PHARMACOLOGY            91510.0  BUSINESS OFFICE - STAFF                NaN               NaN                NaN               NaN                NaN                NaN                  0                                       0                                           0   \n",
       "\n",
       "   benefits  better_ways_recognized_participate_in_decisions  career_advancement  committed_to_diversity  communicates_essential_information  ethical_conduct_perform_responsibilities_spirit_of_cooperation  evaluated_fairly  experienced_discrimination  facilities_workspace_safety  faculty_value_contributions  favoritism_cliques  fear_of_retaliation_negative_consequences  feel_valued_by_department  flexibility_work_life_balance  good_use_of_skills  have_necessary_tools  have_voice_within_my_institution_valued_member_of_my_institution  internal_processes_effective  parking_transportation  salary_pay  satisfied_with_diversity_progams  supervisor_effectiveness_resolves_staff_issues  \n",
       "0         0                                                0                   0                       0                                   0                                                               1                 0                           0                            0                            0                   0                                          0                          1                              0                   0                     0                                                                 0                             0                       0           0                                 0                                               0  \n",
       "1         0                                                0                   0                       0                                   0                                                               0                 0                           0                            0                            0                   0                                          0                          1                              0                   0                     0                                                                 0                             0                       0           0                                 0                                               1  "
      ]
     },
     "execution_count": 30,
     "metadata": {},
     "output_type": "execute_result"
    }
   ],
   "source": [
    "train_df.head(2)"
   ]
  },
  {
   "cell_type": "code",
   "execution_count": 31,
   "metadata": {},
   "outputs": [
    {
     "data": {
      "text/plain": [
       "212    1629\n",
       "401    1425\n",
       "160     914\n",
       "396     319\n",
       "398     290\n",
       "Name: survey_id, dtype: int64"
      ]
     },
     "execution_count": 31,
     "metadata": {},
     "output_type": "execute_result"
    }
   ],
   "source": [
    "train_df.survey_id.value_counts()"
   ]
  },
  {
   "cell_type": "markdown",
   "metadata": {},
   "source": [
    "Remove any rows whre the \"corpus_cols\" are nan"
   ]
  },
  {
   "cell_type": "code",
   "execution_count": 32,
   "metadata": {},
   "outputs": [],
   "source": [
    "train_df.dropna(subset=saw_standard_themes_train_config['corpus_cols'], inplace=True)\n",
    "valid_df.dropna(subset=saw_standard_themes_train_config['corpus_cols'], inplace=True)"
   ]
  },
  {
   "cell_type": "code",
   "execution_count": 33,
   "metadata": {},
   "outputs": [
    {
     "data": {
      "text/plain": [
       "['adequate_staffing',\n",
       " 'advancement_and_training_opportunities',\n",
       " 'appropriate_stress_work_assigned_equitably',\n",
       " 'benefits',\n",
       " 'better_ways_recognized_participate_in_decisions',\n",
       " 'career_advancement',\n",
       " 'committed_to_diversity',\n",
       " 'communicates_essential_information',\n",
       " 'ethical_conduct_perform_responsibilities_spirit_of_cooperation',\n",
       " 'evaluated_fairly',\n",
       " 'experienced_discrimination',\n",
       " 'facilities_workspace_safety',\n",
       " 'faculty_value_contributions',\n",
       " 'favoritism_cliques',\n",
       " 'fear_of_retaliation_negative_consequences',\n",
       " 'feel_valued_by_department',\n",
       " 'flexibility_work_life_balance',\n",
       " 'good_use_of_skills',\n",
       " 'have_necessary_tools',\n",
       " 'have_voice_within_my_institution_valued_member_of_my_institution',\n",
       " 'internal_processes_effective',\n",
       " 'parking_transportation',\n",
       " 'salary_pay',\n",
       " 'satisfied_with_diversity_progams',\n",
       " 'supervisor_effectiveness_resolves_staff_issues']"
      ]
     },
     "execution_count": 33,
     "metadata": {},
     "output_type": "execute_result"
    }
   ],
   "source": [
    "#hide\n",
    "STANDARD_THEME_SAW_LABELS"
   ]
  },
  {
   "cell_type": "code",
   "execution_count": 34,
   "metadata": {},
   "outputs": [
    {
     "data": {
      "text/html": [
       "<div>\n",
       "<style scoped>\n",
       "    .dataframe tbody tr th:only-of-type {\n",
       "        vertical-align: middle;\n",
       "    }\n",
       "\n",
       "    .dataframe tbody tr th {\n",
       "        vertical-align: top;\n",
       "    }\n",
       "\n",
       "    .dataframe thead th {\n",
       "        text-align: right;\n",
       "    }\n",
       "</style>\n",
       "<table border=\"1\" class=\"dataframe\">\n",
       "  <thead>\n",
       "    <tr style=\"text-align: right;\">\n",
       "      <th></th>\n",
       "      <th>labels</th>\n",
       "      <th>adequate_staffing</th>\n",
       "      <th>advancement_and_training_opportunities</th>\n",
       "      <th>appropriate_stress_work_assigned_equitably</th>\n",
       "      <th>benefits</th>\n",
       "      <th>better_ways_recognized_participate_in_decisions</th>\n",
       "      <th>career_advancement</th>\n",
       "      <th>committed_to_diversity</th>\n",
       "      <th>communicates_essential_information</th>\n",
       "      <th>ethical_conduct_perform_responsibilities_spirit_of_cooperation</th>\n",
       "      <th>evaluated_fairly</th>\n",
       "      <th>experienced_discrimination</th>\n",
       "      <th>facilities_workspace_safety</th>\n",
       "      <th>faculty_value_contributions</th>\n",
       "      <th>favoritism_cliques</th>\n",
       "      <th>fear_of_retaliation_negative_consequences</th>\n",
       "      <th>feel_valued_by_department</th>\n",
       "      <th>flexibility_work_life_balance</th>\n",
       "      <th>good_use_of_skills</th>\n",
       "      <th>have_necessary_tools</th>\n",
       "      <th>have_voice_within_my_institution_valued_member_of_my_institution</th>\n",
       "      <th>internal_processes_effective</th>\n",
       "      <th>parking_transportation</th>\n",
       "      <th>salary_pay</th>\n",
       "      <th>satisfied_with_diversity_progams</th>\n",
       "      <th>supervisor_effectiveness_resolves_staff_issues</th>\n",
       "    </tr>\n",
       "  </thead>\n",
       "  <tbody>\n",
       "    <tr>\n",
       "      <th>0</th>\n",
       "      <td>ethical_conduct_perform_responsibilities_spirit_of_cooperation feel_valued_by_department</td>\n",
       "      <td>0</td>\n",
       "      <td>0</td>\n",
       "      <td>0</td>\n",
       "      <td>0</td>\n",
       "      <td>0</td>\n",
       "      <td>0</td>\n",
       "      <td>0</td>\n",
       "      <td>0</td>\n",
       "      <td>1</td>\n",
       "      <td>0</td>\n",
       "      <td>0</td>\n",
       "      <td>0</td>\n",
       "      <td>0</td>\n",
       "      <td>0</td>\n",
       "      <td>0</td>\n",
       "      <td>1</td>\n",
       "      <td>0</td>\n",
       "      <td>0</td>\n",
       "      <td>0</td>\n",
       "      <td>0</td>\n",
       "      <td>0</td>\n",
       "      <td>0</td>\n",
       "      <td>0</td>\n",
       "      <td>0</td>\n",
       "      <td>0</td>\n",
       "    </tr>\n",
       "    <tr>\n",
       "      <th>1</th>\n",
       "      <td>feel_valued_by_department supervisor_effectiveness_resolves_staff_issues</td>\n",
       "      <td>0</td>\n",
       "      <td>0</td>\n",
       "      <td>0</td>\n",
       "      <td>0</td>\n",
       "      <td>0</td>\n",
       "      <td>0</td>\n",
       "      <td>0</td>\n",
       "      <td>0</td>\n",
       "      <td>0</td>\n",
       "      <td>0</td>\n",
       "      <td>0</td>\n",
       "      <td>0</td>\n",
       "      <td>0</td>\n",
       "      <td>0</td>\n",
       "      <td>0</td>\n",
       "      <td>1</td>\n",
       "      <td>0</td>\n",
       "      <td>0</td>\n",
       "      <td>0</td>\n",
       "      <td>0</td>\n",
       "      <td>0</td>\n",
       "      <td>0</td>\n",
       "      <td>0</td>\n",
       "      <td>0</td>\n",
       "      <td>1</td>\n",
       "    </tr>\n",
       "    <tr>\n",
       "      <th>2</th>\n",
       "      <td>fear_of_retaliation_negative_consequences</td>\n",
       "      <td>0</td>\n",
       "      <td>0</td>\n",
       "      <td>0</td>\n",
       "      <td>0</td>\n",
       "      <td>0</td>\n",
       "      <td>0</td>\n",
       "      <td>0</td>\n",
       "      <td>0</td>\n",
       "      <td>0</td>\n",
       "      <td>0</td>\n",
       "      <td>0</td>\n",
       "      <td>0</td>\n",
       "      <td>0</td>\n",
       "      <td>0</td>\n",
       "      <td>1</td>\n",
       "      <td>0</td>\n",
       "      <td>0</td>\n",
       "      <td>0</td>\n",
       "      <td>0</td>\n",
       "      <td>0</td>\n",
       "      <td>0</td>\n",
       "      <td>0</td>\n",
       "      <td>0</td>\n",
       "      <td>0</td>\n",
       "      <td>0</td>\n",
       "    </tr>\n",
       "    <tr>\n",
       "      <th>3</th>\n",
       "      <td>communicates_essential_information internal_processes_effective</td>\n",
       "      <td>0</td>\n",
       "      <td>0</td>\n",
       "      <td>0</td>\n",
       "      <td>0</td>\n",
       "      <td>0</td>\n",
       "      <td>0</td>\n",
       "      <td>0</td>\n",
       "      <td>1</td>\n",
       "      <td>0</td>\n",
       "      <td>0</td>\n",
       "      <td>0</td>\n",
       "      <td>0</td>\n",
       "      <td>0</td>\n",
       "      <td>0</td>\n",
       "      <td>0</td>\n",
       "      <td>0</td>\n",
       "      <td>0</td>\n",
       "      <td>0</td>\n",
       "      <td>0</td>\n",
       "      <td>0</td>\n",
       "      <td>1</td>\n",
       "      <td>0</td>\n",
       "      <td>0</td>\n",
       "      <td>0</td>\n",
       "      <td>0</td>\n",
       "    </tr>\n",
       "    <tr>\n",
       "      <th>4</th>\n",
       "      <td>satisfied_with_diversity_progams</td>\n",
       "      <td>0</td>\n",
       "      <td>0</td>\n",
       "      <td>0</td>\n",
       "      <td>0</td>\n",
       "      <td>0</td>\n",
       "      <td>0</td>\n",
       "      <td>0</td>\n",
       "      <td>0</td>\n",
       "      <td>0</td>\n",
       "      <td>0</td>\n",
       "      <td>0</td>\n",
       "      <td>0</td>\n",
       "      <td>0</td>\n",
       "      <td>0</td>\n",
       "      <td>0</td>\n",
       "      <td>0</td>\n",
       "      <td>0</td>\n",
       "      <td>0</td>\n",
       "      <td>0</td>\n",
       "      <td>0</td>\n",
       "      <td>0</td>\n",
       "      <td>0</td>\n",
       "      <td>0</td>\n",
       "      <td>1</td>\n",
       "      <td>0</td>\n",
       "    </tr>\n",
       "  </tbody>\n",
       "</table>\n",
       "</div>"
      ],
      "text/plain": [
       "                                                                                     labels  adequate_staffing  advancement_and_training_opportunities  appropriate_stress_work_assigned_equitably  benefits  better_ways_recognized_participate_in_decisions  career_advancement  committed_to_diversity  communicates_essential_information  ethical_conduct_perform_responsibilities_spirit_of_cooperation  evaluated_fairly  experienced_discrimination  facilities_workspace_safety  faculty_value_contributions  favoritism_cliques  fear_of_retaliation_negative_consequences  feel_valued_by_department  flexibility_work_life_balance  good_use_of_skills  have_necessary_tools  have_voice_within_my_institution_valued_member_of_my_institution  internal_processes_effective  parking_transportation  salary_pay  satisfied_with_diversity_progams  supervisor_effectiveness_resolves_staff_issues\n",
       "0  ethical_conduct_perform_responsibilities_spirit_of_cooperation feel_valued_by_department                  0                                       0                                           0         0                                                0                   0                       0                                   0                                                               1                 0                           0                            0                            0                   0                                          0                          1                              0                   0                     0                                                                 0                             0                       0           0                                 0                                               0\n",
       "1                  feel_valued_by_department supervisor_effectiveness_resolves_staff_issues                  0                                       0                                           0         0                                                0                   0                       0                                   0                                                               0                 0                           0                            0                            0                   0                                          0                          1                              0                   0                     0                                                                 0                             0                       0           0                                 0                                               1\n",
       "2                                                 fear_of_retaliation_negative_consequences                  0                                       0                                           0         0                                                0                   0                       0                                   0                                                               0                 0                           0                            0                            0                   0                                          1                          0                              0                   0                     0                                                                 0                             0                       0           0                                 0                                               0\n",
       "3                           communicates_essential_information internal_processes_effective                  0                                       0                                           0         0                                                0                   0                       0                                   1                                                               0                 0                           0                            0                            0                   0                                          0                          0                              0                   0                     0                                                                 0                             1                       0           0                                 0                                               0\n",
       "4                                                          satisfied_with_diversity_progams                  0                                       0                                           0         0                                                0                   0                       0                                   0                                                               0                 0                           0                            0                            0                   0                                          0                          0                              0                   0                     0                                                                 0                             0                       0           0                                 1                                               0"
      ]
     },
     "execution_count": 34,
     "metadata": {},
     "output_type": "execute_result"
    }
   ],
   "source": [
    "#hide\n",
    "\n",
    "# If we want to add a \"labels\" column with all the labels space delimited (for exmaple, as we would with\n",
    "# non-encoded labels)\n",
    "train_df['labels'] = train_df[STANDARD_THEME_SAW_LABELS].apply(lambda x: ' '.join(x.index[x.astype(bool)]), axis=1)\n",
    "valid_df['labels'] = valid_df[STANDARD_THEME_SAW_LABELS].apply(lambda x: ' '.join(x.index[x.astype(bool)]), axis=1)\n",
    "\n",
    "train_df[['labels'] + STANDARD_THEME_SAW_LABELS].head()"
   ]
  },
  {
   "cell_type": "code",
   "execution_count": 35,
   "metadata": {},
   "outputs": [
    {
     "data": {
      "text/plain": [
       "5086"
      ]
     },
     "execution_count": 35,
     "metadata": {},
     "output_type": "execute_result"
    }
   ],
   "source": [
    "train_df['is_valid'] = False\n",
    "valid_df['is_valid'] = True\n",
    "df = pd.concat([train_df, valid_df])\n",
    "len(df)"
   ]
  },
  {
   "cell_type": "code",
   "execution_count": 36,
   "metadata": {},
   "outputs": [],
   "source": [
    "#export\n",
    "def get_saw_standard_theme_train_data(train_config={}, trg_labels=STANDARD_THEME_SAW_LABELS):\n",
    "    config = {**saw_standard_themes_train_config, **train_config}\n",
    "    \n",
    "    train_df = pd.read_csv(config['train_data'])\n",
    "    train_df.dropna(subset=config['corpus_cols'], inplace=True)\n",
    "    train_df.reset_index(drop=True, inplace=True)\n",
    "    train_df['labels'] = train_df[trg_labels].apply(lambda x: ' '.join(x.index[x.astype(bool)]), axis=1)\n",
    "    train_df['is_valid'] = False\n",
    "    \n",
    "    if ('valid_data' in config and config['valid_data'] is not None):\n",
    "        valid_df = pd.read_csv(config['valid_data'])\n",
    "        valid_df.dropna(subset=config['corpus_cols'], inplace=True)\n",
    "        valid_df.reset_index(drop=True, inplace=True)\n",
    "        valid_df['labels'] = valid_df[trg_labels].apply(lambda x: ' '.join(x.index[x.astype(bool)]), axis=1)\n",
    "        valid_df['is_valid'] = True\n",
    "        \n",
    "        return pd.concat([train_df, valid_df])\n",
    "    \n",
    "    return train_df"
   ]
  },
  {
   "cell_type": "code",
   "execution_count": 37,
   "metadata": {},
   "outputs": [],
   "source": [
    "df = get_saw_standard_theme_train_data()\n",
    "test(len(df), 0, operator.ge)"
   ]
  },
  {
   "cell_type": "markdown",
   "metadata": {},
   "source": [
    "Using the mid-level `DataBlocks` API"
   ]
  },
  {
   "cell_type": "code",
   "execution_count": 38,
   "metadata": {},
   "outputs": [],
   "source": [
    "#hide\n",
    "task = HF_TASKS_AUTO.SequenceClassification\n",
    "\n",
    "pretrained_model_name = \"roberta-base\"\n",
    "config = AutoConfig.from_pretrained(pretrained_model_name)\n",
    "config.num_labels = len(STANDARD_THEME_SAW_LABELS)\n",
    "\n",
    "hf_arch, hf_config, hf_tokenizer, hf_model = BLURR_MODEL_HELPER.get_hf_objects(pretrained_model_name, \n",
    "                                                                               task=task, \n",
    "                                                                               config=config)"
   ]
  },
  {
   "cell_type": "code",
   "execution_count": 39,
   "metadata": {
    "tags": []
   },
   "outputs": [],
   "source": [
    "#hide\n",
    "blocks = (\n",
    "    HF_TextBlock(hf_arch, hf_config, hf_tokenizer, hf_model), \n",
    "    MultiCategoryBlock(encoded=True, vocab=STANDARD_THEME_SAW_LABELS)\n",
    ")\n",
    "\n",
    "def get_x(inp): return ': '.join(inp[saw_standard_themes_train_config['corpus_cols']].values)\n",
    "\n",
    "dblock = DataBlock(blocks=blocks, \n",
    "                   get_x=get_x, \n",
    "                   get_y=ColReader(STANDARD_THEME_SAW_LABELS), \n",
    "                   splitter=ColSplitter(col='is_valid'))"
   ]
  },
  {
   "cell_type": "code",
   "execution_count": 40,
   "metadata": {
    "scrolled": true,
    "tags": []
   },
   "outputs": [],
   "source": [
    "#hide\n",
    "set_seed(TL_RAND_SEED)\n",
    "dls = dblock.dataloaders(df, bs=saw_standard_themes_train_config['batch_size'], num_workers=0)"
   ]
  },
  {
   "cell_type": "code",
   "execution_count": 41,
   "metadata": {
    "tags": []
   },
   "outputs": [
    {
     "name": "stdout",
     "output_type": "stream",
     "text": [
      "The Target vocab has (25 items)\n"
     ]
    }
   ],
   "source": [
    "#hide\n",
    "print(f'The Target vocab has ({len(dls.vocab)} items)')"
   ]
  },
  {
   "cell_type": "code",
   "execution_count": 42,
   "metadata": {
    "tags": []
   },
   "outputs": [
    {
     "data": {
      "text/plain": [
       "(2, torch.Size([8, 456]), torch.Size([8, 25]))"
      ]
     },
     "execution_count": 42,
     "metadata": {},
     "output_type": "execute_result"
    }
   ],
   "source": [
    "#hide\n",
    "b = dls.one_batch()\n",
    "len(b), b[0]['input_ids'].shape, b[1].shape"
   ]
  },
  {
   "cell_type": "code",
   "execution_count": 43,
   "metadata": {},
   "outputs": [
    {
     "data": {
      "text/html": [
       "<table border=\"1\" class=\"dataframe\">\n",
       "  <thead>\n",
       "    <tr style=\"text-align: right;\">\n",
       "      <th></th>\n",
       "      <th>text</th>\n",
       "      <th>None</th>\n",
       "    </tr>\n",
       "  </thead>\n",
       "  <tbody>\n",
       "    <tr>\n",
       "      <th>0</th>\n",
       "      <td>In the Enterprise Network and Telecommunications group of ITS, the environment continues to be toxic, retaliatory, abusive, and discriminatory as in past years. Under the direction of James Seddon, supervisor Malerie Samadi harasses and talks down to employees. Manipulates and edits official documentation to make staff look and give lower performance appraisal ratings or retaliate against them. Also, use the same practice to provide their friends with higher performance ratings and award them with higher merit increases.  Senior management continues to harbor this behavior without any consequence and or accountability. James and Malerie exploit minorities and give preferential treatment to personnel hired by them. Regularly abuse the power that the University of California gives them and exercise nepotism because they are both product of such practices.\\r\\nOther supervisors like Ynez Hicks also participates in the same practices of despotism, nepotism, and favoritism. \\r\\nIt is unacceptable that this behavior and practices continue to be used by management without any accountability.  Principles of the community are ignored continuously daily. When this type of situation is brought up to Human Resources, they ignore them because no one is enforcing the UC Principles. James Seddon and Malerie Samadi in the Datacom group don't care about staff promotion, compensation, and well being. They only care about themselves and their friends. Hiring practices are unfair; they manipulate the process so they can hire barely qualified personnel into experienced positions. Existing staff is overworked because newer personnel can not pull their weight, yet Malerie and James make it look like they are in their appraisals. They mentally abuse staff and minimize their work performance. Recently one of the team member past away while working at home. A stroke caused by the stress and the pressure that Malerie was putting on David Ramirez. She used him to get her promotion to supervisor and make her look good in front of others.\\r\\nBoth James and Malerie are the perfect examples of bad management. Somehow they continue to occupy their positions, and Senior Management doesn't do anything about it.  \\r\\nThe lowest level the Datacom team has been in years, all because of James and Malerie's arrogance and lack of ethics.</td>\n",
       "      <td>ethical_conduct_perform_responsibilities_spirit_of_cooperation;evaluated_fairly;favoritism_cliques;fear_of_retaliation_negative_consequences;supervisor_effectiveness_resolves_staff_issues</td>\n",
       "    </tr>\n",
       "    <tr>\n",
       "      <th>1</th>\n",
       "      <td>Not sure what exactly contributes to this but UCSD is a very segregated and stoic environment. I am comfortable emailing or calling people who I've made connections with as it relates to my work but not certain that I could say about others or the willingness to want to engage with others/collaborate especially within my department. \\r\\n\\r\\nSecondly, while my supervisor might be \"newer\" to supervising, she has never given us the opportunity to offer feedback, doesn't build a relationship with us, mentor us, or effectively use meeting time to delegate tasks and give clear deadlines. I think she needs training, feedback, and people to hold her accountable. This is not new due to the pandemic, this has always been her style. \\r\\n\\r\\nGenerally, diversity, equity, and inclusion are terms university leaders use to address these issues when incidents arise. To this day, I have not seen my department discuss how they plan to implement diversity, equity, or inclusion. We don't have any Black, Latino, or Native faculty or students to my knowledge and when asked to the previous chair if we have a committee or task force dedicated to this, they said we have a couple of staff/faculty but no known mission (to my understanding). To our faculty of admissions, we are diverse because we bring in so many international students. To me this is just one facet of diversity, not everything diversity can be. To me, this indicates our faculty are not trained nor are not called to be trained on these concepts.</td>\n",
       "      <td>committed_to_diversity;supervisor_effectiveness_resolves_staff_issues</td>\n",
       "    </tr>\n",
       "  </tbody>\n",
       "</table>"
      ],
      "text/plain": [
       "<IPython.core.display.HTML object>"
      ]
     },
     "metadata": {},
     "output_type": "display_data"
    }
   ],
   "source": [
    "#hide\n",
    "dls.show_batch(dataloaders=dls, max_n=2)"
   ]
  },
  {
   "cell_type": "code",
   "execution_count": 44,
   "metadata": {},
   "outputs": [],
   "source": [
    "#hide\n",
    "# save dataloaders\n",
    "# torch.save(dls, STANDARD_THEME_SAW_PATH/f'data_cls_standard_themes_saw_multilabel_hf.pkl')\n",
    "# dls = torch.load(STANDARD_THEME_SAW_PATH/f'data_cls_standard_themes_saw_multilabel_hf.pkl')"
   ]
  },
  {
   "cell_type": "code",
   "execution_count": 45,
   "metadata": {},
   "outputs": [],
   "source": [
    "#export\n",
    "def get_saw_standard_theme_train_x(inp, corpus_cols): return ': '.join(inp[corpus_cols].values)\n",
    "\n",
    "def get_saw_standard_theme_train_dls(df, hf_arch, hf_config, hf_tokenizer, hf_model, \n",
    "                                     vocab=STANDARD_THEME_SAW_LABELS, train_config={}, use_cache=True):\n",
    "    \n",
    "    config = {**saw_standard_themes_train_config, **train_config}\n",
    "    cache_path = config['cache_data_path'] if ('cache_data_path' in config) else None\n",
    "    \n",
    "    if (use_cache and cache_path is not None):\n",
    "        if (os.path.isfile(cache_path)): \n",
    "            dls = torch.load(cache_path)\n",
    "            dls.bs = config['batch_size']\n",
    "            return dls\n",
    "    \n",
    "    blocks = (\n",
    "        HF_TextBlock(hf_arch, hf_config, hf_tokenizer, hf_model, max_length=config['max_seq_length']), \n",
    "        MultiCategoryBlock(encoded=True, vocab=vocab)\n",
    "    )\n",
    "\n",
    "    dblock = DataBlock(blocks=blocks, \n",
    "                       get_x=partial(get_saw_standard_theme_train_x, corpus_cols=config['corpus_cols']), \n",
    "                       get_y=ColReader(vocab), \n",
    "                       splitter=ColSplitter(col='is_valid'))\n",
    "    \n",
    "    set_seed(TL_RAND_SEED)\n",
    "    dls = dblock.dataloaders(df, bs=config['batch_size'], num_workers=0)\n",
    "    if (cache_path is not None): torch.save(dls, config['cache_data_path'])\n",
    "        \n",
    "    return dls"
   ]
  },
  {
   "cell_type": "markdown",
   "metadata": {},
   "source": [
    "Tests"
   ]
  },
  {
   "cell_type": "code",
   "execution_count": 46,
   "metadata": {},
   "outputs": [],
   "source": [
    "df = get_saw_standard_theme_train_data()\n",
    "dls = get_saw_standard_theme_train_dls(df, hf_arch, hf_config, hf_tokenizer, hf_model)\n",
    "\n",
    "test_eq(dls.bs, saw_standard_themes_train_config['batch_size'])\n",
    "test_eq(len(STANDARD_THEME_SAW_LABELS), len(dls.vocab))\n",
    "\n",
    "b = dls.one_batch()\n",
    "test_eq(len(b), 2)\n",
    "test_eq(b[1].shape[1], len(dls.vocab))"
   ]
  },
  {
   "cell_type": "code",
   "execution_count": 47,
   "metadata": {},
   "outputs": [],
   "source": [
    "dls = get_saw_standard_theme_train_dls(df, hf_arch, hf_config, hf_tokenizer, hf_model, use_cache=False)\n",
    "\n",
    "test_eq(dls.bs, saw_standard_themes_train_config['batch_size'])\n",
    "test_eq(len(STANDARD_THEME_SAW_LABELS), len(dls.vocab))\n",
    "\n",
    "b = dls.one_batch()\n",
    "test_eq(len(b), 2)\n",
    "test_eq(b[1].shape[1], len(dls.vocab))"
   ]
  },
  {
   "cell_type": "code",
   "execution_count": 48,
   "metadata": {
    "scrolled": true
   },
   "outputs": [
    {
     "data": {
      "text/html": [
       "<table border=\"1\" class=\"dataframe\">\n",
       "  <thead>\n",
       "    <tr style=\"text-align: right;\">\n",
       "      <th></th>\n",
       "      <th>text</th>\n",
       "      <th>None</th>\n",
       "    </tr>\n",
       "  </thead>\n",
       "  <tbody>\n",
       "    <tr>\n",
       "      <th>0</th>\n",
       "      <td>In the Enterprise Network and Telecommunications group of ITS, the environment continues to be toxic, retaliatory, abusive, and discriminatory as in past years. Under the direction of James Seddon, supervisor Malerie Samadi harasses and talks down to employees. Manipulates and edits official documentation to make staff look and give lower performance appraisal ratings or retaliate against them. Also, use the same practice to provide their friends with higher performance ratings and award them with higher merit increases.  Senior management continues to harbor this behavior without any consequence and or accountability. James and Malerie exploit minorities and give preferential treatment to personnel hired by them. Regularly abuse the power that the University of California gives them and exercise nepotism because they are both product of such practices.\\r\\nOther supervisors like Ynez Hicks also participates in the same practices of despotism, nepotism, and favoritism. \\r\\nIt is unacceptable that this behavior and practices continue to be used by management without any accountability.  Principles of the community are ignored continuously daily. When this type of situation is brought up to Human Resources, they ignore them because no one is enforcing the UC Principles. James Seddon and Malerie Samadi in the Datacom group don't care about staff promotion, compensation, and well being. They only care about themselves and their friends. Hiring practices are unfair; they manipulate the process so they can hire barely qualified personnel into experienced positions. Existing staff is overworked because newer personnel can not pull their weight, yet Malerie and James make it look like they are in their appraisals. They mentally abuse staff and minimize their work performance. Recently one of the team member past away while working at home. A stroke caused by the stress and the pressure that Malerie was putting on David Ramirez. She used him to get her promotion to supervisor and make her look good in front of others.\\r\\nBoth James and Malerie are the perfect examples of bad management. Somehow they continue to occupy their positions, and Senior Management doesn't do anything about it.  \\r\\nThe lowest level the Datacom team has been in years, all because of James and Malerie's arrogance and lack of ethics.</td>\n",
       "      <td>ethical_conduct_perform_responsibilities_spirit_of_cooperation;evaluated_fairly;favoritism_cliques;fear_of_retaliation_negative_consequences;supervisor_effectiveness_resolves_staff_issues</td>\n",
       "    </tr>\n",
       "    <tr>\n",
       "      <th>1</th>\n",
       "      <td>Not sure what exactly contributes to this but UCSD is a very segregated and stoic environment. I am comfortable emailing or calling people who I've made connections with as it relates to my work but not certain that I could say about others or the willingness to want to engage with others/collaborate especially within my department. \\r\\n\\r\\nSecondly, while my supervisor might be \"newer\" to supervising, she has never given us the opportunity to offer feedback, doesn't build a relationship with us, mentor us, or effectively use meeting time to delegate tasks and give clear deadlines. I think she needs training, feedback, and people to hold her accountable. This is not new due to the pandemic, this has always been her style. \\r\\n\\r\\nGenerally, diversity, equity, and inclusion are terms university leaders use to address these issues when incidents arise. To this day, I have not seen my department discuss how they plan to implement diversity, equity, or inclusion. We don't have any Black, Latino, or Native faculty or students to my knowledge and when asked to the previous chair if we have a committee or task force dedicated to this, they said we have a couple of staff/faculty but no known mission (to my understanding). To our faculty of admissions, we are diverse because we bring in so many international students. To me this is just one facet of diversity, not everything diversity can be. To me, this indicates our faculty are not trained nor are not called to be trained on these concepts.</td>\n",
       "      <td>committed_to_diversity;supervisor_effectiveness_resolves_staff_issues</td>\n",
       "    </tr>\n",
       "  </tbody>\n",
       "</table>"
      ],
      "text/plain": [
       "<IPython.core.display.HTML object>"
      ]
     },
     "metadata": {},
     "output_type": "display_data"
    }
   ],
   "source": [
    "dls.show_batch(dataloaders=dls, max_n=2)"
   ]
  },
  {
   "cell_type": "code",
   "execution_count": null,
   "metadata": {},
   "outputs": [],
   "source": []
  },
  {
   "cell_type": "markdown",
   "metadata": {},
   "source": [
    "## Standard Themes - CSS"
   ]
  },
  {
   "cell_type": "markdown",
   "metadata": {},
   "source": [
    "Basic Configuration"
   ]
  },
  {
   "cell_type": "code",
   "execution_count": 49,
   "metadata": {},
   "outputs": [],
   "source": [
    "#export\n",
    "m_pre_standard_themes_css = ''\n",
    "m_suf_standard_themes_css = '_multilabel_hf'\n",
    "base_model_name_standard_themes_css = 'verbatim_standard_theme_css'\n",
    "\n",
    "css_standard_themes_train_config = {\n",
    "    'm_pre': m_pre_standard_themes_css,\n",
    "    'm_suf': m_suf_standard_themes_css,\n",
    "    'base_model_name': base_model_name_standard_themes_css,\n",
    "    \n",
    "    'max_seq_length': None,\n",
    "    'batch_size': 8,\n",
    "    'corpus_cols': ['answer_text'],\n",
    "    'corpus_suf': '_ans',\n",
    "    'train_data': STANDARD_THEME_CSS_PATH/'train.csv',\n",
    "    'valid_data': STANDARD_THEME_CSS_PATH/'test.csv',\n",
    "    'cache_data_path': STANDARD_THEME_CSS_PATH/f'data_{base_model_name_standard_themes_css}.pkl',\n",
    "    \n",
    "    'opt_beta': 0.5, \n",
    "    'opt_beta_average': 'weighted',\n",
    "    'opt_beta_sample_weight': None,\n",
    "    'opt_start': 0.08, \n",
    "    'opt_end': 0.7,\n",
    "    \n",
    "    'save_model_monitor': 'precision_score', \n",
    "    'save_model_comp': np.greater,\n",
    "    'save_model_filename': f'{m_pre_standard_themes_css}{base_model_name_standard_themes_css}{m_suf_standard_themes_css}_bestmodel',\n",
    "    'export_filename': f'{m_pre_standard_themes_css}{base_model_name_standard_themes_css}{m_suf_standard_themes_css}_export.pkl',\n",
    "\n",
    "    'learner_path': STANDARD_THEME_CSS_PATH\n",
    "}"
   ]
  },
  {
   "cell_type": "markdown",
   "metadata": {},
   "source": [
    "Prepare the data source"
   ]
  },
  {
   "cell_type": "code",
   "execution_count": 50,
   "metadata": {},
   "outputs": [],
   "source": [
    "train_df = pd.read_csv(css_standard_themes_train_config['train_data'])\n",
    "valid_df = pd.read_csv(css_standard_themes_train_config['valid_data'])"
   ]
  },
  {
   "cell_type": "code",
   "execution_count": 51,
   "metadata": {},
   "outputs": [
    {
     "data": {
      "text/html": [
       "<div>\n",
       "<style scoped>\n",
       "    .dataframe tbody tr th:only-of-type {\n",
       "        vertical-align: middle;\n",
       "    }\n",
       "\n",
       "    .dataframe tbody tr th {\n",
       "        vertical-align: top;\n",
       "    }\n",
       "\n",
       "    .dataframe thead th {\n",
       "        text-align: right;\n",
       "    }\n",
       "</style>\n",
       "<table border=\"1\" class=\"dataframe\">\n",
       "  <thead>\n",
       "    <tr style=\"text-align: right;\">\n",
       "      <th></th>\n",
       "      <th>id</th>\n",
       "      <th>question_ans_id</th>\n",
       "      <th>answer_text</th>\n",
       "      <th>answer_text_non_english</th>\n",
       "      <th>language</th>\n",
       "      <th>survey_id</th>\n",
       "      <th>survey_type_id</th>\n",
       "      <th>benchmark_survey_type</th>\n",
       "      <th>client_id</th>\n",
       "      <th>rsp_id</th>\n",
       "      <th>question_category_abbr</th>\n",
       "      <th>question_text</th>\n",
       "      <th>question_class</th>\n",
       "      <th>question_category_id</th>\n",
       "      <th>question_report_abbr</th>\n",
       "      <th>question_category_label</th>\n",
       "      <th>benchmark_level1</th>\n",
       "      <th>benchmark_level2</th>\n",
       "      <th>benchmark_level3</th>\n",
       "      <th>client_benchmark_level</th>\n",
       "      <th>group_code</th>\n",
       "      <th>group_id</th>\n",
       "      <th>group_level1_code</th>\n",
       "      <th>group_level1_name</th>\n",
       "      <th>group_level2_code</th>\n",
       "      <th>group_level2_name</th>\n",
       "      <th>group_level3_code</th>\n",
       "      <th>group_level3_name</th>\n",
       "      <th>group_level4_code</th>\n",
       "      <th>group_level4_name</th>\n",
       "      <th>group_level5_code</th>\n",
       "      <th>group_level5_name</th>\n",
       "      <th>group_level6_code</th>\n",
       "      <th>group_level6_name</th>\n",
       "      <th>group_level7_code</th>\n",
       "      <th>group_level7_name</th>\n",
       "      <th>group_level8_code</th>\n",
       "      <th>group_level8_name</th>\n",
       "      <th>accessible_to_customers</th>\n",
       "      <th>consistency_in_policies_information</th>\n",
       "      <th>cost_fees</th>\n",
       "      <th>courteous_professional_staff</th>\n",
       "      <th>effective_communications</th>\n",
       "      <th>effectively_uses_websites_online_documentation</th>\n",
       "      <th>helpful_staff</th>\n",
       "      <th>knowledgeable_staff</th>\n",
       "      <th>moving_in_a_positive_direction</th>\n",
       "      <th>overall_satisfaction</th>\n",
       "      <th>process_improvement</th>\n",
       "      <th>provides_effective_advice_guidance</th>\n",
       "      <th>provides_training_on_processes_applications</th>\n",
       "      <th>resolves_problems_effectively</th>\n",
       "      <th>responds_to_requests_within_an_acceptable_time</th>\n",
       "      <th>understands_my_needs_and_requirements</th>\n",
       "    </tr>\n",
       "  </thead>\n",
       "  <tbody>\n",
       "    <tr>\n",
       "      <th>0</th>\n",
       "      <td>602983</td>\n",
       "      <td>38342</td>\n",
       "      <td>In the past 1-2 years, the office changed their policy to only give international postdocs J1 vi...</td>\n",
       "      <td>NaN</td>\n",
       "      <td>English</td>\n",
       "      <td>215</td>\n",
       "      <td>15</td>\n",
       "      <td>CSS-FACULTY-STAFF-ONLY</td>\n",
       "      <td>UCSD</td>\n",
       "      <td>454199</td>\n",
       "      <td>ISPO</td>\n",
       "      <td>Let us know your suggestions on how to improve the International Students &amp; Programs Office.</td>\n",
       "      <td>Verbatim-Dept-Improve</td>\n",
       "      <td>636.0</td>\n",
       "      <td>ISPO_Improve</td>\n",
       "      <td>International Students &amp; Programs Office</td>\n",
       "      <td>Student</td>\n",
       "      <td>Global Education</td>\n",
       "      <td>International Program</td>\n",
       "      <td>1.0</td>\n",
       "      <td>-1.0</td>\n",
       "      <td>-1</td>\n",
       "      <td>-1.0</td>\n",
       "      <td>None</td>\n",
       "      <td>NaN</td>\n",
       "      <td>NaN</td>\n",
       "      <td>NaN</td>\n",
       "      <td>NaN</td>\n",
       "      <td>NaN</td>\n",
       "      <td>NaN</td>\n",
       "      <td>NaN</td>\n",
       "      <td>NaN</td>\n",
       "      <td>NaN</td>\n",
       "      <td>NaN</td>\n",
       "      <td>NaN</td>\n",
       "      <td>NaN</td>\n",
       "      <td>NaN</td>\n",
       "      <td>NaN</td>\n",
       "      <td>0</td>\n",
       "      <td>1</td>\n",
       "      <td>0</td>\n",
       "      <td>0</td>\n",
       "      <td>0</td>\n",
       "      <td>0</td>\n",
       "      <td>0</td>\n",
       "      <td>0</td>\n",
       "      <td>0</td>\n",
       "      <td>0</td>\n",
       "      <td>0</td>\n",
       "      <td>0</td>\n",
       "      <td>0</td>\n",
       "      <td>0</td>\n",
       "      <td>0</td>\n",
       "      <td>0</td>\n",
       "    </tr>\n",
       "    <tr>\n",
       "      <th>1</th>\n",
       "      <td>597736</td>\n",
       "      <td>12605</td>\n",
       "      <td>The custodians are kind and competent people. However, the unit, at least in the research buildi...</td>\n",
       "      <td>NaN</td>\n",
       "      <td>English</td>\n",
       "      <td>215</td>\n",
       "      <td>15</td>\n",
       "      <td>CSS-FACULTY-STAFF-ONLY</td>\n",
       "      <td>UCSD</td>\n",
       "      <td>454041</td>\n",
       "      <td>Custodial Services</td>\n",
       "      <td>Let us know your suggestions on how to improve Custodial Services.</td>\n",
       "      <td>Verbatim-Dept-Improve</td>\n",
       "      <td>140.0</td>\n",
       "      <td>Custodial_Improve</td>\n",
       "      <td>Custodial Services</td>\n",
       "      <td>Facilities</td>\n",
       "      <td>Building, Custodial, Facilities Maintenance</td>\n",
       "      <td>Custodial Services</td>\n",
       "      <td>1.0</td>\n",
       "      <td>-1.0</td>\n",
       "      <td>-1</td>\n",
       "      <td>-1.0</td>\n",
       "      <td>None</td>\n",
       "      <td>NaN</td>\n",
       "      <td>NaN</td>\n",
       "      <td>NaN</td>\n",
       "      <td>NaN</td>\n",
       "      <td>NaN</td>\n",
       "      <td>NaN</td>\n",
       "      <td>NaN</td>\n",
       "      <td>NaN</td>\n",
       "      <td>NaN</td>\n",
       "      <td>NaN</td>\n",
       "      <td>NaN</td>\n",
       "      <td>NaN</td>\n",
       "      <td>NaN</td>\n",
       "      <td>NaN</td>\n",
       "      <td>0</td>\n",
       "      <td>0</td>\n",
       "      <td>0</td>\n",
       "      <td>1</td>\n",
       "      <td>0</td>\n",
       "      <td>0</td>\n",
       "      <td>0</td>\n",
       "      <td>0</td>\n",
       "      <td>0</td>\n",
       "      <td>0</td>\n",
       "      <td>0</td>\n",
       "      <td>0</td>\n",
       "      <td>0</td>\n",
       "      <td>0</td>\n",
       "      <td>0</td>\n",
       "      <td>0</td>\n",
       "    </tr>\n",
       "  </tbody>\n",
       "</table>\n",
       "</div>"
      ],
      "text/plain": [
       "       id  question_ans_id                                                                                          answer_text  answer_text_non_english language  survey_id  survey_type_id   benchmark_survey_type client_id  rsp_id question_category_abbr                                                                                 question_text         question_class  question_category_id question_report_abbr                   question_category_label benchmark_level1                             benchmark_level2       benchmark_level3  client_benchmark_level  group_code  group_id  group_level1_code group_level1_name  group_level2_code  group_level2_name  group_level3_code  group_level3_name  group_level4_code  group_level4_name  group_level5_code  group_level5_name  group_level6_code  group_level6_name  group_level7_code  group_level7_name  group_level8_code  group_level8_name  accessible_to_customers  consistency_in_policies_information  cost_fees  courteous_professional_staff  \\\n",
       "0  602983            38342  In the past 1-2 years, the office changed their policy to only give international postdocs J1 vi...                      NaN  English        215              15  CSS-FACULTY-STAFF-ONLY      UCSD  454199                   ISPO  Let us know your suggestions on how to improve the International Students & Programs Office.  Verbatim-Dept-Improve                 636.0         ISPO_Improve  International Students & Programs Office          Student                             Global Education  International Program                     1.0        -1.0        -1               -1.0              None                NaN                NaN                NaN                NaN                NaN                NaN                NaN                NaN                NaN                NaN                NaN                NaN                NaN                NaN                        0                                    1          0                             0   \n",
       "1  597736            12605  The custodians are kind and competent people. However, the unit, at least in the research buildi...                      NaN  English        215              15  CSS-FACULTY-STAFF-ONLY      UCSD  454041     Custodial Services                            Let us know your suggestions on how to improve Custodial Services.  Verbatim-Dept-Improve                 140.0    Custodial_Improve                        Custodial Services       Facilities  Building, Custodial, Facilities Maintenance     Custodial Services                     1.0        -1.0        -1               -1.0              None                NaN                NaN                NaN                NaN                NaN                NaN                NaN                NaN                NaN                NaN                NaN                NaN                NaN                NaN                        0                                    0          0                             1   \n",
       "\n",
       "   effective_communications  effectively_uses_websites_online_documentation  helpful_staff  knowledgeable_staff  moving_in_a_positive_direction  overall_satisfaction  process_improvement  provides_effective_advice_guidance  provides_training_on_processes_applications  resolves_problems_effectively  responds_to_requests_within_an_acceptable_time  understands_my_needs_and_requirements  \n",
       "0                         0                                               0              0                    0                               0                     0                    0                                   0                                            0                              0                                               0                                      0  \n",
       "1                         0                                               0              0                    0                               0                     0                    0                                   0                                            0                              0                                               0                                      0  "
      ]
     },
     "execution_count": 51,
     "metadata": {},
     "output_type": "execute_result"
    }
   ],
   "source": [
    "train_df.head(2)"
   ]
  },
  {
   "cell_type": "code",
   "execution_count": 52,
   "metadata": {},
   "outputs": [
    {
     "data": {
      "text/plain": [
       "215    2818\n",
       "124       1\n",
       "131       1\n",
       "Name: survey_id, dtype: int64"
      ]
     },
     "execution_count": 52,
     "metadata": {},
     "output_type": "execute_result"
    }
   ],
   "source": [
    "train_df.survey_id.value_counts()"
   ]
  },
  {
   "cell_type": "markdown",
   "metadata": {},
   "source": [
    "Remove any rows whre the \"corpus_cols\" are nan"
   ]
  },
  {
   "cell_type": "code",
   "execution_count": 53,
   "metadata": {},
   "outputs": [],
   "source": [
    "train_df.dropna(subset=css_standard_themes_train_config['corpus_cols'], inplace=True)\n",
    "valid_df.dropna(subset=css_standard_themes_train_config['corpus_cols'], inplace=True)"
   ]
  },
  {
   "cell_type": "code",
   "execution_count": 54,
   "metadata": {},
   "outputs": [
    {
     "data": {
      "text/plain": [
       "['accessible_to_customers',\n",
       " 'consistency_in_policies_information',\n",
       " 'cost_fees',\n",
       " 'courteous_professional_staff',\n",
       " 'effective_communications',\n",
       " 'effectively_uses_websites_online_documentation',\n",
       " 'helpful_staff',\n",
       " 'knowledgeable_staff',\n",
       " 'moving_in_a_positive_direction',\n",
       " 'overall_satisfaction',\n",
       " 'process_improvement',\n",
       " 'provides_effective_advice_guidance',\n",
       " 'provides_training_on_processes_applications',\n",
       " 'resolves_problems_effectively',\n",
       " 'responds_to_requests_within_an_acceptable_time',\n",
       " 'understands_my_needs_and_requirements']"
      ]
     },
     "execution_count": 54,
     "metadata": {},
     "output_type": "execute_result"
    }
   ],
   "source": [
    "#hide\n",
    "STANDARD_THEME_CSS_LABELS"
   ]
  },
  {
   "cell_type": "code",
   "execution_count": 55,
   "metadata": {},
   "outputs": [
    {
     "data": {
      "text/html": [
       "<div>\n",
       "<style scoped>\n",
       "    .dataframe tbody tr th:only-of-type {\n",
       "        vertical-align: middle;\n",
       "    }\n",
       "\n",
       "    .dataframe tbody tr th {\n",
       "        vertical-align: top;\n",
       "    }\n",
       "\n",
       "    .dataframe thead th {\n",
       "        text-align: right;\n",
       "    }\n",
       "</style>\n",
       "<table border=\"1\" class=\"dataframe\">\n",
       "  <thead>\n",
       "    <tr style=\"text-align: right;\">\n",
       "      <th></th>\n",
       "      <th>labels</th>\n",
       "      <th>accessible_to_customers</th>\n",
       "      <th>consistency_in_policies_information</th>\n",
       "      <th>cost_fees</th>\n",
       "      <th>courteous_professional_staff</th>\n",
       "      <th>effective_communications</th>\n",
       "      <th>effectively_uses_websites_online_documentation</th>\n",
       "      <th>helpful_staff</th>\n",
       "      <th>knowledgeable_staff</th>\n",
       "      <th>moving_in_a_positive_direction</th>\n",
       "      <th>overall_satisfaction</th>\n",
       "      <th>process_improvement</th>\n",
       "      <th>provides_effective_advice_guidance</th>\n",
       "      <th>provides_training_on_processes_applications</th>\n",
       "      <th>resolves_problems_effectively</th>\n",
       "      <th>responds_to_requests_within_an_acceptable_time</th>\n",
       "      <th>understands_my_needs_and_requirements</th>\n",
       "    </tr>\n",
       "  </thead>\n",
       "  <tbody>\n",
       "    <tr>\n",
       "      <th>0</th>\n",
       "      <td>consistency_in_policies_information</td>\n",
       "      <td>0</td>\n",
       "      <td>1</td>\n",
       "      <td>0</td>\n",
       "      <td>0</td>\n",
       "      <td>0</td>\n",
       "      <td>0</td>\n",
       "      <td>0</td>\n",
       "      <td>0</td>\n",
       "      <td>0</td>\n",
       "      <td>0</td>\n",
       "      <td>0</td>\n",
       "      <td>0</td>\n",
       "      <td>0</td>\n",
       "      <td>0</td>\n",
       "      <td>0</td>\n",
       "      <td>0</td>\n",
       "    </tr>\n",
       "    <tr>\n",
       "      <th>1</th>\n",
       "      <td>courteous_professional_staff</td>\n",
       "      <td>0</td>\n",
       "      <td>0</td>\n",
       "      <td>0</td>\n",
       "      <td>1</td>\n",
       "      <td>0</td>\n",
       "      <td>0</td>\n",
       "      <td>0</td>\n",
       "      <td>0</td>\n",
       "      <td>0</td>\n",
       "      <td>0</td>\n",
       "      <td>0</td>\n",
       "      <td>0</td>\n",
       "      <td>0</td>\n",
       "      <td>0</td>\n",
       "      <td>0</td>\n",
       "      <td>0</td>\n",
       "    </tr>\n",
       "    <tr>\n",
       "      <th>2</th>\n",
       "      <td>courteous_professional_staff</td>\n",
       "      <td>0</td>\n",
       "      <td>0</td>\n",
       "      <td>0</td>\n",
       "      <td>1</td>\n",
       "      <td>0</td>\n",
       "      <td>0</td>\n",
       "      <td>0</td>\n",
       "      <td>0</td>\n",
       "      <td>0</td>\n",
       "      <td>0</td>\n",
       "      <td>0</td>\n",
       "      <td>0</td>\n",
       "      <td>0</td>\n",
       "      <td>0</td>\n",
       "      <td>0</td>\n",
       "      <td>0</td>\n",
       "    </tr>\n",
       "    <tr>\n",
       "      <th>3</th>\n",
       "      <td>resolves_problems_effectively</td>\n",
       "      <td>0</td>\n",
       "      <td>0</td>\n",
       "      <td>0</td>\n",
       "      <td>0</td>\n",
       "      <td>0</td>\n",
       "      <td>0</td>\n",
       "      <td>0</td>\n",
       "      <td>0</td>\n",
       "      <td>0</td>\n",
       "      <td>0</td>\n",
       "      <td>0</td>\n",
       "      <td>0</td>\n",
       "      <td>0</td>\n",
       "      <td>1</td>\n",
       "      <td>0</td>\n",
       "      <td>0</td>\n",
       "    </tr>\n",
       "    <tr>\n",
       "      <th>4</th>\n",
       "      <td>helpful_staff</td>\n",
       "      <td>0</td>\n",
       "      <td>0</td>\n",
       "      <td>0</td>\n",
       "      <td>0</td>\n",
       "      <td>0</td>\n",
       "      <td>0</td>\n",
       "      <td>1</td>\n",
       "      <td>0</td>\n",
       "      <td>0</td>\n",
       "      <td>0</td>\n",
       "      <td>0</td>\n",
       "      <td>0</td>\n",
       "      <td>0</td>\n",
       "      <td>0</td>\n",
       "      <td>0</td>\n",
       "      <td>0</td>\n",
       "    </tr>\n",
       "  </tbody>\n",
       "</table>\n",
       "</div>"
      ],
      "text/plain": [
       "                                labels  accessible_to_customers  consistency_in_policies_information  cost_fees  courteous_professional_staff  effective_communications  effectively_uses_websites_online_documentation  helpful_staff  knowledgeable_staff  moving_in_a_positive_direction  overall_satisfaction  process_improvement  provides_effective_advice_guidance  provides_training_on_processes_applications  resolves_problems_effectively  responds_to_requests_within_an_acceptable_time  understands_my_needs_and_requirements\n",
       "0  consistency_in_policies_information                        0                                    1          0                             0                         0                                               0              0                    0                               0                     0                    0                                   0                                            0                              0                                               0                                      0\n",
       "1         courteous_professional_staff                        0                                    0          0                             1                         0                                               0              0                    0                               0                     0                    0                                   0                                            0                              0                                               0                                      0\n",
       "2         courteous_professional_staff                        0                                    0          0                             1                         0                                               0              0                    0                               0                     0                    0                                   0                                            0                              0                                               0                                      0\n",
       "3        resolves_problems_effectively                        0                                    0          0                             0                         0                                               0              0                    0                               0                     0                    0                                   0                                            0                              1                                               0                                      0\n",
       "4                        helpful_staff                        0                                    0          0                             0                         0                                               0              1                    0                               0                     0                    0                                   0                                            0                              0                                               0                                      0"
      ]
     },
     "execution_count": 55,
     "metadata": {},
     "output_type": "execute_result"
    }
   ],
   "source": [
    "#hide\n",
    "\n",
    "# If we want to add a \"labels\" column with all the labels space delimited (for exmaple, as we would with\n",
    "# non-encoded labels)\n",
    "train_df['labels'] = train_df[STANDARD_THEME_CSS_LABELS].apply(lambda x: ' '.join(x.index[x.astype(bool)]), axis=1)\n",
    "valid_df['labels'] = valid_df[STANDARD_THEME_CSS_LABELS].apply(lambda x: ' '.join(x.index[x.astype(bool)]), axis=1)\n",
    "\n",
    "train_df[['labels'] + STANDARD_THEME_CSS_LABELS].head()"
   ]
  },
  {
   "cell_type": "code",
   "execution_count": 56,
   "metadata": {},
   "outputs": [
    {
     "data": {
      "text/plain": [
       "3137"
      ]
     },
     "execution_count": 56,
     "metadata": {},
     "output_type": "execute_result"
    }
   ],
   "source": [
    "train_df['is_valid'] = False\n",
    "valid_df['is_valid'] = True\n",
    "df = pd.concat([train_df, valid_df])\n",
    "len(df)"
   ]
  },
  {
   "cell_type": "code",
   "execution_count": 57,
   "metadata": {},
   "outputs": [],
   "source": [
    "#export\n",
    "def get_css_standard_theme_train_data(train_config={}, trg_labels=STANDARD_THEME_CSS_LABELS):\n",
    "    config = {**css_standard_themes_train_config, **train_config}\n",
    "    \n",
    "    train_df = pd.read_csv(config['train_data'])\n",
    "    train_df.dropna(subset=config['corpus_cols'], inplace=True)\n",
    "    train_df.reset_index(drop=True, inplace=True)\n",
    "    train_df['labels'] = train_df[trg_labels].apply(lambda x: ' '.join(x.index[x.astype(bool)]), axis=1)\n",
    "    train_df['is_valid'] = False\n",
    "    \n",
    "    if ('valid_data' in config and config['valid_data'] is not None):\n",
    "        valid_df = pd.read_csv(config['valid_data'])\n",
    "        valid_df.dropna(subset=config['corpus_cols'], inplace=True)\n",
    "        valid_df.reset_index(drop=True, inplace=True)\n",
    "        valid_df['labels'] = valid_df[trg_labels].apply(lambda x: ' '.join(x.index[x.astype(bool)]), axis=1)\n",
    "        valid_df['is_valid'] = True\n",
    "        \n",
    "        return pd.concat([train_df, valid_df])\n",
    "    \n",
    "    return train_df"
   ]
  },
  {
   "cell_type": "code",
   "execution_count": 58,
   "metadata": {},
   "outputs": [],
   "source": [
    "df = get_css_standard_theme_train_data()\n",
    "test(len(df), 0, operator.ge)"
   ]
  },
  {
   "cell_type": "markdown",
   "metadata": {},
   "source": [
    "Using the mid-level `DataBlocks` API"
   ]
  },
  {
   "cell_type": "code",
   "execution_count": 59,
   "metadata": {},
   "outputs": [],
   "source": [
    "#hide\n",
    "task = HF_TASKS_AUTO.SequenceClassification\n",
    "\n",
    "pretrained_model_name = \"roberta-base\"\n",
    "config = AutoConfig.from_pretrained(pretrained_model_name)\n",
    "config.num_labels = len(STANDARD_THEME_CSS_LABELS)\n",
    "\n",
    "hf_arch, hf_config, hf_tokenizer, hf_model = BLURR_MODEL_HELPER.get_hf_objects(pretrained_model_name, \n",
    "                                                                               task=task, \n",
    "                                                                               config=config)"
   ]
  },
  {
   "cell_type": "code",
   "execution_count": 60,
   "metadata": {
    "tags": []
   },
   "outputs": [],
   "source": [
    "#hide\n",
    "blocks = (\n",
    "    HF_TextBlock(hf_arch, hf_config, hf_tokenizer, hf_model), \n",
    "    MultiCategoryBlock(encoded=True, vocab=STANDARD_THEME_CSS_LABELS)\n",
    ")\n",
    "\n",
    "def get_x(inp): return ': '.join(inp[css_standard_themes_train_config['corpus_cols']].values)\n",
    "\n",
    "dblock = DataBlock(blocks=blocks, \n",
    "                   get_x=get_x, \n",
    "                   get_y=ColReader(STANDARD_THEME_CSS_LABELS), \n",
    "                   splitter=ColSplitter(col='is_valid'))"
   ]
  },
  {
   "cell_type": "code",
   "execution_count": 61,
   "metadata": {
    "scrolled": true,
    "tags": []
   },
   "outputs": [],
   "source": [
    "#hide\n",
    "set_seed(TL_RAND_SEED)\n",
    "dls = dblock.dataloaders(df, bs=css_standard_themes_train_config['batch_size'], num_workers=0)"
   ]
  },
  {
   "cell_type": "code",
   "execution_count": 62,
   "metadata": {
    "tags": []
   },
   "outputs": [
    {
     "name": "stdout",
     "output_type": "stream",
     "text": [
      "The Target vocab has (16 items)\n"
     ]
    }
   ],
   "source": [
    "#hide\n",
    "print(f'The Target vocab has ({len(dls.vocab)} items)')"
   ]
  },
  {
   "cell_type": "code",
   "execution_count": 63,
   "metadata": {
    "tags": []
   },
   "outputs": [
    {
     "data": {
      "text/plain": [
       "(2, torch.Size([8, 331]), torch.Size([8, 16]))"
      ]
     },
     "execution_count": 63,
     "metadata": {},
     "output_type": "execute_result"
    }
   ],
   "source": [
    "#hide\n",
    "b = dls.one_batch()\n",
    "len(b), b[0]['input_ids'].shape, b[1].shape"
   ]
  },
  {
   "cell_type": "code",
   "execution_count": 64,
   "metadata": {},
   "outputs": [
    {
     "data": {
      "text/html": [
       "<table border=\"1\" class=\"dataframe\">\n",
       "  <thead>\n",
       "    <tr style=\"text-align: right;\">\n",
       "      <th></th>\n",
       "      <th>text</th>\n",
       "      <th>None</th>\n",
       "    </tr>\n",
       "  </thead>\n",
       "  <tbody>\n",
       "    <tr>\n",
       "      <th>0</th>\n",
       "      <td>Expand Shuttle Services throughout the Greater San Diego area beyond UCSD campus stops.  \\r\\nI recently relocated to San Diego from Seattle, while in Seattle I worked for Microsoft for quite some time.  Microsoft has developed a network of shuttles that connects neighborhoods directly to their campuses that run regularly Monday-Friday.  San Diego MTS is not optimized to transport people to UCSD's campus so there are obviously many holes.  Even once the trolley expansion is complete key neighborhoods will still not have a convenient option to get to UCSD via public transportation.  Neighborhood-specific shuttles would help address these issues directly.\\r\\n\\r\\nCampus-wide create a mandate for all eligible employees to work from home at least one day a week.\\r\\nWhen I started with UCSD I was very surprised to find out how far behind UCSD is in terms of letting employees work from home.  Having worked in the tech industry in Seattle my previous employer allowed a very flexible schedule, we would work from home as we saw fit, which usually amounted to approx. 2 days a week.\\r\\nPersonally, for my position at UCSD I could work from home 3-4 days a week joining all meetings via Zoom.  The old school mentality of supervisors in my department makes it so my colleagues and I have to suffer through the awful commute to/from campus and pay for parking 5 days a week.  I suspect this old school mentality is present in many parts of the campus, which indirectly tells employees that they are not trusted.</td>\n",
       "      <td>process_improvement</td>\n",
       "    </tr>\n",
       "    <tr>\n",
       "      <th>1</th>\n",
       "      <td>The fact that maintenance crews tried to diagnose the symptoms of the problem and not the root of the problems I have requested something to be weary about. I worked in the Math Department and there was a leak coming from the 3rd floor into a 2nd floor storage room. This has resulted into damaged and rusty filing cabinets. \\r\\n\\r\\nMy department has placed requests numerous times over this issue over the years and nothing has been resolved. We had determined that it is cracked concrete allowing the water to leak down below from the sanitation machines above that will occasionally leak water. The project needs new resealing of the concrete and flooring on the 3rd floor and instead maintenance has suggested we cover the filing cabinets or \"just wait it out.\" This is only treating the symptom and not the root of the problem. The problem was also passed off to 2 other facilities maintenance employees. My impression is there are two out of 4 tickets still open for this issue to this day.\\r\\n\\r\\nThe maintenance urgent phone line was very respectable and very friendly. They apologized on behalf of the maintenance workers for the lack of communication/follow-up/work.\\r\\n\\r\\nFacilities Maintenance on Campus is well-known to have a poor reputation of communication/responsibility/accountability/responsiveness. Perhaps this is a big reason as to why certain departments take matter into their own hands.</td>\n",
       "      <td>courteous_professional_staff;knowledgeable_staff;resolves_problems_effectively;responds_to_requests_within_an_acceptable_time</td>\n",
       "    </tr>\n",
       "  </tbody>\n",
       "</table>"
      ],
      "text/plain": [
       "<IPython.core.display.HTML object>"
      ]
     },
     "metadata": {},
     "output_type": "display_data"
    }
   ],
   "source": [
    "#hide\n",
    "dls.show_batch(dataloaders=dls, max_n=2)"
   ]
  },
  {
   "cell_type": "code",
   "execution_count": 65,
   "metadata": {},
   "outputs": [],
   "source": [
    "#hide\n",
    "# save dataloaders\n",
    "# torch.save(dls, STANDARD_THEME_CSS_PATH/f'data_cls_standard_themes_css_multilabel_hf.pkl')\n",
    "# dls = torch.load(STANDARD_THEME_CSS_PATH/f'data_cls_standard_themes_css_multilabel_hf.pkl')"
   ]
  },
  {
   "cell_type": "code",
   "execution_count": 66,
   "metadata": {},
   "outputs": [],
   "source": [
    "#export\n",
    "def get_css_standard_theme_train_x(inp, corpus_cols): return ': '.join(inp[corpus_cols].values)\n",
    "\n",
    "def get_css_standard_theme_train_dls(df, hf_arch, hf_config, hf_tokenizer, hf_model, \n",
    "                                     vocab=STANDARD_THEME_CSS_LABELS, train_config={}, use_cache=True):\n",
    "    \n",
    "    config = {**css_standard_themes_train_config, **train_config}\n",
    "    cache_path = config['cache_data_path'] if ('cache_data_path' in config) else None\n",
    "    \n",
    "    if (use_cache and cache_path is not None):\n",
    "        if (os.path.isfile(cache_path)): \n",
    "            dls = torch.load(cache_path)\n",
    "            dls.bs = config['batch_size']\n",
    "            return dls\n",
    "    \n",
    "    blocks = (\n",
    "        HF_TextBlock(hf_arch, hf_config, hf_tokenizer, hf_model, max_length=config['max_seq_length']), \n",
    "        MultiCategoryBlock(encoded=True, vocab=vocab)\n",
    "    )\n",
    "\n",
    "    dblock = DataBlock(blocks=blocks, \n",
    "                       get_x=partial(get_css_standard_theme_train_x, corpus_cols=config['corpus_cols']), \n",
    "                       get_y=ColReader(vocab), \n",
    "                       splitter=ColSplitter(col='is_valid'))\n",
    "    \n",
    "    set_seed(TL_RAND_SEED)\n",
    "    dls = dblock.dataloaders(df, bs=config['batch_size'], num_workers=0)\n",
    "    if (cache_path is not None): torch.save(dls, config['cache_data_path'])\n",
    "        \n",
    "    return dls"
   ]
  },
  {
   "cell_type": "markdown",
   "metadata": {},
   "source": [
    "Tests"
   ]
  },
  {
   "cell_type": "code",
   "execution_count": 67,
   "metadata": {},
   "outputs": [],
   "source": [
    "df = get_css_standard_theme_train_data()\n",
    "dls = get_css_standard_theme_train_dls(df, hf_arch, hf_config, hf_tokenizer, hf_model)\n",
    "\n",
    "test_eq(dls.bs, saw_standard_themes_train_config['batch_size'])\n",
    "test_eq(len(STANDARD_THEME_CSS_LABELS), len(dls.vocab))\n",
    "\n",
    "b = dls.one_batch()\n",
    "test_eq(len(b), 2)\n",
    "test_eq(b[1].shape[1], len(dls.vocab))"
   ]
  },
  {
   "cell_type": "code",
   "execution_count": 68,
   "metadata": {},
   "outputs": [],
   "source": [
    "dls = get_css_standard_theme_train_dls(df, hf_arch, hf_config, hf_tokenizer, hf_model, use_cache=False)\n",
    "\n",
    "test_eq(dls.bs, saw_standard_themes_train_config['batch_size'])\n",
    "test_eq(len(STANDARD_THEME_CSS_LABELS), len(dls.vocab))\n",
    "\n",
    "b = dls.one_batch()\n",
    "test_eq(len(b), 2)\n",
    "test_eq(b[1].shape[1], len(dls.vocab))"
   ]
  },
  {
   "cell_type": "code",
   "execution_count": 69,
   "metadata": {
    "scrolled": true
   },
   "outputs": [
    {
     "data": {
      "text/html": [
       "<table border=\"1\" class=\"dataframe\">\n",
       "  <thead>\n",
       "    <tr style=\"text-align: right;\">\n",
       "      <th></th>\n",
       "      <th>text</th>\n",
       "      <th>None</th>\n",
       "    </tr>\n",
       "  </thead>\n",
       "  <tbody>\n",
       "    <tr>\n",
       "      <th>0</th>\n",
       "      <td>Expand Shuttle Services throughout the Greater San Diego area beyond UCSD campus stops.  \\r\\nI recently relocated to San Diego from Seattle, while in Seattle I worked for Microsoft for quite some time.  Microsoft has developed a network of shuttles that connects neighborhoods directly to their campuses that run regularly Monday-Friday.  San Diego MTS is not optimized to transport people to UCSD's campus so there are obviously many holes.  Even once the trolley expansion is complete key neighborhoods will still not have a convenient option to get to UCSD via public transportation.  Neighborhood-specific shuttles would help address these issues directly.\\r\\n\\r\\nCampus-wide create a mandate for all eligible employees to work from home at least one day a week.\\r\\nWhen I started with UCSD I was very surprised to find out how far behind UCSD is in terms of letting employees work from home.  Having worked in the tech industry in Seattle my previous employer allowed a very flexible schedule, we would work from home as we saw fit, which usually amounted to approx. 2 days a week.\\r\\nPersonally, for my position at UCSD I could work from home 3-4 days a week joining all meetings via Zoom.  The old school mentality of supervisors in my department makes it so my colleagues and I have to suffer through the awful commute to/from campus and pay for parking 5 days a week.  I suspect this old school mentality is present in many parts of the campus, which indirectly tells employees that they are not trusted.</td>\n",
       "      <td>process_improvement</td>\n",
       "    </tr>\n",
       "    <tr>\n",
       "      <th>1</th>\n",
       "      <td>The fact that maintenance crews tried to diagnose the symptoms of the problem and not the root of the problems I have requested something to be weary about. I worked in the Math Department and there was a leak coming from the 3rd floor into a 2nd floor storage room. This has resulted into damaged and rusty filing cabinets. \\r\\n\\r\\nMy department has placed requests numerous times over this issue over the years and nothing has been resolved. We had determined that it is cracked concrete allowing the water to leak down below from the sanitation machines above that will occasionally leak water. The project needs new resealing of the concrete and flooring on the 3rd floor and instead maintenance has suggested we cover the filing cabinets or \"just wait it out.\" This is only treating the symptom and not the root of the problem. The problem was also passed off to 2 other facilities maintenance employees. My impression is there are two out of 4 tickets still open for this issue to this day.\\r\\n\\r\\nThe maintenance urgent phone line was very respectable and very friendly. They apologized on behalf of the maintenance workers for the lack of communication/follow-up/work.\\r\\n\\r\\nFacilities Maintenance on Campus is well-known to have a poor reputation of communication/responsibility/accountability/responsiveness. Perhaps this is a big reason as to why certain departments take matter into their own hands.</td>\n",
       "      <td>courteous_professional_staff;knowledgeable_staff;resolves_problems_effectively;responds_to_requests_within_an_acceptable_time</td>\n",
       "    </tr>\n",
       "  </tbody>\n",
       "</table>"
      ],
      "text/plain": [
       "<IPython.core.display.HTML object>"
      ]
     },
     "metadata": {},
     "output_type": "display_data"
    }
   ],
   "source": [
    "dls.show_batch(dataloaders=dls, max_n=2)"
   ]
  },
  {
   "cell_type": "markdown",
   "metadata": {},
   "source": [
    "## Standard Themes - Meta"
   ]
  },
  {
   "cell_type": "markdown",
   "metadata": {},
   "source": [
    "Basic configuration"
   ]
  },
  {
   "cell_type": "code",
   "execution_count": 70,
   "metadata": {},
   "outputs": [],
   "source": [
    "#export\n",
    "m_pre_standard_themes_meta = ''\n",
    "m_suf_standard_themes_meta = '_multitask_hf'\n",
    "base_model_name_standard_themes_meta = 'verbatim_standard_theme_meta'\n",
    "\n",
    "meta_standard_themes_train_config = {\n",
    "    'm_pre': m_pre_standard_themes_meta,\n",
    "    'm_suf': m_suf_standard_themes_meta,\n",
    "    'base_model_name': base_model_name_standard_themes_meta,\n",
    "    \n",
    "    'max_seq_length': None,\n",
    "    'batch_size': 8,\n",
    "    'corpus_cols': ['theme', 'answer_text'],\n",
    "    'corpus_suf': '_multitask',\n",
    "    'train_data': STANDARD_THEME_META_PATH/'train.csv',\n",
    "    'valid_data': STANDARD_THEME_META_PATH/'test.csv',\n",
    "    'cache_data_path': STANDARD_THEME_META_PATH/f'data_{base_model_name_standard_themes_meta}.pkl',\n",
    "    \n",
    "    'opt_beta': 0.5, \n",
    "    'opt_beta_average': 'binary',\n",
    "    'opt_beta_sample_weight': None,\n",
    "    'opt_start': 0.08, \n",
    "    'opt_end': 0.7,\n",
    "    \n",
    "    'save_model_monitor': 'valid_loss', \n",
    "    'save_model_comp': np.less,\n",
    "    'save_model_filename': f'{m_pre_standard_themes_meta}{base_model_name_standard_themes_meta}{m_suf_standard_themes_meta}_bestmodel',\n",
    "    'export_filename': f'{m_pre_standard_themes_meta}{base_model_name_standard_themes_meta}{m_suf_standard_themes_meta}_export.pkl',\n",
    "\n",
    "    'learner_path': STANDARD_THEME_META_PATH\n",
    "}"
   ]
  },
  {
   "cell_type": "markdown",
   "metadata": {},
   "source": [
    "Prepare the data source"
   ]
  },
  {
   "cell_type": "code",
   "execution_count": 71,
   "metadata": {},
   "outputs": [],
   "source": [
    "train_df = pd.read_csv(STANDARD_THEME_META_PATH/'train.csv')\n",
    "valid_df = pd.read_csv(STANDARD_THEME_META_PATH/'test.csv')"
   ]
  },
  {
   "cell_type": "code",
   "execution_count": 72,
   "metadata": {},
   "outputs": [
    {
     "data": {
      "text/html": [
       "<div>\n",
       "<style scoped>\n",
       "    .dataframe tbody tr th:only-of-type {\n",
       "        vertical-align: middle;\n",
       "    }\n",
       "\n",
       "    .dataframe tbody tr th {\n",
       "        vertical-align: top;\n",
       "    }\n",
       "\n",
       "    .dataframe thead th {\n",
       "        text-align: right;\n",
       "    }\n",
       "</style>\n",
       "<table border=\"1\" class=\"dataframe\">\n",
       "  <thead>\n",
       "    <tr style=\"text-align: right;\">\n",
       "      <th></th>\n",
       "      <th>id</th>\n",
       "      <th>question_ans_id</th>\n",
       "      <th>answer_text</th>\n",
       "      <th>answer_text_non_english</th>\n",
       "      <th>language</th>\n",
       "      <th>survey_id</th>\n",
       "      <th>survey_type_id</th>\n",
       "      <th>benchmark_survey_type</th>\n",
       "      <th>client_id</th>\n",
       "      <th>rsp_id</th>\n",
       "      <th>question_category_abbr</th>\n",
       "      <th>question_text</th>\n",
       "      <th>question_class</th>\n",
       "      <th>question_category_id</th>\n",
       "      <th>question_report_abbr</th>\n",
       "      <th>question_category_label</th>\n",
       "      <th>benchmark_level1</th>\n",
       "      <th>benchmark_level2</th>\n",
       "      <th>benchmark_level3</th>\n",
       "      <th>client_benchmark_level</th>\n",
       "      <th>group_code</th>\n",
       "      <th>group_id</th>\n",
       "      <th>group_level1_code</th>\n",
       "      <th>group_level1_name</th>\n",
       "      <th>group_level2_code</th>\n",
       "      <th>group_level2_name</th>\n",
       "      <th>group_level3_code</th>\n",
       "      <th>group_level3_name</th>\n",
       "      <th>group_level4_code</th>\n",
       "      <th>group_level4_name</th>\n",
       "      <th>group_level5_code</th>\n",
       "      <th>group_level5_name</th>\n",
       "      <th>group_level6_code</th>\n",
       "      <th>group_level6_name</th>\n",
       "      <th>group_level7_code</th>\n",
       "      <th>group_level7_name</th>\n",
       "      <th>group_level8_code</th>\n",
       "      <th>group_level8_name</th>\n",
       "      <th>standard_theme_id</th>\n",
       "      <th>theme</th>\n",
       "      <th>url_friendly_theme</th>\n",
       "      <th>theme_display_order</th>\n",
       "      <th>avg_sentiment</th>\n",
       "      <th>is_example</th>\n",
       "    </tr>\n",
       "  </thead>\n",
       "  <tbody>\n",
       "    <tr>\n",
       "      <th>0</th>\n",
       "      <td>660454</td>\n",
       "      <td>93069</td>\n",
       "      <td>\"Academics at UC ANR value my contributions.\"\\r\\n\"Staff members at UC ANR value my contributions...</td>\n",
       "      <td>NaN</td>\n",
       "      <td>English</td>\n",
       "      <td>396</td>\n",
       "      <td>47</td>\n",
       "      <td>SAW</td>\n",
       "      <td>UCANR</td>\n",
       "      <td>480552</td>\n",
       "      <td>None</td>\n",
       "      <td>Please provide any additional feedback regarding the work environment at UC ANR. Your comments w...</td>\n",
       "      <td>Verbatim-Comments</td>\n",
       "      <td>1141.0</td>\n",
       "      <td>Comments re Work Environment at UC ANR</td>\n",
       "      <td>Comments</td>\n",
       "      <td>None</td>\n",
       "      <td>None</td>\n",
       "      <td>None</td>\n",
       "      <td>3.0</td>\n",
       "      <td>250400.0</td>\n",
       "      <td>6984</td>\n",
       "      <td>999999.0</td>\n",
       "      <td>UC Agriculture &amp; Natural Resources</td>\n",
       "      <td>200000.0</td>\n",
       "      <td>AVP Programs and Initiatives</td>\n",
       "      <td>250000.0</td>\n",
       "      <td>Strategic Institutes and Statewide Programs</td>\n",
       "      <td>250400.0</td>\n",
       "      <td>Statewide IPM</td>\n",
       "      <td>NaN</td>\n",
       "      <td>NaN</td>\n",
       "      <td>NaN</td>\n",
       "      <td>NaN</td>\n",
       "      <td>NaN</td>\n",
       "      <td>NaN</td>\n",
       "      <td>NaN</td>\n",
       "      <td>NaN</td>\n",
       "      <td>10</td>\n",
       "      <td>Have Voice within my Institution/Valued Member of my Institution</td>\n",
       "      <td>HaveVoiceWithinMyInstitutionValuedMemberOfMyInstitution</td>\n",
       "      <td>1</td>\n",
       "      <td>2.0</td>\n",
       "      <td>0</td>\n",
       "    </tr>\n",
       "    <tr>\n",
       "      <th>1</th>\n",
       "      <td>589692</td>\n",
       "      <td>2576</td>\n",
       "      <td>*The MSO of this department consistently takes unfair advantage of power dynamics to intimidate ...</td>\n",
       "      <td>NaN</td>\n",
       "      <td>English</td>\n",
       "      <td>212</td>\n",
       "      <td>9</td>\n",
       "      <td>SAW</td>\n",
       "      <td>UCSD</td>\n",
       "      <td>447156</td>\n",
       "      <td>C&amp;B</td>\n",
       "      <td>If you would like to elaborate on any of your answers to the conduct and behavioral questions ab...</td>\n",
       "      <td>Verbatim</td>\n",
       "      <td>1240.0</td>\n",
       "      <td>Conduct &amp; Behavioral - Comments</td>\n",
       "      <td>Conduct &amp; Behavioral</td>\n",
       "      <td>None</td>\n",
       "      <td>None</td>\n",
       "      <td>None</td>\n",
       "      <td>3.0</td>\n",
       "      <td>10104.0</td>\n",
       "      <td>3437</td>\n",
       "      <td>999999.0</td>\n",
       "      <td>UC San Diego</td>\n",
       "      <td>10000.0</td>\n",
       "      <td>ACADEMIC AFFAIRS</td>\n",
       "      <td>10002.0</td>\n",
       "      <td>DIVISIONS/SCHOOLS</td>\n",
       "      <td>10003.0</td>\n",
       "      <td>ARTS &amp; HUMANITIES</td>\n",
       "      <td>10104.0</td>\n",
       "      <td>MUSIC</td>\n",
       "      <td>NaN</td>\n",
       "      <td>NaN</td>\n",
       "      <td>NaN</td>\n",
       "      <td>NaN</td>\n",
       "      <td>NaN</td>\n",
       "      <td>NaN</td>\n",
       "      <td>19</td>\n",
       "      <td>Supervisor Effectiveness/Resolves Staff Issues</td>\n",
       "      <td>SupervisorEffectivenessResolvesStaffIssues</td>\n",
       "      <td>1</td>\n",
       "      <td>1.0</td>\n",
       "      <td>0</td>\n",
       "    </tr>\n",
       "  </tbody>\n",
       "</table>\n",
       "</div>"
      ],
      "text/plain": [
       "       id  question_ans_id                                                                                          answer_text  answer_text_non_english language  survey_id  survey_type_id benchmark_survey_type client_id  rsp_id question_category_abbr                                                                                        question_text     question_class  question_category_id                    question_report_abbr question_category_label benchmark_level1 benchmark_level2 benchmark_level3  client_benchmark_level  group_code  group_id  group_level1_code                   group_level1_name  group_level2_code             group_level2_name  group_level3_code                            group_level3_name  group_level4_code  group_level4_name  group_level5_code group_level5_name  group_level6_code group_level6_name  group_level7_code group_level7_name  group_level8_code  group_level8_name  standard_theme_id                                                             theme  \\\n",
       "0  660454            93069  \"Academics at UC ANR value my contributions.\"\\r\\n\"Staff members at UC ANR value my contributions...                      NaN  English        396              47                   SAW     UCANR  480552                   None  Please provide any additional feedback regarding the work environment at UC ANR. Your comments w...  Verbatim-Comments                1141.0  Comments re Work Environment at UC ANR                Comments             None             None             None                     3.0    250400.0      6984           999999.0  UC Agriculture & Natural Resources           200000.0  AVP Programs and Initiatives           250000.0  Strategic Institutes and Statewide Programs           250400.0      Statewide IPM                NaN               NaN                NaN               NaN                NaN               NaN                NaN                NaN                 10  Have Voice within my Institution/Valued Member of my Institution   \n",
       "1  589692             2576  *The MSO of this department consistently takes unfair advantage of power dynamics to intimidate ...                      NaN  English        212               9                   SAW      UCSD  447156                    C&B  If you would like to elaborate on any of your answers to the conduct and behavioral questions ab...           Verbatim                1240.0         Conduct & Behavioral - Comments    Conduct & Behavioral             None             None             None                     3.0     10104.0      3437           999999.0                        UC San Diego            10000.0              ACADEMIC AFFAIRS            10002.0                            DIVISIONS/SCHOOLS            10003.0  ARTS & HUMANITIES            10104.0             MUSIC                NaN               NaN                NaN               NaN                NaN                NaN                 19                    Supervisor Effectiveness/Resolves Staff Issues   \n",
       "\n",
       "                                        url_friendly_theme  theme_display_order  avg_sentiment  is_example  \n",
       "0  HaveVoiceWithinMyInstitutionValuedMemberOfMyInstitution                    1            2.0           0  \n",
       "1               SupervisorEffectivenessResolvesStaffIssues                    1            1.0           0  "
      ]
     },
     "execution_count": 72,
     "metadata": {},
     "output_type": "execute_result"
    }
   ],
   "source": [
    "train_df.head(2)"
   ]
  },
  {
   "cell_type": "code",
   "execution_count": 73,
   "metadata": {},
   "outputs": [
    {
     "data": {
      "text/plain": [
       "dtype('int64')"
      ]
     },
     "execution_count": 73,
     "metadata": {},
     "output_type": "execute_result"
    }
   ],
   "source": [
    "train_df.is_example.dtype"
   ]
  },
  {
   "cell_type": "markdown",
   "metadata": {},
   "source": [
    "Remove any rows whre the \"corpus_cols\" are nan"
   ]
  },
  {
   "cell_type": "code",
   "execution_count": 74,
   "metadata": {},
   "outputs": [],
   "source": [
    "train_df.dropna(subset=meta_standard_themes_train_config['corpus_cols'], inplace=True)\n",
    "valid_df.dropna(subset=meta_standard_themes_train_config['corpus_cols'], inplace=True)"
   ]
  },
  {
   "cell_type": "code",
   "execution_count": 75,
   "metadata": {},
   "outputs": [],
   "source": [
    "#hide\n",
    "# list(set(train_df.theme.unique()))"
   ]
  },
  {
   "cell_type": "code",
   "execution_count": 76,
   "metadata": {},
   "outputs": [
    {
     "data": {
      "text/plain": [
       "13413"
      ]
     },
     "execution_count": 76,
     "metadata": {},
     "output_type": "execute_result"
    }
   ],
   "source": [
    "train_df['is_valid'] = False\n",
    "valid_df['is_valid'] = True\n",
    "df = pd.concat([train_df, valid_df])\n",
    "len(df)"
   ]
  },
  {
   "cell_type": "code",
   "execution_count": 77,
   "metadata": {},
   "outputs": [],
   "source": [
    "#export\n",
    "def get_meta_standard_theme_train_data(train_config={}):\n",
    "    config = {**meta_standard_themes_train_config, **train_config}\n",
    "    \n",
    "    train_df = pd.read_csv(config['train_data'])\n",
    "    train_df.dropna(subset=config['corpus_cols'], inplace=True)\n",
    "    train_df.reset_index(drop=True, inplace=True)\n",
    "    train_df['is_valid'] = False\n",
    "    \n",
    "    if ('valid_data' in config and config['valid_data'] is not None):\n",
    "        valid_df = pd.read_csv(config['valid_data'])\n",
    "        valid_df.dropna(subset=config['corpus_cols'], inplace=True)\n",
    "        valid_df.reset_index(drop=True, inplace=True)\n",
    "        valid_df['is_valid'] = True\n",
    "        \n",
    "        return pd.concat([train_df, valid_df])\n",
    "    \n",
    "    return train_df"
   ]
  },
  {
   "cell_type": "code",
   "execution_count": 78,
   "metadata": {},
   "outputs": [],
   "source": [
    "df = get_meta_standard_theme_train_data()\n",
    "test(len(df), 0, operator.ge)"
   ]
  },
  {
   "cell_type": "markdown",
   "metadata": {},
   "source": [
    "Using the mid-level `DataBlocks` API"
   ]
  },
  {
   "cell_type": "code",
   "execution_count": 79,
   "metadata": {},
   "outputs": [],
   "source": [
    "#hide\n",
    "task = HF_TASKS_AUTO.SequenceClassification\n",
    "\n",
    "pretrained_model_name = \"roberta-base\"\n",
    "config = AutoConfig.from_pretrained(pretrained_model_name)\n",
    "\n",
    "hf_arch, hf_config, hf_tokenizer, hf_model = BLURR_MODEL_HELPER.get_hf_objects(pretrained_model_name, \n",
    "                                                                               task=task, \n",
    "                                                                               config=config)"
   ]
  },
  {
   "cell_type": "code",
   "execution_count": 80,
   "metadata": {},
   "outputs": [],
   "source": [
    "#hide\n",
    "blocks = (\n",
    "    HF_TextBlock(hf_arch, hf_config, hf_tokenizer, hf_model), \n",
    "    RegressionBlock(),\n",
    "    CategoryBlock()\n",
    ")\n",
    "\n",
    "def get_x(inp): return ': '.join(inp[meta_standard_themes_train_config['corpus_cols']].values)\n",
    "\n",
    "dblock = DataBlock(blocks=blocks, \n",
    "                   get_x=get_x, \n",
    "                   get_y=[ColReader('avg_sentiment'), ColReader('is_example')], \n",
    "                   splitter=ColSplitter(col='is_valid'), \n",
    "                   n_inp=1)"
   ]
  },
  {
   "cell_type": "code",
   "execution_count": 81,
   "metadata": {},
   "outputs": [],
   "source": [
    "#hide\n",
    "set_seed(TL_RAND_SEED)\n",
    "dls = dblock.dataloaders(df, bs=saw_standard_themes_train_config['batch_size'], num_workers=0)"
   ]
  },
  {
   "cell_type": "code",
   "execution_count": 82,
   "metadata": {
    "scrolled": true
   },
   "outputs": [
    {
     "data": {
      "text/plain": [
       "[0, 1]"
      ]
     },
     "execution_count": 82,
     "metadata": {},
     "output_type": "execute_result"
    }
   ],
   "source": [
    "dls.vocab"
   ]
  },
  {
   "cell_type": "code",
   "execution_count": 83,
   "metadata": {},
   "outputs": [
    {
     "data": {
      "text/plain": [
       "50265"
      ]
     },
     "execution_count": 83,
     "metadata": {},
     "output_type": "execute_result"
    }
   ],
   "source": [
    "dls.before_batch[0].hf_tokenizer.vocab_size"
   ]
  },
  {
   "cell_type": "code",
   "execution_count": 84,
   "metadata": {},
   "outputs": [
    {
     "name": "stdout",
     "output_type": "stream",
     "text": [
      "The inputs vocab (50265 items), and the targets (2 items)\n"
     ]
    }
   ],
   "source": [
    "#hide\n",
    "print((f'The inputs vocab ({dls.before_batch[0].hf_tokenizer.vocab_size} items), '\n",
    "       f'and the targets ({len(dls.vocab)} items)'))"
   ]
  },
  {
   "cell_type": "code",
   "execution_count": 85,
   "metadata": {},
   "outputs": [
    {
     "data": {
      "text/plain": [
       "(3,\n",
       " torch.Size([8, 465]),\n",
       " torch.Size([8]),\n",
       " torch.Size([8]),\n",
       " 'torch.cuda.FloatTensor',\n",
       " 'torch.cuda.LongTensor')"
      ]
     },
     "execution_count": 85,
     "metadata": {},
     "output_type": "execute_result"
    }
   ],
   "source": [
    "#hide\n",
    "b = dls.one_batch()\n",
    "len(b), b[0]['input_ids'].shape, b[1].shape, b[2].shape, b[1].type(), b[2].type()"
   ]
  },
  {
   "cell_type": "code",
   "execution_count": 86,
   "metadata": {
    "scrolled": true
   },
   "outputs": [
    {
     "data": {
      "text/html": [
       "<table border=\"1\" class=\"dataframe\">\n",
       "  <thead>\n",
       "    <tr style=\"text-align: right;\">\n",
       "      <th></th>\n",
       "      <th>text</th>\n",
       "      <th>text_</th>\n",
       "      <th>category</th>\n",
       "    </tr>\n",
       "  </thead>\n",
       "  <tbody>\n",
       "    <tr>\n",
       "      <th>0</th>\n",
       "      <td>Supervisor Effectiveness/Resolves Staff Issues: In the Enterprise Network and Telecommunications group of ITS, the environment continues to be toxic, retaliatory, abusive, and discriminatory as in past years. Under the direction of James Seddon, supervisor Malerie Samadi harasses and talks down to employees. Manipulates and edits official documentation to make staff look and give lower performance appraisal ratings or retaliate against them. Also, use the same practice to provide their friends with higher performance ratings and award them with higher merit increases.  Senior management continues to harbor this behavior without any consequence and or accountability. James and Malerie exploit minorities and give preferential treatment to personnel hired by them. Regularly abuse the power that the University of California gives them and exercise nepotism because they are both product of such practices.\\r\\nOther supervisors like Ynez Hicks also participates in the same practices of despotism, nepotism, and favoritism. \\r\\nIt is unacceptable that this behavior and practices continue to be used by management without any accountability.  Principles of the community are ignored continuously daily. When this type of situation is brought up to Human Resources, they ignore them because no one is enforcing the UC Principles. James Seddon and Malerie Samadi in the Datacom group don't care about staff promotion, compensation, and well being. They only care about themselves and their friends. Hiring practices are unfair; they manipulate the process so they can hire barely qualified personnel into experienced positions. Existing staff is overworked because newer personnel can not pull their weight, yet Malerie and James make it look like they are in their appraisals. They mentally abuse staff and minimize their work performance. Recently one of the team member past away while working at home. A stroke caused by the stress and the pressure that Malerie was putting on David Ramirez. She used him to get her promotion to supervisor and make her look good in front of others.\\r\\nBoth James and Malerie are the perfect examples of bad management. Somehow they continue to occupy their positions, and Senior Management doesn't do anything about it.  \\r\\nThe lowest level the Datacom team has been in years, all because of James and Malerie's arrogance and lack of ethics.</td>\n",
       "      <td>1.0</td>\n",
       "      <td>0</td>\n",
       "    </tr>\n",
       "    <tr>\n",
       "      <th>1</th>\n",
       "      <td>Have Voice within my Institution/Valued Member of my Institution: It is tough to answer the questions this year. \\r\\nI used to know my resources, and feel positively about training. I do not feel the same since ESR. RSC has limited job functionality because OFC was rolled-out without appropriate reporting and or cost transfers. We have spent many frustrating hours trying to figure out how to access the systems and functions that are up and running (Path). We are left on the front lines with faculty and departments with inadequate tools to help.\\r\\nThe issues above do not make me feel valued as a member of the UC San Diego community or like leadership listens. It feels like no one even stopped to think about what a fund manager does, and how they will be able to continue those functions in the new systems. \\r\\nI realize now it is hard for me to comment on inclusion. I think we do a good job, or at least try to, but I am not in a group that would have ever felt excluded based on my background or orientation.  \\r\\nAmount of work remains an issue. The job expands to the hours allotted. We could do a lot better, more thorough and thoughtful work if we had some space to breath and think. Instead we are running from one fire to the next. Many areas had to learn 1 new ESR system. We had to learn ALL of them. It's WAY too much. On top of already having more than enough work to fill every minute of a 40 hr week. And we have learned that somewhere in the ESR process, it was decided (without our knowledge/input/concurrence) that we would take on more duties.  Yay.</td>\n",
       "      <td>2.0</td>\n",
       "      <td>0</td>\n",
       "    </tr>\n",
       "  </tbody>\n",
       "</table>"
      ],
      "text/plain": [
       "<IPython.core.display.HTML object>"
      ]
     },
     "metadata": {},
     "output_type": "display_data"
    }
   ],
   "source": [
    "#hide\n",
    "dls.show_batch(dataloaders=dls, max_n=2)"
   ]
  },
  {
   "cell_type": "code",
   "execution_count": 87,
   "metadata": {},
   "outputs": [],
   "source": [
    "#export\n",
    "def get_meta_standard_theme_train_x(inp, corpus_cols): return 'theme: ' + ' comment: '.join(inp[corpus_cols].values)\n",
    "\n",
    "def get_meta_standard_theme_train_dls(df, hf_arch, hf_config, hf_tokenizer, hf_model, \n",
    "                                      train_config={}, use_cache=True):\n",
    "    \n",
    "    config = {**meta_standard_themes_train_config, **train_config}\n",
    "    cache_path = config['cache_data_path'] if ('cache_data_path' in config) else None\n",
    "    \n",
    "    if (use_cache and cache_path is not None):\n",
    "        if (os.path.isfile(cache_path)): \n",
    "            dls = torch.load(cache_path)\n",
    "            dls.bs = config['batch_size']\n",
    "            return dls\n",
    "    \n",
    "    blocks = (\n",
    "        HF_TextBlock(hf_arch, hf_config, hf_tokenizer, hf_model, max_length=config['max_seq_length']), \n",
    "        RegressionBlock(),\n",
    "        CategoryBlock()\n",
    "    )\n",
    "\n",
    "    dblock = DataBlock(blocks=blocks, \n",
    "                       get_x=partial(get_meta_standard_theme_train_x, corpus_cols=config['corpus_cols']),\n",
    "                       get_y=[ColReader('avg_sentiment'), ColReader('is_example')], \n",
    "                       splitter=ColSplitter(col='is_valid'), \n",
    "                       n_inp=1)\n",
    "    \n",
    "    set_seed(TL_RAND_SEED)\n",
    "    dls = dblock.dataloaders(df, bs=config['batch_size'], num_workers=0)\n",
    "    if (cache_path is not None): torch.save(dls, config['cache_data_path'])\n",
    "        \n",
    "    return dls"
   ]
  },
  {
   "cell_type": "markdown",
   "metadata": {},
   "source": [
    "Tests"
   ]
  },
  {
   "cell_type": "code",
   "execution_count": 88,
   "metadata": {},
   "outputs": [],
   "source": [
    "df = get_meta_standard_theme_train_data()\n",
    "\n",
    "dls = get_meta_standard_theme_train_dls(df, hf_arch, hf_config, hf_tokenizer, hf_model)\n",
    "\n",
    "test_eq(dls.bs, meta_standard_themes_train_config['batch_size'])\n",
    "test_eq(2, len(dls.vocab))\n",
    "\n",
    "b = dls.one_batch()\n",
    "test_eq(len(b), 3)\n",
    "test_eq(b[1].shape[0], dls.bs)    # = regression task\n",
    "test_eq(b[2].shape[0], dls.bs)    # = classification task"
   ]
  },
  {
   "cell_type": "code",
   "execution_count": 89,
   "metadata": {},
   "outputs": [],
   "source": [
    "dls = get_meta_standard_theme_train_dls(df, hf_arch, hf_config, hf_tokenizer, hf_model, use_cache=False)\n",
    "\n",
    "test_eq(dls.bs, meta_standard_themes_train_config['batch_size'])\n",
    "test_eq(2, len(dls.vocab))\n",
    "\n",
    "b = dls.one_batch()\n",
    "test_eq(len(b), 3)\n",
    "test_eq(b[1].shape[0], dls.bs)    # = regression task\n",
    "test_eq(b[2].shape[0], dls.bs)    # = classification task"
   ]
  },
  {
   "cell_type": "code",
   "execution_count": 90,
   "metadata": {},
   "outputs": [
    {
     "data": {
      "text/html": [
       "<table border=\"1\" class=\"dataframe\">\n",
       "  <thead>\n",
       "    <tr style=\"text-align: right;\">\n",
       "      <th></th>\n",
       "      <th>text</th>\n",
       "      <th>text_</th>\n",
       "      <th>category</th>\n",
       "    </tr>\n",
       "  </thead>\n",
       "  <tbody>\n",
       "    <tr>\n",
       "      <th>0</th>\n",
       "      <td>theme: Supervisor Effectiveness/Resolves Staff Issues comment: In the Enterprise Network and Telecommunications group of ITS, the environment continues to be toxic, retaliatory, abusive, and discriminatory as in past years. Under the direction of James Seddon, supervisor Malerie Samadi harasses and talks down to employees. Manipulates and edits official documentation to make staff look and give lower performance appraisal ratings or retaliate against them. Also, use the same practice to provide their friends with higher performance ratings and award them with higher merit increases.  Senior management continues to harbor this behavior without any consequence and or accountability. James and Malerie exploit minorities and give preferential treatment to personnel hired by them. Regularly abuse the power that the University of California gives them and exercise nepotism because they are both product of such practices.\\r\\nOther supervisors like Ynez Hicks also participates in the same practices of despotism, nepotism, and favoritism. \\r\\nIt is unacceptable that this behavior and practices continue to be used by management without any accountability.  Principles of the community are ignored continuously daily. When this type of situation is brought up to Human Resources, they ignore them because no one is enforcing the UC Principles. James Seddon and Malerie Samadi in the Datacom group don't care about staff promotion, compensation, and well being. They only care about themselves and their friends. Hiring practices are unfair; they manipulate the process so they can hire barely qualified personnel into experienced positions. Existing staff is overworked because newer personnel can not pull their weight, yet Malerie and James make it look like they are in their appraisals. They mentally abuse staff and minimize their work performance. Recently one of the team member past away while working at home. A stroke caused by the stress and the pressure that Malerie was putting on David Ramirez. She used him to get her promotion to supervisor and make her look good in front of others.\\r\\nBoth James and Malerie are the perfect examples of bad management. Somehow they continue to occupy their positions, and Senior Management doesn't do anything about it.  \\r\\nThe lowest level the Datacom team has been in years, all because of James and Malerie's arrogance and lack of ethics.</td>\n",
       "      <td>1.0</td>\n",
       "      <td>0</td>\n",
       "    </tr>\n",
       "    <tr>\n",
       "      <th>1</th>\n",
       "      <td>theme: Have Voice within my Institution/Valued Member of my Institution comment: It is tough to answer the questions this year. \\r\\nI used to know my resources, and feel positively about training. I do not feel the same since ESR. RSC has limited job functionality because OFC was rolled-out without appropriate reporting and or cost transfers. We have spent many frustrating hours trying to figure out how to access the systems and functions that are up and running (Path). We are left on the front lines with faculty and departments with inadequate tools to help.\\r\\nThe issues above do not make me feel valued as a member of the UC San Diego community or like leadership listens. It feels like no one even stopped to think about what a fund manager does, and how they will be able to continue those functions in the new systems. \\r\\nI realize now it is hard for me to comment on inclusion. I think we do a good job, or at least try to, but I am not in a group that would have ever felt excluded based on my background or orientation.  \\r\\nAmount of work remains an issue. The job expands to the hours allotted. We could do a lot better, more thorough and thoughtful work if we had some space to breath and think. Instead we are running from one fire to the next. Many areas had to learn 1 new ESR system. We had to learn ALL of them. It's WAY too much. On top of already having more than enough work to fill every minute of a 40 hr week. And we have learned that somewhere in the ESR process, it was decided (without our knowledge/input/concurrence) that we would take on more duties.  Yay.</td>\n",
       "      <td>2.0</td>\n",
       "      <td>0</td>\n",
       "    </tr>\n",
       "  </tbody>\n",
       "</table>"
      ],
      "text/plain": [
       "<IPython.core.display.HTML object>"
      ]
     },
     "metadata": {},
     "output_type": "display_data"
    }
   ],
   "source": [
    "dls.show_batch(dataloaders=dls, max_n=2)"
   ]
  },
  {
   "cell_type": "code",
   "execution_count": null,
   "metadata": {},
   "outputs": [],
   "source": []
  },
  {
   "cell_type": "markdown",
   "metadata": {},
   "source": [
    "## Cleanup"
   ]
  },
  {
   "cell_type": "code",
   "execution_count": 91,
   "metadata": {},
   "outputs": [
    {
     "name": "stdout",
     "output_type": "stream",
     "text": [
      "Converted 00_utils.ipynb.\n",
      "Converted 02a_verbatims-core.ipynb.\n",
      "Converted 02b_verbatims-sentiment.ipynb.\n",
      "Converted 02c_verbatims-standard-themes-saw-training.ipynb.\n",
      "Converted 02d_verbatims-standard-themes-css-training.ipynb.\n",
      "Converted 02e_verbatims-standard-themes-meta-training.ipynb.\n",
      "Converted 99_verbatims-inference.ipynb.\n",
      "Converted index.ipynb.\n"
     ]
    }
   ],
   "source": [
    "#hide\n",
    "from nbdev.export import notebook2script\n",
    "notebook2script()"
   ]
  },
  {
   "cell_type": "code",
   "execution_count": null,
   "metadata": {},
   "outputs": [],
   "source": []
  }
 ],
 "metadata": {
  "kernelspec": {
   "display_name": "Python 3",
   "language": "python",
   "name": "python3"
  },
  "language_info": {
   "codemirror_mode": {
    "name": "ipython",
    "version": 3
   },
   "file_extension": ".py",
   "mimetype": "text/x-python",
   "name": "python",
   "nbconvert_exporter": "python",
   "pygments_lexer": "ipython3",
   "version": "3.8.8"
  },
  "varInspector": {
   "cols": {
    "lenName": 16,
    "lenType": 16,
    "lenVar": 40
   },
   "kernels_config": {
    "python": {
     "delete_cmd_postfix": "",
     "delete_cmd_prefix": "del ",
     "library": "var_list.py",
     "varRefreshCmd": "print(var_dic_list())"
    },
    "r": {
     "delete_cmd_postfix": ") ",
     "delete_cmd_prefix": "rm(",
     "library": "var_list.r",
     "varRefreshCmd": "cat(var_dic_list()) "
    }
   },
   "position": {
    "height": "468px",
    "left": "1307px",
    "right": "20px",
    "top": "120px",
    "width": "353px"
   },
   "types_to_exclude": [
    "module",
    "function",
    "builtin_function_or_method",
    "instance",
    "_Feature"
   ],
   "window_display": false
  }
 },
 "nbformat": 4,
 "nbformat_minor": 2
}
