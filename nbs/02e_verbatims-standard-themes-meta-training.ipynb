{
 "cells": [
  {
   "cell_type": "code",
   "execution_count": 1,
   "metadata": {},
   "outputs": [],
   "source": [
    "#default_exp verbatims/standard_themes_meta/training"
   ]
  },
  {
   "cell_type": "code",
   "execution_count": 2,
   "metadata": {},
   "outputs": [],
   "source": [
    "#all_slow"
   ]
  },
  {
   "cell_type": "code",
   "execution_count": 3,
   "metadata": {},
   "outputs": [],
   "source": [
    "#hide\n",
    "%reload_ext autoreload\n",
    "%autoreload 2\n",
    "%matplotlib inline"
   ]
  },
  {
   "cell_type": "markdown",
   "metadata": {},
   "source": [
    "# Standard Meta Themes - Training\n",
    "\n",
    "> This module contains all the bits required to train and evaluate meta standard theme models.  These are models which, for a given verbatim related to a standard tehem, predicts the sentiment relative to *that* theme and whether it should be used as an example"
   ]
  },
  {
   "cell_type": "code",
   "execution_count": 4,
   "metadata": {},
   "outputs": [],
   "source": [
    "#export\n",
    "import os, datetime\n",
    "import sklearn.metrics as skm\n",
    "\n",
    "from fastai import metrics as fa_metrics\n",
    "from fastai.text.all import *\n",
    "from transformers import *\n",
    "from blurr.utils import *\n",
    "from blurr.data.core import *\n",
    "from blurr.modeling.all import MultiTargetLoss\n",
    "from blurr.modeling.core import *\n",
    "\n",
    "from tritonlytics_ai.utils import *\n",
    "from tritonlytics_ai.verbatims.core import *"
   ]
  },
  {
   "cell_type": "code",
   "execution_count": 5,
   "metadata": {},
   "outputs": [],
   "source": [
    "#hide\n",
    "import pdb, gc\n",
    "\n",
    "# pandas and plotting config\n",
    "import seaborn as sns\n",
    "sns.set_style('whitegrid')\n",
    "\n",
    "plt.rcParams['figure.figsize'] = (9,6)\n",
    "\n",
    "pd.set_option('display.max_rows', 500)\n",
    "pd.set_option('display.max_columns', 500)\n",
    "pd.set_option('display.width', 1000)\n",
    "pd.set_option('display.max_colwidth', 100)\n",
    "\n",
    "from nbdev.showdoc import *\n",
    "from fastcore.test import *"
   ]
  },
  {
   "cell_type": "code",
   "execution_count": 6,
   "metadata": {
    "tags": []
   },
   "outputs": [
    {
     "name": "stdout",
     "output_type": "stream",
     "text": [
      "Using pytorch 1.6.0\n",
      "Using fastai 2.0.16\n",
      "Using transformers 3.3.1\n"
     ]
    }
   ],
   "source": [
    "#hide\n",
    "from fastai import __version__ as fa_version\n",
    "from torch import __version__ as pt_version\n",
    "from transformers import __version__ as hft_version\n",
    "\n",
    "print(f'Using pytorch {pt_version}')\n",
    "print(f'Using fastai {fa_version}')\n",
    "print(f'Using transformers {hft_version}')"
   ]
  },
  {
   "cell_type": "code",
   "execution_count": 7,
   "metadata": {
    "tags": []
   },
   "outputs": [
    {
     "name": "stdout",
     "output_type": "stream",
     "text": [
      "Using GPU #1\n"
     ]
    }
   ],
   "source": [
    "#cuda\n",
    "torch.cuda.set_device(1)\n",
    "print(f'Using GPU #{torch.cuda.current_device()}')"
   ]
  },
  {
   "cell_type": "code",
   "execution_count": 8,
   "metadata": {},
   "outputs": [],
   "source": [
    "train_config = {}"
   ]
  },
  {
   "cell_type": "markdown",
   "metadata": {},
   "source": [
    "## Data"
   ]
  },
  {
   "cell_type": "code",
   "execution_count": 9,
   "metadata": {
    "scrolled": true
   },
   "outputs": [
    {
     "name": "stderr",
     "output_type": "stream",
     "text": [
      "Some weights of the model checkpoint at facebook/bart-base were not used when initializing BartForSequenceClassification: ['final_logits_bias']\n",
      "- This IS expected if you are initializing BartForSequenceClassification from the checkpoint of a model trained on another task or with another architecture (e.g. initializing a BertForSequenceClassification model from a BertForPretraining model).\n",
      "- This IS NOT expected if you are initializing BartForSequenceClassification from the checkpoint of a model that you expect to be exactly identical (initializing a BertForSequenceClassification model from a BertForSequenceClassification model).\n",
      "Some weights of BartForSequenceClassification were not initialized from the model checkpoint at facebook/bart-base and are newly initialized: ['classification_head.dense.weight', 'classification_head.dense.bias', 'classification_head.out_proj.weight', 'classification_head.out_proj.bias']\n",
      "You should probably TRAIN this model on a down-stream task to be able to use it for predictions and inference.\n"
     ]
    }
   ],
   "source": [
    "task = HF_TASKS_AUTO.SequenceClassification\n",
    "\n",
    "pretrained_model_name = 'facebook/bart-base' #\"bert-base-cased\" #\"bert-base-uncased\" #\"roberta-base\"\n",
    "config = AutoConfig.from_pretrained(pretrained_model_name)\n",
    "config.attention_probs_dropout_prob = 0.1 * 2\n",
    "config.hidden_dropout_prob = 0.1 * 2\n",
    "\n",
    "hf_arch, hf_config, hf_tokenizer, hf_model = BLURR_MODEL_HELPER.get_hf_objects(pretrained_model_name, \n",
    "                                                                               task=task, \n",
    "                                                                               config=config)"
   ]
  },
  {
   "cell_type": "code",
   "execution_count": 10,
   "metadata": {},
   "outputs": [],
   "source": [
    "df = get_meta_standard_theme_train_data(train_config=train_config)\n",
    "train_df, valid_df = df[df.is_valid == False], df[df.is_valid == True]\n",
    "\n",
    "dls = get_meta_standard_theme_train_dls(df, hf_arch, hf_tokenizer, train_config=train_config)"
   ]
  },
  {
   "cell_type": "code",
   "execution_count": 11,
   "metadata": {
    "tags": []
   },
   "outputs": [
    {
     "data": {
      "text/plain": [
       "(3, torch.Size([8, 468]), torch.Size([8]), torch.Size([8]))"
      ]
     },
     "execution_count": 11,
     "metadata": {},
     "output_type": "execute_result"
    }
   ],
   "source": [
    "b = dls.one_batch()\n",
    "len(b), b[0]['input_ids'].shape, b[1].shape, b[2].shape"
   ]
  },
  {
   "cell_type": "markdown",
   "metadata": {},
   "source": [
    "## Training"
   ]
  },
  {
   "cell_type": "code",
   "execution_count": 12,
   "metadata": {},
   "outputs": [],
   "source": [
    "m_pre = f'exp_{m_pre_standard_themes_meta}'\n",
    "m_suf = m_suf_standard_themes_meta"
   ]
  },
  {
   "cell_type": "markdown",
   "metadata": {},
   "source": [
    "Configure our **metrics**"
   ]
  },
  {
   "cell_type": "code",
   "execution_count": 13,
   "metadata": {},
   "outputs": [],
   "source": [
    "#export\n",
    "# define metrics\n",
    "def sentiment_mse(preds, *targs):\n",
    "    return fa_metrics.mse(preds[0], targs[0])\n",
    "\n",
    "def is_example_acc(preds, *targs):\n",
    "    return fa_metrics.accuracy(preds[1], targs[1])"
   ]
  },
  {
   "cell_type": "code",
   "execution_count": 14,
   "metadata": {},
   "outputs": [],
   "source": [
    "#export\n",
    "def get_metrics(train_config={}):\n",
    "    config = {**meta_standard_themes_train_config, **train_config}\n",
    "    return [ sentiment_mse, is_example_acc ]"
   ]
  },
  {
   "cell_type": "markdown",
   "metadata": {},
   "source": [
    "Configure our **loss**"
   ]
  },
  {
   "cell_type": "code",
   "execution_count": 15,
   "metadata": {
    "scrolled": true
   },
   "outputs": [
    {
     "name": "stdout",
     "output_type": "stream",
     "text": [
      "[1.0, 115.48148148148148]\n"
     ]
    }
   ],
   "source": [
    "is_example_weights = list(np.max(train_df.is_example.value_counts()) /train_df.is_example.value_counts())\n",
    "print(is_example_weights)"
   ]
  },
  {
   "cell_type": "code",
   "execution_count": 16,
   "metadata": {},
   "outputs": [],
   "source": [
    "# define our custom multi-target loss\n",
    "loss_func = MultiTargetLoss(loss_classes=[MSELossFlat, CrossEntropyLossFlat],\n",
    "                            loss_classes_kwargs=[{}, {'weight': FloatTensor(is_example_weights).to('cuda:1')}],\n",
    "                            weights=[1, 0.1], \n",
    "                            reduction='mean')"
   ]
  },
  {
   "cell_type": "code",
   "execution_count": 17,
   "metadata": {},
   "outputs": [],
   "source": [
    "#export\n",
    "def get_loss_func(dls, train_df=None, use_weighted=False):\n",
    "    loss_classes_kwargs = [{}, {}]\n",
    "    \n",
    "    if (use_weighted and train_df is not None):\n",
    "        is_example_weights = list(np.max(train_df.is_example.value_counts()) /train_df.is_example.value_counts())\n",
    "        loss_classes_kwargs[1] = {'weight': FloatTensor(is_example_weights).to(dls.device)}\n",
    "    \n",
    "    loss_func = MultiTargetLoss(loss_classes=[MSELossFlat, CrossEntropyLossFlat],\n",
    "                                loss_classes_kwargs=loss_classes_kwargs,\n",
    "                                weights=[1, 0.1], \n",
    "                                reduction='mean')\n",
    "        \n",
    "    return loss_func"
   ]
  },
  {
   "cell_type": "code",
   "execution_count": 18,
   "metadata": {},
   "outputs": [],
   "source": [
    "tst_loss_func = get_loss_func(dls, train_df, use_weighted=False)\n",
    "test_is(type(tst_loss_func), MultiTargetLoss)"
   ]
  },
  {
   "cell_type": "code",
   "execution_count": 19,
   "metadata": {},
   "outputs": [],
   "source": [
    "tst_loss_func = get_loss_func(dls, train_df, use_weighted=True)\n",
    "test_is(type(tst_loss_func), MultiTargetLoss)\n",
    "test_eq(len(tst_loss_func.loss_funcs[1].func.weight), len(dls.c))\n",
    "test_eq(dls.device, tst_loss_func.loss_funcs[1].func.weight.device)"
   ]
  },
  {
   "cell_type": "markdown",
   "metadata": {},
   "source": [
    "Configure our callbacks"
   ]
  },
  {
   "cell_type": "code",
   "execution_count": 20,
   "metadata": {},
   "outputs": [],
   "source": [
    "#export\n",
    "class Meta_MM_HF_BaseModelCallback(HF_BaseModelCallback):\n",
    "    def __init__(self, cls_idx=0):\n",
    "        super().__init__()\n",
    "        self.cls_idx = cls_idx\n",
    "        \n",
    "    def after_pred(self):\n",
    "        super().after_pred()\n",
    "        if (self.learn.pred[0].dim() == 3):\n",
    "            self.learn.pred = (self.learn.pred[0][:,self.cls_idx,:], self.learn.pred[1][:,self.cls_idx,:])"
   ]
  },
  {
   "cell_type": "code",
   "execution_count": 21,
   "metadata": {},
   "outputs": [],
   "source": [
    "best_model_cb = SaveModelCallback(monitor='valid_loss', \n",
    "                                  comp=np.less, \n",
    "                                  reset_on_fit=False,\n",
    "                                  fname=f'{m_pre}mm_bestmodel{m_suf}')"
   ]
  },
  {
   "cell_type": "code",
   "execution_count": 22,
   "metadata": {},
   "outputs": [],
   "source": [
    "#export\n",
    "def get_cbs(train_config={}):\n",
    "    config = {**meta_standard_themes_train_config, **train_config}\n",
    "    \n",
    "    best_model_cb = SaveModelCallback(monitor=config['save_model_monitor'], \n",
    "                                      comp=config['save_model_comp'], \n",
    "                                      fname=config['save_model_filename'],\n",
    "                                      reset_on_fit=False)\n",
    "    \n",
    "    return [Meta_MM_HF_BaseModelCallback], [best_model_cb] # (learn_cbs, fit_cbs)"
   ]
  },
  {
   "cell_type": "markdown",
   "metadata": {},
   "source": [
    "Configure our final model by updating our hf_model.classifier for multi-modal tasks"
   ]
  },
  {
   "cell_type": "code",
   "execution_count": 23,
   "metadata": {},
   "outputs": [],
   "source": [
    "#hide\n",
    "\n",
    "# class Meta_MM(Module):\n",
    "#     def __init__(self, in_features=768, inner_dim=768, p=0.0): \n",
    "#         super().__init__()\n",
    "#         self.dense = nn.Linear(in_features, inner_dim)\n",
    "#         self.dropout = nn.Dropout(p=p)\n",
    "#         self.pred_is_example = nn.Linear(inner_dim, 2, bias=False)\n",
    "#         self.pred_avg_sentiment = nn.Linear(inner_dim, 1, bias=False)\n",
    "#         self.pred_avg_sent_range = SigmoidRange(1., 5.1)\n",
    "        \n",
    "#     def forward(self, x):\n",
    "#         x = self.dropout(x)\n",
    "#         x = self.dense(x)\n",
    "#         x = torch.tanh(x)\n",
    "#         x = self.dropout(x)\n",
    "#         is_example = self.pred_is_example(x)\n",
    "#         avg_sentiment = self.pred_avg_sent_range(self.pred_avg_sentiment(x))\n",
    "        \n",
    "#         return avg_sentiment, is_example"
   ]
  },
  {
   "cell_type": "code",
   "execution_count": 24,
   "metadata": {},
   "outputs": [],
   "source": [
    "#export\n",
    "class Meta_MM(Module):\n",
    "    def __init__(self, in_features=50): \n",
    "        super().__init__()\n",
    "        self.pred_is_example = nn.Linear(in_features, 2, bias=False)\n",
    "        self.pred_avg_sentiment = nn.Linear(in_features, 1, bias=False)\n",
    "        self.pred_avg_sent_range = SigmoidRange(1., 5.1)\n",
    "        \n",
    "    def forward(self, x):\n",
    "        is_example = self.pred_is_example(x)\n",
    "        avg_sentiment = self.pred_avg_sent_range(self.pred_avg_sentiment(x))\n",
    "        \n",
    "        return avg_sentiment, is_example"
   ]
  },
  {
   "cell_type": "code",
   "execution_count": 25,
   "metadata": {},
   "outputs": [],
   "source": [
    "last_layer = list(hf_model.named_children())[-1]"
   ]
  },
  {
   "cell_type": "code",
   "execution_count": 26,
   "metadata": {},
   "outputs": [
    {
     "data": {
      "text/plain": [
       "'classification_head'"
      ]
     },
     "execution_count": 26,
     "metadata": {},
     "output_type": "execute_result"
    }
   ],
   "source": [
    "last_layer_name = last_layer[0]; last_layer_name"
   ]
  },
  {
   "cell_type": "code",
   "execution_count": 27,
   "metadata": {
    "scrolled": true
   },
   "outputs": [],
   "source": [
    "in_features = hf_model._modules[last_layer_name].dense.in_features"
   ]
  },
  {
   "cell_type": "code",
   "execution_count": 28,
   "metadata": {},
   "outputs": [],
   "source": [
    "hf_model._modules[last_layer_name] = Meta_MM(in_features=in_features)"
   ]
  },
  {
   "cell_type": "code",
   "execution_count": 29,
   "metadata": {},
   "outputs": [],
   "source": [
    "#hide\n",
    "# in_features = list(last_layer[1].children())[0].in_features; in_features\n",
    "# mm_model = nn.Sequential(list(hf_model.named_children())[:-1][0][1])\n",
    "# mm_model.add_module(name='classifier', module=MM(in_features=768))\n",
    "# hf_model._modules['classifier'] = hf_model._modules.pop(last_layer_name)"
   ]
  },
  {
   "cell_type": "markdown",
   "metadata": {},
   "source": [
    "Configure the Learner"
   ]
  },
  {
   "cell_type": "code",
   "execution_count": 30,
   "metadata": {},
   "outputs": [],
   "source": [
    "learn_metrics = [sentiment_mse, is_example_acc]\n",
    "\n",
    "learn_cbs = [Meta_MM_HF_BaseModelCallback]\n",
    "fit_cbs = [best_model_cb]\n",
    "\n",
    "# build learner\n",
    "model =HF_BaseModelWrapper(hf_model)\n",
    "\n",
    "learn = Learner(dls, \n",
    "                model,\n",
    "                opt_func=partial(Adam, mom=0.9, sqr_mom=0.98, eps=1e-6, weight_decay=0.1),\n",
    "                loss_func=loss_func,\n",
    "                metrics=learn_metrics,\n",
    "                cbs=learn_cbs,\n",
    "                splitter=hf_splitter,\n",
    "                path=STANDARD_THEME_META_PATH)\n",
    "\n",
    "learn.create_opt() # -> will create your layer groups based on your \"splitter\" function\n",
    "learn.freeze()"
   ]
  },
  {
   "cell_type": "code",
   "execution_count": 31,
   "metadata": {},
   "outputs": [],
   "source": [
    "# learn.blurr_summary()"
   ]
  },
  {
   "cell_type": "code",
   "execution_count": 32,
   "metadata": {},
   "outputs": [],
   "source": [
    "# learn.show_training_loop()"
   ]
  },
  {
   "cell_type": "code",
   "execution_count": 33,
   "metadata": {},
   "outputs": [],
   "source": [
    "# Note: Run this to test the model and comment out afterwards as it needlessly contributes to GPU RAM utilization :(\n",
    "# preds = model(b[0]); preds[0][0].shape, preds[0][1].shape"
   ]
  },
  {
   "cell_type": "code",
   "execution_count": 34,
   "metadata": {},
   "outputs": [],
   "source": [
    "#export\n",
    "def get_learner(hf_model, dls, train_df=None, use_weighted_loss=False, use_fp16=True,\n",
    "                opt_func=partial(Adam, mom=0.9, sqr_mom=0.98, eps=1e-6, weight_decay=0.1),\n",
    "                train_config={}):\n",
    "    config = {**meta_standard_themes_train_config, **train_config}\n",
    "    \n",
    "    # swap out classifier for our Meta_MM module\n",
    "    last_layer = list(hf_model.named_children())[-1]\n",
    "    last_layer_name = last_layer[0]\n",
    "    in_features = hf_model._modules[last_layer_name].dense.in_features\n",
    "    hf_model._modules[last_layer_name] = Meta_MM(in_features=in_features)\n",
    "    \n",
    "    # build learner\n",
    "    model = HF_BaseModelWrapper(hf_model)\n",
    "    loss_func = get_loss_func(dls, train_df, use_weighted_loss)\n",
    "    learn_cbs, fit_cbs = get_cbs(config)\n",
    "    learn_metrics = get_metrics(config)\n",
    "\n",
    "    learn = Learner(dls, model, loss_func=loss_func, opt_func=opt_func, \n",
    "                    metrics=learn_metrics, cbs=learn_cbs, splitter=hf_splitter, path=config['learner_path'])\n",
    "    \n",
    "    if (use_fp16): learn = learn.to_fp16()\n",
    "    learn.create_opt() # -> will create your layer groups based on your \"splitter\" function\n",
    "    learn.freeze()\n",
    "    \n",
    "    return learn, fit_cbs"
   ]
  },
  {
   "cell_type": "code",
   "execution_count": 35,
   "metadata": {
    "scrolled": false
   },
   "outputs": [
    {
     "data": {
      "text/html": [],
      "text/plain": [
       "<IPython.core.display.HTML object>"
      ]
     },
     "metadata": {},
     "output_type": "display_data"
    },
    {
     "data": {
      "text/plain": [
       "(9.12010818865383e-08, 1.3182567499825382e-06)"
      ]
     },
     "execution_count": 35,
     "metadata": {},
     "output_type": "execute_result"
    },
    {
     "data": {
      "image/png": "[encoded data removed]",
      "text/plain": [
       "<Figure size 648x432 with 1 Axes>"
      ]
     },
     "metadata": {},
     "output_type": "display_data"
    }
   ],
   "source": [
    "lr_min, lr_steep = learn.lr_find(); lr_min, lr_steep"
   ]
  },
  {
   "cell_type": "code",
   "execution_count": 36,
   "metadata": {
    "scrolled": true
   },
   "outputs": [
    {
     "data": {
      "text/html": [
       "<table border=\"1\" class=\"dataframe\">\n",
       "  <thead>\n",
       "    <tr style=\"text-align: left;\">\n",
       "      <th>epoch</th>\n",
       "      <th>train_loss</th>\n",
       "      <th>valid_loss</th>\n",
       "      <th>sentiment_mse</th>\n",
       "      <th>is_example_acc</th>\n",
       "      <th>time</th>\n",
       "    </tr>\n",
       "  </thead>\n",
       "  <tbody>\n",
       "    <tr>\n",
       "      <td>0</td>\n",
       "      <td>1.036354</td>\n",
       "      <td>1.082641</td>\n",
       "      <td>1.049410</td>\n",
       "      <td>0.992374</td>\n",
       "      <td>01:50</td>\n",
       "    </tr>\n",
       "  </tbody>\n",
       "</table>"
      ],
      "text/plain": [
       "<IPython.core.display.HTML object>"
      ]
     },
     "metadata": {},
     "output_type": "display_data"
    },
    {
     "name": "stdout",
     "output_type": "stream",
     "text": [
      "Better model found at epoch 0 with valid_loss value: 1.0826414823532104.\n"
     ]
    }
   ],
   "source": [
    "learn.fit_one_cycle(1, lr_max=lr_min, cbs=fit_cbs)\n",
    "# learn.fit_flat_cos(10, lr_max=lr_min, cbs=fit_cbs, pct_start=0.72)"
   ]
  },
  {
   "cell_type": "code",
   "execution_count": 37,
   "metadata": {},
   "outputs": [
    {
     "data": {
      "text/html": [],
      "text/plain": [
       "<IPython.core.display.HTML object>"
      ]
     },
     "metadata": {},
     "output_type": "display_data"
    },
    {
     "data": {
      "text/plain": [
       "(6.309573450380412e-08, 1.9054607491852948e-06)"
      ]
     },
     "execution_count": 37,
     "metadata": {},
     "output_type": "execute_result"
    },
    {
     "data": {
      "image/png": "[encoded data removed]",
      "text/plain": [
       "<Figure size 648x432 with 1 Axes>"
      ]
     },
     "metadata": {},
     "output_type": "display_data"
    }
   ],
   "source": [
    "learn.unfreeze()\n",
    "lr_min, lr_steep = learn.lr_find(); lr_min, lr_steep"
   ]
  },
  {
   "cell_type": "code",
   "execution_count": 38,
   "metadata": {},
   "outputs": [
    {
     "data": {
      "text/html": [
       "<table border=\"1\" class=\"dataframe\">\n",
       "  <thead>\n",
       "    <tr style=\"text-align: left;\">\n",
       "      <th>epoch</th>\n",
       "      <th>train_loss</th>\n",
       "      <th>valid_loss</th>\n",
       "      <th>sentiment_mse</th>\n",
       "      <th>is_example_acc</th>\n",
       "      <th>time</th>\n",
       "    </tr>\n",
       "  </thead>\n",
       "  <tbody>\n",
       "    <tr>\n",
       "      <td>0</td>\n",
       "      <td>1.027084</td>\n",
       "      <td>1.054320</td>\n",
       "      <td>1.021738</td>\n",
       "      <td>0.992374</td>\n",
       "      <td>03:31</td>\n",
       "    </tr>\n",
       "    <tr>\n",
       "      <td>1</td>\n",
       "      <td>0.936953</td>\n",
       "      <td>0.976245</td>\n",
       "      <td>0.945775</td>\n",
       "      <td>0.992374</td>\n",
       "      <td>03:30</td>\n",
       "    </tr>\n",
       "    <tr>\n",
       "      <td>2</td>\n",
       "      <td>0.989441</td>\n",
       "      <td>0.899718</td>\n",
       "      <td>0.871404</td>\n",
       "      <td>0.992374</td>\n",
       "      <td>03:31</td>\n",
       "    </tr>\n",
       "    <tr>\n",
       "      <td>3</td>\n",
       "      <td>0.791071</td>\n",
       "      <td>0.856363</td>\n",
       "      <td>0.829734</td>\n",
       "      <td>0.992374</td>\n",
       "      <td>03:31</td>\n",
       "    </tr>\n",
       "    <tr>\n",
       "      <td>4</td>\n",
       "      <td>0.837001</td>\n",
       "      <td>0.827587</td>\n",
       "      <td>0.801971</td>\n",
       "      <td>0.992374</td>\n",
       "      <td>03:32</td>\n",
       "    </tr>\n",
       "    <tr>\n",
       "      <td>5</td>\n",
       "      <td>0.878845</td>\n",
       "      <td>0.810074</td>\n",
       "      <td>0.785196</td>\n",
       "      <td>0.992374</td>\n",
       "      <td>03:31</td>\n",
       "    </tr>\n",
       "    <tr>\n",
       "      <td>6</td>\n",
       "      <td>0.858598</td>\n",
       "      <td>0.799488</td>\n",
       "      <td>0.775016</td>\n",
       "      <td>0.992374</td>\n",
       "      <td>03:31</td>\n",
       "    </tr>\n",
       "    <tr>\n",
       "      <td>7</td>\n",
       "      <td>0.826598</td>\n",
       "      <td>0.794812</td>\n",
       "      <td>0.770538</td>\n",
       "      <td>0.992374</td>\n",
       "      <td>03:31</td>\n",
       "    </tr>\n",
       "    <tr>\n",
       "      <td>8</td>\n",
       "      <td>0.787188</td>\n",
       "      <td>0.793767</td>\n",
       "      <td>0.769540</td>\n",
       "      <td>0.992374</td>\n",
       "      <td>03:31</td>\n",
       "    </tr>\n",
       "    <tr>\n",
       "      <td>9</td>\n",
       "      <td>0.797669</td>\n",
       "      <td>0.793727</td>\n",
       "      <td>0.769503</td>\n",
       "      <td>0.992374</td>\n",
       "      <td>03:31</td>\n",
       "    </tr>\n",
       "  </tbody>\n",
       "</table>"
      ],
      "text/plain": [
       "<IPython.core.display.HTML object>"
      ]
     },
     "metadata": {},
     "output_type": "display_data"
    },
    {
     "name": "stdout",
     "output_type": "stream",
     "text": [
      "Better model found at epoch 0 with valid_loss value: 1.054320216178894.\n",
      "Better model found at epoch 1 with valid_loss value: 0.9762446880340576.\n",
      "Better model found at epoch 2 with valid_loss value: 0.8997179865837097.\n",
      "Better model found at epoch 3 with valid_loss value: 0.8563631176948547.\n",
      "Better model found at epoch 4 with valid_loss value: 0.8275868892669678.\n",
      "Better model found at epoch 5 with valid_loss value: 0.810073733329773.\n",
      "Better model found at epoch 6 with valid_loss value: 0.7994878888130188.\n",
      "Better model found at epoch 7 with valid_loss value: 0.7948122024536133.\n",
      "Better model found at epoch 8 with valid_loss value: 0.7937671542167664.\n",
      "Better model found at epoch 9 with valid_loss value: 0.7937271595001221.\n"
     ]
    }
   ],
   "source": [
    "learn.fit_one_cycle(10, lr_max=slice(lr_min/10, lr_min), cbs=fit_cbs)\n",
    "# learn.fit_flat_cos(5, lr_max=slice(lr_min/10, lr_min), cbs=fit_cbs, pct_start=0.72)"
   ]
  },
  {
   "cell_type": "code",
   "execution_count": 39,
   "metadata": {},
   "outputs": [
    {
     "data": {
      "text/plain": [
       "Path('data/classification/standard_themes/meta/models/exp_mm_multitask_hf.pth')"
      ]
     },
     "execution_count": 39,
     "metadata": {},
     "output_type": "execute_result"
    }
   ],
   "source": [
    "learn.save(f'{m_pre}mm{m_suf}')"
   ]
  },
  {
   "cell_type": "markdown",
   "metadata": {},
   "source": [
    "Export model for inference"
   ]
  },
  {
   "cell_type": "code",
   "execution_count": 40,
   "metadata": {},
   "outputs": [],
   "source": [
    "learn.export(fname=f'{m_pre}export_mm{m_suf}.pkl')"
   ]
  },
  {
   "cell_type": "markdown",
   "metadata": {},
   "source": [
    "Look at results"
   ]
  },
  {
   "cell_type": "code",
   "execution_count": 41,
   "metadata": {},
   "outputs": [],
   "source": [
    "learn = learn.load(f'{m_pre}mm_bestmodel{m_suf}')"
   ]
  },
  {
   "cell_type": "code",
   "execution_count": 42,
   "metadata": {},
   "outputs": [
    {
     "data": {
      "text/html": [],
      "text/plain": [
       "<IPython.core.display.HTML object>"
      ]
     },
     "metadata": {},
     "output_type": "display_data"
    },
    {
     "data": {
      "text/plain": [
       "{'valid_loss': 0.7937271595001221,\n",
       " 'sentiment_mse': 0.7695026993751526,\n",
       " 'is_example_acc': 0.9923737049102783}"
      ]
     },
     "execution_count": 42,
     "metadata": {},
     "output_type": "execute_result"
    }
   ],
   "source": [
    "scores = dict(zip(learn.recorder.metric_names[2:], learn.validate())); scores"
   ]
  },
  {
   "cell_type": "code",
   "execution_count": 43,
   "metadata": {},
   "outputs": [
    {
     "data": {
      "text/html": [],
      "text/plain": [
       "<IPython.core.display.HTML object>"
      ]
     },
     "metadata": {},
     "output_type": "display_data"
    },
    {
     "data": {
      "text/html": [
       "<table border=\"1\" class=\"dataframe\">\n",
       "  <thead>\n",
       "    <tr style=\"text-align: right;\">\n",
       "      <th></th>\n",
       "      <th>text</th>\n",
       "      <th>text_</th>\n",
       "      <th>category</th>\n",
       "      <th>target1</th>\n",
       "      <th>target2</th>\n",
       "    </tr>\n",
       "  </thead>\n",
       "  <tbody>\n",
       "    <tr>\n",
       "      <th>0</th>\n",
       "      <td>theme: Have Voice within my Institution/Valued Member of my Institution comment: I am satisfied with my department but very dissatisfied with ANR at the state/headquarters level. In my department, I have a voice, can influence small decisions and am recognized for my efforts. At the state level, I feel my voice is not heard or my importance is not recognized.\\r\\n\\r\\nThese feelings stem from a couple of more specific grievances: \\r\\n1) Continued/Increased inefficiencies, red tape and lack of progress clarity with administrative processes (eg hiring, grants, finance), such that deliverables cannot be met, ill-will is bred with funders &amp; clientele and grant funds are lost, unexpended. And I spend large amounts of my time pestering people to do their job, rather than getting to do mine.\\r\\n2) Continued lack of communication of what the road map and benchmarks are to emerge for our budget and staffing crisis. \\r\\n3) Continued investment in expensive upper-level positions of leadership at HQ and lack of investment in county-based academic and staff positions. \\r\\n\\r\\nI generally feel that when I try to innovate through these lean time, I am stymied by HQ in some way. I feel like our Vice President in particular does not understand what a crisis we are in. We are not shuffling talent because millenials like to change jobs. We are hemorrhaging talent because ANR is a spirit-stomping place to work, and we'll continue to do so if systems are so inefficient they get in the way of us doing our actual job and staffing levels means we have to do 2-3 times the work of our predecessors.</td>\n",
       "      <td>2.0</td>\n",
       "      <td>0</td>\n",
       "      <td>(2.2624571323394775,)</td>\n",
       "      <td>0</td>\n",
       "    </tr>\n",
       "    <tr>\n",
       "      <th>1</th>\n",
       "      <td>theme: Advancement and Training Opportunities comment: Insights as alumna/former student of UCSD, working on main campus 3.5+ years, Mexican-American female &amp; varied experience from start-up to non-profit to corporate:\\r\\n1. Dept/Culture:All, not just leadership/HR- trained yearly on effective leadership, diversity/inclusivity, utilizing technology &amp; innovative ideas on team dynamics/future of work. Workshops at Price?\\r\\n2. As non-profit, yes, \"Do more with Less\"- YET the level of stress/expectations of work (e.g.7:30A-6:30P or later-every day- work through lunch/breaks) has been a big issue for many. Non-work/life balance= plethora of health/sick issues\\r\\n3. Parking (no surprise): $90 per month but no spots available? Yet, 24/7 A spots open at Gilman? Perhaps: bus from further area= cheaper to staff? Are Staff (lowest on bureaucratic totem pole) giving 20 minutes of our own time each day (minimum) to/from work? Time=greatest commodity to humanity. How can we then best serve students?\\r\\n4. Coaching/leadership classes: for All, not just Leadership/Managers\\r\\n5. PPS: a month to get a response (time-sensitive issues &amp; only 1 person knows the answer) can be incredibly stressful/error-prone\\r\\n6. Public funds can't be used for (parking)? Communicate: certain decisions (limited funding, strategy); where resources are going? Connect choices to mission!\\r\\n7. Student worker pay\\r\\n8. Where's RASC retirement? \\r\\n9. TRANSPARENCY on pay/incentives- my supervisor makes 3X my salary...\\r\\n10. MANDATORY: Leaders MUST take technology courses, be computer literate</td>\n",
       "      <td>3.0</td>\n",
       "      <td>0</td>\n",
       "      <td>(2.4497625827789307,)</td>\n",
       "      <td>0</td>\n",
       "    </tr>\n",
       "  </tbody>\n",
       "</table>"
      ],
      "text/plain": [
       "<IPython.core.display.HTML object>"
      ]
     },
     "metadata": {},
     "output_type": "display_data"
    }
   ],
   "source": [
    "learn.show_results(learner=learn, max_n=2) "
   ]
  },
  {
   "cell_type": "markdown",
   "metadata": {},
   "source": [
    "Use it for inference"
   ]
  },
  {
   "cell_type": "code",
   "execution_count": 44,
   "metadata": {},
   "outputs": [],
   "source": [
    "inf_learn = load_learner(STANDARD_THEME_META_PATH/f'{m_pre}export_mm{m_suf}.pkl')"
   ]
  },
  {
   "cell_type": "code",
   "execution_count": 45,
   "metadata": {},
   "outputs": [
    {
     "data": {
      "text/html": [],
      "text/plain": [
       "<IPython.core.display.HTML object>"
      ]
     },
     "metadata": {},
     "output_type": "display_data"
    },
    {
     "data": {
      "text/plain": [
       "(((2.6005783081054688), '0'), tensor([[2.6006]]), tensor([[2.6006]]))"
      ]
     },
     "execution_count": 45,
     "metadata": {},
     "output_type": "execute_result"
    }
   ],
   "source": [
    "inf_learn.blurr_predict('theme: Benefits comment: We are not paid enough and the benefits are horrible')"
   ]
  },
  {
   "cell_type": "markdown",
   "metadata": {},
   "source": [
    "Review final validation loss for best model"
   ]
  },
  {
   "cell_type": "code",
   "execution_count": 46,
   "metadata": {},
   "outputs": [
    {
     "data": {
      "text/html": [],
      "text/plain": [
       "<IPython.core.display.HTML object>"
      ]
     },
     "metadata": {},
     "output_type": "display_data"
    },
    {
     "name": "stdout",
     "output_type": "stream",
     "text": [
      "Validation Loss: 0.9588940143585205\n"
     ]
    }
   ],
   "source": [
    "learn = learn.load(f'{m_pre}mm_bestmodel{m_suf}')\n",
    "probs, targs, loss = learn.get_preds(dl=dls.valid, with_loss=True)\n",
    "\n",
    "print(f'Validation Loss: {loss.mean()}')\n",
    "# print(f'Validation Loss (per label): {loss.mean(dim=0)}') # ... no longer works (see forum comment from sylvain)"
   ]
  },
  {
   "cell_type": "code",
   "execution_count": 47,
   "metadata": {},
   "outputs": [
    {
     "name": "stdout",
     "output_type": "stream",
     "text": [
      "tensor([2.7894]) tensor(2.) tensor(0) tensor(0)\n",
      "tensor([2.6475]) tensor(2.) tensor(0) tensor(0)\n",
      "tensor([3.0582]) tensor(4.) tensor(0) tensor(0)\n",
      "tensor([2.7580]) tensor(2.) tensor(0) tensor(0)\n",
      "tensor([2.7090]) tensor(4.) tensor(0) tensor(0)\n",
      "tensor([1.8975]) tensor(2.) tensor(0) tensor(0)\n",
      "tensor([2.4645]) tensor(5.) tensor(0) tensor(0)\n",
      "tensor([2.3233]) tensor(2.) tensor(0) tensor(0)\n",
      "tensor([2.4300]) tensor(3.) tensor(0) tensor(0)\n",
      "tensor([2.3552]) tensor(4.) tensor(0) tensor(0)\n",
      "tensor([2.5657]) tensor(2.) tensor(0) tensor(0)\n",
      "tensor([2.4256]) tensor(5.) tensor(0) tensor(0)\n",
      "tensor([2.4464]) tensor(2.) tensor(0) tensor(0)\n",
      "tensor([2.4220]) tensor(2.) tensor(0) tensor(0)\n",
      "tensor([2.2429]) tensor(1.) tensor(0) tensor(0)\n",
      "tensor([2.2005]) tensor(1.5000) tensor(0) tensor(0)\n",
      "tensor([2.0814]) tensor(5.) tensor(0) tensor(0)\n",
      "tensor([2.6258]) tensor(3.) tensor(0) tensor(0)\n",
      "tensor([2.1605]) tensor(2.) tensor(0) tensor(0)\n",
      "tensor([2.7353]) tensor(3.) tensor(0) tensor(0)\n",
      "tensor([2.6606]) tensor(2.) tensor(0) tensor(0)\n",
      "tensor([2.3758]) tensor(2.) tensor(0) tensor(0)\n",
      "tensor([2.0099]) tensor(2.) tensor(0) tensor(0)\n",
      "tensor([2.3469]) tensor(2.) tensor(0) tensor(0)\n",
      "tensor([2.7947]) tensor(3.) tensor(0) tensor(0)\n",
      "tensor([2.5287]) tensor(4.) tensor(0) tensor(0)\n",
      "tensor([2.1699]) tensor(1.) tensor(0) tensor(0)\n",
      "tensor([2.3332]) tensor(1.) tensor(0) tensor(0)\n",
      "tensor([2.2681]) tensor(2.) tensor(0) tensor(0)\n",
      "tensor([2.4051]) tensor(2.5000) tensor(0) tensor(0)\n",
      "tensor([2.2147]) tensor(2.) tensor(0) tensor(0)\n",
      "tensor([2.7454]) tensor(3.) tensor(0) tensor(0)\n",
      "tensor([2.5266]) tensor(2.) tensor(0) tensor(0)\n",
      "tensor([2.4310]) tensor(2.) tensor(0) tensor(0)\n",
      "tensor([1.9992]) tensor(2.) tensor(0) tensor(0)\n",
      "tensor([2.7155]) tensor(2.) tensor(0) tensor(0)\n",
      "tensor([2.4244]) tensor(3.) tensor(0) tensor(0)\n",
      "tensor([2.1122]) tensor(2.) tensor(0) tensor(0)\n",
      "tensor([2.6617]) tensor(2.) tensor(0) tensor(0)\n",
      "tensor([2.0907]) tensor(2.) tensor(0) tensor(0)\n",
      "tensor([2.3601]) tensor(2.) tensor(0) tensor(0)\n",
      "tensor([2.4200]) tensor(3.) tensor(0) tensor(0)\n",
      "tensor([2.4670]) tensor(2.) tensor(0) tensor(0)\n",
      "tensor([2.4755]) tensor(3.) tensor(0) tensor(0)\n",
      "tensor([2.4806]) tensor(2.) tensor(0) tensor(0)\n",
      "tensor([2.3588]) tensor(4.) tensor(0) tensor(0)\n",
      "tensor([2.3963]) tensor(2.) tensor(0) tensor(0)\n",
      "tensor([2.7059]) tensor(3.) tensor(0) tensor(0)\n",
      "tensor([2.6310]) tensor(5.) tensor(0) tensor(0)\n",
      "tensor([2.4279]) tensor(2.) tensor(0) tensor(0)\n",
      "tensor([2.6336]) tensor(1.) tensor(0) tensor(0)\n",
      "tensor([2.4687]) tensor(2.) tensor(0) tensor(0)\n",
      "tensor([2.7340]) tensor(2.) tensor(0) tensor(0)\n",
      "tensor([2.2090]) tensor(2.) tensor(0) tensor(0)\n",
      "tensor([2.3284]) tensor(1.5000) tensor(0) tensor(0)\n",
      "tensor([2.0080]) tensor(2.) tensor(0) tensor(0)\n",
      "tensor([2.2801]) tensor(2.) tensor(0) tensor(0)\n",
      "tensor([2.5627]) tensor(1.) tensor(0) tensor(0)\n",
      "tensor([2.4465]) tensor(3.) tensor(0) tensor(0)\n",
      "tensor([2.2007]) tensor(2.5000) tensor(0) tensor(0)\n",
      "tensor([2.1104]) tensor(3.) tensor(0) tensor(0)\n",
      "tensor([2.6842]) tensor(2.) tensor(0) tensor(0)\n",
      "tensor([3.0487]) tensor(2.) tensor(0) tensor(0)\n",
      "tensor([2.2190]) tensor(2.) tensor(0) tensor(0)\n",
      "tensor([2.5283]) tensor(2.) tensor(0) tensor(0)\n",
      "tensor([2.5567]) tensor(2.) tensor(0) tensor(0)\n",
      "tensor([2.4985]) tensor(3.) tensor(0) tensor(0)\n",
      "tensor([2.4504]) tensor(2.) tensor(0) tensor(0)\n",
      "tensor([2.5448]) tensor(3.) tensor(0) tensor(0)\n",
      "tensor([2.6245]) tensor(5.) tensor(0) tensor(0)\n",
      "tensor([2.5588]) tensor(2.) tensor(0) tensor(0)\n",
      "tensor([2.8134]) tensor(3.) tensor(0) tensor(0)\n",
      "tensor([2.4011]) tensor(3.) tensor(0) tensor(0)\n",
      "tensor([2.4890]) tensor(3.) tensor(0) tensor(0)\n",
      "tensor([2.3623]) tensor(2.) tensor(0) tensor(0)\n",
      "tensor([2.3025]) tensor(2.) tensor(0) tensor(0)\n",
      "tensor([1.9785]) tensor(3.) tensor(0) tensor(0)\n",
      "tensor([2.6577]) tensor(2.) tensor(0) tensor(0)\n",
      "tensor([2.3901]) tensor(2.) tensor(0) tensor(0)\n",
      "tensor([2.7084]) tensor(2.) tensor(0) tensor(0)\n",
      "tensor([2.0159]) tensor(2.) tensor(0) tensor(0)\n",
      "tensor([2.4480]) tensor(3.) tensor(0) tensor(0)\n",
      "tensor([2.3711]) tensor(2.) tensor(0) tensor(0)\n",
      "tensor([2.7990]) tensor(3.) tensor(0) tensor(0)\n",
      "tensor([2.6040]) tensor(2.) tensor(0) tensor(0)\n",
      "tensor([2.1645]) tensor(2.) tensor(0) tensor(0)\n",
      "tensor([2.7469]) tensor(2.) tensor(0) tensor(0)\n",
      "tensor([2.8802]) tensor(2.) tensor(0) tensor(0)\n",
      "tensor([2.7198]) tensor(2.) tensor(0) tensor(0)\n",
      "tensor([2.5503]) tensor(2.5000) tensor(0) tensor(0)\n",
      "tensor([2.5672]) tensor(3.) tensor(0) tensor(0)\n",
      "tensor([2.2908]) tensor(4.) tensor(0) tensor(0)\n",
      "tensor([2.9549]) tensor(5.) tensor(0) tensor(0)\n",
      "tensor([2.5980]) tensor(3.) tensor(0) tensor(0)\n",
      "tensor([2.6788]) tensor(3.) tensor(0) tensor(0)\n",
      "tensor([2.4968]) tensor(3.) tensor(0) tensor(0)\n",
      "tensor([2.6523]) tensor(3.5000) tensor(0) tensor(0)\n",
      "tensor([2.6538]) tensor(2.5000) tensor(0) tensor(0)\n",
      "tensor([2.7096]) tensor(4.) tensor(0) tensor(0)\n",
      "tensor([2.6295]) tensor(2.) tensor(0) tensor(0)\n",
      "tensor([2.5295]) tensor(2.) tensor(0) tensor(0)\n",
      "tensor([2.9090]) tensor(2.) tensor(0) tensor(0)\n",
      "tensor([2.2436]) tensor(2.) tensor(0) tensor(0)\n",
      "tensor([2.4963]) tensor(2.) tensor(0) tensor(0)\n",
      "tensor([2.6129]) tensor(2.) tensor(0) tensor(0)\n",
      "tensor([2.4437]) tensor(2.) tensor(0) tensor(0)\n",
      "tensor([2.3602]) tensor(2.) tensor(0) tensor(0)\n",
      "tensor([2.4714]) tensor(5.) tensor(0) tensor(0)\n",
      "tensor([2.1794]) tensor(2.) tensor(0) tensor(0)\n",
      "tensor([2.7156]) tensor(3.) tensor(0) tensor(0)\n",
      "tensor([2.3142]) tensor(2.) tensor(0) tensor(0)\n",
      "tensor([2.5385]) tensor(2.) tensor(0) tensor(0)\n",
      "tensor([2.6287]) tensor(2.) tensor(0) tensor(0)\n",
      "tensor([2.2691]) tensor(3.) tensor(0) tensor(0)\n",
      "tensor([2.3831]) tensor(2.) tensor(0) tensor(0)\n",
      "tensor([2.5346]) tensor(4.) tensor(0) tensor(0)\n",
      "tensor([2.6382]) tensor(2.) tensor(0) tensor(0)\n",
      "tensor([2.3982]) tensor(3.) tensor(0) tensor(0)\n",
      "tensor([2.6250]) tensor(2.) tensor(0) tensor(0)\n",
      "tensor([2.2075]) tensor(2.) tensor(0) tensor(0)\n",
      "tensor([2.3056]) tensor(2.) tensor(0) tensor(0)\n",
      "tensor([2.4501]) tensor(2.) tensor(0) tensor(0)\n",
      "tensor([2.9752]) tensor(3.) tensor(0) tensor(0)\n",
      "tensor([2.0519]) tensor(2.) tensor(0) tensor(0)\n",
      "tensor([2.0499]) tensor(2.) tensor(0) tensor(0)\n",
      "tensor([2.5673]) tensor(4.) tensor(0) tensor(0)\n",
      "tensor([2.3162]) tensor(3.) tensor(0) tensor(0)\n",
      "tensor([2.1737]) tensor(2.) tensor(0) tensor(0)\n",
      "tensor([2.3203]) tensor(3.) tensor(0) tensor(0)\n",
      "tensor([2.3659]) tensor(3.) tensor(0) tensor(0)\n",
      "tensor([2.5097]) tensor(2.) tensor(0) tensor(0)\n",
      "tensor([2.4624]) tensor(3.) tensor(0) tensor(0)\n",
      "tensor([2.1910]) tensor(2.) tensor(0) tensor(0)\n",
      "tensor([2.6552]) tensor(2.5000) tensor(0) tensor(0)\n",
      "tensor([2.5888]) tensor(2.) tensor(0) tensor(0)\n",
      "tensor([2.7737]) tensor(2.) tensor(0) tensor(0)\n",
      "tensor([2.4542]) tensor(2.) tensor(0) tensor(0)\n",
      "tensor([2.4251]) tensor(2.) tensor(0) tensor(0)\n",
      "tensor([3.2939]) tensor(2.) tensor(0) tensor(0)\n",
      "tensor([2.6928]) tensor(3.) tensor(0) tensor(0)\n",
      "tensor([2.4232]) tensor(3.) tensor(0) tensor(0)\n",
      "tensor([2.5345]) tensor(1.5000) tensor(0) tensor(0)\n",
      "tensor([2.5792]) tensor(2.) tensor(0) tensor(0)\n",
      "tensor([2.8677]) tensor(2.) tensor(0) tensor(0)\n",
      "tensor([2.6574]) tensor(2.) tensor(0) tensor(0)\n",
      "tensor([2.0999]) tensor(2.) tensor(0) tensor(0)\n",
      "tensor([2.3681]) tensor(2.) tensor(0) tensor(0)\n",
      "tensor([2.4446]) tensor(2.) tensor(0) tensor(0)\n",
      "tensor([2.4505]) tensor(2.) tensor(0) tensor(0)\n",
      "tensor([2.5741]) tensor(3.) tensor(0) tensor(0)\n",
      "tensor([3.0824]) tensor(4.) tensor(0) tensor(0)\n",
      "tensor([2.5392]) tensor(3.) tensor(0) tensor(0)\n",
      "tensor([3.1863]) tensor(5.) tensor(0) tensor(0)\n",
      "tensor([2.1423]) tensor(3.) tensor(0) tensor(0)\n",
      "tensor([2.0330]) tensor(2.) tensor(0) tensor(0)\n",
      "tensor([2.5914]) tensor(2.) tensor(0) tensor(0)\n",
      "tensor([2.4691]) tensor(2.) tensor(0) tensor(0)\n",
      "tensor([2.8460]) tensor(5.) tensor(0) tensor(0)\n",
      "tensor([2.4401]) tensor(4.) tensor(0) tensor(0)\n",
      "tensor([2.6033]) tensor(2.) tensor(0) tensor(0)\n",
      "tensor([2.3194]) tensor(3.) tensor(0) tensor(0)\n",
      "tensor([2.7304]) tensor(5.) tensor(0) tensor(0)\n",
      "tensor([2.6008]) tensor(2.) tensor(0) tensor(0)\n",
      "tensor([2.3047]) tensor(2.) tensor(0) tensor(0)\n",
      "tensor([2.7794]) tensor(2.) tensor(0) tensor(0)\n",
      "tensor([2.1133]) tensor(2.) tensor(0) tensor(0)\n",
      "tensor([2.8887]) tensor(5.) tensor(0) tensor(0)\n",
      "tensor([2.4243]) tensor(3.) tensor(0) tensor(0)\n",
      "tensor([2.6781]) tensor(5.) tensor(0) tensor(0)\n",
      "tensor([2.6447]) tensor(2.) tensor(0) tensor(0)\n",
      "tensor([2.8460]) tensor(5.) tensor(0) tensor(0)\n",
      "tensor([2.5414]) tensor(3.) tensor(0) tensor(0)\n",
      "tensor([2.1348]) tensor(1.5000) tensor(0) tensor(0)\n",
      "tensor([2.6128]) tensor(2.) tensor(0) tensor(0)\n",
      "tensor([2.6165]) tensor(2.) tensor(0) tensor(0)\n",
      "tensor([2.6047]) tensor(4.) tensor(0) tensor(0)\n",
      "tensor([2.6403]) tensor(3.) tensor(0) tensor(0)\n",
      "tensor([2.1410]) tensor(3.) tensor(0) tensor(0)\n",
      "tensor([2.3444]) tensor(2.) tensor(0) tensor(0)\n",
      "tensor([2.5014]) tensor(1.) tensor(0) tensor(0)\n",
      "tensor([2.4180]) tensor(3.) tensor(0) tensor(0)\n",
      "tensor([2.4754]) tensor(2.) tensor(0) tensor(0)\n",
      "tensor([2.5444]) tensor(4.) tensor(0) tensor(0)\n",
      "tensor([2.5426]) tensor(2.) tensor(0) tensor(0)\n",
      "tensor([2.8086]) tensor(2.) tensor(0) tensor(0)\n",
      "tensor([2.5827]) tensor(2.) tensor(0) tensor(0)\n",
      "tensor([3.0724]) tensor(1.) tensor(0) tensor(0)\n",
      "tensor([2.5325]) tensor(2.) tensor(0) tensor(0)\n",
      "tensor([2.3042]) tensor(3.) tensor(0) tensor(0)\n",
      "tensor([2.8194]) tensor(3.) tensor(0) tensor(0)\n",
      "tensor([2.8377]) tensor(4.) tensor(0) tensor(0)\n",
      "tensor([2.2679]) tensor(5.) tensor(0) tensor(0)\n",
      "tensor([2.9910]) tensor(5.) tensor(0) tensor(0)\n",
      "tensor([2.6266]) tensor(2.) tensor(0) tensor(0)\n"
     ]
    },
    {
     "name": "stdout",
     "output_type": "stream",
     "text": [
      "tensor([2.6794]) tensor(3.) tensor(0) tensor(0)\n",
      "tensor([2.4628]) tensor(2.) tensor(0) tensor(0)\n",
      "tensor([2.2614]) tensor(2.) tensor(0) tensor(0)\n",
      "tensor([2.3760]) tensor(2.) tensor(0) tensor(0)\n",
      "tensor([2.7591]) tensor(4.) tensor(0) tensor(0)\n",
      "tensor([2.5904]) tensor(1.) tensor(0) tensor(0)\n",
      "tensor([2.1484]) tensor(2.) tensor(0) tensor(0)\n",
      "tensor([2.2635]) tensor(2.) tensor(0) tensor(0)\n",
      "tensor([2.4907]) tensor(2.) tensor(0) tensor(0)\n",
      "tensor([2.5291]) tensor(2.) tensor(0) tensor(0)\n",
      "tensor([2.3914]) tensor(2.) tensor(0) tensor(0)\n",
      "tensor([2.2377]) tensor(3.) tensor(0) tensor(0)\n",
      "tensor([2.3336]) tensor(3.) tensor(0) tensor(0)\n",
      "tensor([2.6927]) tensor(2.) tensor(0) tensor(0)\n",
      "tensor([2.1433]) tensor(2.) tensor(0) tensor(0)\n",
      "tensor([2.4970]) tensor(4.) tensor(0) tensor(0)\n",
      "tensor([2.1543]) tensor(3.) tensor(0) tensor(0)\n",
      "tensor([2.3084]) tensor(2.) tensor(0) tensor(0)\n",
      "tensor([2.6217]) tensor(2.) tensor(0) tensor(0)\n",
      "tensor([2.5026]) tensor(2.) tensor(0) tensor(0)\n",
      "tensor([2.3798]) tensor(2.) tensor(0) tensor(0)\n",
      "tensor([2.2386]) tensor(2.) tensor(0) tensor(0)\n",
      "tensor([2.3058]) tensor(2.) tensor(0) tensor(0)\n",
      "tensor([2.5972]) tensor(2.) tensor(0) tensor(0)\n",
      "tensor([2.4849]) tensor(2.) tensor(0) tensor(0)\n",
      "tensor([2.4379]) tensor(1.) tensor(0) tensor(0)\n",
      "tensor([2.2116]) tensor(3.) tensor(0) tensor(0)\n",
      "tensor([2.5568]) tensor(1.5000) tensor(0) tensor(0)\n",
      "tensor([2.6301]) tensor(3.) tensor(0) tensor(0)\n",
      "tensor([2.4645]) tensor(2.) tensor(0) tensor(0)\n",
      "tensor([2.7338]) tensor(5.) tensor(0) tensor(0)\n",
      "tensor([2.4816]) tensor(2.) tensor(0) tensor(0)\n",
      "tensor([2.3865]) tensor(1.) tensor(0) tensor(0)\n",
      "tensor([2.3469]) tensor(2.) tensor(0) tensor(0)\n",
      "tensor([2.2028]) tensor(2.) tensor(0) tensor(0)\n",
      "tensor([2.2643]) tensor(2.) tensor(0) tensor(0)\n",
      "tensor([2.1721]) tensor(3.) tensor(0) tensor(0)\n",
      "tensor([2.5547]) tensor(2.) tensor(0) tensor(0)\n",
      "tensor([2.7591]) tensor(2.) tensor(0) tensor(0)\n",
      "tensor([2.4014]) tensor(1.) tensor(0) tensor(0)\n",
      "tensor([2.9515]) tensor(2.) tensor(0) tensor(0)\n",
      "tensor([2.7196]) tensor(3.) tensor(0) tensor(0)\n",
      "tensor([2.3022]) tensor(2.) tensor(0) tensor(0)\n",
      "tensor([2.5622]) tensor(4.) tensor(0) tensor(0)\n",
      "tensor([2.2591]) tensor(1.5000) tensor(0) tensor(0)\n",
      "tensor([2.4012]) tensor(2.) tensor(0) tensor(0)\n",
      "tensor([2.1113]) tensor(1.) tensor(0) tensor(0)\n",
      "tensor([2.2751]) tensor(2.) tensor(0) tensor(0)\n",
      "tensor([2.6626]) tensor(5.) tensor(0) tensor(0)\n",
      "tensor([2.3123]) tensor(2.) tensor(0) tensor(0)\n",
      "tensor([2.3961]) tensor(3.) tensor(0) tensor(0)\n",
      "tensor([2.5903]) tensor(2.) tensor(0) tensor(0)\n",
      "tensor([2.4063]) tensor(2.) tensor(0) tensor(0)\n",
      "tensor([2.8139]) tensor(5.) tensor(0) tensor(0)\n",
      "tensor([2.4219]) tensor(3.) tensor(0) tensor(0)\n",
      "tensor([2.6307]) tensor(2.) tensor(0) tensor(0)\n",
      "tensor([2.2697]) tensor(2.) tensor(0) tensor(0)\n",
      "tensor([2.0757]) tensor(2.) tensor(0) tensor(0)\n",
      "tensor([1.9312]) tensor(2.) tensor(0) tensor(0)\n",
      "tensor([2.2149]) tensor(2.) tensor(0) tensor(0)\n",
      "tensor([2.8760]) tensor(4.) tensor(0) tensor(0)\n",
      "tensor([2.6393]) tensor(2.) tensor(0) tensor(0)\n",
      "tensor([2.3359]) tensor(2.) tensor(0) tensor(0)\n",
      "tensor([2.3450]) tensor(2.) tensor(0) tensor(0)\n",
      "tensor([2.4639]) tensor(1.5000) tensor(0) tensor(0)\n",
      "tensor([2.2924]) tensor(2.) tensor(0) tensor(0)\n",
      "tensor([3.1075]) tensor(4.) tensor(0) tensor(0)\n",
      "tensor([3.0185]) tensor(5.) tensor(0) tensor(0)\n",
      "tensor([2.4093]) tensor(2.) tensor(0) tensor(0)\n",
      "tensor([2.5415]) tensor(4.) tensor(0) tensor(0)\n",
      "tensor([2.5257]) tensor(1.) tensor(0) tensor(0)\n",
      "tensor([2.0761]) tensor(3.) tensor(0) tensor(0)\n",
      "tensor([2.6316]) tensor(2.) tensor(0) tensor(0)\n",
      "tensor([2.7537]) tensor(3.) tensor(0) tensor(0)\n",
      "tensor([2.0190]) tensor(3.) tensor(0) tensor(0)\n",
      "tensor([2.5791]) tensor(4.) tensor(0) tensor(0)\n",
      "tensor([2.7593]) tensor(4.) tensor(0) tensor(0)\n",
      "tensor([2.2698]) tensor(2.) tensor(0) tensor(0)\n",
      "tensor([2.3818]) tensor(2.) tensor(0) tensor(0)\n",
      "tensor([2.3851]) tensor(3.) tensor(0) tensor(0)\n",
      "tensor([2.4063]) tensor(2.) tensor(0) tensor(0)\n",
      "tensor([2.3717]) tensor(2.) tensor(0) tensor(0)\n",
      "tensor([2.2616]) tensor(4.) tensor(0) tensor(0)\n",
      "tensor([2.3902]) tensor(3.) tensor(0) tensor(0)\n",
      "tensor([2.5256]) tensor(2.) tensor(0) tensor(1)\n",
      "tensor([2.9073]) tensor(5.) tensor(0) tensor(0)\n",
      "tensor([2.4508]) tensor(2.) tensor(0) tensor(0)\n",
      "tensor([2.7919]) tensor(4.) tensor(0) tensor(0)\n",
      "tensor([2.0957]) tensor(2.) tensor(0) tensor(0)\n",
      "tensor([2.1386]) tensor(2.) tensor(0) tensor(0)\n",
      "tensor([2.5005]) tensor(5.) tensor(0) tensor(0)\n",
      "tensor([2.6682]) tensor(3.) tensor(0) tensor(0)\n",
      "tensor([2.4095]) tensor(2.5000) tensor(0) tensor(0)\n",
      "tensor([2.4970]) tensor(3.) tensor(0) tensor(0)\n",
      "tensor([2.4982]) tensor(4.) tensor(0) tensor(0)\n",
      "tensor([2.5242]) tensor(2.) tensor(0) tensor(0)\n",
      "tensor([2.1483]) tensor(3.) tensor(0) tensor(0)\n",
      "tensor([2.4784]) tensor(1.) tensor(0) tensor(0)\n",
      "tensor([2.5524]) tensor(4.) tensor(0) tensor(0)\n",
      "tensor([2.6694]) tensor(2.) tensor(0) tensor(0)\n",
      "tensor([2.8093]) tensor(3.) tensor(0) tensor(0)\n",
      "tensor([2.8313]) tensor(2.) tensor(0) tensor(0)\n",
      "tensor([2.1220]) tensor(2.) tensor(0) tensor(0)\n",
      "tensor([2.4652]) tensor(2.) tensor(0) tensor(0)\n",
      "tensor([2.4599]) tensor(2.) tensor(0) tensor(0)\n",
      "tensor([2.7116]) tensor(2.) tensor(0) tensor(0)\n",
      "tensor([2.5762]) tensor(3.) tensor(0) tensor(0)\n",
      "tensor([2.5444]) tensor(2.) tensor(0) tensor(0)\n",
      "tensor([2.4291]) tensor(2.) tensor(0) tensor(1)\n",
      "tensor([2.2240]) tensor(2.) tensor(0) tensor(0)\n",
      "tensor([2.9886]) tensor(2.) tensor(0) tensor(0)\n",
      "tensor([2.5370]) tensor(2.) tensor(0) tensor(0)\n",
      "tensor([2.3945]) tensor(2.) tensor(0) tensor(0)\n",
      "tensor([2.0007]) tensor(2.) tensor(0) tensor(0)\n",
      "tensor([2.1983]) tensor(3.) tensor(0) tensor(0)\n",
      "tensor([2.8633]) tensor(5.) tensor(0) tensor(0)\n",
      "tensor([2.6864]) tensor(3.) tensor(0) tensor(0)\n",
      "tensor([2.5553]) tensor(1.) tensor(0) tensor(0)\n",
      "tensor([2.2720]) tensor(2.) tensor(0) tensor(0)\n",
      "tensor([2.3205]) tensor(2.) tensor(0) tensor(0)\n",
      "tensor([2.2399]) tensor(1.) tensor(0) tensor(0)\n",
      "tensor([2.4177]) tensor(2.) tensor(0) tensor(0)\n",
      "tensor([2.8820]) tensor(2.) tensor(0) tensor(0)\n",
      "tensor([2.8242]) tensor(3.5000) tensor(0) tensor(0)\n",
      "tensor([2.8677]) tensor(2.) tensor(0) tensor(0)\n",
      "tensor([2.9062]) tensor(4.) tensor(0) tensor(0)\n",
      "tensor([2.5541]) tensor(2.) tensor(0) tensor(0)\n",
      "tensor([2.3053]) tensor(2.) tensor(0) tensor(0)\n",
      "tensor([2.2629]) tensor(2.) tensor(0) tensor(0)\n",
      "tensor([2.3029]) tensor(2.) tensor(0) tensor(0)\n",
      "tensor([2.4473]) tensor(2.) tensor(0) tensor(0)\n",
      "tensor([2.3739]) tensor(3.) tensor(0) tensor(0)\n",
      "tensor([2.2125]) tensor(1.) tensor(0) tensor(0)\n",
      "tensor([2.7258]) tensor(2.) tensor(0) tensor(0)\n",
      "tensor([2.7978]) tensor(3.) tensor(0) tensor(0)\n",
      "tensor([2.2539]) tensor(2.) tensor(0) tensor(0)\n",
      "tensor([2.2385]) tensor(3.) tensor(0) tensor(0)\n",
      "tensor([2.3370]) tensor(3.) tensor(0) tensor(0)\n",
      "tensor([2.2744]) tensor(1.) tensor(0) tensor(0)\n",
      "tensor([2.3195]) tensor(2.) tensor(0) tensor(0)\n",
      "tensor([2.4646]) tensor(2.) tensor(0) tensor(0)\n",
      "tensor([2.3864]) tensor(1.) tensor(0) tensor(0)\n",
      "tensor([2.1930]) tensor(2.) tensor(0) tensor(0)\n",
      "tensor([2.5615]) tensor(4.) tensor(0) tensor(0)\n",
      "tensor([2.3003]) tensor(1.) tensor(0) tensor(1)\n",
      "tensor([2.1791]) tensor(2.) tensor(0) tensor(0)\n",
      "tensor([3.0163]) tensor(1.) tensor(0) tensor(0)\n",
      "tensor([2.6316]) tensor(2.) tensor(0) tensor(0)\n",
      "tensor([2.2508]) tensor(3.5000) tensor(0) tensor(0)\n",
      "tensor([2.8101]) tensor(4.) tensor(0) tensor(0)\n",
      "tensor([2.2977]) tensor(2.) tensor(0) tensor(0)\n",
      "tensor([2.5674]) tensor(2.) tensor(0) tensor(0)\n",
      "tensor([2.9818]) tensor(4.) tensor(0) tensor(0)\n",
      "tensor([2.4496]) tensor(3.) tensor(0) tensor(0)\n",
      "tensor([2.7862]) tensor(4.) tensor(0) tensor(0)\n",
      "tensor([2.3312]) tensor(3.) tensor(0) tensor(0)\n",
      "tensor([2.4569]) tensor(2.) tensor(0) tensor(0)\n",
      "tensor([2.4825]) tensor(3.) tensor(0) tensor(0)\n",
      "tensor([2.8621]) tensor(3.) tensor(0) tensor(0)\n",
      "tensor([2.2199]) tensor(1.5000) tensor(0) tensor(0)\n",
      "tensor([2.7570]) tensor(1.) tensor(0) tensor(0)\n",
      "tensor([2.3452]) tensor(2.) tensor(0) tensor(0)\n",
      "tensor([2.3620]) tensor(4.) tensor(0) tensor(0)\n",
      "tensor([2.6224]) tensor(2.) tensor(0) tensor(0)\n",
      "tensor([2.3199]) tensor(2.) tensor(0) tensor(0)\n",
      "tensor([2.4728]) tensor(2.) tensor(0) tensor(0)\n",
      "tensor([2.3141]) tensor(1.) tensor(0) tensor(0)\n",
      "tensor([2.3671]) tensor(3.) tensor(0) tensor(0)\n",
      "tensor([2.7729]) tensor(5.) tensor(0) tensor(0)\n",
      "tensor([2.3063]) tensor(2.) tensor(0) tensor(0)\n",
      "tensor([2.5006]) tensor(2.) tensor(0) tensor(0)\n",
      "tensor([2.3912]) tensor(2.) tensor(0) tensor(0)\n",
      "tensor([2.4595]) tensor(2.) tensor(0) tensor(0)\n",
      "tensor([2.6158]) tensor(2.5000) tensor(0) tensor(0)\n",
      "tensor([2.6409]) tensor(2.) tensor(0) tensor(0)\n",
      "tensor([2.4942]) tensor(1.) tensor(0) tensor(0)\n",
      "tensor([2.1455]) tensor(2.) tensor(0) tensor(0)\n",
      "tensor([2.4944]) tensor(3.) tensor(0) tensor(0)\n",
      "tensor([2.7307]) tensor(2.) tensor(0) tensor(0)\n",
      "tensor([2.6644]) tensor(3.) tensor(0) tensor(0)\n",
      "tensor([2.9759]) tensor(4.) tensor(0) tensor(0)\n",
      "tensor([2.4549]) tensor(1.5000) tensor(0) tensor(0)\n",
      "tensor([2.5967]) tensor(4.) tensor(0) tensor(0)\n",
      "tensor([2.9230]) tensor(2.) tensor(0) tensor(0)\n",
      "tensor([2.8552]) tensor(4.) tensor(0) tensor(0)\n",
      "tensor([2.7752]) tensor(3.) tensor(0) tensor(0)\n",
      "tensor([2.4465]) tensor(1.) tensor(0) tensor(0)\n",
      "tensor([2.5383]) tensor(3.) tensor(0) tensor(0)\n",
      "tensor([2.3781]) tensor(2.) tensor(0) tensor(0)\n",
      "tensor([2.3490]) tensor(1.5000) tensor(0) tensor(0)\n",
      "tensor([3.4137]) tensor(3.) tensor(0) tensor(0)\n",
      "tensor([2.1148]) tensor(2.) tensor(0) tensor(0)\n",
      "tensor([2.2305]) tensor(2.) tensor(0) tensor(0)\n",
      "tensor([2.6497]) tensor(2.) tensor(0) tensor(0)\n",
      "tensor([2.6294]) tensor(2.) tensor(0) tensor(0)\n",
      "tensor([1.9160]) tensor(4.) tensor(0) tensor(0)\n",
      "tensor([2.6164]) tensor(2.) tensor(0) tensor(0)\n",
      "tensor([2.1831]) tensor(2.) tensor(0) tensor(0)\n",
      "tensor([2.4517]) tensor(2.) tensor(0) tensor(0)\n",
      "tensor([2.3059]) tensor(2.) tensor(0) tensor(0)\n",
      "tensor([2.8580]) tensor(3.) tensor(0) tensor(0)\n",
      "tensor([2.4112]) tensor(2.) tensor(0) tensor(0)\n",
      "tensor([2.4281]) tensor(2.) tensor(0) tensor(0)\n",
      "tensor([2.5476]) tensor(2.) tensor(0) tensor(0)\n",
      "tensor([2.2081]) tensor(2.) tensor(0) tensor(0)\n",
      "tensor([2.5708]) tensor(4.) tensor(0) tensor(0)\n",
      "tensor([2.7111]) tensor(3.) tensor(0) tensor(0)\n",
      "tensor([2.2130]) tensor(5.) tensor(0) tensor(0)\n",
      "tensor([2.6086]) tensor(1.) tensor(0) tensor(1)\n",
      "tensor([2.3535]) tensor(2.) tensor(0) tensor(0)\n",
      "tensor([2.3871]) tensor(3.) tensor(0) tensor(0)\n",
      "tensor([2.8531]) tensor(3.) tensor(0) tensor(0)\n",
      "tensor([2.5959]) tensor(2.) tensor(0) tensor(0)\n",
      "tensor([2.2976]) tensor(4.) tensor(0) tensor(0)\n",
      "tensor([2.4058]) tensor(2.) tensor(0) tensor(0)\n",
      "tensor([2.6591]) tensor(5.) tensor(0) tensor(0)\n",
      "tensor([2.8555]) tensor(2.) tensor(0) tensor(0)\n",
      "tensor([2.4881]) tensor(2.) tensor(0) tensor(0)\n",
      "tensor([2.6766]) tensor(2.) tensor(0) tensor(0)\n",
      "tensor([2.2375]) tensor(3.) tensor(0) tensor(0)\n",
      "tensor([2.3296]) tensor(2.) tensor(0) tensor(0)\n",
      "tensor([2.3600]) tensor(3.) tensor(0) tensor(0)\n",
      "tensor([2.3965]) tensor(1.5000) tensor(0) tensor(0)\n",
      "tensor([2.3202]) tensor(1.5000) tensor(0) tensor(0)\n",
      "tensor([2.7135]) tensor(2.) tensor(0) tensor(0)\n",
      "tensor([2.4080]) tensor(1.5000) tensor(0) tensor(0)\n",
      "tensor([2.1685]) tensor(2.) tensor(0) tensor(0)\n",
      "tensor([2.4373]) tensor(2.) tensor(0) tensor(0)\n",
      "tensor([2.5572]) tensor(2.) tensor(0) tensor(0)\n",
      "tensor([2.5140]) tensor(2.) tensor(0) tensor(0)\n",
      "tensor([2.1133]) tensor(2.) tensor(0) tensor(0)\n",
      "tensor([2.3598]) tensor(2.) tensor(0) tensor(0)\n",
      "tensor([2.4184]) tensor(2.) tensor(0) tensor(0)\n",
      "tensor([2.5195]) tensor(2.) tensor(0) tensor(0)\n",
      "tensor([2.2385]) tensor(2.) tensor(0) tensor(0)\n",
      "tensor([2.4240]) tensor(4.) tensor(0) tensor(0)\n",
      "tensor([2.3857]) tensor(2.) tensor(0) tensor(0)\n",
      "tensor([2.2913]) tensor(2.) tensor(0) tensor(0)\n",
      "tensor([2.7517]) tensor(2.) tensor(0) tensor(0)\n"
     ]
    },
    {
     "name": "stdout",
     "output_type": "stream",
     "text": [
      "tensor([2.4621]) tensor(2.) tensor(0) tensor(0)\n",
      "tensor([2.9249]) tensor(3.) tensor(0) tensor(0)\n",
      "tensor([2.1781]) tensor(2.) tensor(0) tensor(0)\n",
      "tensor([2.5551]) tensor(5.) tensor(0) tensor(0)\n",
      "tensor([2.5121]) tensor(2.) tensor(0) tensor(0)\n",
      "tensor([2.2496]) tensor(3.) tensor(0) tensor(0)\n",
      "tensor([2.6290]) tensor(2.) tensor(0) tensor(0)\n",
      "tensor([2.2365]) tensor(2.) tensor(0) tensor(0)\n",
      "tensor([2.2332]) tensor(2.) tensor(0) tensor(0)\n",
      "tensor([2.1536]) tensor(2.) tensor(0) tensor(0)\n",
      "tensor([2.3629]) tensor(3.) tensor(0) tensor(0)\n",
      "tensor([2.4754]) tensor(2.) tensor(0) tensor(0)\n",
      "tensor([2.4296]) tensor(2.) tensor(0) tensor(0)\n",
      "tensor([2.4886]) tensor(3.) tensor(0) tensor(0)\n",
      "tensor([2.2610]) tensor(2.) tensor(0) tensor(0)\n",
      "tensor([2.5620]) tensor(2.) tensor(0) tensor(0)\n",
      "tensor([2.9298]) tensor(3.) tensor(0) tensor(0)\n",
      "tensor([2.5563]) tensor(3.) tensor(0) tensor(0)\n",
      "tensor([2.6222]) tensor(2.) tensor(0) tensor(0)\n",
      "tensor([2.6301]) tensor(3.) tensor(0) tensor(0)\n",
      "tensor([2.4498]) tensor(3.) tensor(0) tensor(0)\n",
      "tensor([2.3750]) tensor(2.5000) tensor(0) tensor(0)\n",
      "tensor([2.4722]) tensor(1.5000) tensor(0) tensor(0)\n",
      "tensor([2.6922]) tensor(2.) tensor(0) tensor(0)\n",
      "tensor([2.3962]) tensor(3.) tensor(0) tensor(0)\n",
      "tensor([2.3455]) tensor(2.5000) tensor(0) tensor(0)\n",
      "tensor([2.6888]) tensor(5.) tensor(0) tensor(0)\n",
      "tensor([2.5215]) tensor(3.) tensor(0) tensor(0)\n",
      "tensor([2.3756]) tensor(2.) tensor(0) tensor(0)\n",
      "tensor([2.3252]) tensor(2.) tensor(0) tensor(0)\n",
      "tensor([2.3329]) tensor(2.) tensor(0) tensor(0)\n",
      "tensor([2.4517]) tensor(1.5000) tensor(0) tensor(0)\n",
      "tensor([3.0063]) tensor(2.) tensor(0) tensor(0)\n",
      "tensor([2.8361]) tensor(5.) tensor(0) tensor(0)\n",
      "tensor([2.6675]) tensor(2.) tensor(0) tensor(0)\n",
      "tensor([2.1194]) tensor(1.) tensor(0) tensor(0)\n",
      "tensor([2.2669]) tensor(2.) tensor(0) tensor(0)\n",
      "tensor([2.5616]) tensor(3.) tensor(0) tensor(0)\n",
      "tensor([2.4390]) tensor(4.) tensor(0) tensor(0)\n",
      "tensor([2.4230]) tensor(2.) tensor(0) tensor(0)\n",
      "tensor([2.2358]) tensor(2.5000) tensor(0) tensor(0)\n",
      "tensor([2.2023]) tensor(2.) tensor(0) tensor(0)\n",
      "tensor([2.6831]) tensor(2.) tensor(0) tensor(0)\n",
      "tensor([2.5244]) tensor(2.) tensor(0) tensor(0)\n",
      "tensor([2.5226]) tensor(2.) tensor(0) tensor(0)\n",
      "tensor([2.3724]) tensor(3.) tensor(0) tensor(0)\n",
      "tensor([2.8314]) tensor(4.) tensor(0) tensor(0)\n",
      "tensor([2.4787]) tensor(2.) tensor(0) tensor(0)\n",
      "tensor([2.7062]) tensor(2.) tensor(0) tensor(0)\n",
      "tensor([2.7507]) tensor(1.) tensor(0) tensor(0)\n",
      "tensor([2.5635]) tensor(2.) tensor(0) tensor(0)\n",
      "tensor([2.3929]) tensor(3.) tensor(0) tensor(0)\n",
      "tensor([2.6891]) tensor(2.) tensor(0) tensor(0)\n",
      "tensor([2.7243]) tensor(4.) tensor(0) tensor(0)\n",
      "tensor([2.5618]) tensor(2.) tensor(0) tensor(0)\n",
      "tensor([2.5720]) tensor(2.) tensor(0) tensor(0)\n",
      "tensor([2.2458]) tensor(1.) tensor(0) tensor(0)\n",
      "tensor([2.3673]) tensor(1.) tensor(0) tensor(0)\n",
      "tensor([2.4565]) tensor(1.) tensor(0) tensor(0)\n",
      "tensor([2.6814]) tensor(4.) tensor(0) tensor(0)\n",
      "tensor([2.4596]) tensor(2.) tensor(0) tensor(0)\n",
      "tensor([2.3958]) tensor(2.) tensor(0) tensor(0)\n",
      "tensor([2.2077]) tensor(3.) tensor(0) tensor(0)\n",
      "tensor([2.6387]) tensor(3.) tensor(0) tensor(0)\n",
      "tensor([2.2781]) tensor(1.5000) tensor(0) tensor(0)\n",
      "tensor([2.5448]) tensor(2.) tensor(0) tensor(0)\n",
      "tensor([2.7014]) tensor(2.) tensor(0) tensor(0)\n",
      "tensor([2.4884]) tensor(2.) tensor(0) tensor(0)\n",
      "tensor([2.3865]) tensor(2.) tensor(0) tensor(0)\n",
      "tensor([2.8598]) tensor(4.) tensor(0) tensor(0)\n",
      "tensor([2.5346]) tensor(3.) tensor(0) tensor(0)\n",
      "tensor([2.4356]) tensor(2.) tensor(0) tensor(0)\n",
      "tensor([2.2884]) tensor(2.) tensor(0) tensor(0)\n",
      "tensor([2.8077]) tensor(4.) tensor(0) tensor(0)\n",
      "tensor([2.3787]) tensor(3.) tensor(0) tensor(0)\n",
      "tensor([2.6577]) tensor(3.) tensor(0) tensor(0)\n",
      "tensor([2.4712]) tensor(2.) tensor(0) tensor(0)\n",
      "tensor([2.3545]) tensor(2.) tensor(0) tensor(0)\n",
      "tensor([2.3450]) tensor(2.) tensor(0) tensor(0)\n",
      "tensor([2.4138]) tensor(2.) tensor(0) tensor(0)\n",
      "tensor([2.5072]) tensor(3.) tensor(0) tensor(0)\n",
      "tensor([2.4256]) tensor(2.) tensor(0) tensor(0)\n",
      "tensor([2.4130]) tensor(2.) tensor(0) tensor(0)\n",
      "tensor([2.7842]) tensor(3.) tensor(0) tensor(0)\n",
      "tensor([2.6416]) tensor(2.) tensor(0) tensor(0)\n",
      "tensor([2.7811]) tensor(1.) tensor(0) tensor(0)\n",
      "tensor([2.6574]) tensor(5.) tensor(0) tensor(0)\n",
      "tensor([2.6632]) tensor(4.) tensor(0) tensor(0)\n",
      "tensor([2.6211]) tensor(3.) tensor(0) tensor(0)\n",
      "tensor([2.4318]) tensor(4.) tensor(0) tensor(0)\n",
      "tensor([2.2652]) tensor(2.) tensor(0) tensor(0)\n",
      "tensor([2.4199]) tensor(3.) tensor(0) tensor(0)\n",
      "tensor([2.3657]) tensor(2.) tensor(0) tensor(0)\n",
      "tensor([2.5743]) tensor(2.) tensor(0) tensor(0)\n",
      "tensor([2.1071]) tensor(2.) tensor(0) tensor(0)\n",
      "tensor([2.7858]) tensor(5.) tensor(0) tensor(0)\n",
      "tensor([2.5391]) tensor(2.) tensor(0) tensor(0)\n",
      "tensor([2.4330]) tensor(1.) tensor(0) tensor(0)\n",
      "tensor([2.6299]) tensor(1.) tensor(0) tensor(0)\n",
      "tensor([1.9365]) tensor(2.) tensor(0) tensor(0)\n",
      "tensor([2.2969]) tensor(1.5000) tensor(0) tensor(0)\n",
      "tensor([2.3683]) tensor(2.) tensor(0) tensor(0)\n",
      "tensor([2.9887]) tensor(4.) tensor(0) tensor(0)\n",
      "tensor([2.6816]) tensor(2.) tensor(0) tensor(0)\n",
      "tensor([2.8797]) tensor(3.) tensor(0) tensor(0)\n",
      "tensor([2.3226]) tensor(2.) tensor(0) tensor(0)\n",
      "tensor([2.2464]) tensor(1.) tensor(0) tensor(0)\n",
      "tensor([2.3834]) tensor(1.) tensor(0) tensor(0)\n",
      "tensor([2.6617]) tensor(2.) tensor(0) tensor(0)\n",
      "tensor([2.3077]) tensor(3.) tensor(0) tensor(0)\n",
      "tensor([2.7076]) tensor(4.) tensor(0) tensor(0)\n",
      "tensor([2.4474]) tensor(3.) tensor(0) tensor(0)\n",
      "tensor([2.6980]) tensor(3.) tensor(0) tensor(0)\n",
      "tensor([2.6727]) tensor(1.5000) tensor(0) tensor(0)\n",
      "tensor([2.7192]) tensor(2.) tensor(0) tensor(0)\n",
      "tensor([1.9823]) tensor(2.) tensor(0) tensor(0)\n",
      "tensor([2.2454]) tensor(4.5000) tensor(0) tensor(0)\n",
      "tensor([2.8245]) tensor(2.) tensor(0) tensor(0)\n",
      "tensor([2.4495]) tensor(2.) tensor(0) tensor(0)\n",
      "tensor([2.3649]) tensor(2.) tensor(0) tensor(0)\n",
      "tensor([2.2323]) tensor(2.) tensor(0) tensor(0)\n",
      "tensor([2.3449]) tensor(1.6667) tensor(0) tensor(0)\n",
      "tensor([2.4989]) tensor(3.) tensor(0) tensor(0)\n",
      "tensor([2.2589]) tensor(2.) tensor(0) tensor(0)\n",
      "tensor([2.2701]) tensor(3.) tensor(0) tensor(0)\n",
      "tensor([2.2172]) tensor(2.) tensor(0) tensor(0)\n",
      "tensor([2.4604]) tensor(3.) tensor(0) tensor(0)\n",
      "tensor([2.6039]) tensor(2.) tensor(0) tensor(0)\n",
      "tensor([2.2385]) tensor(2.) tensor(0) tensor(0)\n",
      "tensor([2.5320]) tensor(2.) tensor(0) tensor(0)\n",
      "tensor([2.3646]) tensor(3.) tensor(0) tensor(0)\n",
      "tensor([2.5451]) tensor(2.) tensor(0) tensor(0)\n",
      "tensor([2.2929]) tensor(2.) tensor(0) tensor(0)\n",
      "tensor([2.8333]) tensor(3.) tensor(0) tensor(0)\n",
      "tensor([2.4341]) tensor(2.) tensor(0) tensor(0)\n",
      "tensor([2.2145]) tensor(2.) tensor(0) tensor(0)\n",
      "tensor([2.4298]) tensor(2.5000) tensor(0) tensor(0)\n",
      "tensor([2.1630]) tensor(2.) tensor(0) tensor(0)\n",
      "tensor([2.4795]) tensor(4.) tensor(0) tensor(0)\n",
      "tensor([2.5541]) tensor(3.) tensor(0) tensor(0)\n",
      "tensor([2.6969]) tensor(4.) tensor(0) tensor(0)\n",
      "tensor([2.2562]) tensor(3.) tensor(0) tensor(0)\n",
      "tensor([2.2664]) tensor(3.) tensor(0) tensor(0)\n",
      "tensor([2.2615]) tensor(2.) tensor(0) tensor(0)\n",
      "tensor([2.3067]) tensor(2.) tensor(0) tensor(0)\n",
      "tensor([2.4018]) tensor(2.) tensor(0) tensor(0)\n",
      "tensor([2.5529]) tensor(2.) tensor(0) tensor(0)\n",
      "tensor([2.4418]) tensor(2.) tensor(0) tensor(0)\n",
      "tensor([2.4420]) tensor(3.) tensor(0) tensor(0)\n",
      "tensor([2.8298]) tensor(4.) tensor(0) tensor(0)\n",
      "tensor([2.5308]) tensor(2.) tensor(0) tensor(0)\n",
      "tensor([2.1592]) tensor(2.) tensor(0) tensor(1)\n",
      "tensor([2.0953]) tensor(2.) tensor(0) tensor(0)\n",
      "tensor([2.5559]) tensor(2.) tensor(0) tensor(0)\n",
      "tensor([1.9670]) tensor(2.) tensor(0) tensor(0)\n",
      "tensor([2.3424]) tensor(3.) tensor(0) tensor(0)\n",
      "tensor([2.6419]) tensor(3.) tensor(0) tensor(0)\n",
      "tensor([2.6523]) tensor(2.) tensor(0) tensor(0)\n",
      "tensor([2.2177]) tensor(2.) tensor(0) tensor(0)\n",
      "tensor([2.7485]) tensor(2.) tensor(0) tensor(0)\n",
      "tensor([2.5057]) tensor(1.) tensor(0) tensor(0)\n",
      "tensor([2.3817]) tensor(3.) tensor(0) tensor(0)\n",
      "tensor([3.0520]) tensor(2.) tensor(0) tensor(0)\n",
      "tensor([2.3281]) tensor(2.) tensor(0) tensor(0)\n",
      "tensor([2.5745]) tensor(2.) tensor(0) tensor(0)\n",
      "tensor([2.4486]) tensor(2.) tensor(0) tensor(0)\n",
      "tensor([2.3721]) tensor(1.5000) tensor(0) tensor(0)\n",
      "tensor([2.6137]) tensor(3.) tensor(0) tensor(0)\n",
      "tensor([1.9362]) tensor(3.) tensor(0) tensor(0)\n",
      "tensor([2.5344]) tensor(2.) tensor(0) tensor(0)\n",
      "tensor([2.8071]) tensor(3.) tensor(0) tensor(0)\n",
      "tensor([2.6777]) tensor(4.) tensor(0) tensor(0)\n",
      "tensor([2.6143]) tensor(4.) tensor(0) tensor(0)\n",
      "tensor([2.0534]) tensor(2.) tensor(0) tensor(0)\n",
      "tensor([2.6136]) tensor(3.) tensor(0) tensor(0)\n",
      "tensor([2.4968]) tensor(3.) tensor(0) tensor(0)\n",
      "tensor([2.5011]) tensor(2.) tensor(0) tensor(0)\n",
      "tensor([2.5170]) tensor(2.) tensor(0) tensor(0)\n",
      "tensor([2.3352]) tensor(2.) tensor(0) tensor(0)\n",
      "tensor([2.3813]) tensor(1.) tensor(0) tensor(0)\n",
      "tensor([2.3435]) tensor(2.) tensor(0) tensor(0)\n",
      "tensor([2.1623]) tensor(2.) tensor(0) tensor(0)\n",
      "tensor([2.6382]) tensor(4.) tensor(0) tensor(0)\n",
      "tensor([2.5177]) tensor(3.) tensor(0) tensor(0)\n",
      "tensor([2.4521]) tensor(2.) tensor(0) tensor(0)\n",
      "tensor([2.4520]) tensor(2.) tensor(0) tensor(0)\n",
      "tensor([2.2095]) tensor(2.) tensor(0) tensor(0)\n",
      "tensor([2.4391]) tensor(2.) tensor(0) tensor(0)\n",
      "tensor([2.7269]) tensor(3.) tensor(0) tensor(0)\n",
      "tensor([2.0720]) tensor(2.) tensor(0) tensor(0)\n",
      "tensor([2.2754]) tensor(3.) tensor(0) tensor(0)\n",
      "tensor([2.5564]) tensor(2.) tensor(0) tensor(0)\n",
      "tensor([2.6011]) tensor(3.) tensor(0) tensor(0)\n",
      "tensor([2.4258]) tensor(2.) tensor(0) tensor(0)\n",
      "tensor([2.4103]) tensor(3.) tensor(0) tensor(0)\n",
      "tensor([2.1551]) tensor(2.) tensor(0) tensor(0)\n",
      "tensor([2.2318]) tensor(1.) tensor(0) tensor(0)\n",
      "tensor([2.6145]) tensor(3.) tensor(0) tensor(0)\n",
      "tensor([2.1316]) tensor(3.) tensor(0) tensor(0)\n",
      "tensor([2.7280]) tensor(3.) tensor(0) tensor(0)\n",
      "tensor([2.4427]) tensor(2.) tensor(0) tensor(0)\n",
      "tensor([2.7741]) tensor(4.) tensor(0) tensor(0)\n",
      "tensor([2.6656]) tensor(5.) tensor(0) tensor(0)\n",
      "tensor([2.4126]) tensor(3.) tensor(0) tensor(0)\n",
      "tensor([2.1720]) tensor(2.) tensor(0) tensor(0)\n",
      "tensor([2.4778]) tensor(2.) tensor(0) tensor(0)\n",
      "tensor([2.7550]) tensor(2.) tensor(0) tensor(0)\n",
      "tensor([2.2474]) tensor(2.) tensor(0) tensor(0)\n",
      "tensor([2.4282]) tensor(2.) tensor(0) tensor(0)\n",
      "tensor([2.1359]) tensor(2.) tensor(0) tensor(0)\n",
      "tensor([2.3893]) tensor(4.) tensor(0) tensor(0)\n",
      "tensor([2.2811]) tensor(2.) tensor(0) tensor(0)\n",
      "tensor([2.2495]) tensor(2.) tensor(0) tensor(0)\n",
      "tensor([2.4130]) tensor(3.) tensor(0) tensor(0)\n",
      "tensor([2.8378]) tensor(3.) tensor(0) tensor(0)\n",
      "tensor([2.4349]) tensor(2.) tensor(0) tensor(0)\n",
      "tensor([2.7398]) tensor(3.) tensor(0) tensor(0)\n",
      "tensor([2.2538]) tensor(3.) tensor(0) tensor(0)\n",
      "tensor([2.4623]) tensor(1.) tensor(0) tensor(0)\n"
     ]
    },
    {
     "name": "stdout",
     "output_type": "stream",
     "text": [
      "tensor([2.7350]) tensor(3.) tensor(0) tensor(0)\n",
      "tensor([2.4205]) tensor(2.) tensor(0) tensor(0)\n",
      "tensor([2.3880]) tensor(2.) tensor(0) tensor(0)\n",
      "tensor([2.4821]) tensor(2.) tensor(0) tensor(1)\n",
      "tensor([2.3173]) tensor(3.) tensor(0) tensor(0)\n",
      "tensor([2.4594]) tensor(2.) tensor(0) tensor(0)\n",
      "tensor([2.5217]) tensor(3.) tensor(0) tensor(0)\n",
      "tensor([2.3585]) tensor(2.) tensor(0) tensor(0)\n",
      "tensor([2.7755]) tensor(3.) tensor(0) tensor(0)\n",
      "tensor([2.6170]) tensor(2.) tensor(0) tensor(0)\n",
      "tensor([2.2331]) tensor(2.) tensor(0) tensor(0)\n",
      "tensor([2.4565]) tensor(2.) tensor(0) tensor(0)\n",
      "tensor([2.2849]) tensor(3.) tensor(0) tensor(0)\n",
      "tensor([2.1735]) tensor(1.5000) tensor(0) tensor(0)\n",
      "tensor([2.5007]) tensor(2.) tensor(0) tensor(0)\n",
      "tensor([2.5685]) tensor(4.) tensor(0) tensor(0)\n",
      "tensor([2.0086]) tensor(2.) tensor(0) tensor(0)\n",
      "tensor([2.4141]) tensor(4.) tensor(0) tensor(0)\n",
      "tensor([2.5783]) tensor(3.) tensor(0) tensor(0)\n",
      "tensor([2.4658]) tensor(3.) tensor(0) tensor(0)\n",
      "tensor([2.6401]) tensor(2.) tensor(0) tensor(0)\n",
      "tensor([2.6246]) tensor(2.) tensor(0) tensor(0)\n",
      "tensor([2.2637]) tensor(1.5000) tensor(0) tensor(0)\n",
      "tensor([2.2592]) tensor(1.5000) tensor(0) tensor(0)\n",
      "tensor([2.8220]) tensor(4.) tensor(0) tensor(0)\n",
      "tensor([2.1346]) tensor(1.5000) tensor(0) tensor(0)\n",
      "tensor([2.4654]) tensor(2.) tensor(0) tensor(0)\n",
      "tensor([2.6140]) tensor(4.) tensor(0) tensor(0)\n",
      "tensor([2.1385]) tensor(1.5000) tensor(0) tensor(0)\n",
      "tensor([2.6266]) tensor(3.) tensor(0) tensor(0)\n",
      "tensor([2.9401]) tensor(4.) tensor(0) tensor(0)\n",
      "tensor([1.9572]) tensor(1.) tensor(0) tensor(0)\n",
      "tensor([2.3084]) tensor(2.) tensor(0) tensor(0)\n",
      "tensor([2.8364]) tensor(4.) tensor(0) tensor(0)\n",
      "tensor([2.4289]) tensor(2.) tensor(0) tensor(0)\n",
      "tensor([2.6530]) tensor(2.) tensor(0) tensor(0)\n",
      "tensor([2.5099]) tensor(3.) tensor(0) tensor(0)\n",
      "tensor([2.4435]) tensor(2.) tensor(0) tensor(0)\n",
      "tensor([2.2694]) tensor(3.) tensor(0) tensor(0)\n",
      "tensor([2.3331]) tensor(2.) tensor(0) tensor(0)\n",
      "tensor([2.9988]) tensor(3.) tensor(0) tensor(0)\n",
      "tensor([2.5916]) tensor(2.) tensor(0) tensor(0)\n",
      "tensor([2.4889]) tensor(2.) tensor(0) tensor(1)\n",
      "tensor([2.3774]) tensor(3.) tensor(0) tensor(0)\n",
      "tensor([2.5828]) tensor(4.5000) tensor(0) tensor(0)\n",
      "tensor([2.3097]) tensor(3.) tensor(0) tensor(0)\n",
      "tensor([2.5695]) tensor(2.) tensor(0) tensor(0)\n",
      "tensor([2.5088]) tensor(4.) tensor(0) tensor(0)\n",
      "tensor([2.3716]) tensor(3.) tensor(0) tensor(0)\n",
      "tensor([2.6343]) tensor(3.) tensor(0) tensor(0)\n",
      "tensor([2.3926]) tensor(2.) tensor(0) tensor(0)\n",
      "tensor([2.1225]) tensor(2.) tensor(0) tensor(0)\n",
      "tensor([2.5743]) tensor(3.) tensor(0) tensor(0)\n",
      "tensor([2.0789]) tensor(2.) tensor(0) tensor(0)\n",
      "tensor([2.9174]) tensor(5.) tensor(0) tensor(0)\n",
      "tensor([2.5062]) tensor(2.) tensor(0) tensor(0)\n",
      "tensor([2.4605]) tensor(2.) tensor(0) tensor(0)\n",
      "tensor([2.5240]) tensor(3.) tensor(0) tensor(0)\n",
      "tensor([2.3432]) tensor(2.) tensor(0) tensor(1)\n",
      "tensor([2.2794]) tensor(2.) tensor(0) tensor(0)\n",
      "tensor([2.2341]) tensor(2.) tensor(0) tensor(0)\n",
      "tensor([2.2199]) tensor(2.) tensor(0) tensor(0)\n",
      "tensor([2.5704]) tensor(4.5000) tensor(0) tensor(0)\n",
      "tensor([2.4463]) tensor(3.) tensor(0) tensor(0)\n",
      "tensor([2.2080]) tensor(2.) tensor(0) tensor(0)\n",
      "tensor([2.7347]) tensor(5.) tensor(0) tensor(0)\n",
      "tensor([2.5388]) tensor(2.) tensor(0) tensor(0)\n",
      "tensor([2.0767]) tensor(2.) tensor(0) tensor(0)\n",
      "tensor([2.9613]) tensor(2.) tensor(0) tensor(0)\n",
      "tensor([2.9957]) tensor(5.) tensor(0) tensor(0)\n",
      "tensor([2.6525]) tensor(2.) tensor(0) tensor(0)\n",
      "tensor([2.2717]) tensor(2.) tensor(0) tensor(0)\n",
      "tensor([2.4341]) tensor(2.) tensor(0) tensor(0)\n",
      "tensor([2.4236]) tensor(3.) tensor(0) tensor(0)\n",
      "tensor([2.7653]) tensor(4.) tensor(0) tensor(0)\n",
      "tensor([2.1161]) tensor(2.) tensor(0) tensor(0)\n",
      "tensor([2.3662]) tensor(3.) tensor(0) tensor(0)\n",
      "tensor([2.5443]) tensor(2.) tensor(0) tensor(0)\n",
      "tensor([2.4056]) tensor(3.) tensor(0) tensor(0)\n",
      "tensor([3.0409]) tensor(2.) tensor(0) tensor(0)\n",
      "tensor([2.8085]) tensor(2.) tensor(0) tensor(0)\n",
      "tensor([2.3650]) tensor(2.) tensor(0) tensor(0)\n",
      "tensor([2.4230]) tensor(3.) tensor(0) tensor(0)\n",
      "tensor([2.2004]) tensor(1.5000) tensor(0) tensor(0)\n",
      "tensor([2.3318]) tensor(3.) tensor(0) tensor(0)\n",
      "tensor([2.6347]) tensor(2.) tensor(0) tensor(0)\n",
      "tensor([2.4194]) tensor(3.) tensor(0) tensor(0)\n",
      "tensor([2.2649]) tensor(3.) tensor(0) tensor(0)\n",
      "tensor([2.3777]) tensor(3.) tensor(0) tensor(0)\n",
      "tensor([2.5341]) tensor(4.) tensor(0) tensor(0)\n",
      "tensor([2.7854]) tensor(3.) tensor(0) tensor(0)\n",
      "tensor([2.6891]) tensor(4.) tensor(0) tensor(0)\n",
      "tensor([2.3263]) tensor(2.) tensor(0) tensor(0)\n",
      "tensor([2.2613]) tensor(2.) tensor(0) tensor(0)\n",
      "tensor([2.3383]) tensor(2.) tensor(0) tensor(0)\n",
      "tensor([2.8993]) tensor(2.) tensor(0) tensor(0)\n",
      "tensor([2.7413]) tensor(3.) tensor(0) tensor(0)\n",
      "tensor([2.4631]) tensor(3.) tensor(0) tensor(0)\n",
      "tensor([2.4094]) tensor(1.) tensor(0) tensor(0)\n",
      "tensor([2.4806]) tensor(3.) tensor(0) tensor(0)\n",
      "tensor([2.3524]) tensor(2.) tensor(0) tensor(0)\n",
      "tensor([2.4543]) tensor(4.) tensor(0) tensor(0)\n",
      "tensor([2.6138]) tensor(2.) tensor(0) tensor(0)\n",
      "tensor([2.3764]) tensor(2.) tensor(0) tensor(0)\n",
      "tensor([2.2804]) tensor(2.) tensor(0) tensor(0)\n",
      "tensor([2.1599]) tensor(2.) tensor(0) tensor(0)\n",
      "tensor([2.5061]) tensor(2.) tensor(0) tensor(0)\n",
      "tensor([2.1571]) tensor(2.) tensor(0) tensor(0)\n",
      "tensor([2.8062]) tensor(4.) tensor(0) tensor(0)\n",
      "tensor([2.6192]) tensor(3.) tensor(0) tensor(0)\n",
      "tensor([2.6396]) tensor(3.) tensor(0) tensor(0)\n",
      "tensor([2.6589]) tensor(2.) tensor(0) tensor(0)\n",
      "tensor([2.8460]) tensor(2.) tensor(0) tensor(0)\n",
      "tensor([2.4935]) tensor(2.) tensor(0) tensor(0)\n",
      "tensor([2.2683]) tensor(2.) tensor(0) tensor(0)\n",
      "tensor([2.4891]) tensor(2.) tensor(0) tensor(0)\n",
      "tensor([2.4580]) tensor(2.) tensor(0) tensor(0)\n",
      "tensor([2.5881]) tensor(2.) tensor(0) tensor(0)\n",
      "tensor([2.5606]) tensor(2.) tensor(0) tensor(0)\n",
      "tensor([2.4591]) tensor(2.) tensor(0) tensor(0)\n",
      "tensor([2.3925]) tensor(2.) tensor(0) tensor(0)\n",
      "tensor([2.4950]) tensor(3.) tensor(0) tensor(0)\n",
      "tensor([2.3670]) tensor(2.) tensor(0) tensor(0)\n",
      "tensor([2.3089]) tensor(2.) tensor(0) tensor(0)\n",
      "tensor([2.4998]) tensor(2.) tensor(0) tensor(0)\n",
      "tensor([2.6984]) tensor(3.) tensor(0) tensor(0)\n",
      "tensor([2.9556]) tensor(4.) tensor(0) tensor(0)\n",
      "tensor([2.6505]) tensor(4.) tensor(0) tensor(0)\n",
      "tensor([2.6957]) tensor(2.) tensor(0) tensor(0)\n",
      "tensor([2.2328]) tensor(3.) tensor(0) tensor(0)\n",
      "tensor([2.4998]) tensor(1.) tensor(0) tensor(0)\n",
      "tensor([2.3171]) tensor(2.) tensor(0) tensor(0)\n",
      "tensor([2.5038]) tensor(2.) tensor(0) tensor(0)\n",
      "tensor([2.8695]) tensor(2.) tensor(0) tensor(0)\n",
      "tensor([2.6345]) tensor(3.) tensor(0) tensor(0)\n",
      "tensor([2.0450]) tensor(2.) tensor(0) tensor(0)\n",
      "tensor([2.2224]) tensor(2.) tensor(0) tensor(0)\n",
      "tensor([2.6724]) tensor(3.) tensor(0) tensor(0)\n",
      "tensor([2.5739]) tensor(1.) tensor(0) tensor(0)\n",
      "tensor([2.5574]) tensor(2.) tensor(0) tensor(0)\n",
      "tensor([2.5458]) tensor(2.) tensor(0) tensor(0)\n",
      "tensor([2.3138]) tensor(3.) tensor(0) tensor(0)\n",
      "tensor([2.5323]) tensor(5.) tensor(0) tensor(0)\n",
      "tensor([2.2601]) tensor(1.5000) tensor(0) tensor(0)\n",
      "tensor([2.3819]) tensor(2.) tensor(0) tensor(0)\n",
      "tensor([2.3503]) tensor(2.) tensor(0) tensor(0)\n",
      "tensor([2.5844]) tensor(2.) tensor(0) tensor(0)\n",
      "tensor([2.8832]) tensor(2.) tensor(0) tensor(0)\n",
      "tensor([2.4293]) tensor(2.) tensor(0) tensor(0)\n",
      "tensor([2.1722]) tensor(2.5000) tensor(0) tensor(0)\n",
      "tensor([1.9710]) tensor(3.) tensor(0) tensor(0)\n",
      "tensor([2.7661]) tensor(5.) tensor(0) tensor(0)\n",
      "tensor([2.4523]) tensor(3.) tensor(0) tensor(0)\n",
      "tensor([2.4664]) tensor(2.) tensor(0) tensor(0)\n",
      "tensor([2.6115]) tensor(2.) tensor(0) tensor(0)\n",
      "tensor([1.8543]) tensor(1.) tensor(0) tensor(0)\n",
      "tensor([2.8343]) tensor(3.) tensor(0) tensor(0)\n",
      "tensor([2.7034]) tensor(2.) tensor(0) tensor(0)\n",
      "tensor([2.4887]) tensor(2.) tensor(0) tensor(0)\n",
      "tensor([2.5770]) tensor(1.) tensor(0) tensor(0)\n",
      "tensor([2.3166]) tensor(2.) tensor(0) tensor(0)\n",
      "tensor([2.4163]) tensor(2.) tensor(0) tensor(0)\n",
      "tensor([2.1504]) tensor(2.) tensor(0) tensor(0)\n",
      "tensor([2.2905]) tensor(2.) tensor(0) tensor(0)\n",
      "tensor([2.1094]) tensor(2.) tensor(0) tensor(0)\n",
      "tensor([2.4577]) tensor(3.) tensor(0) tensor(0)\n",
      "tensor([2.4733]) tensor(2.) tensor(0) tensor(0)\n",
      "tensor([2.1205]) tensor(1.) tensor(0) tensor(0)\n",
      "tensor([2.7496]) tensor(3.) tensor(0) tensor(0)\n",
      "tensor([2.4365]) tensor(2.) tensor(0) tensor(0)\n",
      "tensor([2.2427]) tensor(2.) tensor(0) tensor(0)\n",
      "tensor([2.6143]) tensor(4.) tensor(0) tensor(0)\n",
      "tensor([2.5627]) tensor(2.) tensor(0) tensor(0)\n",
      "tensor([2.6576]) tensor(2.) tensor(0) tensor(0)\n",
      "tensor([2.4384]) tensor(2.) tensor(0) tensor(0)\n",
      "tensor([2.1765]) tensor(2.) tensor(0) tensor(0)\n",
      "tensor([2.7309]) tensor(2.) tensor(0) tensor(0)\n",
      "tensor([2.8405]) tensor(3.) tensor(0) tensor(0)\n",
      "tensor([2.4068]) tensor(2.) tensor(0) tensor(0)\n",
      "tensor([2.3453]) tensor(2.5000) tensor(0) tensor(0)\n",
      "tensor([2.8062]) tensor(5.) tensor(0) tensor(0)\n",
      "tensor([2.2950]) tensor(2.) tensor(0) tensor(0)\n",
      "tensor([2.9835]) tensor(2.) tensor(0) tensor(0)\n",
      "tensor([2.6612]) tensor(2.) tensor(0) tensor(0)\n",
      "tensor([2.3922]) tensor(2.) tensor(0) tensor(0)\n",
      "tensor([2.1305]) tensor(3.) tensor(0) tensor(0)\n",
      "tensor([2.7817]) tensor(5.) tensor(0) tensor(0)\n",
      "tensor([2.3453]) tensor(2.) tensor(0) tensor(0)\n",
      "tensor([2.1302]) tensor(2.) tensor(0) tensor(0)\n",
      "tensor([2.1116]) tensor(2.) tensor(0) tensor(0)\n",
      "tensor([2.9088]) tensor(2.) tensor(0) tensor(0)\n",
      "tensor([2.6568]) tensor(4.) tensor(0) tensor(0)\n",
      "tensor([2.3608]) tensor(3.) tensor(0) tensor(0)\n",
      "tensor([2.5524]) tensor(2.) tensor(0) tensor(0)\n",
      "tensor([2.5504]) tensor(2.) tensor(0) tensor(0)\n",
      "tensor([2.4562]) tensor(2.) tensor(0) tensor(0)\n",
      "tensor([2.7065]) tensor(2.) tensor(0) tensor(0)\n",
      "tensor([2.7007]) tensor(2.) tensor(0) tensor(0)\n",
      "tensor([2.4575]) tensor(3.) tensor(0) tensor(0)\n",
      "tensor([2.6415]) tensor(2.) tensor(0) tensor(0)\n",
      "tensor([2.3681]) tensor(2.) tensor(0) tensor(0)\n",
      "tensor([2.4966]) tensor(2.) tensor(0) tensor(0)\n",
      "tensor([2.7553]) tensor(2.) tensor(0) tensor(0)\n",
      "tensor([2.2903]) tensor(1.) tensor(0) tensor(0)\n",
      "tensor([2.5474]) tensor(4.) tensor(0) tensor(0)\n",
      "tensor([2.8675]) tensor(2.) tensor(0) tensor(0)\n",
      "tensor([3.0084]) tensor(1.) tensor(0) tensor(0)\n",
      "tensor([3.1637]) tensor(5.) tensor(0) tensor(0)\n",
      "tensor([2.4542]) tensor(2.) tensor(0) tensor(0)\n",
      "tensor([2.3811]) tensor(2.) tensor(0) tensor(0)\n",
      "tensor([2.6806]) tensor(2.) tensor(0) tensor(0)\n",
      "tensor([2.6949]) tensor(2.) tensor(0) tensor(0)\n",
      "tensor([2.3024]) tensor(2.5000) tensor(0) tensor(0)\n"
     ]
    },
    {
     "name": "stdout",
     "output_type": "stream",
     "text": [
      "tensor([2.4566]) tensor(2.) tensor(0) tensor(0)\n",
      "tensor([1.8993]) tensor(2.) tensor(0) tensor(0)\n",
      "tensor([2.4712]) tensor(2.) tensor(0) tensor(0)\n",
      "tensor([2.5343]) tensor(3.) tensor(0) tensor(0)\n",
      "tensor([2.5269]) tensor(3.) tensor(0) tensor(0)\n",
      "tensor([2.7743]) tensor(2.) tensor(0) tensor(0)\n",
      "tensor([1.9336]) tensor(2.) tensor(0) tensor(0)\n",
      "tensor([2.6354]) tensor(3.) tensor(0) tensor(0)\n",
      "tensor([2.1727]) tensor(2.) tensor(0) tensor(0)\n",
      "tensor([2.3667]) tensor(1.) tensor(0) tensor(0)\n",
      "tensor([2.3931]) tensor(2.) tensor(0) tensor(0)\n",
      "tensor([2.3524]) tensor(1.) tensor(0) tensor(0)\n",
      "tensor([2.4021]) tensor(4.) tensor(0) tensor(0)\n",
      "tensor([2.5007]) tensor(3.) tensor(0) tensor(0)\n",
      "tensor([2.5289]) tensor(2.) tensor(0) tensor(0)\n",
      "tensor([2.2333]) tensor(3.) tensor(0) tensor(0)\n",
      "tensor([2.2254]) tensor(2.) tensor(0) tensor(0)\n",
      "tensor([2.3390]) tensor(1.) tensor(0) tensor(0)\n",
      "tensor([2.1136]) tensor(3.) tensor(0) tensor(0)\n",
      "tensor([2.9065]) tensor(5.) tensor(0) tensor(0)\n",
      "tensor([2.2463]) tensor(2.) tensor(0) tensor(0)\n",
      "tensor([2.2163]) tensor(3.) tensor(0) tensor(0)\n",
      "tensor([2.2618]) tensor(2.) tensor(0) tensor(0)\n",
      "tensor([2.2985]) tensor(2.) tensor(0) tensor(0)\n",
      "tensor([2.3647]) tensor(2.) tensor(0) tensor(0)\n",
      "tensor([2.5268]) tensor(2.) tensor(0) tensor(0)\n",
      "tensor([2.4333]) tensor(2.) tensor(0) tensor(0)\n",
      "tensor([2.3334]) tensor(2.) tensor(0) tensor(0)\n",
      "tensor([2.4430]) tensor(3.) tensor(0) tensor(0)\n",
      "tensor([2.7127]) tensor(2.) tensor(0) tensor(0)\n",
      "tensor([2.4714]) tensor(2.) tensor(0) tensor(0)\n",
      "tensor([2.8758]) tensor(3.) tensor(0) tensor(0)\n",
      "tensor([2.5722]) tensor(1.) tensor(0) tensor(0)\n",
      "tensor([2.5638]) tensor(4.) tensor(0) tensor(0)\n",
      "tensor([2.3905]) tensor(2.) tensor(0) tensor(0)\n",
      "tensor([3.0095]) tensor(2.) tensor(0) tensor(0)\n",
      "tensor([2.5383]) tensor(1.) tensor(0) tensor(0)\n",
      "tensor([2.6144]) tensor(3.) tensor(0) tensor(0)\n",
      "tensor([2.3864]) tensor(2.) tensor(0) tensor(0)\n",
      "tensor([2.8841]) tensor(2.) tensor(0) tensor(0)\n",
      "tensor([2.3409]) tensor(2.) tensor(0) tensor(0)\n",
      "tensor([2.7904]) tensor(3.) tensor(0) tensor(0)\n",
      "tensor([2.6424]) tensor(2.) tensor(0) tensor(0)\n",
      "tensor([2.3789]) tensor(2.) tensor(0) tensor(0)\n",
      "tensor([2.2915]) tensor(3.) tensor(0) tensor(0)\n",
      "tensor([2.7323]) tensor(2.) tensor(0) tensor(0)\n",
      "tensor([2.3364]) tensor(3.) tensor(0) tensor(0)\n",
      "tensor([2.8501]) tensor(4.5000) tensor(0) tensor(0)\n",
      "tensor([2.8948]) tensor(3.) tensor(0) tensor(0)\n",
      "tensor([2.5056]) tensor(2.) tensor(0) tensor(0)\n",
      "tensor([2.4442]) tensor(2.) tensor(0) tensor(0)\n",
      "tensor([2.6765]) tensor(2.) tensor(0) tensor(0)\n",
      "tensor([2.4768]) tensor(3.) tensor(0) tensor(0)\n",
      "tensor([2.5025]) tensor(3.) tensor(0) tensor(0)\n",
      "tensor([2.5387]) tensor(2.) tensor(0) tensor(0)\n",
      "tensor([2.6812]) tensor(2.) tensor(0) tensor(0)\n",
      "tensor([2.1805]) tensor(2.) tensor(0) tensor(0)\n",
      "tensor([2.1405]) tensor(2.) tensor(0) tensor(0)\n",
      "tensor([2.1737]) tensor(1.5000) tensor(0) tensor(0)\n",
      "tensor([2.5473]) tensor(2.) tensor(0) tensor(0)\n",
      "tensor([2.5394]) tensor(2.) tensor(0) tensor(0)\n",
      "tensor([2.3841]) tensor(3.) tensor(0) tensor(0)\n",
      "tensor([2.0913]) tensor(2.) tensor(0) tensor(0)\n",
      "tensor([2.8076]) tensor(1.) tensor(0) tensor(0)\n",
      "tensor([2.3976]) tensor(2.) tensor(0) tensor(0)\n",
      "tensor([2.2901]) tensor(1.) tensor(0) tensor(0)\n",
      "tensor([2.4963]) tensor(2.) tensor(0) tensor(0)\n",
      "tensor([2.8074]) tensor(3.) tensor(0) tensor(0)\n",
      "tensor([3.0411]) tensor(5.) tensor(0) tensor(0)\n",
      "tensor([2.2905]) tensor(1.) tensor(0) tensor(0)\n",
      "tensor([2.3186]) tensor(2.5000) tensor(0) tensor(0)\n",
      "tensor([2.4246]) tensor(2.) tensor(0) tensor(0)\n",
      "tensor([2.3473]) tensor(1.) tensor(0) tensor(0)\n",
      "tensor([2.7251]) tensor(3.) tensor(0) tensor(0)\n",
      "tensor([2.7197]) tensor(3.) tensor(0) tensor(0)\n",
      "tensor([2.5043]) tensor(1.) tensor(0) tensor(0)\n",
      "tensor([2.6360]) tensor(2.) tensor(0) tensor(0)\n",
      "tensor([2.3077]) tensor(2.) tensor(0) tensor(0)\n",
      "tensor([2.2539]) tensor(1.) tensor(0) tensor(0)\n",
      "tensor([2.2597]) tensor(2.) tensor(0) tensor(0)\n",
      "tensor([2.3261]) tensor(2.) tensor(0) tensor(0)\n",
      "tensor([2.3189]) tensor(2.) tensor(0) tensor(0)\n",
      "tensor([2.9827]) tensor(3.) tensor(0) tensor(0)\n",
      "tensor([2.5424]) tensor(4.) tensor(0) tensor(0)\n",
      "tensor([2.3814]) tensor(2.) tensor(0) tensor(0)\n",
      "tensor([2.4722]) tensor(2.) tensor(0) tensor(0)\n",
      "tensor([2.2549]) tensor(3.) tensor(0) tensor(0)\n",
      "tensor([2.3758]) tensor(1.) tensor(0) tensor(0)\n",
      "tensor([2.8780]) tensor(4.) tensor(0) tensor(0)\n",
      "tensor([2.2277]) tensor(2.) tensor(0) tensor(0)\n",
      "tensor([2.0936]) tensor(3.) tensor(0) tensor(0)\n",
      "tensor([2.2085]) tensor(2.) tensor(0) tensor(0)\n",
      "tensor([2.7399]) tensor(5.) tensor(0) tensor(0)\n",
      "tensor([2.5937]) tensor(3.) tensor(0) tensor(0)\n",
      "tensor([2.4377]) tensor(2.) tensor(0) tensor(0)\n",
      "tensor([3.3677]) tensor(4.) tensor(0) tensor(0)\n",
      "tensor([2.8091]) tensor(3.) tensor(0) tensor(0)\n",
      "tensor([2.2752]) tensor(2.) tensor(0) tensor(0)\n",
      "tensor([2.6764]) tensor(2.) tensor(0) tensor(0)\n",
      "tensor([2.4157]) tensor(2.) tensor(0) tensor(0)\n",
      "tensor([2.5517]) tensor(4.) tensor(0) tensor(0)\n",
      "tensor([2.2286]) tensor(2.) tensor(0) tensor(0)\n",
      "tensor([2.3726]) tensor(2.) tensor(0) tensor(0)\n",
      "tensor([2.8049]) tensor(3.) tensor(0) tensor(0)\n",
      "tensor([2.9325]) tensor(2.) tensor(0) tensor(0)\n",
      "tensor([2.1918]) tensor(2.) tensor(0) tensor(0)\n",
      "tensor([2.7661]) tensor(2.) tensor(0) tensor(0)\n",
      "tensor([2.8304]) tensor(4.) tensor(0) tensor(0)\n",
      "tensor([2.5279]) tensor(3.) tensor(0) tensor(0)\n",
      "tensor([2.4549]) tensor(4.) tensor(0) tensor(0)\n",
      "tensor([2.3003]) tensor(2.) tensor(0) tensor(0)\n",
      "tensor([2.8125]) tensor(2.) tensor(0) tensor(0)\n",
      "tensor([2.6009]) tensor(5.) tensor(0) tensor(0)\n",
      "tensor([2.5954]) tensor(2.) tensor(0) tensor(0)\n",
      "tensor([2.3738]) tensor(4.) tensor(0) tensor(0)\n",
      "tensor([2.2914]) tensor(2.) tensor(0) tensor(0)\n",
      "tensor([2.2428]) tensor(2.) tensor(0) tensor(0)\n",
      "tensor([3.3588]) tensor(2.) tensor(0) tensor(0)\n",
      "tensor([2.7171]) tensor(2.) tensor(0) tensor(0)\n",
      "tensor([2.1134]) tensor(1.) tensor(0) tensor(0)\n",
      "tensor([2.8491]) tensor(5.) tensor(0) tensor(0)\n",
      "tensor([2.5698]) tensor(2.) tensor(0) tensor(0)\n",
      "tensor([2.5816]) tensor(2.) tensor(0) tensor(0)\n",
      "tensor([2.5250]) tensor(2.) tensor(0) tensor(0)\n",
      "tensor([2.3712]) tensor(3.) tensor(0) tensor(0)\n",
      "tensor([2.7167]) tensor(2.) tensor(0) tensor(0)\n",
      "tensor([2.6624]) tensor(4.5000) tensor(0) tensor(0)\n",
      "tensor([2.3938]) tensor(1.5000) tensor(0) tensor(0)\n",
      "tensor([1.9199]) tensor(2.) tensor(0) tensor(0)\n",
      "tensor([2.1110]) tensor(2.) tensor(0) tensor(0)\n",
      "tensor([2.3808]) tensor(2.) tensor(0) tensor(0)\n",
      "tensor([2.8857]) tensor(3.) tensor(0) tensor(0)\n",
      "tensor([2.7069]) tensor(2.) tensor(0) tensor(0)\n",
      "tensor([2.5816]) tensor(5.) tensor(0) tensor(0)\n",
      "tensor([2.1079]) tensor(2.) tensor(0) tensor(0)\n",
      "tensor([2.2625]) tensor(2.) tensor(0) tensor(0)\n",
      "tensor([2.7309]) tensor(2.) tensor(0) tensor(0)\n",
      "tensor([2.7979]) tensor(4.5000) tensor(0) tensor(0)\n",
      "tensor([2.4469]) tensor(2.) tensor(0) tensor(0)\n",
      "tensor([2.1401]) tensor(2.) tensor(0) tensor(0)\n",
      "tensor([2.5756]) tensor(3.) tensor(0) tensor(0)\n",
      "tensor([2.5816]) tensor(2.) tensor(0) tensor(0)\n",
      "tensor([2.4160]) tensor(3.) tensor(0) tensor(0)\n",
      "tensor([2.2716]) tensor(5.) tensor(0) tensor(0)\n",
      "tensor([2.5164]) tensor(3.) tensor(0) tensor(0)\n",
      "tensor([2.5232]) tensor(1.) tensor(0) tensor(0)\n",
      "tensor([2.4896]) tensor(2.) tensor(0) tensor(0)\n",
      "tensor([2.3474]) tensor(5.) tensor(0) tensor(0)\n",
      "tensor([2.6896]) tensor(2.) tensor(0) tensor(0)\n",
      "tensor([3.0051]) tensor(4.5000) tensor(0) tensor(0)\n",
      "tensor([2.1320]) tensor(2.) tensor(0) tensor(0)\n",
      "tensor([2.4577]) tensor(1.) tensor(0) tensor(0)\n",
      "tensor([2.4314]) tensor(2.) tensor(0) tensor(0)\n",
      "tensor([2.3420]) tensor(2.) tensor(0) tensor(0)\n",
      "tensor([2.3862]) tensor(2.) tensor(0) tensor(0)\n",
      "tensor([2.1920]) tensor(1.) tensor(0) tensor(0)\n",
      "tensor([2.4238]) tensor(2.) tensor(0) tensor(0)\n",
      "tensor([2.3748]) tensor(2.) tensor(0) tensor(0)\n",
      "tensor([2.4298]) tensor(3.) tensor(0) tensor(0)\n",
      "tensor([2.4579]) tensor(2.) tensor(0) tensor(0)\n",
      "tensor([2.6168]) tensor(3.) tensor(0) tensor(0)\n",
      "tensor([2.2797]) tensor(4.) tensor(0) tensor(0)\n",
      "tensor([2.5482]) tensor(3.) tensor(0) tensor(0)\n",
      "tensor([2.4294]) tensor(2.) tensor(0) tensor(0)\n",
      "tensor([2.2146]) tensor(3.) tensor(0) tensor(0)\n",
      "tensor([1.9516]) tensor(2.) tensor(0) tensor(0)\n",
      "tensor([2.3477]) tensor(2.) tensor(0) tensor(0)\n",
      "tensor([2.3751]) tensor(3.) tensor(0) tensor(0)\n",
      "tensor([2.0080]) tensor(2.) tensor(0) tensor(0)\n",
      "tensor([2.3032]) tensor(3.) tensor(0) tensor(0)\n",
      "tensor([2.3578]) tensor(2.) tensor(0) tensor(0)\n",
      "tensor([2.7152]) tensor(2.5000) tensor(0) tensor(0)\n",
      "tensor([2.0909]) tensor(3.) tensor(0) tensor(0)\n",
      "tensor([2.5522]) tensor(3.) tensor(0) tensor(0)\n",
      "tensor([2.6736]) tensor(2.) tensor(0) tensor(0)\n",
      "tensor([2.8279]) tensor(5.) tensor(0) tensor(0)\n",
      "tensor([2.6392]) tensor(5.) tensor(0) tensor(0)\n",
      "tensor([2.4710]) tensor(3.) tensor(0) tensor(0)\n",
      "tensor([2.4773]) tensor(2.) tensor(0) tensor(0)\n",
      "tensor([2.5367]) tensor(2.) tensor(0) tensor(0)\n",
      "tensor([2.6546]) tensor(4.) tensor(0) tensor(0)\n",
      "tensor([2.3821]) tensor(2.) tensor(0) tensor(0)\n",
      "tensor([2.4820]) tensor(2.) tensor(0) tensor(0)\n",
      "tensor([2.4847]) tensor(3.) tensor(0) tensor(0)\n"
     ]
    }
   ],
   "source": [
    "for prob_sent, prob_example, targ_sent, targ_example in zip(*probs,*targs):\n",
    "    print(prob_sent, targ_sent, torch.argmax(prob_example, dim=-1), targ_example)"
   ]
  },
  {
   "cell_type": "code",
   "execution_count": 48,
   "metadata": {},
   "outputs": [
    {
     "data": {
      "text/plain": [
       "['adequate_staffing',\n",
       " 'advancement_and_training_opportunities',\n",
       " 'appropriate_stress_work_assigned_equitably',\n",
       " 'benefits',\n",
       " 'better_ways_recognized_participate_in_decisions']"
      ]
     },
     "execution_count": 48,
     "metadata": {},
     "output_type": "execute_result"
    }
   ],
   "source": [
    "STANDARD_THEME_SAW_LABELS[:5]"
   ]
  },
  {
   "cell_type": "code",
   "execution_count": 49,
   "metadata": {},
   "outputs": [
    {
     "data": {
      "text/html": [],
      "text/plain": [
       "<IPython.core.display.HTML object>"
      ]
     },
     "metadata": {},
     "output_type": "display_data"
    },
    {
     "data": {
      "text/plain": [
       "(((2.68807315826416), '0'), tensor([[2.6881]]), tensor([[2.6881]]))"
      ]
     },
     "execution_count": 49,
     "metadata": {},
     "output_type": "execute_result"
    }
   ],
   "source": [
    "learn.blurr_predict(\"theme: Adequate Staffing comment: We don't have enough people to get the job done.\")"
   ]
  },
  {
   "cell_type": "markdown",
   "metadata": {},
   "source": [
    "## Review"
   ]
  },
  {
   "cell_type": "markdown",
   "metadata": {},
   "source": [
    "### Lets look at validation metrics"
   ]
  },
  {
   "cell_type": "code",
   "execution_count": 50,
   "metadata": {},
   "outputs": [
    {
     "data": {
      "text/html": [],
      "text/plain": [
       "<IPython.core.display.HTML object>"
      ]
     },
     "metadata": {},
     "output_type": "display_data"
    },
    {
     "data": {
      "text/plain": [
       "(torch.Size([1049, 1]),\n",
       " torch.Size([1049, 2]),\n",
       " torch.Size([1049]),\n",
       " torch.Size([1049]))"
      ]
     },
     "execution_count": 50,
     "metadata": {},
     "output_type": "execute_result"
    }
   ],
   "source": [
    "# predictions for a single model using the learner's model and data loaders\n",
    "learn = learn.load(f'{m_pre}mm_bestmodel{m_suf}')\n",
    "learn.model.cuda(1)\n",
    "probs, targs  = learn.get_preds()\n",
    "\n",
    "probs[0].shape, probs[1].shape, targs[0].shape, targs[1].shape"
   ]
  },
  {
   "cell_type": "code",
   "execution_count": 51,
   "metadata": {},
   "outputs": [],
   "source": [
    "is_example_prob_true = torch.softmax(probs[1], dim=-1)[:,1]\n",
    "# is_example_prob_true"
   ]
  },
  {
   "cell_type": "code",
   "execution_count": 52,
   "metadata": {},
   "outputs": [],
   "source": [
    "# determine optimal threshold based on desired f-score\n",
    "f05 = OptimalMultiThresholdMetrics(beta=0.5, start=0.05, end=.5, sigmoid=False, \n",
    "                                   average='binary', sample_weight=None)\n",
    "f1 = OptimalMultiThresholdMetrics(beta=1, start=0.05, end=.5, sigmoid=False, \n",
    "                                   average='binary', sample_weight=None)\n",
    "f2 = OptimalMultiThresholdMetrics(beta=2, start=0.05, end=.5, sigmoid=False, \n",
    "                                   average='binary', sample_weight=None)"
   ]
  },
  {
   "cell_type": "code",
   "execution_count": 53,
   "metadata": {},
   "outputs": [
    {
     "data": {
      "text/plain": [
       "(0.33, 0.33, 0.33)"
      ]
     },
     "execution_count": 53,
     "metadata": {},
     "output_type": "execute_result"
    }
   ],
   "source": [
    "threshold_f05 = f05.opt_th(is_example_prob_true, targs[1])\n",
    "threshold_f1 = f1.opt_th(is_example_prob_true, targs[1])\n",
    "threshold_f2 = f2.opt_th(is_example_prob_true, targs[1])\n",
    "\n",
    "threshold_f05, threshold_f1, threshold_f2"
   ]
  },
  {
   "cell_type": "code",
   "execution_count": 54,
   "metadata": {},
   "outputs": [
    {
     "data": {
      "text/plain": [
       "(0.01482213438735178, 0.023166023166023165, 0.053003533568904596)"
      ]
     },
     "execution_count": 54,
     "metadata": {},
     "output_type": "execute_result"
    }
   ],
   "source": [
    "f05_score = f05.opt_fscore(is_example_prob_true, targs[1])\n",
    "f1_score = f1.opt_fscore(is_example_prob_true, targs[1])\n",
    "f2_score = f2.opt_fscore(is_example_prob_true, targs[1])\n",
    "\n",
    "f05_score, f1_score, f2_score"
   ]
  },
  {
   "cell_type": "code",
   "execution_count": 55,
   "metadata": {},
   "outputs": [
    {
     "data": {
      "text/plain": [
       "0.01482213438735178"
      ]
     },
     "execution_count": 55,
     "metadata": {},
     "output_type": "execute_result"
    }
   ],
   "source": [
    "# make sure we are getting the same f1 score as sklearn\n",
    "res = skm.fbeta_score(targs[1], (is_example_prob_true > threshold_f05), beta=.5, \n",
    "                      average='binary', sample_weight=None, zero_division=False)\n",
    "res"
   ]
  },
  {
   "cell_type": "code",
   "execution_count": 56,
   "metadata": {},
   "outputs": [
    {
     "data": {
      "text/plain": [
       "(0.9923737049102783, 0.9923737049102783, 0.9923737049102783)"
      ]
     },
     "execution_count": 56,
     "metadata": {},
     "output_type": "execute_result"
    }
   ],
   "source": [
    "# determine accuracy based on optimal threshold\n",
    "val_acc_f05 = accuracy_multi(torch.argmax(probs[1], dim=-1), targs[1], threshold_f05, sigmoid=False).item()\n",
    "val_acc_f1 = accuracy_multi(torch.argmax(probs[1], dim=-1), targs[1], threshold_f1, sigmoid=False).item()\n",
    "val_acc_f2 = accuracy_multi(torch.argmax(probs[1], dim=-1), targs[1], threshold_f2, sigmoid=False).item()\n",
    "\n",
    "val_acc_f05, val_acc_f1, val_acc_f2"
   ]
  },
  {
   "cell_type": "code",
   "execution_count": 57,
   "metadata": {},
   "outputs": [
    {
     "data": {
      "text/plain": [
       "0.7588179111480713"
      ]
     },
     "execution_count": 57,
     "metadata": {},
     "output_type": "execute_result"
    }
   ],
   "source": [
    "# make sure we are getting the same f1 accuracy\n",
    "preds = ((is_example_prob_true > threshold_f05).byte() == targs[1].byte()).float().mean()\n",
    "preds.item()"
   ]
  },
  {
   "cell_type": "markdown",
   "metadata": {},
   "source": [
    "### Overall metrics - is_example_prob_true"
   ]
  },
  {
   "cell_type": "code",
   "execution_count": 58,
   "metadata": {},
   "outputs": [],
   "source": [
    "eval_targs = targs[1].flatten() # targs[:,0]\n",
    "eval_probs = is_example_prob_true.flatten()"
   ]
  },
  {
   "cell_type": "markdown",
   "metadata": {},
   "source": [
    "#### Classification Accuracy\n",
    "\n",
    "The percentage of correct predictions.  Answers the question, *\"Overall, how often is the classifier correct?\"*"
   ]
  },
  {
   "cell_type": "code",
   "execution_count": 59,
   "metadata": {},
   "outputs": [
    {
     "name": "stdout",
     "output_type": "stream",
     "text": [
      "0.7588179218303146\n"
     ]
    }
   ],
   "source": [
    "print(skm.accuracy_score(eval_targs, (is_example_prob_true > threshold_f05).float(), sample_weight=None))"
   ]
  },
  {
   "cell_type": "markdown",
   "metadata": {},
   "source": [
    "#### Null Accuracy\n",
    " \n",
    "The accuracy achieved by always predicting the most frequent class.  Answers the question, *\"What would the accuracy be by always predicting the most frequent case?\"*"
   ]
  },
  {
   "cell_type": "code",
   "execution_count": 60,
   "metadata": {},
   "outputs": [
    {
     "name": "stdout",
     "output_type": "stream",
     "text": [
      "0 1041\n"
     ]
    }
   ],
   "source": [
    "u_classes, u_counts = np.unique(eval_targs, return_counts=True)\n",
    "most_freq_class, most_freq_class_count = u_classes[np.argmax(u_counts)], np.max(u_counts)\n",
    "print(most_freq_class, most_freq_class_count)"
   ]
  },
  {
   "cell_type": "code",
   "execution_count": 61,
   "metadata": {},
   "outputs": [
    {
     "data": {
      "text/plain": [
       "0.9923736892278361"
      ]
     },
     "execution_count": 61,
     "metadata": {},
     "output_type": "execute_result"
    }
   ],
   "source": [
    "most_freq_class_count / len(eval_targs)"
   ]
  },
  {
   "cell_type": "markdown",
   "metadata": {},
   "source": [
    "#### Cohen's kappa\n",
    "\n",
    "This measure is intended to compare labelings by different human annotators (not a classifier vs. ground truth)\n",
    "\n",
    "Kappa socres are between -1 and 1 ( >= .8 is generally considered good agreement; <= 0 means no agreement ... e.g., practically random labels)"
   ]
  },
  {
   "cell_type": "code",
   "execution_count": 62,
   "metadata": {},
   "outputs": [
    {
     "name": "stdout",
     "output_type": "stream",
     "text": [
      "0.008510320351172163\n"
     ]
    }
   ],
   "source": [
    "print(skm.cohen_kappa_score(eval_targs, (eval_probs > threshold_f05).float(), \n",
    "                            weights=None, sample_weight=None))"
   ]
  },
  {
   "cell_type": "markdown",
   "metadata": {},
   "source": [
    "#### Confusion Matrix\n",
    "\n",
    "Describes the performance of a classification model"
   ]
  },
  {
   "cell_type": "code",
   "execution_count": 63,
   "metadata": {},
   "outputs": [],
   "source": [
    "def plot_confusion_matrix(cm, classes, normalize=False, \n",
    "                          title='Confusion matrix', cmap=plt.cm.Blues, print_info=False):\n",
    "    \"\"\"\n",
    "    This function prints and plots the confusion matrix.\n",
    "    Normalization can be applied by setting `normalize=True`.\n",
    "    \"\"\"\n",
    "    if normalize:\n",
    "        cm = cm.astype('float') / cm.sum(axis=1)[:, np.newaxis]\n",
    "        if (print_info): print(\"Normalized confusion matrix\")\n",
    "    else:\n",
    "        if (print_info): print('Confusion matrix, without normalization')\n",
    "\n",
    "    if (print_info): print(cm)\n",
    "\n",
    "    plt.imshow(cm, interpolation='nearest', cmap=cmap)\n",
    "    plt.title(title)\n",
    "    plt.colorbar(fraction=0.046, pad=0.04)\n",
    "    tick_marks = np.arange(len(classes))\n",
    "    plt.xticks(tick_marks, classes, rotation=45)\n",
    "    plt.yticks(tick_marks, classes)\n",
    "\n",
    "    fmt = '.2f' if normalize else 'd'\n",
    "    thresh = cm.max() / 2.\n",
    "    for i, j in itertools.product(range(cm.shape[0]), range(cm.shape[1])):\n",
    "        plt.text(j, i, format(cm[i, j], fmt),\n",
    "                 horizontalalignment=\"center\",\n",
    "                 color=\"white\" if cm[i, j] > thresh else \"black\")\n",
    "\n",
    "    plt.tight_layout()\n",
    "    plt.ylabel('True label')\n",
    "    plt.xlabel('Predicted label')\n",
    "    plt.grid(None)"
   ]
  },
  {
   "cell_type": "code",
   "execution_count": 64,
   "metadata": {},
   "outputs": [],
   "source": [
    "cm = skm.confusion_matrix(eval_targs, (eval_probs > threshold_f05).float(), sample_weight=None)"
   ]
  },
  {
   "cell_type": "code",
   "execution_count": 65,
   "metadata": {},
   "outputs": [
    {
     "data": {
      "image/png": "[encoded data removed]",
      "text/plain": [
       "<Figure size 864x576 with 4 Axes>"
      ]
     },
     "metadata": {},
     "output_type": "display_data"
    }
   ],
   "source": [
    "# Plot non-normalized confusion matrix\n",
    "fig = plt.figure(figsize=(12,8))\n",
    "plt.subplot(1, 2, 1)\n",
    "plot_confusion_matrix(cm, classes=u_classes,\n",
    "                      title='Confusion matrix, without normalization')\n",
    "\n",
    "# Plot normalized confusion matrix\n",
    "plt.subplot(1, 2, 2)\n",
    "plot_confusion_matrix(cm, classes=u_classes, normalize=True,\n",
    "                      title='Normalized confusion matrix')\n",
    "\n",
    "fig.subplots_adjust(wspace=0.5)\n",
    "plt.show()"
   ]
  },
  {
   "cell_type": "code",
   "execution_count": 66,
   "metadata": {},
   "outputs": [
    {
     "name": "stdout",
     "output_type": "stream",
     "text": [
      "              precision    recall  f1-score   support\n",
      "\n",
      "           0       0.99      0.76      0.86      1041\n",
      "           1       0.01      0.38      0.02         8\n",
      "\n",
      "    accuracy                           0.76      1049\n",
      "   macro avg       0.50      0.57      0.44      1049\n",
      "weighted avg       0.99      0.76      0.86      1049\n",
      "\n"
     ]
    }
   ],
   "source": [
    "print(skm.classification_report(eval_targs, (eval_probs > threshold_f05).float(), \n",
    "                                labels=[0,1], \n",
    "                                sample_weight=None, \n",
    "                                zero_division=1))"
   ]
  },
  {
   "cell_type": "markdown",
   "metadata": {},
   "source": [
    "#### Raw probability distribution\n",
    "\n",
    "Useful to see how the threshold can be adjusted to increase sensitivity or specificity"
   ]
  },
  {
   "cell_type": "code",
   "execution_count": 67,
   "metadata": {},
   "outputs": [
    {
     "data": {
      "text/plain": [
       "Text(0, 0.5, 'Frequency')"
      ]
     },
     "execution_count": 67,
     "metadata": {},
     "output_type": "execute_result"
    },
    {
     "data": {
      "image/png": "[encoded data removed]",
      "text/plain": [
       "<Figure size 648x432 with 1 Axes>"
      ]
     },
     "metadata": {},
     "output_type": "display_data"
    }
   ],
   "source": [
    "plt.hist(eval_probs, bins=10)\n",
    "# plt.xlim(0,1)\n",
    "plt.title('Histogram of predicted probabilities')\n",
    "plt.xlabel('Predicted probability of Labels')\n",
    "plt.ylabel('Frequency')"
   ]
  },
  {
   "cell_type": "markdown",
   "metadata": {},
   "source": [
    "#### ROC curves and Area Under the Curve (AUC)\n",
    "\n",
    "***ROC Curve*** answers the question, *\"How would sensitivity and specificity be affected by various thresholds without changing the threshold?\"*  It is a way **to visualize the performance of a binary classifier.**\n",
    "\n",
    "The ROC curve can help you **choose a threshold** that balances sensitivity and specificity based on your particular business case.\n",
    "\n",
    "ROC curves visualize all possible classification thresholds whereas misclassification rate only represents your error rate for a single threshold.\n",
    "\n",
    "A classifier that does a good job at separating the classes will have a ROC curve that hugs the upper left corner of the plot.  Converseley, a classifier the does a poor job separating the classes will have a ROC curve that is close to the diagonal line (0,0 -> 1,1).  That diagonal line represents a classifier that does no better than random guessing."
   ]
  },
  {
   "cell_type": "code",
   "execution_count": 68,
   "metadata": {},
   "outputs": [],
   "source": [
    "fpr, tpr, thresholds = skm.roc_curve(eval_targs, eval_probs, sample_weight=None)"
   ]
  },
  {
   "cell_type": "code",
   "execution_count": 69,
   "metadata": {},
   "outputs": [
    {
     "data": {
      "image/png": "[encoded data removed]",
      "text/plain": [
       "<Figure size 648x432 with 1 Axes>"
      ]
     },
     "metadata": {},
     "output_type": "display_data"
    }
   ],
   "source": [
    "plt.plot(fpr, tpr)\n",
    "plt.xlim = ([0.0, 1.0])\n",
    "plt.ylim = ([0.0, 1.0])\n",
    "plt.title('ROC curve for all labels')\n",
    "plt.xlabel('False Positive Rate (1 - Specificity)')\n",
    "plt.ylabel('True Positive Rate (Sensitivity/Recall)')\n",
    "plt.grid(True)"
   ]
  },
  {
   "cell_type": "markdown",
   "metadata": {},
   "source": [
    "***AUC*** = the percentage of the ROC plot that is underneath the curve.  \n",
    "\n",
    "AUC summarizes the performance of a classifier in a **single number**.  It says, *\"If you randomly chose one positive and one negative observation, what is the likelihood that your classifier will assign a higher predicted probability to the positive observation.\"*\n",
    "\n",
    "**An AUC of ~ 0.8 is very good while an AUC of ~ 0.5 represents a poor classifier.**\n",
    "\n",
    "The ROC curve and AUC are insensitive to whether your predicted probabilities are properly calibrated to actually represent probabilities of class membership (e.g., it works if predicted probs range from 0.9 to 1 instead of 0 to 1).  All the AUC metric cares about is how well your classifier separated the two classes\n",
    "\n",
    "Notes:\n",
    "1.  AUC is useful even when there is **high class imbalance** (unlike classification accuracy)\n",
    "2.  AUC is useful even when predicted probabilities are not properly calibrated (e.g., not between 0 and 1)"
   ]
  },
  {
   "cell_type": "code",
   "execution_count": 70,
   "metadata": {},
   "outputs": [
    {
     "name": "stdout",
     "output_type": "stream",
     "text": [
      "0.6300432276657061\n"
     ]
    }
   ],
   "source": [
    "print(skm.roc_auc_score(eval_targs, eval_probs, average='weighted', sample_weight=None))"
   ]
  },
  {
   "cell_type": "markdown",
   "metadata": {},
   "source": [
    "### Overall metrics - is_example_prob_true"
   ]
  },
  {
   "cell_type": "code",
   "execution_count": 71,
   "metadata": {},
   "outputs": [
    {
     "data": {
      "text/plain": [
       "0.76950264"
      ]
     },
     "execution_count": 71,
     "metadata": {},
     "output_type": "execute_result"
    }
   ],
   "source": [
    "# mse\n",
    "skm.mean_squared_error(targs[0], probs[0])"
   ]
  },
  {
   "cell_type": "code",
   "execution_count": 72,
   "metadata": {},
   "outputs": [
    {
     "data": {
      "text/plain": [
       "0.8772129956689583"
      ]
     },
     "execution_count": 72,
     "metadata": {},
     "output_type": "execute_result"
    }
   ],
   "source": [
    "# rmse\n",
    "math.sqrt(skm.mean_squared_error(targs[0], probs[0]))"
   ]
  },
  {
   "cell_type": "code",
   "execution_count": 73,
   "metadata": {},
   "outputs": [
    {
     "data": {
      "text/plain": [
       "0.69318205"
      ]
     },
     "execution_count": 73,
     "metadata": {},
     "output_type": "execute_result"
    }
   ],
   "source": [
    "# mae\n",
    "skm.mean_absolute_error(targs[0], probs[0])"
   ]
  },
  {
   "cell_type": "markdown",
   "metadata": {},
   "source": [
    "## Train/Evaluate"
   ]
  },
  {
   "cell_type": "code",
   "execution_count": 74,
   "metadata": {},
   "outputs": [],
   "source": [
    "try:\n",
    "    inf_learn.purge(); inf_learn = None;\n",
    "    gc.collect()\n",
    "    torch.cuda.empty_cache()\n",
    "except: pass\n",
    "\n",
    "inf_learn = load_learner(STANDARD_THEME_META_PATH/f'{m_pre}export_mm{m_suf}.pkl')\n",
    "inf_learn.loss_func.loss_funcs[1].func.weight = inf_learn.loss_func.loss_funcs[1].func.weight.to(dls.device)\n",
    "dls = get_meta_standard_theme_train_dls(df, hf_arch, hf_tokenizer)\n",
    "inf_learn.dls = dls"
   ]
  },
  {
   "cell_type": "code",
   "execution_count": 75,
   "metadata": {},
   "outputs": [
    {
     "data": {
      "text/html": [],
      "text/plain": [
       "<IPython.core.display.HTML object>"
      ]
     },
     "metadata": {},
     "output_type": "display_data"
    }
   ],
   "source": [
    "probs, targs, losses = inf_learn.get_preds(with_loss=True, reorder=True)"
   ]
  },
  {
   "cell_type": "markdown",
   "metadata": {},
   "source": [
    "### Results"
   ]
  },
  {
   "cell_type": "code",
   "execution_count": 76,
   "metadata": {},
   "outputs": [],
   "source": [
    "# determine optimal threshold based on desired f-score\n",
    "f05 = OptimalMultiThresholdMetrics(beta=0.5, start=0.05, end=.9, sigmoid=False, average='binary', sample_weight=None)\n",
    "f1 = OptimalMultiThresholdMetrics(beta=1, start=0.05, end=.9, sigmoid=False, average='binary', sample_weight=None)\n",
    "f2 = OptimalMultiThresholdMetrics(beta=2, start=0.05, end=.9, sigmoid=False, average='binary', sample_weight=None)"
   ]
  },
  {
   "cell_type": "code",
   "execution_count": 77,
   "metadata": {},
   "outputs": [],
   "source": [
    "is_example_prob_true = torch.softmax(probs[1], dim=-1)[:,1]"
   ]
  },
  {
   "cell_type": "code",
   "execution_count": 78,
   "metadata": {},
   "outputs": [
    {
     "name": "stdout",
     "output_type": "stream",
     "text": [
      "0.33 0.33 0.33\n",
      "Fowards Only\n",
      "-------------\n",
      "f05:\tOptimal threshold = 0.33\t(Accuracy = 0.7588179111480713)\n",
      "f1:\tOptimal threshold = 0.33\t(Accuracy = 0.7588179111480713)\n",
      "f2:\tOptimal threshold = 0.33\t(Accuracy = 0.7588179111480713)\n",
      "\n",
      "Accuracy: 0.9923737049102783\n"
     ]
    }
   ],
   "source": [
    "# determine optimal threshold based on desired f-score\n",
    "threshold_f05 = f05.opt_th(is_example_prob_true, targs[1])\n",
    "threshold_f1 = f1.opt_th(is_example_prob_true, targs[1])\n",
    "threshold_f2 = f2.opt_th(is_example_prob_true, targs[1])\n",
    "\n",
    "print(threshold_f05, threshold_f1, threshold_f2)\n",
    "\n",
    "# determine accuracy based on optimal threshold\n",
    "val_acc_f05 = accuracy_multi(is_example_prob_true, targs[1], threshold_f05, sigmoid=False).item()\n",
    "val_acc_f1 = accuracy_multi(is_example_prob_true, targs[1], threshold_f1, sigmoid=False).item()\n",
    "val_acc_f2 = accuracy_multi(is_example_prob_true, targs[1], threshold_f2, sigmoid=False).item()\n",
    "\n",
    "print('Fowards Only\\n-------------')\n",
    "print(f'f05:\\tOptimal threshold = {threshold_f05}\\t(Accuracy = {val_acc_f05})')\n",
    "print(f'f1:\\tOptimal threshold = {threshold_f1}\\t(Accuracy = {val_acc_f1})')\n",
    "print(f'f2:\\tOptimal threshold = {threshold_f2}\\t(Accuracy = {val_acc_f2})')\n",
    "\n",
    "print(f'\\nAccuracy: {accuracy_multi(is_example_prob_true, targs[1], sigmoid=False)}')"
   ]
  },
  {
   "cell_type": "code",
   "execution_count": 79,
   "metadata": {},
   "outputs": [
    {
     "data": {
      "text/plain": [
       "(0.69318205, 0.76950264, 0.8772129956689583)"
      ]
     },
     "execution_count": 79,
     "metadata": {},
     "output_type": "execute_result"
    }
   ],
   "source": [
    "mae = skm.mean_absolute_error(targs[0], probs[0])\n",
    "mse = skm.mean_squared_error(targs[0], probs[0])\n",
    "rmse = math.sqrt(skm.mean_squared_error(targs[0], probs[0]))\n",
    "\n",
    "mae, mse, rmse"
   ]
  },
  {
   "cell_type": "code",
   "execution_count": 80,
   "metadata": {},
   "outputs": [
    {
     "data": {
      "text/plain": [
       "0.9588940143585205"
      ]
     },
     "execution_count": 80,
     "metadata": {},
     "output_type": "execute_result"
    }
   ],
   "source": [
    "final_valid_loss = loss.mean().item(); final_valid_loss"
   ]
  },
  {
   "cell_type": "markdown",
   "metadata": {},
   "source": [
    "## Codify our training/eval loop and score reporting"
   ]
  },
  {
   "cell_type": "code",
   "execution_count": 81,
   "metadata": {},
   "outputs": [],
   "source": [
    "#export\n",
    "def train(hf_arch, hf_config, hf_tokenizer, hf_model, train_config={}):\n",
    "          \n",
    "    config = {**meta_standard_themes_train_config, **train_config}    \n",
    "    m_pre, m_suf = config['m_pre'], config['m_suf']\n",
    "    \n",
    "    df = get_meta_standard_theme_train_data(train_config=config)\n",
    "    train_df, valid_df = df[df.is_valid == False], df[df.is_valid == True]\n",
    "    \n",
    "    dls = get_meta_standard_theme_train_dls(df, hf_arch, hf_tokenizer, train_config=config)\n",
    "    \n",
    "    learn, fit_cbs = get_learner(hf_model, dls, train_df=None, use_weighted_loss=False, train_config=config)\n",
    "    \n",
    "    with learn.no_logging(): \n",
    "        lr_min, lr_steep = learn.lr_find()\n",
    "        learn.fit_one_cycle(1, lr_max=lr_min, cbs=fit_cbs)\n",
    "        \n",
    "        learn.unfreeze()\n",
    "        lr_min, lr_steep = learn.lr_find()\n",
    "        learn.fit_one_cycle(10, lr_max=slice(lr_min/10, lr_min), cbs=fit_cbs)\n",
    "        \n",
    "        # export model for inference (SavedModelCallback already saves the best model)\n",
    "        learn.export(fname=config['export_filename'])\n",
    "        \n",
    "    # ===== fetch scores, probs, targs, losses, and optional f-scores/thresholds ====\n",
    "    learn = learn.load(config['save_model_filename'])\n",
    "    scores = dict(zip(learn.recorder.metric_names[2:], learn.validate()))\n",
    "    probs, targs, losses = learn.get_preds(dl=dls.valid, with_loss=True)\n",
    "    \n",
    "    # determine optimal threshold based on desired f-score\n",
    "    average, sample_weight = config['opt_beta_average'], config['opt_beta_sample_weight']\n",
    "\n",
    "    f05 = OptimalMultiThresholdMetrics(beta=0.5, start=0.05, end=.5, sigmoid=False, \n",
    "                                       average=average, sample_weight=sample_weight)\n",
    "    f1 = OptimalMultiThresholdMetrics(beta=1, start=0.05, end=.5, sigmoid=False, \n",
    "                                       average=average, sample_weight=sample_weight)\n",
    "    f2 = OptimalMultiThresholdMetrics(beta=2, start=0.05, end=.5, sigmoid=False, \n",
    "                                       average=average, sample_weight=sample_weight)\n",
    "\n",
    "    is_example_prob_true = torch.softmax(probs[1], dim=-1)[:,1]\n",
    "    scores['is_example_f05'], scores['is_example_f1'], scores['is_example_f2'] = {}, {}, {}\n",
    "    \n",
    "    scores['is_example_f05']['threshold'] = f05.opt_th(is_example_prob_true, targs[1])\n",
    "    scores['is_example_f1']['threshold'] = f1.opt_th(is_example_prob_true, targs[1])\n",
    "    scores['is_example_f2']['threshold'] = f2.opt_th(is_example_prob_true, targs[1])\n",
    "    \n",
    "    scores['is_example_f05']['score'] = f05.opt_fscore(is_example_prob_true, targs[1])\n",
    "    scores['is_example_f1']['score'] = f1.opt_fscore(is_example_prob_true, targs[1])\n",
    "    scores['is_example_f2']['score'] = f2.opt_fscore(is_example_prob_true, targs[1])\n",
    "    \n",
    "    scores['sentiment'] = {\n",
    "        'mae': skm.mean_absolute_error(targs[0], probs[0]),\n",
    "        'mse': skm.mean_squared_error(targs[0], probs[0]),\n",
    "        'rmse': math.sqrt(skm.mean_squared_error(targs[0], probs[0]))\n",
    "    }\n",
    "    \n",
    "    # save scores from validation set    \n",
    "    yyyymmdd = datetime.today().strftime(\"%Y%m%d\")\n",
    "          \n",
    "    with open(f\"{config['learner_path']}/{yyyymmdd}_model_scores{m_suf}.pkl\", 'wb') as f:\n",
    "        pickle.dump(scores, f)\n",
    "        \n",
    "    # save train/validation probs, targs, losses for review\n",
    "    test_dl = dls.test_dl(df, with_labels=True)\n",
    "    probs, targs, losses = learn.get_preds(dl=test_dl, with_loss=True)\n",
    "    is_example_prob_true = torch.softmax(probs[1], dim=-1)[:,1]\n",
    "    \n",
    "    probs_df = pd.DataFrame(np.concatenate((probs[0].numpy(), is_example_prob_true[:,None]), axis=-1), \n",
    "                            columns=['pred_sentiment', 'prob_is_example'])\n",
    "    targs_df = pd.DataFrame(np.concatenate((targs[0].numpy()[:,None], targs[1].numpy()[:,None]), axis=-1), \n",
    "                            columns= ['targ_sentiment', 'targ_is_example'])\n",
    "    losses_df = pd.DataFrame(losses.numpy(), columns=['loss'])\n",
    "    final_df = pd.concat([df.reset_index(), probs_df, targs_df, losses_df], axis=1)\n",
    "    \n",
    "    final_df.to_csv(f\"{config['learner_path']}/{yyyymmdd}_model_preds{m_suf}.csv\", index=False)\n",
    "        \n",
    "    return scores, final_df"
   ]
  },
  {
   "cell_type": "code",
   "execution_count": 82,
   "metadata": {},
   "outputs": [
    {
     "name": "stderr",
     "output_type": "stream",
     "text": [
      "Some weights of the model checkpoint at facebook/bart-base were not used when initializing BartForSequenceClassification: ['final_logits_bias']\n",
      "- This IS expected if you are initializing BartForSequenceClassification from the checkpoint of a model trained on another task or with another architecture (e.g. initializing a BertForSequenceClassification model from a BertForPretraining model).\n",
      "- This IS NOT expected if you are initializing BartForSequenceClassification from the checkpoint of a model that you expect to be exactly identical (initializing a BertForSequenceClassification model from a BertForSequenceClassification model).\n",
      "Some weights of BartForSequenceClassification were not initialized from the model checkpoint at facebook/bart-base and are newly initialized: ['classification_head.dense.weight', 'classification_head.dense.bias', 'classification_head.out_proj.weight', 'classification_head.out_proj.bias']\n",
      "You should probably TRAIN this model on a down-stream task to be able to use it for predictions and inference.\n"
     ]
    }
   ],
   "source": [
    "task = HF_TASKS_AUTO.SequenceClassification\n",
    "\n",
    "pretrained_model_name = 'facebook/bart-base' #\"bert-base-cased\" #\"roberta-base\"\n",
    "config = AutoConfig.from_pretrained(pretrained_model_name)\n",
    "config.attention_probs_dropout_prob = 0.1 * 2\n",
    "config.hidden_dropout_prob = 0.1 * 2\n",
    "\n",
    "hf_arch, hf_config, hf_tokenizer, hf_model = BLURR_MODEL_HELPER.get_hf_objects(pretrained_model_name, \n",
    "                                                                               task=task, \n",
    "                                                                               config=config)"
   ]
  },
  {
   "cell_type": "code",
   "execution_count": 83,
   "metadata": {},
   "outputs": [
    {
     "data": {
      "text/html": [],
      "text/plain": [
       "<IPython.core.display.HTML object>"
      ]
     },
     "metadata": {},
     "output_type": "display_data"
    },
    {
     "data": {
      "text/html": [],
      "text/plain": [
       "<IPython.core.display.HTML object>"
      ]
     },
     "metadata": {},
     "output_type": "display_data"
    },
    {
     "name": "stdout",
     "output_type": "stream",
     "text": [
      "Better model found at epoch 0 with valid_loss value: 0.4347231388092041.\n"
     ]
    },
    {
     "data": {
      "text/html": [],
      "text/plain": [
       "<IPython.core.display.HTML object>"
      ]
     },
     "metadata": {},
     "output_type": "display_data"
    },
    {
     "data": {
      "text/html": [],
      "text/plain": [
       "<IPython.core.display.HTML object>"
      ]
     },
     "metadata": {},
     "output_type": "display_data"
    },
    {
     "name": "stdout",
     "output_type": "stream",
     "text": [
      "Better model found at epoch 0 with valid_loss value: 0.4346519112586975.\n",
      "Better model found at epoch 1 with valid_loss value: 0.43394577503204346.\n",
      "Better model found at epoch 2 with valid_loss value: 0.43303728103637695.\n",
      "Better model found at epoch 3 with valid_loss value: 0.43158549070358276.\n",
      "Better model found at epoch 4 with valid_loss value: 0.43014824390411377.\n",
      "Better model found at epoch 5 with valid_loss value: 0.42900246381759644.\n",
      "Better model found at epoch 6 with valid_loss value: 0.4281807541847229.\n",
      "Better model found at epoch 7 with valid_loss value: 0.4278009831905365.\n",
      "Better model found at epoch 8 with valid_loss value: 0.4276268482208252.\n"
     ]
    },
    {
     "data": {
      "text/html": [],
      "text/plain": [
       "<IPython.core.display.HTML object>"
      ]
     },
     "metadata": {},
     "output_type": "display_data"
    },
    {
     "data": {
      "text/html": [],
      "text/plain": [
       "<IPython.core.display.HTML object>"
      ]
     },
     "metadata": {},
     "output_type": "display_data"
    },
    {
     "data": {
      "text/html": [],
      "text/plain": [
       "<IPython.core.display.HTML object>"
      ]
     },
     "metadata": {},
     "output_type": "display_data"
    },
    {
     "data": {
      "image/png": "[encoded data removed]",
      "text/plain": [
       "<Figure size 648x432 with 1 Axes>"
      ]
     },
     "metadata": {},
     "output_type": "display_data"
    },
    {
     "data": {
      "image/png": "[encoded data removed]",
      "text/plain": [
       "<Figure size 648x432 with 1 Axes>"
      ]
     },
     "metadata": {},
     "output_type": "display_data"
    }
   ],
   "source": [
    "scores, preds_df = train(hf_arch, hf_config, hf_tokenizer, hf_model, train_config={})"
   ]
  },
  {
   "cell_type": "code",
   "execution_count": 84,
   "metadata": {},
   "outputs": [
    {
     "data": {
      "text/plain": [
       "{'valid_loss': 0.4276268482208252,\n",
       " 'sentiment_mse': 0.42372608184814453,\n",
       " 'is_example_acc': 0.9923737049102783,\n",
       " 'is_example_f05': {'threshold': 0.28, 'score': 0.11029411764705882},\n",
       " 'is_example_f1': {'threshold': 0.28, 'score': 0.15},\n",
       " 'is_example_f2': {'threshold': 0.28, 'score': 0.234375},\n",
       " 'sentiment': {'mae': 0.4667339, 'mse': 0.42372608, 'rmse': 0.650942456633568}}"
      ]
     },
     "execution_count": 84,
     "metadata": {},
     "output_type": "execute_result"
    }
   ],
   "source": [
    "scores"
   ]
  },
  {
   "cell_type": "code",
   "execution_count": 85,
   "metadata": {},
   "outputs": [
    {
     "data": {
      "text/html": [
       "<div>\n",
       "<style scoped>\n",
       "    .dataframe tbody tr th:only-of-type {\n",
       "        vertical-align: middle;\n",
       "    }\n",
       "\n",
       "    .dataframe tbody tr th {\n",
       "        vertical-align: top;\n",
       "    }\n",
       "\n",
       "    .dataframe thead th {\n",
       "        text-align: right;\n",
       "    }\n",
       "</style>\n",
       "<table border=\"1\" class=\"dataframe\">\n",
       "  <thead>\n",
       "    <tr style=\"text-align: right;\">\n",
       "      <th></th>\n",
       "      <th>index</th>\n",
       "      <th>id</th>\n",
       "      <th>question_ans_id</th>\n",
       "      <th>answer_text</th>\n",
       "      <th>answer_text_non_english</th>\n",
       "      <th>language</th>\n",
       "      <th>survey_id</th>\n",
       "      <th>survey_type_id</th>\n",
       "      <th>benchmark_survey_type</th>\n",
       "      <th>client_id</th>\n",
       "      <th>rsp_id</th>\n",
       "      <th>question_category_abbr</th>\n",
       "      <th>question_text</th>\n",
       "      <th>question_class</th>\n",
       "      <th>question_category_id</th>\n",
       "      <th>question_report_abbr</th>\n",
       "      <th>question_category_label</th>\n",
       "      <th>benchmark_level1</th>\n",
       "      <th>benchmark_level2</th>\n",
       "      <th>benchmark_level3</th>\n",
       "      <th>client_benchmark_level</th>\n",
       "      <th>group_code</th>\n",
       "      <th>group_id</th>\n",
       "      <th>group_level1_code</th>\n",
       "      <th>group_level1_name</th>\n",
       "      <th>group_level2_code</th>\n",
       "      <th>group_level2_name</th>\n",
       "      <th>group_level3_code</th>\n",
       "      <th>group_level3_name</th>\n",
       "      <th>group_level4_code</th>\n",
       "      <th>group_level4_name</th>\n",
       "      <th>group_level5_code</th>\n",
       "      <th>group_level5_name</th>\n",
       "      <th>group_level6_code</th>\n",
       "      <th>group_level6_name</th>\n",
       "      <th>group_level7_code</th>\n",
       "      <th>group_level7_name</th>\n",
       "      <th>group_level8_code</th>\n",
       "      <th>group_level8_name</th>\n",
       "      <th>standard_theme_id</th>\n",
       "      <th>theme</th>\n",
       "      <th>url_friendly_theme</th>\n",
       "      <th>theme_display_order</th>\n",
       "      <th>avg_sentiment</th>\n",
       "      <th>is_example</th>\n",
       "      <th>is_valid</th>\n",
       "      <th>pred_sentiment</th>\n",
       "      <th>prob_is_example</th>\n",
       "      <th>targ_sentiment</th>\n",
       "      <th>targ_is_example</th>\n",
       "      <th>loss</th>\n",
       "    </tr>\n",
       "  </thead>\n",
       "  <tbody>\n",
       "    <tr>\n",
       "      <th>0</th>\n",
       "      <td>0</td>\n",
       "      <td>594369</td>\n",
       "      <td>12281</td>\n",
       "      <td>Handling things such as child support and wage garnishment/levies is inconsistent and has led to...</td>\n",
       "      <td>NaN</td>\n",
       "      <td>English</td>\n",
       "      <td>215</td>\n",
       "      <td>15</td>\n",
       "      <td>CSS-FACULTY-STAFF-ONLY</td>\n",
       "      <td>UCSD</td>\n",
       "      <td>453733</td>\n",
       "      <td>Payroll</td>\n",
       "      <td>Let us know your suggestions on how to improve Payroll.</td>\n",
       "      <td>Verbatim-Dept-Improve</td>\n",
       "      <td>88.0</td>\n",
       "      <td>Payroll_Improve</td>\n",
       "      <td>Payroll</td>\n",
       "      <td>Human Resources</td>\n",
       "      <td>Payroll Services</td>\n",
       "      <td>Payroll</td>\n",
       "      <td>1.0</td>\n",
       "      <td>-1.0</td>\n",
       "      <td>-1</td>\n",
       "      <td>-1.0</td>\n",
       "      <td>None</td>\n",
       "      <td>NaN</td>\n",
       "      <td>NaN</td>\n",
       "      <td>NaN</td>\n",
       "      <td>NaN</td>\n",
       "      <td>NaN</td>\n",
       "      <td>NaN</td>\n",
       "      <td>NaN</td>\n",
       "      <td>NaN</td>\n",
       "      <td>NaN</td>\n",
       "      <td>NaN</td>\n",
       "      <td>NaN</td>\n",
       "      <td>NaN</td>\n",
       "      <td>NaN</td>\n",
       "      <td>NaN</td>\n",
       "      <td>35</td>\n",
       "      <td>Consistency in Policies, Information</td>\n",
       "      <td>ConsistencyInPoliciesInformation</td>\n",
       "      <td>1</td>\n",
       "      <td>2.0</td>\n",
       "      <td>0</td>\n",
       "      <td>False</td>\n",
       "      <td>1.968750</td>\n",
       "      <td>0.271205</td>\n",
       "      <td>2.0</td>\n",
       "      <td>0.0</td>\n",
       "      <td>0.001552</td>\n",
       "    </tr>\n",
       "    <tr>\n",
       "      <th>1</th>\n",
       "      <td>1</td>\n",
       "      <td>589686</td>\n",
       "      <td>2576</td>\n",
       "      <td>Diversity is such an important part o UC mission and yet some places its not seen as much it is ...</td>\n",
       "      <td>NaN</td>\n",
       "      <td>English</td>\n",
       "      <td>212</td>\n",
       "      <td>9</td>\n",
       "      <td>SAW</td>\n",
       "      <td>UCSD</td>\n",
       "      <td>447092</td>\n",
       "      <td>C&amp;B</td>\n",
       "      <td>21. If you would like to elaborate on any of your answers to the conduct and behavioral question...</td>\n",
       "      <td>Verbatim</td>\n",
       "      <td>1240.0</td>\n",
       "      <td>Conduct &amp; Behavioral - Comments</td>\n",
       "      <td>Conduct &amp; Behavioral</td>\n",
       "      <td>None</td>\n",
       "      <td>None</td>\n",
       "      <td>None</td>\n",
       "      <td>3.0</td>\n",
       "      <td>90890.0</td>\n",
       "      <td>3662</td>\n",
       "      <td>999999.0</td>\n",
       "      <td>UC San Diego</td>\n",
       "      <td>90000.0</td>\n",
       "      <td>VICE CHANCELLOR HEALTH SCIENCES</td>\n",
       "      <td>93000.0</td>\n",
       "      <td>SCHOOL OF MEDICINE</td>\n",
       "      <td>90890.0</td>\n",
       "      <td>DERMATOLOGY</td>\n",
       "      <td>NaN</td>\n",
       "      <td>NaN</td>\n",
       "      <td>NaN</td>\n",
       "      <td>NaN</td>\n",
       "      <td>NaN</td>\n",
       "      <td>NaN</td>\n",
       "      <td>NaN</td>\n",
       "      <td>NaN</td>\n",
       "      <td>17</td>\n",
       "      <td>Satisfied with Diversity Progams</td>\n",
       "      <td>SatisfiedWithDiversityProgams</td>\n",
       "      <td>1</td>\n",
       "      <td>2.5</td>\n",
       "      <td>0</td>\n",
       "      <td>False</td>\n",
       "      <td>2.960938</td>\n",
       "      <td>0.270682</td>\n",
       "      <td>2.5</td>\n",
       "      <td>0.0</td>\n",
       "      <td>0.212906</td>\n",
       "    </tr>\n",
       "    <tr>\n",
       "      <th>2</th>\n",
       "      <td>2</td>\n",
       "      <td>605320</td>\n",
       "      <td>75138</td>\n",
       "      <td>Better trained technicians. Better communication within the online post box. Check the online po...</td>\n",
       "      <td>NaN</td>\n",
       "      <td>English</td>\n",
       "      <td>215</td>\n",
       "      <td>15</td>\n",
       "      <td>CSS-FACULTY-STAFF-ONLY</td>\n",
       "      <td>UCSD</td>\n",
       "      <td>457424</td>\n",
       "      <td>IT Serviec Desk</td>\n",
       "      <td>Let us know your suggestions on how to improve ITS Service Desk.</td>\n",
       "      <td>Verbatim-Dept-Improve</td>\n",
       "      <td>56.0</td>\n",
       "      <td>ITS Service Desk_Improve</td>\n",
       "      <td>IT Service Desk</td>\n",
       "      <td>ITS</td>\n",
       "      <td>ITS - General</td>\n",
       "      <td>IT Help Desk</td>\n",
       "      <td>1.0</td>\n",
       "      <td>-1.0</td>\n",
       "      <td>-1</td>\n",
       "      <td>-1.0</td>\n",
       "      <td>None</td>\n",
       "      <td>NaN</td>\n",
       "      <td>NaN</td>\n",
       "      <td>NaN</td>\n",
       "      <td>NaN</td>\n",
       "      <td>NaN</td>\n",
       "      <td>NaN</td>\n",
       "      <td>NaN</td>\n",
       "      <td>NaN</td>\n",
       "      <td>NaN</td>\n",
       "      <td>NaN</td>\n",
       "      <td>NaN</td>\n",
       "      <td>NaN</td>\n",
       "      <td>NaN</td>\n",
       "      <td>NaN</td>\n",
       "      <td>28</td>\n",
       "      <td>Resolves Problems Effectively</td>\n",
       "      <td>ResolvesProblemsEffectively</td>\n",
       "      <td>1</td>\n",
       "      <td>2.0</td>\n",
       "      <td>0</td>\n",
       "      <td>False</td>\n",
       "      <td>1.935547</td>\n",
       "      <td>0.269454</td>\n",
       "      <td>2.0</td>\n",
       "      <td>0.0</td>\n",
       "      <td>0.004284</td>\n",
       "    </tr>\n",
       "    <tr>\n",
       "      <th>3</th>\n",
       "      <td>3</td>\n",
       "      <td>588932</td>\n",
       "      <td>1877</td>\n",
       "      <td>The past 3-4 years, I feel my co-worker took extensive credit for the work that couldn't have be...</td>\n",
       "      <td>NaN</td>\n",
       "      <td>English</td>\n",
       "      <td>212</td>\n",
       "      <td>9</td>\n",
       "      <td>SAW</td>\n",
       "      <td>UCSD</td>\n",
       "      <td>449351</td>\n",
       "      <td>None</td>\n",
       "      <td>59. If you would like to elaborate on your responses above, or if you have any additional feedba...</td>\n",
       "      <td>Verbatim</td>\n",
       "      <td>201.0</td>\n",
       "      <td>Comments re Work Environment at UCSD</td>\n",
       "      <td>Other</td>\n",
       "      <td>None</td>\n",
       "      <td>None</td>\n",
       "      <td>None</td>\n",
       "      <td>1.0</td>\n",
       "      <td>11804.0</td>\n",
       "      <td>3482</td>\n",
       "      <td>999999.0</td>\n",
       "      <td>UC San Diego</td>\n",
       "      <td>10000.0</td>\n",
       "      <td>ACADEMIC AFFAIRS</td>\n",
       "      <td>10016.0</td>\n",
       "      <td>UNIVERSITY LIBRARY</td>\n",
       "      <td>11804.0</td>\n",
       "      <td>LIBRARY - ENTERPRISE SERVICES</td>\n",
       "      <td>NaN</td>\n",
       "      <td>NaN</td>\n",
       "      <td>NaN</td>\n",
       "      <td>NaN</td>\n",
       "      <td>NaN</td>\n",
       "      <td>NaN</td>\n",
       "      <td>NaN</td>\n",
       "      <td>NaN</td>\n",
       "      <td>40</td>\n",
       "      <td>Favoritism/Cliques</td>\n",
       "      <td>FavoritismCliques</td>\n",
       "      <td>1</td>\n",
       "      <td>2.0</td>\n",
       "      <td>0</td>\n",
       "      <td>False</td>\n",
       "      <td>2.417969</td>\n",
       "      <td>0.274234</td>\n",
       "      <td>2.0</td>\n",
       "      <td>0.0</td>\n",
       "      <td>0.176045</td>\n",
       "    </tr>\n",
       "    <tr>\n",
       "      <th>4</th>\n",
       "      <td>4</td>\n",
       "      <td>594169</td>\n",
       "      <td>12244</td>\n",
       "      <td>Great</td>\n",
       "      <td>NaN</td>\n",
       "      <td>English</td>\n",
       "      <td>215</td>\n",
       "      <td>15</td>\n",
       "      <td>CSS-FACULTY-STAFF-ONLY</td>\n",
       "      <td>UCSD</td>\n",
       "      <td>453580</td>\n",
       "      <td>Dining</td>\n",
       "      <td>Let us know your suggestions on how to improve HDH Dining Services.</td>\n",
       "      <td>Verbatim-Dept-Improve</td>\n",
       "      <td>69.0</td>\n",
       "      <td>Dining_Improve</td>\n",
       "      <td>Dining Services</td>\n",
       "      <td>Auxiliary Services</td>\n",
       "      <td>Dining, Catering, &amp; Retail Services</td>\n",
       "      <td>Dining Services</td>\n",
       "      <td>1.0</td>\n",
       "      <td>-1.0</td>\n",
       "      <td>-1</td>\n",
       "      <td>-1.0</td>\n",
       "      <td>None</td>\n",
       "      <td>NaN</td>\n",
       "      <td>NaN</td>\n",
       "      <td>NaN</td>\n",
       "      <td>NaN</td>\n",
       "      <td>NaN</td>\n",
       "      <td>NaN</td>\n",
       "      <td>NaN</td>\n",
       "      <td>NaN</td>\n",
       "      <td>NaN</td>\n",
       "      <td>NaN</td>\n",
       "      <td>NaN</td>\n",
       "      <td>NaN</td>\n",
       "      <td>NaN</td>\n",
       "      <td>NaN</td>\n",
       "      <td>37</td>\n",
       "      <td>Overall Satisfaction</td>\n",
       "      <td>OverallSatisfaction</td>\n",
       "      <td>1</td>\n",
       "      <td>3.0</td>\n",
       "      <td>0</td>\n",
       "      <td>False</td>\n",
       "      <td>4.335938</td>\n",
       "      <td>0.269186</td>\n",
       "      <td>3.0</td>\n",
       "      <td>0.0</td>\n",
       "      <td>1.784791</td>\n",
       "    </tr>\n",
       "  </tbody>\n",
       "</table>\n",
       "</div>"
      ],
      "text/plain": [
       "   index      id  question_ans_id                                                                                          answer_text  answer_text_non_english language  survey_id  survey_type_id   benchmark_survey_type client_id  rsp_id question_category_abbr                                                                                        question_text         question_class  question_category_id                  question_report_abbr question_category_label    benchmark_level1                     benchmark_level2 benchmark_level3  client_benchmark_level  group_code  group_id  group_level1_code group_level1_name  group_level2_code                group_level2_name  group_level3_code   group_level3_name  group_level4_code              group_level4_name  group_level5_code group_level5_name  group_level6_code group_level6_name  group_level7_code  group_level7_name  group_level8_code  group_level8_name  standard_theme_id                                 theme  \\\n",
       "0      0  594369            12281  Handling things such as child support and wage garnishment/levies is inconsistent and has led to...                      NaN  English        215              15  CSS-FACULTY-STAFF-ONLY      UCSD  453733                Payroll                                              Let us know your suggestions on how to improve Payroll.  Verbatim-Dept-Improve                  88.0                       Payroll_Improve                 Payroll     Human Resources                     Payroll Services          Payroll                     1.0        -1.0        -1               -1.0              None                NaN                              NaN                NaN                 NaN                NaN                            NaN                NaN               NaN                NaN               NaN                NaN                NaN                NaN                NaN                 35  Consistency in Policies, Information   \n",
       "1      1  589686             2576  Diversity is such an important part o UC mission and yet some places its not seen as much it is ...                      NaN  English        212               9                     SAW      UCSD  447092                    C&B  21. If you would like to elaborate on any of your answers to the conduct and behavioral question...               Verbatim                1240.0       Conduct & Behavioral - Comments    Conduct & Behavioral                None                                 None             None                     3.0     90890.0      3662           999999.0      UC San Diego            90000.0  VICE CHANCELLOR HEALTH SCIENCES            93000.0  SCHOOL OF MEDICINE            90890.0                    DERMATOLOGY                NaN               NaN                NaN               NaN                NaN                NaN                NaN                NaN                 17      Satisfied with Diversity Progams   \n",
       "2      2  605320            75138  Better trained technicians. Better communication within the online post box. Check the online po...                      NaN  English        215              15  CSS-FACULTY-STAFF-ONLY      UCSD  457424        IT Serviec Desk                                     Let us know your suggestions on how to improve ITS Service Desk.  Verbatim-Dept-Improve                  56.0              ITS Service Desk_Improve         IT Service Desk                 ITS                        ITS - General     IT Help Desk                     1.0        -1.0        -1               -1.0              None                NaN                              NaN                NaN                 NaN                NaN                            NaN                NaN               NaN                NaN               NaN                NaN                NaN                NaN                NaN                 28         Resolves Problems Effectively   \n",
       "3      3  588932             1877  The past 3-4 years, I feel my co-worker took extensive credit for the work that couldn't have be...                      NaN  English        212               9                     SAW      UCSD  449351                   None  59. If you would like to elaborate on your responses above, or if you have any additional feedba...               Verbatim                 201.0  Comments re Work Environment at UCSD                   Other                None                                 None             None                     1.0     11804.0      3482           999999.0      UC San Diego            10000.0                 ACADEMIC AFFAIRS            10016.0  UNIVERSITY LIBRARY            11804.0  LIBRARY - ENTERPRISE SERVICES                NaN               NaN                NaN               NaN                NaN                NaN                NaN                NaN                 40                    Favoritism/Cliques   \n",
       "4      4  594169            12244                                                                                                Great                      NaN  English        215              15  CSS-FACULTY-STAFF-ONLY      UCSD  453580                 Dining                                  Let us know your suggestions on how to improve HDH Dining Services.  Verbatim-Dept-Improve                  69.0                        Dining_Improve         Dining Services  Auxiliary Services  Dining, Catering, & Retail Services  Dining Services                     1.0        -1.0        -1               -1.0              None                NaN                              NaN                NaN                 NaN                NaN                            NaN                NaN               NaN                NaN               NaN                NaN                NaN                NaN                NaN                 37                  Overall Satisfaction   \n",
       "\n",
       "                 url_friendly_theme  theme_display_order  avg_sentiment  is_example  is_valid  pred_sentiment  prob_is_example  targ_sentiment  targ_is_example      loss  \n",
       "0  ConsistencyInPoliciesInformation                    1            2.0           0     False        1.968750         0.271205             2.0              0.0  0.001552  \n",
       "1     SatisfiedWithDiversityProgams                    1            2.5           0     False        2.960938         0.270682             2.5              0.0  0.212906  \n",
       "2       ResolvesProblemsEffectively                    1            2.0           0     False        1.935547         0.269454             2.0              0.0  0.004284  \n",
       "3                 FavoritismCliques                    1            2.0           0     False        2.417969         0.274234             2.0              0.0  0.176045  \n",
       "4               OverallSatisfaction                    1            3.0           0     False        4.335938         0.269186             3.0              0.0  1.784791  "
      ]
     },
     "execution_count": 85,
     "metadata": {},
     "output_type": "execute_result"
    }
   ],
   "source": [
    "preds_df.head()"
   ]
  },
  {
   "cell_type": "code",
   "execution_count": 86,
   "metadata": {},
   "outputs": [
    {
     "data": {
      "text/plain": [
       "{'valid_loss': 0.4276268482208252,\n",
       " 'sentiment_mse': 0.42372608184814453,\n",
       " 'is_example_acc': 0.9923737049102783,\n",
       " 'is_example_f05': {'threshold': 0.28, 'score': 0.11029411764705882},\n",
       " 'is_example_f1': {'threshold': 0.28, 'score': 0.15},\n",
       " 'is_example_f2': {'threshold': 0.28, 'score': 0.234375},\n",
       " 'sentiment': {'mae': 0.4667339, 'mse': 0.42372608, 'rmse': 0.650942456633568}}"
      ]
     },
     "execution_count": 86,
     "metadata": {},
     "output_type": "execute_result"
    }
   ],
   "source": [
    "# load results\n",
    "with open(STANDARD_THEME_META_PATH/'20201013_model_scores_multitask_hf.pkl', 'rb') as f:\n",
    "    training_results = pickle.load(f)\n",
    "    \n",
    "training_results"
   ]
  },
  {
   "cell_type": "code",
   "execution_count": 87,
   "metadata": {},
   "outputs": [
    {
     "data": {
      "text/html": [],
      "text/plain": [
       "<IPython.core.display.HTML object>"
      ]
     },
     "metadata": {},
     "output_type": "display_data"
    },
    {
     "name": "stdout",
     "output_type": "stream",
     "text": [
      "(((1.8604860305786133,), '0'), tensor([[1.8605]]), tensor([[1.8605]]))\n"
     ]
    },
    {
     "data": {
      "text/html": [],
      "text/plain": [
       "<IPython.core.display.HTML object>"
      ]
     },
     "metadata": {},
     "output_type": "display_data"
    },
    {
     "name": "stdout",
     "output_type": "stream",
     "text": [
      "(((4.3606038093566895,), '0'), tensor([[4.3606]]), tensor([[4.3606]]))\n"
     ]
    }
   ],
   "source": [
    "inf_learn = load_learner(STANDARD_THEME_META_PATH/'export_mm_multitask_hf.pkl')\n",
    "print(inf_learn.blurr_predict('theme: Benefits comment: We are not paid enough and the benefits are horrible'))\n",
    "print(inf_learn.blurr_predict(\"theme: Benfits comment: The faculty really support us well!!! I feel valued\"))"
   ]
  },
  {
   "cell_type": "markdown",
   "metadata": {},
   "source": [
    "## Inference"
   ]
  },
  {
   "cell_type": "markdown",
   "metadata": {},
   "source": [
    "### Inference (ad-hoc documents)"
   ]
  },
  {
   "cell_type": "code",
   "execution_count": 88,
   "metadata": {},
   "outputs": [
    {
     "name": "stdout",
     "output_type": "stream",
     "text": [
      "['adequate_staffing', 'advancement_and_training_opportunities', 'appropriate_stress_work_assigned_equitably', 'benefits', 'better_ways_recognized_participate_in_decisions']\n"
     ]
    }
   ],
   "source": [
    "print(STANDARD_THEME_SAW_LABELS[:5])"
   ]
  },
  {
   "cell_type": "code",
   "execution_count": 89,
   "metadata": {},
   "outputs": [
    {
     "data": {
      "text/html": [],
      "text/plain": [
       "<IPython.core.display.HTML object>"
      ]
     },
     "metadata": {},
     "output_type": "display_data"
    },
    {
     "name": "stdout",
     "output_type": "stream",
     "text": [
      "(HF_BaseInput([    0,  4782,    35,  1664, 30769,  1129,    35,  1491,  1199,   615,\n",
      "            4,     2]), ((2.002136707305908,), '0'), tensor([[2.0021]]), tensor([[2.0021]]))\n"
     ]
    },
    {
     "data": {
      "text/html": [],
      "text/plain": [
       "<IPython.core.display.HTML object>"
      ]
     },
     "metadata": {},
     "output_type": "display_data"
    },
    {
     "name": "stdout",
     "output_type": "stream",
     "text": [
      "(HF_BaseInput([    0,  4782,    35,  1664, 30769,  1129,    35,    38,   524, 10028,\n",
      "           19,   127,  1795,     8,    52,    33,   615,    82,    11,   127,\n",
      "         1494,     4,    20,  7998,    16,  1266,     7,   162,     4,     2]), ((2.5888965129852295,), '0'), tensor([[2.5889]]), tensor([[2.5889]]))\n"
     ]
    },
    {
     "data": {
      "text/html": [],
      "text/plain": [
       "<IPython.core.display.HTML object>"
      ]
     },
     "metadata": {},
     "output_type": "display_data"
    },
    {
     "name": "stdout",
     "output_type": "stream",
     "text": [
      "(HF_BaseInput([    0,  4782,    35,  1664, 30769,  1129,    35,    38,   657, 10017,\n",
      "            2]), ((3.7853071689605713,), '0'), tensor([[3.7853]]), tensor([[3.7853]]))\n"
     ]
    },
    {
     "data": {
      "text/html": [],
      "text/plain": [
       "<IPython.core.display.HTML object>"
      ]
     },
     "metadata": {},
     "output_type": "display_data"
    },
    {
     "name": "stdout",
     "output_type": "stream",
     "text": [
      "(HF_BaseInput([    0,  4782,    35,  1664, 30769,  1129,    35,    38,    64,   393,\n",
      "          465,    10,  2932,  1514,     4,    20,  2572,    90,  1634,    32,\n",
      "           45,    15,    86,     4, 10310,     2]), ((1.9403767585754395,), '0'), tensor([[1.9404]]), tensor([[1.9404]]))\n"
     ]
    },
    {
     "data": {
      "text/html": [],
      "text/plain": [
       "<IPython.core.display.HTML object>"
      ]
     },
     "metadata": {},
     "output_type": "display_data"
    },
    {
     "name": "stdout",
     "output_type": "stream",
     "text": [
      "(HF_BaseInput([    0,  4782,    35,  1664, 30769,  1129,    35,    38,    21,   269,\n",
      "         9800,     7,  5486,   127,  2979, 16506,     2]), ((1.9915456771850586,), '0'), tensor([[1.9915]]), tensor([[1.9915]]))\n"
     ]
    },
    {
     "data": {
      "text/html": [],
      "text/plain": [
       "<IPython.core.display.HTML object>"
      ]
     },
     "metadata": {},
     "output_type": "display_data"
    },
    {
     "name": "stdout",
     "output_type": "stream",
     "text": [
      "(HF_BaseInput([    0,  4782,    35,  1664, 30769,  1129,    35,  2321,  8914,   890,\n",
      "           16,    41,  9297,   884,     4,  1437,    91,    34,  1613,  1065,\n",
      "            8,  1684,     7,  1045,    10,  1313,   447,  1737,     8,   694,\n",
      "          434,  1616,     4,  1437,   832,  2720,     7,    39,   165,    16,\n",
      "          542, 27978,   196,     8, 19781,   868,     4, 37457,   338, 37457,\n",
      "          282, 37457,   338, 37457,   282, 38334,  3144,  5302,  2478,    16,\n",
      "           10,  1421,     9, 12757,  1673,    13,  6919,     8, 37513,  1630,\n",
      "         2617,  1820,     4,  1437,   264,    34,  2208,     5,  2098,     9,\n",
      "          167,    79,  3315,   149,  5322,  4358,     6, 17805,     6,     8,\n",
      "        13557,  9434,     4,     2]), ((4.224795341491699,), '0'), tensor([[4.2248]]), tensor([[4.2248]]))\n"
     ]
    }
   ],
   "source": [
    "test_comments = [\n",
    "    'theme: Benfits comment: Not paid enough.',\n",
    "    'theme: Benfits comment: I am satisfied with my benefits and we have enough people in my department. The faculty is mean to me.',\n",
    "    'theme: Benfits comment: I love cats',\n",
    "    \"theme: Benfits comment: I can never find a parking spot. The shuttles are not on time. Help\",\n",
    "    \"theme: Benfits comment: I was really uncomfortable to express my opinion!!!\",\n",
    "    \"theme: Benfits comment: Jeff Wadell is an exceptional leader.  He has gone above and beyond to create a positive working environment and provide growth opportunities.  His commitment to his team is unrivaled and commendable.\\\\r\\\\n\\\\r\\\\nNikki Panza is a model of authentic leadership for Building and Custodial Services.  She has earned the respect of those she leads through honest communication, empathy, and ethical consultation.\"\n",
    "]\n",
    "\n",
    "for c in test_comments: print(inf_learn.blurr_predict(c, with_input=True))"
   ]
  },
  {
   "cell_type": "markdown",
   "metadata": {},
   "source": [
    "### Inference (batch)"
   ]
  },
  {
   "cell_type": "code",
   "execution_count": 139,
   "metadata": {},
   "outputs": [],
   "source": [
    "#export\n",
    "def get_standard_theme_preds(inf_df, learner_export_path=None, device=torch.device('cpu'), train_config={}):\n",
    "    config = {**meta_standard_themes_train_config, **train_config}    \n",
    "    m_pre, m_suf = config['m_pre'], config['m_suf']\n",
    "    \n",
    "    # 1. grab learner, procs, and data\n",
    "    cpu = device.type == 'cpu'\n",
    "    if (learner_export_path is None): learner_export_path = f\"{config['learner_path']}/{config['export_filename']}\"\n",
    "        \n",
    "    inf_learn = load_learner(fname=learner_export_path, cpu=cpu)\n",
    "    inf_learn.model = inf_learn.model.to(device)\n",
    "    inf_learn.model = inf_learn.model.eval()\n",
    "    \n",
    "    # 2. define a suitable dataloader\n",
    "    inf_dl = inf_learn.dls.test_dl(inf_df, rm_type_tfms=None, bs=16)\n",
    "\n",
    "    # 3. get probs and document vectors\n",
    "    test_probs_sent, test_probs_is_example = [], []\n",
    "    with torch.no_grad():\n",
    "        for index, b in enumerate(inf_dl):\n",
    "            if index % 1000 == 0:  print(index)\n",
    "\n",
    "            # note: even though there is no targets, each batch is a tuple!\n",
    "            probs = inf_learn.model(b[0])\n",
    "            \n",
    "            # why \"detach\"? the computation of gradients wrt the weights of netG can be fully \n",
    "            # avoided in the backward pass if the graph is detached where it is.\n",
    "            test_probs_sent.append(to_detach(probs[0][0]))\n",
    "            test_probs_is_example.append(to_detach(torch.softmax(probs[0][1], dim=-1)))\n",
    "\n",
    "    all_probs_sent = L(torch.cat(test_probs_sent))\n",
    "    all_probs_is_example = L(torch.cat(test_probs_is_example))\n",
    "\n",
    "    # 4. ensure results are returned in order\n",
    "    # test_dl.get_idxs() => unsorted/original order items\n",
    "    all_probs_sent = all_probs_sent[0][np.argsort(inf_dl.get_idxs())]\n",
    "    all_probs_is_example = all_probs_is_example[0][np.argsort(inf_dl.get_idxs())]\n",
    "        \n",
    "    # 5. return ordered results\n",
    "    inf_learn, inf_dl = None, None; gc.collect()\n",
    "    \n",
    "    return all_probs_sent, all_probs_is_example"
   ]
  },
  {
   "cell_type": "code",
   "execution_count": null,
   "metadata": {},
   "outputs": [],
   "source": []
  },
  {
   "cell_type": "code",
   "execution_count": 112,
   "metadata": {},
   "outputs": [
    {
     "name": "stdout",
     "output_type": "stream",
     "text": [
      "4045 4045\n"
     ]
    }
   ],
   "source": [
    "verbatims_df = pd.read_csv(STANDARD_THEME_SAW_PATH/'20201013_test_predictions_multilabel_hf.csv', \n",
    "                           dtype={**TASK_LM_DTYPES}, parse_dates=[])\n",
    "\n",
    "inf_df = verbatims_df.copy() #verbatims_df[test_df.SurveyID == 130].copy()\n",
    "inf_df.reset_index(drop=True, inplace=True)\n",
    "print(len(verbatims_df), len(inf_df))\n",
    "\n",
    "corpus_cols = ['theme', 'AnswerText'] "
   ]
  },
  {
   "cell_type": "code",
   "execution_count": 113,
   "metadata": {},
   "outputs": [
    {
     "data": {
      "text/html": [
       "<div>\n",
       "<style scoped>\n",
       "    .dataframe tbody tr th:only-of-type {\n",
       "        vertical-align: middle;\n",
       "    }\n",
       "\n",
       "    .dataframe tbody tr th {\n",
       "        vertical-align: top;\n",
       "    }\n",
       "\n",
       "    .dataframe thead th {\n",
       "        text-align: right;\n",
       "    }\n",
       "</style>\n",
       "<table border=\"1\" class=\"dataframe\">\n",
       "  <thead>\n",
       "    <tr style=\"text-align: right;\">\n",
       "      <th></th>\n",
       "      <th>Id</th>\n",
       "      <th>QuestionAnsID</th>\n",
       "      <th>AnswerText</th>\n",
       "      <th>AnswerText_NonEnglish</th>\n",
       "      <th>Language</th>\n",
       "      <th>SurveyID</th>\n",
       "      <th>SurveyTypeID</th>\n",
       "      <th>BenchmarkSurveyType</th>\n",
       "      <th>ClientId</th>\n",
       "      <th>RspID</th>\n",
       "      <th>QuestionCategoryAbbr</th>\n",
       "      <th>QuestionText</th>\n",
       "      <th>QuestionClass</th>\n",
       "      <th>QuestionCategoryID</th>\n",
       "      <th>QuestionReportAbbr</th>\n",
       "      <th>QuestionCategoryLabel</th>\n",
       "      <th>BenchmarkLevel1</th>\n",
       "      <th>BenchmarkLevel2</th>\n",
       "      <th>BenchmarkLevel3</th>\n",
       "      <th>ClientBenchmarkLevel</th>\n",
       "      <th>GroupCode</th>\n",
       "      <th>GroupID</th>\n",
       "      <th>GroupLevel1Code</th>\n",
       "      <th>GroupLevel1Name</th>\n",
       "      <th>GroupLevel2Code</th>\n",
       "      <th>GroupLevel2Name</th>\n",
       "      <th>GroupLevel3Code</th>\n",
       "      <th>GroupLevel3Name</th>\n",
       "      <th>GroupLevel4Code</th>\n",
       "      <th>GroupLevel4Name</th>\n",
       "      <th>GroupLevel5Code</th>\n",
       "      <th>GroupLevel5Name</th>\n",
       "      <th>GroupLevel6Code</th>\n",
       "      <th>GroupLevel6Name</th>\n",
       "      <th>GroupLevel7Code</th>\n",
       "      <th>GroupLevel7Name</th>\n",
       "      <th>GroupLevel8Code</th>\n",
       "      <th>GroupLevel8Name</th>\n",
       "      <th>answer_text</th>\n",
       "      <th>prob_adequate_staffing</th>\n",
       "      <th>prob_advancement_and_training_opportunities</th>\n",
       "      <th>prob_appropriate_stress_work_assigned_equitably</th>\n",
       "      <th>prob_benefits</th>\n",
       "      <th>prob_better_ways_recognized_participate_in_decisions</th>\n",
       "      <th>prob_career_advancement</th>\n",
       "      <th>prob_committed_to_diversity</th>\n",
       "      <th>prob_communicates_essential_information</th>\n",
       "      <th>prob_ethical_conduct_perform_responsibilities_spirit_of_cooperation</th>\n",
       "      <th>prob_evaluated_fairly</th>\n",
       "      <th>prob_experienced_discrimination</th>\n",
       "      <th>prob_facilities_workspace_safety</th>\n",
       "      <th>prob_faculty_value_contributions</th>\n",
       "      <th>prob_favoritism_cliques</th>\n",
       "      <th>prob_fear_of_retaliation_negative_consequences</th>\n",
       "      <th>prob_feel_valued_by_department</th>\n",
       "      <th>prob_flexibility_work_life_balance</th>\n",
       "      <th>prob_good_use_of_skills</th>\n",
       "      <th>prob_have_necessary_tools</th>\n",
       "      <th>prob_have_voice_within_my_institution_valued_member_of_my_institution</th>\n",
       "      <th>prob_internal_processes_effective</th>\n",
       "      <th>prob_parking_transportation</th>\n",
       "      <th>prob_salary_pay</th>\n",
       "      <th>prob_satisfied_with_diversity_progams</th>\n",
       "      <th>prob_supervisor_effectiveness_resolves_staff_issues</th>\n",
       "      <th>pred_adequate_staffing</th>\n",
       "      <th>pred_advancement_and_training_opportunities</th>\n",
       "      <th>pred_appropriate_stress_work_assigned_equitably</th>\n",
       "      <th>pred_benefits</th>\n",
       "      <th>pred_better_ways_recognized_participate_in_decisions</th>\n",
       "      <th>pred_career_advancement</th>\n",
       "      <th>pred_committed_to_diversity</th>\n",
       "      <th>pred_communicates_essential_information</th>\n",
       "      <th>pred_ethical_conduct_perform_responsibilities_spirit_of_cooperation</th>\n",
       "      <th>pred_evaluated_fairly</th>\n",
       "      <th>pred_experienced_discrimination</th>\n",
       "      <th>pred_facilities_workspace_safety</th>\n",
       "      <th>pred_faculty_value_contributions</th>\n",
       "      <th>pred_favoritism_cliques</th>\n",
       "      <th>pred_fear_of_retaliation_negative_consequences</th>\n",
       "      <th>pred_feel_valued_by_department</th>\n",
       "      <th>pred_flexibility_work_life_balance</th>\n",
       "      <th>pred_good_use_of_skills</th>\n",
       "      <th>pred_have_necessary_tools</th>\n",
       "      <th>pred_have_voice_within_my_institution_valued_member_of_my_institution</th>\n",
       "      <th>pred_internal_processes_effective</th>\n",
       "      <th>pred_parking_transportation</th>\n",
       "      <th>pred_salary_pay</th>\n",
       "      <th>pred_satisfied_with_diversity_progams</th>\n",
       "      <th>pred_supervisor_effectiveness_resolves_staff_issues</th>\n",
       "    </tr>\n",
       "  </thead>\n",
       "  <tbody>\n",
       "    <tr>\n",
       "      <th>0</th>\n",
       "      <td>589404</td>\n",
       "      <td>1877</td>\n",
       "      <td>Some of the answers that are marked as agreed, as I think there is always room for improvement. ...</td>\n",
       "      <td>NaN</td>\n",
       "      <td>English</td>\n",
       "      <td>212</td>\n",
       "      <td>9</td>\n",
       "      <td>SAW</td>\n",
       "      <td>UCSD</td>\n",
       "      <td>451700</td>\n",
       "      <td>SAT</td>\n",
       "      <td>If you would like to elaborate on your responses above, or if you have any additional feedback r...</td>\n",
       "      <td>Verbatim</td>\n",
       "      <td>114.0</td>\n",
       "      <td>Comments re Work Environment at UCSD</td>\n",
       "      <td>Satisfaction with UC San Diego</td>\n",
       "      <td>None</td>\n",
       "      <td>None</td>\n",
       "      <td>None</td>\n",
       "      <td>1</td>\n",
       "      <td>91925.0</td>\n",
       "      <td>6878</td>\n",
       "      <td>999999.0</td>\n",
       "      <td>UC San Diego</td>\n",
       "      <td>90000.0</td>\n",
       "      <td>VICE CHANCELLOR HEALTH SCIENCES</td>\n",
       "      <td>93000.0</td>\n",
       "      <td>SCHOOL OF MEDICINE</td>\n",
       "      <td>91900.0</td>\n",
       "      <td>SURGERY</td>\n",
       "      <td>91925.0</td>\n",
       "      <td>DIVISION ADMIN</td>\n",
       "      <td>NaN</td>\n",
       "      <td>NaN</td>\n",
       "      <td>NaN</td>\n",
       "      <td>NaN</td>\n",
       "      <td>NaN</td>\n",
       "      <td>NaN</td>\n",
       "      <td>Some of the answers that are marked as agreed, as I think there is always room for improvement. ...</td>\n",
       "      <td>0.017574</td>\n",
       "      <td>0.152109</td>\n",
       "      <td>0.01798</td>\n",
       "      <td>0.000897</td>\n",
       "      <td>0.096773</td>\n",
       "      <td>0.009805</td>\n",
       "      <td>0.021668</td>\n",
       "      <td>0.087357</td>\n",
       "      <td>0.540619</td>\n",
       "      <td>0.006133</td>\n",
       "      <td>0.002876</td>\n",
       "      <td>0.032856</td>\n",
       "      <td>0.058381</td>\n",
       "      <td>0.002821</td>\n",
       "      <td>0.03437</td>\n",
       "      <td>0.014816</td>\n",
       "      <td>0.000873</td>\n",
       "      <td>0.020616</td>\n",
       "      <td>0.000665</td>\n",
       "      <td>0.016983</td>\n",
       "      <td>0.150064</td>\n",
       "      <td>0.000333</td>\n",
       "      <td>0.000928</td>\n",
       "      <td>0.032198</td>\n",
       "      <td>0.069896</td>\n",
       "      <td>0</td>\n",
       "      <td>0</td>\n",
       "      <td>0</td>\n",
       "      <td>0</td>\n",
       "      <td>0</td>\n",
       "      <td>0</td>\n",
       "      <td>0</td>\n",
       "      <td>0</td>\n",
       "      <td>1</td>\n",
       "      <td>0</td>\n",
       "      <td>0</td>\n",
       "      <td>0</td>\n",
       "      <td>0</td>\n",
       "      <td>0</td>\n",
       "      <td>0</td>\n",
       "      <td>0</td>\n",
       "      <td>0</td>\n",
       "      <td>0</td>\n",
       "      <td>0</td>\n",
       "      <td>0</td>\n",
       "      <td>0</td>\n",
       "      <td>0</td>\n",
       "      <td>0</td>\n",
       "      <td>0</td>\n",
       "      <td>0</td>\n",
       "    </tr>\n",
       "  </tbody>\n",
       "</table>\n",
       "</div>"
      ],
      "text/plain": [
       "       Id  QuestionAnsID                                                                                           AnswerText AnswerText_NonEnglish Language  SurveyID  SurveyTypeID BenchmarkSurveyType ClientId   RspID QuestionCategoryAbbr                                                                                         QuestionText QuestionClass  QuestionCategoryID                    QuestionReportAbbr           QuestionCategoryLabel BenchmarkLevel1 BenchmarkLevel2 BenchmarkLevel3 ClientBenchmarkLevel  GroupCode GroupID  GroupLevel1Code GroupLevel1Name  GroupLevel2Code                  GroupLevel2Name  GroupLevel3Code     GroupLevel3Name  GroupLevel4Code GroupLevel4Name  GroupLevel5Code GroupLevel5Name  GroupLevel6Code GroupLevel6Name  GroupLevel7Code GroupLevel7Name  GroupLevel8Code GroupLevel8Name                                                                                          answer_text  prob_adequate_staffing  prob_advancement_and_training_opportunities  \\\n",
       "0  589404           1877  Some of the answers that are marked as agreed, as I think there is always room for improvement. ...                   NaN  English       212             9                 SAW     UCSD  451700                  SAT  If you would like to elaborate on your responses above, or if you have any additional feedback r...      Verbatim               114.0  Comments re Work Environment at UCSD  Satisfaction with UC San Diego            None            None            None                    1    91925.0    6878         999999.0    UC San Diego          90000.0  VICE CHANCELLOR HEALTH SCIENCES          93000.0  SCHOOL OF MEDICINE          91900.0         SURGERY          91925.0  DIVISION ADMIN              NaN             NaN              NaN             NaN              NaN             NaN  Some of the answers that are marked as agreed, as I think there is always room for improvement. ...                0.017574                                     0.152109   \n",
       "\n",
       "   prob_appropriate_stress_work_assigned_equitably  prob_benefits  prob_better_ways_recognized_participate_in_decisions  prob_career_advancement  prob_committed_to_diversity  prob_communicates_essential_information  prob_ethical_conduct_perform_responsibilities_spirit_of_cooperation  prob_evaluated_fairly  prob_experienced_discrimination  prob_facilities_workspace_safety  prob_faculty_value_contributions  prob_favoritism_cliques  prob_fear_of_retaliation_negative_consequences  prob_feel_valued_by_department  prob_flexibility_work_life_balance  prob_good_use_of_skills  prob_have_necessary_tools  prob_have_voice_within_my_institution_valued_member_of_my_institution  prob_internal_processes_effective  prob_parking_transportation  prob_salary_pay  prob_satisfied_with_diversity_progams  prob_supervisor_effectiveness_resolves_staff_issues  pred_adequate_staffing  pred_advancement_and_training_opportunities  pred_appropriate_stress_work_assigned_equitably  pred_benefits  \\\n",
       "0                                          0.01798       0.000897                                              0.096773                 0.009805                     0.021668                                 0.087357                                                             0.540619               0.006133                         0.002876                          0.032856                          0.058381                 0.002821                                         0.03437                        0.014816                            0.000873                 0.020616                   0.000665                                                               0.016983                           0.150064                     0.000333         0.000928                               0.032198                                             0.069896                       0                                            0                                                0              0   \n",
       "\n",
       "   pred_better_ways_recognized_participate_in_decisions  pred_career_advancement  pred_committed_to_diversity  pred_communicates_essential_information  pred_ethical_conduct_perform_responsibilities_spirit_of_cooperation  pred_evaluated_fairly  pred_experienced_discrimination  pred_facilities_workspace_safety  pred_faculty_value_contributions  pred_favoritism_cliques  pred_fear_of_retaliation_negative_consequences  pred_feel_valued_by_department  pred_flexibility_work_life_balance  pred_good_use_of_skills  pred_have_necessary_tools  pred_have_voice_within_my_institution_valued_member_of_my_institution  pred_internal_processes_effective  pred_parking_transportation  pred_salary_pay  pred_satisfied_with_diversity_progams  pred_supervisor_effectiveness_resolves_staff_issues  \n",
       "0                                                     0                        0                            0                                        0                                                                    1                      0                                0                                 0                                 0                        0                                               0                               0                                   0                        0                          0                                                                      0                                  0                            0                0                                      0                                                    0  "
      ]
     },
     "execution_count": 113,
     "metadata": {},
     "output_type": "execute_result"
    }
   ],
   "source": [
    "inf_df.head(1)"
   ]
  },
  {
   "cell_type": "code",
   "execution_count": 114,
   "metadata": {},
   "outputs": [],
   "source": [
    "pred_theme_cols = filter_col = [col for col in inf_df if col.startswith('pred_')]\n",
    "# pred_theme_cols"
   ]
  },
  {
   "cell_type": "code",
   "execution_count": 115,
   "metadata": {},
   "outputs": [
    {
     "data": {
      "text/plain": [
       "101125"
      ]
     },
     "execution_count": 115,
     "metadata": {},
     "output_type": "execute_result"
    }
   ],
   "source": [
    "inf_df = inf_df.melt(id_vars=list(TASK_LM_DTYPES.keys()), \n",
    "                     value_vars=pred_theme_cols, \n",
    "                     var_name='theme', \n",
    "                     value_name='theme_pred')\n",
    "len(inf_df)"
   ]
  },
  {
   "cell_type": "code",
   "execution_count": 116,
   "metadata": {},
   "outputs": [
    {
     "data": {
      "text/plain": [
       "4286"
      ]
     },
     "execution_count": 116,
     "metadata": {},
     "output_type": "execute_result"
    }
   ],
   "source": [
    "inf_df = inf_df.loc[inf_df.theme_pred == 1]\n",
    "len(inf_df)"
   ]
  },
  {
   "cell_type": "code",
   "execution_count": 117,
   "metadata": {},
   "outputs": [],
   "source": [
    "inf_df['url_friendly_theme'] = inf_df.theme.apply(\n",
    "    lambda s: re.sub(\"(.*?)_([a-zA-Z])\",\"\\g<1> \\g<2>\",s).replace('pred', '').strip().title().replace(' ',''))\n",
    "\n",
    "inf_df['theme'] = inf_df.url_friendly_theme.apply(lambda s: re.sub(\"([a-z])([A-Z])\",\"\\g<1> \\g<2>\",s))\n",
    "inf_df['answer_text'] = inf_df['AnswerText']"
   ]
  },
  {
   "cell_type": "code",
   "execution_count": 118,
   "metadata": {},
   "outputs": [],
   "source": [
    "inf_df.reset_index(inplace=True)"
   ]
  },
  {
   "cell_type": "code",
   "execution_count": 119,
   "metadata": {},
   "outputs": [
    {
     "data": {
      "text/html": [
       "<div>\n",
       "<style scoped>\n",
       "    .dataframe tbody tr th:only-of-type {\n",
       "        vertical-align: middle;\n",
       "    }\n",
       "\n",
       "    .dataframe tbody tr th {\n",
       "        vertical-align: top;\n",
       "    }\n",
       "\n",
       "    .dataframe thead th {\n",
       "        text-align: right;\n",
       "    }\n",
       "</style>\n",
       "<table border=\"1\" class=\"dataframe\">\n",
       "  <thead>\n",
       "    <tr style=\"text-align: right;\">\n",
       "      <th></th>\n",
       "      <th>index</th>\n",
       "      <th>Id</th>\n",
       "      <th>QuestionAnsID</th>\n",
       "      <th>AnswerText</th>\n",
       "      <th>AnswerText_NonEnglish</th>\n",
       "      <th>Language</th>\n",
       "      <th>SurveyID</th>\n",
       "      <th>SurveyTypeID</th>\n",
       "      <th>BenchmarkSurveyType</th>\n",
       "      <th>ClientId</th>\n",
       "      <th>RspID</th>\n",
       "      <th>QuestionCategoryAbbr</th>\n",
       "      <th>QuestionText</th>\n",
       "      <th>QuestionClass</th>\n",
       "      <th>QuestionCategoryID</th>\n",
       "      <th>QuestionReportAbbr</th>\n",
       "      <th>QuestionCategoryLabel</th>\n",
       "      <th>BenchmarkLevel1</th>\n",
       "      <th>BenchmarkLevel2</th>\n",
       "      <th>BenchmarkLevel3</th>\n",
       "      <th>ClientBenchmarkLevel</th>\n",
       "      <th>GroupCode</th>\n",
       "      <th>GroupID</th>\n",
       "      <th>GroupLevel1Code</th>\n",
       "      <th>GroupLevel1Name</th>\n",
       "      <th>GroupLevel2Code</th>\n",
       "      <th>GroupLevel2Name</th>\n",
       "      <th>GroupLevel3Code</th>\n",
       "      <th>GroupLevel3Name</th>\n",
       "      <th>GroupLevel4Code</th>\n",
       "      <th>GroupLevel4Name</th>\n",
       "      <th>GroupLevel5Code</th>\n",
       "      <th>GroupLevel5Name</th>\n",
       "      <th>GroupLevel6Code</th>\n",
       "      <th>GroupLevel6Name</th>\n",
       "      <th>GroupLevel7Code</th>\n",
       "      <th>GroupLevel7Name</th>\n",
       "      <th>GroupLevel8Code</th>\n",
       "      <th>GroupLevel8Name</th>\n",
       "      <th>theme</th>\n",
       "      <th>theme_pred</th>\n",
       "      <th>url_friendly_theme</th>\n",
       "      <th>answer_text</th>\n",
       "    </tr>\n",
       "  </thead>\n",
       "  <tbody>\n",
       "    <tr>\n",
       "      <th>0</th>\n",
       "      <td>8</td>\n",
       "      <td>588956</td>\n",
       "      <td>1877</td>\n",
       "      <td>There are ongoing issues in our department that make for an often awkward and uncomfortable work...</td>\n",
       "      <td>NaN</td>\n",
       "      <td>English</td>\n",
       "      <td>212</td>\n",
       "      <td>9</td>\n",
       "      <td>SAW</td>\n",
       "      <td>UCSD</td>\n",
       "      <td>449462</td>\n",
       "      <td>SAT</td>\n",
       "      <td>If you would like to elaborate on your responses above, or if you have any additional feedback r...</td>\n",
       "      <td>Verbatim</td>\n",
       "      <td>114.0</td>\n",
       "      <td>Comments re Work Environment at UCSD</td>\n",
       "      <td>Satisfaction with UC San Diego</td>\n",
       "      <td>None</td>\n",
       "      <td>None</td>\n",
       "      <td>None</td>\n",
       "      <td>1</td>\n",
       "      <td>11200.0</td>\n",
       "      <td>3472</td>\n",
       "      <td>999999.0</td>\n",
       "      <td>UC San Diego</td>\n",
       "      <td>10000.0</td>\n",
       "      <td>ACADEMIC AFFAIRS</td>\n",
       "      <td>10011.0</td>\n",
       "      <td>COLLEGES</td>\n",
       "      <td>11200.0</td>\n",
       "      <td>ROOSEVELT COLLEGE</td>\n",
       "      <td>NaN</td>\n",
       "      <td>NaN</td>\n",
       "      <td>NaN</td>\n",
       "      <td>NaN</td>\n",
       "      <td>NaN</td>\n",
       "      <td>NaN</td>\n",
       "      <td>NaN</td>\n",
       "      <td>NaN</td>\n",
       "      <td>Adequate Staffing</td>\n",
       "      <td>1</td>\n",
       "      <td>AdequateStaffing</td>\n",
       "      <td>There are ongoing issues in our department that make for an often awkward and uncomfortable work...</td>\n",
       "    </tr>\n",
       "    <tr>\n",
       "      <th>1</th>\n",
       "      <td>26</td>\n",
       "      <td>588454</td>\n",
       "      <td>1877</td>\n",
       "      <td>Workload is unbalanced and needs to be reassessed. Management constantly expresses that volume i...</td>\n",
       "      <td>NaN</td>\n",
       "      <td>English</td>\n",
       "      <td>212</td>\n",
       "      <td>9</td>\n",
       "      <td>SAW</td>\n",
       "      <td>UCSD</td>\n",
       "      <td>447089</td>\n",
       "      <td>SAT</td>\n",
       "      <td>If you would like to elaborate on your responses above, or if you have any additional feedback r...</td>\n",
       "      <td>Verbatim</td>\n",
       "      <td>114.0</td>\n",
       "      <td>Comments re Work Environment at UCSD</td>\n",
       "      <td>Satisfaction with UC San Diego</td>\n",
       "      <td>None</td>\n",
       "      <td>None</td>\n",
       "      <td>None</td>\n",
       "      <td>1</td>\n",
       "      <td>96023.0</td>\n",
       "      <td>3855</td>\n",
       "      <td>999999.0</td>\n",
       "      <td>UC San Diego</td>\n",
       "      <td>90000.0</td>\n",
       "      <td>VICE CHANCELLOR HEALTH SCIENCES</td>\n",
       "      <td>93000.0</td>\n",
       "      <td>SCHOOL OF MEDICINE</td>\n",
       "      <td>96015.0</td>\n",
       "      <td>VCHS ACADEMIC RESOURCE CENTER (ARC)</td>\n",
       "      <td>96023.0</td>\n",
       "      <td>COMPENSATION &amp; TIMEKEEPING</td>\n",
       "      <td>NaN</td>\n",
       "      <td>NaN</td>\n",
       "      <td>NaN</td>\n",
       "      <td>NaN</td>\n",
       "      <td>NaN</td>\n",
       "      <td>NaN</td>\n",
       "      <td>Adequate Staffing</td>\n",
       "      <td>1</td>\n",
       "      <td>AdequateStaffing</td>\n",
       "      <td>Workload is unbalanced and needs to be reassessed. Management constantly expresses that volume i...</td>\n",
       "    </tr>\n",
       "    <tr>\n",
       "      <th>2</th>\n",
       "      <td>32</td>\n",
       "      <td>589390</td>\n",
       "      <td>1877</td>\n",
       "      <td>Doctors and supervisors are supportive. However, clinical trials are very busy and sometimes I f...</td>\n",
       "      <td>NaN</td>\n",
       "      <td>English</td>\n",
       "      <td>212</td>\n",
       "      <td>9</td>\n",
       "      <td>SAW</td>\n",
       "      <td>UCSD</td>\n",
       "      <td>451657</td>\n",
       "      <td>SAT</td>\n",
       "      <td>If you would like to elaborate on your responses above, or if you have any additional feedback r...</td>\n",
       "      <td>Verbatim</td>\n",
       "      <td>114.0</td>\n",
       "      <td>Comments re Work Environment at UCSD</td>\n",
       "      <td>Satisfaction with UC San Diego</td>\n",
       "      <td>None</td>\n",
       "      <td>None</td>\n",
       "      <td>None</td>\n",
       "      <td>1</td>\n",
       "      <td>98200.0</td>\n",
       "      <td>3631</td>\n",
       "      <td>999999.0</td>\n",
       "      <td>UC San Diego</td>\n",
       "      <td>90000.0</td>\n",
       "      <td>VICE CHANCELLOR HEALTH SCIENCES</td>\n",
       "      <td>93000.0</td>\n",
       "      <td>SCHOOL OF MEDICINE</td>\n",
       "      <td>98000.0</td>\n",
       "      <td>CANCER CENTER</td>\n",
       "      <td>98200.0</td>\n",
       "      <td>CLINICAL TRIALS OFFICE (CTO)</td>\n",
       "      <td>NaN</td>\n",
       "      <td>NaN</td>\n",
       "      <td>NaN</td>\n",
       "      <td>NaN</td>\n",
       "      <td>NaN</td>\n",
       "      <td>NaN</td>\n",
       "      <td>Adequate Staffing</td>\n",
       "      <td>1</td>\n",
       "      <td>AdequateStaffing</td>\n",
       "      <td>Doctors and supervisors are supportive. However, clinical trials are very busy and sometimes I f...</td>\n",
       "    </tr>\n",
       "    <tr>\n",
       "      <th>3</th>\n",
       "      <td>48</td>\n",
       "      <td>590606</td>\n",
       "      <td>9439</td>\n",
       "      <td>Evaluate staffing and productivity for the urgent care/walk in clinic as well as the walk in nur...</td>\n",
       "      <td>NaN</td>\n",
       "      <td>English</td>\n",
       "      <td>212</td>\n",
       "      <td>9</td>\n",
       "      <td>SAW</td>\n",
       "      <td>UCSD</td>\n",
       "      <td>450625</td>\n",
       "      <td>None</td>\n",
       "      <td>The Standing Committee on Service and People Oriented Culture (SC-SPOC) is interested in learnin...</td>\n",
       "      <td>Verbatim</td>\n",
       "      <td>201.0</td>\n",
       "      <td>IdeaWave Comments</td>\n",
       "      <td>Other</td>\n",
       "      <td>None</td>\n",
       "      <td>None</td>\n",
       "      <td>None</td>\n",
       "      <td>1</td>\n",
       "      <td>31302.0</td>\n",
       "      <td>3555</td>\n",
       "      <td>999999.0</td>\n",
       "      <td>UC San Diego</td>\n",
       "      <td>90000.0</td>\n",
       "      <td>VICE CHANCELLOR HEALTH SCIENCES</td>\n",
       "      <td>90563.0</td>\n",
       "      <td>STUDENT HEALTH &amp; WELL BEING</td>\n",
       "      <td>31302.0</td>\n",
       "      <td>STUDENT HEALTH SERVICES</td>\n",
       "      <td>NaN</td>\n",
       "      <td>NaN</td>\n",
       "      <td>NaN</td>\n",
       "      <td>NaN</td>\n",
       "      <td>NaN</td>\n",
       "      <td>NaN</td>\n",
       "      <td>NaN</td>\n",
       "      <td>NaN</td>\n",
       "      <td>Adequate Staffing</td>\n",
       "      <td>1</td>\n",
       "      <td>AdequateStaffing</td>\n",
       "      <td>Evaluate staffing and productivity for the urgent care/walk in clinic as well as the walk in nur...</td>\n",
       "    </tr>\n",
       "    <tr>\n",
       "      <th>4</th>\n",
       "      <td>70</td>\n",
       "      <td>588546</td>\n",
       "      <td>1877</td>\n",
       "      <td>This VC area does a poor job of managing resources (both human and monetary). Initiatives are of...</td>\n",
       "      <td>NaN</td>\n",
       "      <td>English</td>\n",
       "      <td>212</td>\n",
       "      <td>9</td>\n",
       "      <td>SAW</td>\n",
       "      <td>UCSD</td>\n",
       "      <td>447652</td>\n",
       "      <td>SAT</td>\n",
       "      <td>If you would like to elaborate on your responses above, or if you have any additional feedback r...</td>\n",
       "      <td>Verbatim</td>\n",
       "      <td>114.0</td>\n",
       "      <td>Comments re Work Environment at UCSD</td>\n",
       "      <td>Satisfaction with UC San Diego</td>\n",
       "      <td>None</td>\n",
       "      <td>None</td>\n",
       "      <td>None</td>\n",
       "      <td>1</td>\n",
       "      <td>12011.0</td>\n",
       "      <td>3783</td>\n",
       "      <td>999999.0</td>\n",
       "      <td>UC San Diego</td>\n",
       "      <td>12000.0</td>\n",
       "      <td>VC-RESEARCH AFFAIRS</td>\n",
       "      <td>12011.0</td>\n",
       "      <td>RESEARCH AFFAIRS - SENIOR MANAGEMENT</td>\n",
       "      <td>NaN</td>\n",
       "      <td>NaN</td>\n",
       "      <td>NaN</td>\n",
       "      <td>NaN</td>\n",
       "      <td>NaN</td>\n",
       "      <td>NaN</td>\n",
       "      <td>NaN</td>\n",
       "      <td>NaN</td>\n",
       "      <td>NaN</td>\n",
       "      <td>NaN</td>\n",
       "      <td>Adequate Staffing</td>\n",
       "      <td>1</td>\n",
       "      <td>AdequateStaffing</td>\n",
       "      <td>This VC area does a poor job of managing resources (both human and monetary). Initiatives are of...</td>\n",
       "    </tr>\n",
       "  </tbody>\n",
       "</table>\n",
       "</div>"
      ],
      "text/plain": [
       "   index      Id  QuestionAnsID                                                                                           AnswerText AnswerText_NonEnglish Language  SurveyID  SurveyTypeID BenchmarkSurveyType ClientId   RspID QuestionCategoryAbbr                                                                                         QuestionText QuestionClass  QuestionCategoryID                    QuestionReportAbbr           QuestionCategoryLabel BenchmarkLevel1 BenchmarkLevel2 BenchmarkLevel3 ClientBenchmarkLevel  GroupCode GroupID  GroupLevel1Code GroupLevel1Name  GroupLevel2Code                  GroupLevel2Name  GroupLevel3Code                       GroupLevel3Name  GroupLevel4Code                      GroupLevel4Name  GroupLevel5Code               GroupLevel5Name  GroupLevel6Code GroupLevel6Name  GroupLevel7Code GroupLevel7Name  GroupLevel8Code GroupLevel8Name              theme  theme_pred url_friendly_theme  \\\n",
       "0      8  588956           1877  There are ongoing issues in our department that make for an often awkward and uncomfortable work...                   NaN  English       212             9                 SAW     UCSD  449462                  SAT  If you would like to elaborate on your responses above, or if you have any additional feedback r...      Verbatim               114.0  Comments re Work Environment at UCSD  Satisfaction with UC San Diego            None            None            None                    1    11200.0    3472         999999.0    UC San Diego          10000.0                 ACADEMIC AFFAIRS          10011.0                              COLLEGES          11200.0                    ROOSEVELT COLLEGE              NaN                           NaN              NaN             NaN              NaN             NaN              NaN             NaN  Adequate Staffing           1   AdequateStaffing   \n",
       "1     26  588454           1877  Workload is unbalanced and needs to be reassessed. Management constantly expresses that volume i...                   NaN  English       212             9                 SAW     UCSD  447089                  SAT  If you would like to elaborate on your responses above, or if you have any additional feedback r...      Verbatim               114.0  Comments re Work Environment at UCSD  Satisfaction with UC San Diego            None            None            None                    1    96023.0    3855         999999.0    UC San Diego          90000.0  VICE CHANCELLOR HEALTH SCIENCES          93000.0                    SCHOOL OF MEDICINE          96015.0  VCHS ACADEMIC RESOURCE CENTER (ARC)          96023.0    COMPENSATION & TIMEKEEPING              NaN             NaN              NaN             NaN              NaN             NaN  Adequate Staffing           1   AdequateStaffing   \n",
       "2     32  589390           1877  Doctors and supervisors are supportive. However, clinical trials are very busy and sometimes I f...                   NaN  English       212             9                 SAW     UCSD  451657                  SAT  If you would like to elaborate on your responses above, or if you have any additional feedback r...      Verbatim               114.0  Comments re Work Environment at UCSD  Satisfaction with UC San Diego            None            None            None                    1    98200.0    3631         999999.0    UC San Diego          90000.0  VICE CHANCELLOR HEALTH SCIENCES          93000.0                    SCHOOL OF MEDICINE          98000.0                        CANCER CENTER          98200.0  CLINICAL TRIALS OFFICE (CTO)              NaN             NaN              NaN             NaN              NaN             NaN  Adequate Staffing           1   AdequateStaffing   \n",
       "3     48  590606           9439  Evaluate staffing and productivity for the urgent care/walk in clinic as well as the walk in nur...                   NaN  English       212             9                 SAW     UCSD  450625                 None  The Standing Committee on Service and People Oriented Culture (SC-SPOC) is interested in learnin...      Verbatim               201.0                     IdeaWave Comments                           Other            None            None            None                    1    31302.0    3555         999999.0    UC San Diego          90000.0  VICE CHANCELLOR HEALTH SCIENCES          90563.0           STUDENT HEALTH & WELL BEING          31302.0              STUDENT HEALTH SERVICES              NaN                           NaN              NaN             NaN              NaN             NaN              NaN             NaN  Adequate Staffing           1   AdequateStaffing   \n",
       "4     70  588546           1877  This VC area does a poor job of managing resources (both human and monetary). Initiatives are of...                   NaN  English       212             9                 SAW     UCSD  447652                  SAT  If you would like to elaborate on your responses above, or if you have any additional feedback r...      Verbatim               114.0  Comments re Work Environment at UCSD  Satisfaction with UC San Diego            None            None            None                    1    12011.0    3783         999999.0    UC San Diego          12000.0              VC-RESEARCH AFFAIRS          12011.0  RESEARCH AFFAIRS - SENIOR MANAGEMENT              NaN                                  NaN              NaN                           NaN              NaN             NaN              NaN             NaN              NaN             NaN  Adequate Staffing           1   AdequateStaffing   \n",
       "\n",
       "                                                                                           answer_text  \n",
       "0  There are ongoing issues in our department that make for an often awkward and uncomfortable work...  \n",
       "1  Workload is unbalanced and needs to be reassessed. Management constantly expresses that volume i...  \n",
       "2  Doctors and supervisors are supportive. However, clinical trials are very busy and sometimes I f...  \n",
       "3  Evaluate staffing and productivity for the urgent care/walk in clinic as well as the walk in nur...  \n",
       "4  This VC area does a poor job of managing resources (both human and monetary). Initiatives are of...  "
      ]
     },
     "execution_count": 119,
     "metadata": {},
     "output_type": "execute_result"
    }
   ],
   "source": [
    "inf_df.head()"
   ]
  },
  {
   "cell_type": "code",
   "execution_count": 140,
   "metadata": {
    "scrolled": true
   },
   "outputs": [
    {
     "name": "stdout",
     "output_type": "stream",
     "text": [
      "cuda:1\n",
      "0\n",
      "torch.Size([4286, 1]) torch.Size([4286, 2])\n"
     ]
    }
   ],
   "source": [
    "device = torch.device('cuda:1') if torch.cuda.is_available() else torch.device('cpu')\n",
    "print(device)\n",
    "\n",
    "inf_probs_sent, inf_probs_is_example = get_standard_theme_preds(inf_df, device=device)\n",
    "print(inf_probs_sent.shape, inf_probs_is_example.shape)"
   ]
  },
  {
   "cell_type": "markdown",
   "metadata": {},
   "source": [
    "Add the probabilities of each label to `inf_df`"
   ]
  },
  {
   "cell_type": "code",
   "execution_count": 141,
   "metadata": {},
   "outputs": [
    {
     "data": {
      "text/plain": [
       "(4286, 2)"
      ]
     },
     "execution_count": 141,
     "metadata": {},
     "output_type": "execute_result"
    }
   ],
   "source": [
    "inf_probs_is_example.numpy().shape"
   ]
  },
  {
   "cell_type": "code",
   "execution_count": 142,
   "metadata": {},
   "outputs": [
    {
     "data": {
      "text/plain": [
       "array([[2.0719056e+00, 4.5130560e-03],\n",
       "       [2.0534282e+00, 3.1740253e-03],\n",
       "       [3.3183842e+00, 1.3612753e-03],\n",
       "       ...,\n",
       "       [2.0770049e+00, 1.0045206e-02],\n",
       "       [4.3059611e+00, 6.7040185e-03],\n",
       "       [4.3792539e+00, 7.3828311e-03]], dtype=float32)"
      ]
     },
     "execution_count": 142,
     "metadata": {},
     "output_type": "execute_result"
    }
   ],
   "source": [
    "np.concatenate((inf_probs_sent.numpy(), inf_probs_is_example.numpy()[:,1][:,None]), axis=1)"
   ]
  },
  {
   "cell_type": "code",
   "execution_count": 143,
   "metadata": {},
   "outputs": [],
   "source": [
    "combined_probs = np.concatenate((inf_probs_sent.numpy(), inf_probs_is_example.numpy()[:,1][:,None]), axis=1)"
   ]
  },
  {
   "cell_type": "code",
   "execution_count": 144,
   "metadata": {},
   "outputs": [
    {
     "data": {
      "text/html": [
       "<div>\n",
       "<style scoped>\n",
       "    .dataframe tbody tr th:only-of-type {\n",
       "        vertical-align: middle;\n",
       "    }\n",
       "\n",
       "    .dataframe tbody tr th {\n",
       "        vertical-align: top;\n",
       "    }\n",
       "\n",
       "    .dataframe thead th {\n",
       "        text-align: right;\n",
       "    }\n",
       "</style>\n",
       "<table border=\"1\" class=\"dataframe\">\n",
       "  <thead>\n",
       "    <tr style=\"text-align: right;\">\n",
       "      <th></th>\n",
       "      <th>prob_avg_sentiment</th>\n",
       "      <th>prob_is_example</th>\n",
       "    </tr>\n",
       "  </thead>\n",
       "  <tbody>\n",
       "    <tr>\n",
       "      <th>0</th>\n",
       "      <td>2.071906</td>\n",
       "      <td>0.004513</td>\n",
       "    </tr>\n",
       "    <tr>\n",
       "      <th>1</th>\n",
       "      <td>2.053428</td>\n",
       "      <td>0.003174</td>\n",
       "    </tr>\n",
       "    <tr>\n",
       "      <th>2</th>\n",
       "      <td>3.318384</td>\n",
       "      <td>0.001361</td>\n",
       "    </tr>\n",
       "    <tr>\n",
       "      <th>3</th>\n",
       "      <td>2.118701</td>\n",
       "      <td>0.005070</td>\n",
       "    </tr>\n",
       "    <tr>\n",
       "      <th>4</th>\n",
       "      <td>2.118699</td>\n",
       "      <td>0.006251</td>\n",
       "    </tr>\n",
       "  </tbody>\n",
       "</table>\n",
       "</div>"
      ],
      "text/plain": [
       "   prob_avg_sentiment  prob_is_example\n",
       "0            2.071906         0.004513\n",
       "1            2.053428         0.003174\n",
       "2            3.318384         0.001361\n",
       "3            2.118701         0.005070\n",
       "4            2.118699         0.006251"
      ]
     },
     "execution_count": 144,
     "metadata": {},
     "output_type": "execute_result"
    }
   ],
   "source": [
    "prob_labels = ['prob_' + lbl for lbl in STANDARD_THEME_META_LABELS]\n",
    "probs_df = pd.DataFrame(combined_probs, columns=prob_labels)\n",
    "probs_df.head()"
   ]
  },
  {
   "cell_type": "code",
   "execution_count": 145,
   "metadata": {},
   "outputs": [
    {
     "data": {
      "text/html": [
       "<div>\n",
       "<style scoped>\n",
       "    .dataframe tbody tr th:only-of-type {\n",
       "        vertical-align: middle;\n",
       "    }\n",
       "\n",
       "    .dataframe tbody tr th {\n",
       "        vertical-align: top;\n",
       "    }\n",
       "\n",
       "    .dataframe thead th {\n",
       "        text-align: right;\n",
       "    }\n",
       "</style>\n",
       "<table border=\"1\" class=\"dataframe\">\n",
       "  <thead>\n",
       "    <tr style=\"text-align: right;\">\n",
       "      <th></th>\n",
       "      <th>index</th>\n",
       "      <th>Id</th>\n",
       "      <th>QuestionAnsID</th>\n",
       "      <th>AnswerText</th>\n",
       "      <th>AnswerText_NonEnglish</th>\n",
       "      <th>Language</th>\n",
       "      <th>SurveyID</th>\n",
       "      <th>SurveyTypeID</th>\n",
       "      <th>BenchmarkSurveyType</th>\n",
       "      <th>ClientId</th>\n",
       "      <th>RspID</th>\n",
       "      <th>QuestionCategoryAbbr</th>\n",
       "      <th>QuestionText</th>\n",
       "      <th>QuestionClass</th>\n",
       "      <th>QuestionCategoryID</th>\n",
       "      <th>QuestionReportAbbr</th>\n",
       "      <th>QuestionCategoryLabel</th>\n",
       "      <th>BenchmarkLevel1</th>\n",
       "      <th>BenchmarkLevel2</th>\n",
       "      <th>BenchmarkLevel3</th>\n",
       "      <th>ClientBenchmarkLevel</th>\n",
       "      <th>GroupCode</th>\n",
       "      <th>GroupID</th>\n",
       "      <th>GroupLevel1Code</th>\n",
       "      <th>GroupLevel1Name</th>\n",
       "      <th>GroupLevel2Code</th>\n",
       "      <th>GroupLevel2Name</th>\n",
       "      <th>GroupLevel3Code</th>\n",
       "      <th>GroupLevel3Name</th>\n",
       "      <th>GroupLevel4Code</th>\n",
       "      <th>GroupLevel4Name</th>\n",
       "      <th>GroupLevel5Code</th>\n",
       "      <th>GroupLevel5Name</th>\n",
       "      <th>GroupLevel6Code</th>\n",
       "      <th>GroupLevel6Name</th>\n",
       "      <th>GroupLevel7Code</th>\n",
       "      <th>GroupLevel7Name</th>\n",
       "      <th>GroupLevel8Code</th>\n",
       "      <th>GroupLevel8Name</th>\n",
       "      <th>theme</th>\n",
       "      <th>theme_pred</th>\n",
       "      <th>url_friendly_theme</th>\n",
       "      <th>answer_text</th>\n",
       "      <th>prob_avg_sentiment</th>\n",
       "      <th>prob_is_example</th>\n",
       "    </tr>\n",
       "  </thead>\n",
       "  <tbody>\n",
       "    <tr>\n",
       "      <th>0</th>\n",
       "      <td>8</td>\n",
       "      <td>588956</td>\n",
       "      <td>1877</td>\n",
       "      <td>There are ongoing issues in our department that make for an often awkward and uncomfortable work...</td>\n",
       "      <td>NaN</td>\n",
       "      <td>English</td>\n",
       "      <td>212</td>\n",
       "      <td>9</td>\n",
       "      <td>SAW</td>\n",
       "      <td>UCSD</td>\n",
       "      <td>449462</td>\n",
       "      <td>SAT</td>\n",
       "      <td>If you would like to elaborate on your responses above, or if you have any additional feedback r...</td>\n",
       "      <td>Verbatim</td>\n",
       "      <td>114.0</td>\n",
       "      <td>Comments re Work Environment at UCSD</td>\n",
       "      <td>Satisfaction with UC San Diego</td>\n",
       "      <td>None</td>\n",
       "      <td>None</td>\n",
       "      <td>None</td>\n",
       "      <td>1</td>\n",
       "      <td>11200.0</td>\n",
       "      <td>3472</td>\n",
       "      <td>999999.0</td>\n",
       "      <td>UC San Diego</td>\n",
       "      <td>10000.0</td>\n",
       "      <td>ACADEMIC AFFAIRS</td>\n",
       "      <td>10011.0</td>\n",
       "      <td>COLLEGES</td>\n",
       "      <td>11200.0</td>\n",
       "      <td>ROOSEVELT COLLEGE</td>\n",
       "      <td>NaN</td>\n",
       "      <td>NaN</td>\n",
       "      <td>NaN</td>\n",
       "      <td>NaN</td>\n",
       "      <td>NaN</td>\n",
       "      <td>NaN</td>\n",
       "      <td>NaN</td>\n",
       "      <td>NaN</td>\n",
       "      <td>Adequate Staffing</td>\n",
       "      <td>1</td>\n",
       "      <td>AdequateStaffing</td>\n",
       "      <td>There are ongoing issues in our department that make for an often awkward and uncomfortable work...</td>\n",
       "      <td>2.071906</td>\n",
       "      <td>0.004513</td>\n",
       "    </tr>\n",
       "    <tr>\n",
       "      <th>1</th>\n",
       "      <td>26</td>\n",
       "      <td>588454</td>\n",
       "      <td>1877</td>\n",
       "      <td>Workload is unbalanced and needs to be reassessed. Management constantly expresses that volume i...</td>\n",
       "      <td>NaN</td>\n",
       "      <td>English</td>\n",
       "      <td>212</td>\n",
       "      <td>9</td>\n",
       "      <td>SAW</td>\n",
       "      <td>UCSD</td>\n",
       "      <td>447089</td>\n",
       "      <td>SAT</td>\n",
       "      <td>If you would like to elaborate on your responses above, or if you have any additional feedback r...</td>\n",
       "      <td>Verbatim</td>\n",
       "      <td>114.0</td>\n",
       "      <td>Comments re Work Environment at UCSD</td>\n",
       "      <td>Satisfaction with UC San Diego</td>\n",
       "      <td>None</td>\n",
       "      <td>None</td>\n",
       "      <td>None</td>\n",
       "      <td>1</td>\n",
       "      <td>96023.0</td>\n",
       "      <td>3855</td>\n",
       "      <td>999999.0</td>\n",
       "      <td>UC San Diego</td>\n",
       "      <td>90000.0</td>\n",
       "      <td>VICE CHANCELLOR HEALTH SCIENCES</td>\n",
       "      <td>93000.0</td>\n",
       "      <td>SCHOOL OF MEDICINE</td>\n",
       "      <td>96015.0</td>\n",
       "      <td>VCHS ACADEMIC RESOURCE CENTER (ARC)</td>\n",
       "      <td>96023.0</td>\n",
       "      <td>COMPENSATION &amp; TIMEKEEPING</td>\n",
       "      <td>NaN</td>\n",
       "      <td>NaN</td>\n",
       "      <td>NaN</td>\n",
       "      <td>NaN</td>\n",
       "      <td>NaN</td>\n",
       "      <td>NaN</td>\n",
       "      <td>Adequate Staffing</td>\n",
       "      <td>1</td>\n",
       "      <td>AdequateStaffing</td>\n",
       "      <td>Workload is unbalanced and needs to be reassessed. Management constantly expresses that volume i...</td>\n",
       "      <td>2.053428</td>\n",
       "      <td>0.003174</td>\n",
       "    </tr>\n",
       "    <tr>\n",
       "      <th>2</th>\n",
       "      <td>32</td>\n",
       "      <td>589390</td>\n",
       "      <td>1877</td>\n",
       "      <td>Doctors and supervisors are supportive. However, clinical trials are very busy and sometimes I f...</td>\n",
       "      <td>NaN</td>\n",
       "      <td>English</td>\n",
       "      <td>212</td>\n",
       "      <td>9</td>\n",
       "      <td>SAW</td>\n",
       "      <td>UCSD</td>\n",
       "      <td>451657</td>\n",
       "      <td>SAT</td>\n",
       "      <td>If you would like to elaborate on your responses above, or if you have any additional feedback r...</td>\n",
       "      <td>Verbatim</td>\n",
       "      <td>114.0</td>\n",
       "      <td>Comments re Work Environment at UCSD</td>\n",
       "      <td>Satisfaction with UC San Diego</td>\n",
       "      <td>None</td>\n",
       "      <td>None</td>\n",
       "      <td>None</td>\n",
       "      <td>1</td>\n",
       "      <td>98200.0</td>\n",
       "      <td>3631</td>\n",
       "      <td>999999.0</td>\n",
       "      <td>UC San Diego</td>\n",
       "      <td>90000.0</td>\n",
       "      <td>VICE CHANCELLOR HEALTH SCIENCES</td>\n",
       "      <td>93000.0</td>\n",
       "      <td>SCHOOL OF MEDICINE</td>\n",
       "      <td>98000.0</td>\n",
       "      <td>CANCER CENTER</td>\n",
       "      <td>98200.0</td>\n",
       "      <td>CLINICAL TRIALS OFFICE (CTO)</td>\n",
       "      <td>NaN</td>\n",
       "      <td>NaN</td>\n",
       "      <td>NaN</td>\n",
       "      <td>NaN</td>\n",
       "      <td>NaN</td>\n",
       "      <td>NaN</td>\n",
       "      <td>Adequate Staffing</td>\n",
       "      <td>1</td>\n",
       "      <td>AdequateStaffing</td>\n",
       "      <td>Doctors and supervisors are supportive. However, clinical trials are very busy and sometimes I f...</td>\n",
       "      <td>3.318384</td>\n",
       "      <td>0.001361</td>\n",
       "    </tr>\n",
       "    <tr>\n",
       "      <th>3</th>\n",
       "      <td>48</td>\n",
       "      <td>590606</td>\n",
       "      <td>9439</td>\n",
       "      <td>Evaluate staffing and productivity for the urgent care/walk in clinic as well as the walk in nur...</td>\n",
       "      <td>NaN</td>\n",
       "      <td>English</td>\n",
       "      <td>212</td>\n",
       "      <td>9</td>\n",
       "      <td>SAW</td>\n",
       "      <td>UCSD</td>\n",
       "      <td>450625</td>\n",
       "      <td>None</td>\n",
       "      <td>The Standing Committee on Service and People Oriented Culture (SC-SPOC) is interested in learnin...</td>\n",
       "      <td>Verbatim</td>\n",
       "      <td>201.0</td>\n",
       "      <td>IdeaWave Comments</td>\n",
       "      <td>Other</td>\n",
       "      <td>None</td>\n",
       "      <td>None</td>\n",
       "      <td>None</td>\n",
       "      <td>1</td>\n",
       "      <td>31302.0</td>\n",
       "      <td>3555</td>\n",
       "      <td>999999.0</td>\n",
       "      <td>UC San Diego</td>\n",
       "      <td>90000.0</td>\n",
       "      <td>VICE CHANCELLOR HEALTH SCIENCES</td>\n",
       "      <td>90563.0</td>\n",
       "      <td>STUDENT HEALTH &amp; WELL BEING</td>\n",
       "      <td>31302.0</td>\n",
       "      <td>STUDENT HEALTH SERVICES</td>\n",
       "      <td>NaN</td>\n",
       "      <td>NaN</td>\n",
       "      <td>NaN</td>\n",
       "      <td>NaN</td>\n",
       "      <td>NaN</td>\n",
       "      <td>NaN</td>\n",
       "      <td>NaN</td>\n",
       "      <td>NaN</td>\n",
       "      <td>Adequate Staffing</td>\n",
       "      <td>1</td>\n",
       "      <td>AdequateStaffing</td>\n",
       "      <td>Evaluate staffing and productivity for the urgent care/walk in clinic as well as the walk in nur...</td>\n",
       "      <td>2.118701</td>\n",
       "      <td>0.005070</td>\n",
       "    </tr>\n",
       "    <tr>\n",
       "      <th>4</th>\n",
       "      <td>70</td>\n",
       "      <td>588546</td>\n",
       "      <td>1877</td>\n",
       "      <td>This VC area does a poor job of managing resources (both human and monetary). Initiatives are of...</td>\n",
       "      <td>NaN</td>\n",
       "      <td>English</td>\n",
       "      <td>212</td>\n",
       "      <td>9</td>\n",
       "      <td>SAW</td>\n",
       "      <td>UCSD</td>\n",
       "      <td>447652</td>\n",
       "      <td>SAT</td>\n",
       "      <td>If you would like to elaborate on your responses above, or if you have any additional feedback r...</td>\n",
       "      <td>Verbatim</td>\n",
       "      <td>114.0</td>\n",
       "      <td>Comments re Work Environment at UCSD</td>\n",
       "      <td>Satisfaction with UC San Diego</td>\n",
       "      <td>None</td>\n",
       "      <td>None</td>\n",
       "      <td>None</td>\n",
       "      <td>1</td>\n",
       "      <td>12011.0</td>\n",
       "      <td>3783</td>\n",
       "      <td>999999.0</td>\n",
       "      <td>UC San Diego</td>\n",
       "      <td>12000.0</td>\n",
       "      <td>VC-RESEARCH AFFAIRS</td>\n",
       "      <td>12011.0</td>\n",
       "      <td>RESEARCH AFFAIRS - SENIOR MANAGEMENT</td>\n",
       "      <td>NaN</td>\n",
       "      <td>NaN</td>\n",
       "      <td>NaN</td>\n",
       "      <td>NaN</td>\n",
       "      <td>NaN</td>\n",
       "      <td>NaN</td>\n",
       "      <td>NaN</td>\n",
       "      <td>NaN</td>\n",
       "      <td>NaN</td>\n",
       "      <td>NaN</td>\n",
       "      <td>Adequate Staffing</td>\n",
       "      <td>1</td>\n",
       "      <td>AdequateStaffing</td>\n",
       "      <td>This VC area does a poor job of managing resources (both human and monetary). Initiatives are of...</td>\n",
       "      <td>2.118699</td>\n",
       "      <td>0.006251</td>\n",
       "    </tr>\n",
       "  </tbody>\n",
       "</table>\n",
       "</div>"
      ],
      "text/plain": [
       "   index      Id  QuestionAnsID                                                                                           AnswerText AnswerText_NonEnglish Language  SurveyID  SurveyTypeID BenchmarkSurveyType ClientId   RspID QuestionCategoryAbbr                                                                                         QuestionText QuestionClass  QuestionCategoryID                    QuestionReportAbbr           QuestionCategoryLabel BenchmarkLevel1 BenchmarkLevel2 BenchmarkLevel3 ClientBenchmarkLevel  GroupCode GroupID  GroupLevel1Code GroupLevel1Name  GroupLevel2Code                  GroupLevel2Name  GroupLevel3Code                       GroupLevel3Name  GroupLevel4Code                      GroupLevel4Name  GroupLevel5Code               GroupLevel5Name  GroupLevel6Code GroupLevel6Name  GroupLevel7Code GroupLevel7Name  GroupLevel8Code GroupLevel8Name              theme  theme_pred url_friendly_theme  \\\n",
       "0      8  588956           1877  There are ongoing issues in our department that make for an often awkward and uncomfortable work...                   NaN  English       212             9                 SAW     UCSD  449462                  SAT  If you would like to elaborate on your responses above, or if you have any additional feedback r...      Verbatim               114.0  Comments re Work Environment at UCSD  Satisfaction with UC San Diego            None            None            None                    1    11200.0    3472         999999.0    UC San Diego          10000.0                 ACADEMIC AFFAIRS          10011.0                              COLLEGES          11200.0                    ROOSEVELT COLLEGE              NaN                           NaN              NaN             NaN              NaN             NaN              NaN             NaN  Adequate Staffing           1   AdequateStaffing   \n",
       "1     26  588454           1877  Workload is unbalanced and needs to be reassessed. Management constantly expresses that volume i...                   NaN  English       212             9                 SAW     UCSD  447089                  SAT  If you would like to elaborate on your responses above, or if you have any additional feedback r...      Verbatim               114.0  Comments re Work Environment at UCSD  Satisfaction with UC San Diego            None            None            None                    1    96023.0    3855         999999.0    UC San Diego          90000.0  VICE CHANCELLOR HEALTH SCIENCES          93000.0                    SCHOOL OF MEDICINE          96015.0  VCHS ACADEMIC RESOURCE CENTER (ARC)          96023.0    COMPENSATION & TIMEKEEPING              NaN             NaN              NaN             NaN              NaN             NaN  Adequate Staffing           1   AdequateStaffing   \n",
       "2     32  589390           1877  Doctors and supervisors are supportive. However, clinical trials are very busy and sometimes I f...                   NaN  English       212             9                 SAW     UCSD  451657                  SAT  If you would like to elaborate on your responses above, or if you have any additional feedback r...      Verbatim               114.0  Comments re Work Environment at UCSD  Satisfaction with UC San Diego            None            None            None                    1    98200.0    3631         999999.0    UC San Diego          90000.0  VICE CHANCELLOR HEALTH SCIENCES          93000.0                    SCHOOL OF MEDICINE          98000.0                        CANCER CENTER          98200.0  CLINICAL TRIALS OFFICE (CTO)              NaN             NaN              NaN             NaN              NaN             NaN  Adequate Staffing           1   AdequateStaffing   \n",
       "3     48  590606           9439  Evaluate staffing and productivity for the urgent care/walk in clinic as well as the walk in nur...                   NaN  English       212             9                 SAW     UCSD  450625                 None  The Standing Committee on Service and People Oriented Culture (SC-SPOC) is interested in learnin...      Verbatim               201.0                     IdeaWave Comments                           Other            None            None            None                    1    31302.0    3555         999999.0    UC San Diego          90000.0  VICE CHANCELLOR HEALTH SCIENCES          90563.0           STUDENT HEALTH & WELL BEING          31302.0              STUDENT HEALTH SERVICES              NaN                           NaN              NaN             NaN              NaN             NaN              NaN             NaN  Adequate Staffing           1   AdequateStaffing   \n",
       "4     70  588546           1877  This VC area does a poor job of managing resources (both human and monetary). Initiatives are of...                   NaN  English       212             9                 SAW     UCSD  447652                  SAT  If you would like to elaborate on your responses above, or if you have any additional feedback r...      Verbatim               114.0  Comments re Work Environment at UCSD  Satisfaction with UC San Diego            None            None            None                    1    12011.0    3783         999999.0    UC San Diego          12000.0              VC-RESEARCH AFFAIRS          12011.0  RESEARCH AFFAIRS - SENIOR MANAGEMENT              NaN                                  NaN              NaN                           NaN              NaN             NaN              NaN             NaN              NaN             NaN  Adequate Staffing           1   AdequateStaffing   \n",
       "\n",
       "                                                                                           answer_text  prob_avg_sentiment  prob_is_example  \n",
       "0  There are ongoing issues in our department that make for an often awkward and uncomfortable work...            2.071906         0.004513  \n",
       "1  Workload is unbalanced and needs to be reassessed. Management constantly expresses that volume i...            2.053428         0.003174  \n",
       "2  Doctors and supervisors are supportive. However, clinical trials are very busy and sometimes I f...            3.318384         0.001361  \n",
       "3  Evaluate staffing and productivity for the urgent care/walk in clinic as well as the walk in nur...            2.118701         0.005070  \n",
       "4  This VC area does a poor job of managing resources (both human and monetary). Initiatives are of...            2.118699         0.006251  "
      ]
     },
     "execution_count": 145,
     "metadata": {},
     "output_type": "execute_result"
    }
   ],
   "source": [
    "# test_df_filtered.update(probs_df)\n",
    "final_df = pd.concat([inf_df, probs_df], axis=1)\n",
    "final_df.head()"
   ]
  },
  {
   "cell_type": "markdown",
   "metadata": {},
   "source": [
    "Add in predictions based on f05 threshold"
   ]
  },
  {
   "cell_type": "code",
   "execution_count": 147,
   "metadata": {},
   "outputs": [
    {
     "data": {
      "text/plain": [
       "0.33"
      ]
     },
     "execution_count": 147,
     "metadata": {},
     "output_type": "execute_result"
    }
   ],
   "source": [
    "threshold_f05"
   ]
  },
  {
   "cell_type": "code",
   "execution_count": 148,
   "metadata": {},
   "outputs": [],
   "source": [
    "for lbl in STANDARD_THEME_META_LABELS[1:]:\n",
    "    final_df[f'pred_{lbl}'] = (final_df[f'prob_{lbl}'] > threshold_f05).astype(np.int64)"
   ]
  },
  {
   "cell_type": "code",
   "execution_count": 149,
   "metadata": {},
   "outputs": [
    {
     "data": {
      "text/html": [
       "<div>\n",
       "<style scoped>\n",
       "    .dataframe tbody tr th:only-of-type {\n",
       "        vertical-align: middle;\n",
       "    }\n",
       "\n",
       "    .dataframe tbody tr th {\n",
       "        vertical-align: top;\n",
       "    }\n",
       "\n",
       "    .dataframe thead th {\n",
       "        text-align: right;\n",
       "    }\n",
       "</style>\n",
       "<table border=\"1\" class=\"dataframe\">\n",
       "  <thead>\n",
       "    <tr style=\"text-align: right;\">\n",
       "      <th></th>\n",
       "      <th>index</th>\n",
       "      <th>Id</th>\n",
       "      <th>QuestionAnsID</th>\n",
       "      <th>AnswerText</th>\n",
       "      <th>AnswerText_NonEnglish</th>\n",
       "      <th>Language</th>\n",
       "      <th>SurveyID</th>\n",
       "      <th>SurveyTypeID</th>\n",
       "      <th>BenchmarkSurveyType</th>\n",
       "      <th>ClientId</th>\n",
       "      <th>RspID</th>\n",
       "      <th>QuestionCategoryAbbr</th>\n",
       "      <th>QuestionText</th>\n",
       "      <th>QuestionClass</th>\n",
       "      <th>QuestionCategoryID</th>\n",
       "      <th>QuestionReportAbbr</th>\n",
       "      <th>QuestionCategoryLabel</th>\n",
       "      <th>BenchmarkLevel1</th>\n",
       "      <th>BenchmarkLevel2</th>\n",
       "      <th>BenchmarkLevel3</th>\n",
       "      <th>ClientBenchmarkLevel</th>\n",
       "      <th>GroupCode</th>\n",
       "      <th>GroupID</th>\n",
       "      <th>GroupLevel1Code</th>\n",
       "      <th>GroupLevel1Name</th>\n",
       "      <th>GroupLevel2Code</th>\n",
       "      <th>GroupLevel2Name</th>\n",
       "      <th>GroupLevel3Code</th>\n",
       "      <th>GroupLevel3Name</th>\n",
       "      <th>GroupLevel4Code</th>\n",
       "      <th>GroupLevel4Name</th>\n",
       "      <th>GroupLevel5Code</th>\n",
       "      <th>GroupLevel5Name</th>\n",
       "      <th>GroupLevel6Code</th>\n",
       "      <th>GroupLevel6Name</th>\n",
       "      <th>GroupLevel7Code</th>\n",
       "      <th>GroupLevel7Name</th>\n",
       "      <th>GroupLevel8Code</th>\n",
       "      <th>GroupLevel8Name</th>\n",
       "      <th>theme</th>\n",
       "      <th>theme_pred</th>\n",
       "      <th>url_friendly_theme</th>\n",
       "      <th>answer_text</th>\n",
       "      <th>prob_avg_sentiment</th>\n",
       "      <th>prob_is_example</th>\n",
       "      <th>pred_is_example</th>\n",
       "    </tr>\n",
       "  </thead>\n",
       "  <tbody>\n",
       "    <tr>\n",
       "      <th>0</th>\n",
       "      <td>8</td>\n",
       "      <td>588956</td>\n",
       "      <td>1877</td>\n",
       "      <td>There are ongoing issues in our department that make for an often awkward and uncomfortable work...</td>\n",
       "      <td>NaN</td>\n",
       "      <td>English</td>\n",
       "      <td>212</td>\n",
       "      <td>9</td>\n",
       "      <td>SAW</td>\n",
       "      <td>UCSD</td>\n",
       "      <td>449462</td>\n",
       "      <td>SAT</td>\n",
       "      <td>If you would like to elaborate on your responses above, or if you have any additional feedback r...</td>\n",
       "      <td>Verbatim</td>\n",
       "      <td>114.0</td>\n",
       "      <td>Comments re Work Environment at UCSD</td>\n",
       "      <td>Satisfaction with UC San Diego</td>\n",
       "      <td>None</td>\n",
       "      <td>None</td>\n",
       "      <td>None</td>\n",
       "      <td>1</td>\n",
       "      <td>11200.0</td>\n",
       "      <td>3472</td>\n",
       "      <td>999999.0</td>\n",
       "      <td>UC San Diego</td>\n",
       "      <td>10000.0</td>\n",
       "      <td>ACADEMIC AFFAIRS</td>\n",
       "      <td>10011.0</td>\n",
       "      <td>COLLEGES</td>\n",
       "      <td>11200.0</td>\n",
       "      <td>ROOSEVELT COLLEGE</td>\n",
       "      <td>NaN</td>\n",
       "      <td>NaN</td>\n",
       "      <td>NaN</td>\n",
       "      <td>NaN</td>\n",
       "      <td>NaN</td>\n",
       "      <td>NaN</td>\n",
       "      <td>NaN</td>\n",
       "      <td>NaN</td>\n",
       "      <td>Adequate Staffing</td>\n",
       "      <td>1</td>\n",
       "      <td>AdequateStaffing</td>\n",
       "      <td>There are ongoing issues in our department that make for an often awkward and uncomfortable work...</td>\n",
       "      <td>2.071906</td>\n",
       "      <td>0.004513</td>\n",
       "      <td>0</td>\n",
       "    </tr>\n",
       "    <tr>\n",
       "      <th>1</th>\n",
       "      <td>26</td>\n",
       "      <td>588454</td>\n",
       "      <td>1877</td>\n",
       "      <td>Workload is unbalanced and needs to be reassessed. Management constantly expresses that volume i...</td>\n",
       "      <td>NaN</td>\n",
       "      <td>English</td>\n",
       "      <td>212</td>\n",
       "      <td>9</td>\n",
       "      <td>SAW</td>\n",
       "      <td>UCSD</td>\n",
       "      <td>447089</td>\n",
       "      <td>SAT</td>\n",
       "      <td>If you would like to elaborate on your responses above, or if you have any additional feedback r...</td>\n",
       "      <td>Verbatim</td>\n",
       "      <td>114.0</td>\n",
       "      <td>Comments re Work Environment at UCSD</td>\n",
       "      <td>Satisfaction with UC San Diego</td>\n",
       "      <td>None</td>\n",
       "      <td>None</td>\n",
       "      <td>None</td>\n",
       "      <td>1</td>\n",
       "      <td>96023.0</td>\n",
       "      <td>3855</td>\n",
       "      <td>999999.0</td>\n",
       "      <td>UC San Diego</td>\n",
       "      <td>90000.0</td>\n",
       "      <td>VICE CHANCELLOR HEALTH SCIENCES</td>\n",
       "      <td>93000.0</td>\n",
       "      <td>SCHOOL OF MEDICINE</td>\n",
       "      <td>96015.0</td>\n",
       "      <td>VCHS ACADEMIC RESOURCE CENTER (ARC)</td>\n",
       "      <td>96023.0</td>\n",
       "      <td>COMPENSATION &amp; TIMEKEEPING</td>\n",
       "      <td>NaN</td>\n",
       "      <td>NaN</td>\n",
       "      <td>NaN</td>\n",
       "      <td>NaN</td>\n",
       "      <td>NaN</td>\n",
       "      <td>NaN</td>\n",
       "      <td>Adequate Staffing</td>\n",
       "      <td>1</td>\n",
       "      <td>AdequateStaffing</td>\n",
       "      <td>Workload is unbalanced and needs to be reassessed. Management constantly expresses that volume i...</td>\n",
       "      <td>2.053428</td>\n",
       "      <td>0.003174</td>\n",
       "      <td>0</td>\n",
       "    </tr>\n",
       "    <tr>\n",
       "      <th>2</th>\n",
       "      <td>32</td>\n",
       "      <td>589390</td>\n",
       "      <td>1877</td>\n",
       "      <td>Doctors and supervisors are supportive. However, clinical trials are very busy and sometimes I f...</td>\n",
       "      <td>NaN</td>\n",
       "      <td>English</td>\n",
       "      <td>212</td>\n",
       "      <td>9</td>\n",
       "      <td>SAW</td>\n",
       "      <td>UCSD</td>\n",
       "      <td>451657</td>\n",
       "      <td>SAT</td>\n",
       "      <td>If you would like to elaborate on your responses above, or if you have any additional feedback r...</td>\n",
       "      <td>Verbatim</td>\n",
       "      <td>114.0</td>\n",
       "      <td>Comments re Work Environment at UCSD</td>\n",
       "      <td>Satisfaction with UC San Diego</td>\n",
       "      <td>None</td>\n",
       "      <td>None</td>\n",
       "      <td>None</td>\n",
       "      <td>1</td>\n",
       "      <td>98200.0</td>\n",
       "      <td>3631</td>\n",
       "      <td>999999.0</td>\n",
       "      <td>UC San Diego</td>\n",
       "      <td>90000.0</td>\n",
       "      <td>VICE CHANCELLOR HEALTH SCIENCES</td>\n",
       "      <td>93000.0</td>\n",
       "      <td>SCHOOL OF MEDICINE</td>\n",
       "      <td>98000.0</td>\n",
       "      <td>CANCER CENTER</td>\n",
       "      <td>98200.0</td>\n",
       "      <td>CLINICAL TRIALS OFFICE (CTO)</td>\n",
       "      <td>NaN</td>\n",
       "      <td>NaN</td>\n",
       "      <td>NaN</td>\n",
       "      <td>NaN</td>\n",
       "      <td>NaN</td>\n",
       "      <td>NaN</td>\n",
       "      <td>Adequate Staffing</td>\n",
       "      <td>1</td>\n",
       "      <td>AdequateStaffing</td>\n",
       "      <td>Doctors and supervisors are supportive. However, clinical trials are very busy and sometimes I f...</td>\n",
       "      <td>3.318384</td>\n",
       "      <td>0.001361</td>\n",
       "      <td>0</td>\n",
       "    </tr>\n",
       "    <tr>\n",
       "      <th>3</th>\n",
       "      <td>48</td>\n",
       "      <td>590606</td>\n",
       "      <td>9439</td>\n",
       "      <td>Evaluate staffing and productivity for the urgent care/walk in clinic as well as the walk in nur...</td>\n",
       "      <td>NaN</td>\n",
       "      <td>English</td>\n",
       "      <td>212</td>\n",
       "      <td>9</td>\n",
       "      <td>SAW</td>\n",
       "      <td>UCSD</td>\n",
       "      <td>450625</td>\n",
       "      <td>None</td>\n",
       "      <td>The Standing Committee on Service and People Oriented Culture (SC-SPOC) is interested in learnin...</td>\n",
       "      <td>Verbatim</td>\n",
       "      <td>201.0</td>\n",
       "      <td>IdeaWave Comments</td>\n",
       "      <td>Other</td>\n",
       "      <td>None</td>\n",
       "      <td>None</td>\n",
       "      <td>None</td>\n",
       "      <td>1</td>\n",
       "      <td>31302.0</td>\n",
       "      <td>3555</td>\n",
       "      <td>999999.0</td>\n",
       "      <td>UC San Diego</td>\n",
       "      <td>90000.0</td>\n",
       "      <td>VICE CHANCELLOR HEALTH SCIENCES</td>\n",
       "      <td>90563.0</td>\n",
       "      <td>STUDENT HEALTH &amp; WELL BEING</td>\n",
       "      <td>31302.0</td>\n",
       "      <td>STUDENT HEALTH SERVICES</td>\n",
       "      <td>NaN</td>\n",
       "      <td>NaN</td>\n",
       "      <td>NaN</td>\n",
       "      <td>NaN</td>\n",
       "      <td>NaN</td>\n",
       "      <td>NaN</td>\n",
       "      <td>NaN</td>\n",
       "      <td>NaN</td>\n",
       "      <td>Adequate Staffing</td>\n",
       "      <td>1</td>\n",
       "      <td>AdequateStaffing</td>\n",
       "      <td>Evaluate staffing and productivity for the urgent care/walk in clinic as well as the walk in nur...</td>\n",
       "      <td>2.118701</td>\n",
       "      <td>0.005070</td>\n",
       "      <td>0</td>\n",
       "    </tr>\n",
       "    <tr>\n",
       "      <th>4</th>\n",
       "      <td>70</td>\n",
       "      <td>588546</td>\n",
       "      <td>1877</td>\n",
       "      <td>This VC area does a poor job of managing resources (both human and monetary). Initiatives are of...</td>\n",
       "      <td>NaN</td>\n",
       "      <td>English</td>\n",
       "      <td>212</td>\n",
       "      <td>9</td>\n",
       "      <td>SAW</td>\n",
       "      <td>UCSD</td>\n",
       "      <td>447652</td>\n",
       "      <td>SAT</td>\n",
       "      <td>If you would like to elaborate on your responses above, or if you have any additional feedback r...</td>\n",
       "      <td>Verbatim</td>\n",
       "      <td>114.0</td>\n",
       "      <td>Comments re Work Environment at UCSD</td>\n",
       "      <td>Satisfaction with UC San Diego</td>\n",
       "      <td>None</td>\n",
       "      <td>None</td>\n",
       "      <td>None</td>\n",
       "      <td>1</td>\n",
       "      <td>12011.0</td>\n",
       "      <td>3783</td>\n",
       "      <td>999999.0</td>\n",
       "      <td>UC San Diego</td>\n",
       "      <td>12000.0</td>\n",
       "      <td>VC-RESEARCH AFFAIRS</td>\n",
       "      <td>12011.0</td>\n",
       "      <td>RESEARCH AFFAIRS - SENIOR MANAGEMENT</td>\n",
       "      <td>NaN</td>\n",
       "      <td>NaN</td>\n",
       "      <td>NaN</td>\n",
       "      <td>NaN</td>\n",
       "      <td>NaN</td>\n",
       "      <td>NaN</td>\n",
       "      <td>NaN</td>\n",
       "      <td>NaN</td>\n",
       "      <td>NaN</td>\n",
       "      <td>NaN</td>\n",
       "      <td>Adequate Staffing</td>\n",
       "      <td>1</td>\n",
       "      <td>AdequateStaffing</td>\n",
       "      <td>This VC area does a poor job of managing resources (both human and monetary). Initiatives are of...</td>\n",
       "      <td>2.118699</td>\n",
       "      <td>0.006251</td>\n",
       "      <td>0</td>\n",
       "    </tr>\n",
       "  </tbody>\n",
       "</table>\n",
       "</div>"
      ],
      "text/plain": [
       "   index      Id  QuestionAnsID                                                                                           AnswerText AnswerText_NonEnglish Language  SurveyID  SurveyTypeID BenchmarkSurveyType ClientId   RspID QuestionCategoryAbbr                                                                                         QuestionText QuestionClass  QuestionCategoryID                    QuestionReportAbbr           QuestionCategoryLabel BenchmarkLevel1 BenchmarkLevel2 BenchmarkLevel3 ClientBenchmarkLevel  GroupCode GroupID  GroupLevel1Code GroupLevel1Name  GroupLevel2Code                  GroupLevel2Name  GroupLevel3Code                       GroupLevel3Name  GroupLevel4Code                      GroupLevel4Name  GroupLevel5Code               GroupLevel5Name  GroupLevel6Code GroupLevel6Name  GroupLevel7Code GroupLevel7Name  GroupLevel8Code GroupLevel8Name              theme  theme_pred url_friendly_theme  \\\n",
       "0      8  588956           1877  There are ongoing issues in our department that make for an often awkward and uncomfortable work...                   NaN  English       212             9                 SAW     UCSD  449462                  SAT  If you would like to elaborate on your responses above, or if you have any additional feedback r...      Verbatim               114.0  Comments re Work Environment at UCSD  Satisfaction with UC San Diego            None            None            None                    1    11200.0    3472         999999.0    UC San Diego          10000.0                 ACADEMIC AFFAIRS          10011.0                              COLLEGES          11200.0                    ROOSEVELT COLLEGE              NaN                           NaN              NaN             NaN              NaN             NaN              NaN             NaN  Adequate Staffing           1   AdequateStaffing   \n",
       "1     26  588454           1877  Workload is unbalanced and needs to be reassessed. Management constantly expresses that volume i...                   NaN  English       212             9                 SAW     UCSD  447089                  SAT  If you would like to elaborate on your responses above, or if you have any additional feedback r...      Verbatim               114.0  Comments re Work Environment at UCSD  Satisfaction with UC San Diego            None            None            None                    1    96023.0    3855         999999.0    UC San Diego          90000.0  VICE CHANCELLOR HEALTH SCIENCES          93000.0                    SCHOOL OF MEDICINE          96015.0  VCHS ACADEMIC RESOURCE CENTER (ARC)          96023.0    COMPENSATION & TIMEKEEPING              NaN             NaN              NaN             NaN              NaN             NaN  Adequate Staffing           1   AdequateStaffing   \n",
       "2     32  589390           1877  Doctors and supervisors are supportive. However, clinical trials are very busy and sometimes I f...                   NaN  English       212             9                 SAW     UCSD  451657                  SAT  If you would like to elaborate on your responses above, or if you have any additional feedback r...      Verbatim               114.0  Comments re Work Environment at UCSD  Satisfaction with UC San Diego            None            None            None                    1    98200.0    3631         999999.0    UC San Diego          90000.0  VICE CHANCELLOR HEALTH SCIENCES          93000.0                    SCHOOL OF MEDICINE          98000.0                        CANCER CENTER          98200.0  CLINICAL TRIALS OFFICE (CTO)              NaN             NaN              NaN             NaN              NaN             NaN  Adequate Staffing           1   AdequateStaffing   \n",
       "3     48  590606           9439  Evaluate staffing and productivity for the urgent care/walk in clinic as well as the walk in nur...                   NaN  English       212             9                 SAW     UCSD  450625                 None  The Standing Committee on Service and People Oriented Culture (SC-SPOC) is interested in learnin...      Verbatim               201.0                     IdeaWave Comments                           Other            None            None            None                    1    31302.0    3555         999999.0    UC San Diego          90000.0  VICE CHANCELLOR HEALTH SCIENCES          90563.0           STUDENT HEALTH & WELL BEING          31302.0              STUDENT HEALTH SERVICES              NaN                           NaN              NaN             NaN              NaN             NaN              NaN             NaN  Adequate Staffing           1   AdequateStaffing   \n",
       "4     70  588546           1877  This VC area does a poor job of managing resources (both human and monetary). Initiatives are of...                   NaN  English       212             9                 SAW     UCSD  447652                  SAT  If you would like to elaborate on your responses above, or if you have any additional feedback r...      Verbatim               114.0  Comments re Work Environment at UCSD  Satisfaction with UC San Diego            None            None            None                    1    12011.0    3783         999999.0    UC San Diego          12000.0              VC-RESEARCH AFFAIRS          12011.0  RESEARCH AFFAIRS - SENIOR MANAGEMENT              NaN                                  NaN              NaN                           NaN              NaN             NaN              NaN             NaN              NaN             NaN  Adequate Staffing           1   AdequateStaffing   \n",
       "\n",
       "                                                                                           answer_text  prob_avg_sentiment  prob_is_example  pred_is_example  \n",
       "0  There are ongoing issues in our department that make for an often awkward and uncomfortable work...            2.071906         0.004513                0  \n",
       "1  Workload is unbalanced and needs to be reassessed. Management constantly expresses that volume i...            2.053428         0.003174                0  \n",
       "2  Doctors and supervisors are supportive. However, clinical trials are very busy and sometimes I f...            3.318384         0.001361                0  \n",
       "3  Evaluate staffing and productivity for the urgent care/walk in clinic as well as the walk in nur...            2.118701         0.005070                0  \n",
       "4  This VC area does a poor job of managing resources (both human and monetary). Initiatives are of...            2.118699         0.006251                0  "
      ]
     },
     "execution_count": 149,
     "metadata": {},
     "output_type": "execute_result"
    }
   ],
   "source": [
    "final_df.head()"
   ]
  },
  {
   "cell_type": "markdown",
   "metadata": {},
   "source": [
    "## Cleanup"
   ]
  },
  {
   "cell_type": "code",
   "execution_count": 150,
   "metadata": {},
   "outputs": [
    {
     "name": "stdout",
     "output_type": "stream",
     "text": [
      "Converted 00_utils.ipynb.\n",
      "Converted 02a_verbatims-core.ipynb.\n",
      "Converted 02c_verbatims-standard-themes-saw-training.ipynb.\n",
      "Converted 02e_verbatims-standard-themes-meta-training.ipynb.\n",
      "Converted 99_verbatims-inference.ipynb.\n",
      "Converted Untitled.ipynb.\n",
      "Converted index.ipynb.\n"
     ]
    }
   ],
   "source": [
    "#hide\n",
    "from nbdev.export import notebook2script\n",
    "notebook2script()"
   ]
  },
  {
   "cell_type": "markdown",
   "metadata": {},
   "source": [
    "## Playground"
   ]
  },
  {
   "cell_type": "code",
   "execution_count": 153,
   "metadata": {},
   "outputs": [
    {
     "name": "stdout",
     "output_type": "stream",
     "text": [
      "=== text ===\n",
      "One thing that is discouraging is that it doesn't seem that under performers or unreliable co-workers get addressed. It has been years.\\r\\n\\r\\nA positive is I was hugely encouraged by how quickly campus administration addressed a hate issue and took excellent care of the victim.\n",
      "\n",
      "=== preds ===\n",
      "[3.284809   0.00522985]\n"
     ]
    }
   ],
   "source": [
    "verbatim_id = 589305\n",
    "\n",
    "pred_lbls = [ f'prob_{lbl}' for lbl in STANDARD_THEME_META_LABELS ]\n",
    "prob_lbls = [ f'prob_{lbl}' for lbl in STANDARD_THEME_META_LABELS ]\n",
    "\n",
    "print(\"=== text ===\")\n",
    "print(final_df.AnswerText[final_df.Id == verbatim_id].values[0])\n",
    "print('\\n=== preds ===')\n",
    "preds = final_df[pred_lbls][final_df.Id == verbatim_id].values[0]\n",
    "print(preds)"
   ]
  },
  {
   "cell_type": "code",
   "execution_count": 155,
   "metadata": {},
   "outputs": [
    {
     "data": {
      "text/html": [
       "<div>\n",
       "<style scoped>\n",
       "    .dataframe tbody tr th:only-of-type {\n",
       "        vertical-align: middle;\n",
       "    }\n",
       "\n",
       "    .dataframe tbody tr th {\n",
       "        vertical-align: top;\n",
       "    }\n",
       "\n",
       "    .dataframe thead th {\n",
       "        text-align: right;\n",
       "    }\n",
       "</style>\n",
       "<table border=\"1\" class=\"dataframe\">\n",
       "  <thead>\n",
       "    <tr style=\"text-align: right;\">\n",
       "      <th></th>\n",
       "      <th>index</th>\n",
       "      <th>Id</th>\n",
       "      <th>QuestionAnsID</th>\n",
       "      <th>AnswerText</th>\n",
       "      <th>AnswerText_NonEnglish</th>\n",
       "      <th>Language</th>\n",
       "      <th>SurveyID</th>\n",
       "      <th>SurveyTypeID</th>\n",
       "      <th>BenchmarkSurveyType</th>\n",
       "      <th>ClientId</th>\n",
       "      <th>RspID</th>\n",
       "      <th>QuestionCategoryAbbr</th>\n",
       "      <th>QuestionText</th>\n",
       "      <th>QuestionClass</th>\n",
       "      <th>QuestionCategoryID</th>\n",
       "      <th>QuestionReportAbbr</th>\n",
       "      <th>QuestionCategoryLabel</th>\n",
       "      <th>BenchmarkLevel1</th>\n",
       "      <th>BenchmarkLevel2</th>\n",
       "      <th>BenchmarkLevel3</th>\n",
       "      <th>ClientBenchmarkLevel</th>\n",
       "      <th>GroupCode</th>\n",
       "      <th>GroupID</th>\n",
       "      <th>GroupLevel1Code</th>\n",
       "      <th>GroupLevel1Name</th>\n",
       "      <th>GroupLevel2Code</th>\n",
       "      <th>GroupLevel2Name</th>\n",
       "      <th>GroupLevel3Code</th>\n",
       "      <th>GroupLevel3Name</th>\n",
       "      <th>GroupLevel4Code</th>\n",
       "      <th>GroupLevel4Name</th>\n",
       "      <th>GroupLevel5Code</th>\n",
       "      <th>GroupLevel5Name</th>\n",
       "      <th>GroupLevel6Code</th>\n",
       "      <th>GroupLevel6Name</th>\n",
       "      <th>GroupLevel7Code</th>\n",
       "      <th>GroupLevel7Name</th>\n",
       "      <th>GroupLevel8Code</th>\n",
       "      <th>GroupLevel8Name</th>\n",
       "      <th>theme</th>\n",
       "      <th>theme_pred</th>\n",
       "      <th>url_friendly_theme</th>\n",
       "      <th>answer_text</th>\n",
       "      <th>prob_avg_sentiment</th>\n",
       "      <th>prob_is_example</th>\n",
       "      <th>pred_is_example</th>\n",
       "    </tr>\n",
       "  </thead>\n",
       "  <tbody>\n",
       "  </tbody>\n",
       "</table>\n",
       "</div>"
      ],
      "text/plain": [
       "Empty DataFrame\n",
       "Columns: [index, Id, QuestionAnsID, AnswerText, AnswerText_NonEnglish, Language, SurveyID, SurveyTypeID, BenchmarkSurveyType, ClientId, RspID, QuestionCategoryAbbr, QuestionText, QuestionClass, QuestionCategoryID, QuestionReportAbbr, QuestionCategoryLabel, BenchmarkLevel1, BenchmarkLevel2, BenchmarkLevel3, ClientBenchmarkLevel, GroupCode, GroupID, GroupLevel1Code, GroupLevel1Name, GroupLevel2Code, GroupLevel2Name, GroupLevel3Code, GroupLevel3Name, GroupLevel4Code, GroupLevel4Name, GroupLevel5Code, GroupLevel5Name, GroupLevel6Code, GroupLevel6Name, GroupLevel7Code, GroupLevel7Name, GroupLevel8Code, GroupLevel8Name, theme, theme_pred, url_friendly_theme, answer_text, prob_avg_sentiment, prob_is_example, pred_is_example]\n",
       "Index: []"
      ]
     },
     "execution_count": 155,
     "metadata": {},
     "output_type": "execute_result"
    }
   ],
   "source": [
    "final_df[final_df.pred_is_example == 1].head()"
   ]
  },
  {
   "cell_type": "code",
   "execution_count": 158,
   "metadata": {},
   "outputs": [
    {
     "data": {
      "text/plain": [
       "0.08772729"
      ]
     },
     "execution_count": 158,
     "metadata": {},
     "output_type": "execute_result"
    }
   ],
   "source": [
    "final_df.prob_is_example.max()"
   ]
  },
  {
   "cell_type": "code",
   "execution_count": 160,
   "metadata": {},
   "outputs": [
    {
     "data": {
      "text/plain": [
       "(0.33, 0.33, 0.33)"
      ]
     },
     "execution_count": 160,
     "metadata": {},
     "output_type": "execute_result"
    }
   ],
   "source": [
    "threshold_f05, threshold_f1, threshold_f2"
   ]
  },
  {
   "cell_type": "code",
   "execution_count": null,
   "metadata": {},
   "outputs": [],
   "source": []
  }
 ],
 "metadata": {
  "kernelspec": {
   "display_name": "Python 3",
   "language": "python",
   "name": "python3"
  },
  "language_info": {
   "codemirror_mode": {
    "name": "ipython",
    "version": 3
   },
   "file_extension": ".py",
   "mimetype": "text/x-python",
   "name": "python",
   "nbconvert_exporter": "python",
   "pygments_lexer": "ipython3",
   "version": "3.7.6"
  },
  "varInspector": {
   "cols": {
    "lenName": 16,
    "lenType": 16,
    "lenVar": 40
   },
   "kernels_config": {
    "python": {
     "delete_cmd_postfix": "",
     "delete_cmd_prefix": "del ",
     "library": "var_list.py",
     "varRefreshCmd": "print(var_dic_list())"
    },
    "r": {
     "delete_cmd_postfix": ") ",
     "delete_cmd_prefix": "rm(",
     "library": "var_list.r",
     "varRefreshCmd": "cat(var_dic_list()) "
    }
   },
   "position": {
    "height": "468px",
    "left": "1307px",
    "right": "20px",
    "top": "120px",
    "width": "353px"
   },
   "types_to_exclude": [
    "module",
    "function",
    "builtin_function_or_method",
    "instance",
    "_Feature"
   ],
   "window_display": false
  }
 },
 "nbformat": 4,
 "nbformat_minor": 2
}
