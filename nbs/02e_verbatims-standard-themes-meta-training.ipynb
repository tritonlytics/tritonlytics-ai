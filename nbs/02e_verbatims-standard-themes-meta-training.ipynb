{
 "cells": [
  {
   "cell_type": "code",
   "execution_count": 2,
   "metadata": {},
   "outputs": [],
   "source": [
    "#default_exp verbatims/standard_themes_meta/training"
   ]
  },
  {
   "cell_type": "code",
   "execution_count": 3,
   "metadata": {},
   "outputs": [],
   "source": [
    "#all_slow"
   ]
  },
  {
   "cell_type": "code",
   "execution_count": 4,
   "metadata": {},
   "outputs": [],
   "source": [
    "#hide\n",
    "%reload_ext autoreload\n",
    "%autoreload 2\n",
    "%matplotlib inline"
   ]
  },
  {
   "cell_type": "markdown",
   "metadata": {},
   "source": [
    "# Standard Meta Themes - Training\n",
    "\n",
    "> This module contains all the bits required to train and evaluate meta standard theme models.  These are models which, for a given verbatim related to a standard tehem, predicts the sentiment relative to *that* theme and whether it should be used as an example"
   ]
  },
  {
   "cell_type": "code",
   "execution_count": 5,
   "metadata": {},
   "outputs": [],
   "source": [
    "#export\n",
    "import os, datetime, gc\n",
    "import sklearn.metrics as skm\n",
    "\n",
    "import optuna\n",
    "\n",
    "from fastai import metrics as fa_metrics\n",
    "from fastai.text.all import *\n",
    "from transformers import *\n",
    "from blurr.utils import *\n",
    "from blurr.data.core import *\n",
    "from blurr.modeling.all import MultiTargetLoss\n",
    "from blurr.modeling.core import *\n",
    "\n",
    "from tritonlytics_ai.utils import *\n",
    "from tritonlytics_ai.verbatims.core import *\n",
    "\n",
    "from transformers import logging as hf_logging\n",
    "hf_logging.set_verbosity_error()"
   ]
  },
  {
   "cell_type": "code",
   "execution_count": 6,
   "metadata": {},
   "outputs": [],
   "source": [
    "#hide\n",
    "import pdb\n",
    "\n",
    "# pandas and plotting config\n",
    "import seaborn as sns\n",
    "sns.set_style('whitegrid')\n",
    "\n",
    "plt.rcParams['figure.figsize'] = (9,6)\n",
    "\n",
    "pd.set_option('display.max_rows', 500)\n",
    "pd.set_option('display.max_columns', 500)\n",
    "pd.set_option('display.width', 1000)\n",
    "pd.set_option('display.max_colwidth', 100)\n",
    "\n",
    "from nbdev.showdoc import *\n",
    "from fastcore.test import *"
   ]
  },
  {
   "cell_type": "code",
   "execution_count": 7,
   "metadata": {
    "tags": []
   },
   "outputs": [
    {
     "name": "stdout",
     "output_type": "stream",
     "text": [
      "Using pytorch 1.6.0\n",
      "Using fastai 2.0.16\n",
      "Using transformers 3.3.1\n"
     ]
    }
   ],
   "source": [
    "#hide\n",
    "from fastai import __version__ as fa_version\n",
    "from torch import __version__ as pt_version\n",
    "from transformers import __version__ as hft_version\n",
    "\n",
    "print(f'Using pytorch {pt_version}')\n",
    "print(f'Using fastai {fa_version}')\n",
    "print(f'Using transformers {hft_version}')"
   ]
  },
  {
   "cell_type": "code",
   "execution_count": 8,
   "metadata": {
    "tags": []
   },
   "outputs": [
    {
     "name": "stdout",
     "output_type": "stream",
     "text": [
      "Using GPU #1\n"
     ]
    }
   ],
   "source": [
    "#cuda\n",
    "torch.cuda.set_device(1)\n",
    "print(f'Using GPU #{torch.cuda.current_device()}')"
   ]
  },
  {
   "cell_type": "code",
   "execution_count": 9,
   "metadata": {},
   "outputs": [],
   "source": [
    "train_config = {}"
   ]
  },
  {
   "cell_type": "markdown",
   "metadata": {},
   "source": [
    "## Data"
   ]
  },
  {
   "cell_type": "code",
   "execution_count": 9,
   "metadata": {
    "scrolled": true
   },
   "outputs": [],
   "source": [
    "task = HF_TASKS_AUTO.SequenceClassification\n",
    "\n",
    "pretrained_model_name = 'facebook/bart-base' #\"bert-base-cased\" #\"bert-base-uncased\" #\"roberta-base\"\n",
    "config = AutoConfig.from_pretrained(pretrained_model_name)\n",
    "config.attention_probs_dropout_prob = 0.1 * 2\n",
    "config.hidden_dropout_prob = 0.1 * 2\n",
    "\n",
    "hf_arch, hf_config, hf_tokenizer, hf_model = BLURR_MODEL_HELPER.get_hf_objects(pretrained_model_name, \n",
    "                                                                               task=task, \n",
    "                                                                               config=config)"
   ]
  },
  {
   "cell_type": "code",
   "execution_count": 10,
   "metadata": {},
   "outputs": [],
   "source": [
    "df = get_meta_standard_theme_train_data(train_config=train_config)\n",
    "train_df, valid_df = df[df.is_valid == False], df[df.is_valid == True]\n",
    "\n",
    "set_seed(TL_RAND_SEED)\n",
    "dls = get_meta_standard_theme_train_dls(df, hf_arch, hf_tokenizer, train_config=train_config)"
   ]
  },
  {
   "cell_type": "code",
   "execution_count": 11,
   "metadata": {
    "tags": []
   },
   "outputs": [
    {
     "data": {
      "text/plain": [
       "(3, torch.Size([8, 468]), torch.Size([8]), torch.Size([8]))"
      ]
     },
     "execution_count": 11,
     "metadata": {},
     "output_type": "execute_result"
    }
   ],
   "source": [
    "b = dls.one_batch()\n",
    "len(b), b[0]['input_ids'].shape, b[1].shape, b[2].shape"
   ]
  },
  {
   "cell_type": "markdown",
   "metadata": {},
   "source": [
    "## Training"
   ]
  },
  {
   "cell_type": "code",
   "execution_count": 12,
   "metadata": {},
   "outputs": [],
   "source": [
    "m_pre = f'exp_{m_pre_standard_themes_meta}'\n",
    "m_suf = m_suf_standard_themes_meta\n",
    "base_model_name = base_model_name_standard_themes_meta"
   ]
  },
  {
   "cell_type": "markdown",
   "metadata": {},
   "source": [
    "Configure our **metrics**"
   ]
  },
  {
   "cell_type": "code",
   "execution_count": 9,
   "metadata": {},
   "outputs": [],
   "source": [
    "#export\n",
    "# define metrics\n",
    "def sentiment_mse(preds, *targs):\n",
    "    return fa_metrics.mse(preds[0], targs[0])\n",
    "\n",
    "def is_example_acc(preds, *targs):\n",
    "    return fa_metrics.accuracy(preds[1], targs[1])"
   ]
  },
  {
   "cell_type": "code",
   "execution_count": 10,
   "metadata": {},
   "outputs": [],
   "source": [
    "#export\n",
    "def get_metrics(train_config={}):\n",
    "    config = {**meta_standard_themes_train_config, **train_config}\n",
    "    return [ sentiment_mse, is_example_acc ]"
   ]
  },
  {
   "cell_type": "markdown",
   "metadata": {},
   "source": [
    "Configure our **loss**"
   ]
  },
  {
   "cell_type": "code",
   "execution_count": 15,
   "metadata": {
    "scrolled": true
   },
   "outputs": [
    {
     "name": "stdout",
     "output_type": "stream",
     "text": [
      "[1.0, 148.02469135802468]\n"
     ]
    }
   ],
   "source": [
    "is_example_weights = list(np.max(train_df.is_example.value_counts()) /train_df.is_example.value_counts())\n",
    "print(is_example_weights)"
   ]
  },
  {
   "cell_type": "code",
   "execution_count": 16,
   "metadata": {},
   "outputs": [],
   "source": [
    "# define our custom multi-target loss\n",
    "loss_func = MultiTargetLoss(loss_classes=[MSELossFlat, CrossEntropyLossFlat],\n",
    "                            loss_classes_kwargs=[{}, {'weight': FloatTensor(is_example_weights).to('cuda:1')}],\n",
    "                            weights=[1, 0.1], \n",
    "                            reduction='mean')"
   ]
  },
  {
   "cell_type": "code",
   "execution_count": 11,
   "metadata": {},
   "outputs": [],
   "source": [
    "#export\n",
    "def get_loss_func(dls, train_df=None, use_weighted=False):\n",
    "    loss_classes_kwargs = [{}, {}]\n",
    "    \n",
    "    if (use_weighted and train_df is not None):\n",
    "        is_example_weights = list(np.max(train_df.is_example.value_counts()) /train_df.is_example.value_counts())\n",
    "        loss_classes_kwargs[1] = {'weight': FloatTensor(is_example_weights).to(dls.device)}\n",
    "    \n",
    "    loss_func = MultiTargetLoss(loss_classes=[MSELossFlat, CrossEntropyLossFlat],\n",
    "                                loss_classes_kwargs=loss_classes_kwargs,\n",
    "                                weights=[1, 0.1], \n",
    "                                reduction='mean')\n",
    "        \n",
    "    return loss_func"
   ]
  },
  {
   "cell_type": "code",
   "execution_count": 18,
   "metadata": {},
   "outputs": [],
   "source": [
    "tst_loss_func = get_loss_func(dls, train_df, use_weighted=False)\n",
    "test_is(type(tst_loss_func), MultiTargetLoss)"
   ]
  },
  {
   "cell_type": "code",
   "execution_count": 19,
   "metadata": {},
   "outputs": [],
   "source": [
    "tst_loss_func = get_loss_func(dls, train_df, use_weighted=True)\n",
    "test_is(type(tst_loss_func), MultiTargetLoss)\n",
    "test_eq(len(tst_loss_func.loss_funcs[1].func.weight), len(dls.c))\n",
    "test_eq(dls.device, tst_loss_func.loss_funcs[1].func.weight.device)"
   ]
  },
  {
   "cell_type": "markdown",
   "metadata": {},
   "source": [
    "Configure our **callbacks**"
   ]
  },
  {
   "cell_type": "code",
   "execution_count": 12,
   "metadata": {},
   "outputs": [],
   "source": [
    "#export\n",
    "class Meta_MM_HF_BaseModelCallback(HF_BaseModelCallback):\n",
    "    def __init__(self, cls_idx=0):\n",
    "        super().__init__()\n",
    "        self.cls_idx = cls_idx\n",
    "        \n",
    "    def after_pred(self):\n",
    "        super().after_pred()\n",
    "        if (self.learn.pred[0].dim() == 3):\n",
    "            self.learn.pred = (self.learn.pred[0][:,self.cls_idx,:], self.learn.pred[1][:,self.cls_idx,:])"
   ]
  },
  {
   "cell_type": "code",
   "execution_count": 21,
   "metadata": {},
   "outputs": [],
   "source": [
    "best_model_cb = SaveModelCallback(monitor='valid_loss', \n",
    "                                  comp=np.less, \n",
    "                                  reset_on_fit=False,\n",
    "                                  fname=f'{m_pre}{base_model_name}{m_suf}_bestmodel')"
   ]
  },
  {
   "cell_type": "code",
   "execution_count": 13,
   "metadata": {},
   "outputs": [],
   "source": [
    "#export\n",
    "def get_cbs(train_config={}, add_save_model_cb=True):\n",
    "    config = {**meta_standard_themes_train_config, **train_config}\n",
    "    fit_cbs = []\n",
    "    \n",
    "    best_model_cb = SaveModelCallback(monitor=config['save_model_monitor'], \n",
    "                                      comp=config['save_model_comp'], \n",
    "                                      fname=config['save_model_filename'],\n",
    "                                      reset_on_fit=False)\n",
    "    \n",
    "    if (add_save_model_cb): fit_cbs.append(best_model_cb)\n",
    "    \n",
    "    return [Meta_MM_HF_BaseModelCallback], fit_cbs # (learn_cbs, fit_cbs)"
   ]
  },
  {
   "cell_type": "markdown",
   "metadata": {},
   "source": [
    "Configure our **final model** by updating our hf_model.classifier for multi-modal tasks"
   ]
  },
  {
   "cell_type": "code",
   "execution_count": 23,
   "metadata": {},
   "outputs": [],
   "source": [
    "#hide\n",
    "\n",
    "# class Meta_MM(Module):\n",
    "#     def __init__(self, in_features=768, inner_dim=768, p=0.0): \n",
    "#         super().__init__()\n",
    "#         self.dense = nn.Linear(in_features, inner_dim)\n",
    "#         self.dropout = nn.Dropout(p=p)\n",
    "#         self.pred_is_example = nn.Linear(inner_dim, 2, bias=False)\n",
    "#         self.pred_avg_sentiment = nn.Linear(inner_dim, 1, bias=False)\n",
    "#         self.pred_avg_sent_range = SigmoidRange(1., 5.1)\n",
    "        \n",
    "#     def forward(self, x):\n",
    "#         x = self.dropout(x)\n",
    "#         x = self.dense(x)\n",
    "#         x = torch.tanh(x)\n",
    "#         x = self.dropout(x)\n",
    "#         is_example = self.pred_is_example(x)\n",
    "#         avg_sentiment = self.pred_avg_sent_range(self.pred_avg_sentiment(x))\n",
    "        \n",
    "#         return avg_sentiment, is_example"
   ]
  },
  {
   "cell_type": "code",
   "execution_count": 14,
   "metadata": {},
   "outputs": [],
   "source": [
    "#export\n",
    "class Meta_MM(Module):\n",
    "    def __init__(self, in_features=50): \n",
    "        super().__init__()\n",
    "        self.pred_is_example = nn.Linear(in_features, 2, bias=False)\n",
    "        self.pred_avg_sentiment = nn.Linear(in_features, 1, bias=False)\n",
    "        self.pred_avg_sent_range = SigmoidRange(1., 5.1)\n",
    "        \n",
    "    def forward(self, x):\n",
    "        is_example = self.pred_is_example(x)\n",
    "        avg_sentiment = self.pred_avg_sent_range(self.pred_avg_sentiment(x))\n",
    "        \n",
    "        return avg_sentiment, is_example"
   ]
  },
  {
   "cell_type": "code",
   "execution_count": 25,
   "metadata": {},
   "outputs": [],
   "source": [
    "last_layer = list(hf_model.named_children())[-1]"
   ]
  },
  {
   "cell_type": "code",
   "execution_count": 26,
   "metadata": {},
   "outputs": [
    {
     "data": {
      "text/plain": [
       "'classification_head'"
      ]
     },
     "execution_count": 26,
     "metadata": {},
     "output_type": "execute_result"
    }
   ],
   "source": [
    "last_layer_name = last_layer[0]; last_layer_name"
   ]
  },
  {
   "cell_type": "code",
   "execution_count": 27,
   "metadata": {
    "scrolled": true
   },
   "outputs": [],
   "source": [
    "in_features = hf_model._modules[last_layer_name].dense.in_features"
   ]
  },
  {
   "cell_type": "code",
   "execution_count": 28,
   "metadata": {},
   "outputs": [],
   "source": [
    "hf_model._modules[last_layer_name] = Meta_MM(in_features=in_features)"
   ]
  },
  {
   "cell_type": "code",
   "execution_count": 29,
   "metadata": {},
   "outputs": [],
   "source": [
    "#hide\n",
    "# in_features = list(last_layer[1].children())[0].in_features; in_features\n",
    "# mm_model = nn.Sequential(list(hf_model.named_children())[:-1][0][1])\n",
    "# mm_model.add_module(name='classifier', module=MM(in_features=768))\n",
    "# hf_model._modules['classifier'] = hf_model._modules.pop(last_layer_name)"
   ]
  },
  {
   "cell_type": "markdown",
   "metadata": {},
   "source": [
    "Configure the **Learner**"
   ]
  },
  {
   "cell_type": "code",
   "execution_count": 30,
   "metadata": {},
   "outputs": [],
   "source": [
    "try: del learn\n",
    "except: pass\n",
    "finally: gc.collect(); torch.cuda.empty_cache()"
   ]
  },
  {
   "cell_type": "code",
   "execution_count": 31,
   "metadata": {},
   "outputs": [],
   "source": [
    "learn_metrics = [sentiment_mse, is_example_acc]\n",
    "\n",
    "learn_cbs = [Meta_MM_HF_BaseModelCallback]\n",
    "fit_cbs = [best_model_cb]\n",
    "\n",
    "# build learner\n",
    "model =HF_BaseModelWrapper(hf_model)\n",
    "\n",
    "set_seed(TL_RAND_SEED)\n",
    "learn = Learner(dls, \n",
    "                model,\n",
    "                opt_func=partial(Adam, mom=0.9, sqr_mom=0.98, eps=1e-6, weight_decay=0.1),\n",
    "                loss_func=loss_func,\n",
    "                metrics=learn_metrics,\n",
    "                cbs=learn_cbs,\n",
    "                splitter=hf_splitter,\n",
    "                path=STANDARD_THEME_META_PATH)\n",
    "\n",
    "learn.create_opt() # -> will create your layer groups based on your \"splitter\" function\n",
    "learn.freeze()"
   ]
  },
  {
   "cell_type": "code",
   "execution_count": 32,
   "metadata": {},
   "outputs": [],
   "source": [
    "# learn.blurr_summary()"
   ]
  },
  {
   "cell_type": "code",
   "execution_count": 33,
   "metadata": {},
   "outputs": [],
   "source": [
    "# learn.show_training_loop()"
   ]
  },
  {
   "cell_type": "code",
   "execution_count": 34,
   "metadata": {},
   "outputs": [],
   "source": [
    "# Note: Run this to test the model and comment out afterwards as it needlessly contributes to GPU RAM utilization :(\n",
    "# preds = model(b[0]); preds[0][0].shape, preds[0][1].shape"
   ]
  },
  {
   "cell_type": "code",
   "execution_count": 15,
   "metadata": {},
   "outputs": [],
   "source": [
    "#export\n",
    "def get_learner(hf_model, dls, train_df=None, use_weighted_loss=False, use_fp16=True,\n",
    "                opt_func=partial(Adam, mom=0.9, sqr_mom=0.98, eps=1e-6, weight_decay=0.1),\n",
    "                add_save_model_cb=True, train_config={}):\n",
    "    config = {**meta_standard_themes_train_config, **train_config}\n",
    "    \n",
    "    # swap out classifier for our Meta_MM module\n",
    "    last_layer = list(hf_model.named_children())[-1]\n",
    "    last_layer_name = last_layer[0]\n",
    "    in_features = hf_model._modules[last_layer_name].dense.in_features\n",
    "    hf_model._modules[last_layer_name] = Meta_MM(in_features=in_features)\n",
    "    \n",
    "    # build learner\n",
    "    model = HF_BaseModelWrapper(hf_model)\n",
    "    loss_func = get_loss_func(dls, train_df, use_weighted_loss)\n",
    "    learn_cbs, fit_cbs = get_cbs(config, add_save_model_cb=add_save_model_cb)\n",
    "    learn_metrics = get_metrics(config)\n",
    "\n",
    "    set_seed(TL_RAND_SEED)\n",
    "    learn = Learner(dls, model, loss_func=loss_func, opt_func=opt_func, \n",
    "                    metrics=learn_metrics, cbs=learn_cbs, splitter=hf_splitter, path=config['learner_path'])\n",
    "    \n",
    "    if (use_fp16): learn = learn.to_fp16()\n",
    "    learn.create_opt() # -> will create your layer groups based on your \"splitter\" function\n",
    "    learn.freeze()\n",
    "    \n",
    "    return learn, fit_cbs"
   ]
  },
  {
   "cell_type": "code",
   "execution_count": 36,
   "metadata": {
    "scrolled": false
   },
   "outputs": [
    {
     "data": {
      "text/html": [],
      "text/plain": [
       "<IPython.core.display.HTML object>"
      ]
     },
     "metadata": {},
     "output_type": "display_data"
    },
    {
     "data": {
      "text/plain": [
       "(9.999999747378752e-07, 1.3182567499825382e-06)"
      ]
     },
     "execution_count": 36,
     "metadata": {},
     "output_type": "execute_result"
    },
    {
     "data": {
      "image/png": "[encoded data removed]",
      "text/plain": [
       "<Figure size 648x432 with 1 Axes>"
      ]
     },
     "metadata": {},
     "output_type": "display_data"
    }
   ],
   "source": [
    "lr_min, lr_steep = learn.lr_find(); lr_min, lr_steep"
   ]
  },
  {
   "cell_type": "code",
   "execution_count": 37,
   "metadata": {
    "scrolled": true
   },
   "outputs": [
    {
     "data": {
      "text/html": [
       "<table border=\"1\" class=\"dataframe\">\n",
       "  <thead>\n",
       "    <tr style=\"text-align: left;\">\n",
       "      <th>epoch</th>\n",
       "      <th>train_loss</th>\n",
       "      <th>valid_loss</th>\n",
       "      <th>sentiment_mse</th>\n",
       "      <th>is_example_acc</th>\n",
       "      <th>time</th>\n",
       "    </tr>\n",
       "  </thead>\n",
       "  <tbody>\n",
       "    <tr>\n",
       "      <td>0</td>\n",
       "      <td>0.929812</td>\n",
       "      <td>0.943785</td>\n",
       "      <td>0.908603</td>\n",
       "      <td>0.981888</td>\n",
       "      <td>02:05</td>\n",
       "    </tr>\n",
       "  </tbody>\n",
       "</table>"
      ],
      "text/plain": [
       "<IPython.core.display.HTML object>"
      ]
     },
     "metadata": {},
     "output_type": "display_data"
    },
    {
     "name": "stdout",
     "output_type": "stream",
     "text": [
      "Better model found at epoch 0 with valid_loss value: 0.9437850117683411.\n"
     ]
    }
   ],
   "source": [
    "set_seed(TL_RAND_SEED)\n",
    "learn.fit_one_cycle(1, lr_max=lr_min, cbs=fit_cbs)\n",
    "# learn.fit_flat_cos(10, lr_max=lr_min, cbs=fit_cbs, pct_start=0.72)"
   ]
  },
  {
   "cell_type": "code",
   "execution_count": 38,
   "metadata": {},
   "outputs": [
    {
     "data": {
      "text/html": [],
      "text/plain": [
       "<IPython.core.display.HTML object>"
      ]
     },
     "metadata": {},
     "output_type": "display_data"
    },
    {
     "data": {
      "text/plain": [
       "(1.0964781722577755e-07, 9.12010818865383e-07)"
      ]
     },
     "execution_count": 38,
     "metadata": {},
     "output_type": "execute_result"
    },
    {
     "data": {
      "image/png": "[encoded data removed]",
      "text/plain": [
       "<Figure size 648x432 with 1 Axes>"
      ]
     },
     "metadata": {},
     "output_type": "display_data"
    }
   ],
   "source": [
    "learn.unfreeze()\n",
    "lr_min, lr_steep = learn.lr_find(); lr_min, lr_steep"
   ]
  },
  {
   "cell_type": "code",
   "execution_count": 39,
   "metadata": {},
   "outputs": [
    {
     "data": {
      "text/html": [
       "<table border=\"1\" class=\"dataframe\">\n",
       "  <thead>\n",
       "    <tr style=\"text-align: left;\">\n",
       "      <th>epoch</th>\n",
       "      <th>train_loss</th>\n",
       "      <th>valid_loss</th>\n",
       "      <th>sentiment_mse</th>\n",
       "      <th>is_example_acc</th>\n",
       "      <th>time</th>\n",
       "    </tr>\n",
       "  </thead>\n",
       "  <tbody>\n",
       "    <tr>\n",
       "      <td>0</td>\n",
       "      <td>0.911631</td>\n",
       "      <td>0.918890</td>\n",
       "      <td>0.884714</td>\n",
       "      <td>0.984747</td>\n",
       "      <td>03:44</td>\n",
       "    </tr>\n",
       "    <tr>\n",
       "      <td>1</td>\n",
       "      <td>0.978143</td>\n",
       "      <td>0.841289</td>\n",
       "      <td>0.810555</td>\n",
       "      <td>0.991420</td>\n",
       "      <td>03:45</td>\n",
       "    </tr>\n",
       "    <tr>\n",
       "      <td>2</td>\n",
       "      <td>0.804809</td>\n",
       "      <td>0.775611</td>\n",
       "      <td>0.748013</td>\n",
       "      <td>0.991420</td>\n",
       "      <td>03:46</td>\n",
       "    </tr>\n",
       "    <tr>\n",
       "      <td>3</td>\n",
       "      <td>0.744287</td>\n",
       "      <td>0.729382</td>\n",
       "      <td>0.703372</td>\n",
       "      <td>0.991420</td>\n",
       "      <td>03:48</td>\n",
       "    </tr>\n",
       "    <tr>\n",
       "      <td>4</td>\n",
       "      <td>0.795165</td>\n",
       "      <td>0.693655</td>\n",
       "      <td>0.668524</td>\n",
       "      <td>0.991420</td>\n",
       "      <td>03:47</td>\n",
       "    </tr>\n",
       "    <tr>\n",
       "      <td>5</td>\n",
       "      <td>0.702241</td>\n",
       "      <td>0.668064</td>\n",
       "      <td>0.643372</td>\n",
       "      <td>0.991420</td>\n",
       "      <td>03:47</td>\n",
       "    </tr>\n",
       "    <tr>\n",
       "      <td>6</td>\n",
       "      <td>0.710689</td>\n",
       "      <td>0.651300</td>\n",
       "      <td>0.626834</td>\n",
       "      <td>0.991420</td>\n",
       "      <td>03:48</td>\n",
       "    </tr>\n",
       "    <tr>\n",
       "      <td>7</td>\n",
       "      <td>0.721196</td>\n",
       "      <td>0.643052</td>\n",
       "      <td>0.618704</td>\n",
       "      <td>0.991420</td>\n",
       "      <td>03:48</td>\n",
       "    </tr>\n",
       "    <tr>\n",
       "      <td>8</td>\n",
       "      <td>0.695299</td>\n",
       "      <td>0.640770</td>\n",
       "      <td>0.616453</td>\n",
       "      <td>0.991420</td>\n",
       "      <td>03:47</td>\n",
       "    </tr>\n",
       "    <tr>\n",
       "      <td>9</td>\n",
       "      <td>0.655520</td>\n",
       "      <td>0.640692</td>\n",
       "      <td>0.616377</td>\n",
       "      <td>0.991420</td>\n",
       "      <td>03:47</td>\n",
       "    </tr>\n",
       "  </tbody>\n",
       "</table>"
      ],
      "text/plain": [
       "<IPython.core.display.HTML object>"
      ]
     },
     "metadata": {},
     "output_type": "display_data"
    },
    {
     "name": "stdout",
     "output_type": "stream",
     "text": [
      "Better model found at epoch 0 with valid_loss value: 0.9188904166221619.\n",
      "Better model found at epoch 1 with valid_loss value: 0.8412891030311584.\n",
      "Better model found at epoch 2 with valid_loss value: 0.7756107449531555.\n",
      "Better model found at epoch 3 with valid_loss value: 0.7293819189071655.\n",
      "Better model found at epoch 4 with valid_loss value: 0.6936553716659546.\n",
      "Better model found at epoch 5 with valid_loss value: 0.668064296245575.\n",
      "Better model found at epoch 6 with valid_loss value: 0.6512995958328247.\n",
      "Better model found at epoch 7 with valid_loss value: 0.6430519223213196.\n",
      "Better model found at epoch 8 with valid_loss value: 0.6407696604728699.\n",
      "Better model found at epoch 9 with valid_loss value: 0.6406921148300171.\n"
     ]
    }
   ],
   "source": [
    "set_seed(TL_RAND_SEED)\n",
    "learn.fit_one_cycle(10, lr_max=slice(lr_min/10, lr_min), cbs=fit_cbs)\n",
    "# learn.fit_flat_cos(5, lr_max=slice(lr_min/10, lr_min), cbs=fit_cbs, pct_start=0.72)"
   ]
  },
  {
   "cell_type": "code",
   "execution_count": 40,
   "metadata": {},
   "outputs": [
    {
     "data": {
      "text/plain": [
       "Path('data/classification/standard_themes/meta/models/exp_verbatim_standard_theme_meta_multitask_hf.pth')"
      ]
     },
     "execution_count": 40,
     "metadata": {},
     "output_type": "execute_result"
    }
   ],
   "source": [
    "learn.save(f'{m_pre}{base_model_name}{m_suf}')"
   ]
  },
  {
   "cell_type": "markdown",
   "metadata": {},
   "source": [
    "Export model for inference"
   ]
  },
  {
   "cell_type": "code",
   "execution_count": 41,
   "metadata": {},
   "outputs": [],
   "source": [
    "learn.export(fname=f'{m_pre}{base_model_name}{m_suf}_export.pkl')"
   ]
  },
  {
   "cell_type": "markdown",
   "metadata": {},
   "source": [
    "Look at results"
   ]
  },
  {
   "cell_type": "code",
   "execution_count": 42,
   "metadata": {},
   "outputs": [
    {
     "data": {
      "text/html": [],
      "text/plain": [
       "<IPython.core.display.HTML object>"
      ]
     },
     "metadata": {},
     "output_type": "display_data"
    },
    {
     "data": {
      "text/plain": [
       "{'valid_loss': 0.6406921148300171,\n",
       " 'sentiment_mse': 0.6163774132728577,\n",
       " 'is_example_acc': 0.9914203882217407}"
      ]
     },
     "execution_count": 42,
     "metadata": {},
     "output_type": "execute_result"
    }
   ],
   "source": [
    "scores = dict(zip(learn.recorder.metric_names[2:], learn.validate())); scores"
   ]
  },
  {
   "cell_type": "code",
   "execution_count": 43,
   "metadata": {},
   "outputs": [
    {
     "data": {
      "text/html": [],
      "text/plain": [
       "<IPython.core.display.HTML object>"
      ]
     },
     "metadata": {},
     "output_type": "display_data"
    },
    {
     "data": {
      "text/html": [
       "<table border=\"1\" class=\"dataframe\">\n",
       "  <thead>\n",
       "    <tr style=\"text-align: right;\">\n",
       "      <th></th>\n",
       "      <th>text</th>\n",
       "      <th>text_</th>\n",
       "      <th>category</th>\n",
       "      <th>target1</th>\n",
       "      <th>target2</th>\n",
       "    </tr>\n",
       "  </thead>\n",
       "  <tbody>\n",
       "    <tr>\n",
       "      <th>0</th>\n",
       "      <td>theme: Have Voice within my Institution/Valued Member of my Institution comment: Staff no longer receive COLAs, like the faculty do--we are instead told that our COLA is a merit increase and expected to believe this.\\r\\n\\r\\nThis is incredibly demoralizing and many talented staff with institutional longevity are considered leaving UCSD for higher compensation elsewhere, at least as far as I am able to report by personal conversation. The turnover loss to the department if this were to happen would be substantial. Experienced career staff have knowledge that they can generalize from to solve the unique problems that arise frequently in the university setting. New staff cannot always provide these solutions to faculty.\\r\\n\\r\\nFurther our'merit increases' were not announced in a timely manner and apparently do not include July, that is, they are effective Aug 1. I do not think our faculty would accept this!  It is true that the faculty attract fee-paying students to campus but the institution truly is a three legged stool--charitably I do not think our department could be run with faculty alone.\\r\\n\\r\\nAsides from compensation, which is an UCOP / EVCAA issue, Mathematics is a good department to work. \\r\\n\\r\\nThe MSO (which I am not) should receive more credit for proactive solutions to pending / future problems but since these problems do not materialize when solved it is not often that the faculty recognize this.\\r\\n\\r\\nSupervisors are generally good. \\r\\n\\r\\nThis department has lots of room for growth and additionally a significant amount of room for process improvement in many domain areas.</td>\n",
       "      <td>3.0</td>\n",
       "      <td>0</td>\n",
       "      <td>(2.3660523891448975,)</td>\n",
       "      <td>0</td>\n",
       "    </tr>\n",
       "    <tr>\n",
       "      <th>1</th>\n",
       "      <td>theme: Have Voice within my Institution/Valued Member of my Institution comment: My team colleagues frequently gossip, talk, laugh around me (and I can hear them).  They also frequently withhold information necessary for team work and for me to successfully do my job.  They also complain their work which furthers a negative environment. This team is oriented towards dysfunctional individuals, not on the team or service for customers.  This has caused problem with anxiety and insomnia which has been very difficult for me.  I've had to spend a lot of time personally taking care of myself to offset the negative impact this has created.  I am a service oriented, transparent individual and pride myself on treating others with kindness regardless of their position.\\r\\n\\r\\nOccasionally I've had mobility issues and brought ADA compliance issues to team members' attention like no elevator access due to a mechanical issue and the only option was climbing 3 flights of stairs one way.  Instead of this being addressed as an ADA issued, I was targeted spoken to with increased volume and told I could call Facilities Management myself if I didn't like the response or blown off like I was un-useful because I couldn't assist with a request requiring mobility when this is not an issue caused by me.  This is completely unacceptable.  \\r\\n\\r\\nAlthough I am not old, I've also experienced ageism because I have senior level experience in position.  I've also been mocked by 2 colleges because I'm a grandparent. This is completely unacceptable. This survey does not include age discrimination.</td>\n",
       "      <td>1.0</td>\n",
       "      <td>0</td>\n",
       "      <td>(2.1806387901306152,)</td>\n",
       "      <td>0</td>\n",
       "    </tr>\n",
       "  </tbody>\n",
       "</table>"
      ],
      "text/plain": [
       "<IPython.core.display.HTML object>"
      ]
     },
     "metadata": {},
     "output_type": "display_data"
    }
   ],
   "source": [
    "learn.show_results(learner=learn, max_n=2) "
   ]
  },
  {
   "cell_type": "markdown",
   "metadata": {},
   "source": [
    "Use it for inference"
   ]
  },
  {
   "cell_type": "code",
   "execution_count": 44,
   "metadata": {},
   "outputs": [],
   "source": [
    "inf_learn = load_learner(STANDARD_THEME_META_PATH/f'{m_pre}{base_model_name}{m_suf}_export.pkl')"
   ]
  },
  {
   "cell_type": "code",
   "execution_count": 45,
   "metadata": {},
   "outputs": [
    {
     "data": {
      "text/html": [],
      "text/plain": [
       "<IPython.core.display.HTML object>"
      ]
     },
     "metadata": {},
     "output_type": "display_data"
    },
    {
     "data": {
      "text/plain": [
       "(((2.4098987579345703), '0'), tensor([[2.4099]]), tensor([[2.4099]]))"
      ]
     },
     "execution_count": 45,
     "metadata": {},
     "output_type": "execute_result"
    }
   ],
   "source": [
    "inf_learn.blurr_predict('theme: Benefits comment: We are not paid enough and the benefits are horrible')"
   ]
  },
  {
   "cell_type": "markdown",
   "metadata": {},
   "source": [
    "Review final validation loss for best model"
   ]
  },
  {
   "cell_type": "code",
   "execution_count": 46,
   "metadata": {},
   "outputs": [
    {
     "data": {
      "text/html": [],
      "text/plain": [
       "<IPython.core.display.HTML object>"
      ]
     },
     "metadata": {},
     "output_type": "display_data"
    },
    {
     "name": "stdout",
     "output_type": "stream",
     "text": [
      "Validation Loss: 0.9456282258033752\n"
     ]
    }
   ],
   "source": [
    "learn = learn.load(f'{m_pre}{base_model_name}{m_suf}_bestmodel')\n",
    "probs, targs, loss = learn.get_preds(dl=dls.valid, with_loss=True)\n",
    "\n",
    "print(f'Validation Loss: {loss.mean()}')\n",
    "# print(f'Validation Loss (per label): {loss.mean(dim=0)}') # ... no longer works (see forum comment from sylvain)"
   ]
  },
  {
   "cell_type": "code",
   "execution_count": 47,
   "metadata": {},
   "outputs": [
    {
     "name": "stdout",
     "output_type": "stream",
     "text": [
      "tensor([2.3317]) tensor(2.) tensor(0) tensor(0)\n",
      "tensor([1.9597]) tensor(2.) tensor(0) tensor(0)\n",
      "tensor([2.1157]) tensor(2.) tensor(0) tensor(0)\n",
      "tensor([2.4783]) tensor(2.) tensor(0) tensor(0)\n",
      "tensor([2.3356]) tensor(2.) tensor(0) tensor(0)\n",
      "tensor([2.2869]) tensor(2.) tensor(0) tensor(0)\n",
      "tensor([2.3826]) tensor(2.) tensor(0) tensor(0)\n",
      "tensor([2.3202]) tensor(3.) tensor(0) tensor(0)\n",
      "tensor([2.4539]) tensor(2.) tensor(0) tensor(0)\n",
      "tensor([3.0743]) tensor(3.) tensor(0) tensor(0)\n",
      "tensor([2.2604]) tensor(3.) tensor(0) tensor(0)\n",
      "tensor([2.4032]) tensor(3.) tensor(0) tensor(0)\n",
      "tensor([2.0880]) tensor(2.) tensor(0) tensor(0)\n",
      "tensor([2.3007]) tensor(3.) tensor(0) tensor(0)\n",
      "tensor([2.0287]) tensor(2.) tensor(0) tensor(0)\n",
      "tensor([1.9187]) tensor(4.5000) tensor(0) tensor(0)\n",
      "tensor([2.8316]) tensor(2.) tensor(0) tensor(0)\n",
      "tensor([2.4760]) tensor(2.) tensor(0) tensor(0)\n",
      "tensor([2.4113]) tensor(2.) tensor(0) tensor(0)\n",
      "tensor([2.5720]) tensor(3.) tensor(0) tensor(0)\n",
      "tensor([2.4291]) tensor(2.) tensor(0) tensor(0)\n",
      "tensor([2.6700]) tensor(2.) tensor(0) tensor(0)\n",
      "tensor([2.1678]) tensor(1.) tensor(0) tensor(0)\n",
      "tensor([2.4636]) tensor(1.) tensor(0) tensor(0)\n",
      "tensor([2.4746]) tensor(2.) tensor(0) tensor(0)\n",
      "tensor([2.7480]) tensor(3.) tensor(0) tensor(0)\n",
      "tensor([2.5651]) tensor(2.) tensor(0) tensor(0)\n",
      "tensor([2.1166]) tensor(1.) tensor(0) tensor(0)\n",
      "tensor([2.4030]) tensor(2.) tensor(0) tensor(0)\n",
      "tensor([2.1472]) tensor(1.) tensor(0) tensor(0)\n",
      "tensor([3.5103]) tensor(5.) tensor(0) tensor(0)\n",
      "tensor([3.1984]) tensor(4.) tensor(0) tensor(0)\n",
      "tensor([2.5678]) tensor(3.) tensor(0) tensor(0)\n",
      "tensor([2.2226]) tensor(3.) tensor(0) tensor(0)\n",
      "tensor([1.8385]) tensor(1.5000) tensor(0) tensor(0)\n",
      "tensor([3.0598]) tensor(3.) tensor(0) tensor(0)\n",
      "tensor([3.0734]) tensor(1.) tensor(0) tensor(0)\n",
      "tensor([2.7614]) tensor(3.) tensor(0) tensor(0)\n",
      "tensor([2.7458]) tensor(2.) tensor(0) tensor(0)\n",
      "tensor([2.7480]) tensor(2.) tensor(0) tensor(0)\n",
      "tensor([1.9707]) tensor(4.) tensor(0) tensor(0)\n",
      "tensor([2.6923]) tensor(3.) tensor(0) tensor(0)\n",
      "tensor([2.4415]) tensor(2.) tensor(0) tensor(0)\n",
      "tensor([2.1927]) tensor(2.) tensor(0) tensor(0)\n",
      "tensor([2.4614]) tensor(2.) tensor(0) tensor(0)\n",
      "tensor([2.3792]) tensor(2.) tensor(0) tensor(0)\n",
      "tensor([3.1860]) tensor(3.) tensor(0) tensor(0)\n",
      "tensor([3.2133]) tensor(4.) tensor(0) tensor(0)\n",
      "tensor([2.3967]) tensor(2.) tensor(0) tensor(0)\n",
      "tensor([2.2365]) tensor(2.) tensor(0) tensor(0)\n",
      "tensor([2.0486]) tensor(1.) tensor(0) tensor(0)\n",
      "tensor([2.0624]) tensor(3.) tensor(0) tensor(0)\n",
      "tensor([2.3483]) tensor(2.) tensor(0) tensor(0)\n",
      "tensor([2.2198]) tensor(2.) tensor(0) tensor(0)\n",
      "tensor([2.3778]) tensor(3.) tensor(0) tensor(0)\n",
      "tensor([2.1000]) tensor(2.) tensor(0) tensor(0)\n",
      "tensor([2.2547]) tensor(2.) tensor(0) tensor(0)\n",
      "tensor([2.9481]) tensor(2.5000) tensor(0) tensor(0)\n",
      "tensor([2.5161]) tensor(4.) tensor(0) tensor(0)\n",
      "tensor([2.5290]) tensor(2.) tensor(0) tensor(0)\n",
      "tensor([1.8290]) tensor(3.) tensor(0) tensor(0)\n",
      "tensor([2.0855]) tensor(3.) tensor(0) tensor(0)\n",
      "tensor([2.5344]) tensor(2.) tensor(0) tensor(0)\n",
      "tensor([2.0340]) tensor(2.) tensor(0) tensor(0)\n",
      "tensor([2.4863]) tensor(1.) tensor(0) tensor(0)\n",
      "tensor([2.7603]) tensor(2.) tensor(0) tensor(0)\n",
      "tensor([2.8836]) tensor(2.) tensor(0) tensor(0)\n",
      "tensor([2.3579]) tensor(3.) tensor(0) tensor(0)\n",
      "tensor([2.8333]) tensor(2.) tensor(0) tensor(0)\n",
      "tensor([1.6409]) tensor(3.) tensor(0) tensor(0)\n",
      "tensor([2.7290]) tensor(2.) tensor(0) tensor(0)\n",
      "tensor([1.8152]) tensor(2.) tensor(0) tensor(0)\n",
      "tensor([2.3499]) tensor(2.) tensor(0) tensor(0)\n",
      "tensor([3.0970]) tensor(5.) tensor(0) tensor(0)\n",
      "tensor([1.6943]) tensor(3.) tensor(0) tensor(0)\n",
      "tensor([3.2634]) tensor(2.) tensor(0) tensor(0)\n",
      "tensor([2.7518]) tensor(2.) tensor(0) tensor(0)\n",
      "tensor([3.6507]) tensor(4.) tensor(0) tensor(0)\n",
      "tensor([2.6170]) tensor(3.) tensor(0) tensor(0)\n",
      "tensor([3.0618]) tensor(4.) tensor(0) tensor(0)\n",
      "tensor([2.1553]) tensor(3.) tensor(0) tensor(0)\n",
      "tensor([3.0919]) tensor(4.) tensor(0) tensor(0)\n",
      "tensor([3.0860]) tensor(4.) tensor(0) tensor(0)\n",
      "tensor([2.2400]) tensor(2.) tensor(0) tensor(0)\n",
      "tensor([2.1957]) tensor(2.) tensor(0) tensor(0)\n",
      "tensor([2.7783]) tensor(4.) tensor(0) tensor(0)\n",
      "tensor([2.1221]) tensor(2.) tensor(0) tensor(0)\n",
      "tensor([2.2803]) tensor(2.) tensor(0) tensor(0)\n",
      "tensor([2.3967]) tensor(1.) tensor(0) tensor(0)\n",
      "tensor([2.5872]) tensor(2.5000) tensor(0) tensor(0)\n",
      "tensor([2.7662]) tensor(2.) tensor(0) tensor(0)\n",
      "tensor([2.4434]) tensor(2.) tensor(0) tensor(0)\n",
      "tensor([3.1123]) tensor(5.) tensor(0) tensor(0)\n",
      "tensor([2.3758]) tensor(1.) tensor(0) tensor(0)\n",
      "tensor([1.8721]) tensor(2.) tensor(0) tensor(0)\n",
      "tensor([2.7695]) tensor(3.) tensor(0) tensor(0)\n",
      "tensor([2.2365]) tensor(3.) tensor(0) tensor(0)\n",
      "tensor([2.6732]) tensor(2.) tensor(0) tensor(0)\n",
      "tensor([2.5040]) tensor(2.) tensor(0) tensor(0)\n",
      "tensor([2.0338]) tensor(2.) tensor(0) tensor(0)\n",
      "tensor([2.4548]) tensor(3.) tensor(0) tensor(0)\n",
      "tensor([2.1567]) tensor(1.) tensor(0) tensor(0)\n",
      "tensor([2.0514]) tensor(2.) tensor(0) tensor(0)\n",
      "tensor([2.7068]) tensor(2.) tensor(0) tensor(0)\n",
      "tensor([2.2236]) tensor(1.) tensor(0) tensor(0)\n",
      "tensor([2.1788]) tensor(2.) tensor(0) tensor(0)\n",
      "tensor([2.1846]) tensor(2.5000) tensor(0) tensor(0)\n",
      "tensor([2.3636]) tensor(1.) tensor(0) tensor(0)\n",
      "tensor([1.9265]) tensor(2.) tensor(0) tensor(0)\n",
      "tensor([2.3320]) tensor(2.) tensor(0) tensor(0)\n",
      "tensor([2.6184]) tensor(2.) tensor(0) tensor(0)\n",
      "tensor([2.3702]) tensor(2.) tensor(0) tensor(0)\n",
      "tensor([2.3673]) tensor(4.) tensor(0) tensor(0)\n",
      "tensor([2.8400]) tensor(3.) tensor(0) tensor(0)\n",
      "tensor([2.9729]) tensor(3.) tensor(0) tensor(0)\n",
      "tensor([2.6470]) tensor(1.) tensor(0) tensor(0)\n",
      "tensor([3.3616]) tensor(4.) tensor(0) tensor(0)\n",
      "tensor([3.0016]) tensor(2.) tensor(0) tensor(0)\n",
      "tensor([2.5955]) tensor(3.) tensor(0) tensor(0)\n",
      "tensor([2.9558]) tensor(2.) tensor(0) tensor(0)\n",
      "tensor([3.2004]) tensor(2.) tensor(0) tensor(0)\n",
      "tensor([2.2712]) tensor(2.) tensor(0) tensor(0)\n",
      "tensor([2.0858]) tensor(2.) tensor(0) tensor(0)\n",
      "tensor([2.5485]) tensor(2.) tensor(0) tensor(0)\n",
      "tensor([2.1806]) tensor(1.) tensor(0) tensor(0)\n",
      "tensor([2.7133]) tensor(2.) tensor(0) tensor(0)\n",
      "tensor([3.0896]) tensor(4.5000) tensor(0) tensor(0)\n",
      "tensor([2.4675]) tensor(2.) tensor(0) tensor(1)\n",
      "tensor([2.4442]) tensor(2.) tensor(0) tensor(0)\n",
      "tensor([2.7359]) tensor(3.) tensor(0) tensor(0)\n",
      "tensor([2.5667]) tensor(3.) tensor(0) tensor(0)\n",
      "tensor([2.6592]) tensor(2.) tensor(0) tensor(0)\n",
      "tensor([2.7486]) tensor(2.) tensor(0) tensor(0)\n",
      "tensor([2.3261]) tensor(2.) tensor(0) tensor(0)\n",
      "tensor([2.3718]) tensor(3.) tensor(0) tensor(0)\n",
      "tensor([2.1713]) tensor(3.) tensor(0) tensor(0)\n",
      "tensor([2.9203]) tensor(4.) tensor(0) tensor(0)\n",
      "tensor([2.7532]) tensor(2.) tensor(0) tensor(0)\n",
      "tensor([2.7534]) tensor(2.) tensor(0) tensor(0)\n",
      "tensor([2.1478]) tensor(2.) tensor(0) tensor(0)\n",
      "tensor([1.7668]) tensor(3.) tensor(0) tensor(0)\n",
      "tensor([3.1196]) tensor(4.) tensor(0) tensor(0)\n",
      "tensor([2.8140]) tensor(2.) tensor(0) tensor(0)\n",
      "tensor([3.1704]) tensor(5.) tensor(0) tensor(0)\n",
      "tensor([2.4171]) tensor(3.) tensor(0) tensor(0)\n",
      "tensor([3.0734]) tensor(5.) tensor(0) tensor(0)\n",
      "tensor([1.8954]) tensor(1.) tensor(0) tensor(1)\n",
      "tensor([2.0772]) tensor(2.) tensor(0) tensor(0)\n",
      "tensor([2.3004]) tensor(2.) tensor(0) tensor(0)\n",
      "tensor([2.5679]) tensor(3.) tensor(0) tensor(0)\n",
      "tensor([2.7446]) tensor(2.) tensor(0) tensor(0)\n",
      "tensor([3.1510]) tensor(2.) tensor(0) tensor(0)\n",
      "tensor([2.8171]) tensor(4.) tensor(0) tensor(0)\n",
      "tensor([2.2155]) tensor(3.) tensor(0) tensor(0)\n",
      "tensor([2.7339]) tensor(2.) tensor(0) tensor(0)\n",
      "tensor([2.0947]) tensor(3.) tensor(0) tensor(0)\n",
      "tensor([2.6923]) tensor(3.) tensor(0) tensor(0)\n",
      "tensor([1.9342]) tensor(2.) tensor(0) tensor(0)\n",
      "tensor([2.5740]) tensor(2.) tensor(0) tensor(0)\n",
      "tensor([3.0573]) tensor(5.) tensor(0) tensor(0)\n",
      "tensor([2.8193]) tensor(3.) tensor(0) tensor(0)\n",
      "tensor([2.3867]) tensor(2.) tensor(0) tensor(0)\n",
      "tensor([2.3923]) tensor(2.) tensor(0) tensor(0)\n",
      "tensor([2.3851]) tensor(2.) tensor(0) tensor(0)\n",
      "tensor([2.6084]) tensor(2.) tensor(0) tensor(0)\n",
      "tensor([2.7540]) tensor(2.) tensor(0) tensor(0)\n",
      "tensor([2.3875]) tensor(3.) tensor(0) tensor(0)\n",
      "tensor([3.0582]) tensor(4.) tensor(0) tensor(0)\n",
      "tensor([2.2203]) tensor(3.) tensor(0) tensor(0)\n",
      "tensor([2.0357]) tensor(2.) tensor(0) tensor(0)\n",
      "tensor([2.3877]) tensor(2.) tensor(0) tensor(0)\n",
      "tensor([2.5799]) tensor(2.) tensor(0) tensor(0)\n",
      "tensor([2.4522]) tensor(3.) tensor(0) tensor(0)\n",
      "tensor([2.2549]) tensor(3.) tensor(0) tensor(0)\n",
      "tensor([2.9200]) tensor(2.) tensor(0) tensor(0)\n",
      "tensor([2.4030]) tensor(2.) tensor(0) tensor(0)\n",
      "tensor([2.6714]) tensor(2.) tensor(0) tensor(0)\n",
      "tensor([3.2857]) tensor(3.) tensor(0) tensor(0)\n",
      "tensor([2.8028]) tensor(3.) tensor(0) tensor(0)\n",
      "tensor([2.5626]) tensor(2.) tensor(0) tensor(0)\n",
      "tensor([2.6218]) tensor(3.) tensor(0) tensor(0)\n",
      "tensor([2.5148]) tensor(3.) tensor(0) tensor(0)\n",
      "tensor([2.6186]) tensor(3.) tensor(0) tensor(0)\n",
      "tensor([2.6394]) tensor(2.5000) tensor(0) tensor(1)\n",
      "tensor([2.3032]) tensor(2.) tensor(0) tensor(0)\n",
      "tensor([2.6874]) tensor(2.) tensor(0) tensor(0)\n",
      "tensor([2.9515]) tensor(5.) tensor(0) tensor(0)\n",
      "tensor([3.1158]) tensor(2.) tensor(0) tensor(0)\n",
      "tensor([2.0594]) tensor(3.) tensor(0) tensor(0)\n",
      "tensor([2.3417]) tensor(2.) tensor(0) tensor(0)\n",
      "tensor([2.1738]) tensor(2.) tensor(0) tensor(0)\n",
      "tensor([2.7413]) tensor(2.) tensor(0) tensor(0)\n",
      "tensor([2.8961]) tensor(3.) tensor(0) tensor(0)\n",
      "tensor([2.5624]) tensor(2.) tensor(0) tensor(0)\n"
     ]
    },
    {
     "name": "stdout",
     "output_type": "stream",
     "text": [
      "tensor([2.2611]) tensor(1.) tensor(0) tensor(0)\n",
      "tensor([2.2810]) tensor(1.) tensor(0) tensor(0)\n",
      "tensor([2.1253]) tensor(2.) tensor(0) tensor(0)\n",
      "tensor([2.6276]) tensor(2.) tensor(0) tensor(0)\n",
      "tensor([2.1111]) tensor(4.) tensor(0) tensor(0)\n",
      "tensor([2.2938]) tensor(2.) tensor(0) tensor(0)\n",
      "tensor([2.1013]) tensor(3.) tensor(0) tensor(0)\n",
      "tensor([2.8457]) tensor(2.) tensor(0) tensor(0)\n",
      "tensor([1.8007]) tensor(2.) tensor(0) tensor(0)\n",
      "tensor([3.4261]) tensor(5.) tensor(0) tensor(0)\n",
      "tensor([2.7473]) tensor(3.) tensor(0) tensor(0)\n",
      "tensor([2.8915]) tensor(4.) tensor(0) tensor(0)\n",
      "tensor([2.4613]) tensor(3.) tensor(0) tensor(0)\n",
      "tensor([1.9193]) tensor(3.) tensor(0) tensor(0)\n",
      "tensor([3.1941]) tensor(5.) tensor(0) tensor(0)\n",
      "tensor([2.9374]) tensor(3.) tensor(0) tensor(0)\n",
      "tensor([2.3709]) tensor(2.) tensor(0) tensor(0)\n",
      "tensor([2.7377]) tensor(3.) tensor(0) tensor(0)\n",
      "tensor([1.7756]) tensor(1.) tensor(0) tensor(0)\n",
      "tensor([2.5674]) tensor(3.) tensor(0) tensor(0)\n",
      "tensor([2.0624]) tensor(1.) tensor(0) tensor(0)\n",
      "tensor([2.1644]) tensor(2.) tensor(0) tensor(0)\n",
      "tensor([1.8147]) tensor(3.) tensor(0) tensor(1)\n",
      "tensor([2.3127]) tensor(3.) tensor(0) tensor(0)\n",
      "tensor([3.1573]) tensor(3.) tensor(0) tensor(0)\n",
      "tensor([2.2137]) tensor(3.) tensor(0) tensor(0)\n",
      "tensor([2.9442]) tensor(2.) tensor(0) tensor(0)\n",
      "tensor([2.6479]) tensor(2.) tensor(0) tensor(0)\n",
      "tensor([1.8390]) tensor(2.) tensor(0) tensor(0)\n",
      "tensor([2.4616]) tensor(3.) tensor(0) tensor(0)\n",
      "tensor([3.1756]) tensor(5.) tensor(0) tensor(0)\n",
      "tensor([2.2874]) tensor(2.) tensor(0) tensor(0)\n",
      "tensor([2.1721]) tensor(2.) tensor(0) tensor(0)\n",
      "tensor([2.8083]) tensor(4.) tensor(0) tensor(0)\n",
      "tensor([1.9898]) tensor(2.) tensor(0) tensor(0)\n",
      "tensor([1.7965]) tensor(1.) tensor(0) tensor(0)\n",
      "tensor([2.8035]) tensor(2.) tensor(0) tensor(0)\n",
      "tensor([2.6929]) tensor(2.) tensor(0) tensor(0)\n",
      "tensor([2.5343]) tensor(2.) tensor(0) tensor(0)\n",
      "tensor([2.4208]) tensor(3.) tensor(0) tensor(0)\n",
      "tensor([2.9074]) tensor(2.) tensor(0) tensor(0)\n",
      "tensor([2.7192]) tensor(4.) tensor(0) tensor(0)\n",
      "tensor([2.1639]) tensor(2.) tensor(0) tensor(0)\n",
      "tensor([2.6883]) tensor(2.) tensor(0) tensor(0)\n",
      "tensor([2.2098]) tensor(2.) tensor(0) tensor(0)\n",
      "tensor([2.4654]) tensor(2.) tensor(0) tensor(0)\n",
      "tensor([2.3584]) tensor(2.) tensor(0) tensor(0)\n",
      "tensor([2.6473]) tensor(2.) tensor(0) tensor(0)\n",
      "tensor([3.0571]) tensor(4.) tensor(0) tensor(0)\n",
      "tensor([2.4306]) tensor(3.) tensor(0) tensor(0)\n",
      "tensor([2.4560]) tensor(3.) tensor(0) tensor(0)\n",
      "tensor([2.3164]) tensor(2.) tensor(0) tensor(0)\n",
      "tensor([2.9934]) tensor(3.) tensor(0) tensor(0)\n",
      "tensor([2.4725]) tensor(2.) tensor(0) tensor(0)\n",
      "tensor([1.8242]) tensor(2.) tensor(0) tensor(0)\n",
      "tensor([1.9536]) tensor(2.) tensor(0) tensor(0)\n",
      "tensor([3.1125]) tensor(4.) tensor(0) tensor(0)\n",
      "tensor([2.2515]) tensor(3.) tensor(0) tensor(0)\n",
      "tensor([2.4551]) tensor(2.) tensor(0) tensor(0)\n",
      "tensor([2.4513]) tensor(2.) tensor(0) tensor(0)\n",
      "tensor([2.0643]) tensor(2.) tensor(0) tensor(0)\n",
      "tensor([2.8203]) tensor(1.) tensor(0) tensor(0)\n",
      "tensor([2.9045]) tensor(3.) tensor(0) tensor(0)\n",
      "tensor([2.7159]) tensor(2.) tensor(0) tensor(0)\n",
      "tensor([2.4193]) tensor(4.) tensor(0) tensor(0)\n",
      "tensor([2.3877]) tensor(2.) tensor(0) tensor(0)\n",
      "tensor([1.8276]) tensor(2.) tensor(0) tensor(0)\n",
      "tensor([2.3669]) tensor(2.) tensor(0) tensor(0)\n",
      "tensor([2.3771]) tensor(2.) tensor(0) tensor(0)\n",
      "tensor([2.4531]) tensor(3.) tensor(0) tensor(0)\n",
      "tensor([2.1267]) tensor(2.) tensor(0) tensor(0)\n",
      "tensor([2.2220]) tensor(1.) tensor(0) tensor(0)\n",
      "tensor([2.5799]) tensor(3.) tensor(0) tensor(0)\n",
      "tensor([2.7272]) tensor(2.) tensor(0) tensor(0)\n",
      "tensor([3.0912]) tensor(5.) tensor(0) tensor(0)\n",
      "tensor([1.9750]) tensor(1.) tensor(0) tensor(0)\n",
      "tensor([2.8432]) tensor(1.) tensor(0) tensor(0)\n",
      "tensor([2.3388]) tensor(3.) tensor(0) tensor(0)\n",
      "tensor([2.3969]) tensor(2.) tensor(0) tensor(0)\n",
      "tensor([2.2379]) tensor(1.) tensor(0) tensor(0)\n",
      "tensor([2.3357]) tensor(2.) tensor(0) tensor(0)\n",
      "tensor([2.5171]) tensor(2.) tensor(0) tensor(0)\n",
      "tensor([2.4335]) tensor(2.) tensor(0) tensor(0)\n",
      "tensor([3.0931]) tensor(2.) tensor(0) tensor(0)\n",
      "tensor([2.2020]) tensor(2.) tensor(0) tensor(0)\n",
      "tensor([2.5788]) tensor(2.) tensor(0) tensor(0)\n",
      "tensor([2.5959]) tensor(3.) tensor(0) tensor(0)\n",
      "tensor([2.3306]) tensor(2.) tensor(0) tensor(0)\n",
      "tensor([2.3357]) tensor(2.) tensor(0) tensor(0)\n",
      "tensor([3.0492]) tensor(4.) tensor(0) tensor(0)\n",
      "tensor([3.2492]) tensor(5.) tensor(0) tensor(0)\n",
      "tensor([2.7054]) tensor(2.) tensor(0) tensor(0)\n",
      "tensor([2.4997]) tensor(2.) tensor(0) tensor(0)\n",
      "tensor([2.1601]) tensor(3.) tensor(0) tensor(0)\n",
      "tensor([2.2037]) tensor(2.) tensor(0) tensor(0)\n",
      "tensor([2.2847]) tensor(1.5000) tensor(0) tensor(0)\n",
      "tensor([2.0690]) tensor(2.) tensor(0) tensor(0)\n",
      "tensor([2.7534]) tensor(4.) tensor(0) tensor(0)\n",
      "tensor([2.6254]) tensor(2.) tensor(0) tensor(0)\n",
      "tensor([2.7050]) tensor(2.) tensor(0) tensor(0)\n",
      "tensor([2.3236]) tensor(2.) tensor(0) tensor(0)\n",
      "tensor([2.3557]) tensor(2.) tensor(0) tensor(0)\n",
      "tensor([2.6175]) tensor(5.) tensor(0) tensor(0)\n",
      "tensor([2.5517]) tensor(2.) tensor(0) tensor(0)\n",
      "tensor([2.3858]) tensor(2.) tensor(0) tensor(0)\n",
      "tensor([3.1820]) tensor(3.) tensor(0) tensor(0)\n",
      "tensor([2.6138]) tensor(4.) tensor(0) tensor(0)\n",
      "tensor([2.0448]) tensor(3.) tensor(0) tensor(0)\n",
      "tensor([2.3643]) tensor(3.) tensor(0) tensor(0)\n",
      "tensor([2.4318]) tensor(2.) tensor(0) tensor(0)\n",
      "tensor([2.0676]) tensor(4.) tensor(0) tensor(0)\n",
      "tensor([2.9547]) tensor(4.) tensor(0) tensor(0)\n",
      "tensor([3.2451]) tensor(3.) tensor(0) tensor(0)\n",
      "tensor([2.2529]) tensor(5.) tensor(0) tensor(0)\n",
      "tensor([2.9810]) tensor(2.) tensor(0) tensor(0)\n",
      "tensor([2.8382]) tensor(2.) tensor(0) tensor(0)\n",
      "tensor([2.3851]) tensor(3.) tensor(0) tensor(0)\n",
      "tensor([2.5795]) tensor(2.) tensor(0) tensor(0)\n",
      "tensor([2.4132]) tensor(5.) tensor(0) tensor(0)\n",
      "tensor([2.7393]) tensor(2.) tensor(0) tensor(0)\n",
      "tensor([2.5500]) tensor(4.) tensor(0) tensor(0)\n",
      "tensor([2.2496]) tensor(2.) tensor(0) tensor(0)\n",
      "tensor([2.4446]) tensor(1.) tensor(0) tensor(0)\n",
      "tensor([1.9715]) tensor(2.) tensor(0) tensor(0)\n",
      "tensor([2.8222]) tensor(2.) tensor(0) tensor(0)\n",
      "tensor([2.6793]) tensor(2.) tensor(0) tensor(0)\n",
      "tensor([2.1800]) tensor(1.5000) tensor(0) tensor(0)\n",
      "tensor([1.8992]) tensor(2.) tensor(0) tensor(0)\n",
      "tensor([3.2017]) tensor(3.) tensor(0) tensor(0)\n",
      "tensor([2.4208]) tensor(2.) tensor(0) tensor(0)\n",
      "tensor([2.5905]) tensor(2.) tensor(0) tensor(0)\n",
      "tensor([2.2504]) tensor(3.) tensor(0) tensor(0)\n",
      "tensor([2.6736]) tensor(2.) tensor(0) tensor(0)\n",
      "tensor([3.1623]) tensor(4.) tensor(0) tensor(0)\n",
      "tensor([2.3192]) tensor(3.) tensor(0) tensor(0)\n",
      "tensor([2.4126]) tensor(2.) tensor(0) tensor(0)\n",
      "tensor([2.8473]) tensor(5.) tensor(0) tensor(0)\n",
      "tensor([2.2953]) tensor(2.) tensor(0) tensor(0)\n",
      "tensor([2.6079]) tensor(2.) tensor(0) tensor(0)\n",
      "tensor([2.1913]) tensor(3.) tensor(0) tensor(0)\n",
      "tensor([2.5222]) tensor(2.) tensor(0) tensor(0)\n",
      "tensor([2.3060]) tensor(2.) tensor(0) tensor(0)\n",
      "tensor([2.8648]) tensor(2.) tensor(0) tensor(0)\n",
      "tensor([2.4448]) tensor(2.) tensor(0) tensor(0)\n",
      "tensor([2.5920]) tensor(3.) tensor(0) tensor(0)\n",
      "tensor([2.9229]) tensor(2.) tensor(0) tensor(0)\n",
      "tensor([2.2408]) tensor(3.) tensor(0) tensor(0)\n",
      "tensor([1.5642]) tensor(2.) tensor(0) tensor(0)\n",
      "tensor([3.4000]) tensor(4.) tensor(0) tensor(0)\n",
      "tensor([1.9384]) tensor(3.) tensor(0) tensor(0)\n",
      "tensor([2.6480]) tensor(4.) tensor(0) tensor(0)\n",
      "tensor([2.3737]) tensor(3.) tensor(0) tensor(0)\n",
      "tensor([2.8339]) tensor(3.) tensor(0) tensor(0)\n",
      "tensor([2.5763]) tensor(2.) tensor(0) tensor(0)\n",
      "tensor([2.6976]) tensor(2.) tensor(0) tensor(0)\n",
      "tensor([2.7727]) tensor(1.) tensor(0) tensor(0)\n",
      "tensor([3.2397]) tensor(4.) tensor(0) tensor(0)\n",
      "tensor([2.6156]) tensor(2.) tensor(0) tensor(0)\n",
      "tensor([2.1324]) tensor(2.) tensor(0) tensor(0)\n",
      "tensor([2.4734]) tensor(1.) tensor(0) tensor(0)\n",
      "tensor([2.4487]) tensor(3.) tensor(0) tensor(0)\n",
      "tensor([2.8594]) tensor(4.) tensor(0) tensor(0)\n",
      "tensor([1.9591]) tensor(1.) tensor(0) tensor(0)\n",
      "tensor([2.4038]) tensor(3.) tensor(0) tensor(0)\n",
      "tensor([2.9841]) tensor(2.) tensor(0) tensor(0)\n",
      "tensor([2.1724]) tensor(1.5000) tensor(0) tensor(0)\n",
      "tensor([3.2362]) tensor(4.) tensor(0) tensor(0)\n",
      "tensor([2.4138]) tensor(2.) tensor(0) tensor(0)\n",
      "tensor([3.1844]) tensor(3.) tensor(0) tensor(0)\n",
      "tensor([3.5529]) tensor(5.) tensor(0) tensor(0)\n",
      "tensor([2.0925]) tensor(2.) tensor(0) tensor(0)\n",
      "tensor([2.2953]) tensor(2.) tensor(0) tensor(0)\n",
      "tensor([2.1800]) tensor(2.) tensor(0) tensor(0)\n",
      "tensor([2.8134]) tensor(2.) tensor(0) tensor(0)\n",
      "tensor([2.5346]) tensor(3.) tensor(0) tensor(0)\n",
      "tensor([2.1578]) tensor(2.) tensor(0) tensor(0)\n",
      "tensor([2.6847]) tensor(2.) tensor(0) tensor(0)\n",
      "tensor([3.2450]) tensor(5.) tensor(0) tensor(0)\n",
      "tensor([2.3577]) tensor(2.) tensor(0) tensor(0)\n",
      "tensor([2.4176]) tensor(2.) tensor(0) tensor(0)\n",
      "tensor([2.3599]) tensor(2.) tensor(0) tensor(0)\n",
      "tensor([3.0831]) tensor(4.) tensor(0) tensor(0)\n",
      "tensor([2.6761]) tensor(2.) tensor(0) tensor(0)\n",
      "tensor([2.7746]) tensor(2.) tensor(0) tensor(0)\n",
      "tensor([3.0245]) tensor(3.) tensor(0) tensor(0)\n",
      "tensor([2.4357]) tensor(2.) tensor(0) tensor(0)\n",
      "tensor([2.0424]) tensor(2.) tensor(0) tensor(0)\n",
      "tensor([3.2251]) tensor(3.) tensor(0) tensor(0)\n",
      "tensor([2.4493]) tensor(3.) tensor(0) tensor(0)\n",
      "tensor([3.2644]) tensor(3.) tensor(0) tensor(0)\n",
      "tensor([2.7807]) tensor(2.) tensor(0) tensor(0)\n",
      "tensor([2.1636]) tensor(2.) tensor(0) tensor(0)\n",
      "tensor([2.4967]) tensor(1.) tensor(0) tensor(0)\n",
      "tensor([2.8184]) tensor(3.) tensor(0) tensor(0)\n",
      "tensor([2.2529]) tensor(2.) tensor(0) tensor(0)\n",
      "tensor([2.8929]) tensor(3.) tensor(0) tensor(0)\n",
      "tensor([2.4568]) tensor(2.) tensor(0) tensor(0)\n",
      "tensor([2.8465]) tensor(2.) tensor(0) tensor(0)\n",
      "tensor([2.3313]) tensor(2.) tensor(0) tensor(0)\n",
      "tensor([2.7125]) tensor(2.) tensor(0) tensor(0)\n",
      "tensor([2.5300]) tensor(2.) tensor(0) tensor(0)\n",
      "tensor([2.6674]) tensor(3.) tensor(0) tensor(0)\n",
      "tensor([1.9819]) tensor(1.5000) tensor(0) tensor(0)\n",
      "tensor([2.2325]) tensor(2.) tensor(0) tensor(0)\n",
      "tensor([2.8014]) tensor(3.) tensor(0) tensor(0)\n",
      "tensor([3.0931]) tensor(3.) tensor(0) tensor(0)\n",
      "tensor([3.2172]) tensor(3.) tensor(0) tensor(0)\n",
      "tensor([2.3568]) tensor(2.) tensor(0) tensor(0)\n",
      "tensor([2.8277]) tensor(2.) tensor(0) tensor(0)\n",
      "tensor([1.8094]) tensor(2.) tensor(0) tensor(0)\n",
      "tensor([2.7283]) tensor(2.) tensor(0) tensor(0)\n",
      "tensor([2.5727]) tensor(3.) tensor(0) tensor(0)\n",
      "tensor([2.1888]) tensor(2.) tensor(0) tensor(0)\n",
      "tensor([2.4255]) tensor(2.) tensor(0) tensor(0)\n",
      "tensor([2.3024]) tensor(2.) tensor(0) tensor(0)\n",
      "tensor([2.1170]) tensor(2.) tensor(0) tensor(1)\n",
      "tensor([3.0621]) tensor(5.) tensor(0) tensor(0)\n",
      "tensor([2.5301]) tensor(2.) tensor(0) tensor(0)\n",
      "tensor([2.2525]) tensor(1.) tensor(0) tensor(0)\n",
      "tensor([3.0228]) tensor(3.) tensor(0) tensor(0)\n",
      "tensor([2.8480]) tensor(3.) tensor(0) tensor(0)\n",
      "tensor([2.6511]) tensor(3.) tensor(0) tensor(0)\n",
      "tensor([2.7008]) tensor(2.) tensor(0) tensor(0)\n",
      "tensor([2.0355]) tensor(3.) tensor(0) tensor(0)\n",
      "tensor([2.7414]) tensor(3.) tensor(0) tensor(0)\n",
      "tensor([2.3093]) tensor(2.) tensor(0) tensor(0)\n",
      "tensor([3.0485]) tensor(4.) tensor(0) tensor(0)\n",
      "tensor([2.4438]) tensor(1.5000) tensor(0) tensor(0)\n",
      "tensor([2.3578]) tensor(3.) tensor(0) tensor(0)\n",
      "tensor([2.4030]) tensor(2.) tensor(0) tensor(0)\n",
      "tensor([2.5676]) tensor(2.) tensor(0) tensor(0)\n",
      "tensor([2.0581]) tensor(2.) tensor(0) tensor(0)\n",
      "tensor([2.0545]) tensor(2.) tensor(0) tensor(0)\n",
      "tensor([2.0905]) tensor(2.) tensor(0) tensor(0)\n",
      "tensor([2.4631]) tensor(2.) tensor(0) tensor(0)\n",
      "tensor([2.7723]) tensor(2.) tensor(0) tensor(0)\n",
      "tensor([2.2065]) tensor(2.) tensor(0) tensor(0)\n",
      "tensor([2.0983]) tensor(2.) tensor(0) tensor(0)\n",
      "tensor([2.3273]) tensor(2.) tensor(0) tensor(0)\n",
      "tensor([2.3486]) tensor(5.) tensor(0) tensor(0)\n",
      "tensor([3.0854]) tensor(4.) tensor(0) tensor(0)\n",
      "tensor([3.5335]) tensor(3.) tensor(0) tensor(0)\n",
      "tensor([3.2171]) tensor(4.) tensor(0) tensor(0)\n",
      "tensor([2.3890]) tensor(3.) tensor(0) tensor(0)\n",
      "tensor([2.2673]) tensor(3.) tensor(0) tensor(0)\n",
      "tensor([1.9975]) tensor(3.) tensor(0) tensor(0)\n",
      "tensor([2.5035]) tensor(2.) tensor(0) tensor(0)\n",
      "tensor([2.5123]) tensor(3.) tensor(0) tensor(0)\n",
      "tensor([2.2157]) tensor(3.) tensor(0) tensor(0)\n",
      "tensor([2.4606]) tensor(2.) tensor(0) tensor(0)\n",
      "tensor([2.6850]) tensor(3.) tensor(0) tensor(0)\n",
      "tensor([1.7496]) tensor(1.) tensor(0) tensor(0)\n",
      "tensor([2.4075]) tensor(2.) tensor(0) tensor(0)\n",
      "tensor([2.0378]) tensor(2.) tensor(0) tensor(0)\n",
      "tensor([2.3239]) tensor(2.) tensor(0) tensor(0)\n",
      "tensor([2.2512]) tensor(2.) tensor(0) tensor(0)\n",
      "tensor([3.3352]) tensor(2.) tensor(0) tensor(0)\n",
      "tensor([2.2767]) tensor(2.) tensor(0) tensor(0)\n",
      "tensor([2.6088]) tensor(3.) tensor(0) tensor(0)\n",
      "tensor([3.3327]) tensor(4.) tensor(0) tensor(0)\n",
      "tensor([3.5324]) tensor(3.) tensor(0) tensor(0)\n",
      "tensor([1.9645]) tensor(2.) tensor(0) tensor(0)\n",
      "tensor([2.0117]) tensor(2.) tensor(0) tensor(0)\n",
      "tensor([1.5352]) tensor(1.5000) tensor(0) tensor(0)\n",
      "tensor([2.1498]) tensor(2.) tensor(0) tensor(0)\n"
     ]
    },
    {
     "name": "stdout",
     "output_type": "stream",
     "text": [
      "tensor([2.1517]) tensor(2.) tensor(0) tensor(0)\n",
      "tensor([2.3853]) tensor(2.) tensor(0) tensor(0)\n",
      "tensor([2.8793]) tensor(2.) tensor(0) tensor(0)\n",
      "tensor([1.9415]) tensor(1.) tensor(0) tensor(0)\n",
      "tensor([2.5673]) tensor(3.) tensor(0) tensor(0)\n",
      "tensor([2.9706]) tensor(2.5000) tensor(0) tensor(0)\n",
      "tensor([2.1851]) tensor(3.) tensor(0) tensor(0)\n",
      "tensor([2.8777]) tensor(2.) tensor(0) tensor(0)\n",
      "tensor([1.8124]) tensor(2.) tensor(0) tensor(0)\n",
      "tensor([1.9635]) tensor(2.) tensor(0) tensor(0)\n",
      "tensor([2.2016]) tensor(2.) tensor(0) tensor(0)\n",
      "tensor([2.3320]) tensor(2.) tensor(0) tensor(0)\n",
      "tensor([1.9803]) tensor(3.) tensor(0) tensor(0)\n",
      "tensor([2.4295]) tensor(3.) tensor(0) tensor(0)\n",
      "tensor([2.4070]) tensor(3.) tensor(0) tensor(0)\n",
      "tensor([2.4788]) tensor(3.) tensor(0) tensor(0)\n",
      "tensor([1.9780]) tensor(3.) tensor(0) tensor(0)\n",
      "tensor([2.1912]) tensor(2.) tensor(0) tensor(0)\n",
      "tensor([1.8525]) tensor(2.) tensor(0) tensor(0)\n",
      "tensor([2.3454]) tensor(3.) tensor(0) tensor(0)\n",
      "tensor([2.7161]) tensor(4.) tensor(0) tensor(0)\n",
      "tensor([2.1673]) tensor(2.) tensor(0) tensor(0)\n",
      "tensor([2.1587]) tensor(2.) tensor(0) tensor(0)\n",
      "tensor([2.2982]) tensor(2.) tensor(0) tensor(1)\n",
      "tensor([2.5733]) tensor(1.) tensor(0) tensor(0)\n",
      "tensor([2.6042]) tensor(2.) tensor(0) tensor(0)\n",
      "tensor([2.1526]) tensor(2.) tensor(0) tensor(0)\n",
      "tensor([3.0283]) tensor(4.) tensor(0) tensor(0)\n",
      "tensor([2.2168]) tensor(2.) tensor(0) tensor(0)\n",
      "tensor([2.3614]) tensor(2.) tensor(0) tensor(0)\n",
      "tensor([2.1636]) tensor(3.) tensor(0) tensor(0)\n",
      "tensor([2.6924]) tensor(2.) tensor(0) tensor(0)\n",
      "tensor([2.2316]) tensor(2.) tensor(0) tensor(0)\n",
      "tensor([2.9035]) tensor(2.) tensor(0) tensor(0)\n",
      "tensor([2.2081]) tensor(3.) tensor(0) tensor(0)\n",
      "tensor([1.9819]) tensor(2.) tensor(0) tensor(0)\n",
      "tensor([2.4147]) tensor(2.) tensor(0) tensor(0)\n",
      "tensor([3.2374]) tensor(3.) tensor(0) tensor(0)\n",
      "tensor([2.2219]) tensor(2.) tensor(0) tensor(0)\n",
      "tensor([2.7107]) tensor(3.) tensor(0) tensor(0)\n",
      "tensor([2.8753]) tensor(3.) tensor(0) tensor(0)\n",
      "tensor([2.5130]) tensor(2.) tensor(0) tensor(0)\n",
      "tensor([2.9509]) tensor(4.) tensor(0) tensor(0)\n",
      "tensor([2.8798]) tensor(2.) tensor(0) tensor(0)\n",
      "tensor([2.3956]) tensor(4.) tensor(0) tensor(0)\n",
      "tensor([2.4020]) tensor(2.) tensor(0) tensor(0)\n",
      "tensor([2.4498]) tensor(3.) tensor(0) tensor(0)\n",
      "tensor([1.8938]) tensor(2.) tensor(0) tensor(0)\n",
      "tensor([2.4708]) tensor(2.) tensor(0) tensor(0)\n",
      "tensor([2.6298]) tensor(3.) tensor(0) tensor(0)\n",
      "tensor([1.9082]) tensor(1.) tensor(0) tensor(0)\n",
      "tensor([2.7004]) tensor(3.) tensor(0) tensor(0)\n",
      "tensor([2.5865]) tensor(3.) tensor(0) tensor(0)\n",
      "tensor([2.5558]) tensor(2.) tensor(0) tensor(0)\n",
      "tensor([2.2148]) tensor(3.) tensor(0) tensor(0)\n",
      "tensor([2.4958]) tensor(2.) tensor(0) tensor(0)\n",
      "tensor([2.2850]) tensor(2.) tensor(0) tensor(0)\n",
      "tensor([2.6151]) tensor(2.) tensor(0) tensor(0)\n",
      "tensor([1.9833]) tensor(1.) tensor(0) tensor(0)\n",
      "tensor([2.4289]) tensor(3.) tensor(0) tensor(0)\n",
      "tensor([1.8017]) tensor(2.) tensor(0) tensor(0)\n",
      "tensor([2.1993]) tensor(3.) tensor(0) tensor(0)\n",
      "tensor([2.5850]) tensor(2.) tensor(0) tensor(0)\n",
      "tensor([2.2860]) tensor(2.) tensor(0) tensor(0)\n",
      "tensor([2.5595]) tensor(2.) tensor(0) tensor(0)\n",
      "tensor([2.3887]) tensor(2.) tensor(0) tensor(0)\n",
      "tensor([2.6036]) tensor(3.) tensor(0) tensor(0)\n",
      "tensor([2.4206]) tensor(2.) tensor(0) tensor(0)\n",
      "tensor([2.6577]) tensor(3.) tensor(0) tensor(0)\n",
      "tensor([2.4416]) tensor(3.) tensor(0) tensor(0)\n",
      "tensor([2.9499]) tensor(3.) tensor(0) tensor(0)\n",
      "tensor([2.4059]) tensor(3.) tensor(0) tensor(0)\n",
      "tensor([2.8524]) tensor(1.5000) tensor(0) tensor(0)\n",
      "tensor([2.9494]) tensor(5.) tensor(0) tensor(0)\n",
      "tensor([2.0304]) tensor(3.) tensor(0) tensor(0)\n",
      "tensor([1.9202]) tensor(1.) tensor(0) tensor(0)\n",
      "tensor([2.1333]) tensor(3.) tensor(0) tensor(0)\n",
      "tensor([2.1431]) tensor(2.) tensor(0) tensor(0)\n",
      "tensor([2.2093]) tensor(2.) tensor(0) tensor(0)\n",
      "tensor([2.1201]) tensor(2.) tensor(0) tensor(0)\n",
      "tensor([2.2013]) tensor(2.5000) tensor(0) tensor(0)\n",
      "tensor([2.4683]) tensor(2.) tensor(0) tensor(0)\n",
      "tensor([2.9541]) tensor(3.5000) tensor(0) tensor(0)\n",
      "tensor([1.9923]) tensor(2.) tensor(0) tensor(0)\n",
      "tensor([2.6791]) tensor(2.5000) tensor(0) tensor(1)\n",
      "tensor([2.3402]) tensor(3.) tensor(0) tensor(0)\n",
      "tensor([2.1975]) tensor(1.) tensor(0) tensor(0)\n",
      "tensor([2.5075]) tensor(3.) tensor(0) tensor(0)\n",
      "tensor([2.0281]) tensor(2.) tensor(0) tensor(0)\n",
      "tensor([2.7172]) tensor(2.) tensor(0) tensor(0)\n",
      "tensor([2.4138]) tensor(3.) tensor(0) tensor(0)\n",
      "tensor([2.7617]) tensor(3.) tensor(0) tensor(0)\n",
      "tensor([2.3372]) tensor(2.) tensor(0) tensor(0)\n",
      "tensor([2.9305]) tensor(4.) tensor(0) tensor(0)\n",
      "tensor([2.0680]) tensor(2.) tensor(0) tensor(0)\n",
      "tensor([2.5698]) tensor(2.) tensor(0) tensor(0)\n",
      "tensor([2.4463]) tensor(2.) tensor(0) tensor(0)\n",
      "tensor([2.7266]) tensor(3.) tensor(0) tensor(0)\n",
      "tensor([2.5603]) tensor(1.) tensor(0) tensor(0)\n",
      "tensor([3.4073]) tensor(5.) tensor(0) tensor(0)\n",
      "tensor([2.5456]) tensor(1.5000) tensor(0) tensor(0)\n",
      "tensor([2.4742]) tensor(2.) tensor(0) tensor(0)\n",
      "tensor([2.0343]) tensor(3.) tensor(0) tensor(0)\n",
      "tensor([2.9348]) tensor(5.) tensor(0) tensor(0)\n",
      "tensor([2.0850]) tensor(2.) tensor(0) tensor(0)\n",
      "tensor([3.4993]) tensor(5.) tensor(0) tensor(0)\n",
      "tensor([1.9294]) tensor(2.) tensor(0) tensor(0)\n",
      "tensor([3.1423]) tensor(4.) tensor(0) tensor(0)\n",
      "tensor([2.7714]) tensor(2.) tensor(0) tensor(0)\n",
      "tensor([2.3850]) tensor(2.) tensor(0) tensor(0)\n",
      "tensor([2.5083]) tensor(2.) tensor(0) tensor(0)\n",
      "tensor([2.1849]) tensor(2.) tensor(0) tensor(0)\n",
      "tensor([2.3804]) tensor(2.) tensor(0) tensor(0)\n",
      "tensor([2.5246]) tensor(2.) tensor(0) tensor(0)\n",
      "tensor([3.0089]) tensor(3.) tensor(0) tensor(0)\n",
      "tensor([2.0028]) tensor(2.) tensor(0) tensor(0)\n",
      "tensor([2.0943]) tensor(2.) tensor(0) tensor(0)\n",
      "tensor([2.3816]) tensor(2.5000) tensor(0) tensor(0)\n",
      "tensor([2.9887]) tensor(4.) tensor(0) tensor(0)\n",
      "tensor([2.5897]) tensor(1.) tensor(0) tensor(0)\n",
      "tensor([2.8559]) tensor(3.) tensor(0) tensor(0)\n",
      "tensor([2.0869]) tensor(1.) tensor(0) tensor(0)\n",
      "tensor([3.3550]) tensor(3.) tensor(0) tensor(0)\n",
      "tensor([3.3858]) tensor(4.) tensor(0) tensor(0)\n",
      "tensor([3.2024]) tensor(4.) tensor(0) tensor(0)\n",
      "tensor([2.4398]) tensor(2.) tensor(0) tensor(0)\n",
      "tensor([2.5272]) tensor(2.5000) tensor(0) tensor(0)\n",
      "tensor([2.0526]) tensor(1.5000) tensor(0) tensor(0)\n",
      "tensor([2.6397]) tensor(2.) tensor(0) tensor(0)\n",
      "tensor([2.6845]) tensor(2.) tensor(0) tensor(0)\n",
      "tensor([2.2962]) tensor(2.) tensor(0) tensor(0)\n",
      "tensor([2.1871]) tensor(2.) tensor(0) tensor(0)\n",
      "tensor([2.1504]) tensor(1.) tensor(0) tensor(0)\n",
      "tensor([2.6217]) tensor(3.) tensor(0) tensor(0)\n",
      "tensor([3.2245]) tensor(2.) tensor(0) tensor(0)\n",
      "tensor([2.2496]) tensor(2.) tensor(0) tensor(0)\n",
      "tensor([2.4094]) tensor(2.) tensor(0) tensor(0)\n",
      "tensor([2.2335]) tensor(3.) tensor(0) tensor(0)\n",
      "tensor([2.4440]) tensor(2.) tensor(0) tensor(0)\n",
      "tensor([2.2211]) tensor(2.) tensor(0) tensor(0)\n",
      "tensor([2.1202]) tensor(2.) tensor(0) tensor(0)\n",
      "tensor([2.0813]) tensor(3.) tensor(0) tensor(0)\n",
      "tensor([3.0438]) tensor(4.) tensor(0) tensor(0)\n",
      "tensor([1.9134]) tensor(2.) tensor(0) tensor(0)\n",
      "tensor([3.2784]) tensor(5.) tensor(0) tensor(0)\n",
      "tensor([2.6663]) tensor(2.) tensor(0) tensor(0)\n",
      "tensor([2.2418]) tensor(2.) tensor(0) tensor(0)\n",
      "tensor([2.4594]) tensor(2.) tensor(0) tensor(0)\n",
      "tensor([2.5178]) tensor(2.) tensor(0) tensor(0)\n",
      "tensor([2.6592]) tensor(3.) tensor(0) tensor(0)\n",
      "tensor([2.8113]) tensor(2.) tensor(0) tensor(0)\n",
      "tensor([2.1858]) tensor(2.) tensor(0) tensor(0)\n",
      "tensor([3.4479]) tensor(4.5000) tensor(0) tensor(0)\n",
      "tensor([2.6733]) tensor(3.) tensor(0) tensor(0)\n",
      "tensor([2.6384]) tensor(3.) tensor(0) tensor(0)\n",
      "tensor([2.1382]) tensor(2.) tensor(0) tensor(0)\n",
      "tensor([2.2969]) tensor(3.) tensor(0) tensor(0)\n",
      "tensor([2.1165]) tensor(2.) tensor(0) tensor(0)\n",
      "tensor([1.8724]) tensor(2.) tensor(0) tensor(0)\n",
      "tensor([2.3960]) tensor(3.) tensor(0) tensor(0)\n",
      "tensor([2.8802]) tensor(3.) tensor(0) tensor(0)\n",
      "tensor([2.1150]) tensor(3.) tensor(0) tensor(0)\n",
      "tensor([2.7946]) tensor(2.) tensor(0) tensor(0)\n",
      "tensor([2.2185]) tensor(2.) tensor(0) tensor(0)\n",
      "tensor([2.2362]) tensor(2.5000) tensor(0) tensor(0)\n",
      "tensor([2.3381]) tensor(2.) tensor(0) tensor(0)\n",
      "tensor([2.3600]) tensor(2.) tensor(0) tensor(0)\n",
      "tensor([2.3233]) tensor(2.5000) tensor(0) tensor(0)\n",
      "tensor([2.7037]) tensor(2.) tensor(0) tensor(0)\n",
      "tensor([2.4920]) tensor(3.) tensor(0) tensor(0)\n",
      "tensor([2.8098]) tensor(2.) tensor(0) tensor(0)\n",
      "tensor([2.2889]) tensor(2.) tensor(0) tensor(0)\n",
      "tensor([2.1459]) tensor(2.) tensor(0) tensor(0)\n",
      "tensor([3.2725]) tensor(5.) tensor(0) tensor(0)\n",
      "tensor([3.0867]) tensor(4.) tensor(0) tensor(0)\n",
      "tensor([2.6933]) tensor(2.) tensor(0) tensor(0)\n",
      "tensor([3.0389]) tensor(4.) tensor(0) tensor(0)\n",
      "tensor([1.8991]) tensor(2.) tensor(0) tensor(0)\n",
      "tensor([2.4414]) tensor(2.) tensor(0) tensor(0)\n",
      "tensor([2.3572]) tensor(3.) tensor(0) tensor(0)\n",
      "tensor([2.1981]) tensor(2.) tensor(0) tensor(0)\n",
      "tensor([2.3596]) tensor(3.) tensor(0) tensor(0)\n",
      "tensor([2.4437]) tensor(2.) tensor(0) tensor(0)\n",
      "tensor([3.2310]) tensor(2.) tensor(0) tensor(0)\n",
      "tensor([3.5020]) tensor(3.) tensor(0) tensor(0)\n",
      "tensor([2.8485]) tensor(2.) tensor(0) tensor(0)\n",
      "tensor([3.1697]) tensor(2.) tensor(0) tensor(0)\n",
      "tensor([2.9386]) tensor(4.) tensor(0) tensor(0)\n",
      "tensor([2.8406]) tensor(2.) tensor(0) tensor(0)\n",
      "tensor([2.8158]) tensor(2.5000) tensor(0) tensor(0)\n",
      "tensor([2.5877]) tensor(2.) tensor(0) tensor(0)\n",
      "tensor([3.4851]) tensor(3.) tensor(0) tensor(0)\n",
      "tensor([2.3936]) tensor(3.) tensor(0) tensor(0)\n",
      "tensor([2.2704]) tensor(1.) tensor(0) tensor(0)\n",
      "tensor([2.7982]) tensor(2.) tensor(0) tensor(0)\n",
      "tensor([2.4531]) tensor(3.) tensor(0) tensor(0)\n",
      "tensor([2.9326]) tensor(4.) tensor(0) tensor(0)\n",
      "tensor([2.1198]) tensor(1.) tensor(0) tensor(0)\n",
      "tensor([2.4860]) tensor(2.) tensor(0) tensor(0)\n",
      "tensor([3.0110]) tensor(4.) tensor(0) tensor(0)\n",
      "tensor([2.6623]) tensor(4.) tensor(0) tensor(0)\n",
      "tensor([2.7581]) tensor(2.) tensor(0) tensor(0)\n",
      "tensor([2.4651]) tensor(2.) tensor(0) tensor(0)\n",
      "tensor([2.8032]) tensor(2.) tensor(0) tensor(0)\n",
      "tensor([1.7140]) tensor(2.) tensor(0) tensor(0)\n",
      "tensor([2.4249]) tensor(4.) tensor(0) tensor(0)\n",
      "tensor([2.5297]) tensor(2.) tensor(0) tensor(0)\n",
      "tensor([2.6595]) tensor(2.) tensor(0) tensor(0)\n",
      "tensor([2.2854]) tensor(3.) tensor(0) tensor(0)\n",
      "tensor([2.1561]) tensor(2.) tensor(0) tensor(0)\n",
      "tensor([2.0536]) tensor(2.) tensor(0) tensor(0)\n",
      "tensor([2.5738]) tensor(2.) tensor(0) tensor(0)\n",
      "tensor([2.8843]) tensor(3.) tensor(0) tensor(0)\n",
      "tensor([2.2266]) tensor(2.) tensor(0) tensor(0)\n",
      "tensor([2.1069]) tensor(1.) tensor(0) tensor(0)\n",
      "tensor([3.2080]) tensor(5.) tensor(0) tensor(0)\n",
      "tensor([2.1286]) tensor(2.) tensor(0) tensor(0)\n",
      "tensor([2.3852]) tensor(3.) tensor(0) tensor(0)\n",
      "tensor([2.0193]) tensor(2.) tensor(0) tensor(0)\n",
      "tensor([2.5010]) tensor(2.) tensor(0) tensor(0)\n",
      "tensor([2.7511]) tensor(2.) tensor(0) tensor(0)\n",
      "tensor([2.6123]) tensor(2.) tensor(0) tensor(0)\n",
      "tensor([2.0893]) tensor(1.) tensor(0) tensor(0)\n",
      "tensor([3.7037]) tensor(4.) tensor(0) tensor(0)\n",
      "tensor([2.4443]) tensor(2.) tensor(0) tensor(0)\n",
      "tensor([2.6449]) tensor(2.) tensor(0) tensor(0)\n",
      "tensor([3.1463]) tensor(3.) tensor(0) tensor(0)\n",
      "tensor([2.5681]) tensor(2.) tensor(0) tensor(0)\n",
      "tensor([2.5264]) tensor(3.) tensor(0) tensor(0)\n",
      "tensor([2.9563]) tensor(2.) tensor(0) tensor(0)\n",
      "tensor([2.7264]) tensor(2.5000) tensor(0) tensor(0)\n",
      "tensor([2.3437]) tensor(3.) tensor(0) tensor(0)\n",
      "tensor([2.4873]) tensor(2.) tensor(0) tensor(0)\n",
      "tensor([2.9020]) tensor(3.) tensor(0) tensor(0)\n",
      "tensor([2.8744]) tensor(3.) tensor(0) tensor(0)\n",
      "tensor([2.0359]) tensor(2.) tensor(0) tensor(0)\n",
      "tensor([2.6108]) tensor(2.) tensor(0) tensor(0)\n",
      "tensor([2.4398]) tensor(3.) tensor(0) tensor(0)\n",
      "tensor([2.4726]) tensor(2.) tensor(0) tensor(0)\n",
      "tensor([2.1175]) tensor(2.) tensor(0) tensor(0)\n",
      "tensor([1.8382]) tensor(3.) tensor(0) tensor(0)\n",
      "tensor([2.8969]) tensor(1.) tensor(0) tensor(0)\n",
      "tensor([2.7279]) tensor(3.) tensor(0) tensor(0)\n",
      "tensor([2.4165]) tensor(3.) tensor(0) tensor(0)\n",
      "tensor([2.3569]) tensor(2.) tensor(0) tensor(0)\n"
     ]
    },
    {
     "name": "stdout",
     "output_type": "stream",
     "text": [
      "tensor([1.9452]) tensor(2.) tensor(0) tensor(0)\n",
      "tensor([3.3235]) tensor(3.) tensor(0) tensor(0)\n",
      "tensor([2.5567]) tensor(2.) tensor(0) tensor(0)\n",
      "tensor([2.2000]) tensor(2.) tensor(0) tensor(0)\n",
      "tensor([2.4249]) tensor(2.) tensor(0) tensor(0)\n",
      "tensor([2.1752]) tensor(3.) tensor(0) tensor(0)\n",
      "tensor([2.9505]) tensor(2.) tensor(0) tensor(0)\n",
      "tensor([2.1278]) tensor(2.) tensor(0) tensor(0)\n",
      "tensor([2.3028]) tensor(2.) tensor(0) tensor(0)\n",
      "tensor([1.8414]) tensor(3.) tensor(0) tensor(0)\n",
      "tensor([1.8395]) tensor(2.) tensor(0) tensor(0)\n",
      "tensor([2.9722]) tensor(4.) tensor(0) tensor(0)\n",
      "tensor([2.0643]) tensor(2.) tensor(0) tensor(0)\n",
      "tensor([3.0356]) tensor(5.) tensor(0) tensor(0)\n",
      "tensor([2.0989]) tensor(3.) tensor(0) tensor(0)\n",
      "tensor([2.6866]) tensor(3.) tensor(0) tensor(0)\n",
      "tensor([2.5287]) tensor(3.) tensor(0) tensor(0)\n",
      "tensor([2.6104]) tensor(3.) tensor(0) tensor(0)\n",
      "tensor([3.2854]) tensor(3.) tensor(0) tensor(0)\n",
      "tensor([2.3993]) tensor(1.) tensor(0) tensor(0)\n",
      "tensor([2.7755]) tensor(3.) tensor(0) tensor(0)\n",
      "tensor([2.3281]) tensor(2.) tensor(0) tensor(0)\n",
      "tensor([2.3008]) tensor(3.) tensor(0) tensor(0)\n",
      "tensor([2.3506]) tensor(2.) tensor(0) tensor(0)\n",
      "tensor([2.4841]) tensor(3.) tensor(0) tensor(0)\n",
      "tensor([2.6020]) tensor(3.) tensor(0) tensor(0)\n",
      "tensor([2.4815]) tensor(2.) tensor(0) tensor(0)\n",
      "tensor([2.7239]) tensor(2.) tensor(0) tensor(0)\n",
      "tensor([1.9712]) tensor(2.) tensor(0) tensor(0)\n",
      "tensor([2.9612]) tensor(3.) tensor(0) tensor(0)\n",
      "tensor([2.4140]) tensor(3.) tensor(0) tensor(0)\n",
      "tensor([2.2310]) tensor(2.) tensor(0) tensor(0)\n",
      "tensor([2.4405]) tensor(4.) tensor(0) tensor(0)\n",
      "tensor([1.8601]) tensor(2.5000) tensor(0) tensor(0)\n",
      "tensor([2.6396]) tensor(3.) tensor(0) tensor(0)\n",
      "tensor([1.9614]) tensor(1.) tensor(0) tensor(0)\n",
      "tensor([2.4594]) tensor(2.) tensor(0) tensor(0)\n",
      "tensor([2.7171]) tensor(3.) tensor(0) tensor(0)\n",
      "tensor([2.9363]) tensor(2.) tensor(0) tensor(0)\n",
      "tensor([2.4871]) tensor(3.) tensor(0) tensor(0)\n",
      "tensor([2.1140]) tensor(3.) tensor(0) tensor(0)\n",
      "tensor([2.1992]) tensor(3.) tensor(0) tensor(0)\n",
      "tensor([2.3380]) tensor(2.) tensor(0) tensor(0)\n",
      "tensor([2.8383]) tensor(4.) tensor(0) tensor(0)\n",
      "tensor([2.1940]) tensor(2.) tensor(0) tensor(0)\n",
      "tensor([2.5631]) tensor(3.) tensor(0) tensor(0)\n",
      "tensor([2.7574]) tensor(4.) tensor(0) tensor(0)\n",
      "tensor([2.4344]) tensor(3.) tensor(0) tensor(0)\n",
      "tensor([2.3093]) tensor(2.) tensor(0) tensor(0)\n",
      "tensor([2.2341]) tensor(1.) tensor(0) tensor(0)\n",
      "tensor([2.6089]) tensor(2.) tensor(0) tensor(0)\n",
      "tensor([2.4302]) tensor(2.) tensor(0) tensor(0)\n",
      "tensor([2.8351]) tensor(2.) tensor(0) tensor(0)\n",
      "tensor([2.5965]) tensor(3.) tensor(0) tensor(0)\n",
      "tensor([2.0845]) tensor(3.) tensor(0) tensor(0)\n",
      "tensor([2.7112]) tensor(3.) tensor(0) tensor(0)\n",
      "tensor([2.2363]) tensor(2.) tensor(0) tensor(0)\n",
      "tensor([2.8926]) tensor(2.) tensor(0) tensor(0)\n",
      "tensor([2.4957]) tensor(1.) tensor(0) tensor(0)\n",
      "tensor([2.2415]) tensor(3.) tensor(0) tensor(0)\n",
      "tensor([3.3832]) tensor(5.) tensor(0) tensor(0)\n",
      "tensor([2.1593]) tensor(2.) tensor(0) tensor(0)\n",
      "tensor([1.8841]) tensor(1.5000) tensor(0) tensor(0)\n",
      "tensor([1.9076]) tensor(3.) tensor(0) tensor(0)\n",
      "tensor([2.2240]) tensor(2.) tensor(0) tensor(0)\n",
      "tensor([2.1126]) tensor(3.) tensor(0) tensor(0)\n",
      "tensor([2.9261]) tensor(2.) tensor(0) tensor(0)\n",
      "tensor([2.3087]) tensor(2.) tensor(0) tensor(0)\n",
      "tensor([1.9834]) tensor(2.) tensor(0) tensor(0)\n",
      "tensor([2.3704]) tensor(2.) tensor(0) tensor(0)\n",
      "tensor([2.0960]) tensor(2.) tensor(0) tensor(0)\n",
      "tensor([2.8813]) tensor(5.) tensor(0) tensor(0)\n",
      "tensor([2.0632]) tensor(3.) tensor(0) tensor(0)\n",
      "tensor([2.4280]) tensor(2.) tensor(0) tensor(0)\n",
      "tensor([3.1699]) tensor(5.) tensor(0) tensor(0)\n",
      "tensor([2.2644]) tensor(3.) tensor(0) tensor(0)\n",
      "tensor([3.1662]) tensor(3.) tensor(0) tensor(0)\n",
      "tensor([2.9725]) tensor(5.) tensor(0) tensor(0)\n",
      "tensor([2.6023]) tensor(2.) tensor(0) tensor(0)\n",
      "tensor([2.2684]) tensor(2.) tensor(0) tensor(0)\n",
      "tensor([2.6346]) tensor(2.) tensor(0) tensor(0)\n",
      "tensor([2.2820]) tensor(2.) tensor(0) tensor(0)\n",
      "tensor([2.1760]) tensor(2.) tensor(0) tensor(0)\n",
      "tensor([2.2684]) tensor(2.) tensor(0) tensor(0)\n",
      "tensor([2.3698]) tensor(2.) tensor(0) tensor(0)\n",
      "tensor([3.2585]) tensor(5.) tensor(0) tensor(0)\n",
      "tensor([2.2085]) tensor(3.) tensor(0) tensor(0)\n",
      "tensor([1.9161]) tensor(2.) tensor(0) tensor(0)\n",
      "tensor([3.0803]) tensor(4.) tensor(0) tensor(0)\n",
      "tensor([2.1775]) tensor(2.) tensor(0) tensor(0)\n",
      "tensor([2.0054]) tensor(1.) tensor(0) tensor(0)\n",
      "tensor([2.1842]) tensor(2.) tensor(0) tensor(0)\n",
      "tensor([2.7664]) tensor(3.) tensor(0) tensor(0)\n",
      "tensor([2.2126]) tensor(3.) tensor(0) tensor(0)\n",
      "tensor([2.2835]) tensor(3.) tensor(0) tensor(0)\n",
      "tensor([1.9386]) tensor(2.) tensor(0) tensor(0)\n",
      "tensor([2.0447]) tensor(2.) tensor(0) tensor(0)\n",
      "tensor([2.4336]) tensor(2.) tensor(0) tensor(0)\n",
      "tensor([2.4837]) tensor(3.) tensor(0) tensor(0)\n",
      "tensor([3.2405]) tensor(4.) tensor(0) tensor(0)\n",
      "tensor([2.6777]) tensor(2.) tensor(0) tensor(0)\n",
      "tensor([2.7151]) tensor(2.) tensor(0) tensor(0)\n",
      "tensor([2.4240]) tensor(2.) tensor(0) tensor(1)\n",
      "tensor([2.5380]) tensor(2.) tensor(0) tensor(0)\n",
      "tensor([2.5999]) tensor(2.) tensor(0) tensor(0)\n",
      "tensor([2.5149]) tensor(3.) tensor(0) tensor(0)\n",
      "tensor([2.9915]) tensor(5.) tensor(0) tensor(0)\n",
      "tensor([3.2498]) tensor(4.) tensor(0) tensor(0)\n",
      "tensor([2.6773]) tensor(2.) tensor(0) tensor(0)\n",
      "tensor([2.4366]) tensor(2.) tensor(0) tensor(0)\n",
      "tensor([2.4272]) tensor(2.) tensor(0) tensor(0)\n",
      "tensor([2.7498]) tensor(2.) tensor(0) tensor(0)\n",
      "tensor([2.9795]) tensor(4.) tensor(0) tensor(0)\n",
      "tensor([2.3202]) tensor(2.) tensor(0) tensor(0)\n",
      "tensor([2.6281]) tensor(2.) tensor(0) tensor(0)\n",
      "tensor([2.5911]) tensor(2.) tensor(0) tensor(0)\n",
      "tensor([2.2617]) tensor(2.) tensor(0) tensor(0)\n",
      "tensor([2.0884]) tensor(2.) tensor(0) tensor(0)\n",
      "tensor([2.2862]) tensor(1.) tensor(0) tensor(0)\n",
      "tensor([2.4922]) tensor(2.) tensor(0) tensor(0)\n",
      "tensor([2.0775]) tensor(2.) tensor(0) tensor(0)\n",
      "tensor([2.9757]) tensor(3.) tensor(0) tensor(0)\n",
      "tensor([2.4494]) tensor(2.5000) tensor(0) tensor(0)\n",
      "tensor([3.1309]) tensor(5.) tensor(0) tensor(0)\n",
      "tensor([2.4159]) tensor(2.) tensor(0) tensor(0)\n",
      "tensor([2.6681]) tensor(2.) tensor(0) tensor(0)\n",
      "tensor([2.5487]) tensor(2.) tensor(0) tensor(0)\n",
      "tensor([2.2731]) tensor(1.) tensor(0) tensor(0)\n",
      "tensor([2.6098]) tensor(2.) tensor(0) tensor(0)\n",
      "tensor([3.2612]) tensor(5.) tensor(0) tensor(0)\n",
      "tensor([3.1995]) tensor(4.) tensor(0) tensor(0)\n",
      "tensor([2.2180]) tensor(4.5000) tensor(0) tensor(0)\n",
      "tensor([2.2322]) tensor(2.) tensor(0) tensor(0)\n",
      "tensor([2.3012]) tensor(3.) tensor(0) tensor(0)\n",
      "tensor([2.5759]) tensor(2.) tensor(0) tensor(0)\n",
      "tensor([2.7897]) tensor(2.) tensor(0) tensor(0)\n",
      "tensor([3.2407]) tensor(3.) tensor(0) tensor(0)\n",
      "tensor([2.7140]) tensor(2.) tensor(0) tensor(0)\n",
      "tensor([2.5037]) tensor(1.) tensor(0) tensor(0)\n",
      "tensor([2.5764]) tensor(2.) tensor(0) tensor(0)\n",
      "tensor([2.6110]) tensor(2.) tensor(0) tensor(0)\n",
      "tensor([2.0320]) tensor(2.) tensor(0) tensor(0)\n",
      "tensor([2.1232]) tensor(2.) tensor(0) tensor(0)\n",
      "tensor([3.2779]) tensor(2.) tensor(0) tensor(0)\n",
      "tensor([2.3398]) tensor(3.) tensor(0) tensor(0)\n",
      "tensor([3.0474]) tensor(4.) tensor(0) tensor(0)\n",
      "tensor([2.5816]) tensor(2.) tensor(0) tensor(0)\n",
      "tensor([3.0977]) tensor(3.) tensor(0) tensor(0)\n",
      "tensor([2.0724]) tensor(3.) tensor(0) tensor(0)\n",
      "tensor([2.9576]) tensor(3.) tensor(0) tensor(0)\n",
      "tensor([2.9609]) tensor(4.) tensor(0) tensor(0)\n",
      "tensor([2.3802]) tensor(2.) tensor(0) tensor(0)\n",
      "tensor([1.9697]) tensor(2.) tensor(0) tensor(0)\n",
      "tensor([1.6211]) tensor(1.5000) tensor(0) tensor(0)\n",
      "tensor([2.5659]) tensor(2.5000) tensor(0) tensor(0)\n",
      "tensor([2.2237]) tensor(2.) tensor(0) tensor(0)\n",
      "tensor([2.1463]) tensor(1.) tensor(0) tensor(0)\n",
      "tensor([2.7667]) tensor(3.) tensor(0) tensor(0)\n",
      "tensor([2.6760]) tensor(3.) tensor(0) tensor(0)\n",
      "tensor([2.7395]) tensor(3.) tensor(0) tensor(0)\n",
      "tensor([2.8117]) tensor(4.) tensor(0) tensor(0)\n",
      "tensor([2.5465]) tensor(2.) tensor(0) tensor(0)\n",
      "tensor([2.4288]) tensor(2.) tensor(0) tensor(0)\n",
      "tensor([2.1175]) tensor(2.) tensor(0) tensor(0)\n",
      "tensor([2.5229]) tensor(2.) tensor(0) tensor(0)\n",
      "tensor([2.3862]) tensor(3.) tensor(0) tensor(0)\n",
      "tensor([2.2553]) tensor(2.) tensor(0) tensor(0)\n",
      "tensor([2.4230]) tensor(4.5000) tensor(0) tensor(0)\n",
      "tensor([2.7425]) tensor(3.) tensor(0) tensor(0)\n",
      "tensor([2.6027]) tensor(2.) tensor(0) tensor(0)\n",
      "tensor([2.6451]) tensor(2.) tensor(0) tensor(0)\n",
      "tensor([2.4227]) tensor(2.5000) tensor(0) tensor(0)\n",
      "tensor([2.5853]) tensor(3.) tensor(0) tensor(0)\n",
      "tensor([2.4478]) tensor(2.) tensor(0) tensor(0)\n",
      "tensor([3.3832]) tensor(5.) tensor(0) tensor(0)\n",
      "tensor([2.5782]) tensor(3.) tensor(0) tensor(0)\n",
      "tensor([2.6315]) tensor(3.) tensor(0) tensor(0)\n",
      "tensor([2.6780]) tensor(2.) tensor(0) tensor(0)\n",
      "tensor([2.2952]) tensor(4.) tensor(0) tensor(0)\n",
      "tensor([2.7147]) tensor(2.) tensor(0) tensor(0)\n",
      "tensor([2.9323]) tensor(3.) tensor(0) tensor(0)\n",
      "tensor([3.0941]) tensor(4.) tensor(0) tensor(0)\n",
      "tensor([2.6392]) tensor(3.) tensor(0) tensor(0)\n",
      "tensor([3.4604]) tensor(5.) tensor(0) tensor(0)\n",
      "tensor([2.4522]) tensor(2.) tensor(0) tensor(0)\n",
      "tensor([2.3932]) tensor(3.5000) tensor(0) tensor(0)\n",
      "tensor([2.8528]) tensor(1.) tensor(0) tensor(0)\n",
      "tensor([2.7584]) tensor(4.) tensor(0) tensor(0)\n",
      "tensor([2.5437]) tensor(1.) tensor(0) tensor(0)\n",
      "tensor([2.0897]) tensor(1.5000) tensor(0) tensor(0)\n",
      "tensor([2.3661]) tensor(3.) tensor(0) tensor(0)\n",
      "tensor([3.1552]) tensor(4.) tensor(0) tensor(0)\n",
      "tensor([2.1000]) tensor(3.) tensor(0) tensor(0)\n",
      "tensor([2.5560]) tensor(2.) tensor(0) tensor(0)\n",
      "tensor([3.0603]) tensor(5.) tensor(0) tensor(0)\n",
      "tensor([1.9473]) tensor(2.) tensor(0) tensor(0)\n",
      "tensor([1.8552]) tensor(2.) tensor(0) tensor(0)\n",
      "tensor([2.9867]) tensor(2.) tensor(0) tensor(0)\n",
      "tensor([2.2118]) tensor(2.) tensor(0) tensor(0)\n",
      "tensor([2.3279]) tensor(3.) tensor(0) tensor(0)\n",
      "tensor([2.7200]) tensor(3.) tensor(0) tensor(0)\n",
      "tensor([2.2442]) tensor(3.) tensor(0) tensor(0)\n",
      "tensor([2.9859]) tensor(2.) tensor(0) tensor(0)\n",
      "tensor([2.4529]) tensor(3.) tensor(0) tensor(0)\n",
      "tensor([2.2452]) tensor(2.) tensor(0) tensor(0)\n",
      "tensor([3.1253]) tensor(4.) tensor(0) tensor(0)\n",
      "tensor([2.3968]) tensor(2.) tensor(0) tensor(0)\n",
      "tensor([2.0648]) tensor(2.5000) tensor(0) tensor(0)\n",
      "tensor([2.9873]) tensor(3.) tensor(0) tensor(0)\n",
      "tensor([2.5234]) tensor(1.5000) tensor(0) tensor(0)\n",
      "tensor([1.9073]) tensor(2.) tensor(0) tensor(0)\n",
      "tensor([2.0572]) tensor(2.) tensor(0) tensor(0)\n",
      "tensor([2.2265]) tensor(3.) tensor(0) tensor(0)\n",
      "tensor([2.0349]) tensor(2.) tensor(0) tensor(0)\n",
      "tensor([3.4930]) tensor(4.) tensor(0) tensor(0)\n",
      "tensor([2.0954]) tensor(2.) tensor(0) tensor(0)\n",
      "tensor([2.4278]) tensor(2.) tensor(0) tensor(0)\n",
      "tensor([2.5518]) tensor(2.) tensor(0) tensor(0)\n",
      "tensor([1.8846]) tensor(2.) tensor(0) tensor(0)\n",
      "tensor([2.4992]) tensor(2.) tensor(0) tensor(0)\n",
      "tensor([2.4886]) tensor(2.) tensor(0) tensor(0)\n",
      "tensor([2.1093]) tensor(2.) tensor(0) tensor(0)\n",
      "tensor([3.1260]) tensor(3.) tensor(0) tensor(0)\n",
      "tensor([2.1269]) tensor(3.) tensor(0) tensor(0)\n",
      "tensor([2.3008]) tensor(2.) tensor(0) tensor(0)\n",
      "tensor([2.3330]) tensor(2.) tensor(0) tensor(0)\n",
      "tensor([2.1820]) tensor(2.) tensor(0) tensor(0)\n",
      "tensor([2.2746]) tensor(2.) tensor(0) tensor(0)\n",
      "tensor([2.3541]) tensor(2.) tensor(0) tensor(0)\n",
      "tensor([2.6622]) tensor(2.) tensor(0) tensor(0)\n",
      "tensor([2.0620]) tensor(2.) tensor(0) tensor(0)\n",
      "tensor([2.9056]) tensor(2.) tensor(0) tensor(0)\n",
      "tensor([2.3870]) tensor(3.) tensor(0) tensor(0)\n",
      "tensor([2.5765]) tensor(3.) tensor(0) tensor(0)\n",
      "tensor([2.4113]) tensor(3.) tensor(0) tensor(0)\n",
      "tensor([2.2619]) tensor(2.) tensor(0) tensor(0)\n",
      "tensor([2.5275]) tensor(2.) tensor(0) tensor(0)\n",
      "tensor([2.2708]) tensor(2.) tensor(0) tensor(0)\n",
      "tensor([1.9164]) tensor(2.) tensor(0) tensor(0)\n",
      "tensor([2.8791]) tensor(2.) tensor(0) tensor(0)\n",
      "tensor([2.2418]) tensor(2.) tensor(0) tensor(0)\n",
      "tensor([1.9578]) tensor(2.) tensor(0) tensor(0)\n",
      "tensor([2.3661]) tensor(2.) tensor(0) tensor(0)\n",
      "tensor([2.5529]) tensor(2.) tensor(0) tensor(0)\n",
      "tensor([2.6242]) tensor(2.) tensor(0) tensor(0)\n",
      "tensor([3.3272]) tensor(3.) tensor(0) tensor(0)\n",
      "tensor([2.5912]) tensor(2.) tensor(0) tensor(0)\n",
      "tensor([2.7566]) tensor(4.) tensor(0) tensor(0)\n",
      "tensor([2.1903]) tensor(2.) tensor(0) tensor(0)\n",
      "tensor([2.5133]) tensor(2.) tensor(0) tensor(0)\n"
     ]
    },
    {
     "name": "stdout",
     "output_type": "stream",
     "text": [
      "tensor([2.0866]) tensor(2.) tensor(0) tensor(0)\n",
      "tensor([2.4637]) tensor(2.) tensor(0) tensor(0)\n",
      "tensor([2.5325]) tensor(3.) tensor(0) tensor(0)\n",
      "tensor([2.3414]) tensor(2.) tensor(0) tensor(0)\n",
      "tensor([2.1559]) tensor(2.) tensor(0) tensor(0)\n",
      "tensor([3.0532]) tensor(5.) tensor(0) tensor(0)\n",
      "tensor([2.1589]) tensor(1.) tensor(0) tensor(0)\n",
      "tensor([2.3712]) tensor(2.) tensor(0) tensor(0)\n",
      "tensor([2.4159]) tensor(2.) tensor(0) tensor(0)\n",
      "tensor([3.0382]) tensor(2.) tensor(0) tensor(0)\n",
      "tensor([2.6093]) tensor(4.) tensor(0) tensor(0)\n",
      "tensor([2.5619]) tensor(2.) tensor(0) tensor(0)\n",
      "tensor([2.3124]) tensor(3.) tensor(0) tensor(0)\n",
      "tensor([2.0492]) tensor(2.) tensor(0) tensor(0)\n",
      "tensor([2.0245]) tensor(2.) tensor(0) tensor(0)\n",
      "tensor([2.5384]) tensor(2.) tensor(0) tensor(0)\n",
      "tensor([2.5946]) tensor(2.) tensor(0) tensor(0)\n",
      "tensor([2.8453]) tensor(2.) tensor(0) tensor(0)\n",
      "tensor([2.5471]) tensor(1.) tensor(0) tensor(0)\n",
      "tensor([2.4035]) tensor(3.) tensor(0) tensor(0)\n",
      "tensor([3.0961]) tensor(3.) tensor(0) tensor(0)\n",
      "tensor([2.4383]) tensor(3.) tensor(0) tensor(0)\n",
      "tensor([2.0077]) tensor(2.) tensor(0) tensor(0)\n",
      "tensor([2.0115]) tensor(2.) tensor(0) tensor(0)\n",
      "tensor([2.0247]) tensor(1.) tensor(0) tensor(0)\n",
      "tensor([2.4685]) tensor(3.) tensor(0) tensor(0)\n",
      "tensor([2.3310]) tensor(4.) tensor(0) tensor(0)\n",
      "tensor([2.7519]) tensor(2.) tensor(0) tensor(0)\n",
      "tensor([2.3735]) tensor(2.) tensor(0) tensor(0)\n",
      "tensor([2.2957]) tensor(1.) tensor(0) tensor(0)\n",
      "tensor([2.3172]) tensor(2.) tensor(0) tensor(0)\n",
      "tensor([2.0953]) tensor(3.) tensor(0) tensor(0)\n",
      "tensor([2.3964]) tensor(3.) tensor(0) tensor(0)\n",
      "tensor([1.9459]) tensor(2.) tensor(0) tensor(0)\n",
      "tensor([2.4155]) tensor(1.5000) tensor(0) tensor(0)\n",
      "tensor([2.9470]) tensor(2.) tensor(0) tensor(0)\n",
      "tensor([2.5532]) tensor(2.5000) tensor(0) tensor(0)\n",
      "tensor([2.3069]) tensor(2.) tensor(0) tensor(0)\n",
      "tensor([1.8416]) tensor(2.) tensor(0) tensor(0)\n",
      "tensor([2.9212]) tensor(1.) tensor(0) tensor(0)\n",
      "tensor([2.2151]) tensor(2.) tensor(0) tensor(0)\n",
      "tensor([2.7353]) tensor(2.5000) tensor(0) tensor(0)\n",
      "tensor([2.3289]) tensor(3.) tensor(0) tensor(0)\n",
      "tensor([2.4314]) tensor(3.) tensor(0) tensor(0)\n",
      "tensor([3.3195]) tensor(5.) tensor(0) tensor(0)\n",
      "tensor([2.6849]) tensor(2.) tensor(0) tensor(0)\n",
      "tensor([2.1591]) tensor(2.) tensor(0) tensor(0)\n",
      "tensor([2.6207]) tensor(3.) tensor(0) tensor(0)\n",
      "tensor([1.8815]) tensor(2.) tensor(0) tensor(0)\n",
      "tensor([2.6846]) tensor(2.) tensor(0) tensor(0)\n",
      "tensor([2.3386]) tensor(2.) tensor(0) tensor(0)\n",
      "tensor([2.1501]) tensor(2.) tensor(0) tensor(0)\n",
      "tensor([3.3271]) tensor(5.) tensor(0) tensor(0)\n",
      "tensor([3.0042]) tensor(3.) tensor(0) tensor(0)\n",
      "tensor([2.7314]) tensor(2.) tensor(0) tensor(0)\n",
      "tensor([2.5560]) tensor(2.) tensor(0) tensor(0)\n",
      "tensor([2.4550]) tensor(3.) tensor(0) tensor(0)\n",
      "tensor([2.9913]) tensor(4.) tensor(0) tensor(0)\n",
      "tensor([2.7788]) tensor(4.) tensor(0) tensor(0)\n",
      "tensor([1.8573]) tensor(2.) tensor(0) tensor(0)\n",
      "tensor([1.9307]) tensor(3.) tensor(0) tensor(0)\n",
      "tensor([3.1405]) tensor(4.) tensor(0) tensor(0)\n",
      "tensor([3.6531]) tensor(5.) tensor(0) tensor(0)\n",
      "tensor([2.3935]) tensor(2.) tensor(0) tensor(0)\n",
      "tensor([2.3090]) tensor(2.) tensor(0) tensor(0)\n",
      "tensor([2.1572]) tensor(2.) tensor(0) tensor(0)\n",
      "tensor([1.9766]) tensor(2.) tensor(0) tensor(0)\n",
      "tensor([2.3700]) tensor(1.) tensor(0) tensor(0)\n",
      "tensor([1.8265]) tensor(1.) tensor(0) tensor(0)\n",
      "tensor([2.1152]) tensor(2.) tensor(0) tensor(0)\n",
      "tensor([2.2449]) tensor(2.) tensor(0) tensor(0)\n",
      "tensor([2.2193]) tensor(2.) tensor(0) tensor(0)\n",
      "tensor([2.4410]) tensor(2.) tensor(0) tensor(0)\n",
      "tensor([2.5170]) tensor(2.) tensor(0) tensor(0)\n",
      "tensor([2.4247]) tensor(2.) tensor(0) tensor(0)\n",
      "tensor([1.9371]) tensor(1.) tensor(0) tensor(0)\n",
      "tensor([3.0700]) tensor(5.) tensor(0) tensor(0)\n",
      "tensor([1.9908]) tensor(3.) tensor(0) tensor(0)\n",
      "tensor([2.1663]) tensor(1.) tensor(0) tensor(0)\n",
      "tensor([2.2066]) tensor(2.) tensor(0) tensor(0)\n",
      "tensor([3.0318]) tensor(4.) tensor(0) tensor(0)\n",
      "tensor([2.8461]) tensor(3.) tensor(0) tensor(0)\n",
      "tensor([2.3479]) tensor(1.) tensor(0) tensor(0)\n",
      "tensor([2.5640]) tensor(3.) tensor(0) tensor(0)\n",
      "tensor([2.1167]) tensor(2.) tensor(0) tensor(0)\n",
      "tensor([2.2466]) tensor(2.) tensor(0) tensor(0)\n",
      "tensor([2.3754]) tensor(2.) tensor(0) tensor(0)\n",
      "tensor([2.3525]) tensor(2.) tensor(0) tensor(0)\n",
      "tensor([2.6890]) tensor(1.5000) tensor(0) tensor(1)\n",
      "tensor([2.2047]) tensor(2.) tensor(0) tensor(0)\n",
      "tensor([2.9305]) tensor(1.) tensor(0) tensor(0)\n",
      "tensor([2.5904]) tensor(2.) tensor(0) tensor(0)\n",
      "tensor([2.3358]) tensor(2.) tensor(0) tensor(0)\n",
      "tensor([2.0389]) tensor(2.) tensor(0) tensor(0)\n",
      "tensor([1.9464]) tensor(3.) tensor(0) tensor(0)\n"
     ]
    }
   ],
   "source": [
    "for prob_sent, prob_example, targ_sent, targ_example in zip(*probs,*targs):\n",
    "    print(prob_sent, targ_sent, torch.argmax(prob_example, dim=-1), targ_example)"
   ]
  },
  {
   "cell_type": "code",
   "execution_count": 48,
   "metadata": {},
   "outputs": [
    {
     "data": {
      "text/plain": [
       "['adequate_staffing',\n",
       " 'advancement_and_training_opportunities',\n",
       " 'appropriate_stress_work_assigned_equitably',\n",
       " 'benefits',\n",
       " 'better_ways_recognized_participate_in_decisions']"
      ]
     },
     "execution_count": 48,
     "metadata": {},
     "output_type": "execute_result"
    }
   ],
   "source": [
    "STANDARD_THEME_SAW_LABELS[:5]"
   ]
  },
  {
   "cell_type": "code",
   "execution_count": 49,
   "metadata": {},
   "outputs": [
    {
     "data": {
      "text/html": [],
      "text/plain": [
       "<IPython.core.display.HTML object>"
      ]
     },
     "metadata": {},
     "output_type": "display_data"
    },
    {
     "data": {
      "text/plain": [
       "(((2.6881637573242188), '0'), tensor([[2.6882]]), tensor([[2.6882]]))"
      ]
     },
     "execution_count": 49,
     "metadata": {},
     "output_type": "execute_result"
    }
   ],
   "source": [
    "learn.blurr_predict(\"theme: Adequate Staffing comment: We don't have enough people to get the job done.\")"
   ]
  },
  {
   "cell_type": "markdown",
   "metadata": {
    "heading_collapsed": true
   },
   "source": [
    "## Review"
   ]
  },
  {
   "cell_type": "code",
   "execution_count": 50,
   "metadata": {
    "hidden": true
   },
   "outputs": [],
   "source": [
    "try: del learn\n",
    "except: pass\n",
    "finally: gc.collect(); torch.cuda.empty_cache()"
   ]
  },
  {
   "cell_type": "code",
   "execution_count": 51,
   "metadata": {
    "hidden": true
   },
   "outputs": [
    {
     "data": {
      "text/html": [],
      "text/plain": [
       "<IPython.core.display.HTML object>"
      ]
     },
     "metadata": {},
     "output_type": "display_data"
    },
    {
     "data": {
      "text/plain": [
       "(torch.Size([1049, 1]),\n",
       " torch.Size([1049, 2]),\n",
       " torch.Size([1049]),\n",
       " torch.Size([1049]))"
      ]
     },
     "execution_count": 51,
     "metadata": {},
     "output_type": "execute_result"
    }
   ],
   "source": [
    "# predictions for a single model using the learner's model and data loaders\n",
    "task = HF_TASKS_AUTO.SequenceClassification\n",
    "\n",
    "pretrained_model_name = 'facebook/bart-base' #\"bert-base-cased\" #\"bert-base-uncased\" #\"roberta-base\"\n",
    "config = AutoConfig.from_pretrained(pretrained_model_name)\n",
    "config.attention_probs_dropout_prob = 0.1 * 2\n",
    "config.hidden_dropout_prob = 0.1 * 2\n",
    "\n",
    "hf_arch, hf_config, hf_tokenizer, hf_model = BLURR_MODEL_HELPER.get_hf_objects(pretrained_model_name, \n",
    "                                                                               task=task, \n",
    "                                                                               config=config)\n",
    "\n",
    "set_seed(TL_RAND_SEED)\n",
    "learn, fit_cbs = get_learner(hf_model, \n",
    "                             dls, \n",
    "                             train_df=train_df, \n",
    "                             use_weighted_loss=False, \n",
    "                             use_fp16=True,\n",
    "                             train_config={})\n",
    "\n",
    "learn = learn.load(f'{m_pre}{base_model_name}{m_suf}_bestmodel')\n",
    "learn.model.cuda(1)\n",
    "probs, targs  = learn.get_preds()\n",
    "\n",
    "probs[0].shape, probs[1].shape, targs[0].shape, targs[1].shape"
   ]
  },
  {
   "cell_type": "markdown",
   "metadata": {
    "hidden": true
   },
   "source": [
    "### Lets look at validation metrics"
   ]
  },
  {
   "cell_type": "code",
   "execution_count": 52,
   "metadata": {
    "hidden": true
   },
   "outputs": [],
   "source": [
    "is_example_prob_true = torch.softmax(probs[1], dim=-1)[:,1]\n",
    "# is_example_prob_true"
   ]
  },
  {
   "cell_type": "code",
   "execution_count": 53,
   "metadata": {
    "hidden": true
   },
   "outputs": [],
   "source": [
    "# determine optimal threshold based on desired f-score\n",
    "f05 = OptimalMultiThresholdMetrics(beta=0.5, start=0.05, end=.5, sigmoid=False, \n",
    "                                   average='binary', sample_weight=None)\n",
    "f1 = OptimalMultiThresholdMetrics(beta=1, start=0.05, end=.5, sigmoid=False, \n",
    "                                   average='binary', sample_weight=None)\n",
    "f2 = OptimalMultiThresholdMetrics(beta=2, start=0.05, end=.5, sigmoid=False, \n",
    "                                   average='binary', sample_weight=None)"
   ]
  },
  {
   "cell_type": "code",
   "execution_count": 54,
   "metadata": {
    "hidden": true
   },
   "outputs": [
    {
     "data": {
      "text/plain": [
       "(0.29000000000000004, 0.29000000000000004, 0.29000000000000004)"
      ]
     },
     "execution_count": 54,
     "metadata": {},
     "output_type": "execute_result"
    }
   ],
   "source": [
    "threshold_f05 = f05.opt_th(is_example_prob_true, targs[1])\n",
    "threshold_f1 = f1.opt_th(is_example_prob_true, targs[1])\n",
    "threshold_f2 = f2.opt_th(is_example_prob_true, targs[1])\n",
    "\n",
    "threshold_f05, threshold_f1, threshold_f2"
   ]
  },
  {
   "cell_type": "code",
   "execution_count": 55,
   "metadata": {
    "hidden": true
   },
   "outputs": [
    {
     "data": {
      "text/plain": [
       "(0.011180124223602485, 0.017769002961500496, 0.043269230769230775)"
      ]
     },
     "execution_count": 55,
     "metadata": {},
     "output_type": "execute_result"
    }
   ],
   "source": [
    "f05_score = f05.opt_fscore(is_example_prob_true, targs[1])\n",
    "f1_score = f1.opt_fscore(is_example_prob_true, targs[1])\n",
    "f2_score = f2.opt_fscore(is_example_prob_true, targs[1])\n",
    "\n",
    "f05_score, f1_score, f2_score"
   ]
  },
  {
   "cell_type": "code",
   "execution_count": 56,
   "metadata": {
    "hidden": true
   },
   "outputs": [
    {
     "data": {
      "text/plain": [
       "0.011180124223602485"
      ]
     },
     "execution_count": 56,
     "metadata": {},
     "output_type": "execute_result"
    }
   ],
   "source": [
    "# make sure we are getting the same f1 score as sklearn\n",
    "res = skm.fbeta_score(targs[1], (is_example_prob_true > threshold_f05), beta=.5, \n",
    "                      average='binary', sample_weight=None, zero_division=False)\n",
    "res"
   ]
  },
  {
   "cell_type": "code",
   "execution_count": 57,
   "metadata": {
    "hidden": true
   },
   "outputs": [
    {
     "data": {
      "text/plain": [
       "(0.9914203882217407, 0.9914203882217407, 0.9914203882217407)"
      ]
     },
     "execution_count": 57,
     "metadata": {},
     "output_type": "execute_result"
    }
   ],
   "source": [
    "# determine accuracy based on optimal threshold\n",
    "val_acc_f05 = accuracy_multi(torch.argmax(probs[1], dim=-1), targs[1], threshold_f05, sigmoid=False).item()\n",
    "val_acc_f1 = accuracy_multi(torch.argmax(probs[1], dim=-1), targs[1], threshold_f1, sigmoid=False).item()\n",
    "val_acc_f2 = accuracy_multi(torch.argmax(probs[1], dim=-1), targs[1], threshold_f2, sigmoid=False).item()\n",
    "\n",
    "val_acc_f05, val_acc_f1, val_acc_f2"
   ]
  },
  {
   "cell_type": "code",
   "execution_count": 58,
   "metadata": {
    "hidden": true
   },
   "outputs": [
    {
     "data": {
      "text/plain": [
       "0.051477596163749695"
      ]
     },
     "execution_count": 58,
     "metadata": {},
     "output_type": "execute_result"
    }
   ],
   "source": [
    "# make sure we are getting the same f1 accuracy\n",
    "preds = ((is_example_prob_true > threshold_f05).byte() == targs[1].byte()).float().mean()\n",
    "preds.item()"
   ]
  },
  {
   "cell_type": "markdown",
   "metadata": {
    "hidden": true
   },
   "source": [
    "### Overall metrics - is_example_prob_true"
   ]
  },
  {
   "cell_type": "code",
   "execution_count": 59,
   "metadata": {
    "hidden": true
   },
   "outputs": [],
   "source": [
    "eval_targs = targs[1].flatten() # targs[:,0]\n",
    "eval_probs = is_example_prob_true.flatten()"
   ]
  },
  {
   "cell_type": "markdown",
   "metadata": {
    "hidden": true
   },
   "source": [
    "#### Classification Accuracy\n",
    "\n",
    "The percentage of correct predictions.  Answers the question, *\"Overall, how often is the classifier correct?\"*"
   ]
  },
  {
   "cell_type": "code",
   "execution_count": 60,
   "metadata": {
    "hidden": true
   },
   "outputs": [
    {
     "name": "stdout",
     "output_type": "stream",
     "text": [
      "0.05147759771210677\n"
     ]
    }
   ],
   "source": [
    "print(skm.accuracy_score(eval_targs, (is_example_prob_true > threshold_f05).float(), sample_weight=None))"
   ]
  },
  {
   "cell_type": "markdown",
   "metadata": {
    "hidden": true
   },
   "source": [
    "#### Null Accuracy\n",
    " \n",
    "The accuracy achieved by always predicting the most frequent class.  Answers the question, *\"What would the accuracy be by always predicting the most frequent case?\"*"
   ]
  },
  {
   "cell_type": "code",
   "execution_count": 61,
   "metadata": {
    "hidden": true
   },
   "outputs": [
    {
     "name": "stdout",
     "output_type": "stream",
     "text": [
      "0 1040\n"
     ]
    }
   ],
   "source": [
    "u_classes, u_counts = np.unique(eval_targs, return_counts=True)\n",
    "most_freq_class, most_freq_class_count = u_classes[np.argmax(u_counts)], np.max(u_counts)\n",
    "print(most_freq_class, most_freq_class_count)"
   ]
  },
  {
   "cell_type": "code",
   "execution_count": 62,
   "metadata": {
    "hidden": true
   },
   "outputs": [
    {
     "data": {
      "text/plain": [
       "0.9914204003813155"
      ]
     },
     "execution_count": 62,
     "metadata": {},
     "output_type": "execute_result"
    }
   ],
   "source": [
    "most_freq_class_count / len(eval_targs)"
   ]
  },
  {
   "cell_type": "markdown",
   "metadata": {
    "hidden": true
   },
   "source": [
    "#### Cohen's kappa\n",
    "\n",
    "This measure is intended to compare labelings by different human annotators (not a classifier vs. ground truth)\n",
    "\n",
    "Kappa socres are between -1 and 1 ( >= .8 is generally considered good agreement; <= 0 means no agreement ... e.g., practically random labels)"
   ]
  },
  {
   "cell_type": "code",
   "execution_count": 63,
   "metadata": {
    "hidden": true
   },
   "outputs": [
    {
     "name": "stdout",
     "output_type": "stream",
     "text": [
      "0.0007754424090410383\n"
     ]
    }
   ],
   "source": [
    "print(skm.cohen_kappa_score(eval_targs, (eval_probs > threshold_f05).float(), \n",
    "                            weights=None, sample_weight=None))"
   ]
  },
  {
   "cell_type": "markdown",
   "metadata": {
    "hidden": true
   },
   "source": [
    "#### Confusion Matrix\n",
    "\n",
    "Describes the performance of a classification model"
   ]
  },
  {
   "cell_type": "code",
   "execution_count": 64,
   "metadata": {
    "hidden": true
   },
   "outputs": [],
   "source": [
    "def plot_confusion_matrix(cm, classes, normalize=False, \n",
    "                          title='Confusion matrix', cmap=plt.cm.Blues, print_info=False):\n",
    "    \"\"\"\n",
    "    This function prints and plots the confusion matrix.\n",
    "    Normalization can be applied by setting `normalize=True`.\n",
    "    \"\"\"\n",
    "    if normalize:\n",
    "        cm = cm.astype('float') / cm.sum(axis=1)[:, np.newaxis]\n",
    "        if (print_info): print(\"Normalized confusion matrix\")\n",
    "    else:\n",
    "        if (print_info): print('Confusion matrix, without normalization')\n",
    "\n",
    "    if (print_info): print(cm)\n",
    "\n",
    "    plt.imshow(cm, interpolation='nearest', cmap=cmap)\n",
    "    plt.title(title)\n",
    "    plt.colorbar(fraction=0.046, pad=0.04)\n",
    "    tick_marks = np.arange(len(classes))\n",
    "    plt.xticks(tick_marks, classes, rotation=45)\n",
    "    plt.yticks(tick_marks, classes)\n",
    "\n",
    "    fmt = '.2f' if normalize else 'd'\n",
    "    thresh = cm.max() / 2.\n",
    "    for i, j in itertools.product(range(cm.shape[0]), range(cm.shape[1])):\n",
    "        plt.text(j, i, format(cm[i, j], fmt),\n",
    "                 horizontalalignment=\"center\",\n",
    "                 color=\"white\" if cm[i, j] > thresh else \"black\")\n",
    "\n",
    "    plt.tight_layout()\n",
    "    plt.ylabel('True label')\n",
    "    plt.xlabel('Predicted label')\n",
    "    plt.grid(None)"
   ]
  },
  {
   "cell_type": "code",
   "execution_count": 65,
   "metadata": {
    "hidden": true
   },
   "outputs": [],
   "source": [
    "cm = skm.confusion_matrix(eval_targs, (eval_probs > threshold_f05).float(), sample_weight=None)"
   ]
  },
  {
   "cell_type": "code",
   "execution_count": 66,
   "metadata": {
    "hidden": true
   },
   "outputs": [
    {
     "data": {
      "image/png": "[encoded data removed]",
      "text/plain": [
       "<Figure size 864x576 with 4 Axes>"
      ]
     },
     "metadata": {},
     "output_type": "display_data"
    }
   ],
   "source": [
    "# Plot non-normalized confusion matrix\n",
    "fig = plt.figure(figsize=(12,8))\n",
    "plt.subplot(1, 2, 1)\n",
    "plot_confusion_matrix(cm, classes=u_classes,\n",
    "                      title='Confusion matrix, without normalization')\n",
    "\n",
    "# Plot normalized confusion matrix\n",
    "plt.subplot(1, 2, 2)\n",
    "plot_confusion_matrix(cm, classes=u_classes, normalize=True,\n",
    "                      title='Normalized confusion matrix')\n",
    "\n",
    "fig.subplots_adjust(wspace=0.5)\n",
    "plt.show()"
   ]
  },
  {
   "cell_type": "code",
   "execution_count": 67,
   "metadata": {
    "hidden": true
   },
   "outputs": [
    {
     "name": "stdout",
     "output_type": "stream",
     "text": [
      "              precision    recall  f1-score   support\n",
      "\n",
      "           0       1.00      0.04      0.08      1040\n",
      "           1       0.01      1.00      0.02         9\n",
      "\n",
      "    accuracy                           0.05      1049\n",
      "   macro avg       0.50      0.52      0.05      1049\n",
      "weighted avg       0.99      0.05      0.08      1049\n",
      "\n"
     ]
    }
   ],
   "source": [
    "print(skm.classification_report(eval_targs, (eval_probs > threshold_f05).float(), \n",
    "                                labels=[0,1], \n",
    "                                sample_weight=None, \n",
    "                                zero_division=1))"
   ]
  },
  {
   "cell_type": "markdown",
   "metadata": {
    "hidden": true
   },
   "source": [
    "#### Raw probability distribution\n",
    "\n",
    "Useful to see how the threshold can be adjusted to increase sensitivity or specificity"
   ]
  },
  {
   "cell_type": "code",
   "execution_count": 68,
   "metadata": {
    "hidden": true
   },
   "outputs": [
    {
     "data": {
      "text/plain": [
       "Text(0, 0.5, 'Frequency')"
      ]
     },
     "execution_count": 68,
     "metadata": {},
     "output_type": "execute_result"
    },
    {
     "data": {
      "image/png": "[encoded data removed]",
      "text/plain": [
       "<Figure size 648x432 with 1 Axes>"
      ]
     },
     "metadata": {},
     "output_type": "display_data"
    }
   ],
   "source": [
    "plt.hist(eval_probs, bins=10)\n",
    "# plt.xlim(0,1)\n",
    "plt.title('Histogram of predicted probabilities')\n",
    "plt.xlabel('Predicted probability of Labels')\n",
    "plt.ylabel('Frequency')"
   ]
  },
  {
   "cell_type": "markdown",
   "metadata": {
    "hidden": true
   },
   "source": [
    "#### ROC curves and Area Under the Curve (AUC)\n",
    "\n",
    "***ROC Curve*** answers the question, *\"How would sensitivity and specificity be affected by various thresholds without changing the threshold?\"*  It is a way **to visualize the performance of a binary classifier.**\n",
    "\n",
    "The ROC curve can help you **choose a threshold** that balances sensitivity and specificity based on your particular business case.\n",
    "\n",
    "ROC curves visualize all possible classification thresholds whereas misclassification rate only represents your error rate for a single threshold.\n",
    "\n",
    "A classifier that does a good job at separating the classes will have a ROC curve that hugs the upper left corner of the plot.  Converseley, a classifier the does a poor job separating the classes will have a ROC curve that is close to the diagonal line (0,0 -> 1,1).  That diagonal line represents a classifier that does no better than random guessing."
   ]
  },
  {
   "cell_type": "code",
   "execution_count": 69,
   "metadata": {
    "hidden": true
   },
   "outputs": [],
   "source": [
    "fpr, tpr, thresholds = skm.roc_curve(eval_targs, eval_probs, sample_weight=None)"
   ]
  },
  {
   "cell_type": "code",
   "execution_count": 70,
   "metadata": {
    "hidden": true
   },
   "outputs": [
    {
     "data": {
      "image/png": "[encoded data removed]",
      "text/plain": [
       "<Figure size 648x432 with 1 Axes>"
      ]
     },
     "metadata": {},
     "output_type": "display_data"
    }
   ],
   "source": [
    "plt.plot(fpr, tpr)\n",
    "plt.xlim = ([0.0, 1.0])\n",
    "plt.ylim = ([0.0, 1.0])\n",
    "plt.title('ROC curve for all labels')\n",
    "plt.xlabel('False Positive Rate (1 - Specificity)')\n",
    "plt.ylabel('True Positive Rate (Sensitivity/Recall)')\n",
    "plt.grid(True)"
   ]
  },
  {
   "cell_type": "markdown",
   "metadata": {
    "hidden": true
   },
   "source": [
    "***AUC*** = the percentage of the ROC plot that is underneath the curve.  \n",
    "\n",
    "AUC summarizes the performance of a classifier in a **single number**.  It says, *\"If you randomly chose one positive and one negative observation, what is the likelihood that your classifier will assign a higher predicted probability to the positive observation.\"*\n",
    "\n",
    "**An AUC of ~ 0.8 is very good while an AUC of ~ 0.5 represents a poor classifier.**\n",
    "\n",
    "The ROC curve and AUC are insensitive to whether your predicted probabilities are properly calibrated to actually represent probabilities of class membership (e.g., it works if predicted probs range from 0.9 to 1 instead of 0 to 1).  All the AUC metric cares about is how well your classifier separated the two classes\n",
    "\n",
    "Notes:\n",
    "1.  AUC is useful even when there is **high class imbalance** (unlike classification accuracy)\n",
    "2.  AUC is useful even when predicted probabilities are not properly calibrated (e.g., not between 0 and 1)"
   ]
  },
  {
   "cell_type": "code",
   "execution_count": 71,
   "metadata": {
    "hidden": true
   },
   "outputs": [
    {
     "name": "stdout",
     "output_type": "stream",
     "text": [
      "0.3948717948717949\n"
     ]
    }
   ],
   "source": [
    "print(skm.roc_auc_score(eval_targs, eval_probs, average='weighted', sample_weight=None))"
   ]
  },
  {
   "cell_type": "markdown",
   "metadata": {
    "hidden": true
   },
   "source": [
    "### Overall metrics - is_example_prob_true"
   ]
  },
  {
   "cell_type": "code",
   "execution_count": 72,
   "metadata": {
    "hidden": true
   },
   "outputs": [
    {
     "data": {
      "text/plain": [
       "0.62583274"
      ]
     },
     "execution_count": 72,
     "metadata": {},
     "output_type": "execute_result"
    }
   ],
   "source": [
    "# mse\n",
    "skm.mean_squared_error(targs[0], probs[0])"
   ]
  },
  {
   "cell_type": "code",
   "execution_count": 73,
   "metadata": {
    "hidden": true
   },
   "outputs": [
    {
     "data": {
      "text/plain": [
       "0.7910959085295265"
      ]
     },
     "execution_count": 73,
     "metadata": {},
     "output_type": "execute_result"
    }
   ],
   "source": [
    "# rmse\n",
    "math.sqrt(skm.mean_squared_error(targs[0], probs[0]))"
   ]
  },
  {
   "cell_type": "code",
   "execution_count": 74,
   "metadata": {
    "hidden": true
   },
   "outputs": [
    {
     "data": {
      "text/plain": [
       "0.6270062"
      ]
     },
     "execution_count": 74,
     "metadata": {},
     "output_type": "execute_result"
    }
   ],
   "source": [
    "# mae\n",
    "skm.mean_absolute_error(targs[0], probs[0])"
   ]
  },
  {
   "cell_type": "markdown",
   "metadata": {
    "heading_collapsed": true
   },
   "source": [
    "## Final results"
   ]
  },
  {
   "cell_type": "code",
   "execution_count": 75,
   "metadata": {
    "hidden": true
   },
   "outputs": [],
   "source": [
    "try: del inf_learn\n",
    "except: pass\n",
    "finally: gc.collect(); torch.cuda.empty_cache()\n",
    "\n",
    "inf_learn = load_learner(STANDARD_THEME_META_PATH/f'{m_pre}{base_model_name}{m_suf}_export.pkl')\n",
    "inf_learn.loss_func.loss_funcs[1].func.weight = inf_learn.loss_func.loss_funcs[1].func.weight.to(dls.device)\n",
    "dls = get_meta_standard_theme_train_dls(df, hf_arch, hf_tokenizer)\n",
    "inf_learn.dls = dls"
   ]
  },
  {
   "cell_type": "code",
   "execution_count": 76,
   "metadata": {
    "hidden": true
   },
   "outputs": [
    {
     "data": {
      "text/html": [],
      "text/plain": [
       "<IPython.core.display.HTML object>"
      ]
     },
     "metadata": {},
     "output_type": "display_data"
    }
   ],
   "source": [
    "probs, targs, losses = inf_learn.get_preds(with_loss=True, reorder=True)"
   ]
  },
  {
   "cell_type": "code",
   "execution_count": 77,
   "metadata": {
    "hidden": true
   },
   "outputs": [],
   "source": [
    "# determine optimal threshold based on desired f-score\n",
    "f05 = OptimalMultiThresholdMetrics(beta=0.5, start=0.05, end=.9, sigmoid=False, average='binary', sample_weight=None)\n",
    "f1 = OptimalMultiThresholdMetrics(beta=1, start=0.05, end=.9, sigmoid=False, average='binary', sample_weight=None)\n",
    "f2 = OptimalMultiThresholdMetrics(beta=2, start=0.05, end=.9, sigmoid=False, average='binary', sample_weight=None)"
   ]
  },
  {
   "cell_type": "code",
   "execution_count": 78,
   "metadata": {
    "hidden": true
   },
   "outputs": [],
   "source": [
    "is_example_prob_true = torch.softmax(probs[1], dim=-1)[:,1]"
   ]
  },
  {
   "cell_type": "code",
   "execution_count": 79,
   "metadata": {
    "hidden": true
   },
   "outputs": [
    {
     "name": "stdout",
     "output_type": "stream",
     "text": [
      "0.29000000000000004 0.29000000000000004 0.29000000000000004\n",
      "Fowards Only\n",
      "-------------\n",
      "f05:\tOptimal threshold = 0.29000000000000004\t(Accuracy = 0.061010487377643585)\n",
      "f1:\tOptimal threshold = 0.29000000000000004\t(Accuracy = 0.061010487377643585)\n",
      "f2:\tOptimal threshold = 0.29000000000000004\t(Accuracy = 0.061010487377643585)\n",
      "\n",
      "Accuracy: 0.9914203882217407\n"
     ]
    }
   ],
   "source": [
    "# determine optimal threshold based on desired f-score\n",
    "threshold_f05 = f05.opt_th(is_example_prob_true, targs[1])\n",
    "threshold_f1 = f1.opt_th(is_example_prob_true, targs[1])\n",
    "threshold_f2 = f2.opt_th(is_example_prob_true, targs[1])\n",
    "\n",
    "print(threshold_f05, threshold_f1, threshold_f2)\n",
    "\n",
    "# determine accuracy based on optimal threshold\n",
    "val_acc_f05 = accuracy_multi(is_example_prob_true, targs[1], threshold_f05, sigmoid=False).item()\n",
    "val_acc_f1 = accuracy_multi(is_example_prob_true, targs[1], threshold_f1, sigmoid=False).item()\n",
    "val_acc_f2 = accuracy_multi(is_example_prob_true, targs[1], threshold_f2, sigmoid=False).item()\n",
    "\n",
    "print('Fowards Only\\n-------------')\n",
    "print(f'f05:\\tOptimal threshold = {threshold_f05}\\t(Accuracy = {val_acc_f05})')\n",
    "print(f'f1:\\tOptimal threshold = {threshold_f1}\\t(Accuracy = {val_acc_f1})')\n",
    "print(f'f2:\\tOptimal threshold = {threshold_f2}\\t(Accuracy = {val_acc_f2})')\n",
    "\n",
    "print(f'\\nAccuracy: {accuracy_multi(is_example_prob_true, targs[1], sigmoid=False)}')"
   ]
  },
  {
   "cell_type": "code",
   "execution_count": 80,
   "metadata": {
    "hidden": true
   },
   "outputs": [
    {
     "data": {
      "text/plain": [
       "(0.6238375, 0.61637735, 0.7850970345557375)"
      ]
     },
     "execution_count": 80,
     "metadata": {},
     "output_type": "execute_result"
    }
   ],
   "source": [
    "mae = skm.mean_absolute_error(targs[0], probs[0])\n",
    "mse = skm.mean_squared_error(targs[0], probs[0])\n",
    "rmse = math.sqrt(skm.mean_squared_error(targs[0], probs[0]))\n",
    "\n",
    "mae, mse, rmse"
   ]
  },
  {
   "cell_type": "code",
   "execution_count": 81,
   "metadata": {
    "hidden": true
   },
   "outputs": [
    {
     "data": {
      "text/plain": [
       "0.9456282258033752"
      ]
     },
     "execution_count": 81,
     "metadata": {},
     "output_type": "execute_result"
    }
   ],
   "source": [
    "final_valid_loss = losses.mean().item(); final_valid_loss"
   ]
  },
  {
   "cell_type": "markdown",
   "metadata": {},
   "source": [
    "## Build our training loop for hyperparam optimization and final training"
   ]
  },
  {
   "cell_type": "code",
   "execution_count": 16,
   "metadata": {},
   "outputs": [],
   "source": [
    "try: del learn; del dls\n",
    "except: pass\n",
    "finally: gc.collect(); torch.cuda.empty_cache()\n",
    "    \n",
    "yyyymmdd = datetime.today().strftime(\"%Y%m%d\")"
   ]
  },
  {
   "cell_type": "code",
   "execution_count": 17,
   "metadata": {},
   "outputs": [],
   "source": [
    "class FastAIPruningCallbackv2(TrackerCallback):\n",
    "    def __init__(self, trial, monitor='valid_loss', **kwargs) -> None:\n",
    "        super().__init__(monitor=monitor, **kwargs)\n",
    "        self._trial = trial\n",
    "\n",
    "    def after_epoch(self) -> None:\n",
    "        super().after_epoch()\n",
    "        \n",
    "        value = self.recorder.values[-1][self.idx]\n",
    "        if value is None: return\n",
    "\n",
    "        self._trial.report(float(value), step=self.epoch)\n",
    "        if self._trial.should_prune():\n",
    "            message = \"Trial was pruned at epoch {}.\".format(self.epoch)\n",
    "            raise optuna.TrialPruned(message)"
   ]
  },
  {
   "cell_type": "code",
   "execution_count": 18,
   "metadata": {},
   "outputs": [],
   "source": [
    "#export\n",
    "def train(params, trial=None, train_config={}):\n",
    "          \n",
    "    config = {**meta_standard_themes_train_config, **train_config}    \n",
    "    m_pre, m_suf, base_model_name = config['m_pre'], config['m_suf'], config['base_model_name']\n",
    "    full_model_name = f'{m_pre}{base_model_name}{m_suf}'\n",
    "    \n",
    "    # 1. grab our huggingface objects\n",
    "    task = HF_TASKS_AUTO.SequenceClassification\n",
    "    hf_config = AutoConfig.from_pretrained(params[\"pretrained_model_name\"])\n",
    "\n",
    "    if (f'{params[\"pretrained_model_name\"]}_config_overrides' in params):\n",
    "        hf_config.update(params[f'{params[\"pretrained_model_name\"]}_config_overrides'])\n",
    "    else:\n",
    "        config_overrides = { k:v for k,v in params.items() if (k in hf_config.to_dict()) }\n",
    "        hf_config.update(config_overrides)\n",
    "\n",
    "    hf_arch, hf_config, hf_tokenizer, hf_model = BLURR_MODEL_HELPER.get_hf_objects(params[\"pretrained_model_name\"], \n",
    "                                                                                   task=task, \n",
    "                                                                                   config=hf_config)\n",
    "    \n",
    "    # 2. build our dls and learner\n",
    "    df = get_meta_standard_theme_train_data(train_config=config)\n",
    "    train_df, valid_df = df[df.is_valid == False], df[df.is_valid == True]\n",
    "    \n",
    "    set_seed(TL_RAND_SEED)\n",
    "    dls = get_meta_standard_theme_train_dls(df, hf_arch, hf_tokenizer, train_config=config, use_cache=False)\n",
    "    \n",
    "    set_seed(TL_RAND_SEED)\n",
    "    learn, fit_cbs = get_learner(hf_model, \n",
    "                                 dls, \n",
    "                                 train_df=None, \n",
    "                                 use_weighted_loss=params[\"use_weighted_loss\"], \n",
    "                                 use_fp16=params[\"use_fp16\"],\n",
    "                                 add_save_model_cb=params['save_model'],\n",
    "                                 train_config=config)\n",
    "    \n",
    "    if (trial is not None): learn.add_cb(FastAIPruningCallbackv2(trial=trial, monitor=params['optimize_for']))\n",
    "    \n",
    "    # 3. train\n",
    "    with learn.no_logging(): \n",
    "        set_seed(TL_RAND_SEED)\n",
    "        learn.fit_one_cycle(params[\"n_frozen_epochs\"], lr_max=params[\"frozen_lr\"], cbs=fit_cbs)\n",
    "        \n",
    "        learn.unfreeze()\n",
    "        set_seed(TL_RAND_SEED)\n",
    "        learn.fit_one_cycle(params[\"n_unfrozen_epochs\"], \n",
    "                            lr_max=slice(params[\"unfrozen_lr_min\"], params[\"unfrozen_lr_max\"]), \n",
    "                            cbs=fit_cbs)\n",
    "        \n",
    "        # export model for inference (SavedModelCallback already saves the best model if save_mode=True)\n",
    "        if (trial is None): learn.export(fname=f\"{yyyymmdd}_{config['export_filename']}\")\n",
    "        \n",
    "    # 4. evaluate\n",
    "    scores = dict(zip(learn.recorder.metric_names[2:], learn.validate()))\n",
    "    \n",
    "    try:\n",
    "        if (trial is not None): return scores[params['optimize_for']]\n",
    "        \n",
    "        probs, targs, losses = learn.get_preds(dl=dls.valid, with_loss=True)\n",
    "    \n",
    "        # determine optimal threshold based on desired f-score\n",
    "        average, sample_weight = config['opt_beta_average'], config['opt_beta_sample_weight']\n",
    "\n",
    "        f05 = OptimalMultiThresholdMetrics(beta=0.5, start=0.05, end=.5, sigmoid=False, \n",
    "                                           average=average, sample_weight=sample_weight)\n",
    "        f1 = OptimalMultiThresholdMetrics(beta=1, start=0.05, end=.5, sigmoid=False, \n",
    "                                           average=average, sample_weight=sample_weight)\n",
    "        f2 = OptimalMultiThresholdMetrics(beta=2, start=0.05, end=.5, sigmoid=False, \n",
    "                                           average=average, sample_weight=sample_weight)\n",
    "\n",
    "        is_example_prob_true = torch.softmax(probs[1], dim=-1)[:,1]\n",
    "        scores['is_example_f05'], scores['is_example_f1'], scores['is_example_f2'] = {}, {}, {}\n",
    "\n",
    "        scores['is_example_f05']['threshold'] = f05.opt_th(is_example_prob_true, targs[1])\n",
    "        scores['is_example_f1']['threshold'] = f1.opt_th(is_example_prob_true, targs[1])\n",
    "        scores['is_example_f2']['threshold'] = f2.opt_th(is_example_prob_true, targs[1])\n",
    "\n",
    "        scores['is_example_f05']['score'] = f05.opt_fscore(is_example_prob_true, targs[1])\n",
    "        scores['is_example_f1']['score'] = f1.opt_fscore(is_example_prob_true, targs[1])\n",
    "        scores['is_example_f2']['score'] = f2.opt_fscore(is_example_prob_true, targs[1])\n",
    "\n",
    "        scores['sentiment'] = {\n",
    "            'mae': skm.mean_absolute_error(targs[0], probs[0]).item(),\n",
    "            'mse': skm.mean_squared_error(targs[0], probs[0]).item(),\n",
    "            'rmse': math.sqrt(skm.mean_squared_error(targs[0], probs[0]).item())\n",
    "        }\n",
    "        \n",
    "        # save scores from validation set if mode == training\n",
    "        with open(f\"{config['learner_path']}/{yyyymmdd}_{full_model_name}_train_scores.json\", 'w') as f:\n",
    "            json.dump(scores, f, indent=4)\n",
    "        \n",
    "        # save train/validation probs, targs, losses for review\n",
    "        test_dl = dls.test_dl(df, with_labels=True)\n",
    "        probs, targs, losses = learn.get_preds(dl=test_dl, with_loss=True)\n",
    "        is_example_prob_true = torch.softmax(probs[1], dim=-1)[:,1]\n",
    "\n",
    "        probs_df = pd.DataFrame(np.concatenate((probs[0].numpy(), is_example_prob_true[:,None]), axis=-1), \n",
    "                                columns=['pred_sentiment', 'prob_is_example'])\n",
    "        targs_df = pd.DataFrame(np.concatenate((targs[0].numpy()[:,None], targs[1].numpy()[:,None]), axis=-1), \n",
    "                                columns= ['targ_sentiment', 'targ_is_example'])\n",
    "        losses_df = pd.DataFrame(losses.numpy(), columns=['loss'])\n",
    "        final_df = pd.concat([df.reset_index(), probs_df, targs_df, losses_df], axis=1)\n",
    "\n",
    "        final_df.to_csv(f\"{config['learner_path']}/{yyyymmdd}_{full_model_name}_train_results.csv\", index=False)\n",
    "        return scores, final_df\n",
    "    \n",
    "    finally:\n",
    "        # cleanup\n",
    "        del learn; del dls \n",
    "        del hf_arch; del hf_config; del hf_tokenizer; del hf_model"
   ]
  },
  {
   "cell_type": "markdown",
   "metadata": {},
   "source": [
    "### Hyperparameter optimization"
   ]
  },
  {
   "cell_type": "code",
   "execution_count": 19,
   "metadata": {},
   "outputs": [],
   "source": [
    "def after_trial_cleanup(study, trial):\n",
    "    gc.collect()\n",
    "    torch.cuda.empty_cache()"
   ]
  },
  {
   "cell_type": "code",
   "execution_count": 20,
   "metadata": {},
   "outputs": [],
   "source": [
    "#export\n",
    "def objective(trial, train_config={}):\n",
    "    opt_params = {\n",
    "        'pretrained_model_name': trial.suggest_categorical(\"pretrained_model_name\", [\"facebook/bart-base\"]),\n",
    "        \n",
    "        'save_model': trial.suggest_categorical(\"save_model\", [True, False]), \n",
    "        'use_weighted_loss': trial.suggest_categorical(\"use_weighted_loss\", [True, False]),\n",
    "        'use_fp16': trial.suggest_categorical(\"use_fp16\", [True]),\n",
    "        'n_frozen_epochs': trial.suggest_int(\"n_frozen_epochs\", 1, 3),\n",
    "        'n_unfrozen_epochs': trial.suggest_int(\"n_unfrozen_epochs\", 0, 10),\n",
    "        'frozen_lr': trial.suggest_loguniform(\"frozen_lr\", 1e-7, 1e-6),\n",
    "        'unfrozen_lr_max': trial.suggest_loguniform(\"unfrozen_lr_max\", 1e-7, 1e-6),\n",
    "        'unfrozen_lr_min': trial.suggest_loguniform(\"unfrozen_lr_min\", 1e-9, 1e-7),\n",
    "        'optimize_for': 'valid_loss',\n",
    "        \n",
    "        'facebook/bart-base_config_overrides': {\n",
    "            'activation_dropout': trial.suggest_discrete_uniform('activation_dropout', 0.0, 0.3, 0.05),\n",
    "            'attention_dropout': trial.suggest_discrete_uniform('attention_dropout', 0.0, 0.3, 0.05),\n",
    "            'classif_dropout': trial.suggest_discrete_uniform('classif_dropout', 0.0, 0.3, 0.05),\n",
    "            'dropout': trial.suggest_discrete_uniform('dropout', 0.0, 0.3, 0.05)\n",
    "        },\n",
    "        'roberta-base_config_overrides': {\n",
    "            'attention_probs_dropout_prob': trial.suggest_discrete_uniform('attention_probs_dropout_prob', 0.0, 0.3, 0.05),\n",
    "            'hidden_dropout_prob': trial.suggest_discrete_uniform('hidden_dropout_prob', 0.0, 0.3, 0.05)\n",
    "        }\n",
    "    }\n",
    "    \n",
    "    score = train(opt_params, trial=trial, train_config=train_config)\n",
    "    return score"
   ]
  },
  {
   "cell_type": "code",
   "execution_count": 21,
   "metadata": {},
   "outputs": [
    {
     "name": "stderr",
     "output_type": "stream",
     "text": [
      "\u001b[32m[I 2020-10-24 14:30:18,915]\u001b[0m A new study created in memory with name: no-name-266e576d-2864-4abb-a372-460765a7d15b\u001b[0m\n"
     ]
    },
    {
     "data": {
      "text/html": [],
      "text/plain": [
       "<IPython.core.display.HTML object>"
      ]
     },
     "metadata": {},
     "output_type": "display_data"
    },
    {
     "data": {
      "text/html": [],
      "text/plain": [
       "<IPython.core.display.HTML object>"
      ]
     },
     "metadata": {},
     "output_type": "display_data"
    },
    {
     "data": {
      "text/html": [],
      "text/plain": [
       "<IPython.core.display.HTML object>"
      ]
     },
     "metadata": {},
     "output_type": "display_data"
    },
    {
     "name": "stderr",
     "output_type": "stream",
     "text": [
      "\u001b[32m[I 2020-10-24 15:06:08,327]\u001b[0m Trial 0 finished with value: 0.8463168144226074 and parameters: {'pretrained_model_name': 'facebook/bart-base', 'save_model': False, 'use_weighted_loss': True, 'use_fp16': True, 'n_frozen_epochs': 3, 'n_unfrozen_epochs': 4, 'frozen_lr': 9.608787525580437e-07, 'unfrozen_lr_max': 1.5176809730352162e-07, 'unfrozen_lr_min': 2.1603317617807016e-09, 'activation_dropout': 0.05, 'attention_dropout': 0.25, 'classif_dropout': 0.1, 'dropout': 0.0, 'attention_probs_dropout_prob': 0.25, 'hidden_dropout_prob': 0.05}. Best is trial 0 with value: 0.8463168144226074.\u001b[0m\n"
     ]
    },
    {
     "data": {
      "text/html": [],
      "text/plain": [
       "<IPython.core.display.HTML object>"
      ]
     },
     "metadata": {},
     "output_type": "display_data"
    },
    {
     "data": {
      "text/html": [],
      "text/plain": [
       "<IPython.core.display.HTML object>"
      ]
     },
     "metadata": {},
     "output_type": "display_data"
    },
    {
     "data": {
      "text/html": [],
      "text/plain": [
       "<IPython.core.display.HTML object>"
      ]
     },
     "metadata": {},
     "output_type": "display_data"
    },
    {
     "name": "stderr",
     "output_type": "stream",
     "text": [
      "\u001b[32m[I 2020-10-24 16:15:19,368]\u001b[0m Trial 1 finished with value: 0.8286561369895935 and parameters: {'pretrained_model_name': 'facebook/bart-base', 'save_model': False, 'use_weighted_loss': True, 'use_fp16': True, 'n_frozen_epochs': 2, 'n_unfrozen_epochs': 10, 'frozen_lr': 1.037154980319414e-07, 'unfrozen_lr_max': 3.3728652659690133e-07, 'unfrozen_lr_min': 1.7036045413727217e-09, 'activation_dropout': 0.1, 'attention_dropout': 0.05, 'classif_dropout': 0.15000000000000002, 'dropout': 0.25, 'attention_probs_dropout_prob': 0.1, 'hidden_dropout_prob': 0.2}. Best is trial 1 with value: 0.8286561369895935.\u001b[0m\n"
     ]
    },
    {
     "data": {
      "text/html": [],
      "text/plain": [
       "<IPython.core.display.HTML object>"
      ]
     },
     "metadata": {},
     "output_type": "display_data"
    },
    {
     "data": {
      "text/html": [],
      "text/plain": [
       "<IPython.core.display.HTML object>"
      ]
     },
     "metadata": {},
     "output_type": "display_data"
    },
    {
     "data": {
      "text/html": [],
      "text/plain": [
       "<IPython.core.display.HTML object>"
      ]
     },
     "metadata": {},
     "output_type": "display_data"
    },
    {
     "name": "stderr",
     "output_type": "stream",
     "text": [
      "\u001b[32m[I 2020-10-24 17:21:11,279]\u001b[0m Trial 2 finished with value: 0.5142017006874084 and parameters: {'pretrained_model_name': 'facebook/bart-base', 'save_model': False, 'use_weighted_loss': True, 'use_fp16': True, 'n_frozen_epochs': 1, 'n_unfrozen_epochs': 10, 'frozen_lr': 2.8975082862096726e-07, 'unfrozen_lr_max': 6.047836536557682e-07, 'unfrozen_lr_min': 8.352912294717834e-09, 'activation_dropout': 0.05, 'attention_dropout': 0.25, 'classif_dropout': 0.05, 'dropout': 0.05, 'attention_probs_dropout_prob': 0.3, 'hidden_dropout_prob': 0.05}. Best is trial 2 with value: 0.5142017006874084.\u001b[0m\n"
     ]
    },
    {
     "data": {
      "text/html": [],
      "text/plain": [
       "<IPython.core.display.HTML object>"
      ]
     },
     "metadata": {},
     "output_type": "display_data"
    },
    {
     "data": {
      "text/html": [],
      "text/plain": [
       "<IPython.core.display.HTML object>"
      ]
     },
     "metadata": {},
     "output_type": "display_data"
    },
    {
     "data": {
      "text/html": [],
      "text/plain": [
       "<IPython.core.display.HTML object>"
      ]
     },
     "metadata": {},
     "output_type": "display_data"
    },
    {
     "name": "stderr",
     "output_type": "stream",
     "text": [
      "\u001b[32m[I 2020-10-24 18:05:37,329]\u001b[0m Trial 3 finished with value: 0.7450684309005737 and parameters: {'pretrained_model_name': 'facebook/bart-base', 'save_model': False, 'use_weighted_loss': False, 'use_fp16': True, 'n_frozen_epochs': 2, 'n_unfrozen_epochs': 6, 'frozen_lr': 1.3036298035395868e-07, 'unfrozen_lr_max': 4.5649242542479813e-07, 'unfrozen_lr_min': 2.0418090525359005e-09, 'activation_dropout': 0.05, 'attention_dropout': 0.2, 'classif_dropout': 0.2, 'dropout': 0.1, 'attention_probs_dropout_prob': 0.3, 'hidden_dropout_prob': 0.05}. Best is trial 2 with value: 0.5142017006874084.\u001b[0m\n"
     ]
    },
    {
     "data": {
      "text/html": [],
      "text/plain": [
       "<IPython.core.display.HTML object>"
      ]
     },
     "metadata": {},
     "output_type": "display_data"
    },
    {
     "name": "stdout",
     "output_type": "stream",
     "text": [
      "Better model found at epoch 0 with valid_loss value: 1.0800162553787231.\n"
     ]
    },
    {
     "data": {
      "text/html": [],
      "text/plain": [
       "<IPython.core.display.HTML object>"
      ]
     },
     "metadata": {},
     "output_type": "display_data"
    },
    {
     "name": "stdout",
     "output_type": "stream",
     "text": [
      "Better model found at epoch 0 with valid_loss value: 1.040364384651184.\n",
      "Better model found at epoch 1 with valid_loss value: 0.9689270853996277.\n",
      "Better model found at epoch 2 with valid_loss value: 0.9109830856323242.\n",
      "Better model found at epoch 3 with valid_loss value: 0.8772831559181213.\n",
      "Better model found at epoch 4 with valid_loss value: 0.8545389175415039.\n",
      "Better model found at epoch 5 with valid_loss value: 0.8443712592124939.\n",
      "Better model found at epoch 6 with valid_loss value: 0.8385421633720398.\n",
      "Better model found at epoch 7 with valid_loss value: 0.8384924530982971.\n"
     ]
    },
    {
     "data": {
      "text/html": [],
      "text/plain": [
       "<IPython.core.display.HTML object>"
      ]
     },
     "metadata": {},
     "output_type": "display_data"
    },
    {
     "name": "stderr",
     "output_type": "stream",
     "text": [
      "\u001b[32m[I 2020-10-24 18:59:15,870]\u001b[0m Trial 4 finished with value: 0.8384924530982971 and parameters: {'pretrained_model_name': 'facebook/bart-base', 'save_model': True, 'use_weighted_loss': False, 'use_fp16': True, 'n_frozen_epochs': 1, 'n_unfrozen_epochs': 8, 'frozen_lr': 5.932025964460386e-07, 'unfrozen_lr_max': 1.1597602061403688e-07, 'unfrozen_lr_min': 1.5523029535853615e-08, 'activation_dropout': 0.15000000000000002, 'attention_dropout': 0.05, 'classif_dropout': 0.15000000000000002, 'dropout': 0.2, 'attention_probs_dropout_prob': 0.3, 'hidden_dropout_prob': 0.05}. Best is trial 2 with value: 0.5142017006874084.\u001b[0m\n"
     ]
    },
    {
     "data": {
      "text/html": [],
      "text/plain": [
       "<IPython.core.display.HTML object>"
      ]
     },
     "metadata": {},
     "output_type": "display_data"
    },
    {
     "name": "stderr",
     "output_type": "stream",
     "text": [
      "\u001b[32m[I 2020-10-24 19:03:05,033]\u001b[0m Trial 5 pruned. Trial was pruned at epoch 0.\u001b[0m\n"
     ]
    },
    {
     "data": {
      "text/html": [],
      "text/plain": [
       "<IPython.core.display.HTML object>"
      ]
     },
     "metadata": {},
     "output_type": "display_data"
    },
    {
     "name": "stdout",
     "output_type": "stream",
     "text": [
      "Better model found at epoch 0 with valid_loss value: 1.0700973272323608.\n"
     ]
    },
    {
     "name": "stderr",
     "output_type": "stream",
     "text": [
      "\u001b[32m[I 2020-10-24 19:10:21,663]\u001b[0m Trial 6 pruned. Trial was pruned at epoch 1.\u001b[0m\n"
     ]
    },
    {
     "data": {
      "text/html": [],
      "text/plain": [
       "<IPython.core.display.HTML object>"
      ]
     },
     "metadata": {},
     "output_type": "display_data"
    },
    {
     "name": "stderr",
     "output_type": "stream",
     "text": [
      "\u001b[32m[I 2020-10-24 19:14:08,472]\u001b[0m Trial 7 pruned. Trial was pruned at epoch 0.\u001b[0m\n"
     ]
    },
    {
     "data": {
      "text/html": [],
      "text/plain": [
       "<IPython.core.display.HTML object>"
      ]
     },
     "metadata": {},
     "output_type": "display_data"
    },
    {
     "name": "stdout",
     "output_type": "stream",
     "text": [
      "Better model found at epoch 0 with valid_loss value: 1.0755170583724976.\n"
     ]
    },
    {
     "name": "stderr",
     "output_type": "stream",
     "text": [
      "\u001b[32m[I 2020-10-24 19:21:19,823]\u001b[0m Trial 8 pruned. Trial was pruned at epoch 1.\u001b[0m\n"
     ]
    },
    {
     "data": {
      "text/html": [],
      "text/plain": [
       "<IPython.core.display.HTML object>"
      ]
     },
     "metadata": {},
     "output_type": "display_data"
    },
    {
     "name": "stderr",
     "output_type": "stream",
     "text": [
      "\u001b[32m[I 2020-10-24 19:25:08,519]\u001b[0m Trial 9 pruned. Trial was pruned at epoch 0.\u001b[0m\n"
     ]
    },
    {
     "data": {
      "text/html": [],
      "text/plain": [
       "<IPython.core.display.HTML object>"
      ]
     },
     "metadata": {},
     "output_type": "display_data"
    },
    {
     "name": "stderr",
     "output_type": "stream",
     "text": [
      "\u001b[32m[I 2020-10-24 19:28:54,848]\u001b[0m Trial 10 pruned. Trial was pruned at epoch 0.\u001b[0m\n"
     ]
    },
    {
     "data": {
      "text/html": [],
      "text/plain": [
       "<IPython.core.display.HTML object>"
      ]
     },
     "metadata": {},
     "output_type": "display_data"
    },
    {
     "name": "stderr",
     "output_type": "stream",
     "text": [
      "\u001b[32m[I 2020-10-24 19:32:44,380]\u001b[0m Trial 11 pruned. Trial was pruned at epoch 0.\u001b[0m\n"
     ]
    },
    {
     "data": {
      "text/html": [],
      "text/plain": [
       "<IPython.core.display.HTML object>"
      ]
     },
     "metadata": {},
     "output_type": "display_data"
    },
    {
     "name": "stderr",
     "output_type": "stream",
     "text": [
      "\u001b[32m[I 2020-10-24 19:36:33,040]\u001b[0m Trial 12 pruned. Trial was pruned at epoch 0.\u001b[0m\n"
     ]
    },
    {
     "data": {
      "text/html": [],
      "text/plain": [
       "<IPython.core.display.HTML object>"
      ]
     },
     "metadata": {},
     "output_type": "display_data"
    },
    {
     "name": "stderr",
     "output_type": "stream",
     "text": [
      "\u001b[32m[I 2020-10-24 19:43:42,695]\u001b[0m Trial 13 pruned. Trial was pruned at epoch 1.\u001b[0m\n"
     ]
    },
    {
     "data": {
      "text/html": [],
      "text/plain": [
       "<IPython.core.display.HTML object>"
      ]
     },
     "metadata": {},
     "output_type": "display_data"
    },
    {
     "name": "stderr",
     "output_type": "stream",
     "text": [
      "\u001b[32m[I 2020-10-24 19:47:29,863]\u001b[0m Trial 14 pruned. Trial was pruned at epoch 0.\u001b[0m\n"
     ]
    },
    {
     "data": {
      "text/html": [],
      "text/plain": [
       "<IPython.core.display.HTML object>"
      ]
     },
     "metadata": {},
     "output_type": "display_data"
    },
    {
     "name": "stderr",
     "output_type": "stream",
     "text": [
      "\u001b[32m[I 2020-10-24 19:51:18,386]\u001b[0m Trial 15 pruned. Trial was pruned at epoch 0.\u001b[0m\n"
     ]
    },
    {
     "data": {
      "text/html": [],
      "text/plain": [
       "<IPython.core.display.HTML object>"
      ]
     },
     "metadata": {},
     "output_type": "display_data"
    },
    {
     "data": {
      "text/html": [],
      "text/plain": [
       "<IPython.core.display.HTML object>"
      ]
     },
     "metadata": {},
     "output_type": "display_data"
    },
    {
     "data": {
      "text/html": [],
      "text/plain": [
       "<IPython.core.display.HTML object>"
      ]
     },
     "metadata": {},
     "output_type": "display_data"
    },
    {
     "name": "stderr",
     "output_type": "stream",
     "text": [
      "\u001b[32m[I 2020-10-24 20:13:48,393]\u001b[0m Trial 16 finished with value: 0.7891263365745544 and parameters: {'pretrained_model_name': 'facebook/bart-base', 'save_model': False, 'use_weighted_loss': True, 'use_fp16': True, 'n_frozen_epochs': 1, 'n_unfrozen_epochs': 3, 'frozen_lr': 3.832521670248291e-07, 'unfrozen_lr_max': 9.794250031931575e-07, 'unfrozen_lr_min': 1.0381649907231264e-09, 'activation_dropout': 0.05, 'attention_dropout': 0.2, 'classif_dropout': 0.2, 'dropout': 0.05, 'attention_probs_dropout_prob': 0.2, 'hidden_dropout_prob': 0.15000000000000002}. Best is trial 2 with value: 0.5142017006874084.\u001b[0m\n"
     ]
    },
    {
     "data": {
      "text/html": [],
      "text/plain": [
       "<IPython.core.display.HTML object>"
      ]
     },
     "metadata": {},
     "output_type": "display_data"
    },
    {
     "name": "stderr",
     "output_type": "stream",
     "text": [
      "\u001b[32m[I 2020-10-24 20:17:38,173]\u001b[0m Trial 17 pruned. Trial was pruned at epoch 0.\u001b[0m\n"
     ]
    },
    {
     "data": {
      "text/html": [],
      "text/plain": [
       "<IPython.core.display.HTML object>"
      ]
     },
     "metadata": {},
     "output_type": "display_data"
    },
    {
     "name": "stderr",
     "output_type": "stream",
     "text": [
      "\u001b[32m[I 2020-10-24 20:24:43,591]\u001b[0m Trial 18 pruned. Trial was pruned at epoch 1.\u001b[0m\n"
     ]
    },
    {
     "data": {
      "text/html": [],
      "text/plain": [
       "<IPython.core.display.HTML object>"
      ]
     },
     "metadata": {},
     "output_type": "display_data"
    },
    {
     "data": {
      "text/html": [],
      "text/plain": [
       "<IPython.core.display.HTML object>"
      ]
     },
     "metadata": {},
     "output_type": "display_data"
    },
    {
     "data": {
      "text/html": [],
      "text/plain": [
       "<IPython.core.display.HTML object>"
      ]
     },
     "metadata": {},
     "output_type": "display_data"
    },
    {
     "name": "stderr",
     "output_type": "stream",
     "text": [
      "\u001b[32m[I 2020-10-24 21:23:57,044]\u001b[0m Trial 19 finished with value: 0.48531827330589294 and parameters: {'pretrained_model_name': 'facebook/bart-base', 'save_model': False, 'use_weighted_loss': True, 'use_fp16': True, 'n_frozen_epochs': 1, 'n_unfrozen_epochs': 9, 'frozen_lr': 3.59035624977803e-07, 'unfrozen_lr_max': 4.536997497390868e-07, 'unfrozen_lr_min': 3.319391395922754e-08, 'activation_dropout': 0.1, 'attention_dropout': 0.0, 'classif_dropout': 0.25, 'dropout': 0.05, 'attention_probs_dropout_prob': 0.05, 'hidden_dropout_prob': 0.1}. Best is trial 19 with value: 0.48531827330589294.\u001b[0m\n"
     ]
    },
    {
     "data": {
      "text/html": [],
      "text/plain": [
       "<IPython.core.display.HTML object>"
      ]
     },
     "metadata": {},
     "output_type": "display_data"
    },
    {
     "name": "stderr",
     "output_type": "stream",
     "text": [
      "\u001b[32m[I 2020-10-24 21:27:42,859]\u001b[0m Trial 20 pruned. Trial was pruned at epoch 0.\u001b[0m\n"
     ]
    },
    {
     "data": {
      "text/html": [],
      "text/plain": [
       "<IPython.core.display.HTML object>"
      ]
     },
     "metadata": {},
     "output_type": "display_data"
    },
    {
     "data": {
      "text/html": [],
      "text/plain": [
       "<IPython.core.display.HTML object>"
      ]
     },
     "metadata": {},
     "output_type": "display_data"
    },
    {
     "data": {
      "text/html": [],
      "text/plain": [
       "<IPython.core.display.HTML object>"
      ]
     },
     "metadata": {},
     "output_type": "display_data"
    },
    {
     "name": "stderr",
     "output_type": "stream",
     "text": [
      "\u001b[32m[I 2020-10-24 22:27:18,803]\u001b[0m Trial 21 finished with value: 0.5074304938316345 and parameters: {'pretrained_model_name': 'facebook/bart-base', 'save_model': False, 'use_weighted_loss': True, 'use_fp16': True, 'n_frozen_epochs': 1, 'n_unfrozen_epochs': 9, 'frozen_lr': 5.168028886721787e-07, 'unfrozen_lr_max': 4.3717155566199714e-07, 'unfrozen_lr_min': 3.995614325830728e-08, 'activation_dropout': 0.1, 'attention_dropout': 0.15000000000000002, 'classif_dropout': 0.2, 'dropout': 0.1, 'attention_probs_dropout_prob': 0.05, 'hidden_dropout_prob': 0.1}. Best is trial 19 with value: 0.48531827330589294.\u001b[0m\n"
     ]
    },
    {
     "data": {
      "text/html": [],
      "text/plain": [
       "<IPython.core.display.HTML object>"
      ]
     },
     "metadata": {},
     "output_type": "display_data"
    },
    {
     "data": {
      "text/html": [],
      "text/plain": [
       "<IPython.core.display.HTML object>"
      ]
     },
     "metadata": {},
     "output_type": "display_data"
    },
    {
     "data": {
      "text/html": [],
      "text/plain": [
       "<IPython.core.display.HTML object>"
      ]
     },
     "metadata": {},
     "output_type": "display_data"
    },
    {
     "name": "stderr",
     "output_type": "stream",
     "text": [
      "\u001b[32m[I 2020-10-24 23:26:27,740]\u001b[0m Trial 22 finished with value: 0.48361992835998535 and parameters: {'pretrained_model_name': 'facebook/bart-base', 'save_model': False, 'use_weighted_loss': True, 'use_fp16': True, 'n_frozen_epochs': 1, 'n_unfrozen_epochs': 9, 'frozen_lr': 4.984951751388225e-07, 'unfrozen_lr_max': 3.983005882258453e-07, 'unfrozen_lr_min': 4.19121116765796e-08, 'activation_dropout': 0.1, 'attention_dropout': 0.0, 'classif_dropout': 0.25, 'dropout': 0.05, 'attention_probs_dropout_prob': 0.05, 'hidden_dropout_prob': 0.1}. Best is trial 22 with value: 0.48361992835998535.\u001b[0m\n"
     ]
    },
    {
     "data": {
      "text/html": [],
      "text/plain": [
       "<IPython.core.display.HTML object>"
      ]
     },
     "metadata": {},
     "output_type": "display_data"
    },
    {
     "data": {
      "text/html": [],
      "text/plain": [
       "<IPython.core.display.HTML object>"
      ]
     },
     "metadata": {},
     "output_type": "display_data"
    },
    {
     "name": "stderr",
     "output_type": "stream",
     "text": [
      "IOPub message rate exceeded.\n",
      "The notebook server will temporarily stop sending output\n",
      "to the client in order to avoid crashing it.\n",
      "To change this limit, set the config variable\n",
      "`--NotebookApp.iopub_msg_rate_limit`.\n",
      "\n",
      "Current values:\n",
      "NotebookApp.iopub_msg_rate_limit=1000.0 (msgs/sec)\n",
      "NotebookApp.rate_limit_window=3.0 (secs)\n",
      "\n",
      "\u001b[32m[I 2020-10-25 00:19:19,583]\u001b[0m Trial 23 pruned. Trial was pruned at epoch 7.\u001b[0m\n"
     ]
    },
    {
     "data": {
      "text/html": [
       "\n",
       "    <div>\n",
       "        <style>\n",
       "            /* Turns off some styling */\n",
       "            progress {\n",
       "                /* gets rid of default border in Firefox and Opera. */\n",
       "                border: none;\n",
       "                /* Needs to be in here for Safari polyfill so background images work as expected. */\n",
       "                background-size: auto;\n",
       "            }\n",
       "            .progress-bar-interrupted, .progress-bar-interrupted::-webkit-progress-bar {\n",
       "                background: #F44336;\n",
       "            }\n",
       "        </style>\n",
       "      <progress value='0' class='' max='1' style='width:300px; height:20px; vertical-align: middle;'></progress>\n",
       "      0.00% [0/1 00:00<00:00]\n",
       "    </div>\n",
       "    \n",
       "\n",
       "\n",
       "    <div>\n",
       "        <style>\n",
       "            /* Turns off some styling */\n",
       "            progress {\n",
       "                /* gets rid of default border in Firefox and Opera. */\n",
       "                border: none;\n",
       "                /* Needs to be in here for Safari polyfill so background images work as expected. */\n",
       "                background-size: auto;\n",
       "            }\n",
       "            .progress-bar-interrupted, .progress-bar-interrupted::-webkit-progress-bar {\n",
       "                background: #F44336;\n",
       "            }\n",
       "        </style>\n",
       "      <progress value='732' class='' max='1508' style='width:300px; height:20px; vertical-align: middle;'></progress>\n",
       "      48.54% [732/1508 01:34<01:40 1.0973]\n",
       "    </div>\n",
       "    "
      ],
      "text/plain": [
       "<IPython.core.display.HTML object>"
      ]
     },
     "metadata": {},
     "output_type": "display_data"
    },
    {
     "name": "stderr",
     "output_type": "stream",
     "text": [
      "IOPub message rate exceeded.\n",
      "The notebook server will temporarily stop sending output\n",
      "to the client in order to avoid crashing it.\n",
      "To change this limit, set the config variable\n",
      "`--NotebookApp.iopub_msg_rate_limit`.\n",
      "\n",
      "Current values:\n",
      "NotebookApp.iopub_msg_rate_limit=1000.0 (msgs/sec)\n",
      "NotebookApp.rate_limit_window=3.0 (secs)\n",
      "\n",
      "IOPub message rate exceeded.\n",
      "The notebook server will temporarily stop sending output\n",
      "to the client in order to avoid crashing it.\n",
      "To change this limit, set the config variable\n",
      "`--NotebookApp.iopub_msg_rate_limit`.\n",
      "\n",
      "Current values:\n",
      "NotebookApp.iopub_msg_rate_limit=1000.0 (msgs/sec)\n",
      "NotebookApp.rate_limit_window=3.0 (secs)\n",
      "\n",
      "IOPub message rate exceeded.\n",
      "The notebook server will temporarily stop sending output\n",
      "to the client in order to avoid crashing it.\n",
      "To change this limit, set the config variable\n",
      "`--NotebookApp.iopub_msg_rate_limit`.\n",
      "\n",
      "Current values:\n",
      "NotebookApp.iopub_msg_rate_limit=1000.0 (msgs/sec)\n",
      "NotebookApp.rate_limit_window=3.0 (secs)\n",
      "\n"
     ]
    },
    {
     "data": {
      "text/html": [
       "\n",
       "    <div>\n",
       "        <style>\n",
       "            /* Turns off some styling */\n",
       "            progress {\n",
       "                /* gets rid of default border in Firefox and Opera. */\n",
       "                border: none;\n",
       "                /* Needs to be in here for Safari polyfill so background images work as expected. */\n",
       "                background-size: auto;\n",
       "            }\n",
       "            .progress-bar-interrupted, .progress-bar-interrupted::-webkit-progress-bar {\n",
       "                background: #F44336;\n",
       "            }\n",
       "        </style>\n",
       "      <progress value='1' class='' max='8' style='width:300px; height:20px; vertical-align: middle;'></progress>\n",
       "      12.50% [1/8 06:07<42:55]\n",
       "    </div>\n",
       "    \n",
       "\n",
       "\n",
       "    <div>\n",
       "        <style>\n",
       "            /* Turns off some styling */\n",
       "            progress {\n",
       "                /* gets rid of default border in Firefox and Opera. */\n",
       "                border: none;\n",
       "                /* Needs to be in here for Safari polyfill so background images work as expected. */\n",
       "                background-size: auto;\n",
       "            }\n",
       "            .progress-bar-interrupted, .progress-bar-interrupted::-webkit-progress-bar {\n",
       "                background: #F44336;\n",
       "            }\n",
       "        </style>\n",
       "      <progress value='1325' class='' max='1508' style='width:300px; height:20px; vertical-align: middle;'></progress>\n",
       "      87.86% [1325/1508 05:14<00:43 0.9448]\n",
       "    </div>\n",
       "    "
      ],
      "text/plain": [
       "<IPython.core.display.HTML object>"
      ]
     },
     "metadata": {},
     "output_type": "display_data"
    },
    {
     "name": "stderr",
     "output_type": "stream",
     "text": [
      "IOPub message rate exceeded.\n",
      "The notebook server will temporarily stop sending output\n",
      "to the client in order to avoid crashing it.\n",
      "To change this limit, set the config variable\n",
      "`--NotebookApp.iopub_msg_rate_limit`.\n",
      "\n",
      "Current values:\n",
      "NotebookApp.iopub_msg_rate_limit=1000.0 (msgs/sec)\n",
      "NotebookApp.rate_limit_window=3.0 (secs)\n",
      "\n",
      "IOPub message rate exceeded.\n",
      "The notebook server will temporarily stop sending output\n",
      "to the client in order to avoid crashing it.\n",
      "To change this limit, set the config variable\n",
      "`--NotebookApp.iopub_msg_rate_limit`.\n",
      "\n",
      "Current values:\n",
      "NotebookApp.iopub_msg_rate_limit=1000.0 (msgs/sec)\n",
      "NotebookApp.rate_limit_window=3.0 (secs)\n",
      "\n"
     ]
    }
   ],
   "source": [
    "start = datetime.now()\n",
    "\n",
    "pruner = optuna.pruners.MedianPruner() if True else optuna.pruners.NopPruner()\n",
    "study = optuna.create_study(direction=\"minimize\", pruner=pruner)\n",
    "\n",
    "train_config = {}\n",
    "study.optimize(partial(objective, train_config=train_config), \n",
    "               n_trials=30, \n",
    "               callbacks=[after_trial_cleanup])#, timeout=600)\n",
    "\n",
    "end = datetime.now()"
   ]
  },
  {
   "cell_type": "code",
   "execution_count": 22,
   "metadata": {},
   "outputs": [
    {
     "name": "stdout",
     "output_type": "stream",
     "text": [
      "Study statistics: \n",
      "  Number of finished trials:  30\n",
      "  Number of pruned trials:  18\n",
      "  Number of complete trials:  12\n",
      "Best trial:\n",
      "  Value:  0.4500029683113098\n",
      "  Params: \n",
      "    pretrained_model_name: facebook/bart-base\n",
      "    save_model: False\n",
      "    use_weighted_loss: True\n",
      "    use_fp16: True\n",
      "    n_frozen_epochs: 1\n",
      "    n_unfrozen_epochs: 9\n",
      "    frozen_lr: 9.825921309111008e-07\n",
      "    unfrozen_lr_max: 3.7739081992270234e-07\n",
      "    unfrozen_lr_min: 9.947900697659808e-08\n",
      "    activation_dropout: 0.1\n",
      "    attention_dropout: 0.1\n",
      "    classif_dropout: 0.25\n",
      "    dropout: 0.0\n",
      "    attention_probs_dropout_prob: 0.05\n",
      "    hidden_dropout_prob: 0.1\n",
      "  User attrs:\n",
      "total time is 47775.509564 seconds\n"
     ]
    },
    {
     "name": "stderr",
     "output_type": "stream",
     "text": [
      "/home/wgilliam/anaconda3/envs/tritonlytics-ai/lib/python3.7/site-packages/optuna/structs.py:21: FutureWarning: `structs` is deprecated. Classes have moved to the following modules. `structs.StudyDirection`->`study.StudyDirection`, `structs.StudySummary`->`study.StudySummary`, `structs.FrozenTrial`->`trial.FrozenTrial`, `structs.TrialState`->`trial.TrialState`, `structs.TrialPruned`->`exceptions.TrialPruned`.\n",
      "  warnings.warn(_message, FutureWarning)\n"
     ]
    }
   ],
   "source": [
    "m_pre, m_suf = meta_standard_themes_train_config['m_pre'], meta_standard_themes_train_config['m_suf']\n",
    "full_model_name = f\"{m_pre}{meta_standard_themes_train_config['base_model_name']}{m_suf}\"\n",
    "\n",
    "pruned_trials = [ t for t in study.trials if t.state == optuna.structs.TrialState.PRUNED ]\n",
    "complete_trials = [ t for t in study.trials if t.state == optuna.structs.TrialState.COMPLETE ]\n",
    "\n",
    "print('Study statistics: ')\n",
    "print('  Number of finished trials: ', len(study.trials))\n",
    "print('  Number of pruned trials: ', len(pruned_trials))\n",
    "print('  Number of complete trials: ', len(complete_trials))\n",
    "\n",
    "print('Best trial:')\n",
    "trial = study.best_trial\n",
    "print('  Value: ', trial.value)\n",
    "print('  Params: ')\n",
    "for key, value in trial.params.items(): print('    {}: {}'.format(key, value))\n",
    "print('  User attrs:')\n",
    "for key, value in trial.user_attrs.items(): print('    {}: {}'.format(key, value))\n",
    "    \n",
    "best_params = study.best_params\n",
    "best_params['valid_loss'] = study.best_value\n",
    "\n",
    "with open(f\"{meta_standard_themes_train_config['learner_path']}/{yyyymmdd}_{full_model_name}_best_trial_params.json\", 'w') as f:\n",
    "    json.dump(best_params, f, indent=4)\n",
    "\n",
    "trials_df = study.trials_dataframe()\n",
    "trials_df.to_csv(f\"{meta_standard_themes_train_config['learner_path']}/{yyyymmdd}_{full_model_name}_trial_results.csv\", \n",
    "                 index=False)\n",
    "\n",
    "print(f'total time is {(end - start).total_seconds()} seconds')"
   ]
  },
  {
   "cell_type": "markdown",
   "metadata": {},
   "source": [
    "### Training with best params"
   ]
  },
  {
   "cell_type": "code",
   "execution_count": 23,
   "metadata": {},
   "outputs": [
    {
     "data": {
      "text/html": [],
      "text/plain": [
       "<IPython.core.display.HTML object>"
      ]
     },
     "metadata": {},
     "output_type": "display_data"
    },
    {
     "data": {
      "text/html": [],
      "text/plain": [
       "<IPython.core.display.HTML object>"
      ]
     },
     "metadata": {},
     "output_type": "display_data"
    },
    {
     "data": {
      "text/html": [],
      "text/plain": [
       "<IPython.core.display.HTML object>"
      ]
     },
     "metadata": {},
     "output_type": "display_data"
    },
    {
     "data": {
      "text/html": [],
      "text/plain": [
       "<IPython.core.display.HTML object>"
      ]
     },
     "metadata": {},
     "output_type": "display_data"
    },
    {
     "data": {
      "text/html": [],
      "text/plain": [
       "<IPython.core.display.HTML object>"
      ]
     },
     "metadata": {},
     "output_type": "display_data"
    }
   ],
   "source": [
    "m_pre, m_suf = meta_standard_themes_train_config['m_pre'], meta_standard_themes_train_config['m_suf']\n",
    "full_model_name = f\"{m_pre}{meta_standard_themes_train_config['base_model_name']}{m_suf}\"\n",
    "\n",
    "with open(f\"{meta_standard_themes_train_config['learner_path']}/20201024_{full_model_name}_best_trial_params.json\") as f: \n",
    "    best_params = json.load(f)\n",
    "    \n",
    "scores, train_res_df = train(params=best_params, train_config={})"
   ]
  },
  {
   "cell_type": "code",
   "execution_count": 24,
   "metadata": {},
   "outputs": [
    {
     "data": {
      "text/plain": [
       "{'valid_loss': 0.4500029683113098,\n",
       " 'sentiment_mse': 0.4458562731742859,\n",
       " 'is_example_acc': 0.9932935833930969,\n",
       " 'is_example_f05': {'threshold': 0.05, 'score': 0.008368978984563884},\n",
       " 'is_example_f1': {'threshold': 0.05, 'score': 0.013323464100666173},\n",
       " 'is_example_f2': {'threshold': 0.05, 'score': 0.03265602322206096},\n",
       " 'sentiment': {'mae': 0.5019305944442749,\n",
       "  'mse': 0.4458564519882202,\n",
       "  'rmse': 0.6677248325382397}}"
      ]
     },
     "execution_count": 24,
     "metadata": {},
     "output_type": "execute_result"
    }
   ],
   "source": [
    "scores"
   ]
  },
  {
   "cell_type": "code",
   "execution_count": 25,
   "metadata": {},
   "outputs": [
    {
     "data": {
      "text/html": [
       "<div>\n",
       "<style scoped>\n",
       "    .dataframe tbody tr th:only-of-type {\n",
       "        vertical-align: middle;\n",
       "    }\n",
       "\n",
       "    .dataframe tbody tr th {\n",
       "        vertical-align: top;\n",
       "    }\n",
       "\n",
       "    .dataframe thead th {\n",
       "        text-align: right;\n",
       "    }\n",
       "</style>\n",
       "<table border=\"1\" class=\"dataframe\">\n",
       "  <thead>\n",
       "    <tr style=\"text-align: right;\">\n",
       "      <th></th>\n",
       "      <th>index</th>\n",
       "      <th>id</th>\n",
       "      <th>question_ans_id</th>\n",
       "      <th>answer_text</th>\n",
       "      <th>answer_text_non_english</th>\n",
       "      <th>language</th>\n",
       "      <th>survey_id</th>\n",
       "      <th>survey_type_id</th>\n",
       "      <th>benchmark_survey_type</th>\n",
       "      <th>client_id</th>\n",
       "      <th>rsp_id</th>\n",
       "      <th>question_category_abbr</th>\n",
       "      <th>question_text</th>\n",
       "      <th>question_class</th>\n",
       "      <th>question_category_id</th>\n",
       "      <th>question_report_abbr</th>\n",
       "      <th>question_category_label</th>\n",
       "      <th>benchmark_level1</th>\n",
       "      <th>benchmark_level2</th>\n",
       "      <th>benchmark_level3</th>\n",
       "      <th>client_benchmark_level</th>\n",
       "      <th>group_code</th>\n",
       "      <th>group_id</th>\n",
       "      <th>group_level1_code</th>\n",
       "      <th>group_level1_name</th>\n",
       "      <th>group_level2_code</th>\n",
       "      <th>group_level2_name</th>\n",
       "      <th>group_level3_code</th>\n",
       "      <th>group_level3_name</th>\n",
       "      <th>group_level4_code</th>\n",
       "      <th>group_level4_name</th>\n",
       "      <th>group_level5_code</th>\n",
       "      <th>group_level5_name</th>\n",
       "      <th>group_level6_code</th>\n",
       "      <th>group_level6_name</th>\n",
       "      <th>group_level7_code</th>\n",
       "      <th>group_level7_name</th>\n",
       "      <th>group_level8_code</th>\n",
       "      <th>group_level8_name</th>\n",
       "      <th>standard_theme_id</th>\n",
       "      <th>theme</th>\n",
       "      <th>url_friendly_theme</th>\n",
       "      <th>theme_display_order</th>\n",
       "      <th>avg_sentiment</th>\n",
       "      <th>is_example</th>\n",
       "      <th>is_valid</th>\n",
       "      <th>pred_sentiment</th>\n",
       "      <th>prob_is_example</th>\n",
       "      <th>targ_sentiment</th>\n",
       "      <th>targ_is_example</th>\n",
       "      <th>loss</th>\n",
       "    </tr>\n",
       "  </thead>\n",
       "  <tbody>\n",
       "    <tr>\n",
       "      <th>0</th>\n",
       "      <td>0</td>\n",
       "      <td>660454</td>\n",
       "      <td>93069</td>\n",
       "      <td>\"Academics at UC ANR value my contributions.\"\\r\\n\"Staff members at UC ANR value my contributions...</td>\n",
       "      <td>NaN</td>\n",
       "      <td>English</td>\n",
       "      <td>396</td>\n",
       "      <td>47</td>\n",
       "      <td>SAW</td>\n",
       "      <td>UCANR</td>\n",
       "      <td>480552</td>\n",
       "      <td>None</td>\n",
       "      <td>Please provide any additional feedback regarding the work environment at UC ANR. Your comments w...</td>\n",
       "      <td>Verbatim-Comments</td>\n",
       "      <td>1141.0</td>\n",
       "      <td>Comments re Work Environment at UC ANR</td>\n",
       "      <td>Comments</td>\n",
       "      <td>None</td>\n",
       "      <td>None</td>\n",
       "      <td>None</td>\n",
       "      <td>3.0</td>\n",
       "      <td>250400.0</td>\n",
       "      <td>6984</td>\n",
       "      <td>999999.0</td>\n",
       "      <td>UC Agriculture &amp; Natural Resources</td>\n",
       "      <td>200000.0</td>\n",
       "      <td>AVP Programs and Initiatives</td>\n",
       "      <td>250000.0</td>\n",
       "      <td>Strategic Institutes and Statewide Programs</td>\n",
       "      <td>250400.0</td>\n",
       "      <td>Statewide IPM</td>\n",
       "      <td>NaN</td>\n",
       "      <td>NaN</td>\n",
       "      <td>NaN</td>\n",
       "      <td>NaN</td>\n",
       "      <td>NaN</td>\n",
       "      <td>NaN</td>\n",
       "      <td>NaN</td>\n",
       "      <td>NaN</td>\n",
       "      <td>10</td>\n",
       "      <td>Have Voice within my Institution/Valued Member of my Institution</td>\n",
       "      <td>HaveVoiceWithinMyInstitutionValuedMemberOfMyInstitution</td>\n",
       "      <td>1</td>\n",
       "      <td>2.0</td>\n",
       "      <td>0</td>\n",
       "      <td>False</td>\n",
       "      <td>1.867188</td>\n",
       "      <td>0.274594</td>\n",
       "      <td>2.0</td>\n",
       "      <td>0.0</td>\n",
       "      <td>0.019078</td>\n",
       "    </tr>\n",
       "    <tr>\n",
       "      <th>1</th>\n",
       "      <td>1</td>\n",
       "      <td>589692</td>\n",
       "      <td>2576</td>\n",
       "      <td>*The MSO of this department consistently takes unfair advantage of power dynamics to intimidate ...</td>\n",
       "      <td>NaN</td>\n",
       "      <td>English</td>\n",
       "      <td>212</td>\n",
       "      <td>9</td>\n",
       "      <td>SAW</td>\n",
       "      <td>UCSD</td>\n",
       "      <td>447156</td>\n",
       "      <td>C&amp;B</td>\n",
       "      <td>If you would like to elaborate on any of your answers to the conduct and behavioral questions ab...</td>\n",
       "      <td>Verbatim</td>\n",
       "      <td>1240.0</td>\n",
       "      <td>Conduct &amp; Behavioral - Comments</td>\n",
       "      <td>Conduct &amp; Behavioral</td>\n",
       "      <td>None</td>\n",
       "      <td>None</td>\n",
       "      <td>None</td>\n",
       "      <td>3.0</td>\n",
       "      <td>10104.0</td>\n",
       "      <td>3437</td>\n",
       "      <td>999999.0</td>\n",
       "      <td>UC San Diego</td>\n",
       "      <td>10000.0</td>\n",
       "      <td>ACADEMIC AFFAIRS</td>\n",
       "      <td>10002.0</td>\n",
       "      <td>DIVISIONS/SCHOOLS</td>\n",
       "      <td>10003.0</td>\n",
       "      <td>ARTS &amp; HUMANITIES</td>\n",
       "      <td>10104.0</td>\n",
       "      <td>MUSIC</td>\n",
       "      <td>NaN</td>\n",
       "      <td>NaN</td>\n",
       "      <td>NaN</td>\n",
       "      <td>NaN</td>\n",
       "      <td>NaN</td>\n",
       "      <td>NaN</td>\n",
       "      <td>19</td>\n",
       "      <td>Supervisor Effectiveness/Resolves Staff Issues</td>\n",
       "      <td>SupervisorEffectivenessResolvesStaffIssues</td>\n",
       "      <td>1</td>\n",
       "      <td>1.0</td>\n",
       "      <td>0</td>\n",
       "      <td>False</td>\n",
       "      <td>1.519531</td>\n",
       "      <td>0.275446</td>\n",
       "      <td>1.0</td>\n",
       "      <td>0.0</td>\n",
       "      <td>0.271568</td>\n",
       "    </tr>\n",
       "    <tr>\n",
       "      <th>2</th>\n",
       "      <td>2</td>\n",
       "      <td>589041</td>\n",
       "      <td>1877</td>\n",
       "      <td>Hiring and staffing pools in the research administration series have been very weak and it is di...</td>\n",
       "      <td>NaN</td>\n",
       "      <td>English</td>\n",
       "      <td>212</td>\n",
       "      <td>9</td>\n",
       "      <td>SAW</td>\n",
       "      <td>UCSD</td>\n",
       "      <td>449832</td>\n",
       "      <td>SAT</td>\n",
       "      <td>If you would like to elaborate on your responses above, or if you have any additional feedback r...</td>\n",
       "      <td>Verbatim</td>\n",
       "      <td>114.0</td>\n",
       "      <td>Comments re Work Environment at UCSD</td>\n",
       "      <td>Satisfaction with UC San Diego</td>\n",
       "      <td>None</td>\n",
       "      <td>None</td>\n",
       "      <td>None</td>\n",
       "      <td>1.0</td>\n",
       "      <td>99119.0</td>\n",
       "      <td>4731</td>\n",
       "      <td>999999.0</td>\n",
       "      <td>UC San Diego</td>\n",
       "      <td>90000.0</td>\n",
       "      <td>VICE CHANCELLOR HEALTH SCIENCES</td>\n",
       "      <td>93000.0</td>\n",
       "      <td>SCHOOL OF MEDICINE</td>\n",
       "      <td>96000.0</td>\n",
       "      <td>DEAN'S OFFICE</td>\n",
       "      <td>99119.0</td>\n",
       "      <td>VC OPERATIONS LEADERSHIP</td>\n",
       "      <td>NaN</td>\n",
       "      <td>NaN</td>\n",
       "      <td>NaN</td>\n",
       "      <td>NaN</td>\n",
       "      <td>NaN</td>\n",
       "      <td>NaN</td>\n",
       "      <td>45</td>\n",
       "      <td>Internal Processes Effective</td>\n",
       "      <td>InternalProcessesEffective</td>\n",
       "      <td>1</td>\n",
       "      <td>2.0</td>\n",
       "      <td>0</td>\n",
       "      <td>False</td>\n",
       "      <td>1.973633</td>\n",
       "      <td>0.272035</td>\n",
       "      <td>2.0</td>\n",
       "      <td>0.0</td>\n",
       "      <td>0.001482</td>\n",
       "    </tr>\n",
       "    <tr>\n",
       "      <th>3</th>\n",
       "      <td>3</td>\n",
       "      <td>683498</td>\n",
       "      <td>1877</td>\n",
       "      <td>My supervisor is great but her supervisors are not. Our department is not respectful of the need...</td>\n",
       "      <td>NaN</td>\n",
       "      <td>English</td>\n",
       "      <td>401</td>\n",
       "      <td>9</td>\n",
       "      <td>SAW</td>\n",
       "      <td>UCSD</td>\n",
       "      <td>495891</td>\n",
       "      <td>SAT</td>\n",
       "      <td>If you would like to elaborate on your responses above, or if you have any additional feedback r...</td>\n",
       "      <td>Verbatim</td>\n",
       "      <td>114.0</td>\n",
       "      <td>Comments re Work Environment at UCSD</td>\n",
       "      <td>Satisfaction with UC San Diego</td>\n",
       "      <td>None</td>\n",
       "      <td>None</td>\n",
       "      <td>None</td>\n",
       "      <td>1.0</td>\n",
       "      <td>700001.0</td>\n",
       "      <td>3828</td>\n",
       "      <td>999999.0</td>\n",
       "      <td>UC San Diego</td>\n",
       "      <td>700000.0</td>\n",
       "      <td>ADVANCEMENT</td>\n",
       "      <td>700019.0</td>\n",
       "      <td>ALUMNI</td>\n",
       "      <td>700001.0</td>\n",
       "      <td>ALUMNI RELATIONS</td>\n",
       "      <td>NaN</td>\n",
       "      <td>NaN</td>\n",
       "      <td>NaN</td>\n",
       "      <td>NaN</td>\n",
       "      <td>NaN</td>\n",
       "      <td>NaN</td>\n",
       "      <td>NaN</td>\n",
       "      <td>NaN</td>\n",
       "      <td>19</td>\n",
       "      <td>Supervisor Effectiveness/Resolves Staff Issues</td>\n",
       "      <td>SupervisorEffectivenessResolvesStaffIssues</td>\n",
       "      <td>1</td>\n",
       "      <td>2.0</td>\n",
       "      <td>0</td>\n",
       "      <td>False</td>\n",
       "      <td>1.929688</td>\n",
       "      <td>0.271702</td>\n",
       "      <td>2.0</td>\n",
       "      <td>0.0</td>\n",
       "      <td>0.005646</td>\n",
       "    </tr>\n",
       "    <tr>\n",
       "      <th>4</th>\n",
       "      <td>4</td>\n",
       "      <td>683028</td>\n",
       "      <td>1877</td>\n",
       "      <td>The inefficiencies and chronic shortages of resources (IT/computer related/eqipment) is so frust...</td>\n",
       "      <td>NaN</td>\n",
       "      <td>English</td>\n",
       "      <td>401</td>\n",
       "      <td>9</td>\n",
       "      <td>SAW</td>\n",
       "      <td>UCSD</td>\n",
       "      <td>494058</td>\n",
       "      <td>SAT</td>\n",
       "      <td>If you would like to elaborate on your responses above, or if you have any additional feedback r...</td>\n",
       "      <td>Verbatim</td>\n",
       "      <td>114.0</td>\n",
       "      <td>Comments re Work Environment at UCSD</td>\n",
       "      <td>Satisfaction with UC San Diego</td>\n",
       "      <td>None</td>\n",
       "      <td>None</td>\n",
       "      <td>None</td>\n",
       "      <td>1.0</td>\n",
       "      <td>90920.0</td>\n",
       "      <td>3665</td>\n",
       "      <td>999999.0</td>\n",
       "      <td>UC San Diego</td>\n",
       "      <td>90000.0</td>\n",
       "      <td>VICE CHANCELLOR HEALTH SCIENCES</td>\n",
       "      <td>93000.0</td>\n",
       "      <td>SCHOOL OF MEDICINE</td>\n",
       "      <td>90900.0</td>\n",
       "      <td>NEUROSCIENCES</td>\n",
       "      <td>90920.0</td>\n",
       "      <td>ALZHEIMERS DISEASE RESEARCH CENTER (ADRC)</td>\n",
       "      <td>NaN</td>\n",
       "      <td>NaN</td>\n",
       "      <td>NaN</td>\n",
       "      <td>NaN</td>\n",
       "      <td>NaN</td>\n",
       "      <td>NaN</td>\n",
       "      <td>45</td>\n",
       "      <td>Internal Processes Effective</td>\n",
       "      <td>InternalProcessesEffective</td>\n",
       "      <td>1</td>\n",
       "      <td>2.0</td>\n",
       "      <td>0</td>\n",
       "      <td>False</td>\n",
       "      <td>1.953125</td>\n",
       "      <td>0.273544</td>\n",
       "      <td>2.0</td>\n",
       "      <td>0.0</td>\n",
       "      <td>0.003368</td>\n",
       "    </tr>\n",
       "  </tbody>\n",
       "</table>\n",
       "</div>"
      ],
      "text/plain": [
       "   index      id  question_ans_id                                                                                          answer_text  answer_text_non_english language  survey_id  survey_type_id benchmark_survey_type client_id  rsp_id question_category_abbr                                                                                        question_text     question_class  question_category_id                    question_report_abbr         question_category_label benchmark_level1 benchmark_level2 benchmark_level3  client_benchmark_level  group_code  group_id  group_level1_code                   group_level1_name  group_level2_code                group_level2_name  group_level3_code                            group_level3_name  group_level4_code  group_level4_name  group_level5_code                          group_level5_name  group_level6_code group_level6_name  group_level7_code group_level7_name  group_level8_code  group_level8_name  standard_theme_id  \\\n",
       "0      0  660454            93069  \"Academics at UC ANR value my contributions.\"\\r\\n\"Staff members at UC ANR value my contributions...                      NaN  English        396              47                   SAW     UCANR  480552                   None  Please provide any additional feedback regarding the work environment at UC ANR. Your comments w...  Verbatim-Comments                1141.0  Comments re Work Environment at UC ANR                        Comments             None             None             None                     3.0    250400.0      6984           999999.0  UC Agriculture & Natural Resources           200000.0     AVP Programs and Initiatives           250000.0  Strategic Institutes and Statewide Programs           250400.0      Statewide IPM                NaN                                        NaN                NaN               NaN                NaN               NaN                NaN                NaN                 10   \n",
       "1      1  589692             2576  *The MSO of this department consistently takes unfair advantage of power dynamics to intimidate ...                      NaN  English        212               9                   SAW      UCSD  447156                    C&B  If you would like to elaborate on any of your answers to the conduct and behavioral questions ab...           Verbatim                1240.0         Conduct & Behavioral - Comments            Conduct & Behavioral             None             None             None                     3.0     10104.0      3437           999999.0                        UC San Diego            10000.0                 ACADEMIC AFFAIRS            10002.0                            DIVISIONS/SCHOOLS            10003.0  ARTS & HUMANITIES            10104.0                                      MUSIC                NaN               NaN                NaN               NaN                NaN                NaN                 19   \n",
       "2      2  589041             1877  Hiring and staffing pools in the research administration series have been very weak and it is di...                      NaN  English        212               9                   SAW      UCSD  449832                    SAT  If you would like to elaborate on your responses above, or if you have any additional feedback r...           Verbatim                 114.0    Comments re Work Environment at UCSD  Satisfaction with UC San Diego             None             None             None                     1.0     99119.0      4731           999999.0                        UC San Diego            90000.0  VICE CHANCELLOR HEALTH SCIENCES            93000.0                           SCHOOL OF MEDICINE            96000.0      DEAN'S OFFICE            99119.0                   VC OPERATIONS LEADERSHIP                NaN               NaN                NaN               NaN                NaN                NaN                 45   \n",
       "3      3  683498             1877  My supervisor is great but her supervisors are not. Our department is not respectful of the need...                      NaN  English        401               9                   SAW      UCSD  495891                    SAT  If you would like to elaborate on your responses above, or if you have any additional feedback r...           Verbatim                 114.0    Comments re Work Environment at UCSD  Satisfaction with UC San Diego             None             None             None                     1.0    700001.0      3828           999999.0                        UC San Diego           700000.0                      ADVANCEMENT           700019.0                                       ALUMNI           700001.0   ALUMNI RELATIONS                NaN                                        NaN                NaN               NaN                NaN               NaN                NaN                NaN                 19   \n",
       "4      4  683028             1877  The inefficiencies and chronic shortages of resources (IT/computer related/eqipment) is so frust...                      NaN  English        401               9                   SAW      UCSD  494058                    SAT  If you would like to elaborate on your responses above, or if you have any additional feedback r...           Verbatim                 114.0    Comments re Work Environment at UCSD  Satisfaction with UC San Diego             None             None             None                     1.0     90920.0      3665           999999.0                        UC San Diego            90000.0  VICE CHANCELLOR HEALTH SCIENCES            93000.0                           SCHOOL OF MEDICINE            90900.0      NEUROSCIENCES            90920.0  ALZHEIMERS DISEASE RESEARCH CENTER (ADRC)                NaN               NaN                NaN               NaN                NaN                NaN                 45   \n",
       "\n",
       "                                                              theme                                       url_friendly_theme  theme_display_order  avg_sentiment  is_example  is_valid  pred_sentiment  prob_is_example  targ_sentiment  targ_is_example      loss  \n",
       "0  Have Voice within my Institution/Valued Member of my Institution  HaveVoiceWithinMyInstitutionValuedMemberOfMyInstitution                    1            2.0           0     False        1.867188         0.274594             2.0              0.0  0.019078  \n",
       "1                    Supervisor Effectiveness/Resolves Staff Issues               SupervisorEffectivenessResolvesStaffIssues                    1            1.0           0     False        1.519531         0.275446             1.0              0.0  0.271568  \n",
       "2                                      Internal Processes Effective                               InternalProcessesEffective                    1            2.0           0     False        1.973633         0.272035             2.0              0.0  0.001482  \n",
       "3                    Supervisor Effectiveness/Resolves Staff Issues               SupervisorEffectivenessResolvesStaffIssues                    1            2.0           0     False        1.929688         0.271702             2.0              0.0  0.005646  \n",
       "4                                      Internal Processes Effective                               InternalProcessesEffective                    1            2.0           0     False        1.953125         0.273544             2.0              0.0  0.003368  "
      ]
     },
     "execution_count": 25,
     "metadata": {},
     "output_type": "execute_result"
    }
   ],
   "source": [
    "train_res_df.head()"
   ]
  },
  {
   "cell_type": "code",
   "execution_count": 19,
   "metadata": {},
   "outputs": [
    {
     "data": {
      "text/plain": [
       "{'valid_loss': 0.4500029683113098,\n",
       " 'sentiment_mse': 0.4458562731742859,\n",
       " 'is_example_acc': 0.9932935833930969,\n",
       " 'is_example_f05': {'threshold': 0.05, 'score': 0.008368978984563884},\n",
       " 'is_example_f1': {'threshold': 0.05, 'score': 0.013323464100666173},\n",
       " 'is_example_f2': {'threshold': 0.05, 'score': 0.03265602322206096},\n",
       " 'sentiment': {'mae': 0.5019305944442749,\n",
       "  'mse': 0.4458564519882202,\n",
       "  'rmse': 0.6677248325382397}}"
      ]
     },
     "execution_count": 19,
     "metadata": {},
     "output_type": "execute_result"
    }
   ],
   "source": [
    "# load scores\n",
    "m_pre, m_suf = meta_standard_themes_train_config['m_pre'], meta_standard_themes_train_config['m_suf']\n",
    "full_model_name = f\"{m_pre}{meta_standard_themes_train_config['base_model_name']}{m_suf}\"\n",
    "\n",
    "with open(STANDARD_THEME_META_PATH/f'20201025_{full_model_name}_train_scores.json') as f: \n",
    "    training_results = json.load(f)\n",
    "    \n",
    "training_results"
   ]
  },
  {
   "cell_type": "code",
   "execution_count": 27,
   "metadata": {},
   "outputs": [
    {
     "data": {
      "text/html": [],
      "text/plain": [
       "<IPython.core.display.HTML object>"
      ]
     },
     "metadata": {},
     "output_type": "display_data"
    },
    {
     "name": "stdout",
     "output_type": "stream",
     "text": [
      "(((2.2841796875,), '0'), tensor([[2.2842]]), tensor([[2.2842]]))\n"
     ]
    },
    {
     "data": {
      "text/html": [],
      "text/plain": [
       "<IPython.core.display.HTML object>"
      ]
     },
     "metadata": {},
     "output_type": "display_data"
    },
    {
     "name": "stdout",
     "output_type": "stream",
     "text": [
      "(((3.7602927684783936,), '0'), tensor([[3.7603]]), tensor([[3.7603]]))\n"
     ]
    }
   ],
   "source": [
    "inf_learn = load_learner(STANDARD_THEME_META_PATH/f'{yyyymmdd}_{full_model_name}_export.pkl')\n",
    "print(inf_learn.blurr_predict('theme: Benefits comment: We are not paid enough and the benefits are horrible'))\n",
    "print(inf_learn.blurr_predict(\"theme: Benfits comment: The faculty really support us well!!! I feel valued\"))"
   ]
  },
  {
   "cell_type": "markdown",
   "metadata": {},
   "source": [
    "## Inference"
   ]
  },
  {
   "cell_type": "markdown",
   "metadata": {},
   "source": [
    "### Inference (ad-hoc documents)"
   ]
  },
  {
   "cell_type": "code",
   "execution_count": 28,
   "metadata": {},
   "outputs": [
    {
     "name": "stdout",
     "output_type": "stream",
     "text": [
      "['adequate_staffing', 'advancement_and_training_opportunities', 'appropriate_stress_work_assigned_equitably', 'benefits', 'better_ways_recognized_participate_in_decisions']\n"
     ]
    }
   ],
   "source": [
    "print(STANDARD_THEME_SAW_LABELS[:5])"
   ]
  },
  {
   "cell_type": "code",
   "execution_count": 29,
   "metadata": {},
   "outputs": [
    {
     "data": {
      "text/html": [],
      "text/plain": [
       "<IPython.core.display.HTML object>"
      ]
     },
     "metadata": {},
     "output_type": "display_data"
    },
    {
     "name": "stdout",
     "output_type": "stream",
     "text": [
      "(HF_BaseInput([    0,  4782,    35,  1664, 30769,  1129,    35,  1491,  1199,   615,\n",
      "            4,     2]), ((2.0957260131835938,), '0'), tensor([[2.0957]]), tensor([[2.0957]]))\n"
     ]
    },
    {
     "data": {
      "text/html": [],
      "text/plain": [
       "<IPython.core.display.HTML object>"
      ]
     },
     "metadata": {},
     "output_type": "display_data"
    },
    {
     "name": "stdout",
     "output_type": "stream",
     "text": [
      "(HF_BaseInput([    0,  4782,    35,  1664, 30769,  1129,    35,    38,   524, 10028,\n",
      "           19,   127,  1795,     8,    52,    33,   615,    82,    11,   127,\n",
      "         1494,     4,    20,  7998,    16,  1266,     7,   162,     4,     2]), ((2.7463250160217285,), '0'), tensor([[2.7463]]), tensor([[2.7463]]))\n"
     ]
    },
    {
     "data": {
      "text/html": [],
      "text/plain": [
       "<IPython.core.display.HTML object>"
      ]
     },
     "metadata": {},
     "output_type": "display_data"
    },
    {
     "name": "stdout",
     "output_type": "stream",
     "text": [
      "(HF_BaseInput([    0,  4782,    35,  1664, 30769,  1129,    35,    38,   657, 10017,\n",
      "            2]), ((3.2796902656555176,), '0'), tensor([[3.2797]]), tensor([[3.2797]]))\n"
     ]
    },
    {
     "data": {
      "text/html": [],
      "text/plain": [
       "<IPython.core.display.HTML object>"
      ]
     },
     "metadata": {},
     "output_type": "display_data"
    },
    {
     "name": "stdout",
     "output_type": "stream",
     "text": [
      "(HF_BaseInput([    0,  4782,    35,  1664, 30769,  1129,    35,    38,    64,   393,\n",
      "          465,    10,  2932,  1514,     4,    20,  2572,    90,  1634,    32,\n",
      "           45,    15,    86,     4, 10310,     2]), ((2.199773073196411,), '0'), tensor([[2.1998]]), tensor([[2.1998]]))\n"
     ]
    },
    {
     "data": {
      "text/html": [],
      "text/plain": [
       "<IPython.core.display.HTML object>"
      ]
     },
     "metadata": {},
     "output_type": "display_data"
    },
    {
     "name": "stdout",
     "output_type": "stream",
     "text": [
      "(HF_BaseInput([    0,  4782,    35,  1664, 30769,  1129,    35,    38,    21,   269,\n",
      "         9800,     7,  5486,   127,  2979, 16506,     2]), ((2.502875804901123,), '0'), tensor([[2.5029]]), tensor([[2.5029]]))\n"
     ]
    },
    {
     "data": {
      "text/html": [],
      "text/plain": [
       "<IPython.core.display.HTML object>"
      ]
     },
     "metadata": {},
     "output_type": "display_data"
    },
    {
     "name": "stdout",
     "output_type": "stream",
     "text": [
      "(HF_BaseInput([    0,  4782,    35,  1664, 30769,  1129,    35,  2321,  8914,   890,\n",
      "           16,    41,  9297,   884,     4,  1437,    91,    34,  1613,  1065,\n",
      "            8,  1684,     7,  1045,    10,  1313,   447,  1737,     8,   694,\n",
      "          434,  1616,     4,  1437,   832,  2720,     7,    39,   165,    16,\n",
      "          542, 27978,   196,     8, 19781,   868,     4, 37457,   338, 37457,\n",
      "          282, 37457,   338, 37457,   282, 38334,  3144,  5302,  2478,    16,\n",
      "           10,  1421,     9, 12757,  1673,    13,  6919,     8, 37513,  1630,\n",
      "         2617,  1820,     4,  1437,   264,    34,  2208,     5,  2098,     9,\n",
      "          167,    79,  3315,   149,  5322,  4358,     6, 17805,     6,     8,\n",
      "        13557,  9434,     4,     2]), ((4.005021095275879,), '0'), tensor([[4.0050]]), tensor([[4.0050]]))\n"
     ]
    }
   ],
   "source": [
    "test_comments = [\n",
    "    'theme: Benfits comment: Not paid enough.',\n",
    "    'theme: Benfits comment: I am satisfied with my benefits and we have enough people in my department. The faculty is mean to me.',\n",
    "    'theme: Benfits comment: I love cats',\n",
    "    \"theme: Benfits comment: I can never find a parking spot. The shuttles are not on time. Help\",\n",
    "    \"theme: Benfits comment: I was really uncomfortable to express my opinion!!!\",\n",
    "    \"theme: Benfits comment: Jeff Wadell is an exceptional leader.  He has gone above and beyond to create a positive working environment and provide growth opportunities.  His commitment to his team is unrivaled and commendable.\\\\r\\\\n\\\\r\\\\nNikki Panza is a model of authentic leadership for Building and Custodial Services.  She has earned the respect of those she leads through honest communication, empathy, and ethical consultation.\"\n",
    "]\n",
    "\n",
    "for c in test_comments: print(inf_learn.blurr_predict(c, with_input=True))"
   ]
  },
  {
   "cell_type": "markdown",
   "metadata": {},
   "source": [
    "### Inference (batch)"
   ]
  },
  {
   "cell_type": "code",
   "execution_count": 30,
   "metadata": {},
   "outputs": [],
   "source": [
    "#export\n",
    "def get_standard_theme_meta_preds(inf_df, learner_export_path=None, train_scores_path=None, yyyymmdd=None,\n",
    "                                  device=torch.device('cpu'), train_config={}):\n",
    "    \n",
    "    config = {**meta_standard_themes_train_config, **train_config}    \n",
    "    m_pre, m_suf, base_model_name = config['m_pre'], config['m_suf'], config['base_model_name']\n",
    "    full_model_name = f'{m_pre}{base_model_name}{m_suf}'\n",
    "    \n",
    "    if (yyyymmdd is None): yyyymmdd = datetime.today().strftime(\"%Y%m%d\")\n",
    "    \n",
    "    # 1. grab learner, procs, and data\n",
    "    cpu = device.type == 'cpu'\n",
    "    if (learner_export_path is None): \n",
    "        learner_export_path = f\"{config['learner_path']}/{yyyymmdd}_{config['export_filename']}\"\n",
    "    if (train_scores_path is None): \n",
    "        train_scores_path = f\"{config['learner_path']}/{yyyymmdd}_{full_model_name}_train_scores.json\"\n",
    "        \n",
    "    with open(train_scores_path) as f: training_results = json.load(f)\n",
    "        \n",
    "    inf_learn = load_learner(fname=learner_export_path, cpu=cpu)\n",
    "    inf_learn.model = inf_learn.model.to(device)\n",
    "    inf_learn.model = inf_learn.model.eval()\n",
    "    \n",
    "    # 2. define a suitable dataloader\n",
    "    inf_df.dropna(subset=config['corpus_cols'], inplace=True)\n",
    "    inf_df.reset_index(drop=True, inplace=True)\n",
    "    inf_dl = inf_learn.dls.test_dl(inf_df, rm_type_tfms=None, bs=16)\n",
    "\n",
    "    # 3. get probs and document vectors\n",
    "    test_probs_sent, test_probs_is_example = [], []\n",
    "    with torch.no_grad():\n",
    "        for index, b in enumerate(inf_dl):\n",
    "            if index % 1000 == 0:  print(index)\n",
    "\n",
    "            # note: even though there is no targets, each batch is a tuple!\n",
    "            probs = inf_learn.model(b[0])\n",
    "            \n",
    "            # why \"detach\"? the computation of gradients wrt the weights of netG can be fully \n",
    "            # avoided in the backward pass if the graph is detached where it is.\n",
    "            test_probs_sent.append(to_detach(probs[0][0]))\n",
    "            test_probs_is_example.append(to_detach(torch.softmax(probs[0][1], dim=-1)))\n",
    "\n",
    "    all_probs_sent = L(torch.cat(test_probs_sent))\n",
    "    all_probs_is_example = L(torch.cat(test_probs_is_example))\n",
    "\n",
    "    # 4. ensure results are returned in order\n",
    "    # test_dl.get_idxs() => unsorted/original order items\n",
    "    all_probs_sent = all_probs_sent[0][np.argsort(inf_dl.get_idxs())]\n",
    "    all_probs_is_example = all_probs_is_example[0][np.argsort(inf_dl.get_idxs())]\n",
    "        \n",
    "    # 5. add model scores\n",
    "    combined_probs = np.concatenate((all_probs_sent.numpy(), all_probs_is_example.numpy()[:,1][:,None]), axis=1)\n",
    "    prob_labels = ['prob_' + lbl for lbl in STANDARD_THEME_META_LABELS]\n",
    "    probs_df = pd.DataFrame(combined_probs, columns=prob_labels)\n",
    "    \n",
    "    for lbl in STANDARD_THEME_META_LABELS[1:]:\n",
    "        probs_df[f'pred_{lbl}'] = (probs_df[f'prob_{lbl}'] > training_results['is_example_f05']['threshold']).astype(np.int64)\n",
    "        \n",
    "    final_df = pd.concat([inf_df, probs_df], axis=1)\n",
    "    \n",
    "    final_df['valid_loss'] = training_results['valid_loss']\n",
    "    final_df['sentiment_mse'] = training_results['sentiment']['mse']\n",
    "    final_df['sentiment_mae'] = training_results['sentiment']['mae']\n",
    "    final_df['sentiment_rmse'] = training_results['sentiment']['rmse']\n",
    "    final_df['is_example_f05_threshold'] = training_results['is_example_f05']['threshold']\n",
    "    final_df['is_example_f05_score'] = training_results['is_example_f05']['score']\n",
    "    final_df['is_example_f1_threshold'] = training_results['is_example_f1']['threshold']\n",
    "    final_df['is_example_f1_score'] = training_results['is_example_f1']['score']\n",
    "    final_df['is_example_f2_threshold'] = training_results['is_example_f2']['threshold']\n",
    "    final_df['is_example_f2_score'] = training_results['is_example_f2']['score']\n",
    "\n",
    "    # cleanup\n",
    "    try: del inf_learn; del inf_dl\n",
    "    except: pass\n",
    "    finally: gc.collect(); torch.cuda.empty_cache()\n",
    "    \n",
    "    return final_df, all_probs_sent, all_probs_is_example, STANDARD_THEME_META_LABELS"
   ]
  },
  {
   "cell_type": "code",
   "execution_count": 21,
   "metadata": {},
   "outputs": [
    {
     "name": "stdout",
     "output_type": "stream",
     "text": [
      "4045 4045\n"
     ]
    }
   ],
   "source": [
    "verbatims_df = pd.read_csv(STANDARD_THEME_SAW_PATH/'20201024_test_predictions_multilabel_hf.csv', \n",
    "                           dtype={**TASK_LM_DTYPES}, parse_dates=[])\n",
    "\n",
    "inf_df = verbatims_df.copy() #verbatims_df[test_df.SurveyID == 130].copy()\n",
    "inf_df.reset_index(drop=True, inplace=True)\n",
    "print(len(verbatims_df), len(inf_df))\n",
    "\n",
    "corpus_cols = ['theme', 'AnswerText'] "
   ]
  },
  {
   "cell_type": "code",
   "execution_count": 22,
   "metadata": {},
   "outputs": [
    {
     "data": {
      "text/html": [
       "<div>\n",
       "<style scoped>\n",
       "    .dataframe tbody tr th:only-of-type {\n",
       "        vertical-align: middle;\n",
       "    }\n",
       "\n",
       "    .dataframe tbody tr th {\n",
       "        vertical-align: top;\n",
       "    }\n",
       "\n",
       "    .dataframe thead th {\n",
       "        text-align: right;\n",
       "    }\n",
       "</style>\n",
       "<table border=\"1\" class=\"dataframe\">\n",
       "  <thead>\n",
       "    <tr style=\"text-align: right;\">\n",
       "      <th></th>\n",
       "      <th>Id</th>\n",
       "      <th>QuestionAnsID</th>\n",
       "      <th>AnswerText</th>\n",
       "      <th>AnswerText_NonEnglish</th>\n",
       "      <th>Language</th>\n",
       "      <th>SurveyID</th>\n",
       "      <th>SurveyTypeID</th>\n",
       "      <th>BenchmarkSurveyType</th>\n",
       "      <th>ClientId</th>\n",
       "      <th>RspID</th>\n",
       "      <th>QuestionCategoryAbbr</th>\n",
       "      <th>QuestionText</th>\n",
       "      <th>QuestionClass</th>\n",
       "      <th>QuestionCategoryID</th>\n",
       "      <th>QuestionReportAbbr</th>\n",
       "      <th>QuestionCategoryLabel</th>\n",
       "      <th>BenchmarkLevel1</th>\n",
       "      <th>BenchmarkLevel2</th>\n",
       "      <th>BenchmarkLevel3</th>\n",
       "      <th>ClientBenchmarkLevel</th>\n",
       "      <th>GroupCode</th>\n",
       "      <th>GroupID</th>\n",
       "      <th>GroupLevel1Code</th>\n",
       "      <th>GroupLevel1Name</th>\n",
       "      <th>GroupLevel2Code</th>\n",
       "      <th>GroupLevel2Name</th>\n",
       "      <th>GroupLevel3Code</th>\n",
       "      <th>GroupLevel3Name</th>\n",
       "      <th>GroupLevel4Code</th>\n",
       "      <th>GroupLevel4Name</th>\n",
       "      <th>GroupLevel5Code</th>\n",
       "      <th>GroupLevel5Name</th>\n",
       "      <th>GroupLevel6Code</th>\n",
       "      <th>GroupLevel6Name</th>\n",
       "      <th>GroupLevel7Code</th>\n",
       "      <th>GroupLevel7Name</th>\n",
       "      <th>GroupLevel8Code</th>\n",
       "      <th>GroupLevel8Name</th>\n",
       "      <th>answer_text</th>\n",
       "      <th>prob_adequate_staffing</th>\n",
       "      <th>prob_advancement_and_training_opportunities</th>\n",
       "      <th>prob_appropriate_stress_work_assigned_equitably</th>\n",
       "      <th>prob_benefits</th>\n",
       "      <th>prob_better_ways_recognized_participate_in_decisions</th>\n",
       "      <th>prob_career_advancement</th>\n",
       "      <th>prob_committed_to_diversity</th>\n",
       "      <th>prob_communicates_essential_information</th>\n",
       "      <th>prob_ethical_conduct_perform_responsibilities_spirit_of_cooperation</th>\n",
       "      <th>prob_evaluated_fairly</th>\n",
       "      <th>prob_experienced_discrimination</th>\n",
       "      <th>prob_facilities_workspace_safety</th>\n",
       "      <th>prob_faculty_value_contributions</th>\n",
       "      <th>prob_favoritism_cliques</th>\n",
       "      <th>prob_fear_of_retaliation_negative_consequences</th>\n",
       "      <th>prob_feel_valued_by_department</th>\n",
       "      <th>prob_flexibility_work_life_balance</th>\n",
       "      <th>prob_good_use_of_skills</th>\n",
       "      <th>prob_have_necessary_tools</th>\n",
       "      <th>prob_have_voice_within_my_institution_valued_member_of_my_institution</th>\n",
       "      <th>prob_internal_processes_effective</th>\n",
       "      <th>prob_parking_transportation</th>\n",
       "      <th>prob_salary_pay</th>\n",
       "      <th>prob_satisfied_with_diversity_progams</th>\n",
       "      <th>prob_supervisor_effectiveness_resolves_staff_issues</th>\n",
       "      <th>pred_adequate_staffing</th>\n",
       "      <th>pred_advancement_and_training_opportunities</th>\n",
       "      <th>pred_appropriate_stress_work_assigned_equitably</th>\n",
       "      <th>pred_benefits</th>\n",
       "      <th>pred_better_ways_recognized_participate_in_decisions</th>\n",
       "      <th>pred_career_advancement</th>\n",
       "      <th>pred_committed_to_diversity</th>\n",
       "      <th>pred_communicates_essential_information</th>\n",
       "      <th>pred_ethical_conduct_perform_responsibilities_spirit_of_cooperation</th>\n",
       "      <th>pred_evaluated_fairly</th>\n",
       "      <th>pred_experienced_discrimination</th>\n",
       "      <th>pred_facilities_workspace_safety</th>\n",
       "      <th>pred_faculty_value_contributions</th>\n",
       "      <th>pred_favoritism_cliques</th>\n",
       "      <th>pred_fear_of_retaliation_negative_consequences</th>\n",
       "      <th>pred_feel_valued_by_department</th>\n",
       "      <th>pred_flexibility_work_life_balance</th>\n",
       "      <th>pred_good_use_of_skills</th>\n",
       "      <th>pred_have_necessary_tools</th>\n",
       "      <th>pred_have_voice_within_my_institution_valued_member_of_my_institution</th>\n",
       "      <th>pred_internal_processes_effective</th>\n",
       "      <th>pred_parking_transportation</th>\n",
       "      <th>pred_salary_pay</th>\n",
       "      <th>pred_satisfied_with_diversity_progams</th>\n",
       "      <th>pred_supervisor_effectiveness_resolves_staff_issues</th>\n",
       "      <th>valid_loss</th>\n",
       "      <th>accuracy_multi</th>\n",
       "      <th>fbeta_score</th>\n",
       "      <th>precision_score</th>\n",
       "      <th>recall_score</th>\n",
       "      <th>roc_auc_score</th>\n",
       "      <th>opt_th</th>\n",
       "      <th>f05_threshold</th>\n",
       "      <th>f05_score</th>\n",
       "      <th>f1_threshold</th>\n",
       "      <th>f1_score</th>\n",
       "      <th>f2_threshold</th>\n",
       "      <th>f2_score</th>\n",
       "    </tr>\n",
       "  </thead>\n",
       "  <tbody>\n",
       "    <tr>\n",
       "      <th>0</th>\n",
       "      <td>589996</td>\n",
       "      <td>2576</td>\n",
       "      <td>no, I do not want to elaborate on my answers out fear of reprisal</td>\n",
       "      <td>NaN</td>\n",
       "      <td>English</td>\n",
       "      <td>212</td>\n",
       "      <td>9</td>\n",
       "      <td>SAW</td>\n",
       "      <td>UCSD</td>\n",
       "      <td>451417</td>\n",
       "      <td>EDI</td>\n",
       "      <td>If you would like to elaborate on any of your answers to the conduct and behavioral questions ab...</td>\n",
       "      <td>Verbatim</td>\n",
       "      <td>117.0</td>\n",
       "      <td>Conduct &amp; Behavioral - Comments</td>\n",
       "      <td>EDI</td>\n",
       "      <td>None</td>\n",
       "      <td>None</td>\n",
       "      <td>None</td>\n",
       "      <td>1</td>\n",
       "      <td>17.0</td>\n",
       "      <td>3729</td>\n",
       "      <td>999999.0</td>\n",
       "      <td>UC San Diego</td>\n",
       "      <td>50000.0</td>\n",
       "      <td>VC-RESOURCE MANAGEMENT &amp; PLANNING</td>\n",
       "      <td>802.0</td>\n",
       "      <td>FACILITIES MANAGEMENT</td>\n",
       "      <td>17.0</td>\n",
       "      <td>FLEET SERVICES</td>\n",
       "      <td>NaN</td>\n",
       "      <td>NaN</td>\n",
       "      <td>NaN</td>\n",
       "      <td>NaN</td>\n",
       "      <td>NaN</td>\n",
       "      <td>NaN</td>\n",
       "      <td>NaN</td>\n",
       "      <td>NaN</td>\n",
       "      <td>no, I do not want to elaborate on my answers out fear of reprisal</td>\n",
       "      <td>0.004954</td>\n",
       "      <td>0.005993</td>\n",
       "      <td>0.000977</td>\n",
       "      <td>0.000304</td>\n",
       "      <td>0.008047</td>\n",
       "      <td>0.004383</td>\n",
       "      <td>0.005733</td>\n",
       "      <td>0.040012</td>\n",
       "      <td>0.066766</td>\n",
       "      <td>0.00265</td>\n",
       "      <td>0.053669</td>\n",
       "      <td>0.005162</td>\n",
       "      <td>0.00452</td>\n",
       "      <td>0.004568</td>\n",
       "      <td>0.490196</td>\n",
       "      <td>0.020605</td>\n",
       "      <td>0.000227</td>\n",
       "      <td>0.000874</td>\n",
       "      <td>0.001234</td>\n",
       "      <td>0.010666</td>\n",
       "      <td>0.003131</td>\n",
       "      <td>0.000303</td>\n",
       "      <td>0.009225</td>\n",
       "      <td>0.00658</td>\n",
       "      <td>0.020697</td>\n",
       "      <td>0</td>\n",
       "      <td>0</td>\n",
       "      <td>0</td>\n",
       "      <td>0</td>\n",
       "      <td>0</td>\n",
       "      <td>0</td>\n",
       "      <td>0</td>\n",
       "      <td>0</td>\n",
       "      <td>0</td>\n",
       "      <td>0</td>\n",
       "      <td>0</td>\n",
       "      <td>0</td>\n",
       "      <td>0</td>\n",
       "      <td>0</td>\n",
       "      <td>1</td>\n",
       "      <td>0</td>\n",
       "      <td>0</td>\n",
       "      <td>0</td>\n",
       "      <td>0</td>\n",
       "      <td>0</td>\n",
       "      <td>0</td>\n",
       "      <td>0</td>\n",
       "      <td>0</td>\n",
       "      <td>0</td>\n",
       "      <td>0</td>\n",
       "      <td>0.159357</td>\n",
       "      <td>0.939489</td>\n",
       "      <td>0.521531</td>\n",
       "      <td>0.597179</td>\n",
       "      <td>0.383929</td>\n",
       "      <td>0.679538</td>\n",
       "      <td>0.42</td>\n",
       "      <td>0.42</td>\n",
       "      <td>0.521531</td>\n",
       "      <td>0.2</td>\n",
       "      <td>0.523552</td>\n",
       "      <td>0.13</td>\n",
       "      <td>0.612663</td>\n",
       "    </tr>\n",
       "  </tbody>\n",
       "</table>\n",
       "</div>"
      ],
      "text/plain": [
       "       Id  QuestionAnsID                                                         AnswerText AnswerText_NonEnglish Language  SurveyID  SurveyTypeID BenchmarkSurveyType ClientId   RspID QuestionCategoryAbbr                                                                                         QuestionText QuestionClass  QuestionCategoryID               QuestionReportAbbr QuestionCategoryLabel BenchmarkLevel1 BenchmarkLevel2 BenchmarkLevel3 ClientBenchmarkLevel  GroupCode GroupID  GroupLevel1Code GroupLevel1Name  GroupLevel2Code                    GroupLevel2Name  GroupLevel3Code        GroupLevel3Name  GroupLevel4Code GroupLevel4Name  GroupLevel5Code GroupLevel5Name  GroupLevel6Code GroupLevel6Name  GroupLevel7Code GroupLevel7Name  GroupLevel8Code GroupLevel8Name                                                        answer_text  prob_adequate_staffing  prob_advancement_and_training_opportunities  prob_appropriate_stress_work_assigned_equitably  prob_benefits  \\\n",
       "0  589996           2576  no, I do not want to elaborate on my answers out fear of reprisal                   NaN  English       212             9                 SAW     UCSD  451417                  EDI  If you would like to elaborate on any of your answers to the conduct and behavioral questions ab...      Verbatim               117.0  Conduct & Behavioral - Comments                   EDI            None            None            None                    1       17.0    3729         999999.0    UC San Diego          50000.0  VC-RESOURCE MANAGEMENT & PLANNING            802.0  FACILITIES MANAGEMENT             17.0  FLEET SERVICES              NaN             NaN              NaN             NaN              NaN             NaN              NaN             NaN  no, I do not want to elaborate on my answers out fear of reprisal                0.004954                                     0.005993                                         0.000977       0.000304   \n",
       "\n",
       "   prob_better_ways_recognized_participate_in_decisions  prob_career_advancement  prob_committed_to_diversity  prob_communicates_essential_information  prob_ethical_conduct_perform_responsibilities_spirit_of_cooperation  prob_evaluated_fairly  prob_experienced_discrimination  prob_facilities_workspace_safety  prob_faculty_value_contributions  prob_favoritism_cliques  prob_fear_of_retaliation_negative_consequences  prob_feel_valued_by_department  prob_flexibility_work_life_balance  prob_good_use_of_skills  prob_have_necessary_tools  prob_have_voice_within_my_institution_valued_member_of_my_institution  prob_internal_processes_effective  prob_parking_transportation  prob_salary_pay  prob_satisfied_with_diversity_progams  prob_supervisor_effectiveness_resolves_staff_issues  pred_adequate_staffing  pred_advancement_and_training_opportunities  pred_appropriate_stress_work_assigned_equitably  pred_benefits  pred_better_ways_recognized_participate_in_decisions  pred_career_advancement  \\\n",
       "0                                              0.008047                 0.004383                     0.005733                                 0.040012                                                             0.066766                0.00265                         0.053669                          0.005162                           0.00452                 0.004568                                        0.490196                        0.020605                            0.000227                 0.000874                   0.001234                                                               0.010666                           0.003131                     0.000303         0.009225                                0.00658                                             0.020697                       0                                            0                                                0              0                                                     0                        0   \n",
       "\n",
       "   pred_committed_to_diversity  pred_communicates_essential_information  pred_ethical_conduct_perform_responsibilities_spirit_of_cooperation  pred_evaluated_fairly  pred_experienced_discrimination  pred_facilities_workspace_safety  pred_faculty_value_contributions  pred_favoritism_cliques  pred_fear_of_retaliation_negative_consequences  pred_feel_valued_by_department  pred_flexibility_work_life_balance  pred_good_use_of_skills  pred_have_necessary_tools  pred_have_voice_within_my_institution_valued_member_of_my_institution  pred_internal_processes_effective  pred_parking_transportation  pred_salary_pay  pred_satisfied_with_diversity_progams  pred_supervisor_effectiveness_resolves_staff_issues  valid_loss  accuracy_multi  fbeta_score  precision_score  recall_score  roc_auc_score  opt_th  f05_threshold  f05_score  f1_threshold  f1_score  f2_threshold  f2_score  \n",
       "0                            0                                        0                                                                    0                      0                                0                                 0                                 0                        0                                               1                               0                                   0                        0                          0                                                                      0                                  0                            0                0                                      0                                                    0    0.159357        0.939489     0.521531         0.597179      0.383929       0.679538    0.42           0.42   0.521531           0.2  0.523552          0.13  0.612663  "
      ]
     },
     "execution_count": 22,
     "metadata": {},
     "output_type": "execute_result"
    }
   ],
   "source": [
    "inf_df.head(1)"
   ]
  },
  {
   "cell_type": "code",
   "execution_count": 24,
   "metadata": {},
   "outputs": [],
   "source": [
    "prob_theme_cols = filter_col = [col for col in inf_df if col.startswith('prob_')]\n",
    "# prob_theme_cols"
   ]
  },
  {
   "cell_type": "code",
   "execution_count": 25,
   "metadata": {},
   "outputs": [
    {
     "data": {
      "text/plain": [
       "101125"
      ]
     },
     "execution_count": 25,
     "metadata": {},
     "output_type": "execute_result"
    }
   ],
   "source": [
    "inf_df = inf_df.melt(id_vars=list(TASK_LM_DTYPES.keys()), \n",
    "                     value_vars=prob_theme_cols, \n",
    "                     var_name='theme', \n",
    "                     value_name='theme_prob')\n",
    "len(inf_df)"
   ]
  },
  {
   "cell_type": "code",
   "execution_count": 26,
   "metadata": {},
   "outputs": [
    {
     "data": {
      "text/plain": [
       "3649"
      ]
     },
     "execution_count": 26,
     "metadata": {},
     "output_type": "execute_result"
    }
   ],
   "source": [
    "inf_df = inf_df.loc[inf_df.theme_prob >= 0.42000000000000004]\n",
    "len(inf_df)"
   ]
  },
  {
   "cell_type": "code",
   "execution_count": 27,
   "metadata": {},
   "outputs": [],
   "source": [
    "inf_df['url_friendly_theme'] = inf_df.theme.apply(\n",
    "    lambda s: re.sub(\"(.*?)_([a-zA-Z])\",\"\\g<1> \\g<2>\",s).replace('prob', '').strip().title().replace(' ',''))\n",
    "\n",
    "inf_df['theme'] = inf_df.url_friendly_theme.apply(lambda s: re.sub(\"([a-z])([A-Z])\",\"\\g<1> \\g<2>\",s))\n",
    "inf_df['answer_text'] = inf_df['AnswerText']"
   ]
  },
  {
   "cell_type": "code",
   "execution_count": 28,
   "metadata": {},
   "outputs": [],
   "source": [
    "inf_df.reset_index(inplace=True)"
   ]
  },
  {
   "cell_type": "code",
   "execution_count": 29,
   "metadata": {},
   "outputs": [
    {
     "data": {
      "text/html": [
       "<div>\n",
       "<style scoped>\n",
       "    .dataframe tbody tr th:only-of-type {\n",
       "        vertical-align: middle;\n",
       "    }\n",
       "\n",
       "    .dataframe tbody tr th {\n",
       "        vertical-align: top;\n",
       "    }\n",
       "\n",
       "    .dataframe thead th {\n",
       "        text-align: right;\n",
       "    }\n",
       "</style>\n",
       "<table border=\"1\" class=\"dataframe\">\n",
       "  <thead>\n",
       "    <tr style=\"text-align: right;\">\n",
       "      <th></th>\n",
       "      <th>index</th>\n",
       "      <th>Id</th>\n",
       "      <th>QuestionAnsID</th>\n",
       "      <th>AnswerText</th>\n",
       "      <th>AnswerText_NonEnglish</th>\n",
       "      <th>Language</th>\n",
       "      <th>SurveyID</th>\n",
       "      <th>SurveyTypeID</th>\n",
       "      <th>BenchmarkSurveyType</th>\n",
       "      <th>ClientId</th>\n",
       "      <th>RspID</th>\n",
       "      <th>QuestionCategoryAbbr</th>\n",
       "      <th>QuestionText</th>\n",
       "      <th>QuestionClass</th>\n",
       "      <th>QuestionCategoryID</th>\n",
       "      <th>QuestionReportAbbr</th>\n",
       "      <th>QuestionCategoryLabel</th>\n",
       "      <th>BenchmarkLevel1</th>\n",
       "      <th>BenchmarkLevel2</th>\n",
       "      <th>BenchmarkLevel3</th>\n",
       "      <th>ClientBenchmarkLevel</th>\n",
       "      <th>GroupCode</th>\n",
       "      <th>GroupID</th>\n",
       "      <th>GroupLevel1Code</th>\n",
       "      <th>GroupLevel1Name</th>\n",
       "      <th>GroupLevel2Code</th>\n",
       "      <th>GroupLevel2Name</th>\n",
       "      <th>GroupLevel3Code</th>\n",
       "      <th>GroupLevel3Name</th>\n",
       "      <th>GroupLevel4Code</th>\n",
       "      <th>GroupLevel4Name</th>\n",
       "      <th>GroupLevel5Code</th>\n",
       "      <th>GroupLevel5Name</th>\n",
       "      <th>GroupLevel6Code</th>\n",
       "      <th>GroupLevel6Name</th>\n",
       "      <th>GroupLevel7Code</th>\n",
       "      <th>GroupLevel7Name</th>\n",
       "      <th>GroupLevel8Code</th>\n",
       "      <th>GroupLevel8Name</th>\n",
       "      <th>theme</th>\n",
       "      <th>theme_prob</th>\n",
       "      <th>url_friendly_theme</th>\n",
       "      <th>answer_text</th>\n",
       "    </tr>\n",
       "  </thead>\n",
       "  <tbody>\n",
       "    <tr>\n",
       "      <th>0</th>\n",
       "      <td>6</td>\n",
       "      <td>589177</td>\n",
       "      <td>1877</td>\n",
       "      <td>Inadequate staff within the walk in clinic as referred to as urgent care (where only RNs are ACL...</td>\n",
       "      <td>NaN</td>\n",
       "      <td>English</td>\n",
       "      <td>212</td>\n",
       "      <td>9</td>\n",
       "      <td>SAW</td>\n",
       "      <td>UCSD</td>\n",
       "      <td>450625</td>\n",
       "      <td>SAT</td>\n",
       "      <td>If you would like to elaborate on your responses above, or if you have any additional feedback r...</td>\n",
       "      <td>Verbatim</td>\n",
       "      <td>114.0</td>\n",
       "      <td>Comments re Work Environment at UCSD</td>\n",
       "      <td>Satisfaction with UC San Diego</td>\n",
       "      <td>None</td>\n",
       "      <td>None</td>\n",
       "      <td>None</td>\n",
       "      <td>1</td>\n",
       "      <td>31302.0</td>\n",
       "      <td>3555</td>\n",
       "      <td>999999.0</td>\n",
       "      <td>UC San Diego</td>\n",
       "      <td>90000.0</td>\n",
       "      <td>VICE CHANCELLOR HEALTH SCIENCES</td>\n",
       "      <td>90563.0</td>\n",
       "      <td>STUDENT HEALTH &amp; WELL BEING</td>\n",
       "      <td>31302.0</td>\n",
       "      <td>STUDENT HEALTH SERVICES</td>\n",
       "      <td>NaN</td>\n",
       "      <td>NaN</td>\n",
       "      <td>NaN</td>\n",
       "      <td>NaN</td>\n",
       "      <td>NaN</td>\n",
       "      <td>NaN</td>\n",
       "      <td>NaN</td>\n",
       "      <td>NaN</td>\n",
       "      <td>Prob Adequate Staffing</td>\n",
       "      <td>0.919443</td>\n",
       "      <td>ProbAdequateStaffing</td>\n",
       "      <td>Inadequate staff within the walk in clinic as referred to as urgent care (where only RNs are ACL...</td>\n",
       "    </tr>\n",
       "    <tr>\n",
       "      <th>1</th>\n",
       "      <td>17</td>\n",
       "      <td>588649</td>\n",
       "      <td>1877</td>\n",
       "      <td>There have been a lot of retirements lately, but the department hasn't replaced any of these mis...</td>\n",
       "      <td>NaN</td>\n",
       "      <td>English</td>\n",
       "      <td>212</td>\n",
       "      <td>9</td>\n",
       "      <td>SAW</td>\n",
       "      <td>UCSD</td>\n",
       "      <td>448111</td>\n",
       "      <td>SAT</td>\n",
       "      <td>If you would like to elaborate on your responses above, or if you have any additional feedback r...</td>\n",
       "      <td>Verbatim</td>\n",
       "      <td>114.0</td>\n",
       "      <td>Comments re Work Environment at UCSD</td>\n",
       "      <td>Satisfaction with UC San Diego</td>\n",
       "      <td>None</td>\n",
       "      <td>None</td>\n",
       "      <td>None</td>\n",
       "      <td>1</td>\n",
       "      <td>700006.0</td>\n",
       "      <td>3833</td>\n",
       "      <td>999999.0</td>\n",
       "      <td>UC San Diego</td>\n",
       "      <td>700000.0</td>\n",
       "      <td>VC-ADVANCEMENT</td>\n",
       "      <td>700006.0</td>\n",
       "      <td>UCSD FOUNDATION &amp; ADVANCEMENT SERVICES</td>\n",
       "      <td>NaN</td>\n",
       "      <td>NaN</td>\n",
       "      <td>NaN</td>\n",
       "      <td>NaN</td>\n",
       "      <td>NaN</td>\n",
       "      <td>NaN</td>\n",
       "      <td>NaN</td>\n",
       "      <td>NaN</td>\n",
       "      <td>NaN</td>\n",
       "      <td>NaN</td>\n",
       "      <td>Prob Adequate Staffing</td>\n",
       "      <td>0.756393</td>\n",
       "      <td>ProbAdequateStaffing</td>\n",
       "      <td>There have been a lot of retirements lately, but the department hasn't replaced any of these mis...</td>\n",
       "    </tr>\n",
       "    <tr>\n",
       "      <th>2</th>\n",
       "      <td>43</td>\n",
       "      <td>588482</td>\n",
       "      <td>1877</td>\n",
       "      <td>WIthin my immediate team unit, I enjoy working with my supervisor and colleagues. \\r\\n\\r\\nOutsid...</td>\n",
       "      <td>NaN</td>\n",
       "      <td>English</td>\n",
       "      <td>212</td>\n",
       "      <td>9</td>\n",
       "      <td>SAW</td>\n",
       "      <td>UCSD</td>\n",
       "      <td>447391</td>\n",
       "      <td>SAT</td>\n",
       "      <td>If you would like to elaborate on your responses above, or if you have any additional feedback r...</td>\n",
       "      <td>Verbatim</td>\n",
       "      <td>114.0</td>\n",
       "      <td>Comments re Work Environment at UCSD</td>\n",
       "      <td>Satisfaction with UC San Diego</td>\n",
       "      <td>None</td>\n",
       "      <td>None</td>\n",
       "      <td>None</td>\n",
       "      <td>1</td>\n",
       "      <td>11000.0</td>\n",
       "      <td>3470</td>\n",
       "      <td>999999.0</td>\n",
       "      <td>UC San Diego</td>\n",
       "      <td>10000.0</td>\n",
       "      <td>ACADEMIC AFFAIRS</td>\n",
       "      <td>10011.0</td>\n",
       "      <td>COLLEGES</td>\n",
       "      <td>11000.0</td>\n",
       "      <td>MUIR COLLEGE</td>\n",
       "      <td>NaN</td>\n",
       "      <td>NaN</td>\n",
       "      <td>NaN</td>\n",
       "      <td>NaN</td>\n",
       "      <td>NaN</td>\n",
       "      <td>NaN</td>\n",
       "      <td>NaN</td>\n",
       "      <td>NaN</td>\n",
       "      <td>Prob Adequate Staffing</td>\n",
       "      <td>0.665860</td>\n",
       "      <td>ProbAdequateStaffing</td>\n",
       "      <td>WIthin my immediate team unit, I enjoy working with my supervisor and colleagues. \\r\\n\\r\\nOutsid...</td>\n",
       "    </tr>\n",
       "    <tr>\n",
       "      <th>3</th>\n",
       "      <td>49</td>\n",
       "      <td>590654</td>\n",
       "      <td>9439</td>\n",
       "      <td>The lack of professionalism from different departments that are supposed to be working with you ...</td>\n",
       "      <td>NaN</td>\n",
       "      <td>English</td>\n",
       "      <td>212</td>\n",
       "      <td>9</td>\n",
       "      <td>SAW</td>\n",
       "      <td>UCSD</td>\n",
       "      <td>451222</td>\n",
       "      <td>None</td>\n",
       "      <td>The Standing Committee on Service and People Oriented Culture (SC-SPOC) is interested in learnin...</td>\n",
       "      <td>Verbatim</td>\n",
       "      <td>201.0</td>\n",
       "      <td>IdeaWave Comments</td>\n",
       "      <td>Other</td>\n",
       "      <td>None</td>\n",
       "      <td>None</td>\n",
       "      <td>None</td>\n",
       "      <td>1</td>\n",
       "      <td>90860.0</td>\n",
       "      <td>3659</td>\n",
       "      <td>999999.0</td>\n",
       "      <td>UC San Diego</td>\n",
       "      <td>90000.0</td>\n",
       "      <td>VICE CHANCELLOR HEALTH SCIENCES</td>\n",
       "      <td>93000.0</td>\n",
       "      <td>SCHOOL OF MEDICINE</td>\n",
       "      <td>90800.0</td>\n",
       "      <td>MEDICINE</td>\n",
       "      <td>90860.0</td>\n",
       "      <td>CARDIOLOGY</td>\n",
       "      <td>NaN</td>\n",
       "      <td>NaN</td>\n",
       "      <td>NaN</td>\n",
       "      <td>NaN</td>\n",
       "      <td>NaN</td>\n",
       "      <td>NaN</td>\n",
       "      <td>Prob Adequate Staffing</td>\n",
       "      <td>0.579821</td>\n",
       "      <td>ProbAdequateStaffing</td>\n",
       "      <td>The lack of professionalism from different departments that are supposed to be working with you ...</td>\n",
       "    </tr>\n",
       "    <tr>\n",
       "      <th>4</th>\n",
       "      <td>52</td>\n",
       "      <td>588719</td>\n",
       "      <td>1877</td>\n",
       "      <td>ITS has significantly reduced effectiveness, productivity, and reliability, due, nearly in full,...</td>\n",
       "      <td>NaN</td>\n",
       "      <td>English</td>\n",
       "      <td>212</td>\n",
       "      <td>9</td>\n",
       "      <td>SAW</td>\n",
       "      <td>UCSD</td>\n",
       "      <td>448383</td>\n",
       "      <td>SAT</td>\n",
       "      <td>If you would like to elaborate on your responses above, or if you have any additional feedback r...</td>\n",
       "      <td>Verbatim</td>\n",
       "      <td>114.0</td>\n",
       "      <td>Comments re Work Environment at UCSD</td>\n",
       "      <td>Satisfaction with UC San Diego</td>\n",
       "      <td>None</td>\n",
       "      <td>None</td>\n",
       "      <td>None</td>\n",
       "      <td>1</td>\n",
       "      <td>171.0</td>\n",
       "      <td>3402</td>\n",
       "      <td>999999.0</td>\n",
       "      <td>UC San Diego</td>\n",
       "      <td>800.0</td>\n",
       "      <td>VICE CHANCELLOR CHIEF FINANCIAL OFFICER</td>\n",
       "      <td>808.0</td>\n",
       "      <td>INFORMATION TECHNOLOGY SERVICES</td>\n",
       "      <td>132.0</td>\n",
       "      <td>ARCHITECTURE &amp; INFRASTRUCTURE</td>\n",
       "      <td>171.0</td>\n",
       "      <td>DATACOM/NETWORK ARCHITECTS/NETWORK APPS</td>\n",
       "      <td>NaN</td>\n",
       "      <td>NaN</td>\n",
       "      <td>NaN</td>\n",
       "      <td>NaN</td>\n",
       "      <td>NaN</td>\n",
       "      <td>NaN</td>\n",
       "      <td>Prob Adequate Staffing</td>\n",
       "      <td>0.436787</td>\n",
       "      <td>ProbAdequateStaffing</td>\n",
       "      <td>ITS has significantly reduced effectiveness, productivity, and reliability, due, nearly in full,...</td>\n",
       "    </tr>\n",
       "  </tbody>\n",
       "</table>\n",
       "</div>"
      ],
      "text/plain": [
       "   index      Id  QuestionAnsID                                                                                           AnswerText AnswerText_NonEnglish Language  SurveyID  SurveyTypeID BenchmarkSurveyType ClientId   RspID QuestionCategoryAbbr                                                                                         QuestionText QuestionClass  QuestionCategoryID                    QuestionReportAbbr           QuestionCategoryLabel BenchmarkLevel1 BenchmarkLevel2 BenchmarkLevel3 ClientBenchmarkLevel  GroupCode GroupID  GroupLevel1Code GroupLevel1Name  GroupLevel2Code                          GroupLevel2Name  GroupLevel3Code                         GroupLevel3Name  GroupLevel4Code                GroupLevel4Name  GroupLevel5Code                          GroupLevel5Name  GroupLevel6Code GroupLevel6Name  GroupLevel7Code GroupLevel7Name  GroupLevel8Code GroupLevel8Name                   theme  theme_prob    url_friendly_theme  \\\n",
       "0      6  589177           1877  Inadequate staff within the walk in clinic as referred to as urgent care (where only RNs are ACL...                   NaN  English       212             9                 SAW     UCSD  450625                  SAT  If you would like to elaborate on your responses above, or if you have any additional feedback r...      Verbatim               114.0  Comments re Work Environment at UCSD  Satisfaction with UC San Diego            None            None            None                    1    31302.0    3555         999999.0    UC San Diego          90000.0          VICE CHANCELLOR HEALTH SCIENCES          90563.0             STUDENT HEALTH & WELL BEING          31302.0        STUDENT HEALTH SERVICES              NaN                                      NaN              NaN             NaN              NaN             NaN              NaN             NaN  Prob Adequate Staffing    0.919443  ProbAdequateStaffing   \n",
       "1     17  588649           1877  There have been a lot of retirements lately, but the department hasn't replaced any of these mis...                   NaN  English       212             9                 SAW     UCSD  448111                  SAT  If you would like to elaborate on your responses above, or if you have any additional feedback r...      Verbatim               114.0  Comments re Work Environment at UCSD  Satisfaction with UC San Diego            None            None            None                    1   700006.0    3833         999999.0    UC San Diego         700000.0                           VC-ADVANCEMENT         700006.0  UCSD FOUNDATION & ADVANCEMENT SERVICES              NaN                            NaN              NaN                                      NaN              NaN             NaN              NaN             NaN              NaN             NaN  Prob Adequate Staffing    0.756393  ProbAdequateStaffing   \n",
       "2     43  588482           1877  WIthin my immediate team unit, I enjoy working with my supervisor and colleagues. \\r\\n\\r\\nOutsid...                   NaN  English       212             9                 SAW     UCSD  447391                  SAT  If you would like to elaborate on your responses above, or if you have any additional feedback r...      Verbatim               114.0  Comments re Work Environment at UCSD  Satisfaction with UC San Diego            None            None            None                    1    11000.0    3470         999999.0    UC San Diego          10000.0                         ACADEMIC AFFAIRS          10011.0                                COLLEGES          11000.0                   MUIR COLLEGE              NaN                                      NaN              NaN             NaN              NaN             NaN              NaN             NaN  Prob Adequate Staffing    0.665860  ProbAdequateStaffing   \n",
       "3     49  590654           9439  The lack of professionalism from different departments that are supposed to be working with you ...                   NaN  English       212             9                 SAW     UCSD  451222                 None  The Standing Committee on Service and People Oriented Culture (SC-SPOC) is interested in learnin...      Verbatim               201.0                     IdeaWave Comments                           Other            None            None            None                    1    90860.0    3659         999999.0    UC San Diego          90000.0          VICE CHANCELLOR HEALTH SCIENCES          93000.0                      SCHOOL OF MEDICINE          90800.0                       MEDICINE          90860.0                               CARDIOLOGY              NaN             NaN              NaN             NaN              NaN             NaN  Prob Adequate Staffing    0.579821  ProbAdequateStaffing   \n",
       "4     52  588719           1877  ITS has significantly reduced effectiveness, productivity, and reliability, due, nearly in full,...                   NaN  English       212             9                 SAW     UCSD  448383                  SAT  If you would like to elaborate on your responses above, or if you have any additional feedback r...      Verbatim               114.0  Comments re Work Environment at UCSD  Satisfaction with UC San Diego            None            None            None                    1      171.0    3402         999999.0    UC San Diego            800.0  VICE CHANCELLOR CHIEF FINANCIAL OFFICER            808.0         INFORMATION TECHNOLOGY SERVICES            132.0  ARCHITECTURE & INFRASTRUCTURE            171.0  DATACOM/NETWORK ARCHITECTS/NETWORK APPS              NaN             NaN              NaN             NaN              NaN             NaN  Prob Adequate Staffing    0.436787  ProbAdequateStaffing   \n",
       "\n",
       "                                                                                           answer_text  \n",
       "0  Inadequate staff within the walk in clinic as referred to as urgent care (where only RNs are ACL...  \n",
       "1  There have been a lot of retirements lately, but the department hasn't replaced any of these mis...  \n",
       "2  WIthin my immediate team unit, I enjoy working with my supervisor and colleagues. \\r\\n\\r\\nOutsid...  \n",
       "3  The lack of professionalism from different departments that are supposed to be working with you ...  \n",
       "4  ITS has significantly reduced effectiveness, productivity, and reliability, due, nearly in full,...  "
      ]
     },
     "execution_count": 29,
     "metadata": {},
     "output_type": "execute_result"
    }
   ],
   "source": [
    "inf_df.head()"
   ]
  },
  {
   "cell_type": "code",
   "execution_count": 33,
   "metadata": {},
   "outputs": [],
   "source": [
    "#export\n",
    "def build_meta_inf_df(themes_df, theme_prob_threshold= 0.5, fixed_cols=list(TASK_LM_DTYPES.keys())):\n",
    "    inf_df = themes_df.copy()\n",
    "    \n",
    "    prob_theme_cols = filter_col = [col for col in inf_df if col.startswith('prob_')]\n",
    "    \n",
    "    inf_df = inf_df.melt(id_vars=fixed_cols, value_vars=prob_theme_cols, var_name='theme', value_name='theme_prob')\n",
    "    inf_df = inf_df.loc[inf_df.theme_prob >= theme_prob_threshold]\n",
    "    \n",
    "    inf_df['url_friendly_theme'] = inf_df.theme.apply(\n",
    "        lambda s: re.sub(\"(.*?)_([a-zA-Z])\",\"\\g<1> \\g<2>\",s).replace('prob', '').strip().title().replace(' ',''))\n",
    "    \n",
    "    inf_df['theme'] = inf_df.url_friendly_theme.apply(lambda s: re.sub(\"([a-z])([A-Z])\",\"\\g<1> \\g<2>\",s))\n",
    "\n",
    "    inf_df.reset_index(inplace=True)\n",
    "    return inf_df"
   ]
  },
  {
   "cell_type": "code",
   "execution_count": 41,
   "metadata": {
    "scrolled": true
   },
   "outputs": [
    {
     "name": "stdout",
     "output_type": "stream",
     "text": [
      "cuda:1\n",
      "0\n",
      "(3649, 56) torch.Size([3649, 1]) torch.Size([3649, 2]) 2\n"
     ]
    }
   ],
   "source": [
    "device = torch.device('cuda:1') if torch.cuda.is_available() else torch.device('cpu')\n",
    "print(device)\n",
    "\n",
    "preds_df, inf_probs_sent, inf_probs_is_example, inf_labels = get_standard_theme_meta_preds(inf_df, device=device)\n",
    "print(preds_df.shape, inf_probs_sent.shape, inf_probs_is_example.shape, len(inf_labels))"
   ]
  },
  {
   "cell_type": "code",
   "execution_count": 42,
   "metadata": {},
   "outputs": [
    {
     "data": {
      "text/html": [
       "<div>\n",
       "<style scoped>\n",
       "    .dataframe tbody tr th:only-of-type {\n",
       "        vertical-align: middle;\n",
       "    }\n",
       "\n",
       "    .dataframe tbody tr th {\n",
       "        vertical-align: top;\n",
       "    }\n",
       "\n",
       "    .dataframe thead th {\n",
       "        text-align: right;\n",
       "    }\n",
       "</style>\n",
       "<table border=\"1\" class=\"dataframe\">\n",
       "  <thead>\n",
       "    <tr style=\"text-align: right;\">\n",
       "      <th></th>\n",
       "      <th>index</th>\n",
       "      <th>Id</th>\n",
       "      <th>QuestionAnsID</th>\n",
       "      <th>AnswerText</th>\n",
       "      <th>AnswerText_NonEnglish</th>\n",
       "      <th>Language</th>\n",
       "      <th>SurveyID</th>\n",
       "      <th>SurveyTypeID</th>\n",
       "      <th>BenchmarkSurveyType</th>\n",
       "      <th>ClientId</th>\n",
       "      <th>RspID</th>\n",
       "      <th>QuestionCategoryAbbr</th>\n",
       "      <th>QuestionText</th>\n",
       "      <th>QuestionClass</th>\n",
       "      <th>QuestionCategoryID</th>\n",
       "      <th>QuestionReportAbbr</th>\n",
       "      <th>QuestionCategoryLabel</th>\n",
       "      <th>BenchmarkLevel1</th>\n",
       "      <th>BenchmarkLevel2</th>\n",
       "      <th>BenchmarkLevel3</th>\n",
       "      <th>ClientBenchmarkLevel</th>\n",
       "      <th>GroupCode</th>\n",
       "      <th>GroupID</th>\n",
       "      <th>GroupLevel1Code</th>\n",
       "      <th>GroupLevel1Name</th>\n",
       "      <th>GroupLevel2Code</th>\n",
       "      <th>GroupLevel2Name</th>\n",
       "      <th>GroupLevel3Code</th>\n",
       "      <th>GroupLevel3Name</th>\n",
       "      <th>GroupLevel4Code</th>\n",
       "      <th>GroupLevel4Name</th>\n",
       "      <th>GroupLevel5Code</th>\n",
       "      <th>GroupLevel5Name</th>\n",
       "      <th>GroupLevel6Code</th>\n",
       "      <th>GroupLevel6Name</th>\n",
       "      <th>GroupLevel7Code</th>\n",
       "      <th>GroupLevel7Name</th>\n",
       "      <th>GroupLevel8Code</th>\n",
       "      <th>GroupLevel8Name</th>\n",
       "      <th>theme</th>\n",
       "      <th>theme_pred</th>\n",
       "      <th>url_friendly_theme</th>\n",
       "      <th>answer_text</th>\n",
       "      <th>prob_avg_sentiment</th>\n",
       "      <th>prob_is_example</th>\n",
       "      <th>pred_is_example</th>\n",
       "      <th>valid_loss</th>\n",
       "      <th>sentiment_mse</th>\n",
       "      <th>sentiment_mae</th>\n",
       "      <th>sentiment_rmse</th>\n",
       "      <th>is_example_f05_threshold</th>\n",
       "      <th>is_example_f05_score</th>\n",
       "      <th>is_example_f1_threshold</th>\n",
       "      <th>is_example_f1_score</th>\n",
       "      <th>is_example_f2_threshold</th>\n",
       "      <th>is_example_f2_score</th>\n",
       "    </tr>\n",
       "  </thead>\n",
       "  <tbody>\n",
       "    <tr>\n",
       "      <th>0</th>\n",
       "      <td>6</td>\n",
       "      <td>589177</td>\n",
       "      <td>1877</td>\n",
       "      <td>Inadequate staff within the walk in clinic as referred to as urgent care (where only RNs are ACL...</td>\n",
       "      <td>NaN</td>\n",
       "      <td>English</td>\n",
       "      <td>212</td>\n",
       "      <td>9</td>\n",
       "      <td>SAW</td>\n",
       "      <td>UCSD</td>\n",
       "      <td>450625</td>\n",
       "      <td>SAT</td>\n",
       "      <td>If you would like to elaborate on your responses above, or if you have any additional feedback r...</td>\n",
       "      <td>Verbatim</td>\n",
       "      <td>114.0</td>\n",
       "      <td>Comments re Work Environment at UCSD</td>\n",
       "      <td>Satisfaction with UC San Diego</td>\n",
       "      <td>None</td>\n",
       "      <td>None</td>\n",
       "      <td>None</td>\n",
       "      <td>1</td>\n",
       "      <td>31302.0</td>\n",
       "      <td>3555</td>\n",
       "      <td>999999.0</td>\n",
       "      <td>UC San Diego</td>\n",
       "      <td>90000.0</td>\n",
       "      <td>VICE CHANCELLOR HEALTH SCIENCES</td>\n",
       "      <td>90563.0</td>\n",
       "      <td>STUDENT HEALTH &amp; WELL BEING</td>\n",
       "      <td>31302.0</td>\n",
       "      <td>STUDENT HEALTH SERVICES</td>\n",
       "      <td>NaN</td>\n",
       "      <td>NaN</td>\n",
       "      <td>NaN</td>\n",
       "      <td>NaN</td>\n",
       "      <td>NaN</td>\n",
       "      <td>NaN</td>\n",
       "      <td>NaN</td>\n",
       "      <td>NaN</td>\n",
       "      <td>Adequate Staffing</td>\n",
       "      <td>1</td>\n",
       "      <td>AdequateStaffing</td>\n",
       "      <td>Inadequate staff within the walk in clinic as referred to as urgent care (where only RNs are ACL...</td>\n",
       "      <td>2.100516</td>\n",
       "      <td>0.004653</td>\n",
       "      <td>0</td>\n",
       "      <td>0.450003</td>\n",
       "      <td>0.445856</td>\n",
       "      <td>0.501931</td>\n",
       "      <td>0.667725</td>\n",
       "      <td>0.05</td>\n",
       "      <td>0.008369</td>\n",
       "      <td>0.05</td>\n",
       "      <td>0.013323</td>\n",
       "      <td>0.05</td>\n",
       "      <td>0.032656</td>\n",
       "    </tr>\n",
       "    <tr>\n",
       "      <th>1</th>\n",
       "      <td>17</td>\n",
       "      <td>588649</td>\n",
       "      <td>1877</td>\n",
       "      <td>There have been a lot of retirements lately, but the department hasn't replaced any of these mis...</td>\n",
       "      <td>NaN</td>\n",
       "      <td>English</td>\n",
       "      <td>212</td>\n",
       "      <td>9</td>\n",
       "      <td>SAW</td>\n",
       "      <td>UCSD</td>\n",
       "      <td>448111</td>\n",
       "      <td>SAT</td>\n",
       "      <td>If you would like to elaborate on your responses above, or if you have any additional feedback r...</td>\n",
       "      <td>Verbatim</td>\n",
       "      <td>114.0</td>\n",
       "      <td>Comments re Work Environment at UCSD</td>\n",
       "      <td>Satisfaction with UC San Diego</td>\n",
       "      <td>None</td>\n",
       "      <td>None</td>\n",
       "      <td>None</td>\n",
       "      <td>1</td>\n",
       "      <td>700006.0</td>\n",
       "      <td>3833</td>\n",
       "      <td>999999.0</td>\n",
       "      <td>UC San Diego</td>\n",
       "      <td>700000.0</td>\n",
       "      <td>VC-ADVANCEMENT</td>\n",
       "      <td>700006.0</td>\n",
       "      <td>UCSD FOUNDATION &amp; ADVANCEMENT SERVICES</td>\n",
       "      <td>NaN</td>\n",
       "      <td>NaN</td>\n",
       "      <td>NaN</td>\n",
       "      <td>NaN</td>\n",
       "      <td>NaN</td>\n",
       "      <td>NaN</td>\n",
       "      <td>NaN</td>\n",
       "      <td>NaN</td>\n",
       "      <td>NaN</td>\n",
       "      <td>NaN</td>\n",
       "      <td>Adequate Staffing</td>\n",
       "      <td>1</td>\n",
       "      <td>AdequateStaffing</td>\n",
       "      <td>There have been a lot of retirements lately, but the department hasn't replaced any of these mis...</td>\n",
       "      <td>2.021485</td>\n",
       "      <td>0.006528</td>\n",
       "      <td>0</td>\n",
       "      <td>0.450003</td>\n",
       "      <td>0.445856</td>\n",
       "      <td>0.501931</td>\n",
       "      <td>0.667725</td>\n",
       "      <td>0.05</td>\n",
       "      <td>0.008369</td>\n",
       "      <td>0.05</td>\n",
       "      <td>0.013323</td>\n",
       "      <td>0.05</td>\n",
       "      <td>0.032656</td>\n",
       "    </tr>\n",
       "    <tr>\n",
       "      <th>2</th>\n",
       "      <td>43</td>\n",
       "      <td>588482</td>\n",
       "      <td>1877</td>\n",
       "      <td>WIthin my immediate team unit, I enjoy working with my supervisor and colleagues. \\r\\n\\r\\nOutsid...</td>\n",
       "      <td>NaN</td>\n",
       "      <td>English</td>\n",
       "      <td>212</td>\n",
       "      <td>9</td>\n",
       "      <td>SAW</td>\n",
       "      <td>UCSD</td>\n",
       "      <td>447391</td>\n",
       "      <td>SAT</td>\n",
       "      <td>If you would like to elaborate on your responses above, or if you have any additional feedback r...</td>\n",
       "      <td>Verbatim</td>\n",
       "      <td>114.0</td>\n",
       "      <td>Comments re Work Environment at UCSD</td>\n",
       "      <td>Satisfaction with UC San Diego</td>\n",
       "      <td>None</td>\n",
       "      <td>None</td>\n",
       "      <td>None</td>\n",
       "      <td>1</td>\n",
       "      <td>11000.0</td>\n",
       "      <td>3470</td>\n",
       "      <td>999999.0</td>\n",
       "      <td>UC San Diego</td>\n",
       "      <td>10000.0</td>\n",
       "      <td>ACADEMIC AFFAIRS</td>\n",
       "      <td>10011.0</td>\n",
       "      <td>COLLEGES</td>\n",
       "      <td>11000.0</td>\n",
       "      <td>MUIR COLLEGE</td>\n",
       "      <td>NaN</td>\n",
       "      <td>NaN</td>\n",
       "      <td>NaN</td>\n",
       "      <td>NaN</td>\n",
       "      <td>NaN</td>\n",
       "      <td>NaN</td>\n",
       "      <td>NaN</td>\n",
       "      <td>NaN</td>\n",
       "      <td>Adequate Staffing</td>\n",
       "      <td>1</td>\n",
       "      <td>AdequateStaffing</td>\n",
       "      <td>WIthin my immediate team unit, I enjoy working with my supervisor and colleagues. \\r\\n\\r\\nOutsid...</td>\n",
       "      <td>2.242425</td>\n",
       "      <td>0.010107</td>\n",
       "      <td>0</td>\n",
       "      <td>0.450003</td>\n",
       "      <td>0.445856</td>\n",
       "      <td>0.501931</td>\n",
       "      <td>0.667725</td>\n",
       "      <td>0.05</td>\n",
       "      <td>0.008369</td>\n",
       "      <td>0.05</td>\n",
       "      <td>0.013323</td>\n",
       "      <td>0.05</td>\n",
       "      <td>0.032656</td>\n",
       "    </tr>\n",
       "    <tr>\n",
       "      <th>3</th>\n",
       "      <td>49</td>\n",
       "      <td>590654</td>\n",
       "      <td>9439</td>\n",
       "      <td>The lack of professionalism from different departments that are supposed to be working with you ...</td>\n",
       "      <td>NaN</td>\n",
       "      <td>English</td>\n",
       "      <td>212</td>\n",
       "      <td>9</td>\n",
       "      <td>SAW</td>\n",
       "      <td>UCSD</td>\n",
       "      <td>451222</td>\n",
       "      <td>None</td>\n",
       "      <td>The Standing Committee on Service and People Oriented Culture (SC-SPOC) is interested in learnin...</td>\n",
       "      <td>Verbatim</td>\n",
       "      <td>201.0</td>\n",
       "      <td>IdeaWave Comments</td>\n",
       "      <td>Other</td>\n",
       "      <td>None</td>\n",
       "      <td>None</td>\n",
       "      <td>None</td>\n",
       "      <td>1</td>\n",
       "      <td>90860.0</td>\n",
       "      <td>3659</td>\n",
       "      <td>999999.0</td>\n",
       "      <td>UC San Diego</td>\n",
       "      <td>90000.0</td>\n",
       "      <td>VICE CHANCELLOR HEALTH SCIENCES</td>\n",
       "      <td>93000.0</td>\n",
       "      <td>SCHOOL OF MEDICINE</td>\n",
       "      <td>90800.0</td>\n",
       "      <td>MEDICINE</td>\n",
       "      <td>90860.0</td>\n",
       "      <td>CARDIOLOGY</td>\n",
       "      <td>NaN</td>\n",
       "      <td>NaN</td>\n",
       "      <td>NaN</td>\n",
       "      <td>NaN</td>\n",
       "      <td>NaN</td>\n",
       "      <td>NaN</td>\n",
       "      <td>Adequate Staffing</td>\n",
       "      <td>1</td>\n",
       "      <td>AdequateStaffing</td>\n",
       "      <td>The lack of professionalism from different departments that are supposed to be working with you ...</td>\n",
       "      <td>2.035603</td>\n",
       "      <td>0.011802</td>\n",
       "      <td>0</td>\n",
       "      <td>0.450003</td>\n",
       "      <td>0.445856</td>\n",
       "      <td>0.501931</td>\n",
       "      <td>0.667725</td>\n",
       "      <td>0.05</td>\n",
       "      <td>0.008369</td>\n",
       "      <td>0.05</td>\n",
       "      <td>0.013323</td>\n",
       "      <td>0.05</td>\n",
       "      <td>0.032656</td>\n",
       "    </tr>\n",
       "    <tr>\n",
       "      <th>4</th>\n",
       "      <td>52</td>\n",
       "      <td>588719</td>\n",
       "      <td>1877</td>\n",
       "      <td>ITS has significantly reduced effectiveness, productivity, and reliability, due, nearly in full,...</td>\n",
       "      <td>NaN</td>\n",
       "      <td>English</td>\n",
       "      <td>212</td>\n",
       "      <td>9</td>\n",
       "      <td>SAW</td>\n",
       "      <td>UCSD</td>\n",
       "      <td>448383</td>\n",
       "      <td>SAT</td>\n",
       "      <td>If you would like to elaborate on your responses above, or if you have any additional feedback r...</td>\n",
       "      <td>Verbatim</td>\n",
       "      <td>114.0</td>\n",
       "      <td>Comments re Work Environment at UCSD</td>\n",
       "      <td>Satisfaction with UC San Diego</td>\n",
       "      <td>None</td>\n",
       "      <td>None</td>\n",
       "      <td>None</td>\n",
       "      <td>1</td>\n",
       "      <td>171.0</td>\n",
       "      <td>3402</td>\n",
       "      <td>999999.0</td>\n",
       "      <td>UC San Diego</td>\n",
       "      <td>800.0</td>\n",
       "      <td>VICE CHANCELLOR CHIEF FINANCIAL OFFICER</td>\n",
       "      <td>808.0</td>\n",
       "      <td>INFORMATION TECHNOLOGY SERVICES</td>\n",
       "      <td>132.0</td>\n",
       "      <td>ARCHITECTURE &amp; INFRASTRUCTURE</td>\n",
       "      <td>171.0</td>\n",
       "      <td>DATACOM/NETWORK ARCHITECTS/NETWORK APPS</td>\n",
       "      <td>NaN</td>\n",
       "      <td>NaN</td>\n",
       "      <td>NaN</td>\n",
       "      <td>NaN</td>\n",
       "      <td>NaN</td>\n",
       "      <td>NaN</td>\n",
       "      <td>Adequate Staffing</td>\n",
       "      <td>1</td>\n",
       "      <td>AdequateStaffing</td>\n",
       "      <td>ITS has significantly reduced effectiveness, productivity, and reliability, due, nearly in full,...</td>\n",
       "      <td>1.962478</td>\n",
       "      <td>0.006800</td>\n",
       "      <td>0</td>\n",
       "      <td>0.450003</td>\n",
       "      <td>0.445856</td>\n",
       "      <td>0.501931</td>\n",
       "      <td>0.667725</td>\n",
       "      <td>0.05</td>\n",
       "      <td>0.008369</td>\n",
       "      <td>0.05</td>\n",
       "      <td>0.013323</td>\n",
       "      <td>0.05</td>\n",
       "      <td>0.032656</td>\n",
       "    </tr>\n",
       "  </tbody>\n",
       "</table>\n",
       "</div>"
      ],
      "text/plain": [
       "   index      Id  QuestionAnsID                                                                                           AnswerText AnswerText_NonEnglish Language  SurveyID  SurveyTypeID BenchmarkSurveyType ClientId   RspID QuestionCategoryAbbr                                                                                         QuestionText QuestionClass  QuestionCategoryID                    QuestionReportAbbr           QuestionCategoryLabel BenchmarkLevel1 BenchmarkLevel2 BenchmarkLevel3 ClientBenchmarkLevel  GroupCode GroupID  GroupLevel1Code GroupLevel1Name  GroupLevel2Code                          GroupLevel2Name  GroupLevel3Code                         GroupLevel3Name  GroupLevel4Code                GroupLevel4Name  GroupLevel5Code                          GroupLevel5Name  GroupLevel6Code GroupLevel6Name  GroupLevel7Code GroupLevel7Name  GroupLevel8Code GroupLevel8Name              theme  theme_pred url_friendly_theme  \\\n",
       "0      6  589177           1877  Inadequate staff within the walk in clinic as referred to as urgent care (where only RNs are ACL...                   NaN  English       212             9                 SAW     UCSD  450625                  SAT  If you would like to elaborate on your responses above, or if you have any additional feedback r...      Verbatim               114.0  Comments re Work Environment at UCSD  Satisfaction with UC San Diego            None            None            None                    1    31302.0    3555         999999.0    UC San Diego          90000.0          VICE CHANCELLOR HEALTH SCIENCES          90563.0             STUDENT HEALTH & WELL BEING          31302.0        STUDENT HEALTH SERVICES              NaN                                      NaN              NaN             NaN              NaN             NaN              NaN             NaN  Adequate Staffing           1   AdequateStaffing   \n",
       "1     17  588649           1877  There have been a lot of retirements lately, but the department hasn't replaced any of these mis...                   NaN  English       212             9                 SAW     UCSD  448111                  SAT  If you would like to elaborate on your responses above, or if you have any additional feedback r...      Verbatim               114.0  Comments re Work Environment at UCSD  Satisfaction with UC San Diego            None            None            None                    1   700006.0    3833         999999.0    UC San Diego         700000.0                           VC-ADVANCEMENT         700006.0  UCSD FOUNDATION & ADVANCEMENT SERVICES              NaN                            NaN              NaN                                      NaN              NaN             NaN              NaN             NaN              NaN             NaN  Adequate Staffing           1   AdequateStaffing   \n",
       "2     43  588482           1877  WIthin my immediate team unit, I enjoy working with my supervisor and colleagues. \\r\\n\\r\\nOutsid...                   NaN  English       212             9                 SAW     UCSD  447391                  SAT  If you would like to elaborate on your responses above, or if you have any additional feedback r...      Verbatim               114.0  Comments re Work Environment at UCSD  Satisfaction with UC San Diego            None            None            None                    1    11000.0    3470         999999.0    UC San Diego          10000.0                         ACADEMIC AFFAIRS          10011.0                                COLLEGES          11000.0                   MUIR COLLEGE              NaN                                      NaN              NaN             NaN              NaN             NaN              NaN             NaN  Adequate Staffing           1   AdequateStaffing   \n",
       "3     49  590654           9439  The lack of professionalism from different departments that are supposed to be working with you ...                   NaN  English       212             9                 SAW     UCSD  451222                 None  The Standing Committee on Service and People Oriented Culture (SC-SPOC) is interested in learnin...      Verbatim               201.0                     IdeaWave Comments                           Other            None            None            None                    1    90860.0    3659         999999.0    UC San Diego          90000.0          VICE CHANCELLOR HEALTH SCIENCES          93000.0                      SCHOOL OF MEDICINE          90800.0                       MEDICINE          90860.0                               CARDIOLOGY              NaN             NaN              NaN             NaN              NaN             NaN  Adequate Staffing           1   AdequateStaffing   \n",
       "4     52  588719           1877  ITS has significantly reduced effectiveness, productivity, and reliability, due, nearly in full,...                   NaN  English       212             9                 SAW     UCSD  448383                  SAT  If you would like to elaborate on your responses above, or if you have any additional feedback r...      Verbatim               114.0  Comments re Work Environment at UCSD  Satisfaction with UC San Diego            None            None            None                    1      171.0    3402         999999.0    UC San Diego            800.0  VICE CHANCELLOR CHIEF FINANCIAL OFFICER            808.0         INFORMATION TECHNOLOGY SERVICES            132.0  ARCHITECTURE & INFRASTRUCTURE            171.0  DATACOM/NETWORK ARCHITECTS/NETWORK APPS              NaN             NaN              NaN             NaN              NaN             NaN  Adequate Staffing           1   AdequateStaffing   \n",
       "\n",
       "                                                                                           answer_text  prob_avg_sentiment  prob_is_example  pred_is_example  valid_loss  sentiment_mse  sentiment_mae  sentiment_rmse  is_example_f05_threshold  is_example_f05_score  is_example_f1_threshold  is_example_f1_score  is_example_f2_threshold  is_example_f2_score  \n",
       "0  Inadequate staff within the walk in clinic as referred to as urgent care (where only RNs are ACL...            2.100516         0.004653                0    0.450003       0.445856       0.501931        0.667725                      0.05              0.008369                     0.05             0.013323                     0.05             0.032656  \n",
       "1  There have been a lot of retirements lately, but the department hasn't replaced any of these mis...            2.021485         0.006528                0    0.450003       0.445856       0.501931        0.667725                      0.05              0.008369                     0.05             0.013323                     0.05             0.032656  \n",
       "2  WIthin my immediate team unit, I enjoy working with my supervisor and colleagues. \\r\\n\\r\\nOutsid...            2.242425         0.010107                0    0.450003       0.445856       0.501931        0.667725                      0.05              0.008369                     0.05             0.013323                     0.05             0.032656  \n",
       "3  The lack of professionalism from different departments that are supposed to be working with you ...            2.035603         0.011802                0    0.450003       0.445856       0.501931        0.667725                      0.05              0.008369                     0.05             0.013323                     0.05             0.032656  \n",
       "4  ITS has significantly reduced effectiveness, productivity, and reliability, due, nearly in full,...            1.962478         0.006800                0    0.450003       0.445856       0.501931        0.667725                      0.05              0.008369                     0.05             0.013323                     0.05             0.032656  "
      ]
     },
     "execution_count": 42,
     "metadata": {},
     "output_type": "execute_result"
    }
   ],
   "source": [
    "preds_df.head()"
   ]
  },
  {
   "cell_type": "markdown",
   "metadata": {},
   "source": [
    "*If we were building results DataFrame by hand ...*"
   ]
  },
  {
   "cell_type": "markdown",
   "metadata": {},
   "source": [
    "Add the probabilities of each label to `inf_df`"
   ]
  },
  {
   "cell_type": "code",
   "execution_count": 43,
   "metadata": {},
   "outputs": [
    {
     "data": {
      "text/plain": [
       "(3649, 2)"
      ]
     },
     "execution_count": 43,
     "metadata": {},
     "output_type": "execute_result"
    }
   ],
   "source": [
    "inf_probs_is_example.numpy().shape"
   ]
  },
  {
   "cell_type": "code",
   "execution_count": 44,
   "metadata": {},
   "outputs": [
    {
     "data": {
      "text/plain": [
       "array([[2.100516  , 0.00465331],\n",
       "       [2.0214849 , 0.00652839],\n",
       "       [2.2424247 , 0.01010673],\n",
       "       ...,\n",
       "       [3.9447417 , 0.01542065],\n",
       "       [1.8345153 , 0.00923029],\n",
       "       [4.0441527 , 0.01412316]], dtype=float32)"
      ]
     },
     "execution_count": 44,
     "metadata": {},
     "output_type": "execute_result"
    }
   ],
   "source": [
    "np.concatenate((inf_probs_sent.numpy(), inf_probs_is_example.numpy()[:,1][:,None]), axis=1)"
   ]
  },
  {
   "cell_type": "code",
   "execution_count": 45,
   "metadata": {},
   "outputs": [],
   "source": [
    "combined_probs = np.concatenate((inf_probs_sent.numpy(), inf_probs_is_example.numpy()[:,1][:,None]), axis=1)"
   ]
  },
  {
   "cell_type": "code",
   "execution_count": 46,
   "metadata": {},
   "outputs": [
    {
     "data": {
      "text/html": [
       "<div>\n",
       "<style scoped>\n",
       "    .dataframe tbody tr th:only-of-type {\n",
       "        vertical-align: middle;\n",
       "    }\n",
       "\n",
       "    .dataframe tbody tr th {\n",
       "        vertical-align: top;\n",
       "    }\n",
       "\n",
       "    .dataframe thead th {\n",
       "        text-align: right;\n",
       "    }\n",
       "</style>\n",
       "<table border=\"1\" class=\"dataframe\">\n",
       "  <thead>\n",
       "    <tr style=\"text-align: right;\">\n",
       "      <th></th>\n",
       "      <th>prob_avg_sentiment</th>\n",
       "      <th>prob_is_example</th>\n",
       "    </tr>\n",
       "  </thead>\n",
       "  <tbody>\n",
       "    <tr>\n",
       "      <th>0</th>\n",
       "      <td>2.100516</td>\n",
       "      <td>0.004653</td>\n",
       "    </tr>\n",
       "    <tr>\n",
       "      <th>1</th>\n",
       "      <td>2.021485</td>\n",
       "      <td>0.006528</td>\n",
       "    </tr>\n",
       "    <tr>\n",
       "      <th>2</th>\n",
       "      <td>2.242425</td>\n",
       "      <td>0.010107</td>\n",
       "    </tr>\n",
       "    <tr>\n",
       "      <th>3</th>\n",
       "      <td>2.035603</td>\n",
       "      <td>0.011802</td>\n",
       "    </tr>\n",
       "    <tr>\n",
       "      <th>4</th>\n",
       "      <td>1.962478</td>\n",
       "      <td>0.006800</td>\n",
       "    </tr>\n",
       "  </tbody>\n",
       "</table>\n",
       "</div>"
      ],
      "text/plain": [
       "   prob_avg_sentiment  prob_is_example\n",
       "0            2.100516         0.004653\n",
       "1            2.021485         0.006528\n",
       "2            2.242425         0.010107\n",
       "3            2.035603         0.011802\n",
       "4            1.962478         0.006800"
      ]
     },
     "execution_count": 46,
     "metadata": {},
     "output_type": "execute_result"
    }
   ],
   "source": [
    "prob_labels = ['prob_' + lbl for lbl in STANDARD_THEME_META_LABELS]\n",
    "probs_df = pd.DataFrame(combined_probs, columns=prob_labels)\n",
    "probs_df.head()"
   ]
  },
  {
   "cell_type": "code",
   "execution_count": 47,
   "metadata": {},
   "outputs": [
    {
     "data": {
      "text/html": [
       "<div>\n",
       "<style scoped>\n",
       "    .dataframe tbody tr th:only-of-type {\n",
       "        vertical-align: middle;\n",
       "    }\n",
       "\n",
       "    .dataframe tbody tr th {\n",
       "        vertical-align: top;\n",
       "    }\n",
       "\n",
       "    .dataframe thead th {\n",
       "        text-align: right;\n",
       "    }\n",
       "</style>\n",
       "<table border=\"1\" class=\"dataframe\">\n",
       "  <thead>\n",
       "    <tr style=\"text-align: right;\">\n",
       "      <th></th>\n",
       "      <th>index</th>\n",
       "      <th>Id</th>\n",
       "      <th>QuestionAnsID</th>\n",
       "      <th>AnswerText</th>\n",
       "      <th>AnswerText_NonEnglish</th>\n",
       "      <th>Language</th>\n",
       "      <th>SurveyID</th>\n",
       "      <th>SurveyTypeID</th>\n",
       "      <th>BenchmarkSurveyType</th>\n",
       "      <th>ClientId</th>\n",
       "      <th>RspID</th>\n",
       "      <th>QuestionCategoryAbbr</th>\n",
       "      <th>QuestionText</th>\n",
       "      <th>QuestionClass</th>\n",
       "      <th>QuestionCategoryID</th>\n",
       "      <th>QuestionReportAbbr</th>\n",
       "      <th>QuestionCategoryLabel</th>\n",
       "      <th>BenchmarkLevel1</th>\n",
       "      <th>BenchmarkLevel2</th>\n",
       "      <th>BenchmarkLevel3</th>\n",
       "      <th>ClientBenchmarkLevel</th>\n",
       "      <th>GroupCode</th>\n",
       "      <th>GroupID</th>\n",
       "      <th>GroupLevel1Code</th>\n",
       "      <th>GroupLevel1Name</th>\n",
       "      <th>GroupLevel2Code</th>\n",
       "      <th>GroupLevel2Name</th>\n",
       "      <th>GroupLevel3Code</th>\n",
       "      <th>GroupLevel3Name</th>\n",
       "      <th>GroupLevel4Code</th>\n",
       "      <th>GroupLevel4Name</th>\n",
       "      <th>GroupLevel5Code</th>\n",
       "      <th>GroupLevel5Name</th>\n",
       "      <th>GroupLevel6Code</th>\n",
       "      <th>GroupLevel6Name</th>\n",
       "      <th>GroupLevel7Code</th>\n",
       "      <th>GroupLevel7Name</th>\n",
       "      <th>GroupLevel8Code</th>\n",
       "      <th>GroupLevel8Name</th>\n",
       "      <th>theme</th>\n",
       "      <th>theme_pred</th>\n",
       "      <th>url_friendly_theme</th>\n",
       "      <th>answer_text</th>\n",
       "      <th>prob_avg_sentiment</th>\n",
       "      <th>prob_is_example</th>\n",
       "    </tr>\n",
       "  </thead>\n",
       "  <tbody>\n",
       "    <tr>\n",
       "      <th>0</th>\n",
       "      <td>6</td>\n",
       "      <td>589177</td>\n",
       "      <td>1877</td>\n",
       "      <td>Inadequate staff within the walk in clinic as referred to as urgent care (where only RNs are ACL...</td>\n",
       "      <td>NaN</td>\n",
       "      <td>English</td>\n",
       "      <td>212</td>\n",
       "      <td>9</td>\n",
       "      <td>SAW</td>\n",
       "      <td>UCSD</td>\n",
       "      <td>450625</td>\n",
       "      <td>SAT</td>\n",
       "      <td>If you would like to elaborate on your responses above, or if you have any additional feedback r...</td>\n",
       "      <td>Verbatim</td>\n",
       "      <td>114.0</td>\n",
       "      <td>Comments re Work Environment at UCSD</td>\n",
       "      <td>Satisfaction with UC San Diego</td>\n",
       "      <td>None</td>\n",
       "      <td>None</td>\n",
       "      <td>None</td>\n",
       "      <td>1</td>\n",
       "      <td>31302.0</td>\n",
       "      <td>3555</td>\n",
       "      <td>999999.0</td>\n",
       "      <td>UC San Diego</td>\n",
       "      <td>90000.0</td>\n",
       "      <td>VICE CHANCELLOR HEALTH SCIENCES</td>\n",
       "      <td>90563.0</td>\n",
       "      <td>STUDENT HEALTH &amp; WELL BEING</td>\n",
       "      <td>31302.0</td>\n",
       "      <td>STUDENT HEALTH SERVICES</td>\n",
       "      <td>NaN</td>\n",
       "      <td>NaN</td>\n",
       "      <td>NaN</td>\n",
       "      <td>NaN</td>\n",
       "      <td>NaN</td>\n",
       "      <td>NaN</td>\n",
       "      <td>NaN</td>\n",
       "      <td>NaN</td>\n",
       "      <td>Adequate Staffing</td>\n",
       "      <td>1</td>\n",
       "      <td>AdequateStaffing</td>\n",
       "      <td>Inadequate staff within the walk in clinic as referred to as urgent care (where only RNs are ACL...</td>\n",
       "      <td>2.100516</td>\n",
       "      <td>0.004653</td>\n",
       "    </tr>\n",
       "    <tr>\n",
       "      <th>1</th>\n",
       "      <td>17</td>\n",
       "      <td>588649</td>\n",
       "      <td>1877</td>\n",
       "      <td>There have been a lot of retirements lately, but the department hasn't replaced any of these mis...</td>\n",
       "      <td>NaN</td>\n",
       "      <td>English</td>\n",
       "      <td>212</td>\n",
       "      <td>9</td>\n",
       "      <td>SAW</td>\n",
       "      <td>UCSD</td>\n",
       "      <td>448111</td>\n",
       "      <td>SAT</td>\n",
       "      <td>If you would like to elaborate on your responses above, or if you have any additional feedback r...</td>\n",
       "      <td>Verbatim</td>\n",
       "      <td>114.0</td>\n",
       "      <td>Comments re Work Environment at UCSD</td>\n",
       "      <td>Satisfaction with UC San Diego</td>\n",
       "      <td>None</td>\n",
       "      <td>None</td>\n",
       "      <td>None</td>\n",
       "      <td>1</td>\n",
       "      <td>700006.0</td>\n",
       "      <td>3833</td>\n",
       "      <td>999999.0</td>\n",
       "      <td>UC San Diego</td>\n",
       "      <td>700000.0</td>\n",
       "      <td>VC-ADVANCEMENT</td>\n",
       "      <td>700006.0</td>\n",
       "      <td>UCSD FOUNDATION &amp; ADVANCEMENT SERVICES</td>\n",
       "      <td>NaN</td>\n",
       "      <td>NaN</td>\n",
       "      <td>NaN</td>\n",
       "      <td>NaN</td>\n",
       "      <td>NaN</td>\n",
       "      <td>NaN</td>\n",
       "      <td>NaN</td>\n",
       "      <td>NaN</td>\n",
       "      <td>NaN</td>\n",
       "      <td>NaN</td>\n",
       "      <td>Adequate Staffing</td>\n",
       "      <td>1</td>\n",
       "      <td>AdequateStaffing</td>\n",
       "      <td>There have been a lot of retirements lately, but the department hasn't replaced any of these mis...</td>\n",
       "      <td>2.021485</td>\n",
       "      <td>0.006528</td>\n",
       "    </tr>\n",
       "    <tr>\n",
       "      <th>2</th>\n",
       "      <td>43</td>\n",
       "      <td>588482</td>\n",
       "      <td>1877</td>\n",
       "      <td>WIthin my immediate team unit, I enjoy working with my supervisor and colleagues. \\r\\n\\r\\nOutsid...</td>\n",
       "      <td>NaN</td>\n",
       "      <td>English</td>\n",
       "      <td>212</td>\n",
       "      <td>9</td>\n",
       "      <td>SAW</td>\n",
       "      <td>UCSD</td>\n",
       "      <td>447391</td>\n",
       "      <td>SAT</td>\n",
       "      <td>If you would like to elaborate on your responses above, or if you have any additional feedback r...</td>\n",
       "      <td>Verbatim</td>\n",
       "      <td>114.0</td>\n",
       "      <td>Comments re Work Environment at UCSD</td>\n",
       "      <td>Satisfaction with UC San Diego</td>\n",
       "      <td>None</td>\n",
       "      <td>None</td>\n",
       "      <td>None</td>\n",
       "      <td>1</td>\n",
       "      <td>11000.0</td>\n",
       "      <td>3470</td>\n",
       "      <td>999999.0</td>\n",
       "      <td>UC San Diego</td>\n",
       "      <td>10000.0</td>\n",
       "      <td>ACADEMIC AFFAIRS</td>\n",
       "      <td>10011.0</td>\n",
       "      <td>COLLEGES</td>\n",
       "      <td>11000.0</td>\n",
       "      <td>MUIR COLLEGE</td>\n",
       "      <td>NaN</td>\n",
       "      <td>NaN</td>\n",
       "      <td>NaN</td>\n",
       "      <td>NaN</td>\n",
       "      <td>NaN</td>\n",
       "      <td>NaN</td>\n",
       "      <td>NaN</td>\n",
       "      <td>NaN</td>\n",
       "      <td>Adequate Staffing</td>\n",
       "      <td>1</td>\n",
       "      <td>AdequateStaffing</td>\n",
       "      <td>WIthin my immediate team unit, I enjoy working with my supervisor and colleagues. \\r\\n\\r\\nOutsid...</td>\n",
       "      <td>2.242425</td>\n",
       "      <td>0.010107</td>\n",
       "    </tr>\n",
       "    <tr>\n",
       "      <th>3</th>\n",
       "      <td>49</td>\n",
       "      <td>590654</td>\n",
       "      <td>9439</td>\n",
       "      <td>The lack of professionalism from different departments that are supposed to be working with you ...</td>\n",
       "      <td>NaN</td>\n",
       "      <td>English</td>\n",
       "      <td>212</td>\n",
       "      <td>9</td>\n",
       "      <td>SAW</td>\n",
       "      <td>UCSD</td>\n",
       "      <td>451222</td>\n",
       "      <td>None</td>\n",
       "      <td>The Standing Committee on Service and People Oriented Culture (SC-SPOC) is interested in learnin...</td>\n",
       "      <td>Verbatim</td>\n",
       "      <td>201.0</td>\n",
       "      <td>IdeaWave Comments</td>\n",
       "      <td>Other</td>\n",
       "      <td>None</td>\n",
       "      <td>None</td>\n",
       "      <td>None</td>\n",
       "      <td>1</td>\n",
       "      <td>90860.0</td>\n",
       "      <td>3659</td>\n",
       "      <td>999999.0</td>\n",
       "      <td>UC San Diego</td>\n",
       "      <td>90000.0</td>\n",
       "      <td>VICE CHANCELLOR HEALTH SCIENCES</td>\n",
       "      <td>93000.0</td>\n",
       "      <td>SCHOOL OF MEDICINE</td>\n",
       "      <td>90800.0</td>\n",
       "      <td>MEDICINE</td>\n",
       "      <td>90860.0</td>\n",
       "      <td>CARDIOLOGY</td>\n",
       "      <td>NaN</td>\n",
       "      <td>NaN</td>\n",
       "      <td>NaN</td>\n",
       "      <td>NaN</td>\n",
       "      <td>NaN</td>\n",
       "      <td>NaN</td>\n",
       "      <td>Adequate Staffing</td>\n",
       "      <td>1</td>\n",
       "      <td>AdequateStaffing</td>\n",
       "      <td>The lack of professionalism from different departments that are supposed to be working with you ...</td>\n",
       "      <td>2.035603</td>\n",
       "      <td>0.011802</td>\n",
       "    </tr>\n",
       "    <tr>\n",
       "      <th>4</th>\n",
       "      <td>52</td>\n",
       "      <td>588719</td>\n",
       "      <td>1877</td>\n",
       "      <td>ITS has significantly reduced effectiveness, productivity, and reliability, due, nearly in full,...</td>\n",
       "      <td>NaN</td>\n",
       "      <td>English</td>\n",
       "      <td>212</td>\n",
       "      <td>9</td>\n",
       "      <td>SAW</td>\n",
       "      <td>UCSD</td>\n",
       "      <td>448383</td>\n",
       "      <td>SAT</td>\n",
       "      <td>If you would like to elaborate on your responses above, or if you have any additional feedback r...</td>\n",
       "      <td>Verbatim</td>\n",
       "      <td>114.0</td>\n",
       "      <td>Comments re Work Environment at UCSD</td>\n",
       "      <td>Satisfaction with UC San Diego</td>\n",
       "      <td>None</td>\n",
       "      <td>None</td>\n",
       "      <td>None</td>\n",
       "      <td>1</td>\n",
       "      <td>171.0</td>\n",
       "      <td>3402</td>\n",
       "      <td>999999.0</td>\n",
       "      <td>UC San Diego</td>\n",
       "      <td>800.0</td>\n",
       "      <td>VICE CHANCELLOR CHIEF FINANCIAL OFFICER</td>\n",
       "      <td>808.0</td>\n",
       "      <td>INFORMATION TECHNOLOGY SERVICES</td>\n",
       "      <td>132.0</td>\n",
       "      <td>ARCHITECTURE &amp; INFRASTRUCTURE</td>\n",
       "      <td>171.0</td>\n",
       "      <td>DATACOM/NETWORK ARCHITECTS/NETWORK APPS</td>\n",
       "      <td>NaN</td>\n",
       "      <td>NaN</td>\n",
       "      <td>NaN</td>\n",
       "      <td>NaN</td>\n",
       "      <td>NaN</td>\n",
       "      <td>NaN</td>\n",
       "      <td>Adequate Staffing</td>\n",
       "      <td>1</td>\n",
       "      <td>AdequateStaffing</td>\n",
       "      <td>ITS has significantly reduced effectiveness, productivity, and reliability, due, nearly in full,...</td>\n",
       "      <td>1.962478</td>\n",
       "      <td>0.006800</td>\n",
       "    </tr>\n",
       "  </tbody>\n",
       "</table>\n",
       "</div>"
      ],
      "text/plain": [
       "   index      Id  QuestionAnsID                                                                                           AnswerText AnswerText_NonEnglish Language  SurveyID  SurveyTypeID BenchmarkSurveyType ClientId   RspID QuestionCategoryAbbr                                                                                         QuestionText QuestionClass  QuestionCategoryID                    QuestionReportAbbr           QuestionCategoryLabel BenchmarkLevel1 BenchmarkLevel2 BenchmarkLevel3 ClientBenchmarkLevel  GroupCode GroupID  GroupLevel1Code GroupLevel1Name  GroupLevel2Code                          GroupLevel2Name  GroupLevel3Code                         GroupLevel3Name  GroupLevel4Code                GroupLevel4Name  GroupLevel5Code                          GroupLevel5Name  GroupLevel6Code GroupLevel6Name  GroupLevel7Code GroupLevel7Name  GroupLevel8Code GroupLevel8Name              theme  theme_pred url_friendly_theme  \\\n",
       "0      6  589177           1877  Inadequate staff within the walk in clinic as referred to as urgent care (where only RNs are ACL...                   NaN  English       212             9                 SAW     UCSD  450625                  SAT  If you would like to elaborate on your responses above, or if you have any additional feedback r...      Verbatim               114.0  Comments re Work Environment at UCSD  Satisfaction with UC San Diego            None            None            None                    1    31302.0    3555         999999.0    UC San Diego          90000.0          VICE CHANCELLOR HEALTH SCIENCES          90563.0             STUDENT HEALTH & WELL BEING          31302.0        STUDENT HEALTH SERVICES              NaN                                      NaN              NaN             NaN              NaN             NaN              NaN             NaN  Adequate Staffing           1   AdequateStaffing   \n",
       "1     17  588649           1877  There have been a lot of retirements lately, but the department hasn't replaced any of these mis...                   NaN  English       212             9                 SAW     UCSD  448111                  SAT  If you would like to elaborate on your responses above, or if you have any additional feedback r...      Verbatim               114.0  Comments re Work Environment at UCSD  Satisfaction with UC San Diego            None            None            None                    1   700006.0    3833         999999.0    UC San Diego         700000.0                           VC-ADVANCEMENT         700006.0  UCSD FOUNDATION & ADVANCEMENT SERVICES              NaN                            NaN              NaN                                      NaN              NaN             NaN              NaN             NaN              NaN             NaN  Adequate Staffing           1   AdequateStaffing   \n",
       "2     43  588482           1877  WIthin my immediate team unit, I enjoy working with my supervisor and colleagues. \\r\\n\\r\\nOutsid...                   NaN  English       212             9                 SAW     UCSD  447391                  SAT  If you would like to elaborate on your responses above, or if you have any additional feedback r...      Verbatim               114.0  Comments re Work Environment at UCSD  Satisfaction with UC San Diego            None            None            None                    1    11000.0    3470         999999.0    UC San Diego          10000.0                         ACADEMIC AFFAIRS          10011.0                                COLLEGES          11000.0                   MUIR COLLEGE              NaN                                      NaN              NaN             NaN              NaN             NaN              NaN             NaN  Adequate Staffing           1   AdequateStaffing   \n",
       "3     49  590654           9439  The lack of professionalism from different departments that are supposed to be working with you ...                   NaN  English       212             9                 SAW     UCSD  451222                 None  The Standing Committee on Service and People Oriented Culture (SC-SPOC) is interested in learnin...      Verbatim               201.0                     IdeaWave Comments                           Other            None            None            None                    1    90860.0    3659         999999.0    UC San Diego          90000.0          VICE CHANCELLOR HEALTH SCIENCES          93000.0                      SCHOOL OF MEDICINE          90800.0                       MEDICINE          90860.0                               CARDIOLOGY              NaN             NaN              NaN             NaN              NaN             NaN  Adequate Staffing           1   AdequateStaffing   \n",
       "4     52  588719           1877  ITS has significantly reduced effectiveness, productivity, and reliability, due, nearly in full,...                   NaN  English       212             9                 SAW     UCSD  448383                  SAT  If you would like to elaborate on your responses above, or if you have any additional feedback r...      Verbatim               114.0  Comments re Work Environment at UCSD  Satisfaction with UC San Diego            None            None            None                    1      171.0    3402         999999.0    UC San Diego            800.0  VICE CHANCELLOR CHIEF FINANCIAL OFFICER            808.0         INFORMATION TECHNOLOGY SERVICES            132.0  ARCHITECTURE & INFRASTRUCTURE            171.0  DATACOM/NETWORK ARCHITECTS/NETWORK APPS              NaN             NaN              NaN             NaN              NaN             NaN  Adequate Staffing           1   AdequateStaffing   \n",
       "\n",
       "                                                                                           answer_text  prob_avg_sentiment  prob_is_example  \n",
       "0  Inadequate staff within the walk in clinic as referred to as urgent care (where only RNs are ACL...            2.100516         0.004653  \n",
       "1  There have been a lot of retirements lately, but the department hasn't replaced any of these mis...            2.021485         0.006528  \n",
       "2  WIthin my immediate team unit, I enjoy working with my supervisor and colleagues. \\r\\n\\r\\nOutsid...            2.242425         0.010107  \n",
       "3  The lack of professionalism from different departments that are supposed to be working with you ...            2.035603         0.011802  \n",
       "4  ITS has significantly reduced effectiveness, productivity, and reliability, due, nearly in full,...            1.962478         0.006800  "
      ]
     },
     "execution_count": 47,
     "metadata": {},
     "output_type": "execute_result"
    }
   ],
   "source": [
    "# test_df_filtered.update(probs_df)\n",
    "final_df = pd.concat([inf_df, probs_df], axis=1)\n",
    "final_df.head()"
   ]
  },
  {
   "cell_type": "markdown",
   "metadata": {},
   "source": [
    "Add in predictions based on f05 threshold"
   ]
  },
  {
   "cell_type": "code",
   "execution_count": 49,
   "metadata": {},
   "outputs": [
    {
     "data": {
      "text/plain": [
       "0.05"
      ]
     },
     "execution_count": 49,
     "metadata": {},
     "output_type": "execute_result"
    }
   ],
   "source": [
    "scores['is_example_f05']['threshold']"
   ]
  },
  {
   "cell_type": "code",
   "execution_count": 50,
   "metadata": {},
   "outputs": [],
   "source": [
    "for lbl in STANDARD_THEME_META_LABELS[1:]:\n",
    "    final_df[f'pred_{lbl}'] = (final_df[f'prob_{lbl}'] > scores['is_example_f05']['threshold']).astype(np.int64)"
   ]
  },
  {
   "cell_type": "code",
   "execution_count": 51,
   "metadata": {},
   "outputs": [
    {
     "data": {
      "text/html": [
       "<div>\n",
       "<style scoped>\n",
       "    .dataframe tbody tr th:only-of-type {\n",
       "        vertical-align: middle;\n",
       "    }\n",
       "\n",
       "    .dataframe tbody tr th {\n",
       "        vertical-align: top;\n",
       "    }\n",
       "\n",
       "    .dataframe thead th {\n",
       "        text-align: right;\n",
       "    }\n",
       "</style>\n",
       "<table border=\"1\" class=\"dataframe\">\n",
       "  <thead>\n",
       "    <tr style=\"text-align: right;\">\n",
       "      <th></th>\n",
       "      <th>index</th>\n",
       "      <th>Id</th>\n",
       "      <th>QuestionAnsID</th>\n",
       "      <th>AnswerText</th>\n",
       "      <th>AnswerText_NonEnglish</th>\n",
       "      <th>Language</th>\n",
       "      <th>SurveyID</th>\n",
       "      <th>SurveyTypeID</th>\n",
       "      <th>BenchmarkSurveyType</th>\n",
       "      <th>ClientId</th>\n",
       "      <th>RspID</th>\n",
       "      <th>QuestionCategoryAbbr</th>\n",
       "      <th>QuestionText</th>\n",
       "      <th>QuestionClass</th>\n",
       "      <th>QuestionCategoryID</th>\n",
       "      <th>QuestionReportAbbr</th>\n",
       "      <th>QuestionCategoryLabel</th>\n",
       "      <th>BenchmarkLevel1</th>\n",
       "      <th>BenchmarkLevel2</th>\n",
       "      <th>BenchmarkLevel3</th>\n",
       "      <th>ClientBenchmarkLevel</th>\n",
       "      <th>GroupCode</th>\n",
       "      <th>GroupID</th>\n",
       "      <th>GroupLevel1Code</th>\n",
       "      <th>GroupLevel1Name</th>\n",
       "      <th>GroupLevel2Code</th>\n",
       "      <th>GroupLevel2Name</th>\n",
       "      <th>GroupLevel3Code</th>\n",
       "      <th>GroupLevel3Name</th>\n",
       "      <th>GroupLevel4Code</th>\n",
       "      <th>GroupLevel4Name</th>\n",
       "      <th>GroupLevel5Code</th>\n",
       "      <th>GroupLevel5Name</th>\n",
       "      <th>GroupLevel6Code</th>\n",
       "      <th>GroupLevel6Name</th>\n",
       "      <th>GroupLevel7Code</th>\n",
       "      <th>GroupLevel7Name</th>\n",
       "      <th>GroupLevel8Code</th>\n",
       "      <th>GroupLevel8Name</th>\n",
       "      <th>theme</th>\n",
       "      <th>theme_pred</th>\n",
       "      <th>url_friendly_theme</th>\n",
       "      <th>answer_text</th>\n",
       "      <th>prob_avg_sentiment</th>\n",
       "      <th>prob_is_example</th>\n",
       "      <th>pred_is_example</th>\n",
       "    </tr>\n",
       "  </thead>\n",
       "  <tbody>\n",
       "    <tr>\n",
       "      <th>0</th>\n",
       "      <td>6</td>\n",
       "      <td>589177</td>\n",
       "      <td>1877</td>\n",
       "      <td>Inadequate staff within the walk in clinic as referred to as urgent care (where only RNs are ACL...</td>\n",
       "      <td>NaN</td>\n",
       "      <td>English</td>\n",
       "      <td>212</td>\n",
       "      <td>9</td>\n",
       "      <td>SAW</td>\n",
       "      <td>UCSD</td>\n",
       "      <td>450625</td>\n",
       "      <td>SAT</td>\n",
       "      <td>If you would like to elaborate on your responses above, or if you have any additional feedback r...</td>\n",
       "      <td>Verbatim</td>\n",
       "      <td>114.0</td>\n",
       "      <td>Comments re Work Environment at UCSD</td>\n",
       "      <td>Satisfaction with UC San Diego</td>\n",
       "      <td>None</td>\n",
       "      <td>None</td>\n",
       "      <td>None</td>\n",
       "      <td>1</td>\n",
       "      <td>31302.0</td>\n",
       "      <td>3555</td>\n",
       "      <td>999999.0</td>\n",
       "      <td>UC San Diego</td>\n",
       "      <td>90000.0</td>\n",
       "      <td>VICE CHANCELLOR HEALTH SCIENCES</td>\n",
       "      <td>90563.0</td>\n",
       "      <td>STUDENT HEALTH &amp; WELL BEING</td>\n",
       "      <td>31302.0</td>\n",
       "      <td>STUDENT HEALTH SERVICES</td>\n",
       "      <td>NaN</td>\n",
       "      <td>NaN</td>\n",
       "      <td>NaN</td>\n",
       "      <td>NaN</td>\n",
       "      <td>NaN</td>\n",
       "      <td>NaN</td>\n",
       "      <td>NaN</td>\n",
       "      <td>NaN</td>\n",
       "      <td>Adequate Staffing</td>\n",
       "      <td>1</td>\n",
       "      <td>AdequateStaffing</td>\n",
       "      <td>Inadequate staff within the walk in clinic as referred to as urgent care (where only RNs are ACL...</td>\n",
       "      <td>2.100516</td>\n",
       "      <td>0.004653</td>\n",
       "      <td>0</td>\n",
       "    </tr>\n",
       "    <tr>\n",
       "      <th>1</th>\n",
       "      <td>17</td>\n",
       "      <td>588649</td>\n",
       "      <td>1877</td>\n",
       "      <td>There have been a lot of retirements lately, but the department hasn't replaced any of these mis...</td>\n",
       "      <td>NaN</td>\n",
       "      <td>English</td>\n",
       "      <td>212</td>\n",
       "      <td>9</td>\n",
       "      <td>SAW</td>\n",
       "      <td>UCSD</td>\n",
       "      <td>448111</td>\n",
       "      <td>SAT</td>\n",
       "      <td>If you would like to elaborate on your responses above, or if you have any additional feedback r...</td>\n",
       "      <td>Verbatim</td>\n",
       "      <td>114.0</td>\n",
       "      <td>Comments re Work Environment at UCSD</td>\n",
       "      <td>Satisfaction with UC San Diego</td>\n",
       "      <td>None</td>\n",
       "      <td>None</td>\n",
       "      <td>None</td>\n",
       "      <td>1</td>\n",
       "      <td>700006.0</td>\n",
       "      <td>3833</td>\n",
       "      <td>999999.0</td>\n",
       "      <td>UC San Diego</td>\n",
       "      <td>700000.0</td>\n",
       "      <td>VC-ADVANCEMENT</td>\n",
       "      <td>700006.0</td>\n",
       "      <td>UCSD FOUNDATION &amp; ADVANCEMENT SERVICES</td>\n",
       "      <td>NaN</td>\n",
       "      <td>NaN</td>\n",
       "      <td>NaN</td>\n",
       "      <td>NaN</td>\n",
       "      <td>NaN</td>\n",
       "      <td>NaN</td>\n",
       "      <td>NaN</td>\n",
       "      <td>NaN</td>\n",
       "      <td>NaN</td>\n",
       "      <td>NaN</td>\n",
       "      <td>Adequate Staffing</td>\n",
       "      <td>1</td>\n",
       "      <td>AdequateStaffing</td>\n",
       "      <td>There have been a lot of retirements lately, but the department hasn't replaced any of these mis...</td>\n",
       "      <td>2.021485</td>\n",
       "      <td>0.006528</td>\n",
       "      <td>0</td>\n",
       "    </tr>\n",
       "    <tr>\n",
       "      <th>2</th>\n",
       "      <td>43</td>\n",
       "      <td>588482</td>\n",
       "      <td>1877</td>\n",
       "      <td>WIthin my immediate team unit, I enjoy working with my supervisor and colleagues. \\r\\n\\r\\nOutsid...</td>\n",
       "      <td>NaN</td>\n",
       "      <td>English</td>\n",
       "      <td>212</td>\n",
       "      <td>9</td>\n",
       "      <td>SAW</td>\n",
       "      <td>UCSD</td>\n",
       "      <td>447391</td>\n",
       "      <td>SAT</td>\n",
       "      <td>If you would like to elaborate on your responses above, or if you have any additional feedback r...</td>\n",
       "      <td>Verbatim</td>\n",
       "      <td>114.0</td>\n",
       "      <td>Comments re Work Environment at UCSD</td>\n",
       "      <td>Satisfaction with UC San Diego</td>\n",
       "      <td>None</td>\n",
       "      <td>None</td>\n",
       "      <td>None</td>\n",
       "      <td>1</td>\n",
       "      <td>11000.0</td>\n",
       "      <td>3470</td>\n",
       "      <td>999999.0</td>\n",
       "      <td>UC San Diego</td>\n",
       "      <td>10000.0</td>\n",
       "      <td>ACADEMIC AFFAIRS</td>\n",
       "      <td>10011.0</td>\n",
       "      <td>COLLEGES</td>\n",
       "      <td>11000.0</td>\n",
       "      <td>MUIR COLLEGE</td>\n",
       "      <td>NaN</td>\n",
       "      <td>NaN</td>\n",
       "      <td>NaN</td>\n",
       "      <td>NaN</td>\n",
       "      <td>NaN</td>\n",
       "      <td>NaN</td>\n",
       "      <td>NaN</td>\n",
       "      <td>NaN</td>\n",
       "      <td>Adequate Staffing</td>\n",
       "      <td>1</td>\n",
       "      <td>AdequateStaffing</td>\n",
       "      <td>WIthin my immediate team unit, I enjoy working with my supervisor and colleagues. \\r\\n\\r\\nOutsid...</td>\n",
       "      <td>2.242425</td>\n",
       "      <td>0.010107</td>\n",
       "      <td>0</td>\n",
       "    </tr>\n",
       "    <tr>\n",
       "      <th>3</th>\n",
       "      <td>49</td>\n",
       "      <td>590654</td>\n",
       "      <td>9439</td>\n",
       "      <td>The lack of professionalism from different departments that are supposed to be working with you ...</td>\n",
       "      <td>NaN</td>\n",
       "      <td>English</td>\n",
       "      <td>212</td>\n",
       "      <td>9</td>\n",
       "      <td>SAW</td>\n",
       "      <td>UCSD</td>\n",
       "      <td>451222</td>\n",
       "      <td>None</td>\n",
       "      <td>The Standing Committee on Service and People Oriented Culture (SC-SPOC) is interested in learnin...</td>\n",
       "      <td>Verbatim</td>\n",
       "      <td>201.0</td>\n",
       "      <td>IdeaWave Comments</td>\n",
       "      <td>Other</td>\n",
       "      <td>None</td>\n",
       "      <td>None</td>\n",
       "      <td>None</td>\n",
       "      <td>1</td>\n",
       "      <td>90860.0</td>\n",
       "      <td>3659</td>\n",
       "      <td>999999.0</td>\n",
       "      <td>UC San Diego</td>\n",
       "      <td>90000.0</td>\n",
       "      <td>VICE CHANCELLOR HEALTH SCIENCES</td>\n",
       "      <td>93000.0</td>\n",
       "      <td>SCHOOL OF MEDICINE</td>\n",
       "      <td>90800.0</td>\n",
       "      <td>MEDICINE</td>\n",
       "      <td>90860.0</td>\n",
       "      <td>CARDIOLOGY</td>\n",
       "      <td>NaN</td>\n",
       "      <td>NaN</td>\n",
       "      <td>NaN</td>\n",
       "      <td>NaN</td>\n",
       "      <td>NaN</td>\n",
       "      <td>NaN</td>\n",
       "      <td>Adequate Staffing</td>\n",
       "      <td>1</td>\n",
       "      <td>AdequateStaffing</td>\n",
       "      <td>The lack of professionalism from different departments that are supposed to be working with you ...</td>\n",
       "      <td>2.035603</td>\n",
       "      <td>0.011802</td>\n",
       "      <td>0</td>\n",
       "    </tr>\n",
       "    <tr>\n",
       "      <th>4</th>\n",
       "      <td>52</td>\n",
       "      <td>588719</td>\n",
       "      <td>1877</td>\n",
       "      <td>ITS has significantly reduced effectiveness, productivity, and reliability, due, nearly in full,...</td>\n",
       "      <td>NaN</td>\n",
       "      <td>English</td>\n",
       "      <td>212</td>\n",
       "      <td>9</td>\n",
       "      <td>SAW</td>\n",
       "      <td>UCSD</td>\n",
       "      <td>448383</td>\n",
       "      <td>SAT</td>\n",
       "      <td>If you would like to elaborate on your responses above, or if you have any additional feedback r...</td>\n",
       "      <td>Verbatim</td>\n",
       "      <td>114.0</td>\n",
       "      <td>Comments re Work Environment at UCSD</td>\n",
       "      <td>Satisfaction with UC San Diego</td>\n",
       "      <td>None</td>\n",
       "      <td>None</td>\n",
       "      <td>None</td>\n",
       "      <td>1</td>\n",
       "      <td>171.0</td>\n",
       "      <td>3402</td>\n",
       "      <td>999999.0</td>\n",
       "      <td>UC San Diego</td>\n",
       "      <td>800.0</td>\n",
       "      <td>VICE CHANCELLOR CHIEF FINANCIAL OFFICER</td>\n",
       "      <td>808.0</td>\n",
       "      <td>INFORMATION TECHNOLOGY SERVICES</td>\n",
       "      <td>132.0</td>\n",
       "      <td>ARCHITECTURE &amp; INFRASTRUCTURE</td>\n",
       "      <td>171.0</td>\n",
       "      <td>DATACOM/NETWORK ARCHITECTS/NETWORK APPS</td>\n",
       "      <td>NaN</td>\n",
       "      <td>NaN</td>\n",
       "      <td>NaN</td>\n",
       "      <td>NaN</td>\n",
       "      <td>NaN</td>\n",
       "      <td>NaN</td>\n",
       "      <td>Adequate Staffing</td>\n",
       "      <td>1</td>\n",
       "      <td>AdequateStaffing</td>\n",
       "      <td>ITS has significantly reduced effectiveness, productivity, and reliability, due, nearly in full,...</td>\n",
       "      <td>1.962478</td>\n",
       "      <td>0.006800</td>\n",
       "      <td>0</td>\n",
       "    </tr>\n",
       "  </tbody>\n",
       "</table>\n",
       "</div>"
      ],
      "text/plain": [
       "   index      Id  QuestionAnsID                                                                                           AnswerText AnswerText_NonEnglish Language  SurveyID  SurveyTypeID BenchmarkSurveyType ClientId   RspID QuestionCategoryAbbr                                                                                         QuestionText QuestionClass  QuestionCategoryID                    QuestionReportAbbr           QuestionCategoryLabel BenchmarkLevel1 BenchmarkLevel2 BenchmarkLevel3 ClientBenchmarkLevel  GroupCode GroupID  GroupLevel1Code GroupLevel1Name  GroupLevel2Code                          GroupLevel2Name  GroupLevel3Code                         GroupLevel3Name  GroupLevel4Code                GroupLevel4Name  GroupLevel5Code                          GroupLevel5Name  GroupLevel6Code GroupLevel6Name  GroupLevel7Code GroupLevel7Name  GroupLevel8Code GroupLevel8Name              theme  theme_pred url_friendly_theme  \\\n",
       "0      6  589177           1877  Inadequate staff within the walk in clinic as referred to as urgent care (where only RNs are ACL...                   NaN  English       212             9                 SAW     UCSD  450625                  SAT  If you would like to elaborate on your responses above, or if you have any additional feedback r...      Verbatim               114.0  Comments re Work Environment at UCSD  Satisfaction with UC San Diego            None            None            None                    1    31302.0    3555         999999.0    UC San Diego          90000.0          VICE CHANCELLOR HEALTH SCIENCES          90563.0             STUDENT HEALTH & WELL BEING          31302.0        STUDENT HEALTH SERVICES              NaN                                      NaN              NaN             NaN              NaN             NaN              NaN             NaN  Adequate Staffing           1   AdequateStaffing   \n",
       "1     17  588649           1877  There have been a lot of retirements lately, but the department hasn't replaced any of these mis...                   NaN  English       212             9                 SAW     UCSD  448111                  SAT  If you would like to elaborate on your responses above, or if you have any additional feedback r...      Verbatim               114.0  Comments re Work Environment at UCSD  Satisfaction with UC San Diego            None            None            None                    1   700006.0    3833         999999.0    UC San Diego         700000.0                           VC-ADVANCEMENT         700006.0  UCSD FOUNDATION & ADVANCEMENT SERVICES              NaN                            NaN              NaN                                      NaN              NaN             NaN              NaN             NaN              NaN             NaN  Adequate Staffing           1   AdequateStaffing   \n",
       "2     43  588482           1877  WIthin my immediate team unit, I enjoy working with my supervisor and colleagues. \\r\\n\\r\\nOutsid...                   NaN  English       212             9                 SAW     UCSD  447391                  SAT  If you would like to elaborate on your responses above, or if you have any additional feedback r...      Verbatim               114.0  Comments re Work Environment at UCSD  Satisfaction with UC San Diego            None            None            None                    1    11000.0    3470         999999.0    UC San Diego          10000.0                         ACADEMIC AFFAIRS          10011.0                                COLLEGES          11000.0                   MUIR COLLEGE              NaN                                      NaN              NaN             NaN              NaN             NaN              NaN             NaN  Adequate Staffing           1   AdequateStaffing   \n",
       "3     49  590654           9439  The lack of professionalism from different departments that are supposed to be working with you ...                   NaN  English       212             9                 SAW     UCSD  451222                 None  The Standing Committee on Service and People Oriented Culture (SC-SPOC) is interested in learnin...      Verbatim               201.0                     IdeaWave Comments                           Other            None            None            None                    1    90860.0    3659         999999.0    UC San Diego          90000.0          VICE CHANCELLOR HEALTH SCIENCES          93000.0                      SCHOOL OF MEDICINE          90800.0                       MEDICINE          90860.0                               CARDIOLOGY              NaN             NaN              NaN             NaN              NaN             NaN  Adequate Staffing           1   AdequateStaffing   \n",
       "4     52  588719           1877  ITS has significantly reduced effectiveness, productivity, and reliability, due, nearly in full,...                   NaN  English       212             9                 SAW     UCSD  448383                  SAT  If you would like to elaborate on your responses above, or if you have any additional feedback r...      Verbatim               114.0  Comments re Work Environment at UCSD  Satisfaction with UC San Diego            None            None            None                    1      171.0    3402         999999.0    UC San Diego            800.0  VICE CHANCELLOR CHIEF FINANCIAL OFFICER            808.0         INFORMATION TECHNOLOGY SERVICES            132.0  ARCHITECTURE & INFRASTRUCTURE            171.0  DATACOM/NETWORK ARCHITECTS/NETWORK APPS              NaN             NaN              NaN             NaN              NaN             NaN  Adequate Staffing           1   AdequateStaffing   \n",
       "\n",
       "                                                                                           answer_text  prob_avg_sentiment  prob_is_example  pred_is_example  \n",
       "0  Inadequate staff within the walk in clinic as referred to as urgent care (where only RNs are ACL...            2.100516         0.004653                0  \n",
       "1  There have been a lot of retirements lately, but the department hasn't replaced any of these mis...            2.021485         0.006528                0  \n",
       "2  WIthin my immediate team unit, I enjoy working with my supervisor and colleagues. \\r\\n\\r\\nOutsid...            2.242425         0.010107                0  \n",
       "3  The lack of professionalism from different departments that are supposed to be working with you ...            2.035603         0.011802                0  \n",
       "4  ITS has significantly reduced effectiveness, productivity, and reliability, due, nearly in full,...            1.962478         0.006800                0  "
      ]
     },
     "execution_count": 51,
     "metadata": {},
     "output_type": "execute_result"
    }
   ],
   "source": [
    "final_df.head()"
   ]
  },
  {
   "cell_type": "markdown",
   "metadata": {},
   "source": [
    "## Cleanup"
   ]
  },
  {
   "cell_type": "code",
   "execution_count": 34,
   "metadata": {},
   "outputs": [
    {
     "name": "stdout",
     "output_type": "stream",
     "text": [
      "Converted 00_utils.ipynb.\n",
      "Converted 02a_verbatims-core.ipynb.\n",
      "Converted 02b_verbatims-sentiment.ipynb.\n",
      "Converted 02c_verbatims-standard-themes-saw-training.ipynb.\n",
      "Converted 02d_verbatims-standard-themes-css-training.ipynb.\n",
      "Converted 02e_verbatims-standard-themes-meta-training.ipynb.\n",
      "Converted 99_verbatims-inference.ipynb.\n",
      "Converted index.ipynb.\n"
     ]
    }
   ],
   "source": [
    "#hide\n",
    "from nbdev.export import notebook2script\n",
    "notebook2script()"
   ]
  },
  {
   "cell_type": "markdown",
   "metadata": {},
   "source": [
    "## Playground"
   ]
  },
  {
   "cell_type": "code",
   "execution_count": 53,
   "metadata": {},
   "outputs": [
    {
     "name": "stdout",
     "output_type": "stream",
     "text": [
      "=== text ===\n",
      "There are ongoing issues in our department that make for an often awkward and uncomfortable work environment. It takes more time and energy to dance around the egos, history, and bureaucracy of the situation, which can be exhausting and lead to dissatisfaction in the work place. \\r\\n\\r\\nThere are a number of people who do not seem to being pulling their weight in work load. It is frustrating to in strong effort regularly, while others coast by without doing much (responding to emails, following through on tasks, doing their job) or otherwise putting their work on other people to do while they don't do anything. This gets me, for one, very frustrated with my workplace.\n",
      "\n",
      "=== preds ===\n",
      "[2.0457377  0.00515723]\n"
     ]
    }
   ],
   "source": [
    "verbatim_id = 588956\n",
    "\n",
    "pred_lbls = [ f'prob_{lbl}' for lbl in STANDARD_THEME_META_LABELS ]\n",
    "prob_lbls = [ f'prob_{lbl}' for lbl in STANDARD_THEME_META_LABELS ]\n",
    "\n",
    "print(\"=== text ===\")\n",
    "print(preds_df.AnswerText[preds_df.Id == verbatim_id].values[0])\n",
    "print('\\n=== preds ===')\n",
    "preds = preds_df[pred_lbls][preds_df.Id == verbatim_id].values[0]\n",
    "print(preds)"
   ]
  },
  {
   "cell_type": "code",
   "execution_count": 54,
   "metadata": {},
   "outputs": [
    {
     "data": {
      "text/html": [
       "<div>\n",
       "<style scoped>\n",
       "    .dataframe tbody tr th:only-of-type {\n",
       "        vertical-align: middle;\n",
       "    }\n",
       "\n",
       "    .dataframe tbody tr th {\n",
       "        vertical-align: top;\n",
       "    }\n",
       "\n",
       "    .dataframe thead th {\n",
       "        text-align: right;\n",
       "    }\n",
       "</style>\n",
       "<table border=\"1\" class=\"dataframe\">\n",
       "  <thead>\n",
       "    <tr style=\"text-align: right;\">\n",
       "      <th></th>\n",
       "      <th>index</th>\n",
       "      <th>Id</th>\n",
       "      <th>QuestionAnsID</th>\n",
       "      <th>AnswerText</th>\n",
       "      <th>AnswerText_NonEnglish</th>\n",
       "      <th>Language</th>\n",
       "      <th>SurveyID</th>\n",
       "      <th>SurveyTypeID</th>\n",
       "      <th>BenchmarkSurveyType</th>\n",
       "      <th>ClientId</th>\n",
       "      <th>RspID</th>\n",
       "      <th>QuestionCategoryAbbr</th>\n",
       "      <th>QuestionText</th>\n",
       "      <th>QuestionClass</th>\n",
       "      <th>QuestionCategoryID</th>\n",
       "      <th>QuestionReportAbbr</th>\n",
       "      <th>QuestionCategoryLabel</th>\n",
       "      <th>BenchmarkLevel1</th>\n",
       "      <th>BenchmarkLevel2</th>\n",
       "      <th>BenchmarkLevel3</th>\n",
       "      <th>ClientBenchmarkLevel</th>\n",
       "      <th>GroupCode</th>\n",
       "      <th>GroupID</th>\n",
       "      <th>GroupLevel1Code</th>\n",
       "      <th>GroupLevel1Name</th>\n",
       "      <th>GroupLevel2Code</th>\n",
       "      <th>GroupLevel2Name</th>\n",
       "      <th>GroupLevel3Code</th>\n",
       "      <th>GroupLevel3Name</th>\n",
       "      <th>GroupLevel4Code</th>\n",
       "      <th>GroupLevel4Name</th>\n",
       "      <th>GroupLevel5Code</th>\n",
       "      <th>GroupLevel5Name</th>\n",
       "      <th>GroupLevel6Code</th>\n",
       "      <th>GroupLevel6Name</th>\n",
       "      <th>GroupLevel7Code</th>\n",
       "      <th>GroupLevel7Name</th>\n",
       "      <th>GroupLevel8Code</th>\n",
       "      <th>GroupLevel8Name</th>\n",
       "      <th>theme</th>\n",
       "      <th>theme_pred</th>\n",
       "      <th>url_friendly_theme</th>\n",
       "      <th>answer_text</th>\n",
       "      <th>prob_avg_sentiment</th>\n",
       "      <th>prob_is_example</th>\n",
       "      <th>pred_is_example</th>\n",
       "      <th>valid_loss</th>\n",
       "      <th>sentiment_mse</th>\n",
       "      <th>sentiment_mae</th>\n",
       "      <th>sentiment_rmse</th>\n",
       "      <th>is_example_f05_threshold</th>\n",
       "      <th>is_example_f05_score</th>\n",
       "      <th>is_example_f1_threshold</th>\n",
       "      <th>is_example_f1_score</th>\n",
       "      <th>is_example_f2_threshold</th>\n",
       "      <th>is_example_f2_score</th>\n",
       "    </tr>\n",
       "  </thead>\n",
       "  <tbody>\n",
       "  </tbody>\n",
       "</table>\n",
       "</div>"
      ],
      "text/plain": [
       "Empty DataFrame\n",
       "Columns: [index, Id, QuestionAnsID, AnswerText, AnswerText_NonEnglish, Language, SurveyID, SurveyTypeID, BenchmarkSurveyType, ClientId, RspID, QuestionCategoryAbbr, QuestionText, QuestionClass, QuestionCategoryID, QuestionReportAbbr, QuestionCategoryLabel, BenchmarkLevel1, BenchmarkLevel2, BenchmarkLevel3, ClientBenchmarkLevel, GroupCode, GroupID, GroupLevel1Code, GroupLevel1Name, GroupLevel2Code, GroupLevel2Name, GroupLevel3Code, GroupLevel3Name, GroupLevel4Code, GroupLevel4Name, GroupLevel5Code, GroupLevel5Name, GroupLevel6Code, GroupLevel6Name, GroupLevel7Code, GroupLevel7Name, GroupLevel8Code, GroupLevel8Name, theme, theme_pred, url_friendly_theme, answer_text, prob_avg_sentiment, prob_is_example, pred_is_example, valid_loss, sentiment_mse, sentiment_mae, sentiment_rmse, is_example_f05_threshold, is_example_f05_score, is_example_f1_threshold, is_example_f1_score, is_example_f2_threshold, is_example_f2_score]\n",
       "Index: []"
      ]
     },
     "execution_count": 54,
     "metadata": {},
     "output_type": "execute_result"
    }
   ],
   "source": [
    "preds_df[preds_df.pred_is_example == 1].head()"
   ]
  },
  {
   "cell_type": "code",
   "execution_count": 55,
   "metadata": {},
   "outputs": [
    {
     "data": {
      "text/plain": [
       "0.04920269"
      ]
     },
     "execution_count": 55,
     "metadata": {},
     "output_type": "execute_result"
    }
   ],
   "source": [
    "preds_df.prob_is_example.max()"
   ]
  },
  {
   "cell_type": "code",
   "execution_count": 56,
   "metadata": {},
   "outputs": [
    {
     "data": {
      "text/plain": [
       "(0.05, 0.05, 0.05)"
      ]
     },
     "execution_count": 56,
     "metadata": {},
     "output_type": "execute_result"
    }
   ],
   "source": [
    "scores['is_example_f05']['threshold'], scores['is_example_f1']['threshold'], scores['is_example_f2']['threshold']"
   ]
  },
  {
   "cell_type": "code",
   "execution_count": null,
   "metadata": {},
   "outputs": [],
   "source": []
  }
 ],
 "metadata": {
  "kernelspec": {
   "display_name": "Python 3",
   "language": "python",
   "name": "python3"
  },
  "language_info": {
   "codemirror_mode": {
    "name": "ipython",
    "version": 3
   },
   "file_extension": ".py",
   "mimetype": "text/x-python",
   "name": "python",
   "nbconvert_exporter": "python",
   "pygments_lexer": "ipython3",
   "version": "3.7.6"
  },
  "varInspector": {
   "cols": {
    "lenName": 16,
    "lenType": 16,
    "lenVar": 40
   },
   "kernels_config": {
    "python": {
     "delete_cmd_postfix": "",
     "delete_cmd_prefix": "del ",
     "library": "var_list.py",
     "varRefreshCmd": "print(var_dic_list())"
    },
    "r": {
     "delete_cmd_postfix": ") ",
     "delete_cmd_prefix": "rm(",
     "library": "var_list.r",
     "varRefreshCmd": "cat(var_dic_list()) "
    }
   },
   "position": {
    "height": "468px",
    "left": "1307px",
    "right": "20px",
    "top": "120px",
    "width": "353px"
   },
   "types_to_exclude": [
    "module",
    "function",
    "builtin_function_or_method",
    "instance",
    "_Feature"
   ],
   "window_display": false
  }
 },
 "nbformat": 4,
 "nbformat_minor": 2
}
