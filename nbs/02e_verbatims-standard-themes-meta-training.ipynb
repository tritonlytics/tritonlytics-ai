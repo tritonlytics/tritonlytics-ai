{
 "cells": [
  {
   "cell_type": "code",
   "execution_count": 2,
   "metadata": {},
   "outputs": [],
   "source": [
    "#default_exp verbatims/standard_themes_meta/training"
   ]
  },
  {
   "cell_type": "code",
   "execution_count": 3,
   "metadata": {},
   "outputs": [],
   "source": [
    "#all_slow"
   ]
  },
  {
   "cell_type": "code",
   "execution_count": 4,
   "metadata": {},
   "outputs": [],
   "source": [
    "#hide\n",
    "%reload_ext autoreload\n",
    "%autoreload 2\n",
    "%matplotlib inline"
   ]
  },
  {
   "cell_type": "markdown",
   "metadata": {},
   "source": [
    "# Standard Meta Themes - Training\n",
    "\n",
    "> This module contains all the bits required to train and evaluate meta standard theme models.  These are models which, for a given verbatim related to a standard tehem, predicts the sentiment relative to *that* theme and whether it should be used as an example"
   ]
  },
  {
   "cell_type": "code",
   "execution_count": 5,
   "metadata": {},
   "outputs": [],
   "source": [
    "#export\n",
    "import os, datetime, gc\n",
    "import sklearn.metrics as skm\n",
    "\n",
    "from fastai import metrics as fa_metrics\n",
    "from fastai.text.all import *\n",
    "from transformers import *\n",
    "from blurr.utils import *\n",
    "from blurr.data.core import *\n",
    "from blurr.modeling.all import MultiTargetLoss\n",
    "from blurr.modeling.core import *\n",
    "\n",
    "from tritonlytics_ai.utils import *\n",
    "from tritonlytics_ai.verbatims.core import *"
   ]
  },
  {
   "cell_type": "code",
   "execution_count": 6,
   "metadata": {},
   "outputs": [],
   "source": [
    "#hide\n",
    "import pdb\n",
    "\n",
    "# pandas and plotting config\n",
    "import seaborn as sns\n",
    "sns.set_style('whitegrid')\n",
    "\n",
    "plt.rcParams['figure.figsize'] = (9,6)\n",
    "\n",
    "pd.set_option('display.max_rows', 500)\n",
    "pd.set_option('display.max_columns', 500)\n",
    "pd.set_option('display.width', 1000)\n",
    "pd.set_option('display.max_colwidth', 100)\n",
    "\n",
    "from nbdev.showdoc import *\n",
    "from fastcore.test import *"
   ]
  },
  {
   "cell_type": "code",
   "execution_count": 7,
   "metadata": {
    "tags": []
   },
   "outputs": [
    {
     "name": "stdout",
     "output_type": "stream",
     "text": [
      "Using pytorch 1.6.0\n",
      "Using fastai 2.0.16\n",
      "Using transformers 3.3.1\n"
     ]
    }
   ],
   "source": [
    "#hide\n",
    "from fastai import __version__ as fa_version\n",
    "from torch import __version__ as pt_version\n",
    "from transformers import __version__ as hft_version\n",
    "\n",
    "print(f'Using pytorch {pt_version}')\n",
    "print(f'Using fastai {fa_version}')\n",
    "print(f'Using transformers {hft_version}')"
   ]
  },
  {
   "cell_type": "code",
   "execution_count": 8,
   "metadata": {
    "tags": []
   },
   "outputs": [
    {
     "name": "stdout",
     "output_type": "stream",
     "text": [
      "Using GPU #1\n"
     ]
    }
   ],
   "source": [
    "#cuda\n",
    "torch.cuda.set_device(1)\n",
    "print(f'Using GPU #{torch.cuda.current_device()}')"
   ]
  },
  {
   "cell_type": "code",
   "execution_count": 8,
   "metadata": {},
   "outputs": [],
   "source": [
    "train_config = {}"
   ]
  },
  {
   "cell_type": "markdown",
   "metadata": {},
   "source": [
    "## Data"
   ]
  },
  {
   "cell_type": "code",
   "execution_count": 9,
   "metadata": {
    "scrolled": true
   },
   "outputs": [
    {
     "name": "stderr",
     "output_type": "stream",
     "text": [
      "Some weights of the model checkpoint at facebook/bart-base were not used when initializing BartForSequenceClassification: ['final_logits_bias']\n",
      "- This IS expected if you are initializing BartForSequenceClassification from the checkpoint of a model trained on another task or with another architecture (e.g. initializing a BertForSequenceClassification model from a BertForPretraining model).\n",
      "- This IS NOT expected if you are initializing BartForSequenceClassification from the checkpoint of a model that you expect to be exactly identical (initializing a BertForSequenceClassification model from a BertForSequenceClassification model).\n",
      "Some weights of BartForSequenceClassification were not initialized from the model checkpoint at facebook/bart-base and are newly initialized: ['classification_head.dense.weight', 'classification_head.dense.bias', 'classification_head.out_proj.weight', 'classification_head.out_proj.bias']\n",
      "You should probably TRAIN this model on a down-stream task to be able to use it for predictions and inference.\n"
     ]
    }
   ],
   "source": [
    "task = HF_TASKS_AUTO.SequenceClassification\n",
    "\n",
    "pretrained_model_name = 'facebook/bart-base' #\"bert-base-cased\" #\"bert-base-uncased\" #\"roberta-base\"\n",
    "config = AutoConfig.from_pretrained(pretrained_model_name)\n",
    "config.attention_probs_dropout_prob = 0.1 * 2\n",
    "config.hidden_dropout_prob = 0.1 * 2\n",
    "\n",
    "hf_arch, hf_config, hf_tokenizer, hf_model = BLURR_MODEL_HELPER.get_hf_objects(pretrained_model_name, \n",
    "                                                                               task=task, \n",
    "                                                                               config=config)"
   ]
  },
  {
   "cell_type": "code",
   "execution_count": 10,
   "metadata": {},
   "outputs": [],
   "source": [
    "df = get_meta_standard_theme_train_data(train_config=train_config)\n",
    "train_df, valid_df = df[df.is_valid == False], df[df.is_valid == True]\n",
    "\n",
    "dls = get_meta_standard_theme_train_dls(df, hf_arch, hf_tokenizer, train_config=train_config)"
   ]
  },
  {
   "cell_type": "code",
   "execution_count": 11,
   "metadata": {
    "tags": []
   },
   "outputs": [
    {
     "data": {
      "text/plain": [
       "(3, torch.Size([8, 468]), torch.Size([8]), torch.Size([8]))"
      ]
     },
     "execution_count": 11,
     "metadata": {},
     "output_type": "execute_result"
    }
   ],
   "source": [
    "b = dls.one_batch()\n",
    "len(b), b[0]['input_ids'].shape, b[1].shape, b[2].shape"
   ]
  },
  {
   "cell_type": "markdown",
   "metadata": {},
   "source": [
    "## Training"
   ]
  },
  {
   "cell_type": "code",
   "execution_count": 12,
   "metadata": {},
   "outputs": [],
   "source": [
    "m_pre = f'exp_{m_pre_standard_themes_meta}'\n",
    "m_suf = m_suf_standard_themes_meta"
   ]
  },
  {
   "cell_type": "markdown",
   "metadata": {},
   "source": [
    "Configure our **metrics**"
   ]
  },
  {
   "cell_type": "code",
   "execution_count": 13,
   "metadata": {},
   "outputs": [],
   "source": [
    "#export\n",
    "# define metrics\n",
    "def sentiment_mse(preds, *targs):\n",
    "    return fa_metrics.mse(preds[0], targs[0])\n",
    "\n",
    "def is_example_acc(preds, *targs):\n",
    "    return fa_metrics.accuracy(preds[1], targs[1])"
   ]
  },
  {
   "cell_type": "code",
   "execution_count": 14,
   "metadata": {},
   "outputs": [],
   "source": [
    "#export\n",
    "def get_metrics(train_config={}):\n",
    "    config = {**meta_standard_themes_train_config, **train_config}\n",
    "    return [ sentiment_mse, is_example_acc ]"
   ]
  },
  {
   "cell_type": "markdown",
   "metadata": {},
   "source": [
    "Configure our **loss**"
   ]
  },
  {
   "cell_type": "code",
   "execution_count": 15,
   "metadata": {
    "scrolled": true
   },
   "outputs": [
    {
     "name": "stdout",
     "output_type": "stream",
     "text": [
      "[1.0, 115.48148148148148]\n"
     ]
    }
   ],
   "source": [
    "is_example_weights = list(np.max(train_df.is_example.value_counts()) /train_df.is_example.value_counts())\n",
    "print(is_example_weights)"
   ]
  },
  {
   "cell_type": "code",
   "execution_count": 16,
   "metadata": {},
   "outputs": [],
   "source": [
    "# define our custom multi-target loss\n",
    "loss_func = MultiTargetLoss(loss_classes=[MSELossFlat, CrossEntropyLossFlat],\n",
    "                            loss_classes_kwargs=[{}, {'weight': FloatTensor(is_example_weights).to('cuda:1')}],\n",
    "                            weights=[1, 0.1], \n",
    "                            reduction='mean')"
   ]
  },
  {
   "cell_type": "code",
   "execution_count": 17,
   "metadata": {},
   "outputs": [],
   "source": [
    "#export\n",
    "def get_loss_func(dls, train_df=None, use_weighted=False):\n",
    "    loss_classes_kwargs = [{}, {}]\n",
    "    \n",
    "    if (use_weighted and train_df is not None):\n",
    "        is_example_weights = list(np.max(train_df.is_example.value_counts()) /train_df.is_example.value_counts())\n",
    "        loss_classes_kwargs[1] = {'weight': FloatTensor(is_example_weights).to(dls.device)}\n",
    "    \n",
    "    loss_func = MultiTargetLoss(loss_classes=[MSELossFlat, CrossEntropyLossFlat],\n",
    "                                loss_classes_kwargs=loss_classes_kwargs,\n",
    "                                weights=[1, 0.1], \n",
    "                                reduction='mean')\n",
    "        \n",
    "    return loss_func"
   ]
  },
  {
   "cell_type": "code",
   "execution_count": 18,
   "metadata": {},
   "outputs": [],
   "source": [
    "tst_loss_func = get_loss_func(dls, train_df, use_weighted=False)\n",
    "test_is(type(tst_loss_func), MultiTargetLoss)"
   ]
  },
  {
   "cell_type": "code",
   "execution_count": 19,
   "metadata": {},
   "outputs": [],
   "source": [
    "tst_loss_func = get_loss_func(dls, train_df, use_weighted=True)\n",
    "test_is(type(tst_loss_func), MultiTargetLoss)\n",
    "test_eq(len(tst_loss_func.loss_funcs[1].func.weight), len(dls.c))\n",
    "test_eq(dls.device, tst_loss_func.loss_funcs[1].func.weight.device)"
   ]
  },
  {
   "cell_type": "markdown",
   "metadata": {},
   "source": [
    "Configure our callbacks"
   ]
  },
  {
   "cell_type": "code",
   "execution_count": 20,
   "metadata": {},
   "outputs": [],
   "source": [
    "#export\n",
    "class Meta_MM_HF_BaseModelCallback(HF_BaseModelCallback):\n",
    "    def __init__(self, cls_idx=0):\n",
    "        super().__init__()\n",
    "        self.cls_idx = cls_idx\n",
    "        \n",
    "    def after_pred(self):\n",
    "        super().after_pred()\n",
    "        if (self.learn.pred[0].dim() == 3):\n",
    "            self.learn.pred = (self.learn.pred[0][:,self.cls_idx,:], self.learn.pred[1][:,self.cls_idx,:])"
   ]
  },
  {
   "cell_type": "code",
   "execution_count": 21,
   "metadata": {},
   "outputs": [],
   "source": [
    "best_model_cb = SaveModelCallback(monitor='valid_loss', \n",
    "                                  comp=np.less, \n",
    "                                  reset_on_fit=False,\n",
    "                                  fname=f'{m_pre}mm_bestmodel{m_suf}')"
   ]
  },
  {
   "cell_type": "code",
   "execution_count": 22,
   "metadata": {},
   "outputs": [],
   "source": [
    "#export\n",
    "def get_cbs(train_config={}):\n",
    "    config = {**meta_standard_themes_train_config, **train_config}\n",
    "    \n",
    "    best_model_cb = SaveModelCallback(monitor=config['save_model_monitor'], \n",
    "                                      comp=config['save_model_comp'], \n",
    "                                      fname=config['save_model_filename'],\n",
    "                                      reset_on_fit=False)\n",
    "    \n",
    "    return [Meta_MM_HF_BaseModelCallback], [best_model_cb] # (learn_cbs, fit_cbs)"
   ]
  },
  {
   "cell_type": "markdown",
   "metadata": {},
   "source": [
    "Configure our final model by updating our hf_model.classifier for multi-modal tasks"
   ]
  },
  {
   "cell_type": "code",
   "execution_count": 23,
   "metadata": {},
   "outputs": [],
   "source": [
    "#hide\n",
    "\n",
    "# class Meta_MM(Module):\n",
    "#     def __init__(self, in_features=768, inner_dim=768, p=0.0): \n",
    "#         super().__init__()\n",
    "#         self.dense = nn.Linear(in_features, inner_dim)\n",
    "#         self.dropout = nn.Dropout(p=p)\n",
    "#         self.pred_is_example = nn.Linear(inner_dim, 2, bias=False)\n",
    "#         self.pred_avg_sentiment = nn.Linear(inner_dim, 1, bias=False)\n",
    "#         self.pred_avg_sent_range = SigmoidRange(1., 5.1)\n",
    "        \n",
    "#     def forward(self, x):\n",
    "#         x = self.dropout(x)\n",
    "#         x = self.dense(x)\n",
    "#         x = torch.tanh(x)\n",
    "#         x = self.dropout(x)\n",
    "#         is_example = self.pred_is_example(x)\n",
    "#         avg_sentiment = self.pred_avg_sent_range(self.pred_avg_sentiment(x))\n",
    "        \n",
    "#         return avg_sentiment, is_example"
   ]
  },
  {
   "cell_type": "code",
   "execution_count": 24,
   "metadata": {},
   "outputs": [],
   "source": [
    "#export\n",
    "class Meta_MM(Module):\n",
    "    def __init__(self, in_features=50): \n",
    "        super().__init__()\n",
    "        self.pred_is_example = nn.Linear(in_features, 2, bias=False)\n",
    "        self.pred_avg_sentiment = nn.Linear(in_features, 1, bias=False)\n",
    "        self.pred_avg_sent_range = SigmoidRange(1., 5.1)\n",
    "        \n",
    "    def forward(self, x):\n",
    "        is_example = self.pred_is_example(x)\n",
    "        avg_sentiment = self.pred_avg_sent_range(self.pred_avg_sentiment(x))\n",
    "        \n",
    "        return avg_sentiment, is_example"
   ]
  },
  {
   "cell_type": "code",
   "execution_count": 25,
   "metadata": {},
   "outputs": [],
   "source": [
    "last_layer = list(hf_model.named_children())[-1]"
   ]
  },
  {
   "cell_type": "code",
   "execution_count": 26,
   "metadata": {},
   "outputs": [
    {
     "data": {
      "text/plain": [
       "'classification_head'"
      ]
     },
     "execution_count": 26,
     "metadata": {},
     "output_type": "execute_result"
    }
   ],
   "source": [
    "last_layer_name = last_layer[0]; last_layer_name"
   ]
  },
  {
   "cell_type": "code",
   "execution_count": 27,
   "metadata": {
    "scrolled": true
   },
   "outputs": [],
   "source": [
    "in_features = hf_model._modules[last_layer_name].dense.in_features"
   ]
  },
  {
   "cell_type": "code",
   "execution_count": 28,
   "metadata": {},
   "outputs": [],
   "source": [
    "hf_model._modules[last_layer_name] = Meta_MM(in_features=in_features)"
   ]
  },
  {
   "cell_type": "code",
   "execution_count": 29,
   "metadata": {},
   "outputs": [],
   "source": [
    "#hide\n",
    "# in_features = list(last_layer[1].children())[0].in_features; in_features\n",
    "# mm_model = nn.Sequential(list(hf_model.named_children())[:-1][0][1])\n",
    "# mm_model.add_module(name='classifier', module=MM(in_features=768))\n",
    "# hf_model._modules['classifier'] = hf_model._modules.pop(last_layer_name)"
   ]
  },
  {
   "cell_type": "markdown",
   "metadata": {},
   "source": [
    "Configure the Learner"
   ]
  },
  {
   "cell_type": "code",
   "execution_count": 30,
   "metadata": {},
   "outputs": [],
   "source": [
    "learn_metrics = [sentiment_mse, is_example_acc]\n",
    "\n",
    "learn_cbs = [Meta_MM_HF_BaseModelCallback]\n",
    "fit_cbs = [best_model_cb]\n",
    "\n",
    "# build learner\n",
    "model =HF_BaseModelWrapper(hf_model)\n",
    "\n",
    "learn = Learner(dls, \n",
    "                model,\n",
    "                opt_func=partial(Adam, mom=0.9, sqr_mom=0.98, eps=1e-6, weight_decay=0.1),\n",
    "                loss_func=loss_func,\n",
    "                metrics=learn_metrics,\n",
    "                cbs=learn_cbs,\n",
    "                splitter=hf_splitter,\n",
    "                path=STANDARD_THEME_META_PATH)\n",
    "\n",
    "learn.create_opt() # -> will create your layer groups based on your \"splitter\" function\n",
    "learn.freeze()"
   ]
  },
  {
   "cell_type": "code",
   "execution_count": 31,
   "metadata": {},
   "outputs": [],
   "source": [
    "# learn.blurr_summary()"
   ]
  },
  {
   "cell_type": "code",
   "execution_count": 32,
   "metadata": {},
   "outputs": [],
   "source": [
    "# learn.show_training_loop()"
   ]
  },
  {
   "cell_type": "code",
   "execution_count": 33,
   "metadata": {},
   "outputs": [],
   "source": [
    "# Note: Run this to test the model and comment out afterwards as it needlessly contributes to GPU RAM utilization :(\n",
    "# preds = model(b[0]); preds[0][0].shape, preds[0][1].shape"
   ]
  },
  {
   "cell_type": "code",
   "execution_count": 34,
   "metadata": {},
   "outputs": [],
   "source": [
    "#export\n",
    "def get_learner(hf_model, dls, train_df=None, use_weighted_loss=False, use_fp16=True,\n",
    "                opt_func=partial(Adam, mom=0.9, sqr_mom=0.98, eps=1e-6, weight_decay=0.1),\n",
    "                train_config={}):\n",
    "    config = {**meta_standard_themes_train_config, **train_config}\n",
    "    \n",
    "    # swap out classifier for our Meta_MM module\n",
    "    last_layer = list(hf_model.named_children())[-1]\n",
    "    last_layer_name = last_layer[0]\n",
    "    in_features = hf_model._modules[last_layer_name].dense.in_features\n",
    "    hf_model._modules[last_layer_name] = Meta_MM(in_features=in_features)\n",
    "    \n",
    "    # build learner\n",
    "    model = HF_BaseModelWrapper(hf_model)\n",
    "    loss_func = get_loss_func(dls, train_df, use_weighted_loss)\n",
    "    learn_cbs, fit_cbs = get_cbs(config)\n",
    "    learn_metrics = get_metrics(config)\n",
    "\n",
    "    learn = Learner(dls, model, loss_func=loss_func, opt_func=opt_func, \n",
    "                    metrics=learn_metrics, cbs=learn_cbs, splitter=hf_splitter, path=config['learner_path'])\n",
    "    \n",
    "    if (use_fp16): learn = learn.to_fp16()\n",
    "    learn.create_opt() # -> will create your layer groups based on your \"splitter\" function\n",
    "    learn.freeze()\n",
    "    \n",
    "    return learn, fit_cbs"
   ]
  },
  {
   "cell_type": "code",
   "execution_count": 35,
   "metadata": {
    "scrolled": false
   },
   "outputs": [
    {
     "data": {
      "text/html": [],
      "text/plain": [
       "<IPython.core.display.HTML object>"
      ]
     },
     "metadata": {},
     "output_type": "display_data"
    },
    {
     "data": {
      "text/plain": [
       "(0.005754399299621582, 4.365158383734524e-05)"
      ]
     },
     "execution_count": 35,
     "metadata": {},
     "output_type": "execute_result"
    },
    {
     "data": {
      "image/png": "[encoded data removed]",
      "text/plain": [
       "<Figure size 648x432 with 1 Axes>"
      ]
     },
     "metadata": {},
     "output_type": "display_data"
    }
   ],
   "source": [
    "lr_min, lr_steep = learn.lr_find(); lr_min, lr_steep"
   ]
  },
  {
   "cell_type": "code",
   "execution_count": 36,
   "metadata": {
    "scrolled": true
   },
   "outputs": [
    {
     "data": {
      "text/html": [
       "<table border=\"1\" class=\"dataframe\">\n",
       "  <thead>\n",
       "    <tr style=\"text-align: left;\">\n",
       "      <th>epoch</th>\n",
       "      <th>train_loss</th>\n",
       "      <th>valid_loss</th>\n",
       "      <th>sentiment_mse</th>\n",
       "      <th>is_example_acc</th>\n",
       "      <th>time</th>\n",
       "    </tr>\n",
       "  </thead>\n",
       "  <tbody>\n",
       "    <tr>\n",
       "      <td>0</td>\n",
       "      <td>0.488251</td>\n",
       "      <td>0.493989</td>\n",
       "      <td>0.473179</td>\n",
       "      <td>0.992374</td>\n",
       "      <td>01:51</td>\n",
       "    </tr>\n",
       "  </tbody>\n",
       "</table>"
      ],
      "text/plain": [
       "<IPython.core.display.HTML object>"
      ]
     },
     "metadata": {},
     "output_type": "display_data"
    },
    {
     "name": "stdout",
     "output_type": "stream",
     "text": [
      "Better model found at epoch 0 with valid_loss value: 0.49398910999298096.\n"
     ]
    }
   ],
   "source": [
    "learn.fit_one_cycle(1, lr_max=lr_min, cbs=fit_cbs)\n",
    "# learn.fit_flat_cos(10, lr_max=lr_min, cbs=fit_cbs, pct_start=0.72)"
   ]
  },
  {
   "cell_type": "code",
   "execution_count": 37,
   "metadata": {},
   "outputs": [
    {
     "data": {
      "text/html": [],
      "text/plain": [
       "<IPython.core.display.HTML object>"
      ]
     },
     "metadata": {},
     "output_type": "display_data"
    },
    {
     "data": {
      "text/plain": [
       "(9.12010818865383e-08, 1.5848931980144698e-06)"
      ]
     },
     "execution_count": 37,
     "metadata": {},
     "output_type": "execute_result"
    },
    {
     "data": {
      "image/png": "[encoded data removed]",
      "text/plain": [
       "<Figure size 648x432 with 1 Axes>"
      ]
     },
     "metadata": {},
     "output_type": "display_data"
    }
   ],
   "source": [
    "learn.unfreeze()\n",
    "lr_min, lr_steep = learn.lr_find(); lr_min, lr_steep"
   ]
  },
  {
   "cell_type": "code",
   "execution_count": 38,
   "metadata": {},
   "outputs": [
    {
     "data": {
      "text/html": [
       "<table border=\"1\" class=\"dataframe\">\n",
       "  <thead>\n",
       "    <tr style=\"text-align: left;\">\n",
       "      <th>epoch</th>\n",
       "      <th>train_loss</th>\n",
       "      <th>valid_loss</th>\n",
       "      <th>sentiment_mse</th>\n",
       "      <th>is_example_acc</th>\n",
       "      <th>time</th>\n",
       "    </tr>\n",
       "  </thead>\n",
       "  <tbody>\n",
       "    <tr>\n",
       "      <td>0</td>\n",
       "      <td>0.452216</td>\n",
       "      <td>0.493623</td>\n",
       "      <td>0.472819</td>\n",
       "      <td>0.992374</td>\n",
       "      <td>03:24</td>\n",
       "    </tr>\n",
       "    <tr>\n",
       "      <td>1</td>\n",
       "      <td>0.387914</td>\n",
       "      <td>0.492803</td>\n",
       "      <td>0.472054</td>\n",
       "      <td>0.992374</td>\n",
       "      <td>03:25</td>\n",
       "    </tr>\n",
       "    <tr>\n",
       "      <td>2</td>\n",
       "      <td>0.456955</td>\n",
       "      <td>0.492486</td>\n",
       "      <td>0.471806</td>\n",
       "      <td>0.992374</td>\n",
       "      <td>03:25</td>\n",
       "    </tr>\n",
       "    <tr>\n",
       "      <td>3</td>\n",
       "      <td>0.487967</td>\n",
       "      <td>0.492199</td>\n",
       "      <td>0.471575</td>\n",
       "      <td>0.992374</td>\n",
       "      <td>03:25</td>\n",
       "    </tr>\n",
       "    <tr>\n",
       "      <td>4</td>\n",
       "      <td>0.463871</td>\n",
       "      <td>0.491713</td>\n",
       "      <td>0.471115</td>\n",
       "      <td>0.992374</td>\n",
       "      <td>03:25</td>\n",
       "    </tr>\n",
       "    <tr>\n",
       "      <td>5</td>\n",
       "      <td>0.420963</td>\n",
       "      <td>0.491416</td>\n",
       "      <td>0.470847</td>\n",
       "      <td>0.992374</td>\n",
       "      <td>03:26</td>\n",
       "    </tr>\n",
       "    <tr>\n",
       "      <td>6</td>\n",
       "      <td>0.437355</td>\n",
       "      <td>0.491280</td>\n",
       "      <td>0.470730</td>\n",
       "      <td>0.992374</td>\n",
       "      <td>03:25</td>\n",
       "    </tr>\n",
       "    <tr>\n",
       "      <td>7</td>\n",
       "      <td>0.502947</td>\n",
       "      <td>0.491238</td>\n",
       "      <td>0.470693</td>\n",
       "      <td>0.992374</td>\n",
       "      <td>03:25</td>\n",
       "    </tr>\n",
       "    <tr>\n",
       "      <td>8</td>\n",
       "      <td>0.443085</td>\n",
       "      <td>0.491233</td>\n",
       "      <td>0.470690</td>\n",
       "      <td>0.992374</td>\n",
       "      <td>03:25</td>\n",
       "    </tr>\n",
       "    <tr>\n",
       "      <td>9</td>\n",
       "      <td>0.454375</td>\n",
       "      <td>0.491233</td>\n",
       "      <td>0.470690</td>\n",
       "      <td>0.992374</td>\n",
       "      <td>03:26</td>\n",
       "    </tr>\n",
       "  </tbody>\n",
       "</table>"
      ],
      "text/plain": [
       "<IPython.core.display.HTML object>"
      ]
     },
     "metadata": {},
     "output_type": "display_data"
    },
    {
     "name": "stdout",
     "output_type": "stream",
     "text": [
      "Better model found at epoch 0 with valid_loss value: 0.49362337589263916.\n",
      "Better model found at epoch 1 with valid_loss value: 0.49280279874801636.\n",
      "Better model found at epoch 2 with valid_loss value: 0.4924863278865814.\n",
      "Better model found at epoch 3 with valid_loss value: 0.4921993613243103.\n",
      "Better model found at epoch 4 with valid_loss value: 0.49171289801597595.\n",
      "Better model found at epoch 5 with valid_loss value: 0.4914156198501587.\n",
      "Better model found at epoch 6 with valid_loss value: 0.4912804663181305.\n",
      "Better model found at epoch 7 with valid_loss value: 0.4912377595901489.\n",
      "Better model found at epoch 8 with valid_loss value: 0.49123311042785645.\n"
     ]
    }
   ],
   "source": [
    "learn.fit_one_cycle(10, lr_max=slice(lr_min/10, lr_min), cbs=fit_cbs)\n",
    "# learn.fit_flat_cos(5, lr_max=slice(lr_min/10, lr_min), cbs=fit_cbs, pct_start=0.72)"
   ]
  },
  {
   "cell_type": "code",
   "execution_count": 39,
   "metadata": {},
   "outputs": [
    {
     "data": {
      "text/plain": [
       "Path('data/classification/standard_themes/meta/models/exp_mm_multitask_hf.pth')"
      ]
     },
     "execution_count": 39,
     "metadata": {},
     "output_type": "execute_result"
    }
   ],
   "source": [
    "learn.save(f'{m_pre}mm{m_suf}')"
   ]
  },
  {
   "cell_type": "markdown",
   "metadata": {},
   "source": [
    "Export model for inference"
   ]
  },
  {
   "cell_type": "code",
   "execution_count": 40,
   "metadata": {},
   "outputs": [],
   "source": [
    "learn.export(fname=f'{m_pre}export_mm{m_suf}.pkl')"
   ]
  },
  {
   "cell_type": "markdown",
   "metadata": {},
   "source": [
    "Look at results"
   ]
  },
  {
   "cell_type": "code",
   "execution_count": 41,
   "metadata": {},
   "outputs": [],
   "source": [
    "learn = learn.load(f'{m_pre}mm_bestmodel{m_suf}')"
   ]
  },
  {
   "cell_type": "code",
   "execution_count": 42,
   "metadata": {},
   "outputs": [
    {
     "data": {
      "text/html": [],
      "text/plain": [
       "<IPython.core.display.HTML object>"
      ]
     },
     "metadata": {},
     "output_type": "display_data"
    },
    {
     "data": {
      "text/plain": [
       "{'valid_loss': 0.49123311042785645,\n",
       " 'sentiment_mse': 0.4706902503967285,\n",
       " 'is_example_acc': 0.9923737049102783}"
      ]
     },
     "execution_count": 42,
     "metadata": {},
     "output_type": "execute_result"
    }
   ],
   "source": [
    "scores = dict(zip(learn.recorder.metric_names[2:], learn.validate())); scores"
   ]
  },
  {
   "cell_type": "code",
   "execution_count": 43,
   "metadata": {},
   "outputs": [
    {
     "data": {
      "text/html": [],
      "text/plain": [
       "<IPython.core.display.HTML object>"
      ]
     },
     "metadata": {},
     "output_type": "display_data"
    },
    {
     "data": {
      "text/html": [
       "<table border=\"1\" class=\"dataframe\">\n",
       "  <thead>\n",
       "    <tr style=\"text-align: right;\">\n",
       "      <th></th>\n",
       "      <th>text</th>\n",
       "      <th>text_</th>\n",
       "      <th>category</th>\n",
       "      <th>target1</th>\n",
       "      <th>target2</th>\n",
       "    </tr>\n",
       "  </thead>\n",
       "  <tbody>\n",
       "    <tr>\n",
       "      <th>0</th>\n",
       "      <td>theme: Have Voice within my Institution/Valued Member of my Institution comment: I am satisfied with my department but very dissatisfied with ANR at the state/headquarters level. In my department, I have a voice, can influence small decisions and am recognized for my efforts. At the state level, I feel my voice is not heard or my importance is not recognized.\\r\\n\\r\\nThese feelings stem from a couple of more specific grievances: \\r\\n1) Continued/Increased inefficiencies, red tape and lack of progress clarity with administrative processes (eg hiring, grants, finance), such that deliverables cannot be met, ill-will is bred with funders &amp; clientele and grant funds are lost, unexpended. And I spend large amounts of my time pestering people to do their job, rather than getting to do mine.\\r\\n2) Continued lack of communication of what the road map and benchmarks are to emerge for our budget and staffing crisis. \\r\\n3) Continued investment in expensive upper-level positions of leadership at HQ and lack of investment in county-based academic and staff positions. \\r\\n\\r\\nI generally feel that when I try to innovate through these lean time, I am stymied by HQ in some way. I feel like our Vice President in particular does not understand what a crisis we are in. We are not shuffling talent because millenials like to change jobs. We are hemorrhaging talent because ANR is a spirit-stomping place to work, and we'll continue to do so if systems are so inefficient they get in the way of us doing our actual job and staffing levels means we have to do 2-3 times the work of our predecessors.</td>\n",
       "      <td>2.0</td>\n",
       "      <td>0</td>\n",
       "      <td>(2.065464496612549,)</td>\n",
       "      <td>0</td>\n",
       "    </tr>\n",
       "    <tr>\n",
       "      <th>1</th>\n",
       "      <td>theme: Advancement and Training Opportunities comment: Insights as alumna/former student of UCSD, working on main campus 3.5+ years, Mexican-American female &amp; varied experience from start-up to non-profit to corporate:\\r\\n1. Dept/Culture:All, not just leadership/HR- trained yearly on effective leadership, diversity/inclusivity, utilizing technology &amp; innovative ideas on team dynamics/future of work. Workshops at Price?\\r\\n2. As non-profit, yes, \"Do more with Less\"- YET the level of stress/expectations of work (e.g.7:30A-6:30P or later-every day- work through lunch/breaks) has been a big issue for many. Non-work/life balance= plethora of health/sick issues\\r\\n3. Parking (no surprise): $90 per month but no spots available? Yet, 24/7 A spots open at Gilman? Perhaps: bus from further area= cheaper to staff? Are Staff (lowest on bureaucratic totem pole) giving 20 minutes of our own time each day (minimum) to/from work? Time=greatest commodity to humanity. How can we then best serve students?\\r\\n4. Coaching/leadership classes: for All, not just Leadership/Managers\\r\\n5. PPS: a month to get a response (time-sensitive issues &amp; only 1 person knows the answer) can be incredibly stressful/error-prone\\r\\n6. Public funds can't be used for (parking)? Communicate: certain decisions (limited funding, strategy); where resources are going? Connect choices to mission!\\r\\n7. Student worker pay\\r\\n8. Where's RASC retirement? \\r\\n9. TRANSPARENCY on pay/incentives- my supervisor makes 3X my salary...\\r\\n10. MANDATORY: Leaders MUST take technology courses, be computer literate</td>\n",
       "      <td>3.0</td>\n",
       "      <td>0</td>\n",
       "      <td>(2.2576780319213867,)</td>\n",
       "      <td>0</td>\n",
       "    </tr>\n",
       "  </tbody>\n",
       "</table>"
      ],
      "text/plain": [
       "<IPython.core.display.HTML object>"
      ]
     },
     "metadata": {},
     "output_type": "display_data"
    }
   ],
   "source": [
    "learn.show_results(learner=learn, max_n=2) "
   ]
  },
  {
   "cell_type": "markdown",
   "metadata": {},
   "source": [
    "Use it for inference"
   ]
  },
  {
   "cell_type": "code",
   "execution_count": 44,
   "metadata": {},
   "outputs": [],
   "source": [
    "inf_learn = load_learner(STANDARD_THEME_META_PATH/f'{m_pre}export_mm{m_suf}.pkl')"
   ]
  },
  {
   "cell_type": "code",
   "execution_count": 45,
   "metadata": {},
   "outputs": [
    {
     "data": {
      "text/html": [],
      "text/plain": [
       "<IPython.core.display.HTML object>"
      ]
     },
     "metadata": {},
     "output_type": "display_data"
    },
    {
     "data": {
      "text/plain": [
       "(((1.9537514448165894), '0'), tensor([[1.9538]]), tensor([[1.9538]]))"
      ]
     },
     "execution_count": 45,
     "metadata": {},
     "output_type": "execute_result"
    }
   ],
   "source": [
    "inf_learn.blurr_predict('theme: Benefits comment: We are not paid enough and the benefits are horrible')"
   ]
  },
  {
   "cell_type": "markdown",
   "metadata": {},
   "source": [
    "Review final validation loss for best model"
   ]
  },
  {
   "cell_type": "code",
   "execution_count": 46,
   "metadata": {},
   "outputs": [
    {
     "data": {
      "text/html": [],
      "text/plain": [
       "<IPython.core.display.HTML object>"
      ]
     },
     "metadata": {},
     "output_type": "display_data"
    },
    {
     "name": "stdout",
     "output_type": "stream",
     "text": [
      "Validation Loss: 0.719510018825531\n"
     ]
    }
   ],
   "source": [
    "learn = learn.load(f'{m_pre}mm_bestmodel{m_suf}')\n",
    "probs, targs, loss = learn.get_preds(dl=dls.valid, with_loss=True)\n",
    "\n",
    "print(f'Validation Loss: {loss.mean()}')\n",
    "# print(f'Validation Loss (per label): {loss.mean(dim=0)}') # ... no longer works (see forum comment from sylvain)"
   ]
  },
  {
   "cell_type": "code",
   "execution_count": 47,
   "metadata": {},
   "outputs": [
    {
     "name": "stdout",
     "output_type": "stream",
     "text": [
      "tensor([2.0570]) tensor(2.) tensor(0) tensor(0)\n",
      "tensor([2.1432]) tensor(2.) tensor(0) tensor(0)\n",
      "tensor([4.2728]) tensor(4.) tensor(0) tensor(0)\n",
      "tensor([2.3657]) tensor(2.) tensor(0) tensor(0)\n",
      "tensor([3.2977]) tensor(4.) tensor(0) tensor(0)\n",
      "tensor([2.0485]) tensor(2.) tensor(0) tensor(0)\n",
      "tensor([4.3286]) tensor(5.) tensor(0) tensor(0)\n",
      "tensor([2.2156]) tensor(2.) tensor(0) tensor(0)\n",
      "tensor([2.8426]) tensor(3.) tensor(0) tensor(0)\n",
      "tensor([2.5357]) tensor(4.) tensor(0) tensor(0)\n",
      "tensor([2.4413]) tensor(2.) tensor(0) tensor(0)\n",
      "tensor([3.9349]) tensor(5.) tensor(0) tensor(0)\n",
      "tensor([2.6235]) tensor(2.) tensor(0) tensor(0)\n",
      "tensor([3.3280]) tensor(2.) tensor(0) tensor(0)\n",
      "tensor([1.9687]) tensor(1.) tensor(0) tensor(0)\n",
      "tensor([2.0866]) tensor(1.5000) tensor(0) tensor(0)\n",
      "tensor([2.7664]) tensor(5.) tensor(0) tensor(0)\n",
      "tensor([2.1355]) tensor(3.) tensor(0) tensor(0)\n",
      "tensor([2.0750]) tensor(2.) tensor(0) tensor(0)\n",
      "tensor([2.5335]) tensor(3.) tensor(0) tensor(0)\n",
      "tensor([2.0671]) tensor(2.) tensor(0) tensor(0)\n",
      "tensor([2.1237]) tensor(2.) tensor(0) tensor(0)\n",
      "tensor([2.2415]) tensor(2.) tensor(0) tensor(0)\n",
      "tensor([2.0339]) tensor(2.) tensor(0) tensor(0)\n",
      "tensor([2.4626]) tensor(3.) tensor(0) tensor(0)\n",
      "tensor([3.7713]) tensor(4.) tensor(0) tensor(0)\n",
      "tensor([2.2921]) tensor(1.) tensor(0) tensor(0)\n",
      "tensor([2.0303]) tensor(1.) tensor(0) tensor(0)\n",
      "tensor([2.0701]) tensor(2.) tensor(0) tensor(0)\n",
      "tensor([2.0257]) tensor(2.5000) tensor(0) tensor(0)\n",
      "tensor([2.8015]) tensor(2.) tensor(0) tensor(0)\n",
      "tensor([2.4035]) tensor(3.) tensor(0) tensor(0)\n",
      "tensor([1.9900]) tensor(2.) tensor(0) tensor(0)\n",
      "tensor([2.3396]) tensor(2.) tensor(0) tensor(0)\n",
      "tensor([2.1308]) tensor(2.) tensor(0) tensor(0)\n",
      "tensor([2.1529]) tensor(2.) tensor(0) tensor(0)\n",
      "tensor([2.3037]) tensor(3.) tensor(0) tensor(0)\n",
      "tensor([1.8680]) tensor(2.) tensor(0) tensor(0)\n",
      "tensor([2.1477]) tensor(2.) tensor(0) tensor(0)\n",
      "tensor([2.0840]) tensor(2.) tensor(0) tensor(0)\n",
      "tensor([2.1023]) tensor(2.) tensor(0) tensor(0)\n",
      "tensor([2.6265]) tensor(3.) tensor(0) tensor(0)\n",
      "tensor([2.1029]) tensor(2.) tensor(0) tensor(0)\n",
      "tensor([2.1195]) tensor(3.) tensor(0) tensor(0)\n",
      "tensor([2.0103]) tensor(2.) tensor(0) tensor(0)\n",
      "tensor([2.7219]) tensor(4.) tensor(0) tensor(0)\n",
      "tensor([4.1589]) tensor(2.) tensor(0) tensor(0)\n",
      "tensor([4.2635]) tensor(3.) tensor(0) tensor(0)\n",
      "tensor([4.1294]) tensor(5.) tensor(0) tensor(0)\n",
      "tensor([2.4068]) tensor(2.) tensor(0) tensor(0)\n",
      "tensor([2.0872]) tensor(1.) tensor(0) tensor(0)\n",
      "tensor([2.1839]) tensor(2.) tensor(0) tensor(0)\n",
      "tensor([1.9645]) tensor(2.) tensor(0) tensor(0)\n",
      "tensor([1.9929]) tensor(2.) tensor(0) tensor(0)\n",
      "tensor([3.1052]) tensor(1.5000) tensor(0) tensor(0)\n",
      "tensor([2.0880]) tensor(2.) tensor(0) tensor(0)\n",
      "tensor([2.5079]) tensor(2.) tensor(0) tensor(0)\n",
      "tensor([2.0571]) tensor(1.) tensor(0) tensor(0)\n",
      "tensor([2.0531]) tensor(3.) tensor(0) tensor(0)\n",
      "tensor([2.1764]) tensor(2.5000) tensor(0) tensor(0)\n",
      "tensor([2.0597]) tensor(3.) tensor(0) tensor(0)\n",
      "tensor([2.2003]) tensor(2.) tensor(0) tensor(0)\n",
      "tensor([2.5675]) tensor(2.) tensor(0) tensor(0)\n",
      "tensor([2.3262]) tensor(2.) tensor(0) tensor(0)\n",
      "tensor([2.1272]) tensor(2.) tensor(0) tensor(0)\n",
      "tensor([3.5699]) tensor(2.) tensor(0) tensor(0)\n",
      "tensor([2.1514]) tensor(3.) tensor(0) tensor(0)\n",
      "tensor([2.0162]) tensor(2.) tensor(0) tensor(0)\n",
      "tensor([2.3029]) tensor(3.) tensor(0) tensor(0)\n",
      "tensor([4.1153]) tensor(5.) tensor(0) tensor(0)\n",
      "tensor([2.0791]) tensor(2.) tensor(0) tensor(0)\n",
      "tensor([2.2076]) tensor(3.) tensor(0) tensor(0)\n",
      "tensor([1.9940]) tensor(3.) tensor(0) tensor(0)\n",
      "tensor([4.1787]) tensor(3.) tensor(0) tensor(0)\n",
      "tensor([2.1926]) tensor(2.) tensor(0) tensor(0)\n",
      "tensor([2.3424]) tensor(2.) tensor(0) tensor(0)\n",
      "tensor([2.2862]) tensor(3.) tensor(0) tensor(0)\n",
      "tensor([2.0608]) tensor(2.) tensor(0) tensor(0)\n",
      "tensor([2.1902]) tensor(2.) tensor(0) tensor(0)\n",
      "tensor([2.5464]) tensor(2.) tensor(0) tensor(0)\n",
      "tensor([2.1436]) tensor(2.) tensor(0) tensor(0)\n",
      "tensor([2.2702]) tensor(3.) tensor(0) tensor(0)\n",
      "tensor([3.0997]) tensor(2.) tensor(0) tensor(0)\n",
      "tensor([2.5817]) tensor(3.) tensor(0) tensor(0)\n",
      "tensor([2.2474]) tensor(2.) tensor(0) tensor(0)\n",
      "tensor([2.4021]) tensor(2.) tensor(0) tensor(0)\n",
      "tensor([2.2815]) tensor(2.) tensor(0) tensor(0)\n",
      "tensor([2.1179]) tensor(2.) tensor(0) tensor(0)\n",
      "tensor([2.0089]) tensor(2.) tensor(0) tensor(0)\n",
      "tensor([2.3831]) tensor(2.5000) tensor(0) tensor(0)\n",
      "tensor([1.9981]) tensor(3.) tensor(0) tensor(0)\n",
      "tensor([3.9287]) tensor(4.) tensor(0) tensor(0)\n",
      "tensor([4.3131]) tensor(5.) tensor(0) tensor(0)\n",
      "tensor([2.0885]) tensor(3.) tensor(0) tensor(0)\n",
      "tensor([2.0849]) tensor(3.) tensor(0) tensor(0)\n",
      "tensor([2.3104]) tensor(3.) tensor(0) tensor(0)\n",
      "tensor([3.2634]) tensor(3.5000) tensor(0) tensor(0)\n",
      "tensor([2.1451]) tensor(2.5000) tensor(0) tensor(0)\n",
      "tensor([3.3118]) tensor(4.) tensor(0) tensor(0)\n",
      "tensor([2.0977]) tensor(2.) tensor(0) tensor(0)\n",
      "tensor([2.1485]) tensor(2.) tensor(0) tensor(0)\n",
      "tensor([2.2844]) tensor(2.) tensor(0) tensor(0)\n",
      "tensor([2.0621]) tensor(2.) tensor(0) tensor(0)\n",
      "tensor([2.1429]) tensor(2.) tensor(0) tensor(0)\n",
      "tensor([2.1145]) tensor(2.) tensor(0) tensor(0)\n",
      "tensor([2.0103]) tensor(2.) tensor(0) tensor(0)\n",
      "tensor([1.9620]) tensor(2.) tensor(0) tensor(0)\n",
      "tensor([2.8257]) tensor(5.) tensor(0) tensor(0)\n",
      "tensor([2.1852]) tensor(2.) tensor(0) tensor(0)\n",
      "tensor([2.3118]) tensor(3.) tensor(0) tensor(0)\n",
      "tensor([2.1911]) tensor(2.) tensor(0) tensor(0)\n",
      "tensor([2.2141]) tensor(2.) tensor(0) tensor(0)\n",
      "tensor([1.9555]) tensor(2.) tensor(0) tensor(0)\n",
      "tensor([2.7201]) tensor(3.) tensor(0) tensor(0)\n",
      "tensor([2.9881]) tensor(2.) tensor(0) tensor(0)\n",
      "tensor([3.9034]) tensor(4.) tensor(0) tensor(0)\n",
      "tensor([2.1126]) tensor(2.) tensor(0) tensor(0)\n",
      "tensor([2.0953]) tensor(3.) tensor(0) tensor(0)\n",
      "tensor([2.0366]) tensor(2.) tensor(0) tensor(0)\n",
      "tensor([2.1683]) tensor(2.) tensor(0) tensor(0)\n",
      "tensor([2.0659]) tensor(2.) tensor(0) tensor(0)\n",
      "tensor([2.2030]) tensor(2.) tensor(0) tensor(0)\n",
      "tensor([2.0974]) tensor(3.) tensor(0) tensor(0)\n",
      "tensor([1.9608]) tensor(2.) tensor(0) tensor(0)\n",
      "tensor([2.0489]) tensor(2.) tensor(0) tensor(0)\n",
      "tensor([3.0947]) tensor(4.) tensor(0) tensor(0)\n",
      "tensor([2.5825]) tensor(3.) tensor(0) tensor(0)\n",
      "tensor([1.9914]) tensor(2.) tensor(0) tensor(0)\n",
      "tensor([2.2517]) tensor(3.) tensor(0) tensor(0)\n",
      "tensor([2.1664]) tensor(3.) tensor(0) tensor(0)\n",
      "tensor([2.1850]) tensor(2.) tensor(0) tensor(0)\n",
      "tensor([2.1145]) tensor(3.) tensor(0) tensor(0)\n",
      "tensor([2.0918]) tensor(2.) tensor(0) tensor(0)\n",
      "tensor([2.7277]) tensor(2.5000) tensor(0) tensor(0)\n",
      "tensor([2.1700]) tensor(2.) tensor(0) tensor(0)\n",
      "tensor([3.1341]) tensor(2.) tensor(0) tensor(0)\n",
      "tensor([2.4002]) tensor(2.) tensor(0) tensor(0)\n",
      "tensor([2.2134]) tensor(2.) tensor(0) tensor(0)\n",
      "tensor([2.0418]) tensor(2.) tensor(0) tensor(0)\n",
      "tensor([2.1956]) tensor(3.) tensor(0) tensor(0)\n",
      "tensor([2.3812]) tensor(3.) tensor(0) tensor(0)\n",
      "tensor([2.0679]) tensor(1.5000) tensor(0) tensor(0)\n",
      "tensor([2.0621]) tensor(2.) tensor(0) tensor(0)\n",
      "tensor([3.8610]) tensor(2.) tensor(0) tensor(0)\n",
      "tensor([2.1381]) tensor(2.) tensor(0) tensor(0)\n",
      "tensor([2.2056]) tensor(2.) tensor(0) tensor(0)\n",
      "tensor([2.0340]) tensor(2.) tensor(0) tensor(0)\n",
      "tensor([2.1684]) tensor(2.) tensor(0) tensor(0)\n",
      "tensor([3.2325]) tensor(2.) tensor(0) tensor(0)\n",
      "tensor([2.2137]) tensor(3.) tensor(0) tensor(0)\n",
      "tensor([3.8531]) tensor(4.) tensor(0) tensor(0)\n",
      "tensor([2.1045]) tensor(3.) tensor(0) tensor(0)\n",
      "tensor([3.4431]) tensor(5.) tensor(0) tensor(0)\n",
      "tensor([2.1456]) tensor(3.) tensor(0) tensor(0)\n",
      "tensor([2.1352]) tensor(2.) tensor(0) tensor(0)\n",
      "tensor([2.1032]) tensor(2.) tensor(0) tensor(0)\n",
      "tensor([2.1626]) tensor(2.) tensor(0) tensor(0)\n",
      "tensor([4.3020]) tensor(5.) tensor(0) tensor(0)\n",
      "tensor([4.0726]) tensor(4.) tensor(0) tensor(0)\n",
      "tensor([2.1927]) tensor(2.) tensor(0) tensor(0)\n",
      "tensor([2.2695]) tensor(3.) tensor(0) tensor(0)\n",
      "tensor([4.2668]) tensor(5.) tensor(0) tensor(0)\n",
      "tensor([2.1461]) tensor(2.) tensor(0) tensor(0)\n",
      "tensor([2.0764]) tensor(2.) tensor(0) tensor(0)\n",
      "tensor([2.1852]) tensor(2.) tensor(0) tensor(0)\n",
      "tensor([2.0128]) tensor(2.) tensor(0) tensor(0)\n",
      "tensor([4.3543]) tensor(5.) tensor(0) tensor(0)\n",
      "tensor([3.7613]) tensor(3.) tensor(0) tensor(0)\n",
      "tensor([4.2257]) tensor(5.) tensor(0) tensor(0)\n",
      "tensor([2.1305]) tensor(2.) tensor(0) tensor(0)\n",
      "tensor([4.3881]) tensor(5.) tensor(0) tensor(0)\n",
      "tensor([2.8419]) tensor(3.) tensor(0) tensor(0)\n",
      "tensor([2.0966]) tensor(1.5000) tensor(0) tensor(0)\n",
      "tensor([1.9942]) tensor(2.) tensor(0) tensor(0)\n",
      "tensor([2.1129]) tensor(2.) tensor(0) tensor(0)\n",
      "tensor([3.5647]) tensor(4.) tensor(0) tensor(0)\n",
      "tensor([2.3106]) tensor(3.) tensor(0) tensor(0)\n",
      "tensor([2.2033]) tensor(3.) tensor(0) tensor(0)\n",
      "tensor([2.1199]) tensor(2.) tensor(0) tensor(0)\n",
      "tensor([2.1152]) tensor(1.) tensor(0) tensor(0)\n",
      "tensor([2.2634]) tensor(3.) tensor(0) tensor(0)\n",
      "tensor([2.5074]) tensor(2.) tensor(0) tensor(0)\n",
      "tensor([2.5815]) tensor(4.) tensor(0) tensor(0)\n",
      "tensor([2.5146]) tensor(2.) tensor(0) tensor(0)\n",
      "tensor([2.1917]) tensor(2.) tensor(0) tensor(0)\n",
      "tensor([2.0995]) tensor(2.) tensor(0) tensor(0)\n",
      "tensor([2.2026]) tensor(1.) tensor(0) tensor(0)\n",
      "tensor([2.2009]) tensor(2.) tensor(0) tensor(0)\n",
      "tensor([2.0197]) tensor(3.) tensor(0) tensor(0)\n",
      "tensor([4.2622]) tensor(3.) tensor(0) tensor(0)\n",
      "tensor([2.7993]) tensor(4.) tensor(0) tensor(0)\n",
      "tensor([3.5749]) tensor(5.) tensor(0) tensor(0)\n",
      "tensor([4.3380]) tensor(5.) tensor(0) tensor(0)\n",
      "tensor([2.1182]) tensor(2.) tensor(0) tensor(0)\n",
      "tensor([2.1493]) tensor(3.) tensor(0) tensor(0)\n",
      "tensor([2.8105]) tensor(2.) tensor(0) tensor(0)\n",
      "tensor([2.2924]) tensor(2.) tensor(0) tensor(0)\n",
      "tensor([2.1662]) tensor(2.) tensor(0) tensor(0)\n",
      "tensor([4.0975]) tensor(4.) tensor(0) tensor(0)\n",
      "tensor([1.9726]) tensor(1.) tensor(0) tensor(0)\n",
      "tensor([2.0992]) tensor(2.) tensor(0) tensor(0)\n",
      "tensor([2.1168]) tensor(2.) tensor(0) tensor(0)\n",
      "tensor([3.1364]) tensor(2.) tensor(0) tensor(0)\n",
      "tensor([2.2381]) tensor(2.) tensor(0) tensor(0)\n",
      "tensor([2.1576]) tensor(2.) tensor(0) tensor(0)\n",
      "tensor([2.2304]) tensor(3.) tensor(0) tensor(0)\n",
      "tensor([2.2073]) tensor(3.) tensor(0) tensor(0)\n",
      "tensor([2.1297]) tensor(2.) tensor(0) tensor(0)\n",
      "tensor([2.1891]) tensor(2.) tensor(0) tensor(0)\n",
      "tensor([2.1373]) tensor(4.) tensor(0) tensor(0)\n",
      "tensor([2.0345]) tensor(3.) tensor(0) tensor(0)\n",
      "tensor([2.0732]) tensor(2.) tensor(0) tensor(0)\n",
      "tensor([2.0240]) tensor(2.) tensor(0) tensor(0)\n",
      "tensor([2.4521]) tensor(2.) tensor(0) tensor(0)\n",
      "tensor([2.1002]) tensor(2.) tensor(0) tensor(0)\n",
      "tensor([2.0154]) tensor(2.) tensor(0) tensor(0)\n",
      "tensor([2.1215]) tensor(2.) tensor(0) tensor(0)\n",
      "tensor([2.0109]) tensor(2.) tensor(0) tensor(0)\n",
      "tensor([2.0265]) tensor(2.) tensor(0) tensor(0)\n",
      "tensor([1.9617]) tensor(1.) tensor(0) tensor(0)\n",
      "tensor([1.9861]) tensor(3.) tensor(0) tensor(0)\n",
      "tensor([1.8801]) tensor(1.5000) tensor(0) tensor(0)\n",
      "tensor([2.0460]) tensor(3.) tensor(0) tensor(0)\n",
      "tensor([2.1014]) tensor(2.) tensor(0) tensor(0)\n",
      "tensor([4.1207]) tensor(5.) tensor(0) tensor(0)\n",
      "tensor([1.9976]) tensor(2.) tensor(0) tensor(0)\n"
     ]
    },
    {
     "name": "stdout",
     "output_type": "stream",
     "text": [
      "tensor([2.0521]) tensor(1.) tensor(0) tensor(0)\n",
      "tensor([2.0549]) tensor(2.) tensor(0) tensor(0)\n",
      "tensor([1.9898]) tensor(2.) tensor(0) tensor(0)\n",
      "tensor([2.0411]) tensor(2.) tensor(0) tensor(0)\n",
      "tensor([2.2021]) tensor(3.) tensor(0) tensor(0)\n",
      "tensor([2.1613]) tensor(2.) tensor(0) tensor(0)\n",
      "tensor([2.6742]) tensor(2.) tensor(0) tensor(0)\n",
      "tensor([2.5614]) tensor(1.) tensor(0) tensor(0)\n",
      "tensor([2.2142]) tensor(2.) tensor(0) tensor(0)\n",
      "tensor([3.6491]) tensor(3.) tensor(0) tensor(0)\n",
      "tensor([2.0858]) tensor(2.) tensor(0) tensor(0)\n",
      "tensor([2.0963]) tensor(4.) tensor(0) tensor(0)\n",
      "tensor([2.0227]) tensor(1.5000) tensor(0) tensor(0)\n",
      "tensor([2.2305]) tensor(2.) tensor(0) tensor(0)\n",
      "tensor([2.0315]) tensor(1.) tensor(0) tensor(0)\n",
      "tensor([3.2273]) tensor(2.) tensor(0) tensor(0)\n",
      "tensor([4.1690]) tensor(5.) tensor(0) tensor(0)\n",
      "tensor([1.9850]) tensor(2.) tensor(0) tensor(0)\n",
      "tensor([2.0688]) tensor(3.) tensor(0) tensor(0)\n",
      "tensor([2.1430]) tensor(2.) tensor(0) tensor(0)\n",
      "tensor([1.9936]) tensor(2.) tensor(0) tensor(0)\n",
      "tensor([4.2927]) tensor(5.) tensor(0) tensor(0)\n",
      "tensor([2.2963]) tensor(3.) tensor(0) tensor(0)\n",
      "tensor([2.3531]) tensor(2.) tensor(0) tensor(0)\n",
      "tensor([2.3065]) tensor(2.) tensor(0) tensor(0)\n",
      "tensor([2.0936]) tensor(2.) tensor(0) tensor(0)\n",
      "tensor([2.0289]) tensor(2.) tensor(0) tensor(0)\n",
      "tensor([2.0038]) tensor(2.) tensor(0) tensor(0)\n",
      "tensor([4.3733]) tensor(4.) tensor(0) tensor(0)\n",
      "tensor([2.3043]) tensor(2.) tensor(0) tensor(0)\n",
      "tensor([2.8745]) tensor(2.) tensor(0) tensor(0)\n",
      "tensor([2.0681]) tensor(2.) tensor(0) tensor(0)\n",
      "tensor([2.0245]) tensor(1.5000) tensor(0) tensor(0)\n",
      "tensor([2.1284]) tensor(2.) tensor(0) tensor(0)\n",
      "tensor([4.1012]) tensor(4.) tensor(0) tensor(0)\n",
      "tensor([4.3212]) tensor(5.) tensor(0) tensor(0)\n",
      "tensor([2.0955]) tensor(2.) tensor(0) tensor(0)\n",
      "tensor([2.5171]) tensor(4.) tensor(0) tensor(0)\n",
      "tensor([1.9726]) tensor(1.) tensor(0) tensor(0)\n",
      "tensor([2.0711]) tensor(3.) tensor(0) tensor(0)\n",
      "tensor([3.5569]) tensor(2.) tensor(0) tensor(0)\n",
      "tensor([2.1042]) tensor(3.) tensor(0) tensor(0)\n",
      "tensor([2.0838]) tensor(3.) tensor(0) tensor(0)\n",
      "tensor([3.7478]) tensor(4.) tensor(0) tensor(0)\n",
      "tensor([3.3503]) tensor(4.) tensor(0) tensor(0)\n",
      "tensor([2.3379]) tensor(2.) tensor(0) tensor(0)\n",
      "tensor([2.3922]) tensor(2.) tensor(0) tensor(0)\n",
      "tensor([2.1900]) tensor(3.) tensor(0) tensor(0)\n",
      "tensor([2.0134]) tensor(2.) tensor(0) tensor(0)\n",
      "tensor([2.0469]) tensor(2.) tensor(0) tensor(0)\n",
      "tensor([2.1175]) tensor(4.) tensor(0) tensor(0)\n",
      "tensor([2.2874]) tensor(3.) tensor(0) tensor(0)\n",
      "tensor([2.5278]) tensor(2.) tensor(0) tensor(1)\n",
      "tensor([4.3402]) tensor(5.) tensor(0) tensor(0)\n",
      "tensor([2.1186]) tensor(2.) tensor(0) tensor(0)\n",
      "tensor([3.8140]) tensor(4.) tensor(0) tensor(0)\n",
      "tensor([2.3318]) tensor(2.) tensor(0) tensor(0)\n",
      "tensor([1.9580]) tensor(2.) tensor(0) tensor(0)\n",
      "tensor([3.4814]) tensor(5.) tensor(0) tensor(0)\n",
      "tensor([3.6790]) tensor(3.) tensor(0) tensor(0)\n",
      "tensor([2.0923]) tensor(2.5000) tensor(0) tensor(0)\n",
      "tensor([2.9020]) tensor(3.) tensor(0) tensor(0)\n",
      "tensor([3.4000]) tensor(4.) tensor(0) tensor(0)\n",
      "tensor([2.1288]) tensor(2.) tensor(0) tensor(0)\n",
      "tensor([3.0959]) tensor(3.) tensor(0) tensor(0)\n",
      "tensor([1.9909]) tensor(1.) tensor(0) tensor(0)\n",
      "tensor([2.7695]) tensor(4.) tensor(0) tensor(0)\n",
      "tensor([2.0530]) tensor(2.) tensor(0) tensor(0)\n",
      "tensor([3.5475]) tensor(3.) tensor(0) tensor(0)\n",
      "tensor([2.2490]) tensor(2.) tensor(0) tensor(0)\n",
      "tensor([2.0991]) tensor(2.) tensor(0) tensor(0)\n",
      "tensor([2.0834]) tensor(2.) tensor(0) tensor(0)\n",
      "tensor([1.9863]) tensor(2.) tensor(0) tensor(0)\n",
      "tensor([2.2451]) tensor(2.) tensor(0) tensor(0)\n",
      "tensor([2.0646]) tensor(3.) tensor(0) tensor(0)\n",
      "tensor([2.1339]) tensor(2.) tensor(0) tensor(0)\n",
      "tensor([2.4812]) tensor(2.) tensor(0) tensor(1)\n",
      "tensor([2.2240]) tensor(2.) tensor(0) tensor(0)\n",
      "tensor([2.1481]) tensor(2.) tensor(0) tensor(0)\n",
      "tensor([2.1851]) tensor(2.) tensor(0) tensor(0)\n",
      "tensor([2.1479]) tensor(2.) tensor(0) tensor(0)\n",
      "tensor([2.2516]) tensor(2.) tensor(0) tensor(0)\n",
      "tensor([1.9826]) tensor(3.) tensor(0) tensor(0)\n",
      "tensor([4.1488]) tensor(5.) tensor(0) tensor(0)\n",
      "tensor([2.6833]) tensor(3.) tensor(0) tensor(0)\n",
      "tensor([2.0254]) tensor(1.) tensor(0) tensor(0)\n",
      "tensor([2.1694]) tensor(2.) tensor(0) tensor(0)\n",
      "tensor([2.3500]) tensor(2.) tensor(0) tensor(0)\n",
      "tensor([2.2081]) tensor(1.) tensor(0) tensor(0)\n",
      "tensor([2.0997]) tensor(2.) tensor(0) tensor(0)\n",
      "tensor([2.1028]) tensor(2.) tensor(0) tensor(0)\n",
      "tensor([3.4718]) tensor(3.5000) tensor(0) tensor(0)\n",
      "tensor([3.8610]) tensor(2.) tensor(0) tensor(0)\n",
      "tensor([4.2771]) tensor(4.) tensor(0) tensor(0)\n",
      "tensor([2.5304]) tensor(2.) tensor(0) tensor(0)\n",
      "tensor([2.0100]) tensor(2.) tensor(0) tensor(0)\n",
      "tensor([2.0008]) tensor(2.) tensor(0) tensor(0)\n",
      "tensor([2.2383]) tensor(2.) tensor(0) tensor(0)\n",
      "tensor([2.1943]) tensor(2.) tensor(0) tensor(0)\n",
      "tensor([2.1037]) tensor(3.) tensor(0) tensor(0)\n",
      "tensor([2.1086]) tensor(1.) tensor(0) tensor(0)\n",
      "tensor([2.7303]) tensor(2.) tensor(0) tensor(0)\n",
      "tensor([4.1301]) tensor(3.) tensor(0) tensor(0)\n",
      "tensor([2.1559]) tensor(2.) tensor(0) tensor(0)\n",
      "tensor([2.0428]) tensor(3.) tensor(0) tensor(0)\n",
      "tensor([2.2274]) tensor(3.) tensor(0) tensor(0)\n",
      "tensor([1.9925]) tensor(1.) tensor(0) tensor(0)\n",
      "tensor([2.1469]) tensor(2.) tensor(0) tensor(0)\n",
      "tensor([2.1725]) tensor(2.) tensor(0) tensor(0)\n",
      "tensor([2.1149]) tensor(1.) tensor(0) tensor(0)\n",
      "tensor([2.0045]) tensor(2.) tensor(0) tensor(0)\n",
      "tensor([2.5478]) tensor(4.) tensor(0) tensor(0)\n",
      "tensor([1.9965]) tensor(1.) tensor(0) tensor(1)\n",
      "tensor([1.9648]) tensor(2.) tensor(0) tensor(0)\n",
      "tensor([2.1795]) tensor(1.) tensor(0) tensor(0)\n",
      "tensor([2.2681]) tensor(2.) tensor(0) tensor(0)\n",
      "tensor([2.4432]) tensor(3.5000) tensor(0) tensor(0)\n",
      "tensor([2.4731]) tensor(4.) tensor(0) tensor(0)\n",
      "tensor([2.2245]) tensor(2.) tensor(0) tensor(0)\n",
      "tensor([2.4582]) tensor(2.) tensor(0) tensor(0)\n",
      "tensor([3.9682]) tensor(4.) tensor(0) tensor(0)\n",
      "tensor([2.0011]) tensor(3.) tensor(0) tensor(0)\n",
      "tensor([4.2385]) tensor(4.) tensor(0) tensor(0)\n",
      "tensor([2.2364]) tensor(3.) tensor(0) tensor(0)\n",
      "tensor([2.1439]) tensor(2.) tensor(0) tensor(0)\n",
      "tensor([2.0885]) tensor(3.) tensor(0) tensor(0)\n",
      "tensor([2.2762]) tensor(3.) tensor(0) tensor(0)\n",
      "tensor([2.1655]) tensor(1.5000) tensor(0) tensor(0)\n",
      "tensor([2.0191]) tensor(1.) tensor(0) tensor(0)\n",
      "tensor([1.9546]) tensor(2.) tensor(0) tensor(0)\n",
      "tensor([3.4104]) tensor(4.) tensor(0) tensor(0)\n",
      "tensor([2.3007]) tensor(2.) tensor(0) tensor(0)\n",
      "tensor([2.1580]) tensor(2.) tensor(0) tensor(0)\n",
      "tensor([2.0177]) tensor(2.) tensor(0) tensor(0)\n",
      "tensor([2.0347]) tensor(1.) tensor(0) tensor(0)\n",
      "tensor([2.1965]) tensor(3.) tensor(0) tensor(0)\n",
      "tensor([4.3177]) tensor(5.) tensor(0) tensor(0)\n",
      "tensor([2.2460]) tensor(2.) tensor(0) tensor(0)\n",
      "tensor([2.1734]) tensor(2.) tensor(0) tensor(0)\n",
      "tensor([2.0152]) tensor(2.) tensor(0) tensor(0)\n",
      "tensor([2.8038]) tensor(2.) tensor(0) tensor(0)\n",
      "tensor([2.6085]) tensor(2.5000) tensor(0) tensor(0)\n",
      "tensor([3.0600]) tensor(2.) tensor(0) tensor(0)\n",
      "tensor([2.2168]) tensor(1.) tensor(0) tensor(0)\n",
      "tensor([2.0988]) tensor(2.) tensor(0) tensor(0)\n",
      "tensor([4.2998]) tensor(3.) tensor(0) tensor(0)\n",
      "tensor([2.0730]) tensor(2.) tensor(0) tensor(0)\n",
      "tensor([2.4268]) tensor(3.) tensor(0) tensor(0)\n",
      "tensor([4.3581]) tensor(4.) tensor(0) tensor(0)\n",
      "tensor([1.9897]) tensor(1.5000) tensor(0) tensor(0)\n",
      "tensor([3.9962]) tensor(4.) tensor(0) tensor(0)\n",
      "tensor([2.6690]) tensor(2.) tensor(0) tensor(0)\n",
      "tensor([4.3537]) tensor(4.) tensor(0) tensor(0)\n",
      "tensor([2.1824]) tensor(3.) tensor(0) tensor(0)\n",
      "tensor([1.9897]) tensor(1.) tensor(0) tensor(0)\n",
      "tensor([3.1385]) tensor(3.) tensor(0) tensor(0)\n",
      "tensor([2.1138]) tensor(2.) tensor(0) tensor(0)\n",
      "tensor([2.0750]) tensor(1.5000) tensor(0) tensor(0)\n",
      "tensor([2.8330]) tensor(3.) tensor(0) tensor(0)\n",
      "tensor([1.9697]) tensor(2.) tensor(0) tensor(0)\n",
      "tensor([2.0212]) tensor(2.) tensor(0) tensor(0)\n",
      "tensor([2.1038]) tensor(2.) tensor(0) tensor(0)\n",
      "tensor([2.7112]) tensor(2.) tensor(0) tensor(0)\n",
      "tensor([2.9147]) tensor(4.) tensor(0) tensor(0)\n",
      "tensor([2.0721]) tensor(2.) tensor(0) tensor(0)\n",
      "tensor([2.1454]) tensor(2.) tensor(0) tensor(0)\n",
      "tensor([2.0851]) tensor(2.) tensor(0) tensor(0)\n",
      "tensor([2.0448]) tensor(2.) tensor(0) tensor(0)\n",
      "tensor([2.0391]) tensor(3.) tensor(0) tensor(0)\n",
      "tensor([3.6709]) tensor(2.) tensor(0) tensor(0)\n",
      "tensor([2.0477]) tensor(2.) tensor(0) tensor(0)\n",
      "tensor([2.3005]) tensor(2.) tensor(0) tensor(0)\n",
      "tensor([2.1773]) tensor(2.) tensor(0) tensor(0)\n",
      "tensor([2.4484]) tensor(4.) tensor(0) tensor(0)\n",
      "tensor([2.1975]) tensor(3.) tensor(0) tensor(0)\n",
      "tensor([2.8111]) tensor(5.) tensor(0) tensor(0)\n",
      "tensor([4.2533]) tensor(1.) tensor(0) tensor(1)\n",
      "tensor([2.1180]) tensor(2.) tensor(0) tensor(0)\n",
      "tensor([2.0604]) tensor(3.) tensor(0) tensor(0)\n",
      "tensor([4.2208]) tensor(3.) tensor(0) tensor(0)\n",
      "tensor([1.9676]) tensor(2.) tensor(0) tensor(0)\n",
      "tensor([2.8454]) tensor(4.) tensor(0) tensor(0)\n",
      "tensor([2.1334]) tensor(2.) tensor(0) tensor(0)\n",
      "tensor([4.3183]) tensor(5.) tensor(0) tensor(0)\n",
      "tensor([2.4908]) tensor(2.) tensor(0) tensor(0)\n",
      "tensor([2.1311]) tensor(2.) tensor(0) tensor(0)\n",
      "tensor([2.4802]) tensor(2.) tensor(0) tensor(0)\n",
      "tensor([2.1776]) tensor(3.) tensor(0) tensor(0)\n",
      "tensor([2.1439]) tensor(2.) tensor(0) tensor(0)\n",
      "tensor([3.8364]) tensor(3.) tensor(0) tensor(0)\n",
      "tensor([2.2185]) tensor(1.5000) tensor(0) tensor(0)\n",
      "tensor([2.3349]) tensor(1.5000) tensor(0) tensor(0)\n",
      "tensor([2.2047]) tensor(2.) tensor(0) tensor(0)\n",
      "tensor([2.0470]) tensor(1.5000) tensor(0) tensor(0)\n",
      "tensor([2.4635]) tensor(2.) tensor(0) tensor(0)\n",
      "tensor([2.0443]) tensor(2.) tensor(0) tensor(0)\n",
      "tensor([2.4530]) tensor(2.) tensor(0) tensor(0)\n",
      "tensor([2.2193]) tensor(2.) tensor(0) tensor(0)\n",
      "tensor([2.0865]) tensor(2.) tensor(0) tensor(0)\n",
      "tensor([2.2703]) tensor(2.) tensor(0) tensor(0)\n",
      "tensor([2.1496]) tensor(2.) tensor(0) tensor(0)\n",
      "tensor([2.1059]) tensor(2.) tensor(0) tensor(0)\n",
      "tensor([2.2330]) tensor(2.) tensor(0) tensor(0)\n",
      "tensor([4.1664]) tensor(4.) tensor(0) tensor(0)\n",
      "tensor([2.1137]) tensor(2.) tensor(0) tensor(0)\n",
      "tensor([2.5970]) tensor(2.) tensor(0) tensor(0)\n",
      "tensor([2.2353]) tensor(2.) tensor(0) tensor(0)\n",
      "tensor([2.2929]) tensor(2.) tensor(0) tensor(0)\n",
      "tensor([3.9275]) tensor(3.) tensor(0) tensor(0)\n",
      "tensor([2.0207]) tensor(2.) tensor(0) tensor(0)\n",
      "tensor([2.8201]) tensor(5.) tensor(0) tensor(0)\n",
      "tensor([2.3923]) tensor(2.) tensor(0) tensor(0)\n",
      "tensor([2.3516]) tensor(3.) tensor(0) tensor(0)\n",
      "tensor([2.6413]) tensor(2.) tensor(0) tensor(0)\n",
      "tensor([2.0027]) tensor(2.) tensor(0) tensor(0)\n",
      "tensor([1.9605]) tensor(2.) tensor(0) tensor(0)\n",
      "tensor([2.0571]) tensor(2.) tensor(0) tensor(0)\n",
      "tensor([2.2147]) tensor(3.) tensor(0) tensor(0)\n",
      "tensor([2.5678]) tensor(2.) tensor(0) tensor(0)\n",
      "tensor([2.2007]) tensor(2.) tensor(0) tensor(0)\n",
      "tensor([2.3500]) tensor(3.) tensor(0) tensor(0)\n",
      "tensor([1.9913]) tensor(2.) tensor(0) tensor(0)\n",
      "tensor([1.9897]) tensor(2.) tensor(0) tensor(0)\n",
      "tensor([4.2126]) tensor(3.) tensor(0) tensor(0)\n",
      "tensor([3.9787]) tensor(3.) tensor(0) tensor(0)\n",
      "tensor([2.7852]) tensor(2.) tensor(0) tensor(0)\n",
      "tensor([2.0460]) tensor(3.) tensor(0) tensor(0)\n",
      "tensor([2.2577]) tensor(3.) tensor(0) tensor(0)\n",
      "tensor([2.1214]) tensor(2.5000) tensor(0) tensor(0)\n",
      "tensor([2.1233]) tensor(1.5000) tensor(0) tensor(0)\n",
      "tensor([2.1172]) tensor(2.) tensor(0) tensor(0)\n",
      "tensor([2.1174]) tensor(3.) tensor(0) tensor(0)\n",
      "tensor([2.1893]) tensor(2.5000) tensor(0) tensor(0)\n",
      "tensor([4.3777]) tensor(5.) tensor(0) tensor(0)\n",
      "tensor([2.0976]) tensor(3.) tensor(0) tensor(0)\n",
      "tensor([2.1610]) tensor(2.) tensor(0) tensor(0)\n",
      "tensor([2.3531]) tensor(2.) tensor(0) tensor(0)\n",
      "tensor([2.1014]) tensor(2.) tensor(0) tensor(0)\n",
      "tensor([3.1826]) tensor(1.5000) tensor(0) tensor(0)\n",
      "tensor([2.8033]) tensor(2.) tensor(0) tensor(0)\n",
      "tensor([4.2545]) tensor(5.) tensor(0) tensor(0)\n",
      "tensor([2.0323]) tensor(2.) tensor(0) tensor(0)\n",
      "tensor([2.0066]) tensor(1.) tensor(0) tensor(0)\n",
      "tensor([2.2131]) tensor(2.) tensor(0) tensor(0)\n",
      "tensor([2.2750]) tensor(3.) tensor(0) tensor(0)\n",
      "tensor([2.2130]) tensor(4.) tensor(0) tensor(0)\n",
      "tensor([2.0443]) tensor(2.) tensor(0) tensor(0)\n",
      "tensor([2.3143]) tensor(2.5000) tensor(0) tensor(0)\n",
      "tensor([1.9882]) tensor(2.) tensor(0) tensor(0)\n",
      "tensor([2.0532]) tensor(2.) tensor(0) tensor(0)\n",
      "tensor([1.9929]) tensor(2.) tensor(0) tensor(0)\n",
      "tensor([2.1098]) tensor(2.) tensor(0) tensor(0)\n",
      "tensor([2.4554]) tensor(3.) tensor(0) tensor(0)\n",
      "tensor([3.8045]) tensor(4.) tensor(0) tensor(0)\n",
      "tensor([2.1208]) tensor(2.) tensor(0) tensor(0)\n",
      "tensor([2.1742]) tensor(2.) tensor(0) tensor(0)\n",
      "tensor([3.8911]) tensor(1.) tensor(0) tensor(0)\n",
      "tensor([2.5057]) tensor(2.) tensor(0) tensor(0)\n",
      "tensor([2.7028]) tensor(3.) tensor(0) tensor(0)\n",
      "tensor([2.1175]) tensor(2.) tensor(0) tensor(0)\n",
      "tensor([3.2223]) tensor(4.) tensor(0) tensor(0)\n",
      "tensor([2.3706]) tensor(2.) tensor(0) tensor(0)\n",
      "tensor([1.9678]) tensor(2.) tensor(0) tensor(0)\n",
      "tensor([2.0035]) tensor(1.) tensor(0) tensor(0)\n",
      "tensor([2.2222]) tensor(1.) tensor(0) tensor(0)\n",
      "tensor([2.0287]) tensor(1.) tensor(0) tensor(0)\n",
      "tensor([2.9570]) tensor(4.) tensor(0) tensor(0)\n",
      "tensor([2.1633]) tensor(2.) tensor(0) tensor(0)\n",
      "tensor([2.2286]) tensor(2.) tensor(0) tensor(0)\n",
      "tensor([2.0138]) tensor(3.) tensor(0) tensor(0)\n",
      "tensor([2.5443]) tensor(3.) tensor(0) tensor(0)\n",
      "tensor([2.1065]) tensor(1.5000) tensor(0) tensor(0)\n",
      "tensor([2.4732]) tensor(2.) tensor(0) tensor(0)\n",
      "tensor([2.2530]) tensor(2.) tensor(0) tensor(0)\n",
      "tensor([2.1700]) tensor(2.) tensor(0) tensor(0)\n",
      "tensor([2.8939]) tensor(2.) tensor(0) tensor(0)\n",
      "tensor([3.3225]) tensor(4.) tensor(0) tensor(0)\n",
      "tensor([2.0977]) tensor(3.) tensor(0) tensor(0)\n",
      "tensor([2.3576]) tensor(2.) tensor(0) tensor(0)\n",
      "tensor([1.9836]) tensor(2.) tensor(0) tensor(0)\n",
      "tensor([3.0672]) tensor(4.) tensor(0) tensor(0)\n",
      "tensor([2.6248]) tensor(3.) tensor(0) tensor(0)\n",
      "tensor([2.1003]) tensor(3.) tensor(0) tensor(0)\n",
      "tensor([3.2373]) tensor(2.) tensor(0) tensor(0)\n",
      "tensor([2.3474]) tensor(2.) tensor(0) tensor(0)\n",
      "tensor([2.0325]) tensor(2.) tensor(0) tensor(0)\n",
      "tensor([2.1022]) tensor(2.) tensor(0) tensor(0)\n",
      "tensor([3.8970]) tensor(3.) tensor(0) tensor(0)\n",
      "tensor([2.1253]) tensor(2.) tensor(0) tensor(0)\n",
      "tensor([2.0400]) tensor(2.) tensor(0) tensor(0)\n",
      "tensor([2.3470]) tensor(3.) tensor(0) tensor(0)\n",
      "tensor([1.9344]) tensor(2.) tensor(0) tensor(0)\n",
      "tensor([2.0118]) tensor(1.) tensor(0) tensor(0)\n",
      "tensor([4.0816]) tensor(5.) tensor(0) tensor(0)\n",
      "tensor([3.9925]) tensor(4.) tensor(0) tensor(0)\n",
      "tensor([2.3478]) tensor(3.) tensor(0) tensor(0)\n",
      "tensor([2.9180]) tensor(4.) tensor(0) tensor(0)\n",
      "tensor([2.0475]) tensor(2.) tensor(0) tensor(0)\n",
      "tensor([2.1269]) tensor(3.) tensor(0) tensor(0)\n",
      "tensor([2.3309]) tensor(2.) tensor(0) tensor(0)\n",
      "tensor([2.0603]) tensor(2.) tensor(0) tensor(0)\n",
      "tensor([2.1380]) tensor(2.) tensor(0) tensor(0)\n",
      "tensor([4.3095]) tensor(5.) tensor(0) tensor(0)\n",
      "tensor([2.3140]) tensor(2.) tensor(0) tensor(0)\n",
      "tensor([2.1768]) tensor(1.) tensor(0) tensor(0)\n",
      "tensor([1.9091]) tensor(1.) tensor(0) tensor(0)\n",
      "tensor([2.3246]) tensor(2.) tensor(0) tensor(0)\n",
      "tensor([2.0161]) tensor(1.5000) tensor(0) tensor(0)\n",
      "tensor([2.1702]) tensor(2.) tensor(0) tensor(0)\n"
     ]
    },
    {
     "name": "stdout",
     "output_type": "stream",
     "text": [
      "tensor([3.7223]) tensor(4.) tensor(0) tensor(0)\n",
      "tensor([2.3807]) tensor(2.) tensor(0) tensor(0)\n",
      "tensor([2.0904]) tensor(3.) tensor(0) tensor(0)\n",
      "tensor([2.2093]) tensor(2.) tensor(0) tensor(0)\n",
      "tensor([2.5322]) tensor(1.) tensor(0) tensor(0)\n",
      "tensor([2.0428]) tensor(1.) tensor(0) tensor(0)\n",
      "tensor([2.5141]) tensor(2.) tensor(0) tensor(0)\n",
      "tensor([2.3106]) tensor(3.) tensor(0) tensor(0)\n",
      "tensor([4.2586]) tensor(4.) tensor(0) tensor(0)\n",
      "tensor([2.1629]) tensor(3.) tensor(0) tensor(0)\n",
      "tensor([2.4050]) tensor(3.) tensor(0) tensor(0)\n",
      "tensor([1.9528]) tensor(1.5000) tensor(0) tensor(0)\n",
      "tensor([2.0990]) tensor(2.) tensor(0) tensor(0)\n",
      "tensor([1.9910]) tensor(2.) tensor(0) tensor(0)\n",
      "tensor([3.8795]) tensor(4.5000) tensor(0) tensor(0)\n",
      "tensor([2.2033]) tensor(2.) tensor(0) tensor(0)\n",
      "tensor([2.1249]) tensor(2.) tensor(0) tensor(0)\n",
      "tensor([2.3054]) tensor(2.) tensor(0) tensor(0)\n",
      "tensor([2.0643]) tensor(2.) tensor(0) tensor(0)\n",
      "tensor([2.1042]) tensor(1.6667) tensor(0) tensor(0)\n",
      "tensor([2.0063]) tensor(3.) tensor(0) tensor(0)\n",
      "tensor([2.2330]) tensor(2.) tensor(0) tensor(0)\n",
      "tensor([2.3945]) tensor(3.) tensor(0) tensor(0)\n",
      "tensor([1.9502]) tensor(2.) tensor(0) tensor(0)\n",
      "tensor([2.6072]) tensor(3.) tensor(0) tensor(0)\n",
      "tensor([2.1883]) tensor(2.) tensor(0) tensor(0)\n",
      "tensor([1.9771]) tensor(2.) tensor(0) tensor(0)\n",
      "tensor([2.4458]) tensor(2.) tensor(0) tensor(0)\n",
      "tensor([2.1077]) tensor(3.) tensor(0) tensor(0)\n",
      "tensor([2.1304]) tensor(2.) tensor(0) tensor(0)\n",
      "tensor([2.0338]) tensor(2.) tensor(0) tensor(0)\n",
      "tensor([2.0089]) tensor(3.) tensor(0) tensor(0)\n",
      "tensor([2.2209]) tensor(2.) tensor(0) tensor(0)\n",
      "tensor([2.0598]) tensor(2.) tensor(0) tensor(0)\n",
      "tensor([2.1494]) tensor(2.5000) tensor(0) tensor(0)\n",
      "tensor([2.2216]) tensor(2.) tensor(0) tensor(0)\n",
      "tensor([2.7057]) tensor(4.) tensor(0) tensor(0)\n",
      "tensor([2.0777]) tensor(3.) tensor(0) tensor(0)\n",
      "tensor([3.6530]) tensor(4.) tensor(0) tensor(0)\n",
      "tensor([3.0719]) tensor(3.) tensor(0) tensor(0)\n",
      "tensor([2.1355]) tensor(3.) tensor(0) tensor(0)\n",
      "tensor([2.2705]) tensor(2.) tensor(0) tensor(0)\n",
      "tensor([2.0378]) tensor(2.) tensor(0) tensor(0)\n",
      "tensor([2.2596]) tensor(2.) tensor(0) tensor(0)\n",
      "tensor([2.7285]) tensor(2.) tensor(0) tensor(0)\n",
      "tensor([2.1246]) tensor(2.) tensor(0) tensor(0)\n",
      "tensor([2.3190]) tensor(3.) tensor(0) tensor(0)\n",
      "tensor([4.3082]) tensor(4.) tensor(0) tensor(0)\n",
      "tensor([2.1631]) tensor(2.) tensor(0) tensor(0)\n",
      "tensor([2.0789]) tensor(2.) tensor(0) tensor(1)\n",
      "tensor([2.1830]) tensor(2.) tensor(0) tensor(0)\n",
      "tensor([2.6437]) tensor(2.) tensor(0) tensor(0)\n",
      "tensor([1.9954]) tensor(2.) tensor(0) tensor(0)\n",
      "tensor([2.0833]) tensor(3.) tensor(0) tensor(0)\n",
      "tensor([2.7902]) tensor(3.) tensor(0) tensor(0)\n",
      "tensor([2.2466]) tensor(2.) tensor(0) tensor(0)\n",
      "tensor([2.0555]) tensor(2.) tensor(0) tensor(0)\n",
      "tensor([2.0074]) tensor(2.) tensor(0) tensor(0)\n",
      "tensor([2.0748]) tensor(1.) tensor(0) tensor(0)\n",
      "tensor([2.1074]) tensor(3.) tensor(0) tensor(0)\n",
      "tensor([2.0925]) tensor(2.) tensor(0) tensor(0)\n",
      "tensor([2.1892]) tensor(2.) tensor(0) tensor(0)\n",
      "tensor([2.6109]) tensor(2.) tensor(0) tensor(0)\n",
      "tensor([2.0731]) tensor(2.) tensor(0) tensor(0)\n",
      "tensor([2.0271]) tensor(1.5000) tensor(0) tensor(0)\n",
      "tensor([4.0735]) tensor(3.) tensor(0) tensor(0)\n",
      "tensor([2.0321]) tensor(3.) tensor(0) tensor(0)\n",
      "tensor([2.1202]) tensor(2.) tensor(0) tensor(0)\n",
      "tensor([4.1739]) tensor(3.) tensor(0) tensor(0)\n",
      "tensor([2.4940]) tensor(4.) tensor(0) tensor(0)\n",
      "tensor([4.1616]) tensor(4.) tensor(0) tensor(0)\n",
      "tensor([2.0097]) tensor(2.) tensor(0) tensor(0)\n",
      "tensor([2.2998]) tensor(3.) tensor(0) tensor(0)\n",
      "tensor([4.2661]) tensor(3.) tensor(0) tensor(0)\n",
      "tensor([2.1734]) tensor(2.) tensor(0) tensor(0)\n",
      "tensor([3.0986]) tensor(2.) tensor(0) tensor(0)\n",
      "tensor([2.1037]) tensor(2.) tensor(0) tensor(0)\n",
      "tensor([2.2743]) tensor(1.) tensor(0) tensor(0)\n",
      "tensor([2.2643]) tensor(2.) tensor(0) tensor(0)\n",
      "tensor([2.2095]) tensor(2.) tensor(0) tensor(0)\n",
      "tensor([4.0260]) tensor(4.) tensor(0) tensor(0)\n",
      "tensor([3.0743]) tensor(3.) tensor(0) tensor(0)\n",
      "tensor([2.0819]) tensor(2.) tensor(0) tensor(0)\n",
      "tensor([2.8011]) tensor(2.) tensor(0) tensor(0)\n",
      "tensor([2.2570]) tensor(2.) tensor(0) tensor(0)\n",
      "tensor([2.1036]) tensor(2.) tensor(0) tensor(0)\n",
      "tensor([2.1562]) tensor(3.) tensor(0) tensor(0)\n",
      "tensor([1.9090]) tensor(2.) tensor(0) tensor(0)\n",
      "tensor([2.0951]) tensor(3.) tensor(0) tensor(0)\n",
      "tensor([2.0710]) tensor(2.) tensor(0) tensor(0)\n",
      "tensor([2.5607]) tensor(3.) tensor(0) tensor(0)\n",
      "tensor([1.9996]) tensor(2.) tensor(0) tensor(0)\n",
      "tensor([2.1569]) tensor(3.) tensor(0) tensor(0)\n",
      "tensor([2.1853]) tensor(2.) tensor(0) tensor(0)\n",
      "tensor([2.1357]) tensor(1.) tensor(0) tensor(0)\n",
      "tensor([2.0373]) tensor(3.) tensor(0) tensor(0)\n",
      "tensor([2.2141]) tensor(3.) tensor(0) tensor(0)\n",
      "tensor([2.4373]) tensor(3.) tensor(0) tensor(0)\n",
      "tensor([2.2863]) tensor(2.) tensor(0) tensor(0)\n",
      "tensor([4.1406]) tensor(4.) tensor(0) tensor(0)\n",
      "tensor([4.2003]) tensor(5.) tensor(0) tensor(0)\n",
      "tensor([2.8976]) tensor(3.) tensor(0) tensor(0)\n",
      "tensor([2.0936]) tensor(2.) tensor(0) tensor(0)\n",
      "tensor([2.0465]) tensor(2.) tensor(0) tensor(0)\n",
      "tensor([2.1747]) tensor(2.) tensor(0) tensor(0)\n",
      "tensor([2.1765]) tensor(2.) tensor(0) tensor(0)\n",
      "tensor([2.0591]) tensor(2.) tensor(0) tensor(0)\n",
      "tensor([2.0851]) tensor(2.) tensor(0) tensor(0)\n",
      "tensor([3.2593]) tensor(4.) tensor(0) tensor(0)\n",
      "tensor([2.1560]) tensor(2.) tensor(0) tensor(0)\n",
      "tensor([2.0825]) tensor(2.) tensor(0) tensor(0)\n",
      "tensor([2.3490]) tensor(3.) tensor(0) tensor(0)\n",
      "tensor([2.6442]) tensor(3.) tensor(0) tensor(0)\n",
      "tensor([2.1118]) tensor(2.) tensor(0) tensor(0)\n",
      "tensor([2.7789]) tensor(3.) tensor(0) tensor(0)\n",
      "tensor([2.0371]) tensor(3.) tensor(0) tensor(0)\n",
      "tensor([2.6330]) tensor(1.) tensor(0) tensor(0)\n",
      "tensor([2.0381]) tensor(3.) tensor(0) tensor(0)\n",
      "tensor([2.0492]) tensor(2.) tensor(0) tensor(0)\n",
      "tensor([2.3358]) tensor(2.) tensor(0) tensor(0)\n",
      "tensor([2.1755]) tensor(2.) tensor(0) tensor(1)\n",
      "tensor([2.2205]) tensor(3.) tensor(0) tensor(0)\n",
      "tensor([2.6553]) tensor(2.) tensor(0) tensor(0)\n",
      "tensor([2.5592]) tensor(3.) tensor(0) tensor(0)\n",
      "tensor([2.0245]) tensor(2.) tensor(0) tensor(0)\n",
      "tensor([2.1018]) tensor(3.) tensor(0) tensor(0)\n",
      "tensor([2.4370]) tensor(2.) tensor(0) tensor(0)\n",
      "tensor([1.9884]) tensor(2.) tensor(0) tensor(0)\n",
      "tensor([2.1380]) tensor(2.) tensor(0) tensor(0)\n",
      "tensor([3.1612]) tensor(3.) tensor(0) tensor(0)\n",
      "tensor([3.2354]) tensor(1.5000) tensor(0) tensor(0)\n",
      "tensor([2.2491]) tensor(2.) tensor(0) tensor(0)\n",
      "tensor([4.0424]) tensor(4.) tensor(0) tensor(0)\n",
      "tensor([2.0672]) tensor(2.) tensor(0) tensor(0)\n",
      "tensor([3.5894]) tensor(4.) tensor(0) tensor(0)\n",
      "tensor([2.1098]) tensor(3.) tensor(0) tensor(0)\n",
      "tensor([4.3898]) tensor(3.) tensor(0) tensor(0)\n",
      "tensor([2.1439]) tensor(2.) tensor(0) tensor(0)\n",
      "tensor([2.5021]) tensor(2.) tensor(0) tensor(0)\n",
      "tensor([1.9864]) tensor(1.5000) tensor(0) tensor(0)\n",
      "tensor([2.2079]) tensor(1.5000) tensor(0) tensor(0)\n",
      "tensor([4.2470]) tensor(4.) tensor(0) tensor(0)\n",
      "tensor([2.0811]) tensor(1.5000) tensor(0) tensor(0)\n",
      "tensor([2.3629]) tensor(2.) tensor(0) tensor(0)\n",
      "tensor([2.3099]) tensor(4.) tensor(0) tensor(0)\n",
      "tensor([3.1635]) tensor(1.5000) tensor(0) tensor(0)\n",
      "tensor([4.2199]) tensor(3.) tensor(0) tensor(0)\n",
      "tensor([4.1560]) tensor(4.) tensor(0) tensor(0)\n",
      "tensor([1.9925]) tensor(1.) tensor(0) tensor(0)\n",
      "tensor([2.4925]) tensor(2.) tensor(0) tensor(0)\n",
      "tensor([4.1500]) tensor(4.) tensor(0) tensor(0)\n",
      "tensor([2.2813]) tensor(2.) tensor(0) tensor(0)\n",
      "tensor([2.2723]) tensor(2.) tensor(0) tensor(0)\n",
      "tensor([2.3189]) tensor(3.) tensor(0) tensor(0)\n",
      "tensor([2.0882]) tensor(2.) tensor(0) tensor(0)\n",
      "tensor([2.0883]) tensor(3.) tensor(0) tensor(0)\n",
      "tensor([2.4728]) tensor(2.) tensor(0) tensor(0)\n",
      "tensor([2.0918]) tensor(3.) tensor(0) tensor(0)\n",
      "tensor([2.1976]) tensor(2.) tensor(0) tensor(0)\n",
      "tensor([2.3900]) tensor(2.) tensor(0) tensor(1)\n",
      "tensor([2.0649]) tensor(3.) tensor(0) tensor(0)\n",
      "tensor([3.5899]) tensor(4.5000) tensor(0) tensor(0)\n",
      "tensor([2.5950]) tensor(3.) tensor(0) tensor(0)\n",
      "tensor([1.9613]) tensor(2.) tensor(0) tensor(0)\n",
      "tensor([4.2371]) tensor(4.) tensor(0) tensor(0)\n",
      "tensor([2.4027]) tensor(3.) tensor(0) tensor(0)\n",
      "tensor([3.1804]) tensor(3.) tensor(0) tensor(0)\n",
      "tensor([2.0513]) tensor(2.) tensor(0) tensor(0)\n",
      "tensor([3.5263]) tensor(2.) tensor(0) tensor(0)\n",
      "tensor([2.9957]) tensor(3.) tensor(0) tensor(0)\n",
      "tensor([2.0536]) tensor(2.) tensor(0) tensor(0)\n",
      "tensor([3.5388]) tensor(5.) tensor(0) tensor(0)\n",
      "tensor([2.1174]) tensor(2.) tensor(0) tensor(0)\n",
      "tensor([2.0130]) tensor(2.) tensor(0) tensor(0)\n",
      "tensor([2.2403]) tensor(3.) tensor(0) tensor(0)\n",
      "tensor([1.9794]) tensor(2.) tensor(0) tensor(1)\n",
      "tensor([2.0244]) tensor(2.) tensor(0) tensor(0)\n",
      "tensor([2.0143]) tensor(2.) tensor(0) tensor(0)\n",
      "tensor([1.9790]) tensor(2.) tensor(0) tensor(0)\n",
      "tensor([4.2022]) tensor(4.5000) tensor(0) tensor(0)\n",
      "tensor([3.0554]) tensor(3.) tensor(0) tensor(0)\n",
      "tensor([2.0914]) tensor(2.) tensor(0) tensor(0)\n",
      "tensor([4.3479]) tensor(5.) tensor(0) tensor(0)\n",
      "tensor([2.3147]) tensor(2.) tensor(0) tensor(0)\n",
      "tensor([2.0552]) tensor(2.) tensor(0) tensor(0)\n",
      "tensor([2.2531]) tensor(2.) tensor(0) tensor(0)\n",
      "tensor([2.8682]) tensor(5.) tensor(0) tensor(0)\n",
      "tensor([2.2058]) tensor(2.) tensor(0) tensor(0)\n",
      "tensor([2.0441]) tensor(2.) tensor(0) tensor(0)\n",
      "tensor([2.3132]) tensor(2.) tensor(0) tensor(0)\n",
      "tensor([2.0381]) tensor(3.) tensor(0) tensor(0)\n",
      "tensor([4.1000]) tensor(4.) tensor(0) tensor(0)\n",
      "tensor([2.1050]) tensor(2.) tensor(0) tensor(0)\n",
      "tensor([2.2768]) tensor(3.) tensor(0) tensor(0)\n",
      "tensor([2.5020]) tensor(2.) tensor(0) tensor(0)\n",
      "tensor([2.4830]) tensor(3.) tensor(0) tensor(0)\n",
      "tensor([2.0868]) tensor(2.) tensor(0) tensor(0)\n",
      "tensor([2.0615]) tensor(2.) tensor(0) tensor(0)\n",
      "tensor([2.1257]) tensor(2.) tensor(0) tensor(0)\n",
      "tensor([2.1065]) tensor(3.) tensor(0) tensor(0)\n",
      "tensor([2.0094]) tensor(1.5000) tensor(0) tensor(0)\n",
      "tensor([2.0026]) tensor(3.) tensor(0) tensor(0)\n",
      "tensor([2.2577]) tensor(2.) tensor(0) tensor(0)\n",
      "tensor([3.2170]) tensor(3.) tensor(0) tensor(0)\n",
      "tensor([2.1247]) tensor(3.) tensor(0) tensor(0)\n",
      "tensor([1.9485]) tensor(3.) tensor(0) tensor(0)\n",
      "tensor([2.9448]) tensor(4.) tensor(0) tensor(0)\n",
      "tensor([2.1687]) tensor(3.) tensor(0) tensor(0)\n",
      "tensor([4.3131]) tensor(4.) tensor(0) tensor(0)\n",
      "tensor([2.0140]) tensor(2.) tensor(0) tensor(0)\n",
      "tensor([2.0771]) tensor(2.) tensor(0) tensor(0)\n",
      "tensor([2.1228]) tensor(2.) tensor(0) tensor(0)\n",
      "tensor([2.2370]) tensor(2.) tensor(0) tensor(0)\n",
      "tensor([2.8635]) tensor(3.) tensor(0) tensor(0)\n",
      "tensor([2.6503]) tensor(3.) tensor(0) tensor(0)\n",
      "tensor([2.0910]) tensor(1.) tensor(0) tensor(0)\n",
      "tensor([2.4072]) tensor(3.) tensor(0) tensor(0)\n",
      "tensor([2.1942]) tensor(2.) tensor(0) tensor(0)\n",
      "tensor([1.9819]) tensor(4.) tensor(0) tensor(0)\n",
      "tensor([2.1000]) tensor(2.) tensor(0) tensor(0)\n",
      "tensor([2.0462]) tensor(2.) tensor(0) tensor(0)\n",
      "tensor([2.0084]) tensor(2.) tensor(0) tensor(0)\n",
      "tensor([2.0045]) tensor(2.) tensor(0) tensor(0)\n",
      "tensor([1.9753]) tensor(2.) tensor(0) tensor(0)\n",
      "tensor([2.2348]) tensor(2.) tensor(0) tensor(0)\n",
      "tensor([4.2137]) tensor(4.) tensor(0) tensor(0)\n",
      "tensor([2.3738]) tensor(3.) tensor(0) tensor(0)\n",
      "tensor([2.4090]) tensor(3.) tensor(0) tensor(0)\n",
      "tensor([2.4052]) tensor(2.) tensor(0) tensor(0)\n",
      "tensor([2.0693]) tensor(2.) tensor(0) tensor(0)\n",
      "tensor([2.1879]) tensor(2.) tensor(0) tensor(0)\n",
      "tensor([2.0559]) tensor(2.) tensor(0) tensor(0)\n",
      "tensor([2.1187]) tensor(2.) tensor(0) tensor(0)\n",
      "tensor([2.0295]) tensor(2.) tensor(0) tensor(0)\n",
      "tensor([2.2051]) tensor(2.) tensor(0) tensor(0)\n",
      "tensor([2.1838]) tensor(2.) tensor(0) tensor(0)\n",
      "tensor([2.0817]) tensor(2.) tensor(0) tensor(0)\n",
      "tensor([2.0292]) tensor(2.) tensor(0) tensor(0)\n",
      "tensor([2.4063]) tensor(3.) tensor(0) tensor(0)\n",
      "tensor([2.1878]) tensor(2.) tensor(0) tensor(0)\n",
      "tensor([2.2572]) tensor(2.) tensor(0) tensor(0)\n",
      "tensor([2.1077]) tensor(2.) tensor(0) tensor(0)\n",
      "tensor([2.4273]) tensor(3.) tensor(0) tensor(0)\n",
      "tensor([2.2421]) tensor(4.) tensor(0) tensor(0)\n",
      "tensor([3.4993]) tensor(4.) tensor(0) tensor(0)\n",
      "tensor([2.0591]) tensor(2.) tensor(0) tensor(0)\n",
      "tensor([2.5762]) tensor(3.) tensor(0) tensor(0)\n",
      "tensor([2.0142]) tensor(1.) tensor(0) tensor(0)\n",
      "tensor([2.2552]) tensor(2.) tensor(0) tensor(0)\n",
      "tensor([2.0736]) tensor(2.) tensor(0) tensor(0)\n",
      "tensor([2.7761]) tensor(2.) tensor(0) tensor(0)\n",
      "tensor([4.1625]) tensor(3.) tensor(0) tensor(0)\n",
      "tensor([2.0080]) tensor(2.) tensor(0) tensor(0)\n",
      "tensor([1.9979]) tensor(2.) tensor(0) tensor(0)\n",
      "tensor([3.5987]) tensor(3.) tensor(0) tensor(0)\n",
      "tensor([1.9789]) tensor(1.) tensor(0) tensor(0)\n",
      "tensor([2.1231]) tensor(2.) tensor(0) tensor(0)\n",
      "tensor([2.1444]) tensor(2.) tensor(0) tensor(0)\n",
      "tensor([2.2298]) tensor(3.) tensor(0) tensor(0)\n",
      "tensor([4.2204]) tensor(5.) tensor(0) tensor(0)\n",
      "tensor([2.0172]) tensor(1.5000) tensor(0) tensor(0)\n",
      "tensor([2.0405]) tensor(2.) tensor(0) tensor(0)\n",
      "tensor([2.1942]) tensor(2.) tensor(0) tensor(0)\n",
      "tensor([1.9575]) tensor(2.) tensor(0) tensor(0)\n",
      "tensor([2.2922]) tensor(2.) tensor(0) tensor(0)\n",
      "tensor([2.4152]) tensor(2.) tensor(0) tensor(0)\n",
      "tensor([2.0975]) tensor(2.5000) tensor(0) tensor(0)\n",
      "tensor([2.1262]) tensor(3.) tensor(0) tensor(0)\n",
      "tensor([3.3514]) tensor(5.) tensor(0) tensor(0)\n",
      "tensor([2.3892]) tensor(3.) tensor(0) tensor(0)\n",
      "tensor([2.1556]) tensor(2.) tensor(0) tensor(0)\n",
      "tensor([2.1684]) tensor(2.) tensor(0) tensor(0)\n",
      "tensor([2.1276]) tensor(1.) tensor(0) tensor(0)\n",
      "tensor([2.7592]) tensor(3.) tensor(0) tensor(0)\n",
      "tensor([2.1415]) tensor(2.) tensor(0) tensor(0)\n",
      "tensor([2.0990]) tensor(2.) tensor(0) tensor(0)\n"
     ]
    },
    {
     "name": "stdout",
     "output_type": "stream",
     "text": [
      "tensor([2.4691]) tensor(1.) tensor(0) tensor(0)\n",
      "tensor([2.1559]) tensor(2.) tensor(0) tensor(0)\n",
      "tensor([3.0089]) tensor(2.) tensor(0) tensor(0)\n",
      "tensor([2.1711]) tensor(2.) tensor(0) tensor(0)\n",
      "tensor([2.1743]) tensor(2.) tensor(0) tensor(0)\n",
      "tensor([1.9921]) tensor(2.) tensor(0) tensor(0)\n",
      "tensor([2.0739]) tensor(3.) tensor(0) tensor(0)\n",
      "tensor([1.9656]) tensor(2.) tensor(0) tensor(0)\n",
      "tensor([2.0749]) tensor(1.) tensor(0) tensor(0)\n",
      "tensor([2.0355]) tensor(3.) tensor(0) tensor(0)\n",
      "tensor([2.0642]) tensor(2.) tensor(0) tensor(0)\n",
      "tensor([2.0531]) tensor(2.) tensor(0) tensor(0)\n",
      "tensor([4.3083]) tensor(4.) tensor(0) tensor(0)\n",
      "tensor([1.9373]) tensor(2.) tensor(0) tensor(0)\n",
      "tensor([2.1022]) tensor(2.) tensor(0) tensor(0)\n",
      "tensor([2.3137]) tensor(2.) tensor(0) tensor(0)\n",
      "tensor([2.0138]) tensor(2.) tensor(0) tensor(0)\n",
      "tensor([1.9898]) tensor(2.) tensor(0) tensor(0)\n",
      "tensor([2.3044]) tensor(3.) tensor(0) tensor(0)\n",
      "tensor([2.2207]) tensor(2.) tensor(0) tensor(0)\n",
      "tensor([2.0569]) tensor(2.5000) tensor(0) tensor(0)\n",
      "tensor([4.1767]) tensor(5.) tensor(0) tensor(0)\n",
      "tensor([2.0623]) tensor(2.) tensor(0) tensor(0)\n",
      "tensor([2.0733]) tensor(2.) tensor(0) tensor(0)\n",
      "tensor([2.2687]) tensor(2.) tensor(0) tensor(0)\n",
      "tensor([2.3238]) tensor(2.) tensor(0) tensor(0)\n",
      "tensor([2.5401]) tensor(3.) tensor(0) tensor(0)\n",
      "tensor([3.9889]) tensor(5.) tensor(0) tensor(0)\n",
      "tensor([2.1001]) tensor(2.) tensor(0) tensor(0)\n",
      "tensor([2.1064]) tensor(2.) tensor(0) tensor(0)\n",
      "tensor([2.1108]) tensor(2.) tensor(0) tensor(0)\n",
      "tensor([2.1109]) tensor(2.) tensor(0) tensor(0)\n",
      "tensor([3.5414]) tensor(4.) tensor(0) tensor(0)\n",
      "tensor([3.9959]) tensor(3.) tensor(0) tensor(0)\n",
      "tensor([2.0924]) tensor(2.) tensor(0) tensor(0)\n",
      "tensor([2.0573]) tensor(2.) tensor(0) tensor(0)\n",
      "tensor([2.2769]) tensor(2.) tensor(0) tensor(0)\n",
      "tensor([2.2356]) tensor(2.) tensor(0) tensor(0)\n",
      "tensor([2.4502]) tensor(2.) tensor(0) tensor(0)\n",
      "tensor([2.3101]) tensor(3.) tensor(0) tensor(0)\n",
      "tensor([2.0647]) tensor(2.) tensor(0) tensor(0)\n",
      "tensor([2.0732]) tensor(2.) tensor(0) tensor(0)\n",
      "tensor([2.1475]) tensor(2.) tensor(0) tensor(0)\n",
      "tensor([2.1834]) tensor(2.) tensor(0) tensor(0)\n",
      "tensor([2.0043]) tensor(1.) tensor(0) tensor(0)\n",
      "tensor([4.2771]) tensor(4.) tensor(0) tensor(0)\n",
      "tensor([2.1822]) tensor(2.) tensor(0) tensor(0)\n",
      "tensor([2.2017]) tensor(1.) tensor(0) tensor(0)\n",
      "tensor([4.3128]) tensor(5.) tensor(0) tensor(0)\n",
      "tensor([2.1797]) tensor(2.) tensor(0) tensor(0)\n",
      "tensor([1.9532]) tensor(2.) tensor(0) tensor(0)\n",
      "tensor([2.3937]) tensor(2.) tensor(0) tensor(0)\n",
      "tensor([2.2276]) tensor(2.) tensor(0) tensor(0)\n",
      "tensor([2.0095]) tensor(2.5000) tensor(0) tensor(0)\n",
      "tensor([2.1438]) tensor(2.) tensor(0) tensor(0)\n",
      "tensor([2.0268]) tensor(2.) tensor(0) tensor(0)\n",
      "tensor([2.0921]) tensor(2.) tensor(0) tensor(0)\n",
      "tensor([2.5660]) tensor(3.) tensor(0) tensor(0)\n",
      "tensor([2.5861]) tensor(3.) tensor(0) tensor(0)\n",
      "tensor([2.1739]) tensor(2.) tensor(0) tensor(0)\n",
      "tensor([2.0061]) tensor(2.) tensor(0) tensor(0)\n",
      "tensor([2.4069]) tensor(3.) tensor(0) tensor(0)\n",
      "tensor([1.9865]) tensor(2.) tensor(0) tensor(0)\n",
      "tensor([2.1675]) tensor(1.) tensor(0) tensor(0)\n",
      "tensor([2.0596]) tensor(2.) tensor(0) tensor(0)\n",
      "tensor([1.9809]) tensor(1.) tensor(0) tensor(0)\n",
      "tensor([2.9002]) tensor(4.) tensor(0) tensor(0)\n",
      "tensor([3.3733]) tensor(3.) tensor(0) tensor(0)\n",
      "tensor([2.2050]) tensor(2.) tensor(0) tensor(0)\n",
      "tensor([2.1106]) tensor(3.) tensor(0) tensor(0)\n",
      "tensor([2.0859]) tensor(2.) tensor(0) tensor(0)\n",
      "tensor([2.1036]) tensor(1.) tensor(0) tensor(0)\n",
      "tensor([2.7933]) tensor(3.) tensor(0) tensor(0)\n",
      "tensor([3.9189]) tensor(5.) tensor(0) tensor(0)\n",
      "tensor([2.0168]) tensor(2.) tensor(0) tensor(0)\n",
      "tensor([1.9642]) tensor(3.) tensor(0) tensor(0)\n",
      "tensor([2.1421]) tensor(2.) tensor(0) tensor(0)\n",
      "tensor([2.0635]) tensor(2.) tensor(0) tensor(0)\n",
      "tensor([2.0717]) tensor(2.) tensor(0) tensor(0)\n",
      "tensor([2.1143]) tensor(2.) tensor(0) tensor(0)\n",
      "tensor([2.2590]) tensor(2.) tensor(0) tensor(0)\n",
      "tensor([2.1470]) tensor(2.) tensor(0) tensor(0)\n",
      "tensor([3.0504]) tensor(3.) tensor(0) tensor(0)\n",
      "tensor([2.1222]) tensor(2.) tensor(0) tensor(0)\n",
      "tensor([2.5084]) tensor(2.) tensor(0) tensor(0)\n",
      "tensor([4.2822]) tensor(3.) tensor(0) tensor(0)\n",
      "tensor([2.0251]) tensor(1.) tensor(0) tensor(0)\n",
      "tensor([3.8636]) tensor(4.) tensor(0) tensor(0)\n",
      "tensor([2.8073]) tensor(2.) tensor(0) tensor(0)\n",
      "tensor([2.2894]) tensor(2.) tensor(0) tensor(0)\n",
      "tensor([2.1038]) tensor(1.) tensor(0) tensor(0)\n",
      "tensor([2.0369]) tensor(3.) tensor(0) tensor(0)\n",
      "tensor([2.1522]) tensor(2.) tensor(0) tensor(0)\n",
      "tensor([2.1341]) tensor(2.) tensor(0) tensor(0)\n",
      "tensor([2.2376]) tensor(2.) tensor(0) tensor(0)\n",
      "tensor([4.2169]) tensor(3.) tensor(0) tensor(0)\n",
      "tensor([2.2167]) tensor(2.) tensor(0) tensor(0)\n",
      "tensor([2.3940]) tensor(2.) tensor(0) tensor(0)\n",
      "tensor([4.0287]) tensor(3.) tensor(0) tensor(0)\n",
      "tensor([2.4938]) tensor(2.) tensor(0) tensor(0)\n",
      "tensor([2.0675]) tensor(3.) tensor(0) tensor(0)\n",
      "tensor([4.3461]) tensor(4.5000) tensor(0) tensor(0)\n",
      "tensor([2.3663]) tensor(3.) tensor(0) tensor(0)\n",
      "tensor([2.1221]) tensor(2.) tensor(0) tensor(0)\n",
      "tensor([2.0279]) tensor(2.) tensor(0) tensor(0)\n",
      "tensor([2.4568]) tensor(2.) tensor(0) tensor(0)\n",
      "tensor([2.2938]) tensor(3.) tensor(0) tensor(0)\n",
      "tensor([2.0191]) tensor(3.) tensor(0) tensor(0)\n",
      "tensor([2.1490]) tensor(2.) tensor(0) tensor(0)\n",
      "tensor([2.1472]) tensor(2.) tensor(0) tensor(0)\n",
      "tensor([2.2076]) tensor(2.) tensor(0) tensor(0)\n",
      "tensor([2.0428]) tensor(2.) tensor(0) tensor(0)\n",
      "tensor([2.1002]) tensor(1.5000) tensor(0) tensor(0)\n",
      "tensor([2.2951]) tensor(2.) tensor(0) tensor(0)\n",
      "tensor([2.0840]) tensor(2.) tensor(0) tensor(0)\n",
      "tensor([2.7770]) tensor(3.) tensor(0) tensor(0)\n",
      "tensor([1.9978]) tensor(2.) tensor(0) tensor(0)\n",
      "tensor([1.9857]) tensor(1.) tensor(0) tensor(0)\n",
      "tensor([2.0313]) tensor(2.) tensor(0) tensor(0)\n",
      "tensor([2.3343]) tensor(1.) tensor(0) tensor(0)\n",
      "tensor([3.2928]) tensor(2.) tensor(0) tensor(0)\n",
      "tensor([3.7181]) tensor(3.) tensor(0) tensor(0)\n",
      "tensor([4.3547]) tensor(5.) tensor(0) tensor(0)\n",
      "tensor([1.9908]) tensor(1.) tensor(0) tensor(0)\n",
      "tensor([2.7534]) tensor(2.5000) tensor(0) tensor(0)\n",
      "tensor([1.9829]) tensor(2.) tensor(0) tensor(0)\n",
      "tensor([2.8701]) tensor(1.) tensor(0) tensor(0)\n",
      "tensor([2.2599]) tensor(3.) tensor(0) tensor(0)\n",
      "tensor([2.9140]) tensor(3.) tensor(0) tensor(0)\n",
      "tensor([2.1248]) tensor(1.) tensor(0) tensor(0)\n",
      "tensor([2.4075]) tensor(2.) tensor(0) tensor(0)\n",
      "tensor([2.1776]) tensor(2.) tensor(0) tensor(0)\n",
      "tensor([2.0720]) tensor(1.) tensor(0) tensor(0)\n",
      "tensor([1.9976]) tensor(2.) tensor(0) tensor(0)\n",
      "tensor([2.0696]) tensor(2.) tensor(0) tensor(0)\n",
      "tensor([2.1264]) tensor(2.) tensor(0) tensor(0)\n",
      "tensor([2.4344]) tensor(3.) tensor(0) tensor(0)\n",
      "tensor([2.6060]) tensor(4.) tensor(0) tensor(0)\n",
      "tensor([2.0444]) tensor(2.) tensor(0) tensor(0)\n",
      "tensor([2.5581]) tensor(2.) tensor(0) tensor(0)\n",
      "tensor([2.1444]) tensor(3.) tensor(0) tensor(0)\n",
      "tensor([2.1161]) tensor(1.) tensor(0) tensor(0)\n",
      "tensor([2.5495]) tensor(4.) tensor(0) tensor(0)\n",
      "tensor([1.9520]) tensor(2.) tensor(0) tensor(0)\n",
      "tensor([1.9088]) tensor(3.) tensor(0) tensor(0)\n",
      "tensor([2.0781]) tensor(2.) tensor(0) tensor(0)\n",
      "tensor([4.1220]) tensor(5.) tensor(0) tensor(0)\n",
      "tensor([2.1220]) tensor(3.) tensor(0) tensor(0)\n",
      "tensor([2.1369]) tensor(2.) tensor(0) tensor(0)\n",
      "tensor([2.7793]) tensor(4.) tensor(0) tensor(0)\n",
      "tensor([2.2110]) tensor(3.) tensor(0) tensor(0)\n",
      "tensor([2.1765]) tensor(2.) tensor(0) tensor(0)\n",
      "tensor([2.1530]) tensor(2.) tensor(0) tensor(0)\n",
      "tensor([2.1343]) tensor(2.) tensor(0) tensor(0)\n",
      "tensor([4.1150]) tensor(4.) tensor(0) tensor(0)\n",
      "tensor([2.1607]) tensor(2.) tensor(0) tensor(0)\n",
      "tensor([2.8054]) tensor(2.) tensor(0) tensor(0)\n",
      "tensor([2.1810]) tensor(3.) tensor(0) tensor(0)\n",
      "tensor([2.2049]) tensor(2.) tensor(0) tensor(0)\n",
      "tensor([2.0871]) tensor(2.) tensor(0) tensor(0)\n",
      "tensor([2.2100]) tensor(2.) tensor(0) tensor(0)\n",
      "tensor([3.4466]) tensor(4.) tensor(0) tensor(0)\n",
      "tensor([2.1472]) tensor(3.) tensor(0) tensor(0)\n",
      "tensor([3.5099]) tensor(4.) tensor(0) tensor(0)\n",
      "tensor([2.4655]) tensor(2.) tensor(0) tensor(0)\n",
      "tensor([2.3094]) tensor(2.) tensor(0) tensor(0)\n",
      "tensor([2.7665]) tensor(5.) tensor(0) tensor(0)\n",
      "tensor([2.2464]) tensor(2.) tensor(0) tensor(0)\n",
      "tensor([3.1775]) tensor(4.) tensor(0) tensor(0)\n",
      "tensor([3.2778]) tensor(2.) tensor(0) tensor(0)\n",
      "tensor([2.3872]) tensor(2.) tensor(0) tensor(0)\n",
      "tensor([2.0392]) tensor(2.) tensor(0) tensor(0)\n",
      "tensor([2.0874]) tensor(2.) tensor(0) tensor(0)\n",
      "tensor([2.0336]) tensor(1.) tensor(0) tensor(0)\n",
      "tensor([4.3869]) tensor(5.) tensor(0) tensor(0)\n",
      "tensor([2.1673]) tensor(2.) tensor(0) tensor(0)\n",
      "tensor([2.0627]) tensor(2.) tensor(0) tensor(0)\n",
      "tensor([3.7138]) tensor(2.) tensor(0) tensor(0)\n",
      "tensor([2.2308]) tensor(3.) tensor(0) tensor(0)\n",
      "tensor([2.6440]) tensor(2.) tensor(0) tensor(0)\n",
      "tensor([3.1995]) tensor(4.5000) tensor(0) tensor(0)\n",
      "tensor([2.0270]) tensor(1.5000) tensor(0) tensor(0)\n",
      "tensor([2.0768]) tensor(2.) tensor(0) tensor(0)\n",
      "tensor([2.6554]) tensor(2.) tensor(0) tensor(0)\n",
      "tensor([2.1339]) tensor(2.) tensor(0) tensor(0)\n",
      "tensor([2.1573]) tensor(3.) tensor(0) tensor(0)\n",
      "tensor([2.2252]) tensor(2.) tensor(0) tensor(0)\n",
      "tensor([4.1339]) tensor(5.) tensor(0) tensor(0)\n",
      "tensor([1.9359]) tensor(2.) tensor(0) tensor(0)\n",
      "tensor([2.0655]) tensor(2.) tensor(0) tensor(0)\n",
      "tensor([2.0994]) tensor(2.) tensor(0) tensor(0)\n",
      "tensor([4.3584]) tensor(4.5000) tensor(0) tensor(0)\n",
      "tensor([2.0867]) tensor(2.) tensor(0) tensor(0)\n",
      "tensor([2.0583]) tensor(2.) tensor(0) tensor(0)\n",
      "tensor([2.2726]) tensor(3.) tensor(0) tensor(0)\n",
      "tensor([1.9415]) tensor(2.) tensor(0) tensor(0)\n",
      "tensor([1.9005]) tensor(3.) tensor(0) tensor(0)\n",
      "tensor([4.0091]) tensor(5.) tensor(0) tensor(0)\n",
      "tensor([4.0100]) tensor(3.) tensor(0) tensor(0)\n",
      "tensor([2.0058]) tensor(1.) tensor(0) tensor(0)\n",
      "tensor([2.3645]) tensor(2.) tensor(0) tensor(0)\n",
      "tensor([3.2208]) tensor(5.) tensor(0) tensor(0)\n",
      "tensor([1.9824]) tensor(2.) tensor(0) tensor(0)\n",
      "tensor([3.9278]) tensor(4.5000) tensor(0) tensor(0)\n",
      "tensor([2.0722]) tensor(2.) tensor(0) tensor(0)\n",
      "tensor([2.0256]) tensor(1.) tensor(0) tensor(0)\n",
      "tensor([2.1423]) tensor(2.) tensor(0) tensor(0)\n",
      "tensor([2.1381]) tensor(2.) tensor(0) tensor(0)\n",
      "tensor([2.2233]) tensor(2.) tensor(0) tensor(0)\n",
      "tensor([1.9340]) tensor(1.) tensor(0) tensor(0)\n",
      "tensor([2.0372]) tensor(2.) tensor(0) tensor(0)\n",
      "tensor([1.9691]) tensor(2.) tensor(0) tensor(0)\n",
      "tensor([2.1204]) tensor(3.) tensor(0) tensor(0)\n",
      "tensor([2.2980]) tensor(2.) tensor(0) tensor(0)\n",
      "tensor([2.0786]) tensor(3.) tensor(0) tensor(0)\n",
      "tensor([2.2734]) tensor(4.) tensor(0) tensor(0)\n",
      "tensor([2.2146]) tensor(3.) tensor(0) tensor(0)\n",
      "tensor([1.9765]) tensor(2.) tensor(0) tensor(0)\n",
      "tensor([2.5570]) tensor(3.) tensor(0) tensor(0)\n",
      "tensor([2.0096]) tensor(2.) tensor(0) tensor(0)\n",
      "tensor([2.1653]) tensor(2.) tensor(0) tensor(0)\n",
      "tensor([2.1061]) tensor(3.) tensor(0) tensor(0)\n",
      "tensor([2.2268]) tensor(2.) tensor(0) tensor(0)\n",
      "tensor([2.1082]) tensor(3.) tensor(0) tensor(0)\n",
      "tensor([2.0824]) tensor(2.) tensor(0) tensor(0)\n",
      "tensor([2.8786]) tensor(2.5000) tensor(0) tensor(0)\n",
      "tensor([2.1023]) tensor(3.) tensor(0) tensor(0)\n",
      "tensor([2.4929]) tensor(3.) tensor(0) tensor(0)\n",
      "tensor([2.1269]) tensor(2.) tensor(0) tensor(0)\n",
      "tensor([4.2236]) tensor(5.) tensor(0) tensor(0)\n",
      "tensor([2.2146]) tensor(5.) tensor(0) tensor(0)\n",
      "tensor([2.2506]) tensor(3.) tensor(0) tensor(0)\n",
      "tensor([2.4112]) tensor(2.) tensor(0) tensor(0)\n",
      "tensor([2.0268]) tensor(2.) tensor(0) tensor(0)\n",
      "tensor([2.2351]) tensor(4.) tensor(0) tensor(0)\n",
      "tensor([2.2686]) tensor(2.) tensor(0) tensor(0)\n",
      "tensor([2.1933]) tensor(2.) tensor(0) tensor(0)\n",
      "tensor([3.7284]) tensor(3.) tensor(0) tensor(0)\n"
     ]
    }
   ],
   "source": [
    "for prob_sent, prob_example, targ_sent, targ_example in zip(*probs,*targs):\n",
    "    print(prob_sent, targ_sent, torch.argmax(prob_example, dim=-1), targ_example)"
   ]
  },
  {
   "cell_type": "code",
   "execution_count": 48,
   "metadata": {},
   "outputs": [
    {
     "data": {
      "text/plain": [
       "['adequate_staffing',\n",
       " 'advancement_and_training_opportunities',\n",
       " 'appropriate_stress_work_assigned_equitably',\n",
       " 'benefits',\n",
       " 'better_ways_recognized_participate_in_decisions']"
      ]
     },
     "execution_count": 48,
     "metadata": {},
     "output_type": "execute_result"
    }
   ],
   "source": [
    "STANDARD_THEME_SAW_LABELS[:5]"
   ]
  },
  {
   "cell_type": "code",
   "execution_count": 49,
   "metadata": {},
   "outputs": [
    {
     "data": {
      "text/html": [],
      "text/plain": [
       "<IPython.core.display.HTML object>"
      ]
     },
     "metadata": {},
     "output_type": "display_data"
    },
    {
     "data": {
      "text/plain": [
       "(((2.1244192123413086), '0'), tensor([[2.1244]]), tensor([[2.1244]]))"
      ]
     },
     "execution_count": 49,
     "metadata": {},
     "output_type": "execute_result"
    }
   ],
   "source": [
    "learn.blurr_predict(\"theme: Adequate Staffing comment: We don't have enough people to get the job done.\")"
   ]
  },
  {
   "cell_type": "markdown",
   "metadata": {},
   "source": [
    "## Review"
   ]
  },
  {
   "cell_type": "markdown",
   "metadata": {},
   "source": [
    "### Lets look at validation metrics"
   ]
  },
  {
   "cell_type": "code",
   "execution_count": 50,
   "metadata": {},
   "outputs": [
    {
     "data": {
      "text/html": [],
      "text/plain": [
       "<IPython.core.display.HTML object>"
      ]
     },
     "metadata": {},
     "output_type": "display_data"
    },
    {
     "data": {
      "text/plain": [
       "(torch.Size([1049, 1]),\n",
       " torch.Size([1049, 2]),\n",
       " torch.Size([1049]),\n",
       " torch.Size([1049]))"
      ]
     },
     "execution_count": 50,
     "metadata": {},
     "output_type": "execute_result"
    }
   ],
   "source": [
    "# predictions for a single model using the learner's model and data loaders\n",
    "learn = learn.load(f'{m_pre}mm_bestmodel{m_suf}')\n",
    "learn.model.cuda(1)\n",
    "probs, targs  = learn.get_preds()\n",
    "\n",
    "probs[0].shape, probs[1].shape, targs[0].shape, targs[1].shape"
   ]
  },
  {
   "cell_type": "code",
   "execution_count": 51,
   "metadata": {},
   "outputs": [],
   "source": [
    "is_example_prob_true = torch.softmax(probs[1], dim=-1)[:,1]\n",
    "# is_example_prob_true"
   ]
  },
  {
   "cell_type": "code",
   "execution_count": 52,
   "metadata": {},
   "outputs": [],
   "source": [
    "# determine optimal threshold based on desired f-score\n",
    "f05 = OptimalMultiThresholdMetrics(beta=0.5, start=0.05, end=.5, sigmoid=False, \n",
    "                                   average='binary', sample_weight=None)\n",
    "f1 = OptimalMultiThresholdMetrics(beta=1, start=0.05, end=.5, sigmoid=False, \n",
    "                                   average='binary', sample_weight=None)\n",
    "f2 = OptimalMultiThresholdMetrics(beta=2, start=0.05, end=.5, sigmoid=False, \n",
    "                                   average='binary', sample_weight=None)"
   ]
  },
  {
   "cell_type": "code",
   "execution_count": 53,
   "metadata": {},
   "outputs": [
    {
     "data": {
      "text/plain": [
       "(0.30000000000000004, 0.30000000000000004, 0.30000000000000004)"
      ]
     },
     "execution_count": 53,
     "metadata": {},
     "output_type": "execute_result"
    }
   ],
   "source": [
    "threshold_f05 = f05.opt_th(is_example_prob_true, targs[1])\n",
    "threshold_f1 = f1.opt_th(is_example_prob_true, targs[1])\n",
    "threshold_f2 = f2.opt_th(is_example_prob_true, targs[1])\n",
    "\n",
    "threshold_f05, threshold_f1, threshold_f2"
   ]
  },
  {
   "cell_type": "code",
   "execution_count": 54,
   "metadata": {},
   "outputs": [
    {
     "data": {
      "text/plain": [
       "(0.06578947368421052, 0.07999999999999999, 0.10204081632653061)"
      ]
     },
     "execution_count": 54,
     "metadata": {},
     "output_type": "execute_result"
    }
   ],
   "source": [
    "f05_score = f05.opt_fscore(is_example_prob_true, targs[1])\n",
    "f1_score = f1.opt_fscore(is_example_prob_true, targs[1])\n",
    "f2_score = f2.opt_fscore(is_example_prob_true, targs[1])\n",
    "\n",
    "f05_score, f1_score, f2_score"
   ]
  },
  {
   "cell_type": "code",
   "execution_count": 55,
   "metadata": {},
   "outputs": [
    {
     "data": {
      "text/plain": [
       "0.06578947368421052"
      ]
     },
     "execution_count": 55,
     "metadata": {},
     "output_type": "execute_result"
    }
   ],
   "source": [
    "# make sure we are getting the same f1 score as sklearn\n",
    "res = skm.fbeta_score(targs[1], (is_example_prob_true > threshold_f05), beta=.5, \n",
    "                      average='binary', sample_weight=None, zero_division=False)\n",
    "res"
   ]
  },
  {
   "cell_type": "code",
   "execution_count": 56,
   "metadata": {},
   "outputs": [
    {
     "data": {
      "text/plain": [
       "(0.9923737049102783, 0.9923737049102783, 0.9923737049102783)"
      ]
     },
     "execution_count": 56,
     "metadata": {},
     "output_type": "execute_result"
    }
   ],
   "source": [
    "# determine accuracy based on optimal threshold\n",
    "val_acc_f05 = accuracy_multi(torch.argmax(probs[1], dim=-1), targs[1], threshold_f05, sigmoid=False).item()\n",
    "val_acc_f1 = accuracy_multi(torch.argmax(probs[1], dim=-1), targs[1], threshold_f1, sigmoid=False).item()\n",
    "val_acc_f2 = accuracy_multi(torch.argmax(probs[1], dim=-1), targs[1], threshold_f2, sigmoid=False).item()\n",
    "\n",
    "val_acc_f05, val_acc_f1, val_acc_f2"
   ]
  },
  {
   "cell_type": "code",
   "execution_count": 57,
   "metadata": {},
   "outputs": [
    {
     "data": {
      "text/plain": [
       "0.9780743718147278"
      ]
     },
     "execution_count": 57,
     "metadata": {},
     "output_type": "execute_result"
    }
   ],
   "source": [
    "# make sure we are getting the same f1 accuracy\n",
    "preds = ((is_example_prob_true > threshold_f05).byte() == targs[1].byte()).float().mean()\n",
    "preds.item()"
   ]
  },
  {
   "cell_type": "markdown",
   "metadata": {},
   "source": [
    "### Overall metrics - is_example_prob_true"
   ]
  },
  {
   "cell_type": "code",
   "execution_count": 58,
   "metadata": {},
   "outputs": [],
   "source": [
    "eval_targs = targs[1].flatten() # targs[:,0]\n",
    "eval_probs = is_example_prob_true.flatten()"
   ]
  },
  {
   "cell_type": "markdown",
   "metadata": {},
   "source": [
    "#### Classification Accuracy\n",
    "\n",
    "The percentage of correct predictions.  Answers the question, *\"Overall, how often is the classifier correct?\"*"
   ]
  },
  {
   "cell_type": "code",
   "execution_count": 59,
   "metadata": {},
   "outputs": [
    {
     "name": "stdout",
     "output_type": "stream",
     "text": [
      "0.9780743565300286\n"
     ]
    }
   ],
   "source": [
    "print(skm.accuracy_score(eval_targs, (is_example_prob_true > threshold_f05).float(), sample_weight=None))"
   ]
  },
  {
   "cell_type": "markdown",
   "metadata": {},
   "source": [
    "#### Null Accuracy\n",
    " \n",
    "The accuracy achieved by always predicting the most frequent class.  Answers the question, *\"What would the accuracy be by always predicting the most frequent case?\"*"
   ]
  },
  {
   "cell_type": "code",
   "execution_count": 60,
   "metadata": {},
   "outputs": [
    {
     "name": "stdout",
     "output_type": "stream",
     "text": [
      "0 1041\n"
     ]
    }
   ],
   "source": [
    "u_classes, u_counts = np.unique(eval_targs, return_counts=True)\n",
    "most_freq_class, most_freq_class_count = u_classes[np.argmax(u_counts)], np.max(u_counts)\n",
    "print(most_freq_class, most_freq_class_count)"
   ]
  },
  {
   "cell_type": "code",
   "execution_count": 61,
   "metadata": {},
   "outputs": [
    {
     "data": {
      "text/plain": [
       "0.9923736892278361"
      ]
     },
     "execution_count": 61,
     "metadata": {},
     "output_type": "execute_result"
    }
   ],
   "source": [
    "most_freq_class_count / len(eval_targs)"
   ]
  },
  {
   "cell_type": "markdown",
   "metadata": {},
   "source": [
    "#### Cohen's kappa\n",
    "\n",
    "This measure is intended to compare labelings by different human annotators (not a classifier vs. ground truth)\n",
    "\n",
    "Kappa socres are between -1 and 1 ( >= .8 is generally considered good agreement; <= 0 means no agreement ... e.g., practically random labels)"
   ]
  },
  {
   "cell_type": "code",
   "execution_count": 62,
   "metadata": {},
   "outputs": [
    {
     "name": "stdout",
     "output_type": "stream",
     "text": [
      "0.07035795476438189\n"
     ]
    }
   ],
   "source": [
    "print(skm.cohen_kappa_score(eval_targs, (eval_probs > threshold_f05).float(), \n",
    "                            weights=None, sample_weight=None))"
   ]
  },
  {
   "cell_type": "markdown",
   "metadata": {},
   "source": [
    "#### Confusion Matrix\n",
    "\n",
    "Describes the performance of a classification model"
   ]
  },
  {
   "cell_type": "code",
   "execution_count": 63,
   "metadata": {},
   "outputs": [],
   "source": [
    "def plot_confusion_matrix(cm, classes, normalize=False, \n",
    "                          title='Confusion matrix', cmap=plt.cm.Blues, print_info=False):\n",
    "    \"\"\"\n",
    "    This function prints and plots the confusion matrix.\n",
    "    Normalization can be applied by setting `normalize=True`.\n",
    "    \"\"\"\n",
    "    if normalize:\n",
    "        cm = cm.astype('float') / cm.sum(axis=1)[:, np.newaxis]\n",
    "        if (print_info): print(\"Normalized confusion matrix\")\n",
    "    else:\n",
    "        if (print_info): print('Confusion matrix, without normalization')\n",
    "\n",
    "    if (print_info): print(cm)\n",
    "\n",
    "    plt.imshow(cm, interpolation='nearest', cmap=cmap)\n",
    "    plt.title(title)\n",
    "    plt.colorbar(fraction=0.046, pad=0.04)\n",
    "    tick_marks = np.arange(len(classes))\n",
    "    plt.xticks(tick_marks, classes, rotation=45)\n",
    "    plt.yticks(tick_marks, classes)\n",
    "\n",
    "    fmt = '.2f' if normalize else 'd'\n",
    "    thresh = cm.max() / 2.\n",
    "    for i, j in itertools.product(range(cm.shape[0]), range(cm.shape[1])):\n",
    "        plt.text(j, i, format(cm[i, j], fmt),\n",
    "                 horizontalalignment=\"center\",\n",
    "                 color=\"white\" if cm[i, j] > thresh else \"black\")\n",
    "\n",
    "    plt.tight_layout()\n",
    "    plt.ylabel('True label')\n",
    "    plt.xlabel('Predicted label')\n",
    "    plt.grid(None)"
   ]
  },
  {
   "cell_type": "code",
   "execution_count": 64,
   "metadata": {},
   "outputs": [],
   "source": [
    "cm = skm.confusion_matrix(eval_targs, (eval_probs > threshold_f05).float(), sample_weight=None)"
   ]
  },
  {
   "cell_type": "code",
   "execution_count": 65,
   "metadata": {},
   "outputs": [
    {
     "data": {
      "image/png": "[encoded data removed]",
      "text/plain": [
       "<Figure size 864x576 with 4 Axes>"
      ]
     },
     "metadata": {},
     "output_type": "display_data"
    }
   ],
   "source": [
    "# Plot non-normalized confusion matrix\n",
    "fig = plt.figure(figsize=(12,8))\n",
    "plt.subplot(1, 2, 1)\n",
    "plot_confusion_matrix(cm, classes=u_classes,\n",
    "                      title='Confusion matrix, without normalization')\n",
    "\n",
    "# Plot normalized confusion matrix\n",
    "plt.subplot(1, 2, 2)\n",
    "plot_confusion_matrix(cm, classes=u_classes, normalize=True,\n",
    "                      title='Normalized confusion matrix')\n",
    "\n",
    "fig.subplots_adjust(wspace=0.5)\n",
    "plt.show()"
   ]
  },
  {
   "cell_type": "code",
   "execution_count": 66,
   "metadata": {},
   "outputs": [
    {
     "name": "stdout",
     "output_type": "stream",
     "text": [
      "              precision    recall  f1-score   support\n",
      "\n",
      "           0       0.99      0.98      0.99      1041\n",
      "           1       0.06      0.12      0.08         8\n",
      "\n",
      "    accuracy                           0.98      1049\n",
      "   macro avg       0.53      0.55      0.53      1049\n",
      "weighted avg       0.99      0.98      0.98      1049\n",
      "\n"
     ]
    }
   ],
   "source": [
    "print(skm.classification_report(eval_targs, (eval_probs > threshold_f05).float(), \n",
    "                                labels=[0,1], \n",
    "                                sample_weight=None, \n",
    "                                zero_division=1))"
   ]
  },
  {
   "cell_type": "markdown",
   "metadata": {},
   "source": [
    "#### Raw probability distribution\n",
    "\n",
    "Useful to see how the threshold can be adjusted to increase sensitivity or specificity"
   ]
  },
  {
   "cell_type": "code",
   "execution_count": 67,
   "metadata": {},
   "outputs": [
    {
     "data": {
      "text/plain": [
       "Text(0, 0.5, 'Frequency')"
      ]
     },
     "execution_count": 67,
     "metadata": {},
     "output_type": "execute_result"
    },
    {
     "data": {
      "image/png": "[encoded data removed]",
      "text/plain": [
       "<Figure size 648x432 with 1 Axes>"
      ]
     },
     "metadata": {},
     "output_type": "display_data"
    }
   ],
   "source": [
    "plt.hist(eval_probs, bins=10)\n",
    "# plt.xlim(0,1)\n",
    "plt.title('Histogram of predicted probabilities')\n",
    "plt.xlabel('Predicted probability of Labels')\n",
    "plt.ylabel('Frequency')"
   ]
  },
  {
   "cell_type": "markdown",
   "metadata": {},
   "source": [
    "#### ROC curves and Area Under the Curve (AUC)\n",
    "\n",
    "***ROC Curve*** answers the question, *\"How would sensitivity and specificity be affected by various thresholds without changing the threshold?\"*  It is a way **to visualize the performance of a binary classifier.**\n",
    "\n",
    "The ROC curve can help you **choose a threshold** that balances sensitivity and specificity based on your particular business case.\n",
    "\n",
    "ROC curves visualize all possible classification thresholds whereas misclassification rate only represents your error rate for a single threshold.\n",
    "\n",
    "A classifier that does a good job at separating the classes will have a ROC curve that hugs the upper left corner of the plot.  Converseley, a classifier the does a poor job separating the classes will have a ROC curve that is close to the diagonal line (0,0 -> 1,1).  That diagonal line represents a classifier that does no better than random guessing."
   ]
  },
  {
   "cell_type": "code",
   "execution_count": 68,
   "metadata": {},
   "outputs": [],
   "source": [
    "fpr, tpr, thresholds = skm.roc_curve(eval_targs, eval_probs, sample_weight=None)"
   ]
  },
  {
   "cell_type": "code",
   "execution_count": 69,
   "metadata": {},
   "outputs": [
    {
     "data": {
      "image/png": "[encoded data removed]",
      "text/plain": [
       "<Figure size 648x432 with 1 Axes>"
      ]
     },
     "metadata": {},
     "output_type": "display_data"
    }
   ],
   "source": [
    "plt.plot(fpr, tpr)\n",
    "plt.xlim = ([0.0, 1.0])\n",
    "plt.ylim = ([0.0, 1.0])\n",
    "plt.title('ROC curve for all labels')\n",
    "plt.xlabel('False Positive Rate (1 - Specificity)')\n",
    "plt.ylabel('True Positive Rate (Sensitivity/Recall)')\n",
    "plt.grid(True)"
   ]
  },
  {
   "cell_type": "markdown",
   "metadata": {},
   "source": [
    "***AUC*** = the percentage of the ROC plot that is underneath the curve.  \n",
    "\n",
    "AUC summarizes the performance of a classifier in a **single number**.  It says, *\"If you randomly chose one positive and one negative observation, what is the likelihood that your classifier will assign a higher predicted probability to the positive observation.\"*\n",
    "\n",
    "**An AUC of ~ 0.8 is very good while an AUC of ~ 0.5 represents a poor classifier.**\n",
    "\n",
    "The ROC curve and AUC are insensitive to whether your predicted probabilities are properly calibrated to actually represent probabilities of class membership (e.g., it works if predicted probs range from 0.9 to 1 instead of 0 to 1).  All the AUC metric cares about is how well your classifier separated the two classes\n",
    "\n",
    "Notes:\n",
    "1.  AUC is useful even when there is **high class imbalance** (unlike classification accuracy)\n",
    "2.  AUC is useful even when predicted probabilities are not properly calibrated (e.g., not between 0 and 1)"
   ]
  },
  {
   "cell_type": "code",
   "execution_count": 70,
   "metadata": {},
   "outputs": [
    {
     "name": "stdout",
     "output_type": "stream",
     "text": [
      "0.808837656099904\n"
     ]
    }
   ],
   "source": [
    "print(skm.roc_auc_score(eval_targs, eval_probs, average='weighted', sample_weight=None))"
   ]
  },
  {
   "cell_type": "markdown",
   "metadata": {},
   "source": [
    "### Overall metrics - is_example_prob_true"
   ]
  },
  {
   "cell_type": "code",
   "execution_count": 71,
   "metadata": {},
   "outputs": [
    {
     "data": {
      "text/plain": [
       "0.4706903"
      ]
     },
     "execution_count": 71,
     "metadata": {},
     "output_type": "execute_result"
    }
   ],
   "source": [
    "# mse\n",
    "skm.mean_squared_error(targs[0], probs[0])"
   ]
  },
  {
   "cell_type": "code",
   "execution_count": 72,
   "metadata": {},
   "outputs": [
    {
     "data": {
      "text/plain": [
       "0.6860687356244805"
      ]
     },
     "execution_count": 72,
     "metadata": {},
     "output_type": "execute_result"
    }
   ],
   "source": [
    "# rmse\n",
    "math.sqrt(skm.mean_squared_error(targs[0], probs[0]))"
   ]
  },
  {
   "cell_type": "code",
   "execution_count": 73,
   "metadata": {},
   "outputs": [
    {
     "data": {
      "text/plain": [
       "0.49649814"
      ]
     },
     "execution_count": 73,
     "metadata": {},
     "output_type": "execute_result"
    }
   ],
   "source": [
    "# mae\n",
    "skm.mean_absolute_error(targs[0], probs[0])"
   ]
  },
  {
   "cell_type": "markdown",
   "metadata": {},
   "source": [
    "## Train/Evaluate"
   ]
  },
  {
   "cell_type": "code",
   "execution_count": 35,
   "metadata": {},
   "outputs": [],
   "source": [
    "try:\n",
    "    inf_learn.purge(); inf_learn = None;\n",
    "    gc.collect()\n",
    "    torch.cuda.empty_cache()\n",
    "except: pass\n",
    "\n",
    "inf_learn = load_learner(STANDARD_THEME_META_PATH/f'{m_pre}export_mm{m_suf}.pkl')\n",
    "inf_learn.loss_func.loss_funcs[1].func.weight = inf_learn.loss_func.loss_funcs[1].func.weight.to(dls.device)\n",
    "dls = get_meta_standard_theme_train_dls(df, hf_arch, hf_tokenizer)\n",
    "inf_learn.dls = dls"
   ]
  },
  {
   "cell_type": "code",
   "execution_count": 36,
   "metadata": {},
   "outputs": [
    {
     "data": {
      "text/html": [],
      "text/plain": [
       "<IPython.core.display.HTML object>"
      ]
     },
     "metadata": {},
     "output_type": "display_data"
    }
   ],
   "source": [
    "probs, targs, losses = inf_learn.get_preds(with_loss=True, reorder=True)"
   ]
  },
  {
   "cell_type": "markdown",
   "metadata": {},
   "source": [
    "### Results"
   ]
  },
  {
   "cell_type": "code",
   "execution_count": 37,
   "metadata": {},
   "outputs": [],
   "source": [
    "# determine optimal threshold based on desired f-score\n",
    "f05 = OptimalMultiThresholdMetrics(beta=0.5, start=0.05, end=.9, sigmoid=False, average='binary', sample_weight=None)\n",
    "f1 = OptimalMultiThresholdMetrics(beta=1, start=0.05, end=.9, sigmoid=False, average='binary', sample_weight=None)\n",
    "f2 = OptimalMultiThresholdMetrics(beta=2, start=0.05, end=.9, sigmoid=False, average='binary', sample_weight=None)"
   ]
  },
  {
   "cell_type": "code",
   "execution_count": 38,
   "metadata": {},
   "outputs": [],
   "source": [
    "is_example_prob_true = torch.softmax(probs[1], dim=-1)[:,1]"
   ]
  },
  {
   "cell_type": "code",
   "execution_count": 39,
   "metadata": {},
   "outputs": [
    {
     "name": "stdout",
     "output_type": "stream",
     "text": [
      "0.30000000000000004 0.30000000000000004 0.30000000000000004\n",
      "Fowards Only\n",
      "-------------\n",
      "f05:\tOptimal threshold = 0.30000000000000004\t(Accuracy = 0.9780743718147278)\n",
      "f1:\tOptimal threshold = 0.30000000000000004\t(Accuracy = 0.9780743718147278)\n",
      "f2:\tOptimal threshold = 0.30000000000000004\t(Accuracy = 0.9780743718147278)\n",
      "\n",
      "Accuracy: 0.9923737049102783\n"
     ]
    }
   ],
   "source": [
    "# determine optimal threshold based on desired f-score\n",
    "threshold_f05 = f05.opt_th(is_example_prob_true, targs[1])\n",
    "threshold_f1 = f1.opt_th(is_example_prob_true, targs[1])\n",
    "threshold_f2 = f2.opt_th(is_example_prob_true, targs[1])\n",
    "\n",
    "print(threshold_f05, threshold_f1, threshold_f2)\n",
    "\n",
    "# determine accuracy based on optimal threshold\n",
    "val_acc_f05 = accuracy_multi(is_example_prob_true, targs[1], threshold_f05, sigmoid=False).item()\n",
    "val_acc_f1 = accuracy_multi(is_example_prob_true, targs[1], threshold_f1, sigmoid=False).item()\n",
    "val_acc_f2 = accuracy_multi(is_example_prob_true, targs[1], threshold_f2, sigmoid=False).item()\n",
    "\n",
    "print('Fowards Only\\n-------------')\n",
    "print(f'f05:\\tOptimal threshold = {threshold_f05}\\t(Accuracy = {val_acc_f05})')\n",
    "print(f'f1:\\tOptimal threshold = {threshold_f1}\\t(Accuracy = {val_acc_f1})')\n",
    "print(f'f2:\\tOptimal threshold = {threshold_f2}\\t(Accuracy = {val_acc_f2})')\n",
    "\n",
    "print(f'\\nAccuracy: {accuracy_multi(is_example_prob_true, targs[1], sigmoid=False)}')"
   ]
  },
  {
   "cell_type": "code",
   "execution_count": 40,
   "metadata": {},
   "outputs": [
    {
     "data": {
      "text/plain": [
       "(0.49649814, 0.4706903, 0.6860687356244805)"
      ]
     },
     "execution_count": 40,
     "metadata": {},
     "output_type": "execute_result"
    }
   ],
   "source": [
    "mae = skm.mean_absolute_error(targs[0], probs[0])\n",
    "mse = skm.mean_squared_error(targs[0], probs[0])\n",
    "rmse = math.sqrt(skm.mean_squared_error(targs[0], probs[0]))\n",
    "\n",
    "mae, mse, rmse"
   ]
  },
  {
   "cell_type": "code",
   "execution_count": 42,
   "metadata": {},
   "outputs": [
    {
     "data": {
      "text/plain": [
       "0.719510018825531"
      ]
     },
     "execution_count": 42,
     "metadata": {},
     "output_type": "execute_result"
    }
   ],
   "source": [
    "final_valid_loss = losses.mean().item(); final_valid_loss"
   ]
  },
  {
   "cell_type": "markdown",
   "metadata": {},
   "source": [
    "## Codify our training/eval loop and score reporting"
   ]
  },
  {
   "cell_type": "code",
   "execution_count": 43,
   "metadata": {},
   "outputs": [],
   "source": [
    "#export\n",
    "def train(hf_arch, hf_config, hf_tokenizer, hf_model, train_config={}):\n",
    "          \n",
    "    config = {**meta_standard_themes_train_config, **train_config}    \n",
    "    m_pre, m_suf = config['m_pre'], config['m_suf']\n",
    "    \n",
    "    df = get_meta_standard_theme_train_data(train_config=config)\n",
    "    train_df, valid_df = df[df.is_valid == False], df[df.is_valid == True]\n",
    "    \n",
    "    dls = get_meta_standard_theme_train_dls(df, hf_arch, hf_tokenizer, train_config=config)\n",
    "    \n",
    "    learn, fit_cbs = get_learner(hf_model, dls, train_df=None, use_weighted_loss=False, train_config=config)\n",
    "    \n",
    "    with learn.no_logging(): \n",
    "        lr_min, lr_steep = learn.lr_find()\n",
    "        learn.fit_one_cycle(1, lr_max=lr_min, cbs=fit_cbs)\n",
    "        \n",
    "        learn.unfreeze()\n",
    "        lr_min, lr_steep = learn.lr_find()\n",
    "        learn.fit_one_cycle(10, lr_max=slice(lr_min/10, lr_min), cbs=fit_cbs)\n",
    "        \n",
    "        # export model for inference (SavedModelCallback already saves the best model)\n",
    "        learn.export(fname=config['export_filename'])\n",
    "        \n",
    "    # ===== fetch scores, probs, targs, losses, and optional f-scores/thresholds ====\n",
    "    learn = learn.load(config['save_model_filename'])\n",
    "    scores = dict(zip(learn.recorder.metric_names[2:], learn.validate()))\n",
    "    probs, targs, losses = learn.get_preds(dl=dls.valid, with_loss=True)\n",
    "    \n",
    "    # determine optimal threshold based on desired f-score\n",
    "    average, sample_weight = config['opt_beta_average'], config['opt_beta_sample_weight']\n",
    "\n",
    "    f05 = OptimalMultiThresholdMetrics(beta=0.5, start=0.05, end=.5, sigmoid=False, \n",
    "                                       average=average, sample_weight=sample_weight)\n",
    "    f1 = OptimalMultiThresholdMetrics(beta=1, start=0.05, end=.5, sigmoid=False, \n",
    "                                       average=average, sample_weight=sample_weight)\n",
    "    f2 = OptimalMultiThresholdMetrics(beta=2, start=0.05, end=.5, sigmoid=False, \n",
    "                                       average=average, sample_weight=sample_weight)\n",
    "\n",
    "    is_example_prob_true = torch.softmax(probs[1], dim=-1)[:,1]\n",
    "    scores['is_example_f05'], scores['is_example_f1'], scores['is_example_f2'] = {}, {}, {}\n",
    "    \n",
    "    scores['is_example_f05']['threshold'] = f05.opt_th(is_example_prob_true, targs[1])\n",
    "    scores['is_example_f1']['threshold'] = f1.opt_th(is_example_prob_true, targs[1])\n",
    "    scores['is_example_f2']['threshold'] = f2.opt_th(is_example_prob_true, targs[1])\n",
    "    \n",
    "    scores['is_example_f05']['score'] = f05.opt_fscore(is_example_prob_true, targs[1])\n",
    "    scores['is_example_f1']['score'] = f1.opt_fscore(is_example_prob_true, targs[1])\n",
    "    scores['is_example_f2']['score'] = f2.opt_fscore(is_example_prob_true, targs[1])\n",
    "    \n",
    "    scores['sentiment'] = {\n",
    "        'mae': skm.mean_absolute_error(targs[0], probs[0]),\n",
    "        'mse': skm.mean_squared_error(targs[0], probs[0]),\n",
    "        'rmse': math.sqrt(skm.mean_squared_error(targs[0], probs[0]))\n",
    "    }\n",
    "    \n",
    "    # save scores from validation set    \n",
    "    yyyymmdd = datetime.today().strftime(\"%Y%m%d\")\n",
    "          \n",
    "    with open(f\"{config['learner_path']}/{m_pre}model_scores{m_suf}.pkl\", 'wb') as f:\n",
    "        pickle.dump(scores, f)\n",
    "        \n",
    "    # save train/validation probs, targs, losses for review\n",
    "    test_dl = dls.test_dl(df, with_labels=True)\n",
    "    probs, targs, losses = learn.get_preds(dl=test_dl, with_loss=True)\n",
    "    is_example_prob_true = torch.softmax(probs[1], dim=-1)[:,1]\n",
    "    \n",
    "    probs_df = pd.DataFrame(np.concatenate((probs[0].numpy(), is_example_prob_true[:,None]), axis=-1), \n",
    "                            columns=['pred_sentiment', 'prob_is_example'])\n",
    "    targs_df = pd.DataFrame(np.concatenate((targs[0].numpy()[:,None], targs[1].numpy()[:,None]), axis=-1), \n",
    "                            columns= ['targ_sentiment', 'targ_is_example'])\n",
    "    losses_df = pd.DataFrame(losses.numpy(), columns=['loss'])\n",
    "    final_df = pd.concat([df.reset_index(), probs_df, targs_df, losses_df], axis=1)\n",
    "    \n",
    "    final_df.to_csv(f\"{config['learner_path']}/{yyyymmdd}_train_results{m_suf}.csv\", index=False)\n",
    "        \n",
    "    return scores, final_df"
   ]
  },
  {
   "cell_type": "code",
   "execution_count": 44,
   "metadata": {},
   "outputs": [
    {
     "name": "stderr",
     "output_type": "stream",
     "text": [
      "Some weights of the model checkpoint at facebook/bart-base were not used when initializing BartForSequenceClassification: ['final_logits_bias']\n",
      "- This IS expected if you are initializing BartForSequenceClassification from the checkpoint of a model trained on another task or with another architecture (e.g. initializing a BertForSequenceClassification model from a BertForPretraining model).\n",
      "- This IS NOT expected if you are initializing BartForSequenceClassification from the checkpoint of a model that you expect to be exactly identical (initializing a BertForSequenceClassification model from a BertForSequenceClassification model).\n",
      "Some weights of BartForSequenceClassification were not initialized from the model checkpoint at facebook/bart-base and are newly initialized: ['classification_head.dense.weight', 'classification_head.dense.bias', 'classification_head.out_proj.weight', 'classification_head.out_proj.bias']\n",
      "You should probably TRAIN this model on a down-stream task to be able to use it for predictions and inference.\n"
     ]
    }
   ],
   "source": [
    "task = HF_TASKS_AUTO.SequenceClassification\n",
    "\n",
    "pretrained_model_name = 'facebook/bart-base' #\"bert-base-cased\" #\"roberta-base\"\n",
    "config = AutoConfig.from_pretrained(pretrained_model_name)\n",
    "config.attention_probs_dropout_prob = 0.1 * 2\n",
    "config.hidden_dropout_prob = 0.1 * 2\n",
    "\n",
    "hf_arch, hf_config, hf_tokenizer, hf_model = BLURR_MODEL_HELPER.get_hf_objects(pretrained_model_name, \n",
    "                                                                               task=task, \n",
    "                                                                               config=config)"
   ]
  },
  {
   "cell_type": "code",
   "execution_count": 45,
   "metadata": {},
   "outputs": [
    {
     "data": {
      "text/html": [],
      "text/plain": [
       "<IPython.core.display.HTML object>"
      ]
     },
     "metadata": {},
     "output_type": "display_data"
    },
    {
     "data": {
      "text/html": [],
      "text/plain": [
       "<IPython.core.display.HTML object>"
      ]
     },
     "metadata": {},
     "output_type": "display_data"
    },
    {
     "name": "stdout",
     "output_type": "stream",
     "text": [
      "Better model found at epoch 0 with valid_loss value: 0.4288933277130127.\n"
     ]
    },
    {
     "data": {
      "text/html": [],
      "text/plain": [
       "<IPython.core.display.HTML object>"
      ]
     },
     "metadata": {},
     "output_type": "display_data"
    },
    {
     "data": {
      "text/html": [],
      "text/plain": [
       "<IPython.core.display.HTML object>"
      ]
     },
     "metadata": {},
     "output_type": "display_data"
    },
    {
     "name": "stdout",
     "output_type": "stream",
     "text": [
      "Better model found at epoch 0 with valid_loss value: 0.4283994734287262.\n",
      "Better model found at epoch 1 with valid_loss value: 0.4250953793525696.\n",
      "Better model found at epoch 2 with valid_loss value: 0.41858574748039246.\n",
      "Better model found at epoch 3 with valid_loss value: 0.4157838225364685.\n",
      "Better model found at epoch 4 with valid_loss value: 0.4098840355873108.\n",
      "Better model found at epoch 5 with valid_loss value: 0.4076751172542572.\n",
      "Better model found at epoch 6 with valid_loss value: 0.40511277318000793.\n",
      "Better model found at epoch 7 with valid_loss value: 0.4042392075061798.\n",
      "Better model found at epoch 8 with valid_loss value: 0.40370941162109375.\n"
     ]
    },
    {
     "data": {
      "text/html": [],
      "text/plain": [
       "<IPython.core.display.HTML object>"
      ]
     },
     "metadata": {},
     "output_type": "display_data"
    },
    {
     "data": {
      "text/html": [],
      "text/plain": [
       "<IPython.core.display.HTML object>"
      ]
     },
     "metadata": {},
     "output_type": "display_data"
    },
    {
     "data": {
      "text/html": [],
      "text/plain": [
       "<IPython.core.display.HTML object>"
      ]
     },
     "metadata": {},
     "output_type": "display_data"
    },
    {
     "data": {
      "image/png": "[encoded data removed]",
      "text/plain": [
       "<Figure size 648x432 with 1 Axes>"
      ]
     },
     "metadata": {},
     "output_type": "display_data"
    },
    {
     "data": {
      "image/png": "[encoded data removed]",
      "text/plain": [
       "<Figure size 648x432 with 1 Axes>"
      ]
     },
     "metadata": {},
     "output_type": "display_data"
    }
   ],
   "source": [
    "scores, train_res_df = train(hf_arch, hf_config, hf_tokenizer, hf_model, train_config={})"
   ]
  },
  {
   "cell_type": "code",
   "execution_count": 46,
   "metadata": {},
   "outputs": [
    {
     "data": {
      "text/plain": [
       "{'valid_loss': 0.40370941162109375,\n",
       " 'sentiment_mse': 0.39971885085105896,\n",
       " 'is_example_acc': 0.9923737049102783,\n",
       " 'is_example_f05': {'threshold': 0.28, 'score': 0.06578947368421052},\n",
       " 'is_example_f1': {'threshold': 0.28, 'score': 0.07999999999999999},\n",
       " 'is_example_f2': {'threshold': 0.28, 'score': 0.10204081632653061},\n",
       " 'sentiment': {'mae': 0.45343626,\n",
       "  'mse': 0.39971888,\n",
       "  'rmse': 0.6322332486142922}}"
      ]
     },
     "execution_count": 46,
     "metadata": {},
     "output_type": "execute_result"
    }
   ],
   "source": [
    "scores"
   ]
  },
  {
   "cell_type": "code",
   "execution_count": 47,
   "metadata": {},
   "outputs": [
    {
     "data": {
      "text/html": [
       "<div>\n",
       "<style scoped>\n",
       "    .dataframe tbody tr th:only-of-type {\n",
       "        vertical-align: middle;\n",
       "    }\n",
       "\n",
       "    .dataframe tbody tr th {\n",
       "        vertical-align: top;\n",
       "    }\n",
       "\n",
       "    .dataframe thead th {\n",
       "        text-align: right;\n",
       "    }\n",
       "</style>\n",
       "<table border=\"1\" class=\"dataframe\">\n",
       "  <thead>\n",
       "    <tr style=\"text-align: right;\">\n",
       "      <th></th>\n",
       "      <th>index</th>\n",
       "      <th>id</th>\n",
       "      <th>question_ans_id</th>\n",
       "      <th>answer_text</th>\n",
       "      <th>answer_text_non_english</th>\n",
       "      <th>language</th>\n",
       "      <th>survey_id</th>\n",
       "      <th>survey_type_id</th>\n",
       "      <th>benchmark_survey_type</th>\n",
       "      <th>client_id</th>\n",
       "      <th>rsp_id</th>\n",
       "      <th>question_category_abbr</th>\n",
       "      <th>question_text</th>\n",
       "      <th>question_class</th>\n",
       "      <th>question_category_id</th>\n",
       "      <th>question_report_abbr</th>\n",
       "      <th>question_category_label</th>\n",
       "      <th>benchmark_level1</th>\n",
       "      <th>benchmark_level2</th>\n",
       "      <th>benchmark_level3</th>\n",
       "      <th>client_benchmark_level</th>\n",
       "      <th>group_code</th>\n",
       "      <th>group_id</th>\n",
       "      <th>group_level1_code</th>\n",
       "      <th>group_level1_name</th>\n",
       "      <th>group_level2_code</th>\n",
       "      <th>group_level2_name</th>\n",
       "      <th>group_level3_code</th>\n",
       "      <th>group_level3_name</th>\n",
       "      <th>group_level4_code</th>\n",
       "      <th>group_level4_name</th>\n",
       "      <th>group_level5_code</th>\n",
       "      <th>group_level5_name</th>\n",
       "      <th>group_level6_code</th>\n",
       "      <th>group_level6_name</th>\n",
       "      <th>group_level7_code</th>\n",
       "      <th>group_level7_name</th>\n",
       "      <th>group_level8_code</th>\n",
       "      <th>group_level8_name</th>\n",
       "      <th>standard_theme_id</th>\n",
       "      <th>theme</th>\n",
       "      <th>url_friendly_theme</th>\n",
       "      <th>theme_display_order</th>\n",
       "      <th>avg_sentiment</th>\n",
       "      <th>is_example</th>\n",
       "      <th>is_valid</th>\n",
       "      <th>pred_sentiment</th>\n",
       "      <th>prob_is_example</th>\n",
       "      <th>targ_sentiment</th>\n",
       "      <th>targ_is_example</th>\n",
       "      <th>loss</th>\n",
       "    </tr>\n",
       "  </thead>\n",
       "  <tbody>\n",
       "    <tr>\n",
       "      <th>0</th>\n",
       "      <td>0</td>\n",
       "      <td>594369</td>\n",
       "      <td>12281</td>\n",
       "      <td>Handling things such as child support and wage garnishment/levies is inconsistent and has led to...</td>\n",
       "      <td>NaN</td>\n",
       "      <td>English</td>\n",
       "      <td>215</td>\n",
       "      <td>15</td>\n",
       "      <td>CSS-FACULTY-STAFF-ONLY</td>\n",
       "      <td>UCSD</td>\n",
       "      <td>453733</td>\n",
       "      <td>Payroll</td>\n",
       "      <td>Let us know your suggestions on how to improve Payroll.</td>\n",
       "      <td>Verbatim-Dept-Improve</td>\n",
       "      <td>88.0</td>\n",
       "      <td>Payroll_Improve</td>\n",
       "      <td>Payroll</td>\n",
       "      <td>Human Resources</td>\n",
       "      <td>Payroll Services</td>\n",
       "      <td>Payroll</td>\n",
       "      <td>1.0</td>\n",
       "      <td>-1.0</td>\n",
       "      <td>-1</td>\n",
       "      <td>-1.0</td>\n",
       "      <td>None</td>\n",
       "      <td>NaN</td>\n",
       "      <td>NaN</td>\n",
       "      <td>NaN</td>\n",
       "      <td>NaN</td>\n",
       "      <td>NaN</td>\n",
       "      <td>NaN</td>\n",
       "      <td>NaN</td>\n",
       "      <td>NaN</td>\n",
       "      <td>NaN</td>\n",
       "      <td>NaN</td>\n",
       "      <td>NaN</td>\n",
       "      <td>NaN</td>\n",
       "      <td>NaN</td>\n",
       "      <td>NaN</td>\n",
       "      <td>35</td>\n",
       "      <td>Consistency in Policies, Information</td>\n",
       "      <td>ConsistencyInPoliciesInformation</td>\n",
       "      <td>1</td>\n",
       "      <td>2.0</td>\n",
       "      <td>0</td>\n",
       "      <td>False</td>\n",
       "      <td>2.113281</td>\n",
       "      <td>0.270536</td>\n",
       "      <td>2.0</td>\n",
       "      <td>0.0</td>\n",
       "      <td>0.013238</td>\n",
       "    </tr>\n",
       "    <tr>\n",
       "      <th>1</th>\n",
       "      <td>1</td>\n",
       "      <td>589686</td>\n",
       "      <td>2576</td>\n",
       "      <td>Diversity is such an important part o UC mission and yet some places its not seen as much it is ...</td>\n",
       "      <td>NaN</td>\n",
       "      <td>English</td>\n",
       "      <td>212</td>\n",
       "      <td>9</td>\n",
       "      <td>SAW</td>\n",
       "      <td>UCSD</td>\n",
       "      <td>447092</td>\n",
       "      <td>C&amp;B</td>\n",
       "      <td>21. If you would like to elaborate on any of your answers to the conduct and behavioral question...</td>\n",
       "      <td>Verbatim</td>\n",
       "      <td>1240.0</td>\n",
       "      <td>Conduct &amp; Behavioral - Comments</td>\n",
       "      <td>Conduct &amp; Behavioral</td>\n",
       "      <td>None</td>\n",
       "      <td>None</td>\n",
       "      <td>None</td>\n",
       "      <td>3.0</td>\n",
       "      <td>90890.0</td>\n",
       "      <td>3662</td>\n",
       "      <td>999999.0</td>\n",
       "      <td>UC San Diego</td>\n",
       "      <td>90000.0</td>\n",
       "      <td>VICE CHANCELLOR HEALTH SCIENCES</td>\n",
       "      <td>93000.0</td>\n",
       "      <td>SCHOOL OF MEDICINE</td>\n",
       "      <td>90890.0</td>\n",
       "      <td>DERMATOLOGY</td>\n",
       "      <td>NaN</td>\n",
       "      <td>NaN</td>\n",
       "      <td>NaN</td>\n",
       "      <td>NaN</td>\n",
       "      <td>NaN</td>\n",
       "      <td>NaN</td>\n",
       "      <td>NaN</td>\n",
       "      <td>NaN</td>\n",
       "      <td>17</td>\n",
       "      <td>Satisfied with Diversity Progams</td>\n",
       "      <td>SatisfiedWithDiversityProgams</td>\n",
       "      <td>1</td>\n",
       "      <td>2.5</td>\n",
       "      <td>0</td>\n",
       "      <td>False</td>\n",
       "      <td>3.128906</td>\n",
       "      <td>0.271612</td>\n",
       "      <td>2.5</td>\n",
       "      <td>0.0</td>\n",
       "      <td>0.396203</td>\n",
       "    </tr>\n",
       "    <tr>\n",
       "      <th>2</th>\n",
       "      <td>2</td>\n",
       "      <td>605320</td>\n",
       "      <td>75138</td>\n",
       "      <td>Better trained technicians. Better communication within the online post box. Check the online po...</td>\n",
       "      <td>NaN</td>\n",
       "      <td>English</td>\n",
       "      <td>215</td>\n",
       "      <td>15</td>\n",
       "      <td>CSS-FACULTY-STAFF-ONLY</td>\n",
       "      <td>UCSD</td>\n",
       "      <td>457424</td>\n",
       "      <td>IT Serviec Desk</td>\n",
       "      <td>Let us know your suggestions on how to improve ITS Service Desk.</td>\n",
       "      <td>Verbatim-Dept-Improve</td>\n",
       "      <td>56.0</td>\n",
       "      <td>ITS Service Desk_Improve</td>\n",
       "      <td>IT Service Desk</td>\n",
       "      <td>ITS</td>\n",
       "      <td>ITS - General</td>\n",
       "      <td>IT Help Desk</td>\n",
       "      <td>1.0</td>\n",
       "      <td>-1.0</td>\n",
       "      <td>-1</td>\n",
       "      <td>-1.0</td>\n",
       "      <td>None</td>\n",
       "      <td>NaN</td>\n",
       "      <td>NaN</td>\n",
       "      <td>NaN</td>\n",
       "      <td>NaN</td>\n",
       "      <td>NaN</td>\n",
       "      <td>NaN</td>\n",
       "      <td>NaN</td>\n",
       "      <td>NaN</td>\n",
       "      <td>NaN</td>\n",
       "      <td>NaN</td>\n",
       "      <td>NaN</td>\n",
       "      <td>NaN</td>\n",
       "      <td>NaN</td>\n",
       "      <td>NaN</td>\n",
       "      <td>28</td>\n",
       "      <td>Resolves Problems Effectively</td>\n",
       "      <td>ResolvesProblemsEffectively</td>\n",
       "      <td>1</td>\n",
       "      <td>2.0</td>\n",
       "      <td>0</td>\n",
       "      <td>False</td>\n",
       "      <td>1.902344</td>\n",
       "      <td>0.269828</td>\n",
       "      <td>2.0</td>\n",
       "      <td>0.0</td>\n",
       "      <td>0.009762</td>\n",
       "    </tr>\n",
       "    <tr>\n",
       "      <th>3</th>\n",
       "      <td>3</td>\n",
       "      <td>588932</td>\n",
       "      <td>1877</td>\n",
       "      <td>The past 3-4 years, I feel my co-worker took extensive credit for the work that couldn't have be...</td>\n",
       "      <td>NaN</td>\n",
       "      <td>English</td>\n",
       "      <td>212</td>\n",
       "      <td>9</td>\n",
       "      <td>SAW</td>\n",
       "      <td>UCSD</td>\n",
       "      <td>449351</td>\n",
       "      <td>None</td>\n",
       "      <td>59. If you would like to elaborate on your responses above, or if you have any additional feedba...</td>\n",
       "      <td>Verbatim</td>\n",
       "      <td>201.0</td>\n",
       "      <td>Comments re Work Environment at UCSD</td>\n",
       "      <td>Other</td>\n",
       "      <td>None</td>\n",
       "      <td>None</td>\n",
       "      <td>None</td>\n",
       "      <td>1.0</td>\n",
       "      <td>11804.0</td>\n",
       "      <td>3482</td>\n",
       "      <td>999999.0</td>\n",
       "      <td>UC San Diego</td>\n",
       "      <td>10000.0</td>\n",
       "      <td>ACADEMIC AFFAIRS</td>\n",
       "      <td>10016.0</td>\n",
       "      <td>UNIVERSITY LIBRARY</td>\n",
       "      <td>11804.0</td>\n",
       "      <td>LIBRARY - ENTERPRISE SERVICES</td>\n",
       "      <td>NaN</td>\n",
       "      <td>NaN</td>\n",
       "      <td>NaN</td>\n",
       "      <td>NaN</td>\n",
       "      <td>NaN</td>\n",
       "      <td>NaN</td>\n",
       "      <td>NaN</td>\n",
       "      <td>NaN</td>\n",
       "      <td>40</td>\n",
       "      <td>Favoritism/Cliques</td>\n",
       "      <td>FavoritismCliques</td>\n",
       "      <td>1</td>\n",
       "      <td>2.0</td>\n",
       "      <td>0</td>\n",
       "      <td>False</td>\n",
       "      <td>2.367188</td>\n",
       "      <td>0.272944</td>\n",
       "      <td>2.0</td>\n",
       "      <td>0.0</td>\n",
       "      <td>0.135845</td>\n",
       "    </tr>\n",
       "    <tr>\n",
       "      <th>4</th>\n",
       "      <td>4</td>\n",
       "      <td>594169</td>\n",
       "      <td>12244</td>\n",
       "      <td>Great</td>\n",
       "      <td>NaN</td>\n",
       "      <td>English</td>\n",
       "      <td>215</td>\n",
       "      <td>15</td>\n",
       "      <td>CSS-FACULTY-STAFF-ONLY</td>\n",
       "      <td>UCSD</td>\n",
       "      <td>453580</td>\n",
       "      <td>Dining</td>\n",
       "      <td>Let us know your suggestions on how to improve HDH Dining Services.</td>\n",
       "      <td>Verbatim-Dept-Improve</td>\n",
       "      <td>69.0</td>\n",
       "      <td>Dining_Improve</td>\n",
       "      <td>Dining Services</td>\n",
       "      <td>Auxiliary Services</td>\n",
       "      <td>Dining, Catering, &amp; Retail Services</td>\n",
       "      <td>Dining Services</td>\n",
       "      <td>1.0</td>\n",
       "      <td>-1.0</td>\n",
       "      <td>-1</td>\n",
       "      <td>-1.0</td>\n",
       "      <td>None</td>\n",
       "      <td>NaN</td>\n",
       "      <td>NaN</td>\n",
       "      <td>NaN</td>\n",
       "      <td>NaN</td>\n",
       "      <td>NaN</td>\n",
       "      <td>NaN</td>\n",
       "      <td>NaN</td>\n",
       "      <td>NaN</td>\n",
       "      <td>NaN</td>\n",
       "      <td>NaN</td>\n",
       "      <td>NaN</td>\n",
       "      <td>NaN</td>\n",
       "      <td>NaN</td>\n",
       "      <td>NaN</td>\n",
       "      <td>37</td>\n",
       "      <td>Overall Satisfaction</td>\n",
       "      <td>OverallSatisfaction</td>\n",
       "      <td>1</td>\n",
       "      <td>3.0</td>\n",
       "      <td>0</td>\n",
       "      <td>False</td>\n",
       "      <td>4.234375</td>\n",
       "      <td>0.269992</td>\n",
       "      <td>3.0</td>\n",
       "      <td>0.0</td>\n",
       "      <td>1.523949</td>\n",
       "    </tr>\n",
       "  </tbody>\n",
       "</table>\n",
       "</div>"
      ],
      "text/plain": [
       "   index      id  question_ans_id                                                                                          answer_text  answer_text_non_english language  survey_id  survey_type_id   benchmark_survey_type client_id  rsp_id question_category_abbr                                                                                        question_text         question_class  question_category_id                  question_report_abbr question_category_label    benchmark_level1                     benchmark_level2 benchmark_level3  client_benchmark_level  group_code  group_id  group_level1_code group_level1_name  group_level2_code                group_level2_name  group_level3_code   group_level3_name  group_level4_code              group_level4_name  group_level5_code group_level5_name  group_level6_code group_level6_name  group_level7_code  group_level7_name  group_level8_code  group_level8_name  standard_theme_id                                 theme  \\\n",
       "0      0  594369            12281  Handling things such as child support and wage garnishment/levies is inconsistent and has led to...                      NaN  English        215              15  CSS-FACULTY-STAFF-ONLY      UCSD  453733                Payroll                                              Let us know your suggestions on how to improve Payroll.  Verbatim-Dept-Improve                  88.0                       Payroll_Improve                 Payroll     Human Resources                     Payroll Services          Payroll                     1.0        -1.0        -1               -1.0              None                NaN                              NaN                NaN                 NaN                NaN                            NaN                NaN               NaN                NaN               NaN                NaN                NaN                NaN                NaN                 35  Consistency in Policies, Information   \n",
       "1      1  589686             2576  Diversity is such an important part o UC mission and yet some places its not seen as much it is ...                      NaN  English        212               9                     SAW      UCSD  447092                    C&B  21. If you would like to elaborate on any of your answers to the conduct and behavioral question...               Verbatim                1240.0       Conduct & Behavioral - Comments    Conduct & Behavioral                None                                 None             None                     3.0     90890.0      3662           999999.0      UC San Diego            90000.0  VICE CHANCELLOR HEALTH SCIENCES            93000.0  SCHOOL OF MEDICINE            90890.0                    DERMATOLOGY                NaN               NaN                NaN               NaN                NaN                NaN                NaN                NaN                 17      Satisfied with Diversity Progams   \n",
       "2      2  605320            75138  Better trained technicians. Better communication within the online post box. Check the online po...                      NaN  English        215              15  CSS-FACULTY-STAFF-ONLY      UCSD  457424        IT Serviec Desk                                     Let us know your suggestions on how to improve ITS Service Desk.  Verbatim-Dept-Improve                  56.0              ITS Service Desk_Improve         IT Service Desk                 ITS                        ITS - General     IT Help Desk                     1.0        -1.0        -1               -1.0              None                NaN                              NaN                NaN                 NaN                NaN                            NaN                NaN               NaN                NaN               NaN                NaN                NaN                NaN                NaN                 28         Resolves Problems Effectively   \n",
       "3      3  588932             1877  The past 3-4 years, I feel my co-worker took extensive credit for the work that couldn't have be...                      NaN  English        212               9                     SAW      UCSD  449351                   None  59. If you would like to elaborate on your responses above, or if you have any additional feedba...               Verbatim                 201.0  Comments re Work Environment at UCSD                   Other                None                                 None             None                     1.0     11804.0      3482           999999.0      UC San Diego            10000.0                 ACADEMIC AFFAIRS            10016.0  UNIVERSITY LIBRARY            11804.0  LIBRARY - ENTERPRISE SERVICES                NaN               NaN                NaN               NaN                NaN                NaN                NaN                NaN                 40                    Favoritism/Cliques   \n",
       "4      4  594169            12244                                                                                                Great                      NaN  English        215              15  CSS-FACULTY-STAFF-ONLY      UCSD  453580                 Dining                                  Let us know your suggestions on how to improve HDH Dining Services.  Verbatim-Dept-Improve                  69.0                        Dining_Improve         Dining Services  Auxiliary Services  Dining, Catering, & Retail Services  Dining Services                     1.0        -1.0        -1               -1.0              None                NaN                              NaN                NaN                 NaN                NaN                            NaN                NaN               NaN                NaN               NaN                NaN                NaN                NaN                NaN                 37                  Overall Satisfaction   \n",
       "\n",
       "                 url_friendly_theme  theme_display_order  avg_sentiment  is_example  is_valid  pred_sentiment  prob_is_example  targ_sentiment  targ_is_example      loss  \n",
       "0  ConsistencyInPoliciesInformation                    1            2.0           0     False        2.113281         0.270536             2.0              0.0  0.013238  \n",
       "1     SatisfiedWithDiversityProgams                    1            2.5           0     False        3.128906         0.271612             2.5              0.0  0.396203  \n",
       "2       ResolvesProblemsEffectively                    1            2.0           0     False        1.902344         0.269828             2.0              0.0  0.009762  \n",
       "3                 FavoritismCliques                    1            2.0           0     False        2.367188         0.272944             2.0              0.0  0.135845  \n",
       "4               OverallSatisfaction                    1            3.0           0     False        4.234375         0.269992             3.0              0.0  1.523949  "
      ]
     },
     "execution_count": 47,
     "metadata": {},
     "output_type": "execute_result"
    }
   ],
   "source": [
    "train_res_df.head()"
   ]
  },
  {
   "cell_type": "code",
   "execution_count": 48,
   "metadata": {},
   "outputs": [
    {
     "data": {
      "text/plain": [
       "{'valid_loss': 0.40370941162109375,\n",
       " 'sentiment_mse': 0.39971885085105896,\n",
       " 'is_example_acc': 0.9923737049102783,\n",
       " 'is_example_f05': {'threshold': 0.28, 'score': 0.06578947368421052},\n",
       " 'is_example_f1': {'threshold': 0.28, 'score': 0.07999999999999999},\n",
       " 'is_example_f2': {'threshold': 0.28, 'score': 0.10204081632653061},\n",
       " 'sentiment': {'mae': 0.45343626,\n",
       "  'mse': 0.39971888,\n",
       "  'rmse': 0.6322332486142922}}"
      ]
     },
     "execution_count": 48,
     "metadata": {},
     "output_type": "execute_result"
    }
   ],
   "source": [
    "# load results\n",
    "with open(STANDARD_THEME_META_PATH/'model_scores_multitask_hf.pkl', 'rb') as f: training_results = pickle.load(f)\n",
    "training_results"
   ]
  },
  {
   "cell_type": "code",
   "execution_count": 49,
   "metadata": {},
   "outputs": [
    {
     "data": {
      "text/html": [],
      "text/plain": [
       "<IPython.core.display.HTML object>"
      ]
     },
     "metadata": {},
     "output_type": "display_data"
    },
    {
     "name": "stdout",
     "output_type": "stream",
     "text": [
      "(((1.7480919361114502,), '0'), tensor([[1.7481]]), tensor([[1.7481]]))\n"
     ]
    },
    {
     "data": {
      "text/html": [],
      "text/plain": [
       "<IPython.core.display.HTML object>"
      ]
     },
     "metadata": {},
     "output_type": "display_data"
    },
    {
     "name": "stdout",
     "output_type": "stream",
     "text": [
      "(((4.384271144866943,), '0'), tensor([[4.3843]]), tensor([[4.3843]]))\n"
     ]
    }
   ],
   "source": [
    "inf_learn = load_learner(STANDARD_THEME_META_PATH/'export_mm_multitask_hf.pkl')\n",
    "print(inf_learn.blurr_predict('theme: Benefits comment: We are not paid enough and the benefits are horrible'))\n",
    "print(inf_learn.blurr_predict(\"theme: Benfits comment: The faculty really support us well!!! I feel valued\"))"
   ]
  },
  {
   "cell_type": "markdown",
   "metadata": {},
   "source": [
    "## Inference"
   ]
  },
  {
   "cell_type": "markdown",
   "metadata": {},
   "source": [
    "### Inference (ad-hoc documents)"
   ]
  },
  {
   "cell_type": "code",
   "execution_count": 50,
   "metadata": {},
   "outputs": [
    {
     "name": "stdout",
     "output_type": "stream",
     "text": [
      "['adequate_staffing', 'advancement_and_training_opportunities', 'appropriate_stress_work_assigned_equitably', 'benefits', 'better_ways_recognized_participate_in_decisions']\n"
     ]
    }
   ],
   "source": [
    "print(STANDARD_THEME_SAW_LABELS[:5])"
   ]
  },
  {
   "cell_type": "code",
   "execution_count": 51,
   "metadata": {},
   "outputs": [
    {
     "data": {
      "text/html": [],
      "text/plain": [
       "<IPython.core.display.HTML object>"
      ]
     },
     "metadata": {},
     "output_type": "display_data"
    },
    {
     "name": "stdout",
     "output_type": "stream",
     "text": [
      "(HF_BaseInput([    0,  4782,    35,  1664, 30769,  1129,    35,  1491,  1199,   615,\n",
      "            4,     2]), ((2.055457592010498,), '0'), tensor([[2.0555]]), tensor([[2.0555]]))\n"
     ]
    },
    {
     "data": {
      "text/html": [],
      "text/plain": [
       "<IPython.core.display.HTML object>"
      ]
     },
     "metadata": {},
     "output_type": "display_data"
    },
    {
     "name": "stdout",
     "output_type": "stream",
     "text": [
      "(HF_BaseInput([    0,  4782,    35,  1664, 30769,  1129,    35,    38,   524, 10028,\n",
      "           19,   127,  1795,     8,    52,    33,   615,    82,    11,   127,\n",
      "         1494,     4,    20,  7998,    16,  1266,     7,   162,     4,     2]), ((2.4590463638305664,), '0'), tensor([[2.4590]]), tensor([[2.4590]]))\n"
     ]
    },
    {
     "data": {
      "text/html": [],
      "text/plain": [
       "<IPython.core.display.HTML object>"
      ]
     },
     "metadata": {},
     "output_type": "display_data"
    },
    {
     "name": "stdout",
     "output_type": "stream",
     "text": [
      "(HF_BaseInput([    0,  4782,    35,  1664, 30769,  1129,    35,    38,   657, 10017,\n",
      "            2]), ((4.076938629150391,), '0'), tensor([[4.0769]]), tensor([[4.0769]]))\n"
     ]
    },
    {
     "data": {
      "text/html": [],
      "text/plain": [
       "<IPython.core.display.HTML object>"
      ]
     },
     "metadata": {},
     "output_type": "display_data"
    },
    {
     "name": "stdout",
     "output_type": "stream",
     "text": [
      "(HF_BaseInput([    0,  4782,    35,  1664, 30769,  1129,    35,    38,    64,   393,\n",
      "          465,    10,  2932,  1514,     4,    20,  2572,    90,  1634,    32,\n",
      "           45,    15,    86,     4, 10310,     2]), ((1.9841384887695312,), '0'), tensor([[1.9841]]), tensor([[1.9841]]))\n"
     ]
    },
    {
     "data": {
      "text/html": [],
      "text/plain": [
       "<IPython.core.display.HTML object>"
      ]
     },
     "metadata": {},
     "output_type": "display_data"
    },
    {
     "name": "stdout",
     "output_type": "stream",
     "text": [
      "(HF_BaseInput([    0,  4782,    35,  1664, 30769,  1129,    35,    38,    21,   269,\n",
      "         9800,     7,  5486,   127,  2979, 16506,     2]), ((1.8270912170410156,), '0'), tensor([[1.8271]]), tensor([[1.8271]]))\n"
     ]
    },
    {
     "data": {
      "text/html": [],
      "text/plain": [
       "<IPython.core.display.HTML object>"
      ]
     },
     "metadata": {},
     "output_type": "display_data"
    },
    {
     "name": "stdout",
     "output_type": "stream",
     "text": [
      "(HF_BaseInput([    0,  4782,    35,  1664, 30769,  1129,    35,  2321,  8914,   890,\n",
      "           16,    41,  9297,   884,     4,  1437,    91,    34,  1613,  1065,\n",
      "            8,  1684,     7,  1045,    10,  1313,   447,  1737,     8,   694,\n",
      "          434,  1616,     4,  1437,   832,  2720,     7,    39,   165,    16,\n",
      "          542, 27978,   196,     8, 19781,   868,     4, 37457,   338, 37457,\n",
      "          282, 37457,   338, 37457,   282, 38334,  3144,  5302,  2478,    16,\n",
      "           10,  1421,     9, 12757,  1673,    13,  6919,     8, 37513,  1630,\n",
      "         2617,  1820,     4,  1437,   264,    34,  2208,     5,  2098,     9,\n",
      "          167,    79,  3315,   149,  5322,  4358,     6, 17805,     6,     8,\n",
      "        13557,  9434,     4,     2]), ((4.323328018188477,), '0'), tensor([[4.3233]]), tensor([[4.3233]]))\n"
     ]
    }
   ],
   "source": [
    "test_comments = [\n",
    "    'theme: Benfits comment: Not paid enough.',\n",
    "    'theme: Benfits comment: I am satisfied with my benefits and we have enough people in my department. The faculty is mean to me.',\n",
    "    'theme: Benfits comment: I love cats',\n",
    "    \"theme: Benfits comment: I can never find a parking spot. The shuttles are not on time. Help\",\n",
    "    \"theme: Benfits comment: I was really uncomfortable to express my opinion!!!\",\n",
    "    \"theme: Benfits comment: Jeff Wadell is an exceptional leader.  He has gone above and beyond to create a positive working environment and provide growth opportunities.  His commitment to his team is unrivaled and commendable.\\\\r\\\\n\\\\r\\\\nNikki Panza is a model of authentic leadership for Building and Custodial Services.  She has earned the respect of those she leads through honest communication, empathy, and ethical consultation.\"\n",
    "]\n",
    "\n",
    "for c in test_comments: print(inf_learn.blurr_predict(c, with_input=True))"
   ]
  },
  {
   "cell_type": "markdown",
   "metadata": {},
   "source": [
    "### Inference (batch)"
   ]
  },
  {
   "cell_type": "code",
   "execution_count": 12,
   "metadata": {},
   "outputs": [],
   "source": [
    "#export\n",
    "def get_standard_theme_meta_preds(inf_df, learner_export_path=None, model_scores_path=None,\n",
    "                                  device=torch.device('cpu'), train_config={}):\n",
    "    \n",
    "    config = {**meta_standard_themes_train_config, **train_config}    \n",
    "    m_pre, m_suf = config['m_pre'], config['m_suf']\n",
    "    \n",
    "    # 1. grab learner, procs, and data\n",
    "    cpu = device.type == 'cpu'\n",
    "    if (learner_export_path is None): learner_export_path = f\"{config['learner_path']}/{config['export_filename']}\"\n",
    "    if (model_scores_path is None): model_scores_path = f\"{config['learner_path']}/{m_pre}model_scores{m_suf}.pkl\"\n",
    "        \n",
    "    inf_learn = load_learner(fname=learner_export_path, cpu=cpu)\n",
    "    inf_learn.model = inf_learn.model.to(device)\n",
    "    inf_learn.model = inf_learn.model.eval()\n",
    "    \n",
    "    # 2. define a suitable dataloader\n",
    "    inf_df.dropna(subset=config['corpus_cols'], inplace=True)\n",
    "    inf_df.reset_index(drop=True, inplace=True)\n",
    "    inf_dl = inf_learn.dls.test_dl(inf_df, rm_type_tfms=None, bs=16)\n",
    "\n",
    "    # 3. get probs and document vectors\n",
    "    test_probs_sent, test_probs_is_example = [], []\n",
    "    with torch.no_grad():\n",
    "        for index, b in enumerate(inf_dl):\n",
    "            if index % 1000 == 0:  print(index)\n",
    "\n",
    "            # note: even though there is no targets, each batch is a tuple!\n",
    "            probs = inf_learn.model(b[0])\n",
    "            \n",
    "            # why \"detach\"? the computation of gradients wrt the weights of netG can be fully \n",
    "            # avoided in the backward pass if the graph is detached where it is.\n",
    "            test_probs_sent.append(to_detach(probs[0][0]))\n",
    "            test_probs_is_example.append(to_detach(torch.softmax(probs[0][1], dim=-1)))\n",
    "\n",
    "    all_probs_sent = L(torch.cat(test_probs_sent))\n",
    "    all_probs_is_example = L(torch.cat(test_probs_is_example))\n",
    "\n",
    "    # 4. ensure results are returned in order\n",
    "    # test_dl.get_idxs() => unsorted/original order items\n",
    "    all_probs_sent = all_probs_sent[0][np.argsort(inf_dl.get_idxs())]\n",
    "    all_probs_is_example = all_probs_is_example[0][np.argsort(inf_dl.get_idxs())]\n",
    "        \n",
    "    # 5. add model scores\n",
    "    with open(model_scores_path, 'rb') as f: training_results = pickle.load(f)\n",
    "        \n",
    "    combined_probs = np.concatenate((all_probs_sent.numpy(), all_probs_is_example.numpy()[:,1][:,None]), axis=1)\n",
    "    prob_labels = ['prob_' + lbl for lbl in STANDARD_THEME_META_LABELS]\n",
    "    probs_df = pd.DataFrame(combined_probs, columns=prob_labels)\n",
    "    \n",
    "    for lbl in STANDARD_THEME_META_LABELS[1:]:\n",
    "        probs_df[f'pred_{lbl}'] = (probs_df[f'prob_{lbl}'] > training_results['is_example_f05']['threshold']).astype(np.int64)\n",
    "        \n",
    "    final_df = pd.concat([inf_df, probs_df], axis=1)\n",
    "    \n",
    "    final_df['valid_loss'] = training_results['valid_loss']\n",
    "    final_df['sentiment_mse'] = training_results['sentiment']['mse']\n",
    "    final_df['sentiment_mae'] = training_results['sentiment']['mae']\n",
    "    final_df['sentiment_rmse'] = training_results['sentiment']['rmse']\n",
    "    final_df['is_example_f05_threshold'] = training_results['is_example_f05']['threshold']\n",
    "    final_df['is_example_f05_score'] = training_results['is_example_f05']['score']\n",
    "    final_df['is_example_f1_threshold'] = training_results['is_example_f1']['threshold']\n",
    "    final_df['is_example_f1_score'] = training_results['is_example_f1']['score']\n",
    "    final_df['is_example_f2_threshold'] = training_results['is_example_f2']['threshold']\n",
    "    final_df['is_example_f2_score'] = training_results['is_example_f2']['score']\n",
    "\n",
    "    inf_learn, inf_dl = None, None; gc.collect()\n",
    "    \n",
    "    return final_df, all_probs_sent, all_probs_is_example, STANDARD_THEME_META_LABELS"
   ]
  },
  {
   "cell_type": "code",
   "execution_count": 78,
   "metadata": {},
   "outputs": [
    {
     "name": "stdout",
     "output_type": "stream",
     "text": [
      "4045 4045\n"
     ]
    }
   ],
   "source": [
    "verbatims_df = pd.read_csv(STANDARD_THEME_SAW_PATH/'20201015_test_predictions_multilabel_hf.csv', \n",
    "                           dtype={**TASK_LM_DTYPES}, parse_dates=[])\n",
    "\n",
    "inf_df = verbatims_df.copy() #verbatims_df[test_df.SurveyID == 130].copy()\n",
    "inf_df.reset_index(drop=True, inplace=True)\n",
    "print(len(verbatims_df), len(inf_df))\n",
    "\n",
    "corpus_cols = ['theme', 'AnswerText'] "
   ]
  },
  {
   "cell_type": "code",
   "execution_count": 79,
   "metadata": {},
   "outputs": [
    {
     "data": {
      "text/html": [
       "<div>\n",
       "<style scoped>\n",
       "    .dataframe tbody tr th:only-of-type {\n",
       "        vertical-align: middle;\n",
       "    }\n",
       "\n",
       "    .dataframe tbody tr th {\n",
       "        vertical-align: top;\n",
       "    }\n",
       "\n",
       "    .dataframe thead th {\n",
       "        text-align: right;\n",
       "    }\n",
       "</style>\n",
       "<table border=\"1\" class=\"dataframe\">\n",
       "  <thead>\n",
       "    <tr style=\"text-align: right;\">\n",
       "      <th></th>\n",
       "      <th>Id</th>\n",
       "      <th>QuestionAnsID</th>\n",
       "      <th>AnswerText</th>\n",
       "      <th>AnswerText_NonEnglish</th>\n",
       "      <th>Language</th>\n",
       "      <th>SurveyID</th>\n",
       "      <th>SurveyTypeID</th>\n",
       "      <th>BenchmarkSurveyType</th>\n",
       "      <th>ClientId</th>\n",
       "      <th>RspID</th>\n",
       "      <th>QuestionCategoryAbbr</th>\n",
       "      <th>QuestionText</th>\n",
       "      <th>QuestionClass</th>\n",
       "      <th>QuestionCategoryID</th>\n",
       "      <th>QuestionReportAbbr</th>\n",
       "      <th>QuestionCategoryLabel</th>\n",
       "      <th>BenchmarkLevel1</th>\n",
       "      <th>BenchmarkLevel2</th>\n",
       "      <th>BenchmarkLevel3</th>\n",
       "      <th>ClientBenchmarkLevel</th>\n",
       "      <th>GroupCode</th>\n",
       "      <th>GroupID</th>\n",
       "      <th>GroupLevel1Code</th>\n",
       "      <th>GroupLevel1Name</th>\n",
       "      <th>GroupLevel2Code</th>\n",
       "      <th>GroupLevel2Name</th>\n",
       "      <th>GroupLevel3Code</th>\n",
       "      <th>GroupLevel3Name</th>\n",
       "      <th>GroupLevel4Code</th>\n",
       "      <th>GroupLevel4Name</th>\n",
       "      <th>GroupLevel5Code</th>\n",
       "      <th>GroupLevel5Name</th>\n",
       "      <th>GroupLevel6Code</th>\n",
       "      <th>GroupLevel6Name</th>\n",
       "      <th>GroupLevel7Code</th>\n",
       "      <th>GroupLevel7Name</th>\n",
       "      <th>GroupLevel8Code</th>\n",
       "      <th>GroupLevel8Name</th>\n",
       "      <th>answer_text</th>\n",
       "      <th>prob_adequate_staffing</th>\n",
       "      <th>prob_advancement_and_training_opportunities</th>\n",
       "      <th>prob_appropriate_stress_work_assigned_equitably</th>\n",
       "      <th>prob_benefits</th>\n",
       "      <th>prob_better_ways_recognized_participate_in_decisions</th>\n",
       "      <th>prob_career_advancement</th>\n",
       "      <th>prob_committed_to_diversity</th>\n",
       "      <th>prob_communicates_essential_information</th>\n",
       "      <th>prob_ethical_conduct_perform_responsibilities_spirit_of_cooperation</th>\n",
       "      <th>prob_evaluated_fairly</th>\n",
       "      <th>prob_experienced_discrimination</th>\n",
       "      <th>prob_facilities_workspace_safety</th>\n",
       "      <th>prob_faculty_value_contributions</th>\n",
       "      <th>prob_favoritism_cliques</th>\n",
       "      <th>prob_fear_of_retaliation_negative_consequences</th>\n",
       "      <th>prob_feel_valued_by_department</th>\n",
       "      <th>prob_flexibility_work_life_balance</th>\n",
       "      <th>prob_good_use_of_skills</th>\n",
       "      <th>prob_have_necessary_tools</th>\n",
       "      <th>prob_have_voice_within_my_institution_valued_member_of_my_institution</th>\n",
       "      <th>prob_internal_processes_effective</th>\n",
       "      <th>prob_parking_transportation</th>\n",
       "      <th>prob_salary_pay</th>\n",
       "      <th>prob_satisfied_with_diversity_progams</th>\n",
       "      <th>prob_supervisor_effectiveness_resolves_staff_issues</th>\n",
       "      <th>pred_adequate_staffing</th>\n",
       "      <th>pred_advancement_and_training_opportunities</th>\n",
       "      <th>pred_appropriate_stress_work_assigned_equitably</th>\n",
       "      <th>pred_benefits</th>\n",
       "      <th>pred_better_ways_recognized_participate_in_decisions</th>\n",
       "      <th>pred_career_advancement</th>\n",
       "      <th>pred_committed_to_diversity</th>\n",
       "      <th>pred_communicates_essential_information</th>\n",
       "      <th>pred_ethical_conduct_perform_responsibilities_spirit_of_cooperation</th>\n",
       "      <th>pred_evaluated_fairly</th>\n",
       "      <th>pred_experienced_discrimination</th>\n",
       "      <th>pred_facilities_workspace_safety</th>\n",
       "      <th>pred_faculty_value_contributions</th>\n",
       "      <th>pred_favoritism_cliques</th>\n",
       "      <th>pred_fear_of_retaliation_negative_consequences</th>\n",
       "      <th>pred_feel_valued_by_department</th>\n",
       "      <th>pred_flexibility_work_life_balance</th>\n",
       "      <th>pred_good_use_of_skills</th>\n",
       "      <th>pred_have_necessary_tools</th>\n",
       "      <th>pred_have_voice_within_my_institution_valued_member_of_my_institution</th>\n",
       "      <th>pred_internal_processes_effective</th>\n",
       "      <th>pred_parking_transportation</th>\n",
       "      <th>pred_salary_pay</th>\n",
       "      <th>pred_satisfied_with_diversity_progams</th>\n",
       "      <th>pred_supervisor_effectiveness_resolves_staff_issues</th>\n",
       "      <th>valid_loss</th>\n",
       "      <th>accuracy_multi</th>\n",
       "      <th>fbeta_score</th>\n",
       "      <th>precision_score</th>\n",
       "      <th>recall_score</th>\n",
       "      <th>roc_auc_score</th>\n",
       "      <th>opt_th</th>\n",
       "      <th>f05_threshold</th>\n",
       "      <th>f05_score</th>\n",
       "      <th>f1_threshold</th>\n",
       "      <th>f1_score</th>\n",
       "      <th>f2_threshold</th>\n",
       "      <th>f2_score</th>\n",
       "    </tr>\n",
       "  </thead>\n",
       "  <tbody>\n",
       "    <tr>\n",
       "      <th>0</th>\n",
       "      <td>589404</td>\n",
       "      <td>1877</td>\n",
       "      <td>Some of the answers that are marked as agreed, as I think there is always room for improvement. ...</td>\n",
       "      <td>NaN</td>\n",
       "      <td>English</td>\n",
       "      <td>212</td>\n",
       "      <td>9</td>\n",
       "      <td>SAW</td>\n",
       "      <td>UCSD</td>\n",
       "      <td>451700</td>\n",
       "      <td>SAT</td>\n",
       "      <td>If you would like to elaborate on your responses above, or if you have any additional feedback r...</td>\n",
       "      <td>Verbatim</td>\n",
       "      <td>114.0</td>\n",
       "      <td>Comments re Work Environment at UCSD</td>\n",
       "      <td>Satisfaction with UC San Diego</td>\n",
       "      <td>None</td>\n",
       "      <td>None</td>\n",
       "      <td>None</td>\n",
       "      <td>1</td>\n",
       "      <td>91925.0</td>\n",
       "      <td>6878</td>\n",
       "      <td>999999.0</td>\n",
       "      <td>UC San Diego</td>\n",
       "      <td>90000.0</td>\n",
       "      <td>VICE CHANCELLOR HEALTH SCIENCES</td>\n",
       "      <td>93000.0</td>\n",
       "      <td>SCHOOL OF MEDICINE</td>\n",
       "      <td>91900.0</td>\n",
       "      <td>SURGERY</td>\n",
       "      <td>91925.0</td>\n",
       "      <td>DIVISION ADMIN</td>\n",
       "      <td>NaN</td>\n",
       "      <td>NaN</td>\n",
       "      <td>NaN</td>\n",
       "      <td>NaN</td>\n",
       "      <td>NaN</td>\n",
       "      <td>NaN</td>\n",
       "      <td>Some of the answers that are marked as agreed, as I think there is always room for improvement. ...</td>\n",
       "      <td>0.093086</td>\n",
       "      <td>0.194305</td>\n",
       "      <td>0.007521</td>\n",
       "      <td>0.000877</td>\n",
       "      <td>0.130327</td>\n",
       "      <td>0.016501</td>\n",
       "      <td>0.033908</td>\n",
       "      <td>0.002817</td>\n",
       "      <td>0.167593</td>\n",
       "      <td>0.022677</td>\n",
       "      <td>0.005074</td>\n",
       "      <td>0.028991</td>\n",
       "      <td>0.086035</td>\n",
       "      <td>0.008903</td>\n",
       "      <td>0.013456</td>\n",
       "      <td>0.041299</td>\n",
       "      <td>0.002001</td>\n",
       "      <td>0.021882</td>\n",
       "      <td>0.000519</td>\n",
       "      <td>0.15978</td>\n",
       "      <td>0.115464</td>\n",
       "      <td>0.000048</td>\n",
       "      <td>0.002064</td>\n",
       "      <td>0.069693</td>\n",
       "      <td>0.214992</td>\n",
       "      <td>0</td>\n",
       "      <td>0</td>\n",
       "      <td>0</td>\n",
       "      <td>0</td>\n",
       "      <td>0</td>\n",
       "      <td>0</td>\n",
       "      <td>0</td>\n",
       "      <td>0</td>\n",
       "      <td>0</td>\n",
       "      <td>0</td>\n",
       "      <td>0</td>\n",
       "      <td>0</td>\n",
       "      <td>0</td>\n",
       "      <td>0</td>\n",
       "      <td>0</td>\n",
       "      <td>0</td>\n",
       "      <td>0</td>\n",
       "      <td>0</td>\n",
       "      <td>0</td>\n",
       "      <td>0</td>\n",
       "      <td>0</td>\n",
       "      <td>0</td>\n",
       "      <td>0</td>\n",
       "      <td>0</td>\n",
       "      <td>0</td>\n",
       "      <td>0.172506</td>\n",
       "      <td>0.928914</td>\n",
       "      <td>0.430061</td>\n",
       "      <td>0.475419</td>\n",
       "      <td>0.40208</td>\n",
       "      <td>0.680924</td>\n",
       "      <td>0.29</td>\n",
       "      <td>0.31</td>\n",
       "      <td>0.443144</td>\n",
       "      <td>0.15</td>\n",
       "      <td>0.4283</td>\n",
       "      <td>0.07</td>\n",
       "      <td>0.56245</td>\n",
       "    </tr>\n",
       "  </tbody>\n",
       "</table>\n",
       "</div>"
      ],
      "text/plain": [
       "       Id  QuestionAnsID                                                                                           AnswerText AnswerText_NonEnglish Language  SurveyID  SurveyTypeID BenchmarkSurveyType ClientId   RspID QuestionCategoryAbbr                                                                                         QuestionText QuestionClass  QuestionCategoryID                    QuestionReportAbbr           QuestionCategoryLabel BenchmarkLevel1 BenchmarkLevel2 BenchmarkLevel3 ClientBenchmarkLevel  GroupCode GroupID  GroupLevel1Code GroupLevel1Name  GroupLevel2Code                  GroupLevel2Name  GroupLevel3Code     GroupLevel3Name  GroupLevel4Code GroupLevel4Name  GroupLevel5Code GroupLevel5Name  GroupLevel6Code GroupLevel6Name  GroupLevel7Code GroupLevel7Name  GroupLevel8Code GroupLevel8Name                                                                                          answer_text  prob_adequate_staffing  prob_advancement_and_training_opportunities  \\\n",
       "0  589404           1877  Some of the answers that are marked as agreed, as I think there is always room for improvement. ...                   NaN  English       212             9                 SAW     UCSD  451700                  SAT  If you would like to elaborate on your responses above, or if you have any additional feedback r...      Verbatim               114.0  Comments re Work Environment at UCSD  Satisfaction with UC San Diego            None            None            None                    1    91925.0    6878         999999.0    UC San Diego          90000.0  VICE CHANCELLOR HEALTH SCIENCES          93000.0  SCHOOL OF MEDICINE          91900.0         SURGERY          91925.0  DIVISION ADMIN              NaN             NaN              NaN             NaN              NaN             NaN  Some of the answers that are marked as agreed, as I think there is always room for improvement. ...                0.093086                                     0.194305   \n",
       "\n",
       "   prob_appropriate_stress_work_assigned_equitably  prob_benefits  prob_better_ways_recognized_participate_in_decisions  prob_career_advancement  prob_committed_to_diversity  prob_communicates_essential_information  prob_ethical_conduct_perform_responsibilities_spirit_of_cooperation  prob_evaluated_fairly  prob_experienced_discrimination  prob_facilities_workspace_safety  prob_faculty_value_contributions  prob_favoritism_cliques  prob_fear_of_retaliation_negative_consequences  prob_feel_valued_by_department  prob_flexibility_work_life_balance  prob_good_use_of_skills  prob_have_necessary_tools  prob_have_voice_within_my_institution_valued_member_of_my_institution  prob_internal_processes_effective  prob_parking_transportation  prob_salary_pay  prob_satisfied_with_diversity_progams  prob_supervisor_effectiveness_resolves_staff_issues  pred_adequate_staffing  pred_advancement_and_training_opportunities  pred_appropriate_stress_work_assigned_equitably  pred_benefits  \\\n",
       "0                                         0.007521       0.000877                                              0.130327                 0.016501                     0.033908                                 0.002817                                                             0.167593               0.022677                         0.005074                          0.028991                          0.086035                 0.008903                                        0.013456                        0.041299                            0.002001                 0.021882                   0.000519                                                                0.15978                           0.115464                     0.000048         0.002064                               0.069693                                             0.214992                       0                                            0                                                0              0   \n",
       "\n",
       "   pred_better_ways_recognized_participate_in_decisions  pred_career_advancement  pred_committed_to_diversity  pred_communicates_essential_information  pred_ethical_conduct_perform_responsibilities_spirit_of_cooperation  pred_evaluated_fairly  pred_experienced_discrimination  pred_facilities_workspace_safety  pred_faculty_value_contributions  pred_favoritism_cliques  pred_fear_of_retaliation_negative_consequences  pred_feel_valued_by_department  pred_flexibility_work_life_balance  pred_good_use_of_skills  pred_have_necessary_tools  pred_have_voice_within_my_institution_valued_member_of_my_institution  pred_internal_processes_effective  pred_parking_transportation  pred_salary_pay  pred_satisfied_with_diversity_progams  pred_supervisor_effectiveness_resolves_staff_issues  valid_loss  accuracy_multi  fbeta_score  precision_score  recall_score  roc_auc_score  opt_th  f05_threshold  f05_score  f1_threshold  f1_score  f2_threshold  f2_score  \n",
       "0                                                     0                        0                            0                                        0                                                                    0                      0                                0                                 0                                 0                        0                                               0                               0                                   0                        0                          0                                                                      0                                  0                            0                0                                      0                                                    0    0.172506        0.928914     0.430061         0.475419       0.40208       0.680924    0.29           0.31   0.443144          0.15    0.4283          0.07   0.56245  "
      ]
     },
     "execution_count": 79,
     "metadata": {},
     "output_type": "execute_result"
    }
   ],
   "source": [
    "inf_df.head(1)"
   ]
  },
  {
   "cell_type": "code",
   "execution_count": 80,
   "metadata": {},
   "outputs": [],
   "source": [
    "pred_theme_cols = filter_col = [col for col in inf_df if col.startswith('pred_')]\n",
    "# pred_theme_cols"
   ]
  },
  {
   "cell_type": "code",
   "execution_count": 81,
   "metadata": {},
   "outputs": [
    {
     "data": {
      "text/plain": [
       "101125"
      ]
     },
     "execution_count": 81,
     "metadata": {},
     "output_type": "execute_result"
    }
   ],
   "source": [
    "inf_df = inf_df.melt(id_vars=list(TASK_LM_DTYPES.keys()), \n",
    "                     value_vars=pred_theme_cols, \n",
    "                     var_name='theme', \n",
    "                     value_name='theme_pred')\n",
    "len(inf_df)"
   ]
  },
  {
   "cell_type": "code",
   "execution_count": 82,
   "metadata": {},
   "outputs": [
    {
     "data": {
      "text/plain": [
       "5282"
      ]
     },
     "execution_count": 82,
     "metadata": {},
     "output_type": "execute_result"
    }
   ],
   "source": [
    "inf_df = inf_df.loc[inf_df.theme_pred == 1]\n",
    "len(inf_df)"
   ]
  },
  {
   "cell_type": "code",
   "execution_count": 83,
   "metadata": {},
   "outputs": [],
   "source": [
    "inf_df['url_friendly_theme'] = inf_df.theme.apply(\n",
    "    lambda s: re.sub(\"(.*?)_([a-zA-Z])\",\"\\g<1> \\g<2>\",s).replace('pred', '').strip().title().replace(' ',''))\n",
    "\n",
    "inf_df['theme'] = inf_df.url_friendly_theme.apply(lambda s: re.sub(\"([a-z])([A-Z])\",\"\\g<1> \\g<2>\",s))\n",
    "inf_df['answer_text'] = inf_df['AnswerText']"
   ]
  },
  {
   "cell_type": "code",
   "execution_count": 84,
   "metadata": {},
   "outputs": [],
   "source": [
    "inf_df.reset_index(inplace=True)"
   ]
  },
  {
   "cell_type": "code",
   "execution_count": 85,
   "metadata": {},
   "outputs": [
    {
     "data": {
      "text/html": [
       "<div>\n",
       "<style scoped>\n",
       "    .dataframe tbody tr th:only-of-type {\n",
       "        vertical-align: middle;\n",
       "    }\n",
       "\n",
       "    .dataframe tbody tr th {\n",
       "        vertical-align: top;\n",
       "    }\n",
       "\n",
       "    .dataframe thead th {\n",
       "        text-align: right;\n",
       "    }\n",
       "</style>\n",
       "<table border=\"1\" class=\"dataframe\">\n",
       "  <thead>\n",
       "    <tr style=\"text-align: right;\">\n",
       "      <th></th>\n",
       "      <th>index</th>\n",
       "      <th>Id</th>\n",
       "      <th>QuestionAnsID</th>\n",
       "      <th>AnswerText</th>\n",
       "      <th>AnswerText_NonEnglish</th>\n",
       "      <th>Language</th>\n",
       "      <th>SurveyID</th>\n",
       "      <th>SurveyTypeID</th>\n",
       "      <th>BenchmarkSurveyType</th>\n",
       "      <th>ClientId</th>\n",
       "      <th>RspID</th>\n",
       "      <th>QuestionCategoryAbbr</th>\n",
       "      <th>QuestionText</th>\n",
       "      <th>QuestionClass</th>\n",
       "      <th>QuestionCategoryID</th>\n",
       "      <th>QuestionReportAbbr</th>\n",
       "      <th>QuestionCategoryLabel</th>\n",
       "      <th>BenchmarkLevel1</th>\n",
       "      <th>BenchmarkLevel2</th>\n",
       "      <th>BenchmarkLevel3</th>\n",
       "      <th>ClientBenchmarkLevel</th>\n",
       "      <th>GroupCode</th>\n",
       "      <th>GroupID</th>\n",
       "      <th>GroupLevel1Code</th>\n",
       "      <th>GroupLevel1Name</th>\n",
       "      <th>GroupLevel2Code</th>\n",
       "      <th>GroupLevel2Name</th>\n",
       "      <th>GroupLevel3Code</th>\n",
       "      <th>GroupLevel3Name</th>\n",
       "      <th>GroupLevel4Code</th>\n",
       "      <th>GroupLevel4Name</th>\n",
       "      <th>GroupLevel5Code</th>\n",
       "      <th>GroupLevel5Name</th>\n",
       "      <th>GroupLevel6Code</th>\n",
       "      <th>GroupLevel6Name</th>\n",
       "      <th>GroupLevel7Code</th>\n",
       "      <th>GroupLevel7Name</th>\n",
       "      <th>GroupLevel8Code</th>\n",
       "      <th>GroupLevel8Name</th>\n",
       "      <th>theme</th>\n",
       "      <th>theme_pred</th>\n",
       "      <th>url_friendly_theme</th>\n",
       "      <th>answer_text</th>\n",
       "    </tr>\n",
       "  </thead>\n",
       "  <tbody>\n",
       "    <tr>\n",
       "      <th>0</th>\n",
       "      <td>8</td>\n",
       "      <td>588956</td>\n",
       "      <td>1877</td>\n",
       "      <td>There are ongoing issues in our department that make for an often awkward and uncomfortable work...</td>\n",
       "      <td>NaN</td>\n",
       "      <td>English</td>\n",
       "      <td>212</td>\n",
       "      <td>9</td>\n",
       "      <td>SAW</td>\n",
       "      <td>UCSD</td>\n",
       "      <td>449462</td>\n",
       "      <td>SAT</td>\n",
       "      <td>If you would like to elaborate on your responses above, or if you have any additional feedback r...</td>\n",
       "      <td>Verbatim</td>\n",
       "      <td>114.0</td>\n",
       "      <td>Comments re Work Environment at UCSD</td>\n",
       "      <td>Satisfaction with UC San Diego</td>\n",
       "      <td>None</td>\n",
       "      <td>None</td>\n",
       "      <td>None</td>\n",
       "      <td>1</td>\n",
       "      <td>11200.0</td>\n",
       "      <td>3472</td>\n",
       "      <td>999999.0</td>\n",
       "      <td>UC San Diego</td>\n",
       "      <td>10000.0</td>\n",
       "      <td>ACADEMIC AFFAIRS</td>\n",
       "      <td>10011.0</td>\n",
       "      <td>COLLEGES</td>\n",
       "      <td>11200.0</td>\n",
       "      <td>ROOSEVELT COLLEGE</td>\n",
       "      <td>NaN</td>\n",
       "      <td>NaN</td>\n",
       "      <td>NaN</td>\n",
       "      <td>NaN</td>\n",
       "      <td>NaN</td>\n",
       "      <td>NaN</td>\n",
       "      <td>NaN</td>\n",
       "      <td>NaN</td>\n",
       "      <td>Adequate Staffing</td>\n",
       "      <td>1</td>\n",
       "      <td>AdequateStaffing</td>\n",
       "      <td>There are ongoing issues in our department that make for an often awkward and uncomfortable work...</td>\n",
       "    </tr>\n",
       "    <tr>\n",
       "      <th>1</th>\n",
       "      <td>17</td>\n",
       "      <td>590316</td>\n",
       "      <td>9439</td>\n",
       "      <td>I am supportive in creating efficiencies and improving processes, but we continue to shift admin...</td>\n",
       "      <td>NaN</td>\n",
       "      <td>English</td>\n",
       "      <td>212</td>\n",
       "      <td>9</td>\n",
       "      <td>SAW</td>\n",
       "      <td>UCSD</td>\n",
       "      <td>447731</td>\n",
       "      <td>None</td>\n",
       "      <td>The Standing Committee on Service and People Oriented Culture (SC-SPOC) is interested in learnin...</td>\n",
       "      <td>Verbatim</td>\n",
       "      <td>201.0</td>\n",
       "      <td>IdeaWave Comments</td>\n",
       "      <td>Other</td>\n",
       "      <td>None</td>\n",
       "      <td>None</td>\n",
       "      <td>None</td>\n",
       "      <td>1</td>\n",
       "      <td>501.0</td>\n",
       "      <td>3503</td>\n",
       "      <td>999999.0</td>\n",
       "      <td>UC San Diego</td>\n",
       "      <td>800.0</td>\n",
       "      <td>VICE CHANCELLOR CHIEF FINANCIAL OFFICER</td>\n",
       "      <td>829.0</td>\n",
       "      <td>HUMAN RESOURCES</td>\n",
       "      <td>501.0</td>\n",
       "      <td>HR ADMINISTRATION</td>\n",
       "      <td>NaN</td>\n",
       "      <td>NaN</td>\n",
       "      <td>NaN</td>\n",
       "      <td>NaN</td>\n",
       "      <td>NaN</td>\n",
       "      <td>NaN</td>\n",
       "      <td>NaN</td>\n",
       "      <td>NaN</td>\n",
       "      <td>Adequate Staffing</td>\n",
       "      <td>1</td>\n",
       "      <td>AdequateStaffing</td>\n",
       "      <td>I am supportive in creating efficiencies and improving processes, but we continue to shift admin...</td>\n",
       "    </tr>\n",
       "    <tr>\n",
       "      <th>2</th>\n",
       "      <td>26</td>\n",
       "      <td>588454</td>\n",
       "      <td>1877</td>\n",
       "      <td>Workload is unbalanced and needs to be reassessed. Management constantly expresses that volume i...</td>\n",
       "      <td>NaN</td>\n",
       "      <td>English</td>\n",
       "      <td>212</td>\n",
       "      <td>9</td>\n",
       "      <td>SAW</td>\n",
       "      <td>UCSD</td>\n",
       "      <td>447089</td>\n",
       "      <td>SAT</td>\n",
       "      <td>If you would like to elaborate on your responses above, or if you have any additional feedback r...</td>\n",
       "      <td>Verbatim</td>\n",
       "      <td>114.0</td>\n",
       "      <td>Comments re Work Environment at UCSD</td>\n",
       "      <td>Satisfaction with UC San Diego</td>\n",
       "      <td>None</td>\n",
       "      <td>None</td>\n",
       "      <td>None</td>\n",
       "      <td>1</td>\n",
       "      <td>96023.0</td>\n",
       "      <td>3855</td>\n",
       "      <td>999999.0</td>\n",
       "      <td>UC San Diego</td>\n",
       "      <td>90000.0</td>\n",
       "      <td>VICE CHANCELLOR HEALTH SCIENCES</td>\n",
       "      <td>93000.0</td>\n",
       "      <td>SCHOOL OF MEDICINE</td>\n",
       "      <td>96015.0</td>\n",
       "      <td>VCHS ACADEMIC RESOURCE CENTER (ARC)</td>\n",
       "      <td>96023.0</td>\n",
       "      <td>COMPENSATION &amp; TIMEKEEPING</td>\n",
       "      <td>NaN</td>\n",
       "      <td>NaN</td>\n",
       "      <td>NaN</td>\n",
       "      <td>NaN</td>\n",
       "      <td>NaN</td>\n",
       "      <td>NaN</td>\n",
       "      <td>Adequate Staffing</td>\n",
       "      <td>1</td>\n",
       "      <td>AdequateStaffing</td>\n",
       "      <td>Workload is unbalanced and needs to be reassessed. Management constantly expresses that volume i...</td>\n",
       "    </tr>\n",
       "    <tr>\n",
       "      <th>3</th>\n",
       "      <td>32</td>\n",
       "      <td>589390</td>\n",
       "      <td>1877</td>\n",
       "      <td>Doctors and supervisors are supportive. However, clinical trials are very busy and sometimes I f...</td>\n",
       "      <td>NaN</td>\n",
       "      <td>English</td>\n",
       "      <td>212</td>\n",
       "      <td>9</td>\n",
       "      <td>SAW</td>\n",
       "      <td>UCSD</td>\n",
       "      <td>451657</td>\n",
       "      <td>SAT</td>\n",
       "      <td>If you would like to elaborate on your responses above, or if you have any additional feedback r...</td>\n",
       "      <td>Verbatim</td>\n",
       "      <td>114.0</td>\n",
       "      <td>Comments re Work Environment at UCSD</td>\n",
       "      <td>Satisfaction with UC San Diego</td>\n",
       "      <td>None</td>\n",
       "      <td>None</td>\n",
       "      <td>None</td>\n",
       "      <td>1</td>\n",
       "      <td>98200.0</td>\n",
       "      <td>3631</td>\n",
       "      <td>999999.0</td>\n",
       "      <td>UC San Diego</td>\n",
       "      <td>90000.0</td>\n",
       "      <td>VICE CHANCELLOR HEALTH SCIENCES</td>\n",
       "      <td>93000.0</td>\n",
       "      <td>SCHOOL OF MEDICINE</td>\n",
       "      <td>98000.0</td>\n",
       "      <td>CANCER CENTER</td>\n",
       "      <td>98200.0</td>\n",
       "      <td>CLINICAL TRIALS OFFICE (CTO)</td>\n",
       "      <td>NaN</td>\n",
       "      <td>NaN</td>\n",
       "      <td>NaN</td>\n",
       "      <td>NaN</td>\n",
       "      <td>NaN</td>\n",
       "      <td>NaN</td>\n",
       "      <td>Adequate Staffing</td>\n",
       "      <td>1</td>\n",
       "      <td>AdequateStaffing</td>\n",
       "      <td>Doctors and supervisors are supportive. However, clinical trials are very busy and sometimes I f...</td>\n",
       "    </tr>\n",
       "    <tr>\n",
       "      <th>4</th>\n",
       "      <td>48</td>\n",
       "      <td>590606</td>\n",
       "      <td>9439</td>\n",
       "      <td>Evaluate staffing and productivity for the urgent care/walk in clinic as well as the walk in nur...</td>\n",
       "      <td>NaN</td>\n",
       "      <td>English</td>\n",
       "      <td>212</td>\n",
       "      <td>9</td>\n",
       "      <td>SAW</td>\n",
       "      <td>UCSD</td>\n",
       "      <td>450625</td>\n",
       "      <td>None</td>\n",
       "      <td>The Standing Committee on Service and People Oriented Culture (SC-SPOC) is interested in learnin...</td>\n",
       "      <td>Verbatim</td>\n",
       "      <td>201.0</td>\n",
       "      <td>IdeaWave Comments</td>\n",
       "      <td>Other</td>\n",
       "      <td>None</td>\n",
       "      <td>None</td>\n",
       "      <td>None</td>\n",
       "      <td>1</td>\n",
       "      <td>31302.0</td>\n",
       "      <td>3555</td>\n",
       "      <td>999999.0</td>\n",
       "      <td>UC San Diego</td>\n",
       "      <td>90000.0</td>\n",
       "      <td>VICE CHANCELLOR HEALTH SCIENCES</td>\n",
       "      <td>90563.0</td>\n",
       "      <td>STUDENT HEALTH &amp; WELL BEING</td>\n",
       "      <td>31302.0</td>\n",
       "      <td>STUDENT HEALTH SERVICES</td>\n",
       "      <td>NaN</td>\n",
       "      <td>NaN</td>\n",
       "      <td>NaN</td>\n",
       "      <td>NaN</td>\n",
       "      <td>NaN</td>\n",
       "      <td>NaN</td>\n",
       "      <td>NaN</td>\n",
       "      <td>NaN</td>\n",
       "      <td>Adequate Staffing</td>\n",
       "      <td>1</td>\n",
       "      <td>AdequateStaffing</td>\n",
       "      <td>Evaluate staffing and productivity for the urgent care/walk in clinic as well as the walk in nur...</td>\n",
       "    </tr>\n",
       "  </tbody>\n",
       "</table>\n",
       "</div>"
      ],
      "text/plain": [
       "   index      Id  QuestionAnsID                                                                                           AnswerText AnswerText_NonEnglish Language  SurveyID  SurveyTypeID BenchmarkSurveyType ClientId   RspID QuestionCategoryAbbr                                                                                         QuestionText QuestionClass  QuestionCategoryID                    QuestionReportAbbr           QuestionCategoryLabel BenchmarkLevel1 BenchmarkLevel2 BenchmarkLevel3 ClientBenchmarkLevel  GroupCode GroupID  GroupLevel1Code GroupLevel1Name  GroupLevel2Code                          GroupLevel2Name  GroupLevel3Code              GroupLevel3Name  GroupLevel4Code                      GroupLevel4Name  GroupLevel5Code               GroupLevel5Name  GroupLevel6Code GroupLevel6Name  GroupLevel7Code GroupLevel7Name  GroupLevel8Code GroupLevel8Name              theme  theme_pred url_friendly_theme  \\\n",
       "0      8  588956           1877  There are ongoing issues in our department that make for an often awkward and uncomfortable work...                   NaN  English       212             9                 SAW     UCSD  449462                  SAT  If you would like to elaborate on your responses above, or if you have any additional feedback r...      Verbatim               114.0  Comments re Work Environment at UCSD  Satisfaction with UC San Diego            None            None            None                    1    11200.0    3472         999999.0    UC San Diego          10000.0                         ACADEMIC AFFAIRS          10011.0                     COLLEGES          11200.0                    ROOSEVELT COLLEGE              NaN                           NaN              NaN             NaN              NaN             NaN              NaN             NaN  Adequate Staffing           1   AdequateStaffing   \n",
       "1     17  590316           9439  I am supportive in creating efficiencies and improving processes, but we continue to shift admin...                   NaN  English       212             9                 SAW     UCSD  447731                 None  The Standing Committee on Service and People Oriented Culture (SC-SPOC) is interested in learnin...      Verbatim               201.0                     IdeaWave Comments                           Other            None            None            None                    1      501.0    3503         999999.0    UC San Diego            800.0  VICE CHANCELLOR CHIEF FINANCIAL OFFICER            829.0              HUMAN RESOURCES            501.0                    HR ADMINISTRATION              NaN                           NaN              NaN             NaN              NaN             NaN              NaN             NaN  Adequate Staffing           1   AdequateStaffing   \n",
       "2     26  588454           1877  Workload is unbalanced and needs to be reassessed. Management constantly expresses that volume i...                   NaN  English       212             9                 SAW     UCSD  447089                  SAT  If you would like to elaborate on your responses above, or if you have any additional feedback r...      Verbatim               114.0  Comments re Work Environment at UCSD  Satisfaction with UC San Diego            None            None            None                    1    96023.0    3855         999999.0    UC San Diego          90000.0          VICE CHANCELLOR HEALTH SCIENCES          93000.0           SCHOOL OF MEDICINE          96015.0  VCHS ACADEMIC RESOURCE CENTER (ARC)          96023.0    COMPENSATION & TIMEKEEPING              NaN             NaN              NaN             NaN              NaN             NaN  Adequate Staffing           1   AdequateStaffing   \n",
       "3     32  589390           1877  Doctors and supervisors are supportive. However, clinical trials are very busy and sometimes I f...                   NaN  English       212             9                 SAW     UCSD  451657                  SAT  If you would like to elaborate on your responses above, or if you have any additional feedback r...      Verbatim               114.0  Comments re Work Environment at UCSD  Satisfaction with UC San Diego            None            None            None                    1    98200.0    3631         999999.0    UC San Diego          90000.0          VICE CHANCELLOR HEALTH SCIENCES          93000.0           SCHOOL OF MEDICINE          98000.0                        CANCER CENTER          98200.0  CLINICAL TRIALS OFFICE (CTO)              NaN             NaN              NaN             NaN              NaN             NaN  Adequate Staffing           1   AdequateStaffing   \n",
       "4     48  590606           9439  Evaluate staffing and productivity for the urgent care/walk in clinic as well as the walk in nur...                   NaN  English       212             9                 SAW     UCSD  450625                 None  The Standing Committee on Service and People Oriented Culture (SC-SPOC) is interested in learnin...      Verbatim               201.0                     IdeaWave Comments                           Other            None            None            None                    1    31302.0    3555         999999.0    UC San Diego          90000.0          VICE CHANCELLOR HEALTH SCIENCES          90563.0  STUDENT HEALTH & WELL BEING          31302.0              STUDENT HEALTH SERVICES              NaN                           NaN              NaN             NaN              NaN             NaN              NaN             NaN  Adequate Staffing           1   AdequateStaffing   \n",
       "\n",
       "                                                                                           answer_text  \n",
       "0  There are ongoing issues in our department that make for an often awkward and uncomfortable work...  \n",
       "1  I am supportive in creating efficiencies and improving processes, but we continue to shift admin...  \n",
       "2  Workload is unbalanced and needs to be reassessed. Management constantly expresses that volume i...  \n",
       "3  Doctors and supervisors are supportive. However, clinical trials are very busy and sometimes I f...  \n",
       "4  Evaluate staffing and productivity for the urgent care/walk in clinic as well as the walk in nur...  "
      ]
     },
     "execution_count": 85,
     "metadata": {},
     "output_type": "execute_result"
    }
   ],
   "source": [
    "inf_df.head()"
   ]
  },
  {
   "cell_type": "code",
   "execution_count": 14,
   "metadata": {},
   "outputs": [],
   "source": [
    "#export\n",
    "def build_meta_inf_df(themes_df, fixed_cols=list(TASK_LM_DTYPES.keys())):\n",
    "    inf_df = themes_df.copy()\n",
    "    \n",
    "    pred_theme_cols = filter_col = [col for col in inf_df if col.startswith('pred_')]\n",
    "    \n",
    "    inf_df = inf_df.melt(id_vars=fixed_cols, value_vars=pred_theme_cols, var_name='theme', value_name='theme_pred')\n",
    "    inf_df = inf_df.loc[inf_df.theme_pred == 1]\n",
    "    \n",
    "    inf_df['url_friendly_theme'] = inf_df.theme.apply(\n",
    "        lambda s: re.sub(\"(.*?)_([a-zA-Z])\",\"\\g<1> \\g<2>\",s).replace('pred', '').strip().title().replace(' ',''))\n",
    "    \n",
    "    inf_df['theme'] = inf_df.url_friendly_theme.apply(lambda s: re.sub(\"([a-z])([A-Z])\",\"\\g<1> \\g<2>\",s))\n",
    "\n",
    "    inf_df.reset_index(inplace=True)\n",
    "    return inf_df"
   ]
  },
  {
   "cell_type": "code",
   "execution_count": 87,
   "metadata": {
    "scrolled": true
   },
   "outputs": [
    {
     "name": "stdout",
     "output_type": "stream",
     "text": [
      "cuda:1\n",
      "0\n",
      "(5282, 56) torch.Size([5282, 1]) torch.Size([5282, 2]) 2\n"
     ]
    }
   ],
   "source": [
    "device = torch.device('cuda:1') if torch.cuda.is_available() else torch.device('cpu')\n",
    "print(device)\n",
    "\n",
    "preds_df, inf_probs_sent, inf_probs_is_example, inf_labels = get_standard_theme_meta_preds(inf_df, device=device)\n",
    "print(preds_df.shape, inf_probs_sent.shape, inf_probs_is_example.shape, len(inf_labels))"
   ]
  },
  {
   "cell_type": "code",
   "execution_count": 88,
   "metadata": {},
   "outputs": [
    {
     "data": {
      "text/html": [
       "<div>\n",
       "<style scoped>\n",
       "    .dataframe tbody tr th:only-of-type {\n",
       "        vertical-align: middle;\n",
       "    }\n",
       "\n",
       "    .dataframe tbody tr th {\n",
       "        vertical-align: top;\n",
       "    }\n",
       "\n",
       "    .dataframe thead th {\n",
       "        text-align: right;\n",
       "    }\n",
       "</style>\n",
       "<table border=\"1\" class=\"dataframe\">\n",
       "  <thead>\n",
       "    <tr style=\"text-align: right;\">\n",
       "      <th></th>\n",
       "      <th>index</th>\n",
       "      <th>Id</th>\n",
       "      <th>QuestionAnsID</th>\n",
       "      <th>AnswerText</th>\n",
       "      <th>AnswerText_NonEnglish</th>\n",
       "      <th>Language</th>\n",
       "      <th>SurveyID</th>\n",
       "      <th>SurveyTypeID</th>\n",
       "      <th>BenchmarkSurveyType</th>\n",
       "      <th>ClientId</th>\n",
       "      <th>RspID</th>\n",
       "      <th>QuestionCategoryAbbr</th>\n",
       "      <th>QuestionText</th>\n",
       "      <th>QuestionClass</th>\n",
       "      <th>QuestionCategoryID</th>\n",
       "      <th>QuestionReportAbbr</th>\n",
       "      <th>QuestionCategoryLabel</th>\n",
       "      <th>BenchmarkLevel1</th>\n",
       "      <th>BenchmarkLevel2</th>\n",
       "      <th>BenchmarkLevel3</th>\n",
       "      <th>ClientBenchmarkLevel</th>\n",
       "      <th>GroupCode</th>\n",
       "      <th>GroupID</th>\n",
       "      <th>GroupLevel1Code</th>\n",
       "      <th>GroupLevel1Name</th>\n",
       "      <th>GroupLevel2Code</th>\n",
       "      <th>GroupLevel2Name</th>\n",
       "      <th>GroupLevel3Code</th>\n",
       "      <th>GroupLevel3Name</th>\n",
       "      <th>GroupLevel4Code</th>\n",
       "      <th>GroupLevel4Name</th>\n",
       "      <th>GroupLevel5Code</th>\n",
       "      <th>GroupLevel5Name</th>\n",
       "      <th>GroupLevel6Code</th>\n",
       "      <th>GroupLevel6Name</th>\n",
       "      <th>GroupLevel7Code</th>\n",
       "      <th>GroupLevel7Name</th>\n",
       "      <th>GroupLevel8Code</th>\n",
       "      <th>GroupLevel8Name</th>\n",
       "      <th>theme</th>\n",
       "      <th>theme_pred</th>\n",
       "      <th>url_friendly_theme</th>\n",
       "      <th>answer_text</th>\n",
       "      <th>prob_avg_sentiment</th>\n",
       "      <th>prob_is_example</th>\n",
       "      <th>pred_is_example</th>\n",
       "      <th>valid_loss</th>\n",
       "      <th>sentiment_mse</th>\n",
       "      <th>sentiment_mae</th>\n",
       "      <th>sentiment_rmse</th>\n",
       "      <th>is_example_f05_threshold</th>\n",
       "      <th>is_example_f05_score</th>\n",
       "      <th>is_example_f1_threshold</th>\n",
       "      <th>is_example_f1_score</th>\n",
       "      <th>is_example_f2_threshold</th>\n",
       "      <th>is_example_f2_score</th>\n",
       "    </tr>\n",
       "  </thead>\n",
       "  <tbody>\n",
       "    <tr>\n",
       "      <th>0</th>\n",
       "      <td>8</td>\n",
       "      <td>588956</td>\n",
       "      <td>1877</td>\n",
       "      <td>There are ongoing issues in our department that make for an often awkward and uncomfortable work...</td>\n",
       "      <td>NaN</td>\n",
       "      <td>English</td>\n",
       "      <td>212</td>\n",
       "      <td>9</td>\n",
       "      <td>SAW</td>\n",
       "      <td>UCSD</td>\n",
       "      <td>449462</td>\n",
       "      <td>SAT</td>\n",
       "      <td>If you would like to elaborate on your responses above, or if you have any additional feedback r...</td>\n",
       "      <td>Verbatim</td>\n",
       "      <td>114.0</td>\n",
       "      <td>Comments re Work Environment at UCSD</td>\n",
       "      <td>Satisfaction with UC San Diego</td>\n",
       "      <td>None</td>\n",
       "      <td>None</td>\n",
       "      <td>None</td>\n",
       "      <td>1</td>\n",
       "      <td>11200.0</td>\n",
       "      <td>3472</td>\n",
       "      <td>999999.0</td>\n",
       "      <td>UC San Diego</td>\n",
       "      <td>10000.0</td>\n",
       "      <td>ACADEMIC AFFAIRS</td>\n",
       "      <td>10011.0</td>\n",
       "      <td>COLLEGES</td>\n",
       "      <td>11200.0</td>\n",
       "      <td>ROOSEVELT COLLEGE</td>\n",
       "      <td>NaN</td>\n",
       "      <td>NaN</td>\n",
       "      <td>NaN</td>\n",
       "      <td>NaN</td>\n",
       "      <td>NaN</td>\n",
       "      <td>NaN</td>\n",
       "      <td>NaN</td>\n",
       "      <td>NaN</td>\n",
       "      <td>Adequate Staffing</td>\n",
       "      <td>1</td>\n",
       "      <td>AdequateStaffing</td>\n",
       "      <td>There are ongoing issues in our department that make for an often awkward and uncomfortable work...</td>\n",
       "      <td>2.207307</td>\n",
       "      <td>0.004409</td>\n",
       "      <td>0</td>\n",
       "      <td>0.403709</td>\n",
       "      <td>0.399719</td>\n",
       "      <td>0.453436</td>\n",
       "      <td>0.632233</td>\n",
       "      <td>0.28</td>\n",
       "      <td>0.065789</td>\n",
       "      <td>0.28</td>\n",
       "      <td>0.08</td>\n",
       "      <td>0.28</td>\n",
       "      <td>0.102041</td>\n",
       "    </tr>\n",
       "    <tr>\n",
       "      <th>1</th>\n",
       "      <td>17</td>\n",
       "      <td>590316</td>\n",
       "      <td>9439</td>\n",
       "      <td>I am supportive in creating efficiencies and improving processes, but we continue to shift admin...</td>\n",
       "      <td>NaN</td>\n",
       "      <td>English</td>\n",
       "      <td>212</td>\n",
       "      <td>9</td>\n",
       "      <td>SAW</td>\n",
       "      <td>UCSD</td>\n",
       "      <td>447731</td>\n",
       "      <td>None</td>\n",
       "      <td>The Standing Committee on Service and People Oriented Culture (SC-SPOC) is interested in learnin...</td>\n",
       "      <td>Verbatim</td>\n",
       "      <td>201.0</td>\n",
       "      <td>IdeaWave Comments</td>\n",
       "      <td>Other</td>\n",
       "      <td>None</td>\n",
       "      <td>None</td>\n",
       "      <td>None</td>\n",
       "      <td>1</td>\n",
       "      <td>501.0</td>\n",
       "      <td>3503</td>\n",
       "      <td>999999.0</td>\n",
       "      <td>UC San Diego</td>\n",
       "      <td>800.0</td>\n",
       "      <td>VICE CHANCELLOR CHIEF FINANCIAL OFFICER</td>\n",
       "      <td>829.0</td>\n",
       "      <td>HUMAN RESOURCES</td>\n",
       "      <td>501.0</td>\n",
       "      <td>HR ADMINISTRATION</td>\n",
       "      <td>NaN</td>\n",
       "      <td>NaN</td>\n",
       "      <td>NaN</td>\n",
       "      <td>NaN</td>\n",
       "      <td>NaN</td>\n",
       "      <td>NaN</td>\n",
       "      <td>NaN</td>\n",
       "      <td>NaN</td>\n",
       "      <td>Adequate Staffing</td>\n",
       "      <td>1</td>\n",
       "      <td>AdequateStaffing</td>\n",
       "      <td>I am supportive in creating efficiencies and improving processes, but we continue to shift admin...</td>\n",
       "      <td>2.776015</td>\n",
       "      <td>0.001973</td>\n",
       "      <td>0</td>\n",
       "      <td>0.403709</td>\n",
       "      <td>0.399719</td>\n",
       "      <td>0.453436</td>\n",
       "      <td>0.632233</td>\n",
       "      <td>0.28</td>\n",
       "      <td>0.065789</td>\n",
       "      <td>0.28</td>\n",
       "      <td>0.08</td>\n",
       "      <td>0.28</td>\n",
       "      <td>0.102041</td>\n",
       "    </tr>\n",
       "    <tr>\n",
       "      <th>2</th>\n",
       "      <td>26</td>\n",
       "      <td>588454</td>\n",
       "      <td>1877</td>\n",
       "      <td>Workload is unbalanced and needs to be reassessed. Management constantly expresses that volume i...</td>\n",
       "      <td>NaN</td>\n",
       "      <td>English</td>\n",
       "      <td>212</td>\n",
       "      <td>9</td>\n",
       "      <td>SAW</td>\n",
       "      <td>UCSD</td>\n",
       "      <td>447089</td>\n",
       "      <td>SAT</td>\n",
       "      <td>If you would like to elaborate on your responses above, or if you have any additional feedback r...</td>\n",
       "      <td>Verbatim</td>\n",
       "      <td>114.0</td>\n",
       "      <td>Comments re Work Environment at UCSD</td>\n",
       "      <td>Satisfaction with UC San Diego</td>\n",
       "      <td>None</td>\n",
       "      <td>None</td>\n",
       "      <td>None</td>\n",
       "      <td>1</td>\n",
       "      <td>96023.0</td>\n",
       "      <td>3855</td>\n",
       "      <td>999999.0</td>\n",
       "      <td>UC San Diego</td>\n",
       "      <td>90000.0</td>\n",
       "      <td>VICE CHANCELLOR HEALTH SCIENCES</td>\n",
       "      <td>93000.0</td>\n",
       "      <td>SCHOOL OF MEDICINE</td>\n",
       "      <td>96015.0</td>\n",
       "      <td>VCHS ACADEMIC RESOURCE CENTER (ARC)</td>\n",
       "      <td>96023.0</td>\n",
       "      <td>COMPENSATION &amp; TIMEKEEPING</td>\n",
       "      <td>NaN</td>\n",
       "      <td>NaN</td>\n",
       "      <td>NaN</td>\n",
       "      <td>NaN</td>\n",
       "      <td>NaN</td>\n",
       "      <td>NaN</td>\n",
       "      <td>Adequate Staffing</td>\n",
       "      <td>1</td>\n",
       "      <td>AdequateStaffing</td>\n",
       "      <td>Workload is unbalanced and needs to be reassessed. Management constantly expresses that volume i...</td>\n",
       "      <td>2.177579</td>\n",
       "      <td>0.002923</td>\n",
       "      <td>0</td>\n",
       "      <td>0.403709</td>\n",
       "      <td>0.399719</td>\n",
       "      <td>0.453436</td>\n",
       "      <td>0.632233</td>\n",
       "      <td>0.28</td>\n",
       "      <td>0.065789</td>\n",
       "      <td>0.28</td>\n",
       "      <td>0.08</td>\n",
       "      <td>0.28</td>\n",
       "      <td>0.102041</td>\n",
       "    </tr>\n",
       "    <tr>\n",
       "      <th>3</th>\n",
       "      <td>32</td>\n",
       "      <td>589390</td>\n",
       "      <td>1877</td>\n",
       "      <td>Doctors and supervisors are supportive. However, clinical trials are very busy and sometimes I f...</td>\n",
       "      <td>NaN</td>\n",
       "      <td>English</td>\n",
       "      <td>212</td>\n",
       "      <td>9</td>\n",
       "      <td>SAW</td>\n",
       "      <td>UCSD</td>\n",
       "      <td>451657</td>\n",
       "      <td>SAT</td>\n",
       "      <td>If you would like to elaborate on your responses above, or if you have any additional feedback r...</td>\n",
       "      <td>Verbatim</td>\n",
       "      <td>114.0</td>\n",
       "      <td>Comments re Work Environment at UCSD</td>\n",
       "      <td>Satisfaction with UC San Diego</td>\n",
       "      <td>None</td>\n",
       "      <td>None</td>\n",
       "      <td>None</td>\n",
       "      <td>1</td>\n",
       "      <td>98200.0</td>\n",
       "      <td>3631</td>\n",
       "      <td>999999.0</td>\n",
       "      <td>UC San Diego</td>\n",
       "      <td>90000.0</td>\n",
       "      <td>VICE CHANCELLOR HEALTH SCIENCES</td>\n",
       "      <td>93000.0</td>\n",
       "      <td>SCHOOL OF MEDICINE</td>\n",
       "      <td>98000.0</td>\n",
       "      <td>CANCER CENTER</td>\n",
       "      <td>98200.0</td>\n",
       "      <td>CLINICAL TRIALS OFFICE (CTO)</td>\n",
       "      <td>NaN</td>\n",
       "      <td>NaN</td>\n",
       "      <td>NaN</td>\n",
       "      <td>NaN</td>\n",
       "      <td>NaN</td>\n",
       "      <td>NaN</td>\n",
       "      <td>Adequate Staffing</td>\n",
       "      <td>1</td>\n",
       "      <td>AdequateStaffing</td>\n",
       "      <td>Doctors and supervisors are supportive. However, clinical trials are very busy and sometimes I f...</td>\n",
       "      <td>3.152413</td>\n",
       "      <td>0.001574</td>\n",
       "      <td>0</td>\n",
       "      <td>0.403709</td>\n",
       "      <td>0.399719</td>\n",
       "      <td>0.453436</td>\n",
       "      <td>0.632233</td>\n",
       "      <td>0.28</td>\n",
       "      <td>0.065789</td>\n",
       "      <td>0.28</td>\n",
       "      <td>0.08</td>\n",
       "      <td>0.28</td>\n",
       "      <td>0.102041</td>\n",
       "    </tr>\n",
       "    <tr>\n",
       "      <th>4</th>\n",
       "      <td>48</td>\n",
       "      <td>590606</td>\n",
       "      <td>9439</td>\n",
       "      <td>Evaluate staffing and productivity for the urgent care/walk in clinic as well as the walk in nur...</td>\n",
       "      <td>NaN</td>\n",
       "      <td>English</td>\n",
       "      <td>212</td>\n",
       "      <td>9</td>\n",
       "      <td>SAW</td>\n",
       "      <td>UCSD</td>\n",
       "      <td>450625</td>\n",
       "      <td>None</td>\n",
       "      <td>The Standing Committee on Service and People Oriented Culture (SC-SPOC) is interested in learnin...</td>\n",
       "      <td>Verbatim</td>\n",
       "      <td>201.0</td>\n",
       "      <td>IdeaWave Comments</td>\n",
       "      <td>Other</td>\n",
       "      <td>None</td>\n",
       "      <td>None</td>\n",
       "      <td>None</td>\n",
       "      <td>1</td>\n",
       "      <td>31302.0</td>\n",
       "      <td>3555</td>\n",
       "      <td>999999.0</td>\n",
       "      <td>UC San Diego</td>\n",
       "      <td>90000.0</td>\n",
       "      <td>VICE CHANCELLOR HEALTH SCIENCES</td>\n",
       "      <td>90563.0</td>\n",
       "      <td>STUDENT HEALTH &amp; WELL BEING</td>\n",
       "      <td>31302.0</td>\n",
       "      <td>STUDENT HEALTH SERVICES</td>\n",
       "      <td>NaN</td>\n",
       "      <td>NaN</td>\n",
       "      <td>NaN</td>\n",
       "      <td>NaN</td>\n",
       "      <td>NaN</td>\n",
       "      <td>NaN</td>\n",
       "      <td>NaN</td>\n",
       "      <td>NaN</td>\n",
       "      <td>Adequate Staffing</td>\n",
       "      <td>1</td>\n",
       "      <td>AdequateStaffing</td>\n",
       "      <td>Evaluate staffing and productivity for the urgent care/walk in clinic as well as the walk in nur...</td>\n",
       "      <td>2.261475</td>\n",
       "      <td>0.005460</td>\n",
       "      <td>0</td>\n",
       "      <td>0.403709</td>\n",
       "      <td>0.399719</td>\n",
       "      <td>0.453436</td>\n",
       "      <td>0.632233</td>\n",
       "      <td>0.28</td>\n",
       "      <td>0.065789</td>\n",
       "      <td>0.28</td>\n",
       "      <td>0.08</td>\n",
       "      <td>0.28</td>\n",
       "      <td>0.102041</td>\n",
       "    </tr>\n",
       "  </tbody>\n",
       "</table>\n",
       "</div>"
      ],
      "text/plain": [
       "   index      Id  QuestionAnsID                                                                                           AnswerText AnswerText_NonEnglish Language  SurveyID  SurveyTypeID BenchmarkSurveyType ClientId   RspID QuestionCategoryAbbr                                                                                         QuestionText QuestionClass  QuestionCategoryID                    QuestionReportAbbr           QuestionCategoryLabel BenchmarkLevel1 BenchmarkLevel2 BenchmarkLevel3 ClientBenchmarkLevel  GroupCode GroupID  GroupLevel1Code GroupLevel1Name  GroupLevel2Code                          GroupLevel2Name  GroupLevel3Code              GroupLevel3Name  GroupLevel4Code                      GroupLevel4Name  GroupLevel5Code               GroupLevel5Name  GroupLevel6Code GroupLevel6Name  GroupLevel7Code GroupLevel7Name  GroupLevel8Code GroupLevel8Name              theme  theme_pred url_friendly_theme  \\\n",
       "0      8  588956           1877  There are ongoing issues in our department that make for an often awkward and uncomfortable work...                   NaN  English       212             9                 SAW     UCSD  449462                  SAT  If you would like to elaborate on your responses above, or if you have any additional feedback r...      Verbatim               114.0  Comments re Work Environment at UCSD  Satisfaction with UC San Diego            None            None            None                    1    11200.0    3472         999999.0    UC San Diego          10000.0                         ACADEMIC AFFAIRS          10011.0                     COLLEGES          11200.0                    ROOSEVELT COLLEGE              NaN                           NaN              NaN             NaN              NaN             NaN              NaN             NaN  Adequate Staffing           1   AdequateStaffing   \n",
       "1     17  590316           9439  I am supportive in creating efficiencies and improving processes, but we continue to shift admin...                   NaN  English       212             9                 SAW     UCSD  447731                 None  The Standing Committee on Service and People Oriented Culture (SC-SPOC) is interested in learnin...      Verbatim               201.0                     IdeaWave Comments                           Other            None            None            None                    1      501.0    3503         999999.0    UC San Diego            800.0  VICE CHANCELLOR CHIEF FINANCIAL OFFICER            829.0              HUMAN RESOURCES            501.0                    HR ADMINISTRATION              NaN                           NaN              NaN             NaN              NaN             NaN              NaN             NaN  Adequate Staffing           1   AdequateStaffing   \n",
       "2     26  588454           1877  Workload is unbalanced and needs to be reassessed. Management constantly expresses that volume i...                   NaN  English       212             9                 SAW     UCSD  447089                  SAT  If you would like to elaborate on your responses above, or if you have any additional feedback r...      Verbatim               114.0  Comments re Work Environment at UCSD  Satisfaction with UC San Diego            None            None            None                    1    96023.0    3855         999999.0    UC San Diego          90000.0          VICE CHANCELLOR HEALTH SCIENCES          93000.0           SCHOOL OF MEDICINE          96015.0  VCHS ACADEMIC RESOURCE CENTER (ARC)          96023.0    COMPENSATION & TIMEKEEPING              NaN             NaN              NaN             NaN              NaN             NaN  Adequate Staffing           1   AdequateStaffing   \n",
       "3     32  589390           1877  Doctors and supervisors are supportive. However, clinical trials are very busy and sometimes I f...                   NaN  English       212             9                 SAW     UCSD  451657                  SAT  If you would like to elaborate on your responses above, or if you have any additional feedback r...      Verbatim               114.0  Comments re Work Environment at UCSD  Satisfaction with UC San Diego            None            None            None                    1    98200.0    3631         999999.0    UC San Diego          90000.0          VICE CHANCELLOR HEALTH SCIENCES          93000.0           SCHOOL OF MEDICINE          98000.0                        CANCER CENTER          98200.0  CLINICAL TRIALS OFFICE (CTO)              NaN             NaN              NaN             NaN              NaN             NaN  Adequate Staffing           1   AdequateStaffing   \n",
       "4     48  590606           9439  Evaluate staffing and productivity for the urgent care/walk in clinic as well as the walk in nur...                   NaN  English       212             9                 SAW     UCSD  450625                 None  The Standing Committee on Service and People Oriented Culture (SC-SPOC) is interested in learnin...      Verbatim               201.0                     IdeaWave Comments                           Other            None            None            None                    1    31302.0    3555         999999.0    UC San Diego          90000.0          VICE CHANCELLOR HEALTH SCIENCES          90563.0  STUDENT HEALTH & WELL BEING          31302.0              STUDENT HEALTH SERVICES              NaN                           NaN              NaN             NaN              NaN             NaN              NaN             NaN  Adequate Staffing           1   AdequateStaffing   \n",
       "\n",
       "                                                                                           answer_text  prob_avg_sentiment  prob_is_example  pred_is_example  valid_loss  sentiment_mse  sentiment_mae  sentiment_rmse  is_example_f05_threshold  is_example_f05_score  is_example_f1_threshold  is_example_f1_score  is_example_f2_threshold  is_example_f2_score  \n",
       "0  There are ongoing issues in our department that make for an often awkward and uncomfortable work...            2.207307         0.004409                0    0.403709       0.399719       0.453436        0.632233                      0.28              0.065789                     0.28                 0.08                     0.28             0.102041  \n",
       "1  I am supportive in creating efficiencies and improving processes, but we continue to shift admin...            2.776015         0.001973                0    0.403709       0.399719       0.453436        0.632233                      0.28              0.065789                     0.28                 0.08                     0.28             0.102041  \n",
       "2  Workload is unbalanced and needs to be reassessed. Management constantly expresses that volume i...            2.177579         0.002923                0    0.403709       0.399719       0.453436        0.632233                      0.28              0.065789                     0.28                 0.08                     0.28             0.102041  \n",
       "3  Doctors and supervisors are supportive. However, clinical trials are very busy and sometimes I f...            3.152413         0.001574                0    0.403709       0.399719       0.453436        0.632233                      0.28              0.065789                     0.28                 0.08                     0.28             0.102041  \n",
       "4  Evaluate staffing and productivity for the urgent care/walk in clinic as well as the walk in nur...            2.261475         0.005460                0    0.403709       0.399719       0.453436        0.632233                      0.28              0.065789                     0.28                 0.08                     0.28             0.102041  "
      ]
     },
     "execution_count": 88,
     "metadata": {},
     "output_type": "execute_result"
    }
   ],
   "source": [
    "preds_df.head()"
   ]
  },
  {
   "cell_type": "markdown",
   "metadata": {},
   "source": [
    "*If we were building results DataFrame by hand ...*"
   ]
  },
  {
   "cell_type": "markdown",
   "metadata": {},
   "source": [
    "Add the probabilities of each label to `inf_df`"
   ]
  },
  {
   "cell_type": "code",
   "execution_count": 89,
   "metadata": {},
   "outputs": [
    {
     "data": {
      "text/plain": [
       "(5282, 2)"
      ]
     },
     "execution_count": 89,
     "metadata": {},
     "output_type": "execute_result"
    }
   ],
   "source": [
    "inf_probs_is_example.numpy().shape"
   ]
  },
  {
   "cell_type": "code",
   "execution_count": 90,
   "metadata": {},
   "outputs": [
    {
     "data": {
      "text/plain": [
       "array([[2.2073069e+00, 4.4094222e-03],\n",
       "       [2.7760153e+00, 1.9726483e-03],\n",
       "       [2.1775787e+00, 2.9226730e-03],\n",
       "       ...,\n",
       "       [4.3006535e+00, 1.6442344e-02],\n",
       "       [4.4100680e+00, 1.3590348e-02],\n",
       "       [1.8981055e+00, 9.8069459e-03]], dtype=float32)"
      ]
     },
     "execution_count": 90,
     "metadata": {},
     "output_type": "execute_result"
    }
   ],
   "source": [
    "np.concatenate((inf_probs_sent.numpy(), inf_probs_is_example.numpy()[:,1][:,None]), axis=1)"
   ]
  },
  {
   "cell_type": "code",
   "execution_count": 91,
   "metadata": {},
   "outputs": [],
   "source": [
    "combined_probs = np.concatenate((inf_probs_sent.numpy(), inf_probs_is_example.numpy()[:,1][:,None]), axis=1)"
   ]
  },
  {
   "cell_type": "code",
   "execution_count": 92,
   "metadata": {},
   "outputs": [
    {
     "data": {
      "text/html": [
       "<div>\n",
       "<style scoped>\n",
       "    .dataframe tbody tr th:only-of-type {\n",
       "        vertical-align: middle;\n",
       "    }\n",
       "\n",
       "    .dataframe tbody tr th {\n",
       "        vertical-align: top;\n",
       "    }\n",
       "\n",
       "    .dataframe thead th {\n",
       "        text-align: right;\n",
       "    }\n",
       "</style>\n",
       "<table border=\"1\" class=\"dataframe\">\n",
       "  <thead>\n",
       "    <tr style=\"text-align: right;\">\n",
       "      <th></th>\n",
       "      <th>prob_avg_sentiment</th>\n",
       "      <th>prob_is_example</th>\n",
       "    </tr>\n",
       "  </thead>\n",
       "  <tbody>\n",
       "    <tr>\n",
       "      <th>0</th>\n",
       "      <td>2.207307</td>\n",
       "      <td>0.004409</td>\n",
       "    </tr>\n",
       "    <tr>\n",
       "      <th>1</th>\n",
       "      <td>2.776015</td>\n",
       "      <td>0.001973</td>\n",
       "    </tr>\n",
       "    <tr>\n",
       "      <th>2</th>\n",
       "      <td>2.177579</td>\n",
       "      <td>0.002923</td>\n",
       "    </tr>\n",
       "    <tr>\n",
       "      <th>3</th>\n",
       "      <td>3.152413</td>\n",
       "      <td>0.001574</td>\n",
       "    </tr>\n",
       "    <tr>\n",
       "      <th>4</th>\n",
       "      <td>2.261475</td>\n",
       "      <td>0.005460</td>\n",
       "    </tr>\n",
       "  </tbody>\n",
       "</table>\n",
       "</div>"
      ],
      "text/plain": [
       "   prob_avg_sentiment  prob_is_example\n",
       "0            2.207307         0.004409\n",
       "1            2.776015         0.001973\n",
       "2            2.177579         0.002923\n",
       "3            3.152413         0.001574\n",
       "4            2.261475         0.005460"
      ]
     },
     "execution_count": 92,
     "metadata": {},
     "output_type": "execute_result"
    }
   ],
   "source": [
    "prob_labels = ['prob_' + lbl for lbl in STANDARD_THEME_META_LABELS]\n",
    "probs_df = pd.DataFrame(combined_probs, columns=prob_labels)\n",
    "probs_df.head()"
   ]
  },
  {
   "cell_type": "code",
   "execution_count": 93,
   "metadata": {},
   "outputs": [
    {
     "data": {
      "text/html": [
       "<div>\n",
       "<style scoped>\n",
       "    .dataframe tbody tr th:only-of-type {\n",
       "        vertical-align: middle;\n",
       "    }\n",
       "\n",
       "    .dataframe tbody tr th {\n",
       "        vertical-align: top;\n",
       "    }\n",
       "\n",
       "    .dataframe thead th {\n",
       "        text-align: right;\n",
       "    }\n",
       "</style>\n",
       "<table border=\"1\" class=\"dataframe\">\n",
       "  <thead>\n",
       "    <tr style=\"text-align: right;\">\n",
       "      <th></th>\n",
       "      <th>index</th>\n",
       "      <th>Id</th>\n",
       "      <th>QuestionAnsID</th>\n",
       "      <th>AnswerText</th>\n",
       "      <th>AnswerText_NonEnglish</th>\n",
       "      <th>Language</th>\n",
       "      <th>SurveyID</th>\n",
       "      <th>SurveyTypeID</th>\n",
       "      <th>BenchmarkSurveyType</th>\n",
       "      <th>ClientId</th>\n",
       "      <th>RspID</th>\n",
       "      <th>QuestionCategoryAbbr</th>\n",
       "      <th>QuestionText</th>\n",
       "      <th>QuestionClass</th>\n",
       "      <th>QuestionCategoryID</th>\n",
       "      <th>QuestionReportAbbr</th>\n",
       "      <th>QuestionCategoryLabel</th>\n",
       "      <th>BenchmarkLevel1</th>\n",
       "      <th>BenchmarkLevel2</th>\n",
       "      <th>BenchmarkLevel3</th>\n",
       "      <th>ClientBenchmarkLevel</th>\n",
       "      <th>GroupCode</th>\n",
       "      <th>GroupID</th>\n",
       "      <th>GroupLevel1Code</th>\n",
       "      <th>GroupLevel1Name</th>\n",
       "      <th>GroupLevel2Code</th>\n",
       "      <th>GroupLevel2Name</th>\n",
       "      <th>GroupLevel3Code</th>\n",
       "      <th>GroupLevel3Name</th>\n",
       "      <th>GroupLevel4Code</th>\n",
       "      <th>GroupLevel4Name</th>\n",
       "      <th>GroupLevel5Code</th>\n",
       "      <th>GroupLevel5Name</th>\n",
       "      <th>GroupLevel6Code</th>\n",
       "      <th>GroupLevel6Name</th>\n",
       "      <th>GroupLevel7Code</th>\n",
       "      <th>GroupLevel7Name</th>\n",
       "      <th>GroupLevel8Code</th>\n",
       "      <th>GroupLevel8Name</th>\n",
       "      <th>theme</th>\n",
       "      <th>theme_pred</th>\n",
       "      <th>url_friendly_theme</th>\n",
       "      <th>answer_text</th>\n",
       "      <th>prob_avg_sentiment</th>\n",
       "      <th>prob_is_example</th>\n",
       "    </tr>\n",
       "  </thead>\n",
       "  <tbody>\n",
       "    <tr>\n",
       "      <th>0</th>\n",
       "      <td>8</td>\n",
       "      <td>588956</td>\n",
       "      <td>1877</td>\n",
       "      <td>There are ongoing issues in our department that make for an often awkward and uncomfortable work...</td>\n",
       "      <td>NaN</td>\n",
       "      <td>English</td>\n",
       "      <td>212</td>\n",
       "      <td>9</td>\n",
       "      <td>SAW</td>\n",
       "      <td>UCSD</td>\n",
       "      <td>449462</td>\n",
       "      <td>SAT</td>\n",
       "      <td>If you would like to elaborate on your responses above, or if you have any additional feedback r...</td>\n",
       "      <td>Verbatim</td>\n",
       "      <td>114.0</td>\n",
       "      <td>Comments re Work Environment at UCSD</td>\n",
       "      <td>Satisfaction with UC San Diego</td>\n",
       "      <td>None</td>\n",
       "      <td>None</td>\n",
       "      <td>None</td>\n",
       "      <td>1</td>\n",
       "      <td>11200.0</td>\n",
       "      <td>3472</td>\n",
       "      <td>999999.0</td>\n",
       "      <td>UC San Diego</td>\n",
       "      <td>10000.0</td>\n",
       "      <td>ACADEMIC AFFAIRS</td>\n",
       "      <td>10011.0</td>\n",
       "      <td>COLLEGES</td>\n",
       "      <td>11200.0</td>\n",
       "      <td>ROOSEVELT COLLEGE</td>\n",
       "      <td>NaN</td>\n",
       "      <td>NaN</td>\n",
       "      <td>NaN</td>\n",
       "      <td>NaN</td>\n",
       "      <td>NaN</td>\n",
       "      <td>NaN</td>\n",
       "      <td>NaN</td>\n",
       "      <td>NaN</td>\n",
       "      <td>Adequate Staffing</td>\n",
       "      <td>1</td>\n",
       "      <td>AdequateStaffing</td>\n",
       "      <td>There are ongoing issues in our department that make for an often awkward and uncomfortable work...</td>\n",
       "      <td>2.207307</td>\n",
       "      <td>0.004409</td>\n",
       "    </tr>\n",
       "    <tr>\n",
       "      <th>1</th>\n",
       "      <td>17</td>\n",
       "      <td>590316</td>\n",
       "      <td>9439</td>\n",
       "      <td>I am supportive in creating efficiencies and improving processes, but we continue to shift admin...</td>\n",
       "      <td>NaN</td>\n",
       "      <td>English</td>\n",
       "      <td>212</td>\n",
       "      <td>9</td>\n",
       "      <td>SAW</td>\n",
       "      <td>UCSD</td>\n",
       "      <td>447731</td>\n",
       "      <td>None</td>\n",
       "      <td>The Standing Committee on Service and People Oriented Culture (SC-SPOC) is interested in learnin...</td>\n",
       "      <td>Verbatim</td>\n",
       "      <td>201.0</td>\n",
       "      <td>IdeaWave Comments</td>\n",
       "      <td>Other</td>\n",
       "      <td>None</td>\n",
       "      <td>None</td>\n",
       "      <td>None</td>\n",
       "      <td>1</td>\n",
       "      <td>501.0</td>\n",
       "      <td>3503</td>\n",
       "      <td>999999.0</td>\n",
       "      <td>UC San Diego</td>\n",
       "      <td>800.0</td>\n",
       "      <td>VICE CHANCELLOR CHIEF FINANCIAL OFFICER</td>\n",
       "      <td>829.0</td>\n",
       "      <td>HUMAN RESOURCES</td>\n",
       "      <td>501.0</td>\n",
       "      <td>HR ADMINISTRATION</td>\n",
       "      <td>NaN</td>\n",
       "      <td>NaN</td>\n",
       "      <td>NaN</td>\n",
       "      <td>NaN</td>\n",
       "      <td>NaN</td>\n",
       "      <td>NaN</td>\n",
       "      <td>NaN</td>\n",
       "      <td>NaN</td>\n",
       "      <td>Adequate Staffing</td>\n",
       "      <td>1</td>\n",
       "      <td>AdequateStaffing</td>\n",
       "      <td>I am supportive in creating efficiencies and improving processes, but we continue to shift admin...</td>\n",
       "      <td>2.776015</td>\n",
       "      <td>0.001973</td>\n",
       "    </tr>\n",
       "    <tr>\n",
       "      <th>2</th>\n",
       "      <td>26</td>\n",
       "      <td>588454</td>\n",
       "      <td>1877</td>\n",
       "      <td>Workload is unbalanced and needs to be reassessed. Management constantly expresses that volume i...</td>\n",
       "      <td>NaN</td>\n",
       "      <td>English</td>\n",
       "      <td>212</td>\n",
       "      <td>9</td>\n",
       "      <td>SAW</td>\n",
       "      <td>UCSD</td>\n",
       "      <td>447089</td>\n",
       "      <td>SAT</td>\n",
       "      <td>If you would like to elaborate on your responses above, or if you have any additional feedback r...</td>\n",
       "      <td>Verbatim</td>\n",
       "      <td>114.0</td>\n",
       "      <td>Comments re Work Environment at UCSD</td>\n",
       "      <td>Satisfaction with UC San Diego</td>\n",
       "      <td>None</td>\n",
       "      <td>None</td>\n",
       "      <td>None</td>\n",
       "      <td>1</td>\n",
       "      <td>96023.0</td>\n",
       "      <td>3855</td>\n",
       "      <td>999999.0</td>\n",
       "      <td>UC San Diego</td>\n",
       "      <td>90000.0</td>\n",
       "      <td>VICE CHANCELLOR HEALTH SCIENCES</td>\n",
       "      <td>93000.0</td>\n",
       "      <td>SCHOOL OF MEDICINE</td>\n",
       "      <td>96015.0</td>\n",
       "      <td>VCHS ACADEMIC RESOURCE CENTER (ARC)</td>\n",
       "      <td>96023.0</td>\n",
       "      <td>COMPENSATION &amp; TIMEKEEPING</td>\n",
       "      <td>NaN</td>\n",
       "      <td>NaN</td>\n",
       "      <td>NaN</td>\n",
       "      <td>NaN</td>\n",
       "      <td>NaN</td>\n",
       "      <td>NaN</td>\n",
       "      <td>Adequate Staffing</td>\n",
       "      <td>1</td>\n",
       "      <td>AdequateStaffing</td>\n",
       "      <td>Workload is unbalanced and needs to be reassessed. Management constantly expresses that volume i...</td>\n",
       "      <td>2.177579</td>\n",
       "      <td>0.002923</td>\n",
       "    </tr>\n",
       "    <tr>\n",
       "      <th>3</th>\n",
       "      <td>32</td>\n",
       "      <td>589390</td>\n",
       "      <td>1877</td>\n",
       "      <td>Doctors and supervisors are supportive. However, clinical trials are very busy and sometimes I f...</td>\n",
       "      <td>NaN</td>\n",
       "      <td>English</td>\n",
       "      <td>212</td>\n",
       "      <td>9</td>\n",
       "      <td>SAW</td>\n",
       "      <td>UCSD</td>\n",
       "      <td>451657</td>\n",
       "      <td>SAT</td>\n",
       "      <td>If you would like to elaborate on your responses above, or if you have any additional feedback r...</td>\n",
       "      <td>Verbatim</td>\n",
       "      <td>114.0</td>\n",
       "      <td>Comments re Work Environment at UCSD</td>\n",
       "      <td>Satisfaction with UC San Diego</td>\n",
       "      <td>None</td>\n",
       "      <td>None</td>\n",
       "      <td>None</td>\n",
       "      <td>1</td>\n",
       "      <td>98200.0</td>\n",
       "      <td>3631</td>\n",
       "      <td>999999.0</td>\n",
       "      <td>UC San Diego</td>\n",
       "      <td>90000.0</td>\n",
       "      <td>VICE CHANCELLOR HEALTH SCIENCES</td>\n",
       "      <td>93000.0</td>\n",
       "      <td>SCHOOL OF MEDICINE</td>\n",
       "      <td>98000.0</td>\n",
       "      <td>CANCER CENTER</td>\n",
       "      <td>98200.0</td>\n",
       "      <td>CLINICAL TRIALS OFFICE (CTO)</td>\n",
       "      <td>NaN</td>\n",
       "      <td>NaN</td>\n",
       "      <td>NaN</td>\n",
       "      <td>NaN</td>\n",
       "      <td>NaN</td>\n",
       "      <td>NaN</td>\n",
       "      <td>Adequate Staffing</td>\n",
       "      <td>1</td>\n",
       "      <td>AdequateStaffing</td>\n",
       "      <td>Doctors and supervisors are supportive. However, clinical trials are very busy and sometimes I f...</td>\n",
       "      <td>3.152413</td>\n",
       "      <td>0.001574</td>\n",
       "    </tr>\n",
       "    <tr>\n",
       "      <th>4</th>\n",
       "      <td>48</td>\n",
       "      <td>590606</td>\n",
       "      <td>9439</td>\n",
       "      <td>Evaluate staffing and productivity for the urgent care/walk in clinic as well as the walk in nur...</td>\n",
       "      <td>NaN</td>\n",
       "      <td>English</td>\n",
       "      <td>212</td>\n",
       "      <td>9</td>\n",
       "      <td>SAW</td>\n",
       "      <td>UCSD</td>\n",
       "      <td>450625</td>\n",
       "      <td>None</td>\n",
       "      <td>The Standing Committee on Service and People Oriented Culture (SC-SPOC) is interested in learnin...</td>\n",
       "      <td>Verbatim</td>\n",
       "      <td>201.0</td>\n",
       "      <td>IdeaWave Comments</td>\n",
       "      <td>Other</td>\n",
       "      <td>None</td>\n",
       "      <td>None</td>\n",
       "      <td>None</td>\n",
       "      <td>1</td>\n",
       "      <td>31302.0</td>\n",
       "      <td>3555</td>\n",
       "      <td>999999.0</td>\n",
       "      <td>UC San Diego</td>\n",
       "      <td>90000.0</td>\n",
       "      <td>VICE CHANCELLOR HEALTH SCIENCES</td>\n",
       "      <td>90563.0</td>\n",
       "      <td>STUDENT HEALTH &amp; WELL BEING</td>\n",
       "      <td>31302.0</td>\n",
       "      <td>STUDENT HEALTH SERVICES</td>\n",
       "      <td>NaN</td>\n",
       "      <td>NaN</td>\n",
       "      <td>NaN</td>\n",
       "      <td>NaN</td>\n",
       "      <td>NaN</td>\n",
       "      <td>NaN</td>\n",
       "      <td>NaN</td>\n",
       "      <td>NaN</td>\n",
       "      <td>Adequate Staffing</td>\n",
       "      <td>1</td>\n",
       "      <td>AdequateStaffing</td>\n",
       "      <td>Evaluate staffing and productivity for the urgent care/walk in clinic as well as the walk in nur...</td>\n",
       "      <td>2.261475</td>\n",
       "      <td>0.005460</td>\n",
       "    </tr>\n",
       "  </tbody>\n",
       "</table>\n",
       "</div>"
      ],
      "text/plain": [
       "   index      Id  QuestionAnsID                                                                                           AnswerText AnswerText_NonEnglish Language  SurveyID  SurveyTypeID BenchmarkSurveyType ClientId   RspID QuestionCategoryAbbr                                                                                         QuestionText QuestionClass  QuestionCategoryID                    QuestionReportAbbr           QuestionCategoryLabel BenchmarkLevel1 BenchmarkLevel2 BenchmarkLevel3 ClientBenchmarkLevel  GroupCode GroupID  GroupLevel1Code GroupLevel1Name  GroupLevel2Code                          GroupLevel2Name  GroupLevel3Code              GroupLevel3Name  GroupLevel4Code                      GroupLevel4Name  GroupLevel5Code               GroupLevel5Name  GroupLevel6Code GroupLevel6Name  GroupLevel7Code GroupLevel7Name  GroupLevel8Code GroupLevel8Name              theme  theme_pred url_friendly_theme  \\\n",
       "0      8  588956           1877  There are ongoing issues in our department that make for an often awkward and uncomfortable work...                   NaN  English       212             9                 SAW     UCSD  449462                  SAT  If you would like to elaborate on your responses above, or if you have any additional feedback r...      Verbatim               114.0  Comments re Work Environment at UCSD  Satisfaction with UC San Diego            None            None            None                    1    11200.0    3472         999999.0    UC San Diego          10000.0                         ACADEMIC AFFAIRS          10011.0                     COLLEGES          11200.0                    ROOSEVELT COLLEGE              NaN                           NaN              NaN             NaN              NaN             NaN              NaN             NaN  Adequate Staffing           1   AdequateStaffing   \n",
       "1     17  590316           9439  I am supportive in creating efficiencies and improving processes, but we continue to shift admin...                   NaN  English       212             9                 SAW     UCSD  447731                 None  The Standing Committee on Service and People Oriented Culture (SC-SPOC) is interested in learnin...      Verbatim               201.0                     IdeaWave Comments                           Other            None            None            None                    1      501.0    3503         999999.0    UC San Diego            800.0  VICE CHANCELLOR CHIEF FINANCIAL OFFICER            829.0              HUMAN RESOURCES            501.0                    HR ADMINISTRATION              NaN                           NaN              NaN             NaN              NaN             NaN              NaN             NaN  Adequate Staffing           1   AdequateStaffing   \n",
       "2     26  588454           1877  Workload is unbalanced and needs to be reassessed. Management constantly expresses that volume i...                   NaN  English       212             9                 SAW     UCSD  447089                  SAT  If you would like to elaborate on your responses above, or if you have any additional feedback r...      Verbatim               114.0  Comments re Work Environment at UCSD  Satisfaction with UC San Diego            None            None            None                    1    96023.0    3855         999999.0    UC San Diego          90000.0          VICE CHANCELLOR HEALTH SCIENCES          93000.0           SCHOOL OF MEDICINE          96015.0  VCHS ACADEMIC RESOURCE CENTER (ARC)          96023.0    COMPENSATION & TIMEKEEPING              NaN             NaN              NaN             NaN              NaN             NaN  Adequate Staffing           1   AdequateStaffing   \n",
       "3     32  589390           1877  Doctors and supervisors are supportive. However, clinical trials are very busy and sometimes I f...                   NaN  English       212             9                 SAW     UCSD  451657                  SAT  If you would like to elaborate on your responses above, or if you have any additional feedback r...      Verbatim               114.0  Comments re Work Environment at UCSD  Satisfaction with UC San Diego            None            None            None                    1    98200.0    3631         999999.0    UC San Diego          90000.0          VICE CHANCELLOR HEALTH SCIENCES          93000.0           SCHOOL OF MEDICINE          98000.0                        CANCER CENTER          98200.0  CLINICAL TRIALS OFFICE (CTO)              NaN             NaN              NaN             NaN              NaN             NaN  Adequate Staffing           1   AdequateStaffing   \n",
       "4     48  590606           9439  Evaluate staffing and productivity for the urgent care/walk in clinic as well as the walk in nur...                   NaN  English       212             9                 SAW     UCSD  450625                 None  The Standing Committee on Service and People Oriented Culture (SC-SPOC) is interested in learnin...      Verbatim               201.0                     IdeaWave Comments                           Other            None            None            None                    1    31302.0    3555         999999.0    UC San Diego          90000.0          VICE CHANCELLOR HEALTH SCIENCES          90563.0  STUDENT HEALTH & WELL BEING          31302.0              STUDENT HEALTH SERVICES              NaN                           NaN              NaN             NaN              NaN             NaN              NaN             NaN  Adequate Staffing           1   AdequateStaffing   \n",
       "\n",
       "                                                                                           answer_text  prob_avg_sentiment  prob_is_example  \n",
       "0  There are ongoing issues in our department that make for an often awkward and uncomfortable work...            2.207307         0.004409  \n",
       "1  I am supportive in creating efficiencies and improving processes, but we continue to shift admin...            2.776015         0.001973  \n",
       "2  Workload is unbalanced and needs to be reassessed. Management constantly expresses that volume i...            2.177579         0.002923  \n",
       "3  Doctors and supervisors are supportive. However, clinical trials are very busy and sometimes I f...            3.152413         0.001574  \n",
       "4  Evaluate staffing and productivity for the urgent care/walk in clinic as well as the walk in nur...            2.261475         0.005460  "
      ]
     },
     "execution_count": 93,
     "metadata": {},
     "output_type": "execute_result"
    }
   ],
   "source": [
    "# test_df_filtered.update(probs_df)\n",
    "final_df = pd.concat([inf_df, probs_df], axis=1)\n",
    "final_df.head()"
   ]
  },
  {
   "cell_type": "markdown",
   "metadata": {},
   "source": [
    "Add in predictions based on f05 threshold"
   ]
  },
  {
   "cell_type": "code",
   "execution_count": 94,
   "metadata": {},
   "outputs": [
    {
     "data": {
      "text/plain": [
       "0.30000000000000004"
      ]
     },
     "execution_count": 94,
     "metadata": {},
     "output_type": "execute_result"
    }
   ],
   "source": [
    "threshold_f05"
   ]
  },
  {
   "cell_type": "code",
   "execution_count": 95,
   "metadata": {},
   "outputs": [],
   "source": [
    "for lbl in STANDARD_THEME_META_LABELS[1:]:\n",
    "    final_df[f'pred_{lbl}'] = (final_df[f'prob_{lbl}'] > threshold_f05).astype(np.int64)"
   ]
  },
  {
   "cell_type": "code",
   "execution_count": 96,
   "metadata": {},
   "outputs": [
    {
     "data": {
      "text/html": [
       "<div>\n",
       "<style scoped>\n",
       "    .dataframe tbody tr th:only-of-type {\n",
       "        vertical-align: middle;\n",
       "    }\n",
       "\n",
       "    .dataframe tbody tr th {\n",
       "        vertical-align: top;\n",
       "    }\n",
       "\n",
       "    .dataframe thead th {\n",
       "        text-align: right;\n",
       "    }\n",
       "</style>\n",
       "<table border=\"1\" class=\"dataframe\">\n",
       "  <thead>\n",
       "    <tr style=\"text-align: right;\">\n",
       "      <th></th>\n",
       "      <th>index</th>\n",
       "      <th>Id</th>\n",
       "      <th>QuestionAnsID</th>\n",
       "      <th>AnswerText</th>\n",
       "      <th>AnswerText_NonEnglish</th>\n",
       "      <th>Language</th>\n",
       "      <th>SurveyID</th>\n",
       "      <th>SurveyTypeID</th>\n",
       "      <th>BenchmarkSurveyType</th>\n",
       "      <th>ClientId</th>\n",
       "      <th>RspID</th>\n",
       "      <th>QuestionCategoryAbbr</th>\n",
       "      <th>QuestionText</th>\n",
       "      <th>QuestionClass</th>\n",
       "      <th>QuestionCategoryID</th>\n",
       "      <th>QuestionReportAbbr</th>\n",
       "      <th>QuestionCategoryLabel</th>\n",
       "      <th>BenchmarkLevel1</th>\n",
       "      <th>BenchmarkLevel2</th>\n",
       "      <th>BenchmarkLevel3</th>\n",
       "      <th>ClientBenchmarkLevel</th>\n",
       "      <th>GroupCode</th>\n",
       "      <th>GroupID</th>\n",
       "      <th>GroupLevel1Code</th>\n",
       "      <th>GroupLevel1Name</th>\n",
       "      <th>GroupLevel2Code</th>\n",
       "      <th>GroupLevel2Name</th>\n",
       "      <th>GroupLevel3Code</th>\n",
       "      <th>GroupLevel3Name</th>\n",
       "      <th>GroupLevel4Code</th>\n",
       "      <th>GroupLevel4Name</th>\n",
       "      <th>GroupLevel5Code</th>\n",
       "      <th>GroupLevel5Name</th>\n",
       "      <th>GroupLevel6Code</th>\n",
       "      <th>GroupLevel6Name</th>\n",
       "      <th>GroupLevel7Code</th>\n",
       "      <th>GroupLevel7Name</th>\n",
       "      <th>GroupLevel8Code</th>\n",
       "      <th>GroupLevel8Name</th>\n",
       "      <th>theme</th>\n",
       "      <th>theme_pred</th>\n",
       "      <th>url_friendly_theme</th>\n",
       "      <th>answer_text</th>\n",
       "      <th>prob_avg_sentiment</th>\n",
       "      <th>prob_is_example</th>\n",
       "      <th>pred_is_example</th>\n",
       "    </tr>\n",
       "  </thead>\n",
       "  <tbody>\n",
       "    <tr>\n",
       "      <th>0</th>\n",
       "      <td>8</td>\n",
       "      <td>588956</td>\n",
       "      <td>1877</td>\n",
       "      <td>There are ongoing issues in our department that make for an often awkward and uncomfortable work...</td>\n",
       "      <td>NaN</td>\n",
       "      <td>English</td>\n",
       "      <td>212</td>\n",
       "      <td>9</td>\n",
       "      <td>SAW</td>\n",
       "      <td>UCSD</td>\n",
       "      <td>449462</td>\n",
       "      <td>SAT</td>\n",
       "      <td>If you would like to elaborate on your responses above, or if you have any additional feedback r...</td>\n",
       "      <td>Verbatim</td>\n",
       "      <td>114.0</td>\n",
       "      <td>Comments re Work Environment at UCSD</td>\n",
       "      <td>Satisfaction with UC San Diego</td>\n",
       "      <td>None</td>\n",
       "      <td>None</td>\n",
       "      <td>None</td>\n",
       "      <td>1</td>\n",
       "      <td>11200.0</td>\n",
       "      <td>3472</td>\n",
       "      <td>999999.0</td>\n",
       "      <td>UC San Diego</td>\n",
       "      <td>10000.0</td>\n",
       "      <td>ACADEMIC AFFAIRS</td>\n",
       "      <td>10011.0</td>\n",
       "      <td>COLLEGES</td>\n",
       "      <td>11200.0</td>\n",
       "      <td>ROOSEVELT COLLEGE</td>\n",
       "      <td>NaN</td>\n",
       "      <td>NaN</td>\n",
       "      <td>NaN</td>\n",
       "      <td>NaN</td>\n",
       "      <td>NaN</td>\n",
       "      <td>NaN</td>\n",
       "      <td>NaN</td>\n",
       "      <td>NaN</td>\n",
       "      <td>Adequate Staffing</td>\n",
       "      <td>1</td>\n",
       "      <td>AdequateStaffing</td>\n",
       "      <td>There are ongoing issues in our department that make for an often awkward and uncomfortable work...</td>\n",
       "      <td>2.207307</td>\n",
       "      <td>0.004409</td>\n",
       "      <td>0</td>\n",
       "    </tr>\n",
       "    <tr>\n",
       "      <th>1</th>\n",
       "      <td>17</td>\n",
       "      <td>590316</td>\n",
       "      <td>9439</td>\n",
       "      <td>I am supportive in creating efficiencies and improving processes, but we continue to shift admin...</td>\n",
       "      <td>NaN</td>\n",
       "      <td>English</td>\n",
       "      <td>212</td>\n",
       "      <td>9</td>\n",
       "      <td>SAW</td>\n",
       "      <td>UCSD</td>\n",
       "      <td>447731</td>\n",
       "      <td>None</td>\n",
       "      <td>The Standing Committee on Service and People Oriented Culture (SC-SPOC) is interested in learnin...</td>\n",
       "      <td>Verbatim</td>\n",
       "      <td>201.0</td>\n",
       "      <td>IdeaWave Comments</td>\n",
       "      <td>Other</td>\n",
       "      <td>None</td>\n",
       "      <td>None</td>\n",
       "      <td>None</td>\n",
       "      <td>1</td>\n",
       "      <td>501.0</td>\n",
       "      <td>3503</td>\n",
       "      <td>999999.0</td>\n",
       "      <td>UC San Diego</td>\n",
       "      <td>800.0</td>\n",
       "      <td>VICE CHANCELLOR CHIEF FINANCIAL OFFICER</td>\n",
       "      <td>829.0</td>\n",
       "      <td>HUMAN RESOURCES</td>\n",
       "      <td>501.0</td>\n",
       "      <td>HR ADMINISTRATION</td>\n",
       "      <td>NaN</td>\n",
       "      <td>NaN</td>\n",
       "      <td>NaN</td>\n",
       "      <td>NaN</td>\n",
       "      <td>NaN</td>\n",
       "      <td>NaN</td>\n",
       "      <td>NaN</td>\n",
       "      <td>NaN</td>\n",
       "      <td>Adequate Staffing</td>\n",
       "      <td>1</td>\n",
       "      <td>AdequateStaffing</td>\n",
       "      <td>I am supportive in creating efficiencies and improving processes, but we continue to shift admin...</td>\n",
       "      <td>2.776015</td>\n",
       "      <td>0.001973</td>\n",
       "      <td>0</td>\n",
       "    </tr>\n",
       "    <tr>\n",
       "      <th>2</th>\n",
       "      <td>26</td>\n",
       "      <td>588454</td>\n",
       "      <td>1877</td>\n",
       "      <td>Workload is unbalanced and needs to be reassessed. Management constantly expresses that volume i...</td>\n",
       "      <td>NaN</td>\n",
       "      <td>English</td>\n",
       "      <td>212</td>\n",
       "      <td>9</td>\n",
       "      <td>SAW</td>\n",
       "      <td>UCSD</td>\n",
       "      <td>447089</td>\n",
       "      <td>SAT</td>\n",
       "      <td>If you would like to elaborate on your responses above, or if you have any additional feedback r...</td>\n",
       "      <td>Verbatim</td>\n",
       "      <td>114.0</td>\n",
       "      <td>Comments re Work Environment at UCSD</td>\n",
       "      <td>Satisfaction with UC San Diego</td>\n",
       "      <td>None</td>\n",
       "      <td>None</td>\n",
       "      <td>None</td>\n",
       "      <td>1</td>\n",
       "      <td>96023.0</td>\n",
       "      <td>3855</td>\n",
       "      <td>999999.0</td>\n",
       "      <td>UC San Diego</td>\n",
       "      <td>90000.0</td>\n",
       "      <td>VICE CHANCELLOR HEALTH SCIENCES</td>\n",
       "      <td>93000.0</td>\n",
       "      <td>SCHOOL OF MEDICINE</td>\n",
       "      <td>96015.0</td>\n",
       "      <td>VCHS ACADEMIC RESOURCE CENTER (ARC)</td>\n",
       "      <td>96023.0</td>\n",
       "      <td>COMPENSATION &amp; TIMEKEEPING</td>\n",
       "      <td>NaN</td>\n",
       "      <td>NaN</td>\n",
       "      <td>NaN</td>\n",
       "      <td>NaN</td>\n",
       "      <td>NaN</td>\n",
       "      <td>NaN</td>\n",
       "      <td>Adequate Staffing</td>\n",
       "      <td>1</td>\n",
       "      <td>AdequateStaffing</td>\n",
       "      <td>Workload is unbalanced and needs to be reassessed. Management constantly expresses that volume i...</td>\n",
       "      <td>2.177579</td>\n",
       "      <td>0.002923</td>\n",
       "      <td>0</td>\n",
       "    </tr>\n",
       "    <tr>\n",
       "      <th>3</th>\n",
       "      <td>32</td>\n",
       "      <td>589390</td>\n",
       "      <td>1877</td>\n",
       "      <td>Doctors and supervisors are supportive. However, clinical trials are very busy and sometimes I f...</td>\n",
       "      <td>NaN</td>\n",
       "      <td>English</td>\n",
       "      <td>212</td>\n",
       "      <td>9</td>\n",
       "      <td>SAW</td>\n",
       "      <td>UCSD</td>\n",
       "      <td>451657</td>\n",
       "      <td>SAT</td>\n",
       "      <td>If you would like to elaborate on your responses above, or if you have any additional feedback r...</td>\n",
       "      <td>Verbatim</td>\n",
       "      <td>114.0</td>\n",
       "      <td>Comments re Work Environment at UCSD</td>\n",
       "      <td>Satisfaction with UC San Diego</td>\n",
       "      <td>None</td>\n",
       "      <td>None</td>\n",
       "      <td>None</td>\n",
       "      <td>1</td>\n",
       "      <td>98200.0</td>\n",
       "      <td>3631</td>\n",
       "      <td>999999.0</td>\n",
       "      <td>UC San Diego</td>\n",
       "      <td>90000.0</td>\n",
       "      <td>VICE CHANCELLOR HEALTH SCIENCES</td>\n",
       "      <td>93000.0</td>\n",
       "      <td>SCHOOL OF MEDICINE</td>\n",
       "      <td>98000.0</td>\n",
       "      <td>CANCER CENTER</td>\n",
       "      <td>98200.0</td>\n",
       "      <td>CLINICAL TRIALS OFFICE (CTO)</td>\n",
       "      <td>NaN</td>\n",
       "      <td>NaN</td>\n",
       "      <td>NaN</td>\n",
       "      <td>NaN</td>\n",
       "      <td>NaN</td>\n",
       "      <td>NaN</td>\n",
       "      <td>Adequate Staffing</td>\n",
       "      <td>1</td>\n",
       "      <td>AdequateStaffing</td>\n",
       "      <td>Doctors and supervisors are supportive. However, clinical trials are very busy and sometimes I f...</td>\n",
       "      <td>3.152413</td>\n",
       "      <td>0.001574</td>\n",
       "      <td>0</td>\n",
       "    </tr>\n",
       "    <tr>\n",
       "      <th>4</th>\n",
       "      <td>48</td>\n",
       "      <td>590606</td>\n",
       "      <td>9439</td>\n",
       "      <td>Evaluate staffing and productivity for the urgent care/walk in clinic as well as the walk in nur...</td>\n",
       "      <td>NaN</td>\n",
       "      <td>English</td>\n",
       "      <td>212</td>\n",
       "      <td>9</td>\n",
       "      <td>SAW</td>\n",
       "      <td>UCSD</td>\n",
       "      <td>450625</td>\n",
       "      <td>None</td>\n",
       "      <td>The Standing Committee on Service and People Oriented Culture (SC-SPOC) is interested in learnin...</td>\n",
       "      <td>Verbatim</td>\n",
       "      <td>201.0</td>\n",
       "      <td>IdeaWave Comments</td>\n",
       "      <td>Other</td>\n",
       "      <td>None</td>\n",
       "      <td>None</td>\n",
       "      <td>None</td>\n",
       "      <td>1</td>\n",
       "      <td>31302.0</td>\n",
       "      <td>3555</td>\n",
       "      <td>999999.0</td>\n",
       "      <td>UC San Diego</td>\n",
       "      <td>90000.0</td>\n",
       "      <td>VICE CHANCELLOR HEALTH SCIENCES</td>\n",
       "      <td>90563.0</td>\n",
       "      <td>STUDENT HEALTH &amp; WELL BEING</td>\n",
       "      <td>31302.0</td>\n",
       "      <td>STUDENT HEALTH SERVICES</td>\n",
       "      <td>NaN</td>\n",
       "      <td>NaN</td>\n",
       "      <td>NaN</td>\n",
       "      <td>NaN</td>\n",
       "      <td>NaN</td>\n",
       "      <td>NaN</td>\n",
       "      <td>NaN</td>\n",
       "      <td>NaN</td>\n",
       "      <td>Adequate Staffing</td>\n",
       "      <td>1</td>\n",
       "      <td>AdequateStaffing</td>\n",
       "      <td>Evaluate staffing and productivity for the urgent care/walk in clinic as well as the walk in nur...</td>\n",
       "      <td>2.261475</td>\n",
       "      <td>0.005460</td>\n",
       "      <td>0</td>\n",
       "    </tr>\n",
       "  </tbody>\n",
       "</table>\n",
       "</div>"
      ],
      "text/plain": [
       "   index      Id  QuestionAnsID                                                                                           AnswerText AnswerText_NonEnglish Language  SurveyID  SurveyTypeID BenchmarkSurveyType ClientId   RspID QuestionCategoryAbbr                                                                                         QuestionText QuestionClass  QuestionCategoryID                    QuestionReportAbbr           QuestionCategoryLabel BenchmarkLevel1 BenchmarkLevel2 BenchmarkLevel3 ClientBenchmarkLevel  GroupCode GroupID  GroupLevel1Code GroupLevel1Name  GroupLevel2Code                          GroupLevel2Name  GroupLevel3Code              GroupLevel3Name  GroupLevel4Code                      GroupLevel4Name  GroupLevel5Code               GroupLevel5Name  GroupLevel6Code GroupLevel6Name  GroupLevel7Code GroupLevel7Name  GroupLevel8Code GroupLevel8Name              theme  theme_pred url_friendly_theme  \\\n",
       "0      8  588956           1877  There are ongoing issues in our department that make for an often awkward and uncomfortable work...                   NaN  English       212             9                 SAW     UCSD  449462                  SAT  If you would like to elaborate on your responses above, or if you have any additional feedback r...      Verbatim               114.0  Comments re Work Environment at UCSD  Satisfaction with UC San Diego            None            None            None                    1    11200.0    3472         999999.0    UC San Diego          10000.0                         ACADEMIC AFFAIRS          10011.0                     COLLEGES          11200.0                    ROOSEVELT COLLEGE              NaN                           NaN              NaN             NaN              NaN             NaN              NaN             NaN  Adequate Staffing           1   AdequateStaffing   \n",
       "1     17  590316           9439  I am supportive in creating efficiencies and improving processes, but we continue to shift admin...                   NaN  English       212             9                 SAW     UCSD  447731                 None  The Standing Committee on Service and People Oriented Culture (SC-SPOC) is interested in learnin...      Verbatim               201.0                     IdeaWave Comments                           Other            None            None            None                    1      501.0    3503         999999.0    UC San Diego            800.0  VICE CHANCELLOR CHIEF FINANCIAL OFFICER            829.0              HUMAN RESOURCES            501.0                    HR ADMINISTRATION              NaN                           NaN              NaN             NaN              NaN             NaN              NaN             NaN  Adequate Staffing           1   AdequateStaffing   \n",
       "2     26  588454           1877  Workload is unbalanced and needs to be reassessed. Management constantly expresses that volume i...                   NaN  English       212             9                 SAW     UCSD  447089                  SAT  If you would like to elaborate on your responses above, or if you have any additional feedback r...      Verbatim               114.0  Comments re Work Environment at UCSD  Satisfaction with UC San Diego            None            None            None                    1    96023.0    3855         999999.0    UC San Diego          90000.0          VICE CHANCELLOR HEALTH SCIENCES          93000.0           SCHOOL OF MEDICINE          96015.0  VCHS ACADEMIC RESOURCE CENTER (ARC)          96023.0    COMPENSATION & TIMEKEEPING              NaN             NaN              NaN             NaN              NaN             NaN  Adequate Staffing           1   AdequateStaffing   \n",
       "3     32  589390           1877  Doctors and supervisors are supportive. However, clinical trials are very busy and sometimes I f...                   NaN  English       212             9                 SAW     UCSD  451657                  SAT  If you would like to elaborate on your responses above, or if you have any additional feedback r...      Verbatim               114.0  Comments re Work Environment at UCSD  Satisfaction with UC San Diego            None            None            None                    1    98200.0    3631         999999.0    UC San Diego          90000.0          VICE CHANCELLOR HEALTH SCIENCES          93000.0           SCHOOL OF MEDICINE          98000.0                        CANCER CENTER          98200.0  CLINICAL TRIALS OFFICE (CTO)              NaN             NaN              NaN             NaN              NaN             NaN  Adequate Staffing           1   AdequateStaffing   \n",
       "4     48  590606           9439  Evaluate staffing and productivity for the urgent care/walk in clinic as well as the walk in nur...                   NaN  English       212             9                 SAW     UCSD  450625                 None  The Standing Committee on Service and People Oriented Culture (SC-SPOC) is interested in learnin...      Verbatim               201.0                     IdeaWave Comments                           Other            None            None            None                    1    31302.0    3555         999999.0    UC San Diego          90000.0          VICE CHANCELLOR HEALTH SCIENCES          90563.0  STUDENT HEALTH & WELL BEING          31302.0              STUDENT HEALTH SERVICES              NaN                           NaN              NaN             NaN              NaN             NaN              NaN             NaN  Adequate Staffing           1   AdequateStaffing   \n",
       "\n",
       "                                                                                           answer_text  prob_avg_sentiment  prob_is_example  pred_is_example  \n",
       "0  There are ongoing issues in our department that make for an often awkward and uncomfortable work...            2.207307         0.004409                0  \n",
       "1  I am supportive in creating efficiencies and improving processes, but we continue to shift admin...            2.776015         0.001973                0  \n",
       "2  Workload is unbalanced and needs to be reassessed. Management constantly expresses that volume i...            2.177579         0.002923                0  \n",
       "3  Doctors and supervisors are supportive. However, clinical trials are very busy and sometimes I f...            3.152413         0.001574                0  \n",
       "4  Evaluate staffing and productivity for the urgent care/walk in clinic as well as the walk in nur...            2.261475         0.005460                0  "
      ]
     },
     "execution_count": 96,
     "metadata": {},
     "output_type": "execute_result"
    }
   ],
   "source": [
    "final_df.head()"
   ]
  },
  {
   "cell_type": "markdown",
   "metadata": {},
   "source": [
    "## Cleanup"
   ]
  },
  {
   "cell_type": "code",
   "execution_count": 15,
   "metadata": {},
   "outputs": [
    {
     "name": "stdout",
     "output_type": "stream",
     "text": [
      "Converted 00_utils.ipynb.\n",
      "Converted 02a_verbatims-core.ipynb.\n",
      "Converted 02b_verbatims-sentiment.ipynb.\n",
      "Converted 02c_verbatims-standard-themes-saw-training.ipynb.\n",
      "Converted 02d_verbatims-standard-themes-css-training.ipynb.\n",
      "Converted 02e_verbatims-standard-themes-meta-training.ipynb.\n",
      "Converted 99_verbatims-inference.ipynb.\n",
      "Converted index.ipynb.\n"
     ]
    }
   ],
   "source": [
    "#hide\n",
    "from nbdev.export import notebook2script\n",
    "notebook2script()"
   ]
  },
  {
   "cell_type": "markdown",
   "metadata": {},
   "source": [
    "## Playground"
   ]
  },
  {
   "cell_type": "code",
   "execution_count": 98,
   "metadata": {},
   "outputs": [
    {
     "name": "stdout",
     "output_type": "stream",
     "text": [
      "=== text ===\n",
      "There are ongoing issues in our department that make for an often awkward and uncomfortable work environment. It takes more time and energy to dance around the egos, history, and bureaucracy of the situation, which can be exhausting and lead to dissatisfaction in the work place. \\r\\n\\r\\nThere are a number of people who do not seem to being pulling their weight in work load. It is frustrating to in strong effort regularly, while others coast by without doing much (responding to emails, following through on tasks, doing their job) or otherwise putting their work on other people to do while they don't do anything. This gets me, for one, very frustrated with my workplace.\n",
      "\n",
      "=== preds ===\n",
      "[2.2073069  0.00440942]\n"
     ]
    }
   ],
   "source": [
    "verbatim_id = 588956\n",
    "\n",
    "pred_lbls = [ f'prob_{lbl}' for lbl in STANDARD_THEME_META_LABELS ]\n",
    "prob_lbls = [ f'prob_{lbl}' for lbl in STANDARD_THEME_META_LABELS ]\n",
    "\n",
    "print(\"=== text ===\")\n",
    "print(preds_df.AnswerText[preds_df.Id == verbatim_id].values[0])\n",
    "print('\\n=== preds ===')\n",
    "preds = preds_df[pred_lbls][preds_df.Id == verbatim_id].values[0]\n",
    "print(preds)"
   ]
  },
  {
   "cell_type": "code",
   "execution_count": 99,
   "metadata": {},
   "outputs": [
    {
     "data": {
      "text/html": [
       "<div>\n",
       "<style scoped>\n",
       "    .dataframe tbody tr th:only-of-type {\n",
       "        vertical-align: middle;\n",
       "    }\n",
       "\n",
       "    .dataframe tbody tr th {\n",
       "        vertical-align: top;\n",
       "    }\n",
       "\n",
       "    .dataframe thead th {\n",
       "        text-align: right;\n",
       "    }\n",
       "</style>\n",
       "<table border=\"1\" class=\"dataframe\">\n",
       "  <thead>\n",
       "    <tr style=\"text-align: right;\">\n",
       "      <th></th>\n",
       "      <th>index</th>\n",
       "      <th>Id</th>\n",
       "      <th>QuestionAnsID</th>\n",
       "      <th>AnswerText</th>\n",
       "      <th>AnswerText_NonEnglish</th>\n",
       "      <th>Language</th>\n",
       "      <th>SurveyID</th>\n",
       "      <th>SurveyTypeID</th>\n",
       "      <th>BenchmarkSurveyType</th>\n",
       "      <th>ClientId</th>\n",
       "      <th>RspID</th>\n",
       "      <th>QuestionCategoryAbbr</th>\n",
       "      <th>QuestionText</th>\n",
       "      <th>QuestionClass</th>\n",
       "      <th>QuestionCategoryID</th>\n",
       "      <th>QuestionReportAbbr</th>\n",
       "      <th>QuestionCategoryLabel</th>\n",
       "      <th>BenchmarkLevel1</th>\n",
       "      <th>BenchmarkLevel2</th>\n",
       "      <th>BenchmarkLevel3</th>\n",
       "      <th>ClientBenchmarkLevel</th>\n",
       "      <th>GroupCode</th>\n",
       "      <th>GroupID</th>\n",
       "      <th>GroupLevel1Code</th>\n",
       "      <th>GroupLevel1Name</th>\n",
       "      <th>GroupLevel2Code</th>\n",
       "      <th>GroupLevel2Name</th>\n",
       "      <th>GroupLevel3Code</th>\n",
       "      <th>GroupLevel3Name</th>\n",
       "      <th>GroupLevel4Code</th>\n",
       "      <th>GroupLevel4Name</th>\n",
       "      <th>GroupLevel5Code</th>\n",
       "      <th>GroupLevel5Name</th>\n",
       "      <th>GroupLevel6Code</th>\n",
       "      <th>GroupLevel6Name</th>\n",
       "      <th>GroupLevel7Code</th>\n",
       "      <th>GroupLevel7Name</th>\n",
       "      <th>GroupLevel8Code</th>\n",
       "      <th>GroupLevel8Name</th>\n",
       "      <th>theme</th>\n",
       "      <th>theme_pred</th>\n",
       "      <th>url_friendly_theme</th>\n",
       "      <th>answer_text</th>\n",
       "      <th>prob_avg_sentiment</th>\n",
       "      <th>prob_is_example</th>\n",
       "      <th>pred_is_example</th>\n",
       "      <th>valid_loss</th>\n",
       "      <th>sentiment_mse</th>\n",
       "      <th>sentiment_mae</th>\n",
       "      <th>sentiment_rmse</th>\n",
       "      <th>is_example_f05_threshold</th>\n",
       "      <th>is_example_f05_score</th>\n",
       "      <th>is_example_f1_threshold</th>\n",
       "      <th>is_example_f1_score</th>\n",
       "      <th>is_example_f2_threshold</th>\n",
       "      <th>is_example_f2_score</th>\n",
       "    </tr>\n",
       "  </thead>\n",
       "  <tbody>\n",
       "  </tbody>\n",
       "</table>\n",
       "</div>"
      ],
      "text/plain": [
       "Empty DataFrame\n",
       "Columns: [index, Id, QuestionAnsID, AnswerText, AnswerText_NonEnglish, Language, SurveyID, SurveyTypeID, BenchmarkSurveyType, ClientId, RspID, QuestionCategoryAbbr, QuestionText, QuestionClass, QuestionCategoryID, QuestionReportAbbr, QuestionCategoryLabel, BenchmarkLevel1, BenchmarkLevel2, BenchmarkLevel3, ClientBenchmarkLevel, GroupCode, GroupID, GroupLevel1Code, GroupLevel1Name, GroupLevel2Code, GroupLevel2Name, GroupLevel3Code, GroupLevel3Name, GroupLevel4Code, GroupLevel4Name, GroupLevel5Code, GroupLevel5Name, GroupLevel6Code, GroupLevel6Name, GroupLevel7Code, GroupLevel7Name, GroupLevel8Code, GroupLevel8Name, theme, theme_pred, url_friendly_theme, answer_text, prob_avg_sentiment, prob_is_example, pred_is_example, valid_loss, sentiment_mse, sentiment_mae, sentiment_rmse, is_example_f05_threshold, is_example_f05_score, is_example_f1_threshold, is_example_f1_score, is_example_f2_threshold, is_example_f2_score]\n",
       "Index: []"
      ]
     },
     "execution_count": 99,
     "metadata": {},
     "output_type": "execute_result"
    }
   ],
   "source": [
    "preds_df[preds_df.pred_is_example == 1].head()"
   ]
  },
  {
   "cell_type": "code",
   "execution_count": 100,
   "metadata": {},
   "outputs": [
    {
     "data": {
      "text/plain": [
       "0.07586764"
      ]
     },
     "execution_count": 100,
     "metadata": {},
     "output_type": "execute_result"
    }
   ],
   "source": [
    "preds_df.prob_is_example.max()"
   ]
  },
  {
   "cell_type": "code",
   "execution_count": 101,
   "metadata": {},
   "outputs": [
    {
     "data": {
      "text/plain": [
       "(0.30000000000000004, 0.30000000000000004, 0.30000000000000004)"
      ]
     },
     "execution_count": 101,
     "metadata": {},
     "output_type": "execute_result"
    }
   ],
   "source": [
    "threshold_f05, threshold_f1, threshold_f2"
   ]
  },
  {
   "cell_type": "code",
   "execution_count": null,
   "metadata": {},
   "outputs": [],
   "source": []
  }
 ],
 "metadata": {
  "kernelspec": {
   "display_name": "Python 3",
   "language": "python",
   "name": "python3"
  },
  "language_info": {
   "codemirror_mode": {
    "name": "ipython",
    "version": 3
   },
   "file_extension": ".py",
   "mimetype": "text/x-python",
   "name": "python",
   "nbconvert_exporter": "python",
   "pygments_lexer": "ipython3",
   "version": "3.7.6"
  },
  "varInspector": {
   "cols": {
    "lenName": 16,
    "lenType": 16,
    "lenVar": 40
   },
   "kernels_config": {
    "python": {
     "delete_cmd_postfix": "",
     "delete_cmd_prefix": "del ",
     "library": "var_list.py",
     "varRefreshCmd": "print(var_dic_list())"
    },
    "r": {
     "delete_cmd_postfix": ") ",
     "delete_cmd_prefix": "rm(",
     "library": "var_list.r",
     "varRefreshCmd": "cat(var_dic_list()) "
    }
   },
   "position": {
    "height": "468px",
    "left": "1307px",
    "right": "20px",
    "top": "120px",
    "width": "353px"
   },
   "types_to_exclude": [
    "module",
    "function",
    "builtin_function_or_method",
    "instance",
    "_Feature"
   ],
   "window_display": false
  }
 },
 "nbformat": 4,
 "nbformat_minor": 2
}
