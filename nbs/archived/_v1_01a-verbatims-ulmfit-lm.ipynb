{
 "cells": [
  {
   "cell_type": "markdown",
   "metadata": {},
   "source": [
    "# Tritonlytics Verbatims - ULMFiT Language Model\n",
    "\n",
    "Experiments related to building a LM for survey comments captured in the Tritonlytics survey delivery system"
   ]
  },
  {
   "cell_type": "code",
   "execution_count": 1,
   "metadata": {},
   "outputs": [],
   "source": [
    "%reload_ext autoreload\n",
    "%autoreload 2\n",
    "%matplotlib inline\n",
    "\n",
    "import sys\n",
    "sys.path.append('..')"
   ]
  },
  {
   "cell_type": "code",
   "execution_count": 2,
   "metadata": {},
   "outputs": [],
   "source": [
    "import datetime, pdb\n",
    "\n",
    "from fastai.text import *   # Quick accesss to NLP functionality\n",
    "\n",
    "from tritonlytics import Metrics as metrics_util, DataGeneration as dg_util, PandasUtil as pd_util\n",
    "from tritonlytics.callbacks import RocAucEvaluation\n",
    "\n",
    "import dill as pickle\n",
    "\n",
    "import spacy\n",
    "spacy_en = spacy.load('en')\n",
    "spacy_es = spacy.load('es')\n",
    "\n",
    "# pandas and plotting config\n",
    "import seaborn as sns\n",
    "sns.set_style('whitegrid')\n",
    "\n",
    "plt.rcParams['figure.figsize'] = (9,6)\n",
    "\n",
    "pd.set_option('display.max_rows', 500)\n",
    "pd.set_option('display.max_columns', 500)\n",
    "pd.set_option('display.width', 1000)\n",
    "pd.set_option('display.max_colwidth', 100)"
   ]
  },
  {
   "cell_type": "code",
   "execution_count": 3,
   "metadata": {},
   "outputs": [
    {
     "name": "stdout",
     "output_type": "stream",
     "text": [
      "fastai version: 1.0.57\n"
     ]
    }
   ],
   "source": [
    "print(f'fastai version: {__version__}')"
   ]
  },
  {
   "cell_type": "code",
   "execution_count": 4,
   "metadata": {},
   "outputs": [
    {
     "name": "stdout",
     "output_type": "stream",
     "text": [
      "Using GPU #1\n"
     ]
    }
   ],
   "source": [
    "torch.cuda.set_device(1)\n",
    "print(f'Using GPU #{torch.cuda.current_device()}')"
   ]
  },
  {
   "cell_type": "code",
   "execution_count": null,
   "metadata": {},
   "outputs": [],
   "source": []
  },
  {
   "cell_type": "code",
   "execution_count": 5,
   "metadata": {},
   "outputs": [],
   "source": [
    "def convert_to_snakecase(name):\n",
    "    s1 = re.sub('(.)([A-Z][a-z]+)', r'\\1_\\2', name)\n",
    "    return re.sub('([a-z0-9])([A-Z])', r'\\1_\\2', s1).lower().replace('__', '_') "
   ]
  },
  {
   "cell_type": "markdown",
   "metadata": {},
   "source": [
    "## Configuration"
   ]
  },
  {
   "cell_type": "code",
   "execution_count": 6,
   "metadata": {},
   "outputs": [],
   "source": [
    "# various default, LM, and classification paths\n",
    "PATH = Path('../data')\n",
    "\n",
    "LM_PATH = PATH/'lm'\n",
    "CLS_PATH = PATH/'classification'\n",
    "LM_LOGS_PATH = LM_PATH/'logs'\n",
    "\n",
    "(LM_LOGS_PATH).mkdir(exist_ok=True)\n",
    "(LM_PATH/'models').mkdir(parents=True, exist_ok=True)\n",
    "(LM_PATH/'tmp').mkdir(exist_ok=True)"
   ]
  },
  {
   "cell_type": "code",
   "execution_count": 7,
   "metadata": {},
   "outputs": [],
   "source": [
    "# basic columns\n",
    "lm_dtypes = { \n",
    "    'Id': int, 'QuestionAnsID': int, 'AnswerText': str, 'AnswerText_NonEnglish': str, 'Language': str,\n",
    "    \n",
    "    'SurveyID': int, 'SurveyTypeID': int, 'BenchmarkSurveyType': str, 'ClientId': str,'RspID': int,\n",
    "    \n",
    "    'QuestionCategoryAbbr': str, 'QuestionText': str, 'QuestionClass': str, \n",
    "    \n",
    "    'QuestionCategoryID': float, 'QuestionReportAbbr': str, 'QuestionCategoryLabel': str, \n",
    "    'BenchmarkLevel1': str, 'BenchmarkLevel2': str, 'BenchmarkLevel3': str, 'ClientBenchmarkLevel': str,\n",
    "    \n",
    "    'GroupCode': float, 'GroupID': str, \n",
    "    'GroupLevel1Code': float, 'GroupLevel1Name': str,\n",
    "    'GroupLevel2Code': float, 'GroupLevel2Name': str,\n",
    "    'GroupLevel3Code': float, 'GroupLevel3Name': str,\n",
    "    'GroupLevel4Code': float, 'GroupLevel4Name': str,\n",
    "    'GroupLevel5Code': float, 'GroupLevel5Name': str,\n",
    "    'GroupLevel6Code': float, 'GroupLevel6Name': str,\n",
    "    'GroupLevel7Code': float, 'GroupLevel7Name': str,\n",
    "    'GroupLevel8Code': float, 'GroupLevel8Name': str,\n",
    "}"
   ]
  },
  {
   "cell_type": "markdown",
   "metadata": {},
   "source": [
    "## Utility methods"
   ]
  },
  {
   "cell_type": "code",
   "execution_count": 8,
   "metadata": {
    "code_folding": [
     1
    ]
   },
   "outputs": [],
   "source": [
    "# https://drive.google.com/file/d/0B1yuv8YaUVlZZ1RzMFJmc1ZsQmM/view : apostrophe lookup dict\n",
    "appos_regex_repl = {\n",
    "    r\"\\baren't\\b\" : \"are not\",\n",
    "    r\"\\bcan't\\b\" : \"cannot\",\n",
    "    r\"\\bcouldn't\\b\" : \"could not\",\n",
    "    r\"\\bdidn't\\b\" : \"did not\",\n",
    "    r\"\\bdoesn't\\b\" : \"does not\",\n",
    "    r\"\\bdon't\\b\" : \"do not\",\n",
    "    r\"\\bhadn't\\b\" : \"had not\",\n",
    "    r\"\\bhasn't\\b\" : \"has not\",\n",
    "    r\"\\bhaven't\\b\" : \"have not\",\n",
    "    r\"\\bhe'd\\b\" : \"he would\",\n",
    "    r\"\\bhe'll\\b\" : \"he will\",\n",
    "    r\"\\bhe's\\b\" : \"he is\",\n",
    "    r\"\\bi'd\\b\" : \"I would\",\n",
    "    r\"\\bi'd\\b\" : \"I had\",\n",
    "    r\"\\bi'll\\b\" : \"I will\",\n",
    "    r\"\\bi'm\\b\" : \"I am\",\n",
    "    r\"\\bisn't\\b\" : \"is not\",\n",
    "    r\"\\bits\\b\" : \"it is\",\n",
    "    r\"\\bit's\\b\" : \"it is\",\n",
    "    r\"\\bit'll\\b\" : \"it will\",\n",
    "    r\"\\bi've\\b\" : \"I have\",\n",
    "    r\"\\blet's\\b\" : \"let us\",\n",
    "    r\"\\bmightn't\\b\" : \"might not\",\n",
    "    r\"\\bmustn't\\b\" : \"must not\",\n",
    "    r\"\\bshan't\\b\" : \"shall not\",\n",
    "    r\"\\bshe'd\\b\" : \"she would\",\n",
    "    r\"\\bshe'll\\b\" : \"she will\",\n",
    "    r\"\\bshe's\\b\" : \"she is\",\n",
    "    r\"\\bshouldn't\\b\" : \"should not\",\n",
    "    r\"\\bthat's\\b\" : \"that is\",\n",
    "    r\"\\bthere's\\b\" : \"there is\",\n",
    "    r\"\\bthey'd\\b\" : \"they would\",\n",
    "    r\"\\bthey'll\\b\" : \"they will\",\n",
    "    r\"\\bthey're\\b\" : \"they are\",\n",
    "    r\"\\bthey've\\b\" : \"they have\",\n",
    "    r\"\\bwe'd\\b\" : \"we would\",\n",
    "    r\"\\bwe're\\b\" : \"we are\",\n",
    "    r\"\\bweren't\\b\" : \"were not\",\n",
    "    r\"\\bwe've\\b\" : \"we have\",\n",
    "    r\"\\bwhat'll\\b\" : \"what will\",\n",
    "    r\"\\bwhat're\\b\" : \"what are\",\n",
    "    r\"\\bwhat's\\b\" : \"what is\",\n",
    "    r\"\\bwhat've\\b\" : \"what have\",\n",
    "    r\"\\bwhere's\\b\" : \"where is\",\n",
    "    r\"\\bwho'd\\b\" : \"who would\",\n",
    "    r\"\\bwho'll\\b\" : \"who will\",\n",
    "    r\"\\bwho're\\b\" : \"who are\",\n",
    "    r\"\\bwho's\\b\" : \"who is\",\n",
    "    r\"\\bwho've\\b\" : \"who have\",\n",
    "    r\"\\bwon't\\b\" : \"will not\",\n",
    "    r\"\\bwouldn't\\b\" : \"would not\",\n",
    "    r\"\\byou'd\\b\" : \"you would\",\n",
    "    r\"\\byou'll\\b\" : \"you will\",\n",
    "    r\"\\byou're\\b\" : \"you are\",\n",
    "    r\"\\byou've\\b\" : \"you have\",\n",
    "    r\"\\b're\\b\" : \" are\",\n",
    "    r\"\\bwasn't\\b\" : \"was not\",\n",
    "    r\"\\bwe'll\\b\" : \"will\",\n",
    "    r\"\\bdidn't\\b\" : \"did not\",\n",
    "    r\"\\btryin'\\b\" : \"trying\"\n",
    "}"
   ]
  },
  {
   "cell_type": "code",
   "execution_count": 9,
   "metadata": {
    "code_folding": [
     1
    ]
   },
   "outputs": [],
   "source": [
    "# based on https://www.kaggle.com/prashantkikani/pooled-gru-with-preprocessing\n",
    "emoji_str_repls = {\n",
    "    \"&lt;3\": \" love \",\n",
    "    \":]\" : \" happy \",\n",
    "    \"=)\" : \" happy \",\n",
    "    \"8)\": \" happy \",\n",
    "    \":-)\": \" happy \",\n",
    "    \":)\": \" happy \",\n",
    "    \"(-:\": \" happy \",\n",
    "    \"(:\": \" happy \",\n",
    "    \":&gt;\": \" happy \",\n",
    "    \":')\": \" happy \",\n",
    "    \"(:\" : \" happy \",\n",
    "    \":d\": \" laughing \",\n",
    "    \":dd\": \" laughing \",\n",
    "    \";-)\" : \" wink \",\n",
    "    \";)\": \" wink \",\n",
    "    \":p\": \" playful \",\n",
    "    \":o\" : \" surprise \",\n",
    "    \":-(\": \" sad \",\n",
    "    \":(\": \" sad \",\n",
    "    \"=(\" : \" sad \",\n",
    "    \"):\" : \" sad \",\n",
    "    \":/\": \" skeptical \",\n",
    "    \":s\": \" skeptical \",\n",
    "    \":-s\": \" skeptical \",\n",
    "    \"^^\": \" nervous \",\n",
    "    \"^_^\": \" nervous \",\n",
    "    \"-_-\" : \" shame \",\n",
    "}"
   ]
  },
  {
   "cell_type": "code",
   "execution_count": 10,
   "metadata": {
    "code_folding": [
     0
    ]
   },
   "outputs": [],
   "source": [
    "spelling_regex_repls = {\n",
    "    # abbreviations\n",
    "    r\"\\bacctg\\b\" : \"acct\",\n",
    "    r\"\\badd'l\\b\" : \"additional\",\n",
    "    r\"\\br\\s\\b\": \"are\",\n",
    "    r\"\\bu\\s\\b\": \"you \",\n",
    "    r\"\\b\\sm\\s\\b \": \"am\",\n",
    "    r\"'cause\\b\" : \"because\",\n",
    "    r\"\\b(ha)+\\b\": \"haha\",\n",
    "    r\"\\b(he)+\\b\": \"haha\",\n",
    "    r\"\\bya+y\\b\": \"yay\",\n",
    "    r\"\\bwa+y\\b\": \"way\",\n",
    "    r\"\\bf'real\\b\" : \"for real\",\n",
    "    r\"\\bgr8\\b\" : \"great\",\n",
    "    r\"\\bintl\\b\" : \"int'l\",\n",
    "    # common misspellings\n",
    "    r\"\\bbailable\\b\" : \"available\",\n",
    "    r\"\\babilty\\b\" : \"ability\",\n",
    "    r\"\\babsolutly\\b\" : \"absolutely\",\n",
    "    r\"\\babsoultely\\b\" : \"absolutely\",\n",
    "    r\"\\bacces\\b\" : \"access\",\n",
    "    r\"\\baccesability\\b\" : \"accessibility\",\n",
    "    r\"\\baccesbility\\b\" : \"accessibility\",\n",
    "    r\"\\baccesibility\\b\" : \"accessibility\",\n",
    "    r\"\\baccessability\\b\" : \"accessibility\",\n",
    "    r\"\\baccessbility\\b\" : \"accessibility\",\n",
    "    r\"\\baccesable\\b\" : \"accessible\",\n",
    "    r\"\\baccesible\\b\" : \"accessible\",\n",
    "    r\"\\baccessable\\b\" : \"accessible\",\n",
    "    r\"\\bacessible\\b\" : \"accessible\",\n",
    "    r\"\\bassessable\\b\" : \"availability\",\n",
    "    r\"\\baccidently\\b\" : \"accidentally\",\n",
    "    r\"\\baccomadate\\b\" : \"accommodate\",\n",
    "    r\"\\baccomdate\\b\" : \"accommodate\",\n",
    "    r\"\\baccomidate\\b\" : \"accommodate\",\n",
    "    r\"\\baccomodate\\b\" : \"accommodate\",\n",
    "    r\"\\baccomadating\\b\" : \"accommodating\",\n",
    "    r\"\\baccomidating\\b\" : \"accommodating\",\n",
    "    r\"\\baccomodating\\b\" : \"accommodating\",\n",
    "    r\"\\baccomadations\\b\" : \"accommodations\",\n",
    "    r\"\\baccomodation\\b\" : \"accommodation\",\n",
    "    r\"\\baccouting\\b\" : \"accounting\",\n",
    "    r\"\\baccross\\b\" : \"across\",\n",
    "    r\"\\badd'l\\b\" : \"additional\",\n",
    "    r\"\\badditonal\\b\" : \"additional\",\n",
    "    r\"\\baddtionally\\b\" : \"additionally\",\n",
    "    r\"\\badminstration\\b\" : \"administration\",\n",
    "    r\"\\badminstrative\\b\" : \"administrative\",\n",
    "    r\"\\badminstrator\\b\" : \"administrator\",\n",
    "    r\"\\badress\\b\" : \"address\",\n",
    "    r\"\\badvancment\\b\" : \"advancement\",\n",
    "    r\"\\badvertized\\b\" : \"advertised\",\n",
    "    r\"\\bafforable\\b\" : \"affordable\",\n",
    "    r\"\\bafordable\\b\" : \"affordable\",\n",
    "    r\"\\bafterall\\b\" : \"after all\",\n",
    "    r\"\\bafterhours\\b\" : \"after hours\",\n",
    "    r\"\\baggresive\\b\" : \"aggressive\",\n",
    "    r\"\\bagressive\\b\" : \"aggressive\",\n",
    "    r\"\\bagressions\\b\" : \"aggressions\",\n",
    "    r\"\\balittle\\b\" : \"a little\",\n",
    "    r\"\\balll\\b\" : \"all\",\n",
    "    r\"\\balloted\\b\" : \"allotted\",\n",
    "    r\"\\ballthough\\b\" : \"although\",\n",
    "    r\"\\balthought\\b\" : \"although\",\n",
    "    r\"\\ballways\\b\" : \"always\",\n",
    "    r\"\\balos\\b\" : \"also\",\n",
    "    r\"\\balot\\b\" : \"a lot\",\n",
    "    r\"\\balotted\\b\" : \"allotted\",\n",
    "    r\"\\bammount\\b\" : \"amount\",\n",
    "    r\"\\bammounts\\b\" : \"amounts\",\n",
    "    r\"\\bamoung\\b\" : \"among\",\n",
    "    r\"\\bamoungst\\b\" : \"amongst\",\n",
    "    r\"\\bannouncment\\b\" : \"announcement\",\n",
    "    r\"\\baparments\\b\" : \"apartments\",\n",
    "    r\"\\bapparrel\\b\" : \"apparel\",\n",
    "    r\"\\bappartment\\b\" : \"apartment\",\n",
    "    r\"\\bappriciate\\b\" : \"appreciate\",\n",
    "    r\"\\bassitance\\b\" : \"assistance\",\n",
    "    r\"\\bassitant\\b\" : \"assistant\",\n",
    "    r\"\\batleast\\b\" : \"at least\",\n",
    "    r\"\\battentative\\b\" : \"attentive\",\n",
    "    r\"\\battrocious\\b\" : \"atrocious\",\n",
    "    r\"\\bavaiable\\b\" : \"available\",\n",
    "    r\"\\bavaible\\b\" : \"available\",\n",
    "    r\"\\bavailabe\\b\" : \"available\",\n",
    "    r\"\\bavailble\\b\" : \"available\",\n",
    "    r\"\\bavailiable\\b\" : \"available\",\n",
    "    r\"\\bavailible\\b\" : \"available\",\n",
    "    r\"\\bavaliable\\b\" : \"available\",\n",
    "    r\"\\bavalible\\b\" : \"available\",\n",
    "    r\"\\bavilable\\b\" : \"available\",\n",
    "    r\"\\bavailiability\\b\" : \"availability\",\n",
    "    r\"\\bavailabiltiy\\b\" : \"availability\",\n",
    "    r\"\\bavailabilty\\b\" : \"availability\",\n",
    "    r\"\\bavailablility\\b\" : \"availability\",\n",
    "    r\"\\bavailablity\\b\" : \"availability\",\n",
    "    r\"\\bavailibility\\b\" : \"availability\",\n",
    "    r\"\\bavaliability\\b\" : \"availability\",\n",
    "    r\"\\bavaliablity\\b\" : \"availability\",\n",
    "    r\"\\bavalibility\\b\" : \"availability\",\n",
    "    r\"\\bactivies\\b\" : \"activities\",\n",
    "    r\"\\bactivites\\b\" : \"activities\",\n",
    "    r\"\\bactualy\\b\" : \"actually\",\n",
    "    r\"\\bacutally\\b\" : \"actually\",\n",
    "    r\"\\bammenities\\b\" : \"amenities\",\n",
    "    r\"\\bantoher\\b\" : \"another\",\n",
    "    r\"\\bassitant\\b\" : \"assistant\",\n",
    "    r\"\\baswell\\b\" : \"as well\",\n",
    "    r\"\\baweful\\b\" : \"awful\",\n",
    "    r\"\\bawfull\\b\" : \"awful\",\n",
    "    r\"\\bawsome\\b\" : \"awesome\",\n",
    "    r\"\\bbeacuse\\b\" : \"because\",\n",
    "    r\"\\bbearly\\b\" : \"barely\",\n",
    "    r\"\\bbeaurocracy\\b\" : \"bureaucracy\",\n",
    "    r\"\\bbeaurocratic\\b\" : \"bureaucratic\",\n",
    "    r\"\\bbecasue\\b\" : \"because\",\n",
    "    r\"\\bbecuase\\b\" : \"because\",\n",
    "    r\"\\bbecuse\\b\" : \"because\",\n",
    "    r\"\\bbefor\\b\" : \"before\",\n",
    "    r\"\\bbeggining\\b\" : \"beginning\",\n",
    "    r\"\\bbegining\\b\" : \"beginning\",\n",
    "    r\"\\bbeleive\\b\" : \"believe\",\n",
    "    r\"\\bbelive\\b\" : \"believe\",\n",
    "    r\"\\bbenificial\\b\" : \"beneficial\",\n",
    "    r\"\\bbenifit\\b\" : \"benefit\",\n",
    "    r'\\bbugetary\\b' : \"budgetary\",\n",
    "    r'\\bbuiding\\b' : \"building\",\n",
    "    r'\\bbuidling\\b' : \"building\",\n",
    "    r'\\bbuisness\\b' : \"business\",\n",
    "    r'\\bbuliding\\b' : \"building\",\n",
    "    r\"\\bbureacracy\\b\" : \"bureaucracy\",\n",
    "    r\"\\bburitto\\b\" : \"burrito\",\n",
    "    r\"\\bbussiness\\b\" : \"business\",\n",
    "    r\"\\bcalender\\b\" : \"calendar\",\n",
    "    r\"\\bcan;t\\b\" : \"can't\",\n",
    "    r\"\\bcasher\\b\" : \"cashier\",\n",
    "    r'\\bcatagories\\b' : \"categories\",\n",
    "    r'\\bcatagory\\b' : \"category\",\n",
    "    r\"\\bcheapter\\b\" : \"cheaper\",\n",
    "    r\"\\bcheeper\\b\" : \"cheaper\",\n",
    "    r'\\bclasss\\b' : \"clas\",\n",
    "    r'\\bclassses\\b' : \"classes\",\n",
    "    r\"\\bcleaniness\\b\" : \"cleanliness\",\n",
    "    r\"\\bcmapus\\b\" : \"campus\",\n",
    "    r'\\bcofee\\b' : \"coffee\",\n",
    "    r'\\bcoffe\\b' : \"coffee\",\n",
    "    r'\\bcollegue\\b' : \"colleague\",\n",
    "    r'\\bcoment\\b' : \"comment\",\n",
    "    r'\\bcoments\\b' : \"comments\",\n",
    "    r'\\bcomming\\b' : \"coming\",\n",
    "    r'\\bcommittment\\b' : \"commitment\",\n",
    "    r'\\bcommment\\b' : \"comment\",\n",
    "    r'\\bcommuication\\b' : \"communication\",\n",
    "    r'\\bcommunter\\b' : \"commuter\",\n",
    "    r'\\bcommunters\\b' : \"commuters\",\n",
    "    r'\\bcomotion\\b' : \"commotion\",\n",
    "    r'\\bcomparision\\b' : \"comparison\",\n",
    "    r'\\bcompatability\\b' : \"compatibility\",\n",
    "    r'\\bcompatable\\b' : \"compatible\",\n",
    "    r'\\bcompetative\\b' : \"competitive\",\n",
    "    r'\\bcompetetive\\b' : \"competitive\",\n",
    "    r'\\bcompetive\\b' : \"competitive\",\n",
    "    r'\\bcompletly\\b' : \"completely\",\n",
    "    r\"\\bcomraderie\\b\" : \"camaraderie\",\n",
    "    r'\\bcomradery\\b' : \"camaraderie\",\n",
    "    r'\\bcomunication\\b' : \"communication\",\n",
    "    r'\\bcomunity\\b' : \"community\",\n",
    "    r'\\bconcious\\b' : \"conscious\",\n",
    "    r'\\bcondusive\\b' : \"conducive\",\n",
    "    r'\\bconection\\b' : \"connection\",\n",
    "    r\"\\bconfortable\\b\" : \"comfortable\",\n",
    "    r'\\bconsistant\\b' : \"consistent\",\n",
    "    r'\\bconsistantly\\b' : \"consistently\",\n",
    "    r'\\bconsistenly\\b' : \"consistently\",\n",
    "    r'\\bcontinously\\b' : \"continuously\",\n",
    "    r'\\bcontruction\\b' : \"construction\",\n",
    "    r'\\bconveinent\\b' : \"convenient\",\n",
    "    r'\\bconveinient\\b' : \"convenient\",\n",
    "    r'\\bconveniant\\b' : \"convenient\",\n",
    "    r'\\bconveniece\\b' : \"convenience\",\n",
    "    r'\\bconveninent\\b' : \"convenient\",\n",
    "    r'\\bconvienance\\b' : \"convenience\",\n",
    "    r'\\bconvienant\\b' : \"convenient\",\n",
    "    r'\\bconvience\\b' : \"convenience\",\n",
    "    r'\\bconvienence\\b' : \"convenience\",\n",
    "    r'\\bconvienent\\b' : \"convenient\",\n",
    "    r'\\bconvienet\\b' : \"convenient\",\n",
    "    r'\\bconvienience\\b' : \"convenience\",\n",
    "    r'\\bconvienient\\b' : \"convenient\",\n",
    "    r'\\bconvient\\b' : \"convenient\",\n",
    "    r'\\bconviently\\b' : \"conveniently\",\n",
    "    r'\\bconvinence\\b' : \"convenience\",\n",
    "    r'\\bconvinent\\b' : \"convenient\",\n",
    "    r'\\bconvinience\\b' : \"convenience\",\n",
    "    r'\\bconvinient\\b' : \"convenient\",\n",
    "    r'\\bcorteous\\b' : \"courteous\",\n",
    "    r'\\bcostodial\\b' : \"custodial\",\n",
    "    r'\\bcoureous\\b' : \"courteous\",\n",
    "    r'\\bcourtis\\b' : \"courteous\",\n",
    "    r'\\bcouteous\\b' : \"courteous\",\n",
    "    r'\\bcovenient\\b' : \"convenient\",\n",
    "    r'\\bcroweded\\b' : \"crowded\",\n",
    "    r'\\bcurteous\\b' : \"courteous\",\n",
    "    r'\\bcurtesy\\b' : \"courtesy\",\n",
    "    r'\\bcurtious\\b' : \"courteous\",\n",
    "    r\"\\bdeaprtment\\b\" : \"department\",\n",
    "    r\"\\bdecission\\b\" : \"decision\",\n",
    "    r'\\bdefinately\\b' : \"definitely\",\n",
    "    r'\\bdefinetely\\b' : \"definitely\",\n",
    "    r'\\bdefinetly\\b' : \"definitely\",\n",
    "    r'\\bdefinitley\\b' : \"definitely\",\n",
    "    r'\\bdefinitly\\b' : \"definitely\",\n",
    "    r'\\bdelievered\\b' : \"delivered\",\n",
    "    r'\\bdeliverers\\b' : \"deliveries\",\n",
    "    r'\\bdeparment\\b' : \"department\",\n",
    "    r'\\bdeparments\\b' : \"department\",\n",
    "    r'\\bdepartement\\b' : \"department\",\n",
    "    r\"\\bdepartment\\(s\\b\" : \"departments\",\n",
    "    r'\\bdepartmet\\b' : \"department\",\n",
    "    r'\\bdepratment\\b' : \"department\",\n",
    "    r\"\\bdeptartment\\b\" : \"department\",\n",
    "    r'\\bdescrimination\\b' : \"discrimination\",\n",
    "    r'\\bdesireable\\b' : \"desirable\",\n",
    "    r\"\\bdiffernt\\b\" : \"different\",\n",
    "    r\"\\bdiffrent\\b\" : \"different\",\n",
    "    r'\\bdinig\\b' : \"dining\",\n",
    "    r'\\bdirverse\\b' : \"diverse\",\n",
    "    r'\\bdisapointed\\b' : \"disappointed\",\n",
    "    r'\\bdisapointing\\b' : \"disappointing\",\n",
    "    r'\\bdisasterous\\b' : \"disastrous\",\n",
    "    r'\\bdisatisfied\\b' : \"dissatisfied\",\n",
    "    r'\\bdisbursment\\b' : \"disbursement\",\n",
    "    r'\\bdisbursments\\b' : \"disbursements\",\n",
    "    r'\\bdiscretely\\b' : \"discreetly\",\n",
    "    r'\\bdiscusting\\b' : \"disgusting\",\n",
    "    r'\\bdisfunctional\\b' : \"dysfunctional\",\n",
    "    r'\\bdispensors\\b' : \"dispensers\",\n",
    "    r'\\bdispersement\\b' : \"disbursement\",\n",
    "    r'\\bdissapointed\\b' : \"disappointed\",\n",
    "    r'\\bdissapointing\\b' : \"disappointing\",\n",
    "    r'\\bdissapointment\\b' : \"disappointment\",\n",
    "    r'\\bdissappointed\\b' : \"disappointed\",\n",
    "    r'\\bdissappointing\\b' : \"disappointing\",\n",
    "    r'\\bdissatified\\b' : \"dissatisfied\",\n",
    "    r'\\bdiveristy\\b' : \"diversity\",\n",
    "    r'\\bdivison\\b' : \"division\",\n",
    "    r'\\bdivsion\\b' : \"division\",\n",
    "    r\"\\bdoens't\\b\" : \"doesn't\",\n",
    "    r\"\\bdoes't\\b\" : \"doesn't\",\n",
    "    r\"\\bdoesn;t\\b\" : \"doesn't\",\n",
    "    r\"\\bdon;t\\b\" : \"don't\",\n",
    "    r'\\bdonot\\b' : \"do not\",\n",
    "    r\"\\bdosen't\\b\" : \"doesn't\",\n",
    "    r\"\\bdosent\\b\" : \"doesn't\",\n",
    "    r'\\bdumbells\\b' : \"dumbbells\",\n",
    "    r'\\bdurring\\b' : \"during\",\n",
    "    r\"\\beatting\\b\" : \"eating\",\n",
    "    r\"\\beduation\\b\" : \"education\",\n",
    "    r'\\beffeciency\\b' : \"efficiency\",\n",
    "    r'\\beffecient\\b' : \"efficient\",\n",
    "    r'\\befficency\\b' : \"efficiency\",\n",
    "    r'\\befficent\\b' : \"efficient\",\n",
    "    r'\\beffiecient\\b' : \"efficient\",\n",
    "    r'\\beimplying\\b' : \"implying\",\n",
    "    r'\\bembarassed\\b' : \"embarrassed\",\n",
    "    r'\\bembarassing\\b' : \"embarrassing\",\n",
    "    r'\\bembarassment\\b' : \"embarrassment\",\n",
    "    r'\\bemploee\\b' : \"employee\",\n",
    "    r'\\bemploye\\b' : \"employee\",\n",
    "    r'\\bemployee\\(s\\b' : \"employees\",\n",
    "    r'\\bemployeed\\b' : \"employed\",\n",
    "    r'\\bemployement\\b' : \"employment\",\n",
    "    r'\\bemployes\\b' : \"employees\",\n",
    "    r'\\bemployess\\b' : \"employees\",\n",
    "    r'\\bemplyee\\b' : \"employee\",\n",
    "    r'\\bemplyees\\b' : \"employees\",\n",
    "    r'\\bempolyees\\b' : \"employees\",\n",
    "    r'\\bencoutered\\b' : \"encountered\",\n",
    "    r'\\benought\\b' : \"enough\",\n",
    "    r'\\benrollement\\b' : \"enrollment\",\n",
    "    r'\\benviorment\\b' : \"environment\",\n",
    "    r'\\benviornment\\b' : \"environment\",\n",
    "    r'\\benvirnment\\b' : \"environment\",\n",
    "    r'\\benviroment\\b' : \"environment\",\n",
    "    r'\\benvironement\\b' : \"environment\",\n",
    "    r'\\bequiped\\b' : \"equipped\",\n",
    "    r'\\bespcially\\b' : \"especially\",\n",
    "    r'\\bespecailly\\b' : \"especially\",\n",
    "    r'\\bespecialy\\b' : \"especially\",\n",
    "    r'\\bespeically\\b' : \"especially\",\n",
    "    r\"\\besthetically\\b\" : \"aesthetically \",\n",
    "    r\"\\bethinicity\\b\" : \"ethnicity\",\n",
    "    r\"\\bevaulation\\b\" : \"evaluation\",\n",
    "    r\"\\beventhough\\b\" : \"even though\",\n",
    "    r'\\beverday\\b' : \"every day\",\n",
    "    r'\\beverthing\\b' : \"everything\",\n",
    "    r'\\beveryones\\b' : \"everyones\",\n",
    "    r'\\beverythings\\b' : \"everythings\",\n",
    "    r'\\beveryway\\b' : \"every way\",\n",
    "    r'\\beveyone\\b' : \"everyone\",\n",
    "    r'\\beveything\\b' : \"everything\",\n",
    "    r'\\bevrything\\b' : \"everything\",\n",
    "    r'\\bexcelent\\b' : \"excellent\",\n",
    "    r'\\bexcellant\\b' : \"excellent\",\n",
    "    r'\\bexellent\\b' : \"excellent\",\n",
    "    r'\\bexhorbitant\\b' : \"exorbitant\",\n",
    "    r'\\bexistance\\b' : \"existence\",\n",
    "    r'\\bexpecially\\b' : \"especially\",\n",
    "    r'\\bexpensice\\b' : \"expensive\",\n",
    "    r'\\bexpereince\\b' : \"experience\",\n",
    "    r'\\bexperiance\\b' : \"experience\",\n",
    "    r'\\bexperince\\b' : \"experience\",\n",
    "    r'\\bexpierence\\b' : \"experience\",\n",
    "    r'\\bexpirence\\b' : \"experience\",\n",
    "    r'\\bexplaination\\b' : \"explanation\",\n",
    "    r'\\bexremely\\b' : \"extremely\",\n",
    "    r'\\bextemely\\b' : \"extremely\",\n",
    "    r'\\bextention\\b' : \"extension\",\n",
    "    r'\\bextermely\\b' : \"extremely\",\n",
    "    r'\\bextreamly\\b' : \"extremely\",\n",
    "    r'\\bextrememly\\b' : \"extremely\",\n",
    "    r'\\bextremly\\b' : \"extremely\",\n",
    "    r\"\\bfacilites\\b\" : \"facilities\",\n",
    "    r'\\bfacilties\\b' : \"facilities\",\n",
    "    r'\\bfacilty\\b' : \"facility\",\n",
    "    r'\\bfaculity\\b' : \"faculty\",\n",
    "    r'\\bfacutly\\b' : \"faculty\",\n",
    "    r'\\bfiancial\\b' : \"financial\",\n",
    "    r\"\\bfinacial\\b\" : \"financial\",\n",
    "    r\"\\bfirendly\\b\" : \"friendly\",\n",
    "    r'\\bflexability\\b' : \"flexibility\",\n",
    "    r'\\bflexibilty\\b' : \"flexibility\",\n",
    "    r'\\bflexiblity\\b' : \"flexibility\",\n",
    "    r\"\\bflourescent\\b\" : \"fluorescent\",\n",
    "    r'\\bfreindly\\b' : \"friendly\",\n",
    "    r'\\bfreqency\\b' : \"frequency\",\n",
    "    r'\\bfreqent\\b' : \"frequent\",\n",
    "    r'\\bfriednly\\b' : \"friendly\",\n",
    "    r'\\bfrusterating\\b' : \"frustrating\",\n",
    "    r'\\bfrusturating\\b' : \"frustrating\",\n",
    "    r'\\bfustrating\\b' : \"frustrating\",\n",
    "    r'\\bgovenor\\b' : \"governor\",\n",
    "    r\"\\bgraffitti\\b\" : \"graffiti\",\n",
    "    r\"\\bgrafitti\\b\" : \"graffiti\",\n",
    "    r\"\\bgreatful\\b\" : \"grateful\",\n",
    "    r\"\\bguarenteed\\b\" : \"guaranteed\",\n",
    "    r\"\\bguidlines\\b\" : \"guidelines\",\n",
    "    r\"\\bguranteed\\b\" : \"guaranteed\",\n",
    "    r\"\\bhappend\\b\" : \"happened\",\n",
    "    r'\\bharrass\\b' : \"harass\",\n",
    "    r'\\bharrassed\\b' : \"harassed\",\n",
    "    r'\\bharrassing\\b' : \"harassing\",\n",
    "    r'\\bharrassment\\b' : \"harassment\",\n",
    "    r\"\\bhavn't\\b\" : \"haven't\",\n",
    "    r'\\bhealtheir\\b' : \"healthier\",\n",
    "    r'\\bhealthly\\b' : \"healthy\",\n",
    "    r'\\bhealtier\\b' : \"healthier\",\n",
    "    r'\\bhealty\\b' : \"healthy\",\n",
    "    r'\\bheathy\\b' : \"healthy\",\n",
    "    r'\\bheirarchy\\b' : \"hierarchy\",\n",
    "    r'\\bhelful\\b' : \"helpful\",\n",
    "    r'\\bhelpfull\\b' : \"helpful\",\n",
    "    r'\\bhelpul\\b' : \"helpful\",\n",
    "    r'\\bhighschool\\b' : \"high school\",\n",
    "    r'\\bhighschools\\b' : \"high schools\",\n",
    "    r'\\bhorendous\\b' : \"horrendous\",\n",
    "    r'\\bhorible\\b' : \"horrible\",\n",
    "    r'\\bhouseing\\b' : \"housing\",\n",
    "    r'\\bi\"m\\b' : \"i'm\",\n",
    "    r'\\bi\"ve\\b' : \"i've\",\n",
    "    r'\\bimplimented\\b' : \"implemented\",\n",
    "    r'\\bimporve\\b' : \"improve\",\n",
    "    r'\\bimposible\\b' : \"impossible\",\n",
    "    r'\\bimprovment\\b' : \"improvement\",\n",
    "    r'\\bimprovments\\b' : \"improvements\",\n",
    "    r'\\bincompetant\\b' : \"incompetent\",\n",
    "    r'\\binconsistant\\b' : \"inconsistent\",\n",
    "    r'\\binconveinent\\b' : \"nconvenient\",\n",
    "    r'\\binconvience\\b' : \"inconvenience\",\n",
    "    r'\\binconvienent\\b' : \"nconvenient\",\n",
    "    r'\\binconvienient\\b' : \"nconvenient\",\n",
    "    r'\\binconvient\\b' : \"nconvenient\",\n",
    "    r'\\binconvinient\\b' : \"nconvenient\",\n",
    "    r'\\bindentify\\b' : \"identify\",\n",
    "    r'\\bindependant\\b' : \"independent\",\n",
    "    r'\\bindividual\\(s\\b' : \"individuals\",\n",
    "    r'\\binforced\\b' : \"enforced\",\n",
    "    r'\\binformaiton\\b' : \"information\",\n",
    "    r'\\binformtion\\b' : \"information\",\n",
    "    r'\\binfront\\b' : \"in front\",\n",
    "    r'\\binnout\\b' : \"in-n-out\",\n",
    "    r'\\binsentive\\b' : \"incentive\",\n",
    "    r'\\binsufficent\\b' : \"insufficient\",\n",
    "    r'\\binterenet\\b' : \"internet\",\n",
    "    r'\\binterent\\b' : \"internet\",\n",
    "    r'\\bintermural\\b' : \"intramural\",\n",
    "    r'\\bintramurals\\b' : \"intramurals\",\n",
    "    r'\\binvironment\\b' : \"environment\",\n",
    "    r'\\bissue\\(s\\b' : \"issues\",\n",
    "    r'\\bit;s\\b' : \"it's\",\n",
    "    r'\\bitem\\(s\\b' : \"items\",\n",
    "    r\"\\bjob\\(s\\b\" : \"jobs\",\n",
    "    r'\\bknowledable\\b' : \"knowledgeable\",\n",
    "    r'\\bknowledeable\\b' : \"knowledgeable\",\n",
    "    r'\\bknowledegable\\b' : \"knowledgeable\",\n",
    "    r'\\bknowledgable\\b' : \"knowledgeable\",\n",
    "    r'\\bknowledgably\\b' : \"knowledgeably\",\n",
    "    r'\\bknowledgeably\\b' : \"knowledgeably\",\n",
    "    r'\\bknowledgeble\\b' : \"knowledgeable\",\n",
    "    r'\\bknowlegable\\b' : \"knowledgeable\",\n",
    "    r'\\bknowlegeable\\b' : \"knowledgeable\",\n",
    "    r'\\bliek\\b' : \"like\",\n",
    "    r'\\blieke\\b' : \"like\",\n",
    "    r'\\blimted\\b' : \"limited\",\n",
    "    r'\\bmaintainance\\b' : \"maintenance\",\n",
    "    r'\\bmaintaince\\b' : \"maintenance\",\n",
    "    r'\\bmaintainence\\b' : \"maintenance\",\n",
    "    r'\\bmaintanance\\b' : \"maintenance\",\n",
    "    r'\\bmaintance\\b' : \"maintenance\",\n",
    "    r'\\bmaintanence\\b' : \"maintenance\",\n",
    "    r'\\bmaintenace\\b' : \"maintenance\",\n",
    "    r'\\bmaintenances\\b' : \"maintenance\",\n",
    "    r'\\bmaintence\\b' : \"maintenance\",\n",
    "    r'\\bmaintenece\\b' : \"maintenance\",\n",
    "    r'\\bmaintenence\\b' : \"maintenance\",\n",
    "    r'\\bmaitenance\\b' : \"maintenance\",\n",
    "    r'\\bmanager\\(s\\b' : \"managers\",\n",
    "    r'\\bmanagment\\b' : \"management\",\n",
    "    r'\\bmanangement\\b' : \"management\",\n",
    "    r'\\bmangement\\b' : \"management\",\n",
    "    r'\\bmangers\\b' : \"managers\",\n",
    "    r'\\bmanuever\\b' : \"maneuver\",\n",
    "    r'\\bmintues\\b' : \"minutes\",\n",
    "    r'\\bmoblie\\b' : \"mobile\",\n",
    "    r'\\bmulitple\\b' : \"multiple\",\n",
    "    r'\\bn\\?a\\b' : \"n/a\",\n",
    "    r'\\bna\\b' : \"n/a\",\n",
    "    r'\\bneccessary\\b' : \"necessary\",\n",
    "    r'\\bnecesary\\b' : \"necessary\",\n",
    "    r'\\bneedes\\b' : \"needs\",\n",
    "    r'\\bneeed\\b' : \"need\",\n",
    "    r'\\bnonexistant\\b' : \"nonexistent\",\n",
    "    r'\\bnothig\\b' : \"nothing\",\n",
    "    r'\\bnothjng\\b' : \"nothing\",\n",
    "    r'\\bnoticable\\b' : \"noticeable\",\n",
    "    r'\\bobsurd\\b' : \"absurd\",\n",
    "    r'\\bocassional\\b' : \"occasional\",\n",
    "    r'\\boccassion\\b' : \"occasion\",\n",
    "    r'\\boccassional\\b' : \"occasional\",\n",
    "    r'\\boccassionally\\b' : \"occasionally\",\n",
    "    r'\\boccassions\\b' : \"occasions\",\n",
    "    r'\\boccations\\b' : \"occasions\",\n",
    "    r'\\boccurances\\b' : \"occurrences\",\n",
    "    r'\\boccured\\b' : \"occurred\",\n",
    "    r'\\boccuring\\b' : \"occurring\",\n",
    "    r'\\boccurr\\b' : \"occur\",\n",
    "    r'\\bofcourse\\b' : \"of course\",\n",
    "    r'\\bofferred\\b' : \"offered\",\n",
    "    r'\\bopinon\\b' : \"opinion\",\n",
    "    r'\\bopitions\\b' : \"options\",\n",
    "    r'\\boportunities\\b' : \"opportunities\",\n",
    "    r'\\bopperation\\b' : \"operation\",\n",
    "    r'\\boppertunities\\b' : \"opportunities\",\n",
    "    r'\\boppinion\\b' : \"opinion\",\n",
    "    r'\\bopportunites\\b' : \"opportunities\",\n",
    "    r'\\bopportunties\\b' : \"opportunities\",\n",
    "    r'\\boppotunities\\b' : \"opportunities\",\n",
    "    r'\\boppurtunities\\b' : \"opportunities\",\n",
    "    r'\\boppurtunity\\b' : \"opportunity\",\n",
    "    r'\\borgnized\\b' : \"organized\",\n",
    "    r'\\boutragous\\b' : \"outrageous\",\n",
    "    r'\\bpage\\(s\\b' : \"pages\",\n",
    "    r'\\bpakages\\b' : \"packages\",\n",
    "    r'\\bparkibg\\b' : \"parking\",\n",
    "    r'\\bparkig\\b' : \"parking\",\n",
    "    r'\\bparkign\\b' : \"parking\",\n",
    "    r'\\bparkinglots\\b' : \"parking lots\",\n",
    "    r'\\bpartime\\b' : \"part-time\",\n",
    "    r'\\bparttime\\b' : \"part-time\",\n",
    "    r'\\bpatroling\\b' : \"patrolling\",\n",
    "    r'\\bpeopel\\b' : \"people\",\n",
    "    r'\\bpermitt\\b' : \"permit\",\n",
    "    r'\\bperson\\(s\\b' : \"persons\",\n",
    "    r'\\bpersonel\\b' : \"personnel\",\n",
    "    r'\\bpersonell\\b' : \"personnel\",\n",
    "    r'\\bpharamcy\\b' : \"pharmacy\",\n",
    "    r'\\bpleasent\\b' : \"pleasant\",\n",
    "    r'\\bplently\\b' : \"plenty\",\n",
    "    r'\\bplesant\\b' : \"pleasant\",\n",
    "    r'\\bpositon\\b' : \"position\",\n",
    "    r'\\bposses\\b' : \"possess\",\n",
    "    r'\\bpossition\\b' : \"position\",\n",
    "    r'\\bpostion\\b' : \"position\",\n",
    "    r'\\bpostions\\b' : \"positions\",\n",
    "    r'\\bpostition\\b' : \"position\",\n",
    "    r'\\bpostive\\b' : \"positive\",\n",
    "    r'\\bpractioner\\b' : \"practitioner\",\n",
    "    r'\\bpractioners\\b' : \"practitioners\",\n",
    "    r'\\bprefered\\b' : \"preferred\",\n",
    "    r'\\bpreferrably\\b' : \"preferably\",\n",
    "    r'\\bpreform\\b' : \"perform\",\n",
    "    r'\\bpreforming\\b' : \"performing\",\n",
    "    r'\\bpricess\\b' : \"prices\",\n",
    "    r'\\bpriciples\\b' : \"principles\",\n",
    "    r'\\bpricy\\b' : \"pricey\",\n",
    "    r'\\bprking\\b' : \"parking\",\n",
    "    r'\\bproceedures\\b' : \"procedures\",\n",
    "    r'\\bprocurment\\b' : \"procurement\",\n",
    "    r'\\bprofessionaly\\b' : \"professionally\",\n",
    "    r'\\bproffessional\\b' : \"professional\",\n",
    "    r'\\bproffit\\b' : \"profit\",\n",
    "    r'\\bprofitt\\b' : \"profit\",\n",
    "    r'\\bprogam\\b' : \"program\",\n",
    "    r'\\bpromissed\\b' : \"promised\",\n",
    "    r'\\bpublically\\b' : \"publicly\",\n",
    "    r'\\bqucik\\b' : \"quick\",\n",
    "    r'\\bquestion\\(s\\b' : \"questions\",\n",
    "    r'\\bquestionaire\\b' : \"questionnaire\",\n",
    "    r'\\breall\\b' : \"really\",\n",
    "    r'\\brealy\\b' : \"really\",\n",
    "    r'\\breccomend\\b' : \"recommend\",\n",
    "    r'\\breccommend\\b' : \"recommend\",\n",
    "    r'\\breceieve\\b' : \"receive\",\n",
    "    r'\\breciept\\b' : \"receipt\",\n",
    "    r'\\breciepts\\b' : \"receipts\",\n",
    "    r'\\brecieve\\b' : \"receive\",\n",
    "    r'\\brecieved\\b' : \"received\",\n",
    "    r'\\brecieves\\b' : \"receives\",\n",
    "    r'\\brecieving\\b' : \"receiving\",\n",
    "    r'\\brecived\\b' : \"received\",\n",
    "    r'\\brecomend\\b' : \"recommend\",\n",
    "    r'\\brecomended\\b' : \"recommended\",\n",
    "    r'\\brediculous\\b' : \"ridiculous\",\n",
    "    r'\\brediculously\\b' : \"ridiculously\",\n",
    "    r'\\brefered\\b' : \"referred\",\n",
    "    r'\\brefering\\b' : \"referring\",\n",
    "    r'\\bregeants\\b' : \"regents\",\n",
    "    r'\\bregistar\\b' : \"regisrtar\",\n",
    "    r'\\bregistars\\b' : \"regisrtars\",\n",
    "    r'\\bregulary\\b' : \"regularly\",\n",
    "    r'\\breimbursment\\b' : \"reimbursement\",\n",
    "    r'\\breponse\\b' : \"response\",\n",
    "    r'\\breponsive\\b' : \"responsive\",\n",
    "    r'\\brepresentitive\\b' : \"representative\",\n",
    "    r'\\breserach\\b' : \"research\",\n",
    "    r'\\bresonable\\b' : \"reasonable\",\n",
    "    r'\\bresouces\\b' : \"resources\",\n",
    "    r'\\bresourses\\b' : \"resources\",\n",
    "    r'\\bresponsed\\b' : \"responded\",\n",
    "    r'\\bresponsibilites\\b' : \"responsibilites\",\n",
    "    r'\\bresponsiblities\\b' : \"responsibilites\",\n",
    "    r'\\bresponsiblity\\b' : \"responsibility\",\n",
    "    r'\\brestaraunts\\b' : \"restaurants\",\n",
    "    r'\\brestraunts\\b' : \"restaurants\",\n",
    "    r'\\brestuarant\\b' : \"restaurant\",\n",
    "    r'\\brestuarants\\b' : \"restaurants\",\n",
    "    r'\\bresturant\\b' : \"restaurant\",\n",
    "    r'\\bresturants\\b' : \"restaurants\",\n",
    "    r'\\bridiculus\\b' : \"ridiculous\",\n",
    "    r'\\briduculous\\b' : \"ridiculous\",\n",
    "    r'\\broomate\\b' : \"roommate\",\n",
    "    r'\\broomates\\b' : \"roommates\",\n",
    "    r'\\bsaleries\\b' : \"salaries\",\n",
    "    r'\\bsandwhich\\b' : \"sandwich\",\n",
    "    r'\\bsandwhiches\\b' : \"sandwiches\",\n",
    "    r'\\bsandwitches\\b' : \"sandwiches\",\n",
    "    r'\\bsatifaction\\b' : \"satisfaction\",\n",
    "    r'\\bsatified\\b' : \"satisfisatisfieded\",\n",
    "    r'\\bsattelite\\b' : \"satellite\",\n",
    "    r'\\bsceience\\b' : \"science\",\n",
    "    r'\\bschedual\\b' : \"schedule\",\n",
    "    r'\\bseemless\\b' : \"seamless\",\n",
    "    r'\\bselction\\b' : \"selection\",\n",
    "    r'\\bsenority\\b' : \"seniority\",\n",
    "    r'\\bsensative\\b' : \"sensitive\",\n",
    "    r'\\bsensored\\b' : \"censored\",\n",
    "    r'\\bseperate\\b' : \"separate\",\n",
    "    r'\\bseperation\\b' : \"separation\",\n",
    "    r'\\bserivce\\b' : \"service\",\n",
    "    r'\\bserivces\\b' : \"services\",\n",
    "    r'\\bserive\\b' : \"service\",\n",
    "    r'\\bserives\\b' : \"services\",\n",
    "    r'\\bservicesi\\b' : \"services\",\n",
    "    r'\\bservidces\\b' : \"services\",\n",
    "    r'\\bservive\\b' : \"survive\",\n",
    "    r'\\bservives\\b' : \"survives\",\n",
    "    r'\\bseverly\\b' : \"severely\",\n",
    "    r'\\bsevice\\b' : \"service\",\n",
    "    r'\\bsevices\\b' : \"services\",\n",
    "    r'\\bshcool\\b' : \"school\",\n",
    "    r'\\bshoud\\b' : \"should\",\n",
    "    r'\\bshoudl\\b' : \"should\",\n",
    "    r'\\bshutttle\\b' : \"shuttle\",\n",
    "    r'\\bsimiliar\\b' : \"similar\",\n",
    "    r'\\bsomeitmes\\b' : \"sometimes\",\n",
    "    r'\\bsomeone\\(s\\b' : \"someones\",\n",
    "    r'\\bsomeones\\b' : \"someones\",\n",
    "    r'\\bsometiems\\b' : \"sometimes\",\n",
    "    r'\\bsomone\\b' : \"someone\",\n",
    "    r'\\bsomthing\\b' : \"something\",\n",
    "    r'\\bsophmore\\b' : \"sophomore\",\n",
    "    r'\\bspecialy\\b' : \"especially\",\n",
    "    r'\\bstafff\\b' : \"staff\",\n",
    "    r'\\bstatment\\b' : \"statement\",\n",
    "    r'\\bstong\\b' : \"strong\",\n",
    "    r'\\bstongly\\b' : \"strongly\",\n",
    "    r'\\bstoping\\b' : \"stopping\",\n",
    "    r'\\bstrabucks\\b' : \"starbucks\",\n",
    "    r'\\bstressfull\\b' : \"stressful\",\n",
    "    r'\\bstructure\\(s\\b' : \"structures\",\n",
    "    r'\\bstucture\\b' : \"structure\",\n",
    "    r'\\bstuctures\\b' : \"structures\",\n",
    "    r'\\bstuden\\b' : \"student\",\n",
    "    r'\\bstudent\\(s\\b' : \"students\",\n",
    "    r'\\bstudetns\\b' : \"students\",\n",
    "    r'\\bstudnet\\b' : \"student\",\n",
    "    r'\\bstudnets\\b' : \"students\",\n",
    "    r'\\bsucess\\b' : \"success\",\n",
    "    r'\\bsudent\\b' : \"student\",\n",
    "    r'\\bsudents\\b' : \"students\",\n",
    "    r'\\bsuperintendant\\b' : \"superintendent\",\n",
    "    r'\\bsuperviser\\b' : \"supervisor\",\n",
    "    r'\\bsupervisor\\(s\\b' : \"supervisors\",\n",
    "    r'\\bsupervisores\\b' : \"supervisors\",\n",
    "    r'\\bsuport\\b' : \"support\",\n",
    "    r'\\bsupples\\b' : \"supplies\",\n",
    "    r'\\bsuppossed\\b' : \"supposed\",\n",
    "    r'\\bsuprised\\b' : \"surprised\",\n",
    "    r'\\bsuvey\\b' : \"survey\",\n",
    "    r'\\bsytem\\b' : \"system\",\n",
    "    r'\\bthats\\b' : \"that's\",\n",
    "    r\"\\bthe're\\b\" : \"they're\",\n",
    "    r'\\btheives\\b' : \"thieves\",\n",
    "    r'\\bthiefs\\b' : \"thieves\",\n",
    "    r'\\bthreating\\b' : \"threatening\",\n",
    "    r'\\bthroughly\\b' : \"thoroughly\",\n",
    "    r'\\bthrought\\b' : \"throughout\",\n",
    "    r'\\bthroughtout\\b' : \"throughout\",\n",
    "    r'\\btodays\\b' : \"today's\",\n",
    "    r'\\btraing\\b' : \"training\",\n",
    "    r'\\btrainning\\b' : \"training\",\n",
    "    r'\\btranfers\\b' : \"transfers\",\n",
    "    r'\\btransfered\\b' : \"transferred\",\n",
    "    r'\\btransfering\\b' : \"transferring\",\n",
    "    r'\\btransporation\\b' : \"transportation\",\n",
    "    r'\\btransportaion\\b' : \"transportation\",\n",
    "    r'\\btransportations\\b' : \"transportations\",\n",
    "    r'\\btransportion\\b' : \"transportation\",\n",
    "    r'\\btrashbags\\b' : \"trash bags\",\n",
    "    r'\\btrashcans\\b' : \"trash cans\",\n",
    "    r'\\btremedously\\b' : \"tremendously\",\n",
    "    r'\\btshirt\\b' : \"t-shirt\",\n",
    "    r'\\btshirts\\b' : \"t-shirts\",\n",
    "    r'\\btution\\b' : \"tuition\",\n",
    "    r'\\btutition\\b' : \"tuition\",\n",
    "    r'\\bunaccessible\\b' : \"inaccessible\",\n",
    "    r'\\bunconvenient\\b' : \"inconvenient\",\n",
    "    r'\\bunecessary\\b' : \"unnecessary\",\n",
    "    r'\\bunflexible\\b' : \"inflexible\",\n",
    "    r'\\bunforseen\\b' : \"unforeseen\",\n",
    "    r'\\buniverisity\\b' : \"university\",\n",
    "    r'\\buniveristy\\b' : \"university\",\n",
    "    r'\\buniverity\\b' : \"university\",\n",
    "    r'\\bunknowledgeable\\b' : \"unknowledgable\",\n",
    "    r'\\bunneccessary\\b' : \"unnecessary\",\n",
    "    r'\\bunrealiable\\b' : \"unreliable\",\n",
    "    r'\\buntill\\b' : \"until\",\n",
    "    r'\\bunversity\\b' : \"university\",\n",
    "    r'\\buseability\\b' : \"usability\",\n",
    "    r'\\busefull\\b' : \"useful\",\n",
    "    r'\\bususally\\b' : \"usually\",\n",
    "    r'\\bvaccum\\b' : \"vacuum\",\n",
    "    r'\\bvaccuum\\b' : \"vacuum\",\n",
    "    r'\\bvaction\\b' : \"vacation\",\n",
    "    r'\\bvacume\\b' : \"vacuum\",\n",
    "    r'\\bvariaty\\b' : \"variety\",\n",
    "    r'\\bvarities\\b' : \"varieties\",\n",
    "    r'\\bvarity\\b' : \"variety\",\n",
    "    r'\\bvegeterian\\b' : \"vegetarian\",\n",
    "    r'\\bvegitarian\\b' : \"vegetarian\",\n",
    "    r'\\bvegitarians\\b' : \"vegetarians\",\n",
    "    r'\\bvegtables\\b' : \"vegetables\",\n",
    "    r'\\bventillation\\b' : \"ventilation\",\n",
    "    r'\\bveriety\\b' : \"variety\",\n",
    "    r'\\bvisted\\b' : \"visited\",\n",
    "    r'\\bvistor\\b' : \"visitor\",\n",
    "    r'\\bvistors\\b' : \"visitors\",\n",
    "    r'\\bweeekends\\b' : \"weekends\",\n",
    "    r'\\bwierd\\b' : \"weird\",\n",
    "    r'\\bwirless\\b' : \"wireless\",\n",
    "    r'\\bwithdrawl\\b' : \"withdrawal\",\n",
    "    r'\\bwoudl\\b' : \"would\",\n",
    "    r\"\\bwoudn't\\b\" : \"wouldn't\",\n",
    "    r\"\\bthier\\b\" : \"their\",\n",
    "    r\"\\bappartments\\b\" : \"apartments\",\n",
    "    r\"\\bbenifits\\b\" : \"benefits\",\n",
    "    r\"\\bexistant\\b\" : \"existent\",\n",
    "    r\"\\bsaftey\\b\" : \"safety\",\n",
    "    r'\\bdon\"t\\b' : \"don't\",\n",
    "}"
   ]
  },
  {
   "cell_type": "code",
   "execution_count": 11,
   "metadata": {
    "code_folding": [
     0
    ]
   },
   "outputs": [],
   "source": [
    "weirdchar_str_repls = {\n",
    "    \"#39;\" : \"'\",   \n",
    "    'amp;' : '&',   \n",
    "    '#146;' : \"'\",   \n",
    "    'nbsp;' : ' ',   \n",
    "    '#36;' : '$',   \n",
    "    '\\\\n' : \"\\n\",   \n",
    "    'quot;' : \"'\",   \n",
    "    '’' : \"'\",   \n",
    "    \"´\" : \"'\",\n",
    "    \"`\" : \"'\",\n",
    "    '`' : \"'\", \n",
    "    '´' : \"'\", \n",
    "    '“' : '\"',   \n",
    "    '”' : '\"',   \n",
    "    '<br />' : \"\\n\",   \n",
    "    '\\\\\"' : '\"',   \n",
    "    '<unk>' : 'u_n',   \n",
    "    ' @.@ ' : '.',   \n",
    "    ' @-@ ' : '-',   \n",
    "    '\\\\' : ' \\\\ ',   \n",
    "    '•' : '-'\n",
    "}"
   ]
  },
  {
   "cell_type": "code",
   "execution_count": 12,
   "metadata": {},
   "outputs": [],
   "source": [
    "# does regex replace making the substitution the same case\n",
    "def re_replace(word, replacement, text):\n",
    "    def func(match):\n",
    "        g = match.group()\n",
    "        if g.islower(): return replacement.lower()\n",
    "        if g.istitle(): return replacement.title()\n",
    "        if g.isupper(): return replacement.upper()\n",
    "        return replacement      \n",
    "    \n",
    "    return re.sub(word, func, text, flags=re.I)\n",
    "\n",
    "# define regex and string replacements\n",
    "re_repls = {}  # e.g., { **spelling_regex_repls } \n",
    "str_repls = {} # e.g., { **weirdchar_str_repls }\n",
    "\n",
    "def make_replacements(t:str) -> str:\n",
    "    # replace based on regexs (keeping case) and then strings\n",
    "    for k, v in re_repls.items(): t = re_replace(k, v, t)\n",
    "    for k, v in str_repls.items(): t = t.replace(k, t)\n",
    "    return t\n",
    "\n",
    "# ensure am|pm is considered it own token (7:00pm > 7:00 pm, 7am-10pm > 7 am - 10 pm))\n",
    "def fix_ampm(t:str) -> str:\n",
    "    re_ampm = re.compile(r'(\\d+)(am|pm|am\\-|pm\\-|a\\.m\\.|p\\.m\\.|a\\.m\\.\\-|p\\.m\\.\\-)')    \n",
    "    return re_ampm.sub(r'\\1 \\2 ', t)\n",
    "\n",
    "# try to handle places where a new sentence doesn't begin with a space (e.g., I like dogs.I like cats)\n",
    "# without breaking apart things like urls and emails\n",
    "def fix_sentence_ends(t:str) -> str:\n",
    "    re_sentend = re.compile(r'(?<!www)\\.((?!com|edu|org|net|m\\b)[a-zA-Z]+)(?!(@|\\.(com|edu|org|net)))\\b') \n",
    "    return re_sentend.sub(r'. \\1 ', t)\n",
    "\n",
    "# separate hyphen|tilde if it is at beginning of letter/digit\n",
    "def fix_hyphenated_words(t:str) -> str:\n",
    "    re_hypword = re.compile(r'\\s(\\-+|~+)([a-zA-Z0-9])')\n",
    "    return re_hypword.sub(r' \\1 \\2', t)\n"
   ]
  },
  {
   "cell_type": "markdown",
   "metadata": {},
   "source": [
    "## Language Model\n",
    "\n",
    "The goal of the language model is to predict the next word.  The idea is simple: an LM learns how English works which can in turn be helpful in predicting sentiment"
   ]
  },
  {
   "cell_type": "code",
   "execution_count": 13,
   "metadata": {},
   "outputs": [],
   "source": [
    "chunksize = 24000\n",
    "yyyymmdd = datetime.date.today().strftime(\"%Y%m%d\")\n",
    "\n",
    "bptt = 70\n",
    "bsz = 128 #80\n",
    "wd = 1e-7\n",
    "\n",
    "# define tokenization, numericalization, and data parameters (tokeneization, text columns, etc..)\n",
    "include_fld_tok = False\n",
    "include_bos_tok = True\n",
    "include_eos_tok = False\n",
    "\n",
    "max_vocab = 60000\n",
    "min_freq = 2\n",
    "\n",
    "corpus_cols = ['AnswerText']  # ['QuestionText', 'AnswerText']\n",
    "data_suf = ''                 # '_qst+ans' "
   ]
  },
  {
   "cell_type": "code",
   "execution_count": 14,
   "metadata": {},
   "outputs": [],
   "source": [
    "train_df = pd.read_csv(LM_PATH/'train.csv', low_memory=False)\n",
    "valid_df = pd.read_csv(LM_PATH/'test.csv', low_memory=False)"
   ]
  },
  {
   "cell_type": "code",
   "execution_count": 15,
   "metadata": {},
   "outputs": [
    {
     "name": "stdout",
     "output_type": "stream",
     "text": [
      "Removed rows: (0, 0)\n"
     ]
    }
   ],
   "source": [
    "# remove rows where there are nulls in corpus cols\n",
    "prev_lens = len(train_df), len(valid_df)\n",
    "\n",
    "train_df.dropna(subset=corpus_cols, inplace=True)\n",
    "valid_df.dropna(subset=corpus_cols, inplace=True)\n",
    "\n",
    "print(f'Removed rows: {prev_lens[0]-len(train_df), prev_lens[1] - len(valid_df)}')"
   ]
  },
  {
   "cell_type": "code",
   "execution_count": 16,
   "metadata": {},
   "outputs": [],
   "source": [
    "# prepend custom tokenization rules to defaults\n",
    "custom_tok_rules = defaults.text_pre_rules + [make_replacements, fix_ampm, fix_sentence_ends, fix_hyphenated_words]\n",
    "\n",
    "# use this customized Tokenizer for qualitative data\n",
    "tokenizer = Tokenizer(pre_rules=custom_tok_rules)"
   ]
  },
  {
   "cell_type": "code",
   "execution_count": 17,
   "metadata": {},
   "outputs": [
    {
     "name": "stderr",
     "output_type": "stream",
     "text": [
      "/home/wgilliam/anaconda3/envs/tritonlytics-ml/lib/python3.7/site-packages/torch/serialization.py:292: UserWarning: Couldn't retrieve source code for container of type CrossEntropyLoss. It won't be checked for correctness upon loading.\n",
      "  \"type \" + obj.__name__ + \". It won't be checked \"\n"
     ]
    }
   ],
   "source": [
    "lm_processor = [\n",
    "    TokenizeProcessor(tokenizer=tokenizer, chunksize=chunksize, \n",
    "                      mark_fields=include_fld_tok, include_bos=include_bos_tok, include_eos=include_eos_tok),\n",
    "    NumericalizeProcessor(vocab=None, max_vocab=max_vocab, min_freq=min_freq)\n",
    "]\n",
    "\n",
    "data_lm = (ItemLists(path=LM_PATH,\n",
    "                     train=TextList.from_df(train_df, path=LM_PATH, cols=corpus_cols, processor=lm_processor),\n",
    "                     valid=TextList.from_df(valid_df, path=LM_PATH, cols=corpus_cols, processor=lm_processor)\n",
    "                    )\n",
    "           .label_for_lm()\n",
    "           .databunch()\n",
    "          )\n",
    "\n",
    "data_lm.save(f'data_lm{data_suf}.pkl')"
   ]
  },
  {
   "cell_type": "code",
   "execution_count": 18,
   "metadata": {},
   "outputs": [],
   "source": [
    "data_lm = load_data(LM_PATH, f'data_lm{data_suf}.pkl', bs=bsz, bptt=bptt)"
   ]
  },
  {
   "cell_type": "code",
   "execution_count": 19,
   "metadata": {},
   "outputs": [],
   "source": [
    "# save vocab for classifiers\n",
    "pickle.dump(data_lm.train_ds.vocab, open(LM_PATH/f'vocab{data_suf}.pkl','wb'))"
   ]
  },
  {
   "cell_type": "markdown",
   "metadata": {},
   "source": [
    "Look at the databunch"
   ]
  },
  {
   "cell_type": "code",
   "execution_count": 20,
   "metadata": {},
   "outputs": [
    {
     "data": {
      "text/html": [
       "<table border=\"1\" class=\"dataframe\">\n",
       "  <thead>\n",
       "    <tr style=\"text-align: right;\">\n",
       "      <th>idx</th>\n",
       "      <th>text</th>\n",
       "    </tr>\n",
       "  </thead>\n",
       "  <tbody>\n",
       "    <tr>\n",
       "      <td>0</td>\n",
       "      <td>service center xxbos xxmaj train staff to know how to do their jobs . i went in one day to purchase a permit and their system crashed . xxmaj another time i was issued a temporary permit ( as a new employee ) . i returned because the permit i was issued was only for 5 days , when the temporary permit is suppose to be for a longer time</td>\n",
       "    </tr>\n",
       "    <tr>\n",
       "      <td>1</td>\n",
       "      <td>suggestions . xxbos i love the off site parking . xxmaj it better meets my needs budget - wise than the on campus parking . xxbos xxmaj when there 's actually a parking spot for students . xxbos xxmaj bottom line : xxmaj food is extremely overpriced and dining halls are extremely stingy in the amount of food they serve you . xxmaj for instance , when xxup ovt is</td>\n",
       "    </tr>\n",
       "    <tr>\n",
       "      <td>2</td>\n",
       "      <td>having to help get these students registered across campus . xxmaj and for the students it makes it hard for them to get the classes they need . xxbos xxmaj really hard to figure out where to park based on the website , as well as what my parking rate will be and if i , as a grad student , have other options for where to park and how</td>\n",
       "    </tr>\n",
       "    <tr>\n",
       "      <td>3</td>\n",
       "      <td>provide policies that do not contradict productivity and reward positive impacts in the work enviroment xxbos xxmaj very knowledgeable staff . xxmaj there is always someone that i can reach out to that has expertise on what i need help with . xxbos xxmaj at xxmaj starbucks to be more attentive to the customers . i know it is busy but sometimes they do not acknowledge customers . xxbos i</td>\n",
       "    </tr>\n",
       "    <tr>\n",
       "      <td>4</td>\n",
       "      <td>despite repeated complaints . xxbos provide inventory lists and follow - ups via email . xxbos xxmaj more parking xxunk spaces for 3 hours - the $ 8 dollar parking fee for all day may not be worth it if i only go for less than 3 hours but more than 1 hour . xxbos xxmaj julia xxmaj halladay who is not there anymore was the only person i could</td>\n",
       "    </tr>\n",
       "  </tbody>\n",
       "</table>"
      ],
      "text/plain": [
       "<IPython.core.display.HTML object>"
      ]
     },
     "metadata": {},
     "output_type": "display_data"
    }
   ],
   "source": [
    "data_lm.show_batch()"
   ]
  },
  {
   "cell_type": "code",
   "execution_count": 21,
   "metadata": {},
   "outputs": [
    {
     "data": {
      "text/plain": [
       "['xxunk',\n",
       " 'xxpad',\n",
       " 'xxbos',\n",
       " 'xxeos',\n",
       " 'xxfld',\n",
       " 'xxmaj',\n",
       " 'xxup',\n",
       " 'xxrep',\n",
       " 'xxwrep',\n",
       " '.']"
      ]
     },
     "execution_count": 21,
     "metadata": {},
     "output_type": "execute_result"
    }
   ],
   "source": [
    "data_lm.train_ds.vocab.itos[:10]"
   ]
  },
  {
   "cell_type": "code",
   "execution_count": 22,
   "metadata": {},
   "outputs": [
    {
     "name": "stdout",
     "output_type": "stream",
     "text": [
      "532302 39904\n",
      "59145 39904\n"
     ]
    }
   ],
   "source": [
    "print(len(data_lm.train_ds), len(data_lm.train_ds.vocab.itos))\n",
    "print(len(data_lm.valid_ds), len(data_lm.valid_ds.vocab.itos))"
   ]
  },
  {
   "cell_type": "code",
   "execution_count": 23,
   "metadata": {},
   "outputs": [
    {
     "name": "stdout",
     "output_type": "stream",
     "text": [
      "torch.Size([128, 70])\n",
      "torch.Size([128, 70])\n"
     ]
    },
    {
     "data": {
      "text/plain": [
       "(None, None)"
      ]
     },
     "execution_count": 23,
     "metadata": {},
     "output_type": "execute_result"
    }
   ],
   "source": [
    "batch = next(iter(data_lm.train_dl))\n",
    "print(batch[0].size()), print(batch[1].size())"
   ]
  },
  {
   "cell_type": "code",
   "execution_count": 24,
   "metadata": {},
   "outputs": [
    {
     "data": {
      "text/plain": [
       "\". xxmaj the employee at the desk said they did n't issue the permit . xxmaj seriously ? ! xxmaj how did manage to get the permit then ? xxbos xxmaj not many choice of the food we can pick at the dinning hall , also , the food quality is not as fine as i expect , and the price is not reasonable . xxbos xxmaj adding more tables\""
      ]
     },
     "execution_count": 24,
     "metadata": {},
     "output_type": "execute_result"
    }
   ],
   "source": [
    "' '.join([ data_lm.train_ds.vocab.itos[idx] for idx in batch[0][0,:] ])"
   ]
  },
  {
   "cell_type": "markdown",
   "metadata": {},
   "source": [
    "To create a backwards databunch ..."
   ]
  },
  {
   "cell_type": "code",
   "execution_count": 25,
   "metadata": {},
   "outputs": [
    {
     "data": {
      "text/html": [
       "<table border=\"1\" class=\"dataframe\">\n",
       "  <thead>\n",
       "    <tr style=\"text-align: right;\">\n",
       "      <th>idx</th>\n",
       "      <th>text</th>\n",
       "    </tr>\n",
       "  </thead>\n",
       "  <tbody>\n",
       "    <tr>\n",
       "      <td>0</td>\n",
       "      <td>xxmaj andrew xxmaj dr. xxmaj xxbos subjects these on attended ever have i discussions best the of some are they . department the in happening from this like anything keeps it and meetings staff our of all during this like issue address director my that say to have would i xxbos healthy and good so is food the xxmaj xxbos nothing xxbos textbook a finding in helpful are people and</td>\n",
       "    </tr>\n",
       "    <tr>\n",
       "      <td>1</td>\n",
       "      <td>like d i xxbos ! helpful extremely been has candi xxmaj xxbos early that close n't do markets xxmaj xxbos issues personal with direction of source great a provide and helpful very is staff the xxbos . be to needs it than difficult more it make restrictions xxmaj . hours work best determine to office each allow , . dept across guidelines general xxmaj . trusted feel n't do i</td>\n",
       "    </tr>\n",
       "    <tr>\n",
       "      <td>2</td>\n",
       "      <td>n't do i , sometimes because , degrees xxmaj 64 at open be should courts food more xxmaj . lower bit a be should prices xxmaj xxbos . answers with us to back get to someone for wait to have n't do we so , rules and guidelines clear are there where areas in efficient and helpful be would assistance / information online xxmaj xxbos speed the xxmaj xxbos .</td>\n",
       "    </tr>\n",
       "    <tr>\n",
       "      <td>3</td>\n",
       "      <td>in - log and site business max xxmaj office xxmaj the use we when even xxmaj . use to difficult very is site storehouse the xxmaj xxbos . goes it where know will we so package the on is it orders that person the of name the that supplies office xxmaj or stores through ordering when xxmaj . lawson xxmaj in things find to able be xxmaj \\n  r</td>\n",
       "    </tr>\n",
       "    <tr>\n",
       "      <td>4</td>\n",
       "      <td>i , example for , confusing website their find also i . call to have you ; there person a to speak n't ca you that frustrating is it xxmaj xxbos lights more xxunk be to need shops titan the xxmaj xxbos comment no xxmaj xxbos . experienced less is but service lip in good basically or fluent maybe is who applicant an accepting than rather knowledgeable and experienced more</td>\n",
       "    </tr>\n",
       "  </tbody>\n",
       "</table>"
      ],
      "text/plain": [
       "<IPython.core.display.HTML object>"
      ]
     },
     "metadata": {},
     "output_type": "display_data"
    }
   ],
   "source": [
    "data_lm_bwd = load_data(LM_PATH, f'data_lm{data_suf}.pkl', bs=bsz, bptt=bptt, backwards=True)\n",
    "data_lm_bwd.show_batch()"
   ]
  },
  {
   "cell_type": "markdown",
   "metadata": {},
   "source": [
    "### Configure a forward or backwards run"
   ]
  },
  {
   "cell_type": "code",
   "execution_count": 51,
   "metadata": {},
   "outputs": [],
   "source": [
    "backwards = True\n",
    "\n",
    "m_pre = 'bwd_' if (backwards) else 'fwd_'\n",
    "data = load_data(LM_PATH, f'data_lm{data_suf}.pkl', bs=bsz, bptt=bptt, backwards=backwards)"
   ]
  },
  {
   "cell_type": "markdown",
   "metadata": {},
   "source": [
    "### Build the LanguageModel (baseline)"
   ]
  },
  {
   "cell_type": "markdown",
   "metadata": {},
   "source": [
    "Our Language Model (LM) is composed of a backbone and a custom head.  The backbone is initialized with the weights of an LM trained on a larger corpus, [Wikitext 103](https://blog.einstein.ai/the-wikitext-long-term-dependency-language-modeling-dataset/) and the custom head is a linear classifier.  The vocabulary of the two datasets are slightly different, so when loading the weights, we take care to put the embedding weights at the right place, and we randomly initiliaze the embeddings for words in our vocabulary that weren't in the wikitext-103 vocabulary of our pretrained model.\n",
    "\n",
    "The pretrained model will be downloaded on first use. We also use **Mixed Precision** Trianing, which enables us to use a higher batch size by training part of our model in FP16 precision, and also speeds up trqining by a factor 2 to 3 on modern GPUs.\n",
    "\n",
    "**bptt** (*also known traditionally in NLP LM as ngrams*) in fastai LMs is approximated to a std. deviation around 70, by perturbing the sequence length on a per-batch basis. This is akin to shuffling our data in computer vision, only that in NLP we cannot shuffle inputs and we have to maintain statefulness. \n",
    "\n",
    "Since we are predicting words using ngrams, we want our next batch to line up with the end-points of the previous mini-batch's items. batch-size is constant and but the fastai library expands and contracts bptt each mini-batch using a clever stochastic implementation of a batch. (original credits attributed to [Smerity](https://twitter.com/jeremyphoward/status/980227258395770882))\n",
    "\n",
    "We setup the **dropouts** for the model - these values have been chosen after experimentation. If you need to update them for custom LMs, you can change the weighting factor (0.7 here) based on the amount of data you have. For more data, you can reduce dropout factor and for small datasets, you can reduce overfitting by choosing a higher dropout factor. *No other dropout value requires tuning*\n",
    "\n",
    "We first tune the last embedding layer so that the missing tokens initialized with mean weights get tuned properly. So we freeze everything except the last layer (the `Learner` object is frozen by default)\n",
    "\n",
    "We also keep track of the *accuracy* metric."
   ]
  },
  {
   "cell_type": "code",
   "execution_count": null,
   "metadata": {},
   "outputs": [],
   "source": [
    "try: learn.purge(); learn = None; gc.collect(); torch.cuda.empty_cache()\n",
    "except: pass"
   ]
  },
  {
   "cell_type": "code",
   "execution_count": 56,
   "metadata": {},
   "outputs": [],
   "source": [
    "learn = language_model_learner(data, arch=AWD_LSTM, drop_mult=0.7) #, alpha=2, beta=1)\n",
    "learn = learn.to_fp16(clip=0.12)\n",
    "\n",
    "# grad_clip = partial(GradientClipping, clip=0.12)\n",
    "# csv_logger = partial(callbacks.CSVLogger, filename=f'{yyyymmdd}_{m_pre}lm_bestmodel{data_suf}')\n",
    "best_model = partial(callbacks.SaveModelCallback, monitor='accuracy', mode='max', \n",
    "                     name=f'{m_pre}lm_bestmodel{data_suf}')\n",
    "\n",
    "learn.callback_fns += [best_model]\n",
    "learn.metrics = [accuracy]\n",
    "learn.true_wd = True"
   ]
  },
  {
   "cell_type": "code",
   "execution_count": 57,
   "metadata": {},
   "outputs": [
    {
     "name": "stdout",
     "output_type": "stream",
     "text": [
      "rm: cannot remove '../data/lm/models/bwd_lm_bestmodel*': No such file or directory\r\n"
     ]
    }
   ],
   "source": [
    "best_model_path = LM_PATH/f'models/{m_pre}lm_bestmodel{data_suf}*'\n",
    "!rm {best_model_path}"
   ]
  },
  {
   "cell_type": "code",
   "execution_count": 58,
   "metadata": {},
   "outputs": [
    {
     "data": {
      "text/html": [],
      "text/plain": [
       "<IPython.core.display.HTML object>"
      ]
     },
     "metadata": {},
     "output_type": "display_data"
    },
    {
     "name": "stdout",
     "output_type": "stream",
     "text": [
      "LR Finder is complete, type {learner_name}.recorder.plot() to see the graph.\n"
     ]
    },
    {
     "data": {
      "image/png": "[encoded data removed]",
      "text/plain": [
       "<Figure size 648x432 with 1 Axes>"
      ]
     },
     "metadata": {},
     "output_type": "display_data"
    }
   ],
   "source": [
    "learn.lr_find(start_lr=1e-5, end_lr=1e+1, wd=wd)\n",
    "learn.recorder.plot()"
   ]
  },
  {
   "cell_type": "markdown",
   "metadata": {},
   "source": [
    "We set learning rates and fit our IMDB LM. We first run one epoch to tune the last layer which contains the embedding weights. This should help the missing tokens in the wikitext103 learn better weights."
   ]
  },
  {
   "cell_type": "code",
   "execution_count": 59,
   "metadata": {},
   "outputs": [],
   "source": [
    "lr = 3e-2"
   ]
  },
  {
   "cell_type": "code",
   "execution_count": 60,
   "metadata": {},
   "outputs": [
    {
     "data": {
      "text/html": [
       "Total time: 07:03 <p><table border=\"1\" class=\"dataframe\">\n",
       "  <thead>\n",
       "    <tr style=\"text-align: left;\">\n",
       "      <th>epoch</th>\n",
       "      <th>train_loss</th>\n",
       "      <th>valid_loss</th>\n",
       "      <th>accuracy</th>\n",
       "      <th>time</th>\n",
       "    </tr>\n",
       "  </thead>\n",
       "  <tbody>\n",
       "    <tr>\n",
       "      <td>0</td>\n",
       "      <td>4.082937</td>\n",
       "      <td>3.806565</td>\n",
       "      <td>0.329321</td>\n",
       "      <td>07:03</td>\n",
       "    </tr>\n",
       "  </tbody>\n",
       "</table>"
      ],
      "text/plain": [
       "<IPython.core.display.HTML object>"
      ]
     },
     "metadata": {},
     "output_type": "display_data"
    },
    {
     "name": "stdout",
     "output_type": "stream",
     "text": [
      "Better model found at epoch 0 with accuracy value: 0.32932090759277344.\n",
      "CPU times: user 4min 52s, sys: 2min 13s, total: 7min 5s\n",
      "Wall time: 7min 4s\n"
     ]
    }
   ],
   "source": [
    "%%time\n",
    "learn.fit_one_cycle(1, lr, moms=(0.8,0.7), wd=wd)"
   ]
  },
  {
   "cell_type": "code",
   "execution_count": 61,
   "metadata": {},
   "outputs": [],
   "source": [
    "learn.save(f'{m_pre}lm_last_ft{data_suf}')"
   ]
  },
  {
   "cell_type": "code",
   "execution_count": 62,
   "metadata": {},
   "outputs": [],
   "source": [
    "# best model is loaded at conclusion of previous fit #learn = learn.load(f'{l_pre}lm_last_ft{exp_suffix}')"
   ]
  },
  {
   "cell_type": "code",
   "execution_count": 63,
   "metadata": {},
   "outputs": [],
   "source": [
    "learn.unfreeze()"
   ]
  },
  {
   "cell_type": "code",
   "execution_count": 64,
   "metadata": {},
   "outputs": [
    {
     "data": {
      "text/html": [],
      "text/plain": [
       "<IPython.core.display.HTML object>"
      ]
     },
     "metadata": {},
     "output_type": "display_data"
    },
    {
     "name": "stdout",
     "output_type": "stream",
     "text": [
      "LR Finder is complete, type {learner_name}.recorder.plot() to see the graph.\n"
     ]
    },
    {
     "data": {
      "image/png": "[encoded data removed]",
      "text/plain": [
       "<Figure size 648x432 with 1 Axes>"
      ]
     },
     "metadata": {},
     "output_type": "display_data"
    }
   ],
   "source": [
    "learn.lr_find(start_lr=1e-3/10, end_lr=1e-2*10, wd=wd)\n",
    "learn.recorder.plot()"
   ]
  },
  {
   "cell_type": "code",
   "execution_count": 65,
   "metadata": {},
   "outputs": [],
   "source": [
    "lr = 4e-3\n",
    "# using discriminative\n",
    "# lrs = np.array([lr/6, lr/3, lr, lr/2])"
   ]
  },
  {
   "cell_type": "code",
   "execution_count": 66,
   "metadata": {},
   "outputs": [
    {
     "data": {
      "text/html": [
       "Total time: 2:04:30 <p><table border=\"1\" class=\"dataframe\">\n",
       "  <thead>\n",
       "    <tr style=\"text-align: left;\">\n",
       "      <th>epoch</th>\n",
       "      <th>train_loss</th>\n",
       "      <th>valid_loss</th>\n",
       "      <th>accuracy</th>\n",
       "      <th>time</th>\n",
       "    </tr>\n",
       "  </thead>\n",
       "  <tbody>\n",
       "    <tr>\n",
       "      <td>0</td>\n",
       "      <td>3.793325</td>\n",
       "      <td>3.661272</td>\n",
       "      <td>0.345276</td>\n",
       "      <td>08:15</td>\n",
       "    </tr>\n",
       "    <tr>\n",
       "      <td>1</td>\n",
       "      <td>3.676758</td>\n",
       "      <td>3.561811</td>\n",
       "      <td>0.356453</td>\n",
       "      <td>08:16</td>\n",
       "    </tr>\n",
       "    <tr>\n",
       "      <td>2</td>\n",
       "      <td>3.606529</td>\n",
       "      <td>3.493328</td>\n",
       "      <td>0.364470</td>\n",
       "      <td>08:17</td>\n",
       "    </tr>\n",
       "    <tr>\n",
       "      <td>3</td>\n",
       "      <td>3.548817</td>\n",
       "      <td>3.449289</td>\n",
       "      <td>0.369283</td>\n",
       "      <td>08:17</td>\n",
       "    </tr>\n",
       "    <tr>\n",
       "      <td>4</td>\n",
       "      <td>3.484219</td>\n",
       "      <td>3.415923</td>\n",
       "      <td>0.373160</td>\n",
       "      <td>08:17</td>\n",
       "    </tr>\n",
       "    <tr>\n",
       "      <td>5</td>\n",
       "      <td>3.443973</td>\n",
       "      <td>3.394410</td>\n",
       "      <td>0.376093</td>\n",
       "      <td>08:17</td>\n",
       "    </tr>\n",
       "    <tr>\n",
       "      <td>6</td>\n",
       "      <td>3.401623</td>\n",
       "      <td>3.376709</td>\n",
       "      <td>0.378023</td>\n",
       "      <td>08:16</td>\n",
       "    </tr>\n",
       "    <tr>\n",
       "      <td>7</td>\n",
       "      <td>3.359365</td>\n",
       "      <td>3.365059</td>\n",
       "      <td>0.379823</td>\n",
       "      <td>08:16</td>\n",
       "    </tr>\n",
       "    <tr>\n",
       "      <td>8</td>\n",
       "      <td>3.324296</td>\n",
       "      <td>3.355489</td>\n",
       "      <td>0.381028</td>\n",
       "      <td>08:17</td>\n",
       "    </tr>\n",
       "    <tr>\n",
       "      <td>9</td>\n",
       "      <td>3.282967</td>\n",
       "      <td>3.349270</td>\n",
       "      <td>0.382091</td>\n",
       "      <td>08:18</td>\n",
       "    </tr>\n",
       "    <tr>\n",
       "      <td>10</td>\n",
       "      <td>3.252751</td>\n",
       "      <td>3.343394</td>\n",
       "      <td>0.383063</td>\n",
       "      <td>08:17</td>\n",
       "    </tr>\n",
       "    <tr>\n",
       "      <td>11</td>\n",
       "      <td>3.232127</td>\n",
       "      <td>3.341010</td>\n",
       "      <td>0.383584</td>\n",
       "      <td>08:17</td>\n",
       "    </tr>\n",
       "    <tr>\n",
       "      <td>12</td>\n",
       "      <td>3.196409</td>\n",
       "      <td>3.340172</td>\n",
       "      <td>0.384069</td>\n",
       "      <td>08:16</td>\n",
       "    </tr>\n",
       "    <tr>\n",
       "      <td>13</td>\n",
       "      <td>3.185646</td>\n",
       "      <td>3.339848</td>\n",
       "      <td>0.384203</td>\n",
       "      <td>08:16</td>\n",
       "    </tr>\n",
       "    <tr>\n",
       "      <td>14</td>\n",
       "      <td>3.178760</td>\n",
       "      <td>3.340372</td>\n",
       "      <td>0.384189</td>\n",
       "      <td>08:16</td>\n",
       "    </tr>\n",
       "  </tbody>\n",
       "</table>"
      ],
      "text/plain": [
       "<IPython.core.display.HTML object>"
      ]
     },
     "metadata": {},
     "output_type": "display_data"
    },
    {
     "name": "stdout",
     "output_type": "stream",
     "text": [
      "Better model found at epoch 0 with accuracy value: 0.3452763855457306.\n",
      "Better model found at epoch 1 with accuracy value: 0.35645291209220886.\n",
      "Better model found at epoch 2 with accuracy value: 0.3644697070121765.\n",
      "Better model found at epoch 3 with accuracy value: 0.36928269267082214.\n",
      "Better model found at epoch 4 with accuracy value: 0.373159795999527.\n",
      "Better model found at epoch 5 with accuracy value: 0.3760925233364105.\n",
      "Better model found at epoch 6 with accuracy value: 0.3780229389667511.\n",
      "Better model found at epoch 7 with accuracy value: 0.3798225224018097.\n",
      "Better model found at epoch 8 with accuracy value: 0.3810279667377472.\n",
      "Better model found at epoch 9 with accuracy value: 0.38209086656570435.\n",
      "Better model found at epoch 10 with accuracy value: 0.38306349515914917.\n",
      "Better model found at epoch 11 with accuracy value: 0.38358354568481445.\n",
      "Better model found at epoch 12 with accuracy value: 0.3840692639350891.\n",
      "Better model found at epoch 13 with accuracy value: 0.38420307636260986.\n",
      "CPU times: user 1h 25min 52s, sys: 39min 10s, total: 2h 5min 2s\n",
      "Wall time: 2h 4min 30s\n"
     ]
    }
   ],
   "source": [
    "%%time\n",
    "learn.fit_one_cycle(15, max_lr=slice(lr/10, lr), moms=(0.8,0.7), wd=wd)\n",
    "\n",
    "# Notes:\n",
    "# 08/27/2019 Answer Only (fwd): acc=0.3485 | loss=3.328849 ... (bwd): acc=0.3828 | loss=3.3445714\n",
    "# 10/15/2019 Answer Only (fwd): acc=0.3493 | loss=3.3253813 ... (bwd): acc=0.3843 | loss=3.3392181"
   ]
  },
  {
   "cell_type": "code",
   "execution_count": 67,
   "metadata": {},
   "outputs": [],
   "source": [
    "learn.save(f'{m_pre}lm{data_suf}')"
   ]
  },
  {
   "cell_type": "code",
   "execution_count": 68,
   "metadata": {},
   "outputs": [],
   "source": [
    "learn.save_encoder(f'{m_pre}lm_enc{data_suf}')"
   ]
  },
  {
   "cell_type": "code",
   "execution_count": 69,
   "metadata": {},
   "outputs": [
    {
     "data": {
      "image/png": "[encoded data removed]",
      "text/plain": [
       "<Figure size 648x432 with 1 Axes>"
      ]
     },
     "metadata": {},
     "output_type": "display_data"
    }
   ],
   "source": [
    "learn.recorder.plot_losses()"
   ]
  },
  {
   "cell_type": "markdown",
   "metadata": {},
   "source": [
    "Then we can have a look at the results. It shows a certain amount of words (default 20), then the next 20 target words and the ones that were predicted.\n",
    "\n",
    "See here: https://docs.fast.ai/tutorial.data.html#Language-modelling"
   ]
  },
  {
   "cell_type": "code",
   "execution_count": 70,
   "metadata": {},
   "outputs": [
    {
     "data": {
      "text/plain": [
       "[3.3392181, tensor(0.3843)]"
      ]
     },
     "execution_count": 70,
     "metadata": {},
     "output_type": "execute_result"
    }
   ],
   "source": [
    "learn.validate()"
   ]
  },
  {
   "cell_type": "code",
   "execution_count": 71,
   "metadata": {},
   "outputs": [
    {
     "data": {
      "text/html": [
       "<table border=\"1\" class=\"dataframe\">\n",
       "  <thead>\n",
       "    <tr style=\"text-align: right;\">\n",
       "      <th>text</th>\n",
       "      <th>target</th>\n",
       "      <th>pred</th>\n",
       "    </tr>\n",
       "  </thead>\n",
       "  <tbody>\n",
       "    <tr>\n",
       "      <td>. expenses monthly my cover to am i that adjustments same the make to forced not are people paid -</td>\n",
       "      <td>higher the xxmaj . reductions salary of brunt the taken has staff that feel i xxbos xxunk xxbos . ages</td>\n",
       "      <td>high so so . ) salary and because the bear have department and seems i , . xxbos . campus</td>\n",
       "    </tr>\n",
       "    <tr>\n",
       "      <td>xxmaj in members staff the of many with worked have i xxbos n xxbos bumps speed the dodging cars the</td>\n",
       "      <td>all with hazard greater a make they and , bicycles on those for hazard a are they way- discovery xxmaj</td>\n",
       "      <td>all with especially safety a creates would xxmaj , cars for people for dangerous safety is bumps xxmaj the xxmaj</td>\n",
       "    </tr>\n",
       "    <tr>\n",
       "      <td>a of high as be should parking of availability xxmaj . disgusting absolutely is this xxmaj . excuses xxup no</td>\n",
       "      <td>xxup -- 7 / 24 , everyone for parking free and garages parking massive have outta we xxmaj . insulting</td>\n",
       "      <td>xxup are parking / 24 available day for parking enough xxmaj , parking more xxup to you xxmaj . campus</td>\n",
       "    </tr>\n",
       "    <tr>\n",
       "      <td>streets campus on presence police consistent a xxbos . classes have i day every campus to mins 40 walk to</td>\n",
       "      <td>having up end i typically xxmaj . students campus - off supporting to crucial is this , availability parking limited</td>\n",
       "      <td>have of end i . xxmaj . parking for off off for of closer is parking xxmaj campus parking of</td>\n",
       "    </tr>\n",
       "    <tr>\n",
       "      <td>how and communities of principles the between disconnect a be to seems there xxmaj xxbos . experience my from students</td>\n",
       "      <td>all with patient are they xxmaj . helpful and nice extremely are cashiers the of all xxmaj xxbos . merchandise</td>\n",
       "      <td>the to interacting and they xxmaj xxbos helpful and friendly very are staff the xxmaj all xxmaj xxbos . campus</td>\n",
       "    </tr>\n",
       "  </tbody>\n",
       "</table>"
      ],
      "text/plain": [
       "<IPython.core.display.HTML object>"
      ]
     },
     "metadata": {},
     "output_type": "display_data"
    }
   ],
   "source": [
    "learn.show_results()"
   ]
  },
  {
   "cell_type": "code",
   "execution_count": null,
   "metadata": {},
   "outputs": [],
   "source": [
    "learn.export(file=f'{m_pre}export_lm{data_suf}.pkl')"
   ]
  },
  {
   "cell_type": "markdown",
   "metadata": {},
   "source": [
    "#### Inference time (new in 1.40)  \n",
    "See: https://docs.fast.ai/tutorial.inference.html#Language-modelling"
   ]
  },
  {
   "cell_type": "code",
   "execution_count": 73,
   "metadata": {},
   "outputs": [],
   "source": [
    "def beam_search(learn, text:str, n_words:int, no_unk:bool=True, top_k:int=10, beam_sz:int=1000, temperature:float=1.,\n",
    "                    sep:str=' ', decoder=decode_spec_tokens):\n",
    "        \"Return the `n_words` that come after `text` using beam search.\"\n",
    "        learn.model.reset()\n",
    "        learn.model.eval()\n",
    "        xb, yb = learn.data.one_item(text)\n",
    "        nodes = None\n",
    "        nodes = xb.clone()               # ([1, 6])\n",
    "        scores = xb.new_zeros(1).float() # ([1])\n",
    "        with torch.no_grad():\n",
    "            for k in progress_bar(range(n_words), leave=False):\n",
    "                out = F.log_softmax(learn.model(xb)[0][:,-1], dim=-1).float() # ([1, 39328]) > ([10, 39328]) > ([100, 39328])\n",
    "                if no_unk: out[:,learn.data.vocab.stoi[UNK]] = -float('Inf')\n",
    "                values, indices = out.topk(top_k, dim=-1)                     # ([1, 10]) > ([10, 10])) > ([100, 10])\n",
    "                pdb.set_trace()\n",
    "                scores = (-values + scores[:,None]).view(-1)                  # ([10]) > ([100]) > ([1000]) > (2000)\n",
    "                \n",
    "                indices_idx = torch.arange(0,nodes.size(0))[:,None].expand(\n",
    "                    nodes.size(0), top_k).contiguous().view(-1)               # ([10]) > ([100]) > ([1000]) > (2000)\n",
    "                \n",
    "                sort_idx = scores.argsort()[:beam_sz]                         #        >         > ([200]) > (200)\n",
    "                scores = scores[sort_idx]\n",
    "                \n",
    "                # nodes[:,None].expand(nodes.size(0),top_k,nodes.size(1)) =>  ([1, 10, 6]) > ([10, 10, 7]) > ([100, 10, 8])\n",
    "                # indices[:,:,None].expand(nodes.size(0),top_k,1),]       =>  ([1, 10, 1]) > ([10, 10, 1]) > ([100, 10, 1])\n",
    "                \n",
    "                nodes = torch.cat([nodes[:,None].expand(nodes.size(0),top_k,nodes.size(1)),\n",
    "                                indices[:,:,None].expand(nodes.size(0),top_k,1),], dim=2) # ([1, 10, 7]) > ([10, 10, 8]) > ([100, 10, 9])\n",
    "                \n",
    "                \n",
    "                nodes = nodes.view(-1, nodes.size(2))[sort_idx]              # ([10, 7]) > ([10, 10, 8]) > ([200, 9])\n",
    "                learn.model[0].select_hidden(indices_idx[sort_idx])\n",
    "                xb = nodes[:,-1][:,None]\n",
    "        if temperature != 1.: scores.div_(temperature)\n",
    "        node_idx = torch.multinomial(torch.exp(-scores), 1).item()\n",
    "        return text + sep + sep.join(decoder(learn.data.vocab.textify([i.item() for i in nodes[node_idx][1:] ], \n",
    "                                                                     sep=None)))\n"
   ]
  },
  {
   "cell_type": "code",
   "execution_count": 14,
   "metadata": {},
   "outputs": [],
   "source": [
    "backwards = False\n",
    "data_suf = ''\n",
    "m_pre = 'bwd_' if (backwards) else 'fwd_'\n",
    "\n",
    "data = load_data(LM_PATH, f'data_lm{data_suf}.pkl', bs=bsz, bptt=bptt, backwards=backwards)\n",
    "\n",
    "learn = language_model_learner(data, AWD_LSTM, pretrained=False).load(f'{m_pre}lm_bestmodel{data_suf}', \n",
    "                                                                      with_opt=False);"
   ]
  },
  {
   "cell_type": "markdown",
   "metadata": {},
   "source": [
    "Later you you rebuild your learner and make predictions"
   ]
  },
  {
   "cell_type": "code",
   "execution_count": 15,
   "metadata": {},
   "outputs": [],
   "source": [
    "learn = load_learner(LM_PATH, f'{m_pre}export_lm{data_suf}.pkl')"
   ]
  },
  {
   "cell_type": "code",
   "execution_count": 16,
   "metadata": {},
   "outputs": [
    {
     "name": "stdout",
     "output_type": "stream",
     "text": [
      "The library needs to The library needs to have more spaces for students to study . It is very difficult to find a place to study , especially during midterm and final weeks . It is very difficult to find a place to sit and study\n"
     ]
    }
   ],
   "source": [
    "# print(learn.predict('The library needs to', n_words=40))\n",
    "print(learn.beam_search('The library needs to', n_words=40, beam_sz=200))"
   ]
  },
  {
   "cell_type": "code",
   "execution_count": 17,
   "metadata": {},
   "outputs": [
    {
     "name": "stdout",
     "output_type": "stream",
     "text": [
      "The best thing about parking is  The best thing about parking is the fact that i can park in a and b spots after 4:30 pm . i also like that i can park in a and b spots after 4:30 pm   and that i can park in a or b\n"
     ]
    }
   ],
   "source": [
    "# print(learn.predict('The best thing about parking is', n_words=40))\n",
    "print(learn.beam_search('The best thing about parking is ', n_words=40, beam_sz=200))"
   ]
  },
  {
   "cell_type": "code",
   "execution_count": 18,
   "metadata": {},
   "outputs": [
    {
     "name": "stdout",
     "output_type": "stream",
     "text": [
      "The worse thing about parking is  The worse thing about parking is that there are so many \" a \" and \" b \" spots and not enough \" s \" spots . There are way too many \" a \" and \" b \" spots and not enough \" s\n"
     ]
    }
   ],
   "source": [
    "# print(learn.predict('The worse thing about parking is', n_words=40))\n",
    "print(learn.beam_search('The worse thing about parking is ', n_words=40, beam_sz=200))"
   ]
  },
  {
   "cell_type": "markdown",
   "metadata": {},
   "source": [
    "## Getting document vectors from LM"
   ]
  },
  {
   "cell_type": "code",
   "execution_count": 27,
   "metadata": {},
   "outputs": [
    {
     "name": "stdout",
     "output_type": "stream",
     "text": [
      "cuda:1\n"
     ]
    }
   ],
   "source": [
    "backwards = False\n",
    "m_pre = 'bwd_' if backwards else 'fwd_'\n",
    "data_suf = ''\n",
    "\n",
    "# device = torch.device('cpu')\n",
    "device = torch.device('cuda:1') if torch.cuda.is_available() else torch.device('cpu')\n",
    "print(device)"
   ]
  },
  {
   "cell_type": "code",
   "execution_count": 28,
   "metadata": {},
   "outputs": [
    {
     "name": "stdout",
     "output_type": "stream",
     "text": [
      "591447\n"
     ]
    }
   ],
   "source": [
    "verbatims_df = pd.read_csv(LM_PATH/'all.csv', dtype=lm_dtypes, parse_dates=[])\n",
    "\n",
    "inf_df = verbatims_df.copy() #verbatims_df[test_df.SurveyID == 130].copy()\n",
    "inf_df.reset_index(drop=True, inplace=True)\n",
    "print(len(verbatims_df))\n",
    "\n",
    "corpus_cols = ['AnswerText']  # ['QuestionText', 'AnswerText']"
   ]
  },
  {
   "cell_type": "code",
   "execution_count": 29,
   "metadata": {},
   "outputs": [],
   "source": [
    "inf_learn = None; gc.collect()\n",
    "\n",
    "inf_learn = load_learner(LM_PATH, f'{m_pre}export_lm{data_suf}.pkl')\n",
    "txt_procs = inf_learn.data.train_ds.processor\n",
    "\n",
    "inf_learn.model = inf_learn.model.to(device)\n",
    "inf_learn.model = inf_learn.model.eval()"
   ]
  },
  {
   "cell_type": "markdown",
   "metadata": {},
   "source": [
    "### Predict by batch"
   ]
  },
  {
   "cell_type": "code",
   "execution_count": 30,
   "metadata": {},
   "outputs": [],
   "source": [
    "inf_data = TextList.from_df(inf_df, cols=corpus_cols, processor=txt_procs).split_none().label_empty()"
   ]
  },
  {
   "cell_type": "code",
   "execution_count": 31,
   "metadata": {},
   "outputs": [],
   "source": [
    "# build a DataLoader => fastai.basic_data.DeviceDataLoader\n",
    "collate_fn = partial(pad_collate, pad_first=False, backwards=backwards)\n",
    "\n",
    "sampler = SortSampler(inf_data.train.x, key=[len(t) for t in inf_data.train.x.items].__getitem__)\n",
    "\n",
    "dl = DeviceDataLoader.create(inf_data.train, bs=16, sampler=sampler, collate_fn=collate_fn, device=device)"
   ]
  },
  {
   "cell_type": "code",
   "execution_count": 32,
   "metadata": {},
   "outputs": [
    {
     "name": "stdout",
     "output_type": "stream",
     "text": [
      "0\n",
      "10000\n",
      "20000\n",
      "30000\n",
      "CPU times: user 5min 15s, sys: 2min 10s, total: 7min 26s\n",
      "Wall time: 6min 53s\n"
     ]
    }
   ],
   "source": [
    "%%time \n",
    "# ... entire dataset takes less than 8 mins\n",
    "\n",
    "doc_vecs = []\n",
    "\n",
    "with torch.no_grad():\n",
    "    for index, (xb, yb) in enumerate(dl):\n",
    "        if index % 10000 == 0:  print(index)\n",
    "\n",
    "        # reset hidden state (if you don't do this you will OOM)\n",
    "        inf_learn.model.reset()\n",
    "        \n",
    "        # for lm, have to do one item at a time and we ignore probs since it will vary\n",
    "        # based on the # of tokens in each example\n",
    "        _ , raw_outputs, outputs = inf_learn.model(xb)\n",
    "       \n",
    "        doc_vecs.append(to_detach(raw_outputs[-1][:,-1,:]))\n",
    "\n",
    "all_vecs = torch.cat(doc_vecs)\n",
    "\n",
    "if hasattr(dl, 'sampler'):\n",
    "    sampler_idxs = [i for i in dl.sampler]\n",
    "    reverse_sampler = np.argsort(sampler_idxs)\n",
    "    all_vecs = all_vecs[reverse_sampler]"
   ]
  },
  {
   "cell_type": "code",
   "execution_count": 33,
   "metadata": {},
   "outputs": [
    {
     "data": {
      "text/plain": [
       "torch.Size([591447, 400])"
      ]
     },
     "execution_count": 33,
     "metadata": {},
     "output_type": "execute_result"
    }
   ],
   "source": [
    "all_vecs.shape"
   ]
  },
  {
   "cell_type": "code",
   "execution_count": 34,
   "metadata": {},
   "outputs": [],
   "source": [
    "np.save(LM_PATH/f'{yyyymmdd}_{m_pre}docvecs_d400{data_suf}.npy', all_vecs.numpy())"
   ]
  },
  {
   "cell_type": "markdown",
   "metadata": {
    "heading_collapsed": true
   },
   "source": [
    "### Predict each row, one by one"
   ]
  },
  {
   "cell_type": "code",
   "execution_count": null,
   "metadata": {
    "hidden": true
   },
   "outputs": [],
   "source": [
    "%%time \n",
    "# ... ~ 55 seconds per 1,000 examples\n",
    "\n",
    "doc_vecs = []\n",
    "\n",
    "with torch.no_grad():\n",
    "    for index, row in inf_df.iterrows():\n",
    "        if index > 1000: break;\n",
    "        if index % 10000 == 0:  print(index)\n",
    "\n",
    "        # reset hidden state (if you don't do this you will OOM)\n",
    "        inf_learn.model.reset()\n",
    "        \n",
    "        # for lm, have to do one item at a time and we ignore probs since it will vary\n",
    "        # based on the # of tokens in each example\n",
    "        xb,yb = inf_learn.data.one_item(row[corpus_cols])\n",
    "        _ , raw_outputs, outputs = inf_learn.model(xb) if not backwards else inf_learn.model(xb.flip(1))\n",
    "       \n",
    "        doc_vecs.append(to_detach(raw_outputs[-1][:,-1,:]))\n",
    "        \n",
    "        \n",
    "all_vecs = torch.cat(doc_vecs)"
   ]
  },
  {
   "cell_type": "code",
   "execution_count": null,
   "metadata": {
    "hidden": true
   },
   "outputs": [],
   "source": [
    "all_vecs.shape"
   ]
  },
  {
   "cell_type": "code",
   "execution_count": null,
   "metadata": {
    "hidden": true
   },
   "outputs": [],
   "source": []
  }
 ],
 "metadata": {
  "kernelspec": {
   "display_name": "Python 3",
   "language": "python",
   "name": "python3"
  },
  "language_info": {
   "codemirror_mode": {
    "name": "ipython",
    "version": 3
   },
   "file_extension": ".py",
   "mimetype": "text/x-python",
   "name": "python",
   "nbconvert_exporter": "python",
   "pygments_lexer": "ipython3",
   "version": "3.7.6"
  },
  "varInspector": {
   "cols": {
    "lenName": 16,
    "lenType": 16,
    "lenVar": 40
   },
   "kernels_config": {
    "python": {
     "delete_cmd_postfix": "",
     "delete_cmd_prefix": "del ",
     "library": "var_list.py",
     "varRefreshCmd": "print(var_dic_list())"
    },
    "r": {
     "delete_cmd_postfix": ") ",
     "delete_cmd_prefix": "rm(",
     "library": "var_list.r",
     "varRefreshCmd": "cat(var_dic_list()) "
    }
   },
   "types_to_exclude": [
    "module",
    "function",
    "builtin_function_or_method",
    "instance",
    "_Feature"
   ],
   "window_display": false
  }
 },
 "nbformat": 4,
 "nbformat_minor": 2
}
