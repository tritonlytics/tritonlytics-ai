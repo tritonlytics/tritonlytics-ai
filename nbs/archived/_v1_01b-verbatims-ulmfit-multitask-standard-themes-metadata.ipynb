{
 "cells": [
  {
   "cell_type": "markdown",
   "metadata": {},
   "source": [
    "# Tritonlytics MultiTask Classification - Standard Themes Metadata\n",
    "\n",
    "Experiments related to building a LM and multilabel classification model for survey comments captured in the Tritonlytics survey delivery system"
   ]
  },
  {
   "cell_type": "code",
   "execution_count": 1,
   "metadata": {},
   "outputs": [],
   "source": [
    "%reload_ext autoreload\n",
    "%autoreload 2\n",
    "%matplotlib inline\n",
    "\n",
    "import sys\n",
    "sys.path.append('..')"
   ]
  },
  {
   "cell_type": "code",
   "execution_count": 2,
   "metadata": {},
   "outputs": [],
   "source": [
    "from fastai.text import *   # Quick accesss to NLP functionality\n",
    "from fastai.callbacks import *\n",
    "\n",
    "import pdb\n",
    "from tritonlytics import Metrics as metrics_util, DataGeneration as dg_util, PandasUtil as pd_util\n",
    "from tritonlytics.evaluation import *\n",
    "from tritonlytics.callbacks import RocAucEvaluation\n",
    "\n",
    "import dill as pickle\n",
    "\n",
    "import spacy\n",
    "spacy_en = spacy.load('en')\n",
    "spacy_es = spacy.load('es')\n",
    "\n",
    "# pandas and plotting config\n",
    "import seaborn as sns\n",
    "sns.set_style('whitegrid')\n",
    "\n",
    "plt.rcParams['figure.figsize'] = (9,6)\n",
    "\n",
    "pd.set_option('display.max_rows', 500)\n",
    "pd.set_option('display.max_columns', 500)\n",
    "pd.set_option('display.width', 1000)\n",
    "pd.set_option('display.max_colwidth', 100)"
   ]
  },
  {
   "cell_type": "code",
   "execution_count": 3,
   "metadata": {},
   "outputs": [
    {
     "name": "stdout",
     "output_type": "stream",
     "text": [
      "fastai version: 1.0.57\n"
     ]
    }
   ],
   "source": [
    "print(f'fastai version: {__version__}')"
   ]
  },
  {
   "cell_type": "code",
   "execution_count": 4,
   "metadata": {},
   "outputs": [
    {
     "name": "stdout",
     "output_type": "stream",
     "text": [
      "Using GPU #1\n"
     ]
    }
   ],
   "source": [
    "torch.cuda.set_device(1)\n",
    "print(f'Using GPU #{torch.cuda.current_device()}')"
   ]
  },
  {
   "cell_type": "markdown",
   "metadata": {
    "heading_collapsed": true
   },
   "source": [
    "## Utility methods"
   ]
  },
  {
   "cell_type": "code",
   "execution_count": 5,
   "metadata": {
    "hidden": true
   },
   "outputs": [],
   "source": [
    "def convert_to_snakecase(name):\n",
    "    s1 = re.sub('(.)([A-Z][a-z]+)', r'\\1_\\2', name)\n",
    "    return re.sub('([a-z0-9])([A-Z])', r'\\1_\\2', s1).lower().replace('__', '_') "
   ]
  },
  {
   "cell_type": "code",
   "execution_count": 6,
   "metadata": {
    "code_folding": [
     1
    ],
    "hidden": true
   },
   "outputs": [],
   "source": [
    "# https://drive.google.com/file/d/0B1yuv8YaUVlZZ1RzMFJmc1ZsQmM/view : apostrophe lookup dict\n",
    "appos_regex_repl = {\n",
    "    r\"\\baren't\\b\" : \"are not\",\n",
    "    r\"\\bcan't\\b\" : \"cannot\",\n",
    "    r\"\\bcouldn't\\b\" : \"could not\",\n",
    "    r\"\\bdidn't\\b\" : \"did not\",\n",
    "    r\"\\bdoesn't\\b\" : \"does not\",\n",
    "    r\"\\bdon't\\b\" : \"do not\",\n",
    "    r\"\\bhadn't\\b\" : \"had not\",\n",
    "    r\"\\bhasn't\\b\" : \"has not\",\n",
    "    r\"\\bhaven't\\b\" : \"have not\",\n",
    "    r\"\\bhe'd\\b\" : \"he would\",\n",
    "    r\"\\bhe'll\\b\" : \"he will\",\n",
    "    r\"\\bhe's\\b\" : \"he is\",\n",
    "    r\"\\bi'd\\b\" : \"I would\",\n",
    "    r\"\\bi'd\\b\" : \"I had\",\n",
    "    r\"\\bi'll\\b\" : \"I will\",\n",
    "    r\"\\bi'm\\b\" : \"I am\",\n",
    "    r\"\\bisn't\\b\" : \"is not\",\n",
    "    r\"\\bits\\b\" : \"it is\",\n",
    "    r\"\\bit's\\b\" : \"it is\",\n",
    "    r\"\\bit'll\\b\" : \"it will\",\n",
    "    r\"\\bi've\\b\" : \"I have\",\n",
    "    r\"\\blet's\\b\" : \"let us\",\n",
    "    r\"\\bmightn't\\b\" : \"might not\",\n",
    "    r\"\\bmustn't\\b\" : \"must not\",\n",
    "    r\"\\bshan't\\b\" : \"shall not\",\n",
    "    r\"\\bshe'd\\b\" : \"she would\",\n",
    "    r\"\\bshe'll\\b\" : \"she will\",\n",
    "    r\"\\bshe's\\b\" : \"she is\",\n",
    "    r\"\\bshouldn't\\b\" : \"should not\",\n",
    "    r\"\\bthat's\\b\" : \"that is\",\n",
    "    r\"\\bthere's\\b\" : \"there is\",\n",
    "    r\"\\bthey'd\\b\" : \"they would\",\n",
    "    r\"\\bthey'll\\b\" : \"they will\",\n",
    "    r\"\\bthey're\\b\" : \"they are\",\n",
    "    r\"\\bthey've\\b\" : \"they have\",\n",
    "    r\"\\bwe'd\\b\" : \"we would\",\n",
    "    r\"\\bwe're\\b\" : \"we are\",\n",
    "    r\"\\bweren't\\b\" : \"were not\",\n",
    "    r\"\\bwe've\\b\" : \"we have\",\n",
    "    r\"\\bwhat'll\\b\" : \"what will\",\n",
    "    r\"\\bwhat're\\b\" : \"what are\",\n",
    "    r\"\\bwhat's\\b\" : \"what is\",\n",
    "    r\"\\bwhat've\\b\" : \"what have\",\n",
    "    r\"\\bwhere's\\b\" : \"where is\",\n",
    "    r\"\\bwho'd\\b\" : \"who would\",\n",
    "    r\"\\bwho'll\\b\" : \"who will\",\n",
    "    r\"\\bwho're\\b\" : \"who are\",\n",
    "    r\"\\bwho's\\b\" : \"who is\",\n",
    "    r\"\\bwho've\\b\" : \"who have\",\n",
    "    r\"\\bwon't\\b\" : \"will not\",\n",
    "    r\"\\bwouldn't\\b\" : \"would not\",\n",
    "    r\"\\byou'd\\b\" : \"you would\",\n",
    "    r\"\\byou'll\\b\" : \"you will\",\n",
    "    r\"\\byou're\\b\" : \"you are\",\n",
    "    r\"\\byou've\\b\" : \"you have\",\n",
    "    r\"\\b're\\b\" : \" are\",\n",
    "    r\"\\bwasn't\\b\" : \"was not\",\n",
    "    r\"\\bwe'll\\b\" : \"will\",\n",
    "    r\"\\bdidn't\\b\" : \"did not\",\n",
    "    r\"\\btryin'\\b\" : \"trying\"\n",
    "}"
   ]
  },
  {
   "cell_type": "code",
   "execution_count": 7,
   "metadata": {
    "code_folding": [
     1
    ],
    "hidden": true
   },
   "outputs": [],
   "source": [
    "# based on https://www.kaggle.com/prashantkikani/pooled-gru-with-preprocessing\n",
    "emoji_str_repls = {\n",
    "    \"&lt;3\": \" love \",\n",
    "    \":]\" : \" happy \",\n",
    "    \"=)\" : \" happy \",\n",
    "    \"8)\": \" happy \",\n",
    "    \":-)\": \" happy \",\n",
    "    \":)\": \" happy \",\n",
    "    \"(-:\": \" happy \",\n",
    "    \"(:\": \" happy \",\n",
    "    \":&gt;\": \" happy \",\n",
    "    \":')\": \" happy \",\n",
    "    \"(:\" : \" happy \",\n",
    "    \":d\": \" laughing \",\n",
    "    \":dd\": \" laughing \",\n",
    "    \";-)\" : \" wink \",\n",
    "    \";)\": \" wink \",\n",
    "    \":p\": \" playful \",\n",
    "    \":o\" : \" surprise \",\n",
    "    \":-(\": \" sad \",\n",
    "    \":(\": \" sad \",\n",
    "    \"=(\" : \" sad \",\n",
    "    \"):\" : \" sad \",\n",
    "    \":/\": \" skeptical \",\n",
    "    \":s\": \" skeptical \",\n",
    "    \":-s\": \" skeptical \",\n",
    "    \"^^\": \" nervous \",\n",
    "    \"^_^\": \" nervous \",\n",
    "    \"-_-\" : \" shame \",\n",
    "}"
   ]
  },
  {
   "cell_type": "code",
   "execution_count": 8,
   "metadata": {
    "code_folding": [
     0
    ],
    "hidden": true
   },
   "outputs": [],
   "source": [
    "spelling_regex_repls = {\n",
    "    # abbreviations\n",
    "    r\"\\bacctg\\b\" : \"acct\",\n",
    "    r\"\\badd'l\\b\" : \"additional\",\n",
    "    r\"\\br\\s\\b\": \"are\",\n",
    "    r\"\\bu\\s\\b\": \"you \",\n",
    "    r\"\\b\\sm\\s\\b \": \"am\",\n",
    "    r\"'cause\\b\" : \"because\",\n",
    "    r\"\\b(ha)+\\b\": \"haha\",\n",
    "    r\"\\b(he)+\\b\": \"haha\",\n",
    "    r\"\\bya+y\\b\": \"yay\",\n",
    "    r\"\\bwa+y\\b\": \"way\",\n",
    "    r\"\\bf'real\\b\" : \"for real\",\n",
    "    r\"\\bgr8\\b\" : \"great\",\n",
    "    r\"\\bintl\\b\" : \"int'l\",\n",
    "    # common misspellings\n",
    "    r\"\\bbailable\\b\" : \"available\",\n",
    "    r\"\\babilty\\b\" : \"ability\",\n",
    "    r\"\\babsolutly\\b\" : \"absolutely\",\n",
    "    r\"\\babsoultely\\b\" : \"absolutely\",\n",
    "    r\"\\bacces\\b\" : \"access\",\n",
    "    r\"\\baccesability\\b\" : \"accessibility\",\n",
    "    r\"\\baccesbility\\b\" : \"accessibility\",\n",
    "    r\"\\baccesibility\\b\" : \"accessibility\",\n",
    "    r\"\\baccessability\\b\" : \"accessibility\",\n",
    "    r\"\\baccessbility\\b\" : \"accessibility\",\n",
    "    r\"\\baccesable\\b\" : \"accessible\",\n",
    "    r\"\\baccesible\\b\" : \"accessible\",\n",
    "    r\"\\baccessable\\b\" : \"accessible\",\n",
    "    r\"\\bacessible\\b\" : \"accessible\",\n",
    "    r\"\\bassessable\\b\" : \"availability\",\n",
    "    r\"\\baccidently\\b\" : \"accidentally\",\n",
    "    r\"\\baccomadate\\b\" : \"accommodate\",\n",
    "    r\"\\baccomdate\\b\" : \"accommodate\",\n",
    "    r\"\\baccomidate\\b\" : \"accommodate\",\n",
    "    r\"\\baccomodate\\b\" : \"accommodate\",\n",
    "    r\"\\baccomadating\\b\" : \"accommodating\",\n",
    "    r\"\\baccomidating\\b\" : \"accommodating\",\n",
    "    r\"\\baccomodating\\b\" : \"accommodating\",\n",
    "    r\"\\baccomadations\\b\" : \"accommodations\",\n",
    "    r\"\\baccomodation\\b\" : \"accommodation\",\n",
    "    r\"\\baccouting\\b\" : \"accounting\",\n",
    "    r\"\\baccross\\b\" : \"across\",\n",
    "    r\"\\badd'l\\b\" : \"additional\",\n",
    "    r\"\\badditonal\\b\" : \"additional\",\n",
    "    r\"\\baddtionally\\b\" : \"additionally\",\n",
    "    r\"\\badminstration\\b\" : \"administration\",\n",
    "    r\"\\badminstrative\\b\" : \"administrative\",\n",
    "    r\"\\badminstrator\\b\" : \"administrator\",\n",
    "    r\"\\badress\\b\" : \"address\",\n",
    "    r\"\\badvancment\\b\" : \"advancement\",\n",
    "    r\"\\badvertized\\b\" : \"advertised\",\n",
    "    r\"\\bafforable\\b\" : \"affordable\",\n",
    "    r\"\\bafordable\\b\" : \"affordable\",\n",
    "    r\"\\bafterall\\b\" : \"after all\",\n",
    "    r\"\\bafterhours\\b\" : \"after hours\",\n",
    "    r\"\\baggresive\\b\" : \"aggressive\",\n",
    "    r\"\\bagressive\\b\" : \"aggressive\",\n",
    "    r\"\\bagressions\\b\" : \"aggressions\",\n",
    "    r\"\\balittle\\b\" : \"a little\",\n",
    "    r\"\\balll\\b\" : \"all\",\n",
    "    r\"\\balloted\\b\" : \"allotted\",\n",
    "    r\"\\ballthough\\b\" : \"although\",\n",
    "    r\"\\balthought\\b\" : \"although\",\n",
    "    r\"\\ballways\\b\" : \"always\",\n",
    "    r\"\\balos\\b\" : \"also\",\n",
    "    r\"\\balot\\b\" : \"a lot\",\n",
    "    r\"\\balotted\\b\" : \"allotted\",\n",
    "    r\"\\bammount\\b\" : \"amount\",\n",
    "    r\"\\bammounts\\b\" : \"amounts\",\n",
    "    r\"\\bamoung\\b\" : \"among\",\n",
    "    r\"\\bamoungst\\b\" : \"amongst\",\n",
    "    r\"\\bannouncment\\b\" : \"announcement\",\n",
    "    r\"\\baparments\\b\" : \"apartments\",\n",
    "    r\"\\bapparrel\\b\" : \"apparel\",\n",
    "    r\"\\bappartment\\b\" : \"apartment\",\n",
    "    r\"\\bappriciate\\b\" : \"appreciate\",\n",
    "    r\"\\bassitance\\b\" : \"assistance\",\n",
    "    r\"\\bassitant\\b\" : \"assistant\",\n",
    "    r\"\\batleast\\b\" : \"at least\",\n",
    "    r\"\\battentative\\b\" : \"attentive\",\n",
    "    r\"\\battrocious\\b\" : \"atrocious\",\n",
    "    r\"\\bavaiable\\b\" : \"available\",\n",
    "    r\"\\bavaible\\b\" : \"available\",\n",
    "    r\"\\bavailabe\\b\" : \"available\",\n",
    "    r\"\\bavailble\\b\" : \"available\",\n",
    "    r\"\\bavailiable\\b\" : \"available\",\n",
    "    r\"\\bavailible\\b\" : \"available\",\n",
    "    r\"\\bavaliable\\b\" : \"available\",\n",
    "    r\"\\bavalible\\b\" : \"available\",\n",
    "    r\"\\bavilable\\b\" : \"available\",\n",
    "    r\"\\bavailiability\\b\" : \"availability\",\n",
    "    r\"\\bavailabiltiy\\b\" : \"availability\",\n",
    "    r\"\\bavailabilty\\b\" : \"availability\",\n",
    "    r\"\\bavailablility\\b\" : \"availability\",\n",
    "    r\"\\bavailablity\\b\" : \"availability\",\n",
    "    r\"\\bavailibility\\b\" : \"availability\",\n",
    "    r\"\\bavaliability\\b\" : \"availability\",\n",
    "    r\"\\bavaliablity\\b\" : \"availability\",\n",
    "    r\"\\bavalibility\\b\" : \"availability\",\n",
    "    r\"\\bactivies\\b\" : \"activities\",\n",
    "    r\"\\bactivites\\b\" : \"activities\",\n",
    "    r\"\\bactualy\\b\" : \"actually\",\n",
    "    r\"\\bacutally\\b\" : \"actually\",\n",
    "    r\"\\bammenities\\b\" : \"amenities\",\n",
    "    r\"\\bantoher\\b\" : \"another\",\n",
    "    r\"\\bassitant\\b\" : \"assistant\",\n",
    "    r\"\\baswell\\b\" : \"as well\",\n",
    "    r\"\\baweful\\b\" : \"awful\",\n",
    "    r\"\\bawfull\\b\" : \"awful\",\n",
    "    r\"\\bawsome\\b\" : \"awesome\",\n",
    "    r\"\\bbeacuse\\b\" : \"because\",\n",
    "    r\"\\bbearly\\b\" : \"barely\",\n",
    "    r\"\\bbeaurocracy\\b\" : \"bureaucracy\",\n",
    "    r\"\\bbeaurocratic\\b\" : \"bureaucratic\",\n",
    "    r\"\\bbecasue\\b\" : \"because\",\n",
    "    r\"\\bbecuase\\b\" : \"because\",\n",
    "    r\"\\bbecuse\\b\" : \"because\",\n",
    "    r\"\\bbefor\\b\" : \"before\",\n",
    "    r\"\\bbeggining\\b\" : \"beginning\",\n",
    "    r\"\\bbegining\\b\" : \"beginning\",\n",
    "    r\"\\bbeleive\\b\" : \"believe\",\n",
    "    r\"\\bbelive\\b\" : \"believe\",\n",
    "    r\"\\bbenificial\\b\" : \"beneficial\",\n",
    "    r\"\\bbenifit\\b\" : \"benefit\",\n",
    "    r'\\bbugetary\\b' : \"budgetary\",\n",
    "    r'\\bbuiding\\b' : \"building\",\n",
    "    r'\\bbuidling\\b' : \"building\",\n",
    "    r'\\bbuisness\\b' : \"business\",\n",
    "    r'\\bbuliding\\b' : \"building\",\n",
    "    r\"\\bbureacracy\\b\" : \"bureaucracy\",\n",
    "    r\"\\bburitto\\b\" : \"burrito\",\n",
    "    r\"\\bbussiness\\b\" : \"business\",\n",
    "    r\"\\bcalender\\b\" : \"calendar\",\n",
    "    r\"\\bcan;t\\b\" : \"can't\",\n",
    "    r\"\\bcasher\\b\" : \"cashier\",\n",
    "    r'\\bcatagories\\b' : \"categories\",\n",
    "    r'\\bcatagory\\b' : \"category\",\n",
    "    r\"\\bcheapter\\b\" : \"cheaper\",\n",
    "    r\"\\bcheeper\\b\" : \"cheaper\",\n",
    "    r'\\bclasss\\b' : \"clas\",\n",
    "    r'\\bclassses\\b' : \"classes\",\n",
    "    r\"\\bcleaniness\\b\" : \"cleanliness\",\n",
    "    r\"\\bcmapus\\b\" : \"campus\",\n",
    "    r'\\bcofee\\b' : \"coffee\",\n",
    "    r'\\bcoffe\\b' : \"coffee\",\n",
    "    r'\\bcollegue\\b' : \"colleague\",\n",
    "    r'\\bcoment\\b' : \"comment\",\n",
    "    r'\\bcoments\\b' : \"comments\",\n",
    "    r'\\bcomming\\b' : \"coming\",\n",
    "    r'\\bcommittment\\b' : \"commitment\",\n",
    "    r'\\bcommment\\b' : \"comment\",\n",
    "    r'\\bcommuication\\b' : \"communication\",\n",
    "    r'\\bcommunter\\b' : \"commuter\",\n",
    "    r'\\bcommunters\\b' : \"commuters\",\n",
    "    r'\\bcomotion\\b' : \"commotion\",\n",
    "    r'\\bcomparision\\b' : \"comparison\",\n",
    "    r'\\bcompatability\\b' : \"compatibility\",\n",
    "    r'\\bcompatable\\b' : \"compatible\",\n",
    "    r'\\bcompetative\\b' : \"competitive\",\n",
    "    r'\\bcompetetive\\b' : \"competitive\",\n",
    "    r'\\bcompetive\\b' : \"competitive\",\n",
    "    r'\\bcompletly\\b' : \"completely\",\n",
    "    r\"\\bcomraderie\\b\" : \"camaraderie\",\n",
    "    r'\\bcomradery\\b' : \"camaraderie\",\n",
    "    r'\\bcomunication\\b' : \"communication\",\n",
    "    r'\\bcomunity\\b' : \"community\",\n",
    "    r'\\bconcious\\b' : \"conscious\",\n",
    "    r'\\bcondusive\\b' : \"conducive\",\n",
    "    r'\\bconection\\b' : \"connection\",\n",
    "    r\"\\bconfortable\\b\" : \"comfortable\",\n",
    "    r'\\bconsistant\\b' : \"consistent\",\n",
    "    r'\\bconsistantly\\b' : \"consistently\",\n",
    "    r'\\bconsistenly\\b' : \"consistently\",\n",
    "    r'\\bcontinously\\b' : \"continuously\",\n",
    "    r'\\bcontruction\\b' : \"construction\",\n",
    "    r'\\bconveinent\\b' : \"convenient\",\n",
    "    r'\\bconveinient\\b' : \"convenient\",\n",
    "    r'\\bconveniant\\b' : \"convenient\",\n",
    "    r'\\bconveniece\\b' : \"convenience\",\n",
    "    r'\\bconveninent\\b' : \"convenient\",\n",
    "    r'\\bconvienance\\b' : \"convenience\",\n",
    "    r'\\bconvienant\\b' : \"convenient\",\n",
    "    r'\\bconvience\\b' : \"convenience\",\n",
    "    r'\\bconvienence\\b' : \"convenience\",\n",
    "    r'\\bconvienent\\b' : \"convenient\",\n",
    "    r'\\bconvienet\\b' : \"convenient\",\n",
    "    r'\\bconvienience\\b' : \"convenience\",\n",
    "    r'\\bconvienient\\b' : \"convenient\",\n",
    "    r'\\bconvient\\b' : \"convenient\",\n",
    "    r'\\bconviently\\b' : \"conveniently\",\n",
    "    r'\\bconvinence\\b' : \"convenience\",\n",
    "    r'\\bconvinent\\b' : \"convenient\",\n",
    "    r'\\bconvinience\\b' : \"convenience\",\n",
    "    r'\\bconvinient\\b' : \"convenient\",\n",
    "    r'\\bcorteous\\b' : \"courteous\",\n",
    "    r'\\bcostodial\\b' : \"custodial\",\n",
    "    r'\\bcoureous\\b' : \"courteous\",\n",
    "    r'\\bcourtis\\b' : \"courteous\",\n",
    "    r'\\bcouteous\\b' : \"courteous\",\n",
    "    r'\\bcovenient\\b' : \"convenient\",\n",
    "    r'\\bcroweded\\b' : \"crowded\",\n",
    "    r'\\bcurteous\\b' : \"courteous\",\n",
    "    r'\\bcurtesy\\b' : \"courtesy\",\n",
    "    r'\\bcurtious\\b' : \"courteous\",\n",
    "    r\"\\bdeaprtment\\b\" : \"department\",\n",
    "    r\"\\bdecission\\b\" : \"decision\",\n",
    "    r'\\bdefinately\\b' : \"definitely\",\n",
    "    r'\\bdefinetely\\b' : \"definitely\",\n",
    "    r'\\bdefinetly\\b' : \"definitely\",\n",
    "    r'\\bdefinitley\\b' : \"definitely\",\n",
    "    r'\\bdefinitly\\b' : \"definitely\",\n",
    "    r'\\bdelievered\\b' : \"delivered\",\n",
    "    r'\\bdeliverers\\b' : \"deliveries\",\n",
    "    r'\\bdeparment\\b' : \"department\",\n",
    "    r'\\bdeparments\\b' : \"department\",\n",
    "    r'\\bdepartement\\b' : \"department\",\n",
    "    r\"\\bdepartment\\(s\\b\" : \"departments\",\n",
    "    r'\\bdepartmet\\b' : \"department\",\n",
    "    r'\\bdepratment\\b' : \"department\",\n",
    "    r\"\\bdeptartment\\b\" : \"department\",\n",
    "    r'\\bdescrimination\\b' : \"discrimination\",\n",
    "    r'\\bdesireable\\b' : \"desirable\",\n",
    "    r\"\\bdiffernt\\b\" : \"different\",\n",
    "    r\"\\bdiffrent\\b\" : \"different\",\n",
    "    r'\\bdinig\\b' : \"dining\",\n",
    "    r'\\bdirverse\\b' : \"diverse\",\n",
    "    r'\\bdisapointed\\b' : \"disappointed\",\n",
    "    r'\\bdisapointing\\b' : \"disappointing\",\n",
    "    r'\\bdisasterous\\b' : \"disastrous\",\n",
    "    r'\\bdisatisfied\\b' : \"dissatisfied\",\n",
    "    r'\\bdisbursment\\b' : \"disbursement\",\n",
    "    r'\\bdisbursments\\b' : \"disbursements\",\n",
    "    r'\\bdiscretely\\b' : \"discreetly\",\n",
    "    r'\\bdiscusting\\b' : \"disgusting\",\n",
    "    r'\\bdisfunctional\\b' : \"dysfunctional\",\n",
    "    r'\\bdispensors\\b' : \"dispensers\",\n",
    "    r'\\bdispersement\\b' : \"disbursement\",\n",
    "    r'\\bdissapointed\\b' : \"disappointed\",\n",
    "    r'\\bdissapointing\\b' : \"disappointing\",\n",
    "    r'\\bdissapointment\\b' : \"disappointment\",\n",
    "    r'\\bdissappointed\\b' : \"disappointed\",\n",
    "    r'\\bdissappointing\\b' : \"disappointing\",\n",
    "    r'\\bdissatified\\b' : \"dissatisfied\",\n",
    "    r'\\bdiveristy\\b' : \"diversity\",\n",
    "    r'\\bdivison\\b' : \"division\",\n",
    "    r'\\bdivsion\\b' : \"division\",\n",
    "    r\"\\bdoens't\\b\" : \"doesn't\",\n",
    "    r\"\\bdoes't\\b\" : \"doesn't\",\n",
    "    r\"\\bdoesn;t\\b\" : \"doesn't\",\n",
    "    r\"\\bdon;t\\b\" : \"don't\",\n",
    "    r'\\bdonot\\b' : \"do not\",\n",
    "    r\"\\bdosen't\\b\" : \"doesn't\",\n",
    "    r\"\\bdosent\\b\" : \"doesn't\",\n",
    "    r'\\bdumbells\\b' : \"dumbbells\",\n",
    "    r'\\bdurring\\b' : \"during\",\n",
    "    r\"\\beatting\\b\" : \"eating\",\n",
    "    r\"\\beduation\\b\" : \"education\",\n",
    "    r'\\beffeciency\\b' : \"efficiency\",\n",
    "    r'\\beffecient\\b' : \"efficient\",\n",
    "    r'\\befficency\\b' : \"efficiency\",\n",
    "    r'\\befficent\\b' : \"efficient\",\n",
    "    r'\\beffiecient\\b' : \"efficient\",\n",
    "    r'\\beimplying\\b' : \"implying\",\n",
    "    r'\\bembarassed\\b' : \"embarrassed\",\n",
    "    r'\\bembarassing\\b' : \"embarrassing\",\n",
    "    r'\\bembarassment\\b' : \"embarrassment\",\n",
    "    r'\\bemploee\\b' : \"employee\",\n",
    "    r'\\bemploye\\b' : \"employee\",\n",
    "    r'\\bemployee\\(s\\b' : \"employees\",\n",
    "    r'\\bemployeed\\b' : \"employed\",\n",
    "    r'\\bemployement\\b' : \"employment\",\n",
    "    r'\\bemployes\\b' : \"employees\",\n",
    "    r'\\bemployess\\b' : \"employees\",\n",
    "    r'\\bemplyee\\b' : \"employee\",\n",
    "    r'\\bemplyees\\b' : \"employees\",\n",
    "    r'\\bempolyees\\b' : \"employees\",\n",
    "    r'\\bencoutered\\b' : \"encountered\",\n",
    "    r'\\benought\\b' : \"enough\",\n",
    "    r'\\benrollement\\b' : \"enrollment\",\n",
    "    r'\\benviorment\\b' : \"environment\",\n",
    "    r'\\benviornment\\b' : \"environment\",\n",
    "    r'\\benvirnment\\b' : \"environment\",\n",
    "    r'\\benviroment\\b' : \"environment\",\n",
    "    r'\\benvironement\\b' : \"environment\",\n",
    "    r'\\bequiped\\b' : \"equipped\",\n",
    "    r'\\bespcially\\b' : \"especially\",\n",
    "    r'\\bespecailly\\b' : \"especially\",\n",
    "    r'\\bespecialy\\b' : \"especially\",\n",
    "    r'\\bespeically\\b' : \"especially\",\n",
    "    r\"\\besthetically\\b\" : \"aesthetically \",\n",
    "    r\"\\bethinicity\\b\" : \"ethnicity\",\n",
    "    r\"\\bevaulation\\b\" : \"evaluation\",\n",
    "    r\"\\beventhough\\b\" : \"even though\",\n",
    "    r'\\beverday\\b' : \"every day\",\n",
    "    r'\\beverthing\\b' : \"everything\",\n",
    "    r'\\beveryones\\b' : \"everyones\",\n",
    "    r'\\beverythings\\b' : \"everythings\",\n",
    "    r'\\beveryway\\b' : \"every way\",\n",
    "    r'\\beveyone\\b' : \"everyone\",\n",
    "    r'\\beveything\\b' : \"everything\",\n",
    "    r'\\bevrything\\b' : \"everything\",\n",
    "    r'\\bexcelent\\b' : \"excellent\",\n",
    "    r'\\bexcellant\\b' : \"excellent\",\n",
    "    r'\\bexellent\\b' : \"excellent\",\n",
    "    r'\\bexhorbitant\\b' : \"exorbitant\",\n",
    "    r'\\bexistance\\b' : \"existence\",\n",
    "    r'\\bexpecially\\b' : \"especially\",\n",
    "    r'\\bexpensice\\b' : \"expensive\",\n",
    "    r'\\bexpereince\\b' : \"experience\",\n",
    "    r'\\bexperiance\\b' : \"experience\",\n",
    "    r'\\bexperince\\b' : \"experience\",\n",
    "    r'\\bexpierence\\b' : \"experience\",\n",
    "    r'\\bexpirence\\b' : \"experience\",\n",
    "    r'\\bexplaination\\b' : \"explanation\",\n",
    "    r'\\bexremely\\b' : \"extremely\",\n",
    "    r'\\bextemely\\b' : \"extremely\",\n",
    "    r'\\bextention\\b' : \"extension\",\n",
    "    r'\\bextermely\\b' : \"extremely\",\n",
    "    r'\\bextreamly\\b' : \"extremely\",\n",
    "    r'\\bextrememly\\b' : \"extremely\",\n",
    "    r'\\bextremly\\b' : \"extremely\",\n",
    "    r\"\\bfacilites\\b\" : \"facilities\",\n",
    "    r'\\bfacilties\\b' : \"facilities\",\n",
    "    r'\\bfacilty\\b' : \"facility\",\n",
    "    r'\\bfaculity\\b' : \"faculty\",\n",
    "    r'\\bfacutly\\b' : \"faculty\",\n",
    "    r'\\bfiancial\\b' : \"financial\",\n",
    "    r\"\\bfinacial\\b\" : \"financial\",\n",
    "    r\"\\bfirendly\\b\" : \"friendly\",\n",
    "    r'\\bflexability\\b' : \"flexibility\",\n",
    "    r'\\bflexibilty\\b' : \"flexibility\",\n",
    "    r'\\bflexiblity\\b' : \"flexibility\",\n",
    "    r\"\\bflourescent\\b\" : \"fluorescent\",\n",
    "    r'\\bfreindly\\b' : \"friendly\",\n",
    "    r'\\bfreqency\\b' : \"frequency\",\n",
    "    r'\\bfreqent\\b' : \"frequent\",\n",
    "    r'\\bfriednly\\b' : \"friendly\",\n",
    "    r'\\bfrusterating\\b' : \"frustrating\",\n",
    "    r'\\bfrusturating\\b' : \"frustrating\",\n",
    "    r'\\bfustrating\\b' : \"frustrating\",\n",
    "    r'\\bgovenor\\b' : \"governor\",\n",
    "    r\"\\bgraffitti\\b\" : \"graffiti\",\n",
    "    r\"\\bgrafitti\\b\" : \"graffiti\",\n",
    "    r\"\\bgreatful\\b\" : \"grateful\",\n",
    "    r\"\\bguarenteed\\b\" : \"guaranteed\",\n",
    "    r\"\\bguidlines\\b\" : \"guidelines\",\n",
    "    r\"\\bguranteed\\b\" : \"guaranteed\",\n",
    "    r\"\\bhappend\\b\" : \"happened\",\n",
    "    r'\\bharrass\\b' : \"harass\",\n",
    "    r'\\bharrassed\\b' : \"harassed\",\n",
    "    r'\\bharrassing\\b' : \"harassing\",\n",
    "    r'\\bharrassment\\b' : \"harassment\",\n",
    "    r\"\\bhavn't\\b\" : \"haven't\",\n",
    "    r'\\bhealtheir\\b' : \"healthier\",\n",
    "    r'\\bhealthly\\b' : \"healthy\",\n",
    "    r'\\bhealtier\\b' : \"healthier\",\n",
    "    r'\\bhealty\\b' : \"healthy\",\n",
    "    r'\\bheathy\\b' : \"healthy\",\n",
    "    r'\\bheirarchy\\b' : \"hierarchy\",\n",
    "    r'\\bhelful\\b' : \"helpful\",\n",
    "    r'\\bhelpfull\\b' : \"helpful\",\n",
    "    r'\\bhelpul\\b' : \"helpful\",\n",
    "    r'\\bhighschool\\b' : \"high school\",\n",
    "    r'\\bhighschools\\b' : \"high schools\",\n",
    "    r'\\bhorendous\\b' : \"horrendous\",\n",
    "    r'\\bhorible\\b' : \"horrible\",\n",
    "    r'\\bhouseing\\b' : \"housing\",\n",
    "    r'\\bi\"m\\b' : \"i'm\",\n",
    "    r'\\bi\"ve\\b' : \"i've\",\n",
    "    r'\\bimplimented\\b' : \"implemented\",\n",
    "    r'\\bimporve\\b' : \"improve\",\n",
    "    r'\\bimposible\\b' : \"impossible\",\n",
    "    r'\\bimprovment\\b' : \"improvement\",\n",
    "    r'\\bimprovments\\b' : \"improvements\",\n",
    "    r'\\bincompetant\\b' : \"incompetent\",\n",
    "    r'\\binconsistant\\b' : \"inconsistent\",\n",
    "    r'\\binconveinent\\b' : \"nconvenient\",\n",
    "    r'\\binconvience\\b' : \"inconvenience\",\n",
    "    r'\\binconvienent\\b' : \"nconvenient\",\n",
    "    r'\\binconvienient\\b' : \"nconvenient\",\n",
    "    r'\\binconvient\\b' : \"nconvenient\",\n",
    "    r'\\binconvinient\\b' : \"nconvenient\",\n",
    "    r'\\bindentify\\b' : \"identify\",\n",
    "    r'\\bindependant\\b' : \"independent\",\n",
    "    r'\\bindividual\\(s\\b' : \"individuals\",\n",
    "    r'\\binforced\\b' : \"enforced\",\n",
    "    r'\\binformaiton\\b' : \"information\",\n",
    "    r'\\binformtion\\b' : \"information\",\n",
    "    r'\\binfront\\b' : \"in front\",\n",
    "    r'\\binnout\\b' : \"in-n-out\",\n",
    "    r'\\binsentive\\b' : \"incentive\",\n",
    "    r'\\binsufficent\\b' : \"insufficient\",\n",
    "    r'\\binterenet\\b' : \"internet\",\n",
    "    r'\\binterent\\b' : \"internet\",\n",
    "    r'\\bintermural\\b' : \"intramural\",\n",
    "    r'\\bintramurals\\b' : \"intramurals\",\n",
    "    r'\\binvironment\\b' : \"environment\",\n",
    "    r'\\bissue\\(s\\b' : \"issues\",\n",
    "    r'\\bit;s\\b' : \"it's\",\n",
    "    r'\\bitem\\(s\\b' : \"items\",\n",
    "    r\"\\bjob\\(s\\b\" : \"jobs\",\n",
    "    r'\\bknowledable\\b' : \"knowledgeable\",\n",
    "    r'\\bknowledeable\\b' : \"knowledgeable\",\n",
    "    r'\\bknowledegable\\b' : \"knowledgeable\",\n",
    "    r'\\bknowledgable\\b' : \"knowledgeable\",\n",
    "    r'\\bknowledgably\\b' : \"knowledgeably\",\n",
    "    r'\\bknowledgeably\\b' : \"knowledgeably\",\n",
    "    r'\\bknowledgeble\\b' : \"knowledgeable\",\n",
    "    r'\\bknowlegable\\b' : \"knowledgeable\",\n",
    "    r'\\bknowlegeable\\b' : \"knowledgeable\",\n",
    "    r'\\bliek\\b' : \"like\",\n",
    "    r'\\blieke\\b' : \"like\",\n",
    "    r'\\blimted\\b' : \"limited\",\n",
    "    r'\\bmaintainance\\b' : \"maintenance\",\n",
    "    r'\\bmaintaince\\b' : \"maintenance\",\n",
    "    r'\\bmaintainence\\b' : \"maintenance\",\n",
    "    r'\\bmaintanance\\b' : \"maintenance\",\n",
    "    r'\\bmaintance\\b' : \"maintenance\",\n",
    "    r'\\bmaintanence\\b' : \"maintenance\",\n",
    "    r'\\bmaintenace\\b' : \"maintenance\",\n",
    "    r'\\bmaintenances\\b' : \"maintenance\",\n",
    "    r'\\bmaintence\\b' : \"maintenance\",\n",
    "    r'\\bmaintenece\\b' : \"maintenance\",\n",
    "    r'\\bmaintenence\\b' : \"maintenance\",\n",
    "    r'\\bmaitenance\\b' : \"maintenance\",\n",
    "    r'\\bmanager\\(s\\b' : \"managers\",\n",
    "    r'\\bmanagment\\b' : \"management\",\n",
    "    r'\\bmanangement\\b' : \"management\",\n",
    "    r'\\bmangement\\b' : \"management\",\n",
    "    r'\\bmangers\\b' : \"managers\",\n",
    "    r'\\bmanuever\\b' : \"maneuver\",\n",
    "    r'\\bmintues\\b' : \"minutes\",\n",
    "    r'\\bmoblie\\b' : \"mobile\",\n",
    "    r'\\bmulitple\\b' : \"multiple\",\n",
    "    r'\\bn\\?a\\b' : \"n/a\",\n",
    "    r'\\bna\\b' : \"n/a\",\n",
    "    r'\\bneccessary\\b' : \"necessary\",\n",
    "    r'\\bnecesary\\b' : \"necessary\",\n",
    "    r'\\bneedes\\b' : \"needs\",\n",
    "    r'\\bneeed\\b' : \"need\",\n",
    "    r'\\bnonexistant\\b' : \"nonexistent\",\n",
    "    r'\\bnothig\\b' : \"nothing\",\n",
    "    r'\\bnothjng\\b' : \"nothing\",\n",
    "    r'\\bnoticable\\b' : \"noticeable\",\n",
    "    r'\\bobsurd\\b' : \"absurd\",\n",
    "    r'\\bocassional\\b' : \"occasional\",\n",
    "    r'\\boccassion\\b' : \"occasion\",\n",
    "    r'\\boccassional\\b' : \"occasional\",\n",
    "    r'\\boccassionally\\b' : \"occasionally\",\n",
    "    r'\\boccassions\\b' : \"occasions\",\n",
    "    r'\\boccations\\b' : \"occasions\",\n",
    "    r'\\boccurances\\b' : \"occurrences\",\n",
    "    r'\\boccured\\b' : \"occurred\",\n",
    "    r'\\boccuring\\b' : \"occurring\",\n",
    "    r'\\boccurr\\b' : \"occur\",\n",
    "    r'\\bofcourse\\b' : \"of course\",\n",
    "    r'\\bofferred\\b' : \"offered\",\n",
    "    r'\\bopinon\\b' : \"opinion\",\n",
    "    r'\\bopitions\\b' : \"options\",\n",
    "    r'\\boportunities\\b' : \"opportunities\",\n",
    "    r'\\bopperation\\b' : \"operation\",\n",
    "    r'\\boppertunities\\b' : \"opportunities\",\n",
    "    r'\\boppinion\\b' : \"opinion\",\n",
    "    r'\\bopportunites\\b' : \"opportunities\",\n",
    "    r'\\bopportunties\\b' : \"opportunities\",\n",
    "    r'\\boppotunities\\b' : \"opportunities\",\n",
    "    r'\\boppurtunities\\b' : \"opportunities\",\n",
    "    r'\\boppurtunity\\b' : \"opportunity\",\n",
    "    r'\\borgnized\\b' : \"organized\",\n",
    "    r'\\boutragous\\b' : \"outrageous\",\n",
    "    r'\\bpage\\(s\\b' : \"pages\",\n",
    "    r'\\bpakages\\b' : \"packages\",\n",
    "    r'\\bparkibg\\b' : \"parking\",\n",
    "    r'\\bparkig\\b' : \"parking\",\n",
    "    r'\\bparkign\\b' : \"parking\",\n",
    "    r'\\bparkinglots\\b' : \"parking lots\",\n",
    "    r'\\bpartime\\b' : \"part-time\",\n",
    "    r'\\bparttime\\b' : \"part-time\",\n",
    "    r'\\bpatroling\\b' : \"patrolling\",\n",
    "    r'\\bpeopel\\b' : \"people\",\n",
    "    r'\\bpermitt\\b' : \"permit\",\n",
    "    r'\\bperson\\(s\\b' : \"persons\",\n",
    "    r'\\bpersonel\\b' : \"personnel\",\n",
    "    r'\\bpersonell\\b' : \"personnel\",\n",
    "    r'\\bpharamcy\\b' : \"pharmacy\",\n",
    "    r'\\bpleasent\\b' : \"pleasant\",\n",
    "    r'\\bplently\\b' : \"plenty\",\n",
    "    r'\\bplesant\\b' : \"pleasant\",\n",
    "    r'\\bpositon\\b' : \"position\",\n",
    "    r'\\bposses\\b' : \"possess\",\n",
    "    r'\\bpossition\\b' : \"position\",\n",
    "    r'\\bpostion\\b' : \"position\",\n",
    "    r'\\bpostions\\b' : \"positions\",\n",
    "    r'\\bpostition\\b' : \"position\",\n",
    "    r'\\bpostive\\b' : \"positive\",\n",
    "    r'\\bpractioner\\b' : \"practitioner\",\n",
    "    r'\\bpractioners\\b' : \"practitioners\",\n",
    "    r'\\bprefered\\b' : \"preferred\",\n",
    "    r'\\bpreferrably\\b' : \"preferably\",\n",
    "    r'\\bpreform\\b' : \"perform\",\n",
    "    r'\\bpreforming\\b' : \"performing\",\n",
    "    r'\\bpricess\\b' : \"prices\",\n",
    "    r'\\bpriciples\\b' : \"principles\",\n",
    "    r'\\bpricy\\b' : \"pricey\",\n",
    "    r'\\bprking\\b' : \"parking\",\n",
    "    r'\\bproceedures\\b' : \"procedures\",\n",
    "    r'\\bprocurment\\b' : \"procurement\",\n",
    "    r'\\bprofessionaly\\b' : \"professionally\",\n",
    "    r'\\bproffessional\\b' : \"professional\",\n",
    "    r'\\bproffit\\b' : \"profit\",\n",
    "    r'\\bprofitt\\b' : \"profit\",\n",
    "    r'\\bprogam\\b' : \"program\",\n",
    "    r'\\bpromissed\\b' : \"promised\",\n",
    "    r'\\bpublically\\b' : \"publicly\",\n",
    "    r'\\bqucik\\b' : \"quick\",\n",
    "    r'\\bquestion\\(s\\b' : \"questions\",\n",
    "    r'\\bquestionaire\\b' : \"questionnaire\",\n",
    "    r'\\breall\\b' : \"really\",\n",
    "    r'\\brealy\\b' : \"really\",\n",
    "    r'\\breccomend\\b' : \"recommend\",\n",
    "    r'\\breccommend\\b' : \"recommend\",\n",
    "    r'\\breceieve\\b' : \"receive\",\n",
    "    r'\\breciept\\b' : \"receipt\",\n",
    "    r'\\breciepts\\b' : \"receipts\",\n",
    "    r'\\brecieve\\b' : \"receive\",\n",
    "    r'\\brecieved\\b' : \"received\",\n",
    "    r'\\brecieves\\b' : \"receives\",\n",
    "    r'\\brecieving\\b' : \"receiving\",\n",
    "    r'\\brecived\\b' : \"received\",\n",
    "    r'\\brecomend\\b' : \"recommend\",\n",
    "    r'\\brecomended\\b' : \"recommended\",\n",
    "    r'\\brediculous\\b' : \"ridiculous\",\n",
    "    r'\\brediculously\\b' : \"ridiculously\",\n",
    "    r'\\brefered\\b' : \"referred\",\n",
    "    r'\\brefering\\b' : \"referring\",\n",
    "    r'\\bregeants\\b' : \"regents\",\n",
    "    r'\\bregistar\\b' : \"regisrtar\",\n",
    "    r'\\bregistars\\b' : \"regisrtars\",\n",
    "    r'\\bregulary\\b' : \"regularly\",\n",
    "    r'\\breimbursment\\b' : \"reimbursement\",\n",
    "    r'\\breponse\\b' : \"response\",\n",
    "    r'\\breponsive\\b' : \"responsive\",\n",
    "    r'\\brepresentitive\\b' : \"representative\",\n",
    "    r'\\breserach\\b' : \"research\",\n",
    "    r'\\bresonable\\b' : \"reasonable\",\n",
    "    r'\\bresouces\\b' : \"resources\",\n",
    "    r'\\bresourses\\b' : \"resources\",\n",
    "    r'\\bresponsed\\b' : \"responded\",\n",
    "    r'\\bresponsibilites\\b' : \"responsibilites\",\n",
    "    r'\\bresponsiblities\\b' : \"responsibilites\",\n",
    "    r'\\bresponsiblity\\b' : \"responsibility\",\n",
    "    r'\\brestaraunts\\b' : \"restaurants\",\n",
    "    r'\\brestraunts\\b' : \"restaurants\",\n",
    "    r'\\brestuarant\\b' : \"restaurant\",\n",
    "    r'\\brestuarants\\b' : \"restaurants\",\n",
    "    r'\\bresturant\\b' : \"restaurant\",\n",
    "    r'\\bresturants\\b' : \"restaurants\",\n",
    "    r'\\bridiculus\\b' : \"ridiculous\",\n",
    "    r'\\briduculous\\b' : \"ridiculous\",\n",
    "    r'\\broomate\\b' : \"roommate\",\n",
    "    r'\\broomates\\b' : \"roommates\",\n",
    "    r'\\bsaleries\\b' : \"salaries\",\n",
    "    r'\\bsandwhich\\b' : \"sandwich\",\n",
    "    r'\\bsandwhiches\\b' : \"sandwiches\",\n",
    "    r'\\bsandwitches\\b' : \"sandwiches\",\n",
    "    r'\\bsatifaction\\b' : \"satisfaction\",\n",
    "    r'\\bsatified\\b' : \"satisfisatisfieded\",\n",
    "    r'\\bsattelite\\b' : \"satellite\",\n",
    "    r'\\bsceience\\b' : \"science\",\n",
    "    r'\\bschedual\\b' : \"schedule\",\n",
    "    r'\\bseemless\\b' : \"seamless\",\n",
    "    r'\\bselction\\b' : \"selection\",\n",
    "    r'\\bsenority\\b' : \"seniority\",\n",
    "    r'\\bsensative\\b' : \"sensitive\",\n",
    "    r'\\bsensored\\b' : \"censored\",\n",
    "    r'\\bseperate\\b' : \"separate\",\n",
    "    r'\\bseperation\\b' : \"separation\",\n",
    "    r'\\bserivce\\b' : \"service\",\n",
    "    r'\\bserivces\\b' : \"services\",\n",
    "    r'\\bserive\\b' : \"service\",\n",
    "    r'\\bserives\\b' : \"services\",\n",
    "    r'\\bservicesi\\b' : \"services\",\n",
    "    r'\\bservidces\\b' : \"services\",\n",
    "    r'\\bservive\\b' : \"survive\",\n",
    "    r'\\bservives\\b' : \"survives\",\n",
    "    r'\\bseverly\\b' : \"severely\",\n",
    "    r'\\bsevice\\b' : \"service\",\n",
    "    r'\\bsevices\\b' : \"services\",\n",
    "    r'\\bshcool\\b' : \"school\",\n",
    "    r'\\bshoud\\b' : \"should\",\n",
    "    r'\\bshoudl\\b' : \"should\",\n",
    "    r'\\bshutttle\\b' : \"shuttle\",\n",
    "    r'\\bsimiliar\\b' : \"similar\",\n",
    "    r'\\bsomeitmes\\b' : \"sometimes\",\n",
    "    r'\\bsomeone\\(s\\b' : \"someones\",\n",
    "    r'\\bsomeones\\b' : \"someones\",\n",
    "    r'\\bsometiems\\b' : \"sometimes\",\n",
    "    r'\\bsomone\\b' : \"someone\",\n",
    "    r'\\bsomthing\\b' : \"something\",\n",
    "    r'\\bsophmore\\b' : \"sophomore\",\n",
    "    r'\\bspecialy\\b' : \"especially\",\n",
    "    r'\\bstafff\\b' : \"staff\",\n",
    "    r'\\bstatment\\b' : \"statement\",\n",
    "    r'\\bstong\\b' : \"strong\",\n",
    "    r'\\bstongly\\b' : \"strongly\",\n",
    "    r'\\bstoping\\b' : \"stopping\",\n",
    "    r'\\bstrabucks\\b' : \"starbucks\",\n",
    "    r'\\bstressfull\\b' : \"stressful\",\n",
    "    r'\\bstructure\\(s\\b' : \"structures\",\n",
    "    r'\\bstucture\\b' : \"structure\",\n",
    "    r'\\bstuctures\\b' : \"structures\",\n",
    "    r'\\bstuden\\b' : \"student\",\n",
    "    r'\\bstudent\\(s\\b' : \"students\",\n",
    "    r'\\bstudetns\\b' : \"students\",\n",
    "    r'\\bstudnet\\b' : \"student\",\n",
    "    r'\\bstudnets\\b' : \"students\",\n",
    "    r'\\bsucess\\b' : \"success\",\n",
    "    r'\\bsudent\\b' : \"student\",\n",
    "    r'\\bsudents\\b' : \"students\",\n",
    "    r'\\bsuperintendant\\b' : \"superintendent\",\n",
    "    r'\\bsuperviser\\b' : \"supervisor\",\n",
    "    r'\\bsupervisor\\(s\\b' : \"supervisors\",\n",
    "    r'\\bsupervisores\\b' : \"supervisors\",\n",
    "    r'\\bsuport\\b' : \"support\",\n",
    "    r'\\bsupples\\b' : \"supplies\",\n",
    "    r'\\bsuppossed\\b' : \"supposed\",\n",
    "    r'\\bsuprised\\b' : \"surprised\",\n",
    "    r'\\bsuvey\\b' : \"survey\",\n",
    "    r'\\bsytem\\b' : \"system\",\n",
    "    r'\\bthats\\b' : \"that's\",\n",
    "    r\"\\bthe're\\b\" : \"they're\",\n",
    "    r'\\btheives\\b' : \"thieves\",\n",
    "    r'\\bthiefs\\b' : \"thieves\",\n",
    "    r'\\bthreating\\b' : \"threatening\",\n",
    "    r'\\bthroughly\\b' : \"thoroughly\",\n",
    "    r'\\bthrought\\b' : \"throughout\",\n",
    "    r'\\bthroughtout\\b' : \"throughout\",\n",
    "    r'\\btodays\\b' : \"today's\",\n",
    "    r'\\btraing\\b' : \"training\",\n",
    "    r'\\btrainning\\b' : \"training\",\n",
    "    r'\\btranfers\\b' : \"transfers\",\n",
    "    r'\\btransfered\\b' : \"transferred\",\n",
    "    r'\\btransfering\\b' : \"transferring\",\n",
    "    r'\\btransporation\\b' : \"transportation\",\n",
    "    r'\\btransportaion\\b' : \"transportation\",\n",
    "    r'\\btransportations\\b' : \"transportations\",\n",
    "    r'\\btransportion\\b' : \"transportation\",\n",
    "    r'\\btrashbags\\b' : \"trash bags\",\n",
    "    r'\\btrashcans\\b' : \"trash cans\",\n",
    "    r'\\btremedously\\b' : \"tremendously\",\n",
    "    r'\\btshirt\\b' : \"t-shirt\",\n",
    "    r'\\btshirts\\b' : \"t-shirts\",\n",
    "    r'\\btution\\b' : \"tuition\",\n",
    "    r'\\btutition\\b' : \"tuition\",\n",
    "    r'\\bunaccessible\\b' : \"inaccessible\",\n",
    "    r'\\bunconvenient\\b' : \"inconvenient\",\n",
    "    r'\\bunecessary\\b' : \"unnecessary\",\n",
    "    r'\\bunflexible\\b' : \"inflexible\",\n",
    "    r'\\bunforseen\\b' : \"unforeseen\",\n",
    "    r'\\buniverisity\\b' : \"university\",\n",
    "    r'\\buniveristy\\b' : \"university\",\n",
    "    r'\\buniverity\\b' : \"university\",\n",
    "    r'\\bunknowledgeable\\b' : \"unknowledgable\",\n",
    "    r'\\bunneccessary\\b' : \"unnecessary\",\n",
    "    r'\\bunrealiable\\b' : \"unreliable\",\n",
    "    r'\\buntill\\b' : \"until\",\n",
    "    r'\\bunversity\\b' : \"university\",\n",
    "    r'\\buseability\\b' : \"usability\",\n",
    "    r'\\busefull\\b' : \"useful\",\n",
    "    r'\\bususally\\b' : \"usually\",\n",
    "    r'\\bvaccum\\b' : \"vacuum\",\n",
    "    r'\\bvaccuum\\b' : \"vacuum\",\n",
    "    r'\\bvaction\\b' : \"vacation\",\n",
    "    r'\\bvacume\\b' : \"vacuum\",\n",
    "    r'\\bvariaty\\b' : \"variety\",\n",
    "    r'\\bvarities\\b' : \"varieties\",\n",
    "    r'\\bvarity\\b' : \"variety\",\n",
    "    r'\\bvegeterian\\b' : \"vegetarian\",\n",
    "    r'\\bvegitarian\\b' : \"vegetarian\",\n",
    "    r'\\bvegitarians\\b' : \"vegetarians\",\n",
    "    r'\\bvegtables\\b' : \"vegetables\",\n",
    "    r'\\bventillation\\b' : \"ventilation\",\n",
    "    r'\\bveriety\\b' : \"variety\",\n",
    "    r'\\bvisted\\b' : \"visited\",\n",
    "    r'\\bvistor\\b' : \"visitor\",\n",
    "    r'\\bvistors\\b' : \"visitors\",\n",
    "    r'\\bweeekends\\b' : \"weekends\",\n",
    "    r'\\bwierd\\b' : \"weird\",\n",
    "    r'\\bwirless\\b' : \"wireless\",\n",
    "    r'\\bwithdrawl\\b' : \"withdrawal\",\n",
    "    r'\\bwoudl\\b' : \"would\",\n",
    "    r\"\\bwoudn't\\b\" : \"wouldn't\",\n",
    "    r\"\\bthier\\b\" : \"their\",\n",
    "    r\"\\bappartments\\b\" : \"apartments\",\n",
    "    r\"\\bbenifits\\b\" : \"benefits\",\n",
    "    r\"\\bexistant\\b\" : \"existent\",\n",
    "    r\"\\bsaftey\\b\" : \"safety\",\n",
    "    r'\\bdon\"t\\b' : \"don't\",\n",
    "}"
   ]
  },
  {
   "cell_type": "code",
   "execution_count": 9,
   "metadata": {
    "code_folding": [
     0
    ],
    "hidden": true
   },
   "outputs": [],
   "source": [
    "weirdchar_str_repls = {\n",
    "    \"#39;\" : \"'\",   \n",
    "    'amp;' : '&',   \n",
    "    '#146;' : \"'\",   \n",
    "    'nbsp;' : ' ',   \n",
    "    '#36;' : '$',   \n",
    "    '\\\\n' : \"\\n\",   \n",
    "    'quot;' : \"'\",   \n",
    "    '’' : \"'\",   \n",
    "    \"´\" : \"'\",\n",
    "    \"`\" : \"'\",\n",
    "    '`' : \"'\", \n",
    "    '´' : \"'\", \n",
    "    '“' : '\"',   \n",
    "    '”' : '\"',   \n",
    "    '<br />' : \"\\n\",   \n",
    "    '\\\\\"' : '\"',   \n",
    "    '<unk>' : 'u_n',   \n",
    "    ' @.@ ' : '.',   \n",
    "    ' @-@ ' : '-',   \n",
    "    '\\\\' : ' \\\\ ',   \n",
    "    '•' : '-'\n",
    "}"
   ]
  },
  {
   "cell_type": "code",
   "execution_count": 10,
   "metadata": {
    "hidden": true
   },
   "outputs": [],
   "source": [
    "# does regex replace making the substitution the same case\n",
    "def re_replace(word, replacement, text):\n",
    "    def func(match):\n",
    "        g = match.group()\n",
    "        if g.islower(): return replacement.lower()\n",
    "        if g.istitle(): return replacement.title()\n",
    "        if g.isupper(): return replacement.upper()\n",
    "        return replacement      \n",
    "    \n",
    "    return re.sub(word, func, text, flags=re.I)\n",
    "\n",
    "# define regex and string replacements\n",
    "re_repls = {}  # e.g., { **spelling_regex_repls } \n",
    "str_repls = {} # e.g., { **weirdchar_str_repls }\n",
    "\n",
    "def make_replacements(t:str) -> str:\n",
    "    # replace based on regexs (keeping case) and then strings\n",
    "    for k, v in re_repls.items(): t = re_replace(k, v, t)\n",
    "    for k, v in str_repls.items(): t = t.replace(k, t)\n",
    "    return t\n",
    "\n",
    "# ensure am|pm is considered it own token (7:00pm > 7:00 pm, 7am-10pm > 7 am - 10 pm))\n",
    "def fix_ampm(t:str) -> str:\n",
    "    re_ampm = re.compile(r'(\\d+)(am|pm|am\\-|pm\\-|a\\.m\\.|p\\.m\\.|a\\.m\\.\\-|p\\.m\\.\\-)')    \n",
    "    return re_ampm.sub(r'\\1 \\2 ', t)\n",
    "\n",
    "# try to handle places where a new sentence doesn't begin with a space (e.g., I like dogs.I like cats)\n",
    "# without breaking apart things like urls and emails\n",
    "def fix_sentence_ends(t:str) -> str:\n",
    "    re_sentend = re.compile(r'(?<!www)\\.((?!com|edu|org|net|m\\b)[a-zA-Z]+)(?!(@|\\.(com|edu|org|net)))\\b') \n",
    "    return re_sentend.sub(r'. \\1 ', t)\n",
    "\n",
    "# separate hyphen|tilde if it is at beginning of letter/digit\n",
    "def fix_hyphenated_words(t:str) -> str:\n",
    "    re_hypword = re.compile(r'\\s(\\-+|~+)([a-zA-Z0-9])')\n",
    "    return re_hypword.sub(r' \\1 \\2', t)\n",
    "\n",
    "\n",
    "# prepend custom tokenization rules to defaults\n",
    "custom_tok_rules = defaults.text_pre_rules + [make_replacements, fix_ampm, fix_sentence_ends, fix_hyphenated_words]\n",
    "\n",
    "# use this customized Tokenizer for qualitative data\n",
    "tokenizer = Tokenizer(pre_rules=custom_tok_rules, special_cases=None)"
   ]
  },
  {
   "cell_type": "markdown",
   "metadata": {},
   "source": [
    "## Configuration"
   ]
  },
  {
   "cell_type": "code",
   "execution_count": 11,
   "metadata": {},
   "outputs": [],
   "source": [
    "# various default, LM, and classification paths\n",
    "PATH = Path('../data')\n",
    "CLEAN_DATA_PATH = Path('../data/clean')\n",
    "\n",
    "LM_PATH = PATH/'lm'\n",
    "CLS_PATH = PATH/'classification'\n",
    "STANDARD_THEME_PATH = CLS_PATH/'standard_themes'\n",
    "STANDARD_THEME_META_PATH = STANDARD_THEME_PATH/'meta'\n",
    "\n",
    "(LM_PATH/'models').mkdir(parents=True, exist_ok=True)\n",
    "(LM_PATH/'tmp').mkdir(exist_ok=True)\n",
    "\n",
    "(STANDARD_THEME_META_PATH/'models').mkdir(parents=True, exist_ok=True)\n",
    "(STANDARD_THEME_META_PATH/'tmp').mkdir(exist_ok=True)"
   ]
  },
  {
   "cell_type": "code",
   "execution_count": 12,
   "metadata": {},
   "outputs": [],
   "source": [
    "# basic columns\n",
    "lm_dtypes = { \n",
    "    'Id': int, 'QuestionAnsID': int, 'AnswerText': str, 'AnswerText_NonEnglish': str, 'Language': str,\n",
    "    \n",
    "    'SurveyID': int, 'SurveyTypeID': int, 'BenchmarkSurveyType': str, 'ClientId': str,'RspID': int,\n",
    "    \n",
    "    'QuestionCategoryAbbr': str, 'QuestionText': str, 'QuestionClass': str, \n",
    "    \n",
    "    'QuestionCategoryID': float, 'QuestionReportAbbr': str, 'QuestionCategoryLabel': str, \n",
    "    'BenchmarkLevel1': str, 'BenchmarkLevel2': str, 'BenchmarkLevel3': str, 'ClientBenchmarkLevel': str,\n",
    "    \n",
    "    'GroupCode': float, 'GroupID': str, \n",
    "    'GroupLevel1Code': float, 'GroupLevel1Name': str,\n",
    "    'GroupLevel2Code': float, 'GroupLevel2Name': str,\n",
    "    'GroupLevel3Code': float, 'GroupLevel3Name': str,\n",
    "    'GroupLevel4Code': float, 'GroupLevel4Name': str,\n",
    "    'GroupLevel5Code': float, 'GroupLevel5Name': str,\n",
    "    'GroupLevel6Code': float, 'GroupLevel6Name': str,\n",
    "    'GroupLevel7Code': float, 'GroupLevel7Name': str,\n",
    "    'GroupLevel8Code': float, 'GroupLevel8Name': str,\n",
    "}\n",
    "\n",
    "lm_dtypes_sc = { convert_to_snakecase(k):v for k,v in lm_dtypes.items() }\n",
    "\n",
    "standard_theme_meta_dtypes = {\n",
    "    'standard_theme_id': int,\n",
    "    'theme': str,\n",
    "    'url_friendly_theme': str,\n",
    "    'theme_display_order': int,\n",
    "    'avg_sentiment': float,\n",
    "    'is_example': int\n",
    "}\n",
    "\n",
    "# date columns\n",
    "date_cols = []\n",
    "    \n",
    "\n",
    "STANDARD_THEME_META_LABELS = list(standard_theme_meta_dtypes.keys())[-2:]"
   ]
  },
  {
   "cell_type": "code",
   "execution_count": 13,
   "metadata": {},
   "outputs": [],
   "source": [
    "vocab = pickle.load(open(LM_PATH/'vocab.pkl', 'rb'))"
   ]
  },
  {
   "cell_type": "code",
   "execution_count": 14,
   "metadata": {},
   "outputs": [
    {
     "data": {
      "text/plain": [
       "39904"
      ]
     },
     "execution_count": 14,
     "metadata": {},
     "output_type": "execute_result"
    }
   ],
   "source": [
    "len(vocab.itos)"
   ]
  },
  {
   "cell_type": "markdown",
   "metadata": {},
   "source": [
    "## Classifier\n",
    "\n",
    "The classifier is basically a linear layer custom head on top of the LM backbone"
   ]
  },
  {
   "cell_type": "code",
   "execution_count": 15,
   "metadata": {},
   "outputs": [],
   "source": [
    "chunksize = 24000\n",
    "\n",
    "bptt, em_sz, nh, nl = 70, 400, 1150, 3\n",
    "bsz = 80\n",
    "wd = 1e-7"
   ]
  },
  {
   "cell_type": "code",
   "execution_count": 16,
   "metadata": {},
   "outputs": [],
   "source": [
    "# define what text columns to use (can be multiple)\n",
    "corpus_cols = ['theme', 'answer_text'] \n",
    "\n",
    "# define how to identify the text we are using for the LM\n",
    "corpus_suf = '_multitask' #'_cleaned'"
   ]
  },
  {
   "cell_type": "code",
   "execution_count": 17,
   "metadata": {},
   "outputs": [],
   "source": [
    "train_df = pd.read_csv(STANDARD_THEME_META_PATH/'train.csv')\n",
    "valid_df = pd.read_csv(STANDARD_THEME_META_PATH/'test.csv')"
   ]
  },
  {
   "cell_type": "markdown",
   "metadata": {},
   "source": [
    "Remove any rows whre the \"corpus_cols\" are nan"
   ]
  },
  {
   "cell_type": "code",
   "execution_count": 18,
   "metadata": {},
   "outputs": [],
   "source": [
    "train_df.dropna(subset=corpus_cols, inplace=True)\n",
    "valid_df.dropna(subset=corpus_cols, inplace=True)"
   ]
  },
  {
   "cell_type": "code",
   "execution_count": 19,
   "metadata": {},
   "outputs": [
    {
     "data": {
      "text/plain": [
       "['avg_sentiment', 'is_example']"
      ]
     },
     "execution_count": 19,
     "metadata": {},
     "output_type": "execute_result"
    }
   ],
   "source": [
    "STANDARD_THEME_META_LABELS"
   ]
  },
  {
   "cell_type": "code",
   "execution_count": 20,
   "metadata": {},
   "outputs": [],
   "source": [
    "# list(set(train_df.theme.unique()))"
   ]
  },
  {
   "cell_type": "code",
   "execution_count": 21,
   "metadata": {},
   "outputs": [],
   "source": [
    "# vocab.itos += [ item.lower() for item in list(set(train_df.theme.unique())) ]\n",
    "# vocab.stoi = collections.defaultdict(int,{v:k for k,v in enumerate(vocab.itos)})"
   ]
  },
  {
   "cell_type": "code",
   "execution_count": 22,
   "metadata": {},
   "outputs": [],
   "source": [
    "class MultiTaskFloatList(FloatList):\n",
    "    def __init__(self, items:Iterator, n_classes:int=1, log:bool=False, classes:Collection=None, **kwargs):\n",
    "        super().__init__(items, log, classes, **kwargs)\n",
    "        self.c = n_classes"
   ]
  },
  {
   "cell_type": "code",
   "execution_count": 23,
   "metadata": {},
   "outputs": [
    {
     "name": "stderr",
     "output_type": "stream",
     "text": [
      "/home/wgilliam/anaconda3/envs/tritonlytics-ml/lib/python3.7/site-packages/torch/serialization.py:292: UserWarning: Couldn't retrieve source code for container of type MSELoss. It won't be checked for correctness upon loading.\n",
      "  \"type \" + obj.__name__ + \". It won't be checked \"\n"
     ]
    }
   ],
   "source": [
    "cls_processor = [\n",
    "    TokenizeProcessor(tokenizer=tokenizer, chunksize=chunksize, mark_fields=True),\n",
    "    NumericalizeProcessor(vocab=vocab)\n",
    "]\n",
    "\n",
    "data_clas = (ItemLists(path=STANDARD_THEME_META_PATH,\n",
    "                     train=TextList.from_df(\n",
    "                         train_df, path=STANDARD_THEME_META_PATH, cols=corpus_cols, processor=cls_processor),\n",
    "                     valid=TextList.from_df(\n",
    "                         valid_df, path=STANDARD_THEME_META_PATH, cols=corpus_cols, processor=cls_processor)\n",
    "                    )\n",
    "             .label_from_df(cols=STANDARD_THEME_META_LABELS, label_cls=partial(MultiTaskFloatList,n_classes=2))\n",
    "             .databunch(bs=bsz)\n",
    "          )\n",
    "\n",
    "data_clas.save(f'data_cls_standard_theme_meta.pkl')"
   ]
  },
  {
   "cell_type": "code",
   "execution_count": 24,
   "metadata": {},
   "outputs": [],
   "source": [
    "data_clas = load_data(STANDARD_THEME_META_PATH, f'data_cls_standard_theme_meta.pkl', bs=bsz)"
   ]
  },
  {
   "cell_type": "code",
   "execution_count": 25,
   "metadata": {},
   "outputs": [
    {
     "name": "stdout",
     "output_type": "stream",
     "text": [
      "xxbos xxfld 1 xxmaj supervisor xxmaj effectiveness / xxmaj resolves xxmaj staff xxmaj issues xxfld 2 xxmaj leaders need to be trained to be xxmaj leaders xxrep 4 . xxmaj leaders need to be in their departments to lead not in meetings xxup all day xxrep 4 . xxmaj leaders need to learn how to train and discipline xxrep 4 . xxmaj leaders need to learn how to handle conflict in the work place and discipline those who do n't comply with xxup ucsd and or xxmaj department policies\n",
      "[1. 0.]\n"
     ]
    }
   ],
   "source": [
    "print(data_clas.train_ds.x[0])\n",
    "print(data_clas.train_ds.y[0])"
   ]
  },
  {
   "cell_type": "code",
   "execution_count": 26,
   "metadata": {},
   "outputs": [
    {
     "name": "stdout",
     "output_type": "stream",
     "text": [
      "4619 39904\n",
      "514 39904\n"
     ]
    }
   ],
   "source": [
    "print(len(data_clas.train_ds), len(data_clas.train_ds.vocab.itos))\n",
    "print(len(data_clas.valid_ds), len(data_clas.valid_ds.vocab.itos))"
   ]
  },
  {
   "cell_type": "code",
   "execution_count": 27,
   "metadata": {},
   "outputs": [],
   "source": [
    "it = iter(data_clas.train_dl)"
   ]
  },
  {
   "cell_type": "code",
   "execution_count": 28,
   "metadata": {},
   "outputs": [
    {
     "name": "stdout",
     "output_type": "stream",
     "text": [
      "torch.Size([80, 486])\n",
      "torch.Size([80, 2])\n",
      "torch.Size([80, 486]) torch.cuda.LongTensor torch.Size([80, 2]) torch.cuda.FloatTensor 80\n"
     ]
    }
   ],
   "source": [
    "batch = next(it)\n",
    "print(batch[0].size())\n",
    "print(batch[1].size())\n",
    "print(batch[0].size(), batch[0].type(), batch[1].size(), batch[1].type(), bsz)"
   ]
  },
  {
   "cell_type": "code",
   "execution_count": 29,
   "metadata": {
    "scrolled": true
   },
   "outputs": [
    {
     "data": {
      "text/plain": [
       "\"xxbos xxfld 1 xxmaj ethical xxmaj conduct / xxmaj perform xxmaj responsibilities / xxmaj spirit of xxmaj cooperation xxfld 2 xxmaj in the xxmaj enterprise xxmaj network and xxmaj telecommunications group of xxup its , the environment continues to be toxic , retaliatory , abusive , and discriminatory as in past years . xxmaj under the direction of xxmaj james xxmaj seddon , supervisor xxmaj malerie xxmaj samadi harasses and talks down to employees . xxmaj manipulates and edits official documentation to make staff look and give lower performance appraisal ratings or retaliate against them . xxmaj also , use the same practice to provide their friends with higher performance ratings and award them with higher merit increases . xxmaj senior management continues to harbor this behavior without any consequence and or accountability . xxmaj james and xxmaj malerie exploit minorities and give preferential treatment to personnel hired by them . xxmaj regularly abuse the power that the xxmaj university of xxmaj california gives them and exercise nepotism because they are both product of such practices . \\\\ r \\n  xxmaj other supervisors like xxmaj ynez xxmaj hicks also participates in the same practices of xxunk , nepotism , and favoritism . \\\\ r \\n  xxmaj it is unacceptable that this behavior and practices continue to be used by management without any accountability . xxmaj principles of the community are ignored continuously daily . xxmaj when this type of situation is brought up to xxmaj human xxmaj resources , they ignore them because no one is enforcing the xxup uc xxmaj principles . xxmaj james xxmaj seddon and xxmaj malerie xxmaj samadi in the xxmaj datacom group do n't care about staff promotion , compensation , and well being . xxmaj they only care about themselves and their friends . xxmaj hiring practices are unfair ; they manipulate the process so they can hire barely qualified personnel into experienced positions . xxmaj existing staff is overworked because newer personnel can not pull their weight , yet xxmaj malerie and xxmaj james make it look like they are in their appraisals . xxmaj they mentally abuse staff and minimize their work performance . xxmaj recently one of the team member past away while working at home . a stroke caused by the stress and the pressure that xxmaj malerie was putting on xxmaj david xxmaj ramirez . xxmaj she used him to get her promotion to supervisor and make her look good in front of others . \\\\ r \\n  xxmaj both xxmaj james and xxmaj malerie are the perfect examples of bad management . xxmaj somehow they continue to occupy their positions , and xxmaj senior xxmaj management does n't do anything about it . \\\\ r \\n  xxmaj the lowest level the xxmaj datacom team has been in years , all because of xxmaj james and xxmaj malerie 's arrogance and lack of ethics .\""
      ]
     },
     "execution_count": 29,
     "metadata": {},
     "output_type": "execute_result"
    }
   ],
   "source": [
    "' '.join([ data_clas.train_ds.vocab.itos[idx] for idx in batch[0][0,:] ])"
   ]
  },
  {
   "cell_type": "code",
   "execution_count": 30,
   "metadata": {},
   "outputs": [
    {
     "data": {
      "text/html": [
       "<table border=\"1\" class=\"dataframe\">\n",
       "  <thead>\n",
       "    <tr style=\"text-align: right;\">\n",
       "      <th>text</th>\n",
       "      <th>target</th>\n",
       "    </tr>\n",
       "  </thead>\n",
       "  <tbody>\n",
       "    <tr>\n",
       "      <td>xxbos xxfld 1 xxmaj ethical xxmaj conduct / xxmaj perform xxmaj responsibilities / xxmaj spirit of xxmaj cooperation xxfld 2 xxmaj in the xxmaj enterprise xxmaj network and xxmaj telecommunications group of xxup its , the environment continues to be toxic , retaliatory , abusive , and discriminatory as in past years . xxmaj under the direction of xxmaj james xxmaj seddon , supervisor xxmaj malerie xxmaj samadi harasses and</td>\n",
       "      <td>[1. 1.]</td>\n",
       "    </tr>\n",
       "    <tr>\n",
       "      <td>xxbos xxfld 1 xxmaj supervisor xxmaj effectiveness / xxmaj resolves xxmaj staff xxmaj issues xxfld 2 xxmaj in the xxmaj enterprise xxmaj network and xxmaj telecommunications group of xxup its , the environment continues to be toxic , retaliatory , abusive , and discriminatory as in past years . xxmaj under the direction of xxmaj james xxmaj seddon , supervisor xxmaj malerie xxmaj samadi harasses and talks down to employees</td>\n",
       "      <td>[1. 0.]</td>\n",
       "    </tr>\n",
       "    <tr>\n",
       "      <td>xxbos xxfld 1 xxmaj fear of xxmaj retaliation , xxmaj negative xxmaj consequences xxfld 2 xxmaj in the xxmaj enterprise xxmaj network and xxmaj telecommunications group of xxup its , the environment continues to be toxic , retaliatory , abusive , and discriminatory as in past years . xxmaj under the direction of xxmaj james xxmaj seddon , supervisor xxmaj malerie xxmaj samadi harasses and talks down to employees .</td>\n",
       "      <td>[1.5 0. ]</td>\n",
       "    </tr>\n",
       "    <tr>\n",
       "      <td>xxbos xxfld 1 xxmaj favoritism / xxmaj cliques xxfld 2 xxmaj in the xxmaj enterprise xxmaj network and xxmaj telecommunications group of xxup its , the environment continues to be toxic , retaliatory , abusive , and discriminatory as in past years . xxmaj under the direction of xxmaj james xxmaj seddon , supervisor xxmaj malerie xxmaj samadi harasses and talks down to employees . xxmaj manipulates and edits official</td>\n",
       "      <td>[1. 0.]</td>\n",
       "    </tr>\n",
       "    <tr>\n",
       "      <td>xxbos xxfld 1 xxmaj parking / xxmaj transportation xxfld 2 xxmaj insights as alumna / former student of xxup ucsd , working on main campus 3.5 + years , xxmaj mexican - xxmaj american female &amp; varied experience from start - up to non - profit to corporate : \\ r \\n  1 . xxmaj dept / xxmaj culture : xxmaj all , not just leadership / xxup hr-</td>\n",
       "      <td>[2. 0.]</td>\n",
       "    </tr>\n",
       "  </tbody>\n",
       "</table>"
      ],
      "text/plain": [
       "<IPython.core.display.HTML object>"
      ]
     },
     "metadata": {},
     "output_type": "display_data"
    }
   ],
   "source": [
    "data_clas.show_batch()"
   ]
  },
  {
   "cell_type": "markdown",
   "metadata": {},
   "source": [
    "### Configure a forward or backwards run"
   ]
  },
  {
   "cell_type": "code",
   "execution_count": 23,
   "metadata": {},
   "outputs": [],
   "source": [
    "backwards = True\n",
    "\n",
    "m_suf = '_multitask' #'_cleaned'\n",
    "m_pre = 'bwd_' if (backwards) else 'fwd_'\n",
    "\n",
    "data_clas = load_data(STANDARD_THEME_META_PATH, f'data_cls_standard_theme_meta.pkl', bs=bsz, backwards=backwards)"
   ]
  },
  {
   "cell_type": "markdown",
   "metadata": {},
   "source": [
    "### Build the classifier (baseline)"
   ]
  },
  {
   "cell_type": "code",
   "execution_count": 24,
   "metadata": {},
   "outputs": [
    {
     "name": "stdout",
     "output_type": "stream",
     "text": [
      "71.171875\n"
     ]
    }
   ],
   "source": [
    "unique_is_example_vals = list(train_df.is_example.value_counts())\n",
    "is_example_pos_weight = (np.max(unique_is_example_vals) / unique_is_example_vals)[1]\n",
    "\n",
    "print(is_example_pos_weight)"
   ]
  },
  {
   "cell_type": "code",
   "execution_count": 25,
   "metadata": {},
   "outputs": [],
   "source": [
    "multitask_config = {\n",
    "    'sentiment':  { \n",
    "        'type': 'regression', 'input_idxs': [0], 'target_idxs': [0], \n",
    "        'y_range': [1., 5.1],\n",
    "        'loss_weight': 1.\n",
    "    },\n",
    "    'is_example': { \n",
    "        'type': 'binaryclass', 'input_idxs': [1], 'target_idxs': [1], \n",
    "        'y_range': None,\n",
    "        'class_weights': torch.tensor([is_example_pos_weight]),\n",
    "        'loss_weight': 0.1\n",
    "    }\n",
    "}"
   ]
  },
  {
   "cell_type": "code",
   "execution_count": 26,
   "metadata": {},
   "outputs": [],
   "source": [
    "class MultiTaskClassifier(nn.Module):\n",
    "    \n",
    "    def __init__(self, config):\n",
    "        super().__init__()\n",
    "        self.config = config\n",
    "    \n",
    "    def forward(self, input):\n",
    "        x, raw_outputs, outputs = input\n",
    "        \n",
    "        for k,v in self.config.items():\n",
    "            outv = x[:, v['input_idxs']]\n",
    "            if (v['y_range']): outv = self._constrain_range(outv, v['y_range'])\n",
    "            x[:, v['input_idxs']] = outv\n",
    "            \n",
    "        return x, raw_outputs, outputs\n",
    "    \n",
    "    def _constrain_range(self, x, y_range):\n",
    "        x = torch.sigmoid(x)\n",
    "        x = x * (y_range[1] - y_range[0])\n",
    "        x = x + y_range[0]\n",
    "        return x"
   ]
  },
  {
   "cell_type": "code",
   "execution_count": 27,
   "metadata": {},
   "outputs": [],
   "source": [
    "def MultiTaskLossFlat(*args, axis:int=-1, config=multitask_config, **kwargs):\n",
    "    \n",
    "    losses = []\n",
    "    \n",
    "    for k,v in config.items():\n",
    "        input_targs = [args[0][:, v['input_idxs']], args[1][:, v['target_idxs']]]\n",
    "        class_weights = v['class_weights'].to(input_targs[0].device) if ('class_weights' in v) else None\n",
    "        \n",
    "        if (v['type'] ==  'regression'): \n",
    "            loss = MSELossFlat(axis=axis, **kwargs)(*input_targs)\n",
    "            \n",
    "        elif (v['type'] ==  'multiclass'): \n",
    "            input_targs[1] = input_targs[1].long()\n",
    "            loss = CrossEntropyFlat(weight=class_weights, axis=axis, **kwargs)(*input_targs)\n",
    "            \n",
    "        elif (v['type'] ==  'binaryclass'): \n",
    "            input_targs[1] = input_targs[1].long()\n",
    "            if (v['y_range']):\n",
    "                loss = BCEFlat(axis=axis, **kwargs)(*input_targs)\n",
    "            else:\n",
    "                loss = BCEWithLogitsFlat(pos_weight=class_weights, axis=axis, **kwargs)(*input_targs)\n",
    "                \n",
    "        elif (v['type'] ==  'multilabel'): \n",
    "            input_targs[1] = input_targs[1].long()\n",
    "            if (v['y_range']):\n",
    "                loss = BCEFlat(axis=axis, **kwargs)(*input_targs)\n",
    "            else:\n",
    "                loss = BCEWithLogitsFlat(pos_weight=class_weights, axis=axis, **kwargs)(*input_targs)\n",
    "                \n",
    "        losses.append(v['loss_weight'] * loss)\n",
    "    \n",
    "    return torch.sum(torch.stack(losses))"
   ]
  },
  {
   "cell_type": "markdown",
   "metadata": {},
   "source": [
    "We setup the dropouts for the model - these values have been chosen after experimentation. If you need to update them for custom LMs, you can change the weighting factor (0.7 here) based on the amount of data you have. For more data, you can reduce dropout factor and for small datasets, you can reduce overfitting by choosing a higher dropout factor. *No other dropout value requires tuning*\n",
    "\n",
    "We first tune the last embedding layer so that the missing tokens initialized with mean weights get tuned properly. So we freeze everything except the last layer.\n",
    "\n",
    "We also keep track of the *accuracy* metric."
   ]
  },
  {
   "cell_type": "code",
   "execution_count": 28,
   "metadata": {},
   "outputs": [],
   "source": [
    "beta = 1\n",
    "start = 0.1\n",
    "\n",
    "def fscore(preds, targs):\n",
    "    return metrics_util.best_fscore(preds, targs, beta, start=start)\n",
    "    \n",
    "def opt_th(preds, targs):\n",
    "    return metrics_util.best_fthresh(preds, targs, beta=beta, start=start)\n",
    "\n",
    "def multilbl_accuracy(preds, targs):\n",
    "    return metrics_util.multi_accuracy(preds, targs, beta=beta, start=start)\n",
    "\n",
    "def is_example_acc(preds, targs):\n",
    "    return accuracy(preds[:, 1:2], targs[:, 1])\n",
    "\n",
    "def sentiment_mse(preds, targs):\n",
    "    return mse(preds[:, 0], targs[:, 0])"
   ]
  },
  {
   "cell_type": "code",
   "execution_count": 29,
   "metadata": {},
   "outputs": [],
   "source": [
    "try: learn.purge(); learn = None; torch.cuda.empty_cache(); gc.collect();\n",
    "except: pass"
   ]
  },
  {
   "cell_type": "code",
   "execution_count": 30,
   "metadata": {},
   "outputs": [],
   "source": [
    "learn = text_classifier_learner(data_clas, arch=AWD_LSTM, pretrained=False,\n",
    "                                drop_mult=0.5, bptt=bptt, lin_ftrs=[50], ps=[0.1],\n",
    "                                alpha=2., beta=1.)"
   ]
  },
  {
   "cell_type": "code",
   "execution_count": null,
   "metadata": {},
   "outputs": [],
   "source": [
    "x = dict(learn.model.named_modules())\n",
    "# x['1.layers.6'].out_features=3\n",
    "# x['1.layers'].add_module('multitask', MultiTaskClassifier(config=multitask_config))\n",
    "learn.model.add_module('multitask', MultiTaskClassifier(config=multitask_config))"
   ]
  },
  {
   "cell_type": "code",
   "execution_count": null,
   "metadata": {},
   "outputs": [],
   "source": [
    "# x = list(learn.model.modules())[-2]\n",
    "# x\n",
    "# x.out_features=3\n",
    "# x.add_module('asdfasdf',nn.Linear(3,2,True))"
   ]
  },
  {
   "cell_type": "code",
   "execution_count": null,
   "metadata": {},
   "outputs": [],
   "source": [
    "learn.clip = 25.\n",
    "learn.loss_func = partial(MultiTaskLossFlat, config=multitask_config)\n",
    "learn.metrics = [is_example_acc, sentiment_mse]\n",
    "\n",
    "learn.model_dir = 'models'"
   ]
  },
  {
   "cell_type": "code",
   "execution_count": 34,
   "metadata": {},
   "outputs": [],
   "source": [
    "best_model_cb = partial(SaveModelCallback, monitor='valid_loss', mode='min', name=f'{m_pre}cls_bestmodel{m_suf}')\n",
    "\n",
    "learn.callback_fns.append(best_model_cb)\n",
    "# learn.callback_fns.append(RocAucEvaluation)"
   ]
  },
  {
   "cell_type": "code",
   "execution_count": 35,
   "metadata": {},
   "outputs": [],
   "source": [
    "# copied from /lm/models -> class/models (both fwd and bwd weights)\n",
    "! cp {LM_PATH/'models/*_lm_enc.pth'} {STANDARD_THEME_META_PATH/'models/'}  "
   ]
  },
  {
   "cell_type": "code",
   "execution_count": 36,
   "metadata": {},
   "outputs": [],
   "source": [
    "learn = learn.load_encoder(f'{m_pre}lm_enc')"
   ]
  },
  {
   "cell_type": "code",
   "execution_count": 113,
   "metadata": {},
   "outputs": [],
   "source": [
    "best_model_path = STANDARD_THEME_META_PATH/f'models/{m_pre}cls_bestmodel{m_suf}*'\n",
    "!rm {best_model_path}"
   ]
  },
  {
   "cell_type": "code",
   "execution_count": 114,
   "metadata": {},
   "outputs": [],
   "source": [
    "# learn.model"
   ]
  },
  {
   "cell_type": "code",
   "execution_count": 115,
   "metadata": {},
   "outputs": [],
   "source": [
    "lr = 5e-2\n",
    "wd = 0."
   ]
  },
  {
   "cell_type": "code",
   "execution_count": 116,
   "metadata": {},
   "outputs": [],
   "source": [
    "learn.freeze()"
   ]
  },
  {
   "cell_type": "code",
   "execution_count": 117,
   "metadata": {},
   "outputs": [
    {
     "data": {
      "text/html": [],
      "text/plain": [
       "<IPython.core.display.HTML object>"
      ]
     },
     "metadata": {},
     "output_type": "display_data"
    },
    {
     "name": "stdout",
     "output_type": "stream",
     "text": [
      "LR Finder is complete, type {learner_name}.recorder.plot() to see the graph.\n"
     ]
    },
    {
     "data": {
      "image/png": "[encoded data removed]",
      "text/plain": [
       "<Figure size 648x432 with 1 Axes>"
      ]
     },
     "metadata": {},
     "output_type": "display_data"
    }
   ],
   "source": [
    "learn.lr_find(lr/1000, wd=wd)\n",
    "learn.recorder.plot()"
   ]
  },
  {
   "cell_type": "markdown",
   "metadata": {},
   "source": [
    "We set learning rates and fit our IMDB LM. We first run one epoch to tune the last layer which contains the embedding weights. This should help the missing tokens in the wikitext103 learn better weights."
   ]
  },
  {
   "cell_type": "code",
   "execution_count": 118,
   "metadata": {
    "scrolled": true
   },
   "outputs": [
    {
     "data": {
      "text/html": [
       "Total time: 00:09 <p><table border=\"1\" class=\"dataframe\">\n",
       "  <thead>\n",
       "    <tr style=\"text-align: left;\">\n",
       "      <th>epoch</th>\n",
       "      <th>train_loss</th>\n",
       "      <th>valid_loss</th>\n",
       "      <th>is_example_acc</th>\n",
       "      <th>sentiment_mse</th>\n",
       "      <th>time</th>\n",
       "    </tr>\n",
       "  </thead>\n",
       "  <tbody>\n",
       "    <tr>\n",
       "      <td>0</td>\n",
       "      <td>0.982454</td>\n",
       "      <td>0.775768</td>\n",
       "      <td>0.988327</td>\n",
       "      <td>0.649911</td>\n",
       "      <td>00:09</td>\n",
       "    </tr>\n",
       "  </tbody>\n",
       "</table>"
      ],
      "text/plain": [
       "<IPython.core.display.HTML object>"
      ]
     },
     "metadata": {},
     "output_type": "display_data"
    },
    {
     "name": "stdout",
     "output_type": "stream",
     "text": [
      "Better model found at epoch 0 with valid_loss value: 0.7757678031921387.\n",
      "CPU times: user 5.72 s, sys: 3.54 s, total: 9.26 s\n",
      "Wall time: 9.51 s\n"
     ]
    }
   ],
   "source": [
    "%%time\n",
    "learn.fit_one_cycle(1, lr, wd=wd)"
   ]
  },
  {
   "cell_type": "code",
   "execution_count": 119,
   "metadata": {},
   "outputs": [],
   "source": [
    "learn.save(f'{m_pre}cls_last_ft{m_suf}')"
   ]
  },
  {
   "cell_type": "code",
   "execution_count": 120,
   "metadata": {},
   "outputs": [],
   "source": [
    "# will load the best when training ends automaticall ... #learn = learn.load(f'{lm_pre}cls_last_ft{exp_suffix}')"
   ]
  },
  {
   "cell_type": "code",
   "execution_count": 121,
   "metadata": {},
   "outputs": [
    {
     "data": {
      "text/html": [
       "Total time: 00:10 <p><table border=\"1\" class=\"dataframe\">\n",
       "  <thead>\n",
       "    <tr style=\"text-align: left;\">\n",
       "      <th>epoch</th>\n",
       "      <th>train_loss</th>\n",
       "      <th>valid_loss</th>\n",
       "      <th>is_example_acc</th>\n",
       "      <th>sentiment_mse</th>\n",
       "      <th>time</th>\n",
       "    </tr>\n",
       "  </thead>\n",
       "  <tbody>\n",
       "    <tr>\n",
       "      <td>0</td>\n",
       "      <td>0.828432</td>\n",
       "      <td>0.654378</td>\n",
       "      <td>0.988327</td>\n",
       "      <td>0.540449</td>\n",
       "      <td>00:09</td>\n",
       "    </tr>\n",
       "  </tbody>\n",
       "</table>"
      ],
      "text/plain": [
       "<IPython.core.display.HTML object>"
      ]
     },
     "metadata": {},
     "output_type": "display_data"
    },
    {
     "name": "stdout",
     "output_type": "stream",
     "text": [
      "Better model found at epoch 0 with valid_loss value: 0.6543784141540527.\n"
     ]
    }
   ],
   "source": [
    "learn.freeze_to(-2)\n",
    "learn.fit_one_cycle(1, slice(5e-2/(2.6**4),5e-2), moms=(0.8,0.7))"
   ]
  },
  {
   "cell_type": "code",
   "execution_count": 122,
   "metadata": {},
   "outputs": [],
   "source": [
    "learn.save(f'{m_pre}cls_last2_ft{m_suf}')"
   ]
  },
  {
   "cell_type": "code",
   "execution_count": 123,
   "metadata": {},
   "outputs": [],
   "source": [
    "# will load the best when training ends automaticall ... #learn = learn.load(f'{lm_pre}cls_last2_ft{exp_suffix}')"
   ]
  },
  {
   "cell_type": "code",
   "execution_count": 124,
   "metadata": {},
   "outputs": [
    {
     "data": {
      "text/html": [
       "Total time: 00:14 <p><table border=\"1\" class=\"dataframe\">\n",
       "  <thead>\n",
       "    <tr style=\"text-align: left;\">\n",
       "      <th>epoch</th>\n",
       "      <th>train_loss</th>\n",
       "      <th>valid_loss</th>\n",
       "      <th>is_example_acc</th>\n",
       "      <th>sentiment_mse</th>\n",
       "      <th>time</th>\n",
       "    </tr>\n",
       "  </thead>\n",
       "  <tbody>\n",
       "    <tr>\n",
       "      <td>0</td>\n",
       "      <td>0.661724</td>\n",
       "      <td>0.597494</td>\n",
       "      <td>0.988327</td>\n",
       "      <td>0.485003</td>\n",
       "      <td>00:13</td>\n",
       "    </tr>\n",
       "  </tbody>\n",
       "</table>"
      ],
      "text/plain": [
       "<IPython.core.display.HTML object>"
      ]
     },
     "metadata": {},
     "output_type": "display_data"
    },
    {
     "name": "stdout",
     "output_type": "stream",
     "text": [
      "Better model found at epoch 0 with valid_loss value: 0.5974938273429871.\n"
     ]
    }
   ],
   "source": [
    "learn.freeze_to(-3)\n",
    "learn.fit_one_cycle(1, slice(5e-3/(2.6**4),5e-3), moms=(0.8,0.7))"
   ]
  },
  {
   "cell_type": "code",
   "execution_count": 125,
   "metadata": {},
   "outputs": [],
   "source": [
    "learn.save(f'{m_pre}cls_last3_ft{m_suf}')"
   ]
  },
  {
   "cell_type": "code",
   "execution_count": 126,
   "metadata": {},
   "outputs": [],
   "source": [
    "# will load the best when training ends automaticall ... \n",
    "# learn = learn.load(f'{lm_pre}cls_last3_ft{exp_suffix}')"
   ]
  },
  {
   "cell_type": "code",
   "execution_count": 127,
   "metadata": {},
   "outputs": [
    {
     "data": {
      "text/html": [
       "Total time: 03:02 <p><table border=\"1\" class=\"dataframe\">\n",
       "  <thead>\n",
       "    <tr style=\"text-align: left;\">\n",
       "      <th>epoch</th>\n",
       "      <th>train_loss</th>\n",
       "      <th>valid_loss</th>\n",
       "      <th>is_example_acc</th>\n",
       "      <th>sentiment_mse</th>\n",
       "      <th>time</th>\n",
       "    </tr>\n",
       "  </thead>\n",
       "  <tbody>\n",
       "    <tr>\n",
       "      <td>0</td>\n",
       "      <td>0.624796</td>\n",
       "      <td>0.586398</td>\n",
       "      <td>0.988327</td>\n",
       "      <td>0.475809</td>\n",
       "      <td>00:19</td>\n",
       "    </tr>\n",
       "    <tr>\n",
       "      <td>1</td>\n",
       "      <td>0.609390</td>\n",
       "      <td>0.589126</td>\n",
       "      <td>0.988327</td>\n",
       "      <td>0.482059</td>\n",
       "      <td>00:17</td>\n",
       "    </tr>\n",
       "    <tr>\n",
       "      <td>2</td>\n",
       "      <td>0.589414</td>\n",
       "      <td>0.576777</td>\n",
       "      <td>0.988327</td>\n",
       "      <td>0.467646</td>\n",
       "      <td>00:16</td>\n",
       "    </tr>\n",
       "    <tr>\n",
       "      <td>3</td>\n",
       "      <td>0.560704</td>\n",
       "      <td>0.571593</td>\n",
       "      <td>0.988327</td>\n",
       "      <td>0.461598</td>\n",
       "      <td>00:17</td>\n",
       "    </tr>\n",
       "    <tr>\n",
       "      <td>4</td>\n",
       "      <td>0.538916</td>\n",
       "      <td>0.572163</td>\n",
       "      <td>0.988327</td>\n",
       "      <td>0.462485</td>\n",
       "      <td>00:17</td>\n",
       "    </tr>\n",
       "    <tr>\n",
       "      <td>5</td>\n",
       "      <td>0.519013</td>\n",
       "      <td>0.572294</td>\n",
       "      <td>0.988327</td>\n",
       "      <td>0.454377</td>\n",
       "      <td>00:19</td>\n",
       "    </tr>\n",
       "    <tr>\n",
       "      <td>6</td>\n",
       "      <td>0.483885</td>\n",
       "      <td>0.580296</td>\n",
       "      <td>0.988327</td>\n",
       "      <td>0.460641</td>\n",
       "      <td>00:16</td>\n",
       "    </tr>\n",
       "    <tr>\n",
       "      <td>7</td>\n",
       "      <td>0.465552</td>\n",
       "      <td>0.597406</td>\n",
       "      <td>0.988327</td>\n",
       "      <td>0.474224</td>\n",
       "      <td>00:21</td>\n",
       "    </tr>\n",
       "    <tr>\n",
       "      <td>8</td>\n",
       "      <td>0.458753</td>\n",
       "      <td>0.585930</td>\n",
       "      <td>0.988327</td>\n",
       "      <td>0.465440</td>\n",
       "      <td>00:16</td>\n",
       "    </tr>\n",
       "    <tr>\n",
       "      <td>9</td>\n",
       "      <td>0.454602</td>\n",
       "      <td>0.585971</td>\n",
       "      <td>0.988327</td>\n",
       "      <td>0.463412</td>\n",
       "      <td>00:16</td>\n",
       "    </tr>\n",
       "  </tbody>\n",
       "</table>"
      ],
      "text/plain": [
       "<IPython.core.display.HTML object>"
      ]
     },
     "metadata": {},
     "output_type": "display_data"
    },
    {
     "name": "stdout",
     "output_type": "stream",
     "text": [
      "Better model found at epoch 0 with valid_loss value: 0.5863980650901794.\n",
      "Better model found at epoch 2 with valid_loss value: 0.5767768621444702.\n",
      "Better model found at epoch 3 with valid_loss value: 0.5715926885604858.\n"
     ]
    }
   ],
   "source": [
    "learn.unfreeze()\n",
    "learn.fit_one_cycle(10, slice(1e-3/(2.6**4),1e-3), moms=(0.8,0.7))"
   ]
  },
  {
   "cell_type": "code",
   "execution_count": 128,
   "metadata": {},
   "outputs": [],
   "source": [
    "learn.save(f'{m_pre}cls{m_suf}')"
   ]
  },
  {
   "cell_type": "markdown",
   "metadata": {},
   "source": [
    "Export model for inference"
   ]
  },
  {
   "cell_type": "code",
   "execution_count": 129,
   "metadata": {},
   "outputs": [
    {
     "name": "stderr",
     "output_type": "stream",
     "text": [
      "/home/wgilliam/anaconda3/envs/tritonlytics-ml/lib/python3.7/site-packages/torch/serialization.py:292: UserWarning: Couldn't retrieve source code for container of type SequentialRNN. It won't be checked for correctness upon loading.\n",
      "  \"type \" + obj.__name__ + \". It won't be checked \"\n",
      "/home/wgilliam/anaconda3/envs/tritonlytics-ml/lib/python3.7/site-packages/torch/serialization.py:292: UserWarning: Couldn't retrieve source code for container of type MultiBatchEncoder. It won't be checked for correctness upon loading.\n",
      "  \"type \" + obj.__name__ + \". It won't be checked \"\n",
      "/home/wgilliam/anaconda3/envs/tritonlytics-ml/lib/python3.7/site-packages/torch/serialization.py:292: UserWarning: Couldn't retrieve source code for container of type AWD_LSTM. It won't be checked for correctness upon loading.\n",
      "  \"type \" + obj.__name__ + \". It won't be checked \"\n",
      "/home/wgilliam/anaconda3/envs/tritonlytics-ml/lib/python3.7/site-packages/torch/serialization.py:292: UserWarning: Couldn't retrieve source code for container of type Embedding. It won't be checked for correctness upon loading.\n",
      "  \"type \" + obj.__name__ + \". It won't be checked \"\n",
      "/home/wgilliam/anaconda3/envs/tritonlytics-ml/lib/python3.7/site-packages/torch/serialization.py:292: UserWarning: Couldn't retrieve source code for container of type EmbeddingDropout. It won't be checked for correctness upon loading.\n",
      "  \"type \" + obj.__name__ + \". It won't be checked \"\n",
      "/home/wgilliam/anaconda3/envs/tritonlytics-ml/lib/python3.7/site-packages/torch/serialization.py:292: UserWarning: Couldn't retrieve source code for container of type ModuleList. It won't be checked for correctness upon loading.\n",
      "  \"type \" + obj.__name__ + \". It won't be checked \"\n",
      "/home/wgilliam/anaconda3/envs/tritonlytics-ml/lib/python3.7/site-packages/torch/serialization.py:292: UserWarning: Couldn't retrieve source code for container of type WeightDropout. It won't be checked for correctness upon loading.\n",
      "  \"type \" + obj.__name__ + \". It won't be checked \"\n",
      "/home/wgilliam/anaconda3/envs/tritonlytics-ml/lib/python3.7/site-packages/torch/serialization.py:292: UserWarning: Couldn't retrieve source code for container of type LSTM. It won't be checked for correctness upon loading.\n",
      "  \"type \" + obj.__name__ + \". It won't be checked \"\n",
      "/home/wgilliam/anaconda3/envs/tritonlytics-ml/lib/python3.7/site-packages/torch/serialization.py:292: UserWarning: Couldn't retrieve source code for container of type RNNDropout. It won't be checked for correctness upon loading.\n",
      "  \"type \" + obj.__name__ + \". It won't be checked \"\n",
      "/home/wgilliam/anaconda3/envs/tritonlytics-ml/lib/python3.7/site-packages/torch/serialization.py:292: UserWarning: Couldn't retrieve source code for container of type PoolingLinearClassifier. It won't be checked for correctness upon loading.\n",
      "  \"type \" + obj.__name__ + \". It won't be checked \"\n",
      "/home/wgilliam/anaconda3/envs/tritonlytics-ml/lib/python3.7/site-packages/torch/serialization.py:292: UserWarning: Couldn't retrieve source code for container of type Sequential. It won't be checked for correctness upon loading.\n",
      "  \"type \" + obj.__name__ + \". It won't be checked \"\n",
      "/home/wgilliam/anaconda3/envs/tritonlytics-ml/lib/python3.7/site-packages/torch/serialization.py:292: UserWarning: Couldn't retrieve source code for container of type BatchNorm1d. It won't be checked for correctness upon loading.\n",
      "  \"type \" + obj.__name__ + \". It won't be checked \"\n",
      "/home/wgilliam/anaconda3/envs/tritonlytics-ml/lib/python3.7/site-packages/torch/serialization.py:292: UserWarning: Couldn't retrieve source code for container of type Dropout. It won't be checked for correctness upon loading.\n",
      "  \"type \" + obj.__name__ + \". It won't be checked \"\n",
      "/home/wgilliam/anaconda3/envs/tritonlytics-ml/lib/python3.7/site-packages/torch/serialization.py:292: UserWarning: Couldn't retrieve source code for container of type Linear. It won't be checked for correctness upon loading.\n",
      "  \"type \" + obj.__name__ + \". It won't be checked \"\n",
      "/home/wgilliam/anaconda3/envs/tritonlytics-ml/lib/python3.7/site-packages/torch/serialization.py:292: UserWarning: Couldn't retrieve source code for container of type ReLU. It won't be checked for correctness upon loading.\n",
      "  \"type \" + obj.__name__ + \". It won't be checked \"\n",
      "/home/wgilliam/anaconda3/envs/tritonlytics-ml/lib/python3.7/site-packages/torch/serialization.py:292: UserWarning: Couldn't retrieve source code for container of type MultiTaskClassifier. It won't be checked for correctness upon loading.\n",
      "  \"type \" + obj.__name__ + \". It won't be checked \"\n"
     ]
    }
   ],
   "source": [
    "learn.export(file=f'{m_pre}export_clas{m_suf}.pkl')"
   ]
  },
  {
   "cell_type": "markdown",
   "metadata": {},
   "source": [
    "Use it for inference"
   ]
  },
  {
   "cell_type": "code",
   "execution_count": 130,
   "metadata": {},
   "outputs": [],
   "source": [
    "inf_learn = load_learner(STANDARD_THEME_META_PATH, file=f'{m_pre}export_clas{m_suf}.pkl')"
   ]
  },
  {
   "cell_type": "code",
   "execution_count": 131,
   "metadata": {},
   "outputs": [
    {
     "data": {
      "text/plain": [
       "(FloatItem [2.332911 3.71665 ],\n",
       " tensor([2.3329, 3.7167]),\n",
       " tensor([2.3329, 3.7167]))"
      ]
     },
     "execution_count": 131,
     "metadata": {},
     "output_type": "execute_result"
    }
   ],
   "source": [
    "inf_learn.predict('EVERYTHING IS GOING SO GREAT! ')"
   ]
  },
  {
   "cell_type": "markdown",
   "metadata": {},
   "source": [
    "Review final validation loss for best model"
   ]
  },
  {
   "cell_type": "code",
   "execution_count": 132,
   "metadata": {
    "scrolled": true
   },
   "outputs": [
    {
     "name": "stdout",
     "output_type": "stream",
     "text": [
      "Validation Loss: 0.5715927481651306\n"
     ]
    }
   ],
   "source": [
    "learn = learn.load(f'{m_pre}cls_bestmodel{m_suf}')\n",
    "probs, targs, loss = learn.get_preds(DatasetType.Valid, with_loss=True)\n",
    "\n",
    "print(f'Validation Loss: {loss / len(probs)}')"
   ]
  },
  {
   "cell_type": "code",
   "execution_count": 133,
   "metadata": {},
   "outputs": [
    {
     "name": "stdout",
     "output_type": "stream",
     "text": [
      "tensor(1.2693) tensor(3.0864) tensor(0.9563) tensor([1., 0.])\n",
      "tensor(2.4261) tensor(-1.3441) tensor(0.2068) tensor([2., 0.])\n",
      "tensor(2.0391) tensor(-0.3867) tensor(0.4045) tensor([1., 0.])\n",
      "tensor(2.4052) tensor(-1.6456) tensor(0.1617) tensor([2., 0.])\n",
      "tensor(2.6459) tensor(-0.8460) tensor(0.3003) tensor([3., 0.])\n",
      "tensor(1.6674) tensor(0.4598) tensor(0.6130) tensor([1., 1.])\n",
      "tensor(2.0687) tensor(-1.8093) tensor(0.1407) tensor([1., 0.])\n",
      "tensor(2.0802) tensor(-1.3341) tensor(0.2085) tensor([2., 0.])\n",
      "tensor(2.3332) tensor(-1.1854) tensor(0.2341) tensor([3., 0.])\n",
      "tensor(2.2552) tensor(-1.8874) tensor(0.1315) tensor([3., 0.])\n",
      "tensor(1.9742) tensor(-0.5663) tensor(0.3621) tensor([2., 0.])\n",
      "tensor(1.9664) tensor(-0.5865) tensor(0.3574) tensor([2., 0.])\n",
      "tensor(2.2708) tensor(-0.9960) tensor(0.2697) tensor([2., 0.])\n",
      "tensor(2.0157) tensor(-2.1205) tensor(0.1071) tensor([2., 0.])\n",
      "tensor(2.4358) tensor(-0.1824) tensor(0.4545) tensor([3., 0.])\n",
      "tensor(1.8430) tensor(0.2637) tensor(0.5655) tensor([2., 0.])\n",
      "tensor(2.0740) tensor(-1.4401) tensor(0.1915) tensor([3., 0.])\n",
      "tensor(2.7582) tensor(-1.6957) tensor(0.1550) tensor([3., 0.])\n",
      "tensor(1.9719) tensor(-1.5055) tensor(0.1816) tensor([2., 0.])\n",
      "tensor(2.2092) tensor(-0.7529) tensor(0.3202) tensor([4., 0.])\n",
      "tensor(1.4232) tensor(2.3513) tensor(0.9130) tensor([2., 1.])\n",
      "tensor(2.8539) tensor(-1.5603) tensor(0.1736) tensor([5., 0.])\n",
      "tensor(2.0995) tensor(-0.8233) tensor(0.3051) tensor([2., 0.])\n",
      "tensor(2.1437) tensor(-1.1255) tensor(0.2450) tensor([3., 0.])\n",
      "tensor(2.2397) tensor(-1.2515) tensor(0.2224) tensor([3., 0.])\n",
      "tensor(3.0729) tensor(-1.2599) tensor(0.2210) tensor([3., 0.])\n",
      "tensor(2.8969) tensor(-0.9922) tensor(0.2705) tensor([3., 0.])\n",
      "tensor(2.1785) tensor(1.0042) tensor(0.7319) tensor([2., 0.])\n",
      "tensor(3.4520) tensor(-0.1280) tensor(0.4680) tensor([3., 0.])\n",
      "tensor(1.7019) tensor(0.5378) tensor(0.6313) tensor([2., 0.])\n",
      "tensor(2.8817) tensor(-1.5542) tensor(0.1745) tensor([3., 0.])\n",
      "tensor(2.0797) tensor(-0.9997) tensor(0.2690) tensor([3., 0.])\n",
      "tensor(1.9539) tensor(-1.5970) tensor(0.1684) tensor([2., 0.])\n",
      "tensor(1.7104) tensor(0.2327) tensor(0.5579) tensor([1.5000, 0.0000])\n",
      "tensor(1.5622) tensor(-0.3609) tensor(0.4107) tensor([2., 0.])\n",
      "tensor(2.3007) tensor(-1.3082) tensor(0.2128) tensor([3., 0.])\n",
      "tensor(2.1008) tensor(-1.1115) tensor(0.2476) tensor([3., 0.])\n",
      "tensor(2.4463) tensor(-0.7837) tensor(0.3135) tensor([3., 0.])\n",
      "tensor(1.8061) tensor(-0.6062) tensor(0.3529) tensor([1., 0.])\n",
      "tensor(2.8391) tensor(-1.3931) tensor(0.1989) tensor([3., 0.])\n",
      "tensor(1.7429) tensor(0.4835) tensor(0.6186) tensor([1., 0.])\n",
      "tensor(2.1158) tensor(-0.8171) tensor(0.3064) tensor([3., 0.])\n",
      "tensor(1.9097) tensor(-1.3211) tensor(0.2106) tensor([5., 0.])\n",
      "tensor(2.0207) tensor(-1.4064) tensor(0.1968) tensor([1.5000, 0.0000])\n",
      "tensor(2.9668) tensor(-1.0157) tensor(0.2659) tensor([3., 0.])\n",
      "tensor(2.2219) tensor(-0.7460) tensor(0.3217) tensor([3., 0.])\n",
      "tensor(1.4727) tensor(1.3838) tensor(0.7996) tensor([2., 1.])\n",
      "tensor(2.4602) tensor(-1.9501) tensor(0.1245) tensor([3., 0.])\n",
      "tensor(2.9038) tensor(-1.2131) tensor(0.2291) tensor([3., 0.])\n",
      "tensor(1.8518) tensor(-1.2302) tensor(0.2262) tensor([2., 0.])\n",
      "tensor(2.0430) tensor(-2.5724) tensor(0.0709) tensor([2., 0.])\n",
      "tensor(2.1720) tensor(-1.6984) tensor(0.1547) tensor([3., 0.])\n",
      "tensor(2.1393) tensor(-1.3398) tensor(0.2075) tensor([3., 0.])\n",
      "tensor(1.6981) tensor(-0.0754) tensor(0.4812) tensor([1., 0.])\n",
      "tensor(1.2956) tensor(3.2093) tensor(0.9612) tensor([2., 0.])\n",
      "tensor(2.4896) tensor(-0.9841) tensor(0.2721) tensor([3., 0.])\n",
      "tensor(2.0967) tensor(-0.5253) tensor(0.3716) tensor([4., 0.])\n",
      "tensor(1.8450) tensor(-1.2084) tensor(0.2300) tensor([2., 0.])\n",
      "tensor(2.0099) tensor(-1.6978) tensor(0.1548) tensor([2., 0.])\n",
      "tensor(2.1926) tensor(-1.7882) tensor(0.1433) tensor([3., 0.])\n",
      "tensor(3.5344) tensor(-0.1501) tensor(0.4625) tensor([5., 0.])\n",
      "tensor(2.2090) tensor(-1.1095) tensor(0.2480) tensor([2., 0.])\n",
      "tensor(2.4335) tensor(-1.1306) tensor(0.2441) tensor([3., 0.])\n",
      "tensor(1.5678) tensor(3.0503) tensor(0.9548) tensor([2., 0.])\n",
      "tensor(2.0183) tensor(0.9361) tensor(0.7183) tensor([1., 0.])\n",
      "tensor(2.0374) tensor(-1.1258) tensor(0.2449) tensor([2., 0.])\n",
      "tensor(1.7774) tensor(-0.3020) tensor(0.4251) tensor([1., 0.])\n",
      "tensor(1.5301) tensor(3.5087) tensor(0.9709) tensor([2., 0.])\n",
      "tensor(1.7404) tensor(-2.0105) tensor(0.1181) tensor([1., 0.])\n",
      "tensor(1.7484) tensor(-0.0067) tensor(0.4983) tensor([4., 0.])\n",
      "tensor(1.8303) tensor(0.0581) tensor(0.5145) tensor([2., 0.])\n",
      "tensor(1.6178) tensor(-1.0472) tensor(0.2598) tensor([1., 0.])\n",
      "tensor(1.8390) tensor(0.2342) tensor(0.5583) tensor([2., 0.])\n",
      "tensor(2.4421) tensor(0.1313) tensor(0.5328) tensor([2., 0.])\n",
      "tensor(2.2774) tensor(-1.0387) tensor(0.2614) tensor([3., 0.])\n",
      "tensor(1.5584) tensor(-0.8110) tensor(0.3077) tensor([1., 0.])\n",
      "tensor(2.4369) tensor(-1.0852) tensor(0.2525) tensor([4., 0.])\n",
      "tensor(1.9194) tensor(2.4363) tensor(0.9196) tensor([1., 0.])\n",
      "tensor(2.3809) tensor(-1.6133) tensor(0.1661) tensor([1., 0.])\n",
      "tensor(1.7506) tensor(2.2200) tensor(0.9020) tensor([1., 0.])\n",
      "tensor(1.6560) tensor(-0.8968) tensor(0.2897) tensor([1., 0.])\n",
      "tensor(2.2859) tensor(-1.9591) tensor(0.1236) tensor([2., 0.])\n",
      "tensor(2.0884) tensor(-0.9133) tensor(0.2863) tensor([1., 0.])\n",
      "tensor(1.7982) tensor(-2.3493) tensor(0.0871) tensor([2., 0.])\n",
      "tensor(1.7961) tensor(0.0422) tensor(0.5106) tensor([2., 0.])\n",
      "tensor(2.0726) tensor(-0.3244) tensor(0.4196) tensor([1., 0.])\n",
      "tensor(3.0645) tensor(-1.2033) tensor(0.2309) tensor([3., 0.])\n",
      "tensor(1.7483) tensor(-1.3163) tensor(0.2114) tensor([2., 0.])\n",
      "tensor(1.7012) tensor(-1.5552) tensor(0.1743) tensor([2., 0.])\n",
      "tensor(2.8032) tensor(-0.6597) tensor(0.3408) tensor([2., 0.])\n",
      "tensor(1.5880) tensor(-1.5163) tensor(0.1800) tensor([1., 0.])\n",
      "tensor(1.7804) tensor(-0.1598) tensor(0.4601) tensor([2., 0.])\n",
      "tensor(2.0087) tensor(-1.2460) tensor(0.2234) tensor([2., 0.])\n",
      "tensor(2.6755) tensor(-1.1026) tensor(0.2493) tensor([2., 0.])\n",
      "tensor(2.2385) tensor(-0.9956) tensor(0.2698) tensor([3., 0.])\n",
      "tensor(2.6239) tensor(-0.5999) tensor(0.3544) tensor([3., 0.])\n",
      "tensor(2.2239) tensor(-0.4921) tensor(0.3794) tensor([2., 0.])\n",
      "tensor(1.6914) tensor(-0.7562) tensor(0.3195) tensor([2., 0.])\n",
      "tensor(2.2389) tensor(-0.2033) tensor(0.4493) tensor([2., 0.])\n",
      "tensor(2.2876) tensor(-0.3011) tensor(0.4253) tensor([2., 0.])\n",
      "tensor(2.6458) tensor(-0.8075) tensor(0.3084) tensor([3., 0.])\n",
      "tensor(2.0261) tensor(-2.1100) tensor(0.1081) tensor([1., 0.])\n",
      "tensor(2.3960) tensor(-1.4434) tensor(0.1910) tensor([1., 0.])\n",
      "tensor(2.7913) tensor(-0.5922) tensor(0.3561) tensor([3., 0.])\n",
      "tensor(1.9255) tensor(-0.0684) tensor(0.4829) tensor([1., 0.])\n",
      "tensor(1.9129) tensor(-2.6330) tensor(0.0670) tensor([2., 0.])\n",
      "tensor(2.3828) tensor(-1.7797) tensor(0.1443) tensor([3., 0.])\n",
      "tensor(3.5333) tensor(-0.2731) tensor(0.4321) tensor([4., 0.])\n",
      "tensor(2.3337) tensor(-0.5575) tensor(0.3641) tensor([3., 0.])\n",
      "tensor(2.0632) tensor(-2.2325) tensor(0.0969) tensor([3., 0.])\n",
      "tensor(1.9650) tensor(-1.6241) tensor(0.1646) tensor([2., 0.])\n",
      "tensor(2.1009) tensor(-1.6977) tensor(0.1548) tensor([2., 0.])\n",
      "tensor(2.0728) tensor(-2.1772) tensor(0.1018) tensor([1., 0.])\n",
      "tensor(2.3316) tensor(-1.3432) tensor(0.2070) tensor([3., 0.])\n",
      "tensor(2.5347) tensor(-0.7509) tensor(0.3206) tensor([3., 0.])\n",
      "tensor(2.7056) tensor(-1.0910) tensor(0.2514) tensor([2., 0.])\n",
      "tensor(2.2274) tensor(-0.0462) tensor(0.4884) tensor([2., 0.])\n",
      "tensor(2.1805) tensor(-1.6579) tensor(0.1600) tensor([2., 0.])\n",
      "tensor(2.1749) tensor(-0.9471) tensor(0.2795) tensor([2., 0.])\n",
      "tensor(2.3960) tensor(-1.7647) tensor(0.1462) tensor([3., 0.])\n",
      "tensor(2.2952) tensor(-1.9332) tensor(0.1264) tensor([3., 0.])\n",
      "tensor(2.1663) tensor(-0.4452) tensor(0.3905) tensor([2., 0.])\n",
      "tensor(3.9566) tensor(-0.3917) tensor(0.4033) tensor([4., 0.])\n",
      "tensor(2.7046) tensor(-0.7224) tensor(0.3269) tensor([3., 0.])\n",
      "tensor(1.8531) tensor(-0.7617) tensor(0.3183) tensor([2., 0.])\n",
      "tensor(2.6818) tensor(-1.1680) tensor(0.2372) tensor([2., 0.])\n",
      "tensor(2.8482) tensor(-1.3612) tensor(0.2040) tensor([3., 0.])\n",
      "tensor(1.8090) tensor(1.4257) tensor(0.8062) tensor([2., 0.])\n",
      "tensor(1.6970) tensor(-1.7125) tensor(0.1528) tensor([2., 0.])\n",
      "tensor(2.5110) tensor(-1.1299) tensor(0.2442) tensor([3., 0.])\n",
      "tensor(2.5237) tensor(-0.7008) tensor(0.3316) tensor([2., 0.])\n",
      "tensor(3.5463) tensor(-0.4509) tensor(0.3892) tensor([4., 0.])\n",
      "tensor(2.1893) tensor(-0.9827) tensor(0.2724) tensor([2., 0.])\n",
      "tensor(2.5566) tensor(-1.3516) tensor(0.2056) tensor([3., 0.])\n",
      "tensor(2.1409) tensor(0.2937) tensor(0.5729) tensor([3., 0.])\n",
      "tensor(1.9868) tensor(1.1490) tensor(0.7593) tensor([1.5000, 0.0000])\n",
      "tensor(2.1070) tensor(-0.7990) tensor(0.3102) tensor([2., 0.])\n",
      "tensor(2.4449) tensor(-0.8419) tensor(0.3011) tensor([3., 0.])\n",
      "tensor(1.6645) tensor(-0.2171) tensor(0.4459) tensor([3., 0.])\n",
      "tensor(2.1248) tensor(-1.4955) tensor(0.1831) tensor([2., 0.])\n",
      "tensor(2.9154) tensor(-1.3792) tensor(0.2011) tensor([3., 0.])\n",
      "tensor(2.2157) tensor(-1.3385) tensor(0.2078) tensor([2., 0.])\n",
      "tensor(1.8379) tensor(-0.8752) tensor(0.2942) tensor([1., 0.])\n",
      "tensor(2.0966) tensor(0.0064) tensor(0.5016) tensor([2., 0.])\n",
      "tensor(1.7536) tensor(-1.4939) tensor(0.1833) tensor([1.5000, 0.0000])\n",
      "tensor(1.9172) tensor(-1.3664) tensor(0.2032) tensor([1.5000, 0.0000])\n",
      "tensor(3.0450) tensor(-1.5743) tensor(0.1716) tensor([3., 0.])\n",
      "tensor(2.4514) tensor(-0.6160) tensor(0.3507) tensor([2., 0.])\n",
      "tensor(2.1639) tensor(-0.6557) tensor(0.3417) tensor([2., 0.])\n"
     ]
    },
    {
     "name": "stdout",
     "output_type": "stream",
     "text": [
      "tensor(2.9854) tensor(-1.3714) tensor(0.2024) tensor([3., 0.])\n",
      "tensor(1.8251) tensor(-1.0172) tensor(0.2656) tensor([2., 0.])\n",
      "tensor(2.2822) tensor(-1.7469) tensor(0.1484) tensor([3., 0.])\n",
      "tensor(2.1671) tensor(-0.9968) tensor(0.2696) tensor([2., 0.])\n",
      "tensor(2.1244) tensor(-0.0216) tensor(0.4946) tensor([2., 0.])\n",
      "tensor(2.8282) tensor(-1.2852) tensor(0.2167) tensor([3., 0.])\n",
      "tensor(1.9838) tensor(-0.3485) tensor(0.4138) tensor([2., 0.])\n",
      "tensor(2.2248) tensor(-0.2442) tensor(0.4393) tensor([3., 0.])\n",
      "tensor(3.2460) tensor(-0.8022) tensor(0.3096) tensor([3., 0.])\n",
      "tensor(2.4944) tensor(-1.2331) tensor(0.2256) tensor([2., 0.])\n",
      "tensor(2.7837) tensor(-1.4499) tensor(0.1900) tensor([3., 0.])\n",
      "tensor(2.3440) tensor(-0.5902) tensor(0.3566) tensor([1.5000, 0.0000])\n",
      "tensor(2.1842) tensor(-0.1894) tensor(0.4528) tensor([3., 0.])\n",
      "tensor(2.0348) tensor(-2.4259) tensor(0.0812) tensor([2., 0.])\n",
      "tensor(1.7202) tensor(-1.4281) tensor(0.1934) tensor([1., 0.])\n",
      "tensor(2.6180) tensor(-1.1958) tensor(0.2322) tensor([3., 0.])\n",
      "tensor(2.3443) tensor(-0.9047) tensor(0.2881) tensor([3., 0.])\n",
      "tensor(1.7421) tensor(0.1123) tensor(0.5280) tensor([2., 0.])\n",
      "tensor(2.2617) tensor(-2.0299) tensor(0.1161) tensor([2., 0.])\n",
      "tensor(2.3800) tensor(-1.5822) tensor(0.1705) tensor([3., 0.])\n",
      "tensor(2.1385) tensor(-1.6937) tensor(0.1553) tensor([1., 0.])\n",
      "tensor(2.5002) tensor(-1.6471) tensor(0.1615) tensor([2., 0.])\n",
      "tensor(4.2981) tensor(0.3029) tensor(0.5751) tensor([5., 0.])\n",
      "tensor(1.9858) tensor(-0.3288) tensor(0.4185) tensor([4., 0.])\n",
      "tensor(3.7005) tensor(-0.4170) tensor(0.3972) tensor([3., 0.])\n",
      "tensor(1.3242) tensor(3.2392) tensor(0.9623) tensor([1., 0.])\n",
      "tensor(2.3474) tensor(-0.9486) tensor(0.2792) tensor([3., 0.])\n",
      "tensor(2.8895) tensor(-1.1861) tensor(0.2340) tensor([4., 0.])\n",
      "tensor(1.4178) tensor(1.1332) tensor(0.7564) tensor([1.5000, 0.0000])\n",
      "tensor(1.4522) tensor(2.6182) tensor(0.9320) tensor([2., 0.])\n",
      "tensor(2.5900) tensor(-0.8389) tensor(0.3018) tensor([1., 0.])\n",
      "tensor(3.2143) tensor(-0.7789) tensor(0.3146) tensor([4., 0.])\n",
      "tensor(2.2877) tensor(-1.0130) tensor(0.2664) tensor([3., 0.])\n",
      "tensor(2.5082) tensor(-1.1459) tensor(0.2412) tensor([3., 0.])\n",
      "tensor(2.1998) tensor(-1.9676) tensor(0.1227) tensor([2.5000, 0.0000])\n",
      "tensor(2.3404) tensor(-0.4658) tensor(0.3856) tensor([2., 0.])\n",
      "tensor(1.4121) tensor(3.3428) tensor(0.9659) tensor([1., 0.])\n",
      "tensor(1.9380) tensor(-1.1027) tensor(0.2492) tensor([2., 0.])\n",
      "tensor(1.9912) tensor(-0.8344) tensor(0.3027) tensor([1., 0.])\n",
      "tensor(3.0914) tensor(-0.7471) tensor(0.3214) tensor([3., 0.])\n",
      "tensor(3.5236) tensor(-0.7375) tensor(0.3236) tensor([4., 0.])\n",
      "tensor(2.3947) tensor(-0.8789) tensor(0.2934) tensor([3., 0.])\n",
      "tensor(1.8367) tensor(-1.9631) tensor(0.1231) tensor([3., 0.])\n",
      "tensor(2.2418) tensor(-1.9215) tensor(0.1277) tensor([3., 0.])\n",
      "tensor(2.3957) tensor(-0.7367) tensor(0.3237) tensor([3., 0.])\n",
      "tensor(2.0508) tensor(-0.5651) tensor(0.3624) tensor([2., 0.])\n",
      "tensor(2.7536) tensor(-0.9724) tensor(0.2744) tensor([3., 0.])\n",
      "tensor(1.8105) tensor(-0.2648) tensor(0.4342) tensor([1., 0.])\n",
      "tensor(3.3743) tensor(-0.9503) tensor(0.2788) tensor([5., 0.])\n",
      "tensor(2.8622) tensor(-1.2365) tensor(0.2250) tensor([4., 0.])\n",
      "tensor(2.3464) tensor(-1.2313) tensor(0.2260) tensor([3., 0.])\n",
      "tensor(2.7852) tensor(-1.0166) tensor(0.2657) tensor([3., 0.])\n",
      "tensor(2.5776) tensor(-0.7022) tensor(0.3313) tensor([3., 0.])\n",
      "tensor(3.7435) tensor(-0.3733) tensor(0.4078) tensor([3., 0.])\n",
      "tensor(2.1915) tensor(-0.6575) tensor(0.3413) tensor([2., 0.])\n",
      "tensor(2.0081) tensor(-0.9748) tensor(0.2739) tensor([3., 0.])\n",
      "tensor(1.6447) tensor(-2.6906) tensor(0.0635) tensor([1., 0.])\n",
      "tensor(2.0754) tensor(-1.1402) tensor(0.2423) tensor([2., 0.])\n",
      "tensor(1.7987) tensor(-1.1157) tensor(0.2468) tensor([2., 0.])\n",
      "tensor(1.8174) tensor(-1.0399) tensor(0.2612) tensor([3., 0.])\n",
      "tensor(2.0590) tensor(-1.5929) tensor(0.1690) tensor([2., 0.])\n",
      "tensor(2.5525) tensor(-1.0410) tensor(0.2609) tensor([2., 0.])\n",
      "tensor(2.5225) tensor(-1.1180) tensor(0.2464) tensor([2., 0.])\n",
      "tensor(1.8132) tensor(-1.4079) tensor(0.1966) tensor([1., 0.])\n",
      "tensor(1.6747) tensor(-1.8572) tensor(0.1350) tensor([1.5000, 0.0000])\n",
      "tensor(1.9438) tensor(-0.8534) tensor(0.2987) tensor([1.5000, 1.0000])\n",
      "tensor(2.2110) tensor(-0.9192) tensor(0.2851) tensor([2., 0.])\n",
      "tensor(2.2676) tensor(-1.9283) tensor(0.1269) tensor([3., 0.])\n",
      "tensor(2.9683) tensor(-1.3451) tensor(0.2067) tensor([3., 0.])\n",
      "tensor(2.1990) tensor(-1.6054) tensor(0.1672) tensor([3., 0.])\n",
      "tensor(2.9683) tensor(-1.3451) tensor(0.2067) tensor([3., 0.])\n",
      "tensor(2.6206) tensor(-1.1314) tensor(0.2439) tensor([2., 0.])\n",
      "tensor(2.5156) tensor(-1.6062) tensor(0.1671) tensor([2., 0.])\n",
      "tensor(1.8741) tensor(-0.9622) tensor(0.2764) tensor([2., 0.])\n",
      "tensor(3.3103) tensor(-0.9134) tensor(0.2863) tensor([3., 0.])\n",
      "tensor(1.3850) tensor(2.6703) tensor(0.9353) tensor([2., 0.])\n",
      "tensor(2.7738) tensor(-1.1273) tensor(0.2447) tensor([3., 0.])\n",
      "tensor(1.8162) tensor(-0.5330) tensor(0.3698) tensor([3., 0.])\n",
      "tensor(3.9314) tensor(-0.2898) tensor(0.4281) tensor([4.5000, 0.0000])\n",
      "tensor(1.9421) tensor(-2.2891) tensor(0.0920) tensor([3., 0.])\n",
      "tensor(2.0039) tensor(-0.0995) tensor(0.4752) tensor([3., 0.])\n",
      "tensor(2.3476) tensor(-1.7249) tensor(0.1512) tensor([2., 0.])\n",
      "tensor(2.3253) tensor(-1.4070) tensor(0.1967) tensor([3., 0.])\n",
      "tensor(2.2330) tensor(-0.2407) tensor(0.4401) tensor([2., 0.])\n",
      "tensor(1.9535) tensor(-2.0555) tensor(0.1135) tensor([1.5000, 0.0000])\n",
      "tensor(1.5874) tensor(-1.1883) tensor(0.2336) tensor([2., 0.])\n",
      "tensor(2.4903) tensor(-1.0409) tensor(0.2610) tensor([3., 0.])\n",
      "tensor(2.2425) tensor(-1.2477) tensor(0.2231) tensor([3., 0.])\n",
      "tensor(1.8964) tensor(-2.3799) tensor(0.0847) tensor([2., 0.])\n",
      "tensor(2.1425) tensor(-0.0690) tensor(0.4828) tensor([3., 0.])\n",
      "tensor(1.9569) tensor(-0.5723) tensor(0.3607) tensor([2., 0.])\n",
      "tensor(2.5699) tensor(-0.5858) tensor(0.3576) tensor([3., 0.])\n",
      "tensor(2.2068) tensor(-1.8202) tensor(0.1394) tensor([2., 0.])\n",
      "tensor(2.7501) tensor(-0.9434) tensor(0.2802) tensor([3., 0.])\n",
      "tensor(3.0178) tensor(-0.5009) tensor(0.3773) tensor([2., 0.])\n",
      "tensor(2.2169) tensor(-0.2475) tensor(0.4384) tensor([2., 0.])\n",
      "tensor(2.5381) tensor(-0.5373) tensor(0.3688) tensor([2., 0.])\n",
      "tensor(2.9548) tensor(-0.6499) tensor(0.3430) tensor([3., 0.])\n",
      "tensor(3.1467) tensor(-0.5233) tensor(0.3721) tensor([3., 0.])\n",
      "tensor(2.3361) tensor(-0.3730) tensor(0.4078) tensor([3., 0.])\n",
      "tensor(3.0660) tensor(-1.3906) tensor(0.1993) tensor([3., 0.])\n",
      "tensor(1.6421) tensor(0.2936) tensor(0.5729) tensor([2., 0.])\n",
      "tensor(2.3284) tensor(-0.7860) tensor(0.3130) tensor([1., 0.])\n",
      "tensor(2.3210) tensor(-1.3123) tensor(0.2121) tensor([2., 0.])\n",
      "tensor(2.5315) tensor(-1.7383) tensor(0.1495) tensor([3., 0.])\n",
      "tensor(2.1900) tensor(-1.5868) tensor(0.1698) tensor([3., 0.])\n",
      "tensor(3.4066) tensor(-0.7531) tensor(0.3201) tensor([3., 0.])\n",
      "tensor(2.1722) tensor(-0.1336) tensor(0.4666) tensor([2., 0.])\n",
      "tensor(2.0066) tensor(-1.2165) tensor(0.2286) tensor([2., 0.])\n",
      "tensor(2.4979) tensor(-1.5450) tensor(0.1758) tensor([3., 0.])\n",
      "tensor(2.1344) tensor(-0.0636) tensor(0.4841) tensor([2.5000, 0.0000])\n",
      "tensor(2.3848) tensor(-0.3481) tensor(0.4139) tensor([2., 0.])\n",
      "tensor(2.2305) tensor(-1.3608) tensor(0.2041) tensor([3., 0.])\n",
      "tensor(3.0847) tensor(-0.9819) tensor(0.2725) tensor([3., 0.])\n",
      "tensor(2.9052) tensor(-1.3211) tensor(0.2106) tensor([3., 0.])\n",
      "tensor(1.8436) tensor(1.1430) tensor(0.7582) tensor([2., 0.])\n",
      "tensor(3.6832) tensor(-0.6098) tensor(0.3521) tensor([3., 0.])\n",
      "tensor(2.0339) tensor(-1.8167) tensor(0.1398) tensor([2., 0.])\n",
      "tensor(2.1381) tensor(-1.4975) tensor(0.1828) tensor([2., 0.])\n",
      "tensor(2.1182) tensor(-0.1597) tensor(0.4602) tensor([1.5000, 0.0000])\n",
      "tensor(2.9328) tensor(-1.1984) tensor(0.2318) tensor([3., 0.])\n",
      "tensor(1.9231) tensor(0.1541) tensor(0.5384) tensor([2., 0.])\n",
      "tensor(2.1647) tensor(0.3375) tensor(0.5836) tensor([2., 0.])\n",
      "tensor(2.2140) tensor(-0.7043) tensor(0.3309) tensor([3., 0.])\n",
      "tensor(3.7177) tensor(-0.5472) tensor(0.3665) tensor([3., 0.])\n",
      "tensor(2.1058) tensor(0.6972) tensor(0.6676) tensor([2., 0.])\n",
      "tensor(1.9436) tensor(-2.2453) tensor(0.0958) tensor([3., 0.])\n",
      "tensor(2.5940) tensor(-0.9275) tensor(0.2834) tensor([2., 0.])\n",
      "tensor(2.5231) tensor(-0.7145) tensor(0.3286) tensor([2., 0.])\n",
      "tensor(4.5182) tensor(0.0053) tensor(0.5013) tensor([3., 0.])\n",
      "tensor(2.2476) tensor(-1.4469) tensor(0.1905) tensor([2., 0.])\n",
      "tensor(2.5167) tensor(-1.0501) tensor(0.2592) tensor([3., 0.])\n",
      "tensor(2.8944) tensor(-0.9194) tensor(0.2851) tensor([4., 0.])\n",
      "tensor(2.8796) tensor(-1.3776) tensor(0.2014) tensor([3., 0.])\n",
      "tensor(2.9538) tensor(-0.9602) tensor(0.2768) tensor([3., 0.])\n",
      "tensor(1.7806) tensor(-1.8718) tensor(0.1333) tensor([2., 0.])\n",
      "tensor(3.9239) tensor(-0.4282) tensor(0.3945) tensor([4., 0.])\n",
      "tensor(2.9963) tensor(-0.9972) tensor(0.2695) tensor([3., 0.])\n",
      "tensor(2.6605) tensor(-0.5848) tensor(0.3578) tensor([3., 0.])\n",
      "tensor(3.2228) tensor(-0.4958) tensor(0.3785) tensor([4., 0.])\n",
      "tensor(1.8850) tensor(-1.7425) tensor(0.1490) tensor([1., 0.])\n",
      "tensor(1.9559) tensor(-1.5550) tensor(0.1744) tensor([1.5000, 0.0000])\n",
      "tensor(2.3174) tensor(-1.4857) tensor(0.1846) tensor([2., 0.])\n",
      "tensor(2.2396) tensor(-0.4648) tensor(0.3858) tensor([3., 0.])\n",
      "tensor(2.5947) tensor(-0.2458) tensor(0.4389) tensor([2., 0.])\n",
      "tensor(2.3980) tensor(-0.6790) tensor(0.3365) tensor([3., 0.])\n",
      "tensor(2.1391) tensor(-0.6535) tensor(0.3422) tensor([2., 0.])\n",
      "tensor(1.8122) tensor(-1.6325) tensor(0.1635) tensor([1., 0.])\n",
      "tensor(2.7999) tensor(-0.9734) tensor(0.2742) tensor([3., 0.])\n",
      "tensor(1.8077) tensor(-0.7158) tensor(0.3283) tensor([3., 0.])\n",
      "tensor(4.3271) tensor(0.3900) tensor(0.5963) tensor([4.5000, 0.0000])\n",
      "tensor(1.6515) tensor(-1.5855) tensor(0.1700) tensor([2., 0.])\n",
      "tensor(2.2682) tensor(-1.5001) tensor(0.1824) tensor([3., 0.])\n",
      "tensor(2.0306) tensor(-2.3839) tensor(0.0844) tensor([2., 0.])\n",
      "tensor(2.3749) tensor(-1.2507) tensor(0.2226) tensor([3., 0.])\n",
      "tensor(3.3456) tensor(-1.0125) tensor(0.2665) tensor([3., 0.])\n",
      "tensor(2.2671) tensor(-1.2583) tensor(0.2213) tensor([2., 0.])\n",
      "tensor(2.4361) tensor(-1.3169) tensor(0.2113) tensor([4., 0.])\n",
      "tensor(4.5192) tensor(-0.0315) tensor(0.4921) tensor([4., 0.])\n",
      "tensor(2.5463) tensor(-0.7289) tensor(0.3254) tensor([2., 0.])\n",
      "tensor(2.5002) tensor(-0.0661) tensor(0.4835) tensor([2., 0.])\n",
      "tensor(2.6236) tensor(-1.1650) tensor(0.2378) tensor([3., 0.])\n",
      "tensor(1.5048) tensor(0.9143) tensor(0.7139) tensor([1., 0.])\n",
      "tensor(2.6175) tensor(-0.4553) tensor(0.3881) tensor([2., 0.])\n",
      "tensor(3.4746) tensor(-0.7690) tensor(0.3167) tensor([3., 0.])\n",
      "tensor(2.4759) tensor(-0.9638) tensor(0.2761) tensor([3., 0.])\n",
      "tensor(3.6453) tensor(-0.6755) tensor(0.3373) tensor([3., 0.])\n"
     ]
    },
    {
     "name": "stdout",
     "output_type": "stream",
     "text": [
      "tensor(3.2656) tensor(-0.9109) tensor(0.2868) tensor([3., 0.])\n",
      "tensor(3.9581) tensor(-0.2424) tensor(0.4397) tensor([5., 0.])\n",
      "tensor(2.0720) tensor(-1.7484) tensor(0.1483) tensor([2., 0.])\n",
      "tensor(1.6853) tensor(-1.3024) tensor(0.2138) tensor([3., 1.])\n",
      "tensor(2.1772) tensor(-1.8125) tensor(0.1403) tensor([2., 0.])\n",
      "tensor(2.4720) tensor(-0.2905) tensor(0.4279) tensor([1.5000, 0.0000])\n",
      "tensor(2.6893) tensor(-0.8420) tensor(0.3011) tensor([2., 0.])\n",
      "tensor(2.9753) tensor(-1.0998) tensor(0.2498) tensor([3., 0.])\n",
      "tensor(2.1299) tensor(-1.7380) tensor(0.1496) tensor([2., 0.])\n",
      "tensor(2.0650) tensor(-1.0885) tensor(0.2519) tensor([3., 0.])\n",
      "tensor(3.8152) tensor(-0.7831) tensor(0.3137) tensor([5., 1.])\n",
      "tensor(2.1983) tensor(-0.6109) tensor(0.3519) tensor([1., 0.])\n",
      "tensor(2.5086) tensor(-1.3473) tensor(0.2063) tensor([2., 0.])\n",
      "tensor(1.4399) tensor(-0.6985) tensor(0.3322) tensor([2., 0.])\n",
      "tensor(4.5472) tensor(0.5534) tensor(0.6349) tensor([5., 0.])\n",
      "tensor(3.5465) tensor(-0.9350) tensor(0.2819) tensor([5., 0.])\n",
      "tensor(2.9697) tensor(-1.1657) tensor(0.2376) tensor([1., 0.])\n",
      "tensor(3.0014) tensor(-0.9965) tensor(0.2696) tensor([3., 0.])\n",
      "tensor(1.9018) tensor(-1.9735) tensor(0.1220) tensor([1., 0.])\n",
      "tensor(2.2107) tensor(-0.5627) tensor(0.3629) tensor([2., 0.])\n",
      "tensor(2.5145) tensor(-0.8439) tensor(0.3007) tensor([1.5000, 0.0000])\n",
      "tensor(3.2078) tensor(-0.9274) tensor(0.2835) tensor([3., 0.])\n",
      "tensor(2.0054) tensor(0.4323) tensor(0.6064) tensor([2., 0.])\n",
      "tensor(2.0929) tensor(-1.0358) tensor(0.2620) tensor([2., 0.])\n",
      "tensor(2.1807) tensor(-1.6564) tensor(0.1603) tensor([3., 0.])\n",
      "tensor(4.5998) tensor(0.4368) tensor(0.6075) tensor([5., 0.])\n",
      "tensor(2.9029) tensor(-1.4745) tensor(0.1863) tensor([3., 0.])\n",
      "tensor(3.2770) tensor(-1.1631) tensor(0.2381) tensor([2., 0.])\n",
      "tensor(2.9433) tensor(-1.0390) tensor(0.2614) tensor([4.5000, 0.0000])\n",
      "tensor(2.2854) tensor(-0.5570) tensor(0.3642) tensor([3., 0.])\n",
      "tensor(2.3897) tensor(-1.1538) tensor(0.2398) tensor([3., 0.])\n",
      "tensor(2.0603) tensor(-1.9006) tensor(0.1300) tensor([3., 0.])\n",
      "tensor(1.9451) tensor(0.5705) tensor(0.6389) tensor([2., 0.])\n",
      "tensor(2.8729) tensor(-1.1330) tensor(0.2436) tensor([4., 0.])\n",
      "tensor(2.9968) tensor(-1.2610) tensor(0.2208) tensor([3., 0.])\n",
      "tensor(1.9754) tensor(0.9603) tensor(0.7232) tensor([2., 0.])\n",
      "tensor(2.0837) tensor(-0.5478) tensor(0.3664) tensor([1., 0.])\n",
      "tensor(1.8443) tensor(0.7137) tensor(0.6712) tensor([1., 0.])\n",
      "tensor(2.6067) tensor(-0.9680) tensor(0.2753) tensor([2.5000, 0.0000])\n",
      "tensor(2.8940) tensor(-1.0678) tensor(0.2558) tensor([3., 0.])\n",
      "tensor(2.3141) tensor(-0.2108) tensor(0.4475) tensor([2., 0.])\n",
      "tensor(2.9793) tensor(-0.9262) tensor(0.2837) tensor([3., 0.])\n",
      "tensor(3.3292) tensor(-0.9254) tensor(0.2839) tensor([4., 0.])\n",
      "tensor(4.1468) tensor(-0.3452) tensor(0.4145) tensor([2., 0.])\n",
      "tensor(1.6427) tensor(-0.3559) tensor(0.4119) tensor([2., 0.])\n",
      "tensor(2.5577) tensor(-0.9126) tensor(0.2865) tensor([3., 0.])\n",
      "tensor(2.0128) tensor(-0.4819) tensor(0.3818) tensor([2., 0.])\n",
      "tensor(3.4578) tensor(-0.6566) tensor(0.3415) tensor([3., 0.])\n",
      "tensor(2.1214) tensor(-1.1712) tensor(0.2366) tensor([2., 0.])\n",
      "tensor(2.1384) tensor(-0.0421) tensor(0.4895) tensor([3., 0.])\n",
      "tensor(2.9307) tensor(-1.0450) tensor(0.2602) tensor([3., 0.])\n",
      "tensor(1.9183) tensor(-0.6714) tensor(0.3382) tensor([2., 0.])\n",
      "tensor(2.7680) tensor(-0.8797) tensor(0.2932) tensor([2., 0.])\n",
      "tensor(2.1550) tensor(-1.2345) tensor(0.2254) tensor([2., 0.])\n",
      "tensor(3.1529) tensor(-1.1869) tensor(0.2338) tensor([3., 0.])\n",
      "tensor(2.3392) tensor(-1.0360) tensor(0.2619) tensor([3., 0.])\n",
      "tensor(2.6572) tensor(-1.2721) tensor(0.2189) tensor([2., 0.])\n",
      "tensor(2.0940) tensor(-1.1035) tensor(0.2491) tensor([2., 0.])\n",
      "tensor(2.8101) tensor(-0.9089) tensor(0.2872) tensor([1., 0.])\n",
      "tensor(1.7421) tensor(0.4470) tensor(0.6099) tensor([2., 0.])\n",
      "tensor(4.3257) tensor(-0.3865) tensor(0.4046) tensor([5., 0.])\n",
      "tensor(2.0365) tensor(-1.6052) tensor(0.1673) tensor([2., 0.])\n",
      "tensor(3.7851) tensor(-0.1877) tensor(0.4532) tensor([5., 0.])\n",
      "tensor(2.9454) tensor(-0.9069) tensor(0.2876) tensor([3.5000, 0.0000])\n",
      "tensor(2.1134) tensor(0.7461) tensor(0.6783) tensor([2., 0.])\n",
      "tensor(3.3588) tensor(-0.6608) tensor(0.3406) tensor([2., 0.])\n",
      "tensor(2.5756) tensor(-0.9482) tensor(0.2792) tensor([3., 0.])\n",
      "tensor(1.9390) tensor(-1.5794) tensor(0.1709) tensor([2., 0.])\n",
      "tensor(2.3331) tensor(-1.2867) tensor(0.2164) tensor([2., 0.])\n",
      "tensor(4.3751) tensor(0.2474) tensor(0.5615) tensor([4.5000, 0.0000])\n",
      "tensor(1.8420) tensor(-1.4390) tensor(0.1917) tensor([2., 0.])\n",
      "tensor(2.7882) tensor(-0.8286) tensor(0.3039) tensor([4., 0.])\n",
      "tensor(2.1057) tensor(-1.4844) tensor(0.1848) tensor([2., 0.])\n",
      "tensor(1.9707) tensor(-1.8745) tensor(0.1330) tensor([2., 0.])\n",
      "tensor(1.9495) tensor(-1.1068) tensor(0.2485) tensor([2., 0.])\n",
      "tensor(4.4202) tensor(0.0315) tensor(0.5079) tensor([5., 0.])\n",
      "tensor(4.0791) tensor(-0.2952) tensor(0.4267) tensor([3., 0.])\n",
      "tensor(2.4203) tensor(-1.2784) tensor(0.2178) tensor([3., 0.])\n",
      "tensor(2.4129) tensor(-0.4992) tensor(0.3777) tensor([2., 0.])\n",
      "tensor(3.0418) tensor(-1.5063) tensor(0.1815) tensor([3., 0.])\n",
      "tensor(1.5413) tensor(1.4688) tensor(0.8129) tensor([2., 0.])\n",
      "tensor(1.6359) tensor(-1.4085) tensor(0.1965) tensor([1., 0.])\n",
      "tensor(2.7536) tensor(-1.0879) tensor(0.2520) tensor([4., 0.])\n",
      "tensor(2.3084) tensor(-1.0613) tensor(0.2571) tensor([1., 0.])\n",
      "tensor(2.5620) tensor(-0.6473) tensor(0.3436) tensor([4., 0.])\n",
      "tensor(2.5553) tensor(-1.2078) tensor(0.2301) tensor([3., 0.])\n",
      "tensor(3.2864) tensor(-0.5511) tensor(0.3656) tensor([2., 0.])\n",
      "tensor(3.0373) tensor(-0.9705) tensor(0.2748) tensor([2., 0.])\n",
      "tensor(2.2033) tensor(-1.3929) tensor(0.1989) tensor([2., 0.])\n",
      "tensor(4.2077) tensor(-0.3833) tensor(0.4053) tensor([3., 0.])\n",
      "tensor(2.2538) tensor(-0.8573) tensor(0.2979) tensor([2., 0.])\n",
      "tensor(2.1487) tensor(0.0412) tensor(0.5103) tensor([2., 0.])\n",
      "tensor(2.1807) tensor(-0.1201) tensor(0.4700) tensor([3., 0.])\n",
      "tensor(2.4515) tensor(-1.4569) tensor(0.1889) tensor([2., 0.])\n",
      "tensor(1.8541) tensor(-1.3549) tensor(0.2051) tensor([3., 0.])\n",
      "tensor(2.7883) tensor(-0.0674) tensor(0.4831) tensor([2., 0.])\n",
      "tensor(4.1719) tensor(-0.2791) tensor(0.4307) tensor([4., 0.])\n",
      "tensor(4.4334) tensor(0.2356) tensor(0.5586) tensor([4., 0.])\n",
      "tensor(1.9677) tensor(-0.1372) tensor(0.4658) tensor([2., 0.])\n",
      "tensor(3.9860) tensor(-0.1913) tensor(0.4523) tensor([4., 0.])\n",
      "tensor(3.9469) tensor(-0.3258) tensor(0.4193) tensor([5., 0.])\n",
      "tensor(2.1026) tensor(-0.3252) tensor(0.4194) tensor([2., 0.])\n",
      "tensor(2.3877) tensor(-0.3535) tensor(0.4125) tensor([3., 0.])\n",
      "tensor(3.3025) tensor(-1.2417) tensor(0.2241) tensor([3., 0.])\n",
      "tensor(2.2722) tensor(-1.0817) tensor(0.2532) tensor([3., 0.])\n",
      "tensor(3.8359) tensor(-0.6474) tensor(0.3436) tensor([3., 0.])\n",
      "tensor(3.2200) tensor(-1.3358) tensor(0.2082) tensor([3., 0.])\n",
      "tensor(3.7119) tensor(-0.2375) tensor(0.4409) tensor([4., 0.])\n",
      "tensor(3.0133) tensor(-1.0185) tensor(0.2653) tensor([3., 0.])\n",
      "tensor(3.0387) tensor(-1.1884) tensor(0.2335) tensor([3., 0.])\n",
      "tensor(2.0564) tensor(-1.6898) tensor(0.1558) tensor([2., 0.])\n",
      "tensor(2.1149) tensor(0.4543) tensor(0.6117) tensor([2., 0.])\n",
      "tensor(2.3168) tensor(-0.6049) tensor(0.3532) tensor([3., 0.])\n",
      "tensor(4.2830) tensor(-0.4735) tensor(0.3838) tensor([5., 0.])\n",
      "tensor(2.0344) tensor(-1.7004) tensor(0.1544) tensor([2., 0.])\n",
      "tensor(2.5454) tensor(-1.0529) tensor(0.2587) tensor([2., 0.])\n",
      "tensor(3.6408) tensor(-0.5867) tensor(0.3574) tensor([3., 0.])\n",
      "tensor(3.3330) tensor(-0.4768) tensor(0.3830) tensor([5., 0.])\n",
      "tensor(1.5402) tensor(-0.8605) tensor(0.2972) tensor([2., 0.])\n",
      "tensor(2.0907) tensor(-1.0831) tensor(0.2529) tensor([1., 0.])\n",
      "tensor(3.2302) tensor(-1.2422) tensor(0.2240) tensor([3., 0.])\n",
      "tensor(2.1941) tensor(-1.0283) tensor(0.2634) tensor([3., 0.])\n",
      "tensor(2.2356) tensor(-1.2804) tensor(0.2175) tensor([2., 0.])\n",
      "tensor(2.8962) tensor(-0.9746) tensor(0.2740) tensor([5., 0.])\n",
      "tensor(2.1826) tensor(-0.6246) tensor(0.3487) tensor([2., 0.])\n",
      "tensor(2.1744) tensor(-0.7200) tensor(0.3274) tensor([2., 0.])\n",
      "tensor(3.9629) tensor(0.0699) tensor(0.5175) tensor([4., 0.])\n",
      "tensor(2.3406) tensor(-1.1719) tensor(0.2365) tensor([2., 0.])\n",
      "tensor(2.3458) tensor(-1.4030) tensor(0.1973) tensor([2., 0.])\n",
      "tensor(2.2064) tensor(-0.1776) tensor(0.4557) tensor([2., 0.])\n",
      "tensor(2.6620) tensor(-1.0088) tensor(0.2672) tensor([2., 0.])\n",
      "tensor(3.1251) tensor(-0.8075) tensor(0.3084) tensor([2., 0.])\n",
      "tensor(2.8112) tensor(-0.9312) tensor(0.2827) tensor([3., 0.])\n",
      "tensor(1.3020) tensor(0.0509) tensor(0.5127) tensor([2., 0.])\n",
      "tensor(2.4248) tensor(-1.1868) tensor(0.2338) tensor([2., 0.])\n",
      "tensor(1.9136) tensor(-0.5237) tensor(0.3720) tensor([2., 0.])\n",
      "tensor(2.3665) tensor(-0.0372) tensor(0.4907) tensor([2., 0.])\n",
      "tensor(2.3461) tensor(-0.8759) tensor(0.2940) tensor([3., 0.])\n",
      "tensor(2.5667) tensor(-0.9599) tensor(0.2769) tensor([2., 0.])\n",
      "tensor(2.4956) tensor(-1.1406) tensor(0.2422) tensor([2., 0.])\n",
      "tensor(4.3701) tensor(-0.0992) tensor(0.4752) tensor([5., 0.])\n",
      "tensor(2.4612) tensor(-0.8677) tensor(0.2957) tensor([2., 0.])\n",
      "tensor(4.4653) tensor(-0.0371) tensor(0.4907) tensor([4., 0.])\n",
      "tensor(2.3797) tensor(-0.9152) tensor(0.2859) tensor([2., 0.])\n",
      "tensor(3.5847) tensor(-0.5235) tensor(0.3720) tensor([4., 0.])\n",
      "tensor(2.0822) tensor(-1.5677) tensor(0.1725) tensor([3., 0.])\n",
      "tensor(1.9556) tensor(-0.2637) tensor(0.4345) tensor([2., 0.])\n",
      "tensor(2.1283) tensor(-1.7088) tensor(0.1533) tensor([2., 0.])\n",
      "tensor(2.5837) tensor(-0.7951) tensor(0.3111) tensor([2.5000, 0.0000])\n",
      "tensor(2.1042) tensor(-1.0128) tensor(0.2664) tensor([1., 0.])\n",
      "tensor(2.3047) tensor(-0.0943) tensor(0.4764) tensor([2., 0.])\n",
      "tensor(3.8820) tensor(-0.7143) tensor(0.3286) tensor([3., 0.])\n",
      "tensor(1.9647) tensor(-1.1171) tensor(0.2465) tensor([2., 0.])\n",
      "tensor(1.8657) tensor(-0.3788) tensor(0.4064) tensor([1., 0.])\n",
      "tensor(3.6417) tensor(-0.6520) tensor(0.3425) tensor([3., 0.])\n",
      "tensor(4.2833) tensor(-0.4662) tensor(0.3855) tensor([5., 0.])\n",
      "tensor(2.1257) tensor(-0.8304) tensor(0.3036) tensor([3., 0.])\n",
      "tensor(3.7665) tensor(-0.6057) tensor(0.3530) tensor([3., 0.])\n",
      "tensor(1.9948) tensor(0.1027) tensor(0.5256) tensor([3., 0.])\n",
      "tensor(2.9850) tensor(-1.3030) tensor(0.2137) tensor([3., 0.])\n",
      "tensor(3.0087) tensor(-0.9278) tensor(0.2834) tensor([3., 0.])\n",
      "tensor(4.0185) tensor(-0.3233) tensor(0.4199) tensor([4.5000, 0.0000])\n",
      "tensor(2.7046) tensor(-0.9776) tensor(0.2734) tensor([2., 0.])\n",
      "tensor(3.0692) tensor(-0.7957) tensor(0.3110) tensor([3., 0.])\n",
      "tensor(2.1494) tensor(-0.4458) tensor(0.3904) tensor([2., 0.])\n",
      "tensor(4.6878) tensor(-0.0651) tensor(0.4837) tensor([4., 0.])\n"
     ]
    },
    {
     "name": "stdout",
     "output_type": "stream",
     "text": [
      "tensor(1.8020) tensor(0.6058) tensor(0.6470) tensor([2., 0.])\n",
      "tensor(3.8599) tensor(-0.6061) tensor(0.3529) tensor([4., 0.])\n",
      "tensor(3.6116) tensor(-0.8003) tensor(0.3100) tensor([3., 0.])\n",
      "tensor(1.4829) tensor(-1.0050) tensor(0.2680) tensor([2., 0.])\n",
      "tensor(1.8048) tensor(-1.8067) tensor(0.1410) tensor([2., 0.])\n",
      "tensor(1.4996) tensor(-1.8299) tensor(0.1383) tensor([2., 0.])\n",
      "tensor(1.7925) tensor(0.6940) tensor(0.6668) tensor([2., 0.])\n",
      "tensor(1.5287) tensor(0.3943) tensor(0.5973) tensor([1., 0.])\n",
      "tensor(2.8418) tensor(-0.9546) tensor(0.2780) tensor([2., 0.])\n",
      "tensor(1.8570) tensor(-0.5437) tensor(0.3673) tensor([2., 0.])\n",
      "tensor(2.3657) tensor(-0.8524) tensor(0.2989) tensor([3., 0.])\n",
      "tensor(2.6582) tensor(-1.1833) tensor(0.2345) tensor([2., 0.])\n",
      "tensor(2.1500) tensor(0.2335) tensor(0.5581) tensor([2., 0.])\n",
      "tensor(1.6417) tensor(0.4017) tensor(0.5991) tensor([2., 0.])\n",
      "tensor(2.5278) tensor(-0.6239) tensor(0.3489) tensor([3., 0.])\n",
      "tensor(4.1644) tensor(0.0567) tensor(0.5142) tensor([5., 0.])\n",
      "tensor(1.6152) tensor(-1.2081) tensor(0.2300) tensor([1., 0.])\n",
      "tensor(1.6689) tensor(-1.5418) tensor(0.1763) tensor([2., 0.])\n",
      "tensor(2.5679) tensor(-0.7710) tensor(0.3163) tensor([3., 0.])\n",
      "tensor(1.7389) tensor(0.1790) tensor(0.5446) tensor([2., 0.])\n",
      "tensor(2.3184) tensor(-0.5040) tensor(0.3766) tensor([2., 0.])\n",
      "tensor(4.7078) tensor(0.1332) tensor(0.5332) tensor([5., 0.])\n",
      "tensor(2.1166) tensor(-1.4226) tensor(0.1943) tensor([2., 0.])\n",
      "tensor(2.2593) tensor(-0.9965) tensor(0.2696) tensor([3., 0.])\n",
      "tensor(2.2361) tensor(-0.2083) tensor(0.4481) tensor([2., 0.])\n",
      "tensor(2.9026) tensor(-0.8745) tensor(0.2943) tensor([2., 0.])\n",
      "tensor(1.7494) tensor(-1.2948) tensor(0.2150) tensor([2., 0.])\n",
      "tensor(2.2097) tensor(-0.6843) tensor(0.3353) tensor([3., 0.])\n",
      "tensor(2.0530) tensor(-0.9084) tensor(0.2873) tensor([2., 0.])\n",
      "tensor(2.3648) tensor(-0.4308) tensor(0.3939) tensor([3., 0.])\n",
      "tensor(2.0644) tensor(-0.7079) tensor(0.3301) tensor([2., 0.])\n",
      "tensor(2.0451) tensor(0.5664) tensor(0.6379) tensor([3., 0.])\n"
     ]
    }
   ],
   "source": [
    "for p, t in zip(probs,targs):\n",
    "    print(p[0], p[1], torch.sigmoid(p[1]), t)"
   ]
  },
  {
   "cell_type": "code",
   "execution_count": 134,
   "metadata": {},
   "outputs": [
    {
     "name": "stdout",
     "output_type": "stream",
     "text": [
      "['avg_sentiment', 'is_example']\n"
     ]
    }
   ],
   "source": [
    "print(STANDARD_THEME_META_LABELS)"
   ]
  },
  {
   "cell_type": "code",
   "execution_count": 135,
   "metadata": {},
   "outputs": [
    {
     "data": {
      "text/plain": [
       "(FloatItem [ 3.912143 -0.595983],\n",
       " tensor([ 3.9121, -0.5960]),\n",
       " tensor([ 3.9121, -0.5960]))"
      ]
     },
     "execution_count": 135,
     "metadata": {},
     "output_type": "execute_result"
    }
   ],
   "source": [
    "learn.predict(\"plenty of parking available. found a spot every day I came to work. availability is solid\")"
   ]
  },
  {
   "cell_type": "markdown",
   "metadata": {},
   "source": [
    "## Save models, csvs, to zip and download (optional)"
   ]
  },
  {
   "cell_type": "code",
   "execution_count": 136,
   "metadata": {},
   "outputs": [],
   "source": [
    "from IPython.display import FileLink"
   ]
  },
  {
   "cell_type": "code",
   "execution_count": 137,
   "metadata": {},
   "outputs": [],
   "source": [
    "# !zip -r models.zip {LM_PATH}/models/ {CLS_PATH}/models  -x {LM_PATH}/models/lstm_wt103/\\*\n",
    "\n",
    "# FileLink('models.zip')"
   ]
  },
  {
   "cell_type": "code",
   "execution_count": 138,
   "metadata": {},
   "outputs": [],
   "source": [
    "# !zip verbatims-csvs.zip {PATH}/verbatims.csv {PATH}/verbatims-entities.csv {PATH}/verbatims-meta.csv\n",
    "\n",
    "# FileLink('verbatims-csvs.zip')"
   ]
  },
  {
   "cell_type": "markdown",
   "metadata": {},
   "source": [
    "## Review predictions"
   ]
  },
  {
   "cell_type": "markdown",
   "metadata": {},
   "source": [
    "### Predict sentiment for our validation dataset, including the actual document"
   ]
  },
  {
   "cell_type": "code",
   "execution_count": 139,
   "metadata": {},
   "outputs": [
    {
     "data": {
      "text/plain": [
       "(torch.Size([514, 2]), torch.Size([514, 2]), tensor(0.5716))"
      ]
     },
     "execution_count": 139,
     "metadata": {},
     "output_type": "execute_result"
    }
   ],
   "source": [
    "# predictions for a single model using the learner's model and data loaders\n",
    "learn.load(f'{m_pre}cls_bestmodel{m_suf}')\n",
    "learn.model.cuda(1)\n",
    "probs, targs, loss = learn.get_preds(DatasetType.Valid, with_loss=True)\n",
    "\n",
    "probs[:,1] = torch.sigmoid(probs[:,1])\n",
    "\n",
    "probs.shape, targs.shape, loss / len(probs)"
   ]
  },
  {
   "cell_type": "code",
   "execution_count": 140,
   "metadata": {},
   "outputs": [],
   "source": [
    "??metrics_util.best_fthresh"
   ]
  },
  {
   "cell_type": "code",
   "execution_count": 141,
   "metadata": {},
   "outputs": [
    {
     "data": {
      "text/plain": [
       "(514, 2)"
      ]
     },
     "execution_count": 141,
     "metadata": {},
     "output_type": "execute_result"
    }
   ],
   "source": [
    "data_clas.valid_ds.y.items.shape"
   ]
  },
  {
   "cell_type": "code",
   "execution_count": 142,
   "metadata": {},
   "outputs": [
    {
     "data": {
      "text/plain": [
       "(0.7599999904632568, 0.7599999904632568, 0.6100000143051147)"
      ]
     },
     "execution_count": 142,
     "metadata": {},
     "output_type": "execute_result"
    }
   ],
   "source": [
    "# determine optimal threshold based on desired f-score\n",
    "is_example_threshold_f05 = metrics_util.best_fthresh(\n",
    "    probs[:,1], targs[:,1], beta=0.5, start=0.5, end=.9, average='binary').item()\n",
    "is_example_threshold_f1 = metrics_util.best_fthresh(\n",
    "    probs[:,1], targs[:,1], beta=1, start=0.5, end=.9, average='binary').item()\n",
    "is_example_threshold_f2 = metrics_util.best_fthresh(\n",
    "    probs[:,1], targs[:,1], beta=2, start=0.5, end=.9, average='binary').item()\n",
    "\n",
    "is_example_threshold_f05, is_example_threshold_f1, is_example_threshold_f2"
   ]
  },
  {
   "cell_type": "code",
   "execution_count": 143,
   "metadata": {},
   "outputs": [],
   "source": [
    "from sklearn import metrics"
   ]
  },
  {
   "cell_type": "code",
   "execution_count": 144,
   "metadata": {
    "scrolled": true
   },
   "outputs": [
    {
     "data": {
      "text/plain": [
       "0.2"
      ]
     },
     "execution_count": 144,
     "metadata": {},
     "output_type": "execute_result"
    }
   ],
   "source": [
    "res = metrics.fbeta_score(targs[:,1], (probs[:,1] > is_example_threshold_f1), beta=1, average='binary')\n",
    "res"
   ]
  },
  {
   "cell_type": "code",
   "execution_count": 145,
   "metadata": {
    "scrolled": true
   },
   "outputs": [
    {
     "data": {
      "text/plain": [
       "0.9688715934753418"
      ]
     },
     "execution_count": 145,
     "metadata": {},
     "output_type": "execute_result"
    }
   ],
   "source": [
    "preds = ((probs[:,1] > is_example_threshold_f1).byte() == targs[:,1].byte()).float().mean()\n",
    "preds.item()"
   ]
  },
  {
   "cell_type": "code",
   "execution_count": 146,
   "metadata": {},
   "outputs": [
    {
     "data": {
      "text/plain": [
       "(0.9688715934753418, 0.9688715934753418, 0.9357976913452148)"
      ]
     },
     "execution_count": 146,
     "metadata": {},
     "output_type": "execute_result"
    }
   ],
   "source": [
    "# determine accuracy based on optimal threshold\n",
    "is_example_val_acc_f05 = accuracy_thresh(probs[:,1], targs[:,1], is_example_threshold_f05, sigmoid=False).item()\n",
    "is_example_val_acc_f1 = accuracy_thresh(probs[:,1], targs[:,1], is_example_threshold_f1, sigmoid=False).item()\n",
    "is_example_val_acc_f2 = accuracy_thresh(probs[:,1], targs[:,1], is_example_threshold_f2, sigmoid=False).item()\n",
    "\n",
    "is_example_val_acc_f05, is_example_val_acc_f1, is_example_val_acc_f2"
   ]
  },
  {
   "cell_type": "markdown",
   "metadata": {},
   "source": [
    "### Review classifier - Is Example"
   ]
  },
  {
   "cell_type": "code",
   "execution_count": 147,
   "metadata": {},
   "outputs": [
    {
     "name": "stdout",
     "output_type": "stream",
     "text": [
      "0.20.2\n"
     ]
    }
   ],
   "source": [
    "import sklearn\n",
    "from sklearn import metrics\n",
    "print (sklearn.__version__)"
   ]
  },
  {
   "cell_type": "code",
   "execution_count": 148,
   "metadata": {},
   "outputs": [
    {
     "data": {
      "text/plain": [
       "(torch.Size([514, 2]), torch.Size([514, 2]))"
      ]
     },
     "execution_count": 148,
     "metadata": {},
     "output_type": "execute_result"
    }
   ],
   "source": [
    "probs.shape, targs.shape"
   ]
  },
  {
   "cell_type": "code",
   "execution_count": 149,
   "metadata": {},
   "outputs": [],
   "source": [
    "eval_targs = targs[:,1]\n",
    "eval_probs = probs[:,1]"
   ]
  },
  {
   "cell_type": "markdown",
   "metadata": {},
   "source": [
    "#### Classification Accuracy\n",
    "\n",
    "The percentage of correct predictions.  Answers the question, *\"Overall, how often is the classifier correct?\"*"
   ]
  },
  {
   "cell_type": "code",
   "execution_count": 150,
   "metadata": {},
   "outputs": [
    {
     "name": "stdout",
     "output_type": "stream",
     "text": [
      "0.9688715953307393\n"
     ]
    }
   ],
   "source": [
    "print(metrics.accuracy_score(eval_targs, (eval_probs > is_example_threshold_f1).float()))"
   ]
  },
  {
   "cell_type": "markdown",
   "metadata": {},
   "source": [
    "#### Null Accuracy\n",
    " \n",
    "The accuracy achieved by always predicting the most frequent class.  Answers the question, *\"What would the accuracy be by always predicting the most frequent case?\"*"
   ]
  },
  {
   "cell_type": "code",
   "execution_count": 151,
   "metadata": {},
   "outputs": [
    {
     "name": "stdout",
     "output_type": "stream",
     "text": [
      "0.0 508\n"
     ]
    }
   ],
   "source": [
    "u_classes, u_counts = np.unique(eval_targs, return_counts=True)\n",
    "most_freq_class, most_freq_class_count = u_classes[np.argmax(u_counts)], np.max(u_counts)\n",
    "print(most_freq_class, most_freq_class_count)"
   ]
  },
  {
   "cell_type": "code",
   "execution_count": 152,
   "metadata": {},
   "outputs": [
    {
     "data": {
      "text/plain": [
       "0.9883268482490273"
      ]
     },
     "execution_count": 152,
     "metadata": {},
     "output_type": "execute_result"
    }
   ],
   "source": [
    "most_freq_class_count / len(eval_targs)"
   ]
  },
  {
   "cell_type": "markdown",
   "metadata": {},
   "source": [
    "#### Cohen's kappa\n",
    "\n",
    "This measure is intended to compare labelings by different human annotators (not a classifier vs. ground truth)\n",
    "\n",
    "Kappa socres are between -1 and 1 ( >= .8 is generally considered good agreement; <= 0 means no agreement ... e.g., practically random labels)"
   ]
  },
  {
   "cell_type": "code",
   "execution_count": 153,
   "metadata": {},
   "outputs": [
    {
     "name": "stdout",
     "output_type": "stream",
     "text": [
      "0.18670886075949367\n"
     ]
    }
   ],
   "source": [
    "print(metrics.cohen_kappa_score(eval_targs, (eval_probs > is_example_threshold_f1).float()))"
   ]
  },
  {
   "cell_type": "markdown",
   "metadata": {},
   "source": [
    "#### Confusion Matrix\n",
    "\n",
    "Describes the performance of a classification model"
   ]
  },
  {
   "cell_type": "code",
   "execution_count": 154,
   "metadata": {},
   "outputs": [],
   "source": [
    "def plot_confusion_matrix(cm, classes, normalize=False, \n",
    "                          title='Confusion matrix', cmap=plt.cm.Blues, print_info=False):\n",
    "    \"\"\"\n",
    "    This function prints and plots the confusion matrix.\n",
    "    Normalization can be applied by setting `normalize=True`.\n",
    "    \"\"\"\n",
    "    if normalize:\n",
    "        cm = cm.astype('float') / cm.sum(axis=1)[:, np.newaxis]\n",
    "        if (print_info): print(\"Normalized confusion matrix\")\n",
    "    else:\n",
    "        if (print_info): print('Confusion matrix, without normalization')\n",
    "\n",
    "    if (print_info): print(cm)\n",
    "\n",
    "    plt.imshow(cm, interpolation='nearest', cmap=cmap)\n",
    "    plt.title(title)\n",
    "    plt.colorbar(fraction=0.046, pad=0.04)\n",
    "    tick_marks = np.arange(len(classes))\n",
    "    plt.xticks(tick_marks, classes, rotation=45)\n",
    "    plt.yticks(tick_marks, classes)\n",
    "\n",
    "    fmt = '.2f' if normalize else 'd'\n",
    "    thresh = cm.max() / 2.\n",
    "    for i, j in itertools.product(range(cm.shape[0]), range(cm.shape[1])):\n",
    "        plt.text(j, i, format(cm[i, j], fmt),\n",
    "                 horizontalalignment=\"center\",\n",
    "                 color=\"white\" if cm[i, j] > thresh else \"black\")\n",
    "\n",
    "    plt.tight_layout()\n",
    "    plt.ylabel('True label')\n",
    "    plt.xlabel('Predicted label')\n",
    "    plt.grid(None)"
   ]
  },
  {
   "cell_type": "code",
   "execution_count": 155,
   "metadata": {},
   "outputs": [],
   "source": [
    "cm = metrics.confusion_matrix(eval_targs, (eval_probs > is_example_threshold_f1).float())"
   ]
  },
  {
   "cell_type": "code",
   "execution_count": 156,
   "metadata": {},
   "outputs": [
    {
     "data": {
      "image/png": "[encoded data removed]",
      "text/plain": [
       "<Figure size 864x576 with 4 Axes>"
      ]
     },
     "metadata": {},
     "output_type": "display_data"
    }
   ],
   "source": [
    "# Plot non-normalized confusion matrix\n",
    "fig = plt.figure(figsize=(12,8))\n",
    "plt.subplot(1, 2, 1)\n",
    "plot_confusion_matrix(cm, classes=u_classes,\n",
    "                      title='Confusion matrix, without normalization')\n",
    "\n",
    "# Plot normalized confusion matrix\n",
    "plt.subplot(1, 2, 2)\n",
    "plot_confusion_matrix(cm, classes=u_classes, normalize=True,\n",
    "                      title='Normalized confusion matrix')\n",
    "\n",
    "fig.subplots_adjust(wspace=0.5)\n",
    "plt.show()"
   ]
  },
  {
   "cell_type": "code",
   "execution_count": 157,
   "metadata": {},
   "outputs": [
    {
     "name": "stdout",
     "output_type": "stream",
     "text": [
      "              precision    recall  f1-score   support\n",
      "\n",
      "           0       0.99      0.98      0.98       508\n",
      "           1       0.14      0.33      0.20         6\n",
      "\n",
      "   micro avg       0.97      0.97      0.97       514\n",
      "   macro avg       0.57      0.65      0.59       514\n",
      "weighted avg       0.98      0.97      0.97       514\n",
      "\n"
     ]
    }
   ],
   "source": [
    "print(metrics.classification_report(eval_targs, (eval_probs > is_example_threshold_f1).float(), [0,1]))"
   ]
  },
  {
   "cell_type": "markdown",
   "metadata": {},
   "source": [
    "### Raw probability distribution\n",
    "\n",
    "Useful to see how the threshold can be adjusted to increase sensitivity or specificity"
   ]
  },
  {
   "cell_type": "code",
   "execution_count": 158,
   "metadata": {},
   "outputs": [
    {
     "data": {
      "text/plain": [
       "Text(0, 0.5, 'Frequency')"
      ]
     },
     "execution_count": 158,
     "metadata": {},
     "output_type": "execute_result"
    },
    {
     "data": {
      "image/png": "[encoded data removed]",
      "text/plain": [
       "<Figure size 648x432 with 1 Axes>"
      ]
     },
     "metadata": {},
     "output_type": "display_data"
    }
   ],
   "source": [
    "plt.hist(eval_probs, bins=10)\n",
    "# plt.xlim(0,1)\n",
    "plt.title('Histogram of predicted probabilities')\n",
    "plt.xlabel('Predicted probability of IsVeryPositive')\n",
    "plt.ylabel('Frequency')"
   ]
  },
  {
   "cell_type": "markdown",
   "metadata": {},
   "source": [
    "Demonstrates how you can **decrease** the threshold for predicting label in order to **increase the sensitivity** of the classifier"
   ]
  },
  {
   "cell_type": "markdown",
   "metadata": {},
   "source": [
    "#### ROC curves and Area Under the Curve (AUC)\n",
    "\n",
    "***ROC Curve*** answers the question, *\"How would sensitivity and specificity be affected by various thresholds without changing the threshold?\"*  It is a way **to visualize the performance of a binary classifier.**\n",
    "\n",
    "The ROC curve can help you **choose a threshold** that balances sensitivity and specificity based on your particular business case.\n",
    "\n",
    "ROC curves visualize all possible classification thresholds whereas misclassification rate only represents your error rate for a single threshold.\n",
    "\n",
    "A classifier that does a good job at separating the classes will have a ROC curve that hugs the upper left corner of the plot.  Converseley, a classifier the does a poor job separating the classes will have a ROC curve that is close to the diagonal line (0,0 -> 1,1).  That diagonal line represents a classifier that does no better than random guessing."
   ]
  },
  {
   "cell_type": "code",
   "execution_count": 159,
   "metadata": {},
   "outputs": [],
   "source": [
    "fpr, tpr, thresholds = metrics.roc_curve(eval_targs, eval_probs)"
   ]
  },
  {
   "cell_type": "code",
   "execution_count": 160,
   "metadata": {},
   "outputs": [
    {
     "data": {
      "image/png": "[encoded data removed]",
      "text/plain": [
       "<Figure size 648x432 with 1 Axes>"
      ]
     },
     "metadata": {},
     "output_type": "display_data"
    }
   ],
   "source": [
    "plt.plot(fpr, tpr)\n",
    "plt.xlim = ([0.0, 1.0])\n",
    "plt.ylim = ([0.0, 1.0])\n",
    "plt.title('ROC curve for all labels')\n",
    "plt.xlabel('False Positive Rate (1 - Specificity)')\n",
    "plt.ylabel('True Positive Rate (Sensitivity/Recall)')\n",
    "plt.grid(True)"
   ]
  },
  {
   "cell_type": "markdown",
   "metadata": {},
   "source": [
    "***AUC*** = the percentage of the ROC plot that is underneath the curve.  \n",
    "\n",
    "AUC summarizes the performance of a classifier in a **single number**.  It says, *\"If you randomly chose one positive and one negative observation, what is the likelihood that your classifier will assign a higher predicted probability to the positive observation.\"*\n",
    "\n",
    "**An AUC of ~ 0.8 is very good while an AUC of ~ 0.5 represents a poor classifier.**\n",
    "\n",
    "The ROC curve and AUC are insensitive to whether your predicted probabilities are properly calibrated to actually represent probabilities of class membership (e.g., it works if predicted probs range from 0.9 to 1 instead of 0 to 1).  All the AUC metric cares about is how well your classifier separated the two classes\n",
    "\n",
    "Notes:\n",
    "1.  AUC is useful even when there is **high class imbalance** (unlike classification accuracy)\n",
    "2.  AUC is useful even when predicted probabilities are not properly calibrated (e.g., not between 0 and 1)"
   ]
  },
  {
   "cell_type": "code",
   "execution_count": 161,
   "metadata": {},
   "outputs": [
    {
     "name": "stdout",
     "output_type": "stream",
     "text": [
      "0.7112860892388452\n"
     ]
    }
   ],
   "source": [
    "print(metrics.roc_auc_score(eval_targs, eval_probs))"
   ]
  },
  {
   "cell_type": "code",
   "execution_count": null,
   "metadata": {},
   "outputs": [],
   "source": []
  },
  {
   "cell_type": "markdown",
   "metadata": {},
   "source": [
    "### Review classifier - Sentiment"
   ]
  },
  {
   "cell_type": "code",
   "execution_count": 162,
   "metadata": {
    "scrolled": false
   },
   "outputs": [
    {
     "data": {
      "text/plain": [
       "0.46159816"
      ]
     },
     "execution_count": 162,
     "metadata": {},
     "output_type": "execute_result"
    }
   ],
   "source": [
    "# mse\n",
    "metrics.mean_squared_error(targs[:,0], probs[:,0])"
   ]
  },
  {
   "cell_type": "code",
   "execution_count": 163,
   "metadata": {},
   "outputs": [
    {
     "data": {
      "text/plain": [
       "0.6794101543859132"
      ]
     },
     "execution_count": 163,
     "metadata": {},
     "output_type": "execute_result"
    }
   ],
   "source": [
    "# rmse\n",
    "math.sqrt(metrics.mean_squared_error(targs[:,0], probs[:,0]))"
   ]
  },
  {
   "cell_type": "code",
   "execution_count": 164,
   "metadata": {},
   "outputs": [
    {
     "data": {
      "text/plain": [
       "0.5226906"
      ]
     },
     "execution_count": 164,
     "metadata": {},
     "output_type": "execute_result"
    }
   ],
   "source": [
    "# mae\n",
    "metrics.mean_absolute_error(targs[:,0], probs[:,0])"
   ]
  },
  {
   "cell_type": "code",
   "execution_count": null,
   "metadata": {},
   "outputs": [],
   "source": []
  },
  {
   "cell_type": "markdown",
   "metadata": {},
   "source": [
    "### Ensemble forwards and backwards passes"
   ]
  },
  {
   "cell_type": "code",
   "execution_count": 75,
   "metadata": {},
   "outputs": [],
   "source": [
    "try:\n",
    "    learn_fwd.purge(); learn_fwd = None;\n",
    "    learn_bwd.purge(); learn_bwd = None;\n",
    "    gc.collect()\n",
    "    torch.cuda.empty_cache()\n",
    "except: pass\n",
    "\n",
    "\n",
    "bsz = 80\n",
    "m_suf = '_multitask'\n",
    "\n",
    "learn_fwd = load_learner(STANDARD_THEME_META_PATH, file=f'fwd_export_clas{m_suf}.pkl')\n",
    "data_fwd = load_data(STANDARD_THEME_META_PATH, f'data_cls_standard_theme_meta.pkl', bs=bsz)\n",
    "learn_fwd.data = data_fwd\n",
    "\n",
    "learn_bwd = load_learner(STANDARD_THEME_META_PATH, file=f'bwd_export_clas{m_suf}.pkl')\n",
    "data_bwd = load_data(STANDARD_THEME_META_PATH, f'data_cls_standard_theme_meta.pkl', bs=bsz, backwards=True)\n",
    "learn_bwd.data = data_bwd"
   ]
  },
  {
   "cell_type": "code",
   "execution_count": 76,
   "metadata": {},
   "outputs": [
    {
     "data": {
      "text/plain": [
       "(torch.Size([514, 2]), torch.Size([514, 2]), torch.Size([]))"
      ]
     },
     "execution_count": 76,
     "metadata": {},
     "output_type": "execute_result"
    }
   ],
   "source": [
    "probs_fwd, lbl_fwd, loss_fwd = learn_fwd.get_preds(ordered=False, with_loss=True)\n",
    "probs_bwd, lbl_bwd, loss_bwd = learn_bwd.get_preds(ordered=False, with_loss=True)\n",
    "\n",
    "probs_fwd[:,1] = torch.sigmoid(probs_fwd[:,1])\n",
    "probs_bwd[:,1] = torch.sigmoid(probs_bwd[:,1])\n",
    "\n",
    "probs_fwd.shape, probs_bwd.shape, loss_fwd.shape"
   ]
  },
  {
   "cell_type": "code",
   "execution_count": 77,
   "metadata": {},
   "outputs": [
    {
     "data": {
      "text/plain": [
       "(tensor(0.5457), tensor(0.5716), tensor(0.5586))"
      ]
     },
     "execution_count": 77,
     "metadata": {},
     "output_type": "execute_result"
    }
   ],
   "source": [
    "loss_fwd/len(probs_fwd), loss_bwd/len(probs_fwd), (loss_fwd/len(probs_fwd) + loss_bwd/len(probs_fwd)) / 2"
   ]
  },
  {
   "cell_type": "code",
   "execution_count": 78,
   "metadata": {},
   "outputs": [],
   "source": [
    "probs_final = (probs_fwd + probs_bwd) / 2\n",
    "# probs_final"
   ]
  },
  {
   "cell_type": "markdown",
   "metadata": {},
   "source": [
    "#### Results"
   ]
  },
  {
   "cell_type": "code",
   "execution_count": 79,
   "metadata": {},
   "outputs": [
    {
     "name": "stdout",
     "output_type": "stream",
     "text": [
      "Fowards Only\n",
      "-------------\n",
      "f05:\tOptimal threshold = 0.7900000214576721\t(Accuracy = 0.9649805426597595)\n",
      "f1:\tOptimal threshold = 0.7900000214576721\t\t(Accuracy = 0.9649805426597595)\n",
      "f2:\tOptimal threshold = 0.7900000214576721\t(Accuracy = 0.9649805426597595)\n",
      "\n",
      "Accuracy: 0.8754863739013672\n"
     ]
    }
   ],
   "source": [
    "# determine optimal threshold based on desired f-score\n",
    "is_example_threshold_f05 = metrics_util.best_fthresh(\n",
    "    probs_fwd[:,1], lbl_fwd[:,1], beta=0.5, start=0.5, end=.9, average='binary').item()\n",
    "is_example_threshold_f1 = metrics_util.best_fthresh(\n",
    "    probs_fwd[:,1], lbl_fwd[:,1], beta=1, start=0.5, end=.9, average='binary').item()\n",
    "is_example_threshold_f2 = metrics_util.best_fthresh(\n",
    "    probs_fwd[:,1], lbl_fwd[:,1], beta=2, start=0.5, end=.9, average='binary').item()\n",
    "\n",
    "is_example_threshold_f05, is_example_threshold_f1, is_example_threshold_f2\n",
    "\n",
    "# determine accuracy based on optimal threshold\n",
    "is_example_val_acc_f05 = accuracy_thresh(probs_fwd[:,1], lbl_fwd[:,1], is_example_threshold_f05, sigmoid=False).item()\n",
    "is_example_val_acc_f1 = accuracy_thresh(probs_fwd[:,1], lbl_fwd[:,1], is_example_threshold_f1, sigmoid=False).item()\n",
    "is_example_val_acc_f2 = accuracy_thresh(probs_fwd[:,1], lbl_fwd[:,1], is_example_threshold_f2, sigmoid=False).item()\n",
    "\n",
    "is_example_val_acc_f05, is_example_val_acc_f1, is_example_val_acc_f2\n",
    "\n",
    "print('Fowards Only\\n-------------')\n",
    "print(f'f05:\\tOptimal threshold = {is_example_threshold_f05}\\t(Accuracy = {is_example_val_acc_f05})')\n",
    "print(f'f1:\\tOptimal threshold = {is_example_threshold_f1}\\t\\t(Accuracy = {is_example_val_acc_f1})')\n",
    "print(f'f2:\\tOptimal threshold = {is_example_threshold_f2}\\t(Accuracy = {is_example_val_acc_f2})')\n",
    "\n",
    "print(f'\\nAccuracy: {accuracy_thresh(probs_fwd[:,1], lbl_fwd[:,1], sigmoid=False)}')"
   ]
  },
  {
   "cell_type": "code",
   "execution_count": 80,
   "metadata": {},
   "outputs": [
    {
     "name": "stdout",
     "output_type": "stream",
     "text": [
      "Backwards Only\n",
      "-------------\n",
      "f05:\tOptimal threshold = 0.7599999904632568\t(Accuracy = 0.9688715934753418)\n",
      "f1:\tOptimal threshold = 0.7599999904632568\t\t(Accuracy = 0.9688715934753418)\n",
      "f2:\tOptimal threshold = 0.6100000143051147\t(Accuracy = 0.9357976913452148)\n",
      "\n",
      "Accuracy: 0.8754863739013672\n"
     ]
    }
   ],
   "source": [
    "# determine optimal threshold based on desired f-score\n",
    "is_example_threshold_f05 = metrics_util.best_fthresh(\n",
    "    probs_bwd[:,1], lbl_bwd[:,1], beta=0.5, start=0.5, end=.9, average='binary').item()\n",
    "is_example_threshold_f1 = metrics_util.best_fthresh(\n",
    "    probs_bwd[:,1], lbl_bwd[:,1], beta=1, start=0.5, end=.9, average='binary').item()\n",
    "is_example_threshold_f2 = metrics_util.best_fthresh(\n",
    "    probs_bwd[:,1], lbl_bwd[:,1], beta=2, start=0.5, end=.9, average='binary').item()\n",
    "\n",
    "is_example_threshold_f05, is_example_threshold_f1, is_example_threshold_f2\n",
    "\n",
    "# determine accuracy based on optimal threshold\n",
    "is_example_val_acc_f05 = accuracy_thresh(probs_bwd[:,1], lbl_bwd[:,1], is_example_threshold_f05, sigmoid=False).item()\n",
    "is_example_val_acc_f1 = accuracy_thresh(probs_bwd[:,1], lbl_bwd[:,1], is_example_threshold_f1, sigmoid=False).item()\n",
    "is_example_val_acc_f2 = accuracy_thresh(probs_bwd[:,1], lbl_bwd[:,1], is_example_threshold_f2, sigmoid=False).item()\n",
    "\n",
    "is_example_val_acc_f05, is_example_val_acc_f1, is_example_val_acc_f2\n",
    "\n",
    "print('Backwards Only\\n-------------')\n",
    "print(f'f05:\\tOptimal threshold = {is_example_threshold_f05}\\t(Accuracy = {is_example_val_acc_f05})')\n",
    "print(f'f1:\\tOptimal threshold = {is_example_threshold_f1}\\t\\t(Accuracy = {is_example_val_acc_f1})')\n",
    "print(f'f2:\\tOptimal threshold = {is_example_threshold_f2}\\t(Accuracy = {is_example_val_acc_f2})')\n",
    "\n",
    "print(f'\\nAccuracy: {accuracy_thresh(probs_bwd[:,1], lbl_bwd[:,1], sigmoid=False)}')"
   ]
  },
  {
   "cell_type": "code",
   "execution_count": 81,
   "metadata": {
    "scrolled": true
   },
   "outputs": [
    {
     "name": "stdout",
     "output_type": "stream",
     "text": [
      "Ensemble\n",
      "-------------\n",
      "f05:\tOptimal threshold = 0.7599999904632568\t(Accuracy = 0.9649805426597595)\n",
      "f1:\tOptimal threshold = 0.7599999904632568\t\t(Accuracy = 0.9649805426597595)\n",
      "f2:\tOptimal threshold = 0.7599999904632568\t(Accuracy = 0.9649805426597595)\n",
      "\n",
      "Accuracy: 0.8949416279792786\n"
     ]
    }
   ],
   "source": [
    "# determine optimal threshold based on desired f-score\n",
    "is_example_threshold_f05 = metrics_util.best_fthresh(\n",
    "    probs_final[:,1], lbl_bwd[:,1], beta=0.5, start=0.5, end=.9, average='binary').item()\n",
    "is_example_threshold_f1 = metrics_util.best_fthresh(\n",
    "    probs_final[:,1], lbl_bwd[:,1], beta=1, start=0.5, end=.9, average='binary').item()\n",
    "is_example_threshold_f2 = metrics_util.best_fthresh(\n",
    "    probs_final[:,1], lbl_bwd[:,1], beta=2, start=0.5, end=.9, average='binary').item()\n",
    "\n",
    "is_example_threshold_f05, is_example_threshold_f1, is_example_threshold_f2\n",
    "\n",
    "# determine accuracy based on optimal threshold\n",
    "is_example_val_acc_f05 = accuracy_thresh(probs_final[:,1], lbl_bwd[:,1], is_example_threshold_f05, sigmoid=False).item()\n",
    "is_example_val_acc_f1 = accuracy_thresh(probs_final[:,1], lbl_bwd[:,1], is_example_threshold_f1, sigmoid=False).item()\n",
    "is_example_val_acc_f2 = accuracy_thresh(probs_final[:,1], lbl_bwd[:,1], is_example_threshold_f2, sigmoid=False).item()\n",
    "\n",
    "is_example_val_acc_f05, is_example_val_acc_f1, is_example_val_acc_f2\n",
    "\n",
    "print('Ensemble\\n-------------')\n",
    "print(f'f05:\\tOptimal threshold = {is_example_threshold_f05}\\t(Accuracy = {is_example_val_acc_f05})')\n",
    "print(f'f1:\\tOptimal threshold = {is_example_threshold_f1}\\t\\t(Accuracy = {is_example_val_acc_f1})')\n",
    "print(f'f2:\\tOptimal threshold = {is_example_threshold_f2}\\t(Accuracy = {is_example_val_acc_f2})')\n",
    "\n",
    "print(f'\\nAccuracy: {accuracy_thresh(probs_final[:,1], lbl_bwd[:,1], sigmoid=False)}')"
   ]
  },
  {
   "cell_type": "code",
   "execution_count": 82,
   "metadata": {},
   "outputs": [
    {
     "name": "stdout",
     "output_type": "stream",
     "text": [
      "tensor(0.5049) tensor(0.4342) 0.6589569619745712\n"
     ]
    }
   ],
   "source": [
    "# sentiment metrics\n",
    "sentiment_mae = metrics.mean_absolute_error(lbl_bwd[:,0], probs_final[:,0])\n",
    "sentiment_mse = metrics.mean_squared_error(lbl_bwd[:,0], probs_final[:,0])\n",
    "sentiment_rmse = math.sqrt(metrics.mean_squared_error(lbl_bwd[:,0], probs_final[:,0]))\n",
    "\n",
    "print(sentiment_mae, sentiment_mse, sentiment_rmse)"
   ]
  },
  {
   "cell_type": "code",
   "execution_count": 83,
   "metadata": {},
   "outputs": [
    {
     "data": {
      "text/plain": [
       "tensor(0.5586)"
      ]
     },
     "execution_count": 83,
     "metadata": {},
     "output_type": "execute_result"
    }
   ],
   "source": [
    "final_valid_loss = (loss_fwd/len(probs_fwd) + loss_bwd/len(probs_fwd)) / 2\n",
    "final_valid_loss"
   ]
  },
  {
   "cell_type": "markdown",
   "metadata": {},
   "source": [
    "### Inference (ad-hoc documents)"
   ]
  },
  {
   "cell_type": "code",
   "execution_count": 84,
   "metadata": {},
   "outputs": [
    {
     "name": "stdout",
     "output_type": "stream",
     "text": [
      "['avg_sentiment', 'is_example']\n"
     ]
    }
   ],
   "source": [
    "print(STANDARD_THEME_META_LABELS)"
   ]
  },
  {
   "cell_type": "code",
   "execution_count": 85,
   "metadata": {},
   "outputs": [],
   "source": [
    "test_comments = [\n",
    "    'The parking situation REALLY sucks around here.  It needs to be fixed',\n",
    "    'I LOVE working at UCSD!!!  It is wonderful',\n",
    "    \"\"\"Some staff are just uninformed.There is no support for solo-individual study (no closed off rooms).\n",
    "        Once a guy (quite tall) walked in into the girl's restroom and used the stalls standing up. \n",
    "        There was no line in the guy's restroom. This happened when I done and was going to walk out. \n",
    "        I was extremely uncomfortable\"\"\",\n",
    "    \"I love UCSD!!! It is a terrible place to work!\",\n",
    "    \"I was really uncomfortable to express my opinion!!!\"\n",
    "]\n",
    "\n",
    "doc_probs, doc_preds, doc_toks = get_cls_doc_predictions(learn.model, vocab, tokenizer, test_comments, \n",
    "                                                         threshold=is_example_threshold_f1)"
   ]
  },
  {
   "cell_type": "code",
   "execution_count": 86,
   "metadata": {},
   "outputs": [
    {
     "data": {
      "text/plain": [
       "(5, 5, 5)"
      ]
     },
     "execution_count": 86,
     "metadata": {},
     "output_type": "execute_result"
    }
   ],
   "source": [
    "len(doc_probs), len(doc_probs), len(doc_toks)"
   ]
  },
  {
   "cell_type": "code",
   "execution_count": 87,
   "metadata": {
    "scrolled": true
   },
   "outputs": [
    {
     "name": "stdout",
     "output_type": "stream",
     "text": [
      "> xxmaj the parking situation xxup really sucks around here . xxmaj it needs to be fixed\n",
      "Probabilities:\ttensor([[3.0199, 0.0708]])\n",
      "Predictions:\ttensor([1., 0.])\n",
      "\n",
      "> i xxup love working at xxup ucsd ! ! ! xxmaj it is wonderful\n",
      "Probabilities:\ttensor([[3.0176, 0.1215]])\n",
      "Predictions:\ttensor([1., 0.])\n",
      "\n",
      "> xxmaj some staff are just uninformed . xxmaj there   is no support for solo - individual study ( no closed off rooms ) . \n",
      "  xxmaj once a guy ( quite tall ) walked in into the girl 's restroom and used the stalls standing up . \n",
      "  xxmaj there was no line in the guy 's restroom . xxmaj this happened when i done and was going to walk out . \n",
      "  i was extremely uncomfortable\n",
      "Probabilities:\ttensor([[3.0305, 0.1088]])\n",
      "Predictions:\ttensor([1., 0.])\n",
      "\n",
      "> i love xxup ucsd ! ! ! xxmaj it is a terrible place to work !\n",
      "Probabilities:\ttensor([[3.0079, 0.1034]])\n",
      "Predictions:\ttensor([1., 0.])\n",
      "\n",
      "> i was really uncomfortable to express my opinion ! ! !\n",
      "Probabilities:\ttensor([[3.0387, 0.0918]])\n",
      "Predictions:\ttensor([1., 0.])\n",
      "\n"
     ]
    }
   ],
   "source": [
    "for d_probs, d_preds, d_toks in zip(doc_probs, doc_preds, doc_toks):\n",
    "    print(f'> {\" \".join([t for t in d_toks])}\\nProbabilities:\\t{d_probs}\\nPredictions:\\t{d_preds}\\n')"
   ]
  },
  {
   "cell_type": "markdown",
   "metadata": {},
   "source": [
    "### Inference (batch ensemble)"
   ]
  },
  {
   "cell_type": "code",
   "execution_count": 88,
   "metadata": {},
   "outputs": [
    {
     "name": "stdout",
     "output_type": "stream",
     "text": [
      "cuda:1\n"
     ]
    }
   ],
   "source": [
    "import datetime\n",
    "yyyymmdd = datetime.date.today().strftime(\"%Y%m%d\")\n",
    "\n",
    "m_suf = '_multitask'\n",
    "\n",
    "# device = torch.device('cpu')\n",
    "device = torch.device('cuda:1') if torch.cuda.is_available() else torch.device('cpu')\n",
    "print(device)"
   ]
  },
  {
   "cell_type": "code",
   "execution_count": 89,
   "metadata": {},
   "outputs": [
    {
     "name": "stdout",
     "output_type": "stream",
     "text": [
      "37308\n"
     ]
    }
   ],
   "source": [
    "verbatims_df = pd.read_csv(STANDARD_THEME_PATH/'saw/20191021_ensemble_predictions_multilabel.csv', \n",
    "                           dtype={**lm_dtypes}, parse_dates=[])\n",
    "\n",
    "inf_df = verbatims_df.copy() #verbatims_df[test_df.SurveyID == 130].copy()\n",
    "inf_df.reset_index(drop=True, inplace=True)\n",
    "print(len(verbatims_df))\n",
    "\n",
    "corpus_cols = ['theme', 'AnswerText'] "
   ]
  },
  {
   "cell_type": "code",
   "execution_count": 90,
   "metadata": {},
   "outputs": [
    {
     "data": {
      "text/html": [
       "<div>\n",
       "<style scoped>\n",
       "    .dataframe tbody tr th:only-of-type {\n",
       "        vertical-align: middle;\n",
       "    }\n",
       "\n",
       "    .dataframe tbody tr th {\n",
       "        vertical-align: top;\n",
       "    }\n",
       "\n",
       "    .dataframe thead th {\n",
       "        text-align: right;\n",
       "    }\n",
       "</style>\n",
       "<table border=\"1\" class=\"dataframe\">\n",
       "  <thead>\n",
       "    <tr style=\"text-align: right;\">\n",
       "      <th></th>\n",
       "      <th>Id</th>\n",
       "      <th>QuestionAnsID</th>\n",
       "      <th>AnswerText</th>\n",
       "      <th>AnswerText_NonEnglish</th>\n",
       "      <th>Language</th>\n",
       "      <th>SurveyID</th>\n",
       "      <th>SurveyTypeID</th>\n",
       "      <th>BenchmarkSurveyType</th>\n",
       "      <th>ClientId</th>\n",
       "      <th>RspID</th>\n",
       "      <th>QuestionCategoryAbbr</th>\n",
       "      <th>QuestionText</th>\n",
       "      <th>QuestionClass</th>\n",
       "      <th>QuestionCategoryID</th>\n",
       "      <th>QuestionReportAbbr</th>\n",
       "      <th>QuestionCategoryLabel</th>\n",
       "      <th>BenchmarkLevel1</th>\n",
       "      <th>BenchmarkLevel2</th>\n",
       "      <th>BenchmarkLevel3</th>\n",
       "      <th>ClientBenchmarkLevel</th>\n",
       "      <th>GroupCode</th>\n",
       "      <th>GroupID</th>\n",
       "      <th>GroupLevel1Code</th>\n",
       "      <th>GroupLevel1Name</th>\n",
       "      <th>GroupLevel2Code</th>\n",
       "      <th>GroupLevel2Name</th>\n",
       "      <th>GroupLevel3Code</th>\n",
       "      <th>GroupLevel3Name</th>\n",
       "      <th>GroupLevel4Code</th>\n",
       "      <th>GroupLevel4Name</th>\n",
       "      <th>GroupLevel5Code</th>\n",
       "      <th>GroupLevel5Name</th>\n",
       "      <th>GroupLevel6Code</th>\n",
       "      <th>GroupLevel6Name</th>\n",
       "      <th>GroupLevel7Code</th>\n",
       "      <th>GroupLevel7Name</th>\n",
       "      <th>GroupLevel8Code</th>\n",
       "      <th>GroupLevel8Name</th>\n",
       "      <th>prob_adequate_staffing</th>\n",
       "      <th>prob_advancement_and_training_opportunities</th>\n",
       "      <th>prob_appropriate_stress_work_assigned_equitably</th>\n",
       "      <th>prob_benefits</th>\n",
       "      <th>prob_better_ways_recognized_participate_in_decisions</th>\n",
       "      <th>prob_career_advancement</th>\n",
       "      <th>prob_committed_to_diversity</th>\n",
       "      <th>prob_communicates_essential_information</th>\n",
       "      <th>prob_ethical_conduct_perform_responsibilities_spirit_of_cooperation</th>\n",
       "      <th>prob_evaluated_fairly</th>\n",
       "      <th>prob_experienced_discrimination</th>\n",
       "      <th>prob_facilities_workspace_safety</th>\n",
       "      <th>prob_faculty_value_contributions</th>\n",
       "      <th>prob_favoritism_cliques</th>\n",
       "      <th>prob_fear_of_retaliation_negative_consequences</th>\n",
       "      <th>prob_feel_valued_by_department</th>\n",
       "      <th>prob_flexibility_work_life_balance</th>\n",
       "      <th>prob_good_use_of_skills</th>\n",
       "      <th>prob_have_necessary_tools</th>\n",
       "      <th>prob_have_voice_on_campus_valued_member_of_ucsd</th>\n",
       "      <th>prob_internal_processes_effective</th>\n",
       "      <th>prob_parking_transportation</th>\n",
       "      <th>prob_salary_pay</th>\n",
       "      <th>prob_satisfied_with_diversity_progams</th>\n",
       "      <th>prob_supervisor_effectiveness_resolves_staff_issues</th>\n",
       "      <th>pred_adequate_staffing</th>\n",
       "      <th>pred_advancement_and_training_opportunities</th>\n",
       "      <th>pred_appropriate_stress_work_assigned_equitably</th>\n",
       "      <th>pred_benefits</th>\n",
       "      <th>pred_better_ways_recognized_participate_in_decisions</th>\n",
       "      <th>pred_career_advancement</th>\n",
       "      <th>pred_committed_to_diversity</th>\n",
       "      <th>pred_communicates_essential_information</th>\n",
       "      <th>pred_ethical_conduct_perform_responsibilities_spirit_of_cooperation</th>\n",
       "      <th>pred_evaluated_fairly</th>\n",
       "      <th>pred_experienced_discrimination</th>\n",
       "      <th>pred_facilities_workspace_safety</th>\n",
       "      <th>pred_faculty_value_contributions</th>\n",
       "      <th>pred_favoritism_cliques</th>\n",
       "      <th>pred_fear_of_retaliation_negative_consequences</th>\n",
       "      <th>pred_feel_valued_by_department</th>\n",
       "      <th>pred_flexibility_work_life_balance</th>\n",
       "      <th>pred_good_use_of_skills</th>\n",
       "      <th>pred_have_necessary_tools</th>\n",
       "      <th>pred_have_voice_on_campus_valued_member_of_ucsd</th>\n",
       "      <th>pred_internal_processes_effective</th>\n",
       "      <th>pred_parking_transportation</th>\n",
       "      <th>pred_salary_pay</th>\n",
       "      <th>pred_satisfied_with_diversity_progams</th>\n",
       "      <th>pred_supervisor_effectiveness_resolves_staff_issues</th>\n",
       "      <th>threshold_f05</th>\n",
       "      <th>threshold_f1</th>\n",
       "      <th>threshold_f2</th>\n",
       "      <th>val_acc_f05</th>\n",
       "      <th>val_acc_f1</th>\n",
       "      <th>val_acc_f2</th>\n",
       "      <th>val_loss</th>\n",
       "    </tr>\n",
       "  </thead>\n",
       "  <tbody>\n",
       "    <tr>\n",
       "      <th>0</th>\n",
       "      <td>69390</td>\n",
       "      <td>2576</td>\n",
       "      <td>no comment</td>\n",
       "      <td>NaN</td>\n",
       "      <td>English</td>\n",
       "      <td>110</td>\n",
       "      <td>9</td>\n",
       "      <td>SAW</td>\n",
       "      <td>UCSD</td>\n",
       "      <td>175922</td>\n",
       "      <td>EDI</td>\n",
       "      <td>If you would like to elaborate on any of your answers to the conduct and behavioral questions ab...</td>\n",
       "      <td>Verbatim</td>\n",
       "      <td>117.0</td>\n",
       "      <td>Conduct &amp; Behavioral - Comments</td>\n",
       "      <td>EDI</td>\n",
       "      <td>None</td>\n",
       "      <td>None</td>\n",
       "      <td>None</td>\n",
       "      <td>1</td>\n",
       "      <td>455.0</td>\n",
       "      <td>3562</td>\n",
       "      <td>999999.0</td>\n",
       "      <td>UC San Diego</td>\n",
       "      <td>800.0</td>\n",
       "      <td>VICE CHANCELLOR CHIEF FINANCIAL OFFICER</td>\n",
       "      <td>818.0</td>\n",
       "      <td>HOUSING, DINING, HOSPITALITY</td>\n",
       "      <td>444.0</td>\n",
       "      <td>FACILITIES AND BUILDING SERVICES TOTAL STAFF</td>\n",
       "      <td>455.0</td>\n",
       "      <td>FACILITIES AND BUILDING SERVICES ALARMS, LOCK &amp; KEY</td>\n",
       "      <td>NaN</td>\n",
       "      <td>NaN</td>\n",
       "      <td>NaN</td>\n",
       "      <td>NaN</td>\n",
       "      <td>NaN</td>\n",
       "      <td>NaN</td>\n",
       "      <td>0.001966</td>\n",
       "      <td>0.003236</td>\n",
       "      <td>0.007138</td>\n",
       "      <td>0.000055</td>\n",
       "      <td>0.000644</td>\n",
       "      <td>0.000236</td>\n",
       "      <td>0.001841</td>\n",
       "      <td>0.000519</td>\n",
       "      <td>0.006411</td>\n",
       "      <td>0.008533</td>\n",
       "      <td>0.000188</td>\n",
       "      <td>0.004777</td>\n",
       "      <td>0.000998</td>\n",
       "      <td>0.000224</td>\n",
       "      <td>0.015509</td>\n",
       "      <td>0.001519</td>\n",
       "      <td>0.00025</td>\n",
       "      <td>0.000111</td>\n",
       "      <td>0.000058</td>\n",
       "      <td>0.001251</td>\n",
       "      <td>0.000567</td>\n",
       "      <td>0.000108</td>\n",
       "      <td>0.002254</td>\n",
       "      <td>0.227842</td>\n",
       "      <td>0.013337</td>\n",
       "      <td>0</td>\n",
       "      <td>0</td>\n",
       "      <td>0</td>\n",
       "      <td>0</td>\n",
       "      <td>0</td>\n",
       "      <td>0</td>\n",
       "      <td>0</td>\n",
       "      <td>0</td>\n",
       "      <td>0</td>\n",
       "      <td>0</td>\n",
       "      <td>0</td>\n",
       "      <td>0</td>\n",
       "      <td>0</td>\n",
       "      <td>0</td>\n",
       "      <td>0</td>\n",
       "      <td>0</td>\n",
       "      <td>0</td>\n",
       "      <td>0</td>\n",
       "      <td>0</td>\n",
       "      <td>0</td>\n",
       "      <td>0</td>\n",
       "      <td>0</td>\n",
       "      <td>0</td>\n",
       "      <td>0</td>\n",
       "      <td>0</td>\n",
       "      <td>0.27</td>\n",
       "      <td>0.27</td>\n",
       "      <td>0.14</td>\n",
       "      <td>0.980913</td>\n",
       "      <td>0.980913</td>\n",
       "      <td>0.972199</td>\n",
       "      <td>0.079133</td>\n",
       "    </tr>\n",
       "  </tbody>\n",
       "</table>\n",
       "</div>"
      ],
      "text/plain": [
       "      Id  QuestionAnsID  AnswerText AnswerText_NonEnglish Language  SurveyID  SurveyTypeID BenchmarkSurveyType ClientId   RspID QuestionCategoryAbbr                                                                                         QuestionText QuestionClass  QuestionCategoryID               QuestionReportAbbr QuestionCategoryLabel BenchmarkLevel1 BenchmarkLevel2 BenchmarkLevel3 ClientBenchmarkLevel  GroupCode GroupID  GroupLevel1Code GroupLevel1Name  GroupLevel2Code                          GroupLevel2Name  GroupLevel3Code               GroupLevel3Name  GroupLevel4Code                               GroupLevel4Name  GroupLevel5Code                                      GroupLevel5Name  GroupLevel6Code GroupLevel6Name  GroupLevel7Code GroupLevel7Name  GroupLevel8Code GroupLevel8Name  prob_adequate_staffing  prob_advancement_and_training_opportunities  prob_appropriate_stress_work_assigned_equitably  prob_benefits  prob_better_ways_recognized_participate_in_decisions  \\\n",
       "0  69390           2576  no comment                   NaN  English       110             9                 SAW     UCSD  175922                  EDI  If you would like to elaborate on any of your answers to the conduct and behavioral questions ab...      Verbatim               117.0  Conduct & Behavioral - Comments                   EDI            None            None            None                    1      455.0    3562         999999.0    UC San Diego            800.0  VICE CHANCELLOR CHIEF FINANCIAL OFFICER            818.0  HOUSING, DINING, HOSPITALITY            444.0  FACILITIES AND BUILDING SERVICES TOTAL STAFF            455.0  FACILITIES AND BUILDING SERVICES ALARMS, LOCK & KEY              NaN             NaN              NaN             NaN              NaN             NaN                0.001966                                     0.003236                                         0.007138       0.000055                                              0.000644   \n",
       "\n",
       "   prob_career_advancement  prob_committed_to_diversity  prob_communicates_essential_information  prob_ethical_conduct_perform_responsibilities_spirit_of_cooperation  prob_evaluated_fairly  prob_experienced_discrimination  prob_facilities_workspace_safety  prob_faculty_value_contributions  prob_favoritism_cliques  prob_fear_of_retaliation_negative_consequences  prob_feel_valued_by_department  prob_flexibility_work_life_balance  prob_good_use_of_skills  prob_have_necessary_tools  prob_have_voice_on_campus_valued_member_of_ucsd  prob_internal_processes_effective  prob_parking_transportation  prob_salary_pay  prob_satisfied_with_diversity_progams  prob_supervisor_effectiveness_resolves_staff_issues  pred_adequate_staffing  pred_advancement_and_training_opportunities  pred_appropriate_stress_work_assigned_equitably  pred_benefits  pred_better_ways_recognized_participate_in_decisions  pred_career_advancement  pred_committed_to_diversity  pred_communicates_essential_information  \\\n",
       "0                 0.000236                     0.001841                                 0.000519                                                             0.006411               0.008533                         0.000188                          0.004777                          0.000998                 0.000224                                        0.015509                        0.001519                             0.00025                 0.000111                   0.000058                                         0.001251                           0.000567                     0.000108         0.002254                               0.227842                                             0.013337                       0                                            0                                                0              0                                                     0                        0                            0                                        0   \n",
       "\n",
       "   pred_ethical_conduct_perform_responsibilities_spirit_of_cooperation  pred_evaluated_fairly  pred_experienced_discrimination  pred_facilities_workspace_safety  pred_faculty_value_contributions  pred_favoritism_cliques  pred_fear_of_retaliation_negative_consequences  pred_feel_valued_by_department  pred_flexibility_work_life_balance  pred_good_use_of_skills  pred_have_necessary_tools  pred_have_voice_on_campus_valued_member_of_ucsd  pred_internal_processes_effective  pred_parking_transportation  pred_salary_pay  pred_satisfied_with_diversity_progams  pred_supervisor_effectiveness_resolves_staff_issues  threshold_f05  threshold_f1  threshold_f2  val_acc_f05  val_acc_f1  val_acc_f2  val_loss  \n",
       "0                                                                    0                      0                                0                                 0                                 0                        0                                               0                               0                                   0                        0                          0                                                0                                  0                            0                0                                      0                                                    0           0.27          0.27          0.14     0.980913    0.980913    0.972199  0.079133  "
      ]
     },
     "execution_count": 90,
     "metadata": {},
     "output_type": "execute_result"
    }
   ],
   "source": [
    "inf_df.head(1)"
   ]
  },
  {
   "cell_type": "code",
   "execution_count": 91,
   "metadata": {
    "scrolled": true
   },
   "outputs": [],
   "source": [
    "pred_theme_cols = filter_col = [col for col in inf_df if col.startswith('prob_')]\n",
    "# pred_theme_cols"
   ]
  },
  {
   "cell_type": "code",
   "execution_count": 92,
   "metadata": {},
   "outputs": [
    {
     "data": {
      "text/plain": [
       "932700"
      ]
     },
     "execution_count": 92,
     "metadata": {},
     "output_type": "execute_result"
    }
   ],
   "source": [
    "inf_df = inf_df.melt(id_vars=list(lm_dtypes.keys()) + ['threshold_f05', 'threshold_f1', 'threshold_f2', 'val_acc_f05', 'val_acc_f1', 'val_acc_f2', 'val_loss'], \n",
    "                     value_vars=pred_theme_cols, \n",
    "                     var_name='theme', \n",
    "                     value_name='theme_prob')\n",
    "len(inf_df)"
   ]
  },
  {
   "cell_type": "code",
   "execution_count": 93,
   "metadata": {
    "scrolled": true
   },
   "outputs": [
    {
     "data": {
      "text/plain": [
       "69363"
      ]
     },
     "execution_count": 93,
     "metadata": {},
     "output_type": "execute_result"
    }
   ],
   "source": [
    "inf_df = inf_df.loc[inf_df.theme_prob >= inf_df.threshold_f2]\n",
    "len(inf_df)"
   ]
  },
  {
   "cell_type": "code",
   "execution_count": 94,
   "metadata": {},
   "outputs": [],
   "source": [
    "inf_df['url_friendly_theme'] = inf_df.theme.apply(\n",
    "    lambda s: re.sub(\"(.*?)_([a-zA-Z])\",\"\\g<1> \\g<2>\",s).replace('prob', '').strip().title().replace(' ',''))\n",
    "\n",
    "inf_df['theme'] = inf_df.url_friendly_theme.apply(lambda s: re.sub(\"([a-z])([A-Z])\",\"\\g<1> \\g<2>\",s))"
   ]
  },
  {
   "cell_type": "code",
   "execution_count": 95,
   "metadata": {},
   "outputs": [],
   "source": [
    "inf_df.reset_index(inplace=True)"
   ]
  },
  {
   "cell_type": "code",
   "execution_count": 96,
   "metadata": {},
   "outputs": [
    {
     "data": {
      "text/html": [
       "<div>\n",
       "<style scoped>\n",
       "    .dataframe tbody tr th:only-of-type {\n",
       "        vertical-align: middle;\n",
       "    }\n",
       "\n",
       "    .dataframe tbody tr th {\n",
       "        vertical-align: top;\n",
       "    }\n",
       "\n",
       "    .dataframe thead th {\n",
       "        text-align: right;\n",
       "    }\n",
       "</style>\n",
       "<table border=\"1\" class=\"dataframe\">\n",
       "  <thead>\n",
       "    <tr style=\"text-align: right;\">\n",
       "      <th></th>\n",
       "      <th>index</th>\n",
       "      <th>Id</th>\n",
       "      <th>QuestionAnsID</th>\n",
       "      <th>AnswerText</th>\n",
       "      <th>AnswerText_NonEnglish</th>\n",
       "      <th>Language</th>\n",
       "      <th>SurveyID</th>\n",
       "      <th>SurveyTypeID</th>\n",
       "      <th>BenchmarkSurveyType</th>\n",
       "      <th>ClientId</th>\n",
       "      <th>RspID</th>\n",
       "      <th>QuestionCategoryAbbr</th>\n",
       "      <th>QuestionText</th>\n",
       "      <th>QuestionClass</th>\n",
       "      <th>QuestionCategoryID</th>\n",
       "      <th>QuestionReportAbbr</th>\n",
       "      <th>QuestionCategoryLabel</th>\n",
       "      <th>BenchmarkLevel1</th>\n",
       "      <th>BenchmarkLevel2</th>\n",
       "      <th>BenchmarkLevel3</th>\n",
       "      <th>ClientBenchmarkLevel</th>\n",
       "      <th>GroupCode</th>\n",
       "      <th>GroupID</th>\n",
       "      <th>GroupLevel1Code</th>\n",
       "      <th>GroupLevel1Name</th>\n",
       "      <th>GroupLevel2Code</th>\n",
       "      <th>GroupLevel2Name</th>\n",
       "      <th>GroupLevel3Code</th>\n",
       "      <th>GroupLevel3Name</th>\n",
       "      <th>GroupLevel4Code</th>\n",
       "      <th>GroupLevel4Name</th>\n",
       "      <th>GroupLevel5Code</th>\n",
       "      <th>GroupLevel5Name</th>\n",
       "      <th>GroupLevel6Code</th>\n",
       "      <th>GroupLevel6Name</th>\n",
       "      <th>GroupLevel7Code</th>\n",
       "      <th>GroupLevel7Name</th>\n",
       "      <th>GroupLevel8Code</th>\n",
       "      <th>GroupLevel8Name</th>\n",
       "      <th>threshold_f05</th>\n",
       "      <th>threshold_f1</th>\n",
       "      <th>threshold_f2</th>\n",
       "      <th>val_acc_f05</th>\n",
       "      <th>val_acc_f1</th>\n",
       "      <th>val_acc_f2</th>\n",
       "      <th>val_loss</th>\n",
       "      <th>theme</th>\n",
       "      <th>theme_prob</th>\n",
       "      <th>url_friendly_theme</th>\n",
       "    </tr>\n",
       "  </thead>\n",
       "  <tbody>\n",
       "    <tr>\n",
       "      <th>0</th>\n",
       "      <td>7</td>\n",
       "      <td>144569</td>\n",
       "      <td>1877</td>\n",
       "      <td>We are at least five people down in my department and there are many who are carrying at least t...</td>\n",
       "      <td>NaN</td>\n",
       "      <td>English</td>\n",
       "      <td>120</td>\n",
       "      <td>9</td>\n",
       "      <td>SAW</td>\n",
       "      <td>UCSD</td>\n",
       "      <td>108611</td>\n",
       "      <td>SAT</td>\n",
       "      <td>If you would like to elaborate on your responses above, or if you have any additional feedback r...</td>\n",
       "      <td>Verbatim</td>\n",
       "      <td>114.0</td>\n",
       "      <td>Comments re Work Environment at UCSD</td>\n",
       "      <td>Satisfaction with UC San Diego</td>\n",
       "      <td>None</td>\n",
       "      <td>None</td>\n",
       "      <td>None</td>\n",
       "      <td>1</td>\n",
       "      <td>NaN</td>\n",
       "      <td>2579</td>\n",
       "      <td>NaN</td>\n",
       "      <td>NaN</td>\n",
       "      <td>NaN</td>\n",
       "      <td>NaN</td>\n",
       "      <td>NaN</td>\n",
       "      <td>NaN</td>\n",
       "      <td>NaN</td>\n",
       "      <td>NaN</td>\n",
       "      <td>NaN</td>\n",
       "      <td>NaN</td>\n",
       "      <td>NaN</td>\n",
       "      <td>NaN</td>\n",
       "      <td>NaN</td>\n",
       "      <td>NaN</td>\n",
       "      <td>NaN</td>\n",
       "      <td>NaN</td>\n",
       "      <td>0.27</td>\n",
       "      <td>0.27</td>\n",
       "      <td>0.14</td>\n",
       "      <td>0.980913</td>\n",
       "      <td>0.980913</td>\n",
       "      <td>0.972199</td>\n",
       "      <td>0.079133</td>\n",
       "      <td>Adequate Staffing</td>\n",
       "      <td>0.373670</td>\n",
       "      <td>AdequateStaffing</td>\n",
       "    </tr>\n",
       "    <tr>\n",
       "      <th>1</th>\n",
       "      <td>8</td>\n",
       "      <td>424896</td>\n",
       "      <td>76290</td>\n",
       "      <td>Even when fully staffed there is much more work than can be done in a reasonable amount of time.</td>\n",
       "      <td>NaN</td>\n",
       "      <td>English</td>\n",
       "      <td>197</td>\n",
       "      <td>38</td>\n",
       "      <td>SAW</td>\n",
       "      <td>UCD</td>\n",
       "      <td>379967</td>\n",
       "      <td>NaN</td>\n",
       "      <td>If you would like to elaborate on any of your responses to the questions above, please do so her...</td>\n",
       "      <td>NaN</td>\n",
       "      <td>NaN</td>\n",
       "      <td>Additional Comments</td>\n",
       "      <td>NaN</td>\n",
       "      <td>NaN</td>\n",
       "      <td>NaN</td>\n",
       "      <td>NaN</td>\n",
       "      <td>NaN</td>\n",
       "      <td>121000.0</td>\n",
       "      <td>4873</td>\n",
       "      <td>999999.0</td>\n",
       "      <td>UC Davis</td>\n",
       "      <td>100000.0</td>\n",
       "      <td>Finance, Operations and Administration</td>\n",
       "      <td>120000.0</td>\n",
       "      <td>Administrative IT</td>\n",
       "      <td>121000.0</td>\n",
       "      <td>Client &amp; Infrastructure Services</td>\n",
       "      <td>NaN</td>\n",
       "      <td>NaN</td>\n",
       "      <td>NaN</td>\n",
       "      <td>NaN</td>\n",
       "      <td>NaN</td>\n",
       "      <td>NaN</td>\n",
       "      <td>NaN</td>\n",
       "      <td>NaN</td>\n",
       "      <td>0.27</td>\n",
       "      <td>0.27</td>\n",
       "      <td>0.14</td>\n",
       "      <td>0.980913</td>\n",
       "      <td>0.980913</td>\n",
       "      <td>0.972199</td>\n",
       "      <td>0.079133</td>\n",
       "      <td>Adequate Staffing</td>\n",
       "      <td>0.827684</td>\n",
       "      <td>AdequateStaffing</td>\n",
       "    </tr>\n",
       "    <tr>\n",
       "      <th>2</th>\n",
       "      <td>18</td>\n",
       "      <td>187417</td>\n",
       "      <td>1877</td>\n",
       "      <td>My neutral or negative comments are not related to my department. Lack of funding for positions ...</td>\n",
       "      <td>NaN</td>\n",
       "      <td>English</td>\n",
       "      <td>121</td>\n",
       "      <td>9</td>\n",
       "      <td>SAW</td>\n",
       "      <td>UCSD</td>\n",
       "      <td>122425</td>\n",
       "      <td>SAT</td>\n",
       "      <td>If you would like to elaborate on your responses above, or if you have any additional feedback r...</td>\n",
       "      <td>Verbatim</td>\n",
       "      <td>114.0</td>\n",
       "      <td>Comments re Work Environment at UCSD</td>\n",
       "      <td>Satisfaction with UC San Diego</td>\n",
       "      <td>None</td>\n",
       "      <td>None</td>\n",
       "      <td>None</td>\n",
       "      <td>1</td>\n",
       "      <td>NaN</td>\n",
       "      <td>1930</td>\n",
       "      <td>NaN</td>\n",
       "      <td>NaN</td>\n",
       "      <td>NaN</td>\n",
       "      <td>NaN</td>\n",
       "      <td>NaN</td>\n",
       "      <td>NaN</td>\n",
       "      <td>NaN</td>\n",
       "      <td>NaN</td>\n",
       "      <td>NaN</td>\n",
       "      <td>NaN</td>\n",
       "      <td>NaN</td>\n",
       "      <td>NaN</td>\n",
       "      <td>NaN</td>\n",
       "      <td>NaN</td>\n",
       "      <td>NaN</td>\n",
       "      <td>NaN</td>\n",
       "      <td>0.27</td>\n",
       "      <td>0.27</td>\n",
       "      <td>0.14</td>\n",
       "      <td>0.980913</td>\n",
       "      <td>0.980913</td>\n",
       "      <td>0.972199</td>\n",
       "      <td>0.079133</td>\n",
       "      <td>Adequate Staffing</td>\n",
       "      <td>0.626001</td>\n",
       "      <td>AdequateStaffing</td>\n",
       "    </tr>\n",
       "    <tr>\n",
       "      <th>3</th>\n",
       "      <td>35</td>\n",
       "      <td>581648</td>\n",
       "      <td>87097</td>\n",
       "      <td>Patrick Krug\\r\\nRobert Nissen</td>\n",
       "      <td>NaN</td>\n",
       "      <td>English</td>\n",
       "      <td>209</td>\n",
       "      <td>41</td>\n",
       "      <td>SAW-FACULTY</td>\n",
       "      <td>CSLA-Faculty</td>\n",
       "      <td>432197</td>\n",
       "      <td>NaN</td>\n",
       "      <td>Would you like to highlight a faculty or staff member who has made a particular impact on creati...</td>\n",
       "      <td>Verbatim</td>\n",
       "      <td>NaN</td>\n",
       "      <td>Recognize Colleague</td>\n",
       "      <td>NaN</td>\n",
       "      <td>NaN</td>\n",
       "      <td>NaN</td>\n",
       "      <td>NaN</td>\n",
       "      <td>NaN</td>\n",
       "      <td>NaN</td>\n",
       "      <td>5268</td>\n",
       "      <td>NaN</td>\n",
       "      <td>NaN</td>\n",
       "      <td>NaN</td>\n",
       "      <td>NaN</td>\n",
       "      <td>NaN</td>\n",
       "      <td>NaN</td>\n",
       "      <td>NaN</td>\n",
       "      <td>NaN</td>\n",
       "      <td>NaN</td>\n",
       "      <td>NaN</td>\n",
       "      <td>NaN</td>\n",
       "      <td>NaN</td>\n",
       "      <td>NaN</td>\n",
       "      <td>NaN</td>\n",
       "      <td>NaN</td>\n",
       "      <td>NaN</td>\n",
       "      <td>0.27</td>\n",
       "      <td>0.27</td>\n",
       "      <td>0.14</td>\n",
       "      <td>0.980913</td>\n",
       "      <td>0.980913</td>\n",
       "      <td>0.972199</td>\n",
       "      <td>0.079133</td>\n",
       "      <td>Adequate Staffing</td>\n",
       "      <td>0.292417</td>\n",
       "      <td>AdequateStaffing</td>\n",
       "    </tr>\n",
       "    <tr>\n",
       "      <th>4</th>\n",
       "      <td>37</td>\n",
       "      <td>590077</td>\n",
       "      <td>9439</td>\n",
       "      <td>With so many new systems coming on board, it is integral to continue, and expand, communications...</td>\n",
       "      <td>NaN</td>\n",
       "      <td>English</td>\n",
       "      <td>212</td>\n",
       "      <td>9</td>\n",
       "      <td>SAW</td>\n",
       "      <td>UCSD</td>\n",
       "      <td>445617</td>\n",
       "      <td>None</td>\n",
       "      <td>The Standing Committee on Service and People Oriented Culture (SC-SPOC) is interested in learnin...</td>\n",
       "      <td>Verbatim</td>\n",
       "      <td>201.0</td>\n",
       "      <td>IdeaWave Comments</td>\n",
       "      <td>Other</td>\n",
       "      <td>None</td>\n",
       "      <td>None</td>\n",
       "      <td>None</td>\n",
       "      <td>1</td>\n",
       "      <td>10201.0</td>\n",
       "      <td>3441</td>\n",
       "      <td>999999.0</td>\n",
       "      <td>UC San Diego</td>\n",
       "      <td>10000.0</td>\n",
       "      <td>ACADEMIC AFFAIRS</td>\n",
       "      <td>10002.0</td>\n",
       "      <td>DIVISIONS/SCHOOLS</td>\n",
       "      <td>10004.0</td>\n",
       "      <td>BIOLOGICAL SCIENCES</td>\n",
       "      <td>10201.0</td>\n",
       "      <td>BIOLOGY - DEAN/ADMIN SUPPORT</td>\n",
       "      <td>NaN</td>\n",
       "      <td>NaN</td>\n",
       "      <td>NaN</td>\n",
       "      <td>NaN</td>\n",
       "      <td>NaN</td>\n",
       "      <td>NaN</td>\n",
       "      <td>0.27</td>\n",
       "      <td>0.27</td>\n",
       "      <td>0.14</td>\n",
       "      <td>0.980913</td>\n",
       "      <td>0.980913</td>\n",
       "      <td>0.972199</td>\n",
       "      <td>0.079133</td>\n",
       "      <td>Adequate Staffing</td>\n",
       "      <td>0.272820</td>\n",
       "      <td>AdequateStaffing</td>\n",
       "    </tr>\n",
       "  </tbody>\n",
       "</table>\n",
       "</div>"
      ],
      "text/plain": [
       "   index      Id  QuestionAnsID                                                                                           AnswerText AnswerText_NonEnglish Language  SurveyID  SurveyTypeID BenchmarkSurveyType      ClientId   RspID QuestionCategoryAbbr                                                                                         QuestionText QuestionClass  QuestionCategoryID                    QuestionReportAbbr           QuestionCategoryLabel BenchmarkLevel1 BenchmarkLevel2 BenchmarkLevel3 ClientBenchmarkLevel  GroupCode GroupID  GroupLevel1Code GroupLevel1Name  GroupLevel2Code                         GroupLevel2Name  GroupLevel3Code    GroupLevel3Name  GroupLevel4Code                   GroupLevel4Name  GroupLevel5Code               GroupLevel5Name  GroupLevel6Code GroupLevel6Name  GroupLevel7Code GroupLevel7Name  GroupLevel8Code GroupLevel8Name  threshold_f05  threshold_f1  threshold_f2  val_acc_f05  val_acc_f1  val_acc_f2  val_loss              theme  theme_prob  \\\n",
       "0      7  144569           1877  We are at least five people down in my department and there are many who are carrying at least t...                   NaN  English       120             9                 SAW          UCSD  108611                  SAT  If you would like to elaborate on your responses above, or if you have any additional feedback r...      Verbatim               114.0  Comments re Work Environment at UCSD  Satisfaction with UC San Diego            None            None            None                    1        NaN    2579              NaN             NaN              NaN                                     NaN              NaN                NaN              NaN                               NaN              NaN                           NaN              NaN             NaN              NaN             NaN              NaN             NaN           0.27          0.27          0.14     0.980913    0.980913    0.972199  0.079133  Adequate Staffing    0.373670   \n",
       "1      8  424896          76290     Even when fully staffed there is much more work than can be done in a reasonable amount of time.                   NaN  English       197            38                 SAW           UCD  379967                  NaN  If you would like to elaborate on any of your responses to the questions above, please do so her...           NaN                 NaN                   Additional Comments                             NaN             NaN             NaN             NaN                  NaN   121000.0    4873         999999.0        UC Davis         100000.0  Finance, Operations and Administration         120000.0  Administrative IT         121000.0  Client & Infrastructure Services              NaN                           NaN              NaN             NaN              NaN             NaN              NaN             NaN           0.27          0.27          0.14     0.980913    0.980913    0.972199  0.079133  Adequate Staffing    0.827684   \n",
       "2     18  187417           1877  My neutral or negative comments are not related to my department. Lack of funding for positions ...                   NaN  English       121             9                 SAW          UCSD  122425                  SAT  If you would like to elaborate on your responses above, or if you have any additional feedback r...      Verbatim               114.0  Comments re Work Environment at UCSD  Satisfaction with UC San Diego            None            None            None                    1        NaN    1930              NaN             NaN              NaN                                     NaN              NaN                NaN              NaN                               NaN              NaN                           NaN              NaN             NaN              NaN             NaN              NaN             NaN           0.27          0.27          0.14     0.980913    0.980913    0.972199  0.079133  Adequate Staffing    0.626001   \n",
       "3     35  581648          87097                                                                        Patrick Krug\\r\\nRobert Nissen                   NaN  English       209            41         SAW-FACULTY  CSLA-Faculty  432197                  NaN  Would you like to highlight a faculty or staff member who has made a particular impact on creati...      Verbatim                 NaN                   Recognize Colleague                             NaN             NaN             NaN             NaN                  NaN        NaN    5268              NaN             NaN              NaN                                     NaN              NaN                NaN              NaN                               NaN              NaN                           NaN              NaN             NaN              NaN             NaN              NaN             NaN           0.27          0.27          0.14     0.980913    0.980913    0.972199  0.079133  Adequate Staffing    0.292417   \n",
       "4     37  590077           9439  With so many new systems coming on board, it is integral to continue, and expand, communications...                   NaN  English       212             9                 SAW          UCSD  445617                 None  The Standing Committee on Service and People Oriented Culture (SC-SPOC) is interested in learnin...      Verbatim               201.0                     IdeaWave Comments                           Other            None            None            None                    1    10201.0    3441         999999.0    UC San Diego          10000.0                        ACADEMIC AFFAIRS          10002.0  DIVISIONS/SCHOOLS          10004.0               BIOLOGICAL SCIENCES          10201.0  BIOLOGY - DEAN/ADMIN SUPPORT              NaN             NaN              NaN             NaN              NaN             NaN           0.27          0.27          0.14     0.980913    0.980913    0.972199  0.079133  Adequate Staffing    0.272820   \n",
       "\n",
       "  url_friendly_theme  \n",
       "0   AdequateStaffing  \n",
       "1   AdequateStaffing  \n",
       "2   AdequateStaffing  \n",
       "3   AdequateStaffing  \n",
       "4   AdequateStaffing  "
      ]
     },
     "execution_count": 96,
     "metadata": {},
     "output_type": "execute_result"
    }
   ],
   "source": [
    "inf_df.head()"
   ]
  },
  {
   "cell_type": "code",
   "execution_count": 97,
   "metadata": {},
   "outputs": [],
   "source": [
    "def get_classification_results(backwards:bool=False, m_suf:str='multilabel'):\n",
    "    \n",
    "    model_prefix = 'bwd' if backwards else 'fwd'\n",
    "    \n",
    "    # 1. grab learner, procs, and data\n",
    "    inf_learn = load_learner(STANDARD_THEME_META_PATH, file=f'{model_prefix}_export_clas_{m_suf}.pkl')\n",
    "    txt_procs = inf_learn.data.train_ds.processor\n",
    "    inf_data = TextList.from_df(inf_df, cols=corpus_cols, processor=txt_procs).split_none().label_empty()\n",
    "    \n",
    "    # 2. define a suitable dataloader\n",
    "    collate_fn = partial(pad_collate, pad_first=True, backwards=backwards)\n",
    "    sampler = SortSampler(inf_data.train.x, key=[len(t) for t in inf_data.train.x.items].__getitem__)\n",
    "    dl = DeviceDataLoader.create(inf_data.train, bs=128, sampler=sampler, collate_fn=collate_fn, device=device)\n",
    "    \n",
    "    # 3. get probs and document vectors\n",
    "    inf_learn.model = inf_learn.model.to(device)\n",
    "    inf_learn.model = inf_learn.model.eval()\n",
    "    \n",
    "    test_probs, doc_vecs, concat_doc_vecs = [], [], []\n",
    "    with torch.no_grad():\n",
    "        for index, (xb, yb) in enumerate(dl):\n",
    "            if index % 1000 == 0:  print(index)\n",
    "\n",
    "            # reset hidden state (if you don't do this you will OOM)\n",
    "            inf_learn.model.reset()\n",
    "\n",
    "            # why \"detach\"? the computation of gradients wrt the weights of netG can be fully \n",
    "            # avoided in the backward pass if the graph is detached where it is.\n",
    "            probs, raw_outputs, outputs = inf_learn.model(xb)\n",
    "            test_probs.append(to_detach(probs))\n",
    "\n",
    "\n",
    "    all_probs = torch.cat(test_probs)\n",
    "\n",
    "    # 4. ensure results are returned in order\n",
    "    if hasattr(dl, 'sampler'):\n",
    "        sampler_idxs = [i for i in dl.sampler]\n",
    "        reverse_sampler = np.argsort(sampler_idxs)\n",
    "        all_probs = all_probs[reverse_sampler]\n",
    "        \n",
    "    # 5. return ordered results\n",
    "    inf_learn, inf_data = None, None; gc.collect()\n",
    "    \n",
    "    return all_probs"
   ]
  },
  {
   "cell_type": "code",
   "execution_count": 98,
   "metadata": {},
   "outputs": [
    {
     "name": "stdout",
     "output_type": "stream",
     "text": [
      "0\n",
      "torch.Size([69363, 2])\n",
      "torch.Size([69363, 2])\n",
      "torch.Size([69363, 2])\n"
     ]
    }
   ],
   "source": [
    "%time\n",
    "\n",
    "probs_fwd = get_classification_results(backwards=False, m_suf='multitask')\n",
    "probs_bwd = get_classification_results(backwards=True, m_suf='multitask')\n",
    "\n",
    "probs_fwd[:,1] = torch.sigmoid(probs_fwd[:,1])\n",
    "probs_bwd[:,1] = torch.sigmoid(probs_bwd[:,1])\n",
    "\n",
    "probs_final = (probs_fwd + probs_bwd) / 2\n",
    "\n",
    "print(probs_final.shape)\n",
    "print(probs_fwd.shape)\n",
    "print(probs_bwd.shape)"
   ]
  },
  {
   "cell_type": "markdown",
   "metadata": {},
   "source": [
    "Add the probabilities of each label to `inf_df`"
   ]
  },
  {
   "cell_type": "code",
   "execution_count": 99,
   "metadata": {
    "scrolled": true
   },
   "outputs": [
    {
     "data": {
      "text/html": [
       "<div>\n",
       "<style scoped>\n",
       "    .dataframe tbody tr th:only-of-type {\n",
       "        vertical-align: middle;\n",
       "    }\n",
       "\n",
       "    .dataframe tbody tr th {\n",
       "        vertical-align: top;\n",
       "    }\n",
       "\n",
       "    .dataframe thead th {\n",
       "        text-align: right;\n",
       "    }\n",
       "</style>\n",
       "<table border=\"1\" class=\"dataframe\">\n",
       "  <thead>\n",
       "    <tr style=\"text-align: right;\">\n",
       "      <th></th>\n",
       "      <th>prob_avg_sentiment</th>\n",
       "      <th>prob_is_example</th>\n",
       "    </tr>\n",
       "  </thead>\n",
       "  <tbody>\n",
       "    <tr>\n",
       "      <th>0</th>\n",
       "      <td>2.495984</td>\n",
       "      <td>0.289978</td>\n",
       "    </tr>\n",
       "    <tr>\n",
       "      <th>1</th>\n",
       "      <td>2.847534</td>\n",
       "      <td>0.224968</td>\n",
       "    </tr>\n",
       "    <tr>\n",
       "      <th>2</th>\n",
       "      <td>2.388277</td>\n",
       "      <td>0.337524</td>\n",
       "    </tr>\n",
       "    <tr>\n",
       "      <th>3</th>\n",
       "      <td>3.723387</td>\n",
       "      <td>0.391268</td>\n",
       "    </tr>\n",
       "    <tr>\n",
       "      <th>4</th>\n",
       "      <td>2.927198</td>\n",
       "      <td>0.559345</td>\n",
       "    </tr>\n",
       "  </tbody>\n",
       "</table>\n",
       "</div>"
      ],
      "text/plain": [
       "   prob_avg_sentiment  prob_is_example\n",
       "0            2.495984         0.289978\n",
       "1            2.847534         0.224968\n",
       "2            2.388277         0.337524\n",
       "3            3.723387         0.391268\n",
       "4            2.927198         0.559345"
      ]
     },
     "execution_count": 99,
     "metadata": {},
     "output_type": "execute_result"
    }
   ],
   "source": [
    "prob_labels = ['prob_' + lbl for lbl in STANDARD_THEME_META_LABELS]\n",
    "probs_df = pd.DataFrame(probs_final.numpy(), columns=prob_labels)\n",
    "probs_df.head()"
   ]
  },
  {
   "cell_type": "code",
   "execution_count": 100,
   "metadata": {},
   "outputs": [
    {
     "data": {
      "text/html": [
       "<div>\n",
       "<style scoped>\n",
       "    .dataframe tbody tr th:only-of-type {\n",
       "        vertical-align: middle;\n",
       "    }\n",
       "\n",
       "    .dataframe tbody tr th {\n",
       "        vertical-align: top;\n",
       "    }\n",
       "\n",
       "    .dataframe thead th {\n",
       "        text-align: right;\n",
       "    }\n",
       "</style>\n",
       "<table border=\"1\" class=\"dataframe\">\n",
       "  <thead>\n",
       "    <tr style=\"text-align: right;\">\n",
       "      <th></th>\n",
       "      <th>index</th>\n",
       "      <th>Id</th>\n",
       "      <th>QuestionAnsID</th>\n",
       "      <th>AnswerText</th>\n",
       "      <th>AnswerText_NonEnglish</th>\n",
       "      <th>Language</th>\n",
       "      <th>SurveyID</th>\n",
       "      <th>SurveyTypeID</th>\n",
       "      <th>BenchmarkSurveyType</th>\n",
       "      <th>ClientId</th>\n",
       "      <th>RspID</th>\n",
       "      <th>QuestionCategoryAbbr</th>\n",
       "      <th>QuestionText</th>\n",
       "      <th>QuestionClass</th>\n",
       "      <th>QuestionCategoryID</th>\n",
       "      <th>QuestionReportAbbr</th>\n",
       "      <th>QuestionCategoryLabel</th>\n",
       "      <th>BenchmarkLevel1</th>\n",
       "      <th>BenchmarkLevel2</th>\n",
       "      <th>BenchmarkLevel3</th>\n",
       "      <th>ClientBenchmarkLevel</th>\n",
       "      <th>GroupCode</th>\n",
       "      <th>GroupID</th>\n",
       "      <th>GroupLevel1Code</th>\n",
       "      <th>GroupLevel1Name</th>\n",
       "      <th>GroupLevel2Code</th>\n",
       "      <th>GroupLevel2Name</th>\n",
       "      <th>GroupLevel3Code</th>\n",
       "      <th>GroupLevel3Name</th>\n",
       "      <th>GroupLevel4Code</th>\n",
       "      <th>GroupLevel4Name</th>\n",
       "      <th>GroupLevel5Code</th>\n",
       "      <th>GroupLevel5Name</th>\n",
       "      <th>GroupLevel6Code</th>\n",
       "      <th>GroupLevel6Name</th>\n",
       "      <th>GroupLevel7Code</th>\n",
       "      <th>GroupLevel7Name</th>\n",
       "      <th>GroupLevel8Code</th>\n",
       "      <th>GroupLevel8Name</th>\n",
       "      <th>threshold_f05</th>\n",
       "      <th>threshold_f1</th>\n",
       "      <th>threshold_f2</th>\n",
       "      <th>val_acc_f05</th>\n",
       "      <th>val_acc_f1</th>\n",
       "      <th>val_acc_f2</th>\n",
       "      <th>val_loss</th>\n",
       "      <th>theme</th>\n",
       "      <th>theme_prob</th>\n",
       "      <th>url_friendly_theme</th>\n",
       "      <th>prob_avg_sentiment</th>\n",
       "      <th>prob_is_example</th>\n",
       "    </tr>\n",
       "  </thead>\n",
       "  <tbody>\n",
       "    <tr>\n",
       "      <th>0</th>\n",
       "      <td>7</td>\n",
       "      <td>144569</td>\n",
       "      <td>1877</td>\n",
       "      <td>We are at least five people down in my department and there are many who are carrying at least t...</td>\n",
       "      <td>NaN</td>\n",
       "      <td>English</td>\n",
       "      <td>120</td>\n",
       "      <td>9</td>\n",
       "      <td>SAW</td>\n",
       "      <td>UCSD</td>\n",
       "      <td>108611</td>\n",
       "      <td>SAT</td>\n",
       "      <td>If you would like to elaborate on your responses above, or if you have any additional feedback r...</td>\n",
       "      <td>Verbatim</td>\n",
       "      <td>114.0</td>\n",
       "      <td>Comments re Work Environment at UCSD</td>\n",
       "      <td>Satisfaction with UC San Diego</td>\n",
       "      <td>None</td>\n",
       "      <td>None</td>\n",
       "      <td>None</td>\n",
       "      <td>1</td>\n",
       "      <td>NaN</td>\n",
       "      <td>2579</td>\n",
       "      <td>NaN</td>\n",
       "      <td>NaN</td>\n",
       "      <td>NaN</td>\n",
       "      <td>NaN</td>\n",
       "      <td>NaN</td>\n",
       "      <td>NaN</td>\n",
       "      <td>NaN</td>\n",
       "      <td>NaN</td>\n",
       "      <td>NaN</td>\n",
       "      <td>NaN</td>\n",
       "      <td>NaN</td>\n",
       "      <td>NaN</td>\n",
       "      <td>NaN</td>\n",
       "      <td>NaN</td>\n",
       "      <td>NaN</td>\n",
       "      <td>NaN</td>\n",
       "      <td>0.27</td>\n",
       "      <td>0.27</td>\n",
       "      <td>0.14</td>\n",
       "      <td>0.980913</td>\n",
       "      <td>0.980913</td>\n",
       "      <td>0.972199</td>\n",
       "      <td>0.079133</td>\n",
       "      <td>Adequate Staffing</td>\n",
       "      <td>0.373670</td>\n",
       "      <td>AdequateStaffing</td>\n",
       "      <td>2.495984</td>\n",
       "      <td>0.289978</td>\n",
       "    </tr>\n",
       "    <tr>\n",
       "      <th>1</th>\n",
       "      <td>8</td>\n",
       "      <td>424896</td>\n",
       "      <td>76290</td>\n",
       "      <td>Even when fully staffed there is much more work than can be done in a reasonable amount of time.</td>\n",
       "      <td>NaN</td>\n",
       "      <td>English</td>\n",
       "      <td>197</td>\n",
       "      <td>38</td>\n",
       "      <td>SAW</td>\n",
       "      <td>UCD</td>\n",
       "      <td>379967</td>\n",
       "      <td>NaN</td>\n",
       "      <td>If you would like to elaborate on any of your responses to the questions above, please do so her...</td>\n",
       "      <td>NaN</td>\n",
       "      <td>NaN</td>\n",
       "      <td>Additional Comments</td>\n",
       "      <td>NaN</td>\n",
       "      <td>NaN</td>\n",
       "      <td>NaN</td>\n",
       "      <td>NaN</td>\n",
       "      <td>NaN</td>\n",
       "      <td>121000.0</td>\n",
       "      <td>4873</td>\n",
       "      <td>999999.0</td>\n",
       "      <td>UC Davis</td>\n",
       "      <td>100000.0</td>\n",
       "      <td>Finance, Operations and Administration</td>\n",
       "      <td>120000.0</td>\n",
       "      <td>Administrative IT</td>\n",
       "      <td>121000.0</td>\n",
       "      <td>Client &amp; Infrastructure Services</td>\n",
       "      <td>NaN</td>\n",
       "      <td>NaN</td>\n",
       "      <td>NaN</td>\n",
       "      <td>NaN</td>\n",
       "      <td>NaN</td>\n",
       "      <td>NaN</td>\n",
       "      <td>NaN</td>\n",
       "      <td>NaN</td>\n",
       "      <td>0.27</td>\n",
       "      <td>0.27</td>\n",
       "      <td>0.14</td>\n",
       "      <td>0.980913</td>\n",
       "      <td>0.980913</td>\n",
       "      <td>0.972199</td>\n",
       "      <td>0.079133</td>\n",
       "      <td>Adequate Staffing</td>\n",
       "      <td>0.827684</td>\n",
       "      <td>AdequateStaffing</td>\n",
       "      <td>2.847534</td>\n",
       "      <td>0.224968</td>\n",
       "    </tr>\n",
       "    <tr>\n",
       "      <th>2</th>\n",
       "      <td>18</td>\n",
       "      <td>187417</td>\n",
       "      <td>1877</td>\n",
       "      <td>My neutral or negative comments are not related to my department. Lack of funding for positions ...</td>\n",
       "      <td>NaN</td>\n",
       "      <td>English</td>\n",
       "      <td>121</td>\n",
       "      <td>9</td>\n",
       "      <td>SAW</td>\n",
       "      <td>UCSD</td>\n",
       "      <td>122425</td>\n",
       "      <td>SAT</td>\n",
       "      <td>If you would like to elaborate on your responses above, or if you have any additional feedback r...</td>\n",
       "      <td>Verbatim</td>\n",
       "      <td>114.0</td>\n",
       "      <td>Comments re Work Environment at UCSD</td>\n",
       "      <td>Satisfaction with UC San Diego</td>\n",
       "      <td>None</td>\n",
       "      <td>None</td>\n",
       "      <td>None</td>\n",
       "      <td>1</td>\n",
       "      <td>NaN</td>\n",
       "      <td>1930</td>\n",
       "      <td>NaN</td>\n",
       "      <td>NaN</td>\n",
       "      <td>NaN</td>\n",
       "      <td>NaN</td>\n",
       "      <td>NaN</td>\n",
       "      <td>NaN</td>\n",
       "      <td>NaN</td>\n",
       "      <td>NaN</td>\n",
       "      <td>NaN</td>\n",
       "      <td>NaN</td>\n",
       "      <td>NaN</td>\n",
       "      <td>NaN</td>\n",
       "      <td>NaN</td>\n",
       "      <td>NaN</td>\n",
       "      <td>NaN</td>\n",
       "      <td>NaN</td>\n",
       "      <td>0.27</td>\n",
       "      <td>0.27</td>\n",
       "      <td>0.14</td>\n",
       "      <td>0.980913</td>\n",
       "      <td>0.980913</td>\n",
       "      <td>0.972199</td>\n",
       "      <td>0.079133</td>\n",
       "      <td>Adequate Staffing</td>\n",
       "      <td>0.626001</td>\n",
       "      <td>AdequateStaffing</td>\n",
       "      <td>2.388277</td>\n",
       "      <td>0.337524</td>\n",
       "    </tr>\n",
       "    <tr>\n",
       "      <th>3</th>\n",
       "      <td>35</td>\n",
       "      <td>581648</td>\n",
       "      <td>87097</td>\n",
       "      <td>Patrick Krug\\r\\nRobert Nissen</td>\n",
       "      <td>NaN</td>\n",
       "      <td>English</td>\n",
       "      <td>209</td>\n",
       "      <td>41</td>\n",
       "      <td>SAW-FACULTY</td>\n",
       "      <td>CSLA-Faculty</td>\n",
       "      <td>432197</td>\n",
       "      <td>NaN</td>\n",
       "      <td>Would you like to highlight a faculty or staff member who has made a particular impact on creati...</td>\n",
       "      <td>Verbatim</td>\n",
       "      <td>NaN</td>\n",
       "      <td>Recognize Colleague</td>\n",
       "      <td>NaN</td>\n",
       "      <td>NaN</td>\n",
       "      <td>NaN</td>\n",
       "      <td>NaN</td>\n",
       "      <td>NaN</td>\n",
       "      <td>NaN</td>\n",
       "      <td>5268</td>\n",
       "      <td>NaN</td>\n",
       "      <td>NaN</td>\n",
       "      <td>NaN</td>\n",
       "      <td>NaN</td>\n",
       "      <td>NaN</td>\n",
       "      <td>NaN</td>\n",
       "      <td>NaN</td>\n",
       "      <td>NaN</td>\n",
       "      <td>NaN</td>\n",
       "      <td>NaN</td>\n",
       "      <td>NaN</td>\n",
       "      <td>NaN</td>\n",
       "      <td>NaN</td>\n",
       "      <td>NaN</td>\n",
       "      <td>NaN</td>\n",
       "      <td>NaN</td>\n",
       "      <td>0.27</td>\n",
       "      <td>0.27</td>\n",
       "      <td>0.14</td>\n",
       "      <td>0.980913</td>\n",
       "      <td>0.980913</td>\n",
       "      <td>0.972199</td>\n",
       "      <td>0.079133</td>\n",
       "      <td>Adequate Staffing</td>\n",
       "      <td>0.292417</td>\n",
       "      <td>AdequateStaffing</td>\n",
       "      <td>3.723387</td>\n",
       "      <td>0.391268</td>\n",
       "    </tr>\n",
       "    <tr>\n",
       "      <th>4</th>\n",
       "      <td>37</td>\n",
       "      <td>590077</td>\n",
       "      <td>9439</td>\n",
       "      <td>With so many new systems coming on board, it is integral to continue, and expand, communications...</td>\n",
       "      <td>NaN</td>\n",
       "      <td>English</td>\n",
       "      <td>212</td>\n",
       "      <td>9</td>\n",
       "      <td>SAW</td>\n",
       "      <td>UCSD</td>\n",
       "      <td>445617</td>\n",
       "      <td>None</td>\n",
       "      <td>The Standing Committee on Service and People Oriented Culture (SC-SPOC) is interested in learnin...</td>\n",
       "      <td>Verbatim</td>\n",
       "      <td>201.0</td>\n",
       "      <td>IdeaWave Comments</td>\n",
       "      <td>Other</td>\n",
       "      <td>None</td>\n",
       "      <td>None</td>\n",
       "      <td>None</td>\n",
       "      <td>1</td>\n",
       "      <td>10201.0</td>\n",
       "      <td>3441</td>\n",
       "      <td>999999.0</td>\n",
       "      <td>UC San Diego</td>\n",
       "      <td>10000.0</td>\n",
       "      <td>ACADEMIC AFFAIRS</td>\n",
       "      <td>10002.0</td>\n",
       "      <td>DIVISIONS/SCHOOLS</td>\n",
       "      <td>10004.0</td>\n",
       "      <td>BIOLOGICAL SCIENCES</td>\n",
       "      <td>10201.0</td>\n",
       "      <td>BIOLOGY - DEAN/ADMIN SUPPORT</td>\n",
       "      <td>NaN</td>\n",
       "      <td>NaN</td>\n",
       "      <td>NaN</td>\n",
       "      <td>NaN</td>\n",
       "      <td>NaN</td>\n",
       "      <td>NaN</td>\n",
       "      <td>0.27</td>\n",
       "      <td>0.27</td>\n",
       "      <td>0.14</td>\n",
       "      <td>0.980913</td>\n",
       "      <td>0.980913</td>\n",
       "      <td>0.972199</td>\n",
       "      <td>0.079133</td>\n",
       "      <td>Adequate Staffing</td>\n",
       "      <td>0.272820</td>\n",
       "      <td>AdequateStaffing</td>\n",
       "      <td>2.927198</td>\n",
       "      <td>0.559345</td>\n",
       "    </tr>\n",
       "  </tbody>\n",
       "</table>\n",
       "</div>"
      ],
      "text/plain": [
       "   index      Id  QuestionAnsID                                                                                           AnswerText AnswerText_NonEnglish Language  SurveyID  SurveyTypeID BenchmarkSurveyType      ClientId   RspID QuestionCategoryAbbr                                                                                         QuestionText QuestionClass  QuestionCategoryID                    QuestionReportAbbr           QuestionCategoryLabel BenchmarkLevel1 BenchmarkLevel2 BenchmarkLevel3 ClientBenchmarkLevel  GroupCode GroupID  GroupLevel1Code GroupLevel1Name  GroupLevel2Code                         GroupLevel2Name  GroupLevel3Code    GroupLevel3Name  GroupLevel4Code                   GroupLevel4Name  GroupLevel5Code               GroupLevel5Name  GroupLevel6Code GroupLevel6Name  GroupLevel7Code GroupLevel7Name  GroupLevel8Code GroupLevel8Name  threshold_f05  threshold_f1  threshold_f2  val_acc_f05  val_acc_f1  val_acc_f2  val_loss              theme  theme_prob  \\\n",
       "0      7  144569           1877  We are at least five people down in my department and there are many who are carrying at least t...                   NaN  English       120             9                 SAW          UCSD  108611                  SAT  If you would like to elaborate on your responses above, or if you have any additional feedback r...      Verbatim               114.0  Comments re Work Environment at UCSD  Satisfaction with UC San Diego            None            None            None                    1        NaN    2579              NaN             NaN              NaN                                     NaN              NaN                NaN              NaN                               NaN              NaN                           NaN              NaN             NaN              NaN             NaN              NaN             NaN           0.27          0.27          0.14     0.980913    0.980913    0.972199  0.079133  Adequate Staffing    0.373670   \n",
       "1      8  424896          76290     Even when fully staffed there is much more work than can be done in a reasonable amount of time.                   NaN  English       197            38                 SAW           UCD  379967                  NaN  If you would like to elaborate on any of your responses to the questions above, please do so her...           NaN                 NaN                   Additional Comments                             NaN             NaN             NaN             NaN                  NaN   121000.0    4873         999999.0        UC Davis         100000.0  Finance, Operations and Administration         120000.0  Administrative IT         121000.0  Client & Infrastructure Services              NaN                           NaN              NaN             NaN              NaN             NaN              NaN             NaN           0.27          0.27          0.14     0.980913    0.980913    0.972199  0.079133  Adequate Staffing    0.827684   \n",
       "2     18  187417           1877  My neutral or negative comments are not related to my department. Lack of funding for positions ...                   NaN  English       121             9                 SAW          UCSD  122425                  SAT  If you would like to elaborate on your responses above, or if you have any additional feedback r...      Verbatim               114.0  Comments re Work Environment at UCSD  Satisfaction with UC San Diego            None            None            None                    1        NaN    1930              NaN             NaN              NaN                                     NaN              NaN                NaN              NaN                               NaN              NaN                           NaN              NaN             NaN              NaN             NaN              NaN             NaN           0.27          0.27          0.14     0.980913    0.980913    0.972199  0.079133  Adequate Staffing    0.626001   \n",
       "3     35  581648          87097                                                                        Patrick Krug\\r\\nRobert Nissen                   NaN  English       209            41         SAW-FACULTY  CSLA-Faculty  432197                  NaN  Would you like to highlight a faculty or staff member who has made a particular impact on creati...      Verbatim                 NaN                   Recognize Colleague                             NaN             NaN             NaN             NaN                  NaN        NaN    5268              NaN             NaN              NaN                                     NaN              NaN                NaN              NaN                               NaN              NaN                           NaN              NaN             NaN              NaN             NaN              NaN             NaN           0.27          0.27          0.14     0.980913    0.980913    0.972199  0.079133  Adequate Staffing    0.292417   \n",
       "4     37  590077           9439  With so many new systems coming on board, it is integral to continue, and expand, communications...                   NaN  English       212             9                 SAW          UCSD  445617                 None  The Standing Committee on Service and People Oriented Culture (SC-SPOC) is interested in learnin...      Verbatim               201.0                     IdeaWave Comments                           Other            None            None            None                    1    10201.0    3441         999999.0    UC San Diego          10000.0                        ACADEMIC AFFAIRS          10002.0  DIVISIONS/SCHOOLS          10004.0               BIOLOGICAL SCIENCES          10201.0  BIOLOGY - DEAN/ADMIN SUPPORT              NaN             NaN              NaN             NaN              NaN             NaN           0.27          0.27          0.14     0.980913    0.980913    0.972199  0.079133  Adequate Staffing    0.272820   \n",
       "\n",
       "  url_friendly_theme  prob_avg_sentiment  prob_is_example  \n",
       "0   AdequateStaffing            2.495984         0.289978  \n",
       "1   AdequateStaffing            2.847534         0.224968  \n",
       "2   AdequateStaffing            2.388277         0.337524  \n",
       "3   AdequateStaffing            3.723387         0.391268  \n",
       "4   AdequateStaffing            2.927198         0.559345  "
      ]
     },
     "execution_count": 100,
     "metadata": {},
     "output_type": "execute_result"
    }
   ],
   "source": [
    "# test_df_filtered.update(probs_df)\n",
    "final_df = pd.concat([inf_df, probs_df], axis=1)\n",
    "final_df.head()"
   ]
  },
  {
   "cell_type": "markdown",
   "metadata": {},
   "source": [
    "Add in predictions based on f1 threshold"
   ]
  },
  {
   "cell_type": "code",
   "execution_count": 101,
   "metadata": {},
   "outputs": [],
   "source": [
    "for lbl in STANDARD_THEME_META_LABELS[1:]:\n",
    "    final_df[f'pred_{lbl}'] = (final_df[f'prob_{lbl}'] > is_example_threshold_f1).astype(np.int64)"
   ]
  },
  {
   "cell_type": "markdown",
   "metadata": {},
   "source": [
    "Include found thresholds and metrics"
   ]
  },
  {
   "cell_type": "code",
   "execution_count": 102,
   "metadata": {},
   "outputs": [],
   "source": [
    "final_df['is_example_threshold_f05'] = is_example_threshold_f05\n",
    "final_df['is_example_threshold_f1'] = is_example_threshold_f1\n",
    "final_df['is_example_threshold_f2'] = is_example_threshold_f2\n",
    "\n",
    "final_df['is_example_val_acc_f05'] = is_example_val_acc_f05\n",
    "final_df['is_example_val_acc_f1'] = is_example_val_acc_f1\n",
    "final_df['is_example_val_acc_f2'] = is_example_val_acc_f2"
   ]
  },
  {
   "cell_type": "code",
   "execution_count": 103,
   "metadata": {},
   "outputs": [],
   "source": [
    "final_df['sentiment_mae'] = sentiment_mae.item()\n",
    "final_df['sentiment_mse'] = sentiment_mse.item()\n",
    "final_df['sentiment_rmse'] = sentiment_rmse"
   ]
  },
  {
   "cell_type": "code",
   "execution_count": 104,
   "metadata": {},
   "outputs": [],
   "source": [
    "final_df['val_loss_metadata'] = final_valid_loss.item()"
   ]
  },
  {
   "cell_type": "code",
   "execution_count": 105,
   "metadata": {},
   "outputs": [
    {
     "data": {
      "text/html": [
       "<div>\n",
       "<style scoped>\n",
       "    .dataframe tbody tr th:only-of-type {\n",
       "        vertical-align: middle;\n",
       "    }\n",
       "\n",
       "    .dataframe tbody tr th {\n",
       "        vertical-align: top;\n",
       "    }\n",
       "\n",
       "    .dataframe thead th {\n",
       "        text-align: right;\n",
       "    }\n",
       "</style>\n",
       "<table border=\"1\" class=\"dataframe\">\n",
       "  <thead>\n",
       "    <tr style=\"text-align: right;\">\n",
       "      <th></th>\n",
       "      <th>index</th>\n",
       "      <th>Id</th>\n",
       "      <th>QuestionAnsID</th>\n",
       "      <th>AnswerText</th>\n",
       "      <th>AnswerText_NonEnglish</th>\n",
       "      <th>Language</th>\n",
       "      <th>SurveyID</th>\n",
       "      <th>SurveyTypeID</th>\n",
       "      <th>BenchmarkSurveyType</th>\n",
       "      <th>ClientId</th>\n",
       "      <th>RspID</th>\n",
       "      <th>QuestionCategoryAbbr</th>\n",
       "      <th>QuestionText</th>\n",
       "      <th>QuestionClass</th>\n",
       "      <th>QuestionCategoryID</th>\n",
       "      <th>QuestionReportAbbr</th>\n",
       "      <th>QuestionCategoryLabel</th>\n",
       "      <th>BenchmarkLevel1</th>\n",
       "      <th>BenchmarkLevel2</th>\n",
       "      <th>BenchmarkLevel3</th>\n",
       "      <th>ClientBenchmarkLevel</th>\n",
       "      <th>GroupCode</th>\n",
       "      <th>GroupID</th>\n",
       "      <th>GroupLevel1Code</th>\n",
       "      <th>GroupLevel1Name</th>\n",
       "      <th>GroupLevel2Code</th>\n",
       "      <th>GroupLevel2Name</th>\n",
       "      <th>GroupLevel3Code</th>\n",
       "      <th>GroupLevel3Name</th>\n",
       "      <th>GroupLevel4Code</th>\n",
       "      <th>GroupLevel4Name</th>\n",
       "      <th>GroupLevel5Code</th>\n",
       "      <th>GroupLevel5Name</th>\n",
       "      <th>GroupLevel6Code</th>\n",
       "      <th>GroupLevel6Name</th>\n",
       "      <th>GroupLevel7Code</th>\n",
       "      <th>GroupLevel7Name</th>\n",
       "      <th>GroupLevel8Code</th>\n",
       "      <th>GroupLevel8Name</th>\n",
       "      <th>threshold_f05</th>\n",
       "      <th>threshold_f1</th>\n",
       "      <th>threshold_f2</th>\n",
       "      <th>val_acc_f05</th>\n",
       "      <th>val_acc_f1</th>\n",
       "      <th>val_acc_f2</th>\n",
       "      <th>val_loss</th>\n",
       "      <th>theme</th>\n",
       "      <th>theme_prob</th>\n",
       "      <th>url_friendly_theme</th>\n",
       "      <th>prob_avg_sentiment</th>\n",
       "      <th>prob_is_example</th>\n",
       "      <th>pred_is_example</th>\n",
       "      <th>is_example_threshold_f05</th>\n",
       "      <th>is_example_threshold_f1</th>\n",
       "      <th>is_example_threshold_f2</th>\n",
       "      <th>is_example_val_acc_f05</th>\n",
       "      <th>is_example_val_acc_f1</th>\n",
       "      <th>is_example_val_acc_f2</th>\n",
       "      <th>sentiment_mae</th>\n",
       "      <th>sentiment_mse</th>\n",
       "      <th>sentiment_rmse</th>\n",
       "      <th>val_loss_metadata</th>\n",
       "    </tr>\n",
       "  </thead>\n",
       "  <tbody>\n",
       "    <tr>\n",
       "      <th>0</th>\n",
       "      <td>7</td>\n",
       "      <td>144569</td>\n",
       "      <td>1877</td>\n",
       "      <td>We are at least five people down in my department and there are many who are carrying at least t...</td>\n",
       "      <td>NaN</td>\n",
       "      <td>English</td>\n",
       "      <td>120</td>\n",
       "      <td>9</td>\n",
       "      <td>SAW</td>\n",
       "      <td>UCSD</td>\n",
       "      <td>108611</td>\n",
       "      <td>SAT</td>\n",
       "      <td>If you would like to elaborate on your responses above, or if you have any additional feedback r...</td>\n",
       "      <td>Verbatim</td>\n",
       "      <td>114.0</td>\n",
       "      <td>Comments re Work Environment at UCSD</td>\n",
       "      <td>Satisfaction with UC San Diego</td>\n",
       "      <td>None</td>\n",
       "      <td>None</td>\n",
       "      <td>None</td>\n",
       "      <td>1</td>\n",
       "      <td>NaN</td>\n",
       "      <td>2579</td>\n",
       "      <td>NaN</td>\n",
       "      <td>NaN</td>\n",
       "      <td>NaN</td>\n",
       "      <td>NaN</td>\n",
       "      <td>NaN</td>\n",
       "      <td>NaN</td>\n",
       "      <td>NaN</td>\n",
       "      <td>NaN</td>\n",
       "      <td>NaN</td>\n",
       "      <td>NaN</td>\n",
       "      <td>NaN</td>\n",
       "      <td>NaN</td>\n",
       "      <td>NaN</td>\n",
       "      <td>NaN</td>\n",
       "      <td>NaN</td>\n",
       "      <td>NaN</td>\n",
       "      <td>0.27</td>\n",
       "      <td>0.27</td>\n",
       "      <td>0.14</td>\n",
       "      <td>0.980913</td>\n",
       "      <td>0.980913</td>\n",
       "      <td>0.972199</td>\n",
       "      <td>0.079133</td>\n",
       "      <td>Adequate Staffing</td>\n",
       "      <td>0.373670</td>\n",
       "      <td>AdequateStaffing</td>\n",
       "      <td>2.495984</td>\n",
       "      <td>0.289978</td>\n",
       "      <td>0</td>\n",
       "      <td>0.76</td>\n",
       "      <td>0.76</td>\n",
       "      <td>0.76</td>\n",
       "      <td>0.964981</td>\n",
       "      <td>0.964981</td>\n",
       "      <td>0.964981</td>\n",
       "      <td>0.504937</td>\n",
       "      <td>0.434224</td>\n",
       "      <td>0.658957</td>\n",
       "      <td>0.55863</td>\n",
       "    </tr>\n",
       "    <tr>\n",
       "      <th>1</th>\n",
       "      <td>8</td>\n",
       "      <td>424896</td>\n",
       "      <td>76290</td>\n",
       "      <td>Even when fully staffed there is much more work than can be done in a reasonable amount of time.</td>\n",
       "      <td>NaN</td>\n",
       "      <td>English</td>\n",
       "      <td>197</td>\n",
       "      <td>38</td>\n",
       "      <td>SAW</td>\n",
       "      <td>UCD</td>\n",
       "      <td>379967</td>\n",
       "      <td>NaN</td>\n",
       "      <td>If you would like to elaborate on any of your responses to the questions above, please do so her...</td>\n",
       "      <td>NaN</td>\n",
       "      <td>NaN</td>\n",
       "      <td>Additional Comments</td>\n",
       "      <td>NaN</td>\n",
       "      <td>NaN</td>\n",
       "      <td>NaN</td>\n",
       "      <td>NaN</td>\n",
       "      <td>NaN</td>\n",
       "      <td>121000.0</td>\n",
       "      <td>4873</td>\n",
       "      <td>999999.0</td>\n",
       "      <td>UC Davis</td>\n",
       "      <td>100000.0</td>\n",
       "      <td>Finance, Operations and Administration</td>\n",
       "      <td>120000.0</td>\n",
       "      <td>Administrative IT</td>\n",
       "      <td>121000.0</td>\n",
       "      <td>Client &amp; Infrastructure Services</td>\n",
       "      <td>NaN</td>\n",
       "      <td>NaN</td>\n",
       "      <td>NaN</td>\n",
       "      <td>NaN</td>\n",
       "      <td>NaN</td>\n",
       "      <td>NaN</td>\n",
       "      <td>NaN</td>\n",
       "      <td>NaN</td>\n",
       "      <td>0.27</td>\n",
       "      <td>0.27</td>\n",
       "      <td>0.14</td>\n",
       "      <td>0.980913</td>\n",
       "      <td>0.980913</td>\n",
       "      <td>0.972199</td>\n",
       "      <td>0.079133</td>\n",
       "      <td>Adequate Staffing</td>\n",
       "      <td>0.827684</td>\n",
       "      <td>AdequateStaffing</td>\n",
       "      <td>2.847534</td>\n",
       "      <td>0.224968</td>\n",
       "      <td>0</td>\n",
       "      <td>0.76</td>\n",
       "      <td>0.76</td>\n",
       "      <td>0.76</td>\n",
       "      <td>0.964981</td>\n",
       "      <td>0.964981</td>\n",
       "      <td>0.964981</td>\n",
       "      <td>0.504937</td>\n",
       "      <td>0.434224</td>\n",
       "      <td>0.658957</td>\n",
       "      <td>0.55863</td>\n",
       "    </tr>\n",
       "    <tr>\n",
       "      <th>2</th>\n",
       "      <td>18</td>\n",
       "      <td>187417</td>\n",
       "      <td>1877</td>\n",
       "      <td>My neutral or negative comments are not related to my department. Lack of funding for positions ...</td>\n",
       "      <td>NaN</td>\n",
       "      <td>English</td>\n",
       "      <td>121</td>\n",
       "      <td>9</td>\n",
       "      <td>SAW</td>\n",
       "      <td>UCSD</td>\n",
       "      <td>122425</td>\n",
       "      <td>SAT</td>\n",
       "      <td>If you would like to elaborate on your responses above, or if you have any additional feedback r...</td>\n",
       "      <td>Verbatim</td>\n",
       "      <td>114.0</td>\n",
       "      <td>Comments re Work Environment at UCSD</td>\n",
       "      <td>Satisfaction with UC San Diego</td>\n",
       "      <td>None</td>\n",
       "      <td>None</td>\n",
       "      <td>None</td>\n",
       "      <td>1</td>\n",
       "      <td>NaN</td>\n",
       "      <td>1930</td>\n",
       "      <td>NaN</td>\n",
       "      <td>NaN</td>\n",
       "      <td>NaN</td>\n",
       "      <td>NaN</td>\n",
       "      <td>NaN</td>\n",
       "      <td>NaN</td>\n",
       "      <td>NaN</td>\n",
       "      <td>NaN</td>\n",
       "      <td>NaN</td>\n",
       "      <td>NaN</td>\n",
       "      <td>NaN</td>\n",
       "      <td>NaN</td>\n",
       "      <td>NaN</td>\n",
       "      <td>NaN</td>\n",
       "      <td>NaN</td>\n",
       "      <td>NaN</td>\n",
       "      <td>0.27</td>\n",
       "      <td>0.27</td>\n",
       "      <td>0.14</td>\n",
       "      <td>0.980913</td>\n",
       "      <td>0.980913</td>\n",
       "      <td>0.972199</td>\n",
       "      <td>0.079133</td>\n",
       "      <td>Adequate Staffing</td>\n",
       "      <td>0.626001</td>\n",
       "      <td>AdequateStaffing</td>\n",
       "      <td>2.388277</td>\n",
       "      <td>0.337524</td>\n",
       "      <td>0</td>\n",
       "      <td>0.76</td>\n",
       "      <td>0.76</td>\n",
       "      <td>0.76</td>\n",
       "      <td>0.964981</td>\n",
       "      <td>0.964981</td>\n",
       "      <td>0.964981</td>\n",
       "      <td>0.504937</td>\n",
       "      <td>0.434224</td>\n",
       "      <td>0.658957</td>\n",
       "      <td>0.55863</td>\n",
       "    </tr>\n",
       "    <tr>\n",
       "      <th>3</th>\n",
       "      <td>35</td>\n",
       "      <td>581648</td>\n",
       "      <td>87097</td>\n",
       "      <td>Patrick Krug\\r\\nRobert Nissen</td>\n",
       "      <td>NaN</td>\n",
       "      <td>English</td>\n",
       "      <td>209</td>\n",
       "      <td>41</td>\n",
       "      <td>SAW-FACULTY</td>\n",
       "      <td>CSLA-Faculty</td>\n",
       "      <td>432197</td>\n",
       "      <td>NaN</td>\n",
       "      <td>Would you like to highlight a faculty or staff member who has made a particular impact on creati...</td>\n",
       "      <td>Verbatim</td>\n",
       "      <td>NaN</td>\n",
       "      <td>Recognize Colleague</td>\n",
       "      <td>NaN</td>\n",
       "      <td>NaN</td>\n",
       "      <td>NaN</td>\n",
       "      <td>NaN</td>\n",
       "      <td>NaN</td>\n",
       "      <td>NaN</td>\n",
       "      <td>5268</td>\n",
       "      <td>NaN</td>\n",
       "      <td>NaN</td>\n",
       "      <td>NaN</td>\n",
       "      <td>NaN</td>\n",
       "      <td>NaN</td>\n",
       "      <td>NaN</td>\n",
       "      <td>NaN</td>\n",
       "      <td>NaN</td>\n",
       "      <td>NaN</td>\n",
       "      <td>NaN</td>\n",
       "      <td>NaN</td>\n",
       "      <td>NaN</td>\n",
       "      <td>NaN</td>\n",
       "      <td>NaN</td>\n",
       "      <td>NaN</td>\n",
       "      <td>NaN</td>\n",
       "      <td>0.27</td>\n",
       "      <td>0.27</td>\n",
       "      <td>0.14</td>\n",
       "      <td>0.980913</td>\n",
       "      <td>0.980913</td>\n",
       "      <td>0.972199</td>\n",
       "      <td>0.079133</td>\n",
       "      <td>Adequate Staffing</td>\n",
       "      <td>0.292417</td>\n",
       "      <td>AdequateStaffing</td>\n",
       "      <td>3.723387</td>\n",
       "      <td>0.391268</td>\n",
       "      <td>0</td>\n",
       "      <td>0.76</td>\n",
       "      <td>0.76</td>\n",
       "      <td>0.76</td>\n",
       "      <td>0.964981</td>\n",
       "      <td>0.964981</td>\n",
       "      <td>0.964981</td>\n",
       "      <td>0.504937</td>\n",
       "      <td>0.434224</td>\n",
       "      <td>0.658957</td>\n",
       "      <td>0.55863</td>\n",
       "    </tr>\n",
       "    <tr>\n",
       "      <th>4</th>\n",
       "      <td>37</td>\n",
       "      <td>590077</td>\n",
       "      <td>9439</td>\n",
       "      <td>With so many new systems coming on board, it is integral to continue, and expand, communications...</td>\n",
       "      <td>NaN</td>\n",
       "      <td>English</td>\n",
       "      <td>212</td>\n",
       "      <td>9</td>\n",
       "      <td>SAW</td>\n",
       "      <td>UCSD</td>\n",
       "      <td>445617</td>\n",
       "      <td>None</td>\n",
       "      <td>The Standing Committee on Service and People Oriented Culture (SC-SPOC) is interested in learnin...</td>\n",
       "      <td>Verbatim</td>\n",
       "      <td>201.0</td>\n",
       "      <td>IdeaWave Comments</td>\n",
       "      <td>Other</td>\n",
       "      <td>None</td>\n",
       "      <td>None</td>\n",
       "      <td>None</td>\n",
       "      <td>1</td>\n",
       "      <td>10201.0</td>\n",
       "      <td>3441</td>\n",
       "      <td>999999.0</td>\n",
       "      <td>UC San Diego</td>\n",
       "      <td>10000.0</td>\n",
       "      <td>ACADEMIC AFFAIRS</td>\n",
       "      <td>10002.0</td>\n",
       "      <td>DIVISIONS/SCHOOLS</td>\n",
       "      <td>10004.0</td>\n",
       "      <td>BIOLOGICAL SCIENCES</td>\n",
       "      <td>10201.0</td>\n",
       "      <td>BIOLOGY - DEAN/ADMIN SUPPORT</td>\n",
       "      <td>NaN</td>\n",
       "      <td>NaN</td>\n",
       "      <td>NaN</td>\n",
       "      <td>NaN</td>\n",
       "      <td>NaN</td>\n",
       "      <td>NaN</td>\n",
       "      <td>0.27</td>\n",
       "      <td>0.27</td>\n",
       "      <td>0.14</td>\n",
       "      <td>0.980913</td>\n",
       "      <td>0.980913</td>\n",
       "      <td>0.972199</td>\n",
       "      <td>0.079133</td>\n",
       "      <td>Adequate Staffing</td>\n",
       "      <td>0.272820</td>\n",
       "      <td>AdequateStaffing</td>\n",
       "      <td>2.927198</td>\n",
       "      <td>0.559345</td>\n",
       "      <td>0</td>\n",
       "      <td>0.76</td>\n",
       "      <td>0.76</td>\n",
       "      <td>0.76</td>\n",
       "      <td>0.964981</td>\n",
       "      <td>0.964981</td>\n",
       "      <td>0.964981</td>\n",
       "      <td>0.504937</td>\n",
       "      <td>0.434224</td>\n",
       "      <td>0.658957</td>\n",
       "      <td>0.55863</td>\n",
       "    </tr>\n",
       "  </tbody>\n",
       "</table>\n",
       "</div>"
      ],
      "text/plain": [
       "   index      Id  QuestionAnsID                                                                                           AnswerText AnswerText_NonEnglish Language  SurveyID  SurveyTypeID BenchmarkSurveyType      ClientId   RspID QuestionCategoryAbbr                                                                                         QuestionText QuestionClass  QuestionCategoryID                    QuestionReportAbbr           QuestionCategoryLabel BenchmarkLevel1 BenchmarkLevel2 BenchmarkLevel3 ClientBenchmarkLevel  GroupCode GroupID  GroupLevel1Code GroupLevel1Name  GroupLevel2Code                         GroupLevel2Name  GroupLevel3Code    GroupLevel3Name  GroupLevel4Code                   GroupLevel4Name  GroupLevel5Code               GroupLevel5Name  GroupLevel6Code GroupLevel6Name  GroupLevel7Code GroupLevel7Name  GroupLevel8Code GroupLevel8Name  threshold_f05  threshold_f1  threshold_f2  val_acc_f05  val_acc_f1  val_acc_f2  val_loss              theme  theme_prob  \\\n",
       "0      7  144569           1877  We are at least five people down in my department and there are many who are carrying at least t...                   NaN  English       120             9                 SAW          UCSD  108611                  SAT  If you would like to elaborate on your responses above, or if you have any additional feedback r...      Verbatim               114.0  Comments re Work Environment at UCSD  Satisfaction with UC San Diego            None            None            None                    1        NaN    2579              NaN             NaN              NaN                                     NaN              NaN                NaN              NaN                               NaN              NaN                           NaN              NaN             NaN              NaN             NaN              NaN             NaN           0.27          0.27          0.14     0.980913    0.980913    0.972199  0.079133  Adequate Staffing    0.373670   \n",
       "1      8  424896          76290     Even when fully staffed there is much more work than can be done in a reasonable amount of time.                   NaN  English       197            38                 SAW           UCD  379967                  NaN  If you would like to elaborate on any of your responses to the questions above, please do so her...           NaN                 NaN                   Additional Comments                             NaN             NaN             NaN             NaN                  NaN   121000.0    4873         999999.0        UC Davis         100000.0  Finance, Operations and Administration         120000.0  Administrative IT         121000.0  Client & Infrastructure Services              NaN                           NaN              NaN             NaN              NaN             NaN              NaN             NaN           0.27          0.27          0.14     0.980913    0.980913    0.972199  0.079133  Adequate Staffing    0.827684   \n",
       "2     18  187417           1877  My neutral or negative comments are not related to my department. Lack of funding for positions ...                   NaN  English       121             9                 SAW          UCSD  122425                  SAT  If you would like to elaborate on your responses above, or if you have any additional feedback r...      Verbatim               114.0  Comments re Work Environment at UCSD  Satisfaction with UC San Diego            None            None            None                    1        NaN    1930              NaN             NaN              NaN                                     NaN              NaN                NaN              NaN                               NaN              NaN                           NaN              NaN             NaN              NaN             NaN              NaN             NaN           0.27          0.27          0.14     0.980913    0.980913    0.972199  0.079133  Adequate Staffing    0.626001   \n",
       "3     35  581648          87097                                                                        Patrick Krug\\r\\nRobert Nissen                   NaN  English       209            41         SAW-FACULTY  CSLA-Faculty  432197                  NaN  Would you like to highlight a faculty or staff member who has made a particular impact on creati...      Verbatim                 NaN                   Recognize Colleague                             NaN             NaN             NaN             NaN                  NaN        NaN    5268              NaN             NaN              NaN                                     NaN              NaN                NaN              NaN                               NaN              NaN                           NaN              NaN             NaN              NaN             NaN              NaN             NaN           0.27          0.27          0.14     0.980913    0.980913    0.972199  0.079133  Adequate Staffing    0.292417   \n",
       "4     37  590077           9439  With so many new systems coming on board, it is integral to continue, and expand, communications...                   NaN  English       212             9                 SAW          UCSD  445617                 None  The Standing Committee on Service and People Oriented Culture (SC-SPOC) is interested in learnin...      Verbatim               201.0                     IdeaWave Comments                           Other            None            None            None                    1    10201.0    3441         999999.0    UC San Diego          10000.0                        ACADEMIC AFFAIRS          10002.0  DIVISIONS/SCHOOLS          10004.0               BIOLOGICAL SCIENCES          10201.0  BIOLOGY - DEAN/ADMIN SUPPORT              NaN             NaN              NaN             NaN              NaN             NaN           0.27          0.27          0.14     0.980913    0.980913    0.972199  0.079133  Adequate Staffing    0.272820   \n",
       "\n",
       "  url_friendly_theme  prob_avg_sentiment  prob_is_example  pred_is_example  is_example_threshold_f05  is_example_threshold_f1  is_example_threshold_f2  is_example_val_acc_f05  is_example_val_acc_f1  is_example_val_acc_f2  sentiment_mae  sentiment_mse  sentiment_rmse  val_loss_metadata  \n",
       "0   AdequateStaffing            2.495984         0.289978                0                      0.76                     0.76                     0.76                0.964981               0.964981               0.964981       0.504937       0.434224        0.658957            0.55863  \n",
       "1   AdequateStaffing            2.847534         0.224968                0                      0.76                     0.76                     0.76                0.964981               0.964981               0.964981       0.504937       0.434224        0.658957            0.55863  \n",
       "2   AdequateStaffing            2.388277         0.337524                0                      0.76                     0.76                     0.76                0.964981               0.964981               0.964981       0.504937       0.434224        0.658957            0.55863  \n",
       "3   AdequateStaffing            3.723387         0.391268                0                      0.76                     0.76                     0.76                0.964981               0.964981               0.964981       0.504937       0.434224        0.658957            0.55863  \n",
       "4   AdequateStaffing            2.927198         0.559345                0                      0.76                     0.76                     0.76                0.964981               0.964981               0.964981       0.504937       0.434224        0.658957            0.55863  "
      ]
     },
     "execution_count": 105,
     "metadata": {},
     "output_type": "execute_result"
    }
   ],
   "source": [
    "final_df.head()"
   ]
  },
  {
   "cell_type": "code",
   "execution_count": 106,
   "metadata": {},
   "outputs": [],
   "source": [
    "import datetime\n",
    "final_df.to_csv(STANDARD_THEME_META_PATH/f'{yyyymmdd}_ensemble_predictions{m_suf}.csv', index=False)"
   ]
  },
  {
   "cell_type": "markdown",
   "metadata": {},
   "source": [
    "### Playground"
   ]
  },
  {
   "cell_type": "code",
   "execution_count": 107,
   "metadata": {},
   "outputs": [
    {
     "name": "stdout",
     "output_type": "stream",
     "text": [
      "0.7599999904632568\n",
      "0.7599999904632568\n",
      "0.7599999904632568\n",
      "2.9090850353240967\n"
     ]
    }
   ],
   "source": [
    "print(final_df.iloc[0].is_example_threshold_f05)\n",
    "print(final_df.iloc[0].is_example_threshold_f1)\n",
    "print(final_df.iloc[0].is_example_threshold_f2)\n",
    "print(final_df.prob_avg_sentiment.mean())"
   ]
  },
  {
   "cell_type": "code",
   "execution_count": 108,
   "metadata": {},
   "outputs": [
    {
     "data": {
      "text/plain": [
       "5"
      ]
     },
     "execution_count": 108,
     "metadata": {},
     "output_type": "execute_result"
    }
   ],
   "source": [
    "len(learn.layer_groups)"
   ]
  },
  {
   "cell_type": "code",
   "execution_count": 109,
   "metadata": {
    "scrolled": true
   },
   "outputs": [
    {
     "name": "stdout",
     "output_type": "stream",
     "text": [
      "Sequential(\n",
      "  (0): Embedding(39904, 400, padding_idx=1)\n",
      "  (1): EmbeddingDropout(\n",
      "    (emb): Embedding(39904, 400, padding_idx=1)\n",
      "  )\n",
      ")\n",
      "\n",
      "Sequential(\n",
      "  (0): WeightDropout(\n",
      "    (module): LSTM(400, 1152, batch_first=True)\n",
      "  )\n",
      "  (1): RNNDropout()\n",
      ")\n",
      "\n",
      "Sequential(\n",
      "  (0): WeightDropout(\n",
      "    (module): LSTM(1152, 1152, batch_first=True)\n",
      "  )\n",
      "  (1): RNNDropout()\n",
      ")\n",
      "\n",
      "Sequential(\n",
      "  (0): WeightDropout(\n",
      "    (module): LSTM(1152, 400, batch_first=True)\n",
      "  )\n",
      "  (1): RNNDropout()\n",
      ")\n",
      "\n",
      "Sequential(\n",
      "  (0): PoolingLinearClassifier(\n",
      "    (layers): Sequential(\n",
      "      (0): BatchNorm1d(1200, eps=1e-05, momentum=0.1, affine=True, track_running_stats=True)\n",
      "      (1): Dropout(p=0.2, inplace=False)\n",
      "      (2): Linear(in_features=1200, out_features=50, bias=True)\n",
      "      (3): ReLU(inplace=True)\n",
      "      (4): BatchNorm1d(50, eps=1e-05, momentum=0.1, affine=True, track_running_stats=True)\n",
      "      (5): Dropout(p=0.1, inplace=False)\n",
      "      (6): Linear(in_features=50, out_features=2, bias=True)\n",
      "    )\n",
      "  )\n",
      ")\n",
      "\n"
     ]
    },
    {
     "data": {
      "text/plain": [
       "[None, None, None, None, None]"
      ]
     },
     "execution_count": 109,
     "metadata": {},
     "output_type": "execute_result"
    }
   ],
   "source": [
    "[ print(f'{lg}\\n') for lg in learn.layer_groups ]"
   ]
  },
  {
   "cell_type": "code",
   "execution_count": null,
   "metadata": {},
   "outputs": [],
   "source": []
  }
 ],
 "metadata": {
  "kernelspec": {
   "display_name": "Python 3",
   "language": "python",
   "name": "python3"
  },
  "language_info": {
   "codemirror_mode": {
    "name": "ipython",
    "version": 3
   },
   "file_extension": ".py",
   "mimetype": "text/x-python",
   "name": "python",
   "nbconvert_exporter": "python",
   "pygments_lexer": "ipython3",
   "version": "3.7.6"
  },
  "varInspector": {
   "cols": {
    "lenName": 16,
    "lenType": 16,
    "lenVar": 40
   },
   "kernels_config": {
    "python": {
     "delete_cmd_postfix": "",
     "delete_cmd_prefix": "del ",
     "library": "var_list.py",
     "varRefreshCmd": "print(var_dic_list())"
    },
    "r": {
     "delete_cmd_postfix": ") ",
     "delete_cmd_prefix": "rm(",
     "library": "var_list.r",
     "varRefreshCmd": "cat(var_dic_list()) "
    }
   },
   "types_to_exclude": [
    "module",
    "function",
    "builtin_function_or_method",
    "instance",
    "_Feature"
   ],
   "window_display": false
  }
 },
 "nbformat": 4,
 "nbformat_minor": 2
}
