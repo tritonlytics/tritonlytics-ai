{
 "cells": [
  {
   "cell_type": "code",
   "execution_count": 1,
   "metadata": {},
   "outputs": [],
   "source": [
    "#default_exp verbatims/sentiment/training"
   ]
  },
  {
   "cell_type": "code",
   "execution_count": 2,
   "metadata": {},
   "outputs": [],
   "source": [
    "#all_slow"
   ]
  },
  {
   "cell_type": "code",
   "execution_count": 3,
   "metadata": {},
   "outputs": [],
   "source": [
    "#hide\n",
    "%reload_ext autoreload\n",
    "%autoreload 2\n",
    "%matplotlib inline"
   ]
  },
  {
   "cell_type": "markdown",
   "metadata": {},
   "source": [
    "# Sentiment - Training\n",
    "\n",
    "> This module contains all the bits required to train and evaluate verbatim sentiment models"
   ]
  },
  {
   "cell_type": "code",
   "execution_count": 4,
   "metadata": {},
   "outputs": [],
   "source": [
    "#export\n",
    "import os, datetime, gc\n",
    "import sklearn.metrics as skm\n",
    "\n",
    "import optuna\n",
    "\n",
    "from fastai.text.all import *\n",
    "from transformers import *\n",
    "from blurr.utils import *\n",
    "from blurr.data.core import *\n",
    "from blurr.modeling.core import *\n",
    "\n",
    "from tritonlytics_ai.utils import *\n",
    "from tritonlytics_ai.verbatims.core import *\n",
    "\n",
    "from transformers import logging as hf_logging\n",
    "hf_logging.set_verbosity_error()"
   ]
  },
  {
   "cell_type": "code",
   "execution_count": 5,
   "metadata": {},
   "outputs": [],
   "source": [
    "#hide\n",
    "import pdb\n",
    "\n",
    "# pandas and plotting config\n",
    "import seaborn as sns\n",
    "sns.set_style('whitegrid')\n",
    "\n",
    "plt.rcParams['figure.figsize'] = (9,6)\n",
    "\n",
    "pd.set_option('display.max_rows', 500)\n",
    "pd.set_option('display.max_columns', 500)\n",
    "pd.set_option('display.width', 1000)\n",
    "pd.set_option('display.max_colwidth', 100)\n",
    "\n",
    "from nbdev.showdoc import *\n",
    "from fastcore.test import *"
   ]
  },
  {
   "cell_type": "code",
   "execution_count": 6,
   "metadata": {
    "tags": []
   },
   "outputs": [
    {
     "name": "stdout",
     "output_type": "stream",
     "text": [
      "Using pytorch 1.6.0\n",
      "Using fastai 2.0.16\n",
      "Using transformers 3.3.1\n"
     ]
    }
   ],
   "source": [
    "#hide\n",
    "from fastai import __version__ as fa_version\n",
    "from torch import __version__ as pt_version\n",
    "from transformers import __version__ as hft_version\n",
    "\n",
    "print(f'Using pytorch {pt_version}')\n",
    "print(f'Using fastai {fa_version}')\n",
    "print(f'Using transformers {hft_version}')"
   ]
  },
  {
   "cell_type": "code",
   "execution_count": 7,
   "metadata": {
    "tags": []
   },
   "outputs": [
    {
     "name": "stdout",
     "output_type": "stream",
     "text": [
      "Using GPU #1\n"
     ]
    }
   ],
   "source": [
    "#cuda\n",
    "torch.cuda.set_device(1)\n",
    "print(f'Using GPU #{torch.cuda.current_device()}')"
   ]
  },
  {
   "cell_type": "markdown",
   "metadata": {},
   "source": [
    "## Data"
   ]
  },
  {
   "cell_type": "code",
   "execution_count": 8,
   "metadata": {},
   "outputs": [],
   "source": [
    "task = HF_TASKS_AUTO.SequenceClassification\n",
    "\n",
    "pretrained_model_name = \"facebook/bart-base\" #\"roberta-base\"\n",
    "config = AutoConfig.from_pretrained(pretrained_model_name)\n",
    "config.num_labels = len(SENT_LABELS[1:])\n",
    "config.attention_probs_dropout_prob: 0.0\n",
    "config.hidden_dropout_prob: 0.3\n",
    "\n",
    "hf_arch, hf_config, hf_tokenizer, hf_model = BLURR_MODEL_HELPER.get_hf_objects(pretrained_model_name, \n",
    "                                                                               task=task, \n",
    "                                                                               config=config)"
   ]
  },
  {
   "cell_type": "code",
   "execution_count": 9,
   "metadata": {},
   "outputs": [],
   "source": [
    "df = get_sentiment_train_data()\n",
    "train_df, valid_df = df[df.is_valid == False], df[df.is_valid == True]\n",
    "\n",
    "set_seed(TL_RAND_SEED)\n",
    "dls = get_sentiment_train_dls(df, hf_arch, hf_tokenizer, use_cache=False)"
   ]
  },
  {
   "cell_type": "code",
   "execution_count": 10,
   "metadata": {
    "tags": []
   },
   "outputs": [
    {
     "data": {
      "text/plain": [
       "(2, torch.Size([8, 512]), torch.Size([8, 8]))"
      ]
     },
     "execution_count": 10,
     "metadata": {},
     "output_type": "execute_result"
    }
   ],
   "source": [
    "b = dls.one_batch()\n",
    "len(b), b[0]['input_ids'].shape, b[1].shape"
   ]
  },
  {
   "cell_type": "markdown",
   "metadata": {},
   "source": [
    "## Training"
   ]
  },
  {
   "cell_type": "code",
   "execution_count": 11,
   "metadata": {},
   "outputs": [],
   "source": [
    "m_pre = f'exp_{m_pre_sentiment}'\n",
    "m_suf = m_suf_sentiment\n",
    "base_model_name = base_model_name_sentiment"
   ]
  },
  {
   "cell_type": "markdown",
   "metadata": {},
   "source": [
    "Configure our **metrics**"
   ]
  },
  {
   "cell_type": "code",
   "execution_count": 12,
   "metadata": {},
   "outputs": [],
   "source": [
    "# define metrics\n",
    "beta, start, end, average, sample_weight = 1, 0.08, 0.7, 'weighted', None\n",
    "\n",
    "# custom\n",
    "opt_th_metrics = OptimalMultiThresholdMetrics(beta=beta, start=start, end=end, \n",
    "                                              average=average, sample_weight=sample_weight)\n",
    "\n",
    "opt_th_metric = opt_th_metrics.best_thresh()\n",
    "opt_fscore_metric = opt_th_metrics.best_fscore()\n",
    "opt_acc_metric = opt_th_metrics.best_faccuracy()\n",
    "\n",
    "# standard\n",
    "fbeta_metric = FBetaMulti(beta=beta, average=average, sample_weight=sample_weight)\n",
    "prec_metric = PrecisionMulti(average=average, sample_weight=sample_weight)\n",
    "recall_metric = RecallMulti(average=average, sample_weight=sample_weight)\n",
    "roc_auc_metric = RocAucMulti(average=average, sample_weight=sample_weight)"
   ]
  },
  {
   "cell_type": "code",
   "execution_count": 13,
   "metadata": {},
   "outputs": [],
   "source": [
    "#export\n",
    "def get_metrics(train_config={}):\n",
    "    config = {**sentiment_train_config, **train_config}\n",
    "\n",
    "    beta, average, sample_weight = config['opt_beta'], config['opt_beta_average'], config['opt_beta_sample_weight']\n",
    "    start, end = config['opt_start'], config['opt_end']\n",
    "    \n",
    "    # fbeta and roc-auc metrics\n",
    "    fbeta_metric = FBetaMulti(beta=beta, average=average, sample_weight=sample_weight)\n",
    "    prec_metric = PrecisionMulti(average=average, sample_weight=sample_weight)\n",
    "    recall_metric = RecallMulti(average=average, sample_weight=sample_weight)\n",
    "    roc_auc_metric = RocAucMulti(average=average, sample_weight=sample_weight)\n",
    "    \n",
    "    return [ accuracy_multi, fbeta_metric, prec_metric, recall_metric, roc_auc_metric ]"
   ]
  },
  {
   "cell_type": "markdown",
   "metadata": {},
   "source": [
    "Configure our **loss**"
   ]
  },
  {
   "cell_type": "code",
   "execution_count": 14,
   "metadata": {
    "scrolled": true
   },
   "outputs": [],
   "source": [
    "label_counts = { col: train_df[col].value_counts().to_dict() for col in dls.tfms[1].vocab }\n",
    "most_common_label = max(label_counts.keys(), key=(lambda k: label_counts[k][1]))\n",
    "\n",
    "for lbl in label_counts: label_counts[lbl]['weight'] = label_counts[most_common_label][1] / label_counts[lbl][1]\n",
    "    \n",
    "pos_weight_vec = [v['weight'] * 1. if v['weight'] != 1.0 else v['weight'] for k,v in label_counts.items()]\n",
    "# pos_weight_vec"
   ]
  },
  {
   "cell_type": "code",
   "execution_count": 15,
   "metadata": {},
   "outputs": [],
   "source": [
    "# loss_func = torch.nn.BCEWithLogitsLoss(pos_weight=tensor(pos_weight_vec).to('cuda:1'))\n",
    "# loss_func.thresh = 0.5\n",
    "# loss_func = BCEWithLogitsLossFlat(pos_weight=tensor(pos_weight_vec*bsz, device=torch.cuda.current_device()))\n",
    "loss_func = BCEWithLogitsLossFlat()"
   ]
  },
  {
   "cell_type": "code",
   "execution_count": 16,
   "metadata": {},
   "outputs": [],
   "source": [
    "#export\n",
    "def get_loss_func(dls, train_df=None, use_weighted=False):\n",
    "    if (use_weighted and train_df is not None):\n",
    "        label_counts = { col: train_df[col].value_counts().to_dict() for col in dls.tfms[1].vocab }\n",
    "        most_common_label = max(label_counts.keys(), key=(lambda k: label_counts[k][1]))\n",
    "\n",
    "        for lbl in label_counts: \n",
    "            label_counts[lbl]['weight'] = label_counts[most_common_label][1] / label_counts[lbl][1]\n",
    "\n",
    "        pos_weight_vec = [v['weight'] * 1. if v['weight'] != 1.0 else v['weight'] for k,v in label_counts.items()]\n",
    "        \n",
    "        loss_func = torch.nn.BCEWithLogitsLoss(pos_weight=tensor(pos_weight_vec).to(dls.device))\n",
    "        loss_func.thresh = 0.5 # adding \"thresh\" since we want to optimize this for our target beta\n",
    "    else:\n",
    "        loss_func = BCEWithLogitsLossFlat()\n",
    "        \n",
    "    return loss_func"
   ]
  },
  {
   "cell_type": "code",
   "execution_count": 17,
   "metadata": {},
   "outputs": [],
   "source": [
    "tst_loss_func = get_loss_func(dls, train_df, use_weighted=False)\n",
    "test_is(type(tst_loss_func), BCEWithLogitsLossFlat)"
   ]
  },
  {
   "cell_type": "code",
   "execution_count": 18,
   "metadata": {},
   "outputs": [],
   "source": [
    "tst_loss_func = get_loss_func(dls, train_df, use_weighted=True)\n",
    "test_is(type(tst_loss_func), torch.nn.BCEWithLogitsLoss)\n",
    "test_eq(len(tst_loss_func.pos_weight), dls.c)\n",
    "test_eq(dls.device, tst_loss_func.pos_weight.device)"
   ]
  },
  {
   "cell_type": "markdown",
   "metadata": {},
   "source": [
    "Configure our **callbacks**"
   ]
  },
  {
   "cell_type": "code",
   "execution_count": 19,
   "metadata": {},
   "outputs": [],
   "source": [
    "best_model_cb = SaveModelCallback(monitor='fbeta_score', \n",
    "                                  comp=np.greater, \n",
    "                                  reset_on_fit=False,\n",
    "                                  fname=f'{m_pre}{base_model_name}{m_suf}_bestmodel')\n",
    "\n",
    "opt_thresh_cb = OptimizeFBetaThreshCallback(beta=beta, \n",
    "                                            average=average, \n",
    "                                            sample_weight=sample_weight,\n",
    "                                            start=start, end=end)"
   ]
  },
  {
   "cell_type": "code",
   "execution_count": 20,
   "metadata": {},
   "outputs": [],
   "source": [
    "#export\n",
    "def get_cbs(train_config={}, add_save_model_cb=True):\n",
    "    config = {**sentiment_train_config, **train_config}\n",
    "    fit_cbs = []\n",
    "    \n",
    "    best_model_cb = SaveModelCallback(monitor=config['save_model_monitor'], \n",
    "                                      comp=config['save_model_comp'], \n",
    "                                      fname=config['save_model_filename'],\n",
    "                                      reset_on_fit=False)\n",
    "\n",
    "    opt_thresh_cb = OptimizeFBetaThreshCallback(beta=config['opt_beta'], \n",
    "                                                average=config['opt_beta_average'], \n",
    "                                                sample_weight=config['opt_beta_sample_weight'],\n",
    "                                                start=config['opt_start'], end=config['opt_end'])\n",
    "    \n",
    "    if (add_save_model_cb): fit_cbs.append(best_model_cb)\n",
    "    fit_cbs.append(opt_thresh_cb)\n",
    "    \n",
    "    return [HF_BaseModelCallback], fit_cbs # (learn_cbs, fit_cbs)"
   ]
  },
  {
   "cell_type": "markdown",
   "metadata": {},
   "source": [
    "Configure our **Learner**"
   ]
  },
  {
   "cell_type": "code",
   "execution_count": 21,
   "metadata": {},
   "outputs": [],
   "source": [
    "try: del learn\n",
    "except: pass\n",
    "finally: gc.collect(); torch.cuda.empty_cache()"
   ]
  },
  {
   "cell_type": "code",
   "execution_count": 22,
   "metadata": {},
   "outputs": [],
   "source": [
    "learn_metrics = [ accuracy_multi, fbeta_metric, prec_metric, recall_metric, roc_auc_metric ]\n",
    "\n",
    "learn_cbs = [HF_BaseModelCallback]\n",
    "fit_cbs = [best_model_cb, opt_thresh_cb]\n",
    "\n",
    "# build learner\n",
    "model = HF_BaseModelWrapper(hf_model)\n",
    "\n",
    "set_seed(TL_RAND_SEED)\n",
    "learn = Learner(dls, \n",
    "                model,\n",
    "                opt_func=partial(Adam, mom=0.9, sqr_mom=0.98, eps=1e-6, weight_decay=0.1),\n",
    "                loss_func=loss_func,\n",
    "                metrics=learn_metrics,\n",
    "                cbs=learn_cbs,\n",
    "                splitter=hf_splitter,\n",
    "                path=SENTIMENT_CLS_PATH)\n",
    "\n",
    "learn = learn.to_fp16()\n",
    "learn.create_opt() # -> will create your layer groups based on your \"splitter\" function\n",
    "learn.freeze()"
   ]
  },
  {
   "cell_type": "code",
   "execution_count": 23,
   "metadata": {},
   "outputs": [],
   "source": [
    "# learn.blurr_summary()"
   ]
  },
  {
   "cell_type": "code",
   "execution_count": 24,
   "metadata": {},
   "outputs": [],
   "source": [
    "# learn.show_training_loop()"
   ]
  },
  {
   "cell_type": "code",
   "execution_count": 25,
   "metadata": {},
   "outputs": [],
   "source": [
    "# Note: Run this to test the model and comment out afterwards as it needlessly contributes to GPU RAM utilization :(\n",
    "# preds = model(b[0]); preds[0].shape"
   ]
  },
  {
   "cell_type": "code",
   "execution_count": 26,
   "metadata": {},
   "outputs": [],
   "source": [
    "#export\n",
    "def get_learner(hf_model, dls, train_df=None, use_weighted_loss=False, use_fp16=True,\n",
    "                opt_func=partial(Adam, mom=0.9, sqr_mom=0.98, eps=1e-6, weight_decay=0.1),\n",
    "                add_save_model_cb=True, train_config={}):\n",
    "    config = {**sentiment_train_config, **train_config}\n",
    "    \n",
    "    # build learner\n",
    "    model = HF_BaseModelWrapper(hf_model)\n",
    "    loss_func = get_loss_func(dls, train_df, use_weighted_loss)\n",
    "    learn_cbs, fit_cbs = get_cbs(config, add_save_model_cb=add_save_model_cb)\n",
    "    learn_metrics = get_metrics(config)\n",
    "\n",
    "    set_seed(TL_RAND_SEED)\n",
    "    learn = Learner(dls, model, loss_func=loss_func, opt_func=opt_func, \n",
    "                    metrics=learn_metrics, cbs=learn_cbs, splitter=hf_splitter, path=config['learner_path'])\n",
    "    \n",
    "    if (use_fp16): learn = learn.to_fp16()\n",
    "    learn.create_opt() # -> will create your layer groups based on your \"splitter\" function\n",
    "    learn.freeze()\n",
    "    \n",
    "    return learn, fit_cbs"
   ]
  },
  {
   "cell_type": "code",
   "execution_count": 27,
   "metadata": {},
   "outputs": [
    {
     "data": {
      "text/html": [],
      "text/plain": [
       "<IPython.core.display.HTML object>"
      ]
     },
     "metadata": {},
     "output_type": "display_data"
    },
    {
     "data": {
      "text/plain": [
       "(0.0015848932787775993, 0.0005754399462603033)"
      ]
     },
     "execution_count": 27,
     "metadata": {},
     "output_type": "execute_result"
    },
    {
     "data": {
      "image/png": "[encoded data removed]",
      "text/plain": [
       "<Figure size 648x432 with 1 Axes>"
      ]
     },
     "metadata": {},
     "output_type": "display_data"
    }
   ],
   "source": [
    "lr_min, lr_steep = learn.lr_find(); lr_min, lr_steep"
   ]
  },
  {
   "cell_type": "code",
   "execution_count": 28,
   "metadata": {},
   "outputs": [
    {
     "data": {
      "text/plain": [
       "0.0015848932787775993"
      ]
     },
     "execution_count": 28,
     "metadata": {},
     "output_type": "execute_result"
    }
   ],
   "source": [
    "lr = lr_min; lr_min"
   ]
  },
  {
   "cell_type": "code",
   "execution_count": 29,
   "metadata": {
    "scrolled": true
   },
   "outputs": [
    {
     "data": {
      "text/html": [
       "<table border=\"1\" class=\"dataframe\">\n",
       "  <thead>\n",
       "    <tr style=\"text-align: left;\">\n",
       "      <th>epoch</th>\n",
       "      <th>train_loss</th>\n",
       "      <th>valid_loss</th>\n",
       "      <th>accuracy_multi</th>\n",
       "      <th>fbeta_score</th>\n",
       "      <th>precision_score</th>\n",
       "      <th>recall_score</th>\n",
       "      <th>roc_auc_score</th>\n",
       "      <th>opt_th</th>\n",
       "      <th>time</th>\n",
       "    </tr>\n",
       "  </thead>\n",
       "  <tbody>\n",
       "    <tr>\n",
       "      <td>0</td>\n",
       "      <td>0.182619</td>\n",
       "      <td>0.161129</td>\n",
       "      <td>0.932174</td>\n",
       "      <td>0.800629</td>\n",
       "      <td>0.760993</td>\n",
       "      <td>0.854455</td>\n",
       "      <td>0.876516</td>\n",
       "      <td>0.260000</td>\n",
       "      <td>02:29</td>\n",
       "    </tr>\n",
       "    <tr>\n",
       "      <td>1</td>\n",
       "      <td>0.146114</td>\n",
       "      <td>0.146698</td>\n",
       "      <td>0.942513</td>\n",
       "      <td>0.819849</td>\n",
       "      <td>0.804443</td>\n",
       "      <td>0.856436</td>\n",
       "      <td>0.882332</td>\n",
       "      <td>0.470000</td>\n",
       "      <td>02:30</td>\n",
       "    </tr>\n",
       "    <tr>\n",
       "      <td>2</td>\n",
       "      <td>0.129368</td>\n",
       "      <td>0.131877</td>\n",
       "      <td>0.947525</td>\n",
       "      <td>0.839787</td>\n",
       "      <td>0.815841</td>\n",
       "      <td>0.867327</td>\n",
       "      <td>0.897666</td>\n",
       "      <td>0.410000</td>\n",
       "      <td>02:30</td>\n",
       "    </tr>\n",
       "  </tbody>\n",
       "</table>"
      ],
      "text/plain": [
       "<IPython.core.display.HTML object>"
      ]
     },
     "metadata": {},
     "output_type": "display_data"
    },
    {
     "name": "stdout",
     "output_type": "stream",
     "text": [
      "Better model found at epoch 0 with fbeta_score value: 0.8006285537632885.\n",
      "Better model found at epoch 1 with fbeta_score value: 0.8198489722868267.\n",
      "Better model found at epoch 2 with fbeta_score value: 0.8397873997624153.\n"
     ]
    }
   ],
   "source": [
    "set_seed(TL_RAND_SEED)\n",
    "learn.fit_one_cycle(3, lr_max=lr, cbs=fit_cbs)\n",
    "# learn.fit_flat_cos(10, lr_max=lr_min, cbs=fit_cbs, pct_start=0.72)"
   ]
  },
  {
   "cell_type": "code",
   "execution_count": 30,
   "metadata": {},
   "outputs": [
    {
     "data": {
      "text/html": [],
      "text/plain": [
       "<IPython.core.display.HTML object>"
      ]
     },
     "metadata": {},
     "output_type": "display_data"
    },
    {
     "data": {
      "text/plain": [
       "(2.0892961401841602e-06, 6.309573450380412e-07)"
      ]
     },
     "execution_count": 30,
     "metadata": {},
     "output_type": "execute_result"
    },
    {
     "data": {
      "image/png": "[encoded data removed]",
      "text/plain": [
       "<Figure size 648x432 with 1 Axes>"
      ]
     },
     "metadata": {},
     "output_type": "display_data"
    }
   ],
   "source": [
    "learn.unfreeze()\n",
    "lr_min, lr_steep = learn.lr_find(); lr_min, lr_steep"
   ]
  },
  {
   "cell_type": "code",
   "execution_count": 31,
   "metadata": {},
   "outputs": [
    {
     "data": {
      "text/plain": [
       "2.0892961401841602e-06"
      ]
     },
     "execution_count": 31,
     "metadata": {},
     "output_type": "execute_result"
    }
   ],
   "source": [
    "lr = lr_min; lr_min"
   ]
  },
  {
   "cell_type": "code",
   "execution_count": 32,
   "metadata": {
    "scrolled": true
   },
   "outputs": [
    {
     "data": {
      "text/html": [
       "<table border=\"1\" class=\"dataframe\">\n",
       "  <thead>\n",
       "    <tr style=\"text-align: left;\">\n",
       "      <th>epoch</th>\n",
       "      <th>train_loss</th>\n",
       "      <th>valid_loss</th>\n",
       "      <th>accuracy_multi</th>\n",
       "      <th>fbeta_score</th>\n",
       "      <th>precision_score</th>\n",
       "      <th>recall_score</th>\n",
       "      <th>roc_auc_score</th>\n",
       "      <th>opt_th</th>\n",
       "      <th>time</th>\n",
       "    </tr>\n",
       "  </thead>\n",
       "  <tbody>\n",
       "    <tr>\n",
       "      <td>0</td>\n",
       "      <td>0.101873</td>\n",
       "      <td>0.131474</td>\n",
       "      <td>0.946585</td>\n",
       "      <td>0.839103</td>\n",
       "      <td>0.806756</td>\n",
       "      <td>0.875743</td>\n",
       "      <td>0.898628</td>\n",
       "      <td>0.380000</td>\n",
       "      <td>05:24</td>\n",
       "    </tr>\n",
       "    <tr>\n",
       "      <td>1</td>\n",
       "      <td>0.102771</td>\n",
       "      <td>0.131645</td>\n",
       "      <td>0.946507</td>\n",
       "      <td>0.839196</td>\n",
       "      <td>0.808302</td>\n",
       "      <td>0.875248</td>\n",
       "      <td>0.899029</td>\n",
       "      <td>0.400000</td>\n",
       "      <td>05:23</td>\n",
       "    </tr>\n",
       "    <tr>\n",
       "      <td>2</td>\n",
       "      <td>0.125921</td>\n",
       "      <td>0.130602</td>\n",
       "      <td>0.947368</td>\n",
       "      <td>0.840735</td>\n",
       "      <td>0.812609</td>\n",
       "      <td>0.873267</td>\n",
       "      <td>0.899783</td>\n",
       "      <td>0.400000</td>\n",
       "      <td>05:24</td>\n",
       "    </tr>\n",
       "    <tr>\n",
       "      <td>3</td>\n",
       "      <td>0.123912</td>\n",
       "      <td>0.130224</td>\n",
       "      <td>0.949170</td>\n",
       "      <td>0.840308</td>\n",
       "      <td>0.831314</td>\n",
       "      <td>0.851485</td>\n",
       "      <td>0.893665</td>\n",
       "      <td>0.480000</td>\n",
       "      <td>05:24</td>\n",
       "    </tr>\n",
       "    <tr>\n",
       "      <td>4</td>\n",
       "      <td>0.114420</td>\n",
       "      <td>0.130279</td>\n",
       "      <td>0.947838</td>\n",
       "      <td>0.840547</td>\n",
       "      <td>0.817258</td>\n",
       "      <td>0.867327</td>\n",
       "      <td>0.897903</td>\n",
       "      <td>0.430000</td>\n",
       "      <td>05:23</td>\n",
       "    </tr>\n",
       "  </tbody>\n",
       "</table>"
      ],
      "text/plain": [
       "<IPython.core.display.HTML object>"
      ]
     },
     "metadata": {},
     "output_type": "display_data"
    },
    {
     "name": "stdout",
     "output_type": "stream",
     "text": [
      "Better model found at epoch 2 with fbeta_score value: 0.8407351009974536.\n"
     ]
    }
   ],
   "source": [
    "set_seed(TL_RAND_SEED)\n",
    "learn.fit_one_cycle(5, lr_max=slice(lr/10, lr), cbs=fit_cbs)\n",
    "# learn.fit_one_cycle(5, lr_max=lr, cbs=fit_cbs)\n",
    "# learn.fit_flat_cos(5, lr_max=slice(lr_min/10, lr_min), cbs=fit_cbs, pct_start=0.72)"
   ]
  },
  {
   "cell_type": "code",
   "execution_count": null,
   "metadata": {
    "scrolled": true
   },
   "outputs": [],
   "source": [
    "learn.loss_func.thresh # => not part of pytorch BCE loss function (so added above as needed)"
   ]
  },
  {
   "cell_type": "code",
   "execution_count": null,
   "metadata": {},
   "outputs": [],
   "source": [
    "learn.save(f'{m_pre}{base_model_name}{m_suf}')"
   ]
  },
  {
   "cell_type": "markdown",
   "metadata": {},
   "source": [
    "Export model for inference"
   ]
  },
  {
   "cell_type": "code",
   "execution_count": null,
   "metadata": {},
   "outputs": [],
   "source": [
    "learn.export(fname=f'{m_pre}{base_model_name}{m_suf}_export.pkl')"
   ]
  },
  {
   "cell_type": "markdown",
   "metadata": {},
   "source": [
    "Look at results"
   ]
  },
  {
   "cell_type": "code",
   "execution_count": null,
   "metadata": {},
   "outputs": [],
   "source": [
    "# have to add in the opthmize threshold cb since its used as *not* associated to the learner\n",
    "scores = dict(zip(learn.recorder.metric_names[2:], learn.validate(cbs=[fit_cbs[-1]]))); scores"
   ]
  },
  {
   "cell_type": "code",
   "execution_count": null,
   "metadata": {},
   "outputs": [],
   "source": [
    "# learn.show_results(learner=learn, max_n=2) \n",
    "# => ERROR:Only one class present in y_true. ROC AUC score is not defined in that case."
   ]
  },
  {
   "cell_type": "markdown",
   "metadata": {},
   "source": [
    "Use it for inference"
   ]
  },
  {
   "cell_type": "code",
   "execution_count": null,
   "metadata": {},
   "outputs": [],
   "source": [
    "inf_learn = load_learner(SENTIMENT_CLS_PATH/f'{m_pre}{base_model_name}{m_suf}_export.pkl')"
   ]
  },
  {
   "cell_type": "code",
   "execution_count": null,
   "metadata": {},
   "outputs": [],
   "source": [
    "inf_learn.loss_func.thresh = scores['opt_th']\n",
    "inf_learn.loss_func.thresh"
   ]
  },
  {
   "cell_type": "code",
   "execution_count": null,
   "metadata": {},
   "outputs": [],
   "source": [
    "inf_learn.blurr_predict('We are not paid enough and the benefits are horrible')"
   ]
  },
  {
   "cell_type": "markdown",
   "metadata": {},
   "source": [
    "Review final validation loss for best model"
   ]
  },
  {
   "cell_type": "code",
   "execution_count": null,
   "metadata": {},
   "outputs": [],
   "source": [
    "print(SENT_LABELS[1:])"
   ]
  },
  {
   "cell_type": "code",
   "execution_count": null,
   "metadata": {},
   "outputs": [],
   "source": [
    "learn = learn.load(f'{m_pre}{base_model_name}{m_suf}_bestmodel')\n",
    "learn.loss_func.thresh = scores['opt_th']\n",
    "probs, targs, loss = learn.get_preds(dl=dls.valid, with_loss=True)\n",
    "\n",
    "print(f'Validation Loss: {loss.mean()}')\n",
    "# print(f'Validation Loss (per label): {loss.mean(dim=0)}') # ... no longer works (see forum comment from sylvain)"
   ]
  },
  {
   "cell_type": "code",
   "execution_count": null,
   "metadata": {
    "scrolled": true
   },
   "outputs": [],
   "source": [
    "learn.blurr_predict(\"The faculty really support us well!!!  It's great working and I feel valued\")"
   ]
  },
  {
   "cell_type": "markdown",
   "metadata": {
    "heading_collapsed": true
   },
   "source": [
    "## Review"
   ]
  },
  {
   "cell_type": "code",
   "execution_count": null,
   "metadata": {
    "hidden": true
   },
   "outputs": [],
   "source": [
    "try: del learn\n",
    "except: pass\n",
    "finally: gc.collect(); torch.cuda.empty_cache()"
   ]
  },
  {
   "cell_type": "code",
   "execution_count": null,
   "metadata": {
    "hidden": true
   },
   "outputs": [],
   "source": [
    "# predictions for a single model using the learner's model and data loaders\n",
    "set_seed(TL_RAND_SEED)\n",
    "learn, fit_cbs = get_learner(hf_model, \n",
    "                             dls, \n",
    "                             train_df=train_df, \n",
    "                             use_weighted_loss=False, \n",
    "                             use_fp16=True,\n",
    "                             train_config={})\n",
    "\n",
    "learn = learn.load(f'{m_pre}{base_model_name}{m_suf}_bestmodel')\n",
    "learn.loss_func.thresh = scores['opt_th']\n",
    "learn.model.cuda(1)\n",
    "probs, targs  = learn.get_preds()\n",
    "\n",
    "probs.shape, targs.shape, len(dls.valid_ds), dls.c, learn.loss_func.thresh"
   ]
  },
  {
   "cell_type": "markdown",
   "metadata": {
    "hidden": true
   },
   "source": [
    "### Lets look at validation metrics"
   ]
  },
  {
   "cell_type": "code",
   "execution_count": null,
   "metadata": {
    "hidden": true
   },
   "outputs": [],
   "source": [
    "# determine optimal threshold based on desired f-score\n",
    "f05 = OptimalMultiThresholdMetrics(beta=0.5, start=0.05, end=.5, sigmoid=False, \n",
    "                                   average=average, sample_weight=sample_weight)\n",
    "f1 = OptimalMultiThresholdMetrics(beta=1, start=0.05, end=.5, sigmoid=False, \n",
    "                                   average=average, sample_weight=sample_weight)\n",
    "f2 = OptimalMultiThresholdMetrics(beta=2, start=0.05, end=.5, sigmoid=False, \n",
    "                                   average=average, sample_weight=sample_weight)"
   ]
  },
  {
   "cell_type": "code",
   "execution_count": null,
   "metadata": {
    "hidden": true
   },
   "outputs": [],
   "source": [
    "threshold_f05 = f05.opt_th(probs, targs)\n",
    "threshold_f1 = f1.opt_th(probs, targs)\n",
    "threshold_f2 = f2.opt_th(probs, targs)\n",
    "\n",
    "threshold_f05, threshold_f1, threshold_f2"
   ]
  },
  {
   "cell_type": "code",
   "execution_count": null,
   "metadata": {
    "hidden": true
   },
   "outputs": [],
   "source": [
    "f05_score = f05.opt_fscore(probs, targs)\n",
    "f1_score = f1.opt_fscore(probs, targs)\n",
    "f2_score = f2.opt_fscore(probs, targs)\n",
    "\n",
    "f05_score, f1_score, f2_score"
   ]
  },
  {
   "cell_type": "code",
   "execution_count": null,
   "metadata": {
    "hidden": true
   },
   "outputs": [],
   "source": [
    "# make sure we are getting the same f1 score as sklearn\n",
    "res = skm.fbeta_score(targs, (probs > threshold_f1), beta=1, \n",
    "                      average=average, sample_weight=sample_weight, zero_division=False)\n",
    "res"
   ]
  },
  {
   "cell_type": "code",
   "execution_count": null,
   "metadata": {
    "hidden": true
   },
   "outputs": [],
   "source": [
    "# determine accuracy based on optimal threshold\n",
    "val_acc_f05 = accuracy_multi(probs, targs, threshold_f05, sigmoid=False).item()\n",
    "val_acc_f1 = accuracy_multi(probs, targs, threshold_f1, sigmoid=False).item()\n",
    "val_acc_f2 = accuracy_multi(probs, targs, threshold_f2, sigmoid=False).item()\n",
    "\n",
    "val_acc_f05, val_acc_f1, val_acc_f2"
   ]
  },
  {
   "cell_type": "code",
   "execution_count": null,
   "metadata": {
    "hidden": true
   },
   "outputs": [],
   "source": [
    "# make sure we are getting the same f1 accuracy\n",
    "preds = ((probs > threshold_f1).byte() == targs.byte()).float().mean()\n",
    "preds.item()"
   ]
  },
  {
   "cell_type": "markdown",
   "metadata": {
    "hidden": true
   },
   "source": [
    "### Overall metrics"
   ]
  },
  {
   "cell_type": "code",
   "execution_count": null,
   "metadata": {
    "hidden": true
   },
   "outputs": [],
   "source": [
    "eval_targs = targs.flatten()\n",
    "eval_probs = probs.flatten()"
   ]
  },
  {
   "cell_type": "markdown",
   "metadata": {
    "hidden": true
   },
   "source": [
    "#### Classification Accuracy\n",
    "\n",
    "The percentage of correct predictions.  Answers the question, *\"Overall, how often is the classifier correct?\"*"
   ]
  },
  {
   "cell_type": "code",
   "execution_count": null,
   "metadata": {
    "hidden": true
   },
   "outputs": [],
   "source": [
    "# In multilabel classification, this function computes subset accuracy: \n",
    "# the set of labels predicted for a sample must exactly match ALL the corresponding set of labels in y_true.\n",
    "print(skm.accuracy_score(targs, (probs > threshold_f1), sample_weight=sample_weight))"
   ]
  },
  {
   "cell_type": "code",
   "execution_count": null,
   "metadata": {
    "hidden": true
   },
   "outputs": [],
   "source": [
    "print(skm.accuracy_score(eval_targs, (eval_probs > threshold_f1).float(), sample_weight=sample_weight))"
   ]
  },
  {
   "cell_type": "markdown",
   "metadata": {
    "hidden": true
   },
   "source": [
    "#### Null Accuracy\n",
    " \n",
    "The accuracy achieved by always predicting the most frequent class.  Answers the question, *\"What would the accuracy be by always predicting the most frequent case?\"*"
   ]
  },
  {
   "cell_type": "code",
   "execution_count": null,
   "metadata": {
    "hidden": true
   },
   "outputs": [],
   "source": [
    "u_classes, u_counts = np.unique(eval_targs, return_counts=True)\n",
    "most_freq_class, most_freq_class_count = u_classes[np.argmax(u_counts)], np.max(u_counts)\n",
    "print(most_freq_class, most_freq_class_count)"
   ]
  },
  {
   "cell_type": "code",
   "execution_count": null,
   "metadata": {
    "hidden": true
   },
   "outputs": [],
   "source": [
    "most_freq_class_count / len(eval_targs)"
   ]
  },
  {
   "cell_type": "markdown",
   "metadata": {
    "hidden": true
   },
   "source": [
    "#### Cohen's kappa\n",
    "\n",
    "This measure is intended to compare labelings by different human annotators (not a classifier vs. ground truth)\n",
    "\n",
    "Kappa socres are between -1 and 1 ( >= .8 is generally considered good agreement; <= 0 means no agreement ... e.g., practically random labels)"
   ]
  },
  {
   "cell_type": "code",
   "execution_count": null,
   "metadata": {
    "hidden": true
   },
   "outputs": [],
   "source": [
    "print(skm.cohen_kappa_score(eval_targs, (eval_probs > threshold_f1).float(), \n",
    "                            weights=None, sample_weight=sample_weight))"
   ]
  },
  {
   "cell_type": "markdown",
   "metadata": {
    "hidden": true
   },
   "source": [
    "#### Confusion Matrix\n",
    "\n",
    "Describes the performance of a classification model"
   ]
  },
  {
   "cell_type": "code",
   "execution_count": null,
   "metadata": {
    "hidden": true
   },
   "outputs": [],
   "source": [
    "def plot_confusion_matrix(cm, classes, normalize=False, \n",
    "                          title='Confusion matrix', cmap=plt.cm.Blues, print_info=False):\n",
    "    \"\"\"\n",
    "    This function prints and plots the confusion matrix.\n",
    "    Normalization can be applied by setting `normalize=True`.\n",
    "    \"\"\"\n",
    "    if normalize:\n",
    "        cm = cm.astype('float') / cm.sum(axis=1)[:, np.newaxis]\n",
    "        if (print_info): print(\"Normalized confusion matrix\")\n",
    "    else:\n",
    "        if (print_info): print('Confusion matrix, without normalization')\n",
    "\n",
    "    if (print_info): print(cm)\n",
    "\n",
    "    plt.imshow(cm, interpolation='nearest', cmap=cmap)\n",
    "    plt.title(title)\n",
    "    plt.colorbar(fraction=0.046, pad=0.04)\n",
    "    tick_marks = np.arange(len(classes))\n",
    "    plt.xticks(tick_marks, classes, rotation=45)\n",
    "    plt.yticks(tick_marks, classes)\n",
    "\n",
    "    fmt = '.2f' if normalize else 'd'\n",
    "    thresh = cm.max() / 2.\n",
    "    for i, j in itertools.product(range(cm.shape[0]), range(cm.shape[1])):\n",
    "        plt.text(j, i, format(cm[i, j], fmt),\n",
    "                 horizontalalignment=\"center\",\n",
    "                 color=\"white\" if cm[i, j] > thresh else \"black\")\n",
    "\n",
    "    plt.tight_layout()\n",
    "    plt.ylabel('True label')\n",
    "    plt.xlabel('Predicted label')\n",
    "    plt.grid(None)"
   ]
  },
  {
   "cell_type": "code",
   "execution_count": null,
   "metadata": {
    "hidden": true
   },
   "outputs": [],
   "source": [
    "cm = skm.confusion_matrix(eval_targs, (eval_probs > threshold_f1).float(), sample_weight=sample_weight)"
   ]
  },
  {
   "cell_type": "code",
   "execution_count": null,
   "metadata": {
    "hidden": true
   },
   "outputs": [],
   "source": [
    "# Plot non-normalized confusion matrix\n",
    "fig = plt.figure(figsize=(12,8))\n",
    "plt.subplot(1, 2, 1)\n",
    "plot_confusion_matrix(cm, classes=u_classes,\n",
    "                      title='Confusion matrix, without normalization')\n",
    "\n",
    "# Plot normalized confusion matrix\n",
    "plt.subplot(1, 2, 2)\n",
    "plot_confusion_matrix(cm, classes=u_classes, normalize=True,\n",
    "                      title='Normalized confusion matrix')\n",
    "\n",
    "fig.subplots_adjust(wspace=0.5)\n",
    "plt.show()"
   ]
  },
  {
   "cell_type": "code",
   "execution_count": null,
   "metadata": {
    "hidden": true
   },
   "outputs": [],
   "source": [
    "cm = skm.multilabel_confusion_matrix(targs, (probs > threshold_f1).float(), sample_weight=sample_weight)"
   ]
  },
  {
   "cell_type": "code",
   "execution_count": null,
   "metadata": {
    "hidden": true
   },
   "outputs": [],
   "source": [
    "from sklearn.metrics import ConfusionMatrixDisplay\n",
    "\n",
    "f, axes = plt.subplots(2, 4, figsize=(25, 15))\n",
    "axes = axes.ravel()\n",
    "for i in range(8):\n",
    "    disp = ConfusionMatrixDisplay(cm[i], display_labels=[0, 1])\n",
    "    disp.plot(ax=axes[i], values_format='.4g', cmap=plt.cm.Blues)\n",
    "    disp.ax_.set_title(SENT_LABELS[1:][i][:30])\n",
    "    disp.ax_.grid(False)\n",
    "    if i<20:\n",
    "        disp.ax_.set_xlabel('')\n",
    "    if i%5!=0:\n",
    "        disp.ax_.set_ylabel('')\n",
    "    disp.im_.colorbar.remove()\n",
    "\n",
    "plt.subplots_adjust(wspace=0.10, hspace=0.10)\n",
    "f.colorbar(disp.im_, ax=axes)\n",
    "plt.show()"
   ]
  },
  {
   "cell_type": "code",
   "execution_count": null,
   "metadata": {
    "hidden": true
   },
   "outputs": [],
   "source": [
    "print(skm.classification_report(eval_targs, (eval_probs > threshold_f1).float(), \n",
    "                                labels=[0,1], \n",
    "                                sample_weight=sample_weight, \n",
    "                                zero_division=1))"
   ]
  },
  {
   "cell_type": "code",
   "execution_count": null,
   "metadata": {
    "hidden": true
   },
   "outputs": [],
   "source": [
    "classification_report = skm.classification_report(targs, (probs > threshold_f1).float(), \n",
    "                                target_names=SENT_LABELS[1:],\n",
    "                                sample_weight=sample_weight,\n",
    "                                zero_division=1,\n",
    "                                output_dict=True)\n",
    "\n",
    "pd.DataFrame(classification_report).transpose()"
   ]
  },
  {
   "cell_type": "markdown",
   "metadata": {
    "hidden": true
   },
   "source": [
    "#### Raw probability distribution\n",
    "\n",
    "Useful to see how the threshold can be adjusted to increase sensitivity or specificity"
   ]
  },
  {
   "cell_type": "code",
   "execution_count": null,
   "metadata": {
    "hidden": true
   },
   "outputs": [],
   "source": [
    "plt.hist(eval_probs, bins=10)\n",
    "# plt.xlim(0,1)\n",
    "plt.title('Histogram of predicted probabilities')\n",
    "plt.xlabel('Predicted probability of Labels')\n",
    "plt.ylabel('Frequency')"
   ]
  },
  {
   "cell_type": "markdown",
   "metadata": {
    "hidden": true
   },
   "source": [
    "#### ROC curves and Area Under the Curve (AUC)\n",
    "\n",
    "***ROC Curve*** answers the question, *\"How would sensitivity and specificity be affected by various thresholds without changing the threshold?\"*  It is a way **to visualize the performance of a binary classifier.**\n",
    "\n",
    "The ROC curve can help you **choose a threshold** that balances sensitivity and specificity based on your particular business case.\n",
    "\n",
    "ROC curves visualize all possible classification thresholds whereas misclassification rate only represents your error rate for a single threshold.\n",
    "\n",
    "A classifier that does a good job at separating the classes will have a ROC curve that hugs the upper left corner of the plot.  Converseley, a classifier the does a poor job separating the classes will have a ROC curve that is close to the diagonal line (0,0 -> 1,1).  That diagonal line represents a classifier that does no better than random guessing."
   ]
  },
  {
   "cell_type": "code",
   "execution_count": null,
   "metadata": {
    "hidden": true
   },
   "outputs": [],
   "source": [
    "fpr, tpr, thresholds = skm.roc_curve(eval_targs, eval_probs, sample_weight=sample_weight)"
   ]
  },
  {
   "cell_type": "code",
   "execution_count": null,
   "metadata": {
    "hidden": true
   },
   "outputs": [],
   "source": [
    "plt.plot(fpr, tpr)\n",
    "plt.xlim = ([0.0, 1.0])\n",
    "plt.ylim = ([0.0, 1.0])\n",
    "plt.title('ROC curve for all labels')\n",
    "plt.xlabel('False Positive Rate (1 - Specificity)')\n",
    "plt.ylabel('True Positive Rate (Sensitivity/Recall)')\n",
    "plt.grid(True)"
   ]
  },
  {
   "cell_type": "markdown",
   "metadata": {
    "hidden": true
   },
   "source": [
    "***AUC*** = the percentage of the ROC plot that is underneath the curve.  \n",
    "\n",
    "AUC summarizes the performance of a classifier in a **single number**.  It says, *\"If you randomly chose one positive and one negative observation, what is the likelihood that your classifier will assign a higher predicted probability to the positive observation.\"*\n",
    "\n",
    "**An AUC of ~ 0.8 is very good while an AUC of ~ 0.5 represents a poor classifier.**\n",
    "\n",
    "The ROC curve and AUC are insensitive to whether your predicted probabilities are properly calibrated to actually represent probabilities of class membership (e.g., it works if predicted probs range from 0.9 to 1 instead of 0 to 1).  All the AUC metric cares about is how well your classifier separated the two classes\n",
    "\n",
    "Notes:\n",
    "1.  AUC is useful even when there is **high class imbalance** (unlike classification accuracy)\n",
    "2.  AUC is useful even when predicted probabilities are not properly calibrated (e.g., not between 0 and 1)"
   ]
  },
  {
   "cell_type": "code",
   "execution_count": null,
   "metadata": {
    "hidden": true
   },
   "outputs": [],
   "source": [
    "print(skm.roc_auc_score(eval_targs, eval_probs, average=average, sample_weight=sample_weight))"
   ]
  },
  {
   "cell_type": "markdown",
   "metadata": {
    "hidden": true
   },
   "source": [
    "### Let's look at things by label by label"
   ]
  },
  {
   "cell_type": "code",
   "execution_count": null,
   "metadata": {
    "hidden": true
   },
   "outputs": [],
   "source": [
    "label_metrics = {\n",
    "    'thresholds': { 'f-beta05': threshold_f05, 'f-beta1': threshold_f1, 'f-beta2': threshold_f2 }\n",
    "}\n",
    "\n",
    "for idx, lbl in enumerate(SENT_LABELS[1:]):\n",
    "    lbl_name, lbl_idx, lbl_targs, lbl_probs = lbl, idx, targs[:,idx], probs[:, idx]\n",
    "    \n",
    "    label_metrics[lbl_name] = {}\n",
    "    label_metrics[lbl_name]['accuracies'] = {}\n",
    "    label_metrics[lbl_name]['cohen_kappas'] = {}\n",
    "    label_metrics[lbl_name]['confusion_matrices'] = {}\n",
    "    label_metrics[lbl_name]['roc'] = {}\n",
    "    label_metrics[lbl_name]['report'] = {}\n",
    "    \n",
    "    # get null accuracy (accuracy we'd get if we simply predicted the most common class)\n",
    "    u_classes, u_counts = np.unique(lbl_targs, return_counts=True)\n",
    "    most_freq_class, most_freq_class_count = u_classes[np.argmax(u_counts)], np.max(u_counts)\n",
    "    label_metrics[lbl_name]['null_accuracy'] = most_freq_class_count / len(lbl_targs)\n",
    "    \n",
    "    # get raw probability distribution\n",
    "    label_metrics[lbl_name]['probability_distribution'] = np.histogram(lbl_probs)\n",
    "    \n",
    "    # roc/auc curve metrics\n",
    "    label_metrics[lbl_name]['roc_auc'] = skm.roc_auc_score(lbl_targs, lbl_probs, \n",
    "                                                           average=average, sample_weight=sample_weight)\n",
    "    \n",
    "    fpr, tpr, thresholds = skm.roc_curve(lbl_targs, lbl_probs, sample_weight=sample_weight)\n",
    "    label_metrics[lbl_name]['roc']['fpr'] = fpr\n",
    "    label_metrics[lbl_name]['roc']['tpr'] = tpr\n",
    "    label_metrics[lbl_name]['roc']['thresholds'] = thresholds\n",
    "    \n",
    "    for k,v in label_metrics['thresholds'].items():\n",
    "        label_metrics[lbl_name]['accuracies'][k] = skm.accuracy_score(lbl_targs, (lbl_probs > v), \n",
    "                                                                      sample_weight=sample_weight)\n",
    "        \n",
    "        label_metrics[lbl_name]['cohen_kappas'][k] = skm.cohen_kappa_score(lbl_targs, (lbl_probs > v), \n",
    "                                                                           sample_weight=sample_weight)\n",
    "        \n",
    "        label_metrics[lbl_name]['confusion_matrices'][k] = skm.confusion_matrix(lbl_targs, (lbl_probs > v), \n",
    "                                                                                sample_weight=sample_weight)\n",
    "        \n",
    "        precision, recall, fbeta_score, support = skm.precision_recall_fscore_support(lbl_targs, \n",
    "                                                                                      (lbl_probs > v), \n",
    "                                                                                      average=None, \n",
    "                                                                                      sample_weight=sample_weight)\n",
    "        label_metrics[lbl_name]['report'][k] = {}\n",
    "        label_metrics[lbl_name]['report'][k]['precision'] = precision\n",
    "        label_metrics[lbl_name]['report'][k]['recall'] = recall\n",
    "        label_metrics[lbl_name]['report'][k]['fbeta_score'] = fbeta_score\n",
    "        label_metrics[lbl_name]['report'][k]['support'] = support\n",
    "          \n",
    "          "
   ]
  },
  {
   "cell_type": "code",
   "execution_count": null,
   "metadata": {
    "hidden": true
   },
   "outputs": [],
   "source": [
    "# label_metrics"
   ]
  },
  {
   "cell_type": "code",
   "execution_count": null,
   "metadata": {
    "hidden": true
   },
   "outputs": [],
   "source": [
    "for lbl in label_metrics.keys():\n",
    "    if (lbl == 'thresholds'): continue\n",
    "    \n",
    "    print(f'{lbl.upper()}\\n')\n",
    "    \n",
    "    print(f'Null Accuracy:\\t{label_metrics[lbl][\"null_accuracy\"]}')\n",
    "    print(f'AUC Score:\\t{label_metrics[lbl][\"roc_auc\"]}')\n",
    "    print('')\n",
    "    \n",
    "    print(''.join([ f'\\t\\t{threshold}({np.round(v, 4)})' for threshold, v in label_metrics['thresholds'].items() ]))\n",
    "    \n",
    "    print('Accuracy:\\t', end='')\n",
    "    for threshold, v in label_metrics['thresholds'].items():\n",
    "        print(f'{label_metrics[lbl][\"accuracies\"][threshold]}\\t', end='')\n",
    "    print('')\n",
    "    \n",
    "    print('Cohen\\'s Kappa:\\t', end='')\n",
    "    for threshold, v in label_metrics['thresholds'].items():\n",
    "        print(f'{label_metrics[lbl][\"cohen_kappas\"][threshold]}\\t', end='')\n",
    "    print('\\n')\n",
    "    \n",
    "    print('Classification Reports:')\n",
    "    for k in label_metrics[lbl]['report'].keys():\n",
    "        print(f'{k}')\n",
    "        print(f'{\"\":<20}' + ''.join([ f'{sub_key:<20}' for sub_key in label_metrics[lbl]['report'][k].keys() ]))\n",
    "        \n",
    "        for i in range(2):\n",
    "            print(f'{i:<20}' + ''.join([ f'{np.round(v[i],4):<20}' \n",
    "                                      for v in label_metrics[lbl]['report'][k].values() ]))\n",
    "        \n",
    "        print(f'{\"avg/total\":<20}' + ''.join([ f'{ np.round(v.mean(),4) if (sub_key != \"support\") else np.round(v.sum(),4):<20}' \n",
    "                                     for sub_key, v in label_metrics[lbl]['report'][k].items() ]))\n",
    "        print('')\n",
    "    print('\\n')\n",
    "    \n",
    "    print('Confusion Matrices:')\n",
    "    for threshold, v in label_metrics['thresholds'].items():\n",
    "        cm = label_metrics[lbl]['confusion_matrices'][threshold]\n",
    "        \n",
    "        # Plot non-normalized confusion matrix\n",
    "        fig = plt.figure(figsize=(12,8))\n",
    "        plt.subplot(1, 2, 1)\n",
    "        plot_confusion_matrix(cm, classes=[0,1], \n",
    "                              title=f'Confusion matrix, without normalization ({threshold}: {np.round(v,4)})')\n",
    "\n",
    "        # Plot normalized confusion matrix\n",
    "        plt.subplot(1, 2, 2)\n",
    "        plot_confusion_matrix(cm, classes=[0,1], normalize=True, \n",
    "                              title=f'Normalized confusion matrix ({threshold}: {np.round(v,4)})')\n",
    "\n",
    "        fig.subplots_adjust(wspace=0.5)\n",
    "        plt.show()\n",
    "    print('\\n')\n",
    "    \n",
    "    print('ROC Curve:')\n",
    "    plt.figure(figsize=(12,8))\n",
    "    plt.plot(label_metrics[lbl]['roc']['fpr'], label_metrics[lbl]['roc']['tpr'])\n",
    "    plt.xlim = ([0.0, 1.0])\n",
    "    plt.ylim = ([0.0, 1.0])\n",
    "    plt.title(f'ROC curve for {lbl}')\n",
    "    plt.xlabel('False Positive Rate (1 - Specificity)')\n",
    "    plt.ylabel('True Positive Rate (Sensitivity/Recall)')\n",
    "    plt.grid(True)\n",
    "    plt.show()\n",
    "    \n",
    "    print('Predicted Probability Distribution:')\n",
    "    plt.figure(figsize=(12,8))\n",
    "    plt.xlim = ([0.0, 1.0])\n",
    "    plt.bar(label_metrics[lbl]['probability_distribution'][1][:-1], \n",
    "            label_metrics[lbl]['probability_distribution'][0], width=0.1)\n",
    "    plt.show()\n",
    "    \n",
    "    print('\\n')\n",
    "    print('-'*100)\n",
    "    print('\\n')\n",
    "        "
   ]
  },
  {
   "cell_type": "markdown",
   "metadata": {},
   "source": [
    "## Final results"
   ]
  },
  {
   "cell_type": "code",
   "execution_count": null,
   "metadata": {},
   "outputs": [],
   "source": [
    "try: del inf_learn\n",
    "except: pass\n",
    "finally: gc.collect(); torch.cuda.empty_cache()\n",
    "\n",
    "inf_learn = load_learner(fname=SENTIMENT_CLS_PATH/f'{m_pre}{base_model_name}{m_suf}_export.pkl')\n",
    "inf_learn.loss_func.thresh = scores['opt_th']\n",
    "dls = get_sentiment_train_dls(df, hf_arch, hf_tokenizer)\n",
    "inf_learn.dls = dls"
   ]
  },
  {
   "cell_type": "code",
   "execution_count": null,
   "metadata": {},
   "outputs": [],
   "source": [
    "# inf_learn.loss_func = inf_learn.loss_func.to('cuda:1')"
   ]
  },
  {
   "cell_type": "code",
   "execution_count": null,
   "metadata": {},
   "outputs": [],
   "source": [
    "probs, targs, loss = inf_learn.get_preds(with_loss=True, reorder=True)\n",
    "probs.shape, targs.shape, loss.shape"
   ]
  },
  {
   "cell_type": "code",
   "execution_count": null,
   "metadata": {},
   "outputs": [],
   "source": [
    "# determine optimal threshold based on desired f-score\n",
    "f05 = OptimalMultiThresholdMetrics(beta=0.5, start=0.05, end=.5, sigmoid=False, \n",
    "                                   average=average, sample_weight=sample_weight)\n",
    "f1 = OptimalMultiThresholdMetrics(beta=1, start=0.05, end=.5, sigmoid=False, \n",
    "                                   average=average, sample_weight=sample_weight)\n",
    "f2 = OptimalMultiThresholdMetrics(beta=2, start=0.05, end=.5, sigmoid=False, \n",
    "                                   average=average, sample_weight=sample_weight)"
   ]
  },
  {
   "cell_type": "code",
   "execution_count": null,
   "metadata": {},
   "outputs": [],
   "source": [
    "# determine optimal threshold based on desired f-score\n",
    "threshold_f05 = f05.opt_th(probs, targs)\n",
    "threshold_f1 = f1.opt_th(probs, targs)\n",
    "threshold_f2 = f2.opt_th(probs, targs)\n",
    "\n",
    "print(threshold_f05, threshold_f1, threshold_f2)\n",
    "\n",
    "# determine accuracy based on optimal threshold\n",
    "val_acc_f05 = accuracy_multi(probs, targs, threshold_f05, sigmoid=False).item()\n",
    "val_acc_f1 = accuracy_multi(probs, targs, threshold_f1, sigmoid=False).item()\n",
    "val_acc_f2 = accuracy_multi(probs, targs, threshold_f2, sigmoid=False).item()\n",
    "\n",
    "print('Fowards Only\\n-------------')\n",
    "print(f'f05:\\tOptimal threshold = {threshold_f05}\\t(Accuracy = {val_acc_f05})')\n",
    "print(f'f1:\\tOptimal threshold = {threshold_f1}\\t(Accuracy = {val_acc_f1})')\n",
    "print(f'f2:\\tOptimal threshold = {threshold_f2}\\t(Accuracy = {val_acc_f2})')\n",
    "\n",
    "print(f'\\nAccuracy: {accuracy_multi(probs, targs, sigmoid=False)}')"
   ]
  },
  {
   "cell_type": "code",
   "execution_count": null,
   "metadata": {},
   "outputs": [],
   "source": [
    "final_valid_loss = loss.mean().item()"
   ]
  },
  {
   "cell_type": "markdown",
   "metadata": {},
   "source": [
    "## Build our training loop for hyperparam optimization and final training"
   ]
  },
  {
   "cell_type": "code",
   "execution_count": null,
   "metadata": {},
   "outputs": [],
   "source": [
    "try: del learn; del dls\n",
    "except: pass\n",
    "finally: gc.collect(); torch.cuda.empty_cache()\n",
    "    \n",
    "yyyymmdd = datetime.today().strftime(\"%Y%m%d\")"
   ]
  },
  {
   "cell_type": "code",
   "execution_count": null,
   "metadata": {},
   "outputs": [],
   "source": [
    "class FastAIPruningCallbackv2(TrackerCallback):\n",
    "    def __init__(self, trial, monitor='valid_loss', **kwargs) -> None:\n",
    "        super().__init__(monitor=monitor, **kwargs)\n",
    "        self._trial = trial\n",
    "\n",
    "    def after_epoch(self) -> None:\n",
    "        super().after_epoch()\n",
    "        \n",
    "        value = self.recorder.values[-1][self.idx]\n",
    "        if value is None: return\n",
    "\n",
    "        self._trial.report(float(value), step=self.epoch)\n",
    "        if self._trial.should_prune():\n",
    "            message = \"Trial was pruned at epoch {}.\".format(self.epoch)\n",
    "            raise optuna.TrialPruned(message)"
   ]
  },
  {
   "cell_type": "code",
   "execution_count": null,
   "metadata": {},
   "outputs": [],
   "source": [
    "#export\n",
    "def train(params, trial=None, train_config={}):\n",
    "    \n",
    "    config = {**sentiment_train_config, **train_config}    \n",
    "    m_pre, m_suf, base_model_name = config['m_pre'], config['m_suf'], config['base_model_name']\n",
    "    full_model_name = f'{m_pre}{base_model_name}{m_suf}'\n",
    "\n",
    "    # 1. grab our huggingface objects\n",
    "    task = HF_TASKS_AUTO.SequenceClassification\n",
    "    hf_config = AutoConfig.from_pretrained(params[\"pretrained_model_name\"])\n",
    "    hf_config.num_labels = len(SENT_LABELS[1:])\n",
    "    \n",
    "    if (f'{params[\"pretrained_model_name\"]}_config_overrides' in params):\n",
    "        hf_config.update(params[f'{params[\"pretrained_model_name\"]}_config_overrides'])\n",
    "    else:\n",
    "        config_overrides = { k:v for k,v in params.items() if (k in hf_config.to_dict()) }\n",
    "        hf_config.update(config_overrides)\n",
    "\n",
    "    hf_arch, hf_config, hf_tokenizer, hf_model = BLURR_MODEL_HELPER.get_hf_objects(params[\"pretrained_model_name\"], \n",
    "                                                                                   task=task, \n",
    "                                                                                   config=hf_config)\n",
    "\n",
    "    # 2. build our dls and learner\n",
    "    df = get_sentiment_train_data(train_config=config)\n",
    "    train_df, valid_df = df[df.is_valid == False], df[df.is_valid == True]\n",
    "    \n",
    "    set_seed(TL_RAND_SEED)\n",
    "    dls = get_sentiment_train_dls(df, hf_arch, hf_tokenizer, train_config=config, use_cache=False)\n",
    "    \n",
    "    set_seed(TL_RAND_SEED)\n",
    "    learn, fit_cbs = get_learner(hf_model, \n",
    "                                 dls, \n",
    "                                 train_df=None, \n",
    "                                 use_weighted_loss=params[\"use_weighted_loss\"], \n",
    "                                 use_fp16=params[\"use_fp16\"],\n",
    "                                 add_save_model_cb=params['save_model'],\n",
    "                                 train_config=config)\n",
    "    \n",
    "    if (trial is not None): learn.add_cb(FastAIPruningCallbackv2(trial=trial, monitor=params['optimize_for']))\n",
    "    \n",
    "    # 3. train\n",
    "    with learn.no_logging(): \n",
    "        set_seed(TL_RAND_SEED)\n",
    "        learn.fit_one_cycle(params[\"n_frozen_epochs\"], lr_max=params[\"frozen_lr\"], cbs=fit_cbs)\n",
    "        \n",
    "        learn.unfreeze()\n",
    "        set_seed(TL_RAND_SEED)\n",
    "        learn.fit_one_cycle(params[\"n_unfrozen_epochs\"], \n",
    "                            lr_max=slice(params[\"unfrozen_lr_min\"], params[\"unfrozen_lr_max\"]), \n",
    "                            cbs=fit_cbs)\n",
    "        \n",
    "        # export model for inference (SavedModelCallback already saves the best model if save_mode=True)\n",
    "        if (trial is None): learn.export(fname=f\"{yyyymmdd}_{config['export_filename']}\")\n",
    "        \n",
    "    # 4. evaluate\n",
    "    scores = dict(zip(learn.recorder.metric_names[2:], learn.validate(cbs=[fit_cbs[-1]])))\n",
    "    \n",
    "    try:\n",
    "        if (trial is not None): return scores[params['optimize_for']]\n",
    "        \n",
    "        learn.loss_func.thresh = scores['opt_th']\n",
    "        probs, targs, losses = learn.get_preds(dl=dls.valid, with_loss=True)\n",
    "\n",
    "        # determine optimal threshold based on desired f-score\n",
    "        average, sample_weight = config['opt_beta_average'], config['opt_beta_sample_weight']\n",
    "\n",
    "        f05 = OptimalMultiThresholdMetrics(beta=0.5, start=0.05, end=.5, sigmoid=False, \n",
    "                                           average=average, sample_weight=sample_weight)\n",
    "        f1 = OptimalMultiThresholdMetrics(beta=1, start=0.05, end=.5, sigmoid=False, \n",
    "                                           average=average, sample_weight=sample_weight)\n",
    "        f2 = OptimalMultiThresholdMetrics(beta=2, start=0.05, end=.5, sigmoid=False, \n",
    "                                           average=average, sample_weight=sample_weight)\n",
    "\n",
    "        scores['f05'], scores['f1'], scores['f2'] = {}, {}, {}\n",
    "\n",
    "        scores['f05']['threshold'] = f05.opt_th(probs, targs)\n",
    "        scores['f1']['threshold'] = f1.opt_th(probs, targs)\n",
    "        scores['f2']['threshold'] = f2.opt_th(probs, targs)\n",
    "\n",
    "        scores['f05']['score'] = f05.opt_fscore(probs, targs)\n",
    "        scores['f1']['score'] = f1.opt_fscore(probs, targs)\n",
    "        scores['f2']['score'] = f2.opt_fscore(probs, targs)\n",
    "\n",
    "        # save scores from validation set if mode == training\n",
    "        with open(f\"{config['learner_path']}/{yyyymmdd}_{full_model_name}_train_scores.json\", 'w') as f:\n",
    "            json.dump(scores, f, indent=4)\n",
    "\n",
    "        # save train/validation probs, targs, losses for review\n",
    "        test_dl = dls.test_dl(df, with_labels=True)\n",
    "        probs, targs, losses = learn.get_preds(dl=test_dl, with_loss=True)\n",
    "\n",
    "        probs_df = pd.DataFrame(probs.numpy(), columns=['prob_' + lbl for lbl in SENT_LABELS[1:]])\n",
    "        targs_df = pd.DataFrame(targs.numpy(), columns= ['targ_' + lbl for lbl in SENT_LABELS[1:]])\n",
    "        losses_df = pd.DataFrame(losses.numpy(), columns=['loss'])\n",
    "        final_df = pd.concat([df.reset_index(), probs_df, targs_df, losses_df], axis=1)\n",
    "\n",
    "        final_df.to_csv(f\"{config['learner_path']}/{yyyymmdd}_{full_model_name}_train_results.csv\", index=False)\n",
    "        return scores, final_df\n",
    "    \n",
    "    finally:\n",
    "        # cleanup\n",
    "        del learn; del dls \n",
    "        del hf_arch; del hf_config; del hf_tokenizer; del hf_model"
   ]
  },
  {
   "cell_type": "markdown",
   "metadata": {},
   "source": [
    "### Hyperparameter optimization"
   ]
  },
  {
   "cell_type": "code",
   "execution_count": null,
   "metadata": {},
   "outputs": [],
   "source": [
    "def after_trial_cleanup(study, trial):\n",
    "    gc.collect()\n",
    "    torch.cuda.empty_cache()"
   ]
  },
  {
   "cell_type": "code",
   "execution_count": null,
   "metadata": {},
   "outputs": [],
   "source": [
    "#export\n",
    "def objective(trial, train_config={}):\n",
    "    opt_params = {\n",
    "        'pretrained_model_name': trial.suggest_categorical(\"pretrained_model_name\", [\"facebook/bart-base\"]),\n",
    "        \n",
    "        'save_model': trial.suggest_categorical(\"save_model\", [True, False]), \n",
    "        'use_weighted_loss': trial.suggest_categorical(\"use_weighted_loss\", [False]),\n",
    "        'use_fp16': trial.suggest_categorical(\"use_fp16\", [True]),\n",
    "        'n_frozen_epochs': trial.suggest_int(\"n_frozen_epochs\", 1, 3),\n",
    "        'n_unfrozen_epochs': trial.suggest_int(\"n_unfrozen_epochs\", 0, 5),\n",
    "        'frozen_lr': trial.suggest_loguniform(\"frozen_lr\", 3e-4, 3e-2),\n",
    "        'unfrozen_lr_max': trial.suggest_loguniform(\"unfrozen_lr_max\", 5e-6, 5e-5),\n",
    "        'unfrozen_lr_min': trial.suggest_loguniform(\"unfrozen_lr_min\", 5e-8, 5e-6),\n",
    "        'optimize_for': 'fbeta_score',\n",
    "        \n",
    "        'facebook/bart-base_config_overrides': {\n",
    "            'activation_dropout': trial.suggest_discrete_uniform('activation_dropout', 0.0, 0.3, 0.05),\n",
    "            'attention_dropout': trial.suggest_discrete_uniform('attention_dropout', 0.0, 0.3, 0.05),\n",
    "            'classif_dropout': trial.suggest_discrete_uniform('classif_dropout', 0.0, 0.3, 0.05),\n",
    "            'dropout': trial.suggest_discrete_uniform('dropout', 0.0, 0.3, 0.05)\n",
    "        },\n",
    "        'roberta-base_config_overrides': {\n",
    "            'attention_probs_dropout_prob': trial.suggest_discrete_uniform('attention_probs_dropout_prob', 0.0, 0.3, 0.05),\n",
    "            'hidden_dropout_prob': trial.suggest_discrete_uniform('hidden_dropout_prob', 0.0, 0.3, 0.05)\n",
    "        }\n",
    "    }\n",
    "    \n",
    "    score = train(opt_params, trial=trial, train_config=train_config)\n",
    "    return score"
   ]
  },
  {
   "cell_type": "code",
   "execution_count": null,
   "metadata": {},
   "outputs": [],
   "source": [
    "start = datetime.now()\n",
    "\n",
    "pruner = optuna.pruners.MedianPruner() if True else optuna.pruners.NopPruner()\n",
    "study = optuna.create_study(direction=\"maximize\", pruner=pruner)\n",
    "\n",
    "train_config = {}\n",
    "study.optimize(partial(objective, train_config=train_config), \n",
    "               n_trials=30, \n",
    "               callbacks=[after_trial_cleanup])#, timeout=600)\n",
    "\n",
    "end = datetime.now()"
   ]
  },
  {
   "cell_type": "code",
   "execution_count": null,
   "metadata": {},
   "outputs": [],
   "source": [
    "m_pre, m_suf = sentiment_train_config['m_pre'], sentiment_train_config['m_suf']\n",
    "full_model_name = f\"{m_pre}{sentiment_train_config['base_model_name']}{m_suf}\"\n",
    "   \n",
    "pruned_trials = [ t for t in study.trials if t.state == optuna.structs.TrialState.PRUNED ]\n",
    "complete_trials = [ t for t in study.trials if t.state == optuna.structs.TrialState.COMPLETE ]\n",
    "\n",
    "print('Study statistics: ')\n",
    "print('  Number of finished trials: ', len(study.trials))\n",
    "print('  Number of pruned trials: ', len(pruned_trials))\n",
    "print('  Number of complete trials: ', len(complete_trials))\n",
    "\n",
    "print('Best trial:')\n",
    "trial = study.best_trial\n",
    "print('  Value: ', trial.value)\n",
    "print('  Params: ')\n",
    "for key, value in trial.params.items(): print('    {}: {}'.format(key, value))\n",
    "print('  User attrs:')\n",
    "for key, value in trial.user_attrs.items(): print('    {}: {}'.format(key, value))\n",
    "    \n",
    "best_params = study.best_params\n",
    "best_params['fbeta_score'] = study.best_value\n",
    "\n",
    "with open(f\"{sentiment_train_config['learner_path']}/{yyyymmdd}_{full_model_name}_best_trial_params.json\", 'w') as f:\n",
    "    json.dump(best_params, f, indent=4)\n",
    "\n",
    "trials_df = study.trials_dataframe()\n",
    "trials_df.to_csv(f\"{sentiment_train_config['learner_path']}/{yyyymmdd}_{full_model_name}_trial_results.csv\", \n",
    "                 index=False)\n",
    "\n",
    "print(f'total time is {(end - start).total_seconds()} seconds')"
   ]
  },
  {
   "cell_type": "markdown",
   "metadata": {},
   "source": [
    "### Training with best params"
   ]
  },
  {
   "cell_type": "code",
   "execution_count": null,
   "metadata": {
    "scrolled": true
   },
   "outputs": [],
   "source": [
    "with open(f\"{sentiment_train_config['learner_path']}/{yyyymmdd}_{full_model_name}_best_trial_params.json\") as f: \n",
    "    best_params = json.load(f)\n",
    "    \n",
    "scores, train_res_df = train(params=best_params, train_config={})"
   ]
  },
  {
   "cell_type": "code",
   "execution_count": null,
   "metadata": {},
   "outputs": [],
   "source": [
    "scores"
   ]
  },
  {
   "cell_type": "code",
   "execution_count": null,
   "metadata": {},
   "outputs": [],
   "source": [
    "train_res_df.head()"
   ]
  },
  {
   "cell_type": "code",
   "execution_count": null,
   "metadata": {},
   "outputs": [],
   "source": [
    "# load scores\n",
    "with open(SENTIMENT_CLS_PATH/f'{yyyymmdd}_{full_model_name}_train_scores.json') as f: \n",
    "    training_results = json.load(f)\n",
    "    \n",
    "training_results"
   ]
  },
  {
   "cell_type": "code",
   "execution_count": null,
   "metadata": {},
   "outputs": [],
   "source": [
    "inf_learn = load_learner(SENTIMENT_CLS_PATH/f'{yyyymmdd}_{full_model_name}_export.pkl')\n",
    "inf_learn.loss_func.thresh = scores['opt_th']\n",
    "\n",
    "print(inf_learn.loss_func.thresh)\n",
    "print(inf_learn.blurr_predict('We are not paid enough and the benefits are horrible'))\n",
    "print(inf_learn.blurr_predict(\"The faculty really support us well!!!  It's great working and I feel valued\"))"
   ]
  },
  {
   "cell_type": "markdown",
   "metadata": {},
   "source": [
    "## Inference"
   ]
  },
  {
   "cell_type": "markdown",
   "metadata": {},
   "source": [
    "### Inference (ad-hoc documents)"
   ]
  },
  {
   "cell_type": "code",
   "execution_count": null,
   "metadata": {},
   "outputs": [],
   "source": [
    "print(SENT_LABELS[1:])"
   ]
  },
  {
   "cell_type": "code",
   "execution_count": null,
   "metadata": {},
   "outputs": [],
   "source": [
    "test_comments = [\n",
    "    'Not paid enough.',\n",
    "    'I am satisfied with my benefits and we have enough people in my department. The faculty is mean to me.',\n",
    "    'I love cats',\n",
    "    \"I can never find a parking spot. The shuttles are not on time. Help\",\n",
    "    \"I was really uncomfortable to express my opinion!!!\",\n",
    "    \"Jeff Wadell is an exceptional leader.  He has gone above and beyond to create a positive working environment and provide growth opportunities.  His commitment to his team is unrivaled and commendable.\\\\r\\\\n\\\\r\\\\nNikki Panza is a model of authentic leadership for Building and Custodial Services.  She has earned the respect of those she leads through honest communication, empathy, and ethical consultation.\"\n",
    "]\n",
    "\n",
    "for c in test_comments: print(inf_learn.blurr_predict(c, with_input=True))"
   ]
  },
  {
   "cell_type": "markdown",
   "metadata": {},
   "source": [
    "### Inference (batch)"
   ]
  },
  {
   "cell_type": "code",
   "execution_count": null,
   "metadata": {},
   "outputs": [],
   "source": [
    "#export\n",
    "def get_sentiment_preds(inf_df, learner_export_path=None, train_scores_path=None, yyyymmdd=None,\n",
    "                        device=torch.device('cpu'), train_config={}):\n",
    "    \n",
    "    config = {**sentiment_train_config, **train_config}    \n",
    "    m_pre, m_suf, base_model_name = config['m_pre'], config['m_suf'], config['base_model_name']\n",
    "    full_model_name = f'{m_pre}{base_model_name}{m_suf}'\n",
    "    \n",
    "    if (yyyymmdd is None): yyyymmdd = datetime.today().strftime(\"%Y%m%d\")\n",
    "    \n",
    "    # 1. grab learner, procs, and data\n",
    "    cpu = device.type == 'cpu'\n",
    "    if (learner_export_path is None): \n",
    "        learner_export_path = f\"{config['learner_path']}/{yyyymmdd}_{config['export_filename']}\"\n",
    "    if (train_scores_path is None): \n",
    "        train_scores_path = f\"{config['learner_path']}/{yyyymmdd}_{full_model_name}_train_scores.json\"\n",
    "        \n",
    "    with open(train_scores_path) as f: training_results = json.load(f)\n",
    "        \n",
    "    inf_learn = load_learner(fname=learner_export_path, cpu=cpu)\n",
    "    inf_learn.loss_func.thresh = training_results['opt_th']\n",
    "    inf_learn.model = inf_learn.model.to(device)\n",
    "    inf_learn.model = inf_learn.model.eval()\n",
    "    \n",
    "    # 2. define a suitable dataloader\n",
    "    inf_df = inf_df.copy()\n",
    "    inf_df.dropna(subset=config['corpus_cols'], inplace=True)\n",
    "    inf_df.reset_index(drop=True, inplace=True)\n",
    "    inf_dl = inf_learn.dls.test_dl(inf_df, rm_type_tfms=None, bs=16)\n",
    "\n",
    "    # 3. get probs and document vectors\n",
    "    test_probs = []\n",
    "    with torch.no_grad():\n",
    "        for index, b in enumerate(inf_dl):\n",
    "            if index % 1000 == 0:  print(index)\n",
    "\n",
    "            # note: even though there is no targets, each batch is a tuple!\n",
    "            probs = torch.sigmoid(inf_learn.model(b[0])[0])\n",
    "            \n",
    "            # why \"detach\"? the computation of gradients wrt the weights of netG can be fully \n",
    "            # avoided in the backward pass if the graph is detached where it is.\n",
    "            test_probs.append(to_detach(probs))\n",
    "\n",
    "    all_probs = L(torch.cat(test_probs))\n",
    "\n",
    "    # 4. ensure results are returned in order\n",
    "    # test_dl.get_idxs() => unsorted/original order items\n",
    "    all_probs = all_probs[0][np.argsort(inf_dl.get_idxs())]\n",
    "        \n",
    "    # 5. return results with scores in a df, probs, and labels\n",
    "    prob_labels = ['prob_' + lbl for lbl in  SENT_LABELS[1:]]\n",
    "    probs_df = pd.DataFrame(all_probs.numpy(), columns=prob_labels)\n",
    "        \n",
    "    final_df = pd.concat([inf_df, probs_df], axis=1)\n",
    "    \n",
    "    for lbl in  SENT_LABELS[1:]:\n",
    "        final_df[f'pred_{lbl}'] = (final_df[f'prob_{lbl}'] > training_results['opt_th']).astype(np.int64)\n",
    "        \n",
    "    final_df['valid_loss'] = training_results['valid_loss']\n",
    "    final_df['accuracy_multi'] = training_results['accuracy_multi']\n",
    "    final_df['fbeta_score'] = training_results['fbeta_score']\n",
    "    final_df['precision_score'] = training_results['precision_score']\n",
    "    final_df['recall_score'] = training_results['recall_score']\n",
    "    final_df['roc_auc_score'] = training_results['roc_auc_score']\n",
    "    final_df['opt_th'] = training_results['opt_th']\n",
    "    final_df['f05_threshold'] = training_results['f05']['threshold']\n",
    "    final_df['f05_score'] = training_results['f05']['score']\n",
    "    final_df['f1_threshold'] = training_results['f1']['threshold']\n",
    "    final_df['f1_score'] = training_results['f1']['score']\n",
    "    final_df['f2_threshold'] = training_results['f2']['threshold']\n",
    "    final_df['f2_score'] = training_results['f2']['score']\n",
    "\n",
    "    # cleanup\n",
    "    try: del inf_learn; del inf_dl\n",
    "    except: pass\n",
    "    finally: gc.collect(); torch.cuda.empty_cache()\n",
    "    \n",
    "    return final_df, all_probs, SENT_LABELS[1:]"
   ]
  },
  {
   "cell_type": "code",
   "execution_count": null,
   "metadata": {},
   "outputs": [],
   "source": [
    "verbatims_df = pd.read_csv(LM_PATH/'all.csv', dtype={**TASK_LM_DTYPES}, parse_dates=[])\n",
    "\n",
    "inf_df = verbatims_df[verbatims_df.SurveyID == 212].copy() #verbatims_df.copy() #verbatims_df[verbatims_df.SurveyID == 130].copy()\n",
    "inf_df.reset_index(drop=True, inplace=True)\n",
    "print(len(verbatims_df), len(inf_df))\n",
    "\n",
    "inf_df['answer_text'] = inf_df['AnswerText']  # ['question_text', 'answer_text']"
   ]
  },
  {
   "cell_type": "code",
   "execution_count": null,
   "metadata": {},
   "outputs": [],
   "source": [
    "device = torch.device('cuda:1') if torch.cuda.is_available() else torch.device('cpu')\n",
    "print(device)\n",
    "\n",
    "preds_df, inf_probs, inf_labels = get_sentiment_preds(inf_df, device=device)\n",
    "print(preds_df.shape, inf_probs.shape, len(inf_labels))"
   ]
  },
  {
   "cell_type": "code",
   "execution_count": null,
   "metadata": {},
   "outputs": [],
   "source": [
    "preds_df.head()"
   ]
  },
  {
   "cell_type": "markdown",
   "metadata": {},
   "source": [
    "*If we were building results DataFrame by hand ...*"
   ]
  },
  {
   "cell_type": "markdown",
   "metadata": {},
   "source": [
    "Add the probabilities of each label to `inf_df`"
   ]
  },
  {
   "cell_type": "code",
   "execution_count": null,
   "metadata": {},
   "outputs": [],
   "source": [
    "prob_labels = ['prob_' + lbl for lbl in SENT_LABELS[1:]]\n",
    "probs_df = pd.DataFrame(inf_probs.numpy(), columns=prob_labels)\n",
    "probs_df.head()"
   ]
  },
  {
   "cell_type": "code",
   "execution_count": null,
   "metadata": {},
   "outputs": [],
   "source": [
    "final_df = pd.concat([inf_df, probs_df], axis=1)"
   ]
  },
  {
   "cell_type": "markdown",
   "metadata": {},
   "source": [
    "Add in predictions based on f05 threshold"
   ]
  },
  {
   "cell_type": "code",
   "execution_count": null,
   "metadata": {},
   "outputs": [],
   "source": [
    "for lbl in SENT_LABELS[1:]:\n",
    "    final_df[f'pred_{lbl}'] = (final_df[f'prob_{lbl}'] > scores['opt_th']).astype(np.int64)"
   ]
  },
  {
   "cell_type": "code",
   "execution_count": null,
   "metadata": {
    "scrolled": true
   },
   "outputs": [],
   "source": [
    "final_df.head()"
   ]
  },
  {
   "cell_type": "markdown",
   "metadata": {},
   "source": [
    "## Cleanup"
   ]
  },
  {
   "cell_type": "code",
   "execution_count": null,
   "metadata": {},
   "outputs": [],
   "source": [
    "#hide\n",
    "from nbdev.export import notebook2script\n",
    "notebook2script()"
   ]
  },
  {
   "cell_type": "markdown",
   "metadata": {},
   "source": [
    "## Playground"
   ]
  },
  {
   "cell_type": "code",
   "execution_count": null,
   "metadata": {},
   "outputs": [],
   "source": [
    "verbatim_id = 590946\n",
    "\n",
    "pred_lbls = [ f'pred_{lbl}' for lbl in SENT_LABELS[1:] ]\n",
    "prob_lbls = [ f'prob_{lbl}' for lbl in SENT_LABELS[1:] ]\n",
    "\n",
    "print(\"=== text ===\")\n",
    "print(preds_df.AnswerText[preds_df.Id == verbatim_id].values[0])\n",
    "print('\\n=== preds ===')\n",
    "preds = preds_df[pred_lbls][preds_df.Id == verbatim_id].values[0]\n",
    "print([ pred_lbls[idx] for idx in np.where(preds == 1)[0] ])\n",
    "print('\\n=== probs ===')\n",
    "probs = preds_df[prob_lbls][preds_df.Id == verbatim_id].values[0]\n",
    "print([ probs[idx] for idx in np.where(preds == 1)[0] ])"
   ]
  },
  {
   "cell_type": "code",
   "execution_count": null,
   "metadata": {},
   "outputs": [],
   "source": []
  }
 ],
 "metadata": {
  "kernelspec": {
   "display_name": "Python 3",
   "language": "python",
   "name": "python3"
  },
  "language_info": {
   "codemirror_mode": {
    "name": "ipython",
    "version": 3
   },
   "file_extension": ".py",
   "mimetype": "text/x-python",
   "name": "python",
   "nbconvert_exporter": "python",
   "pygments_lexer": "ipython3",
   "version": "3.7.6"
  },
  "varInspector": {
   "cols": {
    "lenName": 16,
    "lenType": 16,
    "lenVar": 40
   },
   "kernels_config": {
    "python": {
     "delete_cmd_postfix": "",
     "delete_cmd_prefix": "del ",
     "library": "var_list.py",
     "varRefreshCmd": "print(var_dic_list())"
    },
    "r": {
     "delete_cmd_postfix": ") ",
     "delete_cmd_prefix": "rm(",
     "library": "var_list.r",
     "varRefreshCmd": "cat(var_dic_list()) "
    }
   },
   "position": {
    "height": "468px",
    "left": "1307px",
    "right": "20px",
    "top": "120px",
    "width": "353px"
   },
   "types_to_exclude": [
    "module",
    "function",
    "builtin_function_or_method",
    "instance",
    "_Feature"
   ],
   "window_display": false
  }
 },
 "nbformat": 4,
 "nbformat_minor": 2
}
