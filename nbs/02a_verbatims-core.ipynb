{
 "cells": [
  {
   "cell_type": "code",
   "execution_count": 1,
   "metadata": {},
   "outputs": [],
   "source": [
    "#default_exp verbatims/core"
   ]
  },
  {
   "cell_type": "code",
   "execution_count": 2,
   "metadata": {},
   "outputs": [],
   "source": [
    "#all_slow"
   ]
  },
  {
   "cell_type": "code",
   "execution_count": 3,
   "metadata": {},
   "outputs": [],
   "source": [
    "#hide\n",
    "%reload_ext autoreload\n",
    "%autoreload 2\n",
    "%matplotlib inline"
   ]
  },
  {
   "cell_type": "markdown",
   "metadata": {},
   "source": [
    "# Verbatims - Core\n",
    "\n",
    "> This module defines the training configuration objects for all verbatim ML tasks, DataBlocks, and helper methods to build DataLoaders for each"
   ]
  },
  {
   "cell_type": "code",
   "execution_count": 4,
   "metadata": {},
   "outputs": [],
   "source": [
    "#export\n",
    "import os, datetime\n",
    "import sklearn.metrics as skm\n",
    "from tritonlytics_ai.utils import *\n",
    "\n",
    "from fastai.text.all import *\n",
    "from transformers import *\n",
    "from blurr.utils import *\n",
    "from blurr.data.core import *\n",
    "from blurr.modeling.core import *"
   ]
  },
  {
   "cell_type": "code",
   "execution_count": 5,
   "metadata": {},
   "outputs": [],
   "source": [
    "#hide\n",
    "import pdb, gc\n",
    "\n",
    "# pandas and plotting config\n",
    "import seaborn as sns\n",
    "sns.set_style('whitegrid')\n",
    "\n",
    "plt.rcParams['figure.figsize'] = (9,6)\n",
    "\n",
    "pd.set_option('display.max_rows', 500)\n",
    "pd.set_option('display.max_columns', 500)\n",
    "pd.set_option('display.width', 1000)\n",
    "pd.set_option('display.max_colwidth', 100)\n",
    "\n",
    "from nbdev.showdoc import *\n",
    "from fastcore.test import *"
   ]
  },
  {
   "cell_type": "code",
   "execution_count": 6,
   "metadata": {
    "tags": []
   },
   "outputs": [
    {
     "name": "stdout",
     "output_type": "stream",
     "text": [
      "Using pytorch 1.6.0\n",
      "Using fastai 2.0.16\n",
      "Using transformers 3.3.1\n"
     ]
    }
   ],
   "source": [
    "#hide\n",
    "from fastai import __version__ as fa_version\n",
    "from torch import __version__ as pt_version\n",
    "from transformers import __version__ as hft_version\n",
    "\n",
    "print(f'Using pytorch {pt_version}')\n",
    "print(f'Using fastai {fa_version}')\n",
    "print(f'Using transformers {hft_version}')"
   ]
  },
  {
   "cell_type": "code",
   "execution_count": 7,
   "metadata": {
    "tags": []
   },
   "outputs": [
    {
     "name": "stdout",
     "output_type": "stream",
     "text": [
      "Using GPU #1: GeForce GTX 1080 Ti\n"
     ]
    }
   ],
   "source": [
    "#cuda\n",
    "torch.cuda.set_device(1)\n",
    "print(f'Using GPU #{torch.cuda.current_device()}: {torch.cuda.get_device_name()}')"
   ]
  },
  {
   "cell_type": "markdown",
   "metadata": {
    "heading_collapsed": true
   },
   "source": [
    "## Sentiment"
   ]
  },
  {
   "cell_type": "markdown",
   "metadata": {
    "hidden": true
   },
   "source": [
    "Basic Configuration"
   ]
  },
  {
   "cell_type": "code",
   "execution_count": 8,
   "metadata": {
    "hidden": true
   },
   "outputs": [],
   "source": [
    "#export\n",
    "m_pre_sentiment = ''\n",
    "m_suf_sentiment = '_multilabel_hf'\n",
    "\n",
    "sentiment_train_config = {\n",
    "    'm_pre': m_pre_sentiment,\n",
    "    'm_suf': m_suf_sentiment,\n",
    "    \n",
    "    'batch_size': 8,\n",
    "    'corpus_cols': ['answer_text'],\n",
    "    'corpus_suf': '_ans',\n",
    "    'train_data': SENTIMENT_CLS_PATH/'train.csv',\n",
    "    'valid_data': SENTIMENT_CLS_PATH/'test.csv',\n",
    "    'cache_data_path': SENTIMENT_CLS_PATH/'data_cls_sentiment.pkl',\n",
    "    \n",
    "    'opt_beta': 1, \n",
    "    'opt_beta_average': 'weighted',\n",
    "    'opt_beta_sample_weight': None,\n",
    "    'opt_start': 0.08, \n",
    "    'opt_end': 0.7,\n",
    "    \n",
    "    'save_model_monitor': 'fbeta_score', \n",
    "    'save_model_comp': np.greater,\n",
    "    'save_model_filename': f'{m_pre_sentiment}cls_bestmodel{m_suf_sentiment}',\n",
    "    'export_filename': f'{m_pre_sentiment}export_clas{m_suf_sentiment}.pkl',\n",
    "\n",
    "    'learner_path': SENTIMENT_CLS_PATH\n",
    "}"
   ]
  },
  {
   "cell_type": "markdown",
   "metadata": {
    "hidden": true
   },
   "source": [
    "Prepare the data source"
   ]
  },
  {
   "cell_type": "code",
   "execution_count": 9,
   "metadata": {
    "hidden": true
   },
   "outputs": [],
   "source": [
    "train_df = pd.read_csv(sentiment_train_config['train_data'])\n",
    "valid_df = pd.read_csv(sentiment_train_config['valid_data'])"
   ]
  },
  {
   "cell_type": "code",
   "execution_count": 10,
   "metadata": {
    "hidden": true
   },
   "outputs": [
    {
     "data": {
      "text/html": [
       "<div>\n",
       "<style scoped>\n",
       "    .dataframe tbody tr th:only-of-type {\n",
       "        vertical-align: middle;\n",
       "    }\n",
       "\n",
       "    .dataframe tbody tr th {\n",
       "        vertical-align: top;\n",
       "    }\n",
       "\n",
       "    .dataframe thead th {\n",
       "        text-align: right;\n",
       "    }\n",
       "</style>\n",
       "<table border=\"1\" class=\"dataframe\">\n",
       "  <thead>\n",
       "    <tr style=\"text-align: right;\">\n",
       "      <th></th>\n",
       "      <th>id</th>\n",
       "      <th>question_ans_id</th>\n",
       "      <th>answer_text</th>\n",
       "      <th>answer_text_non_english</th>\n",
       "      <th>language</th>\n",
       "      <th>survey_id</th>\n",
       "      <th>survey_type_id</th>\n",
       "      <th>benchmark_survey_type</th>\n",
       "      <th>client_id</th>\n",
       "      <th>rsp_id</th>\n",
       "      <th>question_category_abbr</th>\n",
       "      <th>question_text</th>\n",
       "      <th>question_class</th>\n",
       "      <th>question_category_id</th>\n",
       "      <th>question_report_abbr</th>\n",
       "      <th>question_category_label</th>\n",
       "      <th>benchmark_level1</th>\n",
       "      <th>benchmark_level2</th>\n",
       "      <th>benchmark_level3</th>\n",
       "      <th>client_benchmark_level</th>\n",
       "      <th>group_code</th>\n",
       "      <th>group_id</th>\n",
       "      <th>group_level1_code</th>\n",
       "      <th>group_level1_name</th>\n",
       "      <th>group_level2_code</th>\n",
       "      <th>group_level2_name</th>\n",
       "      <th>group_level3_code</th>\n",
       "      <th>group_level3_name</th>\n",
       "      <th>group_level4_code</th>\n",
       "      <th>group_level4_name</th>\n",
       "      <th>group_level5_code</th>\n",
       "      <th>group_level5_name</th>\n",
       "      <th>group_level6_code</th>\n",
       "      <th>group_level6_name</th>\n",
       "      <th>group_level7_code</th>\n",
       "      <th>group_level7_name</th>\n",
       "      <th>group_level8_code</th>\n",
       "      <th>group_level8_name</th>\n",
       "      <th>overall_sentiment</th>\n",
       "      <th>is_very_positive</th>\n",
       "      <th>is_positive</th>\n",
       "      <th>is_very_negative</th>\n",
       "      <th>is_negative</th>\n",
       "      <th>is_suggestion</th>\n",
       "      <th>feels_threatened</th>\n",
       "      <th>has_profanity</th>\n",
       "      <th>is_nonsense</th>\n",
       "    </tr>\n",
       "  </thead>\n",
       "  <tbody>\n",
       "    <tr>\n",
       "      <th>0</th>\n",
       "      <td>19309</td>\n",
       "      <td>1877</td>\n",
       "      <td>Our department had an MSO who was great at finances but lacked leadership skills.  Many members ...</td>\n",
       "      <td>NaN</td>\n",
       "      <td>English</td>\n",
       "      <td>118</td>\n",
       "      <td>9</td>\n",
       "      <td>SAW</td>\n",
       "      <td>UCSD</td>\n",
       "      <td>88342</td>\n",
       "      <td>None</td>\n",
       "      <td>59. If you would like to elaborate on your responses above, or if you have any additional feedba...</td>\n",
       "      <td>Verbatim</td>\n",
       "      <td>201.0</td>\n",
       "      <td>Comments re Work Environment at UCSD</td>\n",
       "      <td>Other</td>\n",
       "      <td>None</td>\n",
       "      <td>None</td>\n",
       "      <td>None</td>\n",
       "      <td>1.0</td>\n",
       "      <td>NaN</td>\n",
       "      <td>280</td>\n",
       "      <td>NaN</td>\n",
       "      <td>NaN</td>\n",
       "      <td>NaN</td>\n",
       "      <td>NaN</td>\n",
       "      <td>NaN</td>\n",
       "      <td>NaN</td>\n",
       "      <td>NaN</td>\n",
       "      <td>NaN</td>\n",
       "      <td>NaN</td>\n",
       "      <td>NaN</td>\n",
       "      <td>NaN</td>\n",
       "      <td>NaN</td>\n",
       "      <td>NaN</td>\n",
       "      <td>NaN</td>\n",
       "      <td>NaN</td>\n",
       "      <td>NaN</td>\n",
       "      <td>2.0</td>\n",
       "      <td>0</td>\n",
       "      <td>0</td>\n",
       "      <td>0</td>\n",
       "      <td>1</td>\n",
       "      <td>0</td>\n",
       "      <td>0</td>\n",
       "      <td>0</td>\n",
       "      <td>0</td>\n",
       "    </tr>\n",
       "    <tr>\n",
       "      <th>1</th>\n",
       "      <td>305515</td>\n",
       "      <td>24623</td>\n",
       "      <td>Just tell us what's wrong..  but we have no funding to correct issues.</td>\n",
       "      <td>NaN</td>\n",
       "      <td>English</td>\n",
       "      <td>129</td>\n",
       "      <td>22</td>\n",
       "      <td>CSS</td>\n",
       "      <td>CALPOLYSLO</td>\n",
       "      <td>181859</td>\n",
       "      <td>EH&amp;S</td>\n",
       "      <td>Let us know your suggestions on how the EH&amp;S can better meet the needs of the Campus.</td>\n",
       "      <td>Verbatim-Dept-Improve</td>\n",
       "      <td>325.0</td>\n",
       "      <td>EHS_Improve</td>\n",
       "      <td>Environmental, Health and Safety</td>\n",
       "      <td>Safety</td>\n",
       "      <td>Safety, Risk &amp; Sustainability</td>\n",
       "      <td>Env, Health &amp; Safety</td>\n",
       "      <td>1.0</td>\n",
       "      <td>-1.0</td>\n",
       "      <td>-1</td>\n",
       "      <td>-1.0</td>\n",
       "      <td>None</td>\n",
       "      <td>NaN</td>\n",
       "      <td>NaN</td>\n",
       "      <td>NaN</td>\n",
       "      <td>NaN</td>\n",
       "      <td>NaN</td>\n",
       "      <td>NaN</td>\n",
       "      <td>NaN</td>\n",
       "      <td>NaN</td>\n",
       "      <td>NaN</td>\n",
       "      <td>NaN</td>\n",
       "      <td>NaN</td>\n",
       "      <td>NaN</td>\n",
       "      <td>NaN</td>\n",
       "      <td>NaN</td>\n",
       "      <td>2.0</td>\n",
       "      <td>0</td>\n",
       "      <td>0</td>\n",
       "      <td>0</td>\n",
       "      <td>1</td>\n",
       "      <td>0</td>\n",
       "      <td>0</td>\n",
       "      <td>0</td>\n",
       "      <td>0</td>\n",
       "    </tr>\n",
       "  </tbody>\n",
       "</table>\n",
       "</div>"
      ],
      "text/plain": [
       "       id  question_ans_id                                                                                          answer_text answer_text_non_english language  survey_id  survey_type_id benchmark_survey_type   client_id  rsp_id question_category_abbr                                                                                        question_text         question_class  question_category_id                  question_report_abbr           question_category_label benchmark_level1               benchmark_level2      benchmark_level3  client_benchmark_level  group_code  group_id  group_level1_code group_level1_name  group_level2_code group_level2_name  group_level3_code group_level3_name  group_level4_code group_level4_name  group_level5_code group_level5_name  group_level6_code group_level6_name  group_level7_code group_level7_name  group_level8_code  group_level8_name  overall_sentiment  is_very_positive  is_positive  is_very_negative  is_negative  is_suggestion  feels_threatened  \\\n",
       "0   19309             1877  Our department had an MSO who was great at finances but lacked leadership skills.  Many members ...                     NaN  English        118               9                   SAW        UCSD   88342                   None  59. If you would like to elaborate on your responses above, or if you have any additional feedba...               Verbatim                 201.0  Comments re Work Environment at UCSD                             Other             None                           None                  None                     1.0         NaN       280                NaN               NaN                NaN               NaN                NaN               NaN                NaN               NaN                NaN               NaN                NaN               NaN                NaN               NaN                NaN                NaN                2.0                 0            0                 0            1              0                 0   \n",
       "1  305515            24623                               Just tell us what's wrong..  but we have no funding to correct issues.                     NaN  English        129              22                   CSS  CALPOLYSLO  181859                   EH&S                Let us know your suggestions on how the EH&S can better meet the needs of the Campus.  Verbatim-Dept-Improve                 325.0                           EHS_Improve  Environmental, Health and Safety           Safety  Safety, Risk & Sustainability  Env, Health & Safety                     1.0        -1.0        -1               -1.0              None                NaN               NaN                NaN               NaN                NaN               NaN                NaN               NaN                NaN               NaN                NaN               NaN                NaN                NaN                2.0                 0            0                 0            1              0                 0   \n",
       "\n",
       "   has_profanity  is_nonsense  \n",
       "0              0            0  \n",
       "1              0            0  "
      ]
     },
     "execution_count": 10,
     "metadata": {},
     "output_type": "execute_result"
    }
   ],
   "source": [
    "train_df.head(2)"
   ]
  },
  {
   "cell_type": "markdown",
   "metadata": {
    "hidden": true
   },
   "source": [
    "Remove any rows whre the \"corpus_cols\" are nan"
   ]
  },
  {
   "cell_type": "code",
   "execution_count": 11,
   "metadata": {
    "hidden": true
   },
   "outputs": [],
   "source": [
    "train_df.dropna(subset=sentiment_train_config['corpus_cols'], inplace=True)\n",
    "valid_df.dropna(subset=sentiment_train_config['corpus_cols'], inplace=True)"
   ]
  },
  {
   "cell_type": "code",
   "execution_count": 12,
   "metadata": {
    "hidden": true
   },
   "outputs": [
    {
     "data": {
      "text/plain": [
       "(0    14032\n",
       " 1      353\n",
       " Name: feels_threatened, dtype: int64,\n",
       " 0    1558\n",
       " 1      43\n",
       " Name: feels_threatened, dtype: int64)"
      ]
     },
     "execution_count": 12,
     "metadata": {},
     "output_type": "execute_result"
    }
   ],
   "source": [
    "train_df.feels_threatened.value_counts(), valid_df.feels_threatened.value_counts()"
   ]
  },
  {
   "cell_type": "code",
   "execution_count": 13,
   "metadata": {
    "hidden": true
   },
   "outputs": [
    {
     "data": {
      "text/html": [
       "<div>\n",
       "<style scoped>\n",
       "    .dataframe tbody tr th:only-of-type {\n",
       "        vertical-align: middle;\n",
       "    }\n",
       "\n",
       "    .dataframe tbody tr th {\n",
       "        vertical-align: top;\n",
       "    }\n",
       "\n",
       "    .dataframe thead th {\n",
       "        text-align: right;\n",
       "    }\n",
       "</style>\n",
       "<table border=\"1\" class=\"dataframe\">\n",
       "  <thead>\n",
       "    <tr style=\"text-align: right;\">\n",
       "      <th></th>\n",
       "      <th>labels</th>\n",
       "      <th>is_very_positive</th>\n",
       "      <th>is_positive</th>\n",
       "      <th>is_very_negative</th>\n",
       "      <th>is_negative</th>\n",
       "      <th>is_suggestion</th>\n",
       "      <th>feels_threatened</th>\n",
       "      <th>has_profanity</th>\n",
       "      <th>is_nonsense</th>\n",
       "    </tr>\n",
       "  </thead>\n",
       "  <tbody>\n",
       "    <tr>\n",
       "      <th>0</th>\n",
       "      <td>is_negative</td>\n",
       "      <td>0</td>\n",
       "      <td>0</td>\n",
       "      <td>0</td>\n",
       "      <td>1</td>\n",
       "      <td>0</td>\n",
       "      <td>0</td>\n",
       "      <td>0</td>\n",
       "      <td>0</td>\n",
       "    </tr>\n",
       "    <tr>\n",
       "      <th>1</th>\n",
       "      <td>is_negative</td>\n",
       "      <td>0</td>\n",
       "      <td>0</td>\n",
       "      <td>0</td>\n",
       "      <td>1</td>\n",
       "      <td>0</td>\n",
       "      <td>0</td>\n",
       "      <td>0</td>\n",
       "      <td>0</td>\n",
       "    </tr>\n",
       "    <tr>\n",
       "      <th>2</th>\n",
       "      <td>is_positive</td>\n",
       "      <td>0</td>\n",
       "      <td>1</td>\n",
       "      <td>0</td>\n",
       "      <td>0</td>\n",
       "      <td>0</td>\n",
       "      <td>0</td>\n",
       "      <td>0</td>\n",
       "      <td>0</td>\n",
       "    </tr>\n",
       "    <tr>\n",
       "      <th>3</th>\n",
       "      <td>is_positive</td>\n",
       "      <td>0</td>\n",
       "      <td>1</td>\n",
       "      <td>0</td>\n",
       "      <td>0</td>\n",
       "      <td>0</td>\n",
       "      <td>0</td>\n",
       "      <td>0</td>\n",
       "      <td>0</td>\n",
       "    </tr>\n",
       "    <tr>\n",
       "      <th>4</th>\n",
       "      <td>is_negative</td>\n",
       "      <td>0</td>\n",
       "      <td>0</td>\n",
       "      <td>0</td>\n",
       "      <td>1</td>\n",
       "      <td>0</td>\n",
       "      <td>0</td>\n",
       "      <td>0</td>\n",
       "      <td>0</td>\n",
       "    </tr>\n",
       "  </tbody>\n",
       "</table>\n",
       "</div>"
      ],
      "text/plain": [
       "        labels  is_very_positive  is_positive  is_very_negative  is_negative  is_suggestion  feels_threatened  has_profanity  is_nonsense\n",
       "0  is_negative                 0            0                 0            1              0                 0              0            0\n",
       "1  is_negative                 0            0                 0            1              0                 0              0            0\n",
       "2  is_positive                 0            1                 0            0              0                 0              0            0\n",
       "3  is_positive                 0            1                 0            0              0                 0              0            0\n",
       "4  is_negative                 0            0                 0            1              0                 0              0            0"
      ]
     },
     "execution_count": 13,
     "metadata": {},
     "output_type": "execute_result"
    }
   ],
   "source": [
    "#hide\n",
    "\n",
    "# If we want to add a \"labels\" column with all the labels space delimited (for exmaple, as we would with\n",
    "# non-encoded labels)\n",
    "# train_df['labels'] = train_df[SENT_LABELS[1:]].apply(lambda row: ' '.join(row.columns[row.values == 1]), axis=1)\n",
    "# valid_df['labels'] = valid_df[SENT_LABELS[1:]].apply(lambda row: ' '.join(row.columns[row.values == 1], axis=1)\n",
    "\n",
    "train_df['labels'] = train_df[SENT_LABELS[1:]].apply(lambda x: ' '.join(x.index[x.astype(bool)]), axis=1)\n",
    "valid_df['labels'] = valid_df[SENT_LABELS[1:]].apply(lambda x: ' '.join(x.index[x.astype(bool)]), axis=1)\n",
    "\n",
    "train_df[['labels'] + SENT_LABELS[1:]].head()"
   ]
  },
  {
   "cell_type": "code",
   "execution_count": 14,
   "metadata": {
    "hidden": true
   },
   "outputs": [
    {
     "data": {
      "text/plain": [
       "15986"
      ]
     },
     "execution_count": 14,
     "metadata": {},
     "output_type": "execute_result"
    }
   ],
   "source": [
    "train_df['is_valid'] = False\n",
    "valid_df['is_valid'] = True\n",
    "df = pd.concat([train_df, valid_df])\n",
    "len(df)"
   ]
  },
  {
   "cell_type": "code",
   "execution_count": 15,
   "metadata": {
    "hidden": true
   },
   "outputs": [],
   "source": [
    "#export\n",
    "def get_sentiment_train_data(train_config={}, trg_labels=SENT_LABELS[1:]):\n",
    "    config = {**sentiment_train_config, **train_config}\n",
    "    \n",
    "    train_df = pd.read_csv(config['train_data'])\n",
    "    train_df.dropna(subset=config['corpus_cols'], inplace=True)\n",
    "    train_df['labels'] = train_df[trg_labels].apply(lambda x: ' '.join(x.index[x.astype(bool)]), axis=1)\n",
    "    train_df['is_valid'] = False\n",
    "    \n",
    "    if ('valid_data' in config and config['valid_data'] is not None):\n",
    "        valid_df = pd.read_csv(config['valid_data'])\n",
    "        valid_df.dropna(subset=config['corpus_cols'], inplace=True)\n",
    "        valid_df['labels'] = valid_df[trg_labels].apply(lambda x: ' '.join(x.index[x.astype(bool)]), axis=1)\n",
    "        valid_df['is_valid'] = True\n",
    "        \n",
    "        return pd.concat([train_df, valid_df])\n",
    "    \n",
    "    return train_df"
   ]
  },
  {
   "cell_type": "code",
   "execution_count": 16,
   "metadata": {
    "hidden": true
   },
   "outputs": [],
   "source": [
    "df = get_sentiment_train_data()\n",
    "test(len(df), 0, operator.ge)"
   ]
  },
  {
   "cell_type": "markdown",
   "metadata": {
    "hidden": true
   },
   "source": [
    "Using the mid-level `DataBlocks` API"
   ]
  },
  {
   "cell_type": "code",
   "execution_count": 17,
   "metadata": {
    "hidden": true
   },
   "outputs": [
    {
     "name": "stderr",
     "output_type": "stream",
     "text": [
      "Some weights of the model checkpoint at roberta-base were not used when initializing RobertaForSequenceClassification: ['lm_head.bias', 'lm_head.dense.weight', 'lm_head.dense.bias', 'lm_head.layer_norm.weight', 'lm_head.layer_norm.bias', 'lm_head.decoder.weight', 'roberta.pooler.dense.weight', 'roberta.pooler.dense.bias']\n",
      "- This IS expected if you are initializing RobertaForSequenceClassification from the checkpoint of a model trained on another task or with another architecture (e.g. initializing a BertForSequenceClassification model from a BertForPretraining model).\n",
      "- This IS NOT expected if you are initializing RobertaForSequenceClassification from the checkpoint of a model that you expect to be exactly identical (initializing a BertForSequenceClassification model from a BertForSequenceClassification model).\n",
      "Some weights of RobertaForSequenceClassification were not initialized from the model checkpoint at roberta-base and are newly initialized: ['classifier.dense.weight', 'classifier.dense.bias', 'classifier.out_proj.weight', 'classifier.out_proj.bias']\n",
      "You should probably TRAIN this model on a down-stream task to be able to use it for predictions and inference.\n"
     ]
    }
   ],
   "source": [
    "#hide\n",
    "task = HF_TASKS_AUTO.SequenceClassification\n",
    "\n",
    "pretrained_model_name = \"roberta-base\"\n",
    "config = AutoConfig.from_pretrained(pretrained_model_name)\n",
    "config.num_labels = len(STANDARD_THEME_SAW_LABELS)\n",
    "\n",
    "hf_arch, hf_config, hf_tokenizer, hf_model = BLURR_MODEL_HELPER.get_hf_objects(pretrained_model_name, \n",
    "                                                                               task=task, \n",
    "                                                                               config=config)"
   ]
  },
  {
   "cell_type": "code",
   "execution_count": 18,
   "metadata": {
    "hidden": true,
    "tags": []
   },
   "outputs": [],
   "source": [
    "#hide\n",
    "blocks = (\n",
    "    HF_TextBlock(hf_arch=hf_arch, hf_tokenizer=hf_tokenizer), \n",
    "    MultiCategoryBlock(encoded=True, vocab=SENT_LABELS[1:])\n",
    ")\n",
    "\n",
    "def get_x(inp): return ': '.join(inp[sentiment_train_config['corpus_cols']].values)\n",
    "\n",
    "dblock = DataBlock(blocks=blocks, \n",
    "                   get_x=get_x, \n",
    "                   get_y=ColReader(SENT_LABELS[1:]), \n",
    "                   splitter=ColSplitter(col='is_valid'))"
   ]
  },
  {
   "cell_type": "code",
   "execution_count": 19,
   "metadata": {
    "hidden": true,
    "scrolled": true,
    "tags": []
   },
   "outputs": [],
   "source": [
    "#hide\n",
    "dls = dblock.dataloaders(df, bs=sentiment_train_config['batch_size'])"
   ]
  },
  {
   "cell_type": "code",
   "execution_count": 20,
   "metadata": {
    "hidden": true,
    "tags": []
   },
   "outputs": [
    {
     "name": "stdout",
     "output_type": "stream",
     "text": [
      "The Target vocab has (8 items)\n"
     ]
    }
   ],
   "source": [
    "#hide\n",
    "print(f'The Target vocab has ({len(dls.vocab)} items)')"
   ]
  },
  {
   "cell_type": "code",
   "execution_count": 21,
   "metadata": {
    "hidden": true,
    "tags": []
   },
   "outputs": [
    {
     "data": {
      "text/plain": [
       "(2, torch.Size([8, 512]), torch.Size([8, 8]))"
      ]
     },
     "execution_count": 21,
     "metadata": {},
     "output_type": "execute_result"
    }
   ],
   "source": [
    "#hide\n",
    "b = dls.one_batch()\n",
    "len(b), b[0]['input_ids'].shape, b[1].shape"
   ]
  },
  {
   "cell_type": "code",
   "execution_count": 22,
   "metadata": {
    "hidden": true
   },
   "outputs": [
    {
     "data": {
      "text/html": [
       "<table border=\"1\" class=\"dataframe\">\n",
       "  <thead>\n",
       "    <tr style=\"text-align: right;\">\n",
       "      <th></th>\n",
       "      <th>text</th>\n",
       "      <th>None</th>\n",
       "    </tr>\n",
       "  </thead>\n",
       "  <tbody>\n",
       "    <tr>\n",
       "      <th>0</th>\n",
       "      <td>So another survey has come around and I anticipate it will have the same effect as all the other surveys … basically nothing will change, or should I say any changes will not be for the good of the staff. This years rant will consist of two items. First lets discuss the eternal issue of lack of pay. We all know that working for a University results in a paycheck 15 to 20% less than typical outside jobs of the same type but right now I know of people that are 20 to 30% under the going rate while we sit and watch upper echelon employees get anywhere from $2000 to over $50,000 dollars pay raises since 2008. We are still trying to figure out how some people can get $251,249.96 in “Extra Pay”. It is understood that keeping quality people is important and pay is a very big incentive to keep these people but the message it sends is that we have plenty of money for people that already earn plenty of money but we cant cough up a quarter more an hour for the custodians or the grounds people let alone actually pay anyone else near what they are worth. It has been shown time and time again that to achieve higher wages your best bet is to get another job and be prepared to leave, then (and only then) the purse strings open. This sends the message that there is no reason for loyalty to the University just be a mercenary and you will get the pay increase, meanwhile the employee that is dedicated and long term receives nothing for that dedication and loyalty. I want to see what the reason for no pay raises this year will be. In the last several years it has been “The State keeps cutting our budget” … yes the state that only is about 10% of the UC budget effects every pay scale except when someone threatens to leave. Now that Prop 30 has passed, which I believe had a lot of help due to the veiled threat of “Vote for this or you will lose your job”, what will be the new invented reason for cutbacks. Hers one you can use … “Well, actually you guys are not really State employees you are Reagent employees and we cant afford to give you raises … unless you are already earning over $100,00 a year, then we got plenty of money. BTW it is interesting that the Treasurer of the Regents has earned an average of over $280,000 in “Extra Pay” over the last 5 years on top of her $470,000 base salary.</td>\n",
       "      <td>is_very_negative;is_negative;feels_threatened</td>\n",
       "    </tr>\n",
       "    <tr>\n",
       "      <th>1</th>\n",
       "      <td>I feel UCSD favors minorities PERIOD - I have seen a lot of reverse discrimination.  We have a joke that whenever a minority is hired we call it  \"diversity strikes again\".  It is blatant when we have first hand knowledge that a positionis filled with a minority person only because they are a minority, with absolutely NO relation to their skill level. All qtns asked to confirm a hire are based on whether there was a minority in the interview pool.  How about if they are qualified???  Then the diversity awards actually awards people for hiring minorities....who cares if they can't do the job?  (Yeah, we win, we've hired 2 minorities.) I also feel people take complete advantage of stress/disability leave when it is their personal lives that are stressed out, NOT their work life. They just do not want to do their job. It truly affects all of us who have to pick up the pieces. If they can't handle the job, get another one, don't make everyone else stress out, just because the have some quack doctor signing a piece of paper.  UCSD is great for people who know how to work the system.  Having these people take advantage of it causes major morale problems. I feel that the lowly people like myself deserve raises. Money is always miraculously found when its needed.  Some people are paid just because they threaten to sue if someone looks at them wrong, and then there are the ones, like myself, who actually want to earn a decent living and work hard to do it.  I am flabberghasted when I see certain people doing nothing and getting paid the BIG bucks. I often wonder if HR is for the employee or on the side of the University. I don't feel like we are supported by the HR department. They seem more intent on screwing whomever they can, than doing what's best for the employee.  I don't feel they can be trusted.  I also don't understand why we have a separate HR department.  What for???  Support staff do not make enough to live on.  It is so frustrating.  Don't think I'm a disgruntled employee, I thoroughly like my boss, like the work I do, and like being associated with the University. There are just a lot of work inequities because UCSD is so afraid of being sued and also the pay inequities between like positions.  Some places give 25% pay increases, others say they can only give</td>\n",
       "      <td>is_positive;is_very_negative;is_negative;feels_threatened</td>\n",
       "    </tr>\n",
       "  </tbody>\n",
       "</table>"
      ],
      "text/plain": [
       "<IPython.core.display.HTML object>"
      ]
     },
     "metadata": {},
     "output_type": "display_data"
    }
   ],
   "source": [
    "#hide\n",
    "dls.show_batch(dataloaders=dls, max_n=2)"
   ]
  },
  {
   "cell_type": "code",
   "execution_count": 23,
   "metadata": {
    "hidden": true
   },
   "outputs": [],
   "source": [
    "#hide\n",
    "# save dataloaders\n",
    "# torch.save(dls, STANDARD_THEME_SAW_PATH/f'data_cls_sentiment_multilabel_hf.pkl')\n",
    "# dls = torch.load(STANDARD_THEME_SAW_PATH/f'data_cls_sentiment_multilabel_hf.pkl')"
   ]
  },
  {
   "cell_type": "code",
   "execution_count": 24,
   "metadata": {
    "hidden": true
   },
   "outputs": [],
   "source": [
    "#export\n",
    "def get_sentiment_train_x(inp, corpus_cols): return ': '.join(inp[corpus_cols].values)\n",
    "\n",
    "def get_sentiment_train_dls(df, hf_arch, hf_tokenizer, vocab=SENT_LABELS[1:], train_config={}, use_cache=True):\n",
    "    \n",
    "    config = {**sentiment_train_config, **train_config}\n",
    "    cache_path = config['cache_data_path'] if ('cache_data_path' in config) else None\n",
    "    \n",
    "    if (use_cache and cache_path is not None):\n",
    "        if (os.path.isfile(cache_path)): \n",
    "            dls = torch.load(cache_path)\n",
    "            dls.bs = config['batch_size']\n",
    "    \n",
    "    blocks = (\n",
    "        HF_TextBlock(hf_arch=hf_arch, hf_tokenizer=hf_tokenizer), \n",
    "        MultiCategoryBlock(encoded=True, vocab=vocab)\n",
    "    )\n",
    "\n",
    "    dblock = DataBlock(blocks=blocks, \n",
    "                       get_x=partial(get_sentiment_train_x, corpus_cols=config['corpus_cols']), \n",
    "                       get_y=ColReader(vocab), \n",
    "                       splitter=ColSplitter(col='is_valid'))\n",
    "    \n",
    "    dls = dblock.dataloaders(df, bs=config['batch_size'])\n",
    "    if (cache_path is not None): torch.save(dls, config['cache_data_path'])\n",
    "        \n",
    "    return dls"
   ]
  },
  {
   "cell_type": "markdown",
   "metadata": {
    "hidden": true
   },
   "source": [
    "Tests"
   ]
  },
  {
   "cell_type": "code",
   "execution_count": 25,
   "metadata": {
    "hidden": true
   },
   "outputs": [],
   "source": [
    "df = get_sentiment_train_data()\n",
    "dls = get_sentiment_train_dls(df, hf_arch, hf_tokenizer)\n",
    "\n",
    "test_eq(dls.bs, sentiment_train_config['batch_size'])\n",
    "test_eq(len(SENT_LABELS[1:]), len(dls.vocab))\n",
    "\n",
    "b = dls.one_batch()\n",
    "test_eq(len(b), 2)\n",
    "test_eq(b[1].shape[1], len(dls.vocab))"
   ]
  },
  {
   "cell_type": "code",
   "execution_count": 26,
   "metadata": {
    "hidden": true
   },
   "outputs": [],
   "source": [
    "dls = get_sentiment_train_dls(df, hf_arch, hf_tokenizer, use_cache=False)\n",
    "\n",
    "test_eq(dls.bs, sentiment_train_config['batch_size'])\n",
    "test_eq(len(SENT_LABELS[1:]), len(dls.vocab))\n",
    "\n",
    "b = dls.one_batch()\n",
    "test_eq(len(b), 2)\n",
    "test_eq(b[1].shape[1], len(dls.vocab))"
   ]
  },
  {
   "cell_type": "code",
   "execution_count": 27,
   "metadata": {
    "hidden": true,
    "scrolled": true
   },
   "outputs": [
    {
     "data": {
      "text/html": [
       "<table border=\"1\" class=\"dataframe\">\n",
       "  <thead>\n",
       "    <tr style=\"text-align: right;\">\n",
       "      <th></th>\n",
       "      <th>text</th>\n",
       "      <th>None</th>\n",
       "    </tr>\n",
       "  </thead>\n",
       "  <tbody>\n",
       "    <tr>\n",
       "      <th>0</th>\n",
       "      <td>So another survey has come around and I anticipate it will have the same effect as all the other surveys … basically nothing will change, or should I say any changes will not be for the good of the staff. This years rant will consist of two items. First lets discuss the eternal issue of lack of pay. We all know that working for a University results in a paycheck 15 to 20% less than typical outside jobs of the same type but right now I know of people that are 20 to 30% under the going rate while we sit and watch upper echelon employees get anywhere from $2000 to over $50,000 dollars pay raises since 2008. We are still trying to figure out how some people can get $251,249.96 in “Extra Pay”. It is understood that keeping quality people is important and pay is a very big incentive to keep these people but the message it sends is that we have plenty of money for people that already earn plenty of money but we cant cough up a quarter more an hour for the custodians or the grounds people let alone actually pay anyone else near what they are worth. It has been shown time and time again that to achieve higher wages your best bet is to get another job and be prepared to leave, then (and only then) the purse strings open. This sends the message that there is no reason for loyalty to the University just be a mercenary and you will get the pay increase, meanwhile the employee that is dedicated and long term receives nothing for that dedication and loyalty. I want to see what the reason for no pay raises this year will be. In the last several years it has been “The State keeps cutting our budget” … yes the state that only is about 10% of the UC budget effects every pay scale except when someone threatens to leave. Now that Prop 30 has passed, which I believe had a lot of help due to the veiled threat of “Vote for this or you will lose your job”, what will be the new invented reason for cutbacks. Hers one you can use … “Well, actually you guys are not really State employees you are Reagent employees and we cant afford to give you raises … unless you are already earning over $100,00 a year, then we got plenty of money. BTW it is interesting that the Treasurer of the Regents has earned an average of over $280,000 in “Extra Pay” over the last 5 years on top of her $470,000 base salary.</td>\n",
       "      <td>is_very_negative;is_negative;feels_threatened</td>\n",
       "    </tr>\n",
       "    <tr>\n",
       "      <th>1</th>\n",
       "      <td>I am concerned about the lack of support for groups that are less in number than others.  Although university leadership does its best for everyone, sometimes when one group is supported it appears that another group is not. I've had Latino and Jewish students in my office sharing their fear of fellow students who hated them because of their ethnic or religious background.  I remember one Caucasian student who after taking a History course and learning about American injustices against Latinos was too embarrassed to admit he was White.  I had to remind him of the good things Americans have done.  I've seen several students be ashamed of their Arts and Humanities major because so much attention is being given to STEM majors by the university and media.  STEM students sometimes have made fun of A&amp;H or Social Science students because they somehow think they are smarter or will be making more money after graduation. Students should not be feeling scared or inferior to any other student regardless of ethnic, political or religious background, or because they chose to major in Classical Studies.  We need to do more for any group or individual that feels threatened or inferior in any way- do more in our teaching, advertising, campus articles, events, counseling, advising- in all services the university provides.  The sense of superiority and arrogance sometimes found in a few faculty, staff and students should be set straight and not overlooked. Our all of students can win at life.</td>\n",
       "      <td>is_very_negative;is_negative;feels_threatened</td>\n",
       "    </tr>\n",
       "  </tbody>\n",
       "</table>"
      ],
      "text/plain": [
       "<IPython.core.display.HTML object>"
      ]
     },
     "metadata": {},
     "output_type": "display_data"
    }
   ],
   "source": [
    "dls.show_batch(dataloaders=dls, max_n=2)"
   ]
  },
  {
   "cell_type": "markdown",
   "metadata": {
    "heading_collapsed": true
   },
   "source": [
    "## Standard Themes - S@W"
   ]
  },
  {
   "cell_type": "markdown",
   "metadata": {
    "hidden": true
   },
   "source": [
    "Basic Configuration"
   ]
  },
  {
   "cell_type": "code",
   "execution_count": 28,
   "metadata": {
    "hidden": true
   },
   "outputs": [],
   "source": [
    "#export\n",
    "m_pre_standard_themes_saw = ''\n",
    "m_suf_standard_themes_saw = '_multilabel_hf'\n",
    "\n",
    "saw_standard_themes_train_config = {\n",
    "    'm_pre': m_pre_standard_themes_saw,\n",
    "    'm_suf': m_suf_standard_themes_saw,\n",
    "    \n",
    "    'batch_size': 8,\n",
    "    'corpus_cols': ['answer_text'],\n",
    "    'corpus_suf': '_ans',\n",
    "    'train_data': STANDARD_THEME_SAW_PATH/'train.csv',\n",
    "    'valid_data': STANDARD_THEME_SAW_PATH/'test.csv',\n",
    "    'cache_data_path': STANDARD_THEME_SAW_PATH/'data_cls_standard_themes_saw.pkl',\n",
    "    \n",
    "    'opt_beta': 0.5, \n",
    "    'opt_beta_average': 'weighted',\n",
    "    'opt_beta_sample_weight': None,\n",
    "    'opt_start': 0.08, \n",
    "    'opt_end': 0.7,\n",
    "    \n",
    "    'save_model_monitor': 'precision_score', \n",
    "    'save_model_comp': np.greater,\n",
    "    'save_model_filename': f'{m_pre_standard_themes_saw}cls_bestmodel{m_suf_standard_themes_saw}',\n",
    "    'export_filename': f'{m_pre_standard_themes_saw}export_clas{m_suf_standard_themes_saw}.pkl',\n",
    "\n",
    "    'learner_path': STANDARD_THEME_SAW_PATH\n",
    "}"
   ]
  },
  {
   "cell_type": "markdown",
   "metadata": {
    "hidden": true
   },
   "source": [
    "Prepare the data source"
   ]
  },
  {
   "cell_type": "code",
   "execution_count": 29,
   "metadata": {
    "hidden": true
   },
   "outputs": [],
   "source": [
    "train_df = pd.read_csv(saw_standard_themes_train_config['train_data'])\n",
    "valid_df = pd.read_csv(saw_standard_themes_train_config['valid_data'])"
   ]
  },
  {
   "cell_type": "code",
   "execution_count": 30,
   "metadata": {
    "hidden": true
   },
   "outputs": [
    {
     "data": {
      "text/html": [
       "<div>\n",
       "<style scoped>\n",
       "    .dataframe tbody tr th:only-of-type {\n",
       "        vertical-align: middle;\n",
       "    }\n",
       "\n",
       "    .dataframe tbody tr th {\n",
       "        vertical-align: top;\n",
       "    }\n",
       "\n",
       "    .dataframe thead th {\n",
       "        text-align: right;\n",
       "    }\n",
       "</style>\n",
       "<table border=\"1\" class=\"dataframe\">\n",
       "  <thead>\n",
       "    <tr style=\"text-align: right;\">\n",
       "      <th></th>\n",
       "      <th>id</th>\n",
       "      <th>question_ans_id</th>\n",
       "      <th>answer_text</th>\n",
       "      <th>answer_text_non_english</th>\n",
       "      <th>language</th>\n",
       "      <th>survey_id</th>\n",
       "      <th>survey_type_id</th>\n",
       "      <th>benchmark_survey_type</th>\n",
       "      <th>client_id</th>\n",
       "      <th>rsp_id</th>\n",
       "      <th>question_category_abbr</th>\n",
       "      <th>question_text</th>\n",
       "      <th>question_class</th>\n",
       "      <th>question_category_id</th>\n",
       "      <th>question_report_abbr</th>\n",
       "      <th>question_category_label</th>\n",
       "      <th>benchmark_level1</th>\n",
       "      <th>benchmark_level2</th>\n",
       "      <th>benchmark_level3</th>\n",
       "      <th>client_benchmark_level</th>\n",
       "      <th>group_code</th>\n",
       "      <th>group_id</th>\n",
       "      <th>group_level1_code</th>\n",
       "      <th>group_level1_name</th>\n",
       "      <th>group_level2_code</th>\n",
       "      <th>group_level2_name</th>\n",
       "      <th>group_level3_code</th>\n",
       "      <th>group_level3_name</th>\n",
       "      <th>group_level4_code</th>\n",
       "      <th>group_level4_name</th>\n",
       "      <th>group_level5_code</th>\n",
       "      <th>group_level5_name</th>\n",
       "      <th>group_level6_code</th>\n",
       "      <th>group_level6_name</th>\n",
       "      <th>group_level7_code</th>\n",
       "      <th>group_level7_name</th>\n",
       "      <th>group_level8_code</th>\n",
       "      <th>group_level8_name</th>\n",
       "      <th>adequate_staffing</th>\n",
       "      <th>advancement_and_training_opportunities</th>\n",
       "      <th>appropriate_stress_work_assigned_equitably</th>\n",
       "      <th>benefits</th>\n",
       "      <th>better_ways_recognized_participate_in_decisions</th>\n",
       "      <th>career_advancement</th>\n",
       "      <th>committed_to_diversity</th>\n",
       "      <th>communicates_essential_information</th>\n",
       "      <th>ethical_conduct_perform_responsibilities_spirit_of_cooperation</th>\n",
       "      <th>evaluated_fairly</th>\n",
       "      <th>experienced_discrimination</th>\n",
       "      <th>facilities_workspace_safety</th>\n",
       "      <th>faculty_value_contributions</th>\n",
       "      <th>favoritism_cliques</th>\n",
       "      <th>fear_of_retaliation_negative_consequences</th>\n",
       "      <th>feel_valued_by_department</th>\n",
       "      <th>flexibility_work_life_balance</th>\n",
       "      <th>good_use_of_skills</th>\n",
       "      <th>have_necessary_tools</th>\n",
       "      <th>have_voice_within_my_institution_valued_member_of_my_institution</th>\n",
       "      <th>internal_processes_effective</th>\n",
       "      <th>parking_transportation</th>\n",
       "      <th>salary_pay</th>\n",
       "      <th>satisfied_with_diversity_progams</th>\n",
       "      <th>supervisor_effectiveness_resolves_staff_issues</th>\n",
       "    </tr>\n",
       "  </thead>\n",
       "  <tbody>\n",
       "    <tr>\n",
       "      <th>0</th>\n",
       "      <td>588941</td>\n",
       "      <td>1877</td>\n",
       "      <td>I enjoy our department potlucks and social activities.  I am grateful that our department leader...</td>\n",
       "      <td>NaN</td>\n",
       "      <td>English</td>\n",
       "      <td>212</td>\n",
       "      <td>9</td>\n",
       "      <td>SAW</td>\n",
       "      <td>UCSD</td>\n",
       "      <td>449396</td>\n",
       "      <td>None</td>\n",
       "      <td>59. If you would like to elaborate on your responses above, or if you have any additional feedba...</td>\n",
       "      <td>Verbatim</td>\n",
       "      <td>201</td>\n",
       "      <td>Comments re Work Environment at UCSD</td>\n",
       "      <td>Other</td>\n",
       "      <td>None</td>\n",
       "      <td>None</td>\n",
       "      <td>None</td>\n",
       "      <td>1</td>\n",
       "      <td>24000.0</td>\n",
       "      <td>3834</td>\n",
       "      <td>999999.0</td>\n",
       "      <td>UC San Diego</td>\n",
       "      <td>8000.0</td>\n",
       "      <td>MARINE SCIENCES</td>\n",
       "      <td>24000.0</td>\n",
       "      <td>DIRECTORS OFFICE-SIO</td>\n",
       "      <td>NaN</td>\n",
       "      <td>NaN</td>\n",
       "      <td>NaN</td>\n",
       "      <td>NaN</td>\n",
       "      <td>NaN</td>\n",
       "      <td>NaN</td>\n",
       "      <td>NaN</td>\n",
       "      <td>NaN</td>\n",
       "      <td>NaN</td>\n",
       "      <td>NaN</td>\n",
       "      <td>0</td>\n",
       "      <td>0</td>\n",
       "      <td>0</td>\n",
       "      <td>0</td>\n",
       "      <td>0</td>\n",
       "      <td>0</td>\n",
       "      <td>1</td>\n",
       "      <td>0</td>\n",
       "      <td>0</td>\n",
       "      <td>0</td>\n",
       "      <td>0</td>\n",
       "      <td>0</td>\n",
       "      <td>0</td>\n",
       "      <td>0</td>\n",
       "      <td>0</td>\n",
       "      <td>1</td>\n",
       "      <td>0</td>\n",
       "      <td>0</td>\n",
       "      <td>0</td>\n",
       "      <td>0</td>\n",
       "      <td>0</td>\n",
       "      <td>0</td>\n",
       "      <td>0</td>\n",
       "      <td>1</td>\n",
       "      <td>0</td>\n",
       "    </tr>\n",
       "    <tr>\n",
       "      <th>1</th>\n",
       "      <td>402308</td>\n",
       "      <td>1877</td>\n",
       "      <td>UCSD needs to keep up with the modern workplace in order to get stronger, more competitive candi...</td>\n",
       "      <td>NaN</td>\n",
       "      <td>English</td>\n",
       "      <td>160</td>\n",
       "      <td>9</td>\n",
       "      <td>SAW</td>\n",
       "      <td>UCSD</td>\n",
       "      <td>272347</td>\n",
       "      <td>None</td>\n",
       "      <td>59. If you would like to elaborate on your responses above, or if you have any additional feedba...</td>\n",
       "      <td>Verbatim</td>\n",
       "      <td>201</td>\n",
       "      <td>Comments re Work Environment at UCSD</td>\n",
       "      <td>Other</td>\n",
       "      <td>None</td>\n",
       "      <td>None</td>\n",
       "      <td>None</td>\n",
       "      <td>1</td>\n",
       "      <td>31404.0</td>\n",
       "      <td>3761</td>\n",
       "      <td>999999.0</td>\n",
       "      <td>UC San Diego</td>\n",
       "      <td>30000.0</td>\n",
       "      <td>Student Affairs</td>\n",
       "      <td>31400.0</td>\n",
       "      <td>Student Life</td>\n",
       "      <td>31404.0</td>\n",
       "      <td>Student Life Business Office</td>\n",
       "      <td>NaN</td>\n",
       "      <td>NaN</td>\n",
       "      <td>NaN</td>\n",
       "      <td>NaN</td>\n",
       "      <td>NaN</td>\n",
       "      <td>NaN</td>\n",
       "      <td>NaN</td>\n",
       "      <td>NaN</td>\n",
       "      <td>0</td>\n",
       "      <td>0</td>\n",
       "      <td>0</td>\n",
       "      <td>0</td>\n",
       "      <td>0</td>\n",
       "      <td>0</td>\n",
       "      <td>0</td>\n",
       "      <td>0</td>\n",
       "      <td>0</td>\n",
       "      <td>0</td>\n",
       "      <td>0</td>\n",
       "      <td>0</td>\n",
       "      <td>0</td>\n",
       "      <td>0</td>\n",
       "      <td>0</td>\n",
       "      <td>0</td>\n",
       "      <td>0</td>\n",
       "      <td>0</td>\n",
       "      <td>0</td>\n",
       "      <td>1</td>\n",
       "      <td>0</td>\n",
       "      <td>0</td>\n",
       "      <td>0</td>\n",
       "      <td>0</td>\n",
       "      <td>0</td>\n",
       "    </tr>\n",
       "  </tbody>\n",
       "</table>\n",
       "</div>"
      ],
      "text/plain": [
       "       id  question_ans_id                                                                                          answer_text  answer_text_non_english language  survey_id  survey_type_id benchmark_survey_type client_id  rsp_id question_category_abbr                                                                                        question_text question_class  question_category_id                  question_report_abbr question_category_label benchmark_level1 benchmark_level2 benchmark_level3  client_benchmark_level  group_code  group_id  group_level1_code group_level1_name  group_level2_code group_level2_name  group_level3_code     group_level3_name  group_level4_code             group_level4_name  group_level5_code group_level5_name  group_level6_code group_level6_name  group_level7_code  group_level7_name  group_level8_code  group_level8_name  adequate_staffing  advancement_and_training_opportunities  appropriate_stress_work_assigned_equitably  benefits  \\\n",
       "0  588941             1877  I enjoy our department potlucks and social activities.  I am grateful that our department leader...                      NaN  English        212               9                   SAW      UCSD  449396                   None  59. If you would like to elaborate on your responses above, or if you have any additional feedba...       Verbatim                   201  Comments re Work Environment at UCSD                   Other             None             None             None                       1     24000.0      3834           999999.0      UC San Diego             8000.0   MARINE SCIENCES            24000.0  DIRECTORS OFFICE-SIO                NaN                           NaN                NaN               NaN                NaN               NaN                NaN                NaN                NaN                NaN                  0                                       0                                           0         0   \n",
       "1  402308             1877  UCSD needs to keep up with the modern workplace in order to get stronger, more competitive candi...                      NaN  English        160               9                   SAW      UCSD  272347                   None  59. If you would like to elaborate on your responses above, or if you have any additional feedba...       Verbatim                   201  Comments re Work Environment at UCSD                   Other             None             None             None                       1     31404.0      3761           999999.0      UC San Diego            30000.0   Student Affairs            31400.0          Student Life            31404.0  Student Life Business Office                NaN               NaN                NaN               NaN                NaN                NaN                NaN                NaN                  0                                       0                                           0         0   \n",
       "\n",
       "   better_ways_recognized_participate_in_decisions  career_advancement  committed_to_diversity  communicates_essential_information  ethical_conduct_perform_responsibilities_spirit_of_cooperation  evaluated_fairly  experienced_discrimination  facilities_workspace_safety  faculty_value_contributions  favoritism_cliques  fear_of_retaliation_negative_consequences  feel_valued_by_department  flexibility_work_life_balance  good_use_of_skills  have_necessary_tools  have_voice_within_my_institution_valued_member_of_my_institution  internal_processes_effective  parking_transportation  salary_pay  satisfied_with_diversity_progams  supervisor_effectiveness_resolves_staff_issues  \n",
       "0                                                0                   0                       1                                   0                                                               0                 0                           0                            0                            0                   0                                          0                          1                              0                   0                     0                                                                 0                             0                       0           0                                 1                                               0  \n",
       "1                                                0                   0                       0                                   0                                                               0                 0                           0                            0                            0                   0                                          0                          0                              0                   0                     0                                                                 1                             0                       0           0                                 0                                               0  "
      ]
     },
     "execution_count": 30,
     "metadata": {},
     "output_type": "execute_result"
    }
   ],
   "source": [
    "train_df.head(2)"
   ]
  },
  {
   "cell_type": "code",
   "execution_count": 31,
   "metadata": {
    "hidden": true
   },
   "outputs": [
    {
     "data": {
      "text/plain": [
       "212    1635\n",
       "160     909\n",
       "396     304\n",
       "398     284\n",
       "401      12\n",
       "Name: survey_id, dtype: int64"
      ]
     },
     "execution_count": 31,
     "metadata": {},
     "output_type": "execute_result"
    }
   ],
   "source": [
    "train_df.survey_id.value_counts()"
   ]
  },
  {
   "cell_type": "markdown",
   "metadata": {
    "hidden": true
   },
   "source": [
    "Remove any rows whre the \"corpus_cols\" are nan"
   ]
  },
  {
   "cell_type": "code",
   "execution_count": 32,
   "metadata": {
    "hidden": true
   },
   "outputs": [],
   "source": [
    "train_df.dropna(subset=saw_standard_themes_train_config['corpus_cols'], inplace=True)\n",
    "valid_df.dropna(subset=saw_standard_themes_train_config['corpus_cols'], inplace=True)"
   ]
  },
  {
   "cell_type": "code",
   "execution_count": 33,
   "metadata": {
    "hidden": true
   },
   "outputs": [
    {
     "data": {
      "text/plain": [
       "['adequate_staffing',\n",
       " 'advancement_and_training_opportunities',\n",
       " 'appropriate_stress_work_assigned_equitably',\n",
       " 'benefits',\n",
       " 'better_ways_recognized_participate_in_decisions',\n",
       " 'career_advancement',\n",
       " 'committed_to_diversity',\n",
       " 'communicates_essential_information',\n",
       " 'ethical_conduct_perform_responsibilities_spirit_of_cooperation',\n",
       " 'evaluated_fairly',\n",
       " 'experienced_discrimination',\n",
       " 'facilities_workspace_safety',\n",
       " 'faculty_value_contributions',\n",
       " 'favoritism_cliques',\n",
       " 'fear_of_retaliation_negative_consequences',\n",
       " 'feel_valued_by_department',\n",
       " 'flexibility_work_life_balance',\n",
       " 'good_use_of_skills',\n",
       " 'have_necessary_tools',\n",
       " 'have_voice_within_my_institution_valued_member_of_my_institution',\n",
       " 'internal_processes_effective',\n",
       " 'parking_transportation',\n",
       " 'salary_pay',\n",
       " 'satisfied_with_diversity_progams',\n",
       " 'supervisor_effectiveness_resolves_staff_issues']"
      ]
     },
     "execution_count": 33,
     "metadata": {},
     "output_type": "execute_result"
    }
   ],
   "source": [
    "#hide\n",
    "STANDARD_THEME_SAW_LABELS"
   ]
  },
  {
   "cell_type": "code",
   "execution_count": 34,
   "metadata": {
    "hidden": true
   },
   "outputs": [
    {
     "data": {
      "text/html": [
       "<div>\n",
       "<style scoped>\n",
       "    .dataframe tbody tr th:only-of-type {\n",
       "        vertical-align: middle;\n",
       "    }\n",
       "\n",
       "    .dataframe tbody tr th {\n",
       "        vertical-align: top;\n",
       "    }\n",
       "\n",
       "    .dataframe thead th {\n",
       "        text-align: right;\n",
       "    }\n",
       "</style>\n",
       "<table border=\"1\" class=\"dataframe\">\n",
       "  <thead>\n",
       "    <tr style=\"text-align: right;\">\n",
       "      <th></th>\n",
       "      <th>labels</th>\n",
       "      <th>adequate_staffing</th>\n",
       "      <th>advancement_and_training_opportunities</th>\n",
       "      <th>appropriate_stress_work_assigned_equitably</th>\n",
       "      <th>benefits</th>\n",
       "      <th>better_ways_recognized_participate_in_decisions</th>\n",
       "      <th>career_advancement</th>\n",
       "      <th>committed_to_diversity</th>\n",
       "      <th>communicates_essential_information</th>\n",
       "      <th>ethical_conduct_perform_responsibilities_spirit_of_cooperation</th>\n",
       "      <th>evaluated_fairly</th>\n",
       "      <th>experienced_discrimination</th>\n",
       "      <th>facilities_workspace_safety</th>\n",
       "      <th>faculty_value_contributions</th>\n",
       "      <th>favoritism_cliques</th>\n",
       "      <th>fear_of_retaliation_negative_consequences</th>\n",
       "      <th>feel_valued_by_department</th>\n",
       "      <th>flexibility_work_life_balance</th>\n",
       "      <th>good_use_of_skills</th>\n",
       "      <th>have_necessary_tools</th>\n",
       "      <th>have_voice_within_my_institution_valued_member_of_my_institution</th>\n",
       "      <th>internal_processes_effective</th>\n",
       "      <th>parking_transportation</th>\n",
       "      <th>salary_pay</th>\n",
       "      <th>satisfied_with_diversity_progams</th>\n",
       "      <th>supervisor_effectiveness_resolves_staff_issues</th>\n",
       "    </tr>\n",
       "  </thead>\n",
       "  <tbody>\n",
       "    <tr>\n",
       "      <th>0</th>\n",
       "      <td>committed_to_diversity feel_valued_by_department satisfied_with_diversity_progams</td>\n",
       "      <td>0</td>\n",
       "      <td>0</td>\n",
       "      <td>0</td>\n",
       "      <td>0</td>\n",
       "      <td>0</td>\n",
       "      <td>0</td>\n",
       "      <td>1</td>\n",
       "      <td>0</td>\n",
       "      <td>0</td>\n",
       "      <td>0</td>\n",
       "      <td>0</td>\n",
       "      <td>0</td>\n",
       "      <td>0</td>\n",
       "      <td>0</td>\n",
       "      <td>0</td>\n",
       "      <td>1</td>\n",
       "      <td>0</td>\n",
       "      <td>0</td>\n",
       "      <td>0</td>\n",
       "      <td>0</td>\n",
       "      <td>0</td>\n",
       "      <td>0</td>\n",
       "      <td>0</td>\n",
       "      <td>1</td>\n",
       "      <td>0</td>\n",
       "    </tr>\n",
       "    <tr>\n",
       "      <th>1</th>\n",
       "      <td>have_voice_within_my_institution_valued_member_of_my_institution</td>\n",
       "      <td>0</td>\n",
       "      <td>0</td>\n",
       "      <td>0</td>\n",
       "      <td>0</td>\n",
       "      <td>0</td>\n",
       "      <td>0</td>\n",
       "      <td>0</td>\n",
       "      <td>0</td>\n",
       "      <td>0</td>\n",
       "      <td>0</td>\n",
       "      <td>0</td>\n",
       "      <td>0</td>\n",
       "      <td>0</td>\n",
       "      <td>0</td>\n",
       "      <td>0</td>\n",
       "      <td>0</td>\n",
       "      <td>0</td>\n",
       "      <td>0</td>\n",
       "      <td>0</td>\n",
       "      <td>1</td>\n",
       "      <td>0</td>\n",
       "      <td>0</td>\n",
       "      <td>0</td>\n",
       "      <td>0</td>\n",
       "      <td>0</td>\n",
       "    </tr>\n",
       "    <tr>\n",
       "      <th>2</th>\n",
       "      <td>ethical_conduct_perform_responsibilities_spirit_of_cooperation experienced_discrimination</td>\n",
       "      <td>0</td>\n",
       "      <td>0</td>\n",
       "      <td>0</td>\n",
       "      <td>0</td>\n",
       "      <td>0</td>\n",
       "      <td>0</td>\n",
       "      <td>0</td>\n",
       "      <td>0</td>\n",
       "      <td>1</td>\n",
       "      <td>0</td>\n",
       "      <td>1</td>\n",
       "      <td>0</td>\n",
       "      <td>0</td>\n",
       "      <td>0</td>\n",
       "      <td>0</td>\n",
       "      <td>0</td>\n",
       "      <td>0</td>\n",
       "      <td>0</td>\n",
       "      <td>0</td>\n",
       "      <td>0</td>\n",
       "      <td>0</td>\n",
       "      <td>0</td>\n",
       "      <td>0</td>\n",
       "      <td>0</td>\n",
       "      <td>0</td>\n",
       "    </tr>\n",
       "    <tr>\n",
       "      <th>3</th>\n",
       "      <td>adequate_staffing salary_pay</td>\n",
       "      <td>1</td>\n",
       "      <td>0</td>\n",
       "      <td>0</td>\n",
       "      <td>0</td>\n",
       "      <td>0</td>\n",
       "      <td>0</td>\n",
       "      <td>0</td>\n",
       "      <td>0</td>\n",
       "      <td>0</td>\n",
       "      <td>0</td>\n",
       "      <td>0</td>\n",
       "      <td>0</td>\n",
       "      <td>0</td>\n",
       "      <td>0</td>\n",
       "      <td>0</td>\n",
       "      <td>0</td>\n",
       "      <td>0</td>\n",
       "      <td>0</td>\n",
       "      <td>0</td>\n",
       "      <td>0</td>\n",
       "      <td>0</td>\n",
       "      <td>0</td>\n",
       "      <td>1</td>\n",
       "      <td>0</td>\n",
       "      <td>0</td>\n",
       "    </tr>\n",
       "    <tr>\n",
       "      <th>4</th>\n",
       "      <td>appropriate_stress_work_assigned_equitably faculty_value_contributions</td>\n",
       "      <td>0</td>\n",
       "      <td>0</td>\n",
       "      <td>1</td>\n",
       "      <td>0</td>\n",
       "      <td>0</td>\n",
       "      <td>0</td>\n",
       "      <td>0</td>\n",
       "      <td>0</td>\n",
       "      <td>0</td>\n",
       "      <td>0</td>\n",
       "      <td>0</td>\n",
       "      <td>0</td>\n",
       "      <td>1</td>\n",
       "      <td>0</td>\n",
       "      <td>0</td>\n",
       "      <td>0</td>\n",
       "      <td>0</td>\n",
       "      <td>0</td>\n",
       "      <td>0</td>\n",
       "      <td>0</td>\n",
       "      <td>0</td>\n",
       "      <td>0</td>\n",
       "      <td>0</td>\n",
       "      <td>0</td>\n",
       "      <td>0</td>\n",
       "    </tr>\n",
       "  </tbody>\n",
       "</table>\n",
       "</div>"
      ],
      "text/plain": [
       "                                                                                      labels  adequate_staffing  advancement_and_training_opportunities  appropriate_stress_work_assigned_equitably  benefits  better_ways_recognized_participate_in_decisions  career_advancement  committed_to_diversity  communicates_essential_information  ethical_conduct_perform_responsibilities_spirit_of_cooperation  evaluated_fairly  experienced_discrimination  facilities_workspace_safety  faculty_value_contributions  favoritism_cliques  fear_of_retaliation_negative_consequences  feel_valued_by_department  flexibility_work_life_balance  good_use_of_skills  have_necessary_tools  have_voice_within_my_institution_valued_member_of_my_institution  internal_processes_effective  parking_transportation  salary_pay  satisfied_with_diversity_progams  supervisor_effectiveness_resolves_staff_issues\n",
       "0          committed_to_diversity feel_valued_by_department satisfied_with_diversity_progams                  0                                       0                                           0         0                                                0                   0                       1                                   0                                                               0                 0                           0                            0                            0                   0                                          0                          1                              0                   0                     0                                                                 0                             0                       0           0                                 1                                               0\n",
       "1                           have_voice_within_my_institution_valued_member_of_my_institution                  0                                       0                                           0         0                                                0                   0                       0                                   0                                                               0                 0                           0                            0                            0                   0                                          0                          0                              0                   0                     0                                                                 1                             0                       0           0                                 0                                               0\n",
       "2  ethical_conduct_perform_responsibilities_spirit_of_cooperation experienced_discrimination                  0                                       0                                           0         0                                                0                   0                       0                                   0                                                               1                 0                           1                            0                            0                   0                                          0                          0                              0                   0                     0                                                                 0                             0                       0           0                                 0                                               0\n",
       "3                                                               adequate_staffing salary_pay                  1                                       0                                           0         0                                                0                   0                       0                                   0                                                               0                 0                           0                            0                            0                   0                                          0                          0                              0                   0                     0                                                                 0                             0                       0           1                                 0                                               0\n",
       "4                     appropriate_stress_work_assigned_equitably faculty_value_contributions                  0                                       0                                           1         0                                                0                   0                       0                                   0                                                               0                 0                           0                            0                            1                   0                                          0                          0                              0                   0                     0                                                                 0                             0                       0           0                                 0                                               0"
      ]
     },
     "execution_count": 34,
     "metadata": {},
     "output_type": "execute_result"
    }
   ],
   "source": [
    "#hide\n",
    "\n",
    "# If we want to add a \"labels\" column with all the labels space delimited (for exmaple, as we would with\n",
    "# non-encoded labels)\n",
    "train_df['labels'] = train_df[STANDARD_THEME_SAW_LABELS].apply(lambda x: ' '.join(x.index[x.astype(bool)]), axis=1)\n",
    "valid_df['labels'] = valid_df[STANDARD_THEME_SAW_LABELS].apply(lambda x: ' '.join(x.index[x.astype(bool)]), axis=1)\n",
    "\n",
    "train_df[['labels'] + STANDARD_THEME_SAW_LABELS].head()"
   ]
  },
  {
   "cell_type": "code",
   "execution_count": 35,
   "metadata": {
    "hidden": true
   },
   "outputs": [
    {
     "data": {
      "text/plain": [
       "3494"
      ]
     },
     "execution_count": 35,
     "metadata": {},
     "output_type": "execute_result"
    }
   ],
   "source": [
    "train_df['is_valid'] = False\n",
    "valid_df['is_valid'] = True\n",
    "df = pd.concat([train_df, valid_df])\n",
    "len(df)"
   ]
  },
  {
   "cell_type": "code",
   "execution_count": 36,
   "metadata": {
    "hidden": true
   },
   "outputs": [],
   "source": [
    "#export\n",
    "def get_saw_standard_theme_train_data(train_config={}, trg_labels=STANDARD_THEME_SAW_LABELS):\n",
    "    config = {**saw_standard_themes_train_config, **train_config}\n",
    "    \n",
    "    train_df = pd.read_csv(config['train_data'])\n",
    "    train_df.dropna(subset=config['corpus_cols'], inplace=True)\n",
    "    train_df['labels'] = train_df[trg_labels].apply(lambda x: ' '.join(x.index[x.astype(bool)]), axis=1)\n",
    "    train_df['is_valid'] = False\n",
    "    \n",
    "    if ('valid_data' in config and config['valid_data'] is not None):\n",
    "        valid_df = pd.read_csv(config['valid_data'])\n",
    "        valid_df.dropna(subset=config['corpus_cols'], inplace=True)\n",
    "        valid_df['labels'] = valid_df[trg_labels].apply(lambda x: ' '.join(x.index[x.astype(bool)]), axis=1)\n",
    "        valid_df['is_valid'] = True\n",
    "        \n",
    "        return pd.concat([train_df, valid_df])\n",
    "    \n",
    "    return train_df"
   ]
  },
  {
   "cell_type": "code",
   "execution_count": 37,
   "metadata": {
    "hidden": true
   },
   "outputs": [],
   "source": [
    "df = get_saw_standard_theme_train_data()\n",
    "test(len(df), 0, operator.ge)"
   ]
  },
  {
   "cell_type": "markdown",
   "metadata": {
    "hidden": true
   },
   "source": [
    "Using the mid-level `DataBlocks` API"
   ]
  },
  {
   "cell_type": "code",
   "execution_count": 38,
   "metadata": {
    "hidden": true
   },
   "outputs": [
    {
     "name": "stderr",
     "output_type": "stream",
     "text": [
      "Some weights of the model checkpoint at roberta-base were not used when initializing RobertaForSequenceClassification: ['lm_head.bias', 'lm_head.dense.weight', 'lm_head.dense.bias', 'lm_head.layer_norm.weight', 'lm_head.layer_norm.bias', 'lm_head.decoder.weight', 'roberta.pooler.dense.weight', 'roberta.pooler.dense.bias']\n",
      "- This IS expected if you are initializing RobertaForSequenceClassification from the checkpoint of a model trained on another task or with another architecture (e.g. initializing a BertForSequenceClassification model from a BertForPretraining model).\n",
      "- This IS NOT expected if you are initializing RobertaForSequenceClassification from the checkpoint of a model that you expect to be exactly identical (initializing a BertForSequenceClassification model from a BertForSequenceClassification model).\n",
      "Some weights of RobertaForSequenceClassification were not initialized from the model checkpoint at roberta-base and are newly initialized: ['classifier.dense.weight', 'classifier.dense.bias', 'classifier.out_proj.weight', 'classifier.out_proj.bias']\n",
      "You should probably TRAIN this model on a down-stream task to be able to use it for predictions and inference.\n"
     ]
    }
   ],
   "source": [
    "#hide\n",
    "task = HF_TASKS_AUTO.SequenceClassification\n",
    "\n",
    "pretrained_model_name = \"roberta-base\"\n",
    "config = AutoConfig.from_pretrained(pretrained_model_name)\n",
    "config.num_labels = len(STANDARD_THEME_SAW_LABELS)\n",
    "\n",
    "hf_arch, hf_config, hf_tokenizer, hf_model = BLURR_MODEL_HELPER.get_hf_objects(pretrained_model_name, \n",
    "                                                                               task=task, \n",
    "                                                                               config=config)"
   ]
  },
  {
   "cell_type": "code",
   "execution_count": 39,
   "metadata": {
    "hidden": true,
    "tags": []
   },
   "outputs": [],
   "source": [
    "#hide\n",
    "blocks = (\n",
    "    HF_TextBlock(hf_arch=hf_arch, hf_tokenizer=hf_tokenizer), \n",
    "    MultiCategoryBlock(encoded=True, vocab=STANDARD_THEME_SAW_LABELS)\n",
    ")\n",
    "\n",
    "def get_x(inp): return ': '.join(inp[saw_standard_themes_train_config['corpus_cols']].values)\n",
    "\n",
    "dblock = DataBlock(blocks=blocks, \n",
    "                   get_x=get_x, \n",
    "                   get_y=ColReader(STANDARD_THEME_SAW_LABELS), \n",
    "                   splitter=ColSplitter(col='is_valid'))"
   ]
  },
  {
   "cell_type": "code",
   "execution_count": 40,
   "metadata": {
    "hidden": true,
    "scrolled": true,
    "tags": []
   },
   "outputs": [],
   "source": [
    "#hide\n",
    "dls = dblock.dataloaders(df, bs=saw_standard_themes_train_config['batch_size'])"
   ]
  },
  {
   "cell_type": "code",
   "execution_count": 41,
   "metadata": {
    "hidden": true,
    "tags": []
   },
   "outputs": [
    {
     "name": "stdout",
     "output_type": "stream",
     "text": [
      "The Target vocab has (25 items)\n"
     ]
    }
   ],
   "source": [
    "#hide\n",
    "print(f'The Target vocab has ({len(dls.vocab)} items)')"
   ]
  },
  {
   "cell_type": "code",
   "execution_count": 42,
   "metadata": {
    "hidden": true,
    "tags": []
   },
   "outputs": [
    {
     "data": {
      "text/plain": [
       "(2, torch.Size([8, 456]), torch.Size([8, 25]))"
      ]
     },
     "execution_count": 42,
     "metadata": {},
     "output_type": "execute_result"
    }
   ],
   "source": [
    "#hide\n",
    "b = dls.one_batch()\n",
    "len(b), b[0]['input_ids'].shape, b[1].shape"
   ]
  },
  {
   "cell_type": "code",
   "execution_count": 43,
   "metadata": {
    "hidden": true
   },
   "outputs": [
    {
     "data": {
      "text/html": [
       "<table border=\"1\" class=\"dataframe\">\n",
       "  <thead>\n",
       "    <tr style=\"text-align: right;\">\n",
       "      <th></th>\n",
       "      <th>text</th>\n",
       "      <th>None</th>\n",
       "    </tr>\n",
       "  </thead>\n",
       "  <tbody>\n",
       "    <tr>\n",
       "      <th>0</th>\n",
       "      <td>In the Enterprise Network and Telecommunications group of ITS, the environment continues to be toxic, retaliatory, abusive, and discriminatory as in past years. Under the direction of James Seddon, supervisor Malerie Samadi harasses and talks down to employees. Manipulates and edits official documentation to make staff look and give lower performance appraisal ratings or retaliate against them. Also, use the same practice to provide their friends with higher performance ratings and award them with higher merit increases.  Senior management continues to harbor this behavior without any consequence and or accountability. James and Malerie exploit minorities and give preferential treatment to personnel hired by them. Regularly abuse the power that the University of California gives them and exercise nepotism because they are both product of such practices.\\r\\nOther supervisors like Ynez Hicks also participates in the same practices of despotism, nepotism, and favoritism. \\r\\nIt is unacceptable that this behavior and practices continue to be used by management without any accountability.  Principles of the community are ignored continuously daily. When this type of situation is brought up to Human Resources, they ignore them because no one is enforcing the UC Principles. James Seddon and Malerie Samadi in the Datacom group don't care about staff promotion, compensation, and well being. They only care about themselves and their friends. Hiring practices are unfair; they manipulate the process so they can hire barely qualified personnel into experienced positions. Existing staff is overworked because newer personnel can not pull their weight, yet Malerie and James make it look like they are in their appraisals. They mentally abuse staff and minimize their work performance. Recently one of the team member past away while working at home. A stroke caused by the stress and the pressure that Malerie was putting on David Ramirez. She used him to get her promotion to supervisor and make her look good in front of others.\\r\\nBoth James and Malerie are the perfect examples of bad management. Somehow they continue to occupy their positions, and Senior Management doesn't do anything about it.  \\r\\nThe lowest level the Datacom team has been in years, all because of James and Malerie's arrogance and lack of ethics.</td>\n",
       "      <td>ethical_conduct_perform_responsibilities_spirit_of_cooperation;evaluated_fairly;favoritism_cliques;fear_of_retaliation_negative_consequences;supervisor_effectiveness_resolves_staff_issues</td>\n",
       "    </tr>\n",
       "    <tr>\n",
       "      <th>1</th>\n",
       "      <td>1.\\tSensitivity and bias training for SLBO management – The selection and search for the person to fill Evelyns position seemed inequitable.  Evelyn having a say in her successor may not have been against campus hiring policies but did not seem appropriate since she had inside knowledge of some of the candidates and a possible bias for or against other candidates.  \\r\\n  I applied for the position because my applying was suggested by another member of Evelyns team that was not on the committee.\\r\\nAnna, a member of the committee, was also under the leadership of Evelyn.  Anna, who now has been promoted into Jamies positions would not be in Jamies position if he had not gotten Evelyns position.  In addition, there was no one in the room from HR ensuring that the interviews were fair and equal.  I think that this Cluster is large enough to warrant additional oversite with the filling of positions. \\r\\nThough it may not matter to some but within the SLBO all of senior management (HR remains neutral) is now male while 99 %  of the rest of the staff is female.  \\r\\n2.\\tWhen work is removed from my desk work of equal or greater substance should replace it (the work removed).\\r\\n3.\\tTo remove budgetary work from me and replace it with transactional work is belittling along with a misuse of my high level skill set, experience, and education.  I am often the person who trains or provides information to new staff on our tools within Financial Link.  \\r\\n4.\\tI want to see equality in secession training for management positions within the SLBO or other departments in the cluster.</td>\n",
       "      <td>advancement_and_training_opportunities;committed_to_diversity;favoritism_cliques</td>\n",
       "    </tr>\n",
       "  </tbody>\n",
       "</table>"
      ],
      "text/plain": [
       "<IPython.core.display.HTML object>"
      ]
     },
     "metadata": {},
     "output_type": "display_data"
    }
   ],
   "source": [
    "#hide\n",
    "dls.show_batch(dataloaders=dls, max_n=2)"
   ]
  },
  {
   "cell_type": "code",
   "execution_count": 44,
   "metadata": {
    "hidden": true
   },
   "outputs": [],
   "source": [
    "#hide\n",
    "# save dataloaders\n",
    "# torch.save(dls, STANDARD_THEME_SAW_PATH/f'data_cls_standard_themes_saw_multilabel_hf.pkl')\n",
    "# dls = torch.load(STANDARD_THEME_SAW_PATH/f'data_cls_standard_themes_saw_multilabel_hf.pkl')"
   ]
  },
  {
   "cell_type": "code",
   "execution_count": 45,
   "metadata": {
    "hidden": true
   },
   "outputs": [],
   "source": [
    "#export\n",
    "def get_saw_standard_theme_train_x(inp, corpus_cols): return ': '.join(inp[corpus_cols].values)\n",
    "\n",
    "def get_saw_standard_theme_train_dls(df, hf_arch, hf_tokenizer, vocab=STANDARD_THEME_SAW_LABELS, \n",
    "                                     train_config={}, use_cache=True):\n",
    "    \n",
    "    config = {**saw_standard_themes_train_config, **train_config}\n",
    "    cache_path = config['cache_data_path'] if ('cache_data_path' in config) else None\n",
    "    \n",
    "    if (use_cache and cache_path is not None):\n",
    "        if (os.path.isfile(cache_path)): \n",
    "            dls = torch.load(cache_path)\n",
    "            dls.bs = config['batch_size']\n",
    "    \n",
    "    blocks = (\n",
    "        HF_TextBlock(hf_arch=hf_arch, hf_tokenizer=hf_tokenizer), \n",
    "        MultiCategoryBlock(encoded=True, vocab=vocab)\n",
    "    )\n",
    "\n",
    "    dblock = DataBlock(blocks=blocks, \n",
    "                       get_x=partial(get_saw_standard_theme_train_x, corpus_cols=config['corpus_cols']), \n",
    "                       get_y=ColReader(vocab), \n",
    "                       splitter=ColSplitter(col='is_valid'))\n",
    "    \n",
    "    dls = dblock.dataloaders(df, bs=config['batch_size'])\n",
    "    if (cache_path is not None): torch.save(dls, config['cache_data_path'])\n",
    "        \n",
    "    return dls"
   ]
  },
  {
   "cell_type": "markdown",
   "metadata": {
    "hidden": true
   },
   "source": [
    "Tests"
   ]
  },
  {
   "cell_type": "code",
   "execution_count": 46,
   "metadata": {
    "hidden": true
   },
   "outputs": [],
   "source": [
    "df = get_saw_standard_theme_train_data()\n",
    "dls = get_saw_standard_theme_train_dls(df, hf_arch, hf_tokenizer)\n",
    "\n",
    "test_eq(dls.bs, saw_standard_themes_train_config['batch_size'])\n",
    "test_eq(len(STANDARD_THEME_SAW_LABELS), len(dls.vocab))\n",
    "\n",
    "b = dls.one_batch()\n",
    "test_eq(len(b), 2)\n",
    "test_eq(b[1].shape[1], len(dls.vocab))"
   ]
  },
  {
   "cell_type": "code",
   "execution_count": 47,
   "metadata": {
    "hidden": true
   },
   "outputs": [],
   "source": [
    "dls = get_saw_standard_theme_train_dls(df, hf_arch, hf_tokenizer, use_cache=False)\n",
    "\n",
    "test_eq(dls.bs, saw_standard_themes_train_config['batch_size'])\n",
    "test_eq(len(STANDARD_THEME_SAW_LABELS), len(dls.vocab))\n",
    "\n",
    "b = dls.one_batch()\n",
    "test_eq(len(b), 2)\n",
    "test_eq(b[1].shape[1], len(dls.vocab))"
   ]
  },
  {
   "cell_type": "code",
   "execution_count": 48,
   "metadata": {
    "hidden": true,
    "scrolled": true
   },
   "outputs": [
    {
     "data": {
      "text/html": [
       "<table border=\"1\" class=\"dataframe\">\n",
       "  <thead>\n",
       "    <tr style=\"text-align: right;\">\n",
       "      <th></th>\n",
       "      <th>text</th>\n",
       "      <th>None</th>\n",
       "    </tr>\n",
       "  </thead>\n",
       "  <tbody>\n",
       "    <tr>\n",
       "      <th>0</th>\n",
       "      <td>In the Enterprise Network and Telecommunications group of ITS, the environment continues to be toxic, retaliatory, abusive, and discriminatory as in past years. Under the direction of James Seddon, supervisor Malerie Samadi harasses and talks down to employees. Manipulates and edits official documentation to make staff look and give lower performance appraisal ratings or retaliate against them. Also, use the same practice to provide their friends with higher performance ratings and award them with higher merit increases.  Senior management continues to harbor this behavior without any consequence and or accountability. James and Malerie exploit minorities and give preferential treatment to personnel hired by them. Regularly abuse the power that the University of California gives them and exercise nepotism because they are both product of such practices.\\r\\nOther supervisors like Ynez Hicks also participates in the same practices of despotism, nepotism, and favoritism. \\r\\nIt is unacceptable that this behavior and practices continue to be used by management without any accountability.  Principles of the community are ignored continuously daily. When this type of situation is brought up to Human Resources, they ignore them because no one is enforcing the UC Principles. James Seddon and Malerie Samadi in the Datacom group don't care about staff promotion, compensation, and well being. They only care about themselves and their friends. Hiring practices are unfair; they manipulate the process so they can hire barely qualified personnel into experienced positions. Existing staff is overworked because newer personnel can not pull their weight, yet Malerie and James make it look like they are in their appraisals. They mentally abuse staff and minimize their work performance. Recently one of the team member past away while working at home. A stroke caused by the stress and the pressure that Malerie was putting on David Ramirez. She used him to get her promotion to supervisor and make her look good in front of others.\\r\\nBoth James and Malerie are the perfect examples of bad management. Somehow they continue to occupy their positions, and Senior Management doesn't do anything about it.  \\r\\nThe lowest level the Datacom team has been in years, all because of James and Malerie's arrogance and lack of ethics.</td>\n",
       "      <td>ethical_conduct_perform_responsibilities_spirit_of_cooperation;evaluated_fairly;favoritism_cliques;fear_of_retaliation_negative_consequences;supervisor_effectiveness_resolves_staff_issues</td>\n",
       "    </tr>\n",
       "    <tr>\n",
       "      <th>1</th>\n",
       "      <td>My team colleagues frequently gossip, talk, laugh around me (and I can hear them).  They also frequently withhold information necessary for team work and for me to successfully do my job.  They also complain their work which furthers a negative environment. This team is oriented towards dysfunctional individuals, not on the team or service for customers.  This has caused problem with anxiety and insomnia which has been very difficult for me.  I've had to spend a lot of time personally taking care of myself to offset the negative impact this has created.  I am a service oriented, transparent individual and pride myself on treating others with kindness regardless of their position.\\r\\n\\r\\nOccasionally I've had mobility issues and brought ADA compliance issues to team members' attention like no elevator access due to a mechanical issue and the only option was climbing 3 flights of stairs one way.  Instead of this being addressed as an ADA issued, I was targeted spoken to with increased volume and told I could call Facilities Management myself if I didn't like the response or blown off like I was un-useful because I couldn't assist with a request requiring mobility when this is not an issue caused by me.  This is completely unacceptable.  \\r\\n\\r\\nAlthough I am not old, I've also experienced ageism because I have senior level experience in position.  I've also been mocked by 2 colleges because I'm a grandparent. This is completely unacceptable. This survey does not include age discrimination.</td>\n",
       "      <td>appropriate_stress_work_assigned_equitably;communicates_essential_information;ethical_conduct_perform_responsibilities_spirit_of_cooperation;experienced_discrimination;favoritism_cliques;have_voice_within_my_institution_valued_member_of_my_institution</td>\n",
       "    </tr>\n",
       "  </tbody>\n",
       "</table>"
      ],
      "text/plain": [
       "<IPython.core.display.HTML object>"
      ]
     },
     "metadata": {},
     "output_type": "display_data"
    }
   ],
   "source": [
    "dls.show_batch(dataloaders=dls, max_n=2)"
   ]
  },
  {
   "cell_type": "code",
   "execution_count": null,
   "metadata": {
    "hidden": true
   },
   "outputs": [],
   "source": []
  },
  {
   "cell_type": "markdown",
   "metadata": {},
   "source": [
    "## Standard Themes - CSS"
   ]
  },
  {
   "cell_type": "markdown",
   "metadata": {},
   "source": [
    "Basic Configuration"
   ]
  },
  {
   "cell_type": "code",
   "execution_count": 49,
   "metadata": {},
   "outputs": [],
   "source": [
    "#export\n",
    "m_pre_standard_themes_css = ''\n",
    "m_suf_standard_themes_css = '_multilabel_hf'\n",
    "\n",
    "css_standard_themes_train_config = {\n",
    "    'm_pre': m_pre_standard_themes_css,\n",
    "    'm_suf': m_suf_standard_themes_css,\n",
    "    \n",
    "    'batch_size': 8,\n",
    "    'corpus_cols': ['answer_text'],\n",
    "    'corpus_suf': '_ans',\n",
    "    'train_data': STANDARD_THEME_CSS_PATH/'train.csv',\n",
    "    'valid_data': STANDARD_THEME_CSS_PATH/'test.csv',\n",
    "    'cache_data_path': STANDARD_THEME_CSS_PATH/'data_cls_standard_themes_css.pkl',\n",
    "    \n",
    "    'opt_beta': 0.5, \n",
    "    'opt_beta_average': 'weighted',\n",
    "    'opt_beta_sample_weight': None,\n",
    "    'opt_start': 0.08, \n",
    "    'opt_end': 0.7,\n",
    "    \n",
    "    'save_model_monitor': 'precision_score', \n",
    "    'save_model_comp': np.greater,\n",
    "    'save_model_filename': f'{m_pre_standard_themes_css}cls_bestmodel{m_suf_standard_themes_css}',\n",
    "    'export_filename': f'{m_pre_standard_themes_css}export_clas{m_suf_standard_themes_css}.pkl',\n",
    "\n",
    "    'learner_path': STANDARD_THEME_CSS_PATH\n",
    "}"
   ]
  },
  {
   "cell_type": "markdown",
   "metadata": {},
   "source": [
    "Prepare the data source"
   ]
  },
  {
   "cell_type": "code",
   "execution_count": 50,
   "metadata": {},
   "outputs": [],
   "source": [
    "train_df = pd.read_csv(css_standard_themes_train_config['train_data'])\n",
    "valid_df = pd.read_csv(css_standard_themes_train_config['valid_data'])"
   ]
  },
  {
   "cell_type": "code",
   "execution_count": 51,
   "metadata": {},
   "outputs": [
    {
     "data": {
      "text/html": [
       "<div>\n",
       "<style scoped>\n",
       "    .dataframe tbody tr th:only-of-type {\n",
       "        vertical-align: middle;\n",
       "    }\n",
       "\n",
       "    .dataframe tbody tr th {\n",
       "        vertical-align: top;\n",
       "    }\n",
       "\n",
       "    .dataframe thead th {\n",
       "        text-align: right;\n",
       "    }\n",
       "</style>\n",
       "<table border=\"1\" class=\"dataframe\">\n",
       "  <thead>\n",
       "    <tr style=\"text-align: right;\">\n",
       "      <th></th>\n",
       "      <th>id</th>\n",
       "      <th>question_ans_id</th>\n",
       "      <th>answer_text</th>\n",
       "      <th>answer_text_non_english</th>\n",
       "      <th>language</th>\n",
       "      <th>survey_id</th>\n",
       "      <th>survey_type_id</th>\n",
       "      <th>benchmark_survey_type</th>\n",
       "      <th>client_id</th>\n",
       "      <th>rsp_id</th>\n",
       "      <th>question_category_abbr</th>\n",
       "      <th>question_text</th>\n",
       "      <th>question_class</th>\n",
       "      <th>question_category_id</th>\n",
       "      <th>question_report_abbr</th>\n",
       "      <th>question_category_label</th>\n",
       "      <th>benchmark_level1</th>\n",
       "      <th>benchmark_level2</th>\n",
       "      <th>benchmark_level3</th>\n",
       "      <th>client_benchmark_level</th>\n",
       "      <th>group_code</th>\n",
       "      <th>group_id</th>\n",
       "      <th>group_level1_code</th>\n",
       "      <th>group_level1_name</th>\n",
       "      <th>group_level2_code</th>\n",
       "      <th>group_level2_name</th>\n",
       "      <th>group_level3_code</th>\n",
       "      <th>group_level3_name</th>\n",
       "      <th>group_level4_code</th>\n",
       "      <th>group_level4_name</th>\n",
       "      <th>group_level5_code</th>\n",
       "      <th>group_level5_name</th>\n",
       "      <th>group_level6_code</th>\n",
       "      <th>group_level6_name</th>\n",
       "      <th>group_level7_code</th>\n",
       "      <th>group_level7_name</th>\n",
       "      <th>group_level8_code</th>\n",
       "      <th>group_level8_name</th>\n",
       "      <th>accessible_to_customers</th>\n",
       "      <th>consistency_in_policies_information</th>\n",
       "      <th>cost_fees</th>\n",
       "      <th>courteous_professional_staff</th>\n",
       "      <th>effective_communications</th>\n",
       "      <th>effectively_uses_websites_online_documentation</th>\n",
       "      <th>helpful_staff</th>\n",
       "      <th>knowledgeable_staff</th>\n",
       "      <th>moving_in_a_positive_direction</th>\n",
       "      <th>overall_satisfaction</th>\n",
       "      <th>process_improvement</th>\n",
       "      <th>provides_effective_advice_guidance</th>\n",
       "      <th>provides_training_on_processes_applications</th>\n",
       "      <th>resolves_problems_effectively</th>\n",
       "      <th>responds_to_requests_within_an_acceptable_time</th>\n",
       "      <th>understands_my_needs_and_requirements</th>\n",
       "    </tr>\n",
       "  </thead>\n",
       "  <tbody>\n",
       "    <tr>\n",
       "      <th>0</th>\n",
       "      <td>596266</td>\n",
       "      <td>12491</td>\n",
       "      <td>Just continue to communicate with individuals in the areas affected.</td>\n",
       "      <td>NaN</td>\n",
       "      <td>English</td>\n",
       "      <td>215</td>\n",
       "      <td>15</td>\n",
       "      <td>CSS-FACULTY-STAFF-ONLY</td>\n",
       "      <td>UCSD</td>\n",
       "      <td>453250</td>\n",
       "      <td>Bldg Main &amp; Repair</td>\n",
       "      <td>Let us know your suggestions on how to improve Building Maintenance and Repair Services.</td>\n",
       "      <td>Verbatim-Dept-Improve</td>\n",
       "      <td>134.0</td>\n",
       "      <td>Building_Improve</td>\n",
       "      <td>Building Maintenance &amp; Repair Services</td>\n",
       "      <td>Facilities</td>\n",
       "      <td>Building, Custodial, Facilities Maintenance</td>\n",
       "      <td>Facilities Maintenance</td>\n",
       "      <td>1.0</td>\n",
       "      <td>-1.0</td>\n",
       "      <td>-1</td>\n",
       "      <td>-1.0</td>\n",
       "      <td>None</td>\n",
       "      <td>NaN</td>\n",
       "      <td>NaN</td>\n",
       "      <td>NaN</td>\n",
       "      <td>NaN</td>\n",
       "      <td>NaN</td>\n",
       "      <td>NaN</td>\n",
       "      <td>NaN</td>\n",
       "      <td>NaN</td>\n",
       "      <td>NaN</td>\n",
       "      <td>NaN</td>\n",
       "      <td>NaN</td>\n",
       "      <td>NaN</td>\n",
       "      <td>NaN</td>\n",
       "      <td>NaN</td>\n",
       "      <td>0</td>\n",
       "      <td>0</td>\n",
       "      <td>0</td>\n",
       "      <td>0</td>\n",
       "      <td>1</td>\n",
       "      <td>0</td>\n",
       "      <td>0</td>\n",
       "      <td>0</td>\n",
       "      <td>0</td>\n",
       "      <td>0</td>\n",
       "      <td>0</td>\n",
       "      <td>0</td>\n",
       "      <td>0</td>\n",
       "      <td>0</td>\n",
       "      <td>0</td>\n",
       "      <td>0</td>\n",
       "    </tr>\n",
       "    <tr>\n",
       "      <th>1</th>\n",
       "      <td>594413</td>\n",
       "      <td>12281</td>\n",
       "      <td>Delaying payment by 2 weeks because of late timesheets is very difficult for staff</td>\n",
       "      <td>NaN</td>\n",
       "      <td>English</td>\n",
       "      <td>215</td>\n",
       "      <td>15</td>\n",
       "      <td>CSS-FACULTY-STAFF-ONLY</td>\n",
       "      <td>UCSD</td>\n",
       "      <td>456790</td>\n",
       "      <td>Payroll</td>\n",
       "      <td>Let us know your suggestions on how to improve Payroll.</td>\n",
       "      <td>Verbatim-Dept-Improve</td>\n",
       "      <td>88.0</td>\n",
       "      <td>Payroll_Improve</td>\n",
       "      <td>Payroll</td>\n",
       "      <td>Human Resources</td>\n",
       "      <td>Payroll Services</td>\n",
       "      <td>Payroll</td>\n",
       "      <td>1.0</td>\n",
       "      <td>-1.0</td>\n",
       "      <td>-1</td>\n",
       "      <td>-1.0</td>\n",
       "      <td>None</td>\n",
       "      <td>NaN</td>\n",
       "      <td>NaN</td>\n",
       "      <td>NaN</td>\n",
       "      <td>NaN</td>\n",
       "      <td>NaN</td>\n",
       "      <td>NaN</td>\n",
       "      <td>NaN</td>\n",
       "      <td>NaN</td>\n",
       "      <td>NaN</td>\n",
       "      <td>NaN</td>\n",
       "      <td>NaN</td>\n",
       "      <td>NaN</td>\n",
       "      <td>NaN</td>\n",
       "      <td>NaN</td>\n",
       "      <td>0</td>\n",
       "      <td>0</td>\n",
       "      <td>0</td>\n",
       "      <td>0</td>\n",
       "      <td>0</td>\n",
       "      <td>0</td>\n",
       "      <td>0</td>\n",
       "      <td>0</td>\n",
       "      <td>0</td>\n",
       "      <td>0</td>\n",
       "      <td>0</td>\n",
       "      <td>0</td>\n",
       "      <td>0</td>\n",
       "      <td>1</td>\n",
       "      <td>0</td>\n",
       "      <td>0</td>\n",
       "    </tr>\n",
       "  </tbody>\n",
       "</table>\n",
       "</div>"
      ],
      "text/plain": [
       "       id  question_ans_id                                                                         answer_text  answer_text_non_english language  survey_id  survey_type_id   benchmark_survey_type client_id  rsp_id question_category_abbr                                                                             question_text         question_class  question_category_id question_report_abbr                 question_category_label benchmark_level1                             benchmark_level2        benchmark_level3  client_benchmark_level  group_code  group_id  group_level1_code group_level1_name  group_level2_code  group_level2_name  group_level3_code  group_level3_name  group_level4_code  group_level4_name  group_level5_code  group_level5_name  group_level6_code  group_level6_name  group_level7_code  group_level7_name  group_level8_code  group_level8_name  accessible_to_customers  consistency_in_policies_information  cost_fees  courteous_professional_staff  effective_communications  \\\n",
       "0  596266            12491                Just continue to communicate with individuals in the areas affected.                      NaN  English        215              15  CSS-FACULTY-STAFF-ONLY      UCSD  453250     Bldg Main & Repair  Let us know your suggestions on how to improve Building Maintenance and Repair Services.  Verbatim-Dept-Improve                 134.0     Building_Improve  Building Maintenance & Repair Services       Facilities  Building, Custodial, Facilities Maintenance  Facilities Maintenance                     1.0        -1.0        -1               -1.0              None                NaN                NaN                NaN                NaN                NaN                NaN                NaN                NaN                NaN                NaN                NaN                NaN                NaN                NaN                        0                                    0          0                             0                         1   \n",
       "1  594413            12281  Delaying payment by 2 weeks because of late timesheets is very difficult for staff                      NaN  English        215              15  CSS-FACULTY-STAFF-ONLY      UCSD  456790                Payroll                                   Let us know your suggestions on how to improve Payroll.  Verbatim-Dept-Improve                  88.0      Payroll_Improve                                 Payroll  Human Resources                             Payroll Services                 Payroll                     1.0        -1.0        -1               -1.0              None                NaN                NaN                NaN                NaN                NaN                NaN                NaN                NaN                NaN                NaN                NaN                NaN                NaN                NaN                        0                                    0          0                             0                         0   \n",
       "\n",
       "   effectively_uses_websites_online_documentation  helpful_staff  knowledgeable_staff  moving_in_a_positive_direction  overall_satisfaction  process_improvement  provides_effective_advice_guidance  provides_training_on_processes_applications  resolves_problems_effectively  responds_to_requests_within_an_acceptable_time  understands_my_needs_and_requirements  \n",
       "0                                               0              0                    0                               0                     0                    0                                   0                                            0                              0                                               0                                      0  \n",
       "1                                               0              0                    0                               0                     0                    0                                   0                                            0                              1                                               0                                      0  "
      ]
     },
     "execution_count": 51,
     "metadata": {},
     "output_type": "execute_result"
    }
   ],
   "source": [
    "train_df.head(2)"
   ]
  },
  {
   "cell_type": "code",
   "execution_count": 52,
   "metadata": {},
   "outputs": [
    {
     "data": {
      "text/plain": [
       "215    2734\n",
       "131       1\n",
       "124       1\n",
       "Name: survey_id, dtype: int64"
      ]
     },
     "execution_count": 52,
     "metadata": {},
     "output_type": "execute_result"
    }
   ],
   "source": [
    "train_df.survey_id.value_counts()"
   ]
  },
  {
   "cell_type": "markdown",
   "metadata": {},
   "source": [
    "Remove any rows whre the \"corpus_cols\" are nan"
   ]
  },
  {
   "cell_type": "code",
   "execution_count": 53,
   "metadata": {},
   "outputs": [],
   "source": [
    "train_df.dropna(subset=css_standard_themes_train_config['corpus_cols'], inplace=True)\n",
    "valid_df.dropna(subset=css_standard_themes_train_config['corpus_cols'], inplace=True)"
   ]
  },
  {
   "cell_type": "code",
   "execution_count": 54,
   "metadata": {},
   "outputs": [
    {
     "data": {
      "text/plain": [
       "['accessible_to_customers',\n",
       " 'consistency_in_policies_information',\n",
       " 'cost_fees',\n",
       " 'courteous_professional_staff',\n",
       " 'effective_communications',\n",
       " 'effectively_uses_websites_online_documentation',\n",
       " 'helpful_staff',\n",
       " 'knowledgeable_staff',\n",
       " 'moving_in_a_positive_direction',\n",
       " 'overall_satisfaction',\n",
       " 'process_improvement',\n",
       " 'provides_effective_advice_guidance',\n",
       " 'provides_training_on_processes_applications',\n",
       " 'resolves_problems_effectively',\n",
       " 'responds_to_requests_within_an_acceptable_time',\n",
       " 'understands_my_needs_and_requirements']"
      ]
     },
     "execution_count": 54,
     "metadata": {},
     "output_type": "execute_result"
    }
   ],
   "source": [
    "#hide\n",
    "STANDARD_THEME_CSS_LABELS"
   ]
  },
  {
   "cell_type": "code",
   "execution_count": 55,
   "metadata": {},
   "outputs": [
    {
     "data": {
      "text/html": [
       "<div>\n",
       "<style scoped>\n",
       "    .dataframe tbody tr th:only-of-type {\n",
       "        vertical-align: middle;\n",
       "    }\n",
       "\n",
       "    .dataframe tbody tr th {\n",
       "        vertical-align: top;\n",
       "    }\n",
       "\n",
       "    .dataframe thead th {\n",
       "        text-align: right;\n",
       "    }\n",
       "</style>\n",
       "<table border=\"1\" class=\"dataframe\">\n",
       "  <thead>\n",
       "    <tr style=\"text-align: right;\">\n",
       "      <th></th>\n",
       "      <th>labels</th>\n",
       "      <th>accessible_to_customers</th>\n",
       "      <th>consistency_in_policies_information</th>\n",
       "      <th>cost_fees</th>\n",
       "      <th>courteous_professional_staff</th>\n",
       "      <th>effective_communications</th>\n",
       "      <th>effectively_uses_websites_online_documentation</th>\n",
       "      <th>helpful_staff</th>\n",
       "      <th>knowledgeable_staff</th>\n",
       "      <th>moving_in_a_positive_direction</th>\n",
       "      <th>overall_satisfaction</th>\n",
       "      <th>process_improvement</th>\n",
       "      <th>provides_effective_advice_guidance</th>\n",
       "      <th>provides_training_on_processes_applications</th>\n",
       "      <th>resolves_problems_effectively</th>\n",
       "      <th>responds_to_requests_within_an_acceptable_time</th>\n",
       "      <th>understands_my_needs_and_requirements</th>\n",
       "    </tr>\n",
       "  </thead>\n",
       "  <tbody>\n",
       "    <tr>\n",
       "      <th>0</th>\n",
       "      <td>effective_communications</td>\n",
       "      <td>0</td>\n",
       "      <td>0</td>\n",
       "      <td>0</td>\n",
       "      <td>0</td>\n",
       "      <td>1</td>\n",
       "      <td>0</td>\n",
       "      <td>0</td>\n",
       "      <td>0</td>\n",
       "      <td>0</td>\n",
       "      <td>0</td>\n",
       "      <td>0</td>\n",
       "      <td>0</td>\n",
       "      <td>0</td>\n",
       "      <td>0</td>\n",
       "      <td>0</td>\n",
       "      <td>0</td>\n",
       "    </tr>\n",
       "    <tr>\n",
       "      <th>1</th>\n",
       "      <td>resolves_problems_effectively</td>\n",
       "      <td>0</td>\n",
       "      <td>0</td>\n",
       "      <td>0</td>\n",
       "      <td>0</td>\n",
       "      <td>0</td>\n",
       "      <td>0</td>\n",
       "      <td>0</td>\n",
       "      <td>0</td>\n",
       "      <td>0</td>\n",
       "      <td>0</td>\n",
       "      <td>0</td>\n",
       "      <td>0</td>\n",
       "      <td>0</td>\n",
       "      <td>1</td>\n",
       "      <td>0</td>\n",
       "      <td>0</td>\n",
       "    </tr>\n",
       "    <tr>\n",
       "      <th>2</th>\n",
       "      <td>courteous_professional_staff</td>\n",
       "      <td>0</td>\n",
       "      <td>0</td>\n",
       "      <td>0</td>\n",
       "      <td>1</td>\n",
       "      <td>0</td>\n",
       "      <td>0</td>\n",
       "      <td>0</td>\n",
       "      <td>0</td>\n",
       "      <td>0</td>\n",
       "      <td>0</td>\n",
       "      <td>0</td>\n",
       "      <td>0</td>\n",
       "      <td>0</td>\n",
       "      <td>0</td>\n",
       "      <td>0</td>\n",
       "      <td>0</td>\n",
       "    </tr>\n",
       "    <tr>\n",
       "      <th>3</th>\n",
       "      <td>consistency_in_policies_information resolves_problems_effectively</td>\n",
       "      <td>0</td>\n",
       "      <td>1</td>\n",
       "      <td>0</td>\n",
       "      <td>0</td>\n",
       "      <td>0</td>\n",
       "      <td>0</td>\n",
       "      <td>0</td>\n",
       "      <td>0</td>\n",
       "      <td>0</td>\n",
       "      <td>0</td>\n",
       "      <td>0</td>\n",
       "      <td>0</td>\n",
       "      <td>0</td>\n",
       "      <td>1</td>\n",
       "      <td>0</td>\n",
       "      <td>0</td>\n",
       "    </tr>\n",
       "    <tr>\n",
       "      <th>4</th>\n",
       "      <td>responds_to_requests_within_an_acceptable_time</td>\n",
       "      <td>0</td>\n",
       "      <td>0</td>\n",
       "      <td>0</td>\n",
       "      <td>0</td>\n",
       "      <td>0</td>\n",
       "      <td>0</td>\n",
       "      <td>0</td>\n",
       "      <td>0</td>\n",
       "      <td>0</td>\n",
       "      <td>0</td>\n",
       "      <td>0</td>\n",
       "      <td>0</td>\n",
       "      <td>0</td>\n",
       "      <td>0</td>\n",
       "      <td>1</td>\n",
       "      <td>0</td>\n",
       "    </tr>\n",
       "  </tbody>\n",
       "</table>\n",
       "</div>"
      ],
      "text/plain": [
       "                                                              labels  accessible_to_customers  consistency_in_policies_information  cost_fees  courteous_professional_staff  effective_communications  effectively_uses_websites_online_documentation  helpful_staff  knowledgeable_staff  moving_in_a_positive_direction  overall_satisfaction  process_improvement  provides_effective_advice_guidance  provides_training_on_processes_applications  resolves_problems_effectively  responds_to_requests_within_an_acceptable_time  understands_my_needs_and_requirements\n",
       "0                                           effective_communications                        0                                    0          0                             0                         1                                               0              0                    0                               0                     0                    0                                   0                                            0                              0                                               0                                      0\n",
       "1                                      resolves_problems_effectively                        0                                    0          0                             0                         0                                               0              0                    0                               0                     0                    0                                   0                                            0                              1                                               0                                      0\n",
       "2                                       courteous_professional_staff                        0                                    0          0                             1                         0                                               0              0                    0                               0                     0                    0                                   0                                            0                              0                                               0                                      0\n",
       "3  consistency_in_policies_information resolves_problems_effectively                        0                                    1          0                             0                         0                                               0              0                    0                               0                     0                    0                                   0                                            0                              1                                               0                                      0\n",
       "4                     responds_to_requests_within_an_acceptable_time                        0                                    0          0                             0                         0                                               0              0                    0                               0                     0                    0                                   0                                            0                              0                                               1                                      0"
      ]
     },
     "execution_count": 55,
     "metadata": {},
     "output_type": "execute_result"
    }
   ],
   "source": [
    "#hide\n",
    "\n",
    "# If we want to add a \"labels\" column with all the labels space delimited (for exmaple, as we would with\n",
    "# non-encoded labels)\n",
    "train_df['labels'] = train_df[STANDARD_THEME_CSS_LABELS].apply(lambda x: ' '.join(x.index[x.astype(bool)]), axis=1)\n",
    "valid_df['labels'] = valid_df[STANDARD_THEME_CSS_LABELS].apply(lambda x: ' '.join(x.index[x.astype(bool)]), axis=1)\n",
    "\n",
    "train_df[['labels'] + STANDARD_THEME_CSS_LABELS].head()"
   ]
  },
  {
   "cell_type": "code",
   "execution_count": 56,
   "metadata": {},
   "outputs": [
    {
     "data": {
      "text/plain": [
       "3041"
      ]
     },
     "execution_count": 56,
     "metadata": {},
     "output_type": "execute_result"
    }
   ],
   "source": [
    "train_df['is_valid'] = False\n",
    "valid_df['is_valid'] = True\n",
    "df = pd.concat([train_df, valid_df])\n",
    "len(df)"
   ]
  },
  {
   "cell_type": "code",
   "execution_count": 57,
   "metadata": {},
   "outputs": [],
   "source": [
    "#export\n",
    "def get_css_standard_theme_train_data(train_config={}, trg_labels=STANDARD_THEME_CSS_LABELS):\n",
    "    config = {**css_standard_themes_train_config, **train_config}\n",
    "    \n",
    "    train_df = pd.read_csv(config['train_data'])\n",
    "    train_df.dropna(subset=config['corpus_cols'], inplace=True)\n",
    "    train_df['labels'] = train_df[trg_labels].apply(lambda x: ' '.join(x.index[x.astype(bool)]), axis=1)\n",
    "    train_df['is_valid'] = False\n",
    "    \n",
    "    if ('valid_data' in config and config['valid_data'] is not None):\n",
    "        valid_df = pd.read_csv(config['valid_data'])\n",
    "        valid_df.dropna(subset=config['corpus_cols'], inplace=True)\n",
    "        valid_df['labels'] = valid_df[trg_labels].apply(lambda x: ' '.join(x.index[x.astype(bool)]), axis=1)\n",
    "        valid_df['is_valid'] = True\n",
    "        \n",
    "        return pd.concat([train_df, valid_df])\n",
    "    \n",
    "    return train_df"
   ]
  },
  {
   "cell_type": "code",
   "execution_count": 58,
   "metadata": {},
   "outputs": [],
   "source": [
    "df = get_css_standard_theme_train_data()\n",
    "test(len(df), 0, operator.ge)"
   ]
  },
  {
   "cell_type": "markdown",
   "metadata": {},
   "source": [
    "Using the mid-level `DataBlocks` API"
   ]
  },
  {
   "cell_type": "code",
   "execution_count": 59,
   "metadata": {},
   "outputs": [
    {
     "name": "stderr",
     "output_type": "stream",
     "text": [
      "Some weights of the model checkpoint at roberta-base were not used when initializing RobertaForSequenceClassification: ['lm_head.bias', 'lm_head.dense.weight', 'lm_head.dense.bias', 'lm_head.layer_norm.weight', 'lm_head.layer_norm.bias', 'lm_head.decoder.weight', 'roberta.pooler.dense.weight', 'roberta.pooler.dense.bias']\n",
      "- This IS expected if you are initializing RobertaForSequenceClassification from the checkpoint of a model trained on another task or with another architecture (e.g. initializing a BertForSequenceClassification model from a BertForPretraining model).\n",
      "- This IS NOT expected if you are initializing RobertaForSequenceClassification from the checkpoint of a model that you expect to be exactly identical (initializing a BertForSequenceClassification model from a BertForSequenceClassification model).\n",
      "Some weights of RobertaForSequenceClassification were not initialized from the model checkpoint at roberta-base and are newly initialized: ['classifier.dense.weight', 'classifier.dense.bias', 'classifier.out_proj.weight', 'classifier.out_proj.bias']\n",
      "You should probably TRAIN this model on a down-stream task to be able to use it for predictions and inference.\n"
     ]
    }
   ],
   "source": [
    "#hide\n",
    "task = HF_TASKS_AUTO.SequenceClassification\n",
    "\n",
    "pretrained_model_name = \"roberta-base\"\n",
    "config = AutoConfig.from_pretrained(pretrained_model_name)\n",
    "config.num_labels = len(STANDARD_THEME_CSS_LABELS)\n",
    "\n",
    "hf_arch, hf_config, hf_tokenizer, hf_model = BLURR_MODEL_HELPER.get_hf_objects(pretrained_model_name, \n",
    "                                                                               task=task, \n",
    "                                                                               config=config)"
   ]
  },
  {
   "cell_type": "code",
   "execution_count": 60,
   "metadata": {
    "tags": []
   },
   "outputs": [],
   "source": [
    "#hide\n",
    "blocks = (\n",
    "    HF_TextBlock(hf_arch=hf_arch, hf_tokenizer=hf_tokenizer), \n",
    "    MultiCategoryBlock(encoded=True, vocab=STANDARD_THEME_CSS_LABELS)\n",
    ")\n",
    "\n",
    "def get_x(inp): return ': '.join(inp[css_standard_themes_train_config['corpus_cols']].values)\n",
    "\n",
    "dblock = DataBlock(blocks=blocks, \n",
    "                   get_x=get_x, \n",
    "                   get_y=ColReader(STANDARD_THEME_CSS_LABELS), \n",
    "                   splitter=ColSplitter(col='is_valid'))"
   ]
  },
  {
   "cell_type": "code",
   "execution_count": 61,
   "metadata": {
    "scrolled": true,
    "tags": []
   },
   "outputs": [],
   "source": [
    "#hide\n",
    "dls = dblock.dataloaders(df, bs=css_standard_themes_train_config['batch_size'])"
   ]
  },
  {
   "cell_type": "code",
   "execution_count": 62,
   "metadata": {
    "tags": []
   },
   "outputs": [
    {
     "name": "stdout",
     "output_type": "stream",
     "text": [
      "The Target vocab has (16 items)\n"
     ]
    }
   ],
   "source": [
    "#hide\n",
    "print(f'The Target vocab has ({len(dls.vocab)} items)')"
   ]
  },
  {
   "cell_type": "code",
   "execution_count": 63,
   "metadata": {
    "tags": []
   },
   "outputs": [
    {
     "data": {
      "text/plain": [
       "(2, torch.Size([8, 324]), torch.Size([8, 16]))"
      ]
     },
     "execution_count": 63,
     "metadata": {},
     "output_type": "execute_result"
    }
   ],
   "source": [
    "#hide\n",
    "b = dls.one_batch()\n",
    "len(b), b[0]['input_ids'].shape, b[1].shape"
   ]
  },
  {
   "cell_type": "code",
   "execution_count": 64,
   "metadata": {},
   "outputs": [
    {
     "data": {
      "text/html": [
       "<table border=\"1\" class=\"dataframe\">\n",
       "  <thead>\n",
       "    <tr style=\"text-align: right;\">\n",
       "      <th></th>\n",
       "      <th>text</th>\n",
       "      <th>None</th>\n",
       "    </tr>\n",
       "  </thead>\n",
       "  <tbody>\n",
       "    <tr>\n",
       "      <th>0</th>\n",
       "      <td>Expand Shuttle Services throughout the Greater San Diego area beyond UCSD campus stops.  \\r\\nI recently relocated to San Diego from Seattle, while in Seattle I worked for Microsoft for quite some time.  Microsoft has developed a network of shuttles that connects neighborhoods directly to their campuses that run regularly Monday-Friday.  San Diego MTS is not optimized to transport people to UCSD's campus so there are obviously many holes.  Even once the trolley expansion is complete key neighborhoods will still not have a convenient option to get to UCSD via public transportation.  Neighborhood-specific shuttles would help address these issues directly.\\r\\n\\r\\nCampus-wide create a mandate for all eligible employees to work from home at least one day a week.\\r\\nWhen I started with UCSD I was very surprised to find out how far behind UCSD is in terms of letting employees work from home.  Having worked in the tech industry in Seattle my previous employer allowed a very flexible schedule, we would work from home as we saw fit, which usually amounted to approx. 2 days a week.\\r\\nPersonally, for my position at UCSD I could work from home 3-4 days a week joining all meetings via Zoom.  The old school mentality of supervisors in my department makes it so my colleagues and I have to suffer through the awful commute to/from campus and pay for parking 5 days a week.  I suspect this old school mentality is present in many parts of the campus, which indirectly tells employees that they are not trusted.</td>\n",
       "      <td>process_improvement</td>\n",
       "    </tr>\n",
       "    <tr>\n",
       "      <th>1</th>\n",
       "      <td>Last year the vanpool program was running smoothly and I gave it glowing reviews.Then with only six weeks notice the program changed and we had to contract our own vanpool. There was little explanation for the change and  the whole thing was very badly handled by the University. The gas cards don't work half the time and we have had to come out of pocket for gasoline in addition to what we've already paid (after tax) without reimbursement or credit from Enterprise to date. This is NOT acceptable. \\r\\nIn addition Sorrento Valley Coaster Shuttle service has been shut down by the University for the North County commuters. This University talks about lowering our carbon footprint but removes the very programs designed to do so. It's disgusting!!! \\r\\nMore people have been put on the roads to campus while parking is quickly disappearing for those who work so hard to make UCSD a world-class university. There seems to be no plan in place for fixing the mess that has been made. If there is a plan it is being poorly communicated. These changes should have been made AFTER the trolley service was up and running, but now people are scrambling on their own to fix a problem that was manufactured by Commute Solutions. Everything about how these programs were handled is WRONG!!!\\r\\nThe only good thing is that we are still able to get 10 days per quarter for parking if needed and there is the free ride home program for emergencies. Let's not mess that up please.</td>\n",
       "      <td>effective_communications</td>\n",
       "    </tr>\n",
       "  </tbody>\n",
       "</table>"
      ],
      "text/plain": [
       "<IPython.core.display.HTML object>"
      ]
     },
     "metadata": {},
     "output_type": "display_data"
    }
   ],
   "source": [
    "#hide\n",
    "dls.show_batch(dataloaders=dls, max_n=2)"
   ]
  },
  {
   "cell_type": "code",
   "execution_count": 65,
   "metadata": {},
   "outputs": [],
   "source": [
    "#hide\n",
    "# save dataloaders\n",
    "# torch.save(dls, STANDARD_THEME_CSS_PATH/f'data_cls_standard_themes_css_multilabel_hf.pkl')\n",
    "# dls = torch.load(STANDARD_THEME_CSS_PATH/f'data_cls_standard_themes_css_multilabel_hf.pkl')"
   ]
  },
  {
   "cell_type": "code",
   "execution_count": 66,
   "metadata": {},
   "outputs": [],
   "source": [
    "#export\n",
    "def get_css_standard_theme_train_x(inp, corpus_cols): return ': '.join(inp[corpus_cols].values)\n",
    "\n",
    "def get_css_standard_theme_train_dls(df, hf_arch, hf_tokenizer, vocab=STANDARD_THEME_CSS_LABELS, \n",
    "                                     train_config={}, use_cache=True):\n",
    "    \n",
    "    config = {**css_standard_themes_train_config, **train_config}\n",
    "    cache_path = config['cache_data_path'] if ('cache_data_path' in config) else None\n",
    "    \n",
    "    if (use_cache and cache_path is not None):\n",
    "        if (os.path.isfile(cache_path)): \n",
    "            dls = torch.load(cache_path)\n",
    "            dls.bs = config['batch_size']\n",
    "    \n",
    "    blocks = (\n",
    "        HF_TextBlock(hf_arch=hf_arch, hf_tokenizer=hf_tokenizer), \n",
    "        MultiCategoryBlock(encoded=True, vocab=vocab)\n",
    "    )\n",
    "\n",
    "    dblock = DataBlock(blocks=blocks, \n",
    "                       get_x=partial(get_css_standard_theme_train_x, corpus_cols=config['corpus_cols']), \n",
    "                       get_y=ColReader(vocab), \n",
    "                       splitter=ColSplitter(col='is_valid'))\n",
    "    \n",
    "    dls = dblock.dataloaders(df, bs=config['batch_size'])\n",
    "    if (cache_path is not None): torch.save(dls, config['cache_data_path'])\n",
    "        \n",
    "    return dls"
   ]
  },
  {
   "cell_type": "markdown",
   "metadata": {},
   "source": [
    "Tests"
   ]
  },
  {
   "cell_type": "code",
   "execution_count": 67,
   "metadata": {},
   "outputs": [],
   "source": [
    "df = get_css_standard_theme_train_data()\n",
    "dls = get_css_standard_theme_train_dls(df, hf_arch, hf_tokenizer)\n",
    "\n",
    "test_eq(dls.bs, saw_standard_themes_train_config['batch_size'])\n",
    "test_eq(len(STANDARD_THEME_CSS_LABELS), len(dls.vocab))\n",
    "\n",
    "b = dls.one_batch()\n",
    "test_eq(len(b), 2)\n",
    "test_eq(b[1].shape[1], len(dls.vocab))"
   ]
  },
  {
   "cell_type": "code",
   "execution_count": 68,
   "metadata": {},
   "outputs": [],
   "source": [
    "dls = get_css_standard_theme_train_dls(df, hf_arch, hf_tokenizer, use_cache=False)\n",
    "\n",
    "test_eq(dls.bs, saw_standard_themes_train_config['batch_size'])\n",
    "test_eq(len(STANDARD_THEME_CSS_LABELS), len(dls.vocab))\n",
    "\n",
    "b = dls.one_batch()\n",
    "test_eq(len(b), 2)\n",
    "test_eq(b[1].shape[1], len(dls.vocab))"
   ]
  },
  {
   "cell_type": "code",
   "execution_count": 69,
   "metadata": {
    "scrolled": true
   },
   "outputs": [
    {
     "data": {
      "text/html": [
       "<table border=\"1\" class=\"dataframe\">\n",
       "  <thead>\n",
       "    <tr style=\"text-align: right;\">\n",
       "      <th></th>\n",
       "      <th>text</th>\n",
       "      <th>None</th>\n",
       "    </tr>\n",
       "  </thead>\n",
       "  <tbody>\n",
       "    <tr>\n",
       "      <th>0</th>\n",
       "      <td>Expand Shuttle Services throughout the Greater San Diego area beyond UCSD campus stops.  \\r\\nI recently relocated to San Diego from Seattle, while in Seattle I worked for Microsoft for quite some time.  Microsoft has developed a network of shuttles that connects neighborhoods directly to their campuses that run regularly Monday-Friday.  San Diego MTS is not optimized to transport people to UCSD's campus so there are obviously many holes.  Even once the trolley expansion is complete key neighborhoods will still not have a convenient option to get to UCSD via public transportation.  Neighborhood-specific shuttles would help address these issues directly.\\r\\n\\r\\nCampus-wide create a mandate for all eligible employees to work from home at least one day a week.\\r\\nWhen I started with UCSD I was very surprised to find out how far behind UCSD is in terms of letting employees work from home.  Having worked in the tech industry in Seattle my previous employer allowed a very flexible schedule, we would work from home as we saw fit, which usually amounted to approx. 2 days a week.\\r\\nPersonally, for my position at UCSD I could work from home 3-4 days a week joining all meetings via Zoom.  The old school mentality of supervisors in my department makes it so my colleagues and I have to suffer through the awful commute to/from campus and pay for parking 5 days a week.  I suspect this old school mentality is present in many parts of the campus, which indirectly tells employees that they are not trusted.</td>\n",
       "      <td>process_improvement</td>\n",
       "    </tr>\n",
       "    <tr>\n",
       "      <th>1</th>\n",
       "      <td>I have had three visits to the parking office and both have been a terrible experience. The first time, the lady at the counter did not allow me to get the eco pass trial for the summer, on my second visit the staff  member confirmed that I actually had the right to it and it was her mistake. During that second visit, most of the staff (young people) were not proactive or really wanted to work. Some of them were speaking in a bad way to each other (either joking or not) and were rude to the young lady that was helping me. That caused a very bad impression to me because it seems even the supervisor was not helpful. The good thing of this second visit was that the lady allowed to get one moth of the eco pass. My last visit was to try to change the dates of my eco pass trial and all the staff was terrible at this, they did not know how to help so they gave me a phone number to call, when I called the same person that was helping me replied and said that he picked up the phone but that was not his phone so that I should try again, I tried and of course no one replied this time. I finally get the name of the person in charge that coincidentally left early that day and left no one in charge to help me with my problem. I get desperate and decided not to insist on this issue. I only have a bad experience from this office. I suggest you have an audit to this office, especially focusing on knowledge of the staff and customer service.</td>\n",
       "      <td>courteous_professional_staff</td>\n",
       "    </tr>\n",
       "  </tbody>\n",
       "</table>"
      ],
      "text/plain": [
       "<IPython.core.display.HTML object>"
      ]
     },
     "metadata": {},
     "output_type": "display_data"
    }
   ],
   "source": [
    "dls.show_batch(dataloaders=dls, max_n=2)"
   ]
  },
  {
   "cell_type": "markdown",
   "metadata": {
    "heading_collapsed": true
   },
   "source": [
    "## Standard Themes - Meta"
   ]
  },
  {
   "cell_type": "markdown",
   "metadata": {
    "hidden": true
   },
   "source": [
    "Basic configuration"
   ]
  },
  {
   "cell_type": "code",
   "execution_count": 70,
   "metadata": {
    "hidden": true
   },
   "outputs": [],
   "source": [
    "#export\n",
    "m_pre_standard_themes_meta = ''\n",
    "m_suf_standard_themes_meta = '_multitask_hf'\n",
    "\n",
    "meta_standard_themes_train_config = {\n",
    "    'm_pre': m_pre_standard_themes_meta,\n",
    "    'm_suf': m_suf_standard_themes_meta,\n",
    "    \n",
    "    'batch_size': 8,\n",
    "    'corpus_cols': ['theme', 'answer_text'],\n",
    "    'corpus_suf': '_multitask',\n",
    "    'train_data': STANDARD_THEME_META_PATH/'train.csv',\n",
    "    'valid_data': STANDARD_THEME_META_PATH/'test.csv',\n",
    "    'cache_data_path': STANDARD_THEME_META_PATH/'data_mm_standard_themes_meta.pkl',\n",
    "    \n",
    "    'opt_beta': 0.5, \n",
    "    'opt_beta_average': 'binary',\n",
    "    'opt_beta_sample_weight': None,\n",
    "    'opt_start': 0.08, \n",
    "    'opt_end': 0.7,\n",
    "    \n",
    "    'save_model_monitor': 'valid_loss', \n",
    "    'save_model_comp': np.less,\n",
    "    'save_model_filename': f'{m_pre_standard_themes_meta}mm_bestmodel{m_suf_standard_themes_meta}',\n",
    "    'export_filename': f'{m_pre_standard_themes_meta}export_mm{m_suf_standard_themes_meta}.pkl',\n",
    "\n",
    "    'learner_path': STANDARD_THEME_META_PATH\n",
    "}"
   ]
  },
  {
   "cell_type": "markdown",
   "metadata": {
    "hidden": true
   },
   "source": [
    "Prepare the data source"
   ]
  },
  {
   "cell_type": "code",
   "execution_count": 71,
   "metadata": {
    "hidden": true
   },
   "outputs": [],
   "source": [
    "train_df = pd.read_csv(STANDARD_THEME_META_PATH/'train.csv')\n",
    "valid_df = pd.read_csv(STANDARD_THEME_META_PATH/'test.csv')"
   ]
  },
  {
   "cell_type": "code",
   "execution_count": 72,
   "metadata": {
    "hidden": true
   },
   "outputs": [
    {
     "data": {
      "text/html": [
       "<div>\n",
       "<style scoped>\n",
       "    .dataframe tbody tr th:only-of-type {\n",
       "        vertical-align: middle;\n",
       "    }\n",
       "\n",
       "    .dataframe tbody tr th {\n",
       "        vertical-align: top;\n",
       "    }\n",
       "\n",
       "    .dataframe thead th {\n",
       "        text-align: right;\n",
       "    }\n",
       "</style>\n",
       "<table border=\"1\" class=\"dataframe\">\n",
       "  <thead>\n",
       "    <tr style=\"text-align: right;\">\n",
       "      <th></th>\n",
       "      <th>id</th>\n",
       "      <th>question_ans_id</th>\n",
       "      <th>answer_text</th>\n",
       "      <th>answer_text_non_english</th>\n",
       "      <th>language</th>\n",
       "      <th>survey_id</th>\n",
       "      <th>survey_type_id</th>\n",
       "      <th>benchmark_survey_type</th>\n",
       "      <th>client_id</th>\n",
       "      <th>rsp_id</th>\n",
       "      <th>question_category_abbr</th>\n",
       "      <th>question_text</th>\n",
       "      <th>question_class</th>\n",
       "      <th>question_category_id</th>\n",
       "      <th>question_report_abbr</th>\n",
       "      <th>question_category_label</th>\n",
       "      <th>benchmark_level1</th>\n",
       "      <th>benchmark_level2</th>\n",
       "      <th>benchmark_level3</th>\n",
       "      <th>client_benchmark_level</th>\n",
       "      <th>group_code</th>\n",
       "      <th>group_id</th>\n",
       "      <th>group_level1_code</th>\n",
       "      <th>group_level1_name</th>\n",
       "      <th>group_level2_code</th>\n",
       "      <th>group_level2_name</th>\n",
       "      <th>group_level3_code</th>\n",
       "      <th>group_level3_name</th>\n",
       "      <th>group_level4_code</th>\n",
       "      <th>group_level4_name</th>\n",
       "      <th>group_level5_code</th>\n",
       "      <th>group_level5_name</th>\n",
       "      <th>group_level6_code</th>\n",
       "      <th>group_level6_name</th>\n",
       "      <th>group_level7_code</th>\n",
       "      <th>group_level7_name</th>\n",
       "      <th>group_level8_code</th>\n",
       "      <th>group_level8_name</th>\n",
       "      <th>standard_theme_id</th>\n",
       "      <th>theme</th>\n",
       "      <th>url_friendly_theme</th>\n",
       "      <th>theme_display_order</th>\n",
       "      <th>avg_sentiment</th>\n",
       "      <th>is_example</th>\n",
       "    </tr>\n",
       "  </thead>\n",
       "  <tbody>\n",
       "    <tr>\n",
       "      <th>0</th>\n",
       "      <td>594369</td>\n",
       "      <td>12281</td>\n",
       "      <td>Handling things such as child support and wage garnishment/levies is inconsistent and has led to...</td>\n",
       "      <td>NaN</td>\n",
       "      <td>English</td>\n",
       "      <td>215</td>\n",
       "      <td>15</td>\n",
       "      <td>CSS-FACULTY-STAFF-ONLY</td>\n",
       "      <td>UCSD</td>\n",
       "      <td>453733</td>\n",
       "      <td>Payroll</td>\n",
       "      <td>Let us know your suggestions on how to improve Payroll.</td>\n",
       "      <td>Verbatim-Dept-Improve</td>\n",
       "      <td>88.0</td>\n",
       "      <td>Payroll_Improve</td>\n",
       "      <td>Payroll</td>\n",
       "      <td>Human Resources</td>\n",
       "      <td>Payroll Services</td>\n",
       "      <td>Payroll</td>\n",
       "      <td>1.0</td>\n",
       "      <td>-1.0</td>\n",
       "      <td>-1</td>\n",
       "      <td>-1.0</td>\n",
       "      <td>None</td>\n",
       "      <td>NaN</td>\n",
       "      <td>NaN</td>\n",
       "      <td>NaN</td>\n",
       "      <td>NaN</td>\n",
       "      <td>NaN</td>\n",
       "      <td>NaN</td>\n",
       "      <td>NaN</td>\n",
       "      <td>NaN</td>\n",
       "      <td>NaN</td>\n",
       "      <td>NaN</td>\n",
       "      <td>NaN</td>\n",
       "      <td>NaN</td>\n",
       "      <td>NaN</td>\n",
       "      <td>NaN</td>\n",
       "      <td>35</td>\n",
       "      <td>Consistency in Policies, Information</td>\n",
       "      <td>ConsistencyInPoliciesInformation</td>\n",
       "      <td>1</td>\n",
       "      <td>2.0</td>\n",
       "      <td>0</td>\n",
       "    </tr>\n",
       "    <tr>\n",
       "      <th>1</th>\n",
       "      <td>589686</td>\n",
       "      <td>2576</td>\n",
       "      <td>Diversity is such an important part o UC mission and yet some places its not seen as much it is ...</td>\n",
       "      <td>NaN</td>\n",
       "      <td>English</td>\n",
       "      <td>212</td>\n",
       "      <td>9</td>\n",
       "      <td>SAW</td>\n",
       "      <td>UCSD</td>\n",
       "      <td>447092</td>\n",
       "      <td>C&amp;B</td>\n",
       "      <td>21. If you would like to elaborate on any of your answers to the conduct and behavioral question...</td>\n",
       "      <td>Verbatim</td>\n",
       "      <td>1240.0</td>\n",
       "      <td>Conduct &amp; Behavioral - Comments</td>\n",
       "      <td>Conduct &amp; Behavioral</td>\n",
       "      <td>None</td>\n",
       "      <td>None</td>\n",
       "      <td>None</td>\n",
       "      <td>3.0</td>\n",
       "      <td>90890.0</td>\n",
       "      <td>3662</td>\n",
       "      <td>999999.0</td>\n",
       "      <td>UC San Diego</td>\n",
       "      <td>90000.0</td>\n",
       "      <td>VICE CHANCELLOR HEALTH SCIENCES</td>\n",
       "      <td>93000.0</td>\n",
       "      <td>SCHOOL OF MEDICINE</td>\n",
       "      <td>90890.0</td>\n",
       "      <td>DERMATOLOGY</td>\n",
       "      <td>NaN</td>\n",
       "      <td>NaN</td>\n",
       "      <td>NaN</td>\n",
       "      <td>NaN</td>\n",
       "      <td>NaN</td>\n",
       "      <td>NaN</td>\n",
       "      <td>NaN</td>\n",
       "      <td>NaN</td>\n",
       "      <td>17</td>\n",
       "      <td>Satisfied with Diversity Progams</td>\n",
       "      <td>SatisfiedWithDiversityProgams</td>\n",
       "      <td>1</td>\n",
       "      <td>2.5</td>\n",
       "      <td>0</td>\n",
       "    </tr>\n",
       "  </tbody>\n",
       "</table>\n",
       "</div>"
      ],
      "text/plain": [
       "       id  question_ans_id                                                                                          answer_text  answer_text_non_english language  survey_id  survey_type_id   benchmark_survey_type client_id  rsp_id question_category_abbr                                                                                        question_text         question_class  question_category_id             question_report_abbr question_category_label benchmark_level1  benchmark_level2 benchmark_level3  client_benchmark_level  group_code  group_id  group_level1_code group_level1_name  group_level2_code                group_level2_name  group_level3_code   group_level3_name  group_level4_code group_level4_name  group_level5_code group_level5_name  group_level6_code group_level6_name  group_level7_code  group_level7_name  group_level8_code  group_level8_name  standard_theme_id                                 theme                url_friendly_theme  theme_display_order  avg_sentiment  \\\n",
       "0  594369            12281  Handling things such as child support and wage garnishment/levies is inconsistent and has led to...                      NaN  English        215              15  CSS-FACULTY-STAFF-ONLY      UCSD  453733                Payroll                                              Let us know your suggestions on how to improve Payroll.  Verbatim-Dept-Improve                  88.0                  Payroll_Improve                 Payroll  Human Resources  Payroll Services          Payroll                     1.0        -1.0        -1               -1.0              None                NaN                              NaN                NaN                 NaN                NaN               NaN                NaN               NaN                NaN               NaN                NaN                NaN                NaN                NaN                 35  Consistency in Policies, Information  ConsistencyInPoliciesInformation                    1            2.0   \n",
       "1  589686             2576  Diversity is such an important part o UC mission and yet some places its not seen as much it is ...                      NaN  English        212               9                     SAW      UCSD  447092                    C&B  21. If you would like to elaborate on any of your answers to the conduct and behavioral question...               Verbatim                1240.0  Conduct & Behavioral - Comments    Conduct & Behavioral             None              None             None                     3.0     90890.0      3662           999999.0      UC San Diego            90000.0  VICE CHANCELLOR HEALTH SCIENCES            93000.0  SCHOOL OF MEDICINE            90890.0       DERMATOLOGY                NaN               NaN                NaN               NaN                NaN                NaN                NaN                NaN                 17      Satisfied with Diversity Progams     SatisfiedWithDiversityProgams                    1            2.5   \n",
       "\n",
       "   is_example  \n",
       "0           0  \n",
       "1           0  "
      ]
     },
     "execution_count": 72,
     "metadata": {},
     "output_type": "execute_result"
    }
   ],
   "source": [
    "train_df.head(2)"
   ]
  },
  {
   "cell_type": "code",
   "execution_count": 73,
   "metadata": {
    "hidden": true
   },
   "outputs": [
    {
     "data": {
      "text/plain": [
       "dtype('int64')"
      ]
     },
     "execution_count": 73,
     "metadata": {},
     "output_type": "execute_result"
    }
   ],
   "source": [
    "train_df.is_example.dtype"
   ]
  },
  {
   "cell_type": "markdown",
   "metadata": {
    "hidden": true
   },
   "source": [
    "Remove any rows whre the \"corpus_cols\" are nan"
   ]
  },
  {
   "cell_type": "code",
   "execution_count": 74,
   "metadata": {
    "hidden": true
   },
   "outputs": [],
   "source": [
    "train_df.dropna(subset=meta_standard_themes_train_config['corpus_cols'], inplace=True)\n",
    "valid_df.dropna(subset=meta_standard_themes_train_config['corpus_cols'], inplace=True)"
   ]
  },
  {
   "cell_type": "code",
   "execution_count": 75,
   "metadata": {
    "hidden": true
   },
   "outputs": [],
   "source": [
    "#hide\n",
    "# list(set(train_df.theme.unique()))"
   ]
  },
  {
   "cell_type": "code",
   "execution_count": 76,
   "metadata": {
    "hidden": true
   },
   "outputs": [
    {
     "data": {
      "text/plain": [
       "10484"
      ]
     },
     "execution_count": 76,
     "metadata": {},
     "output_type": "execute_result"
    }
   ],
   "source": [
    "train_df['is_valid'] = False\n",
    "valid_df['is_valid'] = True\n",
    "df = pd.concat([train_df, valid_df])\n",
    "len(df)"
   ]
  },
  {
   "cell_type": "code",
   "execution_count": 77,
   "metadata": {
    "hidden": true
   },
   "outputs": [],
   "source": [
    "#export\n",
    "def get_meta_standard_theme_train_data(train_config={}):\n",
    "    config = {**meta_standard_themes_train_config, **train_config}\n",
    "    \n",
    "    train_df = pd.read_csv(config['train_data'])\n",
    "    train_df.dropna(subset=config['corpus_cols'], inplace=True)\n",
    "    train_df['is_valid'] = False\n",
    "    \n",
    "    if ('valid_data' in config and config['valid_data'] is not None):\n",
    "        valid_df = pd.read_csv(config['valid_data'])\n",
    "        valid_df.dropna(subset=config['corpus_cols'], inplace=True)\n",
    "        valid_df['is_valid'] = True\n",
    "        \n",
    "        return pd.concat([train_df, valid_df])\n",
    "    \n",
    "    return train_df"
   ]
  },
  {
   "cell_type": "code",
   "execution_count": 78,
   "metadata": {
    "hidden": true
   },
   "outputs": [],
   "source": [
    "df = get_meta_standard_theme_train_data()\n",
    "test(len(df), 0, operator.ge)"
   ]
  },
  {
   "cell_type": "markdown",
   "metadata": {
    "hidden": true
   },
   "source": [
    "Using the mid-level `DataBlocks` API"
   ]
  },
  {
   "cell_type": "code",
   "execution_count": 79,
   "metadata": {
    "hidden": true
   },
   "outputs": [
    {
     "name": "stderr",
     "output_type": "stream",
     "text": [
      "Some weights of the model checkpoint at roberta-base were not used when initializing RobertaForSequenceClassification: ['lm_head.bias', 'lm_head.dense.weight', 'lm_head.dense.bias', 'lm_head.layer_norm.weight', 'lm_head.layer_norm.bias', 'lm_head.decoder.weight', 'roberta.pooler.dense.weight', 'roberta.pooler.dense.bias']\n",
      "- This IS expected if you are initializing RobertaForSequenceClassification from the checkpoint of a model trained on another task or with another architecture (e.g. initializing a BertForSequenceClassification model from a BertForPretraining model).\n",
      "- This IS NOT expected if you are initializing RobertaForSequenceClassification from the checkpoint of a model that you expect to be exactly identical (initializing a BertForSequenceClassification model from a BertForSequenceClassification model).\n",
      "Some weights of RobertaForSequenceClassification were not initialized from the model checkpoint at roberta-base and are newly initialized: ['classifier.dense.weight', 'classifier.dense.bias', 'classifier.out_proj.weight', 'classifier.out_proj.bias']\n",
      "You should probably TRAIN this model on a down-stream task to be able to use it for predictions and inference.\n"
     ]
    }
   ],
   "source": [
    "#hide\n",
    "task = HF_TASKS_AUTO.SequenceClassification\n",
    "\n",
    "pretrained_model_name = \"roberta-base\"\n",
    "config = AutoConfig.from_pretrained(pretrained_model_name)\n",
    "\n",
    "hf_arch, hf_config, hf_tokenizer, hf_model = BLURR_MODEL_HELPER.get_hf_objects(pretrained_model_name, \n",
    "                                                                               task=task, \n",
    "                                                                               config=config)"
   ]
  },
  {
   "cell_type": "code",
   "execution_count": 80,
   "metadata": {
    "hidden": true
   },
   "outputs": [],
   "source": [
    "#hide\n",
    "blocks = (\n",
    "    HF_TextBlock(hf_arch=hf_arch, hf_tokenizer=hf_tokenizer), \n",
    "    RegressionBlock(),\n",
    "    CategoryBlock()\n",
    ")\n",
    "\n",
    "def get_x(inp): return ': '.join(inp[meta_standard_themes_train_config['corpus_cols']].values)\n",
    "\n",
    "dblock = DataBlock(blocks=blocks, \n",
    "                   get_x=get_x, \n",
    "                   get_y=[ColReader('avg_sentiment'), ColReader('is_example')], \n",
    "                   splitter=ColSplitter(col='is_valid'), \n",
    "                   n_inp=1)"
   ]
  },
  {
   "cell_type": "code",
   "execution_count": 81,
   "metadata": {
    "hidden": true
   },
   "outputs": [],
   "source": [
    "#hide\n",
    "dls = dblock.dataloaders(df, bs=saw_standard_themes_train_config['batch_size'])"
   ]
  },
  {
   "cell_type": "code",
   "execution_count": 82,
   "metadata": {
    "hidden": true,
    "scrolled": true
   },
   "outputs": [
    {
     "data": {
      "text/plain": [
       "(#2) [0,1]"
      ]
     },
     "execution_count": 82,
     "metadata": {},
     "output_type": "execute_result"
    }
   ],
   "source": [
    "dls.vocab"
   ]
  },
  {
   "cell_type": "code",
   "execution_count": 83,
   "metadata": {
    "hidden": true
   },
   "outputs": [
    {
     "data": {
      "text/plain": [
       "50265"
      ]
     },
     "execution_count": 83,
     "metadata": {},
     "output_type": "execute_result"
    }
   ],
   "source": [
    "dls.before_batch[0].hf_tokenizer.vocab_size"
   ]
  },
  {
   "cell_type": "code",
   "execution_count": 84,
   "metadata": {
    "hidden": true
   },
   "outputs": [
    {
     "name": "stdout",
     "output_type": "stream",
     "text": [
      "The inputs vocab (50265 items), and the targets (2 items)\n"
     ]
    }
   ],
   "source": [
    "#hide\n",
    "print((f'The inputs vocab ({dls.before_batch[0].hf_tokenizer.vocab_size} items), '\n",
    "       f'and the targets ({len(dls.vocab)} items)'))"
   ]
  },
  {
   "cell_type": "code",
   "execution_count": 85,
   "metadata": {
    "hidden": true
   },
   "outputs": [
    {
     "data": {
      "text/plain": [
       "(3,\n",
       " torch.Size([8, 465]),\n",
       " torch.Size([8]),\n",
       " torch.Size([8]),\n",
       " 'torch.cuda.FloatTensor',\n",
       " 'torch.cuda.LongTensor')"
      ]
     },
     "execution_count": 85,
     "metadata": {},
     "output_type": "execute_result"
    }
   ],
   "source": [
    "#hide\n",
    "b = dls.one_batch()\n",
    "len(b), b[0]['input_ids'].shape, b[1].shape, b[2].shape, b[1].type(), b[2].type()"
   ]
  },
  {
   "cell_type": "code",
   "execution_count": 86,
   "metadata": {
    "hidden": true,
    "scrolled": true
   },
   "outputs": [
    {
     "data": {
      "text/html": [
       "<table border=\"1\" class=\"dataframe\">\n",
       "  <thead>\n",
       "    <tr style=\"text-align: right;\">\n",
       "      <th></th>\n",
       "      <th>text</th>\n",
       "      <th>text_</th>\n",
       "      <th>category</th>\n",
       "    </tr>\n",
       "  </thead>\n",
       "  <tbody>\n",
       "    <tr>\n",
       "      <th>0</th>\n",
       "      <td>Supervisor Effectiveness/Resolves Staff Issues: In the Enterprise Network and Telecommunications group of ITS, the environment continues to be toxic, retaliatory, abusive, and discriminatory as in past years. Under the direction of James Seddon, supervisor Malerie Samadi harasses and talks down to employees. Manipulates and edits official documentation to make staff look and give lower performance appraisal ratings or retaliate against them. Also, use the same practice to provide their friends with higher performance ratings and award them with higher merit increases.  Senior management continues to harbor this behavior without any consequence and or accountability. James and Malerie exploit minorities and give preferential treatment to personnel hired by them. Regularly abuse the power that the University of California gives them and exercise nepotism because they are both product of such practices.\\r\\nOther supervisors like Ynez Hicks also participates in the same practices of despotism, nepotism, and favoritism. \\r\\nIt is unacceptable that this behavior and practices continue to be used by management without any accountability.  Principles of the community are ignored continuously daily. When this type of situation is brought up to Human Resources, they ignore them because no one is enforcing the UC Principles. James Seddon and Malerie Samadi in the Datacom group don't care about staff promotion, compensation, and well being. They only care about themselves and their friends. Hiring practices are unfair; they manipulate the process so they can hire barely qualified personnel into experienced positions. Existing staff is overworked because newer personnel can not pull their weight, yet Malerie and James make it look like they are in their appraisals. They mentally abuse staff and minimize their work performance. Recently one of the team member past away while working at home. A stroke caused by the stress and the pressure that Malerie was putting on David Ramirez. She used him to get her promotion to supervisor and make her look good in front of others.\\r\\nBoth James and Malerie are the perfect examples of bad management. Somehow they continue to occupy their positions, and Senior Management doesn't do anything about it.  \\r\\nThe lowest level the Datacom team has been in years, all because of James and Malerie's arrogance and lack of ethics.</td>\n",
       "      <td>1.0</td>\n",
       "      <td>0</td>\n",
       "    </tr>\n",
       "    <tr>\n",
       "      <th>1</th>\n",
       "      <td>Evaluated Fairly: In the Enterprise Network and Telecommunications group of ITS, the environment continues to be toxic, retaliatory, abusive, and discriminatory as in past years. Under the direction of James Seddon, supervisor Malerie Samadi harasses and talks down to employees. Manipulates and edits official documentation to make staff look and give lower performance appraisal ratings or retaliate against them. Also, use the same practice to provide their friends with higher performance ratings and award them with higher merit increases.  Senior management continues to harbor this behavior without any consequence and or accountability. James and Malerie exploit minorities and give preferential treatment to personnel hired by them. Regularly abuse the power that the University of California gives them and exercise nepotism because they are both product of such practices.\\r\\nOther supervisors like Ynez Hicks also participates in the same practices of despotism, nepotism, and favoritism. \\r\\nIt is unacceptable that this behavior and practices continue to be used by management without any accountability.  Principles of the community are ignored continuously daily. When this type of situation is brought up to Human Resources, they ignore them because no one is enforcing the UC Principles. James Seddon and Malerie Samadi in the Datacom group don't care about staff promotion, compensation, and well being. They only care about themselves and their friends. Hiring practices are unfair; they manipulate the process so they can hire barely qualified personnel into experienced positions. Existing staff is overworked because newer personnel can not pull their weight, yet Malerie and James make it look like they are in their appraisals. They mentally abuse staff and minimize their work performance. Recently one of the team member past away while working at home. A stroke caused by the stress and the pressure that Malerie was putting on David Ramirez. She used him to get her promotion to supervisor and make her look good in front of others.\\r\\nBoth James and Malerie are the perfect examples of bad management. Somehow they continue to occupy their positions, and Senior Management doesn't do anything about it.  \\r\\nThe lowest level the Datacom team has been in years, all because of James and Malerie's arrogance and lack of ethics.</td>\n",
       "      <td>1.0</td>\n",
       "      <td>0</td>\n",
       "    </tr>\n",
       "  </tbody>\n",
       "</table>"
      ],
      "text/plain": [
       "<IPython.core.display.HTML object>"
      ]
     },
     "metadata": {},
     "output_type": "display_data"
    }
   ],
   "source": [
    "#hide\n",
    "dls.show_batch(dataloaders=dls, max_n=2)"
   ]
  },
  {
   "cell_type": "code",
   "execution_count": 87,
   "metadata": {
    "hidden": true
   },
   "outputs": [],
   "source": [
    "#export\n",
    "def get_meta_standard_theme_train_x(inp, corpus_cols): return 'theme: ' + ' comment: '.join(inp[corpus_cols].values)\n",
    "\n",
    "def get_meta_standard_theme_train_dls(df, hf_arch, hf_tokenizer, train_config={}, use_cache=True):\n",
    "    \n",
    "    config = {**meta_standard_themes_train_config, **train_config}\n",
    "    cache_path = config['cache_data_path'] if ('cache_data_path' in config) else None\n",
    "    \n",
    "    if (use_cache and cache_path is not None):\n",
    "        if (os.path.isfile(cache_path)): \n",
    "            dls = torch.load(cache_path)\n",
    "            dls.bs = config['batch_size']\n",
    "    \n",
    "    blocks = (\n",
    "        HF_TextBlock(hf_arch=hf_arch, hf_tokenizer=hf_tokenizer), \n",
    "        RegressionBlock(),\n",
    "        CategoryBlock()\n",
    "    )\n",
    "\n",
    "    dblock = DataBlock(blocks=blocks, \n",
    "                       get_x=partial(get_meta_standard_theme_train_x, corpus_cols=config['corpus_cols']),\n",
    "                       get_y=[ColReader('avg_sentiment'), ColReader('is_example')], \n",
    "                       splitter=ColSplitter(col='is_valid'), \n",
    "                       n_inp=1)\n",
    "    \n",
    "    dls = dblock.dataloaders(df, bs=config['batch_size'])\n",
    "    if (cache_path is not None): torch.save(dls, config['cache_data_path'])\n",
    "        \n",
    "    return dls"
   ]
  },
  {
   "cell_type": "markdown",
   "metadata": {
    "hidden": true
   },
   "source": [
    "Tests"
   ]
  },
  {
   "cell_type": "code",
   "execution_count": 88,
   "metadata": {
    "hidden": true
   },
   "outputs": [],
   "source": [
    "df = get_meta_standard_theme_train_data()\n",
    "\n",
    "dls = get_meta_standard_theme_train_dls(df, hf_arch, hf_tokenizer)\n",
    "\n",
    "test_eq(dls.bs, meta_standard_themes_train_config['batch_size'])\n",
    "test_eq(2, len(dls.vocab))\n",
    "\n",
    "b = dls.one_batch()\n",
    "test_eq(len(b), 3)\n",
    "test_eq(b[1].shape[0], dls.bs)    # = regression task\n",
    "test_eq(b[2].shape[0], dls.bs)    # = classification task"
   ]
  },
  {
   "cell_type": "code",
   "execution_count": 89,
   "metadata": {
    "hidden": true
   },
   "outputs": [],
   "source": [
    "dls = get_meta_standard_theme_train_dls(df, hf_arch, hf_tokenizer, use_cache=False)\n",
    "\n",
    "test_eq(dls.bs, meta_standard_themes_train_config['batch_size'])\n",
    "test_eq(2, len(dls.vocab))\n",
    "\n",
    "b = dls.one_batch()\n",
    "test_eq(len(b), 3)\n",
    "test_eq(b[1].shape[0], dls.bs)    # = regression task\n",
    "test_eq(b[2].shape[0], dls.bs)    # = classification task"
   ]
  },
  {
   "cell_type": "code",
   "execution_count": 90,
   "metadata": {
    "hidden": true
   },
   "outputs": [
    {
     "data": {
      "text/html": [
       "<table border=\"1\" class=\"dataframe\">\n",
       "  <thead>\n",
       "    <tr style=\"text-align: right;\">\n",
       "      <th></th>\n",
       "      <th>text</th>\n",
       "      <th>text_</th>\n",
       "      <th>category</th>\n",
       "    </tr>\n",
       "  </thead>\n",
       "  <tbody>\n",
       "    <tr>\n",
       "      <th>0</th>\n",
       "      <td>theme: Supervisor Effectiveness/Resolves Staff Issues comment: In the Enterprise Network and Telecommunications group of ITS, the environment continues to be toxic, retaliatory, abusive, and discriminatory as in past years. Under the direction of James Seddon, supervisor Malerie Samadi harasses and talks down to employees. Manipulates and edits official documentation to make staff look and give lower performance appraisal ratings or retaliate against them. Also, use the same practice to provide their friends with higher performance ratings and award them with higher merit increases.  Senior management continues to harbor this behavior without any consequence and or accountability. James and Malerie exploit minorities and give preferential treatment to personnel hired by them. Regularly abuse the power that the University of California gives them and exercise nepotism because they are both product of such practices.\\r\\nOther supervisors like Ynez Hicks also participates in the same practices of despotism, nepotism, and favoritism. \\r\\nIt is unacceptable that this behavior and practices continue to be used by management without any accountability.  Principles of the community are ignored continuously daily. When this type of situation is brought up to Human Resources, they ignore them because no one is enforcing the UC Principles. James Seddon and Malerie Samadi in the Datacom group don't care about staff promotion, compensation, and well being. They only care about themselves and their friends. Hiring practices are unfair; they manipulate the process so they can hire barely qualified personnel into experienced positions. Existing staff is overworked because newer personnel can not pull their weight, yet Malerie and James make it look like they are in their appraisals. They mentally abuse staff and minimize their work performance. Recently one of the team member past away while working at home. A stroke caused by the stress and the pressure that Malerie was putting on David Ramirez. She used him to get her promotion to supervisor and make her look good in front of others.\\r\\nBoth James and Malerie are the perfect examples of bad management. Somehow they continue to occupy their positions, and Senior Management doesn't do anything about it.  \\r\\nThe lowest level the Datacom team has been in years, all because of James and Malerie's arrogance and lack of ethics.</td>\n",
       "      <td>1.0</td>\n",
       "      <td>0</td>\n",
       "    </tr>\n",
       "    <tr>\n",
       "      <th>1</th>\n",
       "      <td>theme: Supervisor Effectiveness/Resolves Staff Issues comment: The change from Aline to Dave Kimber has been a meaningful improvement for our department. Aline was pervasively corrosive, but Dave approaches employees with respect and is working toward resolving many of the problems she introduced; a change for which I'm grateful. Working for Dr. Sirlin is a truly exceptional experience. He actively and consistently works to improve diversity and inclusion within our lab, treats employees well, fosters our career growth, and is the best example I have worked with of a male leader in a position of power who treats female colleagues and employees as equals. Dr. Norbash is also an exemplar of inclusion and respect and sets a resoundingly positive and progressive tone for our department. It is a pleasure to work under the leadership of Drs. Sirlin and Norbash and I consistently learn from them. I would like to see improvement in the procedures for employee promotion and growth. The current structures make it difficult to promote my employees who have earned promotion. E.g., an employee shouldn't have to go through open recruitment and wait eight months for the job card they are already performing. If campus would like to better engage HS employees in the their mission, one idea would be providing educational resources that are more affordable, such as undergraduate courses for staff development, or really any affordable educational resources. I liked Dr. Chung's message asking for our prospective faith and positivity; Dr. Chung, I'm in.</td>\n",
       "      <td>3.0</td>\n",
       "      <td>0</td>\n",
       "    </tr>\n",
       "  </tbody>\n",
       "</table>"
      ],
      "text/plain": [
       "<IPython.core.display.HTML object>"
      ]
     },
     "metadata": {},
     "output_type": "display_data"
    }
   ],
   "source": [
    "dls.show_batch(dataloaders=dls, max_n=2)"
   ]
  },
  {
   "cell_type": "code",
   "execution_count": null,
   "metadata": {
    "hidden": true
   },
   "outputs": [],
   "source": []
  },
  {
   "cell_type": "markdown",
   "metadata": {},
   "source": [
    "## Cleanup"
   ]
  },
  {
   "cell_type": "code",
   "execution_count": 91,
   "metadata": {},
   "outputs": [
    {
     "name": "stdout",
     "output_type": "stream",
     "text": [
      "Converted 00_utils.ipynb.\n",
      "Converted 02a_verbatims-core.ipynb.\n",
      "Converted 02b_verbatims-sentiment.ipynb.\n",
      "Converted 02c_verbatims-standard-themes-saw-training.ipynb.\n",
      "Converted 02d_verbatims-standard-themes-css-training.ipynb.\n",
      "Converted 02e_verbatims-standard-themes-meta-training.ipynb.\n",
      "Converted 99_verbatims-inference.ipynb.\n",
      "Converted index.ipynb.\n"
     ]
    }
   ],
   "source": [
    "#hide\n",
    "from nbdev.export import notebook2script\n",
    "notebook2script()"
   ]
  },
  {
   "cell_type": "code",
   "execution_count": null,
   "metadata": {},
   "outputs": [],
   "source": []
  }
 ],
 "metadata": {
  "kernelspec": {
   "display_name": "Python 3",
   "language": "python",
   "name": "python3"
  },
  "language_info": {
   "codemirror_mode": {
    "name": "ipython",
    "version": 3
   },
   "file_extension": ".py",
   "mimetype": "text/x-python",
   "name": "python",
   "nbconvert_exporter": "python",
   "pygments_lexer": "ipython3",
   "version": "3.7.6"
  },
  "varInspector": {
   "cols": {
    "lenName": 16,
    "lenType": 16,
    "lenVar": 40
   },
   "kernels_config": {
    "python": {
     "delete_cmd_postfix": "",
     "delete_cmd_prefix": "del ",
     "library": "var_list.py",
     "varRefreshCmd": "print(var_dic_list())"
    },
    "r": {
     "delete_cmd_postfix": ") ",
     "delete_cmd_prefix": "rm(",
     "library": "var_list.r",
     "varRefreshCmd": "cat(var_dic_list()) "
    }
   },
   "position": {
    "height": "468px",
    "left": "1307px",
    "right": "20px",
    "top": "120px",
    "width": "353px"
   },
   "types_to_exclude": [
    "module",
    "function",
    "builtin_function_or_method",
    "instance",
    "_Feature"
   ],
   "window_display": false
  }
 },
 "nbformat": 4,
 "nbformat_minor": 2
}
