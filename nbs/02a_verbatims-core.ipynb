{
 "cells": [
  {
   "cell_type": "code",
   "execution_count": 1,
   "metadata": {},
   "outputs": [],
   "source": [
    "#default_exp verbatims/core"
   ]
  },
  {
   "cell_type": "code",
   "execution_count": 2,
   "metadata": {},
   "outputs": [],
   "source": [
    "#all_slow"
   ]
  },
  {
   "cell_type": "code",
   "execution_count": 3,
   "metadata": {},
   "outputs": [],
   "source": [
    "#hide\n",
    "%reload_ext autoreload\n",
    "%autoreload 2\n",
    "%matplotlib inline"
   ]
  },
  {
   "cell_type": "markdown",
   "metadata": {},
   "source": [
    "# Verbatims - Core\n",
    "\n",
    "> This module defines the training configuration objects for all verbatim ML tasks, DataBlocks, and helper methods to build DataLoaders for each"
   ]
  },
  {
   "cell_type": "code",
   "execution_count": 4,
   "metadata": {},
   "outputs": [],
   "source": [
    "#export\n",
    "import os, datetime\n",
    "import sklearn.metrics as skm\n",
    "from tritonlytics_ai.utils import *\n",
    "\n",
    "from fastai.text.all import *\n",
    "from transformers import *\n",
    "from blurr.utils import *\n",
    "from blurr.data.core import *\n",
    "from blurr.modeling.core import *"
   ]
  },
  {
   "cell_type": "code",
   "execution_count": 5,
   "metadata": {},
   "outputs": [],
   "source": [
    "#hide\n",
    "import pdb, gc\n",
    "\n",
    "# pandas and plotting config\n",
    "import seaborn as sns\n",
    "sns.set_style('whitegrid')\n",
    "\n",
    "plt.rcParams['figure.figsize'] = (9,6)\n",
    "\n",
    "pd.set_option('display.max_rows', 500)\n",
    "pd.set_option('display.max_columns', 500)\n",
    "pd.set_option('display.width', 1000)\n",
    "pd.set_option('display.max_colwidth', 100)\n",
    "\n",
    "from nbdev.showdoc import *\n",
    "from fastcore.test import *"
   ]
  },
  {
   "cell_type": "code",
   "execution_count": 6,
   "metadata": {
    "tags": []
   },
   "outputs": [
    {
     "name": "stdout",
     "output_type": "stream",
     "text": [
      "Using pytorch 1.6.0\n",
      "Using fastai 2.0.16\n",
      "Using transformers 3.3.1\n"
     ]
    }
   ],
   "source": [
    "#hide\n",
    "from fastai import __version__ as fa_version\n",
    "from torch import __version__ as pt_version\n",
    "from transformers import __version__ as hft_version\n",
    "\n",
    "print(f'Using pytorch {pt_version}')\n",
    "print(f'Using fastai {fa_version}')\n",
    "print(f'Using transformers {hft_version}')"
   ]
  },
  {
   "cell_type": "code",
   "execution_count": 7,
   "metadata": {
    "tags": []
   },
   "outputs": [
    {
     "name": "stdout",
     "output_type": "stream",
     "text": [
      "Using GPU #1: GeForce GTX 1080 Ti\n"
     ]
    }
   ],
   "source": [
    "#cuda\n",
    "torch.cuda.set_device(1)\n",
    "print(f'Using GPU #{torch.cuda.current_device()}: {torch.cuda.get_device_name()}')"
   ]
  },
  {
   "cell_type": "markdown",
   "metadata": {},
   "source": [
    "## Standard Themes - S@W"
   ]
  },
  {
   "cell_type": "markdown",
   "metadata": {},
   "source": [
    "Basic Configuration"
   ]
  },
  {
   "cell_type": "code",
   "execution_count": 8,
   "metadata": {},
   "outputs": [],
   "source": [
    "#export\n",
    "m_pre_standard_themes_saw = ''\n",
    "m_suf_standard_themes_saw = '_multilabel_hf'\n",
    "\n",
    "saw_standard_themes_train_config = {\n",
    "    'm_suf': m_suf_standard_themes_saw,\n",
    "    'm_pre': m_pre_standard_themes_saw,\n",
    "    \n",
    "    'batch_size': 8,\n",
    "    'corpus_cols': ['answer_text'],\n",
    "    'corpus_suf': '_ans',\n",
    "    'train_data': STANDARD_THEME_SAW_PATH/'train.csv',\n",
    "    'valid_data': STANDARD_THEME_SAW_PATH/'test.csv',\n",
    "    'cache_data_path': STANDARD_THEME_SAW_PATH/'data_cls_standard_themes_saw.pkl',\n",
    "    \n",
    "    'opt_beta': 0.5, \n",
    "    'opt_beta_average': 'weighted',\n",
    "    'opt_beta_sample_weight': None,\n",
    "    'opt_start': 0.08, \n",
    "    'opt_end': 0.7,\n",
    "    \n",
    "    'save_model_monitor': 'precision_score', \n",
    "    'save_model_comp': np.greater,\n",
    "    'save_model_filename': f'{m_pre_standard_themes_saw}cls_bestmodel{m_suf_standard_themes_saw}',\n",
    "    'export_filename': f'{m_pre_standard_themes_saw}export_clas{m_suf_standard_themes_saw}.pkl',\n",
    "\n",
    "    'learner_path': STANDARD_THEME_SAW_PATH\n",
    "}"
   ]
  },
  {
   "cell_type": "markdown",
   "metadata": {},
   "source": [
    "Prepare the data source"
   ]
  },
  {
   "cell_type": "code",
   "execution_count": 9,
   "metadata": {},
   "outputs": [],
   "source": [
    "train_df = pd.read_csv(saw_standard_themes_train_config['train_data'])\n",
    "valid_df = pd.read_csv(saw_standard_themes_train_config['valid_data'])"
   ]
  },
  {
   "cell_type": "code",
   "execution_count": 10,
   "metadata": {},
   "outputs": [
    {
     "data": {
      "text/html": [
       "<div>\n",
       "<style scoped>\n",
       "    .dataframe tbody tr th:only-of-type {\n",
       "        vertical-align: middle;\n",
       "    }\n",
       "\n",
       "    .dataframe tbody tr th {\n",
       "        vertical-align: top;\n",
       "    }\n",
       "\n",
       "    .dataframe thead th {\n",
       "        text-align: right;\n",
       "    }\n",
       "</style>\n",
       "<table border=\"1\" class=\"dataframe\">\n",
       "  <thead>\n",
       "    <tr style=\"text-align: right;\">\n",
       "      <th></th>\n",
       "      <th>id</th>\n",
       "      <th>question_ans_id</th>\n",
       "      <th>answer_text</th>\n",
       "      <th>answer_text_non_english</th>\n",
       "      <th>language</th>\n",
       "      <th>survey_id</th>\n",
       "      <th>survey_type_id</th>\n",
       "      <th>benchmark_survey_type</th>\n",
       "      <th>client_id</th>\n",
       "      <th>rsp_id</th>\n",
       "      <th>question_category_abbr</th>\n",
       "      <th>question_text</th>\n",
       "      <th>question_class</th>\n",
       "      <th>question_category_id</th>\n",
       "      <th>question_report_abbr</th>\n",
       "      <th>question_category_label</th>\n",
       "      <th>benchmark_level1</th>\n",
       "      <th>benchmark_level2</th>\n",
       "      <th>benchmark_level3</th>\n",
       "      <th>client_benchmark_level</th>\n",
       "      <th>group_code</th>\n",
       "      <th>group_id</th>\n",
       "      <th>group_level1_code</th>\n",
       "      <th>group_level1_name</th>\n",
       "      <th>group_level2_code</th>\n",
       "      <th>group_level2_name</th>\n",
       "      <th>group_level3_code</th>\n",
       "      <th>group_level3_name</th>\n",
       "      <th>group_level4_code</th>\n",
       "      <th>group_level4_name</th>\n",
       "      <th>group_level5_code</th>\n",
       "      <th>group_level5_name</th>\n",
       "      <th>group_level6_code</th>\n",
       "      <th>group_level6_name</th>\n",
       "      <th>group_level7_code</th>\n",
       "      <th>group_level7_name</th>\n",
       "      <th>group_level8_code</th>\n",
       "      <th>group_level8_name</th>\n",
       "      <th>adequate_staffing</th>\n",
       "      <th>advancement_and_training_opportunities</th>\n",
       "      <th>appropriate_stress_work_assigned_equitably</th>\n",
       "      <th>benefits</th>\n",
       "      <th>better_ways_recognized_participate_in_decisions</th>\n",
       "      <th>career_advancement</th>\n",
       "      <th>committed_to_diversity</th>\n",
       "      <th>communicates_essential_information</th>\n",
       "      <th>ethical_conduct_perform_responsibilities_spirit_of_cooperation</th>\n",
       "      <th>evaluated_fairly</th>\n",
       "      <th>experienced_discrimination</th>\n",
       "      <th>facilities_workspace_safety</th>\n",
       "      <th>faculty_value_contributions</th>\n",
       "      <th>favoritism_cliques</th>\n",
       "      <th>fear_of_retaliation_negative_consequences</th>\n",
       "      <th>feel_valued_by_department</th>\n",
       "      <th>flexibility_work_life_balance</th>\n",
       "      <th>good_use_of_skills</th>\n",
       "      <th>have_necessary_tools</th>\n",
       "      <th>have_voice_within_my_institution_valued_member_of_my_institution</th>\n",
       "      <th>internal_processes_effective</th>\n",
       "      <th>parking_transportation</th>\n",
       "      <th>salary_pay</th>\n",
       "      <th>satisfied_with_diversity_progams</th>\n",
       "      <th>supervisor_effectiveness_resolves_staff_issues</th>\n",
       "    </tr>\n",
       "  </thead>\n",
       "  <tbody>\n",
       "    <tr>\n",
       "      <th>0</th>\n",
       "      <td>588941</td>\n",
       "      <td>1877</td>\n",
       "      <td>I enjoy our department potlucks and social activities.  I am grateful that our department leader...</td>\n",
       "      <td>NaN</td>\n",
       "      <td>English</td>\n",
       "      <td>212</td>\n",
       "      <td>9</td>\n",
       "      <td>SAW</td>\n",
       "      <td>UCSD</td>\n",
       "      <td>449396</td>\n",
       "      <td>None</td>\n",
       "      <td>59. If you would like to elaborate on your responses above, or if you have any additional feedba...</td>\n",
       "      <td>Verbatim</td>\n",
       "      <td>201</td>\n",
       "      <td>Comments re Work Environment at UCSD</td>\n",
       "      <td>Other</td>\n",
       "      <td>None</td>\n",
       "      <td>None</td>\n",
       "      <td>None</td>\n",
       "      <td>1</td>\n",
       "      <td>24000.0</td>\n",
       "      <td>3834</td>\n",
       "      <td>999999.0</td>\n",
       "      <td>UC San Diego</td>\n",
       "      <td>8000.0</td>\n",
       "      <td>MARINE SCIENCES</td>\n",
       "      <td>24000.0</td>\n",
       "      <td>DIRECTORS OFFICE-SIO</td>\n",
       "      <td>NaN</td>\n",
       "      <td>NaN</td>\n",
       "      <td>NaN</td>\n",
       "      <td>NaN</td>\n",
       "      <td>NaN</td>\n",
       "      <td>NaN</td>\n",
       "      <td>NaN</td>\n",
       "      <td>NaN</td>\n",
       "      <td>NaN</td>\n",
       "      <td>NaN</td>\n",
       "      <td>0</td>\n",
       "      <td>0</td>\n",
       "      <td>0</td>\n",
       "      <td>0</td>\n",
       "      <td>0</td>\n",
       "      <td>0</td>\n",
       "      <td>1</td>\n",
       "      <td>0</td>\n",
       "      <td>0</td>\n",
       "      <td>0</td>\n",
       "      <td>0</td>\n",
       "      <td>0</td>\n",
       "      <td>0</td>\n",
       "      <td>0</td>\n",
       "      <td>0</td>\n",
       "      <td>1</td>\n",
       "      <td>0</td>\n",
       "      <td>0</td>\n",
       "      <td>0</td>\n",
       "      <td>0</td>\n",
       "      <td>0</td>\n",
       "      <td>0</td>\n",
       "      <td>0</td>\n",
       "      <td>1</td>\n",
       "      <td>0</td>\n",
       "    </tr>\n",
       "    <tr>\n",
       "      <th>1</th>\n",
       "      <td>402308</td>\n",
       "      <td>1877</td>\n",
       "      <td>UCSD needs to keep up with the modern workplace in order to get stronger, more competitive candi...</td>\n",
       "      <td>NaN</td>\n",
       "      <td>English</td>\n",
       "      <td>160</td>\n",
       "      <td>9</td>\n",
       "      <td>SAW</td>\n",
       "      <td>UCSD</td>\n",
       "      <td>272347</td>\n",
       "      <td>None</td>\n",
       "      <td>59. If you would like to elaborate on your responses above, or if you have any additional feedba...</td>\n",
       "      <td>Verbatim</td>\n",
       "      <td>201</td>\n",
       "      <td>Comments re Work Environment at UCSD</td>\n",
       "      <td>Other</td>\n",
       "      <td>None</td>\n",
       "      <td>None</td>\n",
       "      <td>None</td>\n",
       "      <td>1</td>\n",
       "      <td>31404.0</td>\n",
       "      <td>3761</td>\n",
       "      <td>999999.0</td>\n",
       "      <td>UC San Diego</td>\n",
       "      <td>30000.0</td>\n",
       "      <td>Student Affairs</td>\n",
       "      <td>31400.0</td>\n",
       "      <td>Student Life</td>\n",
       "      <td>31404.0</td>\n",
       "      <td>Student Life Business Office</td>\n",
       "      <td>NaN</td>\n",
       "      <td>NaN</td>\n",
       "      <td>NaN</td>\n",
       "      <td>NaN</td>\n",
       "      <td>NaN</td>\n",
       "      <td>NaN</td>\n",
       "      <td>NaN</td>\n",
       "      <td>NaN</td>\n",
       "      <td>0</td>\n",
       "      <td>0</td>\n",
       "      <td>0</td>\n",
       "      <td>0</td>\n",
       "      <td>0</td>\n",
       "      <td>0</td>\n",
       "      <td>0</td>\n",
       "      <td>0</td>\n",
       "      <td>0</td>\n",
       "      <td>0</td>\n",
       "      <td>0</td>\n",
       "      <td>0</td>\n",
       "      <td>0</td>\n",
       "      <td>0</td>\n",
       "      <td>0</td>\n",
       "      <td>0</td>\n",
       "      <td>0</td>\n",
       "      <td>0</td>\n",
       "      <td>0</td>\n",
       "      <td>1</td>\n",
       "      <td>0</td>\n",
       "      <td>0</td>\n",
       "      <td>0</td>\n",
       "      <td>0</td>\n",
       "      <td>0</td>\n",
       "    </tr>\n",
       "  </tbody>\n",
       "</table>\n",
       "</div>"
      ],
      "text/plain": [
       "       id  question_ans_id                                                                                          answer_text  answer_text_non_english language  survey_id  survey_type_id benchmark_survey_type client_id  rsp_id question_category_abbr                                                                                        question_text question_class  question_category_id                  question_report_abbr question_category_label benchmark_level1 benchmark_level2 benchmark_level3  client_benchmark_level  group_code  group_id  group_level1_code group_level1_name  group_level2_code group_level2_name  group_level3_code     group_level3_name  group_level4_code             group_level4_name  group_level5_code group_level5_name  group_level6_code group_level6_name  group_level7_code  group_level7_name  group_level8_code  group_level8_name  adequate_staffing  advancement_and_training_opportunities  appropriate_stress_work_assigned_equitably  benefits  \\\n",
       "0  588941             1877  I enjoy our department potlucks and social activities.  I am grateful that our department leader...                      NaN  English        212               9                   SAW      UCSD  449396                   None  59. If you would like to elaborate on your responses above, or if you have any additional feedba...       Verbatim                   201  Comments re Work Environment at UCSD                   Other             None             None             None                       1     24000.0      3834           999999.0      UC San Diego             8000.0   MARINE SCIENCES            24000.0  DIRECTORS OFFICE-SIO                NaN                           NaN                NaN               NaN                NaN               NaN                NaN                NaN                NaN                NaN                  0                                       0                                           0         0   \n",
       "1  402308             1877  UCSD needs to keep up with the modern workplace in order to get stronger, more competitive candi...                      NaN  English        160               9                   SAW      UCSD  272347                   None  59. If you would like to elaborate on your responses above, or if you have any additional feedba...       Verbatim                   201  Comments re Work Environment at UCSD                   Other             None             None             None                       1     31404.0      3761           999999.0      UC San Diego            30000.0   Student Affairs            31400.0          Student Life            31404.0  Student Life Business Office                NaN               NaN                NaN               NaN                NaN                NaN                NaN                NaN                  0                                       0                                           0         0   \n",
       "\n",
       "   better_ways_recognized_participate_in_decisions  career_advancement  committed_to_diversity  communicates_essential_information  ethical_conduct_perform_responsibilities_spirit_of_cooperation  evaluated_fairly  experienced_discrimination  facilities_workspace_safety  faculty_value_contributions  favoritism_cliques  fear_of_retaliation_negative_consequences  feel_valued_by_department  flexibility_work_life_balance  good_use_of_skills  have_necessary_tools  have_voice_within_my_institution_valued_member_of_my_institution  internal_processes_effective  parking_transportation  salary_pay  satisfied_with_diversity_progams  supervisor_effectiveness_resolves_staff_issues  \n",
       "0                                                0                   0                       1                                   0                                                               0                 0                           0                            0                            0                   0                                          0                          1                              0                   0                     0                                                                 0                             0                       0           0                                 1                                               0  \n",
       "1                                                0                   0                       0                                   0                                                               0                 0                           0                            0                            0                   0                                          0                          0                              0                   0                     0                                                                 1                             0                       0           0                                 0                                               0  "
      ]
     },
     "execution_count": 10,
     "metadata": {},
     "output_type": "execute_result"
    }
   ],
   "source": [
    "train_df.head(2)"
   ]
  },
  {
   "cell_type": "code",
   "execution_count": 11,
   "metadata": {},
   "outputs": [
    {
     "data": {
      "text/plain": [
       "212    1635\n",
       "160     909\n",
       "396     304\n",
       "398     284\n",
       "401      12\n",
       "Name: survey_id, dtype: int64"
      ]
     },
     "execution_count": 11,
     "metadata": {},
     "output_type": "execute_result"
    }
   ],
   "source": [
    "train_df.survey_id.value_counts()"
   ]
  },
  {
   "cell_type": "markdown",
   "metadata": {},
   "source": [
    "Remove any rows whre the \"corpus_cols\" are nan"
   ]
  },
  {
   "cell_type": "code",
   "execution_count": 12,
   "metadata": {},
   "outputs": [],
   "source": [
    "train_df.dropna(subset=saw_standard_themes_train_config['corpus_cols'], inplace=True)\n",
    "valid_df.dropna(subset=saw_standard_themes_train_config['corpus_cols'], inplace=True)"
   ]
  },
  {
   "cell_type": "code",
   "execution_count": 13,
   "metadata": {},
   "outputs": [
    {
     "data": {
      "text/plain": [
       "['adequate_staffing',\n",
       " 'advancement_and_training_opportunities',\n",
       " 'appropriate_stress_work_assigned_equitably',\n",
       " 'benefits',\n",
       " 'better_ways_recognized_participate_in_decisions',\n",
       " 'career_advancement',\n",
       " 'committed_to_diversity',\n",
       " 'communicates_essential_information',\n",
       " 'ethical_conduct_perform_responsibilities_spirit_of_cooperation',\n",
       " 'evaluated_fairly',\n",
       " 'experienced_discrimination',\n",
       " 'facilities_workspace_safety',\n",
       " 'faculty_value_contributions',\n",
       " 'favoritism_cliques',\n",
       " 'fear_of_retaliation_negative_consequences',\n",
       " 'feel_valued_by_department',\n",
       " 'flexibility_work_life_balance',\n",
       " 'good_use_of_skills',\n",
       " 'have_necessary_tools',\n",
       " 'have_voice_within_my_institution_valued_member_of_my_institution',\n",
       " 'internal_processes_effective',\n",
       " 'parking_transportation',\n",
       " 'salary_pay',\n",
       " 'satisfied_with_diversity_progams',\n",
       " 'supervisor_effectiveness_resolves_staff_issues']"
      ]
     },
     "execution_count": 13,
     "metadata": {},
     "output_type": "execute_result"
    }
   ],
   "source": [
    "#hide\n",
    "STANDARD_THEME_SAW_LABELS"
   ]
  },
  {
   "cell_type": "code",
   "execution_count": 14,
   "metadata": {},
   "outputs": [
    {
     "data": {
      "text/html": [
       "<div>\n",
       "<style scoped>\n",
       "    .dataframe tbody tr th:only-of-type {\n",
       "        vertical-align: middle;\n",
       "    }\n",
       "\n",
       "    .dataframe tbody tr th {\n",
       "        vertical-align: top;\n",
       "    }\n",
       "\n",
       "    .dataframe thead th {\n",
       "        text-align: right;\n",
       "    }\n",
       "</style>\n",
       "<table border=\"1\" class=\"dataframe\">\n",
       "  <thead>\n",
       "    <tr style=\"text-align: right;\">\n",
       "      <th></th>\n",
       "      <th>labels</th>\n",
       "      <th>adequate_staffing</th>\n",
       "      <th>advancement_and_training_opportunities</th>\n",
       "      <th>appropriate_stress_work_assigned_equitably</th>\n",
       "      <th>benefits</th>\n",
       "      <th>better_ways_recognized_participate_in_decisions</th>\n",
       "      <th>career_advancement</th>\n",
       "      <th>committed_to_diversity</th>\n",
       "      <th>communicates_essential_information</th>\n",
       "      <th>ethical_conduct_perform_responsibilities_spirit_of_cooperation</th>\n",
       "      <th>evaluated_fairly</th>\n",
       "      <th>experienced_discrimination</th>\n",
       "      <th>facilities_workspace_safety</th>\n",
       "      <th>faculty_value_contributions</th>\n",
       "      <th>favoritism_cliques</th>\n",
       "      <th>fear_of_retaliation_negative_consequences</th>\n",
       "      <th>feel_valued_by_department</th>\n",
       "      <th>flexibility_work_life_balance</th>\n",
       "      <th>good_use_of_skills</th>\n",
       "      <th>have_necessary_tools</th>\n",
       "      <th>have_voice_within_my_institution_valued_member_of_my_institution</th>\n",
       "      <th>internal_processes_effective</th>\n",
       "      <th>parking_transportation</th>\n",
       "      <th>salary_pay</th>\n",
       "      <th>satisfied_with_diversity_progams</th>\n",
       "      <th>supervisor_effectiveness_resolves_staff_issues</th>\n",
       "    </tr>\n",
       "  </thead>\n",
       "  <tbody>\n",
       "    <tr>\n",
       "      <th>0</th>\n",
       "      <td>committed_to_diversity feel_valued_by_department satisfied_with_diversity_progams</td>\n",
       "      <td>0</td>\n",
       "      <td>0</td>\n",
       "      <td>0</td>\n",
       "      <td>0</td>\n",
       "      <td>0</td>\n",
       "      <td>0</td>\n",
       "      <td>1</td>\n",
       "      <td>0</td>\n",
       "      <td>0</td>\n",
       "      <td>0</td>\n",
       "      <td>0</td>\n",
       "      <td>0</td>\n",
       "      <td>0</td>\n",
       "      <td>0</td>\n",
       "      <td>0</td>\n",
       "      <td>1</td>\n",
       "      <td>0</td>\n",
       "      <td>0</td>\n",
       "      <td>0</td>\n",
       "      <td>0</td>\n",
       "      <td>0</td>\n",
       "      <td>0</td>\n",
       "      <td>0</td>\n",
       "      <td>1</td>\n",
       "      <td>0</td>\n",
       "    </tr>\n",
       "    <tr>\n",
       "      <th>1</th>\n",
       "      <td>have_voice_within_my_institution_valued_member_of_my_institution</td>\n",
       "      <td>0</td>\n",
       "      <td>0</td>\n",
       "      <td>0</td>\n",
       "      <td>0</td>\n",
       "      <td>0</td>\n",
       "      <td>0</td>\n",
       "      <td>0</td>\n",
       "      <td>0</td>\n",
       "      <td>0</td>\n",
       "      <td>0</td>\n",
       "      <td>0</td>\n",
       "      <td>0</td>\n",
       "      <td>0</td>\n",
       "      <td>0</td>\n",
       "      <td>0</td>\n",
       "      <td>0</td>\n",
       "      <td>0</td>\n",
       "      <td>0</td>\n",
       "      <td>0</td>\n",
       "      <td>1</td>\n",
       "      <td>0</td>\n",
       "      <td>0</td>\n",
       "      <td>0</td>\n",
       "      <td>0</td>\n",
       "      <td>0</td>\n",
       "    </tr>\n",
       "    <tr>\n",
       "      <th>2</th>\n",
       "      <td>ethical_conduct_perform_responsibilities_spirit_of_cooperation experienced_discrimination</td>\n",
       "      <td>0</td>\n",
       "      <td>0</td>\n",
       "      <td>0</td>\n",
       "      <td>0</td>\n",
       "      <td>0</td>\n",
       "      <td>0</td>\n",
       "      <td>0</td>\n",
       "      <td>0</td>\n",
       "      <td>1</td>\n",
       "      <td>0</td>\n",
       "      <td>1</td>\n",
       "      <td>0</td>\n",
       "      <td>0</td>\n",
       "      <td>0</td>\n",
       "      <td>0</td>\n",
       "      <td>0</td>\n",
       "      <td>0</td>\n",
       "      <td>0</td>\n",
       "      <td>0</td>\n",
       "      <td>0</td>\n",
       "      <td>0</td>\n",
       "      <td>0</td>\n",
       "      <td>0</td>\n",
       "      <td>0</td>\n",
       "      <td>0</td>\n",
       "    </tr>\n",
       "    <tr>\n",
       "      <th>3</th>\n",
       "      <td>adequate_staffing salary_pay</td>\n",
       "      <td>1</td>\n",
       "      <td>0</td>\n",
       "      <td>0</td>\n",
       "      <td>0</td>\n",
       "      <td>0</td>\n",
       "      <td>0</td>\n",
       "      <td>0</td>\n",
       "      <td>0</td>\n",
       "      <td>0</td>\n",
       "      <td>0</td>\n",
       "      <td>0</td>\n",
       "      <td>0</td>\n",
       "      <td>0</td>\n",
       "      <td>0</td>\n",
       "      <td>0</td>\n",
       "      <td>0</td>\n",
       "      <td>0</td>\n",
       "      <td>0</td>\n",
       "      <td>0</td>\n",
       "      <td>0</td>\n",
       "      <td>0</td>\n",
       "      <td>0</td>\n",
       "      <td>1</td>\n",
       "      <td>0</td>\n",
       "      <td>0</td>\n",
       "    </tr>\n",
       "    <tr>\n",
       "      <th>4</th>\n",
       "      <td>appropriate_stress_work_assigned_equitably faculty_value_contributions</td>\n",
       "      <td>0</td>\n",
       "      <td>0</td>\n",
       "      <td>1</td>\n",
       "      <td>0</td>\n",
       "      <td>0</td>\n",
       "      <td>0</td>\n",
       "      <td>0</td>\n",
       "      <td>0</td>\n",
       "      <td>0</td>\n",
       "      <td>0</td>\n",
       "      <td>0</td>\n",
       "      <td>0</td>\n",
       "      <td>1</td>\n",
       "      <td>0</td>\n",
       "      <td>0</td>\n",
       "      <td>0</td>\n",
       "      <td>0</td>\n",
       "      <td>0</td>\n",
       "      <td>0</td>\n",
       "      <td>0</td>\n",
       "      <td>0</td>\n",
       "      <td>0</td>\n",
       "      <td>0</td>\n",
       "      <td>0</td>\n",
       "      <td>0</td>\n",
       "    </tr>\n",
       "  </tbody>\n",
       "</table>\n",
       "</div>"
      ],
      "text/plain": [
       "                                                                                      labels  adequate_staffing  advancement_and_training_opportunities  appropriate_stress_work_assigned_equitably  benefits  better_ways_recognized_participate_in_decisions  career_advancement  committed_to_diversity  communicates_essential_information  ethical_conduct_perform_responsibilities_spirit_of_cooperation  evaluated_fairly  experienced_discrimination  facilities_workspace_safety  faculty_value_contributions  favoritism_cliques  fear_of_retaliation_negative_consequences  feel_valued_by_department  flexibility_work_life_balance  good_use_of_skills  have_necessary_tools  have_voice_within_my_institution_valued_member_of_my_institution  internal_processes_effective  parking_transportation  salary_pay  satisfied_with_diversity_progams  supervisor_effectiveness_resolves_staff_issues\n",
       "0          committed_to_diversity feel_valued_by_department satisfied_with_diversity_progams                  0                                       0                                           0         0                                                0                   0                       1                                   0                                                               0                 0                           0                            0                            0                   0                                          0                          1                              0                   0                     0                                                                 0                             0                       0           0                                 1                                               0\n",
       "1                           have_voice_within_my_institution_valued_member_of_my_institution                  0                                       0                                           0         0                                                0                   0                       0                                   0                                                               0                 0                           0                            0                            0                   0                                          0                          0                              0                   0                     0                                                                 1                             0                       0           0                                 0                                               0\n",
       "2  ethical_conduct_perform_responsibilities_spirit_of_cooperation experienced_discrimination                  0                                       0                                           0         0                                                0                   0                       0                                   0                                                               1                 0                           1                            0                            0                   0                                          0                          0                              0                   0                     0                                                                 0                             0                       0           0                                 0                                               0\n",
       "3                                                               adequate_staffing salary_pay                  1                                       0                                           0         0                                                0                   0                       0                                   0                                                               0                 0                           0                            0                            0                   0                                          0                          0                              0                   0                     0                                                                 0                             0                       0           1                                 0                                               0\n",
       "4                     appropriate_stress_work_assigned_equitably faculty_value_contributions                  0                                       0                                           1         0                                                0                   0                       0                                   0                                                               0                 0                           0                            0                            1                   0                                          0                          0                              0                   0                     0                                                                 0                             0                       0           0                                 0                                               0"
      ]
     },
     "execution_count": 14,
     "metadata": {},
     "output_type": "execute_result"
    }
   ],
   "source": [
    "#hide\n",
    "\n",
    "# If we want to add a \"labels\" column with all the labels space delimited (for exmaple, as we would with\n",
    "# non-encoded labels)\n",
    "train_df['labels'] = train_df[STANDARD_THEME_SAW_LABELS].apply(lambda x: ' '.join(x.index[x.astype(bool)]), axis=1)\n",
    "valid_df['labels'] = valid_df[STANDARD_THEME_SAW_LABELS].apply(lambda x: ' '.join(x.index[x.astype(bool)]), axis=1)\n",
    "\n",
    "train_df[['labels'] + STANDARD_THEME_SAW_LABELS].head()"
   ]
  },
  {
   "cell_type": "code",
   "execution_count": 15,
   "metadata": {},
   "outputs": [
    {
     "data": {
      "text/plain": [
       "3494"
      ]
     },
     "execution_count": 15,
     "metadata": {},
     "output_type": "execute_result"
    }
   ],
   "source": [
    "train_df['is_valid'] = False\n",
    "valid_df['is_valid'] = True\n",
    "df = pd.concat([train_df, valid_df])\n",
    "len(df)"
   ]
  },
  {
   "cell_type": "code",
   "execution_count": 16,
   "metadata": {},
   "outputs": [],
   "source": [
    "#export\n",
    "def get_saw_standard_theme_train_data(train_config={}, trg_labels=STANDARD_THEME_SAW_LABELS):\n",
    "    config = {**saw_standard_themes_train_config, **train_config}\n",
    "    \n",
    "    train_df = pd.read_csv(config['train_data'])\n",
    "    train_df.dropna(subset=config['corpus_cols'], inplace=True)\n",
    "    train_df['labels'] = train_df[trg_labels].apply(lambda x: ' '.join(x.index[x.astype(bool)]), axis=1)\n",
    "    train_df['is_valid'] = False\n",
    "    \n",
    "    if ('valid_data' in config and config['valid_data'] is not None):\n",
    "        valid_df = pd.read_csv(config['valid_data'])\n",
    "        valid_df.dropna(subset=config['corpus_cols'], inplace=True)\n",
    "        valid_df['labels'] = valid_df[trg_labels].apply(lambda x: ' '.join(x.index[x.astype(bool)]), axis=1)\n",
    "        valid_df['is_valid'] = True\n",
    "        \n",
    "        return pd.concat([train_df, valid_df])\n",
    "    \n",
    "    return train_df"
   ]
  },
  {
   "cell_type": "code",
   "execution_count": 17,
   "metadata": {},
   "outputs": [],
   "source": [
    "df = get_saw_standard_theme_train_data()\n",
    "test(len(df), 0, operator.ge)"
   ]
  },
  {
   "cell_type": "markdown",
   "metadata": {},
   "source": [
    "Using the mid-level `DataBlocks` API"
   ]
  },
  {
   "cell_type": "code",
   "execution_count": 18,
   "metadata": {},
   "outputs": [
    {
     "name": "stderr",
     "output_type": "stream",
     "text": [
      "Some weights of the model checkpoint at roberta-base were not used when initializing RobertaForSequenceClassification: ['lm_head.bias', 'lm_head.dense.weight', 'lm_head.dense.bias', 'lm_head.layer_norm.weight', 'lm_head.layer_norm.bias', 'lm_head.decoder.weight', 'roberta.pooler.dense.weight', 'roberta.pooler.dense.bias']\n",
      "- This IS expected if you are initializing RobertaForSequenceClassification from the checkpoint of a model trained on another task or with another architecture (e.g. initializing a BertForSequenceClassification model from a BertForPretraining model).\n",
      "- This IS NOT expected if you are initializing RobertaForSequenceClassification from the checkpoint of a model that you expect to be exactly identical (initializing a BertForSequenceClassification model from a BertForSequenceClassification model).\n",
      "Some weights of RobertaForSequenceClassification were not initialized from the model checkpoint at roberta-base and are newly initialized: ['classifier.dense.weight', 'classifier.dense.bias', 'classifier.out_proj.weight', 'classifier.out_proj.bias']\n",
      "You should probably TRAIN this model on a down-stream task to be able to use it for predictions and inference.\n"
     ]
    }
   ],
   "source": [
    "#hide\n",
    "task = HF_TASKS_AUTO.SequenceClassification\n",
    "\n",
    "pretrained_model_name = \"roberta-base\"\n",
    "config = AutoConfig.from_pretrained(pretrained_model_name)\n",
    "config.num_labels = len(STANDARD_THEME_SAW_LABELS)\n",
    "\n",
    "hf_arch, hf_config, hf_tokenizer, hf_model = BLURR_MODEL_HELPER.get_hf_objects(pretrained_model_name, \n",
    "                                                                               task=task, \n",
    "                                                                               config=config)"
   ]
  },
  {
   "cell_type": "code",
   "execution_count": 19,
   "metadata": {
    "tags": []
   },
   "outputs": [],
   "source": [
    "#hide\n",
    "blocks = (\n",
    "    HF_TextBlock(hf_arch=hf_arch, hf_tokenizer=hf_tokenizer), \n",
    "    MultiCategoryBlock(encoded=True, vocab=STANDARD_THEME_SAW_LABELS)\n",
    ")\n",
    "\n",
    "def get_x(inp): return ': '.join(inp[saw_standard_themes_train_config['corpus_cols']].values)\n",
    "\n",
    "dblock = DataBlock(blocks=blocks, \n",
    "                   get_x=get_x, \n",
    "                   get_y=ColReader(STANDARD_THEME_SAW_LABELS), \n",
    "                   splitter=ColSplitter(col='is_valid'))"
   ]
  },
  {
   "cell_type": "code",
   "execution_count": 20,
   "metadata": {
    "scrolled": true,
    "tags": []
   },
   "outputs": [],
   "source": [
    "#hide\n",
    "dls = dblock.dataloaders(df, bs=saw_standard_themes_train_config['batch_size'])"
   ]
  },
  {
   "cell_type": "code",
   "execution_count": 21,
   "metadata": {
    "tags": []
   },
   "outputs": [
    {
     "name": "stdout",
     "output_type": "stream",
     "text": [
      "The Target vocab has (25 items)\n"
     ]
    }
   ],
   "source": [
    "#hide\n",
    "print(f'The Target vocab has ({len(dls.vocab)} items)')"
   ]
  },
  {
   "cell_type": "code",
   "execution_count": 22,
   "metadata": {
    "tags": []
   },
   "outputs": [
    {
     "data": {
      "text/plain": [
       "(2, torch.Size([8, 456]), torch.Size([8, 25]))"
      ]
     },
     "execution_count": 22,
     "metadata": {},
     "output_type": "execute_result"
    }
   ],
   "source": [
    "#hide\n",
    "b = dls.one_batch()\n",
    "len(b), b[0]['input_ids'].shape, b[1].shape"
   ]
  },
  {
   "cell_type": "code",
   "execution_count": 23,
   "metadata": {},
   "outputs": [
    {
     "data": {
      "text/html": [
       "<table border=\"1\" class=\"dataframe\">\n",
       "  <thead>\n",
       "    <tr style=\"text-align: right;\">\n",
       "      <th></th>\n",
       "      <th>text</th>\n",
       "      <th>None</th>\n",
       "    </tr>\n",
       "  </thead>\n",
       "  <tbody>\n",
       "    <tr>\n",
       "      <th>0</th>\n",
       "      <td>In the Enterprise Network and Telecommunications group of ITS, the environment continues to be toxic, retaliatory, abusive, and discriminatory as in past years. Under the direction of James Seddon, supervisor Malerie Samadi harasses and talks down to employees. Manipulates and edits official documentation to make staff look and give lower performance appraisal ratings or retaliate against them. Also, use the same practice to provide their friends with higher performance ratings and award them with higher merit increases.  Senior management continues to harbor this behavior without any consequence and or accountability. James and Malerie exploit minorities and give preferential treatment to personnel hired by them. Regularly abuse the power that the University of California gives them and exercise nepotism because they are both product of such practices.\\r\\nOther supervisors like Ynez Hicks also participates in the same practices of despotism, nepotism, and favoritism. \\r\\nIt is unacceptable that this behavior and practices continue to be used by management without any accountability.  Principles of the community are ignored continuously daily. When this type of situation is brought up to Human Resources, they ignore them because no one is enforcing the UC Principles. James Seddon and Malerie Samadi in the Datacom group don't care about staff promotion, compensation, and well being. They only care about themselves and their friends. Hiring practices are unfair; they manipulate the process so they can hire barely qualified personnel into experienced positions. Existing staff is overworked because newer personnel can not pull their weight, yet Malerie and James make it look like they are in their appraisals. They mentally abuse staff and minimize their work performance. Recently one of the team member past away while working at home. A stroke caused by the stress and the pressure that Malerie was putting on David Ramirez. She used him to get her promotion to supervisor and make her look good in front of others.\\r\\nBoth James and Malerie are the perfect examples of bad management. Somehow they continue to occupy their positions, and Senior Management doesn't do anything about it.  \\r\\nThe lowest level the Datacom team has been in years, all because of James and Malerie's arrogance and lack of ethics.</td>\n",
       "      <td>ethical_conduct_perform_responsibilities_spirit_of_cooperation;evaluated_fairly;favoritism_cliques;fear_of_retaliation_negative_consequences;supervisor_effectiveness_resolves_staff_issues</td>\n",
       "    </tr>\n",
       "    <tr>\n",
       "      <th>1</th>\n",
       "      <td>The campus should ensure that each dept:\\r\\n-carefully reviews job descriptions and knows who is doing what work so that staff can be appropriately recognized and compensated for the work they do, as opposed to that recognition and compensation going to someone else.\\r\\n-has succession plans for each area; as staff leave/retire this should make it possible for current staff to move up. The campus should ensure staff are not required to leave their unit simply to advance professionally.\\r\\n-MSO mentors the managers within the unit so that the managers can be the most effective. MSOs also need to actually allow supervisors to supervise.\\r\\n-head (staff and faculty) is held to a non-tolerance standard for speaking negatively about staff within their unit and/or calling names. \\r\\n-head (staff and faculty) and each manager is transparent and timely in the communication of information to members of the unit. Instead of excuses and apologies, corrective actions should be taken and repeats of problematic situations should not reoccur.\\r\\n-has adequate funds and adequate space for the members of their unit, and the customers the unit serves. All staff areas within the unit should have comparable accommodations.\\r\\n-is safe for staff. Panic buttons/alarms, safety and active shooter training,  and appropriate access barriers are absolutely necessary for all areas and in all units.\\r\\n-allows flex-schedules and work-from-home in as much as possible. “Service” should be reimagined to match current technology.</td>\n",
       "      <td>fear_of_retaliation_negative_consequences;salary_pay</td>\n",
       "    </tr>\n",
       "  </tbody>\n",
       "</table>"
      ],
      "text/plain": [
       "<IPython.core.display.HTML object>"
      ]
     },
     "metadata": {},
     "output_type": "display_data"
    }
   ],
   "source": [
    "#hide\n",
    "dls.show_batch(dataloaders=dls, max_n=2)"
   ]
  },
  {
   "cell_type": "code",
   "execution_count": 24,
   "metadata": {},
   "outputs": [],
   "source": [
    "#hide\n",
    "# save dataloaders\n",
    "# torch.save(dls, STANDARD_THEME_SAW_PATH/f'data_cls_standard_themes_saw_multilabel_hf.pkl')\n",
    "# dls = torch.load(STANDARD_THEME_SAW_PATH/f'data_cls_standard_themes_saw_multilabel_hf.pkl')"
   ]
  },
  {
   "cell_type": "code",
   "execution_count": 25,
   "metadata": {},
   "outputs": [],
   "source": [
    "#export\n",
    "def get_saw_standard_theme_train_x(inp, corpus_cols): return ': '.join(inp[corpus_cols].values)\n",
    "\n",
    "def get_saw_standard_theme_train_dls(df, hf_arch, hf_tokenizer, vocab=STANDARD_THEME_SAW_LABELS, \n",
    "                                     train_config={}, use_cache=True):\n",
    "    \n",
    "    config = {**saw_standard_themes_train_config, **train_config}\n",
    "    cache_path = config['cache_data_path'] if ('cache_data_path' in config) else None\n",
    "    \n",
    "    if (use_cache and cache_path is not None):\n",
    "        if (os.path.isfile(cache_path)): \n",
    "            dls = torch.load(cache_path)\n",
    "            dls.bs = config['batch_size']\n",
    "    \n",
    "    blocks = (\n",
    "        HF_TextBlock(hf_arch=hf_arch, hf_tokenizer=hf_tokenizer), \n",
    "        MultiCategoryBlock(encoded=True, vocab=vocab)\n",
    "    )\n",
    "\n",
    "    dblock = DataBlock(blocks=blocks, \n",
    "                       get_x=partial(get_saw_standard_theme_train_x, corpus_cols=config['corpus_cols']), \n",
    "                       get_y=ColReader(vocab), \n",
    "                       splitter=ColSplitter(col='is_valid'))\n",
    "    \n",
    "    dls = dblock.dataloaders(df, bs=config['batch_size'])\n",
    "    if (cache_path is not None): torch.save(dls, config['cache_data_path'])\n",
    "        \n",
    "    return dls"
   ]
  },
  {
   "cell_type": "markdown",
   "metadata": {},
   "source": [
    "Tests"
   ]
  },
  {
   "cell_type": "code",
   "execution_count": 26,
   "metadata": {},
   "outputs": [],
   "source": [
    "df = get_saw_standard_theme_train_data()\n",
    "dls = get_saw_standard_theme_train_dls(df, hf_arch, hf_tokenizer)\n",
    "\n",
    "test_eq(dls.bs, saw_standard_themes_train_config['batch_size'])\n",
    "test_eq(len(STANDARD_THEME_SAW_LABELS), len(dls.vocab))\n",
    "\n",
    "b = dls.one_batch()\n",
    "test_eq(len(b), 2)\n",
    "test_eq(b[1].shape[1], len(dls.vocab))"
   ]
  },
  {
   "cell_type": "code",
   "execution_count": 27,
   "metadata": {},
   "outputs": [],
   "source": [
    "dls = get_saw_standard_theme_train_dls(df, hf_arch, hf_tokenizer, use_cache=False)\n",
    "\n",
    "test_eq(dls.bs, saw_standard_themes_train_config['batch_size'])\n",
    "test_eq(len(STANDARD_THEME_SAW_LABELS), len(dls.vocab))\n",
    "\n",
    "b = dls.one_batch()\n",
    "test_eq(len(b), 2)\n",
    "test_eq(b[1].shape[1], len(dls.vocab))"
   ]
  },
  {
   "cell_type": "code",
   "execution_count": 28,
   "metadata": {
    "scrolled": false
   },
   "outputs": [
    {
     "data": {
      "text/html": [
       "<table border=\"1\" class=\"dataframe\">\n",
       "  <thead>\n",
       "    <tr style=\"text-align: right;\">\n",
       "      <th></th>\n",
       "      <th>text</th>\n",
       "      <th>None</th>\n",
       "    </tr>\n",
       "  </thead>\n",
       "  <tbody>\n",
       "    <tr>\n",
       "      <th>0</th>\n",
       "      <td>In the Enterprise Network and Telecommunications group of ITS, the environment continues to be toxic, retaliatory, abusive, and discriminatory as in past years. Under the direction of James Seddon, supervisor Malerie Samadi harasses and talks down to employees. Manipulates and edits official documentation to make staff look and give lower performance appraisal ratings or retaliate against them. Also, use the same practice to provide their friends with higher performance ratings and award them with higher merit increases.  Senior management continues to harbor this behavior without any consequence and or accountability. James and Malerie exploit minorities and give preferential treatment to personnel hired by them. Regularly abuse the power that the University of California gives them and exercise nepotism because they are both product of such practices.\\r\\nOther supervisors like Ynez Hicks also participates in the same practices of despotism, nepotism, and favoritism. \\r\\nIt is unacceptable that this behavior and practices continue to be used by management without any accountability.  Principles of the community are ignored continuously daily. When this type of situation is brought up to Human Resources, they ignore them because no one is enforcing the UC Principles. James Seddon and Malerie Samadi in the Datacom group don't care about staff promotion, compensation, and well being. They only care about themselves and their friends. Hiring practices are unfair; they manipulate the process so they can hire barely qualified personnel into experienced positions. Existing staff is overworked because newer personnel can not pull their weight, yet Malerie and James make it look like they are in their appraisals. They mentally abuse staff and minimize their work performance. Recently one of the team member past away while working at home. A stroke caused by the stress and the pressure that Malerie was putting on David Ramirez. She used him to get her promotion to supervisor and make her look good in front of others.\\r\\nBoth James and Malerie are the perfect examples of bad management. Somehow they continue to occupy their positions, and Senior Management doesn't do anything about it.  \\r\\nThe lowest level the Datacom team has been in years, all because of James and Malerie's arrogance and lack of ethics.</td>\n",
       "      <td>ethical_conduct_perform_responsibilities_spirit_of_cooperation;evaluated_fairly;favoritism_cliques;fear_of_retaliation_negative_consequences;supervisor_effectiveness_resolves_staff_issues</td>\n",
       "    </tr>\n",
       "    <tr>\n",
       "      <th>1</th>\n",
       "      <td>In high-visibility areas, workload inequities have gone down, but in smaller units with less exposure to outside groups, these imbalances are fairly common. Over time this poisons office culture and causes our more skilled, liked, and hardworking staff to leave the department. The inability of middle-management to redress these issues contributes to our high turnover rates and poor perception among the greater UCSD community.\\r\\n\\r\\nFor years we've heard that groups within our department, VCHS, and beyond are too'silo'd.' While it may be that duplication of effort has decreased with some services becoming centralized, the spirits of communication, cooperation, and especially collaboration are not alive and well. More than ever groups jealously guard their secrets and responsibilities, or even burn bridges with others over petty displays of power. Rumor is rife and discretion lacking.\\r\\n\\r\\nWe are all family at UCSD, and word gets around fast. Our challenge is to clean up staff workloads and get our middle-management some leadership training. Many are soft skill-deficient, and in misguided attempts to entrench themselves in the confines of their immediate staff for protection, they lose respect and the ability to work with others.\\r\\n\\r\\nLastly, hard skills are easy to pick up. We really ought to be recruiting people for their character, work ethic, and desire to contribute to the mission. We should encourage, promote, and demonstrate that mission to all employees and get us working together.</td>\n",
       "      <td>appropriate_stress_work_assigned_equitably;committed_to_diversity;communicates_essential_information;supervisor_effectiveness_resolves_staff_issues</td>\n",
       "    </tr>\n",
       "  </tbody>\n",
       "</table>"
      ],
      "text/plain": [
       "<IPython.core.display.HTML object>"
      ]
     },
     "metadata": {},
     "output_type": "display_data"
    }
   ],
   "source": [
    "dls.show_batch(dataloaders=dls, max_n=2)"
   ]
  },
  {
   "cell_type": "markdown",
   "metadata": {},
   "source": [
    "## Standard Themes - Meta"
   ]
  },
  {
   "cell_type": "markdown",
   "metadata": {},
   "source": [
    "Basic configuration"
   ]
  },
  {
   "cell_type": "code",
   "execution_count": 29,
   "metadata": {},
   "outputs": [],
   "source": [
    "#export\n",
    "m_pre_standard_themes_meta = ''\n",
    "m_suf_standard_themes_meta = '_multitask_hf'\n",
    "\n",
    "meta_standard_themes_train_config = {\n",
    "    'm_pre': m_pre_standard_themes_meta,\n",
    "    'm_suf': m_suf_standard_themes_meta,\n",
    "    \n",
    "    'batch_size': 8,\n",
    "    'corpus_cols': ['theme', 'answer_text'],\n",
    "    'corpus_suf': '_multitask',\n",
    "    'train_data': STANDARD_THEME_META_PATH/'train.csv',\n",
    "    'valid_data': STANDARD_THEME_META_PATH/'test.csv',\n",
    "    'cache_data_path': STANDARD_THEME_META_PATH/'data_mm_standard_themes_meta.pkl',\n",
    "    \n",
    "    'opt_beta': 0.5, \n",
    "    'opt_beta_average': 'binary',\n",
    "    'opt_beta_sample_weight': None,\n",
    "    'opt_start': 0.08, \n",
    "    'opt_end': 0.7,\n",
    "    \n",
    "    'save_model_monitor': 'valid_loss', \n",
    "    'save_model_comp': np.less,\n",
    "    'save_model_filename': f'{m_pre_standard_themes_meta}mm_bestmodel{m_suf_standard_themes_meta}',\n",
    "    'export_filename': f'{m_pre_standard_themes_meta}export_mm{m_suf_standard_themes_meta}.pkl',\n",
    "\n",
    "    'learner_path': STANDARD_THEME_META_PATH\n",
    "}"
   ]
  },
  {
   "cell_type": "markdown",
   "metadata": {},
   "source": [
    "Prepare the data source"
   ]
  },
  {
   "cell_type": "code",
   "execution_count": 30,
   "metadata": {},
   "outputs": [],
   "source": [
    "train_df = pd.read_csv(STANDARD_THEME_META_PATH/'train.csv')\n",
    "valid_df = pd.read_csv(STANDARD_THEME_META_PATH/'test.csv')"
   ]
  },
  {
   "cell_type": "code",
   "execution_count": 31,
   "metadata": {},
   "outputs": [
    {
     "data": {
      "text/html": [
       "<div>\n",
       "<style scoped>\n",
       "    .dataframe tbody tr th:only-of-type {\n",
       "        vertical-align: middle;\n",
       "    }\n",
       "\n",
       "    .dataframe tbody tr th {\n",
       "        vertical-align: top;\n",
       "    }\n",
       "\n",
       "    .dataframe thead th {\n",
       "        text-align: right;\n",
       "    }\n",
       "</style>\n",
       "<table border=\"1\" class=\"dataframe\">\n",
       "  <thead>\n",
       "    <tr style=\"text-align: right;\">\n",
       "      <th></th>\n",
       "      <th>id</th>\n",
       "      <th>question_ans_id</th>\n",
       "      <th>answer_text</th>\n",
       "      <th>answer_text_non_english</th>\n",
       "      <th>language</th>\n",
       "      <th>survey_id</th>\n",
       "      <th>survey_type_id</th>\n",
       "      <th>benchmark_survey_type</th>\n",
       "      <th>client_id</th>\n",
       "      <th>rsp_id</th>\n",
       "      <th>question_category_abbr</th>\n",
       "      <th>question_text</th>\n",
       "      <th>question_class</th>\n",
       "      <th>question_category_id</th>\n",
       "      <th>question_report_abbr</th>\n",
       "      <th>question_category_label</th>\n",
       "      <th>benchmark_level1</th>\n",
       "      <th>benchmark_level2</th>\n",
       "      <th>benchmark_level3</th>\n",
       "      <th>client_benchmark_level</th>\n",
       "      <th>group_code</th>\n",
       "      <th>group_id</th>\n",
       "      <th>group_level1_code</th>\n",
       "      <th>group_level1_name</th>\n",
       "      <th>group_level2_code</th>\n",
       "      <th>group_level2_name</th>\n",
       "      <th>group_level3_code</th>\n",
       "      <th>group_level3_name</th>\n",
       "      <th>group_level4_code</th>\n",
       "      <th>group_level4_name</th>\n",
       "      <th>group_level5_code</th>\n",
       "      <th>group_level5_name</th>\n",
       "      <th>group_level6_code</th>\n",
       "      <th>group_level6_name</th>\n",
       "      <th>group_level7_code</th>\n",
       "      <th>group_level7_name</th>\n",
       "      <th>group_level8_code</th>\n",
       "      <th>group_level8_name</th>\n",
       "      <th>standard_theme_id</th>\n",
       "      <th>theme</th>\n",
       "      <th>url_friendly_theme</th>\n",
       "      <th>theme_display_order</th>\n",
       "      <th>avg_sentiment</th>\n",
       "      <th>is_example</th>\n",
       "    </tr>\n",
       "  </thead>\n",
       "  <tbody>\n",
       "    <tr>\n",
       "      <th>0</th>\n",
       "      <td>594369</td>\n",
       "      <td>12281</td>\n",
       "      <td>Handling things such as child support and wage garnishment/levies is inconsistent and has led to...</td>\n",
       "      <td>NaN</td>\n",
       "      <td>English</td>\n",
       "      <td>215</td>\n",
       "      <td>15</td>\n",
       "      <td>CSS-FACULTY-STAFF-ONLY</td>\n",
       "      <td>UCSD</td>\n",
       "      <td>453733</td>\n",
       "      <td>Payroll</td>\n",
       "      <td>Let us know your suggestions on how to improve Payroll.</td>\n",
       "      <td>Verbatim-Dept-Improve</td>\n",
       "      <td>88.0</td>\n",
       "      <td>Payroll_Improve</td>\n",
       "      <td>Payroll</td>\n",
       "      <td>Human Resources</td>\n",
       "      <td>Payroll Services</td>\n",
       "      <td>Payroll</td>\n",
       "      <td>1.0</td>\n",
       "      <td>-1.0</td>\n",
       "      <td>-1</td>\n",
       "      <td>-1.0</td>\n",
       "      <td>None</td>\n",
       "      <td>NaN</td>\n",
       "      <td>NaN</td>\n",
       "      <td>NaN</td>\n",
       "      <td>NaN</td>\n",
       "      <td>NaN</td>\n",
       "      <td>NaN</td>\n",
       "      <td>NaN</td>\n",
       "      <td>NaN</td>\n",
       "      <td>NaN</td>\n",
       "      <td>NaN</td>\n",
       "      <td>NaN</td>\n",
       "      <td>NaN</td>\n",
       "      <td>NaN</td>\n",
       "      <td>NaN</td>\n",
       "      <td>35</td>\n",
       "      <td>Consistency in Policies, Information</td>\n",
       "      <td>ConsistencyInPoliciesInformation</td>\n",
       "      <td>1</td>\n",
       "      <td>2.0</td>\n",
       "      <td>0</td>\n",
       "    </tr>\n",
       "    <tr>\n",
       "      <th>1</th>\n",
       "      <td>589686</td>\n",
       "      <td>2576</td>\n",
       "      <td>Diversity is such an important part o UC mission and yet some places its not seen as much it is ...</td>\n",
       "      <td>NaN</td>\n",
       "      <td>English</td>\n",
       "      <td>212</td>\n",
       "      <td>9</td>\n",
       "      <td>SAW</td>\n",
       "      <td>UCSD</td>\n",
       "      <td>447092</td>\n",
       "      <td>C&amp;B</td>\n",
       "      <td>21. If you would like to elaborate on any of your answers to the conduct and behavioral question...</td>\n",
       "      <td>Verbatim</td>\n",
       "      <td>1240.0</td>\n",
       "      <td>Conduct &amp; Behavioral - Comments</td>\n",
       "      <td>Conduct &amp; Behavioral</td>\n",
       "      <td>None</td>\n",
       "      <td>None</td>\n",
       "      <td>None</td>\n",
       "      <td>3.0</td>\n",
       "      <td>90890.0</td>\n",
       "      <td>3662</td>\n",
       "      <td>999999.0</td>\n",
       "      <td>UC San Diego</td>\n",
       "      <td>90000.0</td>\n",
       "      <td>VICE CHANCELLOR HEALTH SCIENCES</td>\n",
       "      <td>93000.0</td>\n",
       "      <td>SCHOOL OF MEDICINE</td>\n",
       "      <td>90890.0</td>\n",
       "      <td>DERMATOLOGY</td>\n",
       "      <td>NaN</td>\n",
       "      <td>NaN</td>\n",
       "      <td>NaN</td>\n",
       "      <td>NaN</td>\n",
       "      <td>NaN</td>\n",
       "      <td>NaN</td>\n",
       "      <td>NaN</td>\n",
       "      <td>NaN</td>\n",
       "      <td>17</td>\n",
       "      <td>Satisfied with Diversity Progams</td>\n",
       "      <td>SatisfiedWithDiversityProgams</td>\n",
       "      <td>1</td>\n",
       "      <td>2.5</td>\n",
       "      <td>0</td>\n",
       "    </tr>\n",
       "  </tbody>\n",
       "</table>\n",
       "</div>"
      ],
      "text/plain": [
       "       id  question_ans_id                                                                                          answer_text  answer_text_non_english language  survey_id  survey_type_id   benchmark_survey_type client_id  rsp_id question_category_abbr                                                                                        question_text         question_class  question_category_id             question_report_abbr question_category_label benchmark_level1  benchmark_level2 benchmark_level3  client_benchmark_level  group_code  group_id  group_level1_code group_level1_name  group_level2_code                group_level2_name  group_level3_code   group_level3_name  group_level4_code group_level4_name  group_level5_code group_level5_name  group_level6_code group_level6_name  group_level7_code  group_level7_name  group_level8_code  group_level8_name  standard_theme_id                                 theme                url_friendly_theme  theme_display_order  avg_sentiment  \\\n",
       "0  594369            12281  Handling things such as child support and wage garnishment/levies is inconsistent and has led to...                      NaN  English        215              15  CSS-FACULTY-STAFF-ONLY      UCSD  453733                Payroll                                              Let us know your suggestions on how to improve Payroll.  Verbatim-Dept-Improve                  88.0                  Payroll_Improve                 Payroll  Human Resources  Payroll Services          Payroll                     1.0        -1.0        -1               -1.0              None                NaN                              NaN                NaN                 NaN                NaN               NaN                NaN               NaN                NaN               NaN                NaN                NaN                NaN                NaN                 35  Consistency in Policies, Information  ConsistencyInPoliciesInformation                    1            2.0   \n",
       "1  589686             2576  Diversity is such an important part o UC mission and yet some places its not seen as much it is ...                      NaN  English        212               9                     SAW      UCSD  447092                    C&B  21. If you would like to elaborate on any of your answers to the conduct and behavioral question...               Verbatim                1240.0  Conduct & Behavioral - Comments    Conduct & Behavioral             None              None             None                     3.0     90890.0      3662           999999.0      UC San Diego            90000.0  VICE CHANCELLOR HEALTH SCIENCES            93000.0  SCHOOL OF MEDICINE            90890.0       DERMATOLOGY                NaN               NaN                NaN               NaN                NaN                NaN                NaN                NaN                 17      Satisfied with Diversity Progams     SatisfiedWithDiversityProgams                    1            2.5   \n",
       "\n",
       "   is_example  \n",
       "0           0  \n",
       "1           0  "
      ]
     },
     "execution_count": 31,
     "metadata": {},
     "output_type": "execute_result"
    }
   ],
   "source": [
    "train_df.head(2)"
   ]
  },
  {
   "cell_type": "code",
   "execution_count": 32,
   "metadata": {},
   "outputs": [
    {
     "data": {
      "text/plain": [
       "dtype('int64')"
      ]
     },
     "execution_count": 32,
     "metadata": {},
     "output_type": "execute_result"
    }
   ],
   "source": [
    "train_df.is_example.dtype"
   ]
  },
  {
   "cell_type": "markdown",
   "metadata": {},
   "source": [
    "Remove any rows whre the \"corpus_cols\" are nan"
   ]
  },
  {
   "cell_type": "code",
   "execution_count": 33,
   "metadata": {},
   "outputs": [],
   "source": [
    "train_df.dropna(subset=meta_standard_themes_train_config['corpus_cols'], inplace=True)\n",
    "valid_df.dropna(subset=meta_standard_themes_train_config['corpus_cols'], inplace=True)"
   ]
  },
  {
   "cell_type": "code",
   "execution_count": 34,
   "metadata": {},
   "outputs": [],
   "source": [
    "#hide\n",
    "# list(set(train_df.theme.unique()))"
   ]
  },
  {
   "cell_type": "code",
   "execution_count": 35,
   "metadata": {},
   "outputs": [
    {
     "data": {
      "text/plain": [
       "10484"
      ]
     },
     "execution_count": 35,
     "metadata": {},
     "output_type": "execute_result"
    }
   ],
   "source": [
    "train_df['is_valid'] = False\n",
    "valid_df['is_valid'] = True\n",
    "df = pd.concat([train_df, valid_df])\n",
    "len(df)"
   ]
  },
  {
   "cell_type": "code",
   "execution_count": 36,
   "metadata": {},
   "outputs": [],
   "source": [
    "#export\n",
    "def get_meta_standard_theme_train_data(train_config={}):\n",
    "    config = {**meta_standard_themes_train_config, **train_config}\n",
    "    \n",
    "    train_df = pd.read_csv(config['train_data'])\n",
    "    train_df.dropna(subset=config['corpus_cols'], inplace=True)\n",
    "    train_df['is_valid'] = False\n",
    "    \n",
    "    if ('valid_data' in config and config['valid_data'] is not None):\n",
    "        valid_df = pd.read_csv(config['valid_data'])\n",
    "        valid_df.dropna(subset=config['corpus_cols'], inplace=True)\n",
    "        valid_df['is_valid'] = True\n",
    "        \n",
    "        return pd.concat([train_df, valid_df])\n",
    "    \n",
    "    return train_df"
   ]
  },
  {
   "cell_type": "code",
   "execution_count": 37,
   "metadata": {},
   "outputs": [],
   "source": [
    "df = get_meta_standard_theme_train_data()\n",
    "test(len(df), 0, operator.ge)"
   ]
  },
  {
   "cell_type": "markdown",
   "metadata": {},
   "source": [
    "Using the mid-level `DataBlocks` API"
   ]
  },
  {
   "cell_type": "code",
   "execution_count": 38,
   "metadata": {},
   "outputs": [
    {
     "name": "stderr",
     "output_type": "stream",
     "text": [
      "Some weights of the model checkpoint at roberta-base were not used when initializing RobertaForSequenceClassification: ['lm_head.bias', 'lm_head.dense.weight', 'lm_head.dense.bias', 'lm_head.layer_norm.weight', 'lm_head.layer_norm.bias', 'lm_head.decoder.weight', 'roberta.pooler.dense.weight', 'roberta.pooler.dense.bias']\n",
      "- This IS expected if you are initializing RobertaForSequenceClassification from the checkpoint of a model trained on another task or with another architecture (e.g. initializing a BertForSequenceClassification model from a BertForPretraining model).\n",
      "- This IS NOT expected if you are initializing RobertaForSequenceClassification from the checkpoint of a model that you expect to be exactly identical (initializing a BertForSequenceClassification model from a BertForSequenceClassification model).\n",
      "Some weights of RobertaForSequenceClassification were not initialized from the model checkpoint at roberta-base and are newly initialized: ['classifier.dense.weight', 'classifier.dense.bias', 'classifier.out_proj.weight', 'classifier.out_proj.bias']\n",
      "You should probably TRAIN this model on a down-stream task to be able to use it for predictions and inference.\n"
     ]
    }
   ],
   "source": [
    "#hide\n",
    "task = HF_TASKS_AUTO.SequenceClassification\n",
    "\n",
    "pretrained_model_name = \"roberta-base\"\n",
    "config = AutoConfig.from_pretrained(pretrained_model_name)\n",
    "\n",
    "hf_arch, hf_config, hf_tokenizer, hf_model = BLURR_MODEL_HELPER.get_hf_objects(pretrained_model_name, \n",
    "                                                                               task=task, \n",
    "                                                                               config=config)"
   ]
  },
  {
   "cell_type": "code",
   "execution_count": 39,
   "metadata": {},
   "outputs": [],
   "source": [
    "#hide\n",
    "blocks = (\n",
    "    HF_TextBlock(hf_arch=hf_arch, hf_tokenizer=hf_tokenizer), \n",
    "    RegressionBlock(),\n",
    "    CategoryBlock()\n",
    ")\n",
    "\n",
    "def get_x(inp): return ': '.join(inp[meta_standard_themes_train_config['corpus_cols']].values)\n",
    "\n",
    "dblock = DataBlock(blocks=blocks, \n",
    "                   get_x=get_x, \n",
    "                   get_y=[ColReader('avg_sentiment'), ColReader('is_example')], \n",
    "                   splitter=ColSplitter(col='is_valid'), \n",
    "                   n_inp=1)"
   ]
  },
  {
   "cell_type": "code",
   "execution_count": 40,
   "metadata": {},
   "outputs": [],
   "source": [
    "#hide\n",
    "dls = dblock.dataloaders(df, bs=saw_standard_themes_train_config['batch_size'])"
   ]
  },
  {
   "cell_type": "code",
   "execution_count": 41,
   "metadata": {
    "scrolled": true
   },
   "outputs": [
    {
     "data": {
      "text/plain": [
       "(#2) [0,1]"
      ]
     },
     "execution_count": 41,
     "metadata": {},
     "output_type": "execute_result"
    }
   ],
   "source": [
    "dls.vocab"
   ]
  },
  {
   "cell_type": "code",
   "execution_count": 42,
   "metadata": {},
   "outputs": [
    {
     "data": {
      "text/plain": [
       "50265"
      ]
     },
     "execution_count": 42,
     "metadata": {},
     "output_type": "execute_result"
    }
   ],
   "source": [
    "dls.before_batch[0].hf_tokenizer.vocab_size"
   ]
  },
  {
   "cell_type": "code",
   "execution_count": 43,
   "metadata": {},
   "outputs": [
    {
     "name": "stdout",
     "output_type": "stream",
     "text": [
      "The inputs vocab (50265 items), and the targets (2 items)\n"
     ]
    }
   ],
   "source": [
    "#hide\n",
    "print((f'The inputs vocab ({dls.before_batch[0].hf_tokenizer.vocab_size} items), '\n",
    "       f'and the targets ({len(dls.vocab)} items)'))"
   ]
  },
  {
   "cell_type": "code",
   "execution_count": 44,
   "metadata": {},
   "outputs": [
    {
     "data": {
      "text/plain": [
       "(3,\n",
       " torch.Size([8, 465]),\n",
       " torch.Size([8]),\n",
       " torch.Size([8]),\n",
       " 'torch.cuda.FloatTensor',\n",
       " 'torch.cuda.LongTensor')"
      ]
     },
     "execution_count": 44,
     "metadata": {},
     "output_type": "execute_result"
    }
   ],
   "source": [
    "#hide\n",
    "b = dls.one_batch()\n",
    "len(b), b[0]['input_ids'].shape, b[1].shape, b[2].shape, b[1].type(), b[2].type()"
   ]
  },
  {
   "cell_type": "code",
   "execution_count": 45,
   "metadata": {
    "scrolled": true
   },
   "outputs": [
    {
     "data": {
      "text/html": [
       "<table border=\"1\" class=\"dataframe\">\n",
       "  <thead>\n",
       "    <tr style=\"text-align: right;\">\n",
       "      <th></th>\n",
       "      <th>text</th>\n",
       "      <th>text_</th>\n",
       "      <th>category</th>\n",
       "    </tr>\n",
       "  </thead>\n",
       "  <tbody>\n",
       "    <tr>\n",
       "      <th>0</th>\n",
       "      <td>Supervisor Effectiveness/Resolves Staff Issues: In the Enterprise Network and Telecommunications group of ITS, the environment continues to be toxic, retaliatory, abusive, and discriminatory as in past years. Under the direction of James Seddon, supervisor Malerie Samadi harasses and talks down to employees. Manipulates and edits official documentation to make staff look and give lower performance appraisal ratings or retaliate against them. Also, use the same practice to provide their friends with higher performance ratings and award them with higher merit increases.  Senior management continues to harbor this behavior without any consequence and or accountability. James and Malerie exploit minorities and give preferential treatment to personnel hired by them. Regularly abuse the power that the University of California gives them and exercise nepotism because they are both product of such practices.\\r\\nOther supervisors like Ynez Hicks also participates in the same practices of despotism, nepotism, and favoritism. \\r\\nIt is unacceptable that this behavior and practices continue to be used by management without any accountability.  Principles of the community are ignored continuously daily. When this type of situation is brought up to Human Resources, they ignore them because no one is enforcing the UC Principles. James Seddon and Malerie Samadi in the Datacom group don't care about staff promotion, compensation, and well being. They only care about themselves and their friends. Hiring practices are unfair; they manipulate the process so they can hire barely qualified personnel into experienced positions. Existing staff is overworked because newer personnel can not pull their weight, yet Malerie and James make it look like they are in their appraisals. They mentally abuse staff and minimize their work performance. Recently one of the team member past away while working at home. A stroke caused by the stress and the pressure that Malerie was putting on David Ramirez. She used him to get her promotion to supervisor and make her look good in front of others.\\r\\nBoth James and Malerie are the perfect examples of bad management. Somehow they continue to occupy their positions, and Senior Management doesn't do anything about it.  \\r\\nThe lowest level the Datacom team has been in years, all because of James and Malerie's arrogance and lack of ethics.</td>\n",
       "      <td>1.0</td>\n",
       "      <td>0</td>\n",
       "    </tr>\n",
       "    <tr>\n",
       "      <th>1</th>\n",
       "      <td>Fear of Retaliation, Negative Consequences: The campus should ensure that each dept:\\r\\n-carefully reviews job descriptions and knows who is doing what work so that staff can be appropriately recognized and compensated for the work they do, as opposed to that recognition and compensation going to someone else.\\r\\n-has succession plans for each area; as staff leave/retire this should make it possible for current staff to move up. The campus should ensure staff are not required to leave their unit simply to advance professionally.\\r\\n-MSO mentors the managers within the unit so that the managers can be the most effective. MSOs also need to actually allow supervisors to supervise.\\r\\n-head (staff and faculty) is held to a non-tolerance standard for speaking negatively about staff within their unit and/or calling names. \\r\\n-head (staff and faculty) and each manager is transparent and timely in the communication of information to members of the unit. Instead of excuses and apologies, corrective actions should be taken and repeats of problematic situations should not reoccur.\\r\\n-has adequate funds and adequate space for the members of their unit, and the customers the unit serves. All staff areas within the unit should have comparable accommodations.\\r\\n-is safe for staff. Panic buttons/alarms, safety and active shooter training,  and appropriate access barriers are absolutely necessary for all areas and in all units.\\r\\n-allows flex-schedules and work-from-home in as much as possible. “Service” should be reimagined to match current technology.</td>\n",
       "      <td>3.0</td>\n",
       "      <td>0</td>\n",
       "    </tr>\n",
       "  </tbody>\n",
       "</table>"
      ],
      "text/plain": [
       "<IPython.core.display.HTML object>"
      ]
     },
     "metadata": {},
     "output_type": "display_data"
    }
   ],
   "source": [
    "#hide\n",
    "dls.show_batch(dataloaders=dls, max_n=2)"
   ]
  },
  {
   "cell_type": "code",
   "execution_count": 46,
   "metadata": {},
   "outputs": [],
   "source": [
    "#export\n",
    "def get_meta_standard_theme_train_x(inp, corpus_cols): return 'theme: ' + ' comment: '.join(inp[corpus_cols].values)\n",
    "\n",
    "def get_meta_standard_theme_train_dls(df, hf_arch, hf_tokenizer, train_config={}, use_cache=True):\n",
    "    \n",
    "    config = {**meta_standard_themes_train_config, **train_config}\n",
    "    cache_path = config['cache_data_path'] if ('cache_data_path' in config) else None\n",
    "    \n",
    "    if (use_cache and cache_path is not None):\n",
    "        if (os.path.isfile(cache_path)): \n",
    "            dls = torch.load(cache_path)\n",
    "            dls.bs = config['batch_size']\n",
    "    \n",
    "    blocks = (\n",
    "        HF_TextBlock(hf_arch=hf_arch, hf_tokenizer=hf_tokenizer), \n",
    "        RegressionBlock(),\n",
    "        CategoryBlock()\n",
    "    )\n",
    "\n",
    "    dblock = DataBlock(blocks=blocks, \n",
    "                       get_x=partial(get_meta_standard_theme_train_x, corpus_cols=config['corpus_cols']),\n",
    "                       get_y=[ColReader('avg_sentiment'), ColReader('is_example')], \n",
    "                       splitter=ColSplitter(col='is_valid'), \n",
    "                       n_inp=1)\n",
    "    \n",
    "    dls = dblock.dataloaders(df, bs=config['batch_size'])\n",
    "    if (cache_path is not None): torch.save(dls, config['cache_data_path'])\n",
    "        \n",
    "    return dls"
   ]
  },
  {
   "cell_type": "markdown",
   "metadata": {},
   "source": [
    "Tests"
   ]
  },
  {
   "cell_type": "code",
   "execution_count": 47,
   "metadata": {},
   "outputs": [],
   "source": [
    "df = get_meta_standard_theme_train_data()\n",
    "\n",
    "dls = get_meta_standard_theme_train_dls(df, hf_arch, hf_tokenizer)\n",
    "\n",
    "test_eq(dls.bs, meta_standard_themes_train_config['batch_size'])\n",
    "test_eq(2, len(dls.vocab))\n",
    "\n",
    "b = dls.one_batch()\n",
    "test_eq(len(b), 3)\n",
    "test_eq(b[1].shape[0], dls.bs)    # = regression task\n",
    "test_eq(b[2].shape[0], dls.bs)    # = classification task"
   ]
  },
  {
   "cell_type": "code",
   "execution_count": 48,
   "metadata": {},
   "outputs": [],
   "source": [
    "dls = get_meta_standard_theme_train_dls(df, hf_arch, hf_tokenizer, use_cache=False)\n",
    "\n",
    "test_eq(dls.bs, meta_standard_themes_train_config['batch_size'])\n",
    "test_eq(2, len(dls.vocab))\n",
    "\n",
    "b = dls.one_batch()\n",
    "test_eq(len(b), 3)\n",
    "test_eq(b[1].shape[0], dls.bs)    # = regression task\n",
    "test_eq(b[2].shape[0], dls.bs)    # = classification task"
   ]
  },
  {
   "cell_type": "code",
   "execution_count": 49,
   "metadata": {},
   "outputs": [
    {
     "data": {
      "text/html": [
       "<table border=\"1\" class=\"dataframe\">\n",
       "  <thead>\n",
       "    <tr style=\"text-align: right;\">\n",
       "      <th></th>\n",
       "      <th>text</th>\n",
       "      <th>text_</th>\n",
       "      <th>category</th>\n",
       "    </tr>\n",
       "  </thead>\n",
       "  <tbody>\n",
       "    <tr>\n",
       "      <th>0</th>\n",
       "      <td>theme: Supervisor Effectiveness/Resolves Staff Issues comment: In the Enterprise Network and Telecommunications group of ITS, the environment continues to be toxic, retaliatory, abusive, and discriminatory as in past years. Under the direction of James Seddon, supervisor Malerie Samadi harasses and talks down to employees. Manipulates and edits official documentation to make staff look and give lower performance appraisal ratings or retaliate against them. Also, use the same practice to provide their friends with higher performance ratings and award them with higher merit increases.  Senior management continues to harbor this behavior without any consequence and or accountability. James and Malerie exploit minorities and give preferential treatment to personnel hired by them. Regularly abuse the power that the University of California gives them and exercise nepotism because they are both product of such practices.\\r\\nOther supervisors like Ynez Hicks also participates in the same practices of despotism, nepotism, and favoritism. \\r\\nIt is unacceptable that this behavior and practices continue to be used by management without any accountability.  Principles of the community are ignored continuously daily. When this type of situation is brought up to Human Resources, they ignore them because no one is enforcing the UC Principles. James Seddon and Malerie Samadi in the Datacom group don't care about staff promotion, compensation, and well being. They only care about themselves and their friends. Hiring practices are unfair; they manipulate the process so they can hire barely qualified personnel into experienced positions. Existing staff is overworked because newer personnel can not pull their weight, yet Malerie and James make it look like they are in their appraisals. They mentally abuse staff and minimize their work performance. Recently one of the team member past away while working at home. A stroke caused by the stress and the pressure that Malerie was putting on David Ramirez. She used him to get her promotion to supervisor and make her look good in front of others.\\r\\nBoth James and Malerie are the perfect examples of bad management. Somehow they continue to occupy their positions, and Senior Management doesn't do anything about it.  \\r\\nThe lowest level the Datacom team has been in years, all because of James and Malerie's arrogance and lack of ethics.</td>\n",
       "      <td>1.0</td>\n",
       "      <td>0</td>\n",
       "    </tr>\n",
       "    <tr>\n",
       "      <th>1</th>\n",
       "      <td>theme: Advancement and Training Opportunities comment: 1.\\tSensitivity and bias training for SLBO management – The selection and search for the person to fill Evelyns position seemed inequitable.  Evelyn having a say in her successor may not have been against campus hiring policies but did not seem appropriate since she had inside knowledge of some of the candidates and a possible bias for or against other candidates.  \\r\\n  I applied for the position because my applying was suggested by another member of Evelyns team that was not on the committee.\\r\\nAnna, a member of the committee, was also under the leadership of Evelyn.  Anna, who now has been promoted into Jamies positions would not be in Jamies position if he had not gotten Evelyns position.  In addition, there was no one in the room from HR ensuring that the interviews were fair and equal.  I think that this Cluster is large enough to warrant additional oversite with the filling of positions. \\r\\nThough it may not matter to some but within the SLBO all of senior management (HR remains neutral) is now male while 99 %  of the rest of the staff is female.  \\r\\n2.\\tWhen work is removed from my desk work of equal or greater substance should replace it (the work removed).\\r\\n3.\\tTo remove budgetary work from me and replace it with transactional work is belittling along with a misuse of my high level skill set, experience, and education.  I am often the person who trains or provides information to new staff on our tools within Financial Link.  \\r\\n4.\\tI want to see equality in secession training for management positions within the SLBO or other departments in the cluster.</td>\n",
       "      <td>3.0</td>\n",
       "      <td>0</td>\n",
       "    </tr>\n",
       "  </tbody>\n",
       "</table>"
      ],
      "text/plain": [
       "<IPython.core.display.HTML object>"
      ]
     },
     "metadata": {},
     "output_type": "display_data"
    }
   ],
   "source": [
    "dls.show_batch(dataloaders=dls, max_n=2)"
   ]
  },
  {
   "cell_type": "code",
   "execution_count": null,
   "metadata": {},
   "outputs": [],
   "source": []
  },
  {
   "cell_type": "markdown",
   "metadata": {},
   "source": [
    "## Cleanup"
   ]
  },
  {
   "cell_type": "code",
   "execution_count": 50,
   "metadata": {},
   "outputs": [
    {
     "name": "stdout",
     "output_type": "stream",
     "text": [
      "Converted 00_utils.ipynb.\n",
      "Converted 02a_verbatims-core.ipynb.\n",
      "Converted 02c_verbatims-standard-themes-saw-training.ipynb.\n",
      "Converted 02e_verbatims-standard-themes-meta-training.ipynb.\n",
      "Converted 99_verbatims-inference.ipynb.\n",
      "Converted Untitled.ipynb.\n",
      "Converted index.ipynb.\n"
     ]
    }
   ],
   "source": [
    "#hide\n",
    "from nbdev.export import notebook2script\n",
    "notebook2script()"
   ]
  },
  {
   "cell_type": "code",
   "execution_count": null,
   "metadata": {},
   "outputs": [],
   "source": []
  }
 ],
 "metadata": {
  "kernelspec": {
   "display_name": "Python 3",
   "language": "python",
   "name": "python3"
  },
  "language_info": {
   "codemirror_mode": {
    "name": "ipython",
    "version": 3
   },
   "file_extension": ".py",
   "mimetype": "text/x-python",
   "name": "python",
   "nbconvert_exporter": "python",
   "pygments_lexer": "ipython3",
   "version": "3.7.6"
  },
  "varInspector": {
   "cols": {
    "lenName": 16,
    "lenType": 16,
    "lenVar": 40
   },
   "kernels_config": {
    "python": {
     "delete_cmd_postfix": "",
     "delete_cmd_prefix": "del ",
     "library": "var_list.py",
     "varRefreshCmd": "print(var_dic_list())"
    },
    "r": {
     "delete_cmd_postfix": ") ",
     "delete_cmd_prefix": "rm(",
     "library": "var_list.r",
     "varRefreshCmd": "cat(var_dic_list()) "
    }
   },
   "position": {
    "height": "468px",
    "left": "1307px",
    "right": "20px",
    "top": "120px",
    "width": "353px"
   },
   "types_to_exclude": [
    "module",
    "function",
    "builtin_function_or_method",
    "instance",
    "_Feature"
   ],
   "window_display": false
  }
 },
 "nbformat": 4,
 "nbformat_minor": 2
}
