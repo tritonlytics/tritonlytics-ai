{
 "cells": [
  {
   "cell_type": "code",
   "execution_count": 1,
   "metadata": {},
   "outputs": [],
   "source": [
    "# default_exp standard_themes/metadata"
   ]
  },
  {
   "cell_type": "code",
   "execution_count": 2,
   "metadata": {},
   "outputs": [],
   "source": [
    "#hide\n",
    "%reload_ext autoreload\n",
    "%autoreload 2\n",
    "%matplotlib inline"
   ]
  },
  {
   "cell_type": "markdown",
   "metadata": {},
   "source": [
    "# Tritonlytics MultiTask Classification - Standard Themes Metadata\n",
    "\n",
    "> Multi-modal models for predicting IsExample and Theme sentiment"
   ]
  },
  {
   "cell_type": "code",
   "execution_count": 3,
   "metadata": {},
   "outputs": [],
   "source": [
    "#export\n",
    "import datetime\n",
    "import sklearn.metrics as skm\n",
    "from tritonlytics_ai.utils import *\n",
    "\n",
    "from fastai import __version__ as fa2_version\n",
    "from fastai.text.all import *\n",
    "from blurr.modeling.all import MultiTargetLoss\n",
    "\n",
    "import spacy\n",
    "spacy_en = spacy.load('en_core_web_sm')\n",
    "spacy_es = spacy.load('es_core_news_sm')"
   ]
  },
  {
   "cell_type": "code",
   "execution_count": 4,
   "metadata": {},
   "outputs": [],
   "source": [
    "#hide\n",
    "import pdb, gc\n",
    "\n",
    "# pandas and plotting config\n",
    "import seaborn as sns\n",
    "sns.set_style('whitegrid')\n",
    "\n",
    "plt.rcParams['figure.figsize'] = (9,6)\n",
    "\n",
    "pd.set_option('display.max_rows', 500)\n",
    "pd.set_option('display.max_columns', 500)\n",
    "pd.set_option('display.width', 1000)\n",
    "pd.set_option('display.max_colwidth', 100)\n",
    "\n",
    "from nbdev.showdoc import *\n",
    "from fastcore.test import *"
   ]
  },
  {
   "cell_type": "code",
   "execution_count": 5,
   "metadata": {},
   "outputs": [
    {
     "name": "stdout",
     "output_type": "stream",
     "text": [
      "fastai version: 2.0.14\n"
     ]
    }
   ],
   "source": [
    "#hide\n",
    "print(f'fastai version: {fa2_version}')"
   ]
  },
  {
   "cell_type": "code",
   "execution_count": 6,
   "metadata": {},
   "outputs": [
    {
     "name": "stdout",
     "output_type": "stream",
     "text": [
      "Using GPU #1\n"
     ]
    }
   ],
   "source": [
    "#cuda\n",
    "torch.cuda.set_device(1)\n",
    "print(f'Using GPU #{torch.cuda.current_device()}')"
   ]
  },
  {
   "cell_type": "markdown",
   "metadata": {},
   "source": [
    "## Data"
   ]
  },
  {
   "cell_type": "markdown",
   "metadata": {},
   "source": [
    "Basic Configuration"
   ]
  },
  {
   "cell_type": "code",
   "execution_count": 7,
   "metadata": {},
   "outputs": [
    {
     "data": {
      "text/plain": [
       "32408"
      ]
     },
     "execution_count": 7,
     "metadata": {},
     "output_type": "execute_result"
    }
   ],
   "source": [
    "vocab = pickle.load(open(LM_PATH/'vocab.pkl', 'rb')); len(vocab)"
   ]
  },
  {
   "cell_type": "code",
   "execution_count": 8,
   "metadata": {},
   "outputs": [],
   "source": [
    "bsz = 80\n",
    "bptt= 72\n",
    "wd = 1e-7"
   ]
  },
  {
   "cell_type": "code",
   "execution_count": 9,
   "metadata": {},
   "outputs": [],
   "source": [
    "chunksize = 24000\n",
    "\n",
    "include_fld_tok = True\n",
    "include_bos_tok = True\n",
    "include_eos_tok = False"
   ]
  },
  {
   "cell_type": "code",
   "execution_count": 10,
   "metadata": {},
   "outputs": [],
   "source": [
    "# define what text columns to use (can be multiple)\n",
    "corpus_cols = ['theme', 'answer_text'] \n",
    "\n",
    "# define how to identify the text we are using for the LM\n",
    "corpus_suf = '_multitask' #'_cleaned'"
   ]
  },
  {
   "cell_type": "markdown",
   "metadata": {},
   "source": [
    "Prepare the data source"
   ]
  },
  {
   "cell_type": "code",
   "execution_count": 11,
   "metadata": {},
   "outputs": [],
   "source": [
    "train_df = pd.read_csv(STANDARD_THEME_META_PATH/'train.csv')\n",
    "valid_df = pd.read_csv(STANDARD_THEME_META_PATH/'test.csv')"
   ]
  },
  {
   "cell_type": "code",
   "execution_count": 12,
   "metadata": {},
   "outputs": [
    {
     "data": {
      "text/plain": [
       "dtype('int64')"
      ]
     },
     "execution_count": 12,
     "metadata": {},
     "output_type": "execute_result"
    }
   ],
   "source": [
    "train_df.is_example.dtype"
   ]
  },
  {
   "cell_type": "markdown",
   "metadata": {},
   "source": [
    "Remove any rows whre the \"corpus_cols\" are nan"
   ]
  },
  {
   "cell_type": "code",
   "execution_count": 13,
   "metadata": {},
   "outputs": [],
   "source": [
    "train_df.dropna(subset=corpus_cols, inplace=True)\n",
    "valid_df.dropna(subset=corpus_cols, inplace=True)"
   ]
  },
  {
   "cell_type": "code",
   "execution_count": 14,
   "metadata": {},
   "outputs": [],
   "source": [
    "# list(set(train_df.theme.unique()))"
   ]
  },
  {
   "cell_type": "code",
   "execution_count": 15,
   "metadata": {},
   "outputs": [],
   "source": [
    "# vocab.itos += [ item.lower() for item in list(set(train_df.theme.unique())) ]\n",
    "# vocab.stoi = collections.defaultdict(int,{v:k for k,v in enumerate(vocab.itos)})"
   ]
  },
  {
   "cell_type": "code",
   "execution_count": 16,
   "metadata": {},
   "outputs": [],
   "source": [
    "train_df['is_valid'] = False\n",
    "valid_df['is_valid'] = True\n",
    "df = pd.concat([train_df, valid_df])"
   ]
  },
  {
   "cell_type": "code",
   "execution_count": 17,
   "metadata": {},
   "outputs": [],
   "source": [
    "# prepend custom tokenization rules to defaults\n",
    "custom_lowercase = partial(lowercase, add_bos=include_bos_tok, add_eos=include_eos_tok)\n",
    "\n",
    "custom_tok_rules = defaults.text_proc_rules[:-1] + [custom_lowercase, \n",
    "                                                    make_replacements, \n",
    "                                                    fix_ampm, \n",
    "                                                    fix_sentence_ends, \n",
    "                                                    fix_hyphenated_words]"
   ]
  },
  {
   "cell_type": "markdown",
   "metadata": {},
   "source": [
    "Using the mid-level `DataBlocks` API"
   ]
  },
  {
   "cell_type": "code",
   "execution_count": 18,
   "metadata": {},
   "outputs": [
    {
     "name": "stdout",
     "output_type": "stream",
     "text": [
      "CPU times: user 132 ms, sys: 3.91 ms, total: 136 ms\n",
      "Wall time: 136 ms\n"
     ]
    }
   ],
   "source": [
    "%%time\n",
    "\n",
    "blocks = (\n",
    "    TextBlock.from_df(corpus_cols, vocab=vocab, seq_len=bptt, rules=custom_tok_rules, mark_fields=include_fld_tok),\n",
    "    RegressionBlock(),\n",
    "    CategoryBlock()\n",
    ")\n",
    "\n",
    "dblock = DataBlock(blocks=blocks, \n",
    "                   get_x=ColReader('text'),\n",
    "                   get_y=[ColReader('avg_sentiment'), ColReader('is_example')],\n",
    "                   splitter=ColSplitter(col='is_valid'), \n",
    "                   n_inp=1)"
   ]
  },
  {
   "cell_type": "code",
   "execution_count": 19,
   "metadata": {},
   "outputs": [],
   "source": [
    "# dblock.summary(df)"
   ]
  },
  {
   "cell_type": "code",
   "execution_count": 20,
   "metadata": {
    "scrolled": true
   },
   "outputs": [
    {
     "data": {
      "text/html": [],
      "text/plain": [
       "<IPython.core.display.HTML object>"
      ]
     },
     "metadata": {},
     "output_type": "display_data"
    },
    {
     "name": "stdout",
     "output_type": "stream",
     "text": [
      "CPU times: user 13.6 s, sys: 1.4 s, total: 15 s\n",
      "Wall time: 15.9 s\n"
     ]
    }
   ],
   "source": [
    "%%time\n",
    "dls = dblock.dataloaders(df, bs=bsz, seq_len=bptt)"
   ]
  },
  {
   "cell_type": "code",
   "execution_count": 21,
   "metadata": {},
   "outputs": [
    {
     "name": "stdout",
     "output_type": "stream",
     "text": [
      "The Datasets vocab has 2 items : the inputs vocab (32408 items), and the targets (2 items)\n"
     ]
    }
   ],
   "source": [
    "print((\n",
    "    f'The Datasets vocab has {len(dls.vocab)} items : the inputs vocab ({len(dls.vocab[0])} items), '\n",
    "    f'and the targets ({len(dls.vocab[1])} items)'))"
   ]
  },
  {
   "cell_type": "code",
   "execution_count": 22,
   "metadata": {},
   "outputs": [
    {
     "name": "stdout",
     "output_type": "stream",
     "text": [
      "(TensorText([   2,    4,  371,    8,  458,   68,    8, 5843,   68,    8,  475,    4,\n",
      "         290,  109,   17,   10,   27,   38,  323, 1260,   49,  322,  636,   11,\n",
      "         675, 4474,   21,   26,   32,   57,  684,   11,   30,  122,    9]), tensor(3.), TensorCategory(0))\n"
     ]
    }
   ],
   "source": [
    "print(dls.train_ds[21])"
   ]
  },
  {
   "cell_type": "code",
   "execution_count": 23,
   "metadata": {},
   "outputs": [
    {
     "data": {
      "text/html": [
       "<table border=\"1\" class=\"dataframe\">\n",
       "  <thead>\n",
       "    <tr style=\"text-align: right;\">\n",
       "      <th></th>\n",
       "      <th>text</th>\n",
       "      <th>text_</th>\n",
       "      <th>category</th>\n",
       "    </tr>\n",
       "  </thead>\n",
       "  <tbody>\n",
       "    <tr>\n",
       "      <th>0</th>\n",
       "      <td>xxbos xxfld 1 xxmaj supervisor xxmaj effectiveness / xxmaj resolves xxmaj staff xxmaj issues xxfld 2 xxmaj in the xxmaj enterprise xxmaj network and xxmaj telecommunications group of xxup its , the environment continues to be toxic , retaliatory , abusive , and discriminatory as in past years . xxmaj under the direction of xxmaj james xxmaj seddon , supervisor xxmaj malerie xxmaj samadi harasses and talks down to employees . xxmaj manipulates and edits official documentation to make staff look and give lower performance appraisal ratings or retaliate against them . xxmaj also , use the same practice to provide their friends with higher performance ratings and award them with higher merit increases . xxmaj senior management continues to harbor this behavior without any consequence and or accountability . xxmaj james and xxmaj malerie exploit minorities and give preferential treatment to personnel hired by them . xxmaj regularly abuse</td>\n",
       "      <td>1.0</td>\n",
       "      <td>0</td>\n",
       "    </tr>\n",
       "    <tr>\n",
       "      <th>1</th>\n",
       "      <td>xxbos xxfld 1 xxmaj evaluated xxmaj fairly xxfld 2 xxmaj in the xxmaj enterprise xxmaj network and xxmaj telecommunications group of xxup its , the environment continues to be toxic , retaliatory , abusive , and discriminatory as in past years . xxmaj under the direction of xxmaj james xxmaj seddon , supervisor xxmaj malerie xxmaj samadi harasses and talks down to employees . xxmaj manipulates and edits official documentation to make staff look and give lower performance appraisal ratings or retaliate against them . xxmaj also , use the same practice to provide their friends with higher performance ratings and award them with higher merit increases . xxmaj senior management continues to harbor this behavior without any consequence and or accountability . xxmaj james and xxmaj malerie exploit minorities and give preferential treatment to personnel hired by them . xxmaj regularly abuse the power that the xxmaj university of</td>\n",
       "      <td>1.0</td>\n",
       "      <td>0</td>\n",
       "    </tr>\n",
       "  </tbody>\n",
       "</table>"
      ],
      "text/plain": [
       "<IPython.core.display.HTML object>"
      ]
     },
     "metadata": {},
     "output_type": "display_data"
    }
   ],
   "source": [
    "dls.show_batch(max_n=2)"
   ]
  },
  {
   "cell_type": "code",
   "execution_count": 24,
   "metadata": {},
   "outputs": [
    {
     "name": "stdout",
     "output_type": "stream",
     "text": [
      "torch.Size([80, 482]) torch.cuda.LongTensor torch.Size([80]) torch.Size([80]) torch.cuda.FloatTensor torch.cuda.LongTensor 80\n"
     ]
    }
   ],
   "source": [
    "batch = next(iter(dls.train))\n",
    "print(batch[0].size(), batch[0].type(), batch[1].size(), batch[2].size(), batch[1].type(), batch[2].type(), bsz)"
   ]
  },
  {
   "cell_type": "code",
   "execution_count": 25,
   "metadata": {},
   "outputs": [
    {
     "data": {
      "text/plain": [
       "\"xxbos xxfld 1 xxmaj supervisor xxmaj effectiveness / xxmaj resolves xxmaj staff xxmaj issues xxfld 2 xxmaj in the xxmaj enterprise xxmaj network and xxmaj telecommunications group of xxup its , the environment continues to be toxic , retaliatory , abusive , and discriminatory as in past years . xxmaj under the direction of xxmaj james xxmaj seddon , supervisor xxmaj malerie xxmaj samadi harasses and talks down to employees . xxmaj manipulates and edits official documentation to make staff look and give lower performance appraisal ratings or retaliate against them . xxmaj also , use the same practice to provide their friends with higher performance ratings and award them with higher merit increases . xxmaj senior management continues to harbor this behavior without any consequence and or accountability . xxmaj james and xxmaj malerie exploit minorities and give preferential treatment to personnel hired by them . xxmaj regularly abuse the power that the xxmaj university of xxmaj california gives them and exercise nepotism because they are both product of such practices . \\\\ r \\n xxmaj other supervisors like xxmaj ynez xxmaj hicks also participates in the same practices of xxunk , nepotism , and favoritism . \\\\ r \\n xxmaj it is unacceptable that this behavior and practices continue to be used by management without any accountability . xxmaj principles of the community are ignored continuously daily . xxmaj when this type of situation is brought up to xxmaj human xxmaj resources , they ignore them because no one is enforcing the xxup uc xxmaj principles . xxmaj james xxmaj seddon and xxmaj malerie xxmaj samadi in the xxmaj datacom group do n't care about staff promotion , compensation , and well being . xxmaj they only care about themselves and their friends . xxmaj hiring practices are unfair ; they manipulate the process so they can hire barely qualified personnel into experienced positions . xxmaj existing staff is overworked because newer personnel can not pull their weight , yet xxmaj malerie and xxmaj james make it look like they are in their appraisals . xxmaj they mentally abuse staff and minimize their work performance . xxmaj recently one of the team member past away while working at home . a stroke caused by the stress and the pressure that xxmaj malerie was putting on xxmaj david xxmaj ramirez . xxmaj she used him to get her promotion to supervisor and make her look good in front of others . \\\\ r \\n xxmaj both xxmaj james and xxmaj malerie are the perfect examples of bad management . xxmaj somehow they continue to occupy their positions , and xxmaj senior xxmaj management does n't do anything about it . \\\\ r \\n xxmaj the lowest level the xxmaj datacom team has been in years , all because of xxmaj james and xxmaj malerie 's arrogance and lack of ethics .\""
      ]
     },
     "execution_count": 25,
     "metadata": {},
     "output_type": "execute_result"
    }
   ],
   "source": [
    "' '.join([ dls.vocab[0][idx] for idx in batch[0][0,:] ])"
   ]
  },
  {
   "cell_type": "markdown",
   "metadata": {},
   "source": [
    "Save the `Dataloaders` object for future use"
   ]
  },
  {
   "cell_type": "code",
   "execution_count": 26,
   "metadata": {},
   "outputs": [],
   "source": [
    "# save dataloaders\n",
    "torch.save(dls, STANDARD_THEME_META_PATH/f'data_standard_theme_meta.pkl')\n",
    "# dls = torch.load(STANDARD_THEME_META_PATH/f'data_standard_theme_meta.pkl')"
   ]
  },
  {
   "cell_type": "markdown",
   "metadata": {},
   "source": [
    "## Training"
   ]
  },
  {
   "cell_type": "markdown",
   "metadata": {},
   "source": [
    "Configure a forward or backwards run"
   ]
  },
  {
   "cell_type": "code",
   "execution_count": 92,
   "metadata": {},
   "outputs": [],
   "source": [
    "backwards = False\n",
    "m_suf = '_multitask' #'_cleaned'\n",
    "m_pre = 'bwd_' if (backwards) else 'fwd_'\n",
    "\n",
    "dls = torch.load(STANDARD_THEME_META_PATH/f'data_standard_theme_meta.pkl')\n",
    "\n",
    "def reverse_text(nums): return nums.flip(0)\n",
    "if (backwards): \n",
    "    dls.tfms.append(Transform(reverse_text))\n",
    "    dls.before_batch = partial(pad_input_chunk, pad_first=not backwards)"
   ]
  },
  {
   "cell_type": "code",
   "execution_count": 93,
   "metadata": {},
   "outputs": [],
   "source": [
    "# copied from /lm/models -> class/models (both fwd and bwd weights)\n",
    "! cp {LM_PATH/'models/*_lm_enc.pth'} {STANDARD_THEME_META_PATH/'models/'}  "
   ]
  },
  {
   "cell_type": "markdown",
   "metadata": {},
   "source": [
    "Configure MM head"
   ]
  },
  {
   "cell_type": "code",
   "execution_count": 94,
   "metadata": {},
   "outputs": [],
   "source": [
    "class MM(Module):\n",
    "    def __init__(self, in_features=50): \n",
    "        super().__init__()\n",
    "        self.pred_is_example = nn.Linear(in_features, 2, bias=False)\n",
    "        self.pred_avg_sentiment = nn.Linear(in_features, 1, bias=False)\n",
    "        self.pred_avg_sent_range = SigmoidRange(1., 5.1)\n",
    "        \n",
    "    def forward(self, x):\n",
    "        is_example = self.pred_is_example(x)\n",
    "        avg_sentiment = self.pred_avg_sent_range(self.pred_avg_sentiment(x))\n",
    "        \n",
    "        return avg_sentiment, is_example"
   ]
  },
  {
   "cell_type": "code",
   "execution_count": 95,
   "metadata": {},
   "outputs": [
    {
     "name": "stdout",
     "output_type": "stream",
     "text": [
      "[1.0, 115.48148148148148]\n"
     ]
    }
   ],
   "source": [
    "is_example_weights = list(np.max(train_df.is_example.value_counts()) /train_df.is_example.value_counts())\n",
    "print(is_example_weights)"
   ]
  },
  {
   "cell_type": "markdown",
   "metadata": {},
   "source": [
    "Configure learner"
   ]
  },
  {
   "cell_type": "code",
   "execution_count": 96,
   "metadata": {},
   "outputs": [],
   "source": [
    "# define metrics\n",
    "def sentiment_mse(preds, *targs):\n",
    "    return mse(preds[0], targs[0])\n",
    "\n",
    "def is_example_acc(preds, *targs):\n",
    "    return accuracy(preds[1], targs[1])"
   ]
  },
  {
   "cell_type": "code",
   "execution_count": 97,
   "metadata": {},
   "outputs": [],
   "source": [
    "# define callbacks\n",
    "best_model_cb = SaveModelCallback(monitor='valid_loss', comp=np.less, fname=f'{m_pre}mm_bestmodel{m_suf}')"
   ]
  },
  {
   "cell_type": "code",
   "execution_count": 98,
   "metadata": {},
   "outputs": [],
   "source": [
    "# define our custom multi-target loss\n",
    "multi_targ_loss = MultiTargetLoss(loss_classes=[MSELossFlat, CrossEntropyLossFlat],\n",
    "                                  loss_classes_kwargs=[{}, {'weight': FloatTensor(is_example_weights).to('cuda:1')}],\n",
    "                                  weights=[1, 0.1], \n",
    "                                  reduction='mean')"
   ]
  },
  {
   "cell_type": "code",
   "execution_count": 99,
   "metadata": {},
   "outputs": [],
   "source": [
    "learn_cbs = []\n",
    "fit_cbs = [best_model_cb]\n",
    "\n",
    "learn_metrics = [is_example_acc, sentiment_mse]\n",
    "\n",
    "# build learner\n",
    "learn = text_classifier_learner(dls, \n",
    "                                AWD_LSTM, \n",
    "                                pretrained=False,\n",
    "                                alpha=2.0, beta=1.0,      # default - alpha=2.0, beta=1.0\n",
    "                                moms=(0.8,0.7,0.8),       # default - (0.95, 0.85, 0.95)\n",
    "                                wd=wd,                    # default - None\n",
    "                                seq_len=bptt,             # default - 72\n",
    "                                drop_mult=0.5,            # default - 0.5\n",
    "                                lin_ftrs=[50],            # default - [50]\n",
    "                                ps=[0.1],                 # default - [0.1]\n",
    "                                metrics=learn_metrics, \n",
    "                                cbs=learn_cbs,\n",
    "                                n_out=1,\n",
    "                                path=STANDARD_THEME_META_PATH)\n",
    "\n",
    "learn.loss_func = multi_targ_loss"
   ]
  },
  {
   "cell_type": "code",
   "execution_count": 100,
   "metadata": {},
   "outputs": [],
   "source": [
    "# learn.summary()"
   ]
  },
  {
   "cell_type": "code",
   "execution_count": 101,
   "metadata": {},
   "outputs": [],
   "source": [
    "learn = learn.load_encoder(f'{m_pre}lm_enc')"
   ]
  },
  {
   "cell_type": "code",
   "execution_count": 102,
   "metadata": {},
   "outputs": [
    {
     "data": {
      "text/plain": [
       "LinBnDrop(\n",
       "  (0): BatchNorm1d(50, eps=1e-05, momentum=0.1, affine=True, track_running_stats=True)\n",
       "  (1): Dropout(p=0.1, inplace=False)\n",
       "  (2): Linear(in_features=50, out_features=1, bias=False)\n",
       ")"
      ]
     },
     "execution_count": 102,
     "metadata": {},
     "output_type": "execute_result"
    }
   ],
   "source": [
    "learn.model._modules['1']._modules['layers']._modules['1']"
   ]
  },
  {
   "cell_type": "code",
   "execution_count": 103,
   "metadata": {},
   "outputs": [],
   "source": [
    "learn.model._modules['1']._modules['layers']._modules['1']._modules['2'] = MM(50)"
   ]
  },
  {
   "cell_type": "code",
   "execution_count": 104,
   "metadata": {},
   "outputs": [],
   "source": [
    "learn.model = learn.model.to('cuda:1')"
   ]
  },
  {
   "cell_type": "code",
   "execution_count": 105,
   "metadata": {},
   "outputs": [],
   "source": [
    "learn.splitter = awd_lstm_clas_split\n",
    "learn.opt = learn.create_opt()"
   ]
  },
  {
   "cell_type": "code",
   "execution_count": 106,
   "metadata": {},
   "outputs": [],
   "source": [
    "learn.freeze()"
   ]
  },
  {
   "cell_type": "code",
   "execution_count": 107,
   "metadata": {
    "scrolled": true
   },
   "outputs": [
    {
     "data": {
      "text/html": [
       "<table border=\"1\" class=\"dataframe\">\n",
       "  <thead>\n",
       "    <tr style=\"text-align: left;\">\n",
       "      <th>epoch</th>\n",
       "      <th>train_loss</th>\n",
       "      <th>valid_loss</th>\n",
       "      <th>is_example_acc</th>\n",
       "      <th>sentiment_mse</th>\n",
       "      <th>time</th>\n",
       "    </tr>\n",
       "  </thead>\n",
       "  <tbody>\n",
       "    <tr>\n",
       "      <td>0</td>\n",
       "      <td>None</td>\n",
       "      <td>None</td>\n",
       "      <td>None</td>\n",
       "      <td>00:00</td>\n",
       "    </tr>\n",
       "  </tbody>\n",
       "</table>"
      ],
      "text/plain": [
       "<IPython.core.display.HTML object>"
      ]
     },
     "metadata": {},
     "output_type": "display_data"
    },
    {
     "data": {
      "text/plain": [
       "SequentialRNN (Input shape: ['80 x 482'])\n",
       "================================================================\n",
       "Layer (type)         Output Shape         Param #    Trainable \n",
       "================================================================\n",
       "RNNDropout           80 x 50 x 400        0          False     \n",
       "________________________________________________________________\n",
       "RNNDropout           80 x 50 x 1152       0          False     \n",
       "________________________________________________________________\n",
       "RNNDropout           80 x 50 x 1152       0          False     \n",
       "________________________________________________________________\n",
       "BatchNorm1d          80 x 1200            2,400      True      \n",
       "________________________________________________________________\n",
       "Dropout              80 x 1200            0          False     \n",
       "________________________________________________________________\n",
       "Linear               80 x 50              60,000     True      \n",
       "________________________________________________________________\n",
       "ReLU                 80 x 50              0          False     \n",
       "________________________________________________________________\n",
       "BatchNorm1d          80 x 50              100        True      \n",
       "________________________________________________________________\n",
       "Dropout              80 x 50              0          False     \n",
       "________________________________________________________________\n",
       "Linear               80 x 2               100        True      \n",
       "________________________________________________________________\n",
       "Linear               80 x 1               50         True      \n",
       "________________________________________________________________\n",
       "SigmoidRange         80 x 1               0          False     \n",
       "________________________________________________________________\n",
       "\n",
       "Total params: 62,650\n",
       "Total trainable params: 62,650\n",
       "Total non-trainable params: 0\n",
       "\n",
       "Optimizer used: <function Adam at 0x7f1d31734680>\n",
       "Loss function: MultiTargetLoss()\n",
       "\n",
       "Model frozen up to parameter group #4\n",
       "\n",
       "Callbacks:\n",
       "  - TrainEvalCallback\n",
       "  - Recorder\n",
       "  - ProgressCallback\n",
       "  - ModelResetter\n",
       "  - RNNRegularizer"
      ]
     },
     "execution_count": 107,
     "metadata": {},
     "output_type": "execute_result"
    }
   ],
   "source": [
    "learn.summary()"
   ]
  },
  {
   "cell_type": "code",
   "execution_count": 108,
   "metadata": {},
   "outputs": [],
   "source": [
    "# learn.show_training_loop()"
   ]
  },
  {
   "cell_type": "code",
   "execution_count": 109,
   "metadata": {},
   "outputs": [],
   "source": [
    "best_model_path = STANDARD_THEME_META_PATH/f'models/{m_pre}mm_bestmodel{m_suf}*'\n",
    "if (best_model_path.exists()): best_model_path.unlink(missing_ok=False)"
   ]
  },
  {
   "cell_type": "markdown",
   "metadata": {},
   "source": [
    "Train"
   ]
  },
  {
   "cell_type": "code",
   "execution_count": 110,
   "metadata": {},
   "outputs": [],
   "source": [
    "lr= 5e-2"
   ]
  },
  {
   "cell_type": "code",
   "execution_count": 111,
   "metadata": {},
   "outputs": [
    {
     "data": {
      "text/html": [],
      "text/plain": [
       "<IPython.core.display.HTML object>"
      ]
     },
     "metadata": {},
     "output_type": "display_data"
    },
    {
     "data": {
      "text/plain": [
       "SuggestedLRs(lr_min=0.03019951581954956, lr_steep=1.5848931980144698e-06)"
      ]
     },
     "execution_count": 111,
     "metadata": {},
     "output_type": "execute_result"
    },
    {
     "data": {
      "image/png": "[encoded data removed]",
      "text/plain": [
       "<Figure size 648x432 with 1 Axes>"
      ]
     },
     "metadata": {},
     "output_type": "display_data"
    }
   ],
   "source": [
    "learn.lr_find()"
   ]
  },
  {
   "cell_type": "code",
   "execution_count": 112,
   "metadata": {},
   "outputs": [
    {
     "data": {
      "text/html": [
       "<table border=\"1\" class=\"dataframe\">\n",
       "  <thead>\n",
       "    <tr style=\"text-align: left;\">\n",
       "      <th>epoch</th>\n",
       "      <th>train_loss</th>\n",
       "      <th>valid_loss</th>\n",
       "      <th>is_example_acc</th>\n",
       "      <th>sentiment_mse</th>\n",
       "      <th>time</th>\n",
       "    </tr>\n",
       "  </thead>\n",
       "  <tbody>\n",
       "    <tr>\n",
       "      <td>0</td>\n",
       "      <td>0.733456</td>\n",
       "      <td>0.526497</td>\n",
       "      <td>0.908484</td>\n",
       "      <td>0.482469</td>\n",
       "      <td>00:12</td>\n",
       "    </tr>\n",
       "  </tbody>\n",
       "</table>"
      ],
      "text/plain": [
       "<IPython.core.display.HTML object>"
      ]
     },
     "metadata": {},
     "output_type": "display_data"
    },
    {
     "name": "stdout",
     "output_type": "stream",
     "text": [
      "Better model found at epoch 0 with valid_loss value: 0.5264973640441895.\n"
     ]
    }
   ],
   "source": [
    "learn.fit_one_cycle(1, lr_max=lr, cbs=fit_cbs)"
   ]
  },
  {
   "cell_type": "code",
   "execution_count": 113,
   "metadata": {},
   "outputs": [
    {
     "data": {
      "text/plain": [
       "Path('data/classification/standard_themes/meta/models/fwd_mm_last_ft_multitask.pth')"
      ]
     },
     "execution_count": 113,
     "metadata": {},
     "output_type": "execute_result"
    }
   ],
   "source": [
    "learn.save(f'{m_pre}mm_last_ft{m_suf}')"
   ]
  },
  {
   "cell_type": "code",
   "execution_count": 114,
   "metadata": {},
   "outputs": [
    {
     "data": {
      "text/html": [
       "<table border=\"1\" class=\"dataframe\">\n",
       "  <thead>\n",
       "    <tr style=\"text-align: left;\">\n",
       "      <th>epoch</th>\n",
       "      <th>train_loss</th>\n",
       "      <th>valid_loss</th>\n",
       "      <th>is_example_acc</th>\n",
       "      <th>sentiment_mse</th>\n",
       "      <th>time</th>\n",
       "    </tr>\n",
       "  </thead>\n",
       "  <tbody>\n",
       "    <tr>\n",
       "      <td>0</td>\n",
       "      <td>0.612754</td>\n",
       "      <td>0.494718</td>\n",
       "      <td>0.909438</td>\n",
       "      <td>0.444064</td>\n",
       "      <td>00:13</td>\n",
       "    </tr>\n",
       "  </tbody>\n",
       "</table>"
      ],
      "text/plain": [
       "<IPython.core.display.HTML object>"
      ]
     },
     "metadata": {},
     "output_type": "display_data"
    },
    {
     "name": "stdout",
     "output_type": "stream",
     "text": [
      "Better model found at epoch 0 with valid_loss value: 0.4947182834148407.\n"
     ]
    }
   ],
   "source": [
    "learn.freeze_to(-2)\n",
    "learn.fit_one_cycle(1, lr_max=slice(5e-2/(2.6**4), 5e-2), cbs=fit_cbs)"
   ]
  },
  {
   "cell_type": "code",
   "execution_count": 115,
   "metadata": {},
   "outputs": [
    {
     "data": {
      "text/plain": [
       "Path('data/classification/standard_themes/meta/models/fwd_mm_last2_ft_multitask.pth')"
      ]
     },
     "execution_count": 115,
     "metadata": {},
     "output_type": "execute_result"
    }
   ],
   "source": [
    "learn.save(f'{m_pre}mm_last2_ft{m_suf}')"
   ]
  },
  {
   "cell_type": "code",
   "execution_count": 116,
   "metadata": {},
   "outputs": [
    {
     "data": {
      "text/html": [
       "<table border=\"1\" class=\"dataframe\">\n",
       "  <thead>\n",
       "    <tr style=\"text-align: left;\">\n",
       "      <th>epoch</th>\n",
       "      <th>train_loss</th>\n",
       "      <th>valid_loss</th>\n",
       "      <th>is_example_acc</th>\n",
       "      <th>sentiment_mse</th>\n",
       "      <th>time</th>\n",
       "    </tr>\n",
       "  </thead>\n",
       "  <tbody>\n",
       "    <tr>\n",
       "      <td>0</td>\n",
       "      <td>0.485630</td>\n",
       "      <td>0.441041</td>\n",
       "      <td>0.959962</td>\n",
       "      <td>0.393227</td>\n",
       "      <td>00:19</td>\n",
       "    </tr>\n",
       "  </tbody>\n",
       "</table>"
      ],
      "text/plain": [
       "<IPython.core.display.HTML object>"
      ]
     },
     "metadata": {},
     "output_type": "display_data"
    },
    {
     "name": "stdout",
     "output_type": "stream",
     "text": [
      "Better model found at epoch 0 with valid_loss value: 0.44104138016700745.\n"
     ]
    }
   ],
   "source": [
    "learn.freeze_to(-3)\n",
    "learn.fit_one_cycle(1, lr_max=slice(1e-2/(2.6**4),5e-3), cbs=fit_cbs)"
   ]
  },
  {
   "cell_type": "code",
   "execution_count": 117,
   "metadata": {},
   "outputs": [
    {
     "data": {
      "text/plain": [
       "Path('data/classification/standard_themes/meta/models/fwd_mm_last3_ft_multitask.pth')"
      ]
     },
     "execution_count": 117,
     "metadata": {},
     "output_type": "execute_result"
    }
   ],
   "source": [
    "learn.save(f'{m_pre}mm_last3_ft{m_suf}')"
   ]
  },
  {
   "cell_type": "code",
   "execution_count": 118,
   "metadata": {},
   "outputs": [
    {
     "data": {
      "text/html": [
       "<table border=\"1\" class=\"dataframe\">\n",
       "  <thead>\n",
       "    <tr style=\"text-align: left;\">\n",
       "      <th>epoch</th>\n",
       "      <th>train_loss</th>\n",
       "      <th>valid_loss</th>\n",
       "      <th>is_example_acc</th>\n",
       "      <th>sentiment_mse</th>\n",
       "      <th>time</th>\n",
       "    </tr>\n",
       "  </thead>\n",
       "  <tbody>\n",
       "    <tr>\n",
       "      <td>0</td>\n",
       "      <td>0.430081</td>\n",
       "      <td>0.436342</td>\n",
       "      <td>0.929457</td>\n",
       "      <td>0.390007</td>\n",
       "      <td>00:25</td>\n",
       "    </tr>\n",
       "    <tr>\n",
       "      <td>1</td>\n",
       "      <td>0.406086</td>\n",
       "      <td>0.426981</td>\n",
       "      <td>0.897998</td>\n",
       "      <td>0.380801</td>\n",
       "      <td>00:25</td>\n",
       "    </tr>\n",
       "    <tr>\n",
       "      <td>2</td>\n",
       "      <td>0.385023</td>\n",
       "      <td>0.454818</td>\n",
       "      <td>0.872259</td>\n",
       "      <td>0.407560</td>\n",
       "      <td>00:25</td>\n",
       "    </tr>\n",
       "    <tr>\n",
       "      <td>3</td>\n",
       "      <td>0.318625</td>\n",
       "      <td>0.454470</td>\n",
       "      <td>0.965682</td>\n",
       "      <td>0.397874</td>\n",
       "      <td>00:25</td>\n",
       "    </tr>\n",
       "    <tr>\n",
       "      <td>4</td>\n",
       "      <td>0.294054</td>\n",
       "      <td>0.464966</td>\n",
       "      <td>0.976168</td>\n",
       "      <td>0.387045</td>\n",
       "      <td>00:25</td>\n",
       "    </tr>\n",
       "    <tr>\n",
       "      <td>5</td>\n",
       "      <td>0.258420</td>\n",
       "      <td>0.462405</td>\n",
       "      <td>0.968541</td>\n",
       "      <td>0.397607</td>\n",
       "      <td>00:25</td>\n",
       "    </tr>\n",
       "    <tr>\n",
       "      <td>6</td>\n",
       "      <td>0.232994</td>\n",
       "      <td>0.481579</td>\n",
       "      <td>0.972355</td>\n",
       "      <td>0.397500</td>\n",
       "      <td>00:25</td>\n",
       "    </tr>\n",
       "    <tr>\n",
       "      <td>7</td>\n",
       "      <td>0.213427</td>\n",
       "      <td>0.497897</td>\n",
       "      <td>0.975214</td>\n",
       "      <td>0.407183</td>\n",
       "      <td>00:25</td>\n",
       "    </tr>\n",
       "    <tr>\n",
       "      <td>8</td>\n",
       "      <td>0.206671</td>\n",
       "      <td>0.511222</td>\n",
       "      <td>0.980934</td>\n",
       "      <td>0.406714</td>\n",
       "      <td>00:25</td>\n",
       "    </tr>\n",
       "    <tr>\n",
       "      <td>9</td>\n",
       "      <td>0.200293</td>\n",
       "      <td>0.503890</td>\n",
       "      <td>0.974261</td>\n",
       "      <td>0.406936</td>\n",
       "      <td>00:26</td>\n",
       "    </tr>\n",
       "  </tbody>\n",
       "</table>"
      ],
      "text/plain": [
       "<IPython.core.display.HTML object>"
      ]
     },
     "metadata": {},
     "output_type": "display_data"
    },
    {
     "name": "stdout",
     "output_type": "stream",
     "text": [
      "Better model found at epoch 0 with valid_loss value: 0.4363422691822052.\n",
      "Better model found at epoch 1 with valid_loss value: 0.4269811809062958.\n"
     ]
    }
   ],
   "source": [
    "learn.unfreeze()\n",
    "learn.fit_one_cycle(10, lr_max=slice(5e-3/(2.6**4),5e-3), cbs=fit_cbs)"
   ]
  },
  {
   "cell_type": "code",
   "execution_count": 119,
   "metadata": {},
   "outputs": [
    {
     "data": {
      "text/plain": [
       "Path('data/classification/standard_themes/meta/models/fwd_mm_multitask.pth')"
      ]
     },
     "execution_count": 119,
     "metadata": {},
     "output_type": "execute_result"
    }
   ],
   "source": [
    "learn.save(f'{m_pre}mm{m_suf}')"
   ]
  },
  {
   "cell_type": "markdown",
   "metadata": {},
   "source": [
    "Export model for inference"
   ]
  },
  {
   "cell_type": "code",
   "execution_count": 120,
   "metadata": {},
   "outputs": [],
   "source": [
    "learn.export(fname=f'{m_pre}export_mm{m_suf}.pkl')"
   ]
  },
  {
   "cell_type": "markdown",
   "metadata": {},
   "source": [
    "Look at results"
   ]
  },
  {
   "cell_type": "code",
   "execution_count": 121,
   "metadata": {},
   "outputs": [],
   "source": [
    "learn = learn.load(f'{m_pre}mm_bestmodel{m_suf}')"
   ]
  },
  {
   "cell_type": "code",
   "execution_count": 122,
   "metadata": {},
   "outputs": [
    {
     "data": {
      "text/html": [],
      "text/plain": [
       "<IPython.core.display.HTML object>"
      ]
     },
     "metadata": {},
     "output_type": "display_data"
    },
    {
     "data": {
      "text/plain": [
       "(#3) [0.4269811809062958,0.8979980945587158,0.38080084323883057]"
      ]
     },
     "execution_count": 122,
     "metadata": {},
     "output_type": "execute_result"
    }
   ],
   "source": [
    "learn.validate() # ... returns [loss, metrics]"
   ]
  },
  {
   "cell_type": "code",
   "execution_count": 123,
   "metadata": {},
   "outputs": [
    {
     "data": {
      "text/html": [],
      "text/plain": [
       "<IPython.core.display.HTML object>"
      ]
     },
     "metadata": {},
     "output_type": "display_data"
    },
    {
     "data": {
      "text/html": [
       "<table border=\"1\" class=\"dataframe\">\n",
       "  <thead>\n",
       "    <tr style=\"text-align: right;\">\n",
       "      <th></th>\n",
       "      <th>text</th>\n",
       "      <th>text_</th>\n",
       "      <th>category</th>\n",
       "      <th>text__</th>\n",
       "      <th>category_</th>\n",
       "    </tr>\n",
       "  </thead>\n",
       "  <tbody>\n",
       "    <tr>\n",
       "      <th>0</th>\n",
       "      <td>xxbos xxfld 1 xxmaj advancement and xxmaj training xxmaj opportunities xxfld 2 xxmaj insights as alumna / former student of xxup ucsd , working on main campus 3.5 + years , mexican - american female &amp; varied experience from start - up to non - profit to corporate : \\ r \\n 1 . xxmaj dept / culture : all</td>\n",
       "      <td>3.0</td>\n",
       "      <td>0</td>\n",
       "      <td>(2.162134885787964,)</td>\n",
       "      <td>0</td>\n",
       "    </tr>\n",
       "    <tr>\n",
       "      <th>1</th>\n",
       "      <td>xxbos xxfld 1 xxmaj satisfied with xxmaj diversity xxmaj xxunk xxfld 2 xxmaj my work environment at xxup s. xxup i. xxup o. xxmaj directors office , has been very unsatisfactory . xxmaj when my former work director xxmaj gary xxmaj xxunk retired , xxmaj dennis xxmaj brand took over as my work director . xxmaj he did not seem</td>\n",
       "      <td>1.0</td>\n",
       "      <td>0</td>\n",
       "      <td>(2.069725513458252,)</td>\n",
       "      <td>1</td>\n",
       "    </tr>\n",
       "    <tr>\n",
       "      <th>2</th>\n",
       "      <td>xxbos xxfld 1 xxmaj internal xxmaj processes xxmaj effective xxfld 2 xxmaj if you are under a xxmaj union xxmaj contract , i was told that my annual review does n't matter . i will receive my 3 % raise each year no matter what . xxmaj where is the incentive to go above and beyond ? xxmaj the departments</td>\n",
       "      <td>2.0</td>\n",
       "      <td>0</td>\n",
       "      <td>(2.7194347381591797,)</td>\n",
       "      <td>0</td>\n",
       "    </tr>\n",
       "    <tr>\n",
       "      <th>3</th>\n",
       "      <td>xxbos xxfld 1 xxmaj have xxmaj voice within my xxmaj institution / xxmaj valued xxmaj member of my xxmaj institution xxfld 2 i am satisfied with my department but very dissatisfied with xxup anr at the state / headquarters level . xxmaj in my department , i have a voice , can influence small decisions and am recognized for my</td>\n",
       "      <td>2.0</td>\n",
       "      <td>0</td>\n",
       "      <td>(2.025029182434082,)</td>\n",
       "      <td>0</td>\n",
       "    </tr>\n",
       "  </tbody>\n",
       "</table>"
      ],
      "text/plain": [
       "<IPython.core.display.HTML object>"
      ]
     },
     "metadata": {},
     "output_type": "display_data"
    }
   ],
   "source": [
    "learn.show_results(max_n=4, trunc_at=60)"
   ]
  },
  {
   "cell_type": "markdown",
   "metadata": {},
   "source": [
    "Use it for inference"
   ]
  },
  {
   "cell_type": "code",
   "execution_count": 124,
   "metadata": {},
   "outputs": [],
   "source": [
    "inf_learn = load_learner(STANDARD_THEME_META_PATH/f'{m_pre}export_mm{m_suf}.pkl')"
   ]
  },
  {
   "cell_type": "code",
   "execution_count": 125,
   "metadata": {},
   "outputs": [
    {
     "data": {
      "text/html": [],
      "text/plain": [
       "<IPython.core.display.HTML object>"
      ]
     },
     "metadata": {},
     "output_type": "display_data"
    },
    {
     "data": {
      "text/plain": [
       "('xxbos i feel very uncomfortable talking to my supervisor even though she loves dogs . xxmaj help xxrep 3 !',\n",
       " ((2.1534781455993652), '1'),\n",
       " tensor([[2.1535]]),\n",
       " tensor([[2.1535]]))"
      ]
     },
     "execution_count": 125,
     "metadata": {},
     "output_type": "execute_result"
    }
   ],
   "source": [
    "inf_learn.predict('I feel very uncomfortable talking to my supervisor even though she loves dogs. Help!!!', \n",
    "                  with_input=True)"
   ]
  },
  {
   "cell_type": "markdown",
   "metadata": {},
   "source": [
    "Review final validation loss for best model"
   ]
  },
  {
   "cell_type": "code",
   "execution_count": 126,
   "metadata": {},
   "outputs": [
    {
     "name": "stdout",
     "output_type": "stream",
     "text": [
      "['avg_sentiment', 'is_example']\n"
     ]
    }
   ],
   "source": [
    "print(STANDARD_THEME_META_LABELS)"
   ]
  },
  {
   "cell_type": "code",
   "execution_count": 127,
   "metadata": {},
   "outputs": [],
   "source": [
    "learn = learn.load(f'{m_pre}mm_bestmodel{m_suf}')"
   ]
  },
  {
   "cell_type": "code",
   "execution_count": 128,
   "metadata": {},
   "outputs": [
    {
     "data": {
      "text/html": [],
      "text/plain": [
       "<IPython.core.display.HTML object>"
      ]
     },
     "metadata": {},
     "output_type": "display_data"
    },
    {
     "data": {
      "text/plain": [
       "(#3) [0.4269811809062958,0.8979980945587158,0.38080084323883057]"
      ]
     },
     "execution_count": 128,
     "metadata": {},
     "output_type": "execute_result"
    }
   ],
   "source": [
    "learn.validate()"
   ]
  },
  {
   "cell_type": "code",
   "execution_count": 129,
   "metadata": {},
   "outputs": [
    {
     "data": {
      "text/html": [],
      "text/plain": [
       "<IPython.core.display.HTML object>"
      ]
     },
     "metadata": {},
     "output_type": "display_data"
    },
    {
     "name": "stdout",
     "output_type": "stream",
     "text": [
      "Validation Loss: 0.49097761511802673\n"
     ]
    }
   ],
   "source": [
    "probs, targs, loss = learn.get_preds(dl=dls.valid, with_loss=True)\n",
    "\n",
    "print(f'Validation Loss: {loss.mean()}')\n",
    "# print(f'Validation Loss (per label): {loss.mean(dim=0)}') # ... no longer works (see forum comment from sylvain)"
   ]
  },
  {
   "cell_type": "code",
   "execution_count": 130,
   "metadata": {},
   "outputs": [
    {
     "name": "stdout",
     "output_type": "stream",
     "text": [
      "tensor([1.7855]) tensor(2.) tensor(0) tensor(0)\n",
      "tensor([1.8570]) tensor(2.) tensor(0) tensor(0)\n",
      "tensor([4.4427]) tensor(4.) tensor(0) tensor(0)\n",
      "tensor([2.0007]) tensor(2.) tensor(0) tensor(0)\n",
      "tensor([4.1403]) tensor(4.) tensor(0) tensor(0)\n",
      "tensor([1.8239]) tensor(2.) tensor(0) tensor(0)\n",
      "tensor([4.4053]) tensor(5.) tensor(0) tensor(0)\n",
      "tensor([2.8118]) tensor(2.) tensor(1) tensor(0)\n",
      "tensor([2.4978]) tensor(3.) tensor(0) tensor(0)\n",
      "tensor([2.4700]) tensor(4.) tensor(0) tensor(0)\n",
      "tensor([1.9128]) tensor(2.) tensor(0) tensor(0)\n",
      "tensor([4.3134]) tensor(5.) tensor(0) tensor(0)\n",
      "tensor([2.1398]) tensor(2.) tensor(0) tensor(0)\n",
      "tensor([2.1975]) tensor(2.) tensor(0) tensor(0)\n",
      "tensor([1.7298]) tensor(1.) tensor(1) tensor(0)\n",
      "tensor([2.7021]) tensor(1.5000) tensor(0) tensor(0)\n",
      "tensor([2.5804]) tensor(5.) tensor(1) tensor(0)\n",
      "tensor([2.5860]) tensor(3.) tensor(0) tensor(0)\n",
      "tensor([1.8714]) tensor(2.) tensor(0) tensor(0)\n",
      "tensor([2.7017]) tensor(3.) tensor(0) tensor(0)\n",
      "tensor([1.7657]) tensor(2.) tensor(0) tensor(0)\n",
      "tensor([2.0300]) tensor(2.) tensor(0) tensor(0)\n",
      "tensor([1.9544]) tensor(2.) tensor(0) tensor(0)\n",
      "tensor([1.9245]) tensor(2.) tensor(0) tensor(0)\n",
      "tensor([3.0877]) tensor(3.) tensor(0) tensor(0)\n",
      "tensor([3.9461]) tensor(4.) tensor(0) tensor(0)\n",
      "tensor([2.1396]) tensor(1.) tensor(0) tensor(0)\n",
      "tensor([2.0697]) tensor(1.) tensor(1) tensor(0)\n",
      "tensor([1.9066]) tensor(2.) tensor(0) tensor(0)\n",
      "tensor([2.1419]) tensor(2.5000) tensor(0) tensor(0)\n",
      "tensor([2.1283]) tensor(2.) tensor(0) tensor(0)\n",
      "tensor([3.0150]) tensor(3.) tensor(0) tensor(0)\n",
      "tensor([1.7453]) tensor(2.) tensor(0) tensor(0)\n",
      "tensor([2.1631]) tensor(2.) tensor(0) tensor(0)\n",
      "tensor([1.7943]) tensor(2.) tensor(0) tensor(0)\n",
      "tensor([2.5889]) tensor(2.) tensor(0) tensor(0)\n",
      "tensor([2.0158]) tensor(3.) tensor(0) tensor(0)\n",
      "tensor([1.9632]) tensor(2.) tensor(0) tensor(0)\n",
      "tensor([1.8606]) tensor(2.) tensor(0) tensor(0)\n",
      "tensor([2.1001]) tensor(2.) tensor(0) tensor(0)\n",
      "tensor([1.7011]) tensor(2.) tensor(0) tensor(0)\n",
      "tensor([2.3643]) tensor(3.) tensor(0) tensor(0)\n",
      "tensor([2.3012]) tensor(2.) tensor(0) tensor(0)\n",
      "tensor([2.4984]) tensor(3.) tensor(0) tensor(0)\n",
      "tensor([1.7450]) tensor(2.) tensor(1) tensor(0)\n",
      "tensor([3.4809]) tensor(4.) tensor(0) tensor(0)\n",
      "tensor([4.0998]) tensor(2.) tensor(0) tensor(0)\n",
      "tensor([3.1692]) tensor(3.) tensor(0) tensor(0)\n",
      "tensor([4.3436]) tensor(5.) tensor(0) tensor(0)\n",
      "tensor([2.5591]) tensor(2.) tensor(0) tensor(0)\n",
      "tensor([2.2604]) tensor(1.) tensor(0) tensor(0)\n",
      "tensor([1.7663]) tensor(2.) tensor(0) tensor(0)\n",
      "tensor([1.5249]) tensor(2.) tensor(1) tensor(0)\n",
      "tensor([2.3291]) tensor(2.) tensor(0) tensor(0)\n",
      "tensor([1.8727]) tensor(1.5000) tensor(0) tensor(0)\n",
      "tensor([1.8669]) tensor(2.) tensor(0) tensor(0)\n",
      "tensor([2.1488]) tensor(2.) tensor(0) tensor(0)\n",
      "tensor([2.4596]) tensor(1.) tensor(0) tensor(0)\n",
      "tensor([2.0282]) tensor(3.) tensor(0) tensor(0)\n",
      "tensor([2.2517]) tensor(2.5000) tensor(0) tensor(0)\n",
      "tensor([2.5045]) tensor(3.) tensor(0) tensor(0)\n",
      "tensor([2.0158]) tensor(2.) tensor(0) tensor(0)\n",
      "tensor([2.4240]) tensor(2.) tensor(0) tensor(0)\n",
      "tensor([1.9688]) tensor(2.) tensor(0) tensor(0)\n",
      "tensor([2.2200]) tensor(2.) tensor(0) tensor(0)\n",
      "tensor([3.5483]) tensor(2.) tensor(0) tensor(0)\n",
      "tensor([2.1752]) tensor(3.) tensor(0) tensor(0)\n",
      "tensor([1.9926]) tensor(2.) tensor(0) tensor(0)\n",
      "tensor([2.8898]) tensor(3.) tensor(0) tensor(0)\n",
      "tensor([4.2338]) tensor(5.) tensor(0) tensor(0)\n",
      "tensor([2.1842]) tensor(2.) tensor(0) tensor(0)\n",
      "tensor([2.4435]) tensor(3.) tensor(0) tensor(0)\n",
      "tensor([2.0705]) tensor(3.) tensor(0) tensor(0)\n",
      "tensor([3.0128]) tensor(3.) tensor(0) tensor(0)\n",
      "tensor([2.3124]) tensor(2.) tensor(0) tensor(0)\n",
      "tensor([2.2779]) tensor(2.) tensor(0) tensor(0)\n",
      "tensor([3.1221]) tensor(3.) tensor(0) tensor(0)\n",
      "tensor([2.0163]) tensor(2.) tensor(0) tensor(0)\n",
      "tensor([1.8110]) tensor(2.) tensor(0) tensor(0)\n",
      "tensor([2.3079]) tensor(2.) tensor(0) tensor(0)\n",
      "tensor([2.0099]) tensor(2.) tensor(0) tensor(0)\n",
      "tensor([3.2759]) tensor(3.) tensor(0) tensor(0)\n",
      "tensor([3.8900]) tensor(2.) tensor(0) tensor(0)\n",
      "tensor([3.2074]) tensor(3.) tensor(0) tensor(0)\n",
      "tensor([2.0585]) tensor(2.) tensor(0) tensor(0)\n",
      "tensor([1.8399]) tensor(2.) tensor(0) tensor(0)\n",
      "tensor([1.9880]) tensor(2.) tensor(0) tensor(0)\n",
      "tensor([2.5795]) tensor(2.) tensor(0) tensor(0)\n",
      "tensor([2.3560]) tensor(2.) tensor(0) tensor(0)\n",
      "tensor([2.7043]) tensor(2.5000) tensor(0) tensor(0)\n",
      "tensor([2.2208]) tensor(3.) tensor(0) tensor(0)\n",
      "tensor([4.6527]) tensor(4.) tensor(0) tensor(0)\n",
      "tensor([4.5230]) tensor(5.) tensor(0) tensor(0)\n",
      "tensor([1.8229]) tensor(3.) tensor(1) tensor(0)\n",
      "tensor([2.4894]) tensor(3.) tensor(0) tensor(0)\n",
      "tensor([2.4216]) tensor(3.) tensor(0) tensor(0)\n",
      "tensor([3.5371]) tensor(3.5000) tensor(0) tensor(0)\n",
      "tensor([2.0863]) tensor(2.5000) tensor(0) tensor(0)\n",
      "tensor([3.2000]) tensor(4.) tensor(0) tensor(0)\n",
      "tensor([1.9567]) tensor(2.) tensor(0) tensor(0)\n",
      "tensor([2.4610]) tensor(2.) tensor(0) tensor(0)\n",
      "tensor([2.1141]) tensor(2.) tensor(0) tensor(0)\n",
      "tensor([2.2336]) tensor(2.) tensor(0) tensor(0)\n",
      "tensor([2.0919]) tensor(2.) tensor(0) tensor(0)\n",
      "tensor([2.1862]) tensor(2.) tensor(0) tensor(0)\n",
      "tensor([2.3248]) tensor(2.) tensor(0) tensor(0)\n",
      "tensor([1.3865]) tensor(2.) tensor(0) tensor(0)\n",
      "tensor([2.6082]) tensor(5.) tensor(0) tensor(0)\n",
      "tensor([1.9940]) tensor(2.) tensor(0) tensor(0)\n",
      "tensor([2.4480]) tensor(3.) tensor(0) tensor(0)\n",
      "tensor([1.8509]) tensor(2.) tensor(0) tensor(0)\n",
      "tensor([2.1775]) tensor(2.) tensor(0) tensor(0)\n",
      "tensor([1.5687]) tensor(2.) tensor(0) tensor(0)\n",
      "tensor([3.0450]) tensor(3.) tensor(0) tensor(0)\n",
      "tensor([2.1119]) tensor(2.) tensor(0) tensor(0)\n",
      "tensor([4.4918]) tensor(4.) tensor(0) tensor(0)\n",
      "tensor([2.4156]) tensor(2.) tensor(0) tensor(0)\n",
      "tensor([3.0917]) tensor(3.) tensor(0) tensor(0)\n",
      "tensor([1.9887]) tensor(2.) tensor(0) tensor(0)\n",
      "tensor([1.8275]) tensor(2.) tensor(0) tensor(0)\n",
      "tensor([2.1417]) tensor(2.) tensor(0) tensor(0)\n",
      "tensor([2.1129]) tensor(2.) tensor(0) tensor(0)\n",
      "tensor([2.4595]) tensor(3.) tensor(0) tensor(0)\n",
      "tensor([2.0783]) tensor(2.) tensor(0) tensor(0)\n",
      "tensor([1.9516]) tensor(2.) tensor(0) tensor(0)\n",
      "tensor([2.6106]) tensor(4.) tensor(0) tensor(0)\n",
      "tensor([2.8282]) tensor(3.) tensor(0) tensor(0)\n",
      "tensor([1.9516]) tensor(2.) tensor(1) tensor(0)\n",
      "tensor([2.7969]) tensor(3.) tensor(0) tensor(0)\n",
      "tensor([2.3671]) tensor(3.) tensor(1) tensor(0)\n",
      "tensor([2.3231]) tensor(2.) tensor(0) tensor(0)\n",
      "tensor([2.8607]) tensor(3.) tensor(0) tensor(0)\n",
      "tensor([2.0623]) tensor(2.) tensor(0) tensor(0)\n",
      "tensor([2.1985]) tensor(2.5000) tensor(0) tensor(0)\n",
      "tensor([2.1748]) tensor(2.) tensor(0) tensor(0)\n",
      "tensor([3.6842]) tensor(2.) tensor(0) tensor(0)\n",
      "tensor([1.8568]) tensor(2.) tensor(0) tensor(0)\n",
      "tensor([2.1834]) tensor(2.) tensor(0) tensor(0)\n",
      "tensor([2.3942]) tensor(2.) tensor(0) tensor(0)\n",
      "tensor([2.8709]) tensor(3.) tensor(0) tensor(0)\n",
      "tensor([2.7983]) tensor(3.) tensor(0) tensor(0)\n",
      "tensor([1.8254]) tensor(1.5000) tensor(0) tensor(0)\n",
      "tensor([2.4035]) tensor(2.) tensor(0) tensor(0)\n",
      "tensor([3.4575]) tensor(2.) tensor(0) tensor(0)\n",
      "tensor([2.7645]) tensor(2.) tensor(0) tensor(0)\n",
      "tensor([2.0237]) tensor(2.) tensor(0) tensor(0)\n",
      "tensor([2.0847]) tensor(2.) tensor(0) tensor(0)\n",
      "tensor([1.9780]) tensor(2.) tensor(1) tensor(0)\n",
      "tensor([2.3103]) tensor(2.) tensor(0) tensor(0)\n",
      "tensor([2.9649]) tensor(3.) tensor(0) tensor(0)\n",
      "tensor([4.3820]) tensor(4.) tensor(1) tensor(0)\n",
      "tensor([2.5754]) tensor(3.) tensor(0) tensor(0)\n",
      "tensor([4.3579]) tensor(5.) tensor(0) tensor(0)\n",
      "tensor([2.2964]) tensor(3.) tensor(0) tensor(0)\n",
      "tensor([2.0000]) tensor(2.) tensor(0) tensor(0)\n",
      "tensor([2.0949]) tensor(2.) tensor(0) tensor(0)\n",
      "tensor([2.0356]) tensor(2.) tensor(0) tensor(0)\n",
      "tensor([4.0672]) tensor(5.) tensor(0) tensor(0)\n",
      "tensor([4.1249]) tensor(4.) tensor(0) tensor(0)\n",
      "tensor([2.2032]) tensor(2.) tensor(0) tensor(0)\n",
      "tensor([2.6733]) tensor(3.) tensor(0) tensor(0)\n",
      "tensor([4.3011]) tensor(5.) tensor(0) tensor(0)\n",
      "tensor([2.6559]) tensor(2.) tensor(0) tensor(0)\n",
      "tensor([2.0599]) tensor(2.) tensor(0) tensor(0)\n",
      "tensor([2.1157]) tensor(2.) tensor(0) tensor(0)\n",
      "tensor([1.8110]) tensor(2.) tensor(0) tensor(0)\n",
      "tensor([4.5517]) tensor(5.) tensor(0) tensor(0)\n",
      "tensor([4.5521]) tensor(3.) tensor(0) tensor(0)\n",
      "tensor([4.5227]) tensor(5.) tensor(0) tensor(0)\n",
      "tensor([2.0278]) tensor(2.) tensor(0) tensor(0)\n",
      "tensor([4.4395]) tensor(5.) tensor(0) tensor(0)\n",
      "tensor([3.1536]) tensor(3.) tensor(1) tensor(0)\n",
      "tensor([1.7829]) tensor(1.5000) tensor(1) tensor(0)\n",
      "tensor([1.6311]) tensor(2.) tensor(0) tensor(0)\n",
      "tensor([1.8099]) tensor(2.) tensor(1) tensor(0)\n",
      "tensor([2.8824]) tensor(4.) tensor(0) tensor(0)\n",
      "tensor([2.2554]) tensor(3.) tensor(0) tensor(0)\n",
      "tensor([2.4204]) tensor(3.) tensor(0) tensor(0)\n",
      "tensor([2.3477]) tensor(2.) tensor(0) tensor(0)\n",
      "tensor([2.3520]) tensor(1.) tensor(0) tensor(0)\n",
      "tensor([2.4247]) tensor(3.) tensor(0) tensor(0)\n",
      "tensor([2.0243]) tensor(2.) tensor(0) tensor(0)\n",
      "tensor([3.7217]) tensor(4.) tensor(0) tensor(0)\n",
      "tensor([2.2373]) tensor(2.) tensor(0) tensor(0)\n",
      "tensor([2.1896]) tensor(2.) tensor(0) tensor(0)\n",
      "tensor([1.9698]) tensor(2.) tensor(0) tensor(0)\n",
      "tensor([1.8991]) tensor(1.) tensor(0) tensor(0)\n",
      "tensor([2.0652]) tensor(2.) tensor(0) tensor(0)\n",
      "tensor([2.9510]) tensor(3.) tensor(0) tensor(0)\n",
      "tensor([4.5209]) tensor(3.) tensor(0) tensor(0)\n",
      "tensor([3.4339]) tensor(4.) tensor(0) tensor(0)\n",
      "tensor([3.0347]) tensor(5.) tensor(0) tensor(0)\n",
      "tensor([4.0570]) tensor(5.) tensor(0) tensor(0)\n",
      "tensor([2.2535]) tensor(2.) tensor(0) tensor(0)\n",
      "tensor([1.9695]) tensor(3.) tensor(0) tensor(0)\n",
      "tensor([2.3112]) tensor(2.) tensor(0) tensor(0)\n",
      "tensor([2.0127]) tensor(2.) tensor(0) tensor(0)\n",
      "tensor([1.9317]) tensor(2.) tensor(0) tensor(0)\n",
      "tensor([4.2713]) tensor(4.) tensor(0) tensor(0)\n",
      "tensor([1.6765]) tensor(1.) tensor(1) tensor(0)\n",
      "tensor([1.8262]) tensor(2.) tensor(0) tensor(0)\n",
      "tensor([2.1586]) tensor(2.) tensor(0) tensor(0)\n",
      "tensor([3.2878]) tensor(2.) tensor(0) tensor(0)\n",
      "tensor([1.9800]) tensor(2.) tensor(0) tensor(0)\n",
      "tensor([2.1033]) tensor(2.) tensor(0) tensor(0)\n",
      "tensor([2.6282]) tensor(3.) tensor(0) tensor(0)\n",
      "tensor([2.0788]) tensor(3.) tensor(0) tensor(0)\n"
     ]
    },
    {
     "name": "stdout",
     "output_type": "stream",
     "text": [
      "tensor([1.9153]) tensor(2.) tensor(0) tensor(0)\n",
      "tensor([1.9520]) tensor(2.) tensor(0) tensor(0)\n",
      "tensor([2.2392]) tensor(4.) tensor(0) tensor(0)\n",
      "tensor([2.4559]) tensor(3.) tensor(0) tensor(0)\n",
      "tensor([1.9829]) tensor(2.) tensor(0) tensor(0)\n",
      "tensor([1.7738]) tensor(2.) tensor(1) tensor(0)\n",
      "tensor([2.1746]) tensor(2.) tensor(0) tensor(0)\n",
      "tensor([1.9718]) tensor(2.) tensor(0) tensor(0)\n",
      "tensor([1.8980]) tensor(2.) tensor(0) tensor(0)\n",
      "tensor([2.2898]) tensor(2.) tensor(0) tensor(0)\n",
      "tensor([2.0442]) tensor(2.) tensor(0) tensor(0)\n",
      "tensor([1.8237]) tensor(2.) tensor(1) tensor(0)\n",
      "tensor([1.6772]) tensor(1.) tensor(0) tensor(0)\n",
      "tensor([2.0750]) tensor(3.) tensor(0) tensor(0)\n",
      "tensor([1.4497]) tensor(1.5000) tensor(1) tensor(0)\n",
      "tensor([3.1290]) tensor(3.) tensor(0) tensor(0)\n",
      "tensor([2.3939]) tensor(2.) tensor(0) tensor(0)\n",
      "tensor([3.9126]) tensor(5.) tensor(0) tensor(0)\n",
      "tensor([1.7650]) tensor(2.) tensor(1) tensor(0)\n",
      "tensor([2.0897]) tensor(1.) tensor(0) tensor(0)\n",
      "tensor([1.8333]) tensor(2.) tensor(0) tensor(0)\n",
      "tensor([1.9585]) tensor(2.) tensor(0) tensor(0)\n",
      "tensor([1.7806]) tensor(2.) tensor(0) tensor(0)\n",
      "tensor([2.6769]) tensor(3.) tensor(0) tensor(0)\n",
      "tensor([2.2524]) tensor(2.) tensor(0) tensor(0)\n",
      "tensor([2.2247]) tensor(2.) tensor(0) tensor(0)\n",
      "tensor([2.3111]) tensor(1.) tensor(0) tensor(0)\n",
      "tensor([1.9107]) tensor(2.) tensor(1) tensor(0)\n",
      "tensor([3.6611]) tensor(3.) tensor(0) tensor(0)\n",
      "tensor([2.0225]) tensor(2.) tensor(0) tensor(0)\n",
      "tensor([1.8105]) tensor(4.) tensor(1) tensor(0)\n",
      "tensor([1.7388]) tensor(1.5000) tensor(0) tensor(0)\n",
      "tensor([2.2686]) tensor(2.) tensor(0) tensor(0)\n",
      "tensor([1.9871]) tensor(1.) tensor(0) tensor(0)\n",
      "tensor([3.5075]) tensor(2.) tensor(0) tensor(0)\n",
      "tensor([4.1575]) tensor(5.) tensor(1) tensor(0)\n",
      "tensor([1.8881]) tensor(2.) tensor(1) tensor(0)\n",
      "tensor([2.6361]) tensor(3.) tensor(0) tensor(0)\n",
      "tensor([2.2648]) tensor(2.) tensor(0) tensor(0)\n",
      "tensor([2.3856]) tensor(2.) tensor(1) tensor(0)\n",
      "tensor([4.7147]) tensor(5.) tensor(0) tensor(0)\n",
      "tensor([2.2399]) tensor(3.) tensor(0) tensor(0)\n",
      "tensor([2.0864]) tensor(2.) tensor(0) tensor(0)\n",
      "tensor([1.9983]) tensor(2.) tensor(0) tensor(0)\n",
      "tensor([1.9894]) tensor(2.) tensor(0) tensor(0)\n",
      "tensor([2.0363]) tensor(2.) tensor(0) tensor(0)\n",
      "tensor([2.1411]) tensor(2.) tensor(0) tensor(0)\n",
      "tensor([4.7569]) tensor(4.) tensor(0) tensor(0)\n",
      "tensor([1.9549]) tensor(2.) tensor(0) tensor(0)\n",
      "tensor([2.5658]) tensor(2.) tensor(0) tensor(0)\n",
      "tensor([2.0694]) tensor(2.) tensor(0) tensor(0)\n",
      "tensor([2.1809]) tensor(1.5000) tensor(0) tensor(0)\n",
      "tensor([1.8829]) tensor(2.) tensor(0) tensor(0)\n",
      "tensor([4.5863]) tensor(4.) tensor(0) tensor(0)\n",
      "tensor([4.6400]) tensor(5.) tensor(0) tensor(0)\n",
      "tensor([2.1531]) tensor(2.) tensor(0) tensor(0)\n",
      "tensor([3.4890]) tensor(4.) tensor(0) tensor(0)\n",
      "tensor([1.9979]) tensor(1.) tensor(1) tensor(0)\n",
      "tensor([2.2192]) tensor(3.) tensor(0) tensor(0)\n",
      "tensor([1.9252]) tensor(2.) tensor(0) tensor(0)\n",
      "tensor([2.3162]) tensor(3.) tensor(0) tensor(0)\n",
      "tensor([1.7889]) tensor(3.) tensor(0) tensor(0)\n",
      "tensor([3.3155]) tensor(4.) tensor(0) tensor(0)\n",
      "tensor([2.4815]) tensor(4.) tensor(1) tensor(0)\n",
      "tensor([2.3880]) tensor(2.) tensor(0) tensor(0)\n",
      "tensor([1.9058]) tensor(2.) tensor(0) tensor(0)\n",
      "tensor([3.1860]) tensor(3.) tensor(0) tensor(0)\n",
      "tensor([2.0178]) tensor(2.) tensor(1) tensor(0)\n",
      "tensor([2.0570]) tensor(2.) tensor(0) tensor(0)\n",
      "tensor([2.0804]) tensor(4.) tensor(0) tensor(0)\n",
      "tensor([2.1296]) tensor(3.) tensor(0) tensor(0)\n",
      "tensor([1.9277]) tensor(2.) tensor(1) tensor(1)\n",
      "tensor([4.1003]) tensor(5.) tensor(0) tensor(0)\n",
      "tensor([1.7247]) tensor(2.) tensor(0) tensor(0)\n",
      "tensor([4.1624]) tensor(4.) tensor(0) tensor(0)\n",
      "tensor([2.2777]) tensor(2.) tensor(0) tensor(0)\n",
      "tensor([1.7235]) tensor(2.) tensor(0) tensor(0)\n",
      "tensor([3.9214]) tensor(5.) tensor(0) tensor(0)\n",
      "tensor([4.1525]) tensor(3.) tensor(0) tensor(0)\n",
      "tensor([2.1608]) tensor(2.5000) tensor(0) tensor(0)\n",
      "tensor([1.9600]) tensor(3.) tensor(0) tensor(0)\n",
      "tensor([3.6502]) tensor(4.) tensor(0) tensor(0)\n",
      "tensor([2.2654]) tensor(2.) tensor(1) tensor(0)\n",
      "tensor([3.8099]) tensor(3.) tensor(0) tensor(0)\n",
      "tensor([1.4267]) tensor(1.) tensor(1) tensor(0)\n",
      "tensor([2.1989]) tensor(4.) tensor(0) tensor(0)\n",
      "tensor([2.1599]) tensor(2.) tensor(0) tensor(0)\n",
      "tensor([2.9293]) tensor(3.) tensor(0) tensor(0)\n",
      "tensor([2.3256]) tensor(2.) tensor(0) tensor(0)\n",
      "tensor([2.1219]) tensor(2.) tensor(1) tensor(0)\n",
      "tensor([2.3293]) tensor(2.) tensor(0) tensor(0)\n",
      "tensor([1.9296]) tensor(2.) tensor(0) tensor(0)\n",
      "tensor([1.6051]) tensor(2.) tensor(1) tensor(0)\n",
      "tensor([3.6246]) tensor(3.) tensor(0) tensor(0)\n",
      "tensor([2.1508]) tensor(2.) tensor(0) tensor(0)\n",
      "tensor([2.1704]) tensor(2.) tensor(0) tensor(1)\n",
      "tensor([1.9806]) tensor(2.) tensor(0) tensor(0)\n",
      "tensor([2.3475]) tensor(2.) tensor(0) tensor(0)\n",
      "tensor([1.9141]) tensor(2.) tensor(0) tensor(0)\n",
      "tensor([2.0809]) tensor(2.) tensor(0) tensor(0)\n",
      "tensor([3.0605]) tensor(2.) tensor(1) tensor(0)\n",
      "tensor([2.1090]) tensor(3.) tensor(0) tensor(0)\n",
      "tensor([4.1801]) tensor(5.) tensor(0) tensor(0)\n",
      "tensor([3.1476]) tensor(3.) tensor(0) tensor(0)\n",
      "tensor([1.8210]) tensor(1.) tensor(1) tensor(0)\n",
      "tensor([2.2921]) tensor(2.) tensor(0) tensor(0)\n",
      "tensor([2.4039]) tensor(2.) tensor(0) tensor(0)\n",
      "tensor([2.0161]) tensor(1.) tensor(0) tensor(0)\n",
      "tensor([2.0798]) tensor(2.) tensor(0) tensor(0)\n",
      "tensor([1.9292]) tensor(2.) tensor(0) tensor(0)\n",
      "tensor([3.8919]) tensor(3.5000) tensor(0) tensor(0)\n",
      "tensor([3.4575]) tensor(2.) tensor(0) tensor(0)\n",
      "tensor([4.5384]) tensor(4.) tensor(0) tensor(0)\n",
      "tensor([2.5486]) tensor(2.) tensor(0) tensor(0)\n",
      "tensor([2.0928]) tensor(2.) tensor(1) tensor(0)\n",
      "tensor([1.9054]) tensor(2.) tensor(0) tensor(0)\n",
      "tensor([2.2676]) tensor(2.) tensor(0) tensor(0)\n",
      "tensor([2.2554]) tensor(2.) tensor(0) tensor(0)\n",
      "tensor([2.5193]) tensor(3.) tensor(0) tensor(0)\n",
      "tensor([1.9192]) tensor(1.) tensor(0) tensor(0)\n",
      "tensor([2.5836]) tensor(2.) tensor(0) tensor(0)\n",
      "tensor([3.9012]) tensor(3.) tensor(0) tensor(0)\n",
      "tensor([2.1513]) tensor(2.) tensor(0) tensor(0)\n",
      "tensor([2.0740]) tensor(3.) tensor(0) tensor(0)\n",
      "tensor([3.1566]) tensor(3.) tensor(0) tensor(0)\n",
      "tensor([2.1106]) tensor(1.) tensor(0) tensor(0)\n",
      "tensor([2.4002]) tensor(2.) tensor(0) tensor(0)\n",
      "tensor([2.3833]) tensor(2.) tensor(0) tensor(0)\n",
      "tensor([2.1459]) tensor(1.) tensor(0) tensor(0)\n",
      "tensor([2.5017]) tensor(2.) tensor(0) tensor(0)\n",
      "tensor([3.1480]) tensor(4.) tensor(0) tensor(0)\n",
      "tensor([1.7642]) tensor(1.) tensor(1) tensor(1)\n",
      "tensor([2.0968]) tensor(2.) tensor(0) tensor(0)\n",
      "tensor([1.8325]) tensor(1.) tensor(0) tensor(0)\n",
      "tensor([2.4619]) tensor(2.) tensor(0) tensor(0)\n",
      "tensor([2.6541]) tensor(3.5000) tensor(0) tensor(0)\n",
      "tensor([3.9222]) tensor(4.) tensor(0) tensor(0)\n",
      "tensor([2.1182]) tensor(2.) tensor(1) tensor(0)\n",
      "tensor([2.0263]) tensor(2.) tensor(0) tensor(0)\n",
      "tensor([3.9064]) tensor(4.) tensor(0) tensor(0)\n",
      "tensor([2.7519]) tensor(3.) tensor(0) tensor(0)\n",
      "tensor([3.9285]) tensor(4.) tensor(0) tensor(0)\n",
      "tensor([2.2697]) tensor(3.) tensor(1) tensor(0)\n",
      "tensor([1.9180]) tensor(2.) tensor(0) tensor(0)\n",
      "tensor([2.3279]) tensor(3.) tensor(0) tensor(0)\n",
      "tensor([3.5017]) tensor(3.) tensor(1) tensor(0)\n",
      "tensor([1.7627]) tensor(1.5000) tensor(0) tensor(0)\n",
      "tensor([2.0030]) tensor(1.) tensor(0) tensor(0)\n",
      "tensor([2.1467]) tensor(2.) tensor(0) tensor(0)\n",
      "tensor([4.0835]) tensor(4.) tensor(0) tensor(0)\n",
      "tensor([2.1390]) tensor(2.) tensor(0) tensor(0)\n",
      "tensor([1.9791]) tensor(2.) tensor(0) tensor(0)\n",
      "tensor([2.1547]) tensor(2.) tensor(0) tensor(0)\n",
      "tensor([1.5656]) tensor(1.) tensor(0) tensor(0)\n",
      "tensor([2.4521]) tensor(3.) tensor(0) tensor(0)\n",
      "tensor([4.6308]) tensor(5.) tensor(0) tensor(0)\n",
      "tensor([2.3569]) tensor(2.) tensor(0) tensor(0)\n",
      "tensor([2.5205]) tensor(2.) tensor(0) tensor(0)\n",
      "tensor([2.3038]) tensor(2.) tensor(1) tensor(0)\n",
      "tensor([2.3021]) tensor(2.) tensor(1) tensor(0)\n",
      "tensor([2.2120]) tensor(2.5000) tensor(0) tensor(0)\n",
      "tensor([2.0842]) tensor(2.) tensor(1) tensor(0)\n",
      "tensor([2.4857]) tensor(1.) tensor(0) tensor(0)\n",
      "tensor([2.0015]) tensor(2.) tensor(0) tensor(0)\n",
      "tensor([3.4237]) tensor(3.) tensor(0) tensor(0)\n",
      "tensor([2.3535]) tensor(2.) tensor(0) tensor(0)\n",
      "tensor([3.0526]) tensor(3.) tensor(0) tensor(0)\n",
      "tensor([4.2330]) tensor(4.) tensor(0) tensor(0)\n",
      "tensor([2.0087]) tensor(1.5000) tensor(0) tensor(0)\n",
      "tensor([3.1053]) tensor(4.) tensor(0) tensor(0)\n",
      "tensor([1.9817]) tensor(2.) tensor(0) tensor(0)\n",
      "tensor([4.9072]) tensor(4.) tensor(0) tensor(0)\n",
      "tensor([2.4116]) tensor(3.) tensor(0) tensor(0)\n",
      "tensor([2.0016]) tensor(1.) tensor(0) tensor(0)\n",
      "tensor([3.0585]) tensor(3.) tensor(0) tensor(0)\n",
      "tensor([2.0369]) tensor(2.) tensor(1) tensor(0)\n",
      "tensor([2.1981]) tensor(1.5000) tensor(1) tensor(0)\n",
      "tensor([2.4912]) tensor(3.) tensor(0) tensor(0)\n",
      "tensor([2.0419]) tensor(2.) tensor(0) tensor(0)\n",
      "tensor([2.0773]) tensor(2.) tensor(0) tensor(0)\n",
      "tensor([1.9157]) tensor(2.) tensor(0) tensor(0)\n",
      "tensor([2.3132]) tensor(2.) tensor(0) tensor(0)\n",
      "tensor([2.3469]) tensor(4.) tensor(0) tensor(0)\n",
      "tensor([2.4125]) tensor(2.) tensor(0) tensor(0)\n",
      "tensor([2.1949]) tensor(2.) tensor(0) tensor(0)\n",
      "tensor([2.2576]) tensor(2.) tensor(0) tensor(0)\n",
      "tensor([2.4278]) tensor(2.) tensor(0) tensor(0)\n",
      "tensor([2.8862]) tensor(3.) tensor(0) tensor(0)\n",
      "tensor([3.6506]) tensor(2.) tensor(0) tensor(0)\n",
      "tensor([2.1163]) tensor(2.) tensor(0) tensor(0)\n",
      "tensor([2.5746]) tensor(2.) tensor(0) tensor(0)\n",
      "tensor([2.1800]) tensor(2.) tensor(0) tensor(0)\n",
      "tensor([3.2016]) tensor(4.) tensor(0) tensor(0)\n",
      "tensor([2.2581]) tensor(3.) tensor(0) tensor(0)\n",
      "tensor([2.9400]) tensor(5.) tensor(0) tensor(0)\n",
      "tensor([4.1912]) tensor(1.) tensor(0) tensor(1)\n",
      "tensor([1.9424]) tensor(2.) tensor(0) tensor(0)\n",
      "tensor([2.5803]) tensor(3.) tensor(0) tensor(0)\n",
      "tensor([4.5114]) tensor(3.) tensor(0) tensor(0)\n",
      "tensor([1.7819]) tensor(2.) tensor(0) tensor(0)\n",
      "tensor([3.0928]) tensor(4.) tensor(0) tensor(0)\n",
      "tensor([2.0766]) tensor(2.) tensor(0) tensor(0)\n",
      "tensor([4.7607]) tensor(5.) tensor(0) tensor(0)\n",
      "tensor([2.0745]) tensor(2.) tensor(0) tensor(0)\n",
      "tensor([2.1816]) tensor(2.) tensor(0) tensor(0)\n",
      "tensor([2.2127]) tensor(2.) tensor(0) tensor(0)\n",
      "tensor([3.0163]) tensor(3.) tensor(0) tensor(0)\n",
      "tensor([1.9251]) tensor(2.) tensor(0) tensor(0)\n",
      "tensor([3.4147]) tensor(3.) tensor(0) tensor(0)\n",
      "tensor([2.0419]) tensor(1.5000) tensor(0) tensor(0)\n",
      "tensor([2.4349]) tensor(1.5000) tensor(0) tensor(0)\n",
      "tensor([1.9899]) tensor(2.) tensor(0) tensor(0)\n",
      "tensor([1.7839]) tensor(1.5000) tensor(0) tensor(0)\n",
      "tensor([2.2230]) tensor(2.) tensor(0) tensor(0)\n",
      "tensor([1.8060]) tensor(2.) tensor(0) tensor(0)\n",
      "tensor([1.8450]) tensor(2.) tensor(0) tensor(0)\n",
      "tensor([2.2026]) tensor(2.) tensor(1) tensor(0)\n",
      "tensor([1.9857]) tensor(2.) tensor(0) tensor(0)\n",
      "tensor([2.4821]) tensor(2.) tensor(0) tensor(0)\n",
      "tensor([1.9697]) tensor(2.) tensor(0) tensor(0)\n",
      "tensor([1.9033]) tensor(2.) tensor(1) tensor(0)\n",
      "tensor([2.0255]) tensor(2.) tensor(0) tensor(0)\n",
      "tensor([2.8729]) tensor(4.) tensor(0) tensor(0)\n",
      "tensor([1.9008]) tensor(2.) tensor(0) tensor(0)\n",
      "tensor([1.8758]) tensor(2.) tensor(1) tensor(0)\n",
      "tensor([2.4400]) tensor(2.) tensor(0) tensor(0)\n",
      "tensor([2.6908]) tensor(2.) tensor(0) tensor(0)\n",
      "tensor([2.5664]) tensor(3.) tensor(0) tensor(0)\n",
      "tensor([1.6790]) tensor(2.) tensor(0) tensor(0)\n",
      "tensor([2.5025]) tensor(5.) tensor(1) tensor(0)\n",
      "tensor([2.3663]) tensor(2.) tensor(0) tensor(0)\n",
      "tensor([2.9806]) tensor(3.) tensor(0) tensor(0)\n",
      "tensor([1.9927]) tensor(2.) tensor(0) tensor(0)\n",
      "tensor([2.2887]) tensor(2.) tensor(0) tensor(0)\n",
      "tensor([2.0281]) tensor(2.) tensor(0) tensor(0)\n",
      "tensor([1.8969]) tensor(2.) tensor(0) tensor(0)\n",
      "tensor([1.9250]) tensor(3.) tensor(0) tensor(0)\n",
      "tensor([2.0318]) tensor(2.) tensor(1) tensor(0)\n",
      "tensor([2.5399]) tensor(2.) tensor(0) tensor(0)\n",
      "tensor([2.2997]) tensor(3.) tensor(0) tensor(0)\n",
      "tensor([1.7630]) tensor(2.) tensor(0) tensor(0)\n",
      "tensor([2.0859]) tensor(2.) tensor(0) tensor(0)\n",
      "tensor([3.8814]) tensor(3.) tensor(0) tensor(0)\n",
      "tensor([2.8590]) tensor(3.) tensor(0) tensor(0)\n",
      "tensor([2.0627]) tensor(2.) tensor(0) tensor(0)\n",
      "tensor([3.1290]) tensor(3.) tensor(0) tensor(0)\n",
      "tensor([2.1621]) tensor(3.) tensor(0) tensor(0)\n"
     ]
    },
    {
     "name": "stdout",
     "output_type": "stream",
     "text": [
      "tensor([2.1173]) tensor(2.5000) tensor(0) tensor(0)\n",
      "tensor([2.3668]) tensor(1.5000) tensor(0) tensor(0)\n",
      "tensor([1.9547]) tensor(2.) tensor(0) tensor(0)\n",
      "tensor([2.1861]) tensor(3.) tensor(0) tensor(0)\n",
      "tensor([2.0737]) tensor(2.5000) tensor(0) tensor(0)\n",
      "tensor([4.6645]) tensor(5.) tensor(0) tensor(0)\n",
      "tensor([2.9889]) tensor(3.) tensor(0) tensor(0)\n",
      "tensor([2.0715]) tensor(2.) tensor(0) tensor(0)\n",
      "tensor([2.6372]) tensor(2.) tensor(0) tensor(0)\n",
      "tensor([2.2347]) tensor(2.) tensor(0) tensor(0)\n",
      "tensor([2.3114]) tensor(1.5000) tensor(0) tensor(0)\n",
      "tensor([2.3449]) tensor(2.) tensor(0) tensor(0)\n",
      "tensor([4.5768]) tensor(5.) tensor(0) tensor(0)\n",
      "tensor([2.2603]) tensor(2.) tensor(0) tensor(0)\n",
      "tensor([1.9922]) tensor(1.) tensor(0) tensor(0)\n",
      "tensor([2.2241]) tensor(2.) tensor(0) tensor(0)\n",
      "tensor([2.2776]) tensor(3.) tensor(0) tensor(0)\n",
      "tensor([2.7774]) tensor(4.) tensor(0) tensor(0)\n",
      "tensor([1.9501]) tensor(2.) tensor(0) tensor(0)\n",
      "tensor([2.0704]) tensor(2.5000) tensor(0) tensor(0)\n",
      "tensor([1.9076]) tensor(2.) tensor(0) tensor(0)\n",
      "tensor([2.0995]) tensor(2.) tensor(0) tensor(0)\n",
      "tensor([2.1035]) tensor(2.) tensor(0) tensor(0)\n",
      "tensor([2.0297]) tensor(2.) tensor(0) tensor(0)\n",
      "tensor([2.1824]) tensor(3.) tensor(0) tensor(0)\n",
      "tensor([3.7268]) tensor(4.) tensor(0) tensor(0)\n",
      "tensor([1.7851]) tensor(2.) tensor(0) tensor(0)\n",
      "tensor([2.1309]) tensor(2.) tensor(0) tensor(0)\n",
      "tensor([4.0194]) tensor(1.) tensor(0) tensor(0)\n",
      "tensor([2.0258]) tensor(2.) tensor(0) tensor(0)\n",
      "tensor([2.5107]) tensor(3.) tensor(1) tensor(0)\n",
      "tensor([1.8948]) tensor(2.) tensor(0) tensor(0)\n",
      "tensor([2.9463]) tensor(4.) tensor(0) tensor(0)\n",
      "tensor([2.2571]) tensor(2.) tensor(0) tensor(0)\n",
      "tensor([1.9397]) tensor(2.) tensor(0) tensor(0)\n",
      "tensor([1.6510]) tensor(1.) tensor(1) tensor(0)\n",
      "tensor([2.2817]) tensor(1.) tensor(0) tensor(0)\n",
      "tensor([1.5308]) tensor(1.) tensor(0) tensor(0)\n",
      "tensor([4.2231]) tensor(4.) tensor(0) tensor(0)\n",
      "tensor([2.0400]) tensor(2.) tensor(0) tensor(0)\n",
      "tensor([2.0013]) tensor(2.) tensor(0) tensor(0)\n",
      "tensor([2.3561]) tensor(3.) tensor(0) tensor(0)\n",
      "tensor([2.6394]) tensor(3.) tensor(0) tensor(0)\n",
      "tensor([2.0916]) tensor(1.5000) tensor(1) tensor(0)\n",
      "tensor([2.5662]) tensor(2.) tensor(0) tensor(0)\n",
      "tensor([2.2200]) tensor(2.) tensor(0) tensor(0)\n",
      "tensor([1.7524]) tensor(2.) tensor(0) tensor(0)\n",
      "tensor([2.5714]) tensor(2.) tensor(0) tensor(0)\n",
      "tensor([2.3315]) tensor(4.) tensor(0) tensor(0)\n",
      "tensor([2.1171]) tensor(3.) tensor(0) tensor(0)\n",
      "tensor([2.0328]) tensor(2.) tensor(0) tensor(0)\n",
      "tensor([1.9904]) tensor(2.) tensor(0) tensor(0)\n",
      "tensor([3.3963]) tensor(4.) tensor(0) tensor(0)\n",
      "tensor([2.6311]) tensor(3.) tensor(0) tensor(0)\n",
      "tensor([2.1938]) tensor(3.) tensor(0) tensor(0)\n",
      "tensor([3.0888]) tensor(2.) tensor(0) tensor(0)\n",
      "tensor([2.3320]) tensor(2.) tensor(0) tensor(0)\n",
      "tensor([1.9677]) tensor(2.) tensor(0) tensor(0)\n",
      "tensor([2.1559]) tensor(2.) tensor(0) tensor(0)\n",
      "tensor([3.3812]) tensor(3.) tensor(0) tensor(0)\n",
      "tensor([2.2550]) tensor(2.) tensor(0) tensor(0)\n",
      "tensor([1.6296]) tensor(2.) tensor(0) tensor(0)\n",
      "tensor([2.2915]) tensor(3.) tensor(0) tensor(0)\n",
      "tensor([2.0169]) tensor(2.) tensor(0) tensor(0)\n",
      "tensor([1.5006]) tensor(1.) tensor(0) tensor(0)\n",
      "tensor([3.8819]) tensor(5.) tensor(0) tensor(0)\n",
      "tensor([3.4315]) tensor(4.) tensor(0) tensor(0)\n",
      "tensor([2.9442]) tensor(3.) tensor(0) tensor(0)\n",
      "tensor([3.5339]) tensor(4.) tensor(0) tensor(0)\n",
      "tensor([1.8073]) tensor(2.) tensor(1) tensor(0)\n",
      "tensor([2.3807]) tensor(3.) tensor(0) tensor(0)\n",
      "tensor([2.4650]) tensor(2.) tensor(0) tensor(0)\n",
      "tensor([1.9410]) tensor(2.) tensor(0) tensor(0)\n",
      "tensor([2.1264]) tensor(2.) tensor(0) tensor(0)\n",
      "tensor([4.4334]) tensor(5.) tensor(0) tensor(0)\n",
      "tensor([2.1596]) tensor(2.) tensor(0) tensor(0)\n",
      "tensor([2.2693]) tensor(1.) tensor(0) tensor(0)\n",
      "tensor([1.9136]) tensor(1.) tensor(0) tensor(0)\n",
      "tensor([2.3067]) tensor(2.) tensor(0) tensor(0)\n",
      "tensor([1.5733]) tensor(1.5000) tensor(0) tensor(0)\n",
      "tensor([2.1768]) tensor(2.) tensor(0) tensor(0)\n",
      "tensor([4.2942]) tensor(4.) tensor(0) tensor(0)\n",
      "tensor([3.0051]) tensor(2.) tensor(0) tensor(0)\n",
      "tensor([2.2769]) tensor(3.) tensor(0) tensor(0)\n",
      "tensor([1.9468]) tensor(2.) tensor(0) tensor(0)\n",
      "tensor([2.5381]) tensor(1.) tensor(0) tensor(0)\n",
      "tensor([1.9081]) tensor(1.) tensor(0) tensor(0)\n",
      "tensor([2.0761]) tensor(2.) tensor(0) tensor(0)\n",
      "tensor([2.2139]) tensor(3.) tensor(1) tensor(0)\n",
      "tensor([4.0694]) tensor(4.) tensor(0) tensor(0)\n",
      "tensor([2.9052]) tensor(3.) tensor(0) tensor(0)\n",
      "tensor([2.9737]) tensor(3.) tensor(1) tensor(0)\n",
      "tensor([1.9617]) tensor(1.5000) tensor(0) tensor(0)\n",
      "tensor([2.0684]) tensor(2.) tensor(0) tensor(0)\n",
      "tensor([1.8218]) tensor(2.) tensor(0) tensor(0)\n",
      "tensor([3.7566]) tensor(4.5000) tensor(0) tensor(0)\n",
      "tensor([2.0698]) tensor(2.) tensor(0) tensor(0)\n",
      "tensor([2.3319]) tensor(2.) tensor(0) tensor(0)\n",
      "tensor([2.0103]) tensor(2.) tensor(0) tensor(0)\n",
      "tensor([1.9580]) tensor(2.) tensor(1) tensor(0)\n",
      "tensor([2.0763]) tensor(1.6667) tensor(0) tensor(0)\n",
      "tensor([2.5489]) tensor(3.) tensor(0) tensor(0)\n",
      "tensor([2.1256]) tensor(2.) tensor(0) tensor(0)\n",
      "tensor([2.5018]) tensor(3.) tensor(0) tensor(0)\n",
      "tensor([1.7104]) tensor(2.) tensor(0) tensor(0)\n",
      "tensor([2.7053]) tensor(3.) tensor(0) tensor(0)\n",
      "tensor([2.2558]) tensor(2.) tensor(0) tensor(0)\n",
      "tensor([1.7589]) tensor(2.) tensor(0) tensor(0)\n",
      "tensor([2.6814]) tensor(2.) tensor(0) tensor(0)\n",
      "tensor([2.3348]) tensor(3.) tensor(1) tensor(0)\n",
      "tensor([2.2057]) tensor(2.) tensor(0) tensor(0)\n",
      "tensor([1.8520]) tensor(2.) tensor(0) tensor(0)\n",
      "tensor([2.0061]) tensor(3.) tensor(1) tensor(0)\n",
      "tensor([2.4433]) tensor(2.) tensor(0) tensor(0)\n",
      "tensor([1.9221]) tensor(2.) tensor(0) tensor(0)\n",
      "tensor([1.9771]) tensor(2.5000) tensor(0) tensor(0)\n",
      "tensor([2.1788]) tensor(2.) tensor(0) tensor(0)\n",
      "tensor([2.2550]) tensor(4.) tensor(0) tensor(0)\n",
      "tensor([2.7191]) tensor(3.) tensor(0) tensor(0)\n",
      "tensor([4.0367]) tensor(4.) tensor(0) tensor(0)\n",
      "tensor([3.2429]) tensor(3.) tensor(0) tensor(0)\n",
      "tensor([2.9860]) tensor(3.) tensor(0) tensor(0)\n",
      "tensor([2.0478]) tensor(2.) tensor(0) tensor(0)\n",
      "tensor([2.1367]) tensor(2.) tensor(0) tensor(0)\n",
      "tensor([1.8128]) tensor(2.) tensor(0) tensor(0)\n",
      "tensor([2.6349]) tensor(2.) tensor(0) tensor(0)\n",
      "tensor([1.9557]) tensor(2.) tensor(0) tensor(0)\n",
      "tensor([2.4804]) tensor(3.) tensor(0) tensor(0)\n",
      "tensor([4.2640]) tensor(4.) tensor(0) tensor(0)\n",
      "tensor([2.2272]) tensor(2.) tensor(1) tensor(0)\n",
      "tensor([2.3546]) tensor(2.) tensor(0) tensor(1)\n",
      "tensor([1.9587]) tensor(2.) tensor(0) tensor(0)\n",
      "tensor([2.2369]) tensor(2.) tensor(0) tensor(0)\n",
      "tensor([2.3177]) tensor(2.) tensor(0) tensor(0)\n",
      "tensor([2.0655]) tensor(3.) tensor(0) tensor(0)\n",
      "tensor([2.6914]) tensor(3.) tensor(0) tensor(0)\n",
      "tensor([1.8837]) tensor(2.) tensor(0) tensor(0)\n",
      "tensor([2.3385]) tensor(2.) tensor(0) tensor(0)\n",
      "tensor([1.8683]) tensor(2.) tensor(0) tensor(0)\n",
      "tensor([2.2615]) tensor(1.) tensor(0) tensor(0)\n",
      "tensor([2.2384]) tensor(3.) tensor(0) tensor(0)\n",
      "tensor([1.8734]) tensor(2.) tensor(1) tensor(0)\n",
      "tensor([2.4209]) tensor(2.) tensor(0) tensor(0)\n",
      "tensor([2.4027]) tensor(2.) tensor(1) tensor(0)\n",
      "tensor([2.3551]) tensor(2.) tensor(0) tensor(0)\n",
      "tensor([2.1484]) tensor(1.5000) tensor(0) tensor(0)\n",
      "tensor([3.0099]) tensor(3.) tensor(0) tensor(0)\n",
      "tensor([2.9412]) tensor(3.) tensor(0) tensor(0)\n",
      "tensor([2.2316]) tensor(2.) tensor(0) tensor(0)\n",
      "tensor([3.0886]) tensor(3.) tensor(0) tensor(0)\n",
      "tensor([2.9476]) tensor(4.) tensor(0) tensor(0)\n",
      "tensor([3.6187]) tensor(4.) tensor(0) tensor(0)\n",
      "tensor([2.4040]) tensor(2.) tensor(0) tensor(0)\n",
      "tensor([2.6526]) tensor(3.) tensor(0) tensor(0)\n",
      "tensor([3.5908]) tensor(3.) tensor(0) tensor(0)\n",
      "tensor([2.0637]) tensor(2.) tensor(0) tensor(0)\n",
      "tensor([2.9533]) tensor(2.) tensor(0) tensor(0)\n",
      "tensor([1.8505]) tensor(2.) tensor(0) tensor(0)\n",
      "tensor([1.7146]) tensor(1.) tensor(0) tensor(0)\n",
      "tensor([2.0003]) tensor(2.) tensor(0) tensor(0)\n",
      "tensor([2.1217]) tensor(2.) tensor(0) tensor(0)\n",
      "tensor([4.3070]) tensor(4.) tensor(0) tensor(0)\n",
      "tensor([2.7519]) tensor(3.) tensor(0) tensor(0)\n",
      "tensor([2.0254]) tensor(2.) tensor(0) tensor(0)\n",
      "tensor([2.7194]) tensor(2.) tensor(0) tensor(0)\n",
      "tensor([2.0076]) tensor(2.) tensor(0) tensor(0)\n",
      "tensor([2.3090]) tensor(2.) tensor(0) tensor(0)\n",
      "tensor([2.0317]) tensor(3.) tensor(0) tensor(0)\n",
      "tensor([1.8103]) tensor(2.) tensor(0) tensor(0)\n",
      "tensor([2.8862]) tensor(3.) tensor(0) tensor(0)\n",
      "tensor([2.0954]) tensor(2.) tensor(0) tensor(0)\n",
      "tensor([2.6121]) tensor(3.) tensor(0) tensor(0)\n",
      "tensor([2.1050]) tensor(2.) tensor(0) tensor(0)\n",
      "tensor([2.6487]) tensor(3.) tensor(0) tensor(0)\n",
      "tensor([1.9006]) tensor(2.) tensor(0) tensor(0)\n",
      "tensor([1.9319]) tensor(1.) tensor(0) tensor(0)\n",
      "tensor([2.0278]) tensor(3.) tensor(0) tensor(0)\n",
      "tensor([3.0948]) tensor(3.) tensor(0) tensor(0)\n",
      "tensor([2.9918]) tensor(3.) tensor(0) tensor(0)\n",
      "tensor([1.7263]) tensor(2.) tensor(0) tensor(0)\n",
      "tensor([4.1576]) tensor(4.) tensor(0) tensor(0)\n",
      "tensor([4.4854]) tensor(5.) tensor(0) tensor(0)\n",
      "tensor([2.6773]) tensor(3.) tensor(0) tensor(0)\n",
      "tensor([2.0260]) tensor(2.) tensor(0) tensor(0)\n",
      "tensor([1.9631]) tensor(2.) tensor(0) tensor(0)\n",
      "tensor([1.8515]) tensor(2.) tensor(0) tensor(0)\n",
      "tensor([2.0577]) tensor(2.) tensor(0) tensor(0)\n",
      "tensor([2.2975]) tensor(2.) tensor(0) tensor(0)\n",
      "tensor([1.9600]) tensor(2.) tensor(0) tensor(0)\n",
      "tensor([3.7870]) tensor(4.) tensor(0) tensor(0)\n",
      "tensor([2.1941]) tensor(2.) tensor(0) tensor(0)\n",
      "tensor([2.0360]) tensor(2.) tensor(0) tensor(0)\n",
      "tensor([2.2246]) tensor(3.) tensor(0) tensor(0)\n",
      "tensor([2.4186]) tensor(3.) tensor(0) tensor(0)\n",
      "tensor([2.1780]) tensor(2.) tensor(0) tensor(0)\n",
      "tensor([2.9232]) tensor(3.) tensor(0) tensor(0)\n",
      "tensor([2.5784]) tensor(3.) tensor(0) tensor(0)\n",
      "tensor([2.2830]) tensor(1.) tensor(0) tensor(0)\n",
      "tensor([2.2003]) tensor(3.) tensor(0) tensor(0)\n",
      "tensor([2.1146]) tensor(2.) tensor(0) tensor(0)\n",
      "tensor([2.1977]) tensor(2.) tensor(0) tensor(0)\n",
      "tensor([2.0895]) tensor(2.) tensor(1) tensor(1)\n",
      "tensor([2.1357]) tensor(3.) tensor(0) tensor(0)\n",
      "tensor([2.3254]) tensor(2.) tensor(0) tensor(0)\n",
      "tensor([2.4578]) tensor(3.) tensor(0) tensor(0)\n",
      "tensor([2.2169]) tensor(2.) tensor(0) tensor(0)\n",
      "tensor([2.3668]) tensor(3.) tensor(0) tensor(0)\n",
      "tensor([2.2124]) tensor(2.) tensor(0) tensor(0)\n",
      "tensor([1.9133]) tensor(2.) tensor(0) tensor(0)\n",
      "tensor([2.1798]) tensor(2.) tensor(0) tensor(0)\n",
      "tensor([3.5342]) tensor(3.) tensor(0) tensor(0)\n",
      "tensor([2.0307]) tensor(1.5000) tensor(0) tensor(0)\n",
      "tensor([2.2210]) tensor(2.) tensor(0) tensor(0)\n",
      "tensor([3.9328]) tensor(4.) tensor(0) tensor(0)\n",
      "tensor([1.9312]) tensor(2.) tensor(0) tensor(0)\n",
      "tensor([3.4017]) tensor(4.) tensor(0) tensor(0)\n",
      "tensor([2.1683]) tensor(3.) tensor(0) tensor(0)\n",
      "tensor([3.4410]) tensor(3.) tensor(0) tensor(0)\n",
      "tensor([2.2943]) tensor(2.) tensor(0) tensor(0)\n",
      "tensor([1.9287]) tensor(2.) tensor(0) tensor(0)\n",
      "tensor([1.7552]) tensor(1.5000) tensor(1) tensor(0)\n",
      "tensor([2.4401]) tensor(1.5000) tensor(0) tensor(0)\n",
      "tensor([4.2115]) tensor(4.) tensor(0) tensor(0)\n",
      "tensor([1.8819]) tensor(1.5000) tensor(1) tensor(0)\n",
      "tensor([1.9936]) tensor(2.) tensor(0) tensor(0)\n",
      "tensor([3.2793]) tensor(4.) tensor(0) tensor(0)\n",
      "tensor([1.9301]) tensor(1.5000) tensor(1) tensor(0)\n",
      "tensor([3.8696]) tensor(3.) tensor(0) tensor(0)\n",
      "tensor([3.9171]) tensor(4.) tensor(0) tensor(0)\n",
      "tensor([1.9104]) tensor(1.) tensor(1) tensor(0)\n",
      "tensor([1.9115]) tensor(2.) tensor(0) tensor(0)\n",
      "tensor([3.9201]) tensor(4.) tensor(0) tensor(0)\n",
      "tensor([2.1700]) tensor(2.) tensor(0) tensor(0)\n",
      "tensor([2.9004]) tensor(2.) tensor(0) tensor(0)\n",
      "tensor([2.6462]) tensor(3.) tensor(0) tensor(0)\n",
      "tensor([1.7453]) tensor(2.) tensor(0) tensor(0)\n",
      "tensor([2.9736]) tensor(3.) tensor(0) tensor(0)\n",
      "tensor([2.2227]) tensor(2.) tensor(1) tensor(0)\n",
      "tensor([2.3439]) tensor(3.) tensor(0) tensor(0)\n",
      "tensor([2.1824]) tensor(2.) tensor(0) tensor(0)\n",
      "tensor([2.1330]) tensor(2.) tensor(1) tensor(1)\n",
      "tensor([2.5654]) tensor(3.) tensor(0) tensor(0)\n"
     ]
    },
    {
     "name": "stdout",
     "output_type": "stream",
     "text": [
      "tensor([4.5139]) tensor(4.5000) tensor(0) tensor(0)\n",
      "tensor([2.5406]) tensor(3.) tensor(0) tensor(0)\n",
      "tensor([2.0587]) tensor(2.) tensor(0) tensor(0)\n",
      "tensor([4.7169]) tensor(4.) tensor(0) tensor(0)\n",
      "tensor([2.3372]) tensor(3.) tensor(0) tensor(0)\n",
      "tensor([2.7880]) tensor(3.) tensor(0) tensor(0)\n",
      "tensor([1.9271]) tensor(2.) tensor(0) tensor(0)\n",
      "tensor([4.0122]) tensor(2.) tensor(0) tensor(0)\n",
      "tensor([2.8225]) tensor(3.) tensor(0) tensor(0)\n",
      "tensor([2.1417]) tensor(2.) tensor(0) tensor(0)\n",
      "tensor([3.6945]) tensor(5.) tensor(0) tensor(0)\n",
      "tensor([2.3723]) tensor(2.) tensor(0) tensor(0)\n",
      "tensor([2.1757]) tensor(2.) tensor(1) tensor(0)\n",
      "tensor([2.2910]) tensor(3.) tensor(0) tensor(0)\n",
      "tensor([1.8355]) tensor(2.) tensor(1) tensor(1)\n",
      "tensor([2.0148]) tensor(2.) tensor(0) tensor(0)\n",
      "tensor([1.8804]) tensor(2.) tensor(0) tensor(0)\n",
      "tensor([1.9096]) tensor(2.) tensor(1) tensor(0)\n",
      "tensor([4.5670]) tensor(4.5000) tensor(0) tensor(0)\n",
      "tensor([2.6544]) tensor(3.) tensor(0) tensor(0)\n",
      "tensor([2.1834]) tensor(2.) tensor(0) tensor(0)\n",
      "tensor([4.4811]) tensor(5.) tensor(0) tensor(0)\n",
      "tensor([1.9741]) tensor(2.) tensor(0) tensor(0)\n",
      "tensor([2.2356]) tensor(2.) tensor(0) tensor(0)\n",
      "tensor([1.8941]) tensor(2.) tensor(0) tensor(0)\n",
      "tensor([3.3094]) tensor(5.) tensor(0) tensor(0)\n",
      "tensor([2.3037]) tensor(2.) tensor(0) tensor(0)\n",
      "tensor([2.3635]) tensor(2.) tensor(0) tensor(0)\n",
      "tensor([2.4803]) tensor(2.) tensor(0) tensor(0)\n",
      "tensor([3.0390]) tensor(3.) tensor(0) tensor(0)\n",
      "tensor([3.9113]) tensor(4.) tensor(0) tensor(0)\n",
      "tensor([2.1185]) tensor(2.) tensor(0) tensor(0)\n",
      "tensor([2.6502]) tensor(3.) tensor(0) tensor(0)\n",
      "tensor([2.7750]) tensor(2.) tensor(0) tensor(0)\n",
      "tensor([2.3444]) tensor(3.) tensor(0) tensor(0)\n",
      "tensor([2.2558]) tensor(2.) tensor(0) tensor(0)\n",
      "tensor([2.0443]) tensor(2.) tensor(0) tensor(0)\n",
      "tensor([2.6054]) tensor(2.) tensor(0) tensor(0)\n",
      "tensor([2.1688]) tensor(3.) tensor(1) tensor(0)\n",
      "tensor([1.9264]) tensor(1.5000) tensor(1) tensor(0)\n",
      "tensor([2.3842]) tensor(3.) tensor(0) tensor(0)\n",
      "tensor([2.4989]) tensor(2.) tensor(0) tensor(0)\n",
      "tensor([2.5627]) tensor(3.) tensor(0) tensor(0)\n",
      "tensor([2.5084]) tensor(3.) tensor(0) tensor(0)\n",
      "tensor([1.9611]) tensor(3.) tensor(0) tensor(0)\n",
      "tensor([4.3111]) tensor(4.) tensor(0) tensor(0)\n",
      "tensor([2.1769]) tensor(3.) tensor(1) tensor(0)\n",
      "tensor([4.0408]) tensor(4.) tensor(0) tensor(0)\n",
      "tensor([2.2248]) tensor(2.) tensor(0) tensor(0)\n",
      "tensor([1.8895]) tensor(2.) tensor(0) tensor(0)\n",
      "tensor([2.2168]) tensor(2.) tensor(1) tensor(0)\n",
      "tensor([2.5731]) tensor(2.) tensor(0) tensor(0)\n",
      "tensor([4.0657]) tensor(3.) tensor(0) tensor(0)\n",
      "tensor([2.7059]) tensor(3.) tensor(0) tensor(0)\n",
      "tensor([1.7770]) tensor(1.) tensor(0) tensor(0)\n",
      "tensor([2.3641]) tensor(3.) tensor(0) tensor(0)\n",
      "tensor([2.1838]) tensor(2.) tensor(0) tensor(0)\n",
      "tensor([1.8677]) tensor(4.) tensor(0) tensor(0)\n",
      "tensor([1.9008]) tensor(2.) tensor(0) tensor(0)\n",
      "tensor([1.9043]) tensor(2.) tensor(0) tensor(0)\n",
      "tensor([1.7609]) tensor(2.) tensor(0) tensor(0)\n",
      "tensor([2.0109]) tensor(2.) tensor(0) tensor(0)\n",
      "tensor([1.6044]) tensor(2.) tensor(0) tensor(0)\n",
      "tensor([2.2364]) tensor(2.) tensor(0) tensor(0)\n",
      "tensor([3.1573]) tensor(4.) tensor(1) tensor(0)\n",
      "tensor([2.5977]) tensor(3.) tensor(0) tensor(0)\n",
      "tensor([2.6521]) tensor(3.) tensor(0) tensor(0)\n",
      "tensor([1.5320]) tensor(2.) tensor(0) tensor(0)\n",
      "tensor([2.0100]) tensor(2.) tensor(0) tensor(0)\n",
      "tensor([2.3425]) tensor(2.) tensor(0) tensor(0)\n",
      "tensor([2.0244]) tensor(2.) tensor(0) tensor(0)\n",
      "tensor([1.8819]) tensor(2.) tensor(0) tensor(0)\n",
      "tensor([1.9790]) tensor(2.) tensor(1) tensor(0)\n",
      "tensor([2.5213]) tensor(2.) tensor(0) tensor(0)\n",
      "tensor([1.9336]) tensor(2.) tensor(0) tensor(0)\n",
      "tensor([2.2794]) tensor(2.) tensor(0) tensor(0)\n",
      "tensor([2.0728]) tensor(2.) tensor(0) tensor(0)\n",
      "tensor([2.6309]) tensor(3.) tensor(0) tensor(0)\n",
      "tensor([2.0243]) tensor(2.) tensor(0) tensor(0)\n",
      "tensor([2.2011]) tensor(2.) tensor(0) tensor(0)\n",
      "tensor([1.9519]) tensor(2.) tensor(0) tensor(0)\n",
      "tensor([2.2781]) tensor(3.) tensor(0) tensor(0)\n",
      "tensor([2.8313]) tensor(4.) tensor(0) tensor(0)\n",
      "tensor([3.8001]) tensor(4.) tensor(0) tensor(0)\n",
      "tensor([1.8141]) tensor(2.) tensor(0) tensor(0)\n",
      "tensor([3.4113]) tensor(3.) tensor(0) tensor(0)\n",
      "tensor([1.9946]) tensor(1.) tensor(1) tensor(0)\n",
      "tensor([1.9045]) tensor(2.) tensor(0) tensor(0)\n",
      "tensor([1.8388]) tensor(2.) tensor(0) tensor(0)\n",
      "tensor([1.8673]) tensor(2.) tensor(0) tensor(0)\n",
      "tensor([3.1206]) tensor(3.) tensor(0) tensor(0)\n",
      "tensor([2.0763]) tensor(2.) tensor(0) tensor(0)\n",
      "tensor([1.6187]) tensor(2.) tensor(0) tensor(0)\n",
      "tensor([3.4472]) tensor(3.) tensor(0) tensor(0)\n",
      "tensor([1.6712]) tensor(1.) tensor(0) tensor(0)\n",
      "tensor([1.9278]) tensor(2.) tensor(0) tensor(0)\n",
      "tensor([2.0221]) tensor(2.) tensor(1) tensor(0)\n",
      "tensor([2.2306]) tensor(3.) tensor(0) tensor(0)\n",
      "tensor([3.7440]) tensor(5.) tensor(0) tensor(0)\n",
      "tensor([1.3848]) tensor(1.5000) tensor(0) tensor(0)\n",
      "tensor([1.9490]) tensor(2.) tensor(0) tensor(0)\n",
      "tensor([2.2610]) tensor(2.) tensor(0) tensor(0)\n",
      "tensor([2.1993]) tensor(2.) tensor(0) tensor(0)\n",
      "tensor([2.3155]) tensor(2.) tensor(0) tensor(0)\n",
      "tensor([2.3736]) tensor(2.) tensor(0) tensor(0)\n",
      "tensor([2.5338]) tensor(2.5000) tensor(0) tensor(0)\n",
      "tensor([3.0771]) tensor(3.) tensor(0) tensor(0)\n",
      "tensor([4.1919]) tensor(5.) tensor(0) tensor(0)\n",
      "tensor([2.8415]) tensor(3.) tensor(0) tensor(0)\n",
      "tensor([1.9599]) tensor(2.) tensor(0) tensor(0)\n",
      "tensor([2.3024]) tensor(2.) tensor(0) tensor(0)\n",
      "tensor([1.9360]) tensor(1.) tensor(0) tensor(0)\n",
      "tensor([2.4427]) tensor(3.) tensor(0) tensor(0)\n",
      "tensor([2.1183]) tensor(2.) tensor(0) tensor(0)\n",
      "tensor([2.1081]) tensor(2.) tensor(0) tensor(0)\n",
      "tensor([2.5047]) tensor(1.) tensor(0) tensor(0)\n",
      "tensor([2.0764]) tensor(2.) tensor(1) tensor(0)\n",
      "tensor([2.5769]) tensor(2.) tensor(0) tensor(0)\n",
      "tensor([1.9842]) tensor(2.) tensor(0) tensor(0)\n",
      "tensor([2.0380]) tensor(2.) tensor(1) tensor(0)\n",
      "tensor([1.5766]) tensor(2.) tensor(1) tensor(0)\n",
      "tensor([2.0120]) tensor(3.) tensor(0) tensor(0)\n",
      "tensor([2.1255]) tensor(2.) tensor(0) tensor(0)\n",
      "tensor([1.7306]) tensor(1.) tensor(0) tensor(0)\n",
      "tensor([2.1047]) tensor(3.) tensor(0) tensor(0)\n",
      "tensor([2.1692]) tensor(2.) tensor(0) tensor(0)\n",
      "tensor([1.6352]) tensor(2.) tensor(0) tensor(0)\n",
      "tensor([4.4262]) tensor(4.) tensor(0) tensor(0)\n",
      "tensor([1.8011]) tensor(2.) tensor(0) tensor(0)\n",
      "tensor([1.9395]) tensor(2.) tensor(1) tensor(0)\n",
      "tensor([2.5414]) tensor(2.) tensor(0) tensor(0)\n",
      "tensor([1.9621]) tensor(2.) tensor(0) tensor(0)\n",
      "tensor([2.0606]) tensor(2.) tensor(0) tensor(0)\n",
      "tensor([2.0861]) tensor(3.) tensor(0) tensor(0)\n",
      "tensor([2.1061]) tensor(2.) tensor(0) tensor(0)\n",
      "tensor([2.5165]) tensor(2.5000) tensor(0) tensor(0)\n",
      "tensor([3.9927]) tensor(5.) tensor(0) tensor(0)\n",
      "tensor([2.2698]) tensor(2.) tensor(0) tensor(0)\n",
      "tensor([2.0057]) tensor(2.) tensor(0) tensor(0)\n",
      "tensor([2.1288]) tensor(2.) tensor(0) tensor(0)\n",
      "tensor([2.1528]) tensor(2.) tensor(0) tensor(0)\n",
      "tensor([3.0272]) tensor(3.) tensor(0) tensor(0)\n",
      "tensor([4.1006]) tensor(5.) tensor(0) tensor(0)\n",
      "tensor([1.8958]) tensor(2.) tensor(1) tensor(0)\n",
      "tensor([2.0696]) tensor(2.) tensor(0) tensor(0)\n",
      "tensor([2.1233]) tensor(2.) tensor(0) tensor(0)\n",
      "tensor([1.8350]) tensor(2.) tensor(0) tensor(0)\n",
      "tensor([4.3457]) tensor(4.) tensor(0) tensor(0)\n",
      "tensor([4.0489]) tensor(3.) tensor(0) tensor(0)\n",
      "tensor([2.0129]) tensor(2.) tensor(0) tensor(0)\n",
      "tensor([1.7836]) tensor(2.) tensor(0) tensor(0)\n",
      "tensor([2.4584]) tensor(2.) tensor(0) tensor(0)\n",
      "tensor([2.4125]) tensor(2.) tensor(0) tensor(0)\n",
      "tensor([2.1184]) tensor(2.) tensor(0) tensor(0)\n",
      "tensor([2.0566]) tensor(3.) tensor(0) tensor(0)\n",
      "tensor([2.2781]) tensor(2.) tensor(0) tensor(0)\n",
      "tensor([1.8686]) tensor(2.) tensor(0) tensor(0)\n",
      "tensor([2.3792]) tensor(2.) tensor(0) tensor(0)\n",
      "tensor([2.0439]) tensor(2.) tensor(0) tensor(0)\n",
      "tensor([1.7419]) tensor(1.) tensor(0) tensor(0)\n",
      "tensor([4.1510]) tensor(4.) tensor(0) tensor(0)\n",
      "tensor([2.2040]) tensor(2.) tensor(0) tensor(0)\n",
      "tensor([2.4687]) tensor(1.) tensor(0) tensor(0)\n",
      "tensor([4.0609]) tensor(5.) tensor(0) tensor(0)\n",
      "tensor([2.3607]) tensor(2.) tensor(0) tensor(0)\n",
      "tensor([1.5515]) tensor(2.) tensor(0) tensor(0)\n",
      "tensor([2.8337]) tensor(2.) tensor(0) tensor(0)\n",
      "tensor([1.8383]) tensor(2.) tensor(0) tensor(0)\n",
      "tensor([2.1762]) tensor(2.5000) tensor(0) tensor(0)\n",
      "tensor([1.8904]) tensor(2.) tensor(0) tensor(0)\n",
      "tensor([1.9322]) tensor(2.) tensor(0) tensor(0)\n",
      "tensor([1.9739]) tensor(2.) tensor(0) tensor(0)\n",
      "tensor([2.6792]) tensor(3.) tensor(0) tensor(0)\n",
      "tensor([2.5111]) tensor(3.) tensor(0) tensor(0)\n",
      "tensor([2.2638]) tensor(2.) tensor(0) tensor(0)\n",
      "tensor([1.9241]) tensor(2.) tensor(1) tensor(0)\n",
      "tensor([3.0213]) tensor(3.) tensor(0) tensor(0)\n",
      "tensor([1.6093]) tensor(2.) tensor(0) tensor(0)\n",
      "tensor([2.2195]) tensor(1.) tensor(1) tensor(0)\n",
      "tensor([2.0518]) tensor(2.) tensor(0) tensor(0)\n",
      "tensor([1.4223]) tensor(1.) tensor(1) tensor(0)\n",
      "tensor([3.0288]) tensor(4.) tensor(0) tensor(0)\n",
      "tensor([3.2498]) tensor(3.) tensor(0) tensor(0)\n",
      "tensor([1.9976]) tensor(2.) tensor(1) tensor(0)\n",
      "tensor([2.3050]) tensor(3.) tensor(0) tensor(0)\n",
      "tensor([2.2277]) tensor(2.) tensor(0) tensor(0)\n",
      "tensor([1.7646]) tensor(1.) tensor(1) tensor(0)\n",
      "tensor([2.5268]) tensor(3.) tensor(0) tensor(0)\n",
      "tensor([4.5108]) tensor(5.) tensor(0) tensor(0)\n",
      "tensor([1.9517]) tensor(2.) tensor(0) tensor(0)\n",
      "tensor([2.8079]) tensor(3.) tensor(0) tensor(0)\n",
      "tensor([2.1137]) tensor(2.) tensor(0) tensor(0)\n",
      "tensor([2.0651]) tensor(2.) tensor(0) tensor(0)\n",
      "tensor([1.6780]) tensor(2.) tensor(0) tensor(0)\n",
      "tensor([1.9646]) tensor(2.) tensor(0) tensor(0)\n",
      "tensor([2.1854]) tensor(2.) tensor(0) tensor(0)\n",
      "tensor([1.9725]) tensor(2.) tensor(0) tensor(0)\n",
      "tensor([2.5577]) tensor(3.) tensor(0) tensor(0)\n",
      "tensor([2.2162]) tensor(2.) tensor(0) tensor(0)\n",
      "tensor([2.3607]) tensor(2.) tensor(0) tensor(0)\n",
      "tensor([3.0018]) tensor(3.) tensor(0) tensor(0)\n",
      "tensor([1.9041]) tensor(1.) tensor(0) tensor(0)\n",
      "tensor([3.2975]) tensor(4.) tensor(0) tensor(0)\n",
      "tensor([2.0946]) tensor(2.) tensor(0) tensor(0)\n",
      "tensor([2.0345]) tensor(2.) tensor(0) tensor(0)\n",
      "tensor([2.1168]) tensor(1.) tensor(0) tensor(0)\n",
      "tensor([3.2676]) tensor(3.) tensor(0) tensor(0)\n",
      "tensor([1.9654]) tensor(2.) tensor(0) tensor(0)\n",
      "tensor([2.0369]) tensor(2.) tensor(0) tensor(0)\n",
      "tensor([2.0680]) tensor(2.) tensor(0) tensor(0)\n",
      "tensor([3.5786]) tensor(3.) tensor(0) tensor(0)\n",
      "tensor([2.4434]) tensor(2.) tensor(0) tensor(0)\n",
      "tensor([2.2809]) tensor(2.) tensor(0) tensor(0)\n",
      "tensor([3.5143]) tensor(3.) tensor(0) tensor(0)\n",
      "tensor([2.4021]) tensor(2.) tensor(0) tensor(0)\n",
      "tensor([2.8618]) tensor(3.) tensor(0) tensor(0)\n",
      "tensor([4.0977]) tensor(4.5000) tensor(0) tensor(0)\n",
      "tensor([2.5232]) tensor(3.) tensor(0) tensor(0)\n",
      "tensor([2.1859]) tensor(2.) tensor(0) tensor(0)\n",
      "tensor([1.8338]) tensor(2.) tensor(1) tensor(0)\n",
      "tensor([3.1596]) tensor(2.) tensor(0) tensor(0)\n",
      "tensor([2.0080]) tensor(3.) tensor(0) tensor(0)\n",
      "tensor([2.5957]) tensor(3.) tensor(1) tensor(0)\n",
      "tensor([2.1546]) tensor(2.) tensor(1) tensor(0)\n",
      "tensor([2.1250]) tensor(2.) tensor(0) tensor(0)\n",
      "tensor([1.8990]) tensor(2.) tensor(0) tensor(0)\n",
      "tensor([2.1355]) tensor(2.) tensor(0) tensor(0)\n",
      "tensor([2.5189]) tensor(1.5000) tensor(0) tensor(0)\n",
      "tensor([2.4743]) tensor(2.) tensor(0) tensor(0)\n",
      "tensor([2.1020]) tensor(2.) tensor(0) tensor(0)\n",
      "tensor([3.2248]) tensor(3.) tensor(0) tensor(0)\n",
      "tensor([1.9379]) tensor(2.) tensor(1) tensor(0)\n",
      "tensor([1.6287]) tensor(1.) tensor(0) tensor(0)\n",
      "tensor([2.0856]) tensor(2.) tensor(0) tensor(0)\n",
      "tensor([1.8541]) tensor(1.) tensor(1) tensor(0)\n",
      "tensor([2.8184]) tensor(2.) tensor(0) tensor(0)\n",
      "tensor([2.9204]) tensor(3.) tensor(0) tensor(0)\n",
      "tensor([4.4399]) tensor(5.) tensor(0) tensor(0)\n",
      "tensor([2.0386]) tensor(1.) tensor(1) tensor(0)\n",
      "tensor([2.9381]) tensor(2.5000) tensor(0) tensor(0)\n",
      "tensor([1.7478]) tensor(2.) tensor(1) tensor(0)\n"
     ]
    },
    {
     "name": "stdout",
     "output_type": "stream",
     "text": [
      "tensor([2.1509]) tensor(1.) tensor(0) tensor(0)\n",
      "tensor([2.4212]) tensor(3.) tensor(0) tensor(0)\n",
      "tensor([3.2080]) tensor(3.) tensor(0) tensor(0)\n",
      "tensor([1.8694]) tensor(1.) tensor(1) tensor(0)\n",
      "tensor([3.4169]) tensor(2.) tensor(0) tensor(0)\n",
      "tensor([1.8050]) tensor(2.) tensor(0) tensor(0)\n",
      "tensor([1.9533]) tensor(1.) tensor(0) tensor(0)\n",
      "tensor([2.2561]) tensor(2.) tensor(0) tensor(0)\n",
      "tensor([2.0870]) tensor(2.) tensor(0) tensor(0)\n",
      "tensor([2.1012]) tensor(2.) tensor(1) tensor(0)\n",
      "tensor([1.9800]) tensor(3.) tensor(0) tensor(0)\n",
      "tensor([2.1219]) tensor(4.) tensor(0) tensor(0)\n",
      "tensor([1.8601]) tensor(2.) tensor(0) tensor(0)\n",
      "tensor([2.4244]) tensor(2.) tensor(0) tensor(0)\n",
      "tensor([2.0962]) tensor(3.) tensor(0) tensor(0)\n",
      "tensor([1.9321]) tensor(1.) tensor(0) tensor(0)\n",
      "tensor([3.7078]) tensor(4.) tensor(0) tensor(0)\n",
      "tensor([1.8285]) tensor(2.) tensor(0) tensor(0)\n",
      "tensor([1.5939]) tensor(3.) tensor(1) tensor(0)\n",
      "tensor([1.9637]) tensor(2.) tensor(0) tensor(0)\n",
      "tensor([4.6043]) tensor(5.) tensor(0) tensor(0)\n",
      "tensor([2.3801]) tensor(3.) tensor(0) tensor(0)\n",
      "tensor([2.1061]) tensor(2.) tensor(1) tensor(0)\n",
      "tensor([3.5563]) tensor(4.) tensor(0) tensor(0)\n",
      "tensor([2.2258]) tensor(3.) tensor(0) tensor(0)\n",
      "tensor([1.8563]) tensor(2.) tensor(1) tensor(0)\n",
      "tensor([2.3676]) tensor(2.) tensor(1) tensor(0)\n",
      "tensor([2.1484]) tensor(2.) tensor(0) tensor(0)\n",
      "tensor([2.9509]) tensor(4.) tensor(0) tensor(0)\n",
      "tensor([2.1870]) tensor(2.) tensor(0) tensor(0)\n",
      "tensor([2.7917]) tensor(2.) tensor(0) tensor(0)\n",
      "tensor([2.0560]) tensor(3.) tensor(0) tensor(0)\n",
      "tensor([2.3005]) tensor(2.) tensor(0) tensor(0)\n",
      "tensor([1.8415]) tensor(2.) tensor(1) tensor(0)\n",
      "tensor([1.8235]) tensor(2.) tensor(0) tensor(0)\n",
      "tensor([2.8812]) tensor(4.) tensor(0) tensor(0)\n",
      "tensor([2.0068]) tensor(3.) tensor(1) tensor(0)\n",
      "tensor([4.5443]) tensor(4.) tensor(0) tensor(0)\n",
      "tensor([2.6677]) tensor(2.) tensor(0) tensor(0)\n",
      "tensor([1.9651]) tensor(2.) tensor(0) tensor(0)\n",
      "tensor([2.6674]) tensor(5.) tensor(0) tensor(0)\n",
      "tensor([2.3119]) tensor(2.) tensor(0) tensor(0)\n",
      "tensor([2.0711]) tensor(4.) tensor(0) tensor(0)\n",
      "tensor([2.1638]) tensor(2.) tensor(0) tensor(0)\n",
      "tensor([1.7442]) tensor(2.) tensor(0) tensor(0)\n",
      "tensor([2.0497]) tensor(2.) tensor(0) tensor(0)\n",
      "tensor([1.8898]) tensor(2.) tensor(0) tensor(0)\n",
      "tensor([1.9932]) tensor(1.) tensor(1) tensor(0)\n",
      "tensor([4.3351]) tensor(5.) tensor(0) tensor(0)\n",
      "tensor([2.0957]) tensor(2.) tensor(0) tensor(0)\n",
      "tensor([1.7989]) tensor(2.) tensor(0) tensor(0)\n",
      "tensor([2.0172]) tensor(2.) tensor(0) tensor(0)\n",
      "tensor([2.2058]) tensor(3.) tensor(0) tensor(0)\n",
      "tensor([2.1797]) tensor(2.) tensor(0) tensor(0)\n",
      "tensor([2.2420]) tensor(4.5000) tensor(0) tensor(0)\n",
      "tensor([2.0676]) tensor(1.5000) tensor(1) tensor(0)\n",
      "tensor([1.8543]) tensor(2.) tensor(0) tensor(0)\n",
      "tensor([2.6742]) tensor(2.) tensor(0) tensor(0)\n",
      "tensor([2.0116]) tensor(2.) tensor(0) tensor(0)\n",
      "tensor([2.1801]) tensor(3.) tensor(0) tensor(0)\n",
      "tensor([1.8510]) tensor(2.) tensor(0) tensor(0)\n",
      "tensor([4.6113]) tensor(5.) tensor(0) tensor(0)\n",
      "tensor([1.9323]) tensor(2.) tensor(0) tensor(0)\n",
      "tensor([2.0250]) tensor(2.) tensor(0) tensor(0)\n",
      "tensor([2.2621]) tensor(2.) tensor(0) tensor(0)\n",
      "tensor([4.5584]) tensor(4.5000) tensor(0) tensor(0)\n",
      "tensor([2.1872]) tensor(2.) tensor(0) tensor(0)\n",
      "tensor([1.9784]) tensor(2.) tensor(0) tensor(0)\n",
      "tensor([2.8613]) tensor(3.) tensor(0) tensor(0)\n",
      "tensor([1.5976]) tensor(2.) tensor(0) tensor(0)\n",
      "tensor([2.9497]) tensor(3.) tensor(0) tensor(0)\n",
      "tensor([4.0975]) tensor(5.) tensor(0) tensor(0)\n",
      "tensor([3.7661]) tensor(3.) tensor(0) tensor(0)\n",
      "tensor([1.9017]) tensor(1.) tensor(0) tensor(0)\n",
      "tensor([2.8936]) tensor(2.) tensor(0) tensor(0)\n",
      "tensor([3.4995]) tensor(5.) tensor(0) tensor(0)\n",
      "tensor([1.7923]) tensor(2.) tensor(0) tensor(0)\n",
      "tensor([4.8579]) tensor(4.5000) tensor(1) tensor(0)\n",
      "tensor([1.7024]) tensor(2.) tensor(1) tensor(0)\n",
      "tensor([2.2447]) tensor(1.) tensor(0) tensor(0)\n",
      "tensor([2.1637]) tensor(2.) tensor(0) tensor(0)\n",
      "tensor([2.0742]) tensor(2.) tensor(0) tensor(0)\n",
      "tensor([2.2587]) tensor(2.) tensor(0) tensor(0)\n",
      "tensor([2.0769]) tensor(1.) tensor(1) tensor(0)\n",
      "tensor([1.8134]) tensor(2.) tensor(0) tensor(0)\n",
      "tensor([2.0112]) tensor(2.) tensor(0) tensor(0)\n",
      "tensor([2.6022]) tensor(3.) tensor(0) tensor(0)\n",
      "tensor([2.2124]) tensor(2.) tensor(0) tensor(0)\n",
      "tensor([2.1374]) tensor(3.) tensor(0) tensor(0)\n",
      "tensor([2.7729]) tensor(4.) tensor(0) tensor(0)\n",
      "tensor([2.0110]) tensor(3.) tensor(0) tensor(0)\n",
      "tensor([2.1023]) tensor(2.) tensor(0) tensor(0)\n",
      "tensor([2.4737]) tensor(3.) tensor(0) tensor(0)\n",
      "tensor([1.8638]) tensor(2.) tensor(0) tensor(0)\n",
      "tensor([2.0698]) tensor(2.) tensor(0) tensor(0)\n",
      "tensor([2.9967]) tensor(3.) tensor(0) tensor(0)\n",
      "tensor([2.8214]) tensor(2.) tensor(0) tensor(0)\n",
      "tensor([2.9976]) tensor(3.) tensor(0) tensor(0)\n",
      "tensor([1.9519]) tensor(2.) tensor(0) tensor(0)\n",
      "tensor([2.8841]) tensor(2.5000) tensor(0) tensor(0)\n",
      "tensor([2.0966]) tensor(3.) tensor(0) tensor(0)\n",
      "tensor([2.9812]) tensor(3.) tensor(0) tensor(0)\n",
      "tensor([2.2214]) tensor(2.) tensor(0) tensor(0)\n",
      "tensor([4.5149]) tensor(5.) tensor(0) tensor(0)\n",
      "tensor([2.1731]) tensor(5.) tensor(0) tensor(0)\n",
      "tensor([2.5537]) tensor(3.) tensor(0) tensor(0)\n",
      "tensor([2.1944]) tensor(2.) tensor(0) tensor(0)\n",
      "tensor([2.0261]) tensor(2.) tensor(0) tensor(0)\n",
      "tensor([2.3726]) tensor(4.) tensor(0) tensor(0)\n",
      "tensor([2.0838]) tensor(2.) tensor(0) tensor(0)\n",
      "tensor([1.7602]) tensor(2.) tensor(0) tensor(0)\n",
      "tensor([3.7624]) tensor(3.) tensor(0) tensor(0)\n"
     ]
    }
   ],
   "source": [
    "for prob_sent, prob_example, targ_sent, targ_example in zip(*probs,*targs):\n",
    "    print(prob_sent, targ_sent, torch.argmax(prob_example, dim=-1), targ_example)"
   ]
  },
  {
   "cell_type": "code",
   "execution_count": 131,
   "metadata": {},
   "outputs": [
    {
     "data": {
      "text/html": [],
      "text/plain": [
       "<IPython.core.display.HTML object>"
      ]
     },
     "metadata": {},
     "output_type": "display_data"
    },
    {
     "data": {
      "text/plain": [
       "(((1.567490577697754), '1'), tensor([[1.5675]]), tensor([[1.5675]]))"
      ]
     },
     "execution_count": 131,
     "metadata": {},
     "output_type": "execute_result"
    }
   ],
   "source": [
    "learn.predict(\"No one cares. No one listens.  My supervisor doesn't follow ethical conduct.\")"
   ]
  },
  {
   "cell_type": "code",
   "execution_count": 132,
   "metadata": {},
   "outputs": [
    {
     "data": {
      "text/html": [],
      "text/plain": [
       "<IPython.core.display.HTML object>"
      ]
     },
     "metadata": {},
     "output_type": "display_data"
    },
    {
     "data": {
      "text/plain": [
       "(((4.600057601928711), '0'), tensor([[4.6001]]), tensor([[4.6001]]))"
      ]
     },
     "execution_count": 132,
     "metadata": {},
     "output_type": "execute_result"
    }
   ],
   "source": [
    "learn.predict(\"plenty of parking available. found a spot every day I came to work. availability is solid\")"
   ]
  },
  {
   "cell_type": "markdown",
   "metadata": {},
   "source": [
    "## Review"
   ]
  },
  {
   "cell_type": "markdown",
   "metadata": {},
   "source": [
    "### Lets look at validation metrics"
   ]
  },
  {
   "cell_type": "code",
   "execution_count": 133,
   "metadata": {},
   "outputs": [
    {
     "data": {
      "text/html": [],
      "text/plain": [
       "<IPython.core.display.HTML object>"
      ]
     },
     "metadata": {},
     "output_type": "display_data"
    },
    {
     "data": {
      "text/plain": [
       "(torch.Size([1049, 1]),\n",
       " torch.Size([1049, 2]),\n",
       " torch.Size([1049]),\n",
       " torch.Size([1049]),\n",
       " tensor(0.4910))"
      ]
     },
     "execution_count": 133,
     "metadata": {},
     "output_type": "execute_result"
    }
   ],
   "source": [
    "# predictions for a single model using the learner's model and data loaders\n",
    "learn = learn.load(f'{m_pre}mm_bestmodel{m_suf}')\n",
    "learn.model.cuda(1)\n",
    "probs, targs, loss  = learn.get_preds(with_loss=True)\n",
    "\n",
    "probs[0].shape, probs[1].shape, targs[0].shape, targs[1].shape, loss.mean()"
   ]
  },
  {
   "cell_type": "code",
   "execution_count": 134,
   "metadata": {},
   "outputs": [],
   "source": [
    "is_example_prob_true = torch.softmax(probs[1], dim=-1)[:,1]\n",
    "# is_example_prob_true"
   ]
  },
  {
   "cell_type": "code",
   "execution_count": 135,
   "metadata": {},
   "outputs": [],
   "source": [
    "# determine optimal threshold based on desired f-score\n",
    "f05 = OptimalMultiThresholdMetrics(beta=0.5, start=0.05, end=.9, sigmoid=False, \n",
    "                                   average='binary', sample_weight=None)\n",
    "f1 = OptimalMultiThresholdMetrics(beta=1, start=0.05, end=.9, sigmoid=False, \n",
    "                                   average='binary', sample_weight=None)\n",
    "f2 = OptimalMultiThresholdMetrics(beta=2, start=0.05, end=.9, sigmoid=False, \n",
    "                                   average='binary', sample_weight=None)"
   ]
  },
  {
   "cell_type": "code",
   "execution_count": 136,
   "metadata": {},
   "outputs": [
    {
     "data": {
      "text/plain": [
       "(0.6900000000000002, 0.5800000000000002, 0.5800000000000002)"
      ]
     },
     "execution_count": 136,
     "metadata": {},
     "output_type": "execute_result"
    }
   ],
   "source": [
    "is_example_threshold_f05 = f05.opt_th(is_example_prob_true, targs[1])\n",
    "is_example_threshold_f1 = f1.opt_th(is_example_prob_true, targs[1])\n",
    "is_example_threshold_f2 = f2.opt_th(is_example_prob_true, targs[1])\n",
    "\n",
    "is_example_threshold_f05, is_example_threshold_f1, is_example_threshold_f2"
   ]
  },
  {
   "cell_type": "code",
   "execution_count": 137,
   "metadata": {},
   "outputs": [
    {
     "data": {
      "text/plain": [
       "0.14035087719298245"
      ]
     },
     "execution_count": 137,
     "metadata": {},
     "output_type": "execute_result"
    }
   ],
   "source": [
    "res = skm.fbeta_score(targs[1], (is_example_prob_true > is_example_threshold_f1), beta=1, average='binary')\n",
    "res"
   ]
  },
  {
   "cell_type": "code",
   "execution_count": 138,
   "metadata": {},
   "outputs": [
    {
     "data": {
      "text/plain": [
       "0.9532888531684875"
      ]
     },
     "execution_count": 138,
     "metadata": {},
     "output_type": "execute_result"
    }
   ],
   "source": [
    "preds = ((is_example_prob_true > is_example_threshold_f1).byte() == targs[1].byte()).float().mean()\n",
    "preds.item()"
   ]
  },
  {
   "cell_type": "code",
   "execution_count": 139,
   "metadata": {},
   "outputs": [
    {
     "data": {
      "text/plain": [
       "(0.8979980945587158, 0.8979980945587158, 0.8979980945587158)"
      ]
     },
     "execution_count": 139,
     "metadata": {},
     "output_type": "execute_result"
    }
   ],
   "source": [
    "# determine accuracy based on optimal threshold\n",
    "is_example_val_acc_f05 = accuracy_multi(torch.argmax(probs[1], dim=-1), targs[1], is_example_threshold_f05, sigmoid=False).item()\n",
    "is_example_val_acc_f1 = accuracy_multi(torch.argmax(probs[1], dim=-1), targs[1], is_example_threshold_f1, sigmoid=False).item()\n",
    "is_example_val_acc_f2 = accuracy_multi(torch.argmax(probs[1], dim=-1), targs[1], is_example_threshold_f2, sigmoid=False).item()\n",
    "\n",
    "is_example_val_acc_f05, is_example_val_acc_f1, is_example_val_acc_f2"
   ]
  },
  {
   "cell_type": "markdown",
   "metadata": {},
   "source": [
    "### Review classifier - Is Example"
   ]
  },
  {
   "cell_type": "code",
   "execution_count": 140,
   "metadata": {},
   "outputs": [],
   "source": [
    "eval_targs = targs[1].flatten() # targs[:,0]\n",
    "eval_probs = is_example_prob_true.flatten()"
   ]
  },
  {
   "cell_type": "code",
   "execution_count": 141,
   "metadata": {},
   "outputs": [
    {
     "data": {
      "text/plain": [
       "(torch.Size([1049]), torch.Size([1049]))"
      ]
     },
     "execution_count": 141,
     "metadata": {},
     "output_type": "execute_result"
    }
   ],
   "source": [
    "eval_targs.shape, eval_probs.shape"
   ]
  },
  {
   "cell_type": "markdown",
   "metadata": {},
   "source": [
    "#### Classification Accuracy\n",
    "\n",
    "The percentage of correct predictions.  Answers the question, *\"Overall, how often is the classifier correct?\"*"
   ]
  },
  {
   "cell_type": "code",
   "execution_count": 142,
   "metadata": {},
   "outputs": [
    {
     "name": "stdout",
     "output_type": "stream",
     "text": [
      "0.9532888465204957\n"
     ]
    }
   ],
   "source": [
    "print(skm.accuracy_score(eval_targs, (eval_probs > is_example_threshold_f1).float(), sample_weight=None))"
   ]
  },
  {
   "cell_type": "markdown",
   "metadata": {},
   "source": [
    "#### Null Accuracy\n",
    " \n",
    "The accuracy achieved by always predicting the most frequent class.  Answers the question, *\"What would the accuracy be by always predicting the most frequent case?\"*"
   ]
  },
  {
   "cell_type": "code",
   "execution_count": 143,
   "metadata": {},
   "outputs": [
    {
     "name": "stdout",
     "output_type": "stream",
     "text": [
      "0 1041\n"
     ]
    }
   ],
   "source": [
    "u_classes, u_counts = np.unique(eval_targs, return_counts=True)\n",
    "most_freq_class, most_freq_class_count = u_classes[np.argmax(u_counts)], np.max(u_counts)\n",
    "print(most_freq_class, most_freq_class_count)"
   ]
  },
  {
   "cell_type": "code",
   "execution_count": 144,
   "metadata": {},
   "outputs": [
    {
     "data": {
      "text/plain": [
       "0.9923736892278361"
      ]
     },
     "execution_count": 144,
     "metadata": {},
     "output_type": "execute_result"
    }
   ],
   "source": [
    "most_freq_class_count / len(eval_targs)"
   ]
  },
  {
   "cell_type": "markdown",
   "metadata": {},
   "source": [
    "#### Cohen's kappa\n",
    "\n",
    "This measure is intended to compare labelings by different human annotators (not a classifier vs. ground truth)\n",
    "\n",
    "Kappa socres are between -1 and 1 ( >= .8 is generally considered good agreement; <= 0 means no agreement ... e.g., practically random labels)"
   ]
  },
  {
   "cell_type": "code",
   "execution_count": 145,
   "metadata": {},
   "outputs": [
    {
     "name": "stdout",
     "output_type": "stream",
     "text": [
      "0.12892948533274595\n"
     ]
    }
   ],
   "source": [
    "print(skm.cohen_kappa_score(eval_targs, (eval_probs > is_example_threshold_f1).float(), \n",
    "                            weights=None, sample_weight=None))"
   ]
  },
  {
   "cell_type": "markdown",
   "metadata": {},
   "source": [
    "#### Confusion Matrix\n",
    "\n",
    "Describes the performance of a classification model"
   ]
  },
  {
   "cell_type": "code",
   "execution_count": 146,
   "metadata": {},
   "outputs": [],
   "source": [
    "def plot_confusion_matrix(cm, classes, normalize=False, \n",
    "                          title='Confusion matrix', cmap=plt.cm.Blues, print_info=False):\n",
    "    \"\"\"\n",
    "    This function prints and plots the confusion matrix.\n",
    "    Normalization can be applied by setting `normalize=True`.\n",
    "    \"\"\"\n",
    "    if normalize:\n",
    "        cm = cm.astype('float') / cm.sum(axis=1)[:, np.newaxis]\n",
    "        if (print_info): print(\"Normalized confusion matrix\")\n",
    "    else:\n",
    "        if (print_info): print('Confusion matrix, without normalization')\n",
    "\n",
    "    if (print_info): print(cm)\n",
    "\n",
    "    plt.imshow(cm, interpolation='nearest', cmap=cmap)\n",
    "    plt.title(title)\n",
    "    plt.colorbar(fraction=0.046, pad=0.04)\n",
    "    tick_marks = np.arange(len(classes))\n",
    "    plt.xticks(tick_marks, classes, rotation=45)\n",
    "    plt.yticks(tick_marks, classes)\n",
    "\n",
    "    fmt = '.2f' if normalize else 'd'\n",
    "    thresh = cm.max() / 2.\n",
    "    for i, j in itertools.product(range(cm.shape[0]), range(cm.shape[1])):\n",
    "        plt.text(j, i, format(cm[i, j], fmt),\n",
    "                 horizontalalignment=\"center\",\n",
    "                 color=\"white\" if cm[i, j] > thresh else \"black\")\n",
    "\n",
    "    plt.tight_layout()\n",
    "    plt.ylabel('True label')\n",
    "    plt.xlabel('Predicted label')\n",
    "    plt.grid(None)"
   ]
  },
  {
   "cell_type": "code",
   "execution_count": 147,
   "metadata": {},
   "outputs": [],
   "source": [
    "cm = skm.confusion_matrix(eval_targs, (eval_probs > is_example_threshold_f1).float(), sample_weight=None)"
   ]
  },
  {
   "cell_type": "code",
   "execution_count": 148,
   "metadata": {},
   "outputs": [
    {
     "data": {
      "image/png": "[encoded data removed]",
      "text/plain": [
       "<Figure size 864x576 with 4 Axes>"
      ]
     },
     "metadata": {},
     "output_type": "display_data"
    }
   ],
   "source": [
    "# Plot non-normalized confusion matrix\n",
    "fig = plt.figure(figsize=(12,8))\n",
    "plt.subplot(1, 2, 1)\n",
    "plot_confusion_matrix(cm, classes=u_classes,\n",
    "                      title='Confusion matrix, without normalization')\n",
    "\n",
    "# Plot normalized confusion matrix\n",
    "plt.subplot(1, 2, 2)\n",
    "plot_confusion_matrix(cm, classes=u_classes, normalize=True,\n",
    "                      title='Normalized confusion matrix')\n",
    "\n",
    "fig.subplots_adjust(wspace=0.5)\n",
    "plt.show()"
   ]
  },
  {
   "cell_type": "code",
   "execution_count": 149,
   "metadata": {},
   "outputs": [
    {
     "name": "stdout",
     "output_type": "stream",
     "text": [
      "              precision    recall  f1-score   support\n",
      "\n",
      "           0       1.00      0.96      0.98      1041\n",
      "           1       0.08      0.50      0.14         8\n",
      "\n",
      "    accuracy                           0.95      1049\n",
      "   macro avg       0.54      0.73      0.56      1049\n",
      "weighted avg       0.99      0.95      0.97      1049\n",
      "\n"
     ]
    },
    {
     "name": "stderr",
     "output_type": "stream",
     "text": [
      "/home/wgilliam/anaconda3/envs/tritonlytics-ai/lib/python3.7/site-packages/sklearn/utils/validation.py:70: FutureWarning: Pass labels=[0, 1] as keyword args. From version 0.25 passing these as positional arguments will result in an error\n",
      "  FutureWarning)\n"
     ]
    }
   ],
   "source": [
    "print(skm.classification_report(eval_targs, (eval_probs > is_example_threshold_f1).float(), [0,1], \n",
    "                                sample_weight=None))"
   ]
  },
  {
   "cell_type": "markdown",
   "metadata": {},
   "source": [
    "#### Raw probability distribution\n",
    "\n",
    "Useful to see how the threshold can be adjusted to increase sensitivity or specificity"
   ]
  },
  {
   "cell_type": "code",
   "execution_count": 150,
   "metadata": {},
   "outputs": [
    {
     "data": {
      "text/plain": [
       "Text(0, 0.5, 'Frequency')"
      ]
     },
     "execution_count": 150,
     "metadata": {},
     "output_type": "execute_result"
    },
    {
     "data": {
      "image/png": "[encoded data removed]",
      "text/plain": [
       "<Figure size 648x432 with 1 Axes>"
      ]
     },
     "metadata": {},
     "output_type": "display_data"
    }
   ],
   "source": [
    "plt.hist(eval_probs, bins=10)\n",
    "# plt.xlim(0,1)\n",
    "plt.title('Histogram of predicted probabilities')\n",
    "plt.xlabel('Predicted probability of IsVeryPositive')\n",
    "plt.ylabel('Frequency')"
   ]
  },
  {
   "cell_type": "markdown",
   "metadata": {},
   "source": [
    "#### ROC curves and Area Under the Curve (AUC)\n",
    "\n",
    "***ROC Curve*** answers the question, *\"How would sensitivity and specificity be affected by various thresholds without changing the threshold?\"*  It is a way **to visualize the performance of a binary classifier.**\n",
    "\n",
    "The ROC curve can help you **choose a threshold** that balances sensitivity and specificity based on your particular business case.\n",
    "\n",
    "ROC curves visualize all possible classification thresholds whereas misclassification rate only represents your error rate for a single threshold.\n",
    "\n",
    "A classifier that does a good job at separating the classes will have a ROC curve that hugs the upper left corner of the plot.  Converseley, a classifier the does a poor job separating the classes will have a ROC curve that is close to the diagonal line (0,0 -> 1,1).  That diagonal line represents a classifier that does no better than random guessing."
   ]
  },
  {
   "cell_type": "code",
   "execution_count": 151,
   "metadata": {},
   "outputs": [],
   "source": [
    "fpr, tpr, thresholds = skm.roc_curve(eval_targs, eval_probs, sample_weight=None)"
   ]
  },
  {
   "cell_type": "code",
   "execution_count": 152,
   "metadata": {},
   "outputs": [
    {
     "data": {
      "image/png": "[encoded data removed]",
      "text/plain": [
       "<Figure size 648x432 with 1 Axes>"
      ]
     },
     "metadata": {},
     "output_type": "display_data"
    }
   ],
   "source": [
    "plt.plot(fpr, tpr)\n",
    "plt.xlim = ([0.0, 1.0])\n",
    "plt.ylim = ([0.0, 1.0])\n",
    "plt.title('ROC curve for all labels')\n",
    "plt.xlabel('False Positive Rate (1 - Specificity)')\n",
    "plt.ylabel('True Positive Rate (Sensitivity/Recall)')\n",
    "plt.grid(True)"
   ]
  },
  {
   "cell_type": "markdown",
   "metadata": {},
   "source": [
    "***AUC*** = the percentage of the ROC plot that is underneath the curve.  \n",
    "\n",
    "AUC summarizes the performance of a classifier in a **single number**.  It says, *\"If you randomly chose one positive and one negative observation, what is the likelihood that your classifier will assign a higher predicted probability to the positive observation.\"*\n",
    "\n",
    "**An AUC of ~ 0.8 is very good while an AUC of ~ 0.5 represents a poor classifier.**\n",
    "\n",
    "The ROC curve and AUC are insensitive to whether your predicted probabilities are properly calibrated to actually represent probabilities of class membership (e.g., it works if predicted probs range from 0.9 to 1 instead of 0 to 1).  All the AUC metric cares about is how well your classifier separated the two classes\n",
    "\n",
    "Notes:\n",
    "1.  AUC is useful even when there is **high class imbalance** (unlike classification accuracy)\n",
    "2.  AUC is useful even when predicted probabilities are not properly calibrated (e.g., not between 0 and 1)"
   ]
  },
  {
   "cell_type": "code",
   "execution_count": 153,
   "metadata": {},
   "outputs": [
    {
     "name": "stdout",
     "output_type": "stream",
     "text": [
      "0.8063160422670509\n"
     ]
    }
   ],
   "source": [
    "print(skm.roc_auc_score(eval_targs, eval_probs, average='weighted', sample_weight=None))"
   ]
  },
  {
   "cell_type": "markdown",
   "metadata": {},
   "source": [
    "### Review regression - Sentiment"
   ]
  },
  {
   "cell_type": "code",
   "execution_count": 154,
   "metadata": {},
   "outputs": [
    {
     "data": {
      "text/plain": [
       "0.3808008"
      ]
     },
     "execution_count": 154,
     "metadata": {},
     "output_type": "execute_result"
    }
   ],
   "source": [
    "# mse\n",
    "skm.mean_squared_error(targs[0], probs[0])"
   ]
  },
  {
   "cell_type": "code",
   "execution_count": 155,
   "metadata": {},
   "outputs": [
    {
     "data": {
      "text/plain": [
       "0.6170906039120254"
      ]
     },
     "execution_count": 155,
     "metadata": {},
     "output_type": "execute_result"
    }
   ],
   "source": [
    "# rmse\n",
    "math.sqrt(skm.mean_squared_error(targs[0], probs[0]))"
   ]
  },
  {
   "cell_type": "code",
   "execution_count": 156,
   "metadata": {},
   "outputs": [
    {
     "data": {
      "text/plain": [
       "0.42812845"
      ]
     },
     "execution_count": 156,
     "metadata": {},
     "output_type": "execute_result"
    }
   ],
   "source": [
    "# mae\n",
    "skm.mean_absolute_error(targs[0], probs[0])"
   ]
  },
  {
   "cell_type": "code",
   "execution_count": null,
   "metadata": {},
   "outputs": [],
   "source": []
  },
  {
   "cell_type": "markdown",
   "metadata": {
    "heading_collapsed": true
   },
   "source": [
    "## Ensemble forwards and backwards passes"
   ]
  },
  {
   "cell_type": "code",
   "execution_count": null,
   "metadata": {
    "hidden": true
   },
   "outputs": [],
   "source": [
    "try:\n",
    "    learn_fwd.purge(); learn = None;\n",
    "    learn_bwd.purge(); learn_bwd = None;\n",
    "    gc.collect()\n",
    "    torch.cuda.empty_cache()\n",
    "except: pass\n",
    "\n",
    "bsz = 80\n",
    "m_suf = '_multitask'\n",
    "\n",
    "dls = torch.load(STANDARD_THEME_META_PATH/f'data_standard_theme_meta.pkl')\n",
    "\n",
    "learn_fwd = load_learner(fname=STANDARD_THEME_META_PATH/f'fwd_export_mm{m_suf}.pkl')\n",
    "learn_fwd.dls = dls\n",
    "learn_bwd = load_learner(fname=STANDARD_THEME_META_PATH/f'bwd_export_mm{m_suf}.pkl')\n",
    "learn_bwd.dls = dls"
   ]
  },
  {
   "cell_type": "code",
   "execution_count": null,
   "metadata": {
    "hidden": true
   },
   "outputs": [],
   "source": [
    "learn_fwd.loss_func = multi_targ_loss\n",
    "learn_bwd.loss_func = multi_targ_loss"
   ]
  },
  {
   "cell_type": "code",
   "execution_count": null,
   "metadata": {
    "hidden": true
   },
   "outputs": [],
   "source": [
    "probs_fwd, lbl_fwd, loss_fwd = learn_fwd.get_preds(with_loss=True, reorder=True)\n",
    "probs_bwd, lbl_bwd, loss_bwd = learn_bwd.get_preds(with_loss=True, reorder=True)\n",
    "\n",
    "probs_fwd[0].shape, probs_bwd[0].shape, loss_fwd.shape"
   ]
  },
  {
   "cell_type": "code",
   "execution_count": null,
   "metadata": {
    "hidden": true
   },
   "outputs": [],
   "source": [
    "loss_fwd.mean(), loss_bwd.mean(), (loss_fwd.mean() + loss_bwd.mean()) / 2"
   ]
  },
  {
   "cell_type": "code",
   "execution_count": null,
   "metadata": {
    "hidden": true
   },
   "outputs": [],
   "source": [
    "probs_final_sent = (probs_fwd[0] + probs_bwd[0]) / 2\n",
    "probs_final_is_example = (probs_fwd[1] + probs_bwd[1]) / 2"
   ]
  },
  {
   "cell_type": "markdown",
   "metadata": {
    "hidden": true
   },
   "source": [
    "### Results"
   ]
  },
  {
   "cell_type": "code",
   "execution_count": null,
   "metadata": {
    "hidden": true
   },
   "outputs": [],
   "source": [
    "# determine optimal threshold based on desired f-score\n",
    "f05 = OptimalMultiThresholdMetrics(beta=0.5, start=0.05, end=.9, sigmoid=False, \n",
    "                                   average='binary', sample_weight=None)\n",
    "f1 = OptimalMultiThresholdMetrics(beta=1, start=0.05, end=.9, sigmoid=False, \n",
    "                                   average='binary', sample_weight=None)\n",
    "f2 = OptimalMultiThresholdMetrics(beta=2, start=0.05, end=.9, sigmoid=False, \n",
    "                                   average='binary', sample_weight=None)"
   ]
  },
  {
   "cell_type": "code",
   "execution_count": null,
   "metadata": {
    "hidden": true
   },
   "outputs": [],
   "source": [
    "is_example_prob_true_fwd = torch.softmax(probs_fwd[1], dim=-1)[:,1]\n",
    "is_example_prob_true_bwd = torch.softmax(probs_bwd[1], dim=-1)[:,1]\n",
    "is_example_prob_true_ensemble = torch.softmax(probs_final_is_example, dim=-1)[:,1]\n",
    "\n",
    "# is_example_prob_true_fwd, is_example_prob_true_bwd, is_example_prob_true_ensemble"
   ]
  },
  {
   "cell_type": "code",
   "execution_count": null,
   "metadata": {
    "hidden": true
   },
   "outputs": [],
   "source": [
    "# determine optimal threshold based on desired f-score\n",
    "is_example_threshold_f05 = f05.opt_th(is_example_prob_true_fwd, lbl_fwd[1])\n",
    "is_example_threshold_f1 = f1.opt_th(is_example_prob_true_fwd, lbl_fwd[1])\n",
    "is_example_threshold_f2 = f2.opt_th(is_example_prob_true_fwd, lbl_fwd[1])\n",
    "\n",
    "is_example_threshold_f05, is_example_threshold_f1, is_example_threshold_f2\n",
    "\n",
    "# determine accuracy based on optimal threshold\n",
    "val_acc_f05 = accuracy_multi(is_example_prob_true_fwd, lbl_fwd[1], is_example_threshold_f05, sigmoid=False).item()\n",
    "val_acc_f1 = accuracy_multi(is_example_prob_true_fwd, lbl_fwd[1], is_example_threshold_f1, sigmoid=False).item()\n",
    "val_acc_f2 = accuracy_multi(is_example_prob_true_fwd, lbl_fwd[1], is_example_threshold_f2, sigmoid=False).item()\n",
    "\n",
    "print('Fowards Only\\n-------------')\n",
    "print(f'f05:\\tOptimal threshold = {is_example_threshold_f05}\\t(Accuracy = {val_acc_f05})')\n",
    "print(f'f1:\\tOptimal threshold = {is_example_threshold_f1}\\t(Accuracy = {val_acc_f1})')\n",
    "print(f'f2:\\tOptimal threshold = {is_example_threshold_f2}\\t(Accuracy = {val_acc_f2})')\n",
    "\n",
    "print(f'\\nAccuracy: {skm.accuracy_score(lbl_fwd[1], (is_example_prob_true_fwd > is_example_threshold_f1).float())}')"
   ]
  },
  {
   "cell_type": "code",
   "execution_count": null,
   "metadata": {
    "hidden": true
   },
   "outputs": [],
   "source": [
    "# determine optimal threshold based on desired f-score\n",
    "is_example_threshold_f05 = f05.opt_th(is_example_prob_true_bwd, lbl_fwd[1])\n",
    "is_example_threshold_f1 = f1.opt_th(is_example_prob_true_bwd, lbl_fwd[1])\n",
    "is_example_threshold_f2 = f2.opt_th(is_example_prob_true_bwd, lbl_fwd[1])\n",
    "\n",
    "is_example_threshold_f05, is_example_threshold_f1, is_example_threshold_f2\n",
    "\n",
    "# determine accuracy based on optimal threshold\n",
    "val_acc_f05 = accuracy_multi(is_example_prob_true_bwd, lbl_fwd[1], is_example_threshold_f05, sigmoid=False).item()\n",
    "val_acc_f1 = accuracy_multi(is_example_prob_true_bwd, lbl_fwd[1], is_example_threshold_f1, sigmoid=False).item()\n",
    "val_acc_f2 = accuracy_multi(is_example_prob_true_bwd, lbl_fwd[1], is_example_threshold_f2, sigmoid=False).item()\n",
    "\n",
    "print('Backwards Only\\n-------------')\n",
    "print(f'f05:\\tOptimal threshold = {is_example_threshold_f05}\\t(Accuracy = {val_acc_f05})')\n",
    "print(f'f1:\\tOptimal threshold = {is_example_threshold_f1}\\t(Accuracy = {val_acc_f1})')\n",
    "print(f'f2:\\tOptimal threshold = {is_example_threshold_f2}\\t(Accuracy = {val_acc_f2})')\n",
    "\n",
    "print(f'\\nAccuracy: {skm.accuracy_score(lbl_fwd[1], (is_example_prob_true_bwd > is_example_threshold_f1).float())}')"
   ]
  },
  {
   "cell_type": "code",
   "execution_count": null,
   "metadata": {
    "hidden": true
   },
   "outputs": [],
   "source": [
    "# determine optimal threshold based on desired f-score\n",
    "is_example_threshold_f05 = f05.opt_th(is_example_prob_true_ensemble, lbl_fwd[1])\n",
    "is_example_threshold_f1 = f1.opt_th(is_example_prob_true_ensemble, lbl_fwd[1])\n",
    "is_example_threshold_f2 = f2.opt_th(is_example_prob_true_ensemble, lbl_fwd[1])\n",
    "\n",
    "is_example_threshold_f05, is_example_threshold_f1, is_example_threshold_f2\n",
    "\n",
    "# determine accuracy based on optimal threshold\n",
    "val_acc_f05 = accuracy_multi(is_example_prob_true_ensemble, lbl_fwd[1], is_example_threshold_f05, sigmoid=False).item()\n",
    "val_acc_f1 = accuracy_multi(is_example_prob_true_ensemble, lbl_fwd[1], is_example_threshold_f1, sigmoid=False).item()\n",
    "val_acc_f2 = accuracy_multi(is_example_prob_true_ensemble, lbl_fwd[1], is_example_threshold_f2, sigmoid=False).item()\n",
    "\n",
    "print('Ensemble Only\\n-------------')\n",
    "print(f'f05:\\tOptimal threshold = {is_example_threshold_f05}\\t(Accuracy = {val_acc_f05})')\n",
    "print(f'f1:\\tOptimal threshold = {is_example_threshold_f1}\\t(Accuracy = {val_acc_f1})')\n",
    "print(f'f2:\\tOptimal threshold = {is_example_threshold_f2}\\t(Accuracy = {val_acc_f2})')\n",
    "\n",
    "print(f'\\nAccuracy: {skm.accuracy_score(lbl_fwd[1], (is_example_prob_true_ensemble > is_example_threshold_f1).float())}')"
   ]
  },
  {
   "cell_type": "code",
   "execution_count": null,
   "metadata": {
    "hidden": true
   },
   "outputs": [],
   "source": [
    "# sentiment metrics\n",
    "sentiment_mae = skm.mean_absolute_error(lbl_fwd[0], probs_final_sent)\n",
    "sentiment_mse = skm.mean_squared_error(lbl_fwd[0], probs_final_sent)\n",
    "sentiment_rmse = math.sqrt(skm.mean_squared_error(lbl_fwd[0], probs_final_sent))\n",
    "\n",
    "print(sentiment_mae, sentiment_mse, sentiment_rmse)"
   ]
  },
  {
   "cell_type": "code",
   "execution_count": null,
   "metadata": {
    "hidden": true
   },
   "outputs": [],
   "source": [
    "final_valid_loss = (loss_fwd.mean() + loss_bwd.mean()) / 2; final_valid_loss"
   ]
  },
  {
   "cell_type": "code",
   "execution_count": null,
   "metadata": {
    "hidden": true
   },
   "outputs": [],
   "source": [
    "float(sentiment_mae)"
   ]
  },
  {
   "cell_type": "code",
   "execution_count": null,
   "metadata": {
    "hidden": true
   },
   "outputs": [],
   "source": [
    "# save this information to be added to inference returned data\n",
    "model_results = {\n",
    "    'is_example_threshold_f05': is_example_threshold_f05,\n",
    "    'is_example_threshold_f1': is_example_threshold_f1,\n",
    "    'is_example_threshold_f2': is_example_threshold_f2,\n",
    "    \n",
    "    'val_acc_f05': val_acc_f05,\n",
    "    'val_acc_f1': val_acc_f1,\n",
    "    'val_acc_f2': val_acc_f2,\n",
    "    \n",
    "    'sentiment_mae': float(sentiment_mae),\n",
    "    'sentiment_mse': float(sentiment_mse),\n",
    "    'sentiment_rmse': float(sentiment_rmse),\n",
    "    \n",
    "    'final_valid_loss': final_valid_loss.item()\n",
    "}\n",
    "\n",
    "with open(STANDARD_THEME_META_PATH/'model_results.json', 'w') as f: json.dump(model_results, f)"
   ]
  },
  {
   "cell_type": "markdown",
   "metadata": {
    "hidden": true
   },
   "source": [
    "### Inference (ad-hoc documents)"
   ]
  },
  {
   "cell_type": "code",
   "execution_count": null,
   "metadata": {
    "hidden": true
   },
   "outputs": [],
   "source": [
    "print(STANDARD_THEME_META_LABELS)"
   ]
  },
  {
   "cell_type": "code",
   "execution_count": null,
   "metadata": {
    "hidden": true
   },
   "outputs": [],
   "source": [
    "test_comments = [\n",
    "    'The parking situation REALLY sucks around here.  It needs to be fixed',\n",
    "    'I LOVE working at UCSD!!!  It is wonderful',\n",
    "    \"\"\"Some staff are just uninformed.There is no support for solo-individual study (no closed off rooms).\n",
    "        Once a guy (quite tall) walked in into the girl's restroom and used the stalls standing up. \n",
    "        There was no line in the guy's restroom. This happened when I done and was going to walk out. \n",
    "        I was extremely uncomfortable\"\"\",\n",
    "    \"I love UCSD!!! It is a terrible place to work!\",\n",
    "    \"I was really uncomfortable to express my opinion!!!\"\n",
    "]\n",
    "\n",
    "for c in test_comments: print(learn_fwd.predict(c, with_input=True))"
   ]
  },
  {
   "cell_type": "markdown",
   "metadata": {
    "hidden": true
   },
   "source": [
    "### Inference (batch ensemble)"
   ]
  },
  {
   "cell_type": "code",
   "execution_count": null,
   "metadata": {
    "hidden": true
   },
   "outputs": [],
   "source": [
    "import datetime\n",
    "yyyymmdd = datetime.date.today().strftime(\"%Y%m%d\")\n",
    "\n",
    "m_suf = '_multitask'\n",
    "\n",
    "# device = torch.device('cpu')\n",
    "device = torch.device('cuda:1') if torch.cuda.is_available() else torch.device('cpu')\n",
    "print(device)"
   ]
  },
  {
   "cell_type": "code",
   "execution_count": null,
   "metadata": {
    "hidden": true
   },
   "outputs": [],
   "source": [
    "verbatims_df = pd.read_csv(STANDARD_THEME_SAW_PATH/'20200511_ensemble_predictions_multilabel.csv', \n",
    "                           dtype={**TASK_LM_DTYPES}, parse_dates=[])\n",
    "\n",
    "inf_df = verbatims_df.copy() #verbatims_df[test_df.SurveyID == 130].copy()\n",
    "inf_df.reset_index(drop=True, inplace=True)\n",
    "print(len(verbatims_df))\n",
    "\n",
    "corpus_cols = ['theme', 'AnswerText'] "
   ]
  },
  {
   "cell_type": "code",
   "execution_count": null,
   "metadata": {
    "hidden": true
   },
   "outputs": [],
   "source": [
    "inf_df.head(1)"
   ]
  },
  {
   "cell_type": "code",
   "execution_count": null,
   "metadata": {
    "hidden": true
   },
   "outputs": [],
   "source": [
    "pred_theme_cols = filter_col = [col for col in inf_df if col.startswith('prob_')]\n",
    "# pred_theme_cols"
   ]
  },
  {
   "cell_type": "code",
   "execution_count": null,
   "metadata": {
    "hidden": true
   },
   "outputs": [],
   "source": [
    "inf_df = inf_df.melt(id_vars=list(TASK_LM_DTYPES.keys()) + ['threshold_f05', 'threshold_f1', 'threshold_f2', 'val_acc_f05', 'val_acc_f1', 'val_acc_f2', 'val_loss'], \n",
    "                     value_vars=pred_theme_cols, \n",
    "                     var_name='theme', \n",
    "                     value_name='theme_prob')\n",
    "len(inf_df)"
   ]
  },
  {
   "cell_type": "code",
   "execution_count": null,
   "metadata": {
    "hidden": true
   },
   "outputs": [],
   "source": [
    "inf_df = inf_df.loc[inf_df.theme_prob >= inf_df.threshold_f2]\n",
    "len(inf_df)"
   ]
  },
  {
   "cell_type": "code",
   "execution_count": null,
   "metadata": {
    "hidden": true
   },
   "outputs": [],
   "source": [
    "inf_df['url_friendly_theme'] = inf_df.theme.apply(\n",
    "    lambda s: re.sub(\"(.*?)_([a-zA-Z])\",\"\\g<1> \\g<2>\",s).replace('prob', '').strip().title().replace(' ',''))\n",
    "\n",
    "inf_df['theme'] = inf_df.url_friendly_theme.apply(lambda s: re.sub(\"([a-z])([A-Z])\",\"\\g<1> \\g<2>\",s))"
   ]
  },
  {
   "cell_type": "code",
   "execution_count": null,
   "metadata": {
    "hidden": true
   },
   "outputs": [],
   "source": [
    "inf_df.reset_index(inplace=True)"
   ]
  },
  {
   "cell_type": "code",
   "execution_count": null,
   "metadata": {
    "hidden": true
   },
   "outputs": [],
   "source": [
    "inf_df.head()"
   ]
  },
  {
   "cell_type": "code",
   "execution_count": null,
   "metadata": {
    "hidden": true
   },
   "outputs": [],
   "source": [
    "def get_model_results(backwards:bool=False, m_suf:str='multilabel'):\n",
    "    \n",
    "    model_prefix = 'bwd' if backwards else 'fwd'\n",
    "    \n",
    "    # 1. grab learner, procs, and data\n",
    "    inf_learn = load_learner(fname=STANDARD_THEME_META_PATH/f'{model_prefix}_export_mm_{m_suf}.pkl', cpu=False)\n",
    "    inf_learn.model = inf_learn.model.to(device)\n",
    "    inf_learn.model = inf_learn.model.eval()\n",
    "    \n",
    "    # 2. define a suitable dataloader\n",
    "    tok_inf_df, tok_counts = tokenize_df(inf_df, corpus_cols)\n",
    "    inf_dl = inf_learn.dls.test_dl(tok_inf_df, rm_type_tfms=None, bs=128)\n",
    "    if (backwards): inf_dl.tfms.add(Transform(lambda nums: nums.flip(0)))\n",
    "\n",
    "    # 3. get probs\n",
    "    test_probs_sent, test_probs_is_example = [], []\n",
    "    with torch.no_grad():\n",
    "        for index, b in enumerate(inf_dl):\n",
    "            if index % 1000 == 0:  print(index)\n",
    "\n",
    "            # reset hidden state (if you don't do this you will OOM)\n",
    "            inf_learn.model.reset()\n",
    "            \n",
    "            # note: even though there is no targets, each batch is a tuple!\n",
    "            probs, raw_outputs, outputs = inf_learn.model(b[0])\n",
    "            \n",
    "            # why \"detach\"? the computation of gradients wrt the weights of netG can be fully \n",
    "            # avoided in the backward pass if the graph is detached where it is.\n",
    "            test_probs_sent.append(to_detach(probs[0]))\n",
    "            test_probs_is_example.append(to_detach(probs[1]))\n",
    "\n",
    "    all_probs_sent = L(torch.cat(test_probs_sent))\n",
    "    all_probs_is_example = L(torch.cat(test_probs_is_example))\n",
    "\n",
    "    # 4. ensure results are returned in order\n",
    "    # test_dl.get_idxs() => unsorted/original order items\n",
    "    all_probs_sent = all_probs_sent[0][np.argsort(inf_dl.get_idxs())]\n",
    "    all_probs_is_example = all_probs_is_example[0][np.argsort(inf_dl.get_idxs())]\n",
    "\n",
    "    # 5. return ordered results\n",
    "    inf_learn, inf_data = None, None; gc.collect()\n",
    "    \n",
    "    return all_probs_sent, all_probs_is_example"
   ]
  },
  {
   "cell_type": "code",
   "execution_count": null,
   "metadata": {
    "hidden": true
   },
   "outputs": [],
   "source": [
    "%time\n",
    "\n",
    "probs_fwd_sent, probs_fwd_is_example = get_model_results(backwards=False, m_suf='multitask')\n",
    "probs_bwd_sent, probs_bwd_is_example = get_model_results(backwards=True, m_suf='multitask')\n",
    "\n",
    "probs_final_sent = (probs_fwd_sent + probs_bwd_sent) / 2\n",
    "probs_final_is_example = torch.softmax((probs_fwd_is_example + probs_bwd_is_example) / 2, dim=-1)[:,1]\n",
    "\n",
    "# probs_final = torch.sigmoid((probs_fwd + probs_bwd) / 2)\n",
    "\n",
    "print(probs_final_sent.shape)\n",
    "print(probs_final_sent[:5])\n",
    "print(probs_final_is_example.shape)\n",
    "print(probs_final_is_example[:5])"
   ]
  },
  {
   "cell_type": "markdown",
   "metadata": {
    "hidden": true
   },
   "source": [
    "Add the probabilities of each label to `inf_df`"
   ]
  },
  {
   "cell_type": "code",
   "execution_count": null,
   "metadata": {
    "hidden": true
   },
   "outputs": [],
   "source": [
    "np.concatenate((probs_final_sent.numpy(), probs_final_is_example.numpy()[:,None]), axis=1)"
   ]
  },
  {
   "cell_type": "code",
   "execution_count": null,
   "metadata": {
    "hidden": true
   },
   "outputs": [],
   "source": [
    "combined_probs = np.concatenate((probs_final_sent.numpy(), probs_final_is_example.numpy()[:,None]), axis=1)"
   ]
  },
  {
   "cell_type": "code",
   "execution_count": null,
   "metadata": {
    "hidden": true,
    "scrolled": true
   },
   "outputs": [],
   "source": [
    "prob_labels = ['prob_' + lbl for lbl in STANDARD_THEME_META_LABELS]\n",
    "probs_df = pd.DataFrame(combined_probs, columns=prob_labels)\n",
    "probs_df.head()"
   ]
  },
  {
   "cell_type": "code",
   "execution_count": null,
   "metadata": {
    "hidden": true
   },
   "outputs": [],
   "source": [
    "# test_df_filtered.update(probs_df)\n",
    "final_df = pd.concat([inf_df, probs_df], axis=1)\n",
    "final_df.head()"
   ]
  },
  {
   "cell_type": "markdown",
   "metadata": {
    "hidden": true
   },
   "source": [
    "Add in predictions based on f1 threshold"
   ]
  },
  {
   "cell_type": "code",
   "execution_count": null,
   "metadata": {
    "hidden": true
   },
   "outputs": [],
   "source": [
    "for lbl in STANDARD_THEME_META_LABELS[1:]:\n",
    "    final_df[f'pred_{lbl}'] = (final_df[f'prob_{lbl}'] > is_example_threshold_f1).astype(np.int64)"
   ]
  },
  {
   "cell_type": "markdown",
   "metadata": {
    "hidden": true
   },
   "source": [
    "Include found thresholds"
   ]
  },
  {
   "cell_type": "code",
   "execution_count": null,
   "metadata": {
    "hidden": true
   },
   "outputs": [],
   "source": [
    "final_df['is_example_threshold_f05'] = is_example_threshold_f05\n",
    "final_df['is_example_threshold_f1'] = is_example_threshold_f1\n",
    "final_df['is_example_threshold_f2'] = is_example_threshold_f2\n",
    "\n",
    "final_df['is_example_val_acc_f05'] = val_acc_f05\n",
    "final_df['is_example_val_acc_f1'] = val_acc_f1\n",
    "final_df['is_example_val_acc_f2'] = val_acc_f2"
   ]
  },
  {
   "cell_type": "code",
   "execution_count": null,
   "metadata": {
    "hidden": true
   },
   "outputs": [],
   "source": [
    "final_df['sentiment_mae'] = sentiment_mae.item()\n",
    "final_df['sentiment_mse'] = sentiment_mse.item()\n",
    "final_df['sentiment_rmse'] = sentiment_rmse"
   ]
  },
  {
   "cell_type": "code",
   "execution_count": null,
   "metadata": {
    "hidden": true
   },
   "outputs": [],
   "source": [
    "final_df['val_loss_metadata'] = final_valid_loss.item()"
   ]
  },
  {
   "cell_type": "code",
   "execution_count": null,
   "metadata": {
    "hidden": true
   },
   "outputs": [],
   "source": [
    "final_df.head()"
   ]
  },
  {
   "cell_type": "code",
   "execution_count": null,
   "metadata": {
    "hidden": true
   },
   "outputs": [],
   "source": [
    "import datetime\n",
    "final_df.to_csv(STANDARD_THEME_META_PATH/f'{yyyymmdd}_ensemble_predictions{m_suf}.csv', index=False)"
   ]
  },
  {
   "cell_type": "markdown",
   "metadata": {
    "hidden": true
   },
   "source": [
    "### Playground"
   ]
  },
  {
   "cell_type": "code",
   "execution_count": null,
   "metadata": {
    "hidden": true
   },
   "outputs": [],
   "source": [
    "final_df.head()"
   ]
  },
  {
   "cell_type": "code",
   "execution_count": null,
   "metadata": {
    "hidden": true
   },
   "outputs": [],
   "source": [
    "print(final_df[final_df.Id == 589305].AnswerText.values[0])\n",
    "final_df[final_df.Id == 589305]"
   ]
  },
  {
   "cell_type": "code",
   "execution_count": null,
   "metadata": {
    "hidden": true
   },
   "outputs": [],
   "source": [
    "print(final_df.iloc[0].is_example_threshold_f05)\n",
    "print(final_df.iloc[0].is_example_threshold_f1)\n",
    "print(final_df.iloc[0].is_example_threshold_f2)\n",
    "print(final_df.prob_avg_sentiment.mean())"
   ]
  },
  {
   "cell_type": "code",
   "execution_count": null,
   "metadata": {
    "hidden": true
   },
   "outputs": [],
   "source": [
    "len(learn.opt.param_groups)"
   ]
  },
  {
   "cell_type": "code",
   "execution_count": null,
   "metadata": {
    "hidden": true
   },
   "outputs": [],
   "source": [
    "[ print(f'{lg}\\n') for lg in learn.opt.param_groups ]"
   ]
  },
  {
   "cell_type": "code",
   "execution_count": null,
   "metadata": {
    "hidden": true
   },
   "outputs": [],
   "source": [
    "losses = np.array([1,2,3,4,5,6,7,8,9,10]); losses"
   ]
  },
  {
   "cell_type": "code",
   "execution_count": null,
   "metadata": {
    "hidden": true
   },
   "outputs": [],
   "source": [
    "losses.mean()"
   ]
  },
  {
   "cell_type": "code",
   "execution_count": null,
   "metadata": {
    "hidden": true
   },
   "outputs": [],
   "source": [
    "(losses[:5].mean() + losses[5:].mean()) / 2"
   ]
  },
  {
   "cell_type": "code",
   "execution_count": null,
   "metadata": {
    "hidden": true
   },
   "outputs": [],
   "source": []
  }
 ],
 "metadata": {
  "kernelspec": {
   "display_name": "Python 3",
   "language": "python",
   "name": "python3"
  },
  "language_info": {
   "codemirror_mode": {
    "name": "ipython",
    "version": 3
   },
   "file_extension": ".py",
   "mimetype": "text/x-python",
   "name": "python",
   "nbconvert_exporter": "python",
   "pygments_lexer": "ipython3",
   "version": "3.7.6"
  },
  "varInspector": {
   "cols": {
    "lenName": 16,
    "lenType": 16,
    "lenVar": 40
   },
   "kernels_config": {
    "python": {
     "delete_cmd_postfix": "",
     "delete_cmd_prefix": "del ",
     "library": "var_list.py",
     "varRefreshCmd": "print(var_dic_list())"
    },
    "r": {
     "delete_cmd_postfix": ") ",
     "delete_cmd_prefix": "rm(",
     "library": "var_list.r",
     "varRefreshCmd": "cat(var_dic_list()) "
    }
   },
   "position": {
    "height": "468px",
    "left": "1307px",
    "right": "20px",
    "top": "120px",
    "width": "353px"
   },
   "types_to_exclude": [
    "module",
    "function",
    "builtin_function_or_method",
    "instance",
    "_Feature"
   ],
   "window_display": false
  }
 },
 "nbformat": 4,
 "nbformat_minor": 2
}
