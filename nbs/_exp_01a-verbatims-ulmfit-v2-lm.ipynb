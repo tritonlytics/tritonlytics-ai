{
 "cells": [
  {
   "cell_type": "code",
   "execution_count": 1,
   "metadata": {},
   "outputs": [],
   "source": [
    "# default_exp language_modeling"
   ]
  },
  {
   "cell_type": "code",
   "execution_count": 2,
   "metadata": {},
   "outputs": [],
   "source": [
    "#hide\n",
    "%reload_ext autoreload\n",
    "%autoreload 2\n",
    "%matplotlib inline"
   ]
  },
  {
   "cell_type": "markdown",
   "metadata": {},
   "source": [
    "# Tritonlytics Verbatims - ULMFiT Language Model\n",
    "\n",
    "> Experiments related to building a LM for survey comments captured in the Tritonlytics survey delivery system"
   ]
  },
  {
   "cell_type": "code",
   "execution_count": 3,
   "metadata": {},
   "outputs": [],
   "source": [
    "#export\n",
    "import datetime\n",
    "from tritonlytics_ai.utils import *\n",
    "\n",
    "from fastai import __version__ as fa2_version\n",
    "from fastai.text.all import *\n",
    "\n",
    "import spacy\n",
    "spacy_en = spacy.load('en_core_web_sm')\n",
    "spacy_es = spacy.load('es_core_news_sm')"
   ]
  },
  {
   "cell_type": "code",
   "execution_count": 4,
   "metadata": {},
   "outputs": [],
   "source": [
    "#hide\n",
    "import pdb\n",
    "\n",
    "# pandas and plotting config\n",
    "import seaborn as sns\n",
    "sns.set_style('whitegrid')\n",
    "\n",
    "plt.rcParams['figure.figsize'] = (9,6)\n",
    "\n",
    "pd.set_option('display.max_rows', 500)\n",
    "pd.set_option('display.max_columns', 500)\n",
    "pd.set_option('display.width', 1000)\n",
    "pd.set_option('display.max_colwidth', 100)\n",
    "\n",
    "from nbdev.showdoc import *\n",
    "from fastcore.test import *"
   ]
  },
  {
   "cell_type": "code",
   "execution_count": 5,
   "metadata": {
    "tags": []
   },
   "outputs": [
    {
     "name": "stdout",
     "output_type": "stream",
     "text": [
      "fastai version: 2.0.14\n"
     ]
    }
   ],
   "source": [
    "#hide\n",
    "print(f'fastai version: {fa2_version}')"
   ]
  },
  {
   "cell_type": "code",
   "execution_count": 6,
   "metadata": {
    "tags": []
   },
   "outputs": [
    {
     "name": "stdout",
     "output_type": "stream",
     "text": [
      "Using GPU #1\n"
     ]
    }
   ],
   "source": [
    "#cuda\n",
    "torch.cuda.set_device(1)\n",
    "print(f'Using GPU #{torch.cuda.current_device()}')"
   ]
  },
  {
   "cell_type": "markdown",
   "metadata": {},
   "source": [
    "## Language Model\n",
    "\n",
    "The goal of the language model is to predict the next word.  The idea is simple: an LM learns how English works which can in turn be helpful in predicting sentiment"
   ]
  },
  {
   "cell_type": "code",
   "execution_count": 7,
   "metadata": {},
   "outputs": [],
   "source": [
    "chunksize = 24000\n",
    "yyyymmdd = datetime.today().strftime(\"%Y%m%d\")\n",
    "\n",
    "bptt = 70\n",
    "bsz = 128 #80\n",
    "wd = 1e-7\n",
    "\n",
    "# define tokenization, numericalization, and data parameters (tokeneization, text columns, etc..)\n",
    "include_fld_tok = False\n",
    "include_bos_tok = True\n",
    "include_eos_tok = False\n",
    "\n",
    "max_vocab = 60000\n",
    "min_freq = 2\n",
    "\n",
    "corpus_cols = ['AnswerText']  # ['QuestionText', 'AnswerText']\n",
    "data_suf = ''                 # '_qst+ans' "
   ]
  },
  {
   "cell_type": "markdown",
   "metadata": {},
   "source": [
    "Prepare the data source"
   ]
  },
  {
   "cell_type": "code",
   "execution_count": 8,
   "metadata": {},
   "outputs": [],
   "source": [
    "train_df = pd.read_csv(LM_PATH/'train.csv', low_memory=False)\n",
    "valid_df = pd.read_csv(LM_PATH/'test.csv', low_memory=False)"
   ]
  },
  {
   "cell_type": "code",
   "execution_count": 9,
   "metadata": {
    "tags": []
   },
   "outputs": [
    {
     "name": "stdout",
     "output_type": "stream",
     "text": [
      "Removed rows: (0, 0)\n"
     ]
    }
   ],
   "source": [
    "# remove rows where there are nulls in corpus cols\n",
    "prev_lens = len(train_df), len(valid_df)\n",
    "\n",
    "train_df.dropna(subset=corpus_cols, inplace=True)\n",
    "valid_df.dropna(subset=corpus_cols, inplace=True)\n",
    "\n",
    "print(f'Removed rows: {prev_lens[0]-len(train_df), prev_lens[1] - len(valid_df)}')"
   ]
  },
  {
   "cell_type": "code",
   "execution_count": 10,
   "metadata": {},
   "outputs": [],
   "source": [
    "train_df['is_valid'] = False\n",
    "valid_df['is_valid'] = True\n",
    "df = pd.concat([train_df, valid_df])"
   ]
  },
  {
   "cell_type": "code",
   "execution_count": 11,
   "metadata": {},
   "outputs": [],
   "source": [
    "# prepend custom tokenization rules to defaults\n",
    "custom_lowercase = partial(lowercase, add_bos=include_bos_tok, add_eos=include_eos_tok)\n",
    "\n",
    "custom_tok_rules = defaults.text_proc_rules[:-1] + [custom_lowercase, \n",
    "                                                    make_replacements, \n",
    "                                                    fix_ampm, \n",
    "                                                    fix_sentence_ends, \n",
    "                                                    fix_hyphenated_words]"
   ]
  },
  {
   "cell_type": "markdown",
   "metadata": {},
   "source": [
    "Using the low-level `Datasets` API"
   ]
  },
  {
   "cell_type": "code",
   "execution_count": 12,
   "metadata": {
    "tags": []
   },
   "outputs": [
    {
     "data": {
      "text/html": [],
      "text/plain": [
       "<IPython.core.display.HTML object>"
      ]
     },
     "metadata": {},
     "output_type": "display_data"
    },
    {
     "name": "stdout",
     "output_type": "stream",
     "text": [
      "CPU times: user 23 s, sys: 16.1 s, total: 39.1 s\n",
      "Wall time: 54.5 s\n"
     ]
    },
    {
     "data": {
      "text/plain": [
       "(532302, 59145)"
      ]
     },
     "execution_count": 12,
     "metadata": {},
     "output_type": "execute_result"
    }
   ],
   "source": [
    "%%time\n",
    "\n",
    "tfms = [\n",
    "    attrgetter('text'), \n",
    "    Tokenizer.from_df(text_cols=corpus_cols, rules=custom_tok_rules, mark_fields=include_fld_tok), \n",
    "    Numericalize(min_freq=min_freq, max_vocab=max_vocab)\n",
    "]\n",
    "\n",
    "lm_dsets = Datasets(items=df,\n",
    "                    tfms=[tfms], \n",
    "                    splits=ColSplitter(col='is_valid')(df), \n",
    "                    dl_type=LMDataLoader)\n",
    "\n",
    "len(lm_dsets.train), len(lm_dsets.valid)"
   ]
  },
  {
   "cell_type": "code",
   "execution_count": 13,
   "metadata": {},
   "outputs": [
    {
     "data": {
      "text/plain": [
       "(fastai.text.data.TensorText,\n",
       " (TensorText([   2,    8,  537,   15,   25, 1946,   12,  404, 3258,   42,   96,  271,\n",
       "            52, 1143]),))"
      ]
     },
     "execution_count": 13,
     "metadata": {},
     "output_type": "execute_result"
    }
   ],
   "source": [
    "t = lm_dsets[0]\n",
    "type(t[0]), t"
   ]
  },
  {
   "cell_type": "code",
   "execution_count": 14,
   "metadata": {},
   "outputs": [
    {
     "data": {
      "text/plain": [
       "('xxbos xxmaj perhaps a more detailed and clear instruction would help first time users',)"
      ]
     },
     "execution_count": 14,
     "metadata": {},
     "output_type": "execute_result"
    }
   ],
   "source": [
    "x = lm_dsets.decode(t); x"
   ]
  },
  {
   "cell_type": "code",
   "execution_count": 15,
   "metadata": {
    "tags": []
   },
   "outputs": [
    {
     "name": "stdout",
     "output_type": "stream",
     "text": [
      "xxbos xxmaj perhaps a more detailed and clear instruction would help first time users\n"
     ]
    }
   ],
   "source": [
    "lm_dsets.show(x)"
   ]
  },
  {
   "cell_type": "code",
   "execution_count": 16,
   "metadata": {
    "tags": []
   },
   "outputs": [
    {
     "name": "stdout",
     "output_type": "stream",
     "text": [
      "CPU times: user 3min 38s, sys: 3.67 s, total: 3min 42s\n",
      "Wall time: 3min 40s\n"
     ]
    }
   ],
   "source": [
    "%%time\n",
    "lm_dls = lm_dsets.dataloaders(bs=bsz, seq_len=bptt)"
   ]
  },
  {
   "cell_type": "markdown",
   "metadata": {},
   "source": [
    "Using the mid-level `DataBlock` API"
   ]
  },
  {
   "cell_type": "code",
   "execution_count": 17,
   "metadata": {
    "scrolled": true
   },
   "outputs": [],
   "source": [
    "lm_blocks = (TextBlock.from_df(corpus_cols, is_lm=True, \n",
    "                               seq_len=bptt, \n",
    "                               rules=custom_tok_rules, \n",
    "                               mark_fields=include_fld_tok), )\n",
    "\n",
    "lm_dblock = DataBlock(blocks=lm_blocks, \n",
    "                      get_x=ColReader('text'),\n",
    "                      splitter=ColSplitter(col='is_valid'))"
   ]
  },
  {
   "cell_type": "code",
   "execution_count": 18,
   "metadata": {},
   "outputs": [],
   "source": [
    "# lm_dblock.summary(df)"
   ]
  },
  {
   "cell_type": "code",
   "execution_count": 19,
   "metadata": {
    "tags": []
   },
   "outputs": [
    {
     "data": {
      "text/html": [],
      "text/plain": [
       "<IPython.core.display.HTML object>"
      ]
     },
     "metadata": {},
     "output_type": "display_data"
    },
    {
     "name": "stdout",
     "output_type": "stream",
     "text": [
      "CPU times: user 3min 37s, sys: 20.7 s, total: 3min 58s\n",
      "Wall time: 4min 10s\n"
     ]
    }
   ],
   "source": [
    "%%time\n",
    "lm_dls = lm_dblock.dataloaders(df, bs=bsz, seq_len=bptt)"
   ]
  },
  {
   "cell_type": "markdown",
   "metadata": {},
   "source": [
    "Save `DataLoaders` and vocab"
   ]
  },
  {
   "cell_type": "code",
   "execution_count": 20,
   "metadata": {},
   "outputs": [],
   "source": [
    "# save dataloaders\n",
    "torch.save(lm_dls, LM_PATH/f'data_lm{data_suf}.pkl')\n",
    "\n",
    "# save vocab for classifiers\n",
    "pickle.dump(lm_dls.vocab, open(LM_PATH/f'vocab{data_suf}.pkl','wb'))"
   ]
  },
  {
   "cell_type": "markdown",
   "metadata": {},
   "source": [
    "Let's look at things ..."
   ]
  },
  {
   "cell_type": "code",
   "execution_count": 21,
   "metadata": {},
   "outputs": [],
   "source": [
    "lm_dls = torch.load(LM_PATH/f'data_lm{data_suf}.pkl')"
   ]
  },
  {
   "cell_type": "code",
   "execution_count": 22,
   "metadata": {},
   "outputs": [
    {
     "data": {
      "text/html": [
       "<table border=\"1\" class=\"dataframe\">\n",
       "  <thead>\n",
       "    <tr style=\"text-align: right;\">\n",
       "      <th></th>\n",
       "      <th>text</th>\n",
       "      <th>text_</th>\n",
       "    </tr>\n",
       "  </thead>\n",
       "  <tbody>\n",
       "    <tr>\n",
       "      <th>0</th>\n",
       "      <td>xxbos xxmaj more s parking for xxmaj warren will be more convenient . xxbos xxmaj as a woman i do nt feel safe on campus at all and no one cares about it . i regret going to this school and would not recommend it to anyone . xxbos xxmaj permit options xxbos i would love a delivery system that takes food into dorms xxbos xxmaj travel and xxmaj entertainment</td>\n",
       "      <td>xxmaj more s parking for xxmaj warren will be more convenient . xxbos xxmaj as a woman i do nt feel safe on campus at all and no one cares about it . i regret going to this school and would not recommend it to anyone . xxbos xxmaj permit options xxbos i would love a delivery system that takes food into dorms xxbos xxmaj travel and xxmaj entertainment made</td>\n",
       "    </tr>\n",
       "    <tr>\n",
       "      <th>1</th>\n",
       "      <td>book for my research from another university . xxmaj there was no way to extend the loan , and i ended up having to buy the very expensive book myself . xxbos xxmaj allow the easypark to be updated online ( add money online instead of having to bring it in ) xxbos xxmaj hillcrest feels like an actual city and not an overgrown shopping mall like xxmaj la xxmaj</td>\n",
       "      <td>for my research from another university . xxmaj there was no way to extend the loan , and i ended up having to buy the very expensive book myself . xxbos xxmaj allow the easypark to be updated online ( add money online instead of having to bring it in ) xxbos xxmaj hillcrest feels like an actual city and not an overgrown shopping mall like xxmaj la xxmaj jolla</td>\n",
       "    </tr>\n",
       "  </tbody>\n",
       "</table>"
      ],
      "text/plain": [
       "<IPython.core.display.HTML object>"
      ]
     },
     "metadata": {},
     "output_type": "display_data"
    }
   ],
   "source": [
    "lm_dls.show_batch(max_n=2)"
   ]
  },
  {
   "cell_type": "code",
   "execution_count": 23,
   "metadata": {
    "scrolled": true,
    "tags": []
   },
   "outputs": [
    {
     "name": "stdout",
     "output_type": "stream",
     "text": [
      "32408 32408 32408\n",
      "['xxunk', 'xxpad', 'xxbos', 'xxeos', 'xxfld', 'xxrep', 'xxwrep', 'xxup', 'xxmaj', '.']\n"
     ]
    }
   ],
   "source": [
    "print(len(lm_dls.vocab), len(lm_dls.train.vocab), len(lm_dls.valid.vocab))\n",
    "print(lm_dls.vocab[:10])"
   ]
  },
  {
   "cell_type": "code",
   "execution_count": 24,
   "metadata": {
    "tags": []
   },
   "outputs": [
    {
     "name": "stdout",
     "output_type": "stream",
     "text": [
      "532302 32408\n",
      "59145 32408\n"
     ]
    }
   ],
   "source": [
    "print(len(lm_dls.train_ds), len(lm_dls.train_ds.vocab))\n",
    "print(len(lm_dls.valid_ds), len(lm_dls.valid_ds.vocab))"
   ]
  },
  {
   "cell_type": "code",
   "execution_count": 25,
   "metadata": {
    "tags": []
   },
   "outputs": [
    {
     "name": "stdout",
     "output_type": "stream",
     "text": [
      "torch.Size([128, 70])\n",
      "torch.Size([128, 70])\n"
     ]
    },
    {
     "data": {
      "text/plain": [
       "(None, None)"
      ]
     },
     "execution_count": 25,
     "metadata": {},
     "output_type": "execute_result"
    }
   ],
   "source": [
    "batch = next(iter(lm_dls.train))\n",
    "print(batch[0].size()), print(batch[1].size())"
   ]
  },
  {
   "cell_type": "code",
   "execution_count": 26,
   "metadata": {},
   "outputs": [
    {
     "data": {
      "text/plain": [
       "'xxbos xxmaj very quick internet with how many people operate in the libraries . xxbos i received personal attention to our problem in our department . xxmaj tim xxmaj jasko and xxmaj nathan xxmaj cho frequently communicated with me and our department suggesting effective solutions to our immediate problems . i was impressed with their professionalism and i felt a personal investment on their part to find solutions for our'"
      ]
     },
     "execution_count": 26,
     "metadata": {},
     "output_type": "execute_result"
    }
   ],
   "source": [
    "' '.join([ lm_dls.vocab[idx] for idx in batch[0][0,:] ])"
   ]
  },
  {
   "cell_type": "markdown",
   "metadata": {},
   "source": [
    "... and backwards"
   ]
  },
  {
   "cell_type": "code",
   "execution_count": 27,
   "metadata": {},
   "outputs": [],
   "source": [
    "lm_dls_bwd = torch.load(LM_PATH/f'data_lm{data_suf}.pkl')"
   ]
  },
  {
   "cell_type": "code",
   "execution_count": 28,
   "metadata": {
    "scrolled": true
   },
   "outputs": [],
   "source": [
    "lm_dls_bwd.tfms.add(Transform(lambda nums: nums.flip(0)))"
   ]
  },
  {
   "cell_type": "code",
   "execution_count": 29,
   "metadata": {},
   "outputs": [
    {
     "data": {
      "text/plain": [
       "Pipeline: ColReader -- {'cols': 'text', 'pref': '', 'suff': '', 'label_delim': None} -> Tokenizer -> Numericalize -> <lambda>"
      ]
     },
     "execution_count": 29,
     "metadata": {},
     "output_type": "execute_result"
    }
   ],
   "source": [
    "lm_dls_bwd.tfms"
   ]
  },
  {
   "cell_type": "code",
   "execution_count": 30,
   "metadata": {},
   "outputs": [
    {
     "data": {
      "text/html": [
       "<table border=\"1\" class=\"dataframe\">\n",
       "  <thead>\n",
       "    <tr style=\"text-align: right;\">\n",
       "      <th></th>\n",
       "      <th>text</th>\n",
       "      <th>text_</th>\n",
       "    </tr>\n",
       "  </thead>\n",
       "  <tbody>\n",
       "    <tr>\n",
       "      <th>0</th>\n",
       "      <td>use to easy very and good is app the xxmaj xxbos . job great a does herrera xxmaj frank xxmaj . them help to there 're you that know to need they xxmaj . there are police the that scared are people when times at friendlier bit little a be xxmaj xxbos ! staff approachable and helpful really xxmaj xxbos ! books for rates return better xxbos s to spots</td>\n",
       "      <td>to easy very and good is app the xxmaj xxbos . job great a does herrera xxmaj frank xxmaj . them help to there 're you that know to need they xxmaj . there are police the that scared are people when times at friendlier bit little a be xxmaj xxbos ! staff approachable and helpful really xxmaj xxbos ! books for rates return better xxbos s to spots b</td>\n",
       "    </tr>\n",
       "    <tr>\n",
       "      <th>1</th>\n",
       "      <td>martinez xxmaj justin xxmaj \\n r \\ hdh xxup - mcerlain kim xxmaj \\n r \\ hdh xxup - petrus xxmaj julie xxmaj \\n r \\ hdh xxup - falomir xxmaj ryan xxmaj \\n r \\ hdh xxup - grenard xxmaj kelly xxmaj \\n r \\ hdh xxup - smith xxmaj norma xxmaj \\n r \\ alumni xxmaj - wells xxmaj madison xxmaj \\n r \\ hdh xxup - bermudez</td>\n",
       "      <td>xxmaj justin xxmaj \\n r \\ hdh xxup - mcerlain kim xxmaj \\n r \\ hdh xxup - petrus xxmaj julie xxmaj \\n r \\ hdh xxup - falomir xxmaj ryan xxmaj \\n r \\ hdh xxup - grenard xxmaj kelly xxmaj \\n r \\ hdh xxup - smith xxmaj norma xxmaj \\n r \\ alumni xxmaj - wells xxmaj madison xxmaj \\n r \\ hdh xxup - bermudez xxmaj</td>\n",
       "    </tr>\n",
       "  </tbody>\n",
       "</table>"
      ],
      "text/plain": [
       "<IPython.core.display.HTML object>"
      ]
     },
     "metadata": {},
     "output_type": "display_data"
    }
   ],
   "source": [
    "lm_dls_bwd.show_batch(max_n=2)"
   ]
  },
  {
   "cell_type": "code",
   "execution_count": null,
   "metadata": {},
   "outputs": [],
   "source": []
  },
  {
   "cell_type": "markdown",
   "metadata": {},
   "source": [
    "### Configure a forward or backwards run"
   ]
  },
  {
   "cell_type": "code",
   "execution_count": 31,
   "metadata": {},
   "outputs": [],
   "source": [
    "backwards = False\n",
    "\n",
    "m_pre = 'bwd_' if (backwards) else 'fwd_'"
   ]
  },
  {
   "cell_type": "markdown",
   "metadata": {},
   "source": [
    "### Build the LanguageModel (baseline)"
   ]
  },
  {
   "cell_type": "markdown",
   "metadata": {},
   "source": [
    "Our Language Model (LM) is composed of a backbone and a custom head.  The backbone is initialized with the weights of an LM trained on a larger corpus, [Wikitext 103](https://blog.einstein.ai/the-wikitext-long-term-dependency-language-modeling-dataset/) and the custom head is a linear classifier.  The vocabulary of the two datasets are slightly different, so when loading the weights, we take care to put the embedding weights at the right place, and we randomly initiliaze the embeddings for words in our vocabulary that weren't in the wikitext-103 vocabulary of our pretrained model.\n",
    "\n",
    "The pretrained model will be downloaded on first use. We also use **Mixed Precision** Trianing, which enables us to use a higher batch size by training part of our model in FP16 precision, and also speeds up trqining by a factor 2 to 3 on modern GPUs.\n",
    "\n",
    "**bptt** (*also known traditionally in NLP LM as ngrams*) in fastai LMs is approximated to a std. deviation around 70, by perturbing the sequence length on a per-batch basis. This is akin to shuffling our data in computer vision, only that in NLP we cannot shuffle inputs and we have to maintain statefulness. \n",
    "\n",
    "Since we are predicting words using ngrams, we want our next batch to line up with the end-points of the previous mini-batch's items. batch-size is constant and but the fastai library expands and contracts bptt each mini-batch using a clever stochastic implementation of a batch. (original credits attributed to [Smerity](https://twitter.com/jeremyphoward/status/980227258395770882))\n",
    "\n",
    "We setup the **dropouts** for the model - these values have been chosen after experimentation. If you need to update them for custom LMs, you can change the weighting factor (0.7 here) based on the amount of data you have. For more data, you can reduce dropout factor and for small datasets, you can reduce overfitting by choosing a higher dropout factor. *No other dropout value requires tuning*\n",
    "\n",
    "We first tune the last embedding layer so that the missing tokens initialized with mean weights get tuned properly. So we freeze everything except the last layer (the `Learner` object is frozen by default)\n",
    "\n",
    "We also keep track of the *accuracy* metric."
   ]
  },
  {
   "cell_type": "code",
   "execution_count": 32,
   "metadata": {},
   "outputs": [],
   "source": [
    "lm_dls = torch.load(LM_PATH/f'data_lm{data_suf}.pkl')\n",
    "\n",
    "def reverse_text(nums): return nums.flip(0)\n",
    "if (backwards): lm_dls.tfms.add(Transform(reverse_text))"
   ]
  },
  {
   "cell_type": "code",
   "execution_count": 33,
   "metadata": {},
   "outputs": [],
   "source": [
    "# try: learn.purge(); learn = None; gc.collect(); torch.cuda.empty_cache()\n",
    "# except: pass"
   ]
  },
  {
   "cell_type": "code",
   "execution_count": 34,
   "metadata": {},
   "outputs": [],
   "source": [
    "best_model = SaveModelCallback(monitor='accuracy', comp=np.greater, fname=f'{m_pre}lm_bestmodel{data_suf}')\n",
    "\n",
    "learn = language_model_learner(lm_dls,\n",
    "                               arch=AWD_LSTM, \n",
    "                               backwards=backwards,\n",
    "                               drop_mult=0.7,\n",
    "                               opt_func=partial(Adam, wd=wd),\n",
    "                               moms=(0.8, 0.7, 0.8),\n",
    "                               path=LM_PATH,\n",
    "                               metrics=[accuracy, Perplexity()]).to_fp16()\n",
    "\n",
    "# learn.true_wd = True"
   ]
  },
  {
   "cell_type": "code",
   "execution_count": 35,
   "metadata": {},
   "outputs": [
    {
     "data": {
      "text/html": [
       "<table border=\"1\" class=\"dataframe\">\n",
       "  <thead>\n",
       "    <tr style=\"text-align: left;\">\n",
       "      <th>epoch</th>\n",
       "      <th>train_loss</th>\n",
       "      <th>valid_loss</th>\n",
       "      <th>accuracy</th>\n",
       "      <th>perplexity</th>\n",
       "      <th>time</th>\n",
       "    </tr>\n",
       "  </thead>\n",
       "  <tbody>\n",
       "    <tr>\n",
       "      <td>0</td>\n",
       "      <td>None</td>\n",
       "      <td>None</td>\n",
       "      <td>None</td>\n",
       "      <td>00:00</td>\n",
       "    </tr>\n",
       "  </tbody>\n",
       "</table>"
      ],
      "text/plain": [
       "<IPython.core.display.HTML object>"
      ]
     },
     "metadata": {},
     "output_type": "display_data"
    },
    {
     "data": {
      "text/plain": [
       "SequentialRNN (Input shape: ['128 x 70'])\n",
       "================================================================\n",
       "Layer (type)         Output Shape         Param #    Trainable \n",
       "================================================================\n",
       "RNNDropout           128 x 70 x 400       0          False     \n",
       "________________________________________________________________\n",
       "RNNDropout           128 x 70 x 1152      0          False     \n",
       "________________________________________________________________\n",
       "RNNDropout           128 x 70 x 1152      0          False     \n",
       "________________________________________________________________\n",
       "Linear               128 x 70 x 32408     12,995,608 True      \n",
       "________________________________________________________________\n",
       "RNNDropout           128 x 70 x 400       0          False     \n",
       "________________________________________________________________\n",
       "\n",
       "Total params: 12,995,608\n",
       "Total trainable params: 12,995,608\n",
       "Total non-trainable params: 0\n",
       "\n",
       "Optimizer used: functools.partial(<function Adam at 0x7f205130eef0>, wd=1e-07)\n",
       "Loss function: FlattenedLoss of CrossEntropyLoss()\n",
       "\n",
       "Model frozen up to parameter group #3\n",
       "\n",
       "Callbacks:\n",
       "  - ModelResetter\n",
       "  - RNNRegularizer\n",
       "  - ModelToHalf\n",
       "  - TrainEvalCallback\n",
       "  - Recorder\n",
       "  - ProgressCallback\n",
       "  - MixedPrecision"
      ]
     },
     "execution_count": 35,
     "metadata": {},
     "output_type": "execute_result"
    }
   ],
   "source": [
    "learn.summary()"
   ]
  },
  {
   "cell_type": "code",
   "execution_count": 36,
   "metadata": {},
   "outputs": [],
   "source": [
    "# best_model_path = LM_PATH/f'models/{m_pre}lm_bestmodel{data_suf}*'\n",
    "# !rm {best_model_path}"
   ]
  },
  {
   "cell_type": "markdown",
   "metadata": {},
   "source": [
    "We set learning rates and fit our IMDB LM. We first run one epoch to tune the last layer which contains the embedding weights. This should help the missing tokens in the wikitext103 learn better weights."
   ]
  },
  {
   "cell_type": "code",
   "execution_count": 37,
   "metadata": {},
   "outputs": [
    {
     "data": {
      "text/html": [],
      "text/plain": [
       "<IPython.core.display.HTML object>"
      ]
     },
     "metadata": {},
     "output_type": "display_data"
    },
    {
     "data": {
      "text/plain": [
       "SuggestedLRs(lr_min=0.03630780577659607, lr_steep=0.03019951656460762)"
      ]
     },
     "execution_count": 37,
     "metadata": {},
     "output_type": "execute_result"
    },
    {
     "data": {
      "image/png": "[encoded data removed]",
      "text/plain": [
       "<Figure size 648x432 with 1 Axes>"
      ]
     },
     "metadata": {},
     "output_type": "display_data"
    }
   ],
   "source": [
    "learn.lr_find(start_lr=1e-5, end_lr=1e+1)"
   ]
  },
  {
   "cell_type": "code",
   "execution_count": 38,
   "metadata": {},
   "outputs": [],
   "source": [
    "lr = 3e-2"
   ]
  },
  {
   "cell_type": "code",
   "execution_count": 39,
   "metadata": {
    "tags": []
   },
   "outputs": [
    {
     "data": {
      "text/html": [
       "<table border=\"1\" class=\"dataframe\">\n",
       "  <thead>\n",
       "    <tr style=\"text-align: left;\">\n",
       "      <th>epoch</th>\n",
       "      <th>train_loss</th>\n",
       "      <th>valid_loss</th>\n",
       "      <th>accuracy</th>\n",
       "      <th>perplexity</th>\n",
       "      <th>time</th>\n",
       "    </tr>\n",
       "  </thead>\n",
       "  <tbody>\n",
       "    <tr>\n",
       "      <td>0</td>\n",
       "      <td>4.073090</td>\n",
       "      <td>3.747765</td>\n",
       "      <td>0.299773</td>\n",
       "      <td>42.426147</td>\n",
       "      <td>13:53</td>\n",
       "    </tr>\n",
       "  </tbody>\n",
       "</table>"
      ],
      "text/plain": [
       "<IPython.core.display.HTML object>"
      ]
     },
     "metadata": {},
     "output_type": "display_data"
    },
    {
     "name": "stdout",
     "output_type": "stream",
     "text": [
      "Better model found at epoch 0 with accuracy value: 0.2997727692127228.\n",
      "CPU times: user 13min 49s, sys: 4.71 s, total: 13min 54s\n",
      "Wall time: 13min 53s\n"
     ]
    }
   ],
   "source": [
    "%%time\n",
    "learn.fit_one_cycle(1, lr, cbs=[best_model])"
   ]
  },
  {
   "cell_type": "code",
   "execution_count": 40,
   "metadata": {},
   "outputs": [
    {
     "data": {
      "text/plain": [
       "Path('data/lm/models/fwd_lm_last_ft.pth')"
      ]
     },
     "execution_count": 40,
     "metadata": {},
     "output_type": "execute_result"
    }
   ],
   "source": [
    "learn.save(f'{m_pre}lm_last_ft{data_suf}')\n",
    "# best model is loaded at conclusion of previous fit #learn = learn.load(f'{l_pre}lm_last_ft{exp_suffix}')"
   ]
  },
  {
   "cell_type": "markdown",
   "metadata": {},
   "source": [
    "unfreeze and train some more"
   ]
  },
  {
   "cell_type": "code",
   "execution_count": 41,
   "metadata": {},
   "outputs": [
    {
     "data": {
      "text/plain": [
       "<fastai.text.learner.LMLearner at 0x7f1f47336a90>"
      ]
     },
     "execution_count": 41,
     "metadata": {},
     "output_type": "execute_result"
    }
   ],
   "source": [
    "learn.load(f'{m_pre}lm_last_ft{data_suf}')"
   ]
  },
  {
   "cell_type": "code",
   "execution_count": 42,
   "metadata": {},
   "outputs": [
    {
     "data": {
      "text/html": [],
      "text/plain": [
       "<IPython.core.display.HTML object>"
      ]
     },
     "metadata": {},
     "output_type": "display_data"
    },
    {
     "data": {
      "text/plain": [
       "SuggestedLRs(lr_min=0.0008317637257277966, lr_steep=0.0006025595939718187)"
      ]
     },
     "execution_count": 42,
     "metadata": {},
     "output_type": "execute_result"
    },
    {
     "data": {
      "image/png": "[encoded data removed]",
      "text/plain": [
       "<Figure size 648x432 with 1 Axes>"
      ]
     },
     "metadata": {},
     "output_type": "display_data"
    }
   ],
   "source": [
    "learn.unfreeze()\n",
    "learn.lr_find(start_lr=1e-3/10, end_lr=1e-2*10)"
   ]
  },
  {
   "cell_type": "code",
   "execution_count": 43,
   "metadata": {},
   "outputs": [],
   "source": [
    "lr = 4e-3"
   ]
  },
  {
   "cell_type": "code",
   "execution_count": 44,
   "metadata": {
    "tags": []
   },
   "outputs": [
    {
     "data": {
      "text/html": [
       "<table border=\"1\" class=\"dataframe\">\n",
       "  <thead>\n",
       "    <tr style=\"text-align: left;\">\n",
       "      <th>epoch</th>\n",
       "      <th>train_loss</th>\n",
       "      <th>valid_loss</th>\n",
       "      <th>accuracy</th>\n",
       "      <th>perplexity</th>\n",
       "      <th>time</th>\n",
       "    </tr>\n",
       "  </thead>\n",
       "  <tbody>\n",
       "    <tr>\n",
       "      <td>0</td>\n",
       "      <td>3.817059</td>\n",
       "      <td>3.628915</td>\n",
       "      <td>0.313470</td>\n",
       "      <td>37.671932</td>\n",
       "      <td>15:12</td>\n",
       "    </tr>\n",
       "    <tr>\n",
       "      <td>1</td>\n",
       "      <td>3.713429</td>\n",
       "      <td>3.538882</td>\n",
       "      <td>0.323474</td>\n",
       "      <td>34.428398</td>\n",
       "      <td>15:14</td>\n",
       "    </tr>\n",
       "    <tr>\n",
       "      <td>2</td>\n",
       "      <td>3.638062</td>\n",
       "      <td>3.477099</td>\n",
       "      <td>0.330150</td>\n",
       "      <td>32.365692</td>\n",
       "      <td>15:11</td>\n",
       "    </tr>\n",
       "    <tr>\n",
       "      <td>3</td>\n",
       "      <td>3.554389</td>\n",
       "      <td>3.429190</td>\n",
       "      <td>0.335835</td>\n",
       "      <td>30.851648</td>\n",
       "      <td>15:13</td>\n",
       "    </tr>\n",
       "    <tr>\n",
       "      <td>4</td>\n",
       "      <td>3.504758</td>\n",
       "      <td>3.397214</td>\n",
       "      <td>0.339364</td>\n",
       "      <td>29.880749</td>\n",
       "      <td>15:14</td>\n",
       "    </tr>\n",
       "    <tr>\n",
       "      <td>5</td>\n",
       "      <td>3.456166</td>\n",
       "      <td>3.375092</td>\n",
       "      <td>0.342190</td>\n",
       "      <td>29.226967</td>\n",
       "      <td>15:15</td>\n",
       "    </tr>\n",
       "    <tr>\n",
       "      <td>6</td>\n",
       "      <td>3.423495</td>\n",
       "      <td>3.359746</td>\n",
       "      <td>0.343825</td>\n",
       "      <td>28.781872</td>\n",
       "      <td>15:19</td>\n",
       "    </tr>\n",
       "    <tr>\n",
       "      <td>7</td>\n",
       "      <td>3.394121</td>\n",
       "      <td>3.347323</td>\n",
       "      <td>0.345716</td>\n",
       "      <td>28.426533</td>\n",
       "      <td>15:10</td>\n",
       "    </tr>\n",
       "    <tr>\n",
       "      <td>8</td>\n",
       "      <td>3.368732</td>\n",
       "      <td>3.337389</td>\n",
       "      <td>0.346813</td>\n",
       "      <td>28.145536</td>\n",
       "      <td>15:12</td>\n",
       "    </tr>\n",
       "    <tr>\n",
       "      <td>9</td>\n",
       "      <td>3.339001</td>\n",
       "      <td>3.330578</td>\n",
       "      <td>0.347656</td>\n",
       "      <td>27.954491</td>\n",
       "      <td>15:10</td>\n",
       "    </tr>\n",
       "    <tr>\n",
       "      <td>10</td>\n",
       "      <td>3.305077</td>\n",
       "      <td>3.325691</td>\n",
       "      <td>0.348563</td>\n",
       "      <td>27.818214</td>\n",
       "      <td>15:14</td>\n",
       "    </tr>\n",
       "    <tr>\n",
       "      <td>11</td>\n",
       "      <td>3.295003</td>\n",
       "      <td>3.322054</td>\n",
       "      <td>0.349039</td>\n",
       "      <td>27.717215</td>\n",
       "      <td>15:12</td>\n",
       "    </tr>\n",
       "    <tr>\n",
       "      <td>12</td>\n",
       "      <td>3.276603</td>\n",
       "      <td>3.320158</td>\n",
       "      <td>0.349481</td>\n",
       "      <td>27.664709</td>\n",
       "      <td>15:09</td>\n",
       "    </tr>\n",
       "    <tr>\n",
       "      <td>13</td>\n",
       "      <td>3.262333</td>\n",
       "      <td>3.319868</td>\n",
       "      <td>0.349526</td>\n",
       "      <td>27.656708</td>\n",
       "      <td>15:12</td>\n",
       "    </tr>\n",
       "    <tr>\n",
       "      <td>14</td>\n",
       "      <td>3.254755</td>\n",
       "      <td>3.320133</td>\n",
       "      <td>0.349595</td>\n",
       "      <td>27.664036</td>\n",
       "      <td>15:11</td>\n",
       "    </tr>\n",
       "  </tbody>\n",
       "</table>"
      ],
      "text/plain": [
       "<IPython.core.display.HTML object>"
      ]
     },
     "metadata": {},
     "output_type": "display_data"
    },
    {
     "name": "stdout",
     "output_type": "stream",
     "text": [
      "Better model found at epoch 0 with accuracy value: 0.3134704828262329.\n",
      "Better model found at epoch 1 with accuracy value: 0.3234744668006897.\n",
      "Better model found at epoch 2 with accuracy value: 0.33014991879463196.\n",
      "Better model found at epoch 3 with accuracy value: 0.3358348309993744.\n",
      "Better model found at epoch 4 with accuracy value: 0.339364230632782.\n",
      "Better model found at epoch 5 with accuracy value: 0.3421899378299713.\n",
      "Better model found at epoch 6 with accuracy value: 0.34382474422454834.\n",
      "Better model found at epoch 7 with accuracy value: 0.3457162082195282.\n",
      "Better model found at epoch 8 with accuracy value: 0.34681281447410583.\n",
      "Better model found at epoch 9 with accuracy value: 0.34765589237213135.\n",
      "Better model found at epoch 10 with accuracy value: 0.34856289625167847.\n",
      "Better model found at epoch 11 with accuracy value: 0.3490394949913025.\n",
      "Better model found at epoch 12 with accuracy value: 0.34948062896728516.\n",
      "Better model found at epoch 13 with accuracy value: 0.349526047706604.\n",
      "Better model found at epoch 14 with accuracy value: 0.3495948910713196.\n",
      "CPU times: user 3h 47min 7s, sys: 1min 18s, total: 3h 48min 25s\n",
      "Wall time: 3h 48min 19s\n"
     ]
    }
   ],
   "source": [
    "%%time\n",
    "learn.fit_one_cycle(15, lr_max=slice(lr/10, lr), cbs=[best_model])"
   ]
  },
  {
   "cell_type": "markdown",
   "metadata": {},
   "source": [
    "Save the model and encoder separately"
   ]
  },
  {
   "cell_type": "code",
   "execution_count": 45,
   "metadata": {},
   "outputs": [
    {
     "data": {
      "text/plain": [
       "Path('data/lm/models/fwd_lm.pth')"
      ]
     },
     "execution_count": 45,
     "metadata": {},
     "output_type": "execute_result"
    }
   ],
   "source": [
    "learn.save(f'{m_pre}lm{data_suf}')"
   ]
  },
  {
   "cell_type": "code",
   "execution_count": 46,
   "metadata": {},
   "outputs": [],
   "source": [
    "learn.save_encoder(f'{m_pre}lm_enc{data_suf}')"
   ]
  },
  {
   "cell_type": "markdown",
   "metadata": {},
   "source": [
    "Export the learner for future use"
   ]
  },
  {
   "cell_type": "code",
   "execution_count": 47,
   "metadata": {},
   "outputs": [],
   "source": [
    "learn.export(fname=f'{m_pre}export_lm{data_suf}.pkl')"
   ]
  },
  {
   "cell_type": "markdown",
   "metadata": {},
   "source": [
    "Then we can have a look at the results"
   ]
  },
  {
   "cell_type": "code",
   "execution_count": 48,
   "metadata": {},
   "outputs": [],
   "source": [
    "learn = learn.load(f'{m_pre}lm_bestmodel{data_suf}')"
   ]
  },
  {
   "cell_type": "code",
   "execution_count": 49,
   "metadata": {},
   "outputs": [
    {
     "data": {
      "text/html": [],
      "text/plain": [
       "<IPython.core.display.HTML object>"
      ]
     },
     "metadata": {},
     "output_type": "display_data"
    },
    {
     "data": {
      "text/plain": [
       "(#3) [3.3201332092285156,0.3495948910713196,27.66403579711914]"
      ]
     },
     "execution_count": 49,
     "metadata": {},
     "output_type": "execute_result"
    }
   ],
   "source": [
    "learn.validate() # ... returns [loss, accuracy, perplexity]\n",
    "\n",
    "# 08/27/2019 Answer Only (fwd): acc=0.3485 | loss=3.328849\n",
    "#                        (bwd): acc=0.3828 | loss=3.3445714\n",
    "\n",
    "# 02/21/2020 Answer Only (fwd) [3.318399429321289,0.3496691584587097,27.616113662719727]\n",
    "#                        (bwd) [3.408270835876465,0.37589603662490845,30.212955474853516]\n",
    "\n",
    "# 05/01/2020 Answer Only (fwd) [3.353671073913574,0.34449684619903564,28.607561111450195]\n",
    "#                        (bwd) [3.4699654579162598,0.36656343936920166,32.1356315612793]\n",
    "\n",
    "# 09/21/2020 Answer Only (fwd) [3.3201332092285156,0.3495948910713196,27.66403579711914]\n",
    "#                        (bwd) ??? - significantly better after adding \"backwards=True\" to Learner"
   ]
  },
  {
   "cell_type": "code",
   "execution_count": 50,
   "metadata": {},
   "outputs": [
    {
     "data": {
      "text/html": [],
      "text/plain": [
       "<IPython.core.display.HTML object>"
      ]
     },
     "metadata": {},
     "output_type": "display_data"
    },
    {
     "data": {
      "text/html": [
       "<table border=\"1\" class=\"dataframe\">\n",
       "  <thead>\n",
       "    <tr style=\"text-align: right;\">\n",
       "      <th></th>\n",
       "      <th>input</th>\n",
       "      <th>target</th>\n",
       "      <th>pred</th>\n",
       "    </tr>\n",
       "  </thead>\n",
       "  <tbody>\n",
       "    <tr>\n",
       "      <th>0</th>\n",
       "      <td>xxbos xxmaj there continues to be transitions in terms of how the teams are organized , turnover of staff , and it leads to inconsistency and the need to revisit expectations and service delivery . xxmaj perhaps this will be the state of affairs until we fully transition to xxup uc xxmaj path , but it is frustrating that we continue to have to meet with leadership and revisit this</td>\n",
       "      <td>xxmaj there continues to be transitions in terms of how the teams are organized , turnover of staff , and it leads to inconsistency and the need to revisit expectations and service delivery . xxmaj perhaps this will be the state of affairs until we fully transition to xxup uc xxmaj path , but it is frustrating that we continue to have to meet with leadership and revisit this topic</td>\n",
       "      <td>xxmaj the is to be a in the of compensation to xxmaj are managed and and , staff , and the 's to a in lack lack to be and . implement . . xxmaj there there is be a case of the 's the are understand to xxmaj ucpath xxmaj path . but it is not to we are to have to wait with the to see processes process</td>\n",
       "    </tr>\n",
       "    <tr>\n",
       "      <th>1</th>\n",
       "      <td>hard to find parking xxbos i think that the music on the 2nd and 1st floor should be the same xxbos xxmaj the accessibility of a variety of food items . xxbos xxmaj keep working on systems that can tell where the parking is . xxmaj is it possible to take parking availability into account when scheduling classes ? xxbos xxmaj have a clearer website on information , and be</td>\n",
       "      <td>to find parking xxbos i think that the music on the 2nd and 1st floor should be the same xxbos xxmaj the accessibility of a variety of food items . xxbos xxmaj keep working on systems that can tell where the parking is . xxmaj is it possible to take parking availability into account when scheduling classes ? xxbos xxmaj have a clearer website on information , and be more</td>\n",
       "      <td>to find parking . xxmaj like the the xxmaj department the shuttle floor 8th floors is be more same as xxmaj the staff of the variety of food options . xxbos xxmaj the up on the that are be you the campus lots going xxmaj it it possible to have a spots for the for there a ? xxbos xxmaj the more better way for how about especially more more</td>\n",
       "    </tr>\n",
       "    <tr>\n",
       "      <th>2</th>\n",
       "      <td>marsha xxmaj marion is an outstanding ambassador to xxup ucr and has been highly instrumental in helping new managers in xxup hr get up to speed quickly on the department and campus culture . xxbos xxmaj student xxmaj staff are more or less trained in how they can be of assistance to their student peers . xxbos xxmaj pets friendly xxbos xxmaj more xxmaj social events less cultural events xxbos</td>\n",
       "      <td>xxmaj marion is an outstanding ambassador to xxup ucr and has been highly instrumental in helping new managers in xxup hr get up to speed quickly on the department and campus culture . xxbos xxmaj student xxmaj staff are more or less trained in how they can be of assistance to their student peers . xxbos xxmaj pets friendly xxbos xxmaj more xxmaj social events less cultural events xxbos xxmaj</td>\n",
       "      <td>xxmaj xxunk . a excellent trainer for xxup uc . is been a supportive in helping us employees and the xxunk to promoted to date and and a new 's the . . xxbos xxmaj the xxmaj life xxbos very than less helpful in their to treat help trained service . students customers staff . xxmaj xxmaj the , xxbos xxmaj the parking parking xxmaj xxbos xxbos xxbos xxbos xxmaj</td>\n",
       "    </tr>\n",
       "    <tr>\n",
       "      <th>3</th>\n",
       "      <td>expensive and there are fewer menu items at some of the places in the xxup hub . xxmaj crafted in the xxup hub is very expensive for a sandwich , especially compared to xxmaj subway that could be customized to whatever you want on the sandwich . xxmaj there should be daily or weekly special items that rotate so that there is more variety xxbos nothing xxbos xxmaj nice variety</td>\n",
       "      <td>and there are fewer menu items at some of the places in the xxup hub . xxmaj crafted in the xxup hub is very expensive for a sandwich , especially compared to xxmaj subway that could be customized to whatever you want on the sandwich . xxmaj there should be daily or weekly special items that rotate so that there is more variety xxbos nothing xxbos xxmaj nice variety of</td>\n",
       "      <td>. not are not options options . the point the dining . the xxup tsu . xxbos the is the xxup hub is a good . the student , and for to the subway . is be used to the it want . campus menu . xxmaj the are be a specials daily specials deals . are between that you is a variety . xxmaj xxbos xxmaj the staff of</td>\n",
       "    </tr>\n",
       "    <tr>\n",
       "      <th>4</th>\n",
       "      <td>always willing to help . xxbos xxmaj its convenient . xxbos xxmaj no comment xxbos no xxbos i liked how they offer appeals and understand that signage is important . xxbos xxmaj it is good xxbos xxmaj advancement is largely white . xxmaj there are no women of color in leadership roles . xxmaj the \" bottom of the totem pole \" roles are largely held by female employees .</td>\n",
       "      <td>willing to help . xxbos xxmaj its convenient . xxbos xxmaj no comment xxbos no xxbos i liked how they offer appeals and understand that signage is important . xxbos xxmaj it is good xxbos xxmaj advancement is largely white . xxmaj there are no women of color in leadership roles . xxmaj the \" bottom of the totem pole \" roles are largely held by female employees . xxbos</td>\n",
       "      <td>willing to help . xxbos xxmaj the a and xxbos xxmaj the xxbos xxbos xxmaj xxbos xxmaj like the the were a to advice the they is not . xxbos xxmaj the 's very . xxmaj the xxmaj a a . xxmaj the is many opportunities in color in my positions . xxmaj there xxmaj white line the ladder pole \" is are not based by the staff . xxmaj</td>\n",
       "    </tr>\n",
       "    <tr>\n",
       "      <th>5</th>\n",
       "      <td>worry for her health . xxmaj there is major favoritism and several people have jobs and no one really knows what they do over here … . the ▁ questions that i answered with n / a are because they do n't happen or you did n't have an answer i could choose from . xxmaj thanks for doing this survey . xxbos xxmaj lower prices xxbos xxmaj the accessibly</td>\n",
       "      <td>for her health . xxmaj there is major favoritism and several people have jobs and no one really knows what they do over here … . the ▁ questions that i answered with n / a are because they do n't happen or you did n't have an answer i could choose from . xxmaj thanks for doing this survey . xxbos xxmaj lower prices xxbos xxmaj the accessibly to</td>\n",
       "      <td>about the safety and xxbos she is no concern in favoritism people in been that are one else cares how they are . the . xxbos xxbos ▁ xxmaj are are have were the / a are not i are n't apply to are are n't know the answer . would n't . . xxbos it for your this . . xxbos xxmaj the prices xxbos xxmaj the staff via</td>\n",
       "    </tr>\n",
       "    <tr>\n",
       "      <th>6</th>\n",
       "      <td>job performance reviews / evaluations . xxmaj some coworkers do not do their work and the supervisor pushes those coworkers ' work onto me since i can get the job done . i do not feel valued here and nothing is being done to better the work environment here . xxbos xxmaj their website and emails was very informative when it comes to communication on any topic involving parking and</td>\n",
       "      <td>performance reviews / evaluations . xxmaj some coworkers do not do their work and the supervisor pushes those coworkers ' work onto me since i can get the job done . i do not feel valued here and nothing is being done to better the work environment here . xxbos xxmaj their website and emails was very informative when it comes to communication on any topic involving parking and transportation</td>\n",
       "      <td>description . . reviews . xxmaj the of are not receive their job well are others does them to to work to others . they do not away job done . xxmaj have n't feel that by . i is done done about improve my work environment . . xxbos xxmaj the website is website are very helpful and i came to finding with the issues . financial . transportation</td>\n",
       "    </tr>\n",
       "    <tr>\n",
       "      <th>7</th>\n",
       "      <td>, and always a xxunk to find solutions . xxbos xxmaj no hassle xxbos has a variety of food items i need xxbos xxmaj laura from xxmaj custodial xxmaj services does an amazing job with her tasks at xxmaj student xxmaj health ! xxbos xxmaj these stores have almost everything we need . xxbos i did n't notice a huge change from before . xxbos xxmaj helpful staff xxbos xxmaj</td>\n",
       "      <td>and always a xxunk to find solutions . xxbos xxmaj no hassle xxbos has a variety of food items i need xxbos xxmaj laura from xxmaj custodial xxmaj services does an amazing job with her tasks at xxmaj student xxmaj health ! xxbos xxmaj these stores have almost everything we need . xxbos i did n't notice a huge change from before . xxbos xxmaj helpful staff xxbos xxmaj most</td>\n",
       "      <td>and the have great of the the to xxbos xxmaj the xxbos xxbos xxmaj everything lot of items xxbos xxbos can xxbos xxmaj the xxmaj the imprints xxmaj services xxbos a amazing job . the work and the university xxmaj health . xxbos xxmaj the are are a everything i need . xxbos xxmaj like n't know that lot line in the the xxbos xxmaj the staff xxbos xxmaj the</td>\n",
       "    </tr>\n",
       "    <tr>\n",
       "      <th>8</th>\n",
       "      <td>xxmaj its great . xxbos xxmaj there is at least someone to talk to , even if their knowledge is limited xxbos xxmaj are we ever going to be able to use credit card ? xxmaj at city post offices you can . xxbos xxmaj need contact several times before they can come to the place . xxbos xxmaj many options and types of food available . xxbos xxmaj andrew</td>\n",
       "      <td>its great . xxbos xxmaj there is at least someone to talk to , even if their knowledge is limited xxbos xxmaj are we ever going to be able to use credit card ? xxmaj at city post offices you can . xxbos xxmaj need contact several times before they can come to the place . xxbos xxmaj many options and types of food available . xxbos xxmaj andrew xxup</td>\n",
       "      <td>xxunk a to xxbos xxmaj the is a least one in help to . and if it is is not . xxmaj the there supposed going to have able to get xxmaj cards ? xxbos it least , office , can pay xxmaj xxmaj the more information times to the are be to fix office . xxbos xxmaj the of xxbos the of food xxbos . xxbos xxmaj the xxmaj</td>\n",
       "    </tr>\n",
       "  </tbody>\n",
       "</table>"
      ],
      "text/plain": [
       "<IPython.core.display.HTML object>"
      ]
     },
     "metadata": {},
     "output_type": "display_data"
    }
   ],
   "source": [
    "learn.show_results()"
   ]
  },
  {
   "cell_type": "code",
   "execution_count": 51,
   "metadata": {
    "scrolled": true
   },
   "outputs": [],
   "source": [
    "# interp = Interpretation.from_learner(learn) # .. kernel dies at about here: 31.18% [53/170 02:21<05:12]"
   ]
  },
  {
   "cell_type": "code",
   "execution_count": 52,
   "metadata": {},
   "outputs": [],
   "source": [
    "# interp.plot_top_losses(5)"
   ]
  },
  {
   "cell_type": "code",
   "execution_count": 53,
   "metadata": {},
   "outputs": [
    {
     "data": {
      "image/png": "[encoded data removed]",
      "text/plain": [
       "<Figure size 864x288 with 2 Axes>"
      ]
     },
     "metadata": {},
     "output_type": "display_data"
    }
   ],
   "source": [
    "learn.recorder.plot_sched()"
   ]
  },
  {
   "cell_type": "code",
   "execution_count": 54,
   "metadata": {},
   "outputs": [
    {
     "data": {
      "image/png": "[encoded data removed]",
      "text/plain": [
       "<Figure size 648x432 with 1 Axes>"
      ]
     },
     "metadata": {},
     "output_type": "display_data"
    }
   ],
   "source": [
    "learn.recorder.plot_loss()"
   ]
  },
  {
   "cell_type": "markdown",
   "metadata": {},
   "source": [
    "#### Inference time (new in 1.40)  \n",
    "See: https://docs.fast.ai/tutorial.inference.html#Language-modelling"
   ]
  },
  {
   "cell_type": "code",
   "execution_count": 55,
   "metadata": {},
   "outputs": [],
   "source": [
    "backwards = False\n",
    "data_suf = ''\n",
    "m_pre = 'bwd_' if (backwards) else 'fwd_'\n",
    "\n",
    "inf_learn = load_learner(fname=LM_PATH/f'{m_pre}export_lm{data_suf}.pkl', cpu=True)"
   ]
  },
  {
   "cell_type": "code",
   "execution_count": 56,
   "metadata": {},
   "outputs": [
    {
     "data": {
      "text/html": [],
      "text/plain": [
       "<IPython.core.display.HTML object>"
      ]
     },
     "metadata": {},
     "output_type": "display_data"
    },
    {
     "data": {
      "text/plain": [
       "'The library needs to consider adding TLC to the computer section / area . i am amazed at the lack of ability to get more reasonably priced textbooks . If the library refuses to help this issue by hiring many Imprints'"
      ]
     },
     "execution_count": 56,
     "metadata": {},
     "output_type": "execute_result"
    }
   ],
   "source": [
    "inf_learn.predict('The library needs to', n_words=40)"
   ]
  },
  {
   "cell_type": "code",
   "execution_count": 57,
   "metadata": {},
   "outputs": [
    {
     "data": {
      "text/html": [],
      "text/plain": [
       "<IPython.core.display.HTML object>"
      ]
     },
     "metadata": {},
     "output_type": "display_data"
    },
    {
     "data": {
      "text/plain": [
       "'The best thing about parking is that they took away painting of parking lot 68 but do i think it is fine since it was grass existing and places that they touched on using sours . Need more lots to park .'"
      ]
     },
     "execution_count": 57,
     "metadata": {},
     "output_type": "execute_result"
    }
   ],
   "source": [
    "inf_learn.predict('The best thing about parking is', n_words=40)"
   ]
  },
  {
   "cell_type": "code",
   "execution_count": 58,
   "metadata": {},
   "outputs": [
    {
     "data": {
      "text/html": [],
      "text/plain": [
       "<IPython.core.display.HTML object>"
      ]
     },
     "metadata": {},
     "output_type": "display_data"
    },
    {
     "data": {
      "text/plain": [
       "'The worse thing about parking is parking on campus . i have a solution to my problem which is an airport issue so hence paying possibilities compared to those that already park on campus . The lines in the gym can get very long'"
      ]
     },
     "execution_count": 58,
     "metadata": {},
     "output_type": "execute_result"
    }
   ],
   "source": [
    "inf_learn.predict('The worse thing about parking is', n_words=40)"
   ]
  },
  {
   "cell_type": "code",
   "execution_count": null,
   "metadata": {},
   "outputs": [],
   "source": []
  },
  {
   "cell_type": "markdown",
   "metadata": {},
   "source": [
    "## Getting document vectors from LM"
   ]
  },
  {
   "cell_type": "code",
   "execution_count": 59,
   "metadata": {
    "tags": []
   },
   "outputs": [
    {
     "name": "stdout",
     "output_type": "stream",
     "text": [
      "591447 11612\n"
     ]
    }
   ],
   "source": [
    "verbatims_df = pd.read_csv(LM_PATH/'all.csv', dtype=TASK_LM_DTYPES, parse_dates=[])\n",
    "\n",
    "inf_df = verbatims_df[verbatims_df.SurveyID == 130].copy()\n",
    "inf_df.reset_index(drop=True, inplace=True)\n",
    "print(len(verbatims_df), len(inf_df))\n",
    "\n",
    "corpus_cols = ['AnswerText']  # ['QuestionText', 'AnswerText']"
   ]
  },
  {
   "cell_type": "code",
   "execution_count": 60,
   "metadata": {
    "tags": []
   },
   "outputs": [
    {
     "name": "stdout",
     "output_type": "stream",
     "text": [
      "cuda:1\n"
     ]
    }
   ],
   "source": [
    "backwards = False\n",
    "m_pre = 'bwd_' if backwards else 'fwd_'\n",
    "data_suf = ''\n",
    "\n",
    "# device = torch.device('cpu')\n",
    "device = torch.device('cuda:1') if torch.cuda.is_available() else torch.device('cpu')\n",
    "print(device)"
   ]
  },
  {
   "cell_type": "code",
   "execution_count": 61,
   "metadata": {},
   "outputs": [],
   "source": [
    "# inf_learn = None; gc.collect()\n",
    "\n",
    "inf_learn = load_learner(fname=LM_PATH/f'{m_pre}export_lm{data_suf}.pkl', cpu=False)\n",
    "inf_learn.model = inf_learn.model.to(device)\n",
    "inf_learn.model = inf_learn.model.eval()"
   ]
  },
  {
   "cell_type": "markdown",
   "metadata": {},
   "source": [
    "### Predict by batch"
   ]
  },
  {
   "cell_type": "code",
   "execution_count": 62,
   "metadata": {},
   "outputs": [],
   "source": [
    "lm_vocab = pickle.load(open(LM_PATH/f'vocab{data_suf}.pkl','rb'))"
   ]
  },
  {
   "cell_type": "code",
   "execution_count": 63,
   "metadata": {},
   "outputs": [
    {
     "data": {
      "text/html": [],
      "text/plain": [
       "<IPython.core.display.HTML object>"
      ]
     },
     "metadata": {},
     "output_type": "display_data"
    }
   ],
   "source": [
    "tfms = [\n",
    "    attrgetter('text'), \n",
    "    Tokenizer.from_df(text_cols=corpus_cols, rules=custom_tok_rules, mark_fields=include_fld_tok), \n",
    "    Numericalize(vocab=lm_vocab)\n",
    "]\n",
    "\n",
    "test_ds = Datasets(items=inf_df, tfms=[tfms], dl_type=SortedDL)\n",
    "\n",
    "# note: must include shuffle_train=False or it will drop the last batch when iterating!!!\n",
    "test_dls = test_ds.dataloaders(bs=64, seq_len=bptt, shuffle_train=False,\n",
    "                               before_batch=partial(pad_input, pad_first=False))\n",
    "\n",
    "if (backwards): test_dls.tfms.add(Transform(lambda nums: nums.flip(0)))\n",
    "\n",
    "# use the test_dls.train dataloader for batch inference!\n",
    "inf_dl = test_dls.train"
   ]
  },
  {
   "cell_type": "code",
   "execution_count": 64,
   "metadata": {
    "tags": []
   },
   "outputs": [
    {
     "name": "stdout",
     "output_type": "stream",
     "text": [
      "inf_df items: 11612 | test_dl items: 11612\n",
      "batch size: 64\n"
     ]
    }
   ],
   "source": [
    "print((\n",
    "    f'inf_df items: {len(inf_df)} | test_dl items: {inf_dl.n}\\n'\n",
    "    f'batch size: {inf_dl.bs}'))"
   ]
  },
  {
   "cell_type": "code",
   "execution_count": 65,
   "metadata": {
    "scrolled": true
   },
   "outputs": [
    {
     "data": {
      "text/html": [
       "<table border=\"1\" class=\"dataframe\">\n",
       "  <thead>\n",
       "    <tr style=\"text-align: right;\">\n",
       "      <th></th>\n",
       "      <th>text</th>\n",
       "    </tr>\n",
       "  </thead>\n",
       "  <tbody>\n",
       "    <tr>\n",
       "      <th>0</th>\n",
       "      <td>xxbos xxmaj this is a serious campus - wide issue . xxmaj the university continues to build and expand and makes no plans regarding the people that will staff these new buildings . xxmaj following are a list of points in no particular xxunk . xxmaj far more \" a \" spaces than \" b \" spaces . xxmaj the true ratio should be 3 \" b \" spaces for every \" a \" xxunk . xxmaj insufficient staff parking , especially on the east side of campus . xxmaj with the closing of several lots due to trolley construction and the opening of xxmaj jacobs and the xxmaj outpatient xxmaj pavilion , where will people park ? i understand a new building is planned for the lot across from xxmaj shiley as well . xxmaj great , eliminate more parking , require more people to get xxunk . xxmaj</td>\n",
       "    </tr>\n",
       "    <tr>\n",
       "      <th>1</th>\n",
       "      <td>xxbos xxmaj more native plants and fewer eucalyptus to give a sense of xxup uc xxmaj san xxmaj diego as a place , and for fire safety . xxmaj get rid of the eucalyptus -- it was an embarrassing mistake ! xxmaj better separation of pedestrians and bikes to reduce hazards and stress on moving around . xxmaj get rid of constant drum of how great we are with the banners . xxmaj get rid of the ucsan xxmaj diego label on the trolley line from xxmaj old xxmaj town to xxmaj san xxmaj ysidro -- it makes no sense , it 's confusing , it 's embarrasing ! ! xxmaj get students and staff engaged in making a working landscape of edible and usable plants . xxmaj bike paths need to meander to discourage pedestrians ; pedestrian paths should go straight ; avoid steps for pedestrians wherever possible .</td>\n",
       "    </tr>\n",
       "  </tbody>\n",
       "</table>"
      ],
      "text/plain": [
       "<IPython.core.display.HTML object>"
      ]
     },
     "metadata": {},
     "output_type": "display_data"
    }
   ],
   "source": [
    "inf_dl.show_batch(max_n=2)"
   ]
  },
  {
   "cell_type": "code",
   "execution_count": 66,
   "metadata": {
    "tags": []
   },
   "outputs": [
    {
     "name": "stdout",
     "output_type": "stream",
     "text": [
      "0\n",
      "CPU times: user 3.55 s, sys: 3.06 s, total: 6.61 s\n",
      "Wall time: 7.13 s\n"
     ]
    }
   ],
   "source": [
    "%%time \n",
    "# ... entire dataset takes less than 8 mins\n",
    "\n",
    "doc_vecs = []\n",
    "\n",
    "with torch.no_grad():\n",
    "    for index, xb in enumerate(inf_dl):\n",
    "        if index % 10000 == 0:  print(index)\n",
    "       \n",
    "        # reset hidden state (if you don't do this you will OOM)\n",
    "        inf_learn.model.reset()\n",
    "        \n",
    "        _ , raw_outputs, outputs = inf_learn.model(xb[0])\n",
    "        \n",
    "        # _.shape           => torch.Size([64, seq, 32840])  (bs, seq, vocab)\n",
    "        # raw_outputs.shape => torch.Size([64, seq, 400])    (bs, seq, hidden)\n",
    "        # outputs.shape     => torch.Size([64, seq, 400])    (bs, seq, hidden)\n",
    "        \n",
    "        # append the hidden state for the last token in each sequence\n",
    "        doc_vecs.append(to_detach(raw_outputs[:,-1,:]))\n",
    "        \n",
    "all_vecs = L(torch.cat(doc_vecs))\n",
    "\n",
    "# test_dl.get_idxs() => unsorted/original order items\n",
    "all_vecs = all_vecs[0][np.argsort(inf_dl.get_idxs())]"
   ]
  },
  {
   "cell_type": "code",
   "execution_count": 67,
   "metadata": {},
   "outputs": [
    {
     "data": {
      "text/plain": [
       "torch.Size([11612, 400])"
      ]
     },
     "execution_count": 67,
     "metadata": {},
     "output_type": "execute_result"
    }
   ],
   "source": [
    "all_vecs.shape"
   ]
  },
  {
   "cell_type": "code",
   "execution_count": 68,
   "metadata": {},
   "outputs": [],
   "source": [
    "np.save(str(LM_PATH/f'{yyyymmdd}_{m_pre}docvecs_d400{data_suf}.npy'), all_vecs[0].numpy())"
   ]
  },
  {
   "cell_type": "code",
   "execution_count": null,
   "metadata": {},
   "outputs": [],
   "source": []
  },
  {
   "cell_type": "markdown",
   "metadata": {},
   "source": [
    "### Predict each row, one by one"
   ]
  },
  {
   "cell_type": "code",
   "execution_count": 69,
   "metadata": {
    "tags": []
   },
   "outputs": [
    {
     "name": "stdout",
     "output_type": "stream",
     "text": [
      "0\n",
      "10000\n",
      "CPU times: user 1min 28s, sys: 619 ms, total: 1min 28s\n",
      "Wall time: 1min 28s\n"
     ]
    }
   ],
   "source": [
    "%%time \n",
    "\n",
    "doc_vecs = []\n",
    "\n",
    "with torch.no_grad():\n",
    "    for index, row in inf_df.iterrows():\n",
    "        #if index > 1000: break;\n",
    "        if index % 10000 == 0:  print(index)\n",
    "\n",
    "        # reset hidden state (if you don't do this you will OOM)\n",
    "        inf_learn.model.reset()\n",
    "        \n",
    "        # for lm, have to do one item at a time and we ignore probs since it will vary\n",
    "        # based on the # of tokens in each example\n",
    "        xb = inf_dl.infer(row[corpus_cols].item()).to(device)\n",
    "        _ , raw_outputs, outputs = inf_learn.model(xb[None,:]) #if not backwards else inf_learn.model(xb.flip(1))\n",
    "\n",
    "        doc_vecs.append(to_detach(raw_outputs[:,-1,:]))\n",
    "        \n",
    "        \n",
    "all_vecs = L(torch.cat(doc_vecs))\n",
    "\n",
    "# test_dl.get_idxs() => unsorted/original order items\n",
    "all_vecs = all_vecs[0][np.argsort(inf_dl.get_idxs())]"
   ]
  },
  {
   "cell_type": "code",
   "execution_count": 70,
   "metadata": {},
   "outputs": [
    {
     "data": {
      "text/plain": [
       "torch.Size([11612, 400])"
      ]
     },
     "execution_count": 70,
     "metadata": {},
     "output_type": "execute_result"
    }
   ],
   "source": [
    "all_vecs.shape"
   ]
  },
  {
   "cell_type": "code",
   "execution_count": null,
   "metadata": {},
   "outputs": [],
   "source": []
  },
  {
   "cell_type": "code",
   "execution_count": null,
   "metadata": {},
   "outputs": [],
   "source": []
  }
 ],
 "metadata": {
  "kernelspec": {
   "display_name": "Python 3",
   "language": "python",
   "name": "python3"
  },
  "language_info": {
   "codemirror_mode": {
    "name": "ipython",
    "version": 3
   },
   "file_extension": ".py",
   "mimetype": "text/x-python",
   "name": "python",
   "nbconvert_exporter": "python",
   "pygments_lexer": "ipython3",
   "version": "3.7.6"
  },
  "varInspector": {
   "cols": {
    "lenName": 16,
    "lenType": 16,
    "lenVar": 40
   },
   "kernels_config": {
    "python": {
     "delete_cmd_postfix": "",
     "delete_cmd_prefix": "del ",
     "library": "var_list.py",
     "varRefreshCmd": "print(var_dic_list())"
    },
    "r": {
     "delete_cmd_postfix": ") ",
     "delete_cmd_prefix": "rm(",
     "library": "var_list.r",
     "varRefreshCmd": "cat(var_dic_list()) "
    }
   },
   "types_to_exclude": [
    "module",
    "function",
    "builtin_function_or_method",
    "instance",
    "_Feature"
   ],
   "window_display": false
  }
 },
 "nbformat": 4,
 "nbformat_minor": 2
}
