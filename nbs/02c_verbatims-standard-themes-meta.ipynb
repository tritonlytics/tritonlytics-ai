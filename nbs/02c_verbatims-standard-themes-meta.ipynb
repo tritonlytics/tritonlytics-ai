{
 "cells": [
  {
   "cell_type": "code",
   "execution_count": 1,
   "id": "wired-monday",
   "metadata": {},
   "outputs": [],
   "source": [
    "#default_exp verbatims/standard_themes_meta"
   ]
  },
  {
   "cell_type": "code",
   "execution_count": 2,
   "id": "developing-neighbor",
   "metadata": {},
   "outputs": [],
   "source": [
    "#all_slow"
   ]
  },
  {
   "cell_type": "code",
   "execution_count": 3,
   "id": "engaging-platform",
   "metadata": {},
   "outputs": [],
   "source": [
    "#hide\n",
    "%reload_ext autoreload\n",
    "%autoreload 2\n",
    "%matplotlib inline"
   ]
  },
  {
   "cell_type": "markdown",
   "id": "international-penny",
   "metadata": {},
   "source": [
    "# Verbatims - Standard Themes: Meta\n",
    "\n",
    "> This module defines the training configuration object, data preparation, training, optimization, and inference code for our multimodal classification/regression task that, given a verbatim and a related standard theme, predicts the sentiment of the verbatim relative to the theme (regression) and whether it should be used as an example of that theme (classification)"
   ]
  },
  {
   "cell_type": "code",
   "execution_count": 4,
   "id": "aggressive-chemical",
   "metadata": {},
   "outputs": [
    {
     "name": "stderr",
     "output_type": "stream",
     "text": [
      "[nltk_data] Downloading package wordnet to /home/wgilliam/nltk_data...\n",
      "[nltk_data]   Package wordnet is already up-to-date!\n"
     ]
    }
   ],
   "source": [
    "#export\n",
    "import os, datetime, gc\n",
    "import sklearn.metrics as skm\n",
    "from fastai.text.all import *\n",
    "from fastai import metrics as fa_metrics\n",
    "from transformers import *\n",
    "\n",
    "import optuna\n",
    "\n",
    "from blurr.utils import *\n",
    "from blurr.data.core import *\n",
    "from blurr.modeling.core import *\n",
    "from blurr.modeling.all import MultiTargetLoss\n",
    "\n",
    "from tritonlytics_ai.utils import *\n",
    "\n",
    "from transformers import logging as hf_logging\n",
    "hf_logging.set_verbosity_error()"
   ]
  },
  {
   "cell_type": "code",
   "execution_count": 5,
   "id": "visible-plane",
   "metadata": {},
   "outputs": [],
   "source": [
    "#hide\n",
    "import pdb\n",
    "\n",
    "# pandas and plotting config\n",
    "import seaborn as sns\n",
    "sns.set_style('whitegrid')\n",
    "\n",
    "plt.rcParams['figure.figsize'] = (9,6)\n",
    "\n",
    "pd.set_option('display.max_rows', 500)\n",
    "pd.set_option('display.max_columns', 500)\n",
    "pd.set_option('display.width', 1000)\n",
    "pd.set_option('display.max_colwidth', 100)\n",
    "\n",
    "from nbdev.showdoc import *\n",
    "from fastcore.test import *"
   ]
  },
  {
   "cell_type": "code",
   "execution_count": 6,
   "id": "moderate-reaction",
   "metadata": {},
   "outputs": [
    {
     "name": "stdout",
     "output_type": "stream",
     "text": [
      "Using pytorch 1.7.1+cu110\n",
      "Using fastai 2.2.7\n",
      "Using transformers 4.3.3\n"
     ]
    }
   ],
   "source": [
    "#hide\n",
    "from fastai import __version__ as fa_version\n",
    "from torch import __version__ as pt_version\n",
    "from transformers import __version__ as hft_version\n",
    "\n",
    "print(f'Using pytorch {pt_version}')\n",
    "print(f'Using fastai {fa_version}')\n",
    "print(f'Using transformers {hft_version}')"
   ]
  },
  {
   "cell_type": "code",
   "execution_count": 7,
   "id": "affected-fishing",
   "metadata": {},
   "outputs": [
    {
     "name": "stdout",
     "output_type": "stream",
     "text": [
      "Using GPU #1: GeForce GTX 1080 Ti\n"
     ]
    }
   ],
   "source": [
    "#cuda\n",
    "torch.cuda.set_device(1)\n",
    "print(f'Using GPU #{torch.cuda.current_device()}: {torch.cuda.get_device_name()}')"
   ]
  },
  {
   "cell_type": "markdown",
   "id": "charming-banks",
   "metadata": {},
   "source": [
    "## Training configuration"
   ]
  },
  {
   "cell_type": "code",
   "execution_count": 8,
   "id": "equipped-cooperative",
   "metadata": {},
   "outputs": [],
   "source": [
    "#export\n",
    "train_config = {\n",
    "    'm_pre': '',\n",
    "    'm_suf': '_multilabel_hf',\n",
    "    'base_model_name': 'verbatim_standard_theme_meta',\n",
    "    \n",
    "    'orig_txt_cols': ['theme', 'answer_text'],\n",
    "    'txt_cols': ['_theme_', '_text_'],\n",
    "    'max_seq_length': 256,\n",
    "    'batch_size': 8,\n",
    "    'corpus_suf': '_multitask',\n",
    "    'train_data': STANDARD_THEME_META_PATH/'train.csv',\n",
    "    'valid_data': STANDARD_THEME_META_PATH/'test.csv',\n",
    "    \n",
    "    'opt_beta': 0.5, \n",
    "    'opt_beta_average': 'binary',\n",
    "    'opt_beta_sample_weight': None,\n",
    "    'opt_start': 0.08, \n",
    "    'opt_end': 0.7,\n",
    "    \n",
    "    'save_model_monitor': 'valid_loss', \n",
    "    'save_model_comp': np.less,\n",
    "    'learner_path': STANDARD_THEME_META_PATH\n",
    "}\n",
    "\n",
    "train_config.update({\n",
    "    'cache_data_path': STANDARD_THEME_META_PATH/f\"data_{train_config['base_model_name']}.pkl\",\n",
    "    'save_model_filename': f\"{train_config['m_pre']}{train_config['base_model_name']}{train_config['m_suf']}_bestmodel\",\n",
    "    'export_filename': f\"{train_config['m_pre']}{train_config['base_model_name']}{train_config['m_suf']}_export.pkl\",\n",
    "})"
   ]
  },
  {
   "cell_type": "code",
   "execution_count": 9,
   "id": "comprehensive-server",
   "metadata": {},
   "outputs": [
    {
     "data": {
      "text/plain": [
       "{'m_pre': '',\n",
       " 'm_suf': '_multilabel_hf',\n",
       " 'base_model_name': 'verbatim_standard_theme_meta',\n",
       " 'orig_txt_cols': ['theme', 'answer_text'],\n",
       " 'txt_cols': ['_theme_', '_text_'],\n",
       " 'max_seq_length': 256,\n",
       " 'batch_size': 8,\n",
       " 'corpus_suf': '_multitask',\n",
       " 'train_data': Path('data/classification/standard_themes/meta/train.csv'),\n",
       " 'valid_data': Path('data/classification/standard_themes/meta/test.csv'),\n",
       " 'opt_beta': 0.5,\n",
       " 'opt_beta_average': 'binary',\n",
       " 'opt_beta_sample_weight': None,\n",
       " 'opt_start': 0.08,\n",
       " 'opt_end': 0.7,\n",
       " 'save_model_monitor': 'valid_loss',\n",
       " 'save_model_comp': <ufunc 'less'>,\n",
       " 'learner_path': Path('data/classification/standard_themes/meta'),\n",
       " 'cache_data_path': Path('data/classification/standard_themes/meta/data_verbatim_standard_theme_meta.pkl'),\n",
       " 'save_model_filename': 'verbatim_standard_theme_meta_multilabel_hf_bestmodel',\n",
       " 'export_filename': 'verbatim_standard_theme_meta_multilabel_hf_export.pkl'}"
      ]
     },
     "execution_count": 9,
     "metadata": {},
     "output_type": "execute_result"
    }
   ],
   "source": [
    "train_config"
   ]
  },
  {
   "cell_type": "markdown",
   "id": "removed-appliance",
   "metadata": {},
   "source": [
    "## Data"
   ]
  },
  {
   "cell_type": "markdown",
   "id": "august-illustration",
   "metadata": {},
   "source": [
    "Prepare the data source"
   ]
  },
  {
   "cell_type": "code",
   "execution_count": 10,
   "id": "familiar-franchise",
   "metadata": {},
   "outputs": [],
   "source": [
    "train_df = pd.read_csv(train_config['train_data'])\n",
    "valid_df = pd.read_csv(train_config['valid_data'])"
   ]
  },
  {
   "cell_type": "code",
   "execution_count": 11,
   "id": "corrected-booking",
   "metadata": {},
   "outputs": [
    {
     "data": {
      "text/html": [
       "<div>\n",
       "<style scoped>\n",
       "    .dataframe tbody tr th:only-of-type {\n",
       "        vertical-align: middle;\n",
       "    }\n",
       "\n",
       "    .dataframe tbody tr th {\n",
       "        vertical-align: top;\n",
       "    }\n",
       "\n",
       "    .dataframe thead th {\n",
       "        text-align: right;\n",
       "    }\n",
       "</style>\n",
       "<table border=\"1\" class=\"dataframe\">\n",
       "  <thead>\n",
       "    <tr style=\"text-align: right;\">\n",
       "      <th></th>\n",
       "      <th>id</th>\n",
       "      <th>question_ans_id</th>\n",
       "      <th>answer_text</th>\n",
       "      <th>answer_text_non_english</th>\n",
       "      <th>language</th>\n",
       "      <th>survey_id</th>\n",
       "      <th>survey_type_id</th>\n",
       "      <th>benchmark_survey_type</th>\n",
       "      <th>client_id</th>\n",
       "      <th>rsp_id</th>\n",
       "      <th>question_category_abbr</th>\n",
       "      <th>question_text</th>\n",
       "      <th>question_class</th>\n",
       "      <th>question_category_id</th>\n",
       "      <th>question_report_abbr</th>\n",
       "      <th>question_category_label</th>\n",
       "      <th>benchmark_level1</th>\n",
       "      <th>benchmark_level2</th>\n",
       "      <th>benchmark_level3</th>\n",
       "      <th>client_benchmark_level</th>\n",
       "      <th>group_code</th>\n",
       "      <th>group_id</th>\n",
       "      <th>group_level1_code</th>\n",
       "      <th>group_level1_name</th>\n",
       "      <th>group_level2_code</th>\n",
       "      <th>group_level2_name</th>\n",
       "      <th>group_level3_code</th>\n",
       "      <th>group_level3_name</th>\n",
       "      <th>group_level4_code</th>\n",
       "      <th>group_level4_name</th>\n",
       "      <th>group_level5_code</th>\n",
       "      <th>group_level5_name</th>\n",
       "      <th>group_level6_code</th>\n",
       "      <th>group_level6_name</th>\n",
       "      <th>group_level7_code</th>\n",
       "      <th>group_level7_name</th>\n",
       "      <th>group_level8_code</th>\n",
       "      <th>group_level8_name</th>\n",
       "      <th>standard_theme_id</th>\n",
       "      <th>theme</th>\n",
       "      <th>url_friendly_theme</th>\n",
       "      <th>theme_display_order</th>\n",
       "      <th>avg_sentiment</th>\n",
       "      <th>is_example</th>\n",
       "    </tr>\n",
       "  </thead>\n",
       "  <tbody>\n",
       "    <tr>\n",
       "      <th>0</th>\n",
       "      <td>660454</td>\n",
       "      <td>93069</td>\n",
       "      <td>\"Academics at UC ANR value my contributions.\"\\r\\n\"Staff members at UC ANR value my contributions...</td>\n",
       "      <td>NaN</td>\n",
       "      <td>English</td>\n",
       "      <td>396</td>\n",
       "      <td>47</td>\n",
       "      <td>SAW</td>\n",
       "      <td>UCANR</td>\n",
       "      <td>480552</td>\n",
       "      <td>None</td>\n",
       "      <td>Please provide any additional feedback regarding the work environment at UC ANR. Your comments w...</td>\n",
       "      <td>Verbatim-Comments</td>\n",
       "      <td>1141.0</td>\n",
       "      <td>Comments re Work Environment at UC ANR</td>\n",
       "      <td>Comments</td>\n",
       "      <td>None</td>\n",
       "      <td>None</td>\n",
       "      <td>None</td>\n",
       "      <td>3.0</td>\n",
       "      <td>250400.0</td>\n",
       "      <td>6984</td>\n",
       "      <td>999999.0</td>\n",
       "      <td>UC Agriculture &amp; Natural Resources</td>\n",
       "      <td>200000.0</td>\n",
       "      <td>AVP Programs and Initiatives</td>\n",
       "      <td>250000.0</td>\n",
       "      <td>Strategic Institutes and Statewide Programs</td>\n",
       "      <td>250400.0</td>\n",
       "      <td>Statewide IPM</td>\n",
       "      <td>NaN</td>\n",
       "      <td>NaN</td>\n",
       "      <td>NaN</td>\n",
       "      <td>NaN</td>\n",
       "      <td>NaN</td>\n",
       "      <td>NaN</td>\n",
       "      <td>NaN</td>\n",
       "      <td>NaN</td>\n",
       "      <td>10</td>\n",
       "      <td>Have Voice within my Institution/Valued Member of my Institution</td>\n",
       "      <td>HaveVoiceWithinMyInstitutionValuedMemberOfMyInstitution</td>\n",
       "      <td>1</td>\n",
       "      <td>2.0</td>\n",
       "      <td>0</td>\n",
       "    </tr>\n",
       "    <tr>\n",
       "      <th>1</th>\n",
       "      <td>589692</td>\n",
       "      <td>2576</td>\n",
       "      <td>*The MSO of this department consistently takes unfair advantage of power dynamics to intimidate ...</td>\n",
       "      <td>NaN</td>\n",
       "      <td>English</td>\n",
       "      <td>212</td>\n",
       "      <td>9</td>\n",
       "      <td>SAW</td>\n",
       "      <td>UCSD</td>\n",
       "      <td>447156</td>\n",
       "      <td>C&amp;B</td>\n",
       "      <td>If you would like to elaborate on any of your answers to the conduct and behavioral questions ab...</td>\n",
       "      <td>Verbatim</td>\n",
       "      <td>1240.0</td>\n",
       "      <td>Conduct &amp; Behavioral - Comments</td>\n",
       "      <td>Conduct &amp; Behavioral</td>\n",
       "      <td>None</td>\n",
       "      <td>None</td>\n",
       "      <td>None</td>\n",
       "      <td>3.0</td>\n",
       "      <td>10104.0</td>\n",
       "      <td>3437</td>\n",
       "      <td>999999.0</td>\n",
       "      <td>UC San Diego</td>\n",
       "      <td>10000.0</td>\n",
       "      <td>ACADEMIC AFFAIRS</td>\n",
       "      <td>10002.0</td>\n",
       "      <td>DIVISIONS/SCHOOLS</td>\n",
       "      <td>10003.0</td>\n",
       "      <td>ARTS &amp; HUMANITIES</td>\n",
       "      <td>10104.0</td>\n",
       "      <td>MUSIC</td>\n",
       "      <td>NaN</td>\n",
       "      <td>NaN</td>\n",
       "      <td>NaN</td>\n",
       "      <td>NaN</td>\n",
       "      <td>NaN</td>\n",
       "      <td>NaN</td>\n",
       "      <td>19</td>\n",
       "      <td>Supervisor Effectiveness/Resolves Staff Issues</td>\n",
       "      <td>SupervisorEffectivenessResolvesStaffIssues</td>\n",
       "      <td>1</td>\n",
       "      <td>1.0</td>\n",
       "      <td>0</td>\n",
       "    </tr>\n",
       "  </tbody>\n",
       "</table>\n",
       "</div>"
      ],
      "text/plain": [
       "       id  question_ans_id                                                                                          answer_text  answer_text_non_english language  survey_id  survey_type_id benchmark_survey_type client_id  rsp_id question_category_abbr                                                                                        question_text     question_class  question_category_id                    question_report_abbr question_category_label benchmark_level1 benchmark_level2 benchmark_level3  client_benchmark_level  group_code  group_id  group_level1_code                   group_level1_name  group_level2_code             group_level2_name  group_level3_code                            group_level3_name  group_level4_code  group_level4_name  group_level5_code group_level5_name  group_level6_code group_level6_name  group_level7_code group_level7_name  group_level8_code  group_level8_name  standard_theme_id                                                             theme  \\\n",
       "0  660454            93069  \"Academics at UC ANR value my contributions.\"\\r\\n\"Staff members at UC ANR value my contributions...                      NaN  English        396              47                   SAW     UCANR  480552                   None  Please provide any additional feedback regarding the work environment at UC ANR. Your comments w...  Verbatim-Comments                1141.0  Comments re Work Environment at UC ANR                Comments             None             None             None                     3.0    250400.0      6984           999999.0  UC Agriculture & Natural Resources           200000.0  AVP Programs and Initiatives           250000.0  Strategic Institutes and Statewide Programs           250400.0      Statewide IPM                NaN               NaN                NaN               NaN                NaN               NaN                NaN                NaN                 10  Have Voice within my Institution/Valued Member of my Institution   \n",
       "1  589692             2576  *The MSO of this department consistently takes unfair advantage of power dynamics to intimidate ...                      NaN  English        212               9                   SAW      UCSD  447156                    C&B  If you would like to elaborate on any of your answers to the conduct and behavioral questions ab...           Verbatim                1240.0         Conduct & Behavioral - Comments    Conduct & Behavioral             None             None             None                     3.0     10104.0      3437           999999.0                        UC San Diego            10000.0              ACADEMIC AFFAIRS            10002.0                            DIVISIONS/SCHOOLS            10003.0  ARTS & HUMANITIES            10104.0             MUSIC                NaN               NaN                NaN               NaN                NaN                NaN                 19                    Supervisor Effectiveness/Resolves Staff Issues   \n",
       "\n",
       "                                        url_friendly_theme  theme_display_order  avg_sentiment  is_example  \n",
       "0  HaveVoiceWithinMyInstitutionValuedMemberOfMyInstitution                    1            2.0           0  \n",
       "1               SupervisorEffectivenessResolvesStaffIssues                    1            1.0           0  "
      ]
     },
     "execution_count": 11,
     "metadata": {},
     "output_type": "execute_result"
    }
   ],
   "source": [
    "train_df.head(2)"
   ]
  },
  {
   "cell_type": "code",
   "execution_count": 12,
   "id": "resident-recording",
   "metadata": {},
   "outputs": [
    {
     "data": {
      "text/plain": [
       "dtype('int64')"
      ]
     },
     "execution_count": 12,
     "metadata": {},
     "output_type": "execute_result"
    }
   ],
   "source": [
    "train_df.is_example.dtype"
   ]
  },
  {
   "cell_type": "markdown",
   "id": "vietnamese-processing",
   "metadata": {},
   "source": [
    "Remove any rows where the \"txt_col\" are nan"
   ]
  },
  {
   "cell_type": "code",
   "execution_count": 13,
   "id": "smaller-theory",
   "metadata": {},
   "outputs": [],
   "source": [
    "train_df.dropna(subset=train_config['orig_txt_cols'], inplace=True)\n",
    "valid_df.dropna(subset=train_config['orig_txt_cols'], inplace=True)"
   ]
  },
  {
   "cell_type": "markdown",
   "id": "preliminary-think",
   "metadata": {},
   "source": [
    "Add a labels column"
   ]
  },
  {
   "cell_type": "code",
   "execution_count": 14,
   "id": "specified-romance",
   "metadata": {},
   "outputs": [],
   "source": [
    "#hide\n",
    "# list(set(train_df.theme.unique()))"
   ]
  },
  {
   "cell_type": "markdown",
   "id": "innocent-intelligence",
   "metadata": {},
   "source": [
    "Consolodate datasets and add a standard column for the text data to be trained on"
   ]
  },
  {
   "cell_type": "code",
   "execution_count": 15,
   "id": "aggressive-terry",
   "metadata": {},
   "outputs": [
    {
     "data": {
      "text/plain": [
       "13413"
      ]
     },
     "execution_count": 15,
     "metadata": {},
     "output_type": "execute_result"
    }
   ],
   "source": [
    "train_df['is_valid'] = False\n",
    "valid_df['is_valid'] = True\n",
    "\n",
    "df = pd.concat([train_df, valid_df])\n",
    "df[train_config['txt_cols']] = df[train_config['orig_txt_cols']]\n",
    "\n",
    "len(df)"
   ]
  },
  {
   "cell_type": "code",
   "execution_count": 9,
   "id": "combined-stylus",
   "metadata": {},
   "outputs": [],
   "source": [
    "#export\n",
    "def get_train_data(train_config_updates={}):\n",
    "    config = {**train_config, **train_config_updates}\n",
    "    \n",
    "    train_df = pd.read_csv(config['train_data'])\n",
    "    train_df.dropna(subset=config['orig_txt_cols'], inplace=True)\n",
    "    train_df.reset_index(drop=True, inplace=True)\n",
    "    train_df['is_valid'] = False\n",
    "    train_df[train_config['txt_cols']] = train_df[train_config['orig_txt_cols']]\n",
    "    \n",
    "    if ('valid_data' in config and config['valid_data'] is not None):\n",
    "        valid_df = pd.read_csv(config['valid_data'])\n",
    "        valid_df.dropna(subset=config['orig_txt_cols'], inplace=True)\n",
    "        valid_df.reset_index(drop=True, inplace=True)\n",
    "        valid_df['is_valid'] = True\n",
    "        valid_df[train_config['txt_cols']] = valid_df[train_config['orig_txt_cols']]\n",
    "        \n",
    "        return pd.concat([train_df, valid_df])\n",
    "    \n",
    "    return train_df"
   ]
  },
  {
   "cell_type": "code",
   "execution_count": 17,
   "id": "focused-replication",
   "metadata": {},
   "outputs": [],
   "source": [
    "df = get_train_data()\n",
    "test(len(df), 0, operator.ge)"
   ]
  },
  {
   "cell_type": "markdown",
   "id": "competent-argentina",
   "metadata": {},
   "source": [
    "Using the mid-level `DataBlocks` API"
   ]
  },
  {
   "cell_type": "code",
   "execution_count": 18,
   "id": "opened-absorption",
   "metadata": {},
   "outputs": [],
   "source": [
    "#hide\n",
    "task = HF_TASKS_AUTO.SequenceClassification\n",
    "\n",
    "pretrained_model_name = \"facebook/bart-base\" #\"roberta-base\"\n",
    "config = AutoConfig.from_pretrained(pretrained_model_name)\n",
    "\n",
    "hf_arch, hf_config, hf_tokenizer, hf_model = BLURR_MODEL_HELPER.get_hf_objects(pretrained_model_name, \n",
    "                                                                               task=task, \n",
    "                                                                               config=config)"
   ]
  },
  {
   "cell_type": "code",
   "execution_count": 19,
   "id": "cooked-plasma",
   "metadata": {},
   "outputs": [],
   "source": [
    "#hide\n",
    "blocks = (\n",
    "    HF_TextBlock(hf_arch, hf_config, hf_tokenizer, hf_model), \n",
    "    RegressionBlock(),\n",
    "    CategoryBlock()\n",
    ")\n",
    "\n",
    "def get_x(inp): return ': '.join(inp[train_config['txt_cols']].values)\n",
    "\n",
    "dblock = DataBlock(blocks=blocks, \n",
    "                   get_x=get_x, \n",
    "                   get_y=[ColReader('avg_sentiment'), ColReader('is_example')], \n",
    "                   splitter=ColSplitter(col='is_valid'), \n",
    "                   n_inp=1)"
   ]
  },
  {
   "cell_type": "code",
   "execution_count": 20,
   "id": "determined-counter",
   "metadata": {},
   "outputs": [],
   "source": [
    "#hide\n",
    "set_seed(TL_RAND_SEED)\n",
    "dls = dblock.dataloaders(df, bs=train_config['batch_size'], num_workers=0)"
   ]
  },
  {
   "cell_type": "code",
   "execution_count": 21,
   "id": "identical-interest",
   "metadata": {},
   "outputs": [
    {
     "name": "stdout",
     "output_type": "stream",
     "text": [
      "The Target vocab has (2 items)\n"
     ]
    }
   ],
   "source": [
    "#hide\n",
    "print(f'The Target vocab has ({len(dls.vocab)} items)')"
   ]
  },
  {
   "cell_type": "code",
   "execution_count": 22,
   "id": "standing-declaration",
   "metadata": {},
   "outputs": [
    {
     "name": "stdout",
     "output_type": "stream",
     "text": [
      "The inputs vocab (50265 items), and the targets (2 items)\n"
     ]
    }
   ],
   "source": [
    "#hide\n",
    "print((f'The inputs vocab ({dls.before_batch[0].hf_tokenizer.vocab_size} items), '\n",
    "       f'and the targets ({len(dls.vocab)} items)'))"
   ]
  },
  {
   "cell_type": "code",
   "execution_count": 23,
   "id": "headed-laugh",
   "metadata": {},
   "outputs": [
    {
     "data": {
      "text/plain": [
       "(3,\n",
       " torch.Size([8, 465]),\n",
       " torch.Size([8]),\n",
       " torch.Size([8]),\n",
       " 'torch.cuda.FloatTensor',\n",
       " 'torch.cuda.LongTensor')"
      ]
     },
     "execution_count": 23,
     "metadata": {},
     "output_type": "execute_result"
    }
   ],
   "source": [
    "#hide\n",
    "b = dls.one_batch()\n",
    "len(b), b[0]['input_ids'].shape, b[1].shape, b[2].shape, b[1].type(), b[2].type()"
   ]
  },
  {
   "cell_type": "code",
   "execution_count": 24,
   "id": "indian-portable",
   "metadata": {},
   "outputs": [
    {
     "data": {
      "text/html": [
       "<table border=\"1\" class=\"dataframe\">\n",
       "  <thead>\n",
       "    <tr style=\"text-align: right;\">\n",
       "      <th></th>\n",
       "      <th>text</th>\n",
       "      <th>text_</th>\n",
       "      <th>category</th>\n",
       "    </tr>\n",
       "  </thead>\n",
       "  <tbody>\n",
       "    <tr>\n",
       "      <th>0</th>\n",
       "      <td>Supervisor Effectiveness/Resolves Staff Issues: In the Enterprise Network and Telecommunications group of ITS, the environment continues to be toxic, retaliatory, abusive, and discriminatory as in past years. Under the direction of James Seddon, supervisor Malerie Samadi harasses and talks down to employees. Manipulates and edits official documentation to make staff look and give lower performance appraisal ratings or retaliate against them. Also, use the same practice to provide their friends with higher performance ratings and award them with higher merit increases.  Senior management continues to harbor this behavior without any consequence and or accountability. James and Malerie exploit minorities and give preferential treatment to personnel hired by them. Regularly abuse the power that the University of California gives them and exercise nepotism because they are both product of such practices.\\r\\nOther supervisors like Ynez Hicks also participates in the same practices of despotism, nepotism, and favoritism. \\r\\nIt is unacceptable that this behavior and practices continue to be used by management without any accountability.  Principles of the community are ignored continuously daily. When this type of situation is brought up to Human Resources, they ignore them because no one is enforcing the UC Principles. James Seddon and Malerie Samadi in the Datacom group don't care about staff promotion, compensation, and well being. They only care about themselves and their friends. Hiring practices are unfair; they manipulate the process so they can hire barely qualified personnel into experienced positions. Existing staff is overworked because newer personnel can not pull their weight, yet Malerie and James make it look like they are in their appraisals. They mentally abuse staff and minimize their work performance. Recently one of the team member past away while working at home. A stroke caused by the stress and the pressure that Malerie was putting on David Ramirez. She used him to get her promotion to supervisor and make her look good in front of others.\\r\\nBoth James and Malerie are the perfect examples of bad management. Somehow they continue to occupy their positions, and Senior Management doesn't do anything about it.  \\r\\nThe lowest level the Datacom team has been in years, all because of James and Malerie's arrogance and lack of ethics.</td>\n",
       "      <td>1.0</td>\n",
       "      <td>0</td>\n",
       "    </tr>\n",
       "    <tr>\n",
       "      <th>1</th>\n",
       "      <td>Have Voice within my Institution/Valued Member of my Institution: It is tough to answer the questions this year. \\r\\nI used to know my resources, and feel positively about training. I do not feel the same since ESR. RSC has limited job functionality because OFC was rolled-out without appropriate reporting and or cost transfers. We have spent many frustrating hours trying to figure out how to access the systems and functions that are up and running (Path). We are left on the front lines with faculty and departments with inadequate tools to help.\\r\\nThe issues above do not make me feel valued as a member of the UC San Diego community or like leadership listens. It feels like no one even stopped to think about what a fund manager does, and how they will be able to continue those functions in the new systems. \\r\\nI realize now it is hard for me to comment on inclusion. I think we do a good job, or at least try to, but I am not in a group that would have ever felt excluded based on my background or orientation.  \\r\\nAmount of work remains an issue. The job expands to the hours allotted. We could do a lot better, more thorough and thoughtful work if we had some space to breath and think. Instead we are running from one fire to the next. Many areas had to learn 1 new ESR system. We had to learn ALL of them. It's WAY too much. On top of already having more than enough work to fill every minute of a 40 hr week. And we have learned that somewhere in the ESR process, it was decided (without our knowledge/input/concurrence) that we would take on more duties.  Yay.</td>\n",
       "      <td>2.0</td>\n",
       "      <td>0</td>\n",
       "    </tr>\n",
       "  </tbody>\n",
       "</table>"
      ],
      "text/plain": [
       "<IPython.core.display.HTML object>"
      ]
     },
     "metadata": {},
     "output_type": "display_data"
    }
   ],
   "source": [
    "#hide\n",
    "dls.show_batch(dataloaders=dls, max_n=2)"
   ]
  },
  {
   "cell_type": "markdown",
   "id": "latin-audit",
   "metadata": {},
   "source": [
    "Codify building training dls with optional caching"
   ]
  },
  {
   "cell_type": "code",
   "execution_count": 10,
   "id": "enabling-mattress",
   "metadata": {},
   "outputs": [],
   "source": [
    "#export\n",
    "def get_train_x(inp, txt_cols): return 'theme: ' + ' comment: '.join(inp[txt_cols].values)\n",
    "\n",
    "def get_train_dls(df, hf_arch, hf_config, hf_tokenizer, hf_model, \n",
    "                  train_config_updates={}, use_cache=False):\n",
    "    \n",
    "    config = {**train_config, **train_config_updates}\n",
    "    cache_path = config['cache_data_path'] if ('cache_data_path' in config) else None\n",
    "    \n",
    "    if (use_cache and cache_path is not None):\n",
    "        if (os.path.isfile(cache_path)): \n",
    "            dls = torch.load(cache_path)\n",
    "            dls.bs = config['batch_size']\n",
    "            return dls\n",
    "    \n",
    "    blocks = (\n",
    "        HF_TextBlock(hf_arch, hf_config, hf_tokenizer, hf_model, max_length=config['max_seq_length']), \n",
    "        RegressionBlock(),\n",
    "        CategoryBlock()\n",
    "    )\n",
    "\n",
    "    dblock = DataBlock(blocks=blocks, \n",
    "                   get_x=partial(get_train_x, txt_cols=config['txt_cols']),\n",
    "                   get_y=[ColReader('avg_sentiment'), ColReader('is_example')], \n",
    "                   splitter=ColSplitter(col='is_valid'), \n",
    "                   n_inp=1)\n",
    "    \n",
    "    set_seed(TL_RAND_SEED)\n",
    "    dls = dblock.dataloaders(df, bs=config['batch_size'], num_workers=0)\n",
    "    if (cache_path is not None): torch.save(dls, config['cache_data_path'])\n",
    "        \n",
    "    return dls"
   ]
  },
  {
   "cell_type": "markdown",
   "id": "automated-bhutan",
   "metadata": {},
   "source": [
    "Tests"
   ]
  },
  {
   "cell_type": "code",
   "execution_count": 26,
   "id": "effective-distributor",
   "metadata": {},
   "outputs": [],
   "source": [
    "df = get_train_data()\n",
    "dls = get_train_dls(df, hf_arch, hf_config, hf_tokenizer, hf_model)\n",
    "\n",
    "test_eq(dls.bs, train_config['batch_size'])\n",
    "test_eq(2, len(dls.vocab))\n",
    "\n",
    "b = dls.one_batch()\n",
    "test_eq(len(b), 3)\n",
    "test_eq(b[1].shape[0], dls.bs)    # = regression task\n",
    "test_eq(b[2].shape[0], dls.bs)    # = classification task"
   ]
  },
  {
   "cell_type": "code",
   "execution_count": 27,
   "id": "german-courtesy",
   "metadata": {},
   "outputs": [],
   "source": [
    "dls = get_train_dls(df, hf_arch, hf_config, hf_tokenizer, hf_model, use_cache=True)\n",
    "\n",
    "test_eq(dls.bs, train_config['batch_size'])\n",
    "test_eq(2, len(dls.vocab))\n",
    "\n",
    "b = dls.one_batch()\n",
    "test_eq(len(b), 3)\n",
    "test_eq(b[1].shape[0], dls.bs)    # = regression task\n",
    "test_eq(b[2].shape[0], dls.bs)    # = classification task"
   ]
  },
  {
   "cell_type": "code",
   "execution_count": 28,
   "id": "cultural-corps",
   "metadata": {},
   "outputs": [
    {
     "data": {
      "text/html": [
       "<table border=\"1\" class=\"dataframe\">\n",
       "  <thead>\n",
       "    <tr style=\"text-align: right;\">\n",
       "      <th></th>\n",
       "      <th>text</th>\n",
       "      <th>text_</th>\n",
       "      <th>category</th>\n",
       "    </tr>\n",
       "  </thead>\n",
       "  <tbody>\n",
       "    <tr>\n",
       "      <th>0</th>\n",
       "      <td>theme: Supervisor Effectiveness/Resolves Staff Issues comment: In the Enterprise Network and Telecommunications group of ITS, the environment continues to be toxic, retaliatory, abusive, and discriminatory as in past years. Under the direction of James Seddon, supervisor Malerie Samadi harasses and talks down to employees. Manipulates and edits official documentation to make staff look and give lower performance appraisal ratings or retaliate against them. Also, use the same practice to provide their friends with higher performance ratings and award them with higher merit increases.  Senior management continues to harbor this behavior without any consequence and or accountability. James and Malerie exploit minorities and give preferential treatment to personnel hired by them. Regularly abuse the power that the University of California gives them and exercise nepotism because they are both product of such practices.\\r\\nOther supervisors like Ynez Hicks also participates in the same practices of despotism, nepotism, and favoritism. \\r\\nIt is unacceptable that this behavior and practices continue to be used by management without any accountability.  Principles of the community are ignored continuously daily. When this type of situation is brought up to Human Resources, they ignore them because no one is enforcing the UC Principles. James Seddon and</td>\n",
       "      <td>1.0</td>\n",
       "      <td>0</td>\n",
       "    </tr>\n",
       "    <tr>\n",
       "      <th>1</th>\n",
       "      <td>theme: Favoritism/Cliques comment: In the Enterprise Network and Telecommunications group of ITS, the environment continues to be toxic, retaliatory, abusive, and discriminatory as in past years. Under the direction of James Seddon, supervisor Malerie Samadi harasses and talks down to employees. Manipulates and edits official documentation to make staff look and give lower performance appraisal ratings or retaliate against them. Also, use the same practice to provide their friends with higher performance ratings and award them with higher merit increases.  Senior management continues to harbor this behavior without any consequence and or accountability. James and Malerie exploit minorities and give preferential treatment to personnel hired by them. Regularly abuse the power that the University of California gives them and exercise nepotism because they are both product of such practices.\\r\\nOther supervisors like Ynez Hicks also participates in the same practices of despotism, nepotism, and favoritism. \\r\\nIt is unacceptable that this behavior and practices continue to be used by management without any accountability.  Principles of the community are ignored continuously daily. When this type of situation is brought up to Human Resources, they ignore them because no one is enforcing the UC Principles. James Seddon and Malerie Sam</td>\n",
       "      <td>1.0</td>\n",
       "      <td>0</td>\n",
       "    </tr>\n",
       "  </tbody>\n",
       "</table>"
      ],
      "text/plain": [
       "<IPython.core.display.HTML object>"
      ]
     },
     "metadata": {},
     "output_type": "display_data"
    }
   ],
   "source": [
    "dls.show_batch(dataloaders=dls, max_n=2)"
   ]
  },
  {
   "cell_type": "markdown",
   "id": "interesting-retirement",
   "metadata": {},
   "source": [
    "## Training"
   ]
  },
  {
   "cell_type": "markdown",
   "id": "mighty-cooling",
   "metadata": {},
   "source": [
    "Configure our **metrics**"
   ]
  },
  {
   "cell_type": "code",
   "execution_count": 11,
   "id": "alike-update",
   "metadata": {},
   "outputs": [],
   "source": [
    "#export\n",
    "# define metrics\n",
    "def sentiment_mse(preds, *targs):\n",
    "    return fa_metrics.mse(preds[0], targs[0])\n",
    "\n",
    "def is_example_acc(preds, *targs):\n",
    "    return fa_metrics.accuracy(preds[1], targs[1])"
   ]
  },
  {
   "cell_type": "code",
   "execution_count": 12,
   "id": "technological-runner",
   "metadata": {},
   "outputs": [],
   "source": [
    "#export\n",
    "def get_metrics(train_config_updates={}):\n",
    "    config = {**train_config, **train_config_updates}\n",
    "    return [ sentiment_mse, is_example_acc ]"
   ]
  },
  {
   "cell_type": "markdown",
   "id": "attempted-cologne",
   "metadata": {},
   "source": [
    "Configure our **loss**"
   ]
  },
  {
   "cell_type": "code",
   "execution_count": 31,
   "id": "confirmed-worcester",
   "metadata": {},
   "outputs": [
    {
     "name": "stdout",
     "output_type": "stream",
     "text": [
      "[1.0, 148.02469135802468]\n"
     ]
    }
   ],
   "source": [
    "#hide\n",
    "is_example_weights = list(np.max(train_df.is_example.value_counts()) /train_df.is_example.value_counts())\n",
    "print(is_example_weights)"
   ]
  },
  {
   "cell_type": "code",
   "execution_count": 32,
   "id": "practical-discharge",
   "metadata": {},
   "outputs": [],
   "source": [
    "#hide\n",
    "# define our custom multi-target loss\n",
    "loss_func = MultiTargetLoss(loss_classes=[MSELossFlat, CrossEntropyLossFlat],\n",
    "                            loss_classes_kwargs=[{}, {'weight': FloatTensor(is_example_weights).to('cuda:1')}],\n",
    "                            weights=[1, 0.1], \n",
    "                            reduction='mean')"
   ]
  },
  {
   "cell_type": "code",
   "execution_count": 13,
   "id": "dying-there",
   "metadata": {},
   "outputs": [],
   "source": [
    "#export\n",
    "def get_loss_func(dls, train_df=None, use_weighted=False):\n",
    "    loss_classes_kwargs = [{}, {}]\n",
    "    \n",
    "    if (use_weighted and train_df is not None):\n",
    "        is_example_weights = list(np.max(train_df.is_example.value_counts()) /train_df.is_example.value_counts())\n",
    "        loss_classes_kwargs[1] = {'weight': FloatTensor(is_example_weights).to(dls.device)}\n",
    "    \n",
    "    loss_func = MultiTargetLoss(loss_classes=[MSELossFlat, CrossEntropyLossFlat],\n",
    "                                loss_classes_kwargs=loss_classes_kwargs,\n",
    "                                weights=[1, 0.1], \n",
    "                                reduction='mean')\n",
    "        \n",
    "    return loss_func"
   ]
  },
  {
   "cell_type": "code",
   "execution_count": 34,
   "id": "reasonable-evaluation",
   "metadata": {},
   "outputs": [],
   "source": [
    "tst_loss_func = get_loss_func(dls, train_df, use_weighted=False)\n",
    "test_is(type(tst_loss_func), MultiTargetLoss)"
   ]
  },
  {
   "cell_type": "code",
   "execution_count": 35,
   "id": "dirty-opinion",
   "metadata": {},
   "outputs": [],
   "source": [
    "tst_loss_func = get_loss_func(dls, train_df, use_weighted=True)\n",
    "test_is(type(tst_loss_func), MultiTargetLoss)\n",
    "test_eq(len(tst_loss_func.loss_funcs[1].func.weight), len(dls.c))\n",
    "test_eq(dls.device, tst_loss_func.loss_funcs[1].func.weight.device)"
   ]
  },
  {
   "cell_type": "markdown",
   "id": "placed-champagne",
   "metadata": {},
   "source": [
    "Configure our **callbacks**"
   ]
  },
  {
   "cell_type": "code",
   "execution_count": 14,
   "id": "ecological-provincial",
   "metadata": {},
   "outputs": [],
   "source": [
    "#export\n",
    "class Meta_MM_HF_BaseModelCallback(HF_BaseModelCallback):\n",
    "    def __init__(self, cls_idx=0):\n",
    "        super().__init__()\n",
    "        self.cls_idx = cls_idx\n",
    "        \n",
    "    def after_pred(self):\n",
    "        super().after_pred()\n",
    "        if (self.learn.pred[0].dim() == 3):\n",
    "            self.learn.pred = (self.learn.pred[0][:,self.cls_idx,:], self.learn.pred[1][:,self.cls_idx,:])"
   ]
  },
  {
   "cell_type": "code",
   "execution_count": 26,
   "id": "filled-richards",
   "metadata": {},
   "outputs": [],
   "source": [
    "#export\n",
    "def get_cbs(train_config_updates={}, add_save_model_cb=True):\n",
    "    config = {**train_config, **train_config_updates}\n",
    "    fit_cbs = []\n",
    "    \n",
    "    best_model_cb = SaveModelCallback(monitor=config['save_model_monitor'], \n",
    "                                      comp=config['save_model_comp'], \n",
    "                                      fname=config['save_model_filename'],\n",
    "                                      reset_on_fit=False)\n",
    "    \n",
    "    if (add_save_model_cb): fit_cbs.append(best_model_cb)\n",
    "    \n",
    "    return [Meta_MM_HF_BaseModelCallback], fit_cbs # (learn_cbs, fit_cbs)"
   ]
  },
  {
   "cell_type": "markdown",
   "id": "occupied-rover",
   "metadata": {},
   "source": [
    "Configure our **final model** by updating our hf_model.classifier for multi-modal tasks"
   ]
  },
  {
   "cell_type": "code",
   "execution_count": 38,
   "id": "touched-spending",
   "metadata": {},
   "outputs": [],
   "source": [
    "#hide\n",
    "\n",
    "# class Meta_MM(Module):\n",
    "#     def __init__(self, in_features=768, inner_dim=768, p=0.0): \n",
    "#         super().__init__()\n",
    "#         self.dense = nn.Linear(in_features, inner_dim)\n",
    "#         self.dropout = nn.Dropout(p=p)\n",
    "#         self.pred_is_example = nn.Linear(inner_dim, 2, bias=False)\n",
    "#         self.pred_avg_sentiment = nn.Linear(inner_dim, 1, bias=False)\n",
    "#         self.pred_avg_sent_range = SigmoidRange(1., 5.1)\n",
    "        \n",
    "#     def forward(self, x):\n",
    "#         x = self.dropout(x)\n",
    "#         x = self.dense(x)\n",
    "#         x = torch.tanh(x)\n",
    "#         x = self.dropout(x)\n",
    "#         is_example = self.pred_is_example(x)\n",
    "#         avg_sentiment = self.pred_avg_sent_range(self.pred_avg_sentiment(x))\n",
    "        \n",
    "#         return avg_sentiment, is_example"
   ]
  },
  {
   "cell_type": "code",
   "execution_count": 15,
   "id": "cloudy-suggestion",
   "metadata": {},
   "outputs": [],
   "source": [
    "#export\n",
    "class Meta_MM(Module):\n",
    "    def __init__(self, in_features=50): \n",
    "        super().__init__()\n",
    "        self.pred_is_example = nn.Linear(in_features, 2, bias=False)\n",
    "        self.pred_avg_sentiment = nn.Linear(in_features, 1, bias=False)\n",
    "        self.pred_avg_sent_range = SigmoidRange(1., 5.1)\n",
    "        \n",
    "    def forward(self, x):\n",
    "        is_example = self.pred_is_example(x)\n",
    "        avg_sentiment = self.pred_avg_sent_range(self.pred_avg_sentiment(x))\n",
    "        \n",
    "        return avg_sentiment, is_example"
   ]
  },
  {
   "cell_type": "code",
   "execution_count": 40,
   "id": "wrong-dressing",
   "metadata": {},
   "outputs": [],
   "source": [
    "#hide\n",
    "last_layer = list(hf_model.named_children())[-1]"
   ]
  },
  {
   "cell_type": "code",
   "execution_count": 41,
   "id": "political-slope",
   "metadata": {},
   "outputs": [
    {
     "data": {
      "text/plain": [
       "'classification_head'"
      ]
     },
     "execution_count": 41,
     "metadata": {},
     "output_type": "execute_result"
    }
   ],
   "source": [
    "#hide\n",
    "last_layer_name = last_layer[0]; last_layer_name"
   ]
  },
  {
   "cell_type": "code",
   "execution_count": 42,
   "id": "floating-structure",
   "metadata": {},
   "outputs": [],
   "source": [
    "#hide\n",
    "in_features = hf_model._modules[last_layer_name].dense.in_features"
   ]
  },
  {
   "cell_type": "code",
   "execution_count": 43,
   "id": "significant-baptist",
   "metadata": {},
   "outputs": [],
   "source": [
    "#hide\n",
    "# hf_model._modules[last_layer_name] = Meta_MM(in_features=in_features)"
   ]
  },
  {
   "cell_type": "code",
   "execution_count": 44,
   "id": "steady-pacific",
   "metadata": {},
   "outputs": [],
   "source": [
    "#hide\n",
    "# in_features = list(last_layer[1].children())[0].in_features; in_features\n",
    "# mm_model = nn.Sequential(list(hf_model.named_children())[:-1][0][1])\n",
    "# mm_model.add_module(name='classifier', module=MM(in_features=768))\n",
    "# hf_model._modules['classifier'] = hf_model._modules.pop(last_layer_name)"
   ]
  },
  {
   "cell_type": "markdown",
   "id": "informal-jimmy",
   "metadata": {},
   "source": [
    "Configure our **Learner**"
   ]
  },
  {
   "cell_type": "code",
   "execution_count": 45,
   "id": "ideal-advisory",
   "metadata": {},
   "outputs": [],
   "source": [
    "#hide\n",
    "try: del learn\n",
    "except: pass\n",
    "finally: gc.collect(); torch.cuda.empty_cache()"
   ]
  },
  {
   "cell_type": "code",
   "execution_count": 16,
   "id": "preliminary-surface",
   "metadata": {},
   "outputs": [],
   "source": [
    "#export\n",
    "def get_learner(hf_model, dls, train_df=None, use_weighted_loss=False, use_fp16=True,\n",
    "                opt_func=partial(Adam, mom=0.9, sqr_mom=0.98, eps=1e-6, wd=0.1),\n",
    "                add_save_model_cb=True, train_config_updates={}):\n",
    "    \n",
    "    config = {**train_config, **train_config_updates}\n",
    "    \n",
    "    # swap out classifier for our Meta_MM module\n",
    "    last_layer = list(hf_model.named_children())[-1]\n",
    "    last_layer_name = last_layer[0]\n",
    "    in_features = hf_model._modules[last_layer_name].dense.in_features\n",
    "    hf_model._modules[last_layer_name] = Meta_MM(in_features=in_features)\n",
    "    \n",
    "    # build learner\n",
    "    model = HF_BaseModelWrapper(hf_model)\n",
    "    loss_func = get_loss_func(dls, train_df, use_weighted_loss)\n",
    "    learn_cbs, fit_cbs = get_cbs(config, add_save_model_cb=add_save_model_cb)\n",
    "    learn_metrics = get_metrics(config)\n",
    "\n",
    "    set_seed(TL_RAND_SEED)\n",
    "    learn = Learner(dls, model, loss_func=loss_func, opt_func=opt_func, \n",
    "                    metrics=learn_metrics, cbs=learn_cbs, splitter=hf_splitter, path=config['learner_path'])\n",
    "    \n",
    "    if (use_fp16): learn = learn.to_fp16()\n",
    "    learn.create_opt() # -> will create your layer groups based on your \"splitter\" function\n",
    "    learn.freeze()\n",
    "    \n",
    "    return learn, fit_cbs"
   ]
  },
  {
   "cell_type": "code",
   "execution_count": 47,
   "id": "operating-shore",
   "metadata": {},
   "outputs": [],
   "source": [
    "train_config_updates={'save_model_filename': f\"exp_{train_config['save_model_filename']}\" }\n",
    "                      \n",
    "learn, fit_cbs = get_learner(hf_model, dls, train_df, train_config_updates=train_config_updates)"
   ]
  },
  {
   "cell_type": "code",
   "execution_count": 48,
   "id": "sudden-context",
   "metadata": {},
   "outputs": [],
   "source": [
    "# learn.blurr_summary()"
   ]
  },
  {
   "cell_type": "code",
   "execution_count": 49,
   "id": "small-judge",
   "metadata": {},
   "outputs": [],
   "source": [
    "# learn.show_training_loop()"
   ]
  },
  {
   "cell_type": "code",
   "execution_count": 50,
   "id": "sunrise-allah",
   "metadata": {},
   "outputs": [
    {
     "data": {
      "text/html": [],
      "text/plain": [
       "<IPython.core.display.HTML object>"
      ]
     },
     "metadata": {},
     "output_type": "display_data"
    },
    {
     "data": {
      "text/plain": [
       "(0.003981071710586548, 1.0964781722577754e-06)"
      ]
     },
     "execution_count": 50,
     "metadata": {},
     "output_type": "execute_result"
    },
    {
     "data": {
      "image/png": "[encoded data removed]",
      "text/plain": [
       "<Figure size 648x432 with 1 Axes>"
      ]
     },
     "metadata": {},
     "output_type": "display_data"
    }
   ],
   "source": [
    "lr_min, lr_steep = learn.lr_find(); lr_min, lr_steep"
   ]
  },
  {
   "cell_type": "code",
   "execution_count": 51,
   "id": "excess-luther",
   "metadata": {},
   "outputs": [
    {
     "data": {
      "text/plain": [
       "0.003981071710586548"
      ]
     },
     "execution_count": 51,
     "metadata": {},
     "output_type": "execute_result"
    }
   ],
   "source": [
    "lr = lr_min; lr_min"
   ]
  },
  {
   "cell_type": "code",
   "execution_count": 52,
   "id": "baking-sister",
   "metadata": {},
   "outputs": [
    {
     "data": {
      "text/html": [
       "<table border=\"1\" class=\"dataframe\">\n",
       "  <thead>\n",
       "    <tr style=\"text-align: left;\">\n",
       "      <th>epoch</th>\n",
       "      <th>train_loss</th>\n",
       "      <th>valid_loss</th>\n",
       "      <th>sentiment_mse</th>\n",
       "      <th>is_example_acc</th>\n",
       "      <th>time</th>\n",
       "    </tr>\n",
       "  </thead>\n",
       "  <tbody>\n",
       "    <tr>\n",
       "      <td>0</td>\n",
       "      <td>0.451275</td>\n",
       "      <td>0.455106</td>\n",
       "      <td>0.451222</td>\n",
       "      <td>0.993294</td>\n",
       "      <td>03:06</td>\n",
       "    </tr>\n",
       "  </tbody>\n",
       "</table>"
      ],
      "text/plain": [
       "<IPython.core.display.HTML object>"
      ]
     },
     "metadata": {},
     "output_type": "display_data"
    },
    {
     "name": "stdout",
     "output_type": "stream",
     "text": [
      "Better model found at epoch 0 with valid_loss value: 0.45510587096214294.\n"
     ]
    }
   ],
   "source": [
    "set_seed(TL_RAND_SEED)\n",
    "learn.fit_one_cycle(1, lr_max=lr, cbs=fit_cbs)\n",
    "# learn.fit_flat_cos(10, lr_max=lr_min, cbs=fit_cbs, pct_start=0.72)"
   ]
  },
  {
   "cell_type": "code",
   "execution_count": 53,
   "id": "subject-bicycle",
   "metadata": {},
   "outputs": [
    {
     "data": {
      "text/html": [],
      "text/plain": [
       "<IPython.core.display.HTML object>"
      ]
     },
     "metadata": {},
     "output_type": "display_data"
    },
    {
     "data": {
      "text/plain": [
       "(3.311311274956097e-07, 0.002511886414140463)"
      ]
     },
     "execution_count": 53,
     "metadata": {},
     "output_type": "execute_result"
    },
    {
     "data": {
      "image/png": "[encoded data removed]",
      "text/plain": [
       "<Figure size 648x432 with 1 Axes>"
      ]
     },
     "metadata": {},
     "output_type": "display_data"
    }
   ],
   "source": [
    "learn.unfreeze()\n",
    "lr_min, lr_steep = learn.lr_find(); lr_min, lr_steep"
   ]
  },
  {
   "cell_type": "code",
   "execution_count": 54,
   "id": "mechanical-legislature",
   "metadata": {},
   "outputs": [
    {
     "data": {
      "text/plain": [
       "3.311311274956097e-07"
      ]
     },
     "execution_count": 54,
     "metadata": {},
     "output_type": "execute_result"
    }
   ],
   "source": [
    "lr = lr_min; lr_min"
   ]
  },
  {
   "cell_type": "code",
   "execution_count": 55,
   "id": "paperback-chest",
   "metadata": {},
   "outputs": [
    {
     "data": {
      "text/html": [
       "<table border=\"1\" class=\"dataframe\">\n",
       "  <thead>\n",
       "    <tr style=\"text-align: left;\">\n",
       "      <th>epoch</th>\n",
       "      <th>train_loss</th>\n",
       "      <th>valid_loss</th>\n",
       "      <th>sentiment_mse</th>\n",
       "      <th>is_example_acc</th>\n",
       "      <th>time</th>\n",
       "    </tr>\n",
       "  </thead>\n",
       "  <tbody>\n",
       "    <tr>\n",
       "      <td>0</td>\n",
       "      <td>0.444798</td>\n",
       "      <td>0.453417</td>\n",
       "      <td>0.449536</td>\n",
       "      <td>0.993294</td>\n",
       "      <td>05:18</td>\n",
       "    </tr>\n",
       "    <tr>\n",
       "      <td>1</td>\n",
       "      <td>0.503554</td>\n",
       "      <td>0.447229</td>\n",
       "      <td>0.443352</td>\n",
       "      <td>0.993294</td>\n",
       "      <td>05:19</td>\n",
       "    </tr>\n",
       "    <tr>\n",
       "      <td>2</td>\n",
       "      <td>0.477169</td>\n",
       "      <td>0.443810</td>\n",
       "      <td>0.439936</td>\n",
       "      <td>0.993294</td>\n",
       "      <td>05:20</td>\n",
       "    </tr>\n",
       "    <tr>\n",
       "      <td>3</td>\n",
       "      <td>0.400236</td>\n",
       "      <td>0.442045</td>\n",
       "      <td>0.438180</td>\n",
       "      <td>0.993294</td>\n",
       "      <td>05:21</td>\n",
       "    </tr>\n",
       "    <tr>\n",
       "      <td>4</td>\n",
       "      <td>0.396645</td>\n",
       "      <td>0.442302</td>\n",
       "      <td>0.438444</td>\n",
       "      <td>0.993294</td>\n",
       "      <td>05:21</td>\n",
       "    </tr>\n",
       "    <tr>\n",
       "      <td>5</td>\n",
       "      <td>0.495828</td>\n",
       "      <td>0.441175</td>\n",
       "      <td>0.437319</td>\n",
       "      <td>0.993294</td>\n",
       "      <td>05:21</td>\n",
       "    </tr>\n",
       "    <tr>\n",
       "      <td>6</td>\n",
       "      <td>0.480493</td>\n",
       "      <td>0.440538</td>\n",
       "      <td>0.436687</td>\n",
       "      <td>0.993294</td>\n",
       "      <td>05:21</td>\n",
       "    </tr>\n",
       "    <tr>\n",
       "      <td>7</td>\n",
       "      <td>0.409209</td>\n",
       "      <td>0.440267</td>\n",
       "      <td>0.436419</td>\n",
       "      <td>0.993294</td>\n",
       "      <td>05:22</td>\n",
       "    </tr>\n",
       "    <tr>\n",
       "      <td>8</td>\n",
       "      <td>0.430810</td>\n",
       "      <td>0.440109</td>\n",
       "      <td>0.436261</td>\n",
       "      <td>0.993294</td>\n",
       "      <td>05:22</td>\n",
       "    </tr>\n",
       "    <tr>\n",
       "      <td>9</td>\n",
       "      <td>0.422115</td>\n",
       "      <td>0.440022</td>\n",
       "      <td>0.436175</td>\n",
       "      <td>0.993294</td>\n",
       "      <td>05:22</td>\n",
       "    </tr>\n",
       "  </tbody>\n",
       "</table>"
      ],
      "text/plain": [
       "<IPython.core.display.HTML object>"
      ]
     },
     "metadata": {},
     "output_type": "display_data"
    },
    {
     "name": "stdout",
     "output_type": "stream",
     "text": [
      "Better model found at epoch 0 with valid_loss value: 0.45341694355010986.\n",
      "Better model found at epoch 1 with valid_loss value: 0.44722941517829895.\n",
      "Better model found at epoch 2 with valid_loss value: 0.44380953907966614.\n",
      "Better model found at epoch 3 with valid_loss value: 0.4420449733734131.\n",
      "Better model found at epoch 5 with valid_loss value: 0.4411749243736267.\n",
      "Better model found at epoch 6 with valid_loss value: 0.4405377507209778.\n",
      "Better model found at epoch 7 with valid_loss value: 0.44026699662208557.\n",
      "Better model found at epoch 8 with valid_loss value: 0.44010862708091736.\n",
      "Better model found at epoch 9 with valid_loss value: 0.44002217054367065.\n"
     ]
    }
   ],
   "source": [
    "set_seed(TL_RAND_SEED)\n",
    "learn.fit_one_cycle(10, lr_max=slice(lr/10, lr), cbs=fit_cbs)\n",
    "# learn.fit_flat_cos(5, lr_max=slice(lr_min/10, lr_min), cbs=fit_cbs, pct_start=0.72)"
   ]
  },
  {
   "cell_type": "code",
   "execution_count": 56,
   "id": "adjustable-hypothesis",
   "metadata": {},
   "outputs": [
    {
     "data": {
      "text/plain": [
       "Path('data/classification/standard_themes/meta/models/exp_verbatim_standard_theme_meta_multilabel_hf.pth')"
      ]
     },
     "execution_count": 56,
     "metadata": {},
     "output_type": "execute_result"
    }
   ],
   "source": [
    "learn.save(f\"exp_{train_config['m_pre']}{train_config['base_model_name']}{train_config['m_suf']}\")"
   ]
  },
  {
   "cell_type": "markdown",
   "id": "ecological-reservoir",
   "metadata": {},
   "source": [
    "Look at results"
   ]
  },
  {
   "cell_type": "code",
   "execution_count": 57,
   "id": "heavy-weekend",
   "metadata": {},
   "outputs": [
    {
     "data": {
      "text/html": [],
      "text/plain": [
       "<IPython.core.display.HTML object>"
      ]
     },
     "metadata": {},
     "output_type": "display_data"
    },
    {
     "data": {
      "text/html": [
       "<table border=\"1\" class=\"dataframe\">\n",
       "  <thead>\n",
       "    <tr style=\"text-align: right;\">\n",
       "      <th></th>\n",
       "      <th>text</th>\n",
       "      <th>text_</th>\n",
       "      <th>category</th>\n",
       "      <th>target1</th>\n",
       "      <th>target2</th>\n",
       "    </tr>\n",
       "  </thead>\n",
       "  <tbody>\n",
       "    <tr>\n",
       "      <th>0</th>\n",
       "      <td>theme: Advancement and Training Opportunities comment: 1.\\tSensitivity and bias training for SLBO management – The selection and search for the person to fill Evelyns position seemed inequitable.  Evelyn having a say in her successor may not have been against campus hiring policies but did not seem appropriate since she had inside knowledge of some of the candidates and a possible bias for or against other candidates.  \\r\\n  I applied for the position because my applying was suggested by another member of Evelyns team that was not on the committee.\\r\\nAnna, a member of the committee, was also under the leadership of Evelyn.  Anna, who now has been promoted into Jamies positions would not be in Jamies position if he had not gotten Evelyns position.  In addition, there was no one in the room from HR ensuring that the interviews were fair and equal.  I think that this Cluster is large enough to warrant additional oversite with the filling of positions. \\r\\nThough it may not matter to some but within the SLBO all of senior management (HR remains neutral) is now male while 99 %  of the rest of the staff is female.  \\r\\n2.\\t</td>\n",
       "      <td>3.0</td>\n",
       "      <td>0</td>\n",
       "      <td>(2.078125,)</td>\n",
       "      <td>0</td>\n",
       "    </tr>\n",
       "    <tr>\n",
       "      <th>1</th>\n",
       "      <td>theme: Fear of Retaliation, Negative Consequences comment: Staff no longer receive COLAs, like the faculty do--we are instead told that our COLA is a merit increase and expected to believe this.\\r\\n\\r\\nThis is incredibly demoralizing and many talented staff with institutional longevity are considered leaving UCSD for higher compensation elsewhere, at least as far as I am able to report by personal conversation. The turnover loss to the department if this were to happen would be substantial. Experienced career staff have knowledge that they can generalize from to solve the unique problems that arise frequently in the university setting. New staff cannot always provide these solutions to faculty.\\r\\n\\r\\nFurther our'merit increases' were not announced in a timely manner and apparently do not include July, that is, they are effective Aug 1. I do not think our faculty would accept this!  It is true that the faculty attract fee-paying students to campus but the institution truly is a three legged stool--charitably I do not think our department could be run with faculty alone.\\r\\n\\r\\nAsides from compensation, which is an UCOP / EVCAA issue, Mathematics is a good department</td>\n",
       "      <td>3.0</td>\n",
       "      <td>0</td>\n",
       "      <td>(2.109375,)</td>\n",
       "      <td>0</td>\n",
       "    </tr>\n",
       "  </tbody>\n",
       "</table>"
      ],
      "text/plain": [
       "<IPython.core.display.HTML object>"
      ]
     },
     "metadata": {},
     "output_type": "display_data"
    }
   ],
   "source": [
    "learn.show_results(learner=learn, max_n=2) "
   ]
  },
  {
   "cell_type": "code",
   "execution_count": 58,
   "id": "broadband-queue",
   "metadata": {},
   "outputs": [
    {
     "data": {
      "text/html": [],
      "text/plain": [
       "<IPython.core.display.HTML object>"
      ]
     },
     "metadata": {},
     "output_type": "display_data"
    },
    {
     "data": {
      "text/plain": [
       "{'valid_loss': 0.44002217054367065,\n",
       " 'sentiment_mse': 0.43617454171180725,\n",
       " 'is_example_acc': 0.9932935833930969}"
      ]
     },
     "execution_count": 58,
     "metadata": {},
     "output_type": "execute_result"
    }
   ],
   "source": [
    "scores = dict(zip(learn.recorder.metric_names[2:], learn.validate())); scores"
   ]
  },
  {
   "cell_type": "code",
   "execution_count": 59,
   "id": "liquid-piece",
   "metadata": {},
   "outputs": [
    {
     "name": "stderr",
     "output_type": "stream",
     "text": [
      "/home/wgilliam/anaconda3/envs/tritonlytics-ai/lib/python3.8/site-packages/fastai/learner.py:56: UserWarning: Saved filed doesn't contain an optimizer state.\n",
      "  elif with_opt: warn(\"Saved filed doesn't contain an optimizer state.\")\n"
     ]
    },
    {
     "data": {
      "text/html": [],
      "text/plain": [
       "<IPython.core.display.HTML object>"
      ]
     },
     "metadata": {},
     "output_type": "display_data"
    },
    {
     "name": "stdout",
     "output_type": "stream",
     "text": [
      "Validation Loss: 0.44002217054367065\n"
     ]
    }
   ],
   "source": [
    "learn = learn.load(f\"exp_{train_config['save_model_filename']}\")\n",
    "probs, targs, loss = learn.get_preds(dl=dls.valid, with_loss=True)\n",
    "\n",
    "print(f'Validation Loss: {loss.mean()}')\n",
    "# print(f'Validation Loss (per label): {loss.mean(dim=0)}') # ... no longer works (see forum comment from sylvain)"
   ]
  },
  {
   "cell_type": "code",
   "execution_count": 60,
   "id": "motivated-celebration",
   "metadata": {},
   "outputs": [
    {
     "name": "stdout",
     "output_type": "stream",
     "text": [
      "tensor([2.0039]) tensor(3.) tensor(0) tensor(0)\n",
      "tensor([4.2305]) tensor(4.) tensor(0) tensor(0)\n",
      "tensor([4.3672]) tensor(4.) tensor(0) tensor(0)\n",
      "tensor([1.9053]) tensor(2.) tensor(0) tensor(0)\n",
      "tensor([2.8281]) tensor(2.) tensor(0) tensor(0)\n",
      "tensor([3.9570]) tensor(4.) tensor(0) tensor(0)\n",
      "tensor([1.8750]) tensor(1.) tensor(0) tensor(0)\n",
      "tensor([3.0312]) tensor(2.) tensor(0) tensor(0)\n",
      "tensor([2.1094]) tensor(3.) tensor(0) tensor(0)\n",
      "tensor([3.9785]) tensor(4.) tensor(0) tensor(0)\n",
      "tensor([1.9111]) tensor(2.) tensor(0) tensor(0)\n",
      "tensor([4.4297]) tensor(4.) tensor(0) tensor(0)\n",
      "tensor([3.1777]) tensor(2.) tensor(0) tensor(0)\n",
      "tensor([2.3047]) tensor(2.) tensor(0) tensor(0)\n",
      "tensor([2.8398]) tensor(4.) tensor(0) tensor(0)\n",
      "tensor([1.8066]) tensor(2.) tensor(0) tensor(0)\n",
      "tensor([4.2969]) tensor(4.) tensor(0) tensor(0)\n",
      "tensor([1.8945]) tensor(2.) tensor(0) tensor(0)\n",
      "tensor([1.8691]) tensor(2.) tensor(0) tensor(0)\n",
      "tensor([1.7959]) tensor(1.5000) tensor(0) tensor(0)\n",
      "tensor([1.8809]) tensor(2.) tensor(0) tensor(0)\n",
      "tensor([2.3965]) tensor(2.) tensor(0) tensor(0)\n",
      "tensor([3.2559]) tensor(3.) tensor(0) tensor(0)\n",
      "tensor([2.9492]) tensor(3.) tensor(0) tensor(0)\n",
      "tensor([2.1113]) tensor(2.) tensor(0) tensor(0)\n",
      "tensor([2.1289]) tensor(2.) tensor(0) tensor(0)\n",
      "tensor([1.8770]) tensor(2.) tensor(0) tensor(0)\n",
      "tensor([2.2969]) tensor(2.5000) tensor(0) tensor(0)\n",
      "tensor([2.0664]) tensor(3.) tensor(0) tensor(0)\n",
      "tensor([2.0977]) tensor(2.) tensor(0) tensor(0)\n",
      "tensor([1.8838]) tensor(2.) tensor(0) tensor(0)\n",
      "tensor([2.2324]) tensor(3.) tensor(0) tensor(0)\n",
      "tensor([4.3906]) tensor(5.) tensor(0) tensor(0)\n",
      "tensor([3.8457]) tensor(3.) tensor(0) tensor(0)\n",
      "tensor([1.8193]) tensor(1.) tensor(0) tensor(0)\n",
      "tensor([1.9658]) tensor(2.) tensor(0) tensor(0)\n",
      "tensor([1.7461]) tensor(1.) tensor(0) tensor(0)\n",
      "tensor([3.0176]) tensor(4.) tensor(0) tensor(0)\n",
      "tensor([3.6758]) tensor(4.) tensor(0) tensor(0)\n",
      "tensor([2.4238]) tensor(2.) tensor(0) tensor(0)\n",
      "tensor([1.9746]) tensor(2.) tensor(0) tensor(0)\n",
      "tensor([2.3418]) tensor(2.) tensor(0) tensor(0)\n",
      "tensor([2.0391]) tensor(2.) tensor(0) tensor(0)\n",
      "tensor([2.0117]) tensor(2.) tensor(0) tensor(0)\n",
      "tensor([2.2266]) tensor(2.) tensor(0) tensor(0)\n",
      "tensor([4.2266]) tensor(5.) tensor(0) tensor(0)\n",
      "tensor([1.9473]) tensor(2.) tensor(0) tensor(0)\n",
      "tensor([2.7559]) tensor(4.) tensor(0) tensor(0)\n",
      "tensor([1.9082]) tensor(3.) tensor(0) tensor(0)\n",
      "tensor([2.2910]) tensor(2.) tensor(0) tensor(0)\n",
      "tensor([4.3281]) tensor(5.) tensor(0) tensor(0)\n",
      "tensor([3.7930]) tensor(4.) tensor(0) tensor(0)\n",
      "tensor([3.5742]) tensor(2.) tensor(0) tensor(0)\n",
      "tensor([2.3340]) tensor(2.) tensor(0) tensor(0)\n",
      "tensor([2.8652]) tensor(4.) tensor(0) tensor(0)\n",
      "tensor([2.0508]) tensor(2.) tensor(0) tensor(0)\n",
      "tensor([1.8691]) tensor(1.) tensor(0) tensor(0)\n",
      "tensor([4.1484]) tensor(4.) tensor(0) tensor(0)\n",
      "tensor([1.9043]) tensor(2.) tensor(0) tensor(0)\n",
      "tensor([1.8789]) tensor(1.) tensor(0) tensor(0)\n",
      "tensor([4.4805]) tensor(5.) tensor(0) tensor(0)\n",
      "tensor([2.0547]) tensor(1.5000) tensor(0) tensor(0)\n",
      "tensor([1.9336]) tensor(2.) tensor(0) tensor(0)\n",
      "tensor([4.3125]) tensor(4.) tensor(0) tensor(0)\n",
      "tensor([1.9121]) tensor(2.) tensor(0) tensor(0)\n",
      "tensor([2.0312]) tensor(2.) tensor(0) tensor(0)\n",
      "tensor([2.0039]) tensor(2.) tensor(0) tensor(0)\n",
      "tensor([2.1367]) tensor(2.) tensor(0) tensor(0)\n",
      "tensor([2.0352]) tensor(2.) tensor(0) tensor(0)\n",
      "tensor([1.8604]) tensor(2.) tensor(0) tensor(0)\n",
      "tensor([2.0020]) tensor(2.) tensor(0) tensor(0)\n",
      "tensor([2.2070]) tensor(2.) tensor(0) tensor(0)\n",
      "tensor([2.0039]) tensor(2.) tensor(0) tensor(0)\n",
      "tensor([1.9434]) tensor(1.5000) tensor(0) tensor(0)\n",
      "tensor([2.7734]) tensor(5.) tensor(0) tensor(0)\n",
      "tensor([2.1484]) tensor(2.) tensor(0) tensor(0)\n",
      "tensor([1.8691]) tensor(2.) tensor(0) tensor(0)\n",
      "tensor([2.5586]) tensor(2.) tensor(0) tensor(0)\n",
      "tensor([1.8750]) tensor(1.) tensor(0) tensor(0)\n",
      "tensor([2.0898]) tensor(2.) tensor(0) tensor(0)\n",
      "tensor([1.9395]) tensor(2.) tensor(0) tensor(0)\n",
      "tensor([1.9668]) tensor(1.) tensor(0) tensor(0)\n",
      "tensor([1.9336]) tensor(2.) tensor(0) tensor(0)\n",
      "tensor([1.9326]) tensor(2.) tensor(0) tensor(0)\n",
      "tensor([1.8936]) tensor(2.) tensor(0) tensor(0)\n",
      "tensor([3.0527]) tensor(2.) tensor(0) tensor(0)\n",
      "tensor([1.8926]) tensor(1.) tensor(0) tensor(0)\n",
      "tensor([2.3848]) tensor(2.) tensor(0) tensor(0)\n",
      "tensor([2.0820]) tensor(2.) tensor(0) tensor(0)\n",
      "tensor([2.1211]) tensor(2.) tensor(0) tensor(0)\n",
      "tensor([2.0801]) tensor(1.) tensor(0) tensor(0)\n",
      "tensor([1.9121]) tensor(2.) tensor(0) tensor(0)\n",
      "tensor([2.0918]) tensor(3.) tensor(0) tensor(0)\n",
      "tensor([2.4336]) tensor(2.) tensor(0) tensor(0)\n",
      "tensor([2.6133]) tensor(2.) tensor(0) tensor(0)\n",
      "tensor([2.1035]) tensor(3.) tensor(0) tensor(0)\n",
      "tensor([2.6797]) tensor(2.5000) tensor(0) tensor(0)\n",
      "tensor([2.1172]) tensor(4.) tensor(0) tensor(0)\n",
      "tensor([1.8906]) tensor(2.) tensor(0) tensor(0)\n",
      "tensor([1.9824]) tensor(2.) tensor(0) tensor(0)\n",
      "tensor([2.3516]) tensor(2.5000) tensor(0) tensor(0)\n",
      "tensor([1.9668]) tensor(3.) tensor(0) tensor(0)\n",
      "tensor([1.9844]) tensor(2.) tensor(0) tensor(0)\n",
      "tensor([3.3203]) tensor(4.) tensor(0) tensor(0)\n",
      "tensor([2.2910]) tensor(2.) tensor(0) tensor(0)\n",
      "tensor([1.8359]) tensor(2.) tensor(0) tensor(0)\n",
      "tensor([4.0781]) tensor(4.) tensor(0) tensor(0)\n",
      "tensor([2.9102]) tensor(3.) tensor(0) tensor(0)\n",
      "tensor([2.0625]) tensor(2.) tensor(0) tensor(0)\n",
      "tensor([2.3262]) tensor(2.) tensor(0) tensor(0)\n",
      "tensor([2.0117]) tensor(2.) tensor(0) tensor(0)\n",
      "tensor([1.8555]) tensor(3.) tensor(0) tensor(0)\n",
      "tensor([4.3047]) tensor(5.) tensor(0) tensor(0)\n",
      "tensor([2.0078]) tensor(3.) tensor(0) tensor(0)\n",
      "tensor([2.0352]) tensor(2.) tensor(0) tensor(0)\n",
      "tensor([3.3848]) tensor(3.) tensor(0) tensor(0)\n",
      "tensor([1.9131]) tensor(2.) tensor(0) tensor(0)\n",
      "tensor([2.3516]) tensor(2.) tensor(0) tensor(0)\n",
      "tensor([1.9883]) tensor(2.) tensor(0) tensor(0)\n",
      "tensor([4.1406]) tensor(3.) tensor(0) tensor(0)\n",
      "tensor([1.7559]) tensor(2.) tensor(0) tensor(0)\n",
      "tensor([2.1172]) tensor(2.) tensor(0) tensor(0)\n",
      "tensor([2.1719]) tensor(1.) tensor(0) tensor(0)\n",
      "tensor([2.1875]) tensor(2.) tensor(0) tensor(0)\n",
      "tensor([2.4590]) tensor(2.) tensor(0) tensor(0)\n",
      "tensor([2.3105]) tensor(2.) tensor(0) tensor(0)\n",
      "tensor([2.8008]) tensor(2.) tensor(0) tensor(0)\n",
      "tensor([2.2363]) tensor(2.) tensor(0) tensor(0)\n",
      "tensor([2.0156]) tensor(2.) tensor(0) tensor(0)\n",
      "tensor([1.9824]) tensor(2.) tensor(0) tensor(0)\n",
      "tensor([4.5391]) tensor(3.) tensor(0) tensor(0)\n",
      "tensor([2.0547]) tensor(2.) tensor(0) tensor(0)\n",
      "tensor([1.9482]) tensor(2.) tensor(0) tensor(0)\n",
      "tensor([2.2168]) tensor(3.) tensor(0) tensor(0)\n",
      "tensor([3.6094]) tensor(4.) tensor(0) tensor(0)\n",
      "tensor([1.9385]) tensor(2.) tensor(0) tensor(0)\n",
      "tensor([2.1602]) tensor(2.) tensor(0) tensor(0)\n",
      "tensor([3.8164]) tensor(2.) tensor(0) tensor(0)\n",
      "tensor([1.9502]) tensor(2.) tensor(0) tensor(0)\n",
      "tensor([2.2188]) tensor(3.) tensor(0) tensor(0)\n",
      "tensor([1.7949]) tensor(1.) tensor(0) tensor(0)\n",
      "tensor([1.7871]) tensor(2.) tensor(0) tensor(0)\n",
      "tensor([2.1602]) tensor(3.) tensor(0) tensor(0)\n",
      "tensor([2.0703]) tensor(2.) tensor(0) tensor(0)\n",
      "tensor([4.3906]) tensor(4.) tensor(0) tensor(0)\n",
      "tensor([1.9199]) tensor(2.) tensor(0) tensor(0)\n",
      "tensor([2.6172]) tensor(2.) tensor(0) tensor(0)\n",
      "tensor([4.4297]) tensor(3.) tensor(0) tensor(0)\n",
      "tensor([2.0547]) tensor(1.) tensor(0) tensor(0)\n",
      "tensor([2.3867]) tensor(3.) tensor(0) tensor(0)\n",
      "tensor([2.0391]) tensor(2.) tensor(0) tensor(0)\n",
      "tensor([2.0371]) tensor(2.) tensor(0) tensor(0)\n",
      "tensor([1.7441]) tensor(1.) tensor(0) tensor(0)\n",
      "tensor([2.0645]) tensor(1.) tensor(0) tensor(0)\n",
      "tensor([2.0039]) tensor(2.) tensor(0) tensor(0)\n",
      "tensor([2.0977]) tensor(2.) tensor(0) tensor(0)\n",
      "tensor([2.2227]) tensor(3.) tensor(0) tensor(0)\n",
      "tensor([1.9531]) tensor(1.) tensor(0) tensor(0)\n",
      "tensor([1.8242]) tensor(2.) tensor(0) tensor(0)\n",
      "tensor([1.9414]) tensor(2.) tensor(0) tensor(0)\n",
      "tensor([2.2773]) tensor(2.) tensor(0) tensor(0)\n",
      "tensor([2.0859]) tensor(2.) tensor(0) tensor(0)\n",
      "tensor([2.4297]) tensor(2.) tensor(0) tensor(0)\n",
      "tensor([2.6055]) tensor(2.) tensor(0) tensor(0)\n",
      "tensor([1.9355]) tensor(1.) tensor(0) tensor(0)\n",
      "tensor([4.1406]) tensor(5.) tensor(0) tensor(0)\n",
      "tensor([2.2500]) tensor(4.) tensor(0) tensor(0)\n",
      "tensor([1.8750]) tensor(1.) tensor(0) tensor(0)\n",
      "tensor([2.0664]) tensor(3.) tensor(0) tensor(0)\n",
      "tensor([1.9551]) tensor(2.) tensor(0) tensor(0)\n",
      "tensor([3.0273]) tensor(2.) tensor(0) tensor(0)\n",
      "tensor([1.9160]) tensor(1.) tensor(0) tensor(0)\n",
      "tensor([2.0332]) tensor(2.) tensor(0) tensor(0)\n",
      "tensor([3.5488]) tensor(4.) tensor(0) tensor(0)\n",
      "tensor([4.0273]) tensor(4.) tensor(0) tensor(0)\n",
      "tensor([4.2969]) tensor(4.) tensor(0) tensor(0)\n",
      "tensor([2.1562]) tensor(2.) tensor(0) tensor(0)\n",
      "tensor([1.9658]) tensor(3.) tensor(0) tensor(0)\n",
      "tensor([1.9453]) tensor(3.) tensor(0) tensor(0)\n",
      "tensor([4.1172]) tensor(4.) tensor(0) tensor(0)\n",
      "tensor([1.7891]) tensor(2.) tensor(0) tensor(0)\n",
      "tensor([4.0312]) tensor(4.) tensor(0) tensor(0)\n",
      "tensor([2.7773]) tensor(3.) tensor(0) tensor(0)\n",
      "tensor([2.1914]) tensor(2.) tensor(0) tensor(0)\n",
      "tensor([3.1250]) tensor(4.) tensor(0) tensor(0)\n",
      "tensor([2.1094]) tensor(2.) tensor(0) tensor(0)\n",
      "tensor([4.0703]) tensor(3.) tensor(0) tensor(0)\n",
      "tensor([2.1660]) tensor(2.) tensor(0) tensor(0)\n",
      "tensor([1.8467]) tensor(1.) tensor(0) tensor(0)\n",
      "tensor([4.1797]) tensor(3.) tensor(0) tensor(0)\n",
      "tensor([2.2109]) tensor(3.) tensor(0) tensor(0)\n",
      "tensor([2.1230]) tensor(2.) tensor(0) tensor(0)\n",
      "tensor([3.6113]) tensor(3.) tensor(0) tensor(0)\n",
      "tensor([2.1367]) tensor(2.) tensor(0) tensor(0)\n",
      "tensor([1.7344]) tensor(1.) tensor(0) tensor(0)\n",
      "tensor([2.0820]) tensor(2.) tensor(0) tensor(0)\n",
      "tensor([2.3066]) tensor(3.) tensor(0) tensor(1)\n",
      "tensor([4.4297]) tensor(5.) tensor(0) tensor(0)\n",
      "tensor([2.2539]) tensor(4.) tensor(0) tensor(0)\n",
      "tensor([2.0938]) tensor(1.5000) tensor(0) tensor(0)\n",
      "tensor([2.2188]) tensor(2.5000) tensor(0) tensor(0)\n",
      "tensor([1.9092]) tensor(2.) tensor(0) tensor(0)\n",
      "tensor([2.0488]) tensor(3.) tensor(0) tensor(0)\n",
      "tensor([1.8594]) tensor(1.) tensor(0) tensor(0)\n",
      "tensor([4.3047]) tensor(5.) tensor(0) tensor(0)\n",
      "tensor([2.1094]) tensor(2.) tensor(0) tensor(0)\n",
      "tensor([3.1191]) tensor(3.) tensor(0) tensor(0)\n",
      "tensor([2.2969]) tensor(2.) tensor(0) tensor(0)\n",
      "tensor([1.9141]) tensor(1.) tensor(0) tensor(0)\n",
      "tensor([1.8057]) tensor(2.) tensor(0) tensor(0)\n",
      "tensor([2.1953]) tensor(2.) tensor(0) tensor(0)\n",
      "tensor([2.1055]) tensor(2.) tensor(0) tensor(0)\n"
     ]
    },
    {
     "name": "stdout",
     "output_type": "stream",
     "text": [
      "tensor([2.0430]) tensor(2.) tensor(0) tensor(1)\n",
      "tensor([2.0078]) tensor(2.) tensor(0) tensor(0)\n",
      "tensor([4.0156]) tensor(5.) tensor(0) tensor(0)\n",
      "tensor([2.2500]) tensor(2.) tensor(0) tensor(0)\n",
      "tensor([2.0352]) tensor(2.) tensor(0) tensor(0)\n",
      "tensor([2.1855]) tensor(2.) tensor(0) tensor(0)\n",
      "tensor([2.8281]) tensor(2.5000) tensor(0) tensor(0)\n",
      "tensor([2.1328]) tensor(2.) tensor(0) tensor(0)\n",
      "tensor([2.0547]) tensor(2.) tensor(0) tensor(0)\n",
      "tensor([3.6973]) tensor(5.) tensor(0) tensor(0)\n",
      "tensor([2.6230]) tensor(2.) tensor(0) tensor(0)\n",
      "tensor([2.0293]) tensor(3.) tensor(0) tensor(0)\n",
      "tensor([2.2676]) tensor(1.) tensor(0) tensor(0)\n",
      "tensor([1.9766]) tensor(2.) tensor(0) tensor(0)\n",
      "tensor([1.8262]) tensor(2.) tensor(0) tensor(0)\n",
      "tensor([3.4805]) tensor(4.) tensor(0) tensor(0)\n",
      "tensor([1.7598]) tensor(1.) tensor(0) tensor(0)\n",
      "tensor([2.3359]) tensor(4.) tensor(0) tensor(0)\n",
      "tensor([1.9756]) tensor(2.) tensor(0) tensor(0)\n",
      "tensor([3.7812]) tensor(4.) tensor(0) tensor(0)\n",
      "tensor([2.1602]) tensor(2.) tensor(0) tensor(0)\n",
      "tensor([4.4648]) tensor(5.) tensor(0) tensor(0)\n",
      "tensor([2.3281]) tensor(2.) tensor(0) tensor(0)\n",
      "tensor([1.8848]) tensor(3.) tensor(0) tensor(0)\n",
      "tensor([1.8066]) tensor(2.) tensor(0) tensor(0)\n",
      "tensor([2.6133]) tensor(3.) tensor(0) tensor(0)\n",
      "tensor([1.9834]) tensor(1.) tensor(0) tensor(0)\n",
      "tensor([1.8750]) tensor(1.) tensor(0) tensor(0)\n",
      "tensor([2.2617]) tensor(2.) tensor(0) tensor(0)\n",
      "tensor([3.0977]) tensor(3.) tensor(0) tensor(0)\n",
      "tensor([1.9521]) tensor(2.) tensor(0) tensor(0)\n",
      "tensor([4.4297]) tensor(4.) tensor(0) tensor(0)\n",
      "tensor([2.2969]) tensor(2.) tensor(0) tensor(0)\n",
      "tensor([1.7891]) tensor(1.) tensor(0) tensor(0)\n",
      "tensor([2.0703]) tensor(2.) tensor(0) tensor(0)\n",
      "tensor([1.7676]) tensor(1.) tensor(0) tensor(0)\n",
      "tensor([1.9961]) tensor(2.) tensor(0) tensor(0)\n",
      "tensor([2.0586]) tensor(2.) tensor(0) tensor(0)\n",
      "tensor([1.9482]) tensor(3.) tensor(0) tensor(0)\n",
      "tensor([1.8047]) tensor(2.) tensor(0) tensor(1)\n",
      "tensor([2.0898]) tensor(2.) tensor(0) tensor(0)\n",
      "tensor([1.7832]) tensor(1.) tensor(0) tensor(1)\n",
      "tensor([2.0508]) tensor(3.) tensor(0) tensor(0)\n",
      "tensor([1.9160]) tensor(2.) tensor(0) tensor(0)\n",
      "tensor([2.0723]) tensor(3.) tensor(0) tensor(0)\n",
      "tensor([1.8057]) tensor(3.) tensor(0) tensor(0)\n",
      "tensor([2.7617]) tensor(2.) tensor(0) tensor(0)\n",
      "tensor([3.2969]) tensor(2.) tensor(0) tensor(0)\n",
      "tensor([2.8340]) tensor(3.) tensor(0) tensor(0)\n",
      "tensor([1.9922]) tensor(3.) tensor(0) tensor(0)\n",
      "tensor([2.4453]) tensor(2.) tensor(0) tensor(0)\n",
      "tensor([4.3984]) tensor(4.) tensor(0) tensor(0)\n",
      "tensor([2.7383]) tensor(3.) tensor(0) tensor(0)\n",
      "tensor([2.4316]) tensor(2.) tensor(0) tensor(0)\n",
      "tensor([1.9590]) tensor(1.) tensor(0) tensor(0)\n",
      "tensor([2.1172]) tensor(3.) tensor(0) tensor(0)\n",
      "tensor([2.0391]) tensor(2.) tensor(0) tensor(0)\n",
      "tensor([3.7617]) tensor(3.) tensor(0) tensor(0)\n",
      "tensor([2.8496]) tensor(4.) tensor(0) tensor(0)\n",
      "tensor([1.9434]) tensor(2.) tensor(0) tensor(0)\n",
      "tensor([2.0586]) tensor(2.) tensor(0) tensor(0)\n",
      "tensor([2.4844]) tensor(2.) tensor(0) tensor(0)\n",
      "tensor([1.9668]) tensor(2.) tensor(0) tensor(0)\n",
      "tensor([2.1211]) tensor(2.) tensor(0) tensor(0)\n",
      "tensor([2.0742]) tensor(3.) tensor(0) tensor(0)\n",
      "tensor([1.8809]) tensor(2.) tensor(0) tensor(0)\n",
      "tensor([2.2051]) tensor(3.) tensor(0) tensor(0)\n",
      "tensor([1.9297]) tensor(3.) tensor(0) tensor(0)\n",
      "tensor([2.5000]) tensor(2.) tensor(0) tensor(0)\n",
      "tensor([2.0293]) tensor(2.) tensor(0) tensor(0)\n",
      "tensor([2.2891]) tensor(2.) tensor(0) tensor(0)\n",
      "tensor([1.9746]) tensor(2.) tensor(0) tensor(0)\n",
      "tensor([2.0703]) tensor(3.) tensor(0) tensor(0)\n",
      "tensor([2.0898]) tensor(3.) tensor(0) tensor(0)\n",
      "tensor([1.8770]) tensor(2.) tensor(0) tensor(0)\n",
      "tensor([2.0977]) tensor(2.) tensor(0) tensor(0)\n",
      "tensor([1.9287]) tensor(1.) tensor(0) tensor(0)\n",
      "tensor([2.6328]) tensor(3.) tensor(0) tensor(0)\n",
      "tensor([2.2031]) tensor(2.) tensor(0) tensor(0)\n",
      "tensor([1.8994]) tensor(1.) tensor(0) tensor(0)\n",
      "tensor([2.1445]) tensor(2.) tensor(0) tensor(0)\n",
      "tensor([1.9590]) tensor(2.) tensor(0) tensor(0)\n",
      "tensor([1.8154]) tensor(2.) tensor(0) tensor(0)\n",
      "tensor([3.6875]) tensor(4.) tensor(0) tensor(0)\n",
      "tensor([1.9814]) tensor(2.5000) tensor(0) tensor(0)\n",
      "tensor([2.4297]) tensor(2.) tensor(0) tensor(0)\n",
      "tensor([3.6348]) tensor(3.) tensor(0) tensor(0)\n",
      "tensor([1.9355]) tensor(3.) tensor(0) tensor(0)\n",
      "tensor([1.9268]) tensor(2.) tensor(0) tensor(0)\n",
      "tensor([2.0684]) tensor(2.) tensor(0) tensor(0)\n",
      "tensor([2.]) tensor(2.5000) tensor(0) tensor(0)\n",
      "tensor([2.2148]) tensor(2.) tensor(0) tensor(0)\n",
      "tensor([1.9375]) tensor(2.) tensor(0) tensor(0)\n",
      "tensor([2.1113]) tensor(2.) tensor(0) tensor(0)\n",
      "tensor([2.0254]) tensor(3.) tensor(0) tensor(0)\n",
      "tensor([1.8750]) tensor(2.) tensor(0) tensor(0)\n",
      "tensor([2.2773]) tensor(3.) tensor(0) tensor(0)\n",
      "tensor([2.1250]) tensor(3.) tensor(0) tensor(0)\n",
      "tensor([2.0664]) tensor(3.) tensor(0) tensor(0)\n",
      "tensor([3.3066]) tensor(3.) tensor(0) tensor(0)\n",
      "tensor([1.8896]) tensor(2.) tensor(0) tensor(0)\n",
      "tensor([1.9912]) tensor(2.) tensor(0) tensor(0)\n",
      "tensor([2.9668]) tensor(3.) tensor(0) tensor(0)\n",
      "tensor([2.0215]) tensor(2.) tensor(0) tensor(0)\n",
      "tensor([4.2344]) tensor(4.) tensor(0) tensor(0)\n",
      "tensor([1.9277]) tensor(2.) tensor(0) tensor(0)\n",
      "tensor([1.9648]) tensor(1.) tensor(0) tensor(0)\n",
      "tensor([3.0234]) tensor(4.) tensor(0) tensor(0)\n",
      "tensor([1.8086]) tensor(2.) tensor(0) tensor(0)\n",
      "tensor([2.4727]) tensor(2.) tensor(0) tensor(0)\n",
      "tensor([2.0684]) tensor(2.) tensor(0) tensor(0)\n",
      "tensor([2.0938]) tensor(3.) tensor(0) tensor(0)\n",
      "tensor([1.8613]) tensor(2.) tensor(0) tensor(0)\n",
      "tensor([4.3320]) tensor(4.) tensor(0) tensor(0)\n",
      "tensor([1.7734]) tensor(2.) tensor(0) tensor(0)\n",
      "tensor([3.7188]) tensor(3.) tensor(0) tensor(0)\n",
      "tensor([1.9082]) tensor(2.) tensor(0) tensor(0)\n",
      "tensor([1.9219]) tensor(2.) tensor(0) tensor(0)\n",
      "tensor([2.2812]) tensor(3.) tensor(0) tensor(0)\n",
      "tensor([2.0859]) tensor(3.) tensor(0) tensor(0)\n",
      "tensor([2.9922]) tensor(2.) tensor(0) tensor(0)\n",
      "tensor([1.9805]) tensor(2.) tensor(0) tensor(0)\n",
      "tensor([1.9648]) tensor(1.5000) tensor(0) tensor(0)\n",
      "tensor([1.9805]) tensor(2.) tensor(0) tensor(0)\n",
      "tensor([2.5586]) tensor(2.) tensor(0) tensor(0)\n",
      "tensor([2.5117]) tensor(3.) tensor(0) tensor(0)\n",
      "tensor([2.1328]) tensor(2.) tensor(0) tensor(0)\n",
      "tensor([2.2539]) tensor(3.) tensor(0) tensor(0)\n",
      "tensor([4.4180]) tensor(5.) tensor(0) tensor(0)\n",
      "tensor([1.9395]) tensor(2.) tensor(0) tensor(0)\n",
      "tensor([1.9180]) tensor(2.) tensor(0) tensor(0)\n",
      "tensor([1.8906]) tensor(2.) tensor(0) tensor(0)\n",
      "tensor([4.4766]) tensor(5.) tensor(0) tensor(0)\n",
      "tensor([2.0391]) tensor(1.5000) tensor(0) tensor(0)\n",
      "tensor([2.1289]) tensor(2.) tensor(0) tensor(0)\n",
      "tensor([2.5039]) tensor(2.) tensor(0) tensor(0)\n",
      "tensor([2.8281]) tensor(2.5000) tensor(0) tensor(0)\n",
      "tensor([1.7500]) tensor(1.) tensor(0) tensor(0)\n",
      "tensor([1.9883]) tensor(2.) tensor(0) tensor(0)\n",
      "tensor([1.9785]) tensor(2.) tensor(0) tensor(0)\n",
      "tensor([1.8135]) tensor(2.) tensor(0) tensor(0)\n",
      "tensor([2.0820]) tensor(1.) tensor(0) tensor(0)\n",
      "tensor([1.9990]) tensor(1.5000) tensor(0) tensor(0)\n",
      "tensor([1.9512]) tensor(2.) tensor(0) tensor(0)\n",
      "tensor([2.2344]) tensor(3.) tensor(0) tensor(0)\n",
      "tensor([2.3691]) tensor(2.) tensor(0) tensor(0)\n",
      "tensor([2.0859]) tensor(3.) tensor(0) tensor(0)\n",
      "tensor([2.1777]) tensor(2.) tensor(0) tensor(0)\n",
      "tensor([2.1406]) tensor(2.) tensor(0) tensor(0)\n",
      "tensor([1.9824]) tensor(2.) tensor(0) tensor(0)\n",
      "tensor([2.0547]) tensor(2.) tensor(0) tensor(0)\n",
      "tensor([3.9297]) tensor(4.) tensor(0) tensor(0)\n",
      "tensor([2.0703]) tensor(2.) tensor(0) tensor(1)\n",
      "tensor([1.8652]) tensor(2.) tensor(0) tensor(0)\n",
      "tensor([1.9277]) tensor(1.5000) tensor(0) tensor(0)\n",
      "tensor([2.0195]) tensor(2.) tensor(0) tensor(0)\n",
      "tensor([2.0996]) tensor(3.) tensor(0) tensor(0)\n",
      "tensor([1.9277]) tensor(1.) tensor(0) tensor(0)\n",
      "tensor([2.9102]) tensor(2.) tensor(0) tensor(0)\n",
      "tensor([2.2715]) tensor(2.) tensor(0) tensor(0)\n",
      "tensor([4.4375]) tensor(4.) tensor(0) tensor(0)\n",
      "tensor([2.3301]) tensor(2.) tensor(0) tensor(0)\n",
      "tensor([1.8555]) tensor(2.) tensor(0) tensor(0)\n",
      "tensor([2.2422]) tensor(2.5000) tensor(0) tensor(0)\n",
      "tensor([2.1523]) tensor(2.) tensor(0) tensor(0)\n",
      "tensor([2.3281]) tensor(2.) tensor(0) tensor(0)\n",
      "tensor([2.2734]) tensor(2.) tensor(0) tensor(0)\n",
      "tensor([1.8906]) tensor(2.) tensor(0) tensor(0)\n",
      "tensor([2.1211]) tensor(2.) tensor(0) tensor(0)\n",
      "tensor([2.0176]) tensor(2.) tensor(0) tensor(0)\n",
      "tensor([1.9844]) tensor(2.) tensor(0) tensor(0)\n",
      "tensor([3.9043]) tensor(4.) tensor(0) tensor(0)\n",
      "tensor([1.9551]) tensor(2.) tensor(0) tensor(0)\n",
      "tensor([1.9434]) tensor(1.) tensor(0) tensor(0)\n",
      "tensor([2.0645]) tensor(3.) tensor(0) tensor(0)\n",
      "tensor([3.2441]) tensor(3.5000) tensor(0) tensor(0)\n",
      "tensor([3.6738]) tensor(4.) tensor(0) tensor(0)\n",
      "tensor([1.8672]) tensor(1.) tensor(0) tensor(0)\n",
      "tensor([2.4727]) tensor(2.) tensor(0) tensor(0)\n",
      "tensor([1.8838]) tensor(3.) tensor(0) tensor(0)\n",
      "tensor([2.4023]) tensor(2.5000) tensor(0) tensor(0)\n",
      "tensor([1.9727]) tensor(2.) tensor(0) tensor(0)\n",
      "tensor([1.7578]) tensor(1.) tensor(0) tensor(0)\n",
      "tensor([2.0996]) tensor(2.) tensor(0) tensor(0)\n",
      "tensor([2.9551]) tensor(3.) tensor(0) tensor(0)\n"
     ]
    },
    {
     "name": "stdout",
     "output_type": "stream",
     "text": [
      "tensor([1.9004]) tensor(1.5000) tensor(0) tensor(0)\n",
      "tensor([4.4375]) tensor(5.) tensor(0) tensor(0)\n",
      "tensor([1.9355]) tensor(1.) tensor(0) tensor(0)\n",
      "tensor([2.2500]) tensor(1.) tensor(0) tensor(0)\n",
      "tensor([1.9199]) tensor(2.) tensor(0) tensor(0)\n",
      "tensor([2.0586]) tensor(2.) tensor(0) tensor(0)\n",
      "tensor([2.6387]) tensor(4.) tensor(0) tensor(0)\n",
      "tensor([1.8682]) tensor(2.) tensor(0) tensor(0)\n",
      "tensor([2.0391]) tensor(3.) tensor(0) tensor(0)\n",
      "tensor([1.8867]) tensor(2.) tensor(0) tensor(0)\n",
      "tensor([4.2656]) tensor(3.) tensor(0) tensor(0)\n",
      "tensor([1.9219]) tensor(1.) tensor(0) tensor(0)\n",
      "tensor([2.0742]) tensor(2.) tensor(0) tensor(0)\n",
      "tensor([2.0234]) tensor(2.) tensor(0) tensor(0)\n",
      "tensor([2.0586]) tensor(1.) tensor(0) tensor(0)\n",
      "tensor([2.1641]) tensor(3.) tensor(0) tensor(0)\n",
      "tensor([4.3906]) tensor(5.) tensor(0) tensor(0)\n",
      "tensor([2.3086]) tensor(2.) tensor(0) tensor(0)\n",
      "tensor([2.1914]) tensor(4.) tensor(0) tensor(0)\n",
      "tensor([2.7031]) tensor(2.) tensor(0) tensor(0)\n",
      "tensor([2.1289]) tensor(2.) tensor(0) tensor(0)\n",
      "tensor([4.4609]) tensor(5.) tensor(0) tensor(0)\n",
      "tensor([2.4336]) tensor(2.) tensor(0) tensor(0)\n",
      "tensor([2.0879]) tensor(2.) tensor(0) tensor(0)\n",
      "tensor([1.7480]) tensor(2.) tensor(0) tensor(0)\n",
      "tensor([2.0039]) tensor(3.) tensor(0) tensor(0)\n",
      "tensor([2.]) tensor(2.) tensor(0) tensor(0)\n",
      "tensor([2.6016]) tensor(2.) tensor(0) tensor(0)\n",
      "tensor([2.2695]) tensor(2.) tensor(0) tensor(0)\n",
      "tensor([2.0195]) tensor(2.) tensor(0) tensor(0)\n",
      "tensor([2.2305]) tensor(4.) tensor(0) tensor(0)\n",
      "tensor([2.7168]) tensor(2.) tensor(0) tensor(0)\n",
      "tensor([1.9180]) tensor(3.) tensor(0) tensor(0)\n",
      "tensor([2.2109]) tensor(2.) tensor(0) tensor(0)\n",
      "tensor([3.1855]) tensor(3.) tensor(0) tensor(0)\n",
      "tensor([3.3652]) tensor(4.) tensor(0) tensor(0)\n",
      "tensor([2.5566]) tensor(3.) tensor(0) tensor(0)\n",
      "tensor([2.2246]) tensor(3.) tensor(0) tensor(0)\n",
      "tensor([1.9814]) tensor(2.) tensor(0) tensor(0)\n",
      "tensor([1.8027]) tensor(2.) tensor(0) tensor(0)\n",
      "tensor([3.1094]) tensor(3.) tensor(0) tensor(0)\n",
      "tensor([2.2852]) tensor(5.) tensor(0) tensor(0)\n",
      "tensor([2.1094]) tensor(2.) tensor(0) tensor(0)\n",
      "tensor([2.2402]) tensor(3.) tensor(0) tensor(0)\n",
      "tensor([2.0469]) tensor(2.) tensor(0) tensor(0)\n",
      "tensor([2.2070]) tensor(2.) tensor(0) tensor(0)\n",
      "tensor([1.9199]) tensor(3.) tensor(0) tensor(0)\n",
      "tensor([1.9629]) tensor(1.) tensor(0) tensor(0)\n",
      "tensor([1.7305]) tensor(1.) tensor(0) tensor(0)\n",
      "tensor([3.0840]) tensor(4.) tensor(0) tensor(0)\n",
      "tensor([2.1094]) tensor(3.) tensor(0) tensor(0)\n",
      "tensor([2.2773]) tensor(2.) tensor(0) tensor(0)\n",
      "tensor([2.9062]) tensor(3.) tensor(0) tensor(0)\n",
      "tensor([2.0039]) tensor(2.) tensor(0) tensor(0)\n",
      "tensor([2.1016]) tensor(2.) tensor(0) tensor(0)\n",
      "tensor([4.1484]) tensor(3.) tensor(0) tensor(0)\n",
      "tensor([2.0664]) tensor(2.) tensor(0) tensor(0)\n",
      "tensor([3.2188]) tensor(3.) tensor(0) tensor(0)\n",
      "tensor([2.2051]) tensor(3.) tensor(0) tensor(0)\n",
      "tensor([2.0332]) tensor(2.) tensor(0) tensor(0)\n",
      "tensor([2.5566]) tensor(5.) tensor(0) tensor(0)\n",
      "tensor([3.2559]) tensor(5.) tensor(0) tensor(0)\n",
      "tensor([2.5254]) tensor(3.) tensor(0) tensor(0)\n",
      "tensor([4.2500]) tensor(4.) tensor(0) tensor(0)\n",
      "tensor([1.7920]) tensor(2.) tensor(0) tensor(0)\n",
      "tensor([2.2031]) tensor(2.) tensor(0) tensor(0)\n",
      "tensor([1.8291]) tensor(1.) tensor(0) tensor(0)\n",
      "tensor([2.1523]) tensor(2.) tensor(0) tensor(0)\n",
      "tensor([2.2773]) tensor(3.) tensor(0) tensor(0)\n",
      "tensor([4.1641]) tensor(4.) tensor(0) tensor(0)\n",
      "tensor([2.4688]) tensor(2.) tensor(0) tensor(0)\n",
      "tensor([2.0586]) tensor(3.) tensor(0) tensor(0)\n",
      "tensor([1.7676]) tensor(1.) tensor(0) tensor(0)\n",
      "tensor([2.3027]) tensor(2.) tensor(0) tensor(0)\n",
      "tensor([2.0957]) tensor(2.) tensor(0) tensor(0)\n",
      "tensor([2.0059]) tensor(1.) tensor(0) tensor(0)\n",
      "tensor([2.2188]) tensor(2.) tensor(0) tensor(0)\n",
      "tensor([2.7148]) tensor(2.) tensor(0) tensor(0)\n",
      "tensor([1.9014]) tensor(2.) tensor(0) tensor(0)\n",
      "tensor([2.0195]) tensor(2.) tensor(0) tensor(0)\n",
      "tensor([1.9355]) tensor(3.) tensor(0) tensor(0)\n",
      "tensor([1.9863]) tensor(2.) tensor(0) tensor(0)\n",
      "tensor([2.0547]) tensor(2.) tensor(0) tensor(0)\n",
      "tensor([2.0078]) tensor(2.) tensor(0) tensor(0)\n",
      "tensor([4.3672]) tensor(5.) tensor(0) tensor(0)\n",
      "tensor([1.9961]) tensor(2.) tensor(0) tensor(0)\n",
      "tensor([1.8340]) tensor(2.) tensor(0) tensor(0)\n",
      "tensor([2.0156]) tensor(2.) tensor(0) tensor(0)\n",
      "tensor([2.2500]) tensor(2.) tensor(0) tensor(0)\n",
      "tensor([2.0312]) tensor(2.) tensor(0) tensor(0)\n",
      "tensor([1.9531]) tensor(2.) tensor(0) tensor(0)\n",
      "tensor([1.9072]) tensor(2.) tensor(0) tensor(0)\n",
      "tensor([1.9248]) tensor(2.) tensor(0) tensor(0)\n",
      "tensor([2.7773]) tensor(2.) tensor(0) tensor(0)\n",
      "tensor([2.3555]) tensor(1.5000) tensor(0) tensor(0)\n",
      "tensor([1.9336]) tensor(2.) tensor(0) tensor(0)\n",
      "tensor([2.4844]) tensor(2.) tensor(0) tensor(0)\n",
      "tensor([3.5234]) tensor(2.5000) tensor(0) tensor(0)\n",
      "tensor([1.8848]) tensor(2.) tensor(0) tensor(0)\n",
      "tensor([1.9863]) tensor(2.) tensor(0) tensor(0)\n",
      "tensor([2.0176]) tensor(3.) tensor(0) tensor(0)\n",
      "tensor([2.0957]) tensor(2.) tensor(0) tensor(0)\n",
      "tensor([2.3926]) tensor(2.) tensor(0) tensor(0)\n",
      "tensor([2.0332]) tensor(1.) tensor(0) tensor(0)\n",
      "tensor([2.2422]) tensor(2.) tensor(0) tensor(0)\n",
      "tensor([4.3828]) tensor(4.) tensor(0) tensor(0)\n",
      "tensor([2.3516]) tensor(2.) tensor(0) tensor(0)\n",
      "tensor([2.9062]) tensor(2.) tensor(0) tensor(0)\n",
      "tensor([1.8750]) tensor(3.) tensor(0) tensor(0)\n",
      "tensor([2.5703]) tensor(2.) tensor(0) tensor(0)\n",
      "tensor([1.8477]) tensor(2.) tensor(0) tensor(0)\n",
      "tensor([2.6621]) tensor(2.) tensor(0) tensor(0)\n",
      "tensor([3.9336]) tensor(3.) tensor(0) tensor(0)\n",
      "tensor([1.8242]) tensor(3.) tensor(0) tensor(0)\n",
      "tensor([3.1484]) tensor(2.) tensor(0) tensor(0)\n",
      "tensor([1.9941]) tensor(2.) tensor(0) tensor(0)\n",
      "tensor([2.1055]) tensor(1.) tensor(0) tensor(0)\n",
      "tensor([1.8545]) tensor(1.) tensor(0) tensor(0)\n",
      "tensor([3.7930]) tensor(5.) tensor(0) tensor(0)\n",
      "tensor([2.1328]) tensor(1.) tensor(0) tensor(0)\n",
      "tensor([4.2227]) tensor(4.) tensor(0) tensor(0)\n",
      "tensor([2.6797]) tensor(4.) tensor(0) tensor(0)\n",
      "tensor([1.9023]) tensor(2.) tensor(0) tensor(0)\n",
      "tensor([4.4609]) tensor(5.) tensor(0) tensor(0)\n",
      "tensor([2.3711]) tensor(2.) tensor(0) tensor(0)\n",
      "tensor([2.1445]) tensor(2.) tensor(0) tensor(0)\n",
      "tensor([2.1289]) tensor(2.) tensor(0) tensor(0)\n",
      "tensor([3.5000]) tensor(4.) tensor(0) tensor(0)\n",
      "tensor([2.0703]) tensor(2.) tensor(0) tensor(0)\n",
      "tensor([2.3262]) tensor(2.) tensor(0) tensor(0)\n",
      "tensor([4.2344]) tensor(4.) tensor(0) tensor(0)\n",
      "tensor([2.8105]) tensor(3.) tensor(0) tensor(0)\n",
      "tensor([1.9785]) tensor(3.) tensor(0) tensor(0)\n",
      "tensor([4.1016]) tensor(4.) tensor(0) tensor(0)\n",
      "tensor([3.3887]) tensor(5.) tensor(0) tensor(0)\n",
      "tensor([1.9814]) tensor(2.) tensor(0) tensor(0)\n",
      "tensor([1.8643]) tensor(1.) tensor(0) tensor(0)\n",
      "tensor([2.1445]) tensor(2.) tensor(0) tensor(0)\n",
      "tensor([4.2656]) tensor(4.) tensor(0) tensor(0)\n",
      "tensor([4.0938]) tensor(3.) tensor(0) tensor(0)\n",
      "tensor([2.6875]) tensor(3.) tensor(0) tensor(0)\n",
      "tensor([2.1758]) tensor(1.) tensor(0) tensor(0)\n",
      "tensor([2.2598]) tensor(2.) tensor(0) tensor(0)\n",
      "tensor([2.1445]) tensor(2.) tensor(0) tensor(1)\n",
      "tensor([1.7656]) tensor(1.5000) tensor(0) tensor(0)\n",
      "tensor([2.2031]) tensor(2.) tensor(0) tensor(0)\n",
      "tensor([3.4336]) tensor(2.) tensor(0) tensor(0)\n",
      "tensor([2.0352]) tensor(2.) tensor(0) tensor(0)\n",
      "tensor([2.1094]) tensor(3.) tensor(0) tensor(0)\n",
      "tensor([2.8516]) tensor(4.5000) tensor(0) tensor(0)\n",
      "tensor([1.9092]) tensor(2.) tensor(0) tensor(0)\n",
      "tensor([1.9980]) tensor(2.) tensor(0) tensor(0)\n",
      "tensor([2.0781]) tensor(2.) tensor(0) tensor(0)\n",
      "tensor([2.7930]) tensor(3.) tensor(0) tensor(0)\n",
      "tensor([1.9443]) tensor(2.) tensor(0) tensor(0)\n",
      "tensor([1.8398]) tensor(2.) tensor(0) tensor(0)\n",
      "tensor([2.1602]) tensor(3.) tensor(0) tensor(0)\n",
      "tensor([2.0859]) tensor(2.) tensor(0) tensor(0)\n",
      "tensor([1.9287]) tensor(1.) tensor(0) tensor(0)\n",
      "tensor([4.4922]) tensor(4.) tensor(0) tensor(0)\n",
      "tensor([4.1016]) tensor(3.) tensor(0) tensor(0)\n",
      "tensor([2.3867]) tensor(3.) tensor(0) tensor(0)\n",
      "tensor([3.7227]) tensor(4.) tensor(0) tensor(0)\n",
      "tensor([2.4023]) tensor(3.) tensor(0) tensor(0)\n",
      "tensor([3.7207]) tensor(4.) tensor(0) tensor(0)\n",
      "tensor([1.9863]) tensor(2.) tensor(0) tensor(0)\n",
      "tensor([2.5664]) tensor(4.) tensor(0) tensor(0)\n",
      "tensor([1.8711]) tensor(2.) tensor(0) tensor(0)\n",
      "tensor([2.3008]) tensor(2.) tensor(0) tensor(0)\n",
      "tensor([2.9531]) tensor(2.) tensor(0) tensor(0)\n",
      "tensor([2.1914]) tensor(1.) tensor(0) tensor(0)\n",
      "tensor([1.7393]) tensor(2.) tensor(0) tensor(0)\n",
      "tensor([1.9668]) tensor(1.) tensor(0) tensor(0)\n",
      "tensor([2.4414]) tensor(2.) tensor(0) tensor(0)\n",
      "tensor([1.7920]) tensor(3.) tensor(0) tensor(0)\n",
      "tensor([2.2773]) tensor(3.) tensor(0) tensor(0)\n",
      "tensor([2.0352]) tensor(2.) tensor(0) tensor(0)\n",
      "tensor([2.0117]) tensor(2.) tensor(0) tensor(0)\n",
      "tensor([1.8242]) tensor(1.) tensor(0) tensor(0)\n",
      "tensor([1.9609]) tensor(2.) tensor(0) tensor(0)\n",
      "tensor([1.8691]) tensor(2.) tensor(0) tensor(0)\n",
      "tensor([2.3477]) tensor(2.) tensor(0) tensor(0)\n",
      "tensor([2.1250]) tensor(1.) tensor(0) tensor(0)\n",
      "tensor([2.0234]) tensor(1.) tensor(0) tensor(0)\n",
      "tensor([3.3066]) tensor(5.) tensor(0) tensor(0)\n",
      "tensor([4.4141]) tensor(5.) tensor(0) tensor(0)\n",
      "tensor([2.5156]) tensor(1.) tensor(0) tensor(0)\n",
      "tensor([2.0234]) tensor(3.) tensor(0) tensor(0)\n",
      "tensor([2.8320]) tensor(2.) tensor(0) tensor(0)\n",
      "tensor([1.8398]) tensor(2.) tensor(0) tensor(0)\n",
      "tensor([2.0703]) tensor(3.) tensor(0) tensor(0)\n",
      "tensor([2.0332]) tensor(2.) tensor(0) tensor(0)\n",
      "tensor([2.3398]) tensor(2.) tensor(0) tensor(0)\n",
      "tensor([2.1133]) tensor(2.) tensor(0) tensor(0)\n",
      "tensor([4.3047]) tensor(4.) tensor(0) tensor(0)\n",
      "tensor([1.9590]) tensor(2.) tensor(0) tensor(0)\n",
      "tensor([1.9336]) tensor(3.) tensor(0) tensor(0)\n",
      "tensor([2.0938]) tensor(2.) tensor(0) tensor(0)\n",
      "tensor([2.1719]) tensor(2.) tensor(0) tensor(0)\n",
      "tensor([2.1758]) tensor(1.) tensor(0) tensor(0)\n",
      "tensor([1.9258]) tensor(3.) tensor(0) tensor(0)\n",
      "tensor([2.0664]) tensor(2.) tensor(0) tensor(0)\n",
      "tensor([1.7500]) tensor(2.) tensor(0) tensor(0)\n",
      "tensor([1.8105]) tensor(1.) tensor(0) tensor(0)\n",
      "tensor([2.5039]) tensor(2.) tensor(0) tensor(0)\n",
      "tensor([2.2266]) tensor(2.) tensor(0) tensor(0)\n",
      "tensor([1.9355]) tensor(3.) tensor(0) tensor(0)\n",
      "tensor([3.8145]) tensor(2.) tensor(0) tensor(0)\n",
      "tensor([1.8984]) tensor(2.) tensor(0) tensor(0)\n",
      "tensor([2.4570]) tensor(3.) tensor(0) tensor(0)\n",
      "tensor([2.0039]) tensor(1.5000) tensor(0) tensor(0)\n",
      "tensor([3.0781]) tensor(3.) tensor(0) tensor(0)\n",
      "tensor([1.9824]) tensor(2.) tensor(0) tensor(0)\n",
      "tensor([2.6133]) tensor(2.) tensor(0) tensor(0)\n",
      "tensor([2.0352]) tensor(2.) tensor(0) tensor(0)\n",
      "tensor([2.1484]) tensor(2.) tensor(0) tensor(0)\n",
      "tensor([4.3828]) tensor(5.) tensor(0) tensor(0)\n",
      "tensor([2.4863]) tensor(1.) tensor(0) tensor(0)\n",
      "tensor([2.1445]) tensor(2.) tensor(0) tensor(0)\n",
      "tensor([1.7871]) tensor(1.) tensor(0) tensor(1)\n",
      "tensor([2.2461]) tensor(1.) tensor(0) tensor(0)\n",
      "tensor([1.8809]) tensor(2.) tensor(0) tensor(0)\n",
      "tensor([1.9424]) tensor(2.) tensor(0) tensor(0)\n",
      "tensor([1.9209]) tensor(3.) tensor(0) tensor(0)\n",
      "tensor([4.0781]) tensor(5.) tensor(0) tensor(0)\n",
      "tensor([2.0566]) tensor(2.) tensor(0) tensor(0)\n",
      "tensor([2.5859]) tensor(4.) tensor(0) tensor(0)\n",
      "tensor([1.7871]) tensor(1.) tensor(0) tensor(0)\n",
      "tensor([2.1367]) tensor(2.) tensor(0) tensor(0)\n",
      "tensor([2.1035]) tensor(2.) tensor(0) tensor(0)\n",
      "tensor([1.8379]) tensor(2.) tensor(0) tensor(0)\n",
      "tensor([1.9453]) tensor(1.) tensor(0) tensor(0)\n",
      "tensor([2.0117]) tensor(2.) tensor(0) tensor(0)\n"
     ]
    },
    {
     "name": "stdout",
     "output_type": "stream",
     "text": [
      "tensor([3.8672]) tensor(4.) tensor(0) tensor(0)\n",
      "tensor([1.8105]) tensor(1.) tensor(0) tensor(0)\n",
      "tensor([2.4414]) tensor(2.) tensor(0) tensor(0)\n",
      "tensor([1.8750]) tensor(2.) tensor(0) tensor(0)\n",
      "tensor([4.0547]) tensor(4.) tensor(0) tensor(0)\n",
      "tensor([3.7051]) tensor(3.) tensor(0) tensor(0)\n",
      "tensor([1.9824]) tensor(2.) tensor(0) tensor(0)\n",
      "tensor([2.0020]) tensor(2.) tensor(0) tensor(0)\n",
      "tensor([2.0254]) tensor(2.) tensor(0) tensor(0)\n",
      "tensor([2.4688]) tensor(2.) tensor(0) tensor(0)\n",
      "tensor([1.8730]) tensor(2.) tensor(0) tensor(0)\n",
      "tensor([2.0645]) tensor(2.) tensor(0) tensor(0)\n",
      "tensor([3.2871]) tensor(4.) tensor(0) tensor(0)\n",
      "tensor([2.0781]) tensor(2.) tensor(0) tensor(0)\n",
      "tensor([1.9424]) tensor(2.) tensor(0) tensor(0)\n",
      "tensor([1.9805]) tensor(2.) tensor(0) tensor(0)\n",
      "tensor([1.9355]) tensor(3.) tensor(0) tensor(0)\n",
      "tensor([2.3242]) tensor(2.) tensor(0) tensor(0)\n",
      "tensor([2.0742]) tensor(2.) tensor(0) tensor(0)\n",
      "tensor([2.1758]) tensor(3.) tensor(0) tensor(0)\n",
      "tensor([3.0215]) tensor(2.) tensor(0) tensor(0)\n",
      "tensor([1.9688]) tensor(1.) tensor(0) tensor(0)\n",
      "tensor([2.1094]) tensor(2.) tensor(0) tensor(0)\n",
      "tensor([2.3301]) tensor(2.) tensor(0) tensor(0)\n",
      "tensor([2.7070]) tensor(2.) tensor(0) tensor(0)\n",
      "tensor([1.9326]) tensor(2.) tensor(0) tensor(0)\n",
      "tensor([1.9062]) tensor(2.) tensor(0) tensor(0)\n",
      "tensor([2.9082]) tensor(2.) tensor(0) tensor(0)\n",
      "tensor([4.3828]) tensor(4.) tensor(0) tensor(0)\n",
      "tensor([2.0527]) tensor(2.) tensor(0) tensor(0)\n",
      "tensor([2.1035]) tensor(2.) tensor(0) tensor(0)\n",
      "tensor([1.8770]) tensor(1.) tensor(0) tensor(0)\n",
      "tensor([2.1035]) tensor(2.) tensor(0) tensor(0)\n",
      "tensor([1.8125]) tensor(2.) tensor(0) tensor(0)\n",
      "tensor([2.1172]) tensor(2.) tensor(0) tensor(0)\n",
      "tensor([4.3398]) tensor(4.) tensor(0) tensor(0)\n",
      "tensor([2.7266]) tensor(4.) tensor(0) tensor(0)\n",
      "tensor([2.0742]) tensor(2.) tensor(0) tensor(0)\n",
      "tensor([1.8945]) tensor(2.) tensor(0) tensor(0)\n",
      "tensor([2.0625]) tensor(2.) tensor(0) tensor(0)\n",
      "tensor([2.2969]) tensor(5.) tensor(0) tensor(0)\n",
      "tensor([2.1855]) tensor(2.) tensor(0) tensor(0)\n",
      "tensor([1.9248]) tensor(2.) tensor(0) tensor(0)\n",
      "tensor([2.0762]) tensor(3.) tensor(0) tensor(0)\n",
      "tensor([2.3223]) tensor(2.) tensor(0) tensor(0)\n",
      "tensor([3.8984]) tensor(4.) tensor(0) tensor(0)\n",
      "tensor([3.0137]) tensor(3.) tensor(0) tensor(0)\n",
      "tensor([1.7900]) tensor(2.) tensor(0) tensor(0)\n",
      "tensor([2.1504]) tensor(3.) tensor(0) tensor(0)\n",
      "tensor([2.8047]) tensor(3.) tensor(0) tensor(0)\n",
      "tensor([2.3125]) tensor(2.) tensor(0) tensor(0)\n",
      "tensor([2.1191]) tensor(2.) tensor(0) tensor(0)\n",
      "tensor([2.5273]) tensor(4.) tensor(0) tensor(0)\n",
      "tensor([1.8789]) tensor(3.) tensor(0) tensor(0)\n",
      "tensor([2.0996]) tensor(2.) tensor(0) tensor(0)\n",
      "tensor([1.9414]) tensor(3.) tensor(0) tensor(0)\n",
      "tensor([1.8535]) tensor(2.) tensor(0) tensor(0)\n",
      "tensor([3.6992]) tensor(4.) tensor(0) tensor(0)\n",
      "tensor([1.9766]) tensor(3.) tensor(0) tensor(0)\n",
      "tensor([2.1250]) tensor(2.) tensor(0) tensor(0)\n",
      "tensor([1.9814]) tensor(2.) tensor(0) tensor(0)\n",
      "tensor([1.8613]) tensor(2.) tensor(0) tensor(0)\n",
      "tensor([2.1211]) tensor(2.) tensor(0) tensor(0)\n",
      "tensor([1.8848]) tensor(1.) tensor(0) tensor(0)\n",
      "tensor([1.9590]) tensor(2.) tensor(0) tensor(0)\n",
      "tensor([1.8418]) tensor(1.) tensor(0) tensor(0)\n",
      "tensor([2.5469]) tensor(2.) tensor(0) tensor(0)\n",
      "tensor([2.8086]) tensor(3.) tensor(0) tensor(0)\n",
      "tensor([2.3047]) tensor(3.) tensor(0) tensor(0)\n",
      "tensor([1.9141]) tensor(1.) tensor(0) tensor(0)\n",
      "tensor([2.]) tensor(2.) tensor(0) tensor(0)\n",
      "tensor([1.9570]) tensor(2.) tensor(0) tensor(0)\n",
      "tensor([4.3594]) tensor(4.) tensor(0) tensor(0)\n",
      "tensor([2.0625]) tensor(1.) tensor(0) tensor(0)\n",
      "tensor([1.9746]) tensor(2.) tensor(0) tensor(0)\n",
      "tensor([1.8711]) tensor(3.) tensor(0) tensor(0)\n",
      "tensor([4.2773]) tensor(4.) tensor(0) tensor(0)\n",
      "tensor([2.1562]) tensor(2.) tensor(0) tensor(0)\n",
      "tensor([1.9160]) tensor(2.5000) tensor(0) tensor(0)\n",
      "tensor([2.2188]) tensor(3.) tensor(0) tensor(0)\n",
      "tensor([2.6582]) tensor(2.) tensor(0) tensor(0)\n",
      "tensor([2.6250]) tensor(2.) tensor(0) tensor(0)\n",
      "tensor([2.9844]) tensor(2.5000) tensor(0) tensor(0)\n",
      "tensor([2.5625]) tensor(3.) tensor(0) tensor(0)\n",
      "tensor([3.9414]) tensor(2.) tensor(0) tensor(0)\n",
      "tensor([1.9199]) tensor(2.) tensor(0) tensor(0)\n",
      "tensor([2.9688]) tensor(3.) tensor(0) tensor(0)\n",
      "tensor([1.8809]) tensor(2.) tensor(0) tensor(0)\n",
      "tensor([4.3438]) tensor(5.) tensor(0) tensor(0)\n",
      "tensor([2.1055]) tensor(1.) tensor(0) tensor(0)\n",
      "tensor([2.3984]) tensor(2.) tensor(0) tensor(0)\n",
      "tensor([1.7578]) tensor(2.) tensor(0) tensor(0)\n",
      "tensor([1.8545]) tensor(2.) tensor(0) tensor(0)\n",
      "tensor([1.8809]) tensor(2.) tensor(0) tensor(0)\n",
      "tensor([3.3203]) tensor(4.) tensor(0) tensor(0)\n",
      "tensor([1.8848]) tensor(1.) tensor(0) tensor(0)\n",
      "tensor([4.4219]) tensor(4.) tensor(0) tensor(0)\n",
      "tensor([2.0195]) tensor(1.) tensor(0) tensor(0)\n",
      "tensor([1.8203]) tensor(2.) tensor(0) tensor(0)\n",
      "tensor([2.2324]) tensor(2.) tensor(0) tensor(0)\n",
      "tensor([2.3418]) tensor(3.) tensor(0) tensor(0)\n",
      "tensor([1.7949]) tensor(1.) tensor(0) tensor(0)\n",
      "tensor([3.4844]) tensor(4.) tensor(0) tensor(0)\n",
      "tensor([1.9697]) tensor(2.) tensor(0) tensor(0)\n",
      "tensor([3.0117]) tensor(3.) tensor(0) tensor(0)\n",
      "tensor([1.9395]) tensor(2.) tensor(0) tensor(0)\n",
      "tensor([2.2031]) tensor(2.) tensor(0) tensor(0)\n",
      "tensor([2.1562]) tensor(2.) tensor(0) tensor(0)\n",
      "tensor([1.8574]) tensor(2.) tensor(0) tensor(0)\n",
      "tensor([1.9697]) tensor(2.) tensor(0) tensor(0)\n",
      "tensor([2.0117]) tensor(2.) tensor(0) tensor(0)\n",
      "tensor([4.1797]) tensor(4.) tensor(0) tensor(0)\n",
      "tensor([2.0547]) tensor(3.) tensor(0) tensor(0)\n",
      "tensor([1.8828]) tensor(2.) tensor(0) tensor(0)\n",
      "tensor([2.4004]) tensor(2.) tensor(0) tensor(0)\n",
      "tensor([2.0469]) tensor(2.) tensor(0) tensor(0)\n",
      "tensor([1.9707]) tensor(2.) tensor(0) tensor(0)\n",
      "tensor([4.1562]) tensor(5.) tensor(0) tensor(0)\n",
      "tensor([2.1367]) tensor(3.) tensor(0) tensor(0)\n",
      "tensor([2.9688]) tensor(2.) tensor(0) tensor(0)\n",
      "tensor([2.4336]) tensor(3.) tensor(0) tensor(0)\n",
      "tensor([2.1055]) tensor(3.) tensor(0) tensor(0)\n",
      "tensor([4.3672]) tensor(4.) tensor(0) tensor(0)\n",
      "tensor([2.3125]) tensor(2.) tensor(0) tensor(0)\n",
      "tensor([2.1914]) tensor(3.) tensor(0) tensor(0)\n",
      "tensor([1.8896]) tensor(3.) tensor(0) tensor(0)\n",
      "tensor([2.0352]) tensor(2.) tensor(0) tensor(0)\n",
      "tensor([1.9805]) tensor(3.) tensor(0) tensor(0)\n",
      "tensor([2.0430]) tensor(3.) tensor(0) tensor(0)\n",
      "tensor([3.2520]) tensor(3.) tensor(0) tensor(0)\n",
      "tensor([4.2891]) tensor(5.) tensor(0) tensor(0)\n",
      "tensor([2.3281]) tensor(2.) tensor(0) tensor(0)\n",
      "tensor([1.9355]) tensor(2.) tensor(0) tensor(0)\n",
      "tensor([4.2344]) tensor(4.) tensor(0) tensor(0)\n",
      "tensor([3.5469]) tensor(4.) tensor(0) tensor(0)\n",
      "tensor([2.4844]) tensor(2.) tensor(0) tensor(0)\n",
      "tensor([2.1777]) tensor(2.) tensor(0) tensor(0)\n",
      "tensor([2.0039]) tensor(1.) tensor(0) tensor(0)\n",
      "tensor([4.3906]) tensor(5.) tensor(0) tensor(1)\n",
      "tensor([2.0254]) tensor(2.) tensor(0) tensor(0)\n",
      "tensor([2.0469]) tensor(2.) tensor(0) tensor(0)\n",
      "tensor([2.3164]) tensor(2.) tensor(0) tensor(0)\n",
      "tensor([2.0840]) tensor(2.) tensor(0) tensor(0)\n",
      "tensor([2.2617]) tensor(2.) tensor(0) tensor(0)\n",
      "tensor([2.3066]) tensor(2.) tensor(0) tensor(0)\n",
      "tensor([2.2207]) tensor(3.) tensor(0) tensor(0)\n",
      "tensor([1.8926]) tensor(2.) tensor(0) tensor(0)\n",
      "tensor([1.7422]) tensor(1.) tensor(0) tensor(0)\n",
      "tensor([2.1953]) tensor(2.) tensor(0) tensor(0)\n",
      "tensor([3.9629]) tensor(4.5000) tensor(0) tensor(0)\n",
      "tensor([1.9258]) tensor(1.) tensor(0) tensor(0)\n",
      "tensor([1.8926]) tensor(2.) tensor(0) tensor(0)\n",
      "tensor([2.1758]) tensor(2.) tensor(0) tensor(0)\n",
      "tensor([1.9902]) tensor(2.) tensor(0) tensor(0)\n",
      "tensor([1.8848]) tensor(2.) tensor(0) tensor(0)\n",
      "tensor([2.7090]) tensor(2.) tensor(0) tensor(0)\n",
      "tensor([2.2500]) tensor(2.) tensor(0) tensor(0)\n",
      "tensor([1.9062]) tensor(1.) tensor(0) tensor(0)\n",
      "tensor([2.3105]) tensor(3.) tensor(0) tensor(0)\n",
      "tensor([1.8613]) tensor(2.) tensor(0) tensor(0)\n",
      "tensor([1.8242]) tensor(1.) tensor(0) tensor(0)\n",
      "tensor([2.3633]) tensor(2.5000) tensor(0) tensor(0)\n",
      "tensor([2.3516]) tensor(3.) tensor(0) tensor(0)\n",
      "tensor([2.2324]) tensor(1.) tensor(0) tensor(0)\n",
      "tensor([2.3086]) tensor(1.) tensor(0) tensor(0)\n",
      "tensor([2.1680]) tensor(2.) tensor(0) tensor(0)\n",
      "tensor([2.0176]) tensor(1.) tensor(0) tensor(0)\n",
      "tensor([2.1660]) tensor(2.) tensor(0) tensor(0)\n",
      "tensor([4.4688]) tensor(3.) tensor(0) tensor(0)\n",
      "tensor([1.8828]) tensor(2.) tensor(0) tensor(0)\n",
      "tensor([2.0020]) tensor(3.) tensor(0) tensor(0)\n",
      "tensor([2.0742]) tensor(2.) tensor(0) tensor(0)\n",
      "tensor([3.2051]) tensor(4.) tensor(0) tensor(0)\n",
      "tensor([1.9961]) tensor(2.) tensor(0) tensor(0)\n",
      "tensor([2.0176]) tensor(2.) tensor(0) tensor(0)\n",
      "tensor([2.7695]) tensor(2.) tensor(0) tensor(0)\n",
      "tensor([2.0781]) tensor(3.) tensor(0) tensor(0)\n",
      "tensor([4.0547]) tensor(5.) tensor(0) tensor(0)\n",
      "tensor([2.5117]) tensor(3.) tensor(0) tensor(0)\n",
      "tensor([2.0820]) tensor(2.) tensor(0) tensor(0)\n",
      "tensor([2.3008]) tensor(2.) tensor(0) tensor(0)\n",
      "tensor([2.0508]) tensor(2.) tensor(0) tensor(0)\n",
      "tensor([2.4922]) tensor(3.) tensor(0) tensor(0)\n",
      "tensor([1.8633]) tensor(1.) tensor(0) tensor(0)\n",
      "tensor([2.3086]) tensor(3.) tensor(0) tensor(0)\n",
      "tensor([2.4844]) tensor(3.) tensor(0) tensor(0)\n",
      "tensor([2.3711]) tensor(3.) tensor(0) tensor(0)\n",
      "tensor([2.0547]) tensor(1.) tensor(0) tensor(1)\n",
      "tensor([1.9609]) tensor(2.) tensor(0) tensor(0)\n",
      "tensor([1.9297]) tensor(2.) tensor(0) tensor(0)\n",
      "tensor([2.1641]) tensor(2.) tensor(0) tensor(0)\n",
      "tensor([3.0117]) tensor(4.) tensor(0) tensor(0)\n",
      "tensor([4.2969]) tensor(5.) tensor(0) tensor(0)\n",
      "tensor([2.1270]) tensor(1.5000) tensor(0) tensor(0)\n",
      "tensor([3.1250]) tensor(4.) tensor(0) tensor(0)\n",
      "tensor([1.8203]) tensor(2.) tensor(0) tensor(0)\n",
      "tensor([3.5762]) tensor(5.) tensor(0) tensor(0)\n",
      "tensor([3.1348]) tensor(4.) tensor(0) tensor(0)\n",
      "tensor([1.9902]) tensor(2.) tensor(0) tensor(0)\n",
      "tensor([4.1172]) tensor(4.) tensor(0) tensor(0)\n",
      "tensor([4.4688]) tensor(4.) tensor(0) tensor(0)\n",
      "tensor([1.8730]) tensor(2.) tensor(0) tensor(0)\n",
      "tensor([2.0039]) tensor(2.) tensor(0) tensor(0)\n",
      "tensor([4.2773]) tensor(4.) tensor(0) tensor(0)\n",
      "tensor([2.9785]) tensor(2.) tensor(0) tensor(0)\n",
      "tensor([2.4824]) tensor(3.) tensor(0) tensor(0)\n",
      "tensor([2.8047]) tensor(3.) tensor(0) tensor(0)\n",
      "tensor([2.0781]) tensor(3.) tensor(0) tensor(0)\n",
      "tensor([4.3281]) tensor(4.5000) tensor(0) tensor(0)\n",
      "tensor([2.7324]) tensor(2.) tensor(0) tensor(0)\n",
      "tensor([2.2930]) tensor(2.) tensor(0) tensor(0)\n",
      "tensor([2.0195]) tensor(2.) tensor(0) tensor(0)\n",
      "tensor([2.0781]) tensor(2.) tensor(0) tensor(0)\n",
      "tensor([2.0508]) tensor(1.5000) tensor(0) tensor(0)\n",
      "tensor([2.5703]) tensor(2.) tensor(0) tensor(0)\n",
      "tensor([4.3672]) tensor(4.) tensor(0) tensor(0)\n",
      "tensor([2.3730]) tensor(2.) tensor(0) tensor(0)\n",
      "tensor([1.9072]) tensor(2.) tensor(0) tensor(0)\n",
      "tensor([2.1797]) tensor(2.) tensor(0) tensor(0)\n",
      "tensor([1.9395]) tensor(1.) tensor(0) tensor(0)\n",
      "tensor([2.2383]) tensor(2.) tensor(0) tensor(0)\n",
      "tensor([1.8672]) tensor(1.) tensor(0) tensor(0)\n",
      "tensor([2.2656]) tensor(2.) tensor(0) tensor(0)\n",
      "tensor([2.3320]) tensor(2.) tensor(0) tensor(0)\n",
      "tensor([2.9238]) tensor(3.) tensor(0) tensor(0)\n",
      "tensor([3.8594]) tensor(2.) tensor(0) tensor(0)\n",
      "tensor([1.9121]) tensor(2.) tensor(0) tensor(0)\n",
      "tensor([1.9355]) tensor(2.) tensor(0) tensor(0)\n",
      "tensor([1.9434]) tensor(1.5000) tensor(0) tensor(0)\n",
      "tensor([1.8330]) tensor(2.) tensor(0) tensor(0)\n",
      "tensor([2.0898]) tensor(2.) tensor(0) tensor(0)\n",
      "tensor([2.0938]) tensor(2.) tensor(0) tensor(0)\n",
      "tensor([2.0430]) tensor(2.) tensor(0) tensor(0)\n",
      "tensor([1.9268]) tensor(1.5000) tensor(0) tensor(0)\n",
      "tensor([2.4648]) tensor(4.) tensor(0) tensor(0)\n",
      "tensor([4.4297]) tensor(5.) tensor(0) tensor(0)\n",
      "tensor([3.9570]) tensor(4.) tensor(0) tensor(0)\n",
      "tensor([1.9883]) tensor(2.) tensor(0) tensor(0)\n"
     ]
    },
    {
     "name": "stdout",
     "output_type": "stream",
     "text": [
      "tensor([2.0977]) tensor(3.) tensor(0) tensor(0)\n",
      "tensor([2.0039]) tensor(2.) tensor(0) tensor(0)\n",
      "tensor([1.7754]) tensor(1.) tensor(0) tensor(0)\n",
      "tensor([2.4531]) tensor(2.) tensor(0) tensor(0)\n",
      "tensor([1.9414]) tensor(2.) tensor(0) tensor(0)\n",
      "tensor([1.8789]) tensor(2.) tensor(0) tensor(0)\n",
      "tensor([3.8613]) tensor(3.) tensor(0) tensor(0)\n",
      "tensor([2.1680]) tensor(2.) tensor(0) tensor(0)\n",
      "tensor([3.1602]) tensor(2.) tensor(0) tensor(0)\n",
      "tensor([1.9590]) tensor(3.) tensor(0) tensor(0)\n",
      "tensor([1.9941]) tensor(2.) tensor(0) tensor(0)\n",
      "tensor([1.8525]) tensor(1.) tensor(0) tensor(0)\n",
      "tensor([2.7461]) tensor(3.) tensor(0) tensor(0)\n",
      "tensor([2.2695]) tensor(3.) tensor(0) tensor(0)\n",
      "tensor([2.1016]) tensor(1.) tensor(0) tensor(0)\n",
      "tensor([4.3984]) tensor(3.) tensor(0) tensor(0)\n",
      "tensor([2.4648]) tensor(2.) tensor(0) tensor(0)\n",
      "tensor([1.7363]) tensor(1.) tensor(0) tensor(0)\n",
      "tensor([2.2461]) tensor(2.) tensor(0) tensor(0)\n",
      "tensor([1.9824]) tensor(3.) tensor(0) tensor(0)\n",
      "tensor([2.0078]) tensor(2.) tensor(0) tensor(0)\n",
      "tensor([1.9219]) tensor(2.) tensor(0) tensor(0)\n",
      "tensor([3.0059]) tensor(2.) tensor(0) tensor(0)\n",
      "tensor([2.0645]) tensor(2.) tensor(0) tensor(0)\n",
      "tensor([2.0547]) tensor(2.) tensor(0) tensor(0)\n",
      "tensor([4.1758]) tensor(4.) tensor(0) tensor(0)\n",
      "tensor([2.2422]) tensor(2.) tensor(0) tensor(0)\n",
      "tensor([1.8379]) tensor(3.) tensor(0) tensor(0)\n",
      "tensor([1.9531]) tensor(3.) tensor(0) tensor(0)\n",
      "tensor([1.9688]) tensor(2.) tensor(0) tensor(0)\n",
      "tensor([2.1055]) tensor(3.) tensor(0) tensor(0)\n",
      "tensor([1.7764]) tensor(1.) tensor(0) tensor(0)\n",
      "tensor([1.8477]) tensor(2.) tensor(0) tensor(0)\n",
      "tensor([2.1914]) tensor(3.) tensor(0) tensor(0)\n",
      "tensor([2.0391]) tensor(2.) tensor(0) tensor(0)\n",
      "tensor([1.9688]) tensor(2.) tensor(0) tensor(0)\n",
      "tensor([3.6270]) tensor(2.) tensor(0) tensor(0)\n",
      "tensor([2.3027]) tensor(3.) tensor(0) tensor(0)\n",
      "tensor([2.0273]) tensor(2.) tensor(0) tensor(0)\n",
      "tensor([3.5371]) tensor(5.) tensor(0) tensor(0)\n",
      "tensor([1.9551]) tensor(2.) tensor(0) tensor(0)\n",
      "tensor([2.8496]) tensor(4.) tensor(0) tensor(0)\n",
      "tensor([2.5039]) tensor(3.) tensor(0) tensor(0)\n",
      "tensor([1.8447]) tensor(2.) tensor(0) tensor(0)\n",
      "tensor([1.8115]) tensor(2.) tensor(0) tensor(0)\n",
      "tensor([1.9004]) tensor(2.) tensor(0) tensor(0)\n",
      "tensor([4.4844]) tensor(5.) tensor(0) tensor(0)\n",
      "tensor([2.0488]) tensor(2.) tensor(0) tensor(0)\n",
      "tensor([1.9668]) tensor(2.) tensor(0) tensor(0)\n",
      "tensor([4.3281]) tensor(4.) tensor(0) tensor(0)\n",
      "tensor([2.2148]) tensor(3.) tensor(0) tensor(0)\n",
      "tensor([1.9375]) tensor(2.) tensor(0) tensor(0)\n",
      "tensor([2.0703]) tensor(3.) tensor(0) tensor(0)\n",
      "tensor([2.1250]) tensor(2.) tensor(0) tensor(0)\n",
      "tensor([2.1133]) tensor(2.) tensor(0) tensor(0)\n",
      "tensor([2.2812]) tensor(2.) tensor(0) tensor(0)\n",
      "tensor([2.9219]) tensor(2.5000) tensor(0) tensor(0)\n",
      "tensor([4.1602]) tensor(4.) tensor(0) tensor(0)\n",
      "tensor([2.2402]) tensor(2.5000) tensor(0) tensor(0)\n",
      "tensor([1.9922]) tensor(3.) tensor(0) tensor(0)\n",
      "tensor([2.1523]) tensor(3.) tensor(0) tensor(0)\n",
      "tensor([1.8604]) tensor(3.) tensor(0) tensor(0)\n",
      "tensor([2.5918]) tensor(2.) tensor(0) tensor(0)\n",
      "tensor([2.]) tensor(1.5000) tensor(0) tensor(0)\n",
      "tensor([4.4414]) tensor(4.5000) tensor(0) tensor(0)\n",
      "tensor([4.3242]) tensor(3.) tensor(0) tensor(0)\n",
      "tensor([2.1641]) tensor(2.) tensor(0) tensor(0)\n",
      "tensor([1.8477]) tensor(1.) tensor(0) tensor(0)\n",
      "tensor([2.4414]) tensor(4.) tensor(0) tensor(0)\n",
      "tensor([4.4453]) tensor(4.) tensor(0) tensor(0)\n",
      "tensor([2.0469]) tensor(2.) tensor(0) tensor(0)\n",
      "tensor([1.9834]) tensor(2.) tensor(0) tensor(0)\n",
      "tensor([1.9961]) tensor(2.) tensor(0) tensor(0)\n",
      "tensor([4.2500]) tensor(5.) tensor(0) tensor(0)\n",
      "tensor([2.0293]) tensor(2.) tensor(0) tensor(0)\n",
      "tensor([2.2207]) tensor(4.) tensor(0) tensor(0)\n",
      "tensor([2.3145]) tensor(2.) tensor(0) tensor(0)\n",
      "tensor([1.9902]) tensor(2.) tensor(0) tensor(0)\n",
      "tensor([3.8477]) tensor(4.) tensor(0) tensor(0)\n",
      "tensor([1.9238]) tensor(2.) tensor(0) tensor(0)\n",
      "tensor([4.0938]) tensor(4.) tensor(0) tensor(0)\n",
      "tensor([3.1562]) tensor(3.) tensor(0) tensor(0)\n",
      "tensor([1.9277]) tensor(2.) tensor(0) tensor(0)\n",
      "tensor([3.0176]) tensor(2.) tensor(0) tensor(0)\n",
      "tensor([2.0176]) tensor(1.) tensor(0) tensor(0)\n",
      "tensor([4.3594]) tensor(5.) tensor(0) tensor(0)\n",
      "tensor([1.9424]) tensor(2.) tensor(0) tensor(0)\n",
      "tensor([1.8477]) tensor(1.) tensor(0) tensor(0)\n",
      "tensor([2.2305]) tensor(3.) tensor(0) tensor(0)\n",
      "tensor([4.1094]) tensor(4.) tensor(0) tensor(0)\n",
      "tensor([2.5840]) tensor(1.) tensor(0) tensor(0)\n",
      "tensor([2.1328]) tensor(3.) tensor(0) tensor(0)\n",
      "tensor([1.9092]) tensor(2.) tensor(0) tensor(0)\n",
      "tensor([2.8984]) tensor(2.) tensor(0) tensor(0)\n",
      "tensor([1.9375]) tensor(2.) tensor(0) tensor(0)\n",
      "tensor([1.8994]) tensor(2.) tensor(0) tensor(0)\n",
      "tensor([2.2422]) tensor(1.) tensor(0) tensor(0)\n",
      "tensor([1.9531]) tensor(2.) tensor(0) tensor(0)\n",
      "tensor([2.3750]) tensor(1.) tensor(0) tensor(0)\n",
      "tensor([1.8262]) tensor(2.) tensor(0) tensor(0)\n",
      "tensor([2.3203]) tensor(3.) tensor(0) tensor(0)\n",
      "tensor([2.1641]) tensor(3.) tensor(0) tensor(0)\n",
      "tensor([2.0840]) tensor(2.) tensor(0) tensor(0)\n",
      "tensor([2.2578]) tensor(3.) tensor(0) tensor(0)\n",
      "tensor([2.1445]) tensor(1.) tensor(0) tensor(0)\n",
      "tensor([1.8643]) tensor(1.) tensor(0) tensor(0)\n",
      "tensor([1.8906]) tensor(3.) tensor(0) tensor(0)\n",
      "tensor([4.3633]) tensor(4.) tensor(0) tensor(0)\n",
      "tensor([2.1367]) tensor(3.) tensor(0) tensor(0)\n",
      "tensor([2.1680]) tensor(2.) tensor(0) tensor(0)\n",
      "tensor([2.0078]) tensor(1.) tensor(0) tensor(0)\n",
      "tensor([3.3770]) tensor(4.) tensor(0) tensor(0)\n",
      "tensor([4.4297]) tensor(4.) tensor(0) tensor(0)\n",
      "tensor([3.5371]) tensor(3.) tensor(0) tensor(0)\n",
      "tensor([2.3105]) tensor(2.) tensor(0) tensor(0)\n",
      "tensor([2.0195]) tensor(3.) tensor(0) tensor(0)\n",
      "tensor([2.3535]) tensor(2.) tensor(0) tensor(0)\n",
      "tensor([2.2148]) tensor(2.) tensor(0) tensor(0)\n",
      "tensor([2.0371]) tensor(2.) tensor(0) tensor(0)\n",
      "tensor([4.1094]) tensor(5.) tensor(0) tensor(0)\n",
      "tensor([2.4668]) tensor(4.) tensor(0) tensor(0)\n",
      "tensor([2.0156]) tensor(2.) tensor(0) tensor(0)\n",
      "tensor([2.0254]) tensor(2.) tensor(0) tensor(0)\n",
      "tensor([2.0430]) tensor(2.) tensor(0) tensor(0)\n",
      "tensor([2.8398]) tensor(2.) tensor(0) tensor(0)\n",
      "tensor([1.9902]) tensor(3.) tensor(0) tensor(0)\n",
      "tensor([2.5820]) tensor(4.) tensor(0) tensor(0)\n",
      "tensor([2.0820]) tensor(2.) tensor(0) tensor(0)\n",
      "tensor([1.9004]) tensor(1.) tensor(0) tensor(0)\n",
      "tensor([2.4629]) tensor(2.) tensor(0) tensor(0)\n",
      "tensor([2.2891]) tensor(2.) tensor(0) tensor(0)\n",
      "tensor([1.9629]) tensor(2.) tensor(0) tensor(0)\n",
      "tensor([2.1230]) tensor(3.) tensor(0) tensor(0)\n",
      "tensor([1.9639]) tensor(2.) tensor(0) tensor(0)\n",
      "tensor([2.0039]) tensor(3.) tensor(0) tensor(0)\n",
      "tensor([2.3633]) tensor(1.) tensor(0) tensor(0)\n",
      "tensor([4.3438]) tensor(4.) tensor(0) tensor(0)\n",
      "tensor([2.0156]) tensor(2.) tensor(0) tensor(0)\n",
      "tensor([1.9805]) tensor(2.) tensor(0) tensor(0)\n",
      "tensor([2.8477]) tensor(2.) tensor(0) tensor(0)\n",
      "tensor([2.0586]) tensor(2.) tensor(0) tensor(0)\n",
      "tensor([4.4766]) tensor(4.) tensor(0) tensor(0)\n",
      "tensor([4.4062]) tensor(4.) tensor(0) tensor(0)\n",
      "tensor([2.8770]) tensor(3.) tensor(0) tensor(0)\n",
      "tensor([1.8184]) tensor(3.) tensor(0) tensor(0)\n",
      "tensor([2.0156]) tensor(2.) tensor(0) tensor(0)\n",
      "tensor([2.0801]) tensor(2.) tensor(0) tensor(0)\n",
      "tensor([2.0332]) tensor(2.) tensor(0) tensor(0)\n",
      "tensor([1.9648]) tensor(2.) tensor(0) tensor(0)\n",
      "tensor([2.2422]) tensor(3.) tensor(0) tensor(0)\n",
      "tensor([1.9355]) tensor(2.) tensor(0) tensor(0)\n",
      "tensor([3.5234]) tensor(3.) tensor(0) tensor(0)\n",
      "tensor([2.1641]) tensor(3.) tensor(0) tensor(0)\n",
      "tensor([1.9805]) tensor(2.) tensor(0) tensor(0)\n",
      "tensor([2.0605]) tensor(3.) tensor(0) tensor(0)\n",
      "tensor([2.0742]) tensor(1.) tensor(0) tensor(0)\n",
      "tensor([2.0742]) tensor(2.5000) tensor(0) tensor(0)\n",
      "tensor([1.8340]) tensor(2.) tensor(0) tensor(0)\n",
      "tensor([2.5918]) tensor(2.) tensor(0) tensor(0)\n",
      "tensor([3.4629]) tensor(2.) tensor(0) tensor(0)\n",
      "tensor([2.1602]) tensor(2.) tensor(0) tensor(0)\n",
      "tensor([2.1523]) tensor(2.) tensor(0) tensor(0)\n",
      "tensor([2.1289]) tensor(3.) tensor(0) tensor(0)\n",
      "tensor([2.0840]) tensor(2.) tensor(0) tensor(0)\n",
      "tensor([2.0078]) tensor(2.) tensor(0) tensor(0)\n",
      "tensor([2.0820]) tensor(1.5000) tensor(0) tensor(0)\n",
      "tensor([1.9697]) tensor(2.) tensor(0) tensor(0)\n",
      "tensor([2.0352]) tensor(2.) tensor(0) tensor(0)\n",
      "tensor([2.2461]) tensor(2.) tensor(0) tensor(0)\n",
      "tensor([2.0312]) tensor(1.) tensor(0) tensor(0)\n",
      "tensor([2.0664]) tensor(2.) tensor(0) tensor(0)\n",
      "tensor([1.7646]) tensor(2.) tensor(0) tensor(0)\n",
      "tensor([2.8086]) tensor(2.) tensor(0) tensor(0)\n",
      "tensor([2.9961]) tensor(3.) tensor(0) tensor(0)\n",
      "tensor([1.8037]) tensor(2.) tensor(0) tensor(0)\n",
      "tensor([3.8262]) tensor(3.) tensor(0) tensor(0)\n",
      "tensor([2.2285]) tensor(2.) tensor(0) tensor(0)\n",
      "tensor([2.3125]) tensor(2.) tensor(0) tensor(0)\n",
      "tensor([2.0488]) tensor(1.) tensor(0) tensor(0)\n",
      "tensor([4.3906]) tensor(4.) tensor(0) tensor(0)\n",
      "tensor([2.0039]) tensor(2.) tensor(0) tensor(0)\n",
      "tensor([2.2852]) tensor(2.) tensor(0) tensor(0)\n",
      "tensor([2.0488]) tensor(2.) tensor(0) tensor(0)\n",
      "tensor([2.0547]) tensor(2.) tensor(0) tensor(0)\n",
      "tensor([2.6641]) tensor(4.) tensor(0) tensor(0)\n",
      "tensor([2.0078]) tensor(2.) tensor(0) tensor(0)\n",
      "tensor([2.1738]) tensor(2.) tensor(0) tensor(0)\n",
      "tensor([1.8877]) tensor(2.) tensor(0) tensor(0)\n",
      "tensor([2.6797]) tensor(3.) tensor(0) tensor(0)\n",
      "tensor([1.8770]) tensor(1.) tensor(0) tensor(0)\n",
      "tensor([3.5957]) tensor(4.) tensor(0) tensor(0)\n",
      "tensor([2.1055]) tensor(2.) tensor(0) tensor(0)\n",
      "tensor([2.6602]) tensor(3.) tensor(0) tensor(0)\n",
      "tensor([2.1406]) tensor(1.5000) tensor(0) tensor(0)\n",
      "tensor([4.3867]) tensor(4.) tensor(0) tensor(0)\n",
      "tensor([2.1504]) tensor(2.5000) tensor(0) tensor(0)\n",
      "tensor([2.1094]) tensor(3.) tensor(0) tensor(0)\n",
      "tensor([2.5762]) tensor(2.) tensor(0) tensor(0)\n",
      "tensor([3.5742]) tensor(2.) tensor(0) tensor(0)\n",
      "tensor([2.1367]) tensor(3.) tensor(0) tensor(0)\n",
      "tensor([2.1523]) tensor(2.) tensor(0) tensor(0)\n",
      "tensor([1.8955]) tensor(3.) tensor(0) tensor(0)\n",
      "tensor([4.3672]) tensor(5.) tensor(0) tensor(0)\n",
      "tensor([2.4453]) tensor(4.) tensor(0) tensor(0)\n",
      "tensor([2.8926]) tensor(3.) tensor(0) tensor(0)\n",
      "tensor([2.2969]) tensor(2.) tensor(0) tensor(0)\n",
      "tensor([1.9238]) tensor(2.) tensor(0) tensor(0)\n",
      "tensor([2.0547]) tensor(2.) tensor(0) tensor(0)\n",
      "tensor([1.9922]) tensor(2.) tensor(0) tensor(0)\n",
      "tensor([2.1875]) tensor(3.) tensor(0) tensor(0)\n",
      "tensor([1.8359]) tensor(2.) tensor(0) tensor(0)\n",
      "tensor([3.7363]) tensor(3.) tensor(0) tensor(0)\n",
      "tensor([2.5195]) tensor(3.) tensor(0) tensor(0)\n",
      "tensor([3.0430]) tensor(2.) tensor(0) tensor(0)\n",
      "tensor([3.1660]) tensor(3.) tensor(0) tensor(0)\n",
      "tensor([1.9863]) tensor(2.) tensor(0) tensor(0)\n",
      "tensor([2.2109]) tensor(1.5000) tensor(0) tensor(0)\n",
      "tensor([2.3340]) tensor(2.) tensor(0) tensor(0)\n",
      "tensor([4.2812]) tensor(4.) tensor(0) tensor(0)\n",
      "tensor([2.6230]) tensor(1.) tensor(0) tensor(0)\n"
     ]
    },
    {
     "name": "stdout",
     "output_type": "stream",
     "text": [
      "tensor([3.8496]) tensor(5.) tensor(0) tensor(0)\n",
      "tensor([1.9805]) tensor(2.) tensor(0) tensor(0)\n",
      "tensor([2.0801]) tensor(3.) tensor(0) tensor(0)\n",
      "tensor([1.9297]) tensor(1.) tensor(0) tensor(0)\n",
      "tensor([2.6133]) tensor(3.) tensor(0) tensor(0)\n",
      "tensor([1.9277]) tensor(2.) tensor(0) tensor(0)\n",
      "tensor([4.3555]) tensor(5.) tensor(0) tensor(0)\n",
      "tensor([2.9629]) tensor(4.) tensor(0) tensor(0)\n",
      "tensor([2.0078]) tensor(2.) tensor(0) tensor(0)\n",
      "tensor([2.2070]) tensor(2.) tensor(0) tensor(0)\n",
      "tensor([1.7793]) tensor(2.) tensor(0) tensor(0)\n",
      "tensor([2.1094]) tensor(2.) tensor(0) tensor(0)\n",
      "tensor([1.9102]) tensor(2.) tensor(0) tensor(0)\n",
      "tensor([2.1367]) tensor(2.) tensor(0) tensor(0)\n",
      "tensor([2.1230]) tensor(2.) tensor(0) tensor(0)\n",
      "tensor([1.8955]) tensor(1.) tensor(0) tensor(0)\n",
      "tensor([2.4141]) tensor(3.) tensor(0) tensor(0)\n",
      "tensor([2.2656]) tensor(3.) tensor(0) tensor(0)\n",
      "tensor([1.8457]) tensor(1.) tensor(0) tensor(0)\n",
      "tensor([2.1328]) tensor(2.) tensor(0) tensor(0)\n",
      "tensor([4.1680]) tensor(5.) tensor(0) tensor(0)\n",
      "tensor([1.8672]) tensor(2.) tensor(0) tensor(0)\n",
      "tensor([3.2930]) tensor(2.) tensor(0) tensor(0)\n",
      "tensor([2.2559]) tensor(2.) tensor(0) tensor(0)\n",
      "tensor([2.1445]) tensor(2.) tensor(0) tensor(0)\n",
      "tensor([2.0332]) tensor(2.) tensor(0) tensor(0)\n",
      "tensor([4.4375]) tensor(5.) tensor(0) tensor(0)\n",
      "tensor([2.1094]) tensor(2.) tensor(0) tensor(0)\n",
      "tensor([1.8516]) tensor(3.) tensor(0) tensor(0)\n",
      "tensor([3.9844]) tensor(4.) tensor(0) tensor(0)\n",
      "tensor([1.8711]) tensor(1.) tensor(0) tensor(0)\n",
      "tensor([4.1484]) tensor(4.) tensor(0) tensor(0)\n",
      "tensor([2.1133]) tensor(2.) tensor(0) tensor(0)\n",
      "tensor([1.9932]) tensor(1.) tensor(0) tensor(0)\n",
      "tensor([2.0469]) tensor(2.) tensor(0) tensor(0)\n",
      "tensor([4.5078]) tensor(3.) tensor(0) tensor(0)\n",
      "tensor([1.8164]) tensor(2.) tensor(0) tensor(0)\n",
      "tensor([2.5898]) tensor(3.) tensor(0) tensor(0)\n",
      "tensor([2.1406]) tensor(3.) tensor(0) tensor(0)\n",
      "tensor([4.3125]) tensor(4.) tensor(0) tensor(0)\n",
      "tensor([2.2871]) tensor(2.) tensor(0) tensor(0)\n",
      "tensor([3.6777]) tensor(3.) tensor(0) tensor(0)\n",
      "tensor([1.9863]) tensor(2.) tensor(0) tensor(0)\n",
      "tensor([1.9727]) tensor(3.) tensor(0) tensor(0)\n",
      "tensor([2.0605]) tensor(2.) tensor(0) tensor(0)\n",
      "tensor([2.1445]) tensor(3.) tensor(0) tensor(0)\n",
      "tensor([2.0273]) tensor(2.) tensor(0) tensor(0)\n",
      "tensor([2.1895]) tensor(2.) tensor(0) tensor(0)\n",
      "tensor([2.0820]) tensor(2.) tensor(0) tensor(0)\n",
      "tensor([2.1094]) tensor(2.) tensor(0) tensor(0)\n",
      "tensor([2.3320]) tensor(3.) tensor(0) tensor(0)\n",
      "tensor([2.2285]) tensor(3.) tensor(0) tensor(0)\n",
      "tensor([1.7949]) tensor(2.) tensor(0) tensor(0)\n",
      "tensor([2.2969]) tensor(2.) tensor(0) tensor(0)\n",
      "tensor([2.0312]) tensor(3.) tensor(0) tensor(0)\n",
      "tensor([2.4805]) tensor(3.) tensor(0) tensor(0)\n",
      "tensor([2.2383]) tensor(2.) tensor(0) tensor(0)\n",
      "tensor([2.0430]) tensor(2.) tensor(0) tensor(0)\n",
      "tensor([1.9609]) tensor(2.) tensor(0) tensor(0)\n",
      "tensor([4.3438]) tensor(5.) tensor(0) tensor(0)\n",
      "tensor([1.9434]) tensor(3.) tensor(0) tensor(0)\n",
      "tensor([2.5391]) tensor(2.) tensor(0) tensor(0)\n",
      "tensor([1.7227]) tensor(2.) tensor(0) tensor(0)\n",
      "tensor([4.1875]) tensor(3.) tensor(0) tensor(0)\n",
      "tensor([2.0195]) tensor(2.) tensor(0) tensor(0)\n",
      "tensor([2.4883]) tensor(3.) tensor(0) tensor(0)\n",
      "tensor([2.5039]) tensor(2.) tensor(0) tensor(0)\n",
      "tensor([2.1719]) tensor(3.) tensor(0) tensor(0)\n",
      "tensor([2.0078]) tensor(2.) tensor(0) tensor(0)\n",
      "tensor([2.1328]) tensor(2.) tensor(0) tensor(0)\n",
      "tensor([3.6348]) tensor(2.) tensor(0) tensor(0)\n",
      "tensor([2.1367]) tensor(3.) tensor(0) tensor(0)\n",
      "tensor([2.1172]) tensor(3.) tensor(0) tensor(0)\n",
      "tensor([1.8867]) tensor(3.) tensor(0) tensor(0)\n",
      "tensor([2.2461]) tensor(2.) tensor(0) tensor(0)\n",
      "tensor([1.8408]) tensor(2.) tensor(0) tensor(0)\n",
      "tensor([1.9355]) tensor(3.) tensor(0) tensor(0)\n",
      "tensor([1.9990]) tensor(2.) tensor(0) tensor(0)\n",
      "tensor([1.9570]) tensor(2.) tensor(0) tensor(0)\n",
      "tensor([2.8613]) tensor(4.) tensor(0) tensor(0)\n",
      "tensor([1.9453]) tensor(2.) tensor(0) tensor(0)\n",
      "tensor([2.0176]) tensor(2.) tensor(0) tensor(0)\n",
      "tensor([2.9102]) tensor(5.) tensor(0) tensor(0)\n",
      "tensor([2.3223]) tensor(3.) tensor(0) tensor(0)\n",
      "tensor([2.0039]) tensor(3.) tensor(0) tensor(0)\n",
      "tensor([2.0469]) tensor(2.) tensor(0) tensor(0)\n",
      "tensor([1.9385]) tensor(2.) tensor(0) tensor(0)\n",
      "tensor([2.6016]) tensor(4.) tensor(0) tensor(0)\n",
      "tensor([2.3906]) tensor(2.) tensor(0) tensor(0)\n",
      "tensor([4.2344]) tensor(4.) tensor(0) tensor(0)\n",
      "tensor([4.2266]) tensor(3.) tensor(0) tensor(0)\n",
      "tensor([2.1680]) tensor(1.) tensor(0) tensor(0)\n",
      "tensor([1.8936]) tensor(3.) tensor(0) tensor(0)\n",
      "tensor([2.0566]) tensor(3.) tensor(0) tensor(0)\n",
      "tensor([3.5703]) tensor(3.) tensor(0) tensor(0)\n",
      "tensor([1.9053]) tensor(2.) tensor(0) tensor(0)\n",
      "tensor([2.5625]) tensor(1.5000) tensor(0) tensor(0)\n",
      "tensor([2.0391]) tensor(3.) tensor(0) tensor(0)\n",
      "tensor([1.9785]) tensor(2.) tensor(0) tensor(0)\n",
      "tensor([4.4766]) tensor(5.) tensor(0) tensor(0)\n",
      "tensor([1.8984]) tensor(2.) tensor(0) tensor(0)\n",
      "tensor([3.5449]) tensor(2.) tensor(0) tensor(0)\n",
      "tensor([1.8770]) tensor(2.) tensor(0) tensor(0)\n",
      "tensor([2.0430]) tensor(2.) tensor(0) tensor(0)\n",
      "tensor([2.0527]) tensor(2.) tensor(0) tensor(0)\n",
      "tensor([1.8975]) tensor(2.) tensor(0) tensor(0)\n",
      "tensor([1.9756]) tensor(2.) tensor(0) tensor(0)\n",
      "tensor([4.2422]) tensor(2.) tensor(0) tensor(0)\n",
      "tensor([1.9619]) tensor(2.) tensor(0) tensor(0)\n",
      "tensor([2.1055]) tensor(2.) tensor(0) tensor(0)\n",
      "tensor([2.5039]) tensor(3.) tensor(0) tensor(0)\n",
      "tensor([1.8945]) tensor(2.) tensor(0) tensor(0)\n",
      "tensor([2.2930]) tensor(2.) tensor(0) tensor(0)\n",
      "tensor([2.0977]) tensor(2.) tensor(0) tensor(0)\n",
      "tensor([1.7607]) tensor(1.) tensor(0) tensor(0)\n",
      "tensor([2.0742]) tensor(2.) tensor(0) tensor(0)\n",
      "tensor([2.2383]) tensor(2.) tensor(0) tensor(0)\n",
      "tensor([2.5898]) tensor(2.) tensor(0) tensor(0)\n",
      "tensor([2.5742]) tensor(2.) tensor(0) tensor(0)\n",
      "tensor([2.7617]) tensor(4.) tensor(0) tensor(0)\n",
      "tensor([1.9961]) tensor(3.) tensor(0) tensor(0)\n",
      "tensor([2.1973]) tensor(3.) tensor(0) tensor(0)\n",
      "tensor([2.0645]) tensor(2.) tensor(0) tensor(0)\n",
      "tensor([1.8672]) tensor(1.) tensor(0) tensor(0)\n",
      "tensor([3.9277]) tensor(4.) tensor(0) tensor(0)\n",
      "tensor([1.8379]) tensor(1.) tensor(0) tensor(0)\n",
      "tensor([4.3516]) tensor(5.) tensor(0) tensor(0)\n",
      "tensor([2.0898]) tensor(2.) tensor(0) tensor(0)\n",
      "tensor([1.9316]) tensor(2.) tensor(0) tensor(0)\n",
      "tensor([1.9287]) tensor(3.) tensor(0) tensor(0)\n",
      "tensor([1.8125]) tensor(1.) tensor(0) tensor(0)\n",
      "tensor([1.9121]) tensor(2.) tensor(0) tensor(0)\n",
      "tensor([1.7891]) tensor(1.) tensor(0) tensor(0)\n",
      "tensor([2.0781]) tensor(3.) tensor(0) tensor(0)\n",
      "tensor([1.9668]) tensor(2.) tensor(0) tensor(0)\n",
      "tensor([2.0547]) tensor(1.) tensor(0) tensor(0)\n",
      "tensor([2.6426]) tensor(3.) tensor(0) tensor(0)\n",
      "tensor([2.0898]) tensor(2.) tensor(0) tensor(0)\n",
      "tensor([4.2148]) tensor(4.) tensor(0) tensor(0)\n",
      "tensor([2.3086]) tensor(1.) tensor(0) tensor(0)\n",
      "tensor([1.8125]) tensor(3.) tensor(0) tensor(0)\n",
      "tensor([2.2383]) tensor(3.) tensor(0) tensor(0)\n",
      "tensor([2.1113]) tensor(2.) tensor(0) tensor(0)\n",
      "tensor([2.7461]) tensor(2.) tensor(0) tensor(0)\n",
      "tensor([4.2969]) tensor(4.) tensor(0) tensor(0)\n",
      "tensor([2.4297]) tensor(1.) tensor(0) tensor(0)\n",
      "tensor([2.3438]) tensor(2.) tensor(0) tensor(0)\n",
      "tensor([1.9727]) tensor(2.) tensor(0) tensor(0)\n",
      "tensor([2.0898]) tensor(2.) tensor(0) tensor(0)\n",
      "tensor([1.8105]) tensor(1.) tensor(0) tensor(0)\n",
      "tensor([2.1992]) tensor(2.) tensor(0) tensor(0)\n",
      "tensor([2.2168]) tensor(3.) tensor(0) tensor(0)\n",
      "tensor([4.4375]) tensor(4.) tensor(0) tensor(0)\n",
      "tensor([2.1172]) tensor(3.) tensor(0) tensor(0)\n",
      "tensor([2.1641]) tensor(2.) tensor(0) tensor(0)\n",
      "tensor([1.9385]) tensor(3.) tensor(0) tensor(0)\n",
      "tensor([1.9883]) tensor(2.) tensor(0) tensor(0)\n",
      "tensor([1.9551]) tensor(2.) tensor(0) tensor(0)\n",
      "tensor([1.8652]) tensor(2.) tensor(0) tensor(0)\n",
      "tensor([2.1797]) tensor(2.) tensor(0) tensor(0)\n",
      "tensor([2.2695]) tensor(2.) tensor(0) tensor(0)\n",
      "tensor([1.9277]) tensor(1.) tensor(0) tensor(0)\n",
      "tensor([1.9785]) tensor(2.) tensor(0) tensor(0)\n",
      "tensor([1.7637]) tensor(2.) tensor(0) tensor(0)\n",
      "tensor([1.9395]) tensor(1.) tensor(0) tensor(0)\n",
      "tensor([2.1094]) tensor(3.) tensor(0) tensor(0)\n",
      "tensor([1.9014]) tensor(2.) tensor(0) tensor(0)\n",
      "tensor([4.0742]) tensor(4.) tensor(0) tensor(0)\n",
      "tensor([1.9668]) tensor(3.) tensor(0) tensor(0)\n",
      "tensor([2.4746]) tensor(2.) tensor(0) tensor(0)\n",
      "tensor([2.4297]) tensor(3.) tensor(0) tensor(0)\n",
      "tensor([2.3828]) tensor(2.) tensor(0) tensor(0)\n",
      "tensor([4.4219]) tensor(4.5000) tensor(0) tensor(0)\n",
      "tensor([2.0938]) tensor(2.) tensor(0) tensor(0)\n",
      "tensor([1.8701]) tensor(2.) tensor(0) tensor(0)\n",
      "tensor([3.9746]) tensor(2.) tensor(0) tensor(0)\n",
      "tensor([2.]) tensor(2.) tensor(0) tensor(0)\n",
      "tensor([2.8828]) tensor(3.) tensor(0) tensor(0)\n",
      "tensor([3.0840]) tensor(3.) tensor(0) tensor(0)\n",
      "tensor([1.8770]) tensor(2.) tensor(0) tensor(0)\n",
      "tensor([2.4336]) tensor(2.) tensor(0) tensor(0)\n",
      "tensor([2.2188]) tensor(2.) tensor(0) tensor(0)\n",
      "tensor([2.6562]) tensor(2.) tensor(0) tensor(0)\n",
      "tensor([2.3984]) tensor(2.) tensor(0) tensor(0)\n",
      "tensor([1.8418]) tensor(3.) tensor(0) tensor(0)\n",
      "tensor([2.0020]) tensor(2.) tensor(0) tensor(0)\n",
      "tensor([2.2188]) tensor(2.) tensor(0) tensor(0)\n",
      "tensor([1.8672]) tensor(2.) tensor(0) tensor(0)\n",
      "tensor([2.1641]) tensor(2.) tensor(0) tensor(0)\n",
      "tensor([2.1680]) tensor(3.) tensor(0) tensor(0)\n",
      "tensor([2.0430]) tensor(2.) tensor(0) tensor(0)\n",
      "tensor([2.0430]) tensor(3.) tensor(0) tensor(0)\n",
      "tensor([1.8809]) tensor(1.) tensor(0) tensor(0)\n",
      "tensor([2.6172]) tensor(3.) tensor(0) tensor(0)\n",
      "tensor([2.0352]) tensor(1.) tensor(0) tensor(0)\n",
      "tensor([2.1289]) tensor(3.) tensor(0) tensor(0)\n",
      "tensor([2.9180]) tensor(3.) tensor(0) tensor(0)\n",
      "tensor([2.0508]) tensor(2.) tensor(0) tensor(0)\n",
      "tensor([4.3125]) tensor(5.) tensor(0) tensor(0)\n",
      "tensor([1.8545]) tensor(2.) tensor(0) tensor(0)\n",
      "tensor([2.5859]) tensor(4.) tensor(0) tensor(0)\n",
      "tensor([1.9844]) tensor(2.) tensor(0) tensor(0)\n",
      "tensor([2.0059]) tensor(2.) tensor(0) tensor(0)\n",
      "tensor([1.8535]) tensor(1.) tensor(0) tensor(0)\n",
      "tensor([1.8906]) tensor(2.) tensor(0) tensor(0)\n",
      "tensor([2.6992]) tensor(3.) tensor(0) tensor(0)\n",
      "tensor([1.8965]) tensor(2.) tensor(0) tensor(0)\n",
      "tensor([1.9004]) tensor(2.) tensor(0) tensor(0)\n",
      "tensor([2.4531]) tensor(2.) tensor(0) tensor(0)\n",
      "tensor([4.3359]) tensor(5.) tensor(0) tensor(0)\n",
      "tensor([2.4336]) tensor(2.) tensor(0) tensor(0)\n",
      "tensor([2.0312]) tensor(2.) tensor(0) tensor(0)\n",
      "tensor([2.2031]) tensor(2.) tensor(0) tensor(0)\n",
      "tensor([2.2031]) tensor(3.) tensor(0) tensor(0)\n",
      "tensor([2.3750]) tensor(1.) tensor(0) tensor(0)\n",
      "tensor([2.0508]) tensor(1.5000) tensor(0) tensor(0)\n",
      "tensor([1.9658]) tensor(2.) tensor(0) tensor(0)\n",
      "tensor([2.3047]) tensor(2.) tensor(0) tensor(0)\n",
      "tensor([2.0957]) tensor(2.) tensor(0) tensor(0)\n",
      "tensor([1.9844]) tensor(2.) tensor(0) tensor(0)\n",
      "tensor([1.9766]) tensor(2.) tensor(0) tensor(0)\n",
      "tensor([1.9385]) tensor(2.) tensor(0) tensor(0)\n",
      "tensor([2.5977]) tensor(3.) tensor(0) tensor(0)\n",
      "tensor([1.8438]) tensor(2.) tensor(0) tensor(0)\n",
      "tensor([1.7930]) tensor(3.) tensor(0) tensor(0)\n",
      "tensor([4.3438]) tensor(4.) tensor(0) tensor(0)\n",
      "tensor([2.1172]) tensor(2.) tensor(0) tensor(0)\n",
      "tensor([1.9199]) tensor(2.) tensor(0) tensor(0)\n",
      "tensor([1.9229]) tensor(2.) tensor(0) tensor(0)\n",
      "tensor([2.2695]) tensor(2.) tensor(0) tensor(0)\n",
      "tensor([1.9785]) tensor(2.) tensor(0) tensor(0)\n",
      "tensor([1.8447]) tensor(2.) tensor(0) tensor(0)\n",
      "tensor([2.0039]) tensor(1.5000) tensor(0) tensor(0)\n",
      "tensor([4.1992]) tensor(4.) tensor(0) tensor(0)\n",
      "tensor([2.1992]) tensor(2.) tensor(0) tensor(0)\n",
      "tensor([3.4844]) tensor(4.) tensor(0) tensor(0)\n",
      "tensor([2.1875]) tensor(3.) tensor(0) tensor(0)\n",
      "tensor([1.9199]) tensor(3.) tensor(0) tensor(0)\n",
      "tensor([2.2715]) tensor(2.) tensor(0) tensor(0)\n",
      "tensor([2.5586]) tensor(2.) tensor(0) tensor(0)\n",
      "tensor([2.6660]) tensor(3.) tensor(0) tensor(0)\n",
      "tensor([2.0117]) tensor(2.) tensor(0) tensor(0)\n",
      "tensor([1.9883]) tensor(3.) tensor(0) tensor(0)\n",
      "tensor([2.2500]) tensor(3.) tensor(0) tensor(0)\n",
      "tensor([1.9658]) tensor(2.) tensor(0) tensor(0)\n"
     ]
    },
    {
     "name": "stdout",
     "output_type": "stream",
     "text": [
      "tensor([2.7773]) tensor(3.) tensor(0) tensor(0)\n",
      "tensor([2.4316]) tensor(3.) tensor(0) tensor(0)\n",
      "tensor([2.]) tensor(2.) tensor(0) tensor(0)\n",
      "tensor([1.8574]) tensor(2.) tensor(0) tensor(0)\n",
      "tensor([2.0605]) tensor(1.) tensor(0) tensor(0)\n",
      "tensor([2.7051]) tensor(5.) tensor(0) tensor(0)\n",
      "tensor([2.2793]) tensor(2.) tensor(0) tensor(0)\n",
      "tensor([1.9785]) tensor(2.) tensor(0) tensor(0)\n",
      "tensor([1.9785]) tensor(2.) tensor(0) tensor(0)\n"
     ]
    }
   ],
   "source": [
    "for prob_sent, prob_example, targ_sent, targ_example in zip(*probs,*targs):\n",
    "    print(prob_sent, targ_sent, torch.argmax(prob_example, dim=-1), targ_example)"
   ]
  },
  {
   "cell_type": "markdown",
   "id": "collaborative-custody",
   "metadata": {},
   "source": [
    "Export model for inference"
   ]
  },
  {
   "cell_type": "code",
   "execution_count": 61,
   "id": "distant-musical",
   "metadata": {},
   "outputs": [],
   "source": [
    "learn.export(fname=f\"exp_{train_config['export_filename']}\")"
   ]
  },
  {
   "cell_type": "code",
   "execution_count": 62,
   "id": "dramatic-corner",
   "metadata": {},
   "outputs": [],
   "source": [
    "inf_learn = load_learner(f\"{train_config['learner_path']}/exp_{train_config['export_filename']}\")"
   ]
  },
  {
   "cell_type": "code",
   "execution_count": 63,
   "id": "spiritual-clear",
   "metadata": {},
   "outputs": [
    {
     "data": {
      "text/plain": [
       "['adequate_staffing',\n",
       " 'advancement_and_training_opportunities',\n",
       " 'appropriate_stress_work_assigned_equitably',\n",
       " 'benefits',\n",
       " 'better_ways_recognized_participate_in_decisions']"
      ]
     },
     "execution_count": 63,
     "metadata": {},
     "output_type": "execute_result"
    }
   ],
   "source": [
    "STANDARD_THEME_SAW_LABELS[:5]"
   ]
  },
  {
   "cell_type": "code",
   "execution_count": 64,
   "id": "handled-advocate",
   "metadata": {},
   "outputs": [
    {
     "data": {
      "text/plain": [
       "[(((1.9047832489013672), '0'),\n",
       "  (#2) [tensor([1.9048]),tensor(0)],\n",
       "  (#2) [tensor([1.9048]),tensor([0.9926, 0.0074])])]"
      ]
     },
     "execution_count": 64,
     "metadata": {},
     "output_type": "execute_result"
    }
   ],
   "source": [
    "inf_learn.blurr_predict('theme: Benefits comment: We are not paid enough and the benefits are horrible')"
   ]
  },
  {
   "cell_type": "code",
   "execution_count": 65,
   "id": "clear-valuation",
   "metadata": {},
   "outputs": [
    {
     "data": {
      "text/plain": [
       "[(((2.09375), '0'),\n",
       "  (#2) [tensor([2.0938]),tensor(0)],\n",
       "  (#2) [tensor([2.0938]),tensor([0.9974, 0.0026])])]"
      ]
     },
     "execution_count": 65,
     "metadata": {},
     "output_type": "execute_result"
    }
   ],
   "source": [
    "learn.blurr_predict(\"theme: Adequate Staffing comment: We don't have enough people to get the job done.\")"
   ]
  },
  {
   "cell_type": "markdown",
   "id": "alert-reminder",
   "metadata": {},
   "source": [
    "## Review"
   ]
  },
  {
   "cell_type": "code",
   "execution_count": 66,
   "id": "labeled-frequency",
   "metadata": {},
   "outputs": [],
   "source": [
    "#hide\n",
    "try: del learn; del inf_learn\n",
    "except: pass\n",
    "finally: gc.collect(); torch.cuda.empty_cache()"
   ]
  },
  {
   "cell_type": "code",
   "execution_count": 68,
   "id": "czech-beads",
   "metadata": {},
   "outputs": [],
   "source": [
    "#hide\n",
    "task = HF_TASKS_AUTO.SequenceClassification\n",
    "\n",
    "pretrained_model_name = \"facebook/bart-base\" #\"roberta-base\"\n",
    "config = AutoConfig.from_pretrained(pretrained_model_name)\n",
    "\n",
    "hf_arch, hf_config, hf_tokenizer, hf_model = BLURR_MODEL_HELPER.get_hf_objects(pretrained_model_name, \n",
    "                                                                               task=task, \n",
    "                                                                               config=config)"
   ]
  },
  {
   "cell_type": "code",
   "execution_count": 69,
   "id": "identical-stationery",
   "metadata": {},
   "outputs": [
    {
     "name": "stderr",
     "output_type": "stream",
     "text": [
      "/home/wgilliam/anaconda3/envs/tritonlytics-ai/lib/python3.8/site-packages/fastai/learner.py:56: UserWarning: Saved filed doesn't contain an optimizer state.\n",
      "  elif with_opt: warn(\"Saved filed doesn't contain an optimizer state.\")\n"
     ]
    },
    {
     "data": {
      "text/html": [],
      "text/plain": [
       "<IPython.core.display.HTML object>"
      ]
     },
     "metadata": {},
     "output_type": "display_data"
    },
    {
     "data": {
      "text/plain": [
       "(torch.Size([1342, 1]),\n",
       " torch.Size([1342, 2]),\n",
       " torch.Size([1342]),\n",
       " torch.Size([1342]))"
      ]
     },
     "execution_count": 69,
     "metadata": {},
     "output_type": "execute_result"
    }
   ],
   "source": [
    "# predictions for a single model using the learner's model and data loaders\n",
    "set_seed(TL_RAND_SEED)\n",
    "learn, fit_cbs = get_learner(hf_model, \n",
    "                             dls, \n",
    "                             train_df=train_df, \n",
    "                             use_weighted_loss=False, \n",
    "                             use_fp16=True,\n",
    "                             train_config_updates={})\n",
    "\n",
    "learn = learn.load(f\"exp_{train_config['save_model_filename']}\")\n",
    "learn.model.cuda(1)\n",
    "probs, targs  = learn.get_preds()\n",
    "\n",
    "probs[0].shape, probs[1].shape, targs[0].shape, targs[1].shape"
   ]
  },
  {
   "cell_type": "markdown",
   "id": "existing-french",
   "metadata": {
    "heading_collapsed": true
   },
   "source": [
    "### Lets look at validation metrics"
   ]
  },
  {
   "cell_type": "code",
   "execution_count": 70,
   "id": "characteristic-analyst",
   "metadata": {
    "hidden": true
   },
   "outputs": [],
   "source": [
    "is_example_prob_true = torch.softmax(probs[1], dim=-1)[:,1]\n",
    "# is_example_prob_true"
   ]
  },
  {
   "cell_type": "code",
   "execution_count": 71,
   "id": "empirical-pharmacology",
   "metadata": {
    "hidden": true
   },
   "outputs": [],
   "source": [
    "# determine optimal threshold based on desired f-score\n",
    "average, sample_weight = train_config['opt_beta_average'], train_config['opt_beta_sample_weight']\n",
    "    \n",
    "f05 = OptimalMultiThresholdMetrics(beta=0.5, start=0.05, end=.5, sigmoid=False, \n",
    "                                   average=average, sample_weight=sample_weight)\n",
    "f1 = OptimalMultiThresholdMetrics(beta=1, start=0.05, end=.5, sigmoid=False, \n",
    "                                   average=average, sample_weight=sample_weight)\n",
    "f2 = OptimalMultiThresholdMetrics(beta=2, start=0.05, end=.5, sigmoid=False, \n",
    "                                   average=average, sample_weight=sample_weight)"
   ]
  },
  {
   "cell_type": "code",
   "execution_count": 72,
   "id": "found-airplane",
   "metadata": {
    "hidden": true
   },
   "outputs": [
    {
     "data": {
      "text/plain": [
       "(0.27, 0.27, 0.27)"
      ]
     },
     "execution_count": 72,
     "metadata": {},
     "output_type": "execute_result"
    }
   ],
   "source": [
    "threshold_f05 = f05.opt_th(is_example_prob_true, targs[1])\n",
    "threshold_f1 = f1.opt_th(is_example_prob_true, targs[1])\n",
    "threshold_f2 = f2.opt_th(is_example_prob_true, targs[1])\n",
    "\n",
    "threshold_f05, threshold_f1, threshold_f2"
   ]
  },
  {
   "cell_type": "code",
   "execution_count": 73,
   "id": "australian-values",
   "metadata": {
    "hidden": true
   },
   "outputs": [
    {
     "data": {
      "text/plain": [
       "(0.010590415673815197, 0.016824395373291272, 0.04089979550102249)"
      ]
     },
     "execution_count": 73,
     "metadata": {},
     "output_type": "execute_result"
    }
   ],
   "source": [
    "f05_score = f05.opt_fscore(is_example_prob_true, targs[1])\n",
    "f1_score = f1.opt_fscore(is_example_prob_true, targs[1])\n",
    "f2_score = f2.opt_fscore(is_example_prob_true, targs[1])\n",
    "\n",
    "f05_score, f1_score, f2_score"
   ]
  },
  {
   "cell_type": "code",
   "execution_count": 74,
   "id": "monthly-portuguese",
   "metadata": {
    "hidden": true
   },
   "outputs": [
    {
     "data": {
      "text/plain": [
       "0.010590415673815197"
      ]
     },
     "execution_count": 74,
     "metadata": {},
     "output_type": "execute_result"
    }
   ],
   "source": [
    "# make sure we are getting the same f1 score as sklearn\n",
    "res = skm.fbeta_score(targs[1], (is_example_prob_true > threshold_f05), beta=.5, \n",
    "                      average='binary', sample_weight=None, zero_division=False)\n",
    "res"
   ]
  },
  {
   "cell_type": "code",
   "execution_count": 75,
   "id": "adaptive-integrity",
   "metadata": {
    "hidden": true
   },
   "outputs": [
    {
     "data": {
      "text/plain": [
       "(0.9932935833930969, 0.9932935833930969, 0.9932935833930969)"
      ]
     },
     "execution_count": 75,
     "metadata": {},
     "output_type": "execute_result"
    }
   ],
   "source": [
    "# determine accuracy based on optimal threshold\n",
    "val_acc_f05 = accuracy_multi(torch.argmax(probs[1], dim=-1), targs[1], threshold_f05, sigmoid=False).item()\n",
    "val_acc_f1 = accuracy_multi(torch.argmax(probs[1], dim=-1), targs[1], threshold_f1, sigmoid=False).item()\n",
    "val_acc_f2 = accuracy_multi(torch.argmax(probs[1], dim=-1), targs[1], threshold_f2, sigmoid=False).item()\n",
    "\n",
    "val_acc_f05, val_acc_f1, val_acc_f2"
   ]
  },
  {
   "cell_type": "code",
   "execution_count": 76,
   "id": "iraqi-church",
   "metadata": {
    "hidden": true
   },
   "outputs": [
    {
     "data": {
      "text/plain": [
       "0.30327868461608887"
      ]
     },
     "execution_count": 76,
     "metadata": {},
     "output_type": "execute_result"
    }
   ],
   "source": [
    "# make sure we are getting the same f1 accuracy\n",
    "preds = ((is_example_prob_true > threshold_f05).byte() == targs[1].byte()).float().mean()\n",
    "preds.item()"
   ]
  },
  {
   "cell_type": "markdown",
   "id": "essential-tract",
   "metadata": {
    "heading_collapsed": true
   },
   "source": [
    "### Overall metrics - is_example_prob_true"
   ]
  },
  {
   "cell_type": "code",
   "execution_count": 77,
   "id": "latin-somerset",
   "metadata": {
    "hidden": true
   },
   "outputs": [],
   "source": [
    "eval_targs = targs[1].flatten() # targs[:,0]\n",
    "eval_probs = is_example_prob_true.flatten()"
   ]
  },
  {
   "cell_type": "markdown",
   "id": "removable-creator",
   "metadata": {
    "hidden": true
   },
   "source": [
    "#### Classification Accuracy\n",
    "\n",
    "The percentage of correct predictions.  Answers the question, **\"Overall, how often is the classifier correct?\"**"
   ]
  },
  {
   "cell_type": "code",
   "execution_count": 81,
   "id": "palestinian-consultancy",
   "metadata": {
    "hidden": true
   },
   "outputs": [
    {
     "name": "stdout",
     "output_type": "stream",
     "text": [
      "0.30327868852459017\n"
     ]
    }
   ],
   "source": [
    "# In multilabel classification, this function computes subset accuracy: \n",
    "# the set of labels predicted for a sample must exactly match ALL the corresponding set of labels in y_true.\n",
    "print(skm.accuracy_score(eval_targs, (eval_probs > threshold_f05).float(), sample_weight=sample_weight))"
   ]
  },
  {
   "cell_type": "markdown",
   "id": "dressed-colleague",
   "metadata": {
    "hidden": true
   },
   "source": [
    "#### Null Accuracy\n",
    " \n",
    "The accuracy achieved by always predicting the most frequent class.  Answers the question, **\"What would the accuracy be by always predicting the most frequent case?\"**"
   ]
  },
  {
   "cell_type": "code",
   "execution_count": 82,
   "id": "interested-valley",
   "metadata": {
    "hidden": true
   },
   "outputs": [
    {
     "name": "stdout",
     "output_type": "stream",
     "text": [
      "0 1333\n"
     ]
    }
   ],
   "source": [
    "u_classes, u_counts = np.unique(eval_targs, return_counts=True)\n",
    "most_freq_class, most_freq_class_count = u_classes[np.argmax(u_counts)], np.max(u_counts)\n",
    "print(most_freq_class, most_freq_class_count)"
   ]
  },
  {
   "cell_type": "code",
   "execution_count": 83,
   "id": "religious-motivation",
   "metadata": {
    "hidden": true
   },
   "outputs": [
    {
     "data": {
      "text/plain": [
       "0.9932935916542474"
      ]
     },
     "execution_count": 83,
     "metadata": {},
     "output_type": "execute_result"
    }
   ],
   "source": [
    "most_freq_class_count / len(eval_targs)"
   ]
  },
  {
   "cell_type": "markdown",
   "id": "municipal-document",
   "metadata": {
    "hidden": true
   },
   "source": [
    "#### Cohen's kappa\n",
    "\n",
    "This measure is intended to compare labelings by different human annotators (not a classifier vs. ground truth)\n",
    "\n",
    "Kappa socres are between -1 and 1 ( >= .8 is generally considered good agreement; <= 0 means no agreement ... e.g., practically random labels)"
   ]
  },
  {
   "cell_type": "code",
   "execution_count": 84,
   "id": "photographic-transcript",
   "metadata": {
    "hidden": true
   },
   "outputs": [
    {
     "name": "stdout",
     "output_type": "stream",
     "text": [
      "0.0035861591409735993\n"
     ]
    }
   ],
   "source": [
    "print(skm.cohen_kappa_score(eval_targs, (eval_probs > threshold_f05).float(), \n",
    "                            weights=None, sample_weight=sample_weight))"
   ]
  },
  {
   "cell_type": "markdown",
   "id": "forced-quick",
   "metadata": {
    "hidden": true
   },
   "source": [
    "#### Confusion Matrix\n",
    "\n",
    "Describes the performance of a classification model"
   ]
  },
  {
   "cell_type": "code",
   "execution_count": 85,
   "id": "false-documentation",
   "metadata": {
    "hidden": true
   },
   "outputs": [],
   "source": [
    "def plot_confusion_matrix(cm, classes, normalize=False, \n",
    "                          title='Confusion matrix', cmap=plt.cm.Blues, print_info=False):\n",
    "    \"\"\"\n",
    "    This function prints and plots the confusion matrix.\n",
    "    Normalization can be applied by setting `normalize=True`.\n",
    "    \"\"\"\n",
    "    if normalize:\n",
    "        cm = cm.astype('float') / cm.sum(axis=1)[:, np.newaxis]\n",
    "        if (print_info): print(\"Normalized confusion matrix\")\n",
    "    else:\n",
    "        if (print_info): print('Confusion matrix, without normalization')\n",
    "\n",
    "    if (print_info): print(cm)\n",
    "\n",
    "    plt.imshow(cm, interpolation='nearest', cmap=cmap)\n",
    "    plt.title(title)\n",
    "    plt.colorbar(fraction=0.046, pad=0.04)\n",
    "    tick_marks = np.arange(len(classes))\n",
    "    plt.xticks(tick_marks, classes, rotation=45)\n",
    "    plt.yticks(tick_marks, classes)\n",
    "\n",
    "    fmt = '.2f' if normalize else 'd'\n",
    "    thresh = cm.max() / 2.\n",
    "    for i, j in itertools.product(range(cm.shape[0]), range(cm.shape[1])):\n",
    "        plt.text(j, i, format(cm[i, j], fmt),\n",
    "                 horizontalalignment=\"center\",\n",
    "                 color=\"white\" if cm[i, j] > thresh else \"black\")\n",
    "\n",
    "    plt.tight_layout()\n",
    "    plt.ylabel('True label')\n",
    "    plt.xlabel('Predicted label')\n",
    "    plt.grid(None)"
   ]
  },
  {
   "cell_type": "code",
   "execution_count": 86,
   "id": "expected-aurora",
   "metadata": {
    "hidden": true
   },
   "outputs": [],
   "source": [
    "cm = skm.confusion_matrix(eval_targs, (eval_probs > threshold_f05).float(), sample_weight=sample_weight)"
   ]
  },
  {
   "cell_type": "code",
   "execution_count": 87,
   "id": "working-gabriel",
   "metadata": {
    "hidden": true
   },
   "outputs": [
    {
     "data": {
      "image/png": "[encoded data removed]",
      "text/plain": [
       "<Figure size 864x576 with 4 Axes>"
      ]
     },
     "metadata": {},
     "output_type": "display_data"
    }
   ],
   "source": [
    "# Plot non-normalized confusion matrix\n",
    "fig = plt.figure(figsize=(12,8))\n",
    "plt.subplot(1, 2, 1)\n",
    "plot_confusion_matrix(cm, classes=u_classes,\n",
    "                      title='Confusion matrix, without normalization')\n",
    "\n",
    "# Plot normalized confusion matrix\n",
    "plt.subplot(1, 2, 2)\n",
    "plot_confusion_matrix(cm, classes=u_classes, normalize=True,\n",
    "                      title='Normalized confusion matrix')\n",
    "\n",
    "fig.subplots_adjust(wspace=0.5)\n",
    "plt.show()"
   ]
  },
  {
   "cell_type": "code",
   "execution_count": 88,
   "id": "operational-tourist",
   "metadata": {
    "hidden": true
   },
   "outputs": [
    {
     "name": "stdout",
     "output_type": "stream",
     "text": [
      "              precision    recall  f1-score   support\n",
      "\n",
      "           0       1.00      0.30      0.46      1333\n",
      "           1       0.01      0.89      0.02         9\n",
      "\n",
      "    accuracy                           0.30      1342\n",
      "   macro avg       0.50      0.59      0.24      1342\n",
      "weighted avg       0.99      0.30      0.46      1342\n",
      "\n"
     ]
    }
   ],
   "source": [
    "print(skm.classification_report(eval_targs, (eval_probs > threshold_f05).float(), \n",
    "                                labels=[0,1], \n",
    "                                sample_weight=sample_weight, \n",
    "                                zero_division=1))"
   ]
  },
  {
   "cell_type": "markdown",
   "id": "recorded-marketplace",
   "metadata": {
    "hidden": true
   },
   "source": [
    "#### ROC curves and Area Under the Curve (AUC)\n",
    "\n",
    "***ROC Curve*** answers the question, *\"How would sensitivity and specificity be affected by various thresholds without changing the threshold?\"*  It is a way **to visualize the performance of a binary classifier.**\n",
    "\n",
    "The ROC curve can help you **choose a threshold** that balances sensitivity and specificity based on your particular business case.\n",
    "\n",
    "ROC curves visualize all possible classification thresholds whereas misclassification rate only represents your error rate for a single threshold.\n",
    "\n",
    "A classifier that does a good job at separating the classes will have a ROC curve that hugs the upper left corner of the plot.  Converseley, a classifier the does a poor job separating the classes will have a ROC curve that is close to the diagonal line (0,0 -> 1,1).  That diagonal line represents a classifier that does no better than random guessing."
   ]
  },
  {
   "cell_type": "code",
   "execution_count": 89,
   "id": "phantom-specialist",
   "metadata": {
    "hidden": true
   },
   "outputs": [],
   "source": [
    "fpr, tpr, thresholds = skm.roc_curve(eval_targs, eval_probs, sample_weight=sample_weight)"
   ]
  },
  {
   "cell_type": "code",
   "execution_count": 90,
   "id": "addressed-casting",
   "metadata": {
    "hidden": true
   },
   "outputs": [
    {
     "data": {
      "image/png": "[encoded data removed]",
      "text/plain": [
       "<Figure size 648x432 with 1 Axes>"
      ]
     },
     "metadata": {},
     "output_type": "display_data"
    }
   ],
   "source": [
    "plt.plot(fpr, tpr)\n",
    "plt.xlim = ([0.0, 1.0])\n",
    "plt.ylim = ([0.0, 1.0])\n",
    "plt.title('ROC curve for all labels')\n",
    "plt.xlabel('False Positive Rate (1 - Specificity)')\n",
    "plt.ylabel('True Positive Rate (Sensitivity/Recall)')\n",
    "plt.grid(True)"
   ]
  },
  {
   "cell_type": "markdown",
   "id": "western-values",
   "metadata": {
    "hidden": true
   },
   "source": [
    "***AUC*** = the percentage of the ROC plot that is underneath the curve.  \n",
    "\n",
    "AUC summarizes the performance of a classifier in a **single number**.  It says, *\"If you randomly chose one positive and one negative observation, what is the likelihood that your classifier will assign a higher predicted probability to the positive observation.\"*\n",
    "\n",
    "**An AUC of ~ 0.8 is very good while an AUC of ~ 0.5 represents a poor classifier.**\n",
    "\n",
    "The ROC curve and AUC are insensitive to whether your predicted probabilities are properly calibrated to actually represent probabilities of class membership (e.g., it works if predicted probs range from 0.9 to 1 instead of 0 to 1).  All the AUC metric cares about is how well your classifier separated the two classes\n",
    "\n",
    "Notes:\n",
    "1.  AUC is useful even when there is **high class imbalance** (unlike classification accuracy)\n",
    "2.  AUC is useful even when predicted probabilities are not properly calibrated (e.g., not between 0 and 1)"
   ]
  },
  {
   "cell_type": "code",
   "execution_count": 93,
   "id": "instrumental-crawford",
   "metadata": {
    "hidden": true
   },
   "outputs": [
    {
     "name": "stdout",
     "output_type": "stream",
     "text": [
      "0.6912144702842377\n"
     ]
    }
   ],
   "source": [
    "print(skm.roc_auc_score(eval_targs, eval_probs, average='weighted', sample_weight=None))"
   ]
  },
  {
   "cell_type": "markdown",
   "id": "prospective-support",
   "metadata": {
    "heading_collapsed": true
   },
   "source": [
    "### Overall metrics - sentiment"
   ]
  },
  {
   "cell_type": "code",
   "execution_count": 94,
   "id": "imposed-elimination",
   "metadata": {
    "hidden": true
   },
   "outputs": [
    {
     "data": {
      "text/plain": [
       "0.43617442"
      ]
     },
     "execution_count": 94,
     "metadata": {},
     "output_type": "execute_result"
    }
   ],
   "source": [
    "# mse\n",
    "skm.mean_squared_error(targs[0], probs[0])"
   ]
  },
  {
   "cell_type": "code",
   "execution_count": 95,
   "id": "frank-census",
   "metadata": {
    "hidden": true
   },
   "outputs": [
    {
     "data": {
      "text/plain": [
       "0.6604350251936353"
      ]
     },
     "execution_count": 95,
     "metadata": {},
     "output_type": "execute_result"
    }
   ],
   "source": [
    "# rmse\n",
    "math.sqrt(skm.mean_squared_error(targs[0], probs[0]))"
   ]
  },
  {
   "cell_type": "code",
   "execution_count": 96,
   "id": "expired-stevens",
   "metadata": {
    "hidden": true
   },
   "outputs": [
    {
     "data": {
      "text/plain": [
       "0.4809825"
      ]
     },
     "execution_count": 96,
     "metadata": {},
     "output_type": "execute_result"
    }
   ],
   "source": [
    "# mae\n",
    "skm.mean_absolute_error(targs[0], probs[0])"
   ]
  },
  {
   "cell_type": "markdown",
   "id": "competitive-shoot",
   "metadata": {},
   "source": [
    "## Final results\n"
   ]
  },
  {
   "cell_type": "code",
   "execution_count": 97,
   "id": "treated-tiger",
   "metadata": {},
   "outputs": [],
   "source": [
    "#hide\n",
    "try: del inf_learn\n",
    "except: pass\n",
    "finally: gc.collect(); torch.cuda.empty_cache()"
   ]
  },
  {
   "cell_type": "code",
   "execution_count": 103,
   "id": "northern-bailey",
   "metadata": {},
   "outputs": [],
   "source": [
    "inf_learn = load_learner(fname=f\"{train_config['learner_path']}/exp_{train_config['export_filename']}\")\n",
    "inf_learn.loss_func.loss_funcs[1].func = inf_learn.loss_func.loss_funcs[1].func.to(dls.device)\n",
    "dls = get_train_dls(df, hf_arch, hf_config, hf_tokenizer, hf_model, train_config_updates={})\n",
    "inf_learn.dls = dls"
   ]
  },
  {
   "cell_type": "code",
   "execution_count": 114,
   "id": "parallel-shareware",
   "metadata": {},
   "outputs": [
    {
     "data": {
      "text/html": [],
      "text/plain": [
       "<IPython.core.display.HTML object>"
      ]
     },
     "metadata": {},
     "output_type": "display_data"
    },
    {
     "data": {
      "text/plain": [
       "(torch.Size([1342, 1]),\n",
       " torch.Size([1342, 2]),\n",
       " torch.Size([1342]),\n",
       " torch.Size([1342]),\n",
       " torch.Size([1342]))"
      ]
     },
     "execution_count": 114,
     "metadata": {},
     "output_type": "execute_result"
    }
   ],
   "source": [
    "probs, targs, loss = inf_learn.get_preds(with_loss=True, reorder=True)\n",
    "probs[0].shape, probs[1].shape, targs[0].shape, targs[1].shape, loss.shape"
   ]
  },
  {
   "cell_type": "code",
   "execution_count": 115,
   "id": "invalid-dependence",
   "metadata": {},
   "outputs": [],
   "source": [
    "# determine optimal threshold based on desired f-score\n",
    "f05 = OptimalMultiThresholdMetrics(beta=0.5, start=0.05, end=.5, sigmoid=False, \n",
    "                                   average=average, sample_weight=sample_weight)\n",
    "f1 = OptimalMultiThresholdMetrics(beta=1, start=0.05, end=.5, sigmoid=False, \n",
    "                                   average=average, sample_weight=sample_weight)\n",
    "f2 = OptimalMultiThresholdMetrics(beta=2, start=0.05, end=.5, sigmoid=False, \n",
    "                                   average=average, sample_weight=sample_weight)"
   ]
  },
  {
   "cell_type": "code",
   "execution_count": 116,
   "id": "incident-fabric",
   "metadata": {},
   "outputs": [],
   "source": [
    "is_example_prob_true = torch.softmax(probs[1], dim=-1)[:,1]"
   ]
  },
  {
   "cell_type": "code",
   "execution_count": 117,
   "id": "herbal-equality",
   "metadata": {},
   "outputs": [
    {
     "name": "stdout",
     "output_type": "stream",
     "text": [
      "0.27 0.27 0.27\n",
      "Fowards Only\n",
      "-------------\n",
      "f05:\tOptimal threshold = 0.27\t(Accuracy = 0.2973174452781677)\n",
      "f1:\tOptimal threshold = 0.27\t(Accuracy = 0.2973174452781677)\n",
      "f2:\tOptimal threshold = 0.27\t(Accuracy = 0.2973174452781677)\n",
      "\n",
      "Accuracy: 0.9932935833930969\n"
     ]
    }
   ],
   "source": [
    "# determine optimal threshold based on desired f-score\n",
    "threshold_f05 = f05.opt_th(is_example_prob_true, targs[1])\n",
    "threshold_f1 = f1.opt_th(is_example_prob_true, targs[1])\n",
    "threshold_f2 = f2.opt_th(is_example_prob_true, targs[1])\n",
    "\n",
    "print(threshold_f05, threshold_f1, threshold_f2)\n",
    "\n",
    "# determine accuracy based on optimal threshold\n",
    "val_acc_f05 = accuracy_multi(is_example_prob_true, targs[1], threshold_f05, sigmoid=False).item()\n",
    "val_acc_f1 = accuracy_multi(is_example_prob_true, targs[1], threshold_f1, sigmoid=False).item()\n",
    "val_acc_f2 = accuracy_multi(is_example_prob_true, targs[1], threshold_f2, sigmoid=False).item()\n",
    "\n",
    "print('Fowards Only\\n-------------')\n",
    "print(f'f05:\\tOptimal threshold = {threshold_f05}\\t(Accuracy = {val_acc_f05})')\n",
    "print(f'f1:\\tOptimal threshold = {threshold_f1}\\t(Accuracy = {val_acc_f1})')\n",
    "print(f'f2:\\tOptimal threshold = {threshold_f2}\\t(Accuracy = {val_acc_f2})')\n",
    "\n",
    "print(f'\\nAccuracy: {accuracy_multi(is_example_prob_true, targs[1], sigmoid=False)}')"
   ]
  },
  {
   "cell_type": "code",
   "execution_count": 118,
   "id": "changed-accordance",
   "metadata": {},
   "outputs": [
    {
     "data": {
      "text/plain": [
       "(0.48010173, 0.43516338, 0.6596691433707621)"
      ]
     },
     "execution_count": 118,
     "metadata": {},
     "output_type": "execute_result"
    }
   ],
   "source": [
    "mae = skm.mean_absolute_error(targs[0], probs[0])\n",
    "mse = skm.mean_squared_error(targs[0], probs[0])\n",
    "rmse = math.sqrt(skm.mean_squared_error(targs[0], probs[0]))\n",
    "\n",
    "mae, mse, rmse"
   ]
  },
  {
   "cell_type": "code",
   "execution_count": 119,
   "id": "living-kuwait",
   "metadata": {},
   "outputs": [
    {
     "data": {
      "text/plain": [
       "0.43901023268699646"
      ]
     },
     "execution_count": 119,
     "metadata": {},
     "output_type": "execute_result"
    }
   ],
   "source": [
    "final_valid_loss = loss.mean().item(); final_valid_loss"
   ]
  },
  {
   "cell_type": "markdown",
   "id": "german-wallpaper",
   "metadata": {},
   "source": [
    "## Build our training loop for hyperparam optimization and final training"
   ]
  },
  {
   "cell_type": "code",
   "execution_count": 120,
   "id": "authorized-gabriel",
   "metadata": {},
   "outputs": [],
   "source": [
    "#hide\n",
    "try: del learn; del dls\n",
    "except: pass\n",
    "finally: gc.collect(); torch.cuda.empty_cache()"
   ]
  },
  {
   "cell_type": "code",
   "execution_count": 36,
   "id": "according-saskatchewan",
   "metadata": {},
   "outputs": [],
   "source": [
    "#export\n",
    "def train(params, trial=None, yyyymmdd = datetime.today().strftime(\"%Y%m%d\"), train_config_updates={}):\n",
    "    \n",
    "    config = {**train_config, **train_config_updates}    \n",
    "    m_pre, m_suf, base_model_name = config['m_pre'], config['m_suf'], config['base_model_name']\n",
    "    full_model_name = f'{m_pre}{base_model_name}{m_suf}'\n",
    "\n",
    "    # 1. grab our huggingface objects\n",
    "    task = HF_TASKS_AUTO.SequenceClassification\n",
    "    hf_config = AutoConfig.from_pretrained(params[\"pretrained_model_name\"])\n",
    "    \n",
    "    if (f'{params[\"pretrained_model_name\"]}_config_overrides' in params):\n",
    "        hf_config.update(params[f'{params[\"pretrained_model_name\"]}_config_overrides'])\n",
    "    else:\n",
    "        config_overrides = { k:v for k,v in params.items() if (k in hf_config.to_dict()) }\n",
    "        hf_config.update(config_overrides)\n",
    "\n",
    "    hf_arch, hf_config, hf_tokenizer, hf_model = BLURR_MODEL_HELPER.get_hf_objects(params[\"pretrained_model_name\"], \n",
    "                                                                                   task=task, \n",
    "                                                                                   config=hf_config)\n",
    "\n",
    "    # 2. build our dls and learner\n",
    "    df = get_train_data(train_config_updates=config)\n",
    "    train_df, valid_df = df[df.is_valid == False], df[df.is_valid == True]\n",
    "    \n",
    "    set_seed(TL_RAND_SEED)\n",
    "    dls = get_train_dls(df, hf_arch, hf_config, hf_tokenizer, hf_model, train_config_updates=config, use_cache=False)\n",
    "    \n",
    "    set_seed(TL_RAND_SEED)\n",
    "    learn, fit_cbs = get_learner(hf_model, \n",
    "                                 dls, \n",
    "                                 train_df=None, \n",
    "                                 use_weighted_loss=params[\"use_weighted_loss\"], \n",
    "                                 use_fp16=params[\"use_fp16\"],\n",
    "                                 add_save_model_cb=params['save_model'],\n",
    "                                 train_config_updates=config)\n",
    "    \n",
    "    if (trial is not None): learn.add_cb(FastAIPruningCallbackv2(trial=trial, monitor=params['optimize_for']))\n",
    "    \n",
    "    # 3. train\n",
    "    with learn.no_logging(): \n",
    "        set_seed(TL_RAND_SEED)\n",
    "        learn.fit_one_cycle(params[\"n_frozen_epochs\"], lr_max=params[\"frozen_lr\"], cbs=fit_cbs)\n",
    "        \n",
    "        learn.unfreeze()\n",
    "        set_seed(TL_RAND_SEED)\n",
    "        learn.fit_one_cycle(params[\"n_unfrozen_epochs\"], \n",
    "                            lr_max=slice(params[\"unfrozen_lr_min\"], params[\"unfrozen_lr_max\"]), \n",
    "                            cbs=fit_cbs)\n",
    "        \n",
    "        # export model for inference (SavedModelCallback already saves the best model if save_mode=True)\n",
    "        if (trial is None): learn.export(fname=f\"{yyyymmdd}_{config['export_filename']}\")\n",
    "        \n",
    "    # 4. evaluate\n",
    "    scores = dict(zip(learn.recorder.metric_names[2:], learn.validate()))\n",
    "    \n",
    "    try:\n",
    "        if (trial is not None): return scores[params['optimize_for']]\n",
    "        \n",
    "        probs, targs, losses = learn.get_preds(dl=dls.valid, with_loss=True)\n",
    "\n",
    "        # determine optimal threshold based on desired f-score\n",
    "        average, sample_weight = config['opt_beta_average'], config['opt_beta_sample_weight']\n",
    "\n",
    "        f05 = OptimalMultiThresholdMetrics(beta=0.5, start=0.05, end=.5, sigmoid=False, \n",
    "                                           average=average, sample_weight=sample_weight)\n",
    "        f1 = OptimalMultiThresholdMetrics(beta=1, start=0.05, end=.5, sigmoid=False, \n",
    "                                           average=average, sample_weight=sample_weight)\n",
    "        f2 = OptimalMultiThresholdMetrics(beta=2, start=0.05, end=.5, sigmoid=False, \n",
    "                                           average=average, sample_weight=sample_weight)\n",
    "\n",
    "        is_example_prob_true = torch.softmax(probs[1], dim=-1)[:,1]\n",
    "        scores['is_example_f05'], scores['is_example_f1'], scores['is_example_f2'] = {}, {}, {}\n",
    "\n",
    "        scores['is_example_f05']['threshold'] = f05.opt_th(is_example_prob_true, targs[1])\n",
    "        scores['is_example_f1']['threshold'] = f1.opt_th(is_example_prob_true, targs[1])\n",
    "        scores['is_example_f2']['threshold'] = f2.opt_th(is_example_prob_true, targs[1])\n",
    "\n",
    "        scores['is_example_f05']['score'] = f05.opt_fscore(is_example_prob_true, targs[1])\n",
    "        scores['is_example_f1']['score'] = f1.opt_fscore(is_example_prob_true, targs[1])\n",
    "        scores['is_example_f2']['score'] = f2.opt_fscore(is_example_prob_true, targs[1])\n",
    "\n",
    "        scores['sentiment'] = {\n",
    "            'mae': skm.mean_absolute_error(targs[0], probs[0]).item(),\n",
    "            'mse': skm.mean_squared_error(targs[0], probs[0]).item(),\n",
    "            'rmse': math.sqrt(skm.mean_squared_error(targs[0], probs[0]).item())\n",
    "        }\n",
    "\n",
    "        # save scores from validation set if mode == training\n",
    "        with open(f\"{config['learner_path']}/{yyyymmdd}_{full_model_name}_train_scores.json\", 'w') as f:\n",
    "            json.dump(scores, f, indent=4)\n",
    "\n",
    "        # save train/validation probs, targs, losses for review\n",
    "        test_dl = dls.test_dl(df, with_labels=True)\n",
    "        probs, targs, losses = learn.get_preds(dl=test_dl, with_loss=True)\n",
    "        is_example_prob_true = torch.softmax(probs[1], dim=-1)[:,1]\n",
    "\n",
    "        probs_df = pd.DataFrame(np.concatenate((probs[0].numpy(), is_example_prob_true[:,None]), axis=-1), \n",
    "                                columns=['pred_sentiment', 'prob_is_example'])\n",
    "        targs_df = pd.DataFrame(np.concatenate((targs[0].numpy()[:,None], targs[1].numpy()[:,None]), axis=-1), \n",
    "                                columns= ['targ_sentiment', 'targ_is_example'])\n",
    "        losses_df = pd.DataFrame(losses.numpy(), columns=['loss'])\n",
    "        \n",
    "        final_df = pd.concat([df.reset_index(), probs_df, targs_df, losses_df], axis=1)\n",
    "\n",
    "        final_df.to_csv(f\"{config['learner_path']}/{yyyymmdd}_{full_model_name}_train_results.csv\", index=False)\n",
    "        return scores, final_df\n",
    "    \n",
    "    finally:\n",
    "        # cleanup\n",
    "        del learn; del dls \n",
    "        del hf_arch; del hf_config; del hf_tokenizer; del hf_model"
   ]
  },
  {
   "cell_type": "markdown",
   "id": "settled-stereo",
   "metadata": {},
   "source": [
    "### Hyperparameter optimization"
   ]
  },
  {
   "cell_type": "code",
   "execution_count": 18,
   "id": "spread-memphis",
   "metadata": {},
   "outputs": [],
   "source": [
    "#export\n",
    "def after_trial_cleanup(study, trial):\n",
    "    gc.collect()\n",
    "    torch.cuda.empty_cache()"
   ]
  },
  {
   "cell_type": "code",
   "execution_count": 30,
   "id": "simple-conservative",
   "metadata": {},
   "outputs": [],
   "source": [
    "#export\n",
    "def objective(trial, yyyymmdd = datetime.today().strftime(\"%Y%m%d\"), train_config_updates={}):\n",
    "    opt_params = {\n",
    "        'pretrained_model_name': trial.suggest_categorical(\"pretrained_model_name\", [\"facebook/bart-base\"]),\n",
    "        \n",
    "        'save_model': trial.suggest_categorical(\"save_model\", [True, False]), \n",
    "        'use_weighted_loss': trial.suggest_categorical(\"use_weighted_loss\", [True, False]),\n",
    "        'use_fp16': trial.suggest_categorical(\"use_fp16\", [True]),\n",
    "        'n_frozen_epochs': trial.suggest_int(\"n_frozen_epochs\", 1, 3),\n",
    "        'n_unfrozen_epochs': trial.suggest_int(\"n_unfrozen_epochs\", 0, 10),\n",
    "        'frozen_lr': trial.suggest_loguniform(\"frozen_lr\", 1e-4, 1e-3),\n",
    "        'unfrozen_lr_max': trial.suggest_loguniform(\"unfrozen_lr_max\", 1e-7, 1e-6),\n",
    "        'unfrozen_lr_min': trial.suggest_loguniform(\"unfrozen_lr_min\", 1e-9, 1e-7),\n",
    "        'optimize_for': 'valid_loss',\n",
    "        \n",
    "        'facebook/bart-base_config_overrides': {\n",
    "            'activation_dropout': trial.suggest_discrete_uniform('activation_dropout', 0.0, 0.3, 0.05),\n",
    "            'attention_dropout': trial.suggest_discrete_uniform('attention_dropout', 0.0, 0.3, 0.05),\n",
    "            'classif_dropout': trial.suggest_discrete_uniform('classif_dropout', 0.0, 0.3, 0.05),\n",
    "            'dropout': trial.suggest_discrete_uniform('dropout', 0.0, 0.3, 0.05)\n",
    "        },\n",
    "        'roberta-base_config_overrides': {\n",
    "            'attention_probs_dropout_prob': trial.suggest_discrete_uniform('attention_probs_dropout_prob', 0.0, 0.3, 0.05),\n",
    "            'hidden_dropout_prob': trial.suggest_discrete_uniform('hidden_dropout_prob', 0.0, 0.3, 0.05)\n",
    "        }\n",
    "    }\n",
    "    \n",
    "    score = train(opt_params, trial=trial, yyyymmdd=yyyymmdd, train_config_updates=train_config_updates)\n",
    "    return score"
   ]
  },
  {
   "cell_type": "code",
   "execution_count": null,
   "id": "regular-centre",
   "metadata": {},
   "outputs": [],
   "source": []
  },
  {
   "cell_type": "code",
   "execution_count": 31,
   "id": "renewable-hartford",
   "metadata": {},
   "outputs": [],
   "source": [
    "yyyymmdd = datetime.today().strftime(\"%Y%m%d\")"
   ]
  },
  {
   "cell_type": "code",
   "execution_count": null,
   "id": "orange-malawi",
   "metadata": {},
   "outputs": [],
   "source": [
    "start = datetime.now()\n",
    "\n",
    "pruner = optuna.pruners.MedianPruner() if True else optuna.pruners.NopPruner()\n",
    "study = optuna.create_study(direction=\"minimize\", pruner=pruner)\n",
    "\n",
    "train_config_updates = {}\n",
    "study.optimize(partial(objective, yyyymmdd=yyyymmdd, train_config_updates=train_config_updates), \n",
    "               n_trials=30, \n",
    "               callbacks=[after_trial_cleanup])#, timeout=600)\n",
    "\n",
    "end = datetime.now()"
   ]
  },
  {
   "cell_type": "code",
   "execution_count": null,
   "id": "waiting-closer",
   "metadata": {},
   "outputs": [],
   "source": [
    "m_pre, m_suf = train_config['m_pre'], train_config['m_suf']\n",
    "full_model_name = f\"{m_pre}{train_config['base_model_name']}{m_suf}\"\n",
    "   \n",
    "pruned_trials = [ t for t in study.trials if t.state == optuna.structs.TrialState.PRUNED ]\n",
    "complete_trials = [ t for t in study.trials if t.state == optuna.structs.TrialState.COMPLETE ]\n",
    "\n",
    "print('Study statistics: ')\n",
    "print('  Number of finished trials: ', len(study.trials))\n",
    "print('  Number of pruned trials: ', len(pruned_trials))\n",
    "print('  Number of complete trials: ', len(complete_trials))\n",
    "\n",
    "print('Best trial:')\n",
    "trial = study.best_trial\n",
    "print('  Value: ', trial.value)\n",
    "print('  Params: ')\n",
    "for key, value in trial.params.items(): print('    {}: {}'.format(key, value))\n",
    "print('  User attrs:')\n",
    "for key, value in trial.user_attrs.items(): print('    {}: {}'.format(key, value))\n",
    "    \n",
    "best_params = study.best_params\n",
    "best_params['fbeta_score'] = study.best_value\n",
    "\n",
    "with open(f\"{train_config['learner_path']}/{yyyymmdd}_{full_model_name}_best_trial_params.json\", 'w') as f:\n",
    "    json.dump(best_params, f, indent=4)\n",
    "\n",
    "trials_df = study.trials_dataframe()\n",
    "trials_df.to_csv(f\"{train_config['learner_path']}/{yyyymmdd}_{full_model_name}_trial_results.csv\", index=False)\n",
    "\n",
    "print(f'total time is {(end - start).total_seconds()} seconds')"
   ]
  },
  {
   "cell_type": "markdown",
   "id": "distinguished-installation",
   "metadata": {},
   "source": [
    "### Training with best params"
   ]
  },
  {
   "cell_type": "code",
   "execution_count": 39,
   "id": "adverse-proxy",
   "metadata": {},
   "outputs": [],
   "source": [
    "m_pre, m_suf = train_config['m_pre'], train_config['m_suf']\n",
    "full_model_name = f\"{m_pre}{train_config['base_model_name']}{m_suf}\""
   ]
  },
  {
   "cell_type": "code",
   "execution_count": 40,
   "id": "fewer-discussion",
   "metadata": {},
   "outputs": [
    {
     "data": {
      "text/html": [],
      "text/plain": [
       "<IPython.core.display.HTML object>"
      ]
     },
     "metadata": {},
     "output_type": "display_data"
    },
    {
     "data": {
      "text/html": [],
      "text/plain": [
       "<IPython.core.display.HTML object>"
      ]
     },
     "metadata": {},
     "output_type": "display_data"
    },
    {
     "data": {
      "text/html": [],
      "text/plain": [
       "<IPython.core.display.HTML object>"
      ]
     },
     "metadata": {},
     "output_type": "display_data"
    },
    {
     "data": {
      "text/html": [],
      "text/plain": [
       "<IPython.core.display.HTML object>"
      ]
     },
     "metadata": {},
     "output_type": "display_data"
    },
    {
     "data": {
      "text/html": [],
      "text/plain": [
       "<IPython.core.display.HTML object>"
      ]
     },
     "metadata": {},
     "output_type": "display_data"
    }
   ],
   "source": [
    "with open(f\"{train_config['learner_path']}/{yyyymmdd}_{full_model_name}_best_trial_params.json\") as f: \n",
    "    best_params = json.load(f)\n",
    "    \n",
    "train_yyyymmdd = datetime.today().strftime(\"%Y%m%d\")\n",
    "scores, train_res_df = train(params=best_params, yyyymmdd=train_yyyymmdd, train_config_updates={})"
   ]
  },
  {
   "cell_type": "code",
   "execution_count": 41,
   "id": "sophisticated-content",
   "metadata": {},
   "outputs": [
    {
     "data": {
      "text/plain": [
       "{'valid_loss': 0.36898770928382874,\n",
       " 'sentiment_mse': 0.3652612566947937,\n",
       " 'is_example_acc': 0.9932935833930969,\n",
       " 'is_example_f05': {'threshold': 0.29000000000000004,\n",
       "  'score': 0.1724137931034483},\n",
       " 'is_example_f1': {'threshold': 0.28, 'score': 0.17142857142857146},\n",
       " 'is_example_f2': {'threshold': 0.28, 'score': 0.24193548387096775},\n",
       " 'sentiment': {'mae': 0.4495120048522949,\n",
       "  'mse': 0.3652612864971161,\n",
       "  'rmse': 0.6043685022377623}}"
      ]
     },
     "execution_count": 41,
     "metadata": {},
     "output_type": "execute_result"
    }
   ],
   "source": [
    "scores"
   ]
  },
  {
   "cell_type": "code",
   "execution_count": 42,
   "id": "formed-combat",
   "metadata": {},
   "outputs": [
    {
     "data": {
      "text/html": [
       "<div>\n",
       "<style scoped>\n",
       "    .dataframe tbody tr th:only-of-type {\n",
       "        vertical-align: middle;\n",
       "    }\n",
       "\n",
       "    .dataframe tbody tr th {\n",
       "        vertical-align: top;\n",
       "    }\n",
       "\n",
       "    .dataframe thead th {\n",
       "        text-align: right;\n",
       "    }\n",
       "</style>\n",
       "<table border=\"1\" class=\"dataframe\">\n",
       "  <thead>\n",
       "    <tr style=\"text-align: right;\">\n",
       "      <th></th>\n",
       "      <th>index</th>\n",
       "      <th>id</th>\n",
       "      <th>question_ans_id</th>\n",
       "      <th>answer_text</th>\n",
       "      <th>answer_text_non_english</th>\n",
       "      <th>language</th>\n",
       "      <th>survey_id</th>\n",
       "      <th>survey_type_id</th>\n",
       "      <th>benchmark_survey_type</th>\n",
       "      <th>client_id</th>\n",
       "      <th>rsp_id</th>\n",
       "      <th>question_category_abbr</th>\n",
       "      <th>question_text</th>\n",
       "      <th>question_class</th>\n",
       "      <th>question_category_id</th>\n",
       "      <th>question_report_abbr</th>\n",
       "      <th>question_category_label</th>\n",
       "      <th>benchmark_level1</th>\n",
       "      <th>benchmark_level2</th>\n",
       "      <th>benchmark_level3</th>\n",
       "      <th>client_benchmark_level</th>\n",
       "      <th>group_code</th>\n",
       "      <th>group_id</th>\n",
       "      <th>group_level1_code</th>\n",
       "      <th>group_level1_name</th>\n",
       "      <th>group_level2_code</th>\n",
       "      <th>group_level2_name</th>\n",
       "      <th>group_level3_code</th>\n",
       "      <th>group_level3_name</th>\n",
       "      <th>group_level4_code</th>\n",
       "      <th>group_level4_name</th>\n",
       "      <th>group_level5_code</th>\n",
       "      <th>group_level5_name</th>\n",
       "      <th>group_level6_code</th>\n",
       "      <th>group_level6_name</th>\n",
       "      <th>group_level7_code</th>\n",
       "      <th>group_level7_name</th>\n",
       "      <th>group_level8_code</th>\n",
       "      <th>group_level8_name</th>\n",
       "      <th>standard_theme_id</th>\n",
       "      <th>theme</th>\n",
       "      <th>url_friendly_theme</th>\n",
       "      <th>theme_display_order</th>\n",
       "      <th>avg_sentiment</th>\n",
       "      <th>is_example</th>\n",
       "      <th>is_valid</th>\n",
       "      <th>_theme_</th>\n",
       "      <th>_text_</th>\n",
       "      <th>pred_sentiment</th>\n",
       "      <th>prob_is_example</th>\n",
       "      <th>targ_sentiment</th>\n",
       "      <th>targ_is_example</th>\n",
       "      <th>loss</th>\n",
       "    </tr>\n",
       "  </thead>\n",
       "  <tbody>\n",
       "    <tr>\n",
       "      <th>0</th>\n",
       "      <td>0</td>\n",
       "      <td>660454</td>\n",
       "      <td>93069</td>\n",
       "      <td>\"Academics at UC ANR value my contributions.\"\\r\\n\"Staff members at UC ANR value my contributions...</td>\n",
       "      <td>NaN</td>\n",
       "      <td>English</td>\n",
       "      <td>396</td>\n",
       "      <td>47</td>\n",
       "      <td>SAW</td>\n",
       "      <td>UCANR</td>\n",
       "      <td>480552</td>\n",
       "      <td>None</td>\n",
       "      <td>Please provide any additional feedback regarding the work environment at UC ANR. Your comments w...</td>\n",
       "      <td>Verbatim-Comments</td>\n",
       "      <td>1141.0</td>\n",
       "      <td>Comments re Work Environment at UC ANR</td>\n",
       "      <td>Comments</td>\n",
       "      <td>None</td>\n",
       "      <td>None</td>\n",
       "      <td>None</td>\n",
       "      <td>3.0</td>\n",
       "      <td>250400.0</td>\n",
       "      <td>6984</td>\n",
       "      <td>999999.0</td>\n",
       "      <td>UC Agriculture &amp; Natural Resources</td>\n",
       "      <td>200000.0</td>\n",
       "      <td>AVP Programs and Initiatives</td>\n",
       "      <td>250000.0</td>\n",
       "      <td>Strategic Institutes and Statewide Programs</td>\n",
       "      <td>250400.0</td>\n",
       "      <td>Statewide IPM</td>\n",
       "      <td>NaN</td>\n",
       "      <td>NaN</td>\n",
       "      <td>NaN</td>\n",
       "      <td>NaN</td>\n",
       "      <td>NaN</td>\n",
       "      <td>NaN</td>\n",
       "      <td>NaN</td>\n",
       "      <td>NaN</td>\n",
       "      <td>10</td>\n",
       "      <td>Have Voice within my Institution/Valued Member of my Institution</td>\n",
       "      <td>HaveVoiceWithinMyInstitutionValuedMemberOfMyInstitution</td>\n",
       "      <td>1</td>\n",
       "      <td>2.0</td>\n",
       "      <td>0</td>\n",
       "      <td>False</td>\n",
       "      <td>Have Voice within my Institution/Valued Member of my Institution</td>\n",
       "      <td>\"Academics at UC ANR value my contributions.\"\\r\\n\"Staff members at UC ANR value my contributions...</td>\n",
       "      <td>2.003906</td>\n",
       "      <td>0.272173</td>\n",
       "      <td>2.0</td>\n",
       "      <td>0.0</td>\n",
       "      <td>0.000837</td>\n",
       "    </tr>\n",
       "    <tr>\n",
       "      <th>1</th>\n",
       "      <td>1</td>\n",
       "      <td>589692</td>\n",
       "      <td>2576</td>\n",
       "      <td>*The MSO of this department consistently takes unfair advantage of power dynamics to intimidate ...</td>\n",
       "      <td>NaN</td>\n",
       "      <td>English</td>\n",
       "      <td>212</td>\n",
       "      <td>9</td>\n",
       "      <td>SAW</td>\n",
       "      <td>UCSD</td>\n",
       "      <td>447156</td>\n",
       "      <td>C&amp;B</td>\n",
       "      <td>If you would like to elaborate on any of your answers to the conduct and behavioral questions ab...</td>\n",
       "      <td>Verbatim</td>\n",
       "      <td>1240.0</td>\n",
       "      <td>Conduct &amp; Behavioral - Comments</td>\n",
       "      <td>Conduct &amp; Behavioral</td>\n",
       "      <td>None</td>\n",
       "      <td>None</td>\n",
       "      <td>None</td>\n",
       "      <td>3.0</td>\n",
       "      <td>10104.0</td>\n",
       "      <td>3437</td>\n",
       "      <td>999999.0</td>\n",
       "      <td>UC San Diego</td>\n",
       "      <td>10000.0</td>\n",
       "      <td>ACADEMIC AFFAIRS</td>\n",
       "      <td>10002.0</td>\n",
       "      <td>DIVISIONS/SCHOOLS</td>\n",
       "      <td>10003.0</td>\n",
       "      <td>ARTS &amp; HUMANITIES</td>\n",
       "      <td>10104.0</td>\n",
       "      <td>MUSIC</td>\n",
       "      <td>NaN</td>\n",
       "      <td>NaN</td>\n",
       "      <td>NaN</td>\n",
       "      <td>NaN</td>\n",
       "      <td>NaN</td>\n",
       "      <td>NaN</td>\n",
       "      <td>19</td>\n",
       "      <td>Supervisor Effectiveness/Resolves Staff Issues</td>\n",
       "      <td>SupervisorEffectivenessResolvesStaffIssues</td>\n",
       "      <td>1</td>\n",
       "      <td>1.0</td>\n",
       "      <td>0</td>\n",
       "      <td>False</td>\n",
       "      <td>Supervisor Effectiveness/Resolves Staff Issues</td>\n",
       "      <td>*The MSO of this department consistently takes unfair advantage of power dynamics to intimidate ...</td>\n",
       "      <td>1.587891</td>\n",
       "      <td>0.281652</td>\n",
       "      <td>1.0</td>\n",
       "      <td>0.0</td>\n",
       "      <td>0.348853</td>\n",
       "    </tr>\n",
       "    <tr>\n",
       "      <th>2</th>\n",
       "      <td>2</td>\n",
       "      <td>589041</td>\n",
       "      <td>1877</td>\n",
       "      <td>Hiring and staffing pools in the research administration series have been very weak and it is di...</td>\n",
       "      <td>NaN</td>\n",
       "      <td>English</td>\n",
       "      <td>212</td>\n",
       "      <td>9</td>\n",
       "      <td>SAW</td>\n",
       "      <td>UCSD</td>\n",
       "      <td>449832</td>\n",
       "      <td>SAT</td>\n",
       "      <td>If you would like to elaborate on your responses above, or if you have any additional feedback r...</td>\n",
       "      <td>Verbatim</td>\n",
       "      <td>114.0</td>\n",
       "      <td>Comments re Work Environment at UCSD</td>\n",
       "      <td>Satisfaction with UC San Diego</td>\n",
       "      <td>None</td>\n",
       "      <td>None</td>\n",
       "      <td>None</td>\n",
       "      <td>1.0</td>\n",
       "      <td>99119.0</td>\n",
       "      <td>4731</td>\n",
       "      <td>999999.0</td>\n",
       "      <td>UC San Diego</td>\n",
       "      <td>90000.0</td>\n",
       "      <td>VICE CHANCELLOR HEALTH SCIENCES</td>\n",
       "      <td>93000.0</td>\n",
       "      <td>SCHOOL OF MEDICINE</td>\n",
       "      <td>96000.0</td>\n",
       "      <td>DEAN'S OFFICE</td>\n",
       "      <td>99119.0</td>\n",
       "      <td>VC OPERATIONS LEADERSHIP</td>\n",
       "      <td>NaN</td>\n",
       "      <td>NaN</td>\n",
       "      <td>NaN</td>\n",
       "      <td>NaN</td>\n",
       "      <td>NaN</td>\n",
       "      <td>NaN</td>\n",
       "      <td>45</td>\n",
       "      <td>Internal Processes Effective</td>\n",
       "      <td>InternalProcessesEffective</td>\n",
       "      <td>1</td>\n",
       "      <td>2.0</td>\n",
       "      <td>0</td>\n",
       "      <td>False</td>\n",
       "      <td>Internal Processes Effective</td>\n",
       "      <td>Hiring and staffing pools in the research administration series have been very weak and it is di...</td>\n",
       "      <td>1.970703</td>\n",
       "      <td>0.270193</td>\n",
       "      <td>2.0</td>\n",
       "      <td>0.0</td>\n",
       "      <td>0.001177</td>\n",
       "    </tr>\n",
       "    <tr>\n",
       "      <th>3</th>\n",
       "      <td>3</td>\n",
       "      <td>683498</td>\n",
       "      <td>1877</td>\n",
       "      <td>My supervisor is great but her supervisors are not. Our department is not respectful of the need...</td>\n",
       "      <td>NaN</td>\n",
       "      <td>English</td>\n",
       "      <td>401</td>\n",
       "      <td>9</td>\n",
       "      <td>SAW</td>\n",
       "      <td>UCSD</td>\n",
       "      <td>495891</td>\n",
       "      <td>SAT</td>\n",
       "      <td>If you would like to elaborate on your responses above, or if you have any additional feedback r...</td>\n",
       "      <td>Verbatim</td>\n",
       "      <td>114.0</td>\n",
       "      <td>Comments re Work Environment at UCSD</td>\n",
       "      <td>Satisfaction with UC San Diego</td>\n",
       "      <td>None</td>\n",
       "      <td>None</td>\n",
       "      <td>None</td>\n",
       "      <td>1.0</td>\n",
       "      <td>700001.0</td>\n",
       "      <td>3828</td>\n",
       "      <td>999999.0</td>\n",
       "      <td>UC San Diego</td>\n",
       "      <td>700000.0</td>\n",
       "      <td>ADVANCEMENT</td>\n",
       "      <td>700019.0</td>\n",
       "      <td>ALUMNI</td>\n",
       "      <td>700001.0</td>\n",
       "      <td>ALUMNI RELATIONS</td>\n",
       "      <td>NaN</td>\n",
       "      <td>NaN</td>\n",
       "      <td>NaN</td>\n",
       "      <td>NaN</td>\n",
       "      <td>NaN</td>\n",
       "      <td>NaN</td>\n",
       "      <td>NaN</td>\n",
       "      <td>NaN</td>\n",
       "      <td>19</td>\n",
       "      <td>Supervisor Effectiveness/Resolves Staff Issues</td>\n",
       "      <td>SupervisorEffectivenessResolvesStaffIssues</td>\n",
       "      <td>1</td>\n",
       "      <td>2.0</td>\n",
       "      <td>0</td>\n",
       "      <td>False</td>\n",
       "      <td>Supervisor Effectiveness/Resolves Staff Issues</td>\n",
       "      <td>My supervisor is great but her supervisors are not. Our department is not respectful of the need...</td>\n",
       "      <td>2.398438</td>\n",
       "      <td>0.271427</td>\n",
       "      <td>2.0</td>\n",
       "      <td>0.0</td>\n",
       "      <td>0.159385</td>\n",
       "    </tr>\n",
       "    <tr>\n",
       "      <th>4</th>\n",
       "      <td>4</td>\n",
       "      <td>683028</td>\n",
       "      <td>1877</td>\n",
       "      <td>The inefficiencies and chronic shortages of resources (IT/computer related/eqipment) is so frust...</td>\n",
       "      <td>NaN</td>\n",
       "      <td>English</td>\n",
       "      <td>401</td>\n",
       "      <td>9</td>\n",
       "      <td>SAW</td>\n",
       "      <td>UCSD</td>\n",
       "      <td>494058</td>\n",
       "      <td>SAT</td>\n",
       "      <td>If you would like to elaborate on your responses above, or if you have any additional feedback r...</td>\n",
       "      <td>Verbatim</td>\n",
       "      <td>114.0</td>\n",
       "      <td>Comments re Work Environment at UCSD</td>\n",
       "      <td>Satisfaction with UC San Diego</td>\n",
       "      <td>None</td>\n",
       "      <td>None</td>\n",
       "      <td>None</td>\n",
       "      <td>1.0</td>\n",
       "      <td>90920.0</td>\n",
       "      <td>3665</td>\n",
       "      <td>999999.0</td>\n",
       "      <td>UC San Diego</td>\n",
       "      <td>90000.0</td>\n",
       "      <td>VICE CHANCELLOR HEALTH SCIENCES</td>\n",
       "      <td>93000.0</td>\n",
       "      <td>SCHOOL OF MEDICINE</td>\n",
       "      <td>90900.0</td>\n",
       "      <td>NEUROSCIENCES</td>\n",
       "      <td>90920.0</td>\n",
       "      <td>ALZHEIMERS DISEASE RESEARCH CENTER (ADRC)</td>\n",
       "      <td>NaN</td>\n",
       "      <td>NaN</td>\n",
       "      <td>NaN</td>\n",
       "      <td>NaN</td>\n",
       "      <td>NaN</td>\n",
       "      <td>NaN</td>\n",
       "      <td>45</td>\n",
       "      <td>Internal Processes Effective</td>\n",
       "      <td>InternalProcessesEffective</td>\n",
       "      <td>1</td>\n",
       "      <td>2.0</td>\n",
       "      <td>0</td>\n",
       "      <td>False</td>\n",
       "      <td>Internal Processes Effective</td>\n",
       "      <td>The inefficiencies and chronic shortages of resources (IT/computer related/eqipment) is so frust...</td>\n",
       "      <td>1.820312</td>\n",
       "      <td>0.274224</td>\n",
       "      <td>2.0</td>\n",
       "      <td>0.0</td>\n",
       "      <td>0.033632</td>\n",
       "    </tr>\n",
       "  </tbody>\n",
       "</table>\n",
       "</div>"
      ],
      "text/plain": [
       "   index      id  question_ans_id                                                                                          answer_text  answer_text_non_english language  survey_id  survey_type_id benchmark_survey_type client_id  rsp_id question_category_abbr                                                                                        question_text     question_class  question_category_id                    question_report_abbr         question_category_label benchmark_level1 benchmark_level2 benchmark_level3  client_benchmark_level  group_code  group_id  group_level1_code                   group_level1_name  group_level2_code                group_level2_name  group_level3_code                            group_level3_name  group_level4_code  group_level4_name  group_level5_code                          group_level5_name  group_level6_code group_level6_name  group_level7_code group_level7_name  group_level8_code  group_level8_name  standard_theme_id  \\\n",
       "0      0  660454            93069  \"Academics at UC ANR value my contributions.\"\\r\\n\"Staff members at UC ANR value my contributions...                      NaN  English        396              47                   SAW     UCANR  480552                   None  Please provide any additional feedback regarding the work environment at UC ANR. Your comments w...  Verbatim-Comments                1141.0  Comments re Work Environment at UC ANR                        Comments             None             None             None                     3.0    250400.0      6984           999999.0  UC Agriculture & Natural Resources           200000.0     AVP Programs and Initiatives           250000.0  Strategic Institutes and Statewide Programs           250400.0      Statewide IPM                NaN                                        NaN                NaN               NaN                NaN               NaN                NaN                NaN                 10   \n",
       "1      1  589692             2576  *The MSO of this department consistently takes unfair advantage of power dynamics to intimidate ...                      NaN  English        212               9                   SAW      UCSD  447156                    C&B  If you would like to elaborate on any of your answers to the conduct and behavioral questions ab...           Verbatim                1240.0         Conduct & Behavioral - Comments            Conduct & Behavioral             None             None             None                     3.0     10104.0      3437           999999.0                        UC San Diego            10000.0                 ACADEMIC AFFAIRS            10002.0                            DIVISIONS/SCHOOLS            10003.0  ARTS & HUMANITIES            10104.0                                      MUSIC                NaN               NaN                NaN               NaN                NaN                NaN                 19   \n",
       "2      2  589041             1877  Hiring and staffing pools in the research administration series have been very weak and it is di...                      NaN  English        212               9                   SAW      UCSD  449832                    SAT  If you would like to elaborate on your responses above, or if you have any additional feedback r...           Verbatim                 114.0    Comments re Work Environment at UCSD  Satisfaction with UC San Diego             None             None             None                     1.0     99119.0      4731           999999.0                        UC San Diego            90000.0  VICE CHANCELLOR HEALTH SCIENCES            93000.0                           SCHOOL OF MEDICINE            96000.0      DEAN'S OFFICE            99119.0                   VC OPERATIONS LEADERSHIP                NaN               NaN                NaN               NaN                NaN                NaN                 45   \n",
       "3      3  683498             1877  My supervisor is great but her supervisors are not. Our department is not respectful of the need...                      NaN  English        401               9                   SAW      UCSD  495891                    SAT  If you would like to elaborate on your responses above, or if you have any additional feedback r...           Verbatim                 114.0    Comments re Work Environment at UCSD  Satisfaction with UC San Diego             None             None             None                     1.0    700001.0      3828           999999.0                        UC San Diego           700000.0                      ADVANCEMENT           700019.0                                       ALUMNI           700001.0   ALUMNI RELATIONS                NaN                                        NaN                NaN               NaN                NaN               NaN                NaN                NaN                 19   \n",
       "4      4  683028             1877  The inefficiencies and chronic shortages of resources (IT/computer related/eqipment) is so frust...                      NaN  English        401               9                   SAW      UCSD  494058                    SAT  If you would like to elaborate on your responses above, or if you have any additional feedback r...           Verbatim                 114.0    Comments re Work Environment at UCSD  Satisfaction with UC San Diego             None             None             None                     1.0     90920.0      3665           999999.0                        UC San Diego            90000.0  VICE CHANCELLOR HEALTH SCIENCES            93000.0                           SCHOOL OF MEDICINE            90900.0      NEUROSCIENCES            90920.0  ALZHEIMERS DISEASE RESEARCH CENTER (ADRC)                NaN               NaN                NaN               NaN                NaN                NaN                 45   \n",
       "\n",
       "                                                              theme                                       url_friendly_theme  theme_display_order  avg_sentiment  is_example  is_valid                                                           _theme_                                                                                               _text_  pred_sentiment  prob_is_example  targ_sentiment  targ_is_example      loss  \n",
       "0  Have Voice within my Institution/Valued Member of my Institution  HaveVoiceWithinMyInstitutionValuedMemberOfMyInstitution                    1            2.0           0     False  Have Voice within my Institution/Valued Member of my Institution  \"Academics at UC ANR value my contributions.\"\\r\\n\"Staff members at UC ANR value my contributions...        2.003906         0.272173             2.0              0.0  0.000837  \n",
       "1                    Supervisor Effectiveness/Resolves Staff Issues               SupervisorEffectivenessResolvesStaffIssues                    1            1.0           0     False                    Supervisor Effectiveness/Resolves Staff Issues  *The MSO of this department consistently takes unfair advantage of power dynamics to intimidate ...        1.587891         0.281652             1.0              0.0  0.348853  \n",
       "2                                      Internal Processes Effective                               InternalProcessesEffective                    1            2.0           0     False                                      Internal Processes Effective  Hiring and staffing pools in the research administration series have been very weak and it is di...        1.970703         0.270193             2.0              0.0  0.001177  \n",
       "3                    Supervisor Effectiveness/Resolves Staff Issues               SupervisorEffectivenessResolvesStaffIssues                    1            2.0           0     False                    Supervisor Effectiveness/Resolves Staff Issues  My supervisor is great but her supervisors are not. Our department is not respectful of the need...        2.398438         0.271427             2.0              0.0  0.159385  \n",
       "4                                      Internal Processes Effective                               InternalProcessesEffective                    1            2.0           0     False                                      Internal Processes Effective  The inefficiencies and chronic shortages of resources (IT/computer related/eqipment) is so frust...        1.820312         0.274224             2.0              0.0  0.033632  "
      ]
     },
     "execution_count": 42,
     "metadata": {},
     "output_type": "execute_result"
    }
   ],
   "source": [
    "train_res_df.head()"
   ]
  },
  {
   "cell_type": "code",
   "execution_count": 43,
   "id": "junior-aside",
   "metadata": {},
   "outputs": [
    {
     "data": {
      "text/plain": [
       "{'valid_loss': 0.36898770928382874,\n",
       " 'sentiment_mse': 0.3652612566947937,\n",
       " 'is_example_acc': 0.9932935833930969,\n",
       " 'is_example_f05': {'threshold': 0.29000000000000004,\n",
       "  'score': 0.1724137931034483},\n",
       " 'is_example_f1': {'threshold': 0.28, 'score': 0.17142857142857146},\n",
       " 'is_example_f2': {'threshold': 0.28, 'score': 0.24193548387096775},\n",
       " 'sentiment': {'mae': 0.4495120048522949,\n",
       "  'mse': 0.3652612864971161,\n",
       "  'rmse': 0.6043685022377623}}"
      ]
     },
     "execution_count": 43,
     "metadata": {},
     "output_type": "execute_result"
    }
   ],
   "source": [
    "# load scores\n",
    "with open(f\"{train_config['learner_path']}/{train_yyyymmdd}_{full_model_name}_train_scores.json\") as f: \n",
    "    training_results = json.load(f)\n",
    "    \n",
    "training_results"
   ]
  },
  {
   "cell_type": "code",
   "execution_count": 44,
   "id": "twelve-variety",
   "metadata": {},
   "outputs": [
    {
     "name": "stdout",
     "output_type": "stream",
     "text": [
      "[(((1.6395916938781738,), '0'), [tensor([1.6396]), tensor(0)], [tensor([1.6396]), tensor([0.9834, 0.0166])])]\n",
      "[(((4.271517753601074,), '0'), [tensor([4.2715]), tensor(0)], [tensor([4.2715]), tensor([0.9952, 0.0048])])]\n"
     ]
    }
   ],
   "source": [
    "inf_learn = load_learner(f\"{train_config['learner_path']}/{train_yyyymmdd}_{full_model_name}_export.pkl\")\n",
    "\n",
    "print(inf_learn.blurr_predict('theme: Benefits comment: We are not paid enough and the benefits are horrible'))\n",
    "print(inf_learn.blurr_predict(\"theme: Benfits comment: The faculty really support us well!!! I feel valued\"))"
   ]
  },
  {
   "cell_type": "markdown",
   "id": "nominated-tribune",
   "metadata": {},
   "source": [
    "## Inference"
   ]
  },
  {
   "cell_type": "markdown",
   "id": "eleven-indication",
   "metadata": {},
   "source": [
    "### Inference (ad-hoc documents)"
   ]
  },
  {
   "cell_type": "code",
   "execution_count": 45,
   "id": "supposed-panama",
   "metadata": {},
   "outputs": [
    {
     "name": "stdout",
     "output_type": "stream",
     "text": [
      "['adequate_staffing', 'advancement_and_training_opportunities', 'appropriate_stress_work_assigned_equitably', 'benefits', 'better_ways_recognized_participate_in_decisions']\n"
     ]
    }
   ],
   "source": [
    "print(STANDARD_THEME_SAW_LABELS[:5])"
   ]
  },
  {
   "cell_type": "code",
   "execution_count": 46,
   "id": "liberal-amazon",
   "metadata": {},
   "outputs": [
    {
     "name": "stdout",
     "output_type": "stream",
     "text": [
      "[(((1.9707868099212646,), '0'), [tensor([1.9708]), tensor(0)], [tensor([1.9708]), tensor([0.9966, 0.0034])])]\n",
      "[(((2.4395132064819336,), '0'), [tensor([2.4395]), tensor(0)], [tensor([2.4395]), tensor([0.9981, 0.0019])])]\n",
      "[(((3.7818827629089355,), '0'), [tensor([3.7819]), tensor(0)], [tensor([3.7819]), tensor([0.9962, 0.0038])])]\n",
      "[(((1.9311851263046265,), '0'), [tensor([1.9312]), tensor(0)], [tensor([1.9312]), tensor([0.9969, 0.0031])])]\n",
      "[(((1.893664836883545,), '0'), [tensor([1.8937]), tensor(0)], [tensor([1.8937]), tensor([0.9978, 0.0022])])]\n",
      "[(((4.187333106994629,), '0'), [tensor([4.1873]), tensor(0)], [tensor([4.1873]), tensor([0.9793, 0.0207])])]\n"
     ]
    }
   ],
   "source": [
    "test_comments = [\n",
    "    'theme: Benfits comment: Not paid enough.',\n",
    "    'theme: Benfits comment: I am satisfied with my benefits and we have enough people in my department. The faculty is mean to me.',\n",
    "    'theme: Benfits comment: I love cats',\n",
    "    \"theme: Benfits comment: I can never find a parking spot. The shuttles are not on time. Help\",\n",
    "    \"theme: Benfits comment: I was really uncomfortable to express my opinion!!!\",\n",
    "    \"theme: Benfits comment: Jeff Wadell is an exceptional leader.  He has gone above and beyond to create a positive working environment and provide growth opportunities.  His commitment to his team is unrivaled and commendable.\\\\r\\\\n\\\\r\\\\nNikki Panza is a model of authentic leadership for Building and Custodial Services.  She has earned the respect of those she leads through honest communication, empathy, and ethical consultation.\"\n",
    "]\n",
    "\n",
    "for c in test_comments: print(inf_learn.blurr_predict(c))"
   ]
  },
  {
   "cell_type": "markdown",
   "id": "sticky-thesis",
   "metadata": {},
   "source": [
    "### Inference (batch)"
   ]
  },
  {
   "cell_type": "code",
   "execution_count": 96,
   "id": "chronic-saint",
   "metadata": {},
   "outputs": [],
   "source": [
    "#export\n",
    "def get_preds(inf_df, yyyymmdd=None, learner_export_path=None, train_scores_path=None, \n",
    "              device=torch.device('cpu'), train_config_updates={}):\n",
    "    \n",
    "    config = {**train_config, **train_config_updates}    \n",
    "    m_pre, m_suf, base_model_name = config['m_pre'], config['m_suf'], config['base_model_name']\n",
    "    full_model_name = f'{m_pre}{base_model_name}{m_suf}'\n",
    "    \n",
    "    # 1. grab learner, procs, and data\n",
    "    cpu = device.type == 'cpu'\n",
    "    \n",
    "    if (yyyymmdd is None and learner_export_path is None): \n",
    "        export_dir = Path(config['learner_path'])\n",
    "        learner_export_path = sorted(export_dir.glob(f\"[0-9]*_{config['export_filename']}\"), reverse=True)[0]\n",
    "        train_scores_path = export_dir/f\"{learner_export_path.stem.split('_')[0]}_{full_model_name}_train_scores.json\"\n",
    "        \n",
    "    if (learner_export_path is None): \n",
    "        learner_export_path = f\"{config['learner_path']}/{yyyymmdd}_{config['export_filename']}\"\n",
    "        \n",
    "    if (train_scores_path is None): \n",
    "        train_scores_path = f\"{config['learner_path']}/{yyyymmdd}_{full_model_name}_train_scores.json\"\n",
    "        \n",
    "    with open(train_scores_path) as f: training_results = json.load(f)\n",
    "        \n",
    "    inf_learn = load_learner(fname=learner_export_path, cpu=cpu)\n",
    "    inf_learn.model = inf_learn.model.to(device)\n",
    "    inf_learn.model = inf_learn.model.eval()\n",
    "    \n",
    "    # 2. define a suitable dataloader\n",
    "    inf_df = inf_df.copy()\n",
    "    inf_df[config['txt_cols']] = inf_df[config['orig_txt_cols']]\n",
    "    inf_df.dropna(subset=config['txt_cols'], inplace=True)\n",
    "    inf_df.reset_index(drop=True, inplace=True)\n",
    "    inf_dl = inf_learn.dls.test_dl(inf_df, rm_type_tfms=None, bs=16)\n",
    "\n",
    "    # 3. get probs and document vectors\n",
    "    test_probs_sent, test_probs_is_example = [], []\n",
    "    with torch.no_grad():\n",
    "        for index, b in enumerate(inf_dl):\n",
    "            if index % 1000 == 0:  print(index)\n",
    "\n",
    "            # note: even though there is no targets, each batch is a tuple!\n",
    "            probs = inf_learn.model(b[0])[0]\n",
    "            \n",
    "            # why \"detach\"? the computation of gradients wrt the weights of netG can be fully \n",
    "            # avoided in the backward pass if the graph is detached where it is.\n",
    "            test_probs_sent.append(to_detach(probs[0]))\n",
    "            test_probs_is_example.append(to_detach(torch.softmax(probs[1], dim=-1)))\n",
    "\n",
    "    all_probs_sent = L(torch.cat(test_probs_sent))\n",
    "    all_probs_is_example = L(torch.cat(test_probs_is_example))\n",
    "\n",
    "    # 4. ensure results are returned in order\n",
    "    # test_dl.get_idxs() => unsorted/original order items\n",
    "    all_probs_sent = all_probs_sent[0][np.argsort(inf_dl.get_idxs())]\n",
    "    all_probs_is_example = all_probs_is_example[0][np.argsort(inf_dl.get_idxs())]\n",
    "        \n",
    "    # 5. return results with scores in a df, probs, and labels\n",
    "    combined_probs = np.concatenate((all_probs_sent.numpy(), all_probs_is_example.numpy()[:,1][:,None]), axis=1)\n",
    "    prob_labels = ['prob_' + lbl for lbl in STANDARD_THEME_META_LABELS]\n",
    "    probs_df = pd.DataFrame(combined_probs, columns=prob_labels)\n",
    "    \n",
    "    for lbl in STANDARD_THEME_META_LABELS[1:]:\n",
    "        probs_df[f'pred_{lbl}'] = (probs_df[f'prob_{lbl}'] > training_results['is_example_f05']['threshold']).astype(np.int64)\n",
    "        \n",
    "    final_df = pd.concat([inf_df, probs_df], axis=1)\n",
    "    final_df.drop(columns=config['txt_cols'], inplace=True)\n",
    "        \n",
    "#     final_df['valid_loss'] = training_results['valid_loss']\n",
    "#     final_df['sentiment_mse'] = training_results['sentiment']['mse']\n",
    "#     final_df['sentiment_mae'] = training_results['sentiment']['mae']\n",
    "#     final_df['sentiment_rmse'] = training_results['sentiment']['rmse']\n",
    "#     final_df['is_example_f05_threshold'] = training_results['is_example_f05']['threshold']\n",
    "#     final_df['is_example_f05_score'] = training_results['is_example_f05']['score']\n",
    "#     final_df['is_example_f1_threshold'] = training_results['is_example_f1']['threshold']\n",
    "#     final_df['is_example_f1_score'] = training_results['is_example_f1']['score']\n",
    "#     final_df['is_example_f2_threshold'] = training_results['is_example_f2']['threshold']\n",
    "#     final_df['is_example_f2_score'] = training_results['is_example_f2']['score']\n",
    "\n",
    "    # cleanup\n",
    "    try: del inf_learn; del inf_dl\n",
    "    except: pass\n",
    "    finally: gc.collect(); torch.cuda.empty_cache()\n",
    "    \n",
    "    return final_df, Path(learner_export_path).stem, training_results, STANDARD_THEME_META_LABELS"
   ]
  },
  {
   "cell_type": "code",
   "execution_count": 48,
   "id": "motivated-fruit",
   "metadata": {},
   "outputs": [],
   "source": [
    "yyyymmdd = train_yyyymmdd"
   ]
  },
  {
   "cell_type": "code",
   "execution_count": 72,
   "id": "atomic-strain",
   "metadata": {},
   "outputs": [
    {
     "name": "stdout",
     "output_type": "stream",
     "text": [
      "6094 6094\n"
     ]
    }
   ],
   "source": [
    "verbatims_df = pd.read_csv(STANDARD_THEME_SAW_PATH/'test_saw_themes_predictions_multilabel_hf.csv', parse_dates=[])\n",
    "\n",
    "inf_df = verbatims_df.copy() #verbatims_df[test_df.SurveyID == 130].copy()\n",
    "inf_df.reset_index(drop=True, inplace=True)\n",
    "print(len(verbatims_df), len(inf_df))\n",
    "\n",
    "orig_txt_cols = ['theme', 'AnswerText'] "
   ]
  },
  {
   "cell_type": "code",
   "execution_count": 73,
   "id": "hydraulic-image",
   "metadata": {},
   "outputs": [
    {
     "data": {
      "text/html": [
       "<div>\n",
       "<style scoped>\n",
       "    .dataframe tbody tr th:only-of-type {\n",
       "        vertical-align: middle;\n",
       "    }\n",
       "\n",
       "    .dataframe tbody tr th {\n",
       "        vertical-align: top;\n",
       "    }\n",
       "\n",
       "    .dataframe thead th {\n",
       "        text-align: right;\n",
       "    }\n",
       "</style>\n",
       "<table border=\"1\" class=\"dataframe\">\n",
       "  <thead>\n",
       "    <tr style=\"text-align: right;\">\n",
       "      <th></th>\n",
       "      <th>MLVerbatimId</th>\n",
       "      <th>AnswerText</th>\n",
       "      <th>AnswerLang</th>\n",
       "      <th>_seq_id</th>\n",
       "      <th>_tl_item_id</th>\n",
       "      <th>_n_sentences</th>\n",
       "      <th>_text_</th>\n",
       "      <th>prob_adequate_staffing</th>\n",
       "      <th>prob_advancement_and_training_opportunities</th>\n",
       "      <th>prob_appropriate_stress_work_assigned_equitably</th>\n",
       "      <th>prob_benefits</th>\n",
       "      <th>prob_better_ways_recognized_participate_in_decisions</th>\n",
       "      <th>prob_career_advancement</th>\n",
       "      <th>prob_committed_to_diversity</th>\n",
       "      <th>prob_communicates_essential_information</th>\n",
       "      <th>prob_ethical_conduct_perform_responsibilities_spirit_of_cooperation</th>\n",
       "      <th>prob_evaluated_fairly</th>\n",
       "      <th>prob_experienced_discrimination</th>\n",
       "      <th>prob_facilities_workspace_safety</th>\n",
       "      <th>prob_faculty_value_contributions</th>\n",
       "      <th>prob_favoritism_cliques</th>\n",
       "      <th>prob_fear_of_retaliation_negative_consequences</th>\n",
       "      <th>prob_feel_valued_by_department</th>\n",
       "      <th>prob_flexibility_work_life_balance</th>\n",
       "      <th>prob_good_use_of_skills</th>\n",
       "      <th>prob_have_necessary_tools</th>\n",
       "      <th>prob_have_voice_within_my_institution_valued_member_of_my_institution</th>\n",
       "      <th>prob_internal_processes_effective</th>\n",
       "      <th>prob_parking_transportation</th>\n",
       "      <th>prob_salary_pay</th>\n",
       "      <th>prob_satisfied_with_diversity_progams</th>\n",
       "      <th>prob_supervisor_effectiveness_resolves_staff_issues</th>\n",
       "      <th>pred_adequate_staffing</th>\n",
       "      <th>pred_advancement_and_training_opportunities</th>\n",
       "      <th>pred_appropriate_stress_work_assigned_equitably</th>\n",
       "      <th>pred_benefits</th>\n",
       "      <th>pred_better_ways_recognized_participate_in_decisions</th>\n",
       "      <th>pred_career_advancement</th>\n",
       "      <th>pred_committed_to_diversity</th>\n",
       "      <th>pred_communicates_essential_information</th>\n",
       "      <th>pred_ethical_conduct_perform_responsibilities_spirit_of_cooperation</th>\n",
       "      <th>pred_evaluated_fairly</th>\n",
       "      <th>pred_experienced_discrimination</th>\n",
       "      <th>pred_facilities_workspace_safety</th>\n",
       "      <th>pred_faculty_value_contributions</th>\n",
       "      <th>pred_favoritism_cliques</th>\n",
       "      <th>pred_fear_of_retaliation_negative_consequences</th>\n",
       "      <th>pred_feel_valued_by_department</th>\n",
       "      <th>pred_flexibility_work_life_balance</th>\n",
       "      <th>pred_good_use_of_skills</th>\n",
       "      <th>pred_have_necessary_tools</th>\n",
       "      <th>pred_have_voice_within_my_institution_valued_member_of_my_institution</th>\n",
       "      <th>pred_internal_processes_effective</th>\n",
       "      <th>pred_parking_transportation</th>\n",
       "      <th>pred_salary_pay</th>\n",
       "      <th>pred_satisfied_with_diversity_progams</th>\n",
       "      <th>pred_supervisor_effectiveness_resolves_staff_issues</th>\n",
       "    </tr>\n",
       "  </thead>\n",
       "  <tbody>\n",
       "    <tr>\n",
       "      <th>0</th>\n",
       "      <td>612674</td>\n",
       "      <td>Accounts Payable department specifically Cyndi Williams &amp; Ann Avery.</td>\n",
       "      <td>English</td>\n",
       "      <td>1</td>\n",
       "      <td>30471</td>\n",
       "      <td>2</td>\n",
       "      <td>Accounts Payable department specifically Cyndi Williams &amp; Ann Avery.</td>\n",
       "      <td>0.03912</td>\n",
       "      <td>0.002478</td>\n",
       "      <td>0.006757</td>\n",
       "      <td>0.008032</td>\n",
       "      <td>0.004365</td>\n",
       "      <td>0.004735</td>\n",
       "      <td>0.007501</td>\n",
       "      <td>0.060767</td>\n",
       "      <td>0.136294</td>\n",
       "      <td>0.02233</td>\n",
       "      <td>0.021006</td>\n",
       "      <td>0.002022</td>\n",
       "      <td>0.022556</td>\n",
       "      <td>0.048244</td>\n",
       "      <td>0.114947</td>\n",
       "      <td>0.022684</td>\n",
       "      <td>0.002981</td>\n",
       "      <td>0.001792</td>\n",
       "      <td>0.005582</td>\n",
       "      <td>0.00314</td>\n",
       "      <td>0.06961</td>\n",
       "      <td>0.005311</td>\n",
       "      <td>0.167219</td>\n",
       "      <td>0.005125</td>\n",
       "      <td>0.138563</td>\n",
       "      <td>0</td>\n",
       "      <td>0</td>\n",
       "      <td>0</td>\n",
       "      <td>0</td>\n",
       "      <td>0</td>\n",
       "      <td>0</td>\n",
       "      <td>0</td>\n",
       "      <td>0</td>\n",
       "      <td>0</td>\n",
       "      <td>0</td>\n",
       "      <td>0</td>\n",
       "      <td>0</td>\n",
       "      <td>0</td>\n",
       "      <td>0</td>\n",
       "      <td>0</td>\n",
       "      <td>0</td>\n",
       "      <td>0</td>\n",
       "      <td>0</td>\n",
       "      <td>0</td>\n",
       "      <td>0</td>\n",
       "      <td>0</td>\n",
       "      <td>0</td>\n",
       "      <td>0</td>\n",
       "      <td>0</td>\n",
       "      <td>0</td>\n",
       "    </tr>\n",
       "  </tbody>\n",
       "</table>\n",
       "</div>"
      ],
      "text/plain": [
       "   MLVerbatimId                                                            AnswerText AnswerLang  _seq_id  _tl_item_id  _n_sentences                                                                _text_  prob_adequate_staffing  prob_advancement_and_training_opportunities  prob_appropriate_stress_work_assigned_equitably  prob_benefits  prob_better_ways_recognized_participate_in_decisions  prob_career_advancement  prob_committed_to_diversity  prob_communicates_essential_information  prob_ethical_conduct_perform_responsibilities_spirit_of_cooperation  prob_evaluated_fairly  prob_experienced_discrimination  prob_facilities_workspace_safety  prob_faculty_value_contributions  prob_favoritism_cliques  prob_fear_of_retaliation_negative_consequences  prob_feel_valued_by_department  prob_flexibility_work_life_balance  prob_good_use_of_skills  prob_have_necessary_tools  prob_have_voice_within_my_institution_valued_member_of_my_institution  prob_internal_processes_effective  \\\n",
       "0        612674  Accounts Payable department specifically Cyndi Williams & Ann Avery.    English        1        30471             2  Accounts Payable department specifically Cyndi Williams & Ann Avery.                 0.03912                                     0.002478                                         0.006757       0.008032                                              0.004365                 0.004735                     0.007501                                 0.060767                                                             0.136294                0.02233                         0.021006                          0.002022                          0.022556                 0.048244                                        0.114947                        0.022684                            0.002981                 0.001792                   0.005582                                                                0.00314                            0.06961   \n",
       "\n",
       "   prob_parking_transportation  prob_salary_pay  prob_satisfied_with_diversity_progams  prob_supervisor_effectiveness_resolves_staff_issues  pred_adequate_staffing  pred_advancement_and_training_opportunities  pred_appropriate_stress_work_assigned_equitably  pred_benefits  pred_better_ways_recognized_participate_in_decisions  pred_career_advancement  pred_committed_to_diversity  pred_communicates_essential_information  pred_ethical_conduct_perform_responsibilities_spirit_of_cooperation  pred_evaluated_fairly  pred_experienced_discrimination  pred_facilities_workspace_safety  pred_faculty_value_contributions  pred_favoritism_cliques  pred_fear_of_retaliation_negative_consequences  pred_feel_valued_by_department  pred_flexibility_work_life_balance  pred_good_use_of_skills  pred_have_necessary_tools  pred_have_voice_within_my_institution_valued_member_of_my_institution  pred_internal_processes_effective  pred_parking_transportation  pred_salary_pay  \\\n",
       "0                     0.005311         0.167219                               0.005125                                             0.138563                       0                                            0                                                0              0                                                     0                        0                            0                                        0                                                                    0                      0                                0                                 0                                 0                        0                                               0                               0                                   0                        0                          0                                                                      0                                  0                            0                0   \n",
       "\n",
       "   pred_satisfied_with_diversity_progams  pred_supervisor_effectiveness_resolves_staff_issues  \n",
       "0                                      0                                                    0  "
      ]
     },
     "execution_count": 73,
     "metadata": {},
     "output_type": "execute_result"
    }
   ],
   "source": [
    "inf_df.head(1)"
   ]
  },
  {
   "cell_type": "code",
   "execution_count": 74,
   "id": "apart-retailer",
   "metadata": {},
   "outputs": [
    {
     "data": {
      "text/plain": [
       "['MLVerbatimId',\n",
       " 'AnswerText',\n",
       " 'AnswerLang',\n",
       " '_seq_id',\n",
       " '_tl_item_id',\n",
       " '_n_sentences',\n",
       " '_text_']"
      ]
     },
     "execution_count": 74,
     "metadata": {},
     "output_type": "execute_result"
    }
   ],
   "source": [
    "non_ml_cols = [ col for col in inf_df.columns if not col.startswith('pred_') and not col.startswith('prob_') ]\n",
    "non_ml_cols"
   ]
  },
  {
   "cell_type": "code",
   "execution_count": 75,
   "id": "english-nepal",
   "metadata": {},
   "outputs": [],
   "source": [
    "pred_theme_cols = filter_col = [col for col in inf_df if col.startswith('prob_')]\n",
    "# prob_theme_cols"
   ]
  },
  {
   "cell_type": "code",
   "execution_count": 76,
   "id": "healthy-diabetes",
   "metadata": {},
   "outputs": [
    {
     "data": {
      "text/plain": [
       "152350"
      ]
     },
     "execution_count": 76,
     "metadata": {},
     "output_type": "execute_result"
    }
   ],
   "source": [
    "inf_df = inf_df.melt(id_vars=non_ml_cols, \n",
    "                     value_vars=pred_theme_cols, \n",
    "                     var_name='theme', \n",
    "                     value_name='theme_prob')\n",
    "len(inf_df)"
   ]
  },
  {
   "cell_type": "code",
   "execution_count": 77,
   "id": "latter-thing",
   "metadata": {},
   "outputs": [
    {
     "data": {
      "text/plain": [
       "1566"
      ]
     },
     "execution_count": 77,
     "metadata": {},
     "output_type": "execute_result"
    }
   ],
   "source": [
    "inf_df = inf_df.loc[inf_df.theme_prob >= 0.42000000000000004]\n",
    "len(inf_df)"
   ]
  },
  {
   "cell_type": "code",
   "execution_count": 78,
   "id": "spectacular-distance",
   "metadata": {},
   "outputs": [],
   "source": [
    "inf_df['url_friendly_theme'] = inf_df.theme.apply(\n",
    "    lambda s: re.sub(\"(.*?)_([a-zA-Z])\",\"\\g<1> \\g<2>\",s).replace('prob', '').strip().title().replace(' ',''))\n",
    "\n",
    "inf_df['theme'] = inf_df.url_friendly_theme.apply(lambda s: re.sub(\"([a-z])([A-Z])\",\"\\g<1> \\g<2>\",s))\n",
    "# inf_df['answer_text'] = inf_df['AnswerText']"
   ]
  },
  {
   "cell_type": "code",
   "execution_count": 79,
   "id": "published-mayor",
   "metadata": {},
   "outputs": [],
   "source": [
    "inf_df.reset_index(inplace=True)"
   ]
  },
  {
   "cell_type": "code",
   "execution_count": 80,
   "id": "miniature-flight",
   "metadata": {},
   "outputs": [
    {
     "data": {
      "text/html": [
       "<div>\n",
       "<style scoped>\n",
       "    .dataframe tbody tr th:only-of-type {\n",
       "        vertical-align: middle;\n",
       "    }\n",
       "\n",
       "    .dataframe tbody tr th {\n",
       "        vertical-align: top;\n",
       "    }\n",
       "\n",
       "    .dataframe thead th {\n",
       "        text-align: right;\n",
       "    }\n",
       "</style>\n",
       "<table border=\"1\" class=\"dataframe\">\n",
       "  <thead>\n",
       "    <tr style=\"text-align: right;\">\n",
       "      <th></th>\n",
       "      <th>index</th>\n",
       "      <th>MLVerbatimId</th>\n",
       "      <th>AnswerText</th>\n",
       "      <th>AnswerLang</th>\n",
       "      <th>_seq_id</th>\n",
       "      <th>_tl_item_id</th>\n",
       "      <th>_n_sentences</th>\n",
       "      <th>_text_</th>\n",
       "      <th>theme</th>\n",
       "      <th>theme_prob</th>\n",
       "      <th>url_friendly_theme</th>\n",
       "    </tr>\n",
       "  </thead>\n",
       "  <tbody>\n",
       "    <tr>\n",
       "      <th>0</th>\n",
       "      <td>191</td>\n",
       "      <td>612608</td>\n",
       "      <td>Get that department more resources PLEASE!</td>\n",
       "      <td>English</td>\n",
       "      <td>4</td>\n",
       "      <td>30655</td>\n",
       "      <td>4</td>\n",
       "      <td>Get that department more resources PLEASE!</td>\n",
       "      <td>Adequate Staffing</td>\n",
       "      <td>0.424475</td>\n",
       "      <td>AdequateStaffing</td>\n",
       "    </tr>\n",
       "    <tr>\n",
       "      <th>1</th>\n",
       "      <td>798</td>\n",
       "      <td>613014</td>\n",
       "      <td>The team had to start an involutary enrollment migration from one campus to another, while prepa...</td>\n",
       "      <td>English</td>\n",
       "      <td>1</td>\n",
       "      <td>31247</td>\n",
       "      <td>2</td>\n",
       "      <td>The team had to start an involutary enrollment migration from one campus to another, while prepa...</td>\n",
       "      <td>Adequate Staffing</td>\n",
       "      <td>0.565492</td>\n",
       "      <td>AdequateStaffing</td>\n",
       "    </tr>\n",
       "    <tr>\n",
       "      <th>2</th>\n",
       "      <td>800</td>\n",
       "      <td>613019</td>\n",
       "      <td>Human resources/personnel management is critical and often difficult for divisions/departments t...</td>\n",
       "      <td>English</td>\n",
       "      <td>1</td>\n",
       "      <td>31249</td>\n",
       "      <td>2</td>\n",
       "      <td>Human resources/personnel management is critical and often difficult for divisions/departments t...</td>\n",
       "      <td>Adequate Staffing</td>\n",
       "      <td>0.450304</td>\n",
       "      <td>AdequateStaffing</td>\n",
       "    </tr>\n",
       "    <tr>\n",
       "      <th>3</th>\n",
       "      <td>880</td>\n",
       "      <td>612993</td>\n",
       "      <td>The CO team has been a valuable resource and support to our campus which has/is experiencing hig...</td>\n",
       "      <td>English</td>\n",
       "      <td>1</td>\n",
       "      <td>31332</td>\n",
       "      <td>1</td>\n",
       "      <td>The CO team has been a valuable resource and support to our campus which has/is experiencing hig...</td>\n",
       "      <td>Adequate Staffing</td>\n",
       "      <td>0.459479</td>\n",
       "      <td>AdequateStaffing</td>\n",
       "    </tr>\n",
       "    <tr>\n",
       "      <th>4</th>\n",
       "      <td>912</td>\n",
       "      <td>612952</td>\n",
       "      <td>Most of CSULB Procurement and Contractual staff go above and beyond the call of duty, daily.</td>\n",
       "      <td>English</td>\n",
       "      <td>1</td>\n",
       "      <td>31363</td>\n",
       "      <td>4</td>\n",
       "      <td>Most of CSULB Procurement and Contractual staff go above and beyond the call of duty, daily.</td>\n",
       "      <td>Adequate Staffing</td>\n",
       "      <td>0.499364</td>\n",
       "      <td>AdequateStaffing</td>\n",
       "    </tr>\n",
       "  </tbody>\n",
       "</table>\n",
       "</div>"
      ],
      "text/plain": [
       "   index  MLVerbatimId                                                                                           AnswerText AnswerLang  _seq_id  _tl_item_id  _n_sentences                                                                                               _text_              theme  theme_prob url_friendly_theme\n",
       "0    191        612608                                                           Get that department more resources PLEASE!    English        4        30655             4                                                           Get that department more resources PLEASE!  Adequate Staffing    0.424475   AdequateStaffing\n",
       "1    798        613014  The team had to start an involutary enrollment migration from one campus to another, while prepa...    English        1        31247             2  The team had to start an involutary enrollment migration from one campus to another, while prepa...  Adequate Staffing    0.565492   AdequateStaffing\n",
       "2    800        613019  Human resources/personnel management is critical and often difficult for divisions/departments t...    English        1        31249             2  Human resources/personnel management is critical and often difficult for divisions/departments t...  Adequate Staffing    0.450304   AdequateStaffing\n",
       "3    880        612993  The CO team has been a valuable resource and support to our campus which has/is experiencing hig...    English        1        31332             1  The CO team has been a valuable resource and support to our campus which has/is experiencing hig...  Adequate Staffing    0.459479   AdequateStaffing\n",
       "4    912        612952         Most of CSULB Procurement and Contractual staff go above and beyond the call of duty, daily.    English        1        31363             4         Most of CSULB Procurement and Contractual staff go above and beyond the call of duty, daily.  Adequate Staffing    0.499364   AdequateStaffing"
      ]
     },
     "execution_count": 80,
     "metadata": {},
     "output_type": "execute_result"
    }
   ],
   "source": [
    "inf_df.head()"
   ]
  },
  {
   "cell_type": "code",
   "execution_count": 81,
   "id": "original-conversion",
   "metadata": {},
   "outputs": [],
   "source": [
    "#export\n",
    "def build_meta_inf_df(themes_df, theme_prob_threshold= 0.5, fixed_cols=None):\n",
    "    inf_df = themes_df.copy()\n",
    "    \n",
    "    if (fixed_cols is None):\n",
    "        fixed_cols = [ col for col in inf_df.columns if not col.startswith('pred_') and not col.startswith('prob_') ]\n",
    "    \n",
    "    prob_theme_cols = filter_col = [col for col in inf_df if col.startswith('prob_')]\n",
    "    \n",
    "    inf_df = inf_df.melt(id_vars=fixed_cols, value_vars=prob_theme_cols, var_name='theme', value_name='theme_prob')\n",
    "    inf_df = inf_df.loc[inf_df.theme_prob >= theme_prob_threshold]\n",
    "    \n",
    "    inf_df['url_friendly_theme'] = inf_df.theme.apply(\n",
    "        lambda s: re.sub(\"(.*?)_([a-zA-Z])\",\"\\g<1> \\g<2>\",s).replace('prob', '').strip().title().replace(' ',''))\n",
    "    \n",
    "    inf_df['theme'] = inf_df.url_friendly_theme.apply(lambda s: re.sub(\"([a-z])([A-Z])\",\"\\g<1> \\g<2>\",s))\n",
    "\n",
    "    inf_df.reset_index(inplace=True)\n",
    "    return inf_df"
   ]
  },
  {
   "cell_type": "code",
   "execution_count": null,
   "id": "sought-religious",
   "metadata": {},
   "outputs": [],
   "source": []
  },
  {
   "cell_type": "code",
   "execution_count": 97,
   "id": "compliant-alignment",
   "metadata": {},
   "outputs": [
    {
     "name": "stdout",
     "output_type": "stream",
     "text": [
      "cuda:1\n",
      "0\n",
      "(1566, 15) 2\n"
     ]
    }
   ],
   "source": [
    "device = torch.device('cuda:1') if torch.cuda.is_available() else torch.device('cpu')\n",
    "print(device)\n",
    "\n",
    "preds_df, model_name, train_res, inf_labels = get_preds(inf_df, device=device, yyyymmdd=train_yyyymmdd, \n",
    "                                                        train_config_updates={'orig_txt_cols': ['theme', '_text_']})\n",
    "print(preds_df.shape, len(inf_labels))"
   ]
  },
  {
   "cell_type": "code",
   "execution_count": 98,
   "id": "secret-metabolism",
   "metadata": {},
   "outputs": [
    {
     "data": {
      "text/html": [
       "<div>\n",
       "<style scoped>\n",
       "    .dataframe tbody tr th:only-of-type {\n",
       "        vertical-align: middle;\n",
       "    }\n",
       "\n",
       "    .dataframe tbody tr th {\n",
       "        vertical-align: top;\n",
       "    }\n",
       "\n",
       "    .dataframe thead th {\n",
       "        text-align: right;\n",
       "    }\n",
       "</style>\n",
       "<table border=\"1\" class=\"dataframe\">\n",
       "  <thead>\n",
       "    <tr style=\"text-align: right;\">\n",
       "      <th></th>\n",
       "      <th>index</th>\n",
       "      <th>MLVerbatimId</th>\n",
       "      <th>AnswerText</th>\n",
       "      <th>AnswerLang</th>\n",
       "      <th>_seq_id</th>\n",
       "      <th>_tl_item_id</th>\n",
       "      <th>_n_sentences</th>\n",
       "      <th>_text_</th>\n",
       "      <th>theme</th>\n",
       "      <th>theme_prob</th>\n",
       "      <th>url_friendly_theme</th>\n",
       "      <th>_theme_</th>\n",
       "      <th>prob_avg_sentiment</th>\n",
       "      <th>prob_is_example</th>\n",
       "      <th>pred_is_example</th>\n",
       "    </tr>\n",
       "  </thead>\n",
       "  <tbody>\n",
       "    <tr>\n",
       "      <th>0</th>\n",
       "      <td>191</td>\n",
       "      <td>612608</td>\n",
       "      <td>Get that department more resources PLEASE!</td>\n",
       "      <td>English</td>\n",
       "      <td>4</td>\n",
       "      <td>30655</td>\n",
       "      <td>4</td>\n",
       "      <td>Get that department more resources PLEASE!</td>\n",
       "      <td>Adequate Staffing</td>\n",
       "      <td>0.424475</td>\n",
       "      <td>AdequateStaffing</td>\n",
       "      <td>Adequate Staffing</td>\n",
       "      <td>2.156372</td>\n",
       "      <td>0.001103</td>\n",
       "      <td>0</td>\n",
       "    </tr>\n",
       "    <tr>\n",
       "      <th>1</th>\n",
       "      <td>798</td>\n",
       "      <td>613014</td>\n",
       "      <td>The team had to start an involutary enrollment migration from one campus to another, while prepa...</td>\n",
       "      <td>English</td>\n",
       "      <td>1</td>\n",
       "      <td>31247</td>\n",
       "      <td>2</td>\n",
       "      <td>The team had to start an involutary enrollment migration from one campus to another, while prepa...</td>\n",
       "      <td>Adequate Staffing</td>\n",
       "      <td>0.565492</td>\n",
       "      <td>AdequateStaffing</td>\n",
       "      <td>Adequate Staffing</td>\n",
       "      <td>2.386427</td>\n",
       "      <td>0.002057</td>\n",
       "      <td>0</td>\n",
       "    </tr>\n",
       "    <tr>\n",
       "      <th>2</th>\n",
       "      <td>800</td>\n",
       "      <td>613019</td>\n",
       "      <td>Human resources/personnel management is critical and often difficult for divisions/departments t...</td>\n",
       "      <td>English</td>\n",
       "      <td>1</td>\n",
       "      <td>31249</td>\n",
       "      <td>2</td>\n",
       "      <td>Human resources/personnel management is critical and often difficult for divisions/departments t...</td>\n",
       "      <td>Adequate Staffing</td>\n",
       "      <td>0.450304</td>\n",
       "      <td>AdequateStaffing</td>\n",
       "      <td>Adequate Staffing</td>\n",
       "      <td>2.012432</td>\n",
       "      <td>0.001548</td>\n",
       "      <td>0</td>\n",
       "    </tr>\n",
       "    <tr>\n",
       "      <th>3</th>\n",
       "      <td>880</td>\n",
       "      <td>612993</td>\n",
       "      <td>The CO team has been a valuable resource and support to our campus which has/is experiencing hig...</td>\n",
       "      <td>English</td>\n",
       "      <td>1</td>\n",
       "      <td>31332</td>\n",
       "      <td>1</td>\n",
       "      <td>The CO team has been a valuable resource and support to our campus which has/is experiencing hig...</td>\n",
       "      <td>Adequate Staffing</td>\n",
       "      <td>0.459479</td>\n",
       "      <td>AdequateStaffing</td>\n",
       "      <td>Adequate Staffing</td>\n",
       "      <td>4.221957</td>\n",
       "      <td>0.002297</td>\n",
       "      <td>0</td>\n",
       "    </tr>\n",
       "    <tr>\n",
       "      <th>4</th>\n",
       "      <td>912</td>\n",
       "      <td>612952</td>\n",
       "      <td>Most of CSULB Procurement and Contractual staff go above and beyond the call of duty, daily.</td>\n",
       "      <td>English</td>\n",
       "      <td>1</td>\n",
       "      <td>31363</td>\n",
       "      <td>4</td>\n",
       "      <td>Most of CSULB Procurement and Contractual staff go above and beyond the call of duty, daily.</td>\n",
       "      <td>Adequate Staffing</td>\n",
       "      <td>0.499364</td>\n",
       "      <td>AdequateStaffing</td>\n",
       "      <td>Adequate Staffing</td>\n",
       "      <td>3.993353</td>\n",
       "      <td>0.015695</td>\n",
       "      <td>0</td>\n",
       "    </tr>\n",
       "  </tbody>\n",
       "</table>\n",
       "</div>"
      ],
      "text/plain": [
       "   index  MLVerbatimId                                                                                           AnswerText AnswerLang  _seq_id  _tl_item_id  _n_sentences                                                                                               _text_              theme  theme_prob url_friendly_theme            _theme_  prob_avg_sentiment  prob_is_example  pred_is_example\n",
       "0    191        612608                                                           Get that department more resources PLEASE!    English        4        30655             4                                                           Get that department more resources PLEASE!  Adequate Staffing    0.424475   AdequateStaffing  Adequate Staffing            2.156372         0.001103                0\n",
       "1    798        613014  The team had to start an involutary enrollment migration from one campus to another, while prepa...    English        1        31247             2  The team had to start an involutary enrollment migration from one campus to another, while prepa...  Adequate Staffing    0.565492   AdequateStaffing  Adequate Staffing            2.386427         0.002057                0\n",
       "2    800        613019  Human resources/personnel management is critical and often difficult for divisions/departments t...    English        1        31249             2  Human resources/personnel management is critical and often difficult for divisions/departments t...  Adequate Staffing    0.450304   AdequateStaffing  Adequate Staffing            2.012432         0.001548                0\n",
       "3    880        612993  The CO team has been a valuable resource and support to our campus which has/is experiencing hig...    English        1        31332             1  The CO team has been a valuable resource and support to our campus which has/is experiencing hig...  Adequate Staffing    0.459479   AdequateStaffing  Adequate Staffing            4.221957         0.002297                0\n",
       "4    912        612952         Most of CSULB Procurement and Contractual staff go above and beyond the call of duty, daily.    English        1        31363             4         Most of CSULB Procurement and Contractual staff go above and beyond the call of duty, daily.  Adequate Staffing    0.499364   AdequateStaffing  Adequate Staffing            3.993353         0.015695                0"
      ]
     },
     "execution_count": 98,
     "metadata": {},
     "output_type": "execute_result"
    }
   ],
   "source": [
    "preds_df.head()"
   ]
  },
  {
   "cell_type": "code",
   "execution_count": 99,
   "id": "dangerous-genius",
   "metadata": {},
   "outputs": [
    {
     "data": {
      "text/plain": [
       "{'valid_loss': 0.36898770928382874,\n",
       " 'sentiment_mse': 0.3652612566947937,\n",
       " 'is_example_acc': 0.9932935833930969,\n",
       " 'is_example_f05': {'threshold': 0.29000000000000004,\n",
       "  'score': 0.1724137931034483},\n",
       " 'is_example_f1': {'threshold': 0.28, 'score': 0.17142857142857146},\n",
       " 'is_example_f2': {'threshold': 0.28, 'score': 0.24193548387096775},\n",
       " 'sentiment': {'mae': 0.4495120048522949,\n",
       "  'mse': 0.3652612864971161,\n",
       "  'rmse': 0.6043685022377623}}"
      ]
     },
     "execution_count": 99,
     "metadata": {},
     "output_type": "execute_result"
    }
   ],
   "source": [
    "model_name, train_res"
   ]
  },
  {
   "cell_type": "markdown",
   "id": "nervous-stocks",
   "metadata": {},
   "source": [
    "## Cleanup"
   ]
  },
  {
   "cell_type": "code",
   "execution_count": 2,
   "id": "varied-trick",
   "metadata": {},
   "outputs": [
    {
     "name": "stdout",
     "output_type": "stream",
     "text": [
      "Converted 00_utils.ipynb.\n",
      "Converted 01_verbatims-sentiment.ipynb.\n",
      "Converted 02a_verbatims-standard-themes-saw.ipynb.\n",
      "Converted 02b_verbatims-standard-themes-css.ipynb.\n",
      "Converted 02c_verbatims-standard-themes-meta.ipynb.\n",
      "Converted 99_inference.ipynb.\n",
      "Converted index.ipynb.\n"
     ]
    }
   ],
   "source": [
    "#hide\n",
    "from nbdev.export import notebook2script\n",
    "notebook2script()"
   ]
  },
  {
   "cell_type": "markdown",
   "id": "endangered-discrimination",
   "metadata": {},
   "source": [
    "## Playground"
   ]
  },
  {
   "cell_type": "code",
   "execution_count": 103,
   "id": "molecular-congo",
   "metadata": {},
   "outputs": [
    {
     "name": "stdout",
     "output_type": "stream",
     "text": [
      "=== text ===\n",
      "Human resources/personnel management is critical and often difficult for divisions/departments to handle when problems arise.\n",
      "\n",
      "=== preds ===\n",
      "[2.0124316e+00 1.5482951e-03]\n"
     ]
    }
   ],
   "source": [
    "verbatim_id = 613019\n",
    "\n",
    "pred_lbls = [ f'prob_{lbl}' for lbl in STANDARD_THEME_META_LABELS ]\n",
    "prob_lbls = [ f'prob_{lbl}' for lbl in STANDARD_THEME_META_LABELS ]\n",
    "\n",
    "print(\"=== text ===\")\n",
    "print(preds_df.AnswerText[preds_df.MLVerbatimId == verbatim_id].values[0])\n",
    "print('\\n=== preds ===')\n",
    "preds = preds_df[pred_lbls][preds_df.MLVerbatimId == verbatim_id].values[0]\n",
    "print(preds)"
   ]
  },
  {
   "cell_type": "code",
   "execution_count": 104,
   "id": "responsible-investigation",
   "metadata": {},
   "outputs": [
    {
     "data": {
      "text/html": [
       "<div>\n",
       "<style scoped>\n",
       "    .dataframe tbody tr th:only-of-type {\n",
       "        vertical-align: middle;\n",
       "    }\n",
       "\n",
       "    .dataframe tbody tr th {\n",
       "        vertical-align: top;\n",
       "    }\n",
       "\n",
       "    .dataframe thead th {\n",
       "        text-align: right;\n",
       "    }\n",
       "</style>\n",
       "<table border=\"1\" class=\"dataframe\">\n",
       "  <thead>\n",
       "    <tr style=\"text-align: right;\">\n",
       "      <th></th>\n",
       "      <th>index</th>\n",
       "      <th>MLVerbatimId</th>\n",
       "      <th>AnswerText</th>\n",
       "      <th>AnswerLang</th>\n",
       "      <th>_seq_id</th>\n",
       "      <th>_tl_item_id</th>\n",
       "      <th>_n_sentences</th>\n",
       "      <th>_text_</th>\n",
       "      <th>theme</th>\n",
       "      <th>theme_prob</th>\n",
       "      <th>url_friendly_theme</th>\n",
       "      <th>_theme_</th>\n",
       "      <th>prob_avg_sentiment</th>\n",
       "      <th>prob_is_example</th>\n",
       "      <th>pred_is_example</th>\n",
       "    </tr>\n",
       "  </thead>\n",
       "  <tbody>\n",
       "  </tbody>\n",
       "</table>\n",
       "</div>"
      ],
      "text/plain": [
       "Empty DataFrame\n",
       "Columns: [index, MLVerbatimId, AnswerText, AnswerLang, _seq_id, _tl_item_id, _n_sentences, _text_, theme, theme_prob, url_friendly_theme, _theme_, prob_avg_sentiment, prob_is_example, pred_is_example]\n",
       "Index: []"
      ]
     },
     "execution_count": 104,
     "metadata": {},
     "output_type": "execute_result"
    }
   ],
   "source": [
    "preds_df[preds_df.pred_is_example == 1].head()"
   ]
  },
  {
   "cell_type": "code",
   "execution_count": 105,
   "id": "intellectual-productivity",
   "metadata": {},
   "outputs": [
    {
     "data": {
      "text/plain": [
       "0.041846033"
      ]
     },
     "execution_count": 105,
     "metadata": {},
     "output_type": "execute_result"
    }
   ],
   "source": [
    "preds_df.prob_is_example.max()"
   ]
  },
  {
   "cell_type": "code",
   "execution_count": 106,
   "id": "annual-appendix",
   "metadata": {},
   "outputs": [
    {
     "data": {
      "text/plain": [
       "(0.29000000000000004, 0.28, 0.28)"
      ]
     },
     "execution_count": 106,
     "metadata": {},
     "output_type": "execute_result"
    }
   ],
   "source": [
    "scores['is_example_f05']['threshold'], scores['is_example_f1']['threshold'], scores['is_example_f2']['threshold']"
   ]
  },
  {
   "cell_type": "code",
   "execution_count": null,
   "id": "collectible-child",
   "metadata": {},
   "outputs": [],
   "source": []
  }
 ],
 "metadata": {
  "kernelspec": {
   "display_name": "Python 3",
   "language": "python",
   "name": "python3"
  },
  "language_info": {
   "codemirror_mode": {
    "name": "ipython",
    "version": 3
   },
   "file_extension": ".py",
   "mimetype": "text/x-python",
   "name": "python",
   "nbconvert_exporter": "python",
   "pygments_lexer": "ipython3",
   "version": "3.8.8"
  },
  "varInspector": {
   "cols": {
    "lenName": 16,
    "lenType": 16,
    "lenVar": 40
   },
   "kernels_config": {
    "python": {
     "delete_cmd_postfix": "",
     "delete_cmd_prefix": "del ",
     "library": "var_list.py",
     "varRefreshCmd": "print(var_dic_list())"
    },
    "r": {
     "delete_cmd_postfix": ") ",
     "delete_cmd_prefix": "rm(",
     "library": "var_list.r",
     "varRefreshCmd": "cat(var_dic_list()) "
    }
   },
   "types_to_exclude": [
    "module",
    "function",
    "builtin_function_or_method",
    "instance",
    "_Feature"
   ],
   "window_display": false
  }
 },
 "nbformat": 4,
 "nbformat_minor": 5
}
