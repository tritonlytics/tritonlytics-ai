{
 "cells": [
  {
   "cell_type": "code",
   "execution_count": 1,
   "metadata": {},
   "outputs": [],
   "source": [
    "# default_exp inference"
   ]
  },
  {
   "cell_type": "code",
   "execution_count": 2,
   "metadata": {},
   "outputs": [],
   "source": [
    "#all_slow"
   ]
  },
  {
   "cell_type": "code",
   "execution_count": 3,
   "metadata": {},
   "outputs": [],
   "source": [
    "#hide\n",
    "%reload_ext autoreload\n",
    "%autoreload 2\n",
    "%matplotlib inline"
   ]
  },
  {
   "cell_type": "markdown",
   "metadata": {},
   "source": [
    "# inference\n",
    "\n",
    "> All inference related methods"
   ]
  },
  {
   "cell_type": "code",
   "execution_count": 4,
   "metadata": {},
   "outputs": [],
   "source": [
    "#export\n",
    "import datetime, warnings, gc\n",
    "from inspect import signature\n",
    "import sklearn.metrics as skm\n",
    "\n",
    "from fastai.text.all import *\n",
    "\n",
    "from tritonlytics_ai.utils import *\n",
    "from tritonlytics_ai.verbatims.core import *"
   ]
  },
  {
   "cell_type": "code",
   "execution_count": 5,
   "metadata": {},
   "outputs": [],
   "source": [
    "#hide\n",
    "import pdb\n",
    "\n",
    "from nbdev.showdoc import *\n",
    "from fastcore.test import *"
   ]
  },
  {
   "cell_type": "code",
   "execution_count": 6,
   "metadata": {},
   "outputs": [
    {
     "name": "stdout",
     "output_type": "stream",
     "text": [
      "Using pytorch 1.6.0\n",
      "Using fastai 2.0.16\n",
      "Using transformers 3.3.1\n"
     ]
    }
   ],
   "source": [
    "#hide\n",
    "from fastai import __version__ as fa_version\n",
    "from torch import __version__ as pt_version\n",
    "from transformers import __version__ as hft_version\n",
    "\n",
    "print(f'Using pytorch {pt_version}')\n",
    "print(f'Using fastai {fa_version}')\n",
    "print(f'Using transformers {hft_version}')"
   ]
  },
  {
   "cell_type": "code",
   "execution_count": 7,
   "metadata": {},
   "outputs": [
    {
     "name": "stdout",
     "output_type": "stream",
     "text": [
      "Using GPU #1: GeForce GTX 1080 Ti\n"
     ]
    }
   ],
   "source": [
    "#cuda\n",
    "torch.cuda.set_device(1)\n",
    "print(f'Using GPU #{torch.cuda.current_device()}: {torch.cuda.get_device_name()}')"
   ]
  },
  {
   "cell_type": "markdown",
   "metadata": {},
   "source": [
    "## Utility "
   ]
  },
  {
   "cell_type": "code",
   "execution_count": 8,
   "metadata": {},
   "outputs": [],
   "source": [
    "#export\n",
    "def concat_pool(raw_outputs):\n",
    "    last_rnn_layer = raw_outputs[:,-1,None] # (e.g. (bs,n_hid,emb_sz) => (bs,1,emb_sz)) \n",
    "    bsz = last_rnn_layer.shape[0] \n",
    "    \n",
    "    avg_pool = F.adaptive_avg_pool1d(last_rnn_layer.permute(0,2,1), 1).view(bsz, -1)\n",
    "    max_pool = F.adaptive_max_pool1d(last_rnn_layer.permute(0,2,1), 1).view(bsz, -1)\n",
    "    last_outp = last_rnn_layer[:,-1,:]\n",
    "\n",
    "    return torch.cat([last_outp, max_pool, avg_pool], 1)"
   ]
  },
  {
   "cell_type": "markdown",
   "metadata": {},
   "source": [
    "## What models should be run?"
   ]
  },
  {
   "cell_type": "code",
   "execution_count": 9,
   "metadata": {},
   "outputs": [],
   "source": [
    "f = json.loads((RAW_DATA_PATH/'verbatim-inference.json').read_text())"
   ]
  },
  {
   "cell_type": "code",
   "execution_count": 10,
   "metadata": {},
   "outputs": [
    {
     "data": {
      "text/html": [
       "<div>\n",
       "<style scoped>\n",
       "    .dataframe tbody tr th:only-of-type {\n",
       "        vertical-align: middle;\n",
       "    }\n",
       "\n",
       "    .dataframe tbody tr th {\n",
       "        vertical-align: top;\n",
       "    }\n",
       "\n",
       "    .dataframe thead th {\n",
       "        text-align: right;\n",
       "    }\n",
       "</style>\n",
       "<table border=\"1\" class=\"dataframe\">\n",
       "  <thead>\n",
       "    <tr style=\"text-align: right;\">\n",
       "      <th></th>\n",
       "      <th>model_run_id</th>\n",
       "      <th>survey_id</th>\n",
       "      <th>model_id</th>\n",
       "      <th>model_name</th>\n",
       "      <th>model_type_id</th>\n",
       "      <th>model_type_name</th>\n",
       "    </tr>\n",
       "  </thead>\n",
       "  <tbody>\n",
       "    <tr>\n",
       "      <th>0</th>\n",
       "      <td>124</td>\n",
       "      <td>396</td>\n",
       "      <td>5</td>\n",
       "      <td>20200511-ulmfit-verbatim-standard-themes-saw</td>\n",
       "      <td>4</td>\n",
       "      <td>verbatim-classification-saw-themes</td>\n",
       "    </tr>\n",
       "    <tr>\n",
       "      <th>1</th>\n",
       "      <td>125</td>\n",
       "      <td>396</td>\n",
       "      <td>4</td>\n",
       "      <td>20200511-ulmfit-verbatim-sent</td>\n",
       "      <td>2</td>\n",
       "      <td>verbatim-classification-sentiment</td>\n",
       "    </tr>\n",
       "  </tbody>\n",
       "</table>\n",
       "</div>"
      ],
      "text/plain": [
       "   model_run_id  survey_id  model_id  \\\n",
       "0           124        396         5   \n",
       "1           125        396         4   \n",
       "\n",
       "                                     model_name  model_type_id  \\\n",
       "0  20200511-ulmfit-verbatim-standard-themes-saw              4   \n",
       "1                 20200511-ulmfit-verbatim-sent              2   \n",
       "\n",
       "                      model_type_name  \n",
       "0  verbatim-classification-saw-themes  \n",
       "1   verbatim-classification-sentiment  "
      ]
     },
     "execution_count": 10,
     "metadata": {},
     "output_type": "execute_result"
    }
   ],
   "source": [
    "models_df = pd.DataFrame(f['models'])\n",
    "models_df.head()"
   ]
  },
  {
   "cell_type": "code",
   "execution_count": 11,
   "metadata": {
    "scrolled": true
   },
   "outputs": [
    {
     "name": "stdout",
     "output_type": "stream",
     "text": [
      "698\n"
     ]
    }
   ],
   "source": [
    "inf_df = pd.DataFrame(f['data'])\n",
    "print(len(inf_df));"
   ]
  },
  {
   "cell_type": "code",
   "execution_count": 12,
   "metadata": {},
   "outputs": [
    {
     "name": "stdout",
     "output_type": "stream",
     "text": [
      "cuda:1\n"
     ]
    }
   ],
   "source": [
    "yyyymmdd = datetime.today().strftime(\"%Y%m%d\")\n",
    "\n",
    "device = torch.device('cuda:1') if torch.cuda.is_available() else torch.device('cpu')\n",
    "print(device)"
   ]
  },
  {
   "cell_type": "markdown",
   "metadata": {},
   "source": [
    "## Sentiment"
   ]
  },
  {
   "cell_type": "code",
   "execution_count": 13,
   "metadata": {},
   "outputs": [
    {
     "name": "stdout",
     "output_type": "stream",
     "text": [
      "0\n",
      "(695, 90) torch.Size([695, 8]) 8\n"
     ]
    }
   ],
   "source": [
    "from tritonlytics_ai.verbatims.sentiment.training import get_sentiment_preds\n",
    "\n",
    "sent_df, inf_probs, inf_labels = get_sentiment_preds(inf_df, device=device)\n",
    "print(sent_df.shape, inf_probs.shape, len(inf_labels))"
   ]
  },
  {
   "cell_type": "markdown",
   "metadata": {},
   "source": [
    "## Standard Themes - S@W"
   ]
  },
  {
   "cell_type": "code",
   "execution_count": 14,
   "metadata": {
    "scrolled": true
   },
   "outputs": [
    {
     "name": "stdout",
     "output_type": "stream",
     "text": [
      "0\n",
      "(695, 124) torch.Size([695, 25]) 25\n"
     ]
    }
   ],
   "source": [
    "from tritonlytics_ai.verbatims.standard_themes_saw.training import get_standard_theme_preds as get_saw_theme_preds\n",
    "\n",
    "saw_themes_df, inf_probs, inf_labels = get_saw_theme_preds(inf_df, device=device)\n",
    "print(saw_themes_df.shape, inf_probs.shape, len(inf_labels))"
   ]
  },
  {
   "cell_type": "code",
   "execution_count": 15,
   "metadata": {},
   "outputs": [
    {
     "data": {
      "text/html": [
       "<div>\n",
       "<style scoped>\n",
       "    .dataframe tbody tr th:only-of-type {\n",
       "        vertical-align: middle;\n",
       "    }\n",
       "\n",
       "    .dataframe tbody tr th {\n",
       "        vertical-align: top;\n",
       "    }\n",
       "\n",
       "    .dataframe thead th {\n",
       "        text-align: right;\n",
       "    }\n",
       "</style>\n",
       "<table border=\"1\" class=\"dataframe\">\n",
       "  <thead>\n",
       "    <tr style=\"text-align: right;\">\n",
       "      <th></th>\n",
       "      <th>answer_text</th>\n",
       "      <th>pred_adequate_staffing</th>\n",
       "      <th>pred_advancement_and_training_opportunities</th>\n",
       "      <th>pred_appropriate_stress_work_assigned_equitably</th>\n",
       "      <th>pred_benefits</th>\n",
       "      <th>pred_better_ways_recognized_participate_in_decisions</th>\n",
       "      <th>pred_career_advancement</th>\n",
       "      <th>pred_committed_to_diversity</th>\n",
       "      <th>pred_communicates_essential_information</th>\n",
       "      <th>pred_ethical_conduct_perform_responsibilities_spirit_of_cooperation</th>\n",
       "      <th>...</th>\n",
       "      <th>pred_feel_valued_by_department</th>\n",
       "      <th>pred_flexibility_work_life_balance</th>\n",
       "      <th>pred_good_use_of_skills</th>\n",
       "      <th>pred_have_necessary_tools</th>\n",
       "      <th>pred_have_voice_within_my_institution_valued_member_of_my_institution</th>\n",
       "      <th>pred_internal_processes_effective</th>\n",
       "      <th>pred_parking_transportation</th>\n",
       "      <th>pred_salary_pay</th>\n",
       "      <th>pred_satisfied_with_diversity_progams</th>\n",
       "      <th>pred_supervisor_effectiveness_resolves_staff_issues</th>\n",
       "    </tr>\n",
       "  </thead>\n",
       "  <tbody>\n",
       "    <tr>\n",
       "      <th>0</th>\n",
       "      <td>I believe ANR leadership is completely disconnected from the work of campus-based specialists. When I am responding regarding \"my department\" in this survey it is my campus department I am evaluating, not an ANR department.</td>\n",
       "      <td>0</td>\n",
       "      <td>0</td>\n",
       "      <td>0</td>\n",
       "      <td>0</td>\n",
       "      <td>0</td>\n",
       "      <td>0</td>\n",
       "      <td>0</td>\n",
       "      <td>0</td>\n",
       "      <td>0</td>\n",
       "      <td>...</td>\n",
       "      <td>0</td>\n",
       "      <td>0</td>\n",
       "      <td>0</td>\n",
       "      <td>0</td>\n",
       "      <td>1</td>\n",
       "      <td>0</td>\n",
       "      <td>0</td>\n",
       "      <td>0</td>\n",
       "      <td>0</td>\n",
       "      <td>0</td>\n",
       "    </tr>\n",
       "    <tr>\n",
       "      <th>1</th>\n",
       "      <td>I'm a new employee.</td>\n",
       "      <td>0</td>\n",
       "      <td>0</td>\n",
       "      <td>0</td>\n",
       "      <td>0</td>\n",
       "      <td>0</td>\n",
       "      <td>0</td>\n",
       "      <td>0</td>\n",
       "      <td>0</td>\n",
       "      <td>0</td>\n",
       "      <td>...</td>\n",
       "      <td>0</td>\n",
       "      <td>0</td>\n",
       "      <td>0</td>\n",
       "      <td>0</td>\n",
       "      <td>0</td>\n",
       "      <td>0</td>\n",
       "      <td>0</td>\n",
       "      <td>0</td>\n",
       "      <td>0</td>\n",
       "      <td>0</td>\n",
       "    </tr>\n",
       "  </tbody>\n",
       "</table>\n",
       "<p>2 rows × 26 columns</p>\n",
       "</div>"
      ],
      "text/plain": [
       "                                                                                                                                                                                                                       answer_text  \\\n",
       "0  I believe ANR leadership is completely disconnected from the work of campus-based specialists. When I am responding regarding \"my department\" in this survey it is my campus department I am evaluating, not an ANR department.   \n",
       "1                                                                                                                                                                                                              I'm a new employee.   \n",
       "\n",
       "   pred_adequate_staffing  pred_advancement_and_training_opportunities  \\\n",
       "0                       0                                            0   \n",
       "1                       0                                            0   \n",
       "\n",
       "   pred_appropriate_stress_work_assigned_equitably  pred_benefits  \\\n",
       "0                                                0              0   \n",
       "1                                                0              0   \n",
       "\n",
       "   pred_better_ways_recognized_participate_in_decisions  \\\n",
       "0                                                     0   \n",
       "1                                                     0   \n",
       "\n",
       "   pred_career_advancement  pred_committed_to_diversity  \\\n",
       "0                        0                            0   \n",
       "1                        0                            0   \n",
       "\n",
       "   pred_communicates_essential_information  \\\n",
       "0                                        0   \n",
       "1                                        0   \n",
       "\n",
       "   pred_ethical_conduct_perform_responsibilities_spirit_of_cooperation  ...  \\\n",
       "0                                                                    0  ...   \n",
       "1                                                                    0  ...   \n",
       "\n",
       "   pred_feel_valued_by_department  pred_flexibility_work_life_balance  \\\n",
       "0                               0                                   0   \n",
       "1                               0                                   0   \n",
       "\n",
       "   pred_good_use_of_skills  pred_have_necessary_tools  \\\n",
       "0                        0                          0   \n",
       "1                        0                          0   \n",
       "\n",
       "   pred_have_voice_within_my_institution_valued_member_of_my_institution  \\\n",
       "0                                                                      1   \n",
       "1                                                                      0   \n",
       "\n",
       "   pred_internal_processes_effective  pred_parking_transportation  \\\n",
       "0                                  0                            0   \n",
       "1                                  0                            0   \n",
       "\n",
       "   pred_salary_pay  pred_satisfied_with_diversity_progams  \\\n",
       "0                0                                      0   \n",
       "1                0                                      0   \n",
       "\n",
       "   pred_supervisor_effectiveness_resolves_staff_issues  \n",
       "0                                                    0  \n",
       "1                                                    0  \n",
       "\n",
       "[2 rows x 26 columns]"
      ]
     },
     "execution_count": 15,
     "metadata": {},
     "output_type": "execute_result"
    }
   ],
   "source": [
    "pred_cols = [f'pred_{lbl}' for lbl in inf_labels]\n",
    "saw_themes_df[['answer_text']+pred_cols].head(2)"
   ]
  },
  {
   "cell_type": "markdown",
   "metadata": {},
   "source": [
    "## Standard Themes - CSS"
   ]
  },
  {
   "cell_type": "code",
   "execution_count": 16,
   "metadata": {},
   "outputs": [
    {
     "name": "stdout",
     "output_type": "stream",
     "text": [
      "0\n",
      "(695, 106) torch.Size([695, 16]) 16\n"
     ]
    }
   ],
   "source": [
    "from tritonlytics_ai.verbatims.standard_themes_css.training import get_standard_theme_preds as get_css_theme_preds\n",
    "\n",
    "css_themes_df, inf_probs, inf_labels = get_css_theme_preds(inf_df, device=device)\n",
    "print(css_themes_df.shape, inf_probs.shape, len(inf_labels))"
   ]
  },
  {
   "cell_type": "code",
   "execution_count": 17,
   "metadata": {},
   "outputs": [
    {
     "data": {
      "text/html": [
       "<div>\n",
       "<style scoped>\n",
       "    .dataframe tbody tr th:only-of-type {\n",
       "        vertical-align: middle;\n",
       "    }\n",
       "\n",
       "    .dataframe tbody tr th {\n",
       "        vertical-align: top;\n",
       "    }\n",
       "\n",
       "    .dataframe thead th {\n",
       "        text-align: right;\n",
       "    }\n",
       "</style>\n",
       "<table border=\"1\" class=\"dataframe\">\n",
       "  <thead>\n",
       "    <tr style=\"text-align: right;\">\n",
       "      <th></th>\n",
       "      <th>answer_text</th>\n",
       "      <th>pred_accessible_to_customers</th>\n",
       "      <th>pred_consistency_in_policies_information</th>\n",
       "      <th>pred_cost_fees</th>\n",
       "      <th>pred_courteous_professional_staff</th>\n",
       "      <th>pred_effective_communications</th>\n",
       "      <th>pred_effectively_uses_websites_online_documentation</th>\n",
       "      <th>pred_helpful_staff</th>\n",
       "      <th>pred_knowledgeable_staff</th>\n",
       "      <th>pred_moving_in_a_positive_direction</th>\n",
       "      <th>pred_overall_satisfaction</th>\n",
       "      <th>pred_process_improvement</th>\n",
       "      <th>pred_provides_effective_advice_guidance</th>\n",
       "      <th>pred_provides_training_on_processes_applications</th>\n",
       "      <th>pred_resolves_problems_effectively</th>\n",
       "      <th>pred_responds_to_requests_within_an_acceptable_time</th>\n",
       "      <th>pred_understands_my_needs_and_requirements</th>\n",
       "    </tr>\n",
       "  </thead>\n",
       "  <tbody>\n",
       "    <tr>\n",
       "      <th>0</th>\n",
       "      <td>I believe ANR leadership is completely disconnected from the work of campus-based specialists. When I am responding regarding \"my department\" in this survey it is my campus department I am evaluating, not an ANR department.</td>\n",
       "      <td>0</td>\n",
       "      <td>0</td>\n",
       "      <td>0</td>\n",
       "      <td>0</td>\n",
       "      <td>0</td>\n",
       "      <td>0</td>\n",
       "      <td>0</td>\n",
       "      <td>0</td>\n",
       "      <td>0</td>\n",
       "      <td>0</td>\n",
       "      <td>0</td>\n",
       "      <td>0</td>\n",
       "      <td>0</td>\n",
       "      <td>0</td>\n",
       "      <td>0</td>\n",
       "      <td>1</td>\n",
       "    </tr>\n",
       "    <tr>\n",
       "      <th>1</th>\n",
       "      <td>I'm a new employee.</td>\n",
       "      <td>0</td>\n",
       "      <td>0</td>\n",
       "      <td>0</td>\n",
       "      <td>0</td>\n",
       "      <td>0</td>\n",
       "      <td>0</td>\n",
       "      <td>0</td>\n",
       "      <td>0</td>\n",
       "      <td>0</td>\n",
       "      <td>0</td>\n",
       "      <td>0</td>\n",
       "      <td>0</td>\n",
       "      <td>0</td>\n",
       "      <td>0</td>\n",
       "      <td>0</td>\n",
       "      <td>0</td>\n",
       "    </tr>\n",
       "  </tbody>\n",
       "</table>\n",
       "</div>"
      ],
      "text/plain": [
       "                                                                                                                                                                                                                       answer_text  \\\n",
       "0  I believe ANR leadership is completely disconnected from the work of campus-based specialists. When I am responding regarding \"my department\" in this survey it is my campus department I am evaluating, not an ANR department.   \n",
       "1                                                                                                                                                                                                              I'm a new employee.   \n",
       "\n",
       "   pred_accessible_to_customers  pred_consistency_in_policies_information  \\\n",
       "0                             0                                         0   \n",
       "1                             0                                         0   \n",
       "\n",
       "   pred_cost_fees  pred_courteous_professional_staff  \\\n",
       "0               0                                  0   \n",
       "1               0                                  0   \n",
       "\n",
       "   pred_effective_communications  \\\n",
       "0                              0   \n",
       "1                              0   \n",
       "\n",
       "   pred_effectively_uses_websites_online_documentation  pred_helpful_staff  \\\n",
       "0                                                    0                   0   \n",
       "1                                                    0                   0   \n",
       "\n",
       "   pred_knowledgeable_staff  pred_moving_in_a_positive_direction  \\\n",
       "0                         0                                    0   \n",
       "1                         0                                    0   \n",
       "\n",
       "   pred_overall_satisfaction  pred_process_improvement  \\\n",
       "0                          0                         0   \n",
       "1                          0                         0   \n",
       "\n",
       "   pred_provides_effective_advice_guidance  \\\n",
       "0                                        0   \n",
       "1                                        0   \n",
       "\n",
       "   pred_provides_training_on_processes_applications  \\\n",
       "0                                                 0   \n",
       "1                                                 0   \n",
       "\n",
       "   pred_resolves_problems_effectively  \\\n",
       "0                                   0   \n",
       "1                                   0   \n",
       "\n",
       "   pred_responds_to_requests_within_an_acceptable_time  \\\n",
       "0                                                    0   \n",
       "1                                                    0   \n",
       "\n",
       "   pred_understands_my_needs_and_requirements  \n",
       "0                                           1  \n",
       "1                                           0  "
      ]
     },
     "execution_count": 17,
     "metadata": {},
     "output_type": "execute_result"
    }
   ],
   "source": [
    "pred_cols = [f'pred_{lbl}' for lbl in inf_labels]\n",
    "css_themes_df[['answer_text']+pred_cols].head(2)"
   ]
  },
  {
   "cell_type": "markdown",
   "metadata": {},
   "source": [
    "## Standard Themes - Meta"
   ]
  },
  {
   "cell_type": "code",
   "execution_count": 18,
   "metadata": {},
   "outputs": [
    {
     "name": "stdout",
     "output_type": "stream",
     "text": [
      "0\n",
      "(843, 55) torch.Size([843, 1]) torch.Size([843, 2]) 2\n"
     ]
    }
   ],
   "source": [
    "from tritonlytics_ai.verbatims.standard_themes_meta.training import get_standard_theme_meta_preds, build_meta_inf_df\n",
    "from tritonlytics_ai.verbatims.standard_themes_meta.training import sentiment_mse, is_example_acc\n",
    "from tritonlytics_ai.verbatims.standard_themes_meta.training import Meta_MM, Meta_MM_HF_BaseModelCallback\n",
    "\n",
    "meta_inf_df = build_meta_inf_df(saw_themes_df, fixed_cols=list(TASK_LM_DTYPES_SC.keys()))\n",
    "meta_df, inf_probs_sent, inf_probs_is_example, inf_labels = get_standard_theme_meta_preds(meta_inf_df, device=device)\n",
    "print(meta_df.shape, inf_probs_sent.shape, inf_probs_is_example.shape, len(inf_labels))"
   ]
  },
  {
   "cell_type": "code",
   "execution_count": 19,
   "metadata": {},
   "outputs": [
    {
     "data": {
      "text/html": [
       "<div>\n",
       "<style scoped>\n",
       "    .dataframe tbody tr th:only-of-type {\n",
       "        vertical-align: middle;\n",
       "    }\n",
       "\n",
       "    .dataframe tbody tr th {\n",
       "        vertical-align: top;\n",
       "    }\n",
       "\n",
       "    .dataframe thead th {\n",
       "        text-align: right;\n",
       "    }\n",
       "</style>\n",
       "<table border=\"1\" class=\"dataframe\">\n",
       "  <thead>\n",
       "    <tr style=\"text-align: right;\">\n",
       "      <th></th>\n",
       "      <th>theme</th>\n",
       "      <th>answer_text</th>\n",
       "      <th>prob_avg_sentiment</th>\n",
       "      <th>pred_is_example</th>\n",
       "    </tr>\n",
       "  </thead>\n",
       "  <tbody>\n",
       "    <tr>\n",
       "      <th>0</th>\n",
       "      <td>Adequate Staffing</td>\n",
       "      <td>While our department has a good work environment as a whole there are several area's that are a major issues.\\r\\n1) We have zero leadership, we have no direct managers over us. While we are able to manage our own work, we have very little real direction or support and it directly ties into other issues here.\\r\\n2) There is a Lone Ranger in our department. This employee has control over the servers without oversight and without transparency. This person has taken advantage of their role and privileged access to assert authority over others when this person has none. There is no collaboratio...</td>\n",
       "      <td>2.494204</td>\n",
       "      <td>0</td>\n",
       "    </tr>\n",
       "    <tr>\n",
       "      <th>1</th>\n",
       "      <td>Adequate Staffing</td>\n",
       "      <td>In my department, I and nearly all of us are 100% on \"soft\" money.  Further, we have very little support staff. The lack of job security is highly problematic both for planning ahead for work strategies as well as for personal stress level.  The lack of support hinders my ability to do my best and to provide the best quality output.</td>\n",
       "      <td>2.513639</td>\n",
       "      <td>0</td>\n",
       "    </tr>\n",
       "    <tr>\n",
       "      <th>2</th>\n",
       "      <td>Adequate Staffing</td>\n",
       "      <td>There is an overall situation of understaffed and overwhelmed. Having to oversee multiple counties with no staff/help in one county is detrimental.</td>\n",
       "      <td>2.317858</td>\n",
       "      <td>0</td>\n",
       "    </tr>\n",
       "    <tr>\n",
       "      <th>3</th>\n",
       "      <td>Adequate Staffing</td>\n",
       "      <td>The biggest issue I see within UC ANR is inequitable pay and insufficient staffing that often results in inequitable distribution of work throughout my unit.</td>\n",
       "      <td>2.087559</td>\n",
       "      <td>0</td>\n",
       "    </tr>\n",
       "    <tr>\n",
       "      <th>4</th>\n",
       "      <td>Adequate Staffing</td>\n",
       "      <td>I am increasingly discouraged by leadership's unwillingness to address the problem of asking academics to work outside their position description and training. Specifically, I find it incredibly frustrating to be required to cover 4-H programs to the detriment of my own clientele. So frustrated, in fact, that I've found myself considering other job opportunities, despite the fact that when I was hired, I'd hoped I'd retire in this job.\\r\\n\\r\\nLeadership also has created an \"us\" versus \"you all\" environment. I have not observed any of our leadership taking responsibility for problems or cha...</td>\n",
       "      <td>2.318836</td>\n",
       "      <td>0</td>\n",
       "    </tr>\n",
       "  </tbody>\n",
       "</table>\n",
       "</div>"
      ],
      "text/plain": [
       "               theme  \\\n",
       "0  Adequate Staffing   \n",
       "1  Adequate Staffing   \n",
       "2  Adequate Staffing   \n",
       "3  Adequate Staffing   \n",
       "4  Adequate Staffing   \n",
       "\n",
       "                                                                                                                                                                                                                                                                                                                                                                                                                                                                                                                                                                                                               answer_text  \\\n",
       "0  While our department has a good work environment as a whole there are several area's that are a major issues.\\r\\n1) We have zero leadership, we have no direct managers over us. While we are able to manage our own work, we have very little real direction or support and it directly ties into other issues here.\\r\\n2) There is a Lone Ranger in our department. This employee has control over the servers without oversight and without transparency. This person has taken advantage of their role and privileged access to assert authority over others when this person has none. There is no collaboratio...   \n",
       "1                                                                                                                                                                                                                                                                           In my department, I and nearly all of us are 100% on \"soft\" money.  Further, we have very little support staff. The lack of job security is highly problematic both for planning ahead for work strategies as well as for personal stress level.  The lack of support hinders my ability to do my best and to provide the best quality output.   \n",
       "2                                                                                                                                                                                                                                                                                                                                                                                                                                                                      There is an overall situation of understaffed and overwhelmed. Having to oversee multiple counties with no staff/help in one county is detrimental.   \n",
       "3                                                                                                                                                                                                                                                                                                                                                                                                                                                            The biggest issue I see within UC ANR is inequitable pay and insufficient staffing that often results in inequitable distribution of work throughout my unit.   \n",
       "4  I am increasingly discouraged by leadership's unwillingness to address the problem of asking academics to work outside their position description and training. Specifically, I find it incredibly frustrating to be required to cover 4-H programs to the detriment of my own clientele. So frustrated, in fact, that I've found myself considering other job opportunities, despite the fact that when I was hired, I'd hoped I'd retire in this job.\\r\\n\\r\\nLeadership also has created an \"us\" versus \"you all\" environment. I have not observed any of our leadership taking responsibility for problems or cha...   \n",
       "\n",
       "   prob_avg_sentiment  pred_is_example  \n",
       "0            2.494204                0  \n",
       "1            2.513639                0  \n",
       "2            2.317858                0  \n",
       "3            2.087559                0  \n",
       "4            2.318836                0  "
      ]
     },
     "execution_count": 19,
     "metadata": {},
     "output_type": "execute_result"
    }
   ],
   "source": [
    "meta_df[['theme', 'answer_text', 'prob_avg_sentiment', 'pred_is_example']].head()"
   ]
  },
  {
   "cell_type": "markdown",
   "metadata": {},
   "source": [
    "## Cleanup"
   ]
  },
  {
   "cell_type": "code",
   "execution_count": 20,
   "metadata": {},
   "outputs": [
    {
     "name": "stdout",
     "output_type": "stream",
     "text": [
      "Converted 00_utils.ipynb.\n",
      "Converted 02a_verbatims-core.ipynb.\n",
      "Converted 02b_verbatims-sentiment.ipynb.\n",
      "Converted 02c_verbatims-standard-themes-saw-training.ipynb.\n",
      "Converted 02d_verbatims-standard-themes-css-training.ipynb.\n",
      "Converted 02e_verbatims-standard-themes-meta-training.ipynb.\n",
      "Converted 99_verbatims-inference.ipynb.\n",
      "Converted index.ipynb.\n"
     ]
    }
   ],
   "source": [
    "#hide\n",
    "from nbdev.export import notebook2script\n",
    "notebook2script()"
   ]
  },
  {
   "cell_type": "code",
   "execution_count": null,
   "metadata": {},
   "outputs": [],
   "source": []
  }
 ],
 "metadata": {
  "kernelspec": {
   "display_name": "Python 3",
   "language": "python",
   "name": "python3"
  },
  "language_info": {
   "codemirror_mode": {
    "name": "ipython",
    "version": 3
   },
   "file_extension": ".py",
   "mimetype": "text/x-python",
   "name": "python",
   "nbconvert_exporter": "python",
   "pygments_lexer": "ipython3",
   "version": "3.7.6"
  },
  "varInspector": {
   "cols": {
    "lenName": 16,
    "lenType": 16,
    "lenVar": 40
   },
   "kernels_config": {
    "python": {
     "delete_cmd_postfix": "",
     "delete_cmd_prefix": "del ",
     "library": "var_list.py",
     "varRefreshCmd": "print(var_dic_list())"
    },
    "r": {
     "delete_cmd_postfix": ") ",
     "delete_cmd_prefix": "rm(",
     "library": "var_list.r",
     "varRefreshCmd": "cat(var_dic_list()) "
    }
   },
   "types_to_exclude": [
    "module",
    "function",
    "builtin_function_or_method",
    "instance",
    "_Feature"
   ],
   "window_display": false
  }
 },
 "nbformat": 4,
 "nbformat_minor": 4
}
