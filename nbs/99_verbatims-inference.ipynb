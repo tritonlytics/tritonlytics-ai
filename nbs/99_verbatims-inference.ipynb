{
 "cells": [
  {
   "cell_type": "code",
   "execution_count": 1,
   "metadata": {},
   "outputs": [],
   "source": [
    "# default_exp inference"
   ]
  },
  {
   "cell_type": "code",
   "execution_count": 2,
   "metadata": {},
   "outputs": [],
   "source": [
    "#all_slow"
   ]
  },
  {
   "cell_type": "code",
   "execution_count": 3,
   "metadata": {},
   "outputs": [],
   "source": [
    "#hide\n",
    "%reload_ext autoreload\n",
    "%autoreload 2\n",
    "%matplotlib inline"
   ]
  },
  {
   "cell_type": "markdown",
   "metadata": {},
   "source": [
    "# inference\n",
    "\n",
    "> All inference related methods"
   ]
  },
  {
   "cell_type": "code",
   "execution_count": 4,
   "metadata": {},
   "outputs": [],
   "source": [
    "#export\n",
    "import datetime, warnings, gc\n",
    "from inspect import signature\n",
    "import sklearn.metrics as skm\n",
    "\n",
    "from fastai.text.all import *\n",
    "\n",
    "from tritonlytics_ai.utils import *\n",
    "from tritonlytics_ai.verbatims.core import *"
   ]
  },
  {
   "cell_type": "code",
   "execution_count": 5,
   "metadata": {},
   "outputs": [],
   "source": [
    "#hide\n",
    "import pdb\n",
    "\n",
    "from nbdev.showdoc import *\n",
    "from fastcore.test import *"
   ]
  },
  {
   "cell_type": "code",
   "execution_count": 6,
   "metadata": {},
   "outputs": [
    {
     "name": "stdout",
     "output_type": "stream",
     "text": [
      "Using pytorch 1.6.0\n",
      "Using fastai 2.0.16\n",
      "Using transformers 3.3.1\n"
     ]
    }
   ],
   "source": [
    "#hide\n",
    "from fastai import __version__ as fa_version\n",
    "from torch import __version__ as pt_version\n",
    "from transformers import __version__ as hft_version\n",
    "\n",
    "print(f'Using pytorch {pt_version}')\n",
    "print(f'Using fastai {fa_version}')\n",
    "print(f'Using transformers {hft_version}')"
   ]
  },
  {
   "cell_type": "code",
   "execution_count": 7,
   "metadata": {},
   "outputs": [
    {
     "name": "stdout",
     "output_type": "stream",
     "text": [
      "Using GPU #1: GeForce GTX 1080 Ti\n"
     ]
    }
   ],
   "source": [
    "#cuda\n",
    "torch.cuda.set_device(1)\n",
    "print(f'Using GPU #{torch.cuda.current_device()}: {torch.cuda.get_device_name()}')"
   ]
  },
  {
   "cell_type": "markdown",
   "metadata": {},
   "source": [
    "## Utility "
   ]
  },
  {
   "cell_type": "code",
   "execution_count": 8,
   "metadata": {},
   "outputs": [],
   "source": [
    "#export\n",
    "def concat_pool(raw_outputs):\n",
    "    last_rnn_layer = raw_outputs[:,-1,None] # (e.g. (bs,n_hid,emb_sz) => (bs,1,emb_sz)) \n",
    "    bsz = last_rnn_layer.shape[0] \n",
    "    \n",
    "    avg_pool = F.adaptive_avg_pool1d(last_rnn_layer.permute(0,2,1), 1).view(bsz, -1)\n",
    "    max_pool = F.adaptive_max_pool1d(last_rnn_layer.permute(0,2,1), 1).view(bsz, -1)\n",
    "    last_outp = last_rnn_layer[:,-1,:]\n",
    "\n",
    "    return torch.cat([last_outp, max_pool, avg_pool], 1)"
   ]
  },
  {
   "cell_type": "markdown",
   "metadata": {},
   "source": [
    "## What models should be run?"
   ]
  },
  {
   "cell_type": "code",
   "execution_count": 9,
   "metadata": {},
   "outputs": [],
   "source": [
    "f = json.loads((RAW_DATA_PATH/'verbatim-inference.json').read_text())"
   ]
  },
  {
   "cell_type": "code",
   "execution_count": 10,
   "metadata": {},
   "outputs": [
    {
     "data": {
      "text/html": [
       "<div>\n",
       "<style scoped>\n",
       "    .dataframe tbody tr th:only-of-type {\n",
       "        vertical-align: middle;\n",
       "    }\n",
       "\n",
       "    .dataframe tbody tr th {\n",
       "        vertical-align: top;\n",
       "    }\n",
       "\n",
       "    .dataframe thead th {\n",
       "        text-align: right;\n",
       "    }\n",
       "</style>\n",
       "<table border=\"1\" class=\"dataframe\">\n",
       "  <thead>\n",
       "    <tr style=\"text-align: right;\">\n",
       "      <th></th>\n",
       "      <th>model_run_id</th>\n",
       "      <th>survey_id</th>\n",
       "      <th>model_id</th>\n",
       "      <th>model_name</th>\n",
       "      <th>model_type_id</th>\n",
       "      <th>model_type_name</th>\n",
       "    </tr>\n",
       "  </thead>\n",
       "  <tbody>\n",
       "    <tr>\n",
       "      <th>0</th>\n",
       "      <td>126</td>\n",
       "      <td>401</td>\n",
       "      <td>6</td>\n",
       "      <td>20201023_verbatim_sent_multilabel_hf_export.pkl</td>\n",
       "      <td>2</td>\n",
       "      <td>verbatim-classification-sentiment</td>\n",
       "    </tr>\n",
       "    <tr>\n",
       "      <th>1</th>\n",
       "      <td>127</td>\n",
       "      <td>401</td>\n",
       "      <td>8</td>\n",
       "      <td>20201023_verbatim_standard_theme_saw_multilabel_hf_export.pkl</td>\n",
       "      <td>4</td>\n",
       "      <td>verbatim-classification-saw-themes</td>\n",
       "    </tr>\n",
       "  </tbody>\n",
       "</table>\n",
       "</div>"
      ],
      "text/plain": [
       "   model_run_id  survey_id  model_id  \\\n",
       "0           126        401         6   \n",
       "1           127        401         8   \n",
       "\n",
       "                                                      model_name  \\\n",
       "0                20201023_verbatim_sent_multilabel_hf_export.pkl   \n",
       "1  20201023_verbatim_standard_theme_saw_multilabel_hf_export.pkl   \n",
       "\n",
       "   model_type_id                     model_type_name  \n",
       "0              2   verbatim-classification-sentiment  \n",
       "1              4  verbatim-classification-saw-themes  "
      ]
     },
     "execution_count": 10,
     "metadata": {},
     "output_type": "execute_result"
    }
   ],
   "source": [
    "models_df = pd.DataFrame(f['models'])\n",
    "models_df.head()"
   ]
  },
  {
   "cell_type": "code",
   "execution_count": 11,
   "metadata": {
    "scrolled": true
   },
   "outputs": [
    {
     "name": "stdout",
     "output_type": "stream",
     "text": [
      "7610\n"
     ]
    }
   ],
   "source": [
    "inf_df = pd.DataFrame(f['data'])\n",
    "print(len(inf_df));"
   ]
  },
  {
   "cell_type": "code",
   "execution_count": 12,
   "metadata": {},
   "outputs": [
    {
     "name": "stdout",
     "output_type": "stream",
     "text": [
      "cuda:1\n"
     ]
    }
   ],
   "source": [
    "yyyymmdd = datetime.today().strftime(\"%Y%m%d\")\n",
    "\n",
    "device = torch.device('cuda:1') if torch.cuda.is_available() else torch.device('cpu')\n",
    "print(device)"
   ]
  },
  {
   "cell_type": "markdown",
   "metadata": {
    "heading_collapsed": true
   },
   "source": [
    "## Sentiment"
   ]
  },
  {
   "cell_type": "code",
   "execution_count": 13,
   "metadata": {
    "hidden": true
   },
   "outputs": [
    {
     "name": "stdout",
     "output_type": "stream",
     "text": [
      "0\n",
      "(7482, 90) torch.Size([7482, 8]) 8\n"
     ]
    }
   ],
   "source": [
    "from tritonlytics_ai.verbatims.sentiment.training import get_sentiment_preds\n",
    "\n",
    "sent_df, inf_probs, inf_labels = get_sentiment_preds(inf_df, device=device, yyyymmdd=20201023)\n",
    "print(sent_df.shape, inf_probs.shape, len(inf_labels))"
   ]
  },
  {
   "cell_type": "markdown",
   "metadata": {
    "heading_collapsed": true
   },
   "source": [
    "## Standard Themes - S@W"
   ]
  },
  {
   "cell_type": "code",
   "execution_count": 14,
   "metadata": {
    "hidden": true,
    "scrolled": true
   },
   "outputs": [
    {
     "name": "stdout",
     "output_type": "stream",
     "text": [
      "0\n",
      "(7482, 124) torch.Size([7482, 25]) 25\n"
     ]
    }
   ],
   "source": [
    "from tritonlytics_ai.verbatims.standard_themes_saw.training import get_standard_theme_preds as get_saw_theme_preds\n",
    "\n",
    "saw_themes_df, inf_probs, inf_labels = get_saw_theme_preds(inf_df, device=device, yyyymmdd=20201023)\n",
    "print(saw_themes_df.shape, inf_probs.shape, len(inf_labels))"
   ]
  },
  {
   "cell_type": "code",
   "execution_count": 15,
   "metadata": {
    "hidden": true
   },
   "outputs": [
    {
     "data": {
      "text/html": [
       "<div>\n",
       "<style scoped>\n",
       "    .dataframe tbody tr th:only-of-type {\n",
       "        vertical-align: middle;\n",
       "    }\n",
       "\n",
       "    .dataframe tbody tr th {\n",
       "        vertical-align: top;\n",
       "    }\n",
       "\n",
       "    .dataframe thead th {\n",
       "        text-align: right;\n",
       "    }\n",
       "</style>\n",
       "<table border=\"1\" class=\"dataframe\">\n",
       "  <thead>\n",
       "    <tr style=\"text-align: right;\">\n",
       "      <th></th>\n",
       "      <th>answer_text</th>\n",
       "      <th>pred_adequate_staffing</th>\n",
       "      <th>pred_advancement_and_training_opportunities</th>\n",
       "      <th>pred_appropriate_stress_work_assigned_equitably</th>\n",
       "      <th>pred_benefits</th>\n",
       "      <th>pred_better_ways_recognized_participate_in_decisions</th>\n",
       "      <th>pred_career_advancement</th>\n",
       "      <th>pred_committed_to_diversity</th>\n",
       "      <th>pred_communicates_essential_information</th>\n",
       "      <th>pred_ethical_conduct_perform_responsibilities_spirit_of_cooperation</th>\n",
       "      <th>...</th>\n",
       "      <th>pred_feel_valued_by_department</th>\n",
       "      <th>pred_flexibility_work_life_balance</th>\n",
       "      <th>pred_good_use_of_skills</th>\n",
       "      <th>pred_have_necessary_tools</th>\n",
       "      <th>pred_have_voice_within_my_institution_valued_member_of_my_institution</th>\n",
       "      <th>pred_internal_processes_effective</th>\n",
       "      <th>pred_parking_transportation</th>\n",
       "      <th>pred_salary_pay</th>\n",
       "      <th>pred_satisfied_with_diversity_progams</th>\n",
       "      <th>pred_supervisor_effectiveness_resolves_staff_issues</th>\n",
       "    </tr>\n",
       "  </thead>\n",
       "  <tbody>\n",
       "    <tr>\n",
       "      <th>0</th>\n",
       "      <td>I appreciate the work environment that UC San Diego provides.  I find that the leadership of my department, and the leadership throughout the University, is exceptional and creates a great workplace and a place that I excited to finish my career.  I feel like my efforts are well recognized and meaningful and that I am making a difference.</td>\n",
       "      <td>0</td>\n",
       "      <td>0</td>\n",
       "      <td>0</td>\n",
       "      <td>0</td>\n",
       "      <td>0</td>\n",
       "      <td>0</td>\n",
       "      <td>0</td>\n",
       "      <td>0</td>\n",
       "      <td>0</td>\n",
       "      <td>...</td>\n",
       "      <td>1</td>\n",
       "      <td>0</td>\n",
       "      <td>0</td>\n",
       "      <td>0</td>\n",
       "      <td>0</td>\n",
       "      <td>0</td>\n",
       "      <td>0</td>\n",
       "      <td>0</td>\n",
       "      <td>0</td>\n",
       "      <td>0</td>\n",
       "    </tr>\n",
       "    <tr>\n",
       "      <th>1</th>\n",
       "      <td>Some of the few negatives that I have would be the reaction of campus clients towards the ESR changes. Many of them have acted spoiled and expect my department to answer all of their questions immediately without first attempting to find the solution to the problem themselves or consulting Blink/Knowledge Base Articles. Some campus clients have been over the top in their complaints and seem to only want to complain. Others have been disrespectful when interacting with me.\\r\\n\\r\\nThe other issue is the compensation - the salary that I am receiving, while ok for a new hire, is barely enough ...</td>\n",
       "      <td>0</td>\n",
       "      <td>0</td>\n",
       "      <td>0</td>\n",
       "      <td>0</td>\n",
       "      <td>0</td>\n",
       "      <td>0</td>\n",
       "      <td>0</td>\n",
       "      <td>0</td>\n",
       "      <td>0</td>\n",
       "      <td>...</td>\n",
       "      <td>0</td>\n",
       "      <td>0</td>\n",
       "      <td>0</td>\n",
       "      <td>0</td>\n",
       "      <td>0</td>\n",
       "      <td>0</td>\n",
       "      <td>0</td>\n",
       "      <td>1</td>\n",
       "      <td>0</td>\n",
       "      <td>0</td>\n",
       "    </tr>\n",
       "  </tbody>\n",
       "</table>\n",
       "<p>2 rows × 26 columns</p>\n",
       "</div>"
      ],
      "text/plain": [
       "                                                                                                                                                                                                                                                                                                                                                                                                                                                                                                                                                                                                               answer_text  \\\n",
       "0                                                                                                                                                                                                                                                                     I appreciate the work environment that UC San Diego provides.  I find that the leadership of my department, and the leadership throughout the University, is exceptional and creates a great workplace and a place that I excited to finish my career.  I feel like my efforts are well recognized and meaningful and that I am making a difference.   \n",
       "1  Some of the few negatives that I have would be the reaction of campus clients towards the ESR changes. Many of them have acted spoiled and expect my department to answer all of their questions immediately without first attempting to find the solution to the problem themselves or consulting Blink/Knowledge Base Articles. Some campus clients have been over the top in their complaints and seem to only want to complain. Others have been disrespectful when interacting with me.\\r\\n\\r\\nThe other issue is the compensation - the salary that I am receiving, while ok for a new hire, is barely enough ...   \n",
       "\n",
       "   pred_adequate_staffing  pred_advancement_and_training_opportunities  \\\n",
       "0                       0                                            0   \n",
       "1                       0                                            0   \n",
       "\n",
       "   pred_appropriate_stress_work_assigned_equitably  pred_benefits  \\\n",
       "0                                                0              0   \n",
       "1                                                0              0   \n",
       "\n",
       "   pred_better_ways_recognized_participate_in_decisions  \\\n",
       "0                                                     0   \n",
       "1                                                     0   \n",
       "\n",
       "   pred_career_advancement  pred_committed_to_diversity  \\\n",
       "0                        0                            0   \n",
       "1                        0                            0   \n",
       "\n",
       "   pred_communicates_essential_information  \\\n",
       "0                                        0   \n",
       "1                                        0   \n",
       "\n",
       "   pred_ethical_conduct_perform_responsibilities_spirit_of_cooperation  ...  \\\n",
       "0                                                                    0  ...   \n",
       "1                                                                    0  ...   \n",
       "\n",
       "   pred_feel_valued_by_department  pred_flexibility_work_life_balance  \\\n",
       "0                               1                                   0   \n",
       "1                               0                                   0   \n",
       "\n",
       "   pred_good_use_of_skills  pred_have_necessary_tools  \\\n",
       "0                        0                          0   \n",
       "1                        0                          0   \n",
       "\n",
       "   pred_have_voice_within_my_institution_valued_member_of_my_institution  \\\n",
       "0                                                                      0   \n",
       "1                                                                      0   \n",
       "\n",
       "   pred_internal_processes_effective  pred_parking_transportation  \\\n",
       "0                                  0                            0   \n",
       "1                                  0                            0   \n",
       "\n",
       "   pred_salary_pay  pred_satisfied_with_diversity_progams  \\\n",
       "0                0                                      0   \n",
       "1                1                                      0   \n",
       "\n",
       "   pred_supervisor_effectiveness_resolves_staff_issues  \n",
       "0                                                    0  \n",
       "1                                                    0  \n",
       "\n",
       "[2 rows x 26 columns]"
      ]
     },
     "execution_count": 15,
     "metadata": {},
     "output_type": "execute_result"
    }
   ],
   "source": [
    "pred_cols = [f'pred_{lbl}' for lbl in inf_labels]\n",
    "saw_themes_df[['answer_text']+pred_cols].head(2)"
   ]
  },
  {
   "cell_type": "markdown",
   "metadata": {
    "heading_collapsed": true
   },
   "source": [
    "## Standard Themes - CSS"
   ]
  },
  {
   "cell_type": "code",
   "execution_count": 16,
   "metadata": {
    "hidden": true
   },
   "outputs": [
    {
     "name": "stdout",
     "output_type": "stream",
     "text": [
      "0\n",
      "(7482, 106) torch.Size([7482, 16]) 16\n"
     ]
    }
   ],
   "source": [
    "from tritonlytics_ai.verbatims.standard_themes_css.training import get_standard_theme_preds as get_css_theme_preds\n",
    "\n",
    "css_themes_df, inf_probs, inf_labels = get_css_theme_preds(inf_df, device=device, yyyymmdd=20201024)\n",
    "print(css_themes_df.shape, inf_probs.shape, len(inf_labels))"
   ]
  },
  {
   "cell_type": "code",
   "execution_count": 17,
   "metadata": {
    "hidden": true
   },
   "outputs": [
    {
     "data": {
      "text/html": [
       "<div>\n",
       "<style scoped>\n",
       "    .dataframe tbody tr th:only-of-type {\n",
       "        vertical-align: middle;\n",
       "    }\n",
       "\n",
       "    .dataframe tbody tr th {\n",
       "        vertical-align: top;\n",
       "    }\n",
       "\n",
       "    .dataframe thead th {\n",
       "        text-align: right;\n",
       "    }\n",
       "</style>\n",
       "<table border=\"1\" class=\"dataframe\">\n",
       "  <thead>\n",
       "    <tr style=\"text-align: right;\">\n",
       "      <th></th>\n",
       "      <th>answer_text</th>\n",
       "      <th>pred_accessible_to_customers</th>\n",
       "      <th>pred_consistency_in_policies_information</th>\n",
       "      <th>pred_cost_fees</th>\n",
       "      <th>pred_courteous_professional_staff</th>\n",
       "      <th>pred_effective_communications</th>\n",
       "      <th>pred_effectively_uses_websites_online_documentation</th>\n",
       "      <th>pred_helpful_staff</th>\n",
       "      <th>pred_knowledgeable_staff</th>\n",
       "      <th>pred_moving_in_a_positive_direction</th>\n",
       "      <th>pred_overall_satisfaction</th>\n",
       "      <th>pred_process_improvement</th>\n",
       "      <th>pred_provides_effective_advice_guidance</th>\n",
       "      <th>pred_provides_training_on_processes_applications</th>\n",
       "      <th>pred_resolves_problems_effectively</th>\n",
       "      <th>pred_responds_to_requests_within_an_acceptable_time</th>\n",
       "      <th>pred_understands_my_needs_and_requirements</th>\n",
       "    </tr>\n",
       "  </thead>\n",
       "  <tbody>\n",
       "    <tr>\n",
       "      <th>0</th>\n",
       "      <td>I appreciate the work environment that UC San Diego provides.  I find that the leadership of my department, and the leadership throughout the University, is exceptional and creates a great workplace and a place that I excited to finish my career.  I feel like my efforts are well recognized and meaningful and that I am making a difference.</td>\n",
       "      <td>0</td>\n",
       "      <td>0</td>\n",
       "      <td>0</td>\n",
       "      <td>0</td>\n",
       "      <td>0</td>\n",
       "      <td>0</td>\n",
       "      <td>0</td>\n",
       "      <td>0</td>\n",
       "      <td>0</td>\n",
       "      <td>0</td>\n",
       "      <td>0</td>\n",
       "      <td>0</td>\n",
       "      <td>0</td>\n",
       "      <td>0</td>\n",
       "      <td>0</td>\n",
       "      <td>0</td>\n",
       "    </tr>\n",
       "    <tr>\n",
       "      <th>1</th>\n",
       "      <td>Some of the few negatives that I have would be the reaction of campus clients towards the ESR changes. Many of them have acted spoiled and expect my department to answer all of their questions immediately without first attempting to find the solution to the problem themselves or consulting Blink/Knowledge Base Articles. Some campus clients have been over the top in their complaints and seem to only want to complain. Others have been disrespectful when interacting with me.\\r\\n\\r\\nThe other issue is the compensation - the salary that I am receiving, while ok for a new hire, is barely enough ...</td>\n",
       "      <td>0</td>\n",
       "      <td>0</td>\n",
       "      <td>0</td>\n",
       "      <td>0</td>\n",
       "      <td>0</td>\n",
       "      <td>0</td>\n",
       "      <td>0</td>\n",
       "      <td>0</td>\n",
       "      <td>0</td>\n",
       "      <td>0</td>\n",
       "      <td>0</td>\n",
       "      <td>0</td>\n",
       "      <td>0</td>\n",
       "      <td>0</td>\n",
       "      <td>0</td>\n",
       "      <td>0</td>\n",
       "    </tr>\n",
       "  </tbody>\n",
       "</table>\n",
       "</div>"
      ],
      "text/plain": [
       "                                                                                                                                                                                                                                                                                                                                                                                                                                                                                                                                                                                                               answer_text  \\\n",
       "0                                                                                                                                                                                                                                                                     I appreciate the work environment that UC San Diego provides.  I find that the leadership of my department, and the leadership throughout the University, is exceptional and creates a great workplace and a place that I excited to finish my career.  I feel like my efforts are well recognized and meaningful and that I am making a difference.   \n",
       "1  Some of the few negatives that I have would be the reaction of campus clients towards the ESR changes. Many of them have acted spoiled and expect my department to answer all of their questions immediately without first attempting to find the solution to the problem themselves or consulting Blink/Knowledge Base Articles. Some campus clients have been over the top in their complaints and seem to only want to complain. Others have been disrespectful when interacting with me.\\r\\n\\r\\nThe other issue is the compensation - the salary that I am receiving, while ok for a new hire, is barely enough ...   \n",
       "\n",
       "   pred_accessible_to_customers  pred_consistency_in_policies_information  \\\n",
       "0                             0                                         0   \n",
       "1                             0                                         0   \n",
       "\n",
       "   pred_cost_fees  pred_courteous_professional_staff  \\\n",
       "0               0                                  0   \n",
       "1               0                                  0   \n",
       "\n",
       "   pred_effective_communications  \\\n",
       "0                              0   \n",
       "1                              0   \n",
       "\n",
       "   pred_effectively_uses_websites_online_documentation  pred_helpful_staff  \\\n",
       "0                                                    0                   0   \n",
       "1                                                    0                   0   \n",
       "\n",
       "   pred_knowledgeable_staff  pred_moving_in_a_positive_direction  \\\n",
       "0                         0                                    0   \n",
       "1                         0                                    0   \n",
       "\n",
       "   pred_overall_satisfaction  pred_process_improvement  \\\n",
       "0                          0                         0   \n",
       "1                          0                         0   \n",
       "\n",
       "   pred_provides_effective_advice_guidance  \\\n",
       "0                                        0   \n",
       "1                                        0   \n",
       "\n",
       "   pred_provides_training_on_processes_applications  \\\n",
       "0                                                 0   \n",
       "1                                                 0   \n",
       "\n",
       "   pred_resolves_problems_effectively  \\\n",
       "0                                   0   \n",
       "1                                   0   \n",
       "\n",
       "   pred_responds_to_requests_within_an_acceptable_time  \\\n",
       "0                                                    0   \n",
       "1                                                    0   \n",
       "\n",
       "   pred_understands_my_needs_and_requirements  \n",
       "0                                           0  \n",
       "1                                           0  "
      ]
     },
     "execution_count": 17,
     "metadata": {},
     "output_type": "execute_result"
    }
   ],
   "source": [
    "pred_cols = [f'pred_{lbl}' for lbl in inf_labels]\n",
    "css_themes_df[['answer_text']+pred_cols].head(2)"
   ]
  },
  {
   "cell_type": "markdown",
   "metadata": {},
   "source": [
    "## Standard Themes - Meta"
   ]
  },
  {
   "cell_type": "code",
   "execution_count": 18,
   "metadata": {},
   "outputs": [
    {
     "name": "stdout",
     "output_type": "stream",
     "text": [
      "0\n",
      "1000\n",
      "(16489, 55) torch.Size([16489, 1]) torch.Size([16489, 2]) 2\n"
     ]
    }
   ],
   "source": [
    "from tritonlytics_ai.verbatims.standard_themes_meta.training import get_standard_theme_meta_preds, build_meta_inf_df\n",
    "from tritonlytics_ai.verbatims.standard_themes_meta.training import sentiment_mse, is_example_acc\n",
    "from tritonlytics_ai.verbatims.standard_themes_meta.training import Meta_MM, Meta_MM_HF_BaseModelCallback\n",
    "\n",
    "# use f2 threshold value as goal is to identify theme probabilities that capture anything > f2 (e.g., f1, f05) later\n",
    "meta_inf_df = build_meta_inf_df(saw_themes_df, \n",
    "                                theme_prob_threshold=0.13, \n",
    "                                fixed_cols=list(TASK_LM_DTYPES_SC.keys()))\n",
    "\n",
    "meta_df, inf_probs_sent, inf_probs_is_example, inf_labels = get_standard_theme_meta_preds(meta_inf_df, \n",
    "                                                                                          device=device, \n",
    "                                                                                          yyyymmdd=20201025)\n",
    "print(meta_df.shape, inf_probs_sent.shape, inf_probs_is_example.shape, len(inf_labels))"
   ]
  },
  {
   "cell_type": "code",
   "execution_count": 19,
   "metadata": {},
   "outputs": [
    {
     "data": {
      "text/html": [
       "<div>\n",
       "<style scoped>\n",
       "    .dataframe tbody tr th:only-of-type {\n",
       "        vertical-align: middle;\n",
       "    }\n",
       "\n",
       "    .dataframe tbody tr th {\n",
       "        vertical-align: top;\n",
       "    }\n",
       "\n",
       "    .dataframe thead th {\n",
       "        text-align: right;\n",
       "    }\n",
       "</style>\n",
       "<table border=\"1\" class=\"dataframe\">\n",
       "  <thead>\n",
       "    <tr style=\"text-align: right;\">\n",
       "      <th></th>\n",
       "      <th>theme</th>\n",
       "      <th>answer_text</th>\n",
       "      <th>theme_prob</th>\n",
       "      <th>prob_avg_sentiment</th>\n",
       "      <th>pred_is_example</th>\n",
       "    </tr>\n",
       "  </thead>\n",
       "  <tbody>\n",
       "    <tr>\n",
       "      <th>0</th>\n",
       "      <td>Adequate Staffing</td>\n",
       "      <td>Some of the few negatives that I have would be the reaction of campus clients towards the ESR changes. Many of them have acted spoiled and expect my department to answer all of their questions immediately without first attempting to find the solution to the problem themselves or consulting Blink/Knowledge Base Articles. Some campus clients have been over the top in their complaints and seem to only want to complain. Others have been disrespectful when interacting with me.\\r\\n\\r\\nThe other issue is the compensation - the salary that I am receiving, while ok for a new hire, is barely enough ...</td>\n",
       "      <td>0.145658</td>\n",
       "      <td>1.978378</td>\n",
       "      <td>0</td>\n",
       "    </tr>\n",
       "    <tr>\n",
       "      <th>1</th>\n",
       "      <td>Adequate Staffing</td>\n",
       "      <td>I probably work on one of the best and hardest working team on campus, but it would be nice to have a couple more plumbers or BMWs to help us out with our work load.</td>\n",
       "      <td>0.527928</td>\n",
       "      <td>2.845432</td>\n",
       "      <td>0</td>\n",
       "    </tr>\n",
       "    <tr>\n",
       "      <th>2</th>\n",
       "      <td>Adequate Staffing</td>\n",
       "      <td>Due to our staffing shortage we are required to work overtime.  The department recently limited the amount of hours we can earn as compensatory time off to use at a later time.  This has created an atmosphere where employees are no longer as willing to cover shifts if they are unable to work for comp time.  The department believes that this practice will save money, however, the amount of overtime being paid out is substantially more than it was when we were able to earn and use comp time.  In my experience, employees try to use their earned comp time when there is no impact on staffing so...</td>\n",
       "      <td>0.162934</td>\n",
       "      <td>2.642706</td>\n",
       "      <td>0</td>\n",
       "    </tr>\n",
       "    <tr>\n",
       "      <th>3</th>\n",
       "      <td>Adequate Staffing</td>\n",
       "      <td>With regards to pay - as a PA we are not paid equally compared to our NP counterpart. We do the sam exact job and paid less. It needs to be changed and I am hopeful the university can recognize this and make changes to relflect equality amongst the profession. As APPs we should be treated equal. With regards to our job, we are not utilized appropriate in the UC sector and thus not practicing to the top of our license. I know management is aware of this and there are being changes made. \\r\\n\\r\\nI personally feel there are too many employees and as a result making the system more complicated...</td>\n",
       "      <td>0.664323</td>\n",
       "      <td>2.158186</td>\n",
       "      <td>0</td>\n",
       "    </tr>\n",
       "    <tr>\n",
       "      <th>4</th>\n",
       "      <td>Adequate Staffing</td>\n",
       "      <td>It has been difficult to keep up with our workload without student research assistants.</td>\n",
       "      <td>0.447336</td>\n",
       "      <td>2.195768</td>\n",
       "      <td>0</td>\n",
       "    </tr>\n",
       "  </tbody>\n",
       "</table>\n",
       "</div>"
      ],
      "text/plain": [
       "               theme  \\\n",
       "0  Adequate Staffing   \n",
       "1  Adequate Staffing   \n",
       "2  Adequate Staffing   \n",
       "3  Adequate Staffing   \n",
       "4  Adequate Staffing   \n",
       "\n",
       "                                                                                                                                                                                                                                                                                                                                                                                                                                                                                                                                                                                                               answer_text  \\\n",
       "0  Some of the few negatives that I have would be the reaction of campus clients towards the ESR changes. Many of them have acted spoiled and expect my department to answer all of their questions immediately without first attempting to find the solution to the problem themselves or consulting Blink/Knowledge Base Articles. Some campus clients have been over the top in their complaints and seem to only want to complain. Others have been disrespectful when interacting with me.\\r\\n\\r\\nThe other issue is the compensation - the salary that I am receiving, while ok for a new hire, is barely enough ...   \n",
       "1                                                                                                                                                                                                                                                                                                                                                                                                                                                    I probably work on one of the best and hardest working team on campus, but it would be nice to have a couple more plumbers or BMWs to help us out with our work load.   \n",
       "2  Due to our staffing shortage we are required to work overtime.  The department recently limited the amount of hours we can earn as compensatory time off to use at a later time.  This has created an atmosphere where employees are no longer as willing to cover shifts if they are unable to work for comp time.  The department believes that this practice will save money, however, the amount of overtime being paid out is substantially more than it was when we were able to earn and use comp time.  In my experience, employees try to use their earned comp time when there is no impact on staffing so...   \n",
       "3  With regards to pay - as a PA we are not paid equally compared to our NP counterpart. We do the sam exact job and paid less. It needs to be changed and I am hopeful the university can recognize this and make changes to relflect equality amongst the profession. As APPs we should be treated equal. With regards to our job, we are not utilized appropriate in the UC sector and thus not practicing to the top of our license. I know management is aware of this and there are being changes made. \\r\\n\\r\\nI personally feel there are too many employees and as a result making the system more complicated...   \n",
       "4                                                                                                                                                                                                                                                                                                                                                                                                                                                                                                                                  It has been difficult to keep up with our workload without student research assistants.   \n",
       "\n",
       "   theme_prob  prob_avg_sentiment  pred_is_example  \n",
       "0    0.145658            1.978378                0  \n",
       "1    0.527928            2.845432                0  \n",
       "2    0.162934            2.642706                0  \n",
       "3    0.664323            2.158186                0  \n",
       "4    0.447336            2.195768                0  "
      ]
     },
     "execution_count": 19,
     "metadata": {},
     "output_type": "execute_result"
    }
   ],
   "source": [
    "meta_df[['theme', 'answer_text', 'theme_prob', 'prob_avg_sentiment', 'pred_is_example']].head()"
   ]
  },
  {
   "cell_type": "markdown",
   "metadata": {},
   "source": [
    "## Cleanup"
   ]
  },
  {
   "cell_type": "code",
   "execution_count": 20,
   "metadata": {},
   "outputs": [
    {
     "name": "stdout",
     "output_type": "stream",
     "text": [
      "Converted 00_utils.ipynb.\n",
      "Converted 02a_verbatims-core.ipynb.\n",
      "Converted 02b_verbatims-sentiment.ipynb.\n",
      "Converted 02c_verbatims-standard-themes-saw-training.ipynb.\n",
      "Converted 02d_verbatims-standard-themes-css-training.ipynb.\n",
      "Converted 02e_verbatims-standard-themes-meta-training.ipynb.\n",
      "Converted 99_verbatims-inference.ipynb.\n",
      "Converted index.ipynb.\n"
     ]
    }
   ],
   "source": [
    "#hide\n",
    "from nbdev.export import notebook2script\n",
    "notebook2script()"
   ]
  },
  {
   "cell_type": "markdown",
   "metadata": {},
   "source": [
    "## Playground"
   ]
  },
  {
   "cell_type": "code",
   "execution_count": 21,
   "metadata": {},
   "outputs": [
    {
     "name": "stdout",
     "output_type": "stream",
     "text": [
      "7482 7482\n"
     ]
    },
    {
     "data": {
      "text/html": [
       "<div>\n",
       "<style scoped>\n",
       "    .dataframe tbody tr th:only-of-type {\n",
       "        vertical-align: middle;\n",
       "    }\n",
       "\n",
       "    .dataframe tbody tr th {\n",
       "        vertical-align: top;\n",
       "    }\n",
       "\n",
       "    .dataframe thead th {\n",
       "        text-align: right;\n",
       "    }\n",
       "</style>\n",
       "<table border=\"1\" class=\"dataframe\">\n",
       "  <thead>\n",
       "    <tr style=\"text-align: right;\">\n",
       "      <th></th>\n",
       "      <th>id</th>\n",
       "      <th>survey_id</th>\n",
       "      <th>question_ans_id</th>\n",
       "      <th>prob_is_very_positive</th>\n",
       "      <th>prob_is_positive</th>\n",
       "      <th>prob_is_very_negative</th>\n",
       "      <th>prob_is_negative</th>\n",
       "      <th>prob_is_suggestion</th>\n",
       "      <th>prob_feels_threatened</th>\n",
       "      <th>prob_has_profanity</th>\n",
       "      <th>prob_is_nonsense</th>\n",
       "      <th>pred_is_very_positive</th>\n",
       "      <th>pred_is_positive</th>\n",
       "      <th>pred_is_very_negative</th>\n",
       "      <th>pred_is_negative</th>\n",
       "      <th>pred_is_suggestion</th>\n",
       "      <th>pred_feels_threatened</th>\n",
       "      <th>pred_has_profanity</th>\n",
       "      <th>pred_is_nonsense</th>\n",
       "    </tr>\n",
       "  </thead>\n",
       "  <tbody>\n",
       "    <tr>\n",
       "      <th>0</th>\n",
       "      <td>683411</td>\n",
       "      <td>401</td>\n",
       "      <td>1877</td>\n",
       "      <td>0.479776</td>\n",
       "      <td>0.994643</td>\n",
       "      <td>0.000794</td>\n",
       "      <td>0.002152</td>\n",
       "      <td>0.003524</td>\n",
       "      <td>0.000467</td>\n",
       "      <td>0.000177</td>\n",
       "      <td>0.001386</td>\n",
       "      <td>0</td>\n",
       "      <td>1</td>\n",
       "      <td>0</td>\n",
       "      <td>0</td>\n",
       "      <td>0</td>\n",
       "      <td>0</td>\n",
       "      <td>0</td>\n",
       "      <td>0</td>\n",
       "    </tr>\n",
       "    <tr>\n",
       "      <th>1</th>\n",
       "      <td>683412</td>\n",
       "      <td>401</td>\n",
       "      <td>1877</td>\n",
       "      <td>0.003697</td>\n",
       "      <td>0.021980</td>\n",
       "      <td>0.423642</td>\n",
       "      <td>0.990766</td>\n",
       "      <td>0.026343</td>\n",
       "      <td>0.049515</td>\n",
       "      <td>0.000720</td>\n",
       "      <td>0.001643</td>\n",
       "      <td>0</td>\n",
       "      <td>0</td>\n",
       "      <td>0</td>\n",
       "      <td>1</td>\n",
       "      <td>0</td>\n",
       "      <td>0</td>\n",
       "      <td>0</td>\n",
       "      <td>0</td>\n",
       "    </tr>\n",
       "    <tr>\n",
       "      <th>2</th>\n",
       "      <td>683413</td>\n",
       "      <td>401</td>\n",
       "      <td>1877</td>\n",
       "      <td>0.047683</td>\n",
       "      <td>0.418201</td>\n",
       "      <td>0.601509</td>\n",
       "      <td>0.978111</td>\n",
       "      <td>0.016698</td>\n",
       "      <td>0.026635</td>\n",
       "      <td>0.001250</td>\n",
       "      <td>0.001042</td>\n",
       "      <td>0</td>\n",
       "      <td>0</td>\n",
       "      <td>1</td>\n",
       "      <td>1</td>\n",
       "      <td>0</td>\n",
       "      <td>0</td>\n",
       "      <td>0</td>\n",
       "      <td>0</td>\n",
       "    </tr>\n",
       "    <tr>\n",
       "      <th>3</th>\n",
       "      <td>683414</td>\n",
       "      <td>401</td>\n",
       "      <td>1877</td>\n",
       "      <td>0.002403</td>\n",
       "      <td>0.039993</td>\n",
       "      <td>0.043385</td>\n",
       "      <td>0.912123</td>\n",
       "      <td>0.040625</td>\n",
       "      <td>0.079433</td>\n",
       "      <td>0.000040</td>\n",
       "      <td>0.010515</td>\n",
       "      <td>0</td>\n",
       "      <td>0</td>\n",
       "      <td>0</td>\n",
       "      <td>1</td>\n",
       "      <td>0</td>\n",
       "      <td>0</td>\n",
       "      <td>0</td>\n",
       "      <td>0</td>\n",
       "    </tr>\n",
       "    <tr>\n",
       "      <th>4</th>\n",
       "      <td>683415</td>\n",
       "      <td>401</td>\n",
       "      <td>1877</td>\n",
       "      <td>0.010977</td>\n",
       "      <td>0.497433</td>\n",
       "      <td>0.056186</td>\n",
       "      <td>0.943342</td>\n",
       "      <td>0.083735</td>\n",
       "      <td>0.027257</td>\n",
       "      <td>0.000786</td>\n",
       "      <td>0.000971</td>\n",
       "      <td>0</td>\n",
       "      <td>0</td>\n",
       "      <td>0</td>\n",
       "      <td>1</td>\n",
       "      <td>0</td>\n",
       "      <td>0</td>\n",
       "      <td>0</td>\n",
       "      <td>0</td>\n",
       "    </tr>\n",
       "  </tbody>\n",
       "</table>\n",
       "</div>"
      ],
      "text/plain": [
       "       id  survey_id  question_ans_id  prob_is_very_positive  \\\n",
       "0  683411        401             1877               0.479776   \n",
       "1  683412        401             1877               0.003697   \n",
       "2  683413        401             1877               0.047683   \n",
       "3  683414        401             1877               0.002403   \n",
       "4  683415        401             1877               0.010977   \n",
       "\n",
       "   prob_is_positive  prob_is_very_negative  prob_is_negative  \\\n",
       "0          0.994643               0.000794          0.002152   \n",
       "1          0.021980               0.423642          0.990766   \n",
       "2          0.418201               0.601509          0.978111   \n",
       "3          0.039993               0.043385          0.912123   \n",
       "4          0.497433               0.056186          0.943342   \n",
       "\n",
       "   prob_is_suggestion  prob_feels_threatened  prob_has_profanity  \\\n",
       "0            0.003524               0.000467            0.000177   \n",
       "1            0.026343               0.049515            0.000720   \n",
       "2            0.016698               0.026635            0.001250   \n",
       "3            0.040625               0.079433            0.000040   \n",
       "4            0.083735               0.027257            0.000786   \n",
       "\n",
       "   prob_is_nonsense  pred_is_very_positive  pred_is_positive  \\\n",
       "0          0.001386                      0                 1   \n",
       "1          0.001643                      0                 0   \n",
       "2          0.001042                      0                 0   \n",
       "3          0.010515                      0                 0   \n",
       "4          0.000971                      0                 0   \n",
       "\n",
       "   pred_is_very_negative  pred_is_negative  pred_is_suggestion  \\\n",
       "0                      0                 0                   0   \n",
       "1                      0                 1                   0   \n",
       "2                      1                 1                   0   \n",
       "3                      0                 1                   0   \n",
       "4                      0                 1                   0   \n",
       "\n",
       "   pred_feels_threatened  pred_has_profanity  pred_is_nonsense  \n",
       "0                      0                   0                 0  \n",
       "1                      0                   0                 0  \n",
       "2                      0                   0                 0  \n",
       "3                      0                   0                 0  \n",
       "4                      0                   0                 0  "
      ]
     },
     "execution_count": 21,
     "metadata": {},
     "output_type": "execute_result"
    }
   ],
   "source": [
    "other_cols = [col for col in sent_df.columns if col.startswith('prob') or col.startswith('pred') ]\n",
    "final_sent_df = sent_df[['id', 'survey_id', 'question_ans_id'] + other_cols]\n",
    "\n",
    "print(len(final_sent_df), len(sent_df))\n",
    "final_sent_df.head()"
   ]
  },
  {
   "cell_type": "code",
   "execution_count": 22,
   "metadata": {},
   "outputs": [],
   "source": [
    "final_sent_df.to_csv('~/sent_inf.csv', index=False)"
   ]
  },
  {
   "cell_type": "code",
   "execution_count": 23,
   "metadata": {},
   "outputs": [
    {
     "name": "stdout",
     "output_type": "stream",
     "text": [
      "16489 16489\n"
     ]
    },
    {
     "data": {
      "text/html": [
       "<div>\n",
       "<style scoped>\n",
       "    .dataframe tbody tr th:only-of-type {\n",
       "        vertical-align: middle;\n",
       "    }\n",
       "\n",
       "    .dataframe tbody tr th {\n",
       "        vertical-align: top;\n",
       "    }\n",
       "\n",
       "    .dataframe thead th {\n",
       "        text-align: right;\n",
       "    }\n",
       "</style>\n",
       "<table border=\"1\" class=\"dataframe\">\n",
       "  <thead>\n",
       "    <tr style=\"text-align: right;\">\n",
       "      <th></th>\n",
       "      <th>id</th>\n",
       "      <th>survey_id</th>\n",
       "      <th>question_ans_id</th>\n",
       "      <th>theme</th>\n",
       "      <th>url_friendly_theme</th>\n",
       "      <th>theme_prob</th>\n",
       "      <th>prob_avg_sentiment</th>\n",
       "      <th>prob_is_example</th>\n",
       "      <th>pred_is_example</th>\n",
       "      <th>sentiment_mse</th>\n",
       "      <th>...</th>\n",
       "      <th>pred_feel_valued_by_department</th>\n",
       "      <th>pred_flexibility_work_life_balance</th>\n",
       "      <th>pred_good_use_of_skills</th>\n",
       "      <th>pred_have_necessary_tools</th>\n",
       "      <th>pred_have_voice_within_my_institution_valued_member_of_my_institution</th>\n",
       "      <th>pred_internal_processes_effective</th>\n",
       "      <th>pred_parking_transportation</th>\n",
       "      <th>pred_salary_pay</th>\n",
       "      <th>pred_satisfied_with_diversity_progams</th>\n",
       "      <th>pred_supervisor_effectiveness_resolves_staff_issues</th>\n",
       "    </tr>\n",
       "  </thead>\n",
       "  <tbody>\n",
       "    <tr>\n",
       "      <th>0</th>\n",
       "      <td>683412</td>\n",
       "      <td>401</td>\n",
       "      <td>1877</td>\n",
       "      <td>Adequate Staffing</td>\n",
       "      <td>AdequateStaffing</td>\n",
       "      <td>0.145658</td>\n",
       "      <td>1.978378</td>\n",
       "      <td>0.009127</td>\n",
       "      <td>0</td>\n",
       "      <td>0.445856</td>\n",
       "      <td>...</td>\n",
       "      <td>0</td>\n",
       "      <td>0</td>\n",
       "      <td>0</td>\n",
       "      <td>0</td>\n",
       "      <td>0</td>\n",
       "      <td>0</td>\n",
       "      <td>0</td>\n",
       "      <td>1</td>\n",
       "      <td>0</td>\n",
       "      <td>0</td>\n",
       "    </tr>\n",
       "    <tr>\n",
       "      <th>1</th>\n",
       "      <td>683412</td>\n",
       "      <td>401</td>\n",
       "      <td>1877</td>\n",
       "      <td>Appropriate Stress Work Assigned Equitably</td>\n",
       "      <td>AppropriateStressWorkAssignedEquitably</td>\n",
       "      <td>0.172275</td>\n",
       "      <td>1.971118</td>\n",
       "      <td>0.008935</td>\n",
       "      <td>0</td>\n",
       "      <td>0.445856</td>\n",
       "      <td>...</td>\n",
       "      <td>0</td>\n",
       "      <td>0</td>\n",
       "      <td>0</td>\n",
       "      <td>0</td>\n",
       "      <td>0</td>\n",
       "      <td>0</td>\n",
       "      <td>0</td>\n",
       "      <td>1</td>\n",
       "      <td>0</td>\n",
       "      <td>0</td>\n",
       "    </tr>\n",
       "    <tr>\n",
       "      <th>2</th>\n",
       "      <td>683412</td>\n",
       "      <td>401</td>\n",
       "      <td>1877</td>\n",
       "      <td>Fear Of Retaliation Negative Consequences</td>\n",
       "      <td>FearOfRetaliationNegativeConsequences</td>\n",
       "      <td>0.587700</td>\n",
       "      <td>1.961309</td>\n",
       "      <td>0.008048</td>\n",
       "      <td>0</td>\n",
       "      <td>0.445856</td>\n",
       "      <td>...</td>\n",
       "      <td>0</td>\n",
       "      <td>0</td>\n",
       "      <td>0</td>\n",
       "      <td>0</td>\n",
       "      <td>0</td>\n",
       "      <td>0</td>\n",
       "      <td>0</td>\n",
       "      <td>1</td>\n",
       "      <td>0</td>\n",
       "      <td>0</td>\n",
       "    </tr>\n",
       "    <tr>\n",
       "      <th>3</th>\n",
       "      <td>683412</td>\n",
       "      <td>401</td>\n",
       "      <td>1877</td>\n",
       "      <td>Salary Pay</td>\n",
       "      <td>SalaryPay</td>\n",
       "      <td>0.811004</td>\n",
       "      <td>1.938436</td>\n",
       "      <td>0.009826</td>\n",
       "      <td>0</td>\n",
       "      <td>0.445856</td>\n",
       "      <td>...</td>\n",
       "      <td>0</td>\n",
       "      <td>0</td>\n",
       "      <td>0</td>\n",
       "      <td>0</td>\n",
       "      <td>0</td>\n",
       "      <td>0</td>\n",
       "      <td>0</td>\n",
       "      <td>1</td>\n",
       "      <td>0</td>\n",
       "      <td>0</td>\n",
       "    </tr>\n",
       "    <tr>\n",
       "      <th>4</th>\n",
       "      <td>683929</td>\n",
       "      <td>401</td>\n",
       "      <td>1877</td>\n",
       "      <td>Adequate Staffing</td>\n",
       "      <td>AdequateStaffing</td>\n",
       "      <td>0.527928</td>\n",
       "      <td>2.845432</td>\n",
       "      <td>0.011065</td>\n",
       "      <td>0</td>\n",
       "      <td>0.445856</td>\n",
       "      <td>...</td>\n",
       "      <td>0</td>\n",
       "      <td>0</td>\n",
       "      <td>0</td>\n",
       "      <td>0</td>\n",
       "      <td>0</td>\n",
       "      <td>0</td>\n",
       "      <td>0</td>\n",
       "      <td>0</td>\n",
       "      <td>0</td>\n",
       "      <td>0</td>\n",
       "    </tr>\n",
       "  </tbody>\n",
       "</table>\n",
       "<p>5 rows × 68 columns</p>\n",
       "</div>"
      ],
      "text/plain": [
       "       id  survey_id  question_ans_id  \\\n",
       "0  683412        401             1877   \n",
       "1  683412        401             1877   \n",
       "2  683412        401             1877   \n",
       "3  683412        401             1877   \n",
       "4  683929        401             1877   \n",
       "\n",
       "                                        theme  \\\n",
       "0                           Adequate Staffing   \n",
       "1  Appropriate Stress Work Assigned Equitably   \n",
       "2   Fear Of Retaliation Negative Consequences   \n",
       "3                                  Salary Pay   \n",
       "4                           Adequate Staffing   \n",
       "\n",
       "                       url_friendly_theme  theme_prob  prob_avg_sentiment  \\\n",
       "0                        AdequateStaffing    0.145658            1.978378   \n",
       "1  AppropriateStressWorkAssignedEquitably    0.172275            1.971118   \n",
       "2   FearOfRetaliationNegativeConsequences    0.587700            1.961309   \n",
       "3                               SalaryPay    0.811004            1.938436   \n",
       "4                        AdequateStaffing    0.527928            2.845432   \n",
       "\n",
       "   prob_is_example  pred_is_example  sentiment_mse  ...  \\\n",
       "0         0.009127                0       0.445856  ...   \n",
       "1         0.008935                0       0.445856  ...   \n",
       "2         0.008048                0       0.445856  ...   \n",
       "3         0.009826                0       0.445856  ...   \n",
       "4         0.011065                0       0.445856  ...   \n",
       "\n",
       "   pred_feel_valued_by_department  pred_flexibility_work_life_balance  \\\n",
       "0                               0                                   0   \n",
       "1                               0                                   0   \n",
       "2                               0                                   0   \n",
       "3                               0                                   0   \n",
       "4                               0                                   0   \n",
       "\n",
       "   pred_good_use_of_skills  pred_have_necessary_tools  \\\n",
       "0                        0                          0   \n",
       "1                        0                          0   \n",
       "2                        0                          0   \n",
       "3                        0                          0   \n",
       "4                        0                          0   \n",
       "\n",
       "   pred_have_voice_within_my_institution_valued_member_of_my_institution  \\\n",
       "0                                                                      0   \n",
       "1                                                                      0   \n",
       "2                                                                      0   \n",
       "3                                                                      0   \n",
       "4                                                                      0   \n",
       "\n",
       "   pred_internal_processes_effective  pred_parking_transportation  \\\n",
       "0                                  0                            0   \n",
       "1                                  0                            0   \n",
       "2                                  0                            0   \n",
       "3                                  0                            0   \n",
       "4                                  0                            0   \n",
       "\n",
       "   pred_salary_pay  pred_satisfied_with_diversity_progams  \\\n",
       "0                1                                      0   \n",
       "1                1                                      0   \n",
       "2                1                                      0   \n",
       "3                1                                      0   \n",
       "4                0                                      0   \n",
       "\n",
       "   pred_supervisor_effectiveness_resolves_staff_issues  \n",
       "0                                                    0  \n",
       "1                                                    0  \n",
       "2                                                    0  \n",
       "3                                                    0  \n",
       "4                                                    0  \n",
       "\n",
       "[5 rows x 68 columns]"
      ]
     },
     "execution_count": 23,
     "metadata": {},
     "output_type": "execute_result"
    }
   ],
   "source": [
    "other_theme_cols = [col for col in saw_themes_df.columns if col.startswith('prob') or col.startswith('pred') ]\n",
    "other_meta_cols = [ \n",
    "    col for col in meta_df.columns \n",
    "    if col.startswith('is_example') or col.startswith('sentiment') or col.startswith('prob') or col.startswith('pred') \n",
    "]\n",
    "\n",
    "final_themes = pd.merge(\n",
    "    meta_df[['id', 'survey_id', 'question_ans_id', 'theme', 'url_friendly_theme', 'theme_prob'] + other_meta_cols],\n",
    "    saw_themes_df[['id'] + other_theme_cols],\n",
    "    on='id'\n",
    ")\n",
    "\n",
    "print(len(final_themes), len(meta_df))\n",
    "final_themes.head()"
   ]
  },
  {
   "cell_type": "code",
   "execution_count": 24,
   "metadata": {},
   "outputs": [],
   "source": [
    "final_themes.to_csv('~/themes_inf.csv', index=False)"
   ]
  },
  {
   "cell_type": "code",
   "execution_count": 25,
   "metadata": {},
   "outputs": [
    {
     "data": {
      "text/plain": [
       "Index(['index', 'id', 'question_ans_id', 'answer_text',\n",
       "       'answer_text_non_english', 'language', 'survey_id', 'survey_type_id',\n",
       "       'benchmark_survey_type', 'client_id', 'rsp_id',\n",
       "       'question_category_abbr', 'question_text', 'question_class',\n",
       "       'question_category_id', 'question_report_abbr',\n",
       "       'question_category_label', 'benchmark_level1', 'benchmark_level2',\n",
       "       'benchmark_level3', 'client_benchmark_level', 'group_code', 'group_id',\n",
       "       'group_level1_code', 'group_level1_name', 'group_level2_code',\n",
       "       'group_level2_name', 'group_level3_code', 'group_level3_name',\n",
       "       'group_level4_code', 'group_level4_name', 'group_level5_code',\n",
       "       'group_level5_name', 'group_level6_code', 'group_level6_name',\n",
       "       'group_level7_code', 'group_level7_name', 'group_level8_code',\n",
       "       'group_level8_name', 'theme', 'theme_prob', 'url_friendly_theme',\n",
       "       'prob_avg_sentiment', 'prob_is_example', 'pred_is_example',\n",
       "       'valid_loss', 'sentiment_mse', 'sentiment_mae', 'sentiment_rmse',\n",
       "       'is_example_f05_threshold', 'is_example_f05_score',\n",
       "       'is_example_f1_threshold', 'is_example_f1_score',\n",
       "       'is_example_f2_threshold', 'is_example_f2_score'],\n",
       "      dtype='object')"
      ]
     },
     "execution_count": 25,
     "metadata": {},
     "output_type": "execute_result"
    }
   ],
   "source": [
    "meta_df.columns"
   ]
  },
  {
   "cell_type": "code",
   "execution_count": null,
   "metadata": {},
   "outputs": [],
   "source": []
  }
 ],
 "metadata": {
  "kernelspec": {
   "display_name": "Python 3",
   "language": "python",
   "name": "python3"
  },
  "language_info": {
   "codemirror_mode": {
    "name": "ipython",
    "version": 3
   },
   "file_extension": ".py",
   "mimetype": "text/x-python",
   "name": "python",
   "nbconvert_exporter": "python",
   "pygments_lexer": "ipython3",
   "version": "3.7.6"
  },
  "varInspector": {
   "cols": {
    "lenName": 16,
    "lenType": 16,
    "lenVar": 40
   },
   "kernels_config": {
    "python": {
     "delete_cmd_postfix": "",
     "delete_cmd_prefix": "del ",
     "library": "var_list.py",
     "varRefreshCmd": "print(var_dic_list())"
    },
    "r": {
     "delete_cmd_postfix": ") ",
     "delete_cmd_prefix": "rm(",
     "library": "var_list.r",
     "varRefreshCmd": "cat(var_dic_list()) "
    }
   },
   "types_to_exclude": [
    "module",
    "function",
    "builtin_function_or_method",
    "instance",
    "_Feature"
   ],
   "window_display": false
  }
 },
 "nbformat": 4,
 "nbformat_minor": 4
}
