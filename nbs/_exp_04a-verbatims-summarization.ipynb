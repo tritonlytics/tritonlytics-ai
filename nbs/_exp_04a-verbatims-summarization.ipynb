{
 "cells": [
  {
   "cell_type": "code",
   "execution_count": 1,
   "metadata": {},
   "outputs": [],
   "source": [
    "#hide\n",
    "%reload_ext autoreload\n",
    "%autoreload 2\n",
    "%matplotlib inline"
   ]
  },
  {
   "cell_type": "markdown",
   "metadata": {},
   "source": [
    "# TODO"
   ]
  },
  {
   "cell_type": "code",
   "execution_count": 2,
   "metadata": {},
   "outputs": [],
   "source": [
    "#export\n",
    "import datetime, itertools\n",
    "import sklearn.metrics as skm\n",
    "from tritonlytics_ai.utils import *\n",
    "\n",
    "from fastai2 import __version__ as fa2_version\n",
    "from fastai2.text.all import *\n",
    "\n",
    "import spacy\n",
    "spacy_en = spacy.load('en_core_web_sm')\n",
    "spacy_es = spacy.load('es_core_news_sm')"
   ]
  },
  {
   "cell_type": "code",
   "execution_count": 3,
   "metadata": {},
   "outputs": [],
   "source": [
    "#hide\n",
    "import pdb, gc\n",
    "\n",
    "# pandas and plotting config\n",
    "import seaborn as sns\n",
    "sns.set_style('whitegrid')\n",
    "\n",
    "plt.rcParams['figure.figsize'] = (9,6)\n",
    "\n",
    "pd.set_option('display.max_rows', 500)\n",
    "pd.set_option('display.max_columns', 500)\n",
    "pd.set_option('display.width', 1000)\n",
    "pd.set_option('display.max_colwidth', 100)\n",
    "\n",
    "from nbdev.showdoc import *\n",
    "from fastcore.test import *"
   ]
  },
  {
   "cell_type": "code",
   "execution_count": 4,
   "metadata": {},
   "outputs": [
    {
     "name": "stdout",
     "output_type": "stream",
     "text": [
      "fastai version: 0.0.18\n"
     ]
    }
   ],
   "source": [
    "#hide\n",
    "print(f'fastai version: {fa2_version}')"
   ]
  },
  {
   "cell_type": "code",
   "execution_count": 5,
   "metadata": {},
   "outputs": [
    {
     "name": "stdout",
     "output_type": "stream",
     "text": [
      "Using GPU #1\n"
     ]
    }
   ],
   "source": [
    "#cuda\n",
    "torch.cuda.set_device(1)\n",
    "print(f'Using GPU #{torch.cuda.current_device()}')"
   ]
  },
  {
   "cell_type": "markdown",
   "metadata": {},
   "source": [
    "## Data"
   ]
  },
  {
   "cell_type": "code",
   "execution_count": 6,
   "metadata": {},
   "outputs": [],
   "source": [
    "f = json.loads((RAW_DATA_PATH/'verbatim-inference.json').read_text())"
   ]
  },
  {
   "cell_type": "code",
   "execution_count": 7,
   "metadata": {},
   "outputs": [
    {
     "name": "stdout",
     "output_type": "stream",
     "text": [
      "698\n"
     ]
    },
    {
     "data": {
      "text/html": [
       "<div>\n",
       "<style scoped>\n",
       "    .dataframe tbody tr th:only-of-type {\n",
       "        vertical-align: middle;\n",
       "    }\n",
       "\n",
       "    .dataframe tbody tr th {\n",
       "        vertical-align: top;\n",
       "    }\n",
       "\n",
       "    .dataframe thead th {\n",
       "        text-align: right;\n",
       "    }\n",
       "</style>\n",
       "<table border=\"1\" class=\"dataframe\">\n",
       "  <thead>\n",
       "    <tr style=\"text-align: right;\">\n",
       "      <th></th>\n",
       "      <th>id</th>\n",
       "      <th>survey_id</th>\n",
       "      <th>question_ans_id</th>\n",
       "      <th>answer_text</th>\n",
       "      <th>answer_text_non_english</th>\n",
       "      <th>language</th>\n",
       "      <th>survey_type_id</th>\n",
       "      <th>benchmark_survey_type</th>\n",
       "      <th>client_id</th>\n",
       "      <th>question_report_abbr</th>\n",
       "      <th>question_class</th>\n",
       "      <th>question_text</th>\n",
       "      <th>question_category_id</th>\n",
       "      <th>question_category_abbr</th>\n",
       "      <th>question_category_label</th>\n",
       "      <th>benchmark_level1</th>\n",
       "      <th>benchmark_level2</th>\n",
       "      <th>benchmark_level3</th>\n",
       "      <th>client_benchmark_level</th>\n",
       "      <th>rsp_id</th>\n",
       "      <th>rsp_language</th>\n",
       "      <th>rsp_start_date</th>\n",
       "      <th>rsp_last_activity_date</th>\n",
       "      <th>custom_value1</th>\n",
       "      <th>custom_value2</th>\n",
       "      <th>custom_value3</th>\n",
       "      <th>custom_value4</th>\n",
       "      <th>custom_value5</th>\n",
       "      <th>custom_value6</th>\n",
       "      <th>custom_value7</th>\n",
       "      <th>custom_value8</th>\n",
       "      <th>custom_value9</th>\n",
       "      <th>custom_value10</th>\n",
       "      <th>custom_value11</th>\n",
       "      <th>custom_value12</th>\n",
       "      <th>custom_value13</th>\n",
       "      <th>custom_value14</th>\n",
       "      <th>custom_value15</th>\n",
       "      <th>benchmark_identity</th>\n",
       "      <th>benchmark_sub_identity</th>\n",
       "      <th>client_identity</th>\n",
       "      <th>client_sub_identity</th>\n",
       "      <th>group_id</th>\n",
       "      <th>group_code</th>\n",
       "      <th>group_name</th>\n",
       "      <th>group_level1_code</th>\n",
       "      <th>group_level1_name</th>\n",
       "      <th>group_level2_code</th>\n",
       "      <th>group_level2_name</th>\n",
       "      <th>group_level3_code</th>\n",
       "      <th>group_level3_name</th>\n",
       "      <th>group_level4_code</th>\n",
       "      <th>group_level4_name</th>\n",
       "      <th>group_level5_code</th>\n",
       "      <th>group_level5_name</th>\n",
       "      <th>group_level6_code</th>\n",
       "      <th>group_level6_name</th>\n",
       "      <th>group_level7_code</th>\n",
       "      <th>group_level7_name</th>\n",
       "      <th>group_level8_code</th>\n",
       "      <th>group_level8_name</th>\n",
       "    </tr>\n",
       "  </thead>\n",
       "  <tbody>\n",
       "    <tr>\n",
       "      <th>0</th>\n",
       "      <td>660404</td>\n",
       "      <td>396</td>\n",
       "      <td>93069</td>\n",
       "      <td>I believe ANR leadership is completely disconnected from the work of campus-based specialists. W...</td>\n",
       "      <td>None</td>\n",
       "      <td>English</td>\n",
       "      <td>47</td>\n",
       "      <td>SAW</td>\n",
       "      <td>UCANR</td>\n",
       "      <td>Comments re Work Environment at UC ANR</td>\n",
       "      <td>Verbatim-Comments</td>\n",
       "      <td>Please provide any additional feedback regarding the work environment at UC ANR. Your comments w...</td>\n",
       "      <td>1141</td>\n",
       "      <td>None</td>\n",
       "      <td>Comments</td>\n",
       "      <td>None</td>\n",
       "      <td>None</td>\n",
       "      <td>None</td>\n",
       "      <td>3</td>\n",
       "      <td>480447</td>\n",
       "      <td>English</td>\n",
       "      <td>2020-03-17T09:17:39.887</td>\n",
       "      <td>2020-03-17T09:29:23.917</td>\n",
       "      <td>ACAD</td>\n",
       "      <td>None</td>\n",
       "      <td>None</td>\n",
       "      <td>None</td>\n",
       "      <td>None</td>\n",
       "      <td>None</td>\n",
       "      <td>None</td>\n",
       "      <td>None</td>\n",
       "      <td>None</td>\n",
       "      <td>None</td>\n",
       "      <td>None</td>\n",
       "      <td>None</td>\n",
       "      <td>None</td>\n",
       "      <td>None</td>\n",
       "      <td>None</td>\n",
       "      <td>None</td>\n",
       "      <td>None</td>\n",
       "      <td>None</td>\n",
       "      <td>None</td>\n",
       "      <td>6988</td>\n",
       "      <td>260200</td>\n",
       "      <td>UCD SPECIALISTS</td>\n",
       "      <td>999999</td>\n",
       "      <td>UC Agriculture &amp; Natural Resources</td>\n",
       "      <td>200000</td>\n",
       "      <td>AVP Programs and Initiatives</td>\n",
       "      <td>260000.0</td>\n",
       "      <td>All CE Specialists</td>\n",
       "      <td>260200.0</td>\n",
       "      <td>UCD SPECIALISTS</td>\n",
       "      <td>NaN</td>\n",
       "      <td>None</td>\n",
       "      <td>None</td>\n",
       "      <td>None</td>\n",
       "      <td>None</td>\n",
       "      <td>None</td>\n",
       "      <td>None</td>\n",
       "      <td>None</td>\n",
       "    </tr>\n",
       "    <tr>\n",
       "      <th>1</th>\n",
       "      <td>660405</td>\n",
       "      <td>396</td>\n",
       "      <td>93069</td>\n",
       "      <td>I'm a new employee.</td>\n",
       "      <td>None</td>\n",
       "      <td>English</td>\n",
       "      <td>47</td>\n",
       "      <td>SAW</td>\n",
       "      <td>UCANR</td>\n",
       "      <td>Comments re Work Environment at UC ANR</td>\n",
       "      <td>Verbatim-Comments</td>\n",
       "      <td>Please provide any additional feedback regarding the work environment at UC ANR. Your comments w...</td>\n",
       "      <td>1141</td>\n",
       "      <td>None</td>\n",
       "      <td>Comments</td>\n",
       "      <td>None</td>\n",
       "      <td>None</td>\n",
       "      <td>None</td>\n",
       "      <td>3</td>\n",
       "      <td>480450</td>\n",
       "      <td>English</td>\n",
       "      <td>2020-03-17T07:49:25.93</td>\n",
       "      <td>2020-03-17T07:57:27.78</td>\n",
       "      <td>STAFF</td>\n",
       "      <td>None</td>\n",
       "      <td>None</td>\n",
       "      <td>None</td>\n",
       "      <td>None</td>\n",
       "      <td>None</td>\n",
       "      <td>None</td>\n",
       "      <td>None</td>\n",
       "      <td>None</td>\n",
       "      <td>None</td>\n",
       "      <td>None</td>\n",
       "      <td>None</td>\n",
       "      <td>None</td>\n",
       "      <td>None</td>\n",
       "      <td>None</td>\n",
       "      <td>None</td>\n",
       "      <td>None</td>\n",
       "      <td>None</td>\n",
       "      <td>None</td>\n",
       "      <td>6971</td>\n",
       "      <td>240610</td>\n",
       "      <td>Imperial</td>\n",
       "      <td>999999</td>\n",
       "      <td>UC Agriculture &amp; Natural Resources</td>\n",
       "      <td>200000</td>\n",
       "      <td>AVP Programs and Initiatives</td>\n",
       "      <td>240000.0</td>\n",
       "      <td>UC Cooperative Extension Offices</td>\n",
       "      <td>240600.0</td>\n",
       "      <td>UCCE South</td>\n",
       "      <td>240610.0</td>\n",
       "      <td>Imperial</td>\n",
       "      <td>None</td>\n",
       "      <td>None</td>\n",
       "      <td>None</td>\n",
       "      <td>None</td>\n",
       "      <td>None</td>\n",
       "      <td>None</td>\n",
       "    </tr>\n",
       "  </tbody>\n",
       "</table>\n",
       "</div>"
      ],
      "text/plain": [
       "       id  survey_id  question_ans_id                                                                                          answer_text answer_text_non_english language  survey_type_id benchmark_survey_type client_id                    question_report_abbr     question_class                                                                                        question_text  question_category_id question_category_abbr question_category_label benchmark_level1 benchmark_level2 benchmark_level3  client_benchmark_level  rsp_id rsp_language           rsp_start_date   rsp_last_activity_date custom_value1 custom_value2 custom_value3 custom_value4 custom_value5 custom_value6 custom_value7 custom_value8 custom_value9 custom_value10 custom_value11 custom_value12 custom_value13 custom_value14 custom_value15 benchmark_identity benchmark_sub_identity client_identity client_sub_identity  group_id  group_code       group_name  group_level1_code                   group_level1_name  \\\n",
       "0  660404        396            93069  I believe ANR leadership is completely disconnected from the work of campus-based specialists. W...                    None  English              47                   SAW     UCANR  Comments re Work Environment at UC ANR  Verbatim-Comments  Please provide any additional feedback regarding the work environment at UC ANR. Your comments w...                  1141                   None                Comments             None             None             None                       3  480447      English  2020-03-17T09:17:39.887  2020-03-17T09:29:23.917          ACAD          None          None          None          None          None          None          None          None           None           None           None           None           None           None               None                   None            None                None      6988      260200  UCD SPECIALISTS             999999  UC Agriculture & Natural Resources   \n",
       "1  660405        396            93069                                                                                  I'm a new employee.                    None  English              47                   SAW     UCANR  Comments re Work Environment at UC ANR  Verbatim-Comments  Please provide any additional feedback regarding the work environment at UC ANR. Your comments w...                  1141                   None                Comments             None             None             None                       3  480450      English   2020-03-17T07:49:25.93   2020-03-17T07:57:27.78         STAFF          None          None          None          None          None          None          None          None           None           None           None           None           None           None               None                   None            None                None      6971      240610         Imperial             999999  UC Agriculture & Natural Resources   \n",
       "\n",
       "   group_level2_code             group_level2_name  group_level3_code                 group_level3_name  group_level4_code group_level4_name  group_level5_code group_level5_name group_level6_code group_level6_name group_level7_code group_level7_name group_level8_code group_level8_name  \n",
       "0             200000  AVP Programs and Initiatives           260000.0                All CE Specialists           260200.0   UCD SPECIALISTS                NaN              None              None              None              None              None              None              None  \n",
       "1             200000  AVP Programs and Initiatives           240000.0  UC Cooperative Extension Offices           240600.0        UCCE South           240610.0          Imperial              None              None              None              None              None              None  "
      ]
     },
     "execution_count": 7,
     "metadata": {},
     "output_type": "execute_result"
    }
   ],
   "source": [
    "inf_df = pd.DataFrame(f['data'])\n",
    "print(len(inf_df)); inf_df.head(2)"
   ]
  },
  {
   "cell_type": "markdown",
   "metadata": {},
   "source": [
    "For summarization, exclude \"recognition\" verbatims and ensure \"answer_text\" is typed as `str` for the aggregate operation below."
   ]
  },
  {
   "cell_type": "code",
   "execution_count": 8,
   "metadata": {},
   "outputs": [
    {
     "data": {
      "text/html": [
       "<div>\n",
       "<style scoped>\n",
       "    .dataframe tbody tr th:only-of-type {\n",
       "        vertical-align: middle;\n",
       "    }\n",
       "\n",
       "    .dataframe tbody tr th {\n",
       "        vertical-align: top;\n",
       "    }\n",
       "\n",
       "    .dataframe thead th {\n",
       "        text-align: right;\n",
       "    }\n",
       "</style>\n",
       "<table border=\"1\" class=\"dataframe\">\n",
       "  <thead>\n",
       "    <tr style=\"text-align: right;\">\n",
       "      <th></th>\n",
       "      <th>id</th>\n",
       "      <th>survey_id</th>\n",
       "      <th>question_ans_id</th>\n",
       "      <th>answer_text</th>\n",
       "      <th>answer_text_non_english</th>\n",
       "      <th>language</th>\n",
       "      <th>survey_type_id</th>\n",
       "      <th>benchmark_survey_type</th>\n",
       "      <th>client_id</th>\n",
       "      <th>question_report_abbr</th>\n",
       "      <th>question_class</th>\n",
       "      <th>question_text</th>\n",
       "      <th>question_category_id</th>\n",
       "      <th>question_category_abbr</th>\n",
       "      <th>question_category_label</th>\n",
       "      <th>benchmark_level1</th>\n",
       "      <th>benchmark_level2</th>\n",
       "      <th>benchmark_level3</th>\n",
       "      <th>client_benchmark_level</th>\n",
       "      <th>rsp_id</th>\n",
       "      <th>rsp_language</th>\n",
       "      <th>rsp_start_date</th>\n",
       "      <th>rsp_last_activity_date</th>\n",
       "      <th>custom_value1</th>\n",
       "      <th>custom_value2</th>\n",
       "      <th>custom_value3</th>\n",
       "      <th>custom_value4</th>\n",
       "      <th>custom_value5</th>\n",
       "      <th>custom_value6</th>\n",
       "      <th>custom_value7</th>\n",
       "      <th>custom_value8</th>\n",
       "      <th>custom_value9</th>\n",
       "      <th>custom_value10</th>\n",
       "      <th>custom_value11</th>\n",
       "      <th>custom_value12</th>\n",
       "      <th>custom_value13</th>\n",
       "      <th>custom_value14</th>\n",
       "      <th>custom_value15</th>\n",
       "      <th>benchmark_identity</th>\n",
       "      <th>benchmark_sub_identity</th>\n",
       "      <th>client_identity</th>\n",
       "      <th>client_sub_identity</th>\n",
       "      <th>group_id</th>\n",
       "      <th>group_code</th>\n",
       "      <th>group_name</th>\n",
       "      <th>group_level1_code</th>\n",
       "      <th>group_level1_name</th>\n",
       "      <th>group_level2_code</th>\n",
       "      <th>group_level2_name</th>\n",
       "      <th>group_level3_code</th>\n",
       "      <th>group_level3_name</th>\n",
       "      <th>group_level4_code</th>\n",
       "      <th>group_level4_name</th>\n",
       "      <th>group_level5_code</th>\n",
       "      <th>group_level5_name</th>\n",
       "      <th>group_level6_code</th>\n",
       "      <th>group_level6_name</th>\n",
       "      <th>group_level7_code</th>\n",
       "      <th>group_level7_name</th>\n",
       "      <th>group_level8_code</th>\n",
       "      <th>group_level8_name</th>\n",
       "    </tr>\n",
       "  </thead>\n",
       "  <tbody>\n",
       "    <tr>\n",
       "      <th>0</th>\n",
       "      <td>660404</td>\n",
       "      <td>396</td>\n",
       "      <td>93069</td>\n",
       "      <td>I believe ANR leadership is completely disconnected from the work of campus-based specialists. W...</td>\n",
       "      <td>None</td>\n",
       "      <td>English</td>\n",
       "      <td>47</td>\n",
       "      <td>SAW</td>\n",
       "      <td>UCANR</td>\n",
       "      <td>Comments re Work Environment at UC ANR</td>\n",
       "      <td>Verbatim-Comments</td>\n",
       "      <td>Please provide any additional feedback regarding the work environment at UC ANR. Your comments w...</td>\n",
       "      <td>1141</td>\n",
       "      <td>None</td>\n",
       "      <td>Comments</td>\n",
       "      <td>None</td>\n",
       "      <td>None</td>\n",
       "      <td>None</td>\n",
       "      <td>3</td>\n",
       "      <td>480447</td>\n",
       "      <td>English</td>\n",
       "      <td>2020-03-17T09:17:39.887</td>\n",
       "      <td>2020-03-17T09:29:23.917</td>\n",
       "      <td>ACAD</td>\n",
       "      <td>None</td>\n",
       "      <td>None</td>\n",
       "      <td>None</td>\n",
       "      <td>None</td>\n",
       "      <td>None</td>\n",
       "      <td>None</td>\n",
       "      <td>None</td>\n",
       "      <td>None</td>\n",
       "      <td>None</td>\n",
       "      <td>None</td>\n",
       "      <td>None</td>\n",
       "      <td>None</td>\n",
       "      <td>None</td>\n",
       "      <td>None</td>\n",
       "      <td>None</td>\n",
       "      <td>None</td>\n",
       "      <td>None</td>\n",
       "      <td>None</td>\n",
       "      <td>6988</td>\n",
       "      <td>260200</td>\n",
       "      <td>UCD SPECIALISTS</td>\n",
       "      <td>999999</td>\n",
       "      <td>UC Agriculture &amp; Natural Resources</td>\n",
       "      <td>200000</td>\n",
       "      <td>AVP Programs and Initiatives</td>\n",
       "      <td>260000.0</td>\n",
       "      <td>All CE Specialists</td>\n",
       "      <td>260200.0</td>\n",
       "      <td>UCD SPECIALISTS</td>\n",
       "      <td>NaN</td>\n",
       "      <td>None</td>\n",
       "      <td>None</td>\n",
       "      <td>None</td>\n",
       "      <td>None</td>\n",
       "      <td>None</td>\n",
       "      <td>None</td>\n",
       "      <td>None</td>\n",
       "    </tr>\n",
       "    <tr>\n",
       "      <th>1</th>\n",
       "      <td>660405</td>\n",
       "      <td>396</td>\n",
       "      <td>93069</td>\n",
       "      <td>I'm a new employee.</td>\n",
       "      <td>None</td>\n",
       "      <td>English</td>\n",
       "      <td>47</td>\n",
       "      <td>SAW</td>\n",
       "      <td>UCANR</td>\n",
       "      <td>Comments re Work Environment at UC ANR</td>\n",
       "      <td>Verbatim-Comments</td>\n",
       "      <td>Please provide any additional feedback regarding the work environment at UC ANR. Your comments w...</td>\n",
       "      <td>1141</td>\n",
       "      <td>None</td>\n",
       "      <td>Comments</td>\n",
       "      <td>None</td>\n",
       "      <td>None</td>\n",
       "      <td>None</td>\n",
       "      <td>3</td>\n",
       "      <td>480450</td>\n",
       "      <td>English</td>\n",
       "      <td>2020-03-17T07:49:25.93</td>\n",
       "      <td>2020-03-17T07:57:27.78</td>\n",
       "      <td>STAFF</td>\n",
       "      <td>None</td>\n",
       "      <td>None</td>\n",
       "      <td>None</td>\n",
       "      <td>None</td>\n",
       "      <td>None</td>\n",
       "      <td>None</td>\n",
       "      <td>None</td>\n",
       "      <td>None</td>\n",
       "      <td>None</td>\n",
       "      <td>None</td>\n",
       "      <td>None</td>\n",
       "      <td>None</td>\n",
       "      <td>None</td>\n",
       "      <td>None</td>\n",
       "      <td>None</td>\n",
       "      <td>None</td>\n",
       "      <td>None</td>\n",
       "      <td>None</td>\n",
       "      <td>6971</td>\n",
       "      <td>240610</td>\n",
       "      <td>Imperial</td>\n",
       "      <td>999999</td>\n",
       "      <td>UC Agriculture &amp; Natural Resources</td>\n",
       "      <td>200000</td>\n",
       "      <td>AVP Programs and Initiatives</td>\n",
       "      <td>240000.0</td>\n",
       "      <td>UC Cooperative Extension Offices</td>\n",
       "      <td>240600.0</td>\n",
       "      <td>UCCE South</td>\n",
       "      <td>240610.0</td>\n",
       "      <td>Imperial</td>\n",
       "      <td>None</td>\n",
       "      <td>None</td>\n",
       "      <td>None</td>\n",
       "      <td>None</td>\n",
       "      <td>None</td>\n",
       "      <td>None</td>\n",
       "    </tr>\n",
       "  </tbody>\n",
       "</table>\n",
       "</div>"
      ],
      "text/plain": [
       "       id  survey_id  question_ans_id                                                                                          answer_text answer_text_non_english language  survey_type_id benchmark_survey_type client_id                    question_report_abbr     question_class                                                                                        question_text  question_category_id question_category_abbr question_category_label benchmark_level1 benchmark_level2 benchmark_level3  client_benchmark_level  rsp_id rsp_language           rsp_start_date   rsp_last_activity_date custom_value1 custom_value2 custom_value3 custom_value4 custom_value5 custom_value6 custom_value7 custom_value8 custom_value9 custom_value10 custom_value11 custom_value12 custom_value13 custom_value14 custom_value15 benchmark_identity benchmark_sub_identity client_identity client_sub_identity  group_id  group_code       group_name  group_level1_code                   group_level1_name  \\\n",
       "0  660404        396            93069  I believe ANR leadership is completely disconnected from the work of campus-based specialists. W...                    None  English              47                   SAW     UCANR  Comments re Work Environment at UC ANR  Verbatim-Comments  Please provide any additional feedback regarding the work environment at UC ANR. Your comments w...                  1141                   None                Comments             None             None             None                       3  480447      English  2020-03-17T09:17:39.887  2020-03-17T09:29:23.917          ACAD          None          None          None          None          None          None          None          None           None           None           None           None           None           None               None                   None            None                None      6988      260200  UCD SPECIALISTS             999999  UC Agriculture & Natural Resources   \n",
       "1  660405        396            93069                                                                                  I'm a new employee.                    None  English              47                   SAW     UCANR  Comments re Work Environment at UC ANR  Verbatim-Comments  Please provide any additional feedback regarding the work environment at UC ANR. Your comments w...                  1141                   None                Comments             None             None             None                       3  480450      English   2020-03-17T07:49:25.93   2020-03-17T07:57:27.78         STAFF          None          None          None          None          None          None          None          None           None           None           None           None           None           None               None                   None            None                None      6971      240610         Imperial             999999  UC Agriculture & Natural Resources   \n",
       "\n",
       "   group_level2_code             group_level2_name  group_level3_code                 group_level3_name  group_level4_code group_level4_name  group_level5_code group_level5_name group_level6_code group_level6_name group_level7_code group_level7_name group_level8_code group_level8_name  \n",
       "0             200000  AVP Programs and Initiatives           260000.0                All CE Specialists           260200.0   UCD SPECIALISTS                NaN              None              None              None              None              None              None              None  \n",
       "1             200000  AVP Programs and Initiatives           240000.0  UC Cooperative Extension Offices           240600.0        UCCE South           240610.0          Imperial              None              None              None              None              None              None  "
      ]
     },
     "execution_count": 8,
     "metadata": {},
     "output_type": "execute_result"
    }
   ],
   "source": [
    "df = inf_df[~inf_df.question_category_label.str.contains('recognition', case=False)].copy()\n",
    "df.answer_text = df.answer_text.astype(str)\n",
    "df.head(2)"
   ]
  },
  {
   "cell_type": "markdown",
   "metadata": {},
   "source": [
    "Example of how we can aggregate comments using a `groupby`"
   ]
  },
  {
   "cell_type": "code",
   "execution_count": 9,
   "metadata": {},
   "outputs": [
    {
     "name": "stdout",
     "output_type": "stream",
     "text": [
      "1\n"
     ]
    },
    {
     "data": {
      "text/html": [
       "<div>\n",
       "<style scoped>\n",
       "    .dataframe tbody tr th:only-of-type {\n",
       "        vertical-align: middle;\n",
       "    }\n",
       "\n",
       "    .dataframe tbody tr th {\n",
       "        vertical-align: top;\n",
       "    }\n",
       "\n",
       "    .dataframe thead th {\n",
       "        text-align: right;\n",
       "    }\n",
       "</style>\n",
       "<table border=\"1\" class=\"dataframe\">\n",
       "  <thead>\n",
       "    <tr style=\"text-align: right;\">\n",
       "      <th></th>\n",
       "      <th>benchmark_survey_type</th>\n",
       "      <th>client_id</th>\n",
       "      <th>answer_text_join</th>\n",
       "      <th>answer_text_count</th>\n",
       "    </tr>\n",
       "  </thead>\n",
       "  <tbody>\n",
       "    <tr>\n",
       "      <th>0</th>\n",
       "      <td>SAW</td>\n",
       "      <td>UCANR</td>\n",
       "      <td>I believe ANR leadership is completely disconnected from the work of campus-based specialists. W...</td>\n",
       "      <td>429</td>\n",
       "    </tr>\n",
       "  </tbody>\n",
       "</table>\n",
       "</div>"
      ],
      "text/plain": [
       "  benchmark_survey_type client_id                                                                                     answer_text_join  answer_text_count\n",
       "0                   SAW     UCANR  I believe ANR leadership is completely disconnected from the work of campus-based specialists. W...                429"
      ]
     },
     "execution_count": 9,
     "metadata": {},
     "output_type": "execute_result"
    }
   ],
   "source": [
    "client_grps_df = df.groupby(['benchmark_survey_type', 'client_id'], as_index = False).agg({\n",
    "    'answer_text': [''.join, 'count']\n",
    "})\n",
    "\n",
    "client_grps_df.columns = ['_'.join(col).rstrip('_') for col in client_grps_df.columns.values]\n",
    "print(len(client_grps_df)); client_grps_df.head()"
   ]
  },
  {
   "cell_type": "code",
   "execution_count": 10,
   "metadata": {},
   "outputs": [
    {
     "data": {
      "text/plain": [
       "'I believe ANR leadership is completely disconnected from the work of campus-based specialists. When I am responding regarding \"my department\" in this survey it is my campus department I am evaluating, not an ANR department.I\\'m a new employee.Because salaries tend to be much lower than other opportunities in my area, and because the bureaucracy can be challenging, in general I think working UCANR is challenging even though other aspects are very rewarding.How likely to recommend working to a friend depends on the friend. If they like the business world of action, UC is bogged down in paper and protocol.  But not as bad as the federal government.  ANR is where you can see change happen, although trying to document it, is a bit overdone, Change takes time and UC wants to see it on paper right now.  Leadership is a difficult position and at times ours seems arbitrary.  We have committees and leadership should listen and act on the suggestions from those committees.The one thing that would '"
      ]
     },
     "execution_count": 10,
     "metadata": {},
     "output_type": "execute_result"
    }
   ],
   "source": [
    "client_grps_df.iloc[0].answer_text_join[:1000]"
   ]
  },
  {
   "cell_type": "markdown",
   "metadata": {},
   "source": [
    "Now we'll define the various labels by which we want to aggregate verbatims"
   ]
  },
  {
   "cell_type": "code",
   "execution_count": 11,
   "metadata": {},
   "outputs": [],
   "source": [
    "core_lbls = ['benchmark_survey_type', 'client_id', 'question_ans_id', 'question_report_abbr']\n",
    "\n",
    "benchmark_lbls = ['question_category_abbr', 'benchmark_level1', 'benchmark_level2', 'benchmark_level3']\n",
    "\n",
    "rsp_lbls = [\n",
    "    'custom_value1', 'custom_value2', 'custom_value3', 'custom_value4', 'custom_value5',\n",
    "    'custom_value6', 'custom_value7', 'custom_value8', 'custom_value9', 'custom_value10',\n",
    "    'custom_value11', 'custom_value12', 'custom_value13', 'custom_value14', 'custom_value15',\n",
    "    'benchmark_identity', 'benchmark_sub_identity', 'client_identity', 'client_sub_identity'\n",
    "]\n",
    "\n",
    "grp_lvl_lbls = [\n",
    "    'group_level1_code', 'group_level2_code', 'group_level3_code', 'group_level4_code',\n",
    "    'group_level5_code', 'group_level6_code', 'group_level7_code', 'group_level8_code',\n",
    "]"
   ]
  },
  {
   "cell_type": "code",
   "execution_count": 12,
   "metadata": {},
   "outputs": [],
   "source": [
    "def build_grouped_df(lbls):\n",
    "    grouped_df = df.groupby(lbls, as_index = False).agg({'answer_text': [''.join, 'count']})\n",
    "    grouped_df.columns = ['_'.join(col).rstrip('_') for col in grouped_df.columns.values]\n",
    "    return grouped_df"
   ]
  },
  {
   "cell_type": "code",
   "execution_count": 13,
   "metadata": {},
   "outputs": [],
   "source": [
    "# for summarizing all comments\n",
    "summarization_df = build_grouped_df(core_lbls)\n",
    "\n",
    "# for summarizing by each benchmark level (1-3)\n",
    "benchmark_dfs = [ build_grouped_df(core_lbls + benchmark_lbls[:idx+1]) for idx in range(len(benchmark_lbls)) ]\n",
    "summarization_df = pd.concat([ summarization_df, *benchmark_dfs ], axis=0, ignore_index=True)\n",
    "\n",
    "# for summarizing at each group level (1-8)\n",
    "groups_dfs = [ build_grouped_df(core_lbls + grp_lvl_lbls[:idx+1]) for idx in range(len(grp_lvl_lbls)) ]\n",
    "summarization_df = pd.concat([ summarization_df, *groups_dfs ], axis=0, ignore_index=True)\n",
    "\n",
    "# for summarizing at each rsp custom value (1-15)\n",
    "rsp_dfs = [ build_grouped_df(core_lbls + [lbl]) for lbl in rsp_lbls ]\n",
    "summarization_df = pd.concat([ summarization_df, *rsp_dfs ], axis=0, ignore_index=True)\n",
    "\n",
    "# for summarizing at each rsp custom value (1-15) at each group level (1-8)\n",
    "perms = [ grp_lvl_lbls[:idx+1] + [rsp_lbl] for idx in range(len(grp_lvl_lbls)) for rsp_lbl in rsp_lbls]\n",
    "grp_rsp_dfs = [ build_grouped_df(core_lbls + perm) for perm in perms ]\n",
    "summarization_df = pd.concat([ summarization_df, *grp_rsp_dfs ], axis=0, ignore_index=True)"
   ]
  },
  {
   "cell_type": "code",
   "execution_count": 14,
   "metadata": {},
   "outputs": [
    {
     "data": {
      "text/html": [
       "<div>\n",
       "<style scoped>\n",
       "    .dataframe tbody tr th:only-of-type {\n",
       "        vertical-align: middle;\n",
       "    }\n",
       "\n",
       "    .dataframe tbody tr th {\n",
       "        vertical-align: top;\n",
       "    }\n",
       "\n",
       "    .dataframe thead th {\n",
       "        text-align: right;\n",
       "    }\n",
       "</style>\n",
       "<table border=\"1\" class=\"dataframe\">\n",
       "  <thead>\n",
       "    <tr style=\"text-align: right;\">\n",
       "      <th></th>\n",
       "      <th>benchmark_survey_type</th>\n",
       "      <th>client_id</th>\n",
       "      <th>question_ans_id</th>\n",
       "      <th>question_report_abbr</th>\n",
       "      <th>answer_text_join</th>\n",
       "      <th>answer_text_count</th>\n",
       "      <th>question_category_abbr</th>\n",
       "      <th>benchmark_level1</th>\n",
       "      <th>benchmark_level2</th>\n",
       "      <th>benchmark_level3</th>\n",
       "      <th>group_level1_code</th>\n",
       "      <th>group_level2_code</th>\n",
       "      <th>group_level3_code</th>\n",
       "      <th>group_level4_code</th>\n",
       "      <th>group_level5_code</th>\n",
       "      <th>group_level6_code</th>\n",
       "      <th>group_level7_code</th>\n",
       "      <th>group_level8_code</th>\n",
       "      <th>custom_value1</th>\n",
       "      <th>custom_value2</th>\n",
       "      <th>custom_value3</th>\n",
       "      <th>custom_value4</th>\n",
       "      <th>custom_value5</th>\n",
       "      <th>custom_value6</th>\n",
       "      <th>custom_value7</th>\n",
       "      <th>custom_value8</th>\n",
       "      <th>custom_value9</th>\n",
       "      <th>custom_value10</th>\n",
       "      <th>custom_value11</th>\n",
       "      <th>custom_value12</th>\n",
       "      <th>custom_value13</th>\n",
       "      <th>custom_value14</th>\n",
       "      <th>custom_value15</th>\n",
       "      <th>benchmark_identity</th>\n",
       "      <th>benchmark_sub_identity</th>\n",
       "      <th>client_identity</th>\n",
       "      <th>client_sub_identity</th>\n",
       "    </tr>\n",
       "  </thead>\n",
       "  <tbody>\n",
       "    <tr>\n",
       "      <th>0</th>\n",
       "      <td>SAW</td>\n",
       "      <td>UCANR</td>\n",
       "      <td>93005</td>\n",
       "      <td>Conduct &amp; Behavioral - Comments</td>\n",
       "      <td>Is it possible the commitment to diversity is so strong that it goes so far in one direction tha...</td>\n",
       "      <td>136</td>\n",
       "      <td>NaN</td>\n",
       "      <td>NaN</td>\n",
       "      <td>NaN</td>\n",
       "      <td>NaN</td>\n",
       "      <td>NaN</td>\n",
       "      <td>NaN</td>\n",
       "      <td>NaN</td>\n",
       "      <td>NaN</td>\n",
       "      <td>NaN</td>\n",
       "      <td>NaN</td>\n",
       "      <td>NaN</td>\n",
       "      <td>NaN</td>\n",
       "      <td>NaN</td>\n",
       "      <td>NaN</td>\n",
       "      <td>NaN</td>\n",
       "      <td>NaN</td>\n",
       "      <td>NaN</td>\n",
       "      <td>NaN</td>\n",
       "      <td>NaN</td>\n",
       "      <td>NaN</td>\n",
       "      <td>NaN</td>\n",
       "      <td>NaN</td>\n",
       "      <td>NaN</td>\n",
       "      <td>NaN</td>\n",
       "      <td>NaN</td>\n",
       "      <td>NaN</td>\n",
       "      <td>NaN</td>\n",
       "      <td>NaN</td>\n",
       "      <td>NaN</td>\n",
       "      <td>NaN</td>\n",
       "      <td>NaN</td>\n",
       "    </tr>\n",
       "    <tr>\n",
       "      <th>1</th>\n",
       "      <td>SAW</td>\n",
       "      <td>UCANR</td>\n",
       "      <td>93069</td>\n",
       "      <td>Comments re Work Environment at UC ANR</td>\n",
       "      <td>I believe ANR leadership is completely disconnected from the work of campus-based specialists. W...</td>\n",
       "      <td>293</td>\n",
       "      <td>NaN</td>\n",
       "      <td>NaN</td>\n",
       "      <td>NaN</td>\n",
       "      <td>NaN</td>\n",
       "      <td>NaN</td>\n",
       "      <td>NaN</td>\n",
       "      <td>NaN</td>\n",
       "      <td>NaN</td>\n",
       "      <td>NaN</td>\n",
       "      <td>NaN</td>\n",
       "      <td>NaN</td>\n",
       "      <td>NaN</td>\n",
       "      <td>NaN</td>\n",
       "      <td>NaN</td>\n",
       "      <td>NaN</td>\n",
       "      <td>NaN</td>\n",
       "      <td>NaN</td>\n",
       "      <td>NaN</td>\n",
       "      <td>NaN</td>\n",
       "      <td>NaN</td>\n",
       "      <td>NaN</td>\n",
       "      <td>NaN</td>\n",
       "      <td>NaN</td>\n",
       "      <td>NaN</td>\n",
       "      <td>NaN</td>\n",
       "      <td>NaN</td>\n",
       "      <td>NaN</td>\n",
       "      <td>NaN</td>\n",
       "      <td>NaN</td>\n",
       "      <td>NaN</td>\n",
       "      <td>NaN</td>\n",
       "    </tr>\n",
       "  </tbody>\n",
       "</table>\n",
       "</div>"
      ],
      "text/plain": [
       "  benchmark_survey_type client_id  question_ans_id                    question_report_abbr                                                                                     answer_text_join  answer_text_count question_category_abbr benchmark_level1 benchmark_level2 benchmark_level3  group_level1_code  group_level2_code  group_level3_code  group_level4_code  group_level5_code group_level6_code group_level7_code group_level8_code custom_value1 custom_value2 custom_value3 custom_value4 custom_value5 custom_value6 custom_value7 custom_value8 custom_value9 custom_value10 custom_value11 custom_value12 custom_value13 custom_value14 custom_value15 benchmark_identity benchmark_sub_identity client_identity client_sub_identity\n",
       "0                   SAW     UCANR            93005         Conduct & Behavioral - Comments  Is it possible the commitment to diversity is so strong that it goes so far in one direction tha...                136                    NaN              NaN              NaN              NaN                NaN                NaN                NaN                NaN                NaN               NaN               NaN               NaN           NaN           NaN           NaN           NaN           NaN           NaN           NaN           NaN           NaN            NaN            NaN            NaN            NaN            NaN            NaN                NaN                    NaN             NaN                 NaN\n",
       "1                   SAW     UCANR            93069  Comments re Work Environment at UC ANR  I believe ANR leadership is completely disconnected from the work of campus-based specialists. W...                293                    NaN              NaN              NaN              NaN                NaN                NaN                NaN                NaN                NaN               NaN               NaN               NaN           NaN           NaN           NaN           NaN           NaN           NaN           NaN           NaN           NaN            NaN            NaN            NaN            NaN            NaN            NaN                NaN                    NaN             NaN                 NaN"
      ]
     },
     "execution_count": 14,
     "metadata": {},
     "output_type": "execute_result"
    }
   ],
   "source": [
    "summarization_df.head(2)"
   ]
  },
  {
   "cell_type": "code",
   "execution_count": 15,
   "metadata": {},
   "outputs": [],
   "source": [
    "summarization_df.replace(to_replace='None', value=np.nan, inplace=True)\n",
    "summarization_df.drop_duplicates(inplace=True)\n",
    "summarization_df.reset_index(inplace=True)"
   ]
  },
  {
   "cell_type": "code",
   "execution_count": 16,
   "metadata": {},
   "outputs": [
    {
     "name": "stdout",
     "output_type": "stream",
     "text": [
      "371\n"
     ]
    },
    {
     "data": {
      "text/html": [
       "<div>\n",
       "<style scoped>\n",
       "    .dataframe tbody tr th:only-of-type {\n",
       "        vertical-align: middle;\n",
       "    }\n",
       "\n",
       "    .dataframe tbody tr th {\n",
       "        vertical-align: top;\n",
       "    }\n",
       "\n",
       "    .dataframe thead th {\n",
       "        text-align: right;\n",
       "    }\n",
       "</style>\n",
       "<table border=\"1\" class=\"dataframe\">\n",
       "  <thead>\n",
       "    <tr style=\"text-align: right;\">\n",
       "      <th></th>\n",
       "      <th>index</th>\n",
       "      <th>benchmark_survey_type</th>\n",
       "      <th>client_id</th>\n",
       "      <th>question_ans_id</th>\n",
       "      <th>question_report_abbr</th>\n",
       "      <th>answer_text_join</th>\n",
       "      <th>answer_text_count</th>\n",
       "      <th>question_category_abbr</th>\n",
       "      <th>benchmark_level1</th>\n",
       "      <th>benchmark_level2</th>\n",
       "      <th>benchmark_level3</th>\n",
       "      <th>group_level1_code</th>\n",
       "      <th>group_level2_code</th>\n",
       "      <th>group_level3_code</th>\n",
       "      <th>group_level4_code</th>\n",
       "      <th>group_level5_code</th>\n",
       "      <th>group_level6_code</th>\n",
       "      <th>group_level7_code</th>\n",
       "      <th>group_level8_code</th>\n",
       "      <th>custom_value1</th>\n",
       "      <th>custom_value2</th>\n",
       "      <th>custom_value3</th>\n",
       "      <th>custom_value4</th>\n",
       "      <th>custom_value5</th>\n",
       "      <th>custom_value6</th>\n",
       "      <th>custom_value7</th>\n",
       "      <th>custom_value8</th>\n",
       "      <th>custom_value9</th>\n",
       "      <th>custom_value10</th>\n",
       "      <th>custom_value11</th>\n",
       "      <th>custom_value12</th>\n",
       "      <th>custom_value13</th>\n",
       "      <th>custom_value14</th>\n",
       "      <th>custom_value15</th>\n",
       "      <th>benchmark_identity</th>\n",
       "      <th>benchmark_sub_identity</th>\n",
       "      <th>client_identity</th>\n",
       "      <th>client_sub_identity</th>\n",
       "    </tr>\n",
       "  </thead>\n",
       "  <tbody>\n",
       "    <tr>\n",
       "      <th>0</th>\n",
       "      <td>0</td>\n",
       "      <td>SAW</td>\n",
       "      <td>UCANR</td>\n",
       "      <td>93005</td>\n",
       "      <td>Conduct &amp; Behavioral - Comments</td>\n",
       "      <td>Is it possible the commitment to diversity is so strong that it goes so far in one direction tha...</td>\n",
       "      <td>136</td>\n",
       "      <td>NaN</td>\n",
       "      <td>NaN</td>\n",
       "      <td>NaN</td>\n",
       "      <td>NaN</td>\n",
       "      <td>NaN</td>\n",
       "      <td>NaN</td>\n",
       "      <td>NaN</td>\n",
       "      <td>NaN</td>\n",
       "      <td>NaN</td>\n",
       "      <td>NaN</td>\n",
       "      <td>NaN</td>\n",
       "      <td>NaN</td>\n",
       "      <td>NaN</td>\n",
       "      <td>NaN</td>\n",
       "      <td>NaN</td>\n",
       "      <td>NaN</td>\n",
       "      <td>NaN</td>\n",
       "      <td>NaN</td>\n",
       "      <td>NaN</td>\n",
       "      <td>NaN</td>\n",
       "      <td>NaN</td>\n",
       "      <td>NaN</td>\n",
       "      <td>NaN</td>\n",
       "      <td>NaN</td>\n",
       "      <td>NaN</td>\n",
       "      <td>NaN</td>\n",
       "      <td>NaN</td>\n",
       "      <td>NaN</td>\n",
       "      <td>NaN</td>\n",
       "      <td>NaN</td>\n",
       "      <td>NaN</td>\n",
       "    </tr>\n",
       "    <tr>\n",
       "      <th>1</th>\n",
       "      <td>1</td>\n",
       "      <td>SAW</td>\n",
       "      <td>UCANR</td>\n",
       "      <td>93069</td>\n",
       "      <td>Comments re Work Environment at UC ANR</td>\n",
       "      <td>I believe ANR leadership is completely disconnected from the work of campus-based specialists. W...</td>\n",
       "      <td>293</td>\n",
       "      <td>NaN</td>\n",
       "      <td>NaN</td>\n",
       "      <td>NaN</td>\n",
       "      <td>NaN</td>\n",
       "      <td>NaN</td>\n",
       "      <td>NaN</td>\n",
       "      <td>NaN</td>\n",
       "      <td>NaN</td>\n",
       "      <td>NaN</td>\n",
       "      <td>NaN</td>\n",
       "      <td>NaN</td>\n",
       "      <td>NaN</td>\n",
       "      <td>NaN</td>\n",
       "      <td>NaN</td>\n",
       "      <td>NaN</td>\n",
       "      <td>NaN</td>\n",
       "      <td>NaN</td>\n",
       "      <td>NaN</td>\n",
       "      <td>NaN</td>\n",
       "      <td>NaN</td>\n",
       "      <td>NaN</td>\n",
       "      <td>NaN</td>\n",
       "      <td>NaN</td>\n",
       "      <td>NaN</td>\n",
       "      <td>NaN</td>\n",
       "      <td>NaN</td>\n",
       "      <td>NaN</td>\n",
       "      <td>NaN</td>\n",
       "      <td>NaN</td>\n",
       "      <td>NaN</td>\n",
       "      <td>NaN</td>\n",
       "    </tr>\n",
       "    <tr>\n",
       "      <th>2</th>\n",
       "      <td>2</td>\n",
       "      <td>SAW</td>\n",
       "      <td>UCANR</td>\n",
       "      <td>93005</td>\n",
       "      <td>Conduct &amp; Behavioral - Comments</td>\n",
       "      <td>Is it possible the commitment to diversity is so strong that it goes so far in one direction tha...</td>\n",
       "      <td>136</td>\n",
       "      <td>EDI</td>\n",
       "      <td>NaN</td>\n",
       "      <td>NaN</td>\n",
       "      <td>NaN</td>\n",
       "      <td>NaN</td>\n",
       "      <td>NaN</td>\n",
       "      <td>NaN</td>\n",
       "      <td>NaN</td>\n",
       "      <td>NaN</td>\n",
       "      <td>NaN</td>\n",
       "      <td>NaN</td>\n",
       "      <td>NaN</td>\n",
       "      <td>NaN</td>\n",
       "      <td>NaN</td>\n",
       "      <td>NaN</td>\n",
       "      <td>NaN</td>\n",
       "      <td>NaN</td>\n",
       "      <td>NaN</td>\n",
       "      <td>NaN</td>\n",
       "      <td>NaN</td>\n",
       "      <td>NaN</td>\n",
       "      <td>NaN</td>\n",
       "      <td>NaN</td>\n",
       "      <td>NaN</td>\n",
       "      <td>NaN</td>\n",
       "      <td>NaN</td>\n",
       "      <td>NaN</td>\n",
       "      <td>NaN</td>\n",
       "      <td>NaN</td>\n",
       "      <td>NaN</td>\n",
       "      <td>NaN</td>\n",
       "    </tr>\n",
       "    <tr>\n",
       "      <th>3</th>\n",
       "      <td>10</td>\n",
       "      <td>SAW</td>\n",
       "      <td>UCANR</td>\n",
       "      <td>93005</td>\n",
       "      <td>Conduct &amp; Behavioral - Comments</td>\n",
       "      <td>Is it possible the commitment to diversity is so strong that it goes so far in one direction tha...</td>\n",
       "      <td>136</td>\n",
       "      <td>NaN</td>\n",
       "      <td>NaN</td>\n",
       "      <td>NaN</td>\n",
       "      <td>NaN</td>\n",
       "      <td>999999.0</td>\n",
       "      <td>NaN</td>\n",
       "      <td>NaN</td>\n",
       "      <td>NaN</td>\n",
       "      <td>NaN</td>\n",
       "      <td>NaN</td>\n",
       "      <td>NaN</td>\n",
       "      <td>NaN</td>\n",
       "      <td>NaN</td>\n",
       "      <td>NaN</td>\n",
       "      <td>NaN</td>\n",
       "      <td>NaN</td>\n",
       "      <td>NaN</td>\n",
       "      <td>NaN</td>\n",
       "      <td>NaN</td>\n",
       "      <td>NaN</td>\n",
       "      <td>NaN</td>\n",
       "      <td>NaN</td>\n",
       "      <td>NaN</td>\n",
       "      <td>NaN</td>\n",
       "      <td>NaN</td>\n",
       "      <td>NaN</td>\n",
       "      <td>NaN</td>\n",
       "      <td>NaN</td>\n",
       "      <td>NaN</td>\n",
       "      <td>NaN</td>\n",
       "      <td>NaN</td>\n",
       "    </tr>\n",
       "    <tr>\n",
       "      <th>4</th>\n",
       "      <td>11</td>\n",
       "      <td>SAW</td>\n",
       "      <td>UCANR</td>\n",
       "      <td>93069</td>\n",
       "      <td>Comments re Work Environment at UC ANR</td>\n",
       "      <td>I believe ANR leadership is completely disconnected from the work of campus-based specialists. W...</td>\n",
       "      <td>293</td>\n",
       "      <td>NaN</td>\n",
       "      <td>NaN</td>\n",
       "      <td>NaN</td>\n",
       "      <td>NaN</td>\n",
       "      <td>999999.0</td>\n",
       "      <td>NaN</td>\n",
       "      <td>NaN</td>\n",
       "      <td>NaN</td>\n",
       "      <td>NaN</td>\n",
       "      <td>NaN</td>\n",
       "      <td>NaN</td>\n",
       "      <td>NaN</td>\n",
       "      <td>NaN</td>\n",
       "      <td>NaN</td>\n",
       "      <td>NaN</td>\n",
       "      <td>NaN</td>\n",
       "      <td>NaN</td>\n",
       "      <td>NaN</td>\n",
       "      <td>NaN</td>\n",
       "      <td>NaN</td>\n",
       "      <td>NaN</td>\n",
       "      <td>NaN</td>\n",
       "      <td>NaN</td>\n",
       "      <td>NaN</td>\n",
       "      <td>NaN</td>\n",
       "      <td>NaN</td>\n",
       "      <td>NaN</td>\n",
       "      <td>NaN</td>\n",
       "      <td>NaN</td>\n",
       "      <td>NaN</td>\n",
       "      <td>NaN</td>\n",
       "    </tr>\n",
       "  </tbody>\n",
       "</table>\n",
       "</div>"
      ],
      "text/plain": [
       "   index benchmark_survey_type client_id  question_ans_id                    question_report_abbr                                                                                     answer_text_join  answer_text_count question_category_abbr  benchmark_level1  benchmark_level2  benchmark_level3  group_level1_code  group_level2_code  group_level3_code  group_level4_code  group_level5_code  group_level6_code  group_level7_code  group_level8_code custom_value1  custom_value2  custom_value3  custom_value4  custom_value5  custom_value6  custom_value7  custom_value8  custom_value9  custom_value10  custom_value11  custom_value12  custom_value13  custom_value14  custom_value15  benchmark_identity  benchmark_sub_identity  client_identity  client_sub_identity\n",
       "0      0                   SAW     UCANR            93005         Conduct & Behavioral - Comments  Is it possible the commitment to diversity is so strong that it goes so far in one direction tha...                136                    NaN               NaN               NaN               NaN                NaN                NaN                NaN                NaN                NaN                NaN                NaN                NaN           NaN            NaN            NaN            NaN            NaN            NaN            NaN            NaN            NaN             NaN             NaN             NaN             NaN             NaN             NaN                 NaN                     NaN              NaN                  NaN\n",
       "1      1                   SAW     UCANR            93069  Comments re Work Environment at UC ANR  I believe ANR leadership is completely disconnected from the work of campus-based specialists. W...                293                    NaN               NaN               NaN               NaN                NaN                NaN                NaN                NaN                NaN                NaN                NaN                NaN           NaN            NaN            NaN            NaN            NaN            NaN            NaN            NaN            NaN             NaN             NaN             NaN             NaN             NaN             NaN                 NaN                     NaN              NaN                  NaN\n",
       "2      2                   SAW     UCANR            93005         Conduct & Behavioral - Comments  Is it possible the commitment to diversity is so strong that it goes so far in one direction tha...                136                    EDI               NaN               NaN               NaN                NaN                NaN                NaN                NaN                NaN                NaN                NaN                NaN           NaN            NaN            NaN            NaN            NaN            NaN            NaN            NaN            NaN             NaN             NaN             NaN             NaN             NaN             NaN                 NaN                     NaN              NaN                  NaN\n",
       "3     10                   SAW     UCANR            93005         Conduct & Behavioral - Comments  Is it possible the commitment to diversity is so strong that it goes so far in one direction tha...                136                    NaN               NaN               NaN               NaN           999999.0                NaN                NaN                NaN                NaN                NaN                NaN                NaN           NaN            NaN            NaN            NaN            NaN            NaN            NaN            NaN            NaN             NaN             NaN             NaN             NaN             NaN             NaN                 NaN                     NaN              NaN                  NaN\n",
       "4     11                   SAW     UCANR            93069  Comments re Work Environment at UC ANR  I believe ANR leadership is completely disconnected from the work of campus-based specialists. W...                293                    NaN               NaN               NaN               NaN           999999.0                NaN                NaN                NaN                NaN                NaN                NaN                NaN           NaN            NaN            NaN            NaN            NaN            NaN            NaN            NaN            NaN             NaN             NaN             NaN             NaN             NaN             NaN                 NaN                     NaN              NaN                  NaN"
      ]
     },
     "execution_count": 16,
     "metadata": {},
     "output_type": "execute_result"
    }
   ],
   "source": [
    "print(len(summarization_df))\n",
    "summarization_df.head()"
   ]
  },
  {
   "cell_type": "code",
   "execution_count": null,
   "metadata": {},
   "outputs": [],
   "source": []
  },
  {
   "cell_type": "markdown",
   "metadata": {},
   "source": [
    "## Modeling"
   ]
  },
  {
   "cell_type": "markdown",
   "metadata": {},
   "source": [
    "We'll use BART out-of-the-box, pre-trained on cnn/daily mail and output 3 predictions per row"
   ]
  },
  {
   "cell_type": "code",
   "execution_count": 30,
   "metadata": {},
   "outputs": [],
   "source": [
    "with torch.cuda.device('cuda:1'):\n",
    "    torch.cuda.empty_cache()"
   ]
  },
  {
   "cell_type": "code",
   "execution_count": 31,
   "metadata": {},
   "outputs": [],
   "source": [
    "from transformers import BartTokenizer, BartForConditionalGeneration, BartConfig"
   ]
  },
  {
   "cell_type": "code",
   "execution_count": 33,
   "metadata": {},
   "outputs": [
    {
     "data": {
      "application/vnd.jupyter.widget-view+json": {
       "model_id": "7ab2ac103e4b477eb3c9ab916cb3ca58",
       "version_major": 2,
       "version_minor": 0
      },
      "text/plain": [
       "HBox(children=(FloatProgress(value=0.0, description='Downloading', max=1367.0, style=ProgressStyle(description…"
      ]
     },
     "metadata": {},
     "output_type": "display_data"
    },
    {
     "name": "stdout",
     "output_type": "stream",
     "text": [
      "\n"
     ]
    },
    {
     "data": {
      "application/vnd.jupyter.widget-view+json": {
       "model_id": "e72af2e18fe146ac8a0b56f151958b1f",
       "version_major": 2,
       "version_minor": 0
      },
      "text/plain": [
       "HBox(children=(FloatProgress(value=0.0, description='Downloading', max=1625270765.0, style=ProgressStyle(descr…"
      ]
     },
     "metadata": {},
     "output_type": "display_data"
    },
    {
     "name": "stdout",
     "output_type": "stream",
     "text": [
      "\n"
     ]
    }
   ],
   "source": [
    "hf_tokenizer = BartTokenizer.from_pretrained('bart-large-cnn')\n",
    "\n",
    "hf_model = BartForConditionalGeneration.from_pretrained('bart-large-cnn')\n",
    "hf_model = hf_model.to('cuda:1')\n",
    "\n",
    "hf_tokenizer2 = BartTokenizer.from_pretrained('bart-large-xsum')\n",
    "\n",
    "hf_model2 = BartForConditionalGeneration.from_pretrained('bart-large-xsum')\n",
    "hf_model2 = hf_model2.to('cuda:1')"
   ]
  },
  {
   "cell_type": "code",
   "execution_count": 34,
   "metadata": {},
   "outputs": [
    {
     "name": "stdout",
     "output_type": "stream",
     "text": [
      "371\n",
      "CPU times: user 11min, sys: 35.6 s, total: 11min 35s\n",
      "Wall time: 11min 36s\n"
     ]
    }
   ],
   "source": [
    "%%time\n",
    "\n",
    "summarization_res = []\n",
    "for k,v in summarization_df.iterrows():\n",
    "    # get preds using pretrained cnndm BART\n",
    "    inputs = hf_tokenizer.batch_encode_plus([v.answer_text_join], max_length=1024, return_tensors='pt')\n",
    "    \n",
    "    # generate summary\n",
    "    gen_text = hf_model.generate(inputs['input_ids'].to('cuda:1'), \n",
    "                                 max_length=130, min_length=30,\n",
    "                                 early_stopping=True, num_beams=4, num_return_sequences=3)\n",
    "    \n",
    "    outputs = [ hf_tokenizer.decode(txt, skip_special_tokens=True, clean_up_tokenization_spaces=False)\n",
    "               for txt in gen_text ]\n",
    "    \n",
    "    # get preds using pretrained xsum BART\n",
    "    inputs = hf_tokenizer2.batch_encode_plus([v.answer_text_join], max_length=1024, return_tensors='pt')\n",
    "    \n",
    "    # generate summary\n",
    "    gen_text = hf_model2.generate(inputs['input_ids'].to('cuda:1'), \n",
    "                                 max_length=130, min_length=30,\n",
    "                                 early_stopping=True, num_beams=4, num_return_sequences=3)\n",
    "    \n",
    "    outputs += [ hf_tokenizer2.decode(txt, skip_special_tokens=True, clean_up_tokenization_spaces=False)\n",
    "               for txt in gen_text ]\n",
    "    \n",
    "    summarization_res.append(outputs)\n",
    "    \n",
    "print(len(summarization_res))"
   ]
  },
  {
   "cell_type": "markdown",
   "metadata": {},
   "source": [
    "Add preds to summary df"
   ]
  },
  {
   "cell_type": "code",
   "execution_count": 35,
   "metadata": {},
   "outputs": [],
   "source": [
    "cols = [\n",
    "    'pred_summary_cnndm_1', 'pred_summary_cnndm_2', 'pred_summary_cnndm_3', \n",
    "    'pred_summary_xsum_1', 'pred_summary_xsum_2', 'pred_summary_xsum_3'\n",
    "]\n",
    "preds_df = pd.DataFrame(summarization_res, columns=cols)"
   ]
  },
  {
   "cell_type": "code",
   "execution_count": 36,
   "metadata": {},
   "outputs": [],
   "source": [
    "summarization_df = pd.concat([summarization_df, preds_df], axis=1)"
   ]
  },
  {
   "cell_type": "code",
   "execution_count": 37,
   "metadata": {},
   "outputs": [
    {
     "data": {
      "text/html": [
       "<div>\n",
       "<style scoped>\n",
       "    .dataframe tbody tr th:only-of-type {\n",
       "        vertical-align: middle;\n",
       "    }\n",
       "\n",
       "    .dataframe tbody tr th {\n",
       "        vertical-align: top;\n",
       "    }\n",
       "\n",
       "    .dataframe thead th {\n",
       "        text-align: right;\n",
       "    }\n",
       "</style>\n",
       "<table border=\"1\" class=\"dataframe\">\n",
       "  <thead>\n",
       "    <tr style=\"text-align: right;\">\n",
       "      <th></th>\n",
       "      <th>index</th>\n",
       "      <th>benchmark_survey_type</th>\n",
       "      <th>client_id</th>\n",
       "      <th>question_ans_id</th>\n",
       "      <th>question_report_abbr</th>\n",
       "      <th>answer_text_join</th>\n",
       "      <th>answer_text_count</th>\n",
       "      <th>question_category_abbr</th>\n",
       "      <th>benchmark_level1</th>\n",
       "      <th>benchmark_level2</th>\n",
       "      <th>benchmark_level3</th>\n",
       "      <th>group_level1_code</th>\n",
       "      <th>group_level2_code</th>\n",
       "      <th>group_level3_code</th>\n",
       "      <th>group_level4_code</th>\n",
       "      <th>group_level5_code</th>\n",
       "      <th>group_level6_code</th>\n",
       "      <th>group_level7_code</th>\n",
       "      <th>group_level8_code</th>\n",
       "      <th>custom_value1</th>\n",
       "      <th>custom_value2</th>\n",
       "      <th>custom_value3</th>\n",
       "      <th>custom_value4</th>\n",
       "      <th>custom_value5</th>\n",
       "      <th>custom_value6</th>\n",
       "      <th>custom_value7</th>\n",
       "      <th>custom_value8</th>\n",
       "      <th>custom_value9</th>\n",
       "      <th>custom_value10</th>\n",
       "      <th>custom_value11</th>\n",
       "      <th>custom_value12</th>\n",
       "      <th>custom_value13</th>\n",
       "      <th>custom_value14</th>\n",
       "      <th>custom_value15</th>\n",
       "      <th>benchmark_identity</th>\n",
       "      <th>benchmark_sub_identity</th>\n",
       "      <th>client_identity</th>\n",
       "      <th>client_sub_identity</th>\n",
       "      <th>pred_summary_1</th>\n",
       "      <th>pred_summary_2</th>\n",
       "      <th>pred_summary_3</th>\n",
       "      <th>pred_summary_cnndm_1</th>\n",
       "      <th>pred_summary_cnndm_2</th>\n",
       "      <th>pred_summary_cnndm_3</th>\n",
       "      <th>pred_summary_xsum_1</th>\n",
       "      <th>pred_summary_xsum_2</th>\n",
       "      <th>pred_summary_xsum_3</th>\n",
       "    </tr>\n",
       "  </thead>\n",
       "  <tbody>\n",
       "    <tr>\n",
       "      <th>0</th>\n",
       "      <td>0</td>\n",
       "      <td>SAW</td>\n",
       "      <td>UCANR</td>\n",
       "      <td>93005</td>\n",
       "      <td>Conduct &amp; Behavioral - Comments</td>\n",
       "      <td>Is it possible the commitment to diversity is so strong that it goes so far in one direction tha...</td>\n",
       "      <td>136</td>\n",
       "      <td>NaN</td>\n",
       "      <td>NaN</td>\n",
       "      <td>NaN</td>\n",
       "      <td>NaN</td>\n",
       "      <td>NaN</td>\n",
       "      <td>NaN</td>\n",
       "      <td>NaN</td>\n",
       "      <td>NaN</td>\n",
       "      <td>NaN</td>\n",
       "      <td>NaN</td>\n",
       "      <td>NaN</td>\n",
       "      <td>NaN</td>\n",
       "      <td>NaN</td>\n",
       "      <td>NaN</td>\n",
       "      <td>NaN</td>\n",
       "      <td>NaN</td>\n",
       "      <td>NaN</td>\n",
       "      <td>NaN</td>\n",
       "      <td>NaN</td>\n",
       "      <td>NaN</td>\n",
       "      <td>NaN</td>\n",
       "      <td>NaN</td>\n",
       "      <td>NaN</td>\n",
       "      <td>NaN</td>\n",
       "      <td>NaN</td>\n",
       "      <td>NaN</td>\n",
       "      <td>NaN</td>\n",
       "      <td>NaN</td>\n",
       "      <td>NaN</td>\n",
       "      <td>NaN</td>\n",
       "      <td>NaN</td>\n",
       "      <td>I feel harassed and bullied by an employee out of my department and don't feel like there is any...</td>\n",
       "      <td>I would like to point out that I would say \"Never\" for all areas, except for a single individual...</td>\n",
       "      <td>I feel harassed and bullied by an employee out of my department and don't feel like there is any...</td>\n",
       "      <td>I feel harassed and bullied by an employee out of my department and don't feel like there is any...</td>\n",
       "      <td>I would like to point out that I would say \"Never\" for all areas, except for a single individual...</td>\n",
       "      <td>I feel harassed and bullied by an employee out of my department and don't feel like there is any...</td>\n",
       "      <td>As part of a series of responses to a survey on diversity at the University of California, Berke...</td>\n",
       "      <td>As part of a series of responses to a survey on diversity at the University of California, Berke...</td>\n",
       "      <td>As part of a series of responses to a survey on diversity at the University of California, Berke...</td>\n",
       "    </tr>\n",
       "    <tr>\n",
       "      <th>1</th>\n",
       "      <td>1</td>\n",
       "      <td>SAW</td>\n",
       "      <td>UCANR</td>\n",
       "      <td>93069</td>\n",
       "      <td>Comments re Work Environment at UC ANR</td>\n",
       "      <td>I believe ANR leadership is completely disconnected from the work of campus-based specialists. W...</td>\n",
       "      <td>293</td>\n",
       "      <td>NaN</td>\n",
       "      <td>NaN</td>\n",
       "      <td>NaN</td>\n",
       "      <td>NaN</td>\n",
       "      <td>NaN</td>\n",
       "      <td>NaN</td>\n",
       "      <td>NaN</td>\n",
       "      <td>NaN</td>\n",
       "      <td>NaN</td>\n",
       "      <td>NaN</td>\n",
       "      <td>NaN</td>\n",
       "      <td>NaN</td>\n",
       "      <td>NaN</td>\n",
       "      <td>NaN</td>\n",
       "      <td>NaN</td>\n",
       "      <td>NaN</td>\n",
       "      <td>NaN</td>\n",
       "      <td>NaN</td>\n",
       "      <td>NaN</td>\n",
       "      <td>NaN</td>\n",
       "      <td>NaN</td>\n",
       "      <td>NaN</td>\n",
       "      <td>NaN</td>\n",
       "      <td>NaN</td>\n",
       "      <td>NaN</td>\n",
       "      <td>NaN</td>\n",
       "      <td>NaN</td>\n",
       "      <td>NaN</td>\n",
       "      <td>NaN</td>\n",
       "      <td>NaN</td>\n",
       "      <td>NaN</td>\n",
       "      <td>I'm frustrated with wages and lack of opportunity to move up in my job classification. I believe...</td>\n",
       "      <td>I'm frustrated with wages and lack of opportunity to move up in my job classification. I believe...</td>\n",
       "      <td>I believe ANR leadership is completely disconnected from the work of campus-based specialists. I...</td>\n",
       "      <td>I'm frustrated with wages and lack of opportunity to move up in my job classification. I believe...</td>\n",
       "      <td>I'm frustrated with wages and lack of opportunity to move up in my job classification. I believe...</td>\n",
       "      <td>I believe ANR leadership is completely disconnected from the work of campus-based specialists. I...</td>\n",
       "      <td>As part of a series of responses to a report by the University of California, Davis, on the stat...</td>\n",
       "      <td>As part of a series of responses to a report by the University of California, Davis, on the stat...</td>\n",
       "      <td>As part of a series of responses to a report by the University of California, Davis, on the stat...</td>\n",
       "    </tr>\n",
       "    <tr>\n",
       "      <th>2</th>\n",
       "      <td>2</td>\n",
       "      <td>SAW</td>\n",
       "      <td>UCANR</td>\n",
       "      <td>93005</td>\n",
       "      <td>Conduct &amp; Behavioral - Comments</td>\n",
       "      <td>Is it possible the commitment to diversity is so strong that it goes so far in one direction tha...</td>\n",
       "      <td>136</td>\n",
       "      <td>EDI</td>\n",
       "      <td>NaN</td>\n",
       "      <td>NaN</td>\n",
       "      <td>NaN</td>\n",
       "      <td>NaN</td>\n",
       "      <td>NaN</td>\n",
       "      <td>NaN</td>\n",
       "      <td>NaN</td>\n",
       "      <td>NaN</td>\n",
       "      <td>NaN</td>\n",
       "      <td>NaN</td>\n",
       "      <td>NaN</td>\n",
       "      <td>NaN</td>\n",
       "      <td>NaN</td>\n",
       "      <td>NaN</td>\n",
       "      <td>NaN</td>\n",
       "      <td>NaN</td>\n",
       "      <td>NaN</td>\n",
       "      <td>NaN</td>\n",
       "      <td>NaN</td>\n",
       "      <td>NaN</td>\n",
       "      <td>NaN</td>\n",
       "      <td>NaN</td>\n",
       "      <td>NaN</td>\n",
       "      <td>NaN</td>\n",
       "      <td>NaN</td>\n",
       "      <td>NaN</td>\n",
       "      <td>NaN</td>\n",
       "      <td>NaN</td>\n",
       "      <td>NaN</td>\n",
       "      <td>NaN</td>\n",
       "      <td>I feel harassed and bullied by an employee out of my department and don't feel like there is any...</td>\n",
       "      <td>I would like to point out that I would say \"Never\" for all areas, except for a single individual...</td>\n",
       "      <td>I feel harassed and bullied by an employee out of my department and don't feel like there is any...</td>\n",
       "      <td>I feel harassed and bullied by an employee out of my department and don't feel like there is any...</td>\n",
       "      <td>I would like to point out that I would say \"Never\" for all areas, except for a single individual...</td>\n",
       "      <td>I feel harassed and bullied by an employee out of my department and don't feel like there is any...</td>\n",
       "      <td>As part of a series of responses to a survey on diversity at the University of California, Berke...</td>\n",
       "      <td>As part of a series of responses to a survey on diversity at the University of California, Berke...</td>\n",
       "      <td>As part of a series of responses to a survey on diversity at the University of California, Berke...</td>\n",
       "    </tr>\n",
       "    <tr>\n",
       "      <th>3</th>\n",
       "      <td>10</td>\n",
       "      <td>SAW</td>\n",
       "      <td>UCANR</td>\n",
       "      <td>93005</td>\n",
       "      <td>Conduct &amp; Behavioral - Comments</td>\n",
       "      <td>Is it possible the commitment to diversity is so strong that it goes so far in one direction tha...</td>\n",
       "      <td>136</td>\n",
       "      <td>NaN</td>\n",
       "      <td>NaN</td>\n",
       "      <td>NaN</td>\n",
       "      <td>NaN</td>\n",
       "      <td>999999.0</td>\n",
       "      <td>NaN</td>\n",
       "      <td>NaN</td>\n",
       "      <td>NaN</td>\n",
       "      <td>NaN</td>\n",
       "      <td>NaN</td>\n",
       "      <td>NaN</td>\n",
       "      <td>NaN</td>\n",
       "      <td>NaN</td>\n",
       "      <td>NaN</td>\n",
       "      <td>NaN</td>\n",
       "      <td>NaN</td>\n",
       "      <td>NaN</td>\n",
       "      <td>NaN</td>\n",
       "      <td>NaN</td>\n",
       "      <td>NaN</td>\n",
       "      <td>NaN</td>\n",
       "      <td>NaN</td>\n",
       "      <td>NaN</td>\n",
       "      <td>NaN</td>\n",
       "      <td>NaN</td>\n",
       "      <td>NaN</td>\n",
       "      <td>NaN</td>\n",
       "      <td>NaN</td>\n",
       "      <td>NaN</td>\n",
       "      <td>NaN</td>\n",
       "      <td>NaN</td>\n",
       "      <td>I feel harassed and bullied by an employee out of my department and don't feel like there is any...</td>\n",
       "      <td>I would like to point out that I would say \"Never\" for all areas, except for a single individual...</td>\n",
       "      <td>I feel harassed and bullied by an employee out of my department and don't feel like there is any...</td>\n",
       "      <td>I feel harassed and bullied by an employee out of my department and don't feel like there is any...</td>\n",
       "      <td>I would like to point out that I would say \"Never\" for all areas, except for a single individual...</td>\n",
       "      <td>I feel harassed and bullied by an employee out of my department and don't feel like there is any...</td>\n",
       "      <td>As part of a series of responses to a survey on diversity at the University of California, Berke...</td>\n",
       "      <td>As part of a series of responses to a survey on diversity at the University of California, Berke...</td>\n",
       "      <td>As part of a series of responses to a survey on diversity at the University of California, Berke...</td>\n",
       "    </tr>\n",
       "    <tr>\n",
       "      <th>4</th>\n",
       "      <td>11</td>\n",
       "      <td>SAW</td>\n",
       "      <td>UCANR</td>\n",
       "      <td>93069</td>\n",
       "      <td>Comments re Work Environment at UC ANR</td>\n",
       "      <td>I believe ANR leadership is completely disconnected from the work of campus-based specialists. W...</td>\n",
       "      <td>293</td>\n",
       "      <td>NaN</td>\n",
       "      <td>NaN</td>\n",
       "      <td>NaN</td>\n",
       "      <td>NaN</td>\n",
       "      <td>999999.0</td>\n",
       "      <td>NaN</td>\n",
       "      <td>NaN</td>\n",
       "      <td>NaN</td>\n",
       "      <td>NaN</td>\n",
       "      <td>NaN</td>\n",
       "      <td>NaN</td>\n",
       "      <td>NaN</td>\n",
       "      <td>NaN</td>\n",
       "      <td>NaN</td>\n",
       "      <td>NaN</td>\n",
       "      <td>NaN</td>\n",
       "      <td>NaN</td>\n",
       "      <td>NaN</td>\n",
       "      <td>NaN</td>\n",
       "      <td>NaN</td>\n",
       "      <td>NaN</td>\n",
       "      <td>NaN</td>\n",
       "      <td>NaN</td>\n",
       "      <td>NaN</td>\n",
       "      <td>NaN</td>\n",
       "      <td>NaN</td>\n",
       "      <td>NaN</td>\n",
       "      <td>NaN</td>\n",
       "      <td>NaN</td>\n",
       "      <td>NaN</td>\n",
       "      <td>NaN</td>\n",
       "      <td>I'm frustrated with wages and lack of opportunity to move up in my job classification. I believe...</td>\n",
       "      <td>I'm frustrated with wages and lack of opportunity to move up in my job classification. I believe...</td>\n",
       "      <td>I believe ANR leadership is completely disconnected from the work of campus-based specialists. I...</td>\n",
       "      <td>I'm frustrated with wages and lack of opportunity to move up in my job classification. I believe...</td>\n",
       "      <td>I'm frustrated with wages and lack of opportunity to move up in my job classification. I believe...</td>\n",
       "      <td>I believe ANR leadership is completely disconnected from the work of campus-based specialists. I...</td>\n",
       "      <td>As part of a series of responses to a report by the University of California, Davis, on the stat...</td>\n",
       "      <td>As part of a series of responses to a report by the University of California, Davis, on the stat...</td>\n",
       "      <td>As part of a series of responses to a report by the University of California, Davis, on the stat...</td>\n",
       "    </tr>\n",
       "    <tr>\n",
       "      <th>5</th>\n",
       "      <td>12</td>\n",
       "      <td>SAW</td>\n",
       "      <td>UCANR</td>\n",
       "      <td>93005</td>\n",
       "      <td>Conduct &amp; Behavioral - Comments</td>\n",
       "      <td>the negativity is from academics outside of my unit who resent my unit</td>\n",
       "      <td>1</td>\n",
       "      <td>NaN</td>\n",
       "      <td>NaN</td>\n",
       "      <td>NaN</td>\n",
       "      <td>NaN</td>\n",
       "      <td>999999.0</td>\n",
       "      <td>100000.0</td>\n",
       "      <td>NaN</td>\n",
       "      <td>NaN</td>\n",
       "      <td>NaN</td>\n",
       "      <td>NaN</td>\n",
       "      <td>NaN</td>\n",
       "      <td>NaN</td>\n",
       "      <td>NaN</td>\n",
       "      <td>NaN</td>\n",
       "      <td>NaN</td>\n",
       "      <td>NaN</td>\n",
       "      <td>NaN</td>\n",
       "      <td>NaN</td>\n",
       "      <td>NaN</td>\n",
       "      <td>NaN</td>\n",
       "      <td>NaN</td>\n",
       "      <td>NaN</td>\n",
       "      <td>NaN</td>\n",
       "      <td>NaN</td>\n",
       "      <td>NaN</td>\n",
       "      <td>NaN</td>\n",
       "      <td>NaN</td>\n",
       "      <td>NaN</td>\n",
       "      <td>NaN</td>\n",
       "      <td>NaN</td>\n",
       "      <td>NaN</td>\n",
       "      <td>\"The negativity is from academics outside of my unit who resent my unit,\" she says. \"It's not my...</td>\n",
       "      <td>\"The negativity is from academics outside of my unit who resent my unit,\" she says. \"It's not my...</td>\n",
       "      <td>\"The negativity is from academics outside of my unit who resent my unit,\" she says. \"It's not my...</td>\n",
       "      <td>\"The negativity is from academics outside of my unit who resent my unit,\" she says. \"It's not my...</td>\n",
       "      <td>\"The negativity is from academics outside of my unit who resent my unit,\" she says. \"It's not my...</td>\n",
       "      <td>\"The negativity is from academics outside of my unit who resent my unit,\" she says. \"It's not my...</td>\n",
       "      <td>I have been receiving a lot of negativity about my work at the University of Aberdeen, but it is...</td>\n",
       "      <td>I have been receiving a lot of negativity about my work at the University of Aberdeen, but it is...</td>\n",
       "      <td>I have been receiving a lot of negativity about my work at the University of Aberdeen, but it is...</td>\n",
       "    </tr>\n",
       "    <tr>\n",
       "      <th>6</th>\n",
       "      <td>13</td>\n",
       "      <td>SAW</td>\n",
       "      <td>UCANR</td>\n",
       "      <td>93005</td>\n",
       "      <td>Conduct &amp; Behavioral - Comments</td>\n",
       "      <td>Is it possible the commitment to diversity is so strong that it goes so far in one direction tha...</td>\n",
       "      <td>120</td>\n",
       "      <td>NaN</td>\n",
       "      <td>NaN</td>\n",
       "      <td>NaN</td>\n",
       "      <td>NaN</td>\n",
       "      <td>999999.0</td>\n",
       "      <td>200000.0</td>\n",
       "      <td>NaN</td>\n",
       "      <td>NaN</td>\n",
       "      <td>NaN</td>\n",
       "      <td>NaN</td>\n",
       "      <td>NaN</td>\n",
       "      <td>NaN</td>\n",
       "      <td>NaN</td>\n",
       "      <td>NaN</td>\n",
       "      <td>NaN</td>\n",
       "      <td>NaN</td>\n",
       "      <td>NaN</td>\n",
       "      <td>NaN</td>\n",
       "      <td>NaN</td>\n",
       "      <td>NaN</td>\n",
       "      <td>NaN</td>\n",
       "      <td>NaN</td>\n",
       "      <td>NaN</td>\n",
       "      <td>NaN</td>\n",
       "      <td>NaN</td>\n",
       "      <td>NaN</td>\n",
       "      <td>NaN</td>\n",
       "      <td>NaN</td>\n",
       "      <td>NaN</td>\n",
       "      <td>NaN</td>\n",
       "      <td>NaN</td>\n",
       "      <td>In general there could be more awareness of the fact that many people are not Christian. Staff a...</td>\n",
       "      <td>In general there could be more awareness of the fact that many people are not Christian. Staff a...</td>\n",
       "      <td>In general there could be more awareness of the fact that many people are not Christian. Staff a...</td>\n",
       "      <td>In general there could be more awareness of the fact that many people are not Christian. Staff a...</td>\n",
       "      <td>In general there could be more awareness of the fact that many people are not Christian. Staff a...</td>\n",
       "      <td>In general there could be more awareness of the fact that many people are not Christian. Staff a...</td>\n",
       "      <td>What do you think are some of the most common complaints about the work environment at the Unive...</td>\n",
       "      <td>What do you think are some of the most common complaints about the work environment at the Unive...</td>\n",
       "      <td>What do you think are some of the most common complaints about the work environment at the Unive...</td>\n",
       "    </tr>\n",
       "    <tr>\n",
       "      <th>7</th>\n",
       "      <td>14</td>\n",
       "      <td>SAW</td>\n",
       "      <td>UCANR</td>\n",
       "      <td>93005</td>\n",
       "      <td>Conduct &amp; Behavioral - Comments</td>\n",
       "      <td>I would like to point out that I would say \"Never\" for all areas, except for a single individual...</td>\n",
       "      <td>15</td>\n",
       "      <td>NaN</td>\n",
       "      <td>NaN</td>\n",
       "      <td>NaN</td>\n",
       "      <td>NaN</td>\n",
       "      <td>999999.0</td>\n",
       "      <td>300000.0</td>\n",
       "      <td>NaN</td>\n",
       "      <td>NaN</td>\n",
       "      <td>NaN</td>\n",
       "      <td>NaN</td>\n",
       "      <td>NaN</td>\n",
       "      <td>NaN</td>\n",
       "      <td>NaN</td>\n",
       "      <td>NaN</td>\n",
       "      <td>NaN</td>\n",
       "      <td>NaN</td>\n",
       "      <td>NaN</td>\n",
       "      <td>NaN</td>\n",
       "      <td>NaN</td>\n",
       "      <td>NaN</td>\n",
       "      <td>NaN</td>\n",
       "      <td>NaN</td>\n",
       "      <td>NaN</td>\n",
       "      <td>NaN</td>\n",
       "      <td>NaN</td>\n",
       "      <td>NaN</td>\n",
       "      <td>NaN</td>\n",
       "      <td>NaN</td>\n",
       "      <td>NaN</td>\n",
       "      <td>NaN</td>\n",
       "      <td>NaN</td>\n",
       "      <td>I feel bullied and unappreciated for my skills and the hard work I do by a prior supervisor and ...</td>\n",
       "      <td>I feel bullied and unappreciated for my skills and the hard work I do by a prior supervisor and ...</td>\n",
       "      <td>I feel bullied and unappreciated for my skills and the hard work I do by a prior supervisor and ...</td>\n",
       "      <td>I feel bullied and unappreciated for my skills and the hard work I do by a prior supervisor and ...</td>\n",
       "      <td>I feel bullied and unappreciated for my skills and the hard work I do by a prior supervisor and ...</td>\n",
       "      <td>I feel bullied and unappreciated for my skills and the hard work I do by a prior supervisor and ...</td>\n",
       "      <td>Here are some of the responses to a survey by the American National Registry (ANR) asking staff ...</td>\n",
       "      <td>Here are some of the responses to a survey by the American National Registry (ANR) asking staff ...</td>\n",
       "      <td>Here are some of the responses to a survey by the American National Registry (ANR) asking staff ...</td>\n",
       "    </tr>\n",
       "    <tr>\n",
       "      <th>8</th>\n",
       "      <td>15</td>\n",
       "      <td>SAW</td>\n",
       "      <td>UCANR</td>\n",
       "      <td>93069</td>\n",
       "      <td>Comments re Work Environment at UC ANR</td>\n",
       "      <td>I wonder if the negative leadership issues we experience are related to lack of business/managem...</td>\n",
       "      <td>1</td>\n",
       "      <td>NaN</td>\n",
       "      <td>NaN</td>\n",
       "      <td>NaN</td>\n",
       "      <td>NaN</td>\n",
       "      <td>999999.0</td>\n",
       "      <td>100000.0</td>\n",
       "      <td>NaN</td>\n",
       "      <td>NaN</td>\n",
       "      <td>NaN</td>\n",
       "      <td>NaN</td>\n",
       "      <td>NaN</td>\n",
       "      <td>NaN</td>\n",
       "      <td>NaN</td>\n",
       "      <td>NaN</td>\n",
       "      <td>NaN</td>\n",
       "      <td>NaN</td>\n",
       "      <td>NaN</td>\n",
       "      <td>NaN</td>\n",
       "      <td>NaN</td>\n",
       "      <td>NaN</td>\n",
       "      <td>NaN</td>\n",
       "      <td>NaN</td>\n",
       "      <td>NaN</td>\n",
       "      <td>NaN</td>\n",
       "      <td>NaN</td>\n",
       "      <td>NaN</td>\n",
       "      <td>NaN</td>\n",
       "      <td>NaN</td>\n",
       "      <td>NaN</td>\n",
       "      <td>NaN</td>\n",
       "      <td>NaN</td>\n",
       "      <td>\"I wonder if the negative leadership issues we experience are related to lack of business/manage...</td>\n",
       "      <td>\"I wonder if the negative leadership issues we experience are related to lack of business/manage...</td>\n",
       "      <td>\"I wonder if the negative leadership issues we experience are related to lack of business/manage...</td>\n",
       "      <td>\"I wonder if the negative leadership issues we experience are related to lack of business/manage...</td>\n",
       "      <td>\"I wonder if the negative leadership issues we experience are related to lack of business/manage...</td>\n",
       "      <td>\"I wonder if the negative leadership issues we experience are related to lack of business/manage...</td>\n",
       "      <td>In my experience as a senior manager at an international insurance company, there is a culture o...</td>\n",
       "      <td>In my experience as a senior manager at an international insurance company, there is a culture o...</td>\n",
       "      <td>In my experience as a senior manager at an international insurance company, there is a culture o...</td>\n",
       "    </tr>\n",
       "    <tr>\n",
       "      <th>9</th>\n",
       "      <td>16</td>\n",
       "      <td>SAW</td>\n",
       "      <td>UCANR</td>\n",
       "      <td>93069</td>\n",
       "      <td>Comments re Work Environment at UC ANR</td>\n",
       "      <td>I believe ANR leadership is completely disconnected from the work of campus-based specialists. W...</td>\n",
       "      <td>268</td>\n",
       "      <td>NaN</td>\n",
       "      <td>NaN</td>\n",
       "      <td>NaN</td>\n",
       "      <td>NaN</td>\n",
       "      <td>999999.0</td>\n",
       "      <td>200000.0</td>\n",
       "      <td>NaN</td>\n",
       "      <td>NaN</td>\n",
       "      <td>NaN</td>\n",
       "      <td>NaN</td>\n",
       "      <td>NaN</td>\n",
       "      <td>NaN</td>\n",
       "      <td>NaN</td>\n",
       "      <td>NaN</td>\n",
       "      <td>NaN</td>\n",
       "      <td>NaN</td>\n",
       "      <td>NaN</td>\n",
       "      <td>NaN</td>\n",
       "      <td>NaN</td>\n",
       "      <td>NaN</td>\n",
       "      <td>NaN</td>\n",
       "      <td>NaN</td>\n",
       "      <td>NaN</td>\n",
       "      <td>NaN</td>\n",
       "      <td>NaN</td>\n",
       "      <td>NaN</td>\n",
       "      <td>NaN</td>\n",
       "      <td>NaN</td>\n",
       "      <td>NaN</td>\n",
       "      <td>NaN</td>\n",
       "      <td>NaN</td>\n",
       "      <td>I'm frustrated with wages and lack of opportunity to move up in my job classification. I believe...</td>\n",
       "      <td>I'm frustrated with wages and lack of opportunity to move up in my job classification. I believe...</td>\n",
       "      <td>I'm frustrated with wages and lack of opportunity to move up in my job classification. I believe...</td>\n",
       "      <td>I'm frustrated with wages and lack of opportunity to move up in my job classification. I believe...</td>\n",
       "      <td>I'm frustrated with wages and lack of opportunity to move up in my job classification. I believe...</td>\n",
       "      <td>I'm frustrated with wages and lack of opportunity to move up in my job classification. I believe...</td>\n",
       "      <td>As part of a series of responses to a survey by the California Department of Agricultural and Na...</td>\n",
       "      <td>As part of a series of responses to a survey by the California Department of Agricultural and Na...</td>\n",
       "      <td>As part of a series of responses to a survey by the California Department of Agricultural and Na...</td>\n",
       "    </tr>\n",
       "    <tr>\n",
       "      <th>10</th>\n",
       "      <td>17</td>\n",
       "      <td>SAW</td>\n",
       "      <td>UCANR</td>\n",
       "      <td>93069</td>\n",
       "      <td>Comments re Work Environment at UC ANR</td>\n",
       "      <td>While our department has a good work environment as a whole there are several area's that are a ...</td>\n",
       "      <td>24</td>\n",
       "      <td>NaN</td>\n",
       "      <td>NaN</td>\n",
       "      <td>NaN</td>\n",
       "      <td>NaN</td>\n",
       "      <td>999999.0</td>\n",
       "      <td>300000.0</td>\n",
       "      <td>NaN</td>\n",
       "      <td>NaN</td>\n",
       "      <td>NaN</td>\n",
       "      <td>NaN</td>\n",
       "      <td>NaN</td>\n",
       "      <td>NaN</td>\n",
       "      <td>NaN</td>\n",
       "      <td>NaN</td>\n",
       "      <td>NaN</td>\n",
       "      <td>NaN</td>\n",
       "      <td>NaN</td>\n",
       "      <td>NaN</td>\n",
       "      <td>NaN</td>\n",
       "      <td>NaN</td>\n",
       "      <td>NaN</td>\n",
       "      <td>NaN</td>\n",
       "      <td>NaN</td>\n",
       "      <td>NaN</td>\n",
       "      <td>NaN</td>\n",
       "      <td>NaN</td>\n",
       "      <td>NaN</td>\n",
       "      <td>NaN</td>\n",
       "      <td>NaN</td>\n",
       "      <td>NaN</td>\n",
       "      <td>NaN</td>\n",
       "      <td>Staff development is STILL a problem to me -- even if it was actively encouraged, I'd have troub...</td>\n",
       "      <td>Staff development is STILL a problem to me -- even if it was actively encouraged, I'd have troub...</td>\n",
       "      <td>Staff development is STILL a problem to me -- even if it was actively encouraged, I'd have troub...</td>\n",
       "      <td>Staff development is STILL a problem to me -- even if it was actively encouraged, I'd have troub...</td>\n",
       "      <td>Staff development is STILL a problem to me -- even if it was actively encouraged, I'd have troub...</td>\n",
       "      <td>Staff development is STILL a problem to me -- even if it was actively encouraged, I'd have troub...</td>\n",
       "      <td>A member of the staff at the University of California Agricultural and Natural Resources Divisio...</td>\n",
       "      <td>A member of the staff at the University of California Agricultural and Natural Resources Divisio...</td>\n",
       "      <td>A member of the staff at the University of California Agricultural and Natural Resources Divisio...</td>\n",
       "    </tr>\n",
       "    <tr>\n",
       "      <th>11</th>\n",
       "      <td>18</td>\n",
       "      <td>SAW</td>\n",
       "      <td>UCANR</td>\n",
       "      <td>93005</td>\n",
       "      <td>Conduct &amp; Behavioral - Comments</td>\n",
       "      <td>I'd be interested to hear leadership's thoughts on including pronouns in our email signatures, o...</td>\n",
       "      <td>1</td>\n",
       "      <td>NaN</td>\n",
       "      <td>NaN</td>\n",
       "      <td>NaN</td>\n",
       "      <td>NaN</td>\n",
       "      <td>999999.0</td>\n",
       "      <td>200000.0</td>\n",
       "      <td>210000.0</td>\n",
       "      <td>NaN</td>\n",
       "      <td>NaN</td>\n",
       "      <td>NaN</td>\n",
       "      <td>NaN</td>\n",
       "      <td>NaN</td>\n",
       "      <td>NaN</td>\n",
       "      <td>NaN</td>\n",
       "      <td>NaN</td>\n",
       "      <td>NaN</td>\n",
       "      <td>NaN</td>\n",
       "      <td>NaN</td>\n",
       "      <td>NaN</td>\n",
       "      <td>NaN</td>\n",
       "      <td>NaN</td>\n",
       "      <td>NaN</td>\n",
       "      <td>NaN</td>\n",
       "      <td>NaN</td>\n",
       "      <td>NaN</td>\n",
       "      <td>NaN</td>\n",
       "      <td>NaN</td>\n",
       "      <td>NaN</td>\n",
       "      <td>NaN</td>\n",
       "      <td>NaN</td>\n",
       "      <td>NaN</td>\n",
       "      <td>I'd be interested to hear leadership's thoughts on including pronouns in our email signatures, o...</td>\n",
       "      <td>I'd be interested to hear leadership's thoughts on including pronouns in our email signatures, o...</td>\n",
       "      <td>I'd be interested to hear leadership's thoughts on including pronouns in our email signatures, o...</td>\n",
       "      <td>I'd be interested to hear leadership's thoughts on including pronouns in our email signatures, o...</td>\n",
       "      <td>I'd be interested to hear leadership's thoughts on including pronouns in our email signatures, o...</td>\n",
       "      <td>I'd be interested to hear leadership's thoughts on including pronouns in our email signatures, o...</td>\n",
       "      <td>As part of our ongoing efforts to promote gender equality in the workplace, I've been asked to w...</td>\n",
       "      <td>As part of our ongoing efforts to promote gender equality in the workplace, I've been asked to w...</td>\n",
       "      <td>As part of our ongoing efforts to promote gender equality in the workplace, I've been asked to w...</td>\n",
       "    </tr>\n",
       "    <tr>\n",
       "      <th>12</th>\n",
       "      <td>19</td>\n",
       "      <td>SAW</td>\n",
       "      <td>UCANR</td>\n",
       "      <td>93005</td>\n",
       "      <td>Conduct &amp; Behavioral - Comments</td>\n",
       "      <td>I don't know if people \"talked behind my back.\"I have had no problems in this area.As a staff me...</td>\n",
       "      <td>4</td>\n",
       "      <td>NaN</td>\n",
       "      <td>NaN</td>\n",
       "      <td>NaN</td>\n",
       "      <td>NaN</td>\n",
       "      <td>999999.0</td>\n",
       "      <td>200000.0</td>\n",
       "      <td>220000.0</td>\n",
       "      <td>NaN</td>\n",
       "      <td>NaN</td>\n",
       "      <td>NaN</td>\n",
       "      <td>NaN</td>\n",
       "      <td>NaN</td>\n",
       "      <td>NaN</td>\n",
       "      <td>NaN</td>\n",
       "      <td>NaN</td>\n",
       "      <td>NaN</td>\n",
       "      <td>NaN</td>\n",
       "      <td>NaN</td>\n",
       "      <td>NaN</td>\n",
       "      <td>NaN</td>\n",
       "      <td>NaN</td>\n",
       "      <td>NaN</td>\n",
       "      <td>NaN</td>\n",
       "      <td>NaN</td>\n",
       "      <td>NaN</td>\n",
       "      <td>NaN</td>\n",
       "      <td>NaN</td>\n",
       "      <td>NaN</td>\n",
       "      <td>NaN</td>\n",
       "      <td>NaN</td>\n",
       "      <td>NaN</td>\n",
       "      <td>As a staff member, I feel less valued than academic employees. There are a few people who get st...</td>\n",
       "      <td>As a staff member, I feel less valued than academic employees. There are a few people who get st...</td>\n",
       "      <td>As a staff member, I feel less valued than academic employees. There are a few people who get st...</td>\n",
       "      <td>As a staff member, I feel less valued than academic employees. There are a few people who get st...</td>\n",
       "      <td>As a staff member, I feel less valued than academic employees. There are a few people who get st...</td>\n",
       "      <td>As a staff member, I feel less valued than academic employees. There are a few people who get st...</td>\n",
       "      <td>There are a few people who get stressed and lash out, but most people are very respectful and un...</td>\n",
       "      <td>There are a few people who get stressed and lash out, but most people are very respectful and un...</td>\n",
       "      <td>There are a few people who get stressed and lash out, but most people are very respectful and un...</td>\n",
       "    </tr>\n",
       "    <tr>\n",
       "      <th>13</th>\n",
       "      <td>20</td>\n",
       "      <td>SAW</td>\n",
       "      <td>UCANR</td>\n",
       "      <td>93005</td>\n",
       "      <td>Conduct &amp; Behavioral - Comments</td>\n",
       "      <td>Most people I interact with treat people as people and the race/sexual identity stuff is not imp...</td>\n",
       "      <td>10</td>\n",
       "      <td>NaN</td>\n",
       "      <td>NaN</td>\n",
       "      <td>NaN</td>\n",
       "      <td>NaN</td>\n",
       "      <td>999999.0</td>\n",
       "      <td>200000.0</td>\n",
       "      <td>230000.0</td>\n",
       "      <td>NaN</td>\n",
       "      <td>NaN</td>\n",
       "      <td>NaN</td>\n",
       "      <td>NaN</td>\n",
       "      <td>NaN</td>\n",
       "      <td>NaN</td>\n",
       "      <td>NaN</td>\n",
       "      <td>NaN</td>\n",
       "      <td>NaN</td>\n",
       "      <td>NaN</td>\n",
       "      <td>NaN</td>\n",
       "      <td>NaN</td>\n",
       "      <td>NaN</td>\n",
       "      <td>NaN</td>\n",
       "      <td>NaN</td>\n",
       "      <td>NaN</td>\n",
       "      <td>NaN</td>\n",
       "      <td>NaN</td>\n",
       "      <td>NaN</td>\n",
       "      <td>NaN</td>\n",
       "      <td>NaN</td>\n",
       "      <td>NaN</td>\n",
       "      <td>NaN</td>\n",
       "      <td>NaN</td>\n",
       "      <td>The individual who used to treat me this was no longer works at UCANR. Most people I interact wi...</td>\n",
       "      <td>The individual who used to treat me this was no longer works at UCANR. My supervisor handled the...</td>\n",
       "      <td>The individual who used to treat me this was no longer works at UCANR. My supervisor handled the...</td>\n",
       "      <td>The individual who used to treat me this was no longer works at UCANR. Most people I interact wi...</td>\n",
       "      <td>The individual who used to treat me this was no longer works at UCANR. My supervisor handled the...</td>\n",
       "      <td>The individual who used to treat me this was no longer works at UCANR. My supervisor handled the...</td>\n",
       "      <td>I don't have personal experience at work with discrimination or harassment, but I have been the ...</td>\n",
       "      <td>I don't have personal experience at work with discrimination or harassment, but I have been the ...</td>\n",
       "      <td>I don't have personal experience at work with discrimination or harassment, but I have been the ...</td>\n",
       "    </tr>\n",
       "    <tr>\n",
       "      <th>14</th>\n",
       "      <td>21</td>\n",
       "      <td>SAW</td>\n",
       "      <td>UCANR</td>\n",
       "      <td>93005</td>\n",
       "      <td>Conduct &amp; Behavioral - Comments</td>\n",
       "      <td>Is it possible the commitment to diversity is so strong that it goes so far in one direction tha...</td>\n",
       "      <td>78</td>\n",
       "      <td>NaN</td>\n",
       "      <td>NaN</td>\n",
       "      <td>NaN</td>\n",
       "      <td>NaN</td>\n",
       "      <td>999999.0</td>\n",
       "      <td>200000.0</td>\n",
       "      <td>240000.0</td>\n",
       "      <td>NaN</td>\n",
       "      <td>NaN</td>\n",
       "      <td>NaN</td>\n",
       "      <td>NaN</td>\n",
       "      <td>NaN</td>\n",
       "      <td>NaN</td>\n",
       "      <td>NaN</td>\n",
       "      <td>NaN</td>\n",
       "      <td>NaN</td>\n",
       "      <td>NaN</td>\n",
       "      <td>NaN</td>\n",
       "      <td>NaN</td>\n",
       "      <td>NaN</td>\n",
       "      <td>NaN</td>\n",
       "      <td>NaN</td>\n",
       "      <td>NaN</td>\n",
       "      <td>NaN</td>\n",
       "      <td>NaN</td>\n",
       "      <td>NaN</td>\n",
       "      <td>NaN</td>\n",
       "      <td>NaN</td>\n",
       "      <td>NaN</td>\n",
       "      <td>NaN</td>\n",
       "      <td>NaN</td>\n",
       "      <td>I feel harassed and bullied by an employee out of my department and don't feel like there is any...</td>\n",
       "      <td>I feel harassed and bullied by an employee out of my department. I enjoy working with my immedia...</td>\n",
       "      <td>I feel harassed and bullied by an employee out of my department. I enjoy working with my immedia...</td>\n",
       "      <td>I feel harassed and bullied by an employee out of my department and don't feel like there is any...</td>\n",
       "      <td>I feel harassed and bullied by an employee out of my department. I enjoy working with my immedia...</td>\n",
       "      <td>I feel harassed and bullied by an employee out of my department. I enjoy working with my immedia...</td>\n",
       "      <td>What are your experiences of discrimination and harassment in the workplace at the University of...</td>\n",
       "      <td>What are your experiences of discrimination and harassment in the workplace at the University of...</td>\n",
       "      <td>What are your experiences of discrimination and harassment in the workplace at the University of...</td>\n",
       "    </tr>\n",
       "    <tr>\n",
       "      <th>15</th>\n",
       "      <td>22</td>\n",
       "      <td>SAW</td>\n",
       "      <td>UCANR</td>\n",
       "      <td>93005</td>\n",
       "      <td>Conduct &amp; Behavioral - Comments</td>\n",
       "      <td>In general there could be more awareness of the fact that many people are not Christian. I find ...</td>\n",
       "      <td>18</td>\n",
       "      <td>NaN</td>\n",
       "      <td>NaN</td>\n",
       "      <td>NaN</td>\n",
       "      <td>NaN</td>\n",
       "      <td>999999.0</td>\n",
       "      <td>200000.0</td>\n",
       "      <td>250000.0</td>\n",
       "      <td>NaN</td>\n",
       "      <td>NaN</td>\n",
       "      <td>NaN</td>\n",
       "      <td>NaN</td>\n",
       "      <td>NaN</td>\n",
       "      <td>NaN</td>\n",
       "      <td>NaN</td>\n",
       "      <td>NaN</td>\n",
       "      <td>NaN</td>\n",
       "      <td>NaN</td>\n",
       "      <td>NaN</td>\n",
       "      <td>NaN</td>\n",
       "      <td>NaN</td>\n",
       "      <td>NaN</td>\n",
       "      <td>NaN</td>\n",
       "      <td>NaN</td>\n",
       "      <td>NaN</td>\n",
       "      <td>NaN</td>\n",
       "      <td>NaN</td>\n",
       "      <td>NaN</td>\n",
       "      <td>NaN</td>\n",
       "      <td>NaN</td>\n",
       "      <td>NaN</td>\n",
       "      <td>NaN</td>\n",
       "      <td>Staff are sometimes kept out of discussions about projects they are working on. In general there...</td>\n",
       "      <td>Staff are sometimes kept out of discussions about projects they are working on. In general there...</td>\n",
       "      <td>As a person of color in the United States, I experience micro-aggressions frequently, throughout...</td>\n",
       "      <td>Staff are sometimes kept out of discussions about projects they are working on. In general there...</td>\n",
       "      <td>Staff are sometimes kept out of discussions about projects they are working on. In general there...</td>\n",
       "      <td>As a person of color in the United States, I experience micro-aggressions frequently, throughout...</td>\n",
       "      <td>A number of people have sent in their experiences of working at the University of California, An...</td>\n",
       "      <td>A number of people have sent in their experiences of working at the University of California, An...</td>\n",
       "      <td>A number of people have sent in their experiences of working at the University of California, An...</td>\n",
       "    </tr>\n",
       "    <tr>\n",
       "      <th>16</th>\n",
       "      <td>23</td>\n",
       "      <td>SAW</td>\n",
       "      <td>UCANR</td>\n",
       "      <td>93005</td>\n",
       "      <td>Conduct &amp; Behavioral - Comments</td>\n",
       "      <td>this set of questions seem to lump professional differences of opinion based strongly on the per...</td>\n",
       "      <td>9</td>\n",
       "      <td>NaN</td>\n",
       "      <td>NaN</td>\n",
       "      <td>NaN</td>\n",
       "      <td>NaN</td>\n",
       "      <td>999999.0</td>\n",
       "      <td>200000.0</td>\n",
       "      <td>260000.0</td>\n",
       "      <td>NaN</td>\n",
       "      <td>NaN</td>\n",
       "      <td>NaN</td>\n",
       "      <td>NaN</td>\n",
       "      <td>NaN</td>\n",
       "      <td>NaN</td>\n",
       "      <td>NaN</td>\n",
       "      <td>NaN</td>\n",
       "      <td>NaN</td>\n",
       "      <td>NaN</td>\n",
       "      <td>NaN</td>\n",
       "      <td>NaN</td>\n",
       "      <td>NaN</td>\n",
       "      <td>NaN</td>\n",
       "      <td>NaN</td>\n",
       "      <td>NaN</td>\n",
       "      <td>NaN</td>\n",
       "      <td>NaN</td>\n",
       "      <td>NaN</td>\n",
       "      <td>NaN</td>\n",
       "      <td>NaN</td>\n",
       "      <td>NaN</td>\n",
       "      <td>NaN</td>\n",
       "      <td>NaN</td>\n",
       "      <td>Older male colleagues sometimes do not recognize their attitudes are out of step with the times;...</td>\n",
       "      <td>Older male colleagues sometimes do not recognize their attitudes are out of step with the times;...</td>\n",
       "      <td>Older male colleagues sometimes do not recognize their attitudes are out of step with the times;...</td>\n",
       "      <td>Older male colleagues sometimes do not recognize their attitudes are out of step with the times;...</td>\n",
       "      <td>Older male colleagues sometimes do not recognize their attitudes are out of step with the times;...</td>\n",
       "      <td>Older male colleagues sometimes do not recognize their attitudes are out of step with the times;...</td>\n",
       "      <td>The challenges in this job relate to interactions with people who make decisions that impact my ...</td>\n",
       "      <td>The challenges in this job relate to interactions with people who make decisions that impact my ...</td>\n",
       "      <td>The challenges in this job relate to interactions with people who make decisions that impact my ...</td>\n",
       "    </tr>\n",
       "    <tr>\n",
       "      <th>17</th>\n",
       "      <td>24</td>\n",
       "      <td>SAW</td>\n",
       "      <td>UCANR</td>\n",
       "      <td>93005</td>\n",
       "      <td>Conduct &amp; Behavioral - Comments</td>\n",
       "      <td>I would like to point out that I would say \"Never\" for all areas, except for a single individual...</td>\n",
       "      <td>15</td>\n",
       "      <td>NaN</td>\n",
       "      <td>NaN</td>\n",
       "      <td>NaN</td>\n",
       "      <td>NaN</td>\n",
       "      <td>999999.0</td>\n",
       "      <td>300000.0</td>\n",
       "      <td>320000.0</td>\n",
       "      <td>NaN</td>\n",
       "      <td>NaN</td>\n",
       "      <td>NaN</td>\n",
       "      <td>NaN</td>\n",
       "      <td>NaN</td>\n",
       "      <td>NaN</td>\n",
       "      <td>NaN</td>\n",
       "      <td>NaN</td>\n",
       "      <td>NaN</td>\n",
       "      <td>NaN</td>\n",
       "      <td>NaN</td>\n",
       "      <td>NaN</td>\n",
       "      <td>NaN</td>\n",
       "      <td>NaN</td>\n",
       "      <td>NaN</td>\n",
       "      <td>NaN</td>\n",
       "      <td>NaN</td>\n",
       "      <td>NaN</td>\n",
       "      <td>NaN</td>\n",
       "      <td>NaN</td>\n",
       "      <td>NaN</td>\n",
       "      <td>NaN</td>\n",
       "      <td>NaN</td>\n",
       "      <td>NaN</td>\n",
       "      <td>I feel bullied and unappreciated for my skills and the hard work I do by a prior supervisor and ...</td>\n",
       "      <td>I feel bullied and unappreciated for my skills and the hard work I do by a prior supervisor and ...</td>\n",
       "      <td>I feel bullied and unappreciated for my skills and the hard work I do by a prior supervisor and ...</td>\n",
       "      <td>I feel bullied and unappreciated for my skills and the hard work I do by a prior supervisor and ...</td>\n",
       "      <td>I feel bullied and unappreciated for my skills and the hard work I do by a prior supervisor and ...</td>\n",
       "      <td>I feel bullied and unappreciated for my skills and the hard work I do by a prior supervisor and ...</td>\n",
       "      <td>Here are some of the responses to a survey by the American National Registry (ANR) asking staff ...</td>\n",
       "      <td>Here are some of the responses to a survey by the American National Registry (ANR) asking staff ...</td>\n",
       "      <td>Here are some of the responses to a survey by the American National Registry (ANR) asking staff ...</td>\n",
       "    </tr>\n",
       "    <tr>\n",
       "      <th>18</th>\n",
       "      <td>25</td>\n",
       "      <td>SAW</td>\n",
       "      <td>UCANR</td>\n",
       "      <td>93069</td>\n",
       "      <td>Comments re Work Environment at UC ANR</td>\n",
       "      <td>Concerns: The recharge model creates a heavy administrative burden and is anti-collaborative. Th...</td>\n",
       "      <td>4</td>\n",
       "      <td>NaN</td>\n",
       "      <td>NaN</td>\n",
       "      <td>NaN</td>\n",
       "      <td>NaN</td>\n",
       "      <td>999999.0</td>\n",
       "      <td>200000.0</td>\n",
       "      <td>210000.0</td>\n",
       "      <td>NaN</td>\n",
       "      <td>NaN</td>\n",
       "      <td>NaN</td>\n",
       "      <td>NaN</td>\n",
       "      <td>NaN</td>\n",
       "      <td>NaN</td>\n",
       "      <td>NaN</td>\n",
       "      <td>NaN</td>\n",
       "      <td>NaN</td>\n",
       "      <td>NaN</td>\n",
       "      <td>NaN</td>\n",
       "      <td>NaN</td>\n",
       "      <td>NaN</td>\n",
       "      <td>NaN</td>\n",
       "      <td>NaN</td>\n",
       "      <td>NaN</td>\n",
       "      <td>NaN</td>\n",
       "      <td>NaN</td>\n",
       "      <td>NaN</td>\n",
       "      <td>NaN</td>\n",
       "      <td>NaN</td>\n",
       "      <td>NaN</td>\n",
       "      <td>NaN</td>\n",
       "      <td>NaN</td>\n",
       "      <td>The recharge model creates a heavy administrative burden and is anti-collaborative. The ongoing ...</td>\n",
       "      <td>The recharge model creates a heavy administrative burden and is anti-collaborative. The ongoing ...</td>\n",
       "      <td>The recharge model creates a heavy administrative burden and is anti-collaborative. The ongoing ...</td>\n",
       "      <td>The recharge model creates a heavy administrative burden and is anti-collaborative. The ongoing ...</td>\n",
       "      <td>The recharge model creates a heavy administrative burden and is anti-collaborative. The ongoing ...</td>\n",
       "      <td>The recharge model creates a heavy administrative burden and is anti-collaborative. The ongoing ...</td>\n",
       "      <td>As part of a series of letters to the editor from Californians, a member of the staff of the Ass...</td>\n",
       "      <td>As part of a series of letters to the editor from Californians, a member of the staff of the Ass...</td>\n",
       "      <td>As part of a series of letters to the editor from Californians, a member of the staff of the Ass...</td>\n",
       "    </tr>\n",
       "    <tr>\n",
       "      <th>19</th>\n",
       "      <td>26</td>\n",
       "      <td>SAW</td>\n",
       "      <td>UCANR</td>\n",
       "      <td>93069</td>\n",
       "      <td>Comments re Work Environment at UC ANR</td>\n",
       "      <td>There is no opportunity for career advancement for staff. The only option is to leave the univer...</td>\n",
       "      <td>13</td>\n",
       "      <td>NaN</td>\n",
       "      <td>NaN</td>\n",
       "      <td>NaN</td>\n",
       "      <td>NaN</td>\n",
       "      <td>999999.0</td>\n",
       "      <td>200000.0</td>\n",
       "      <td>220000.0</td>\n",
       "      <td>NaN</td>\n",
       "      <td>NaN</td>\n",
       "      <td>NaN</td>\n",
       "      <td>NaN</td>\n",
       "      <td>NaN</td>\n",
       "      <td>NaN</td>\n",
       "      <td>NaN</td>\n",
       "      <td>NaN</td>\n",
       "      <td>NaN</td>\n",
       "      <td>NaN</td>\n",
       "      <td>NaN</td>\n",
       "      <td>NaN</td>\n",
       "      <td>NaN</td>\n",
       "      <td>NaN</td>\n",
       "      <td>NaN</td>\n",
       "      <td>NaN</td>\n",
       "      <td>NaN</td>\n",
       "      <td>NaN</td>\n",
       "      <td>NaN</td>\n",
       "      <td>NaN</td>\n",
       "      <td>NaN</td>\n",
       "      <td>NaN</td>\n",
       "      <td>NaN</td>\n",
       "      <td>NaN</td>\n",
       "      <td>There is no opportunity for career advancement for staff. The only option is to leave the univer...</td>\n",
       "      <td>There is no opportunity for career advancement for staff. The only option is to leave the univer...</td>\n",
       "      <td>There is no opportunity for career advancement for staff. The only option is to leave the univer...</td>\n",
       "      <td>There is no opportunity for career advancement for staff. The only option is to leave the univer...</td>\n",
       "      <td>There is no opportunity for career advancement for staff. The only option is to leave the univer...</td>\n",
       "      <td>There is no opportunity for career advancement for staff. The only option is to leave the univer...</td>\n",
       "      <td>Here are some of the comments from people who have worked at the American National Research Coun...</td>\n",
       "      <td>Here are some of the comments from people who work for the American National Research Council (A...</td>\n",
       "      <td>Here are some of the comments from people who have worked at the American National Research Coun...</td>\n",
       "    </tr>\n",
       "  </tbody>\n",
       "</table>\n",
       "</div>"
      ],
      "text/plain": [
       "    index benchmark_survey_type client_id  question_ans_id                    question_report_abbr                                                                                     answer_text_join  answer_text_count question_category_abbr  benchmark_level1  benchmark_level2  benchmark_level3  group_level1_code  group_level2_code  group_level3_code  group_level4_code  group_level5_code  group_level6_code  group_level7_code  group_level8_code custom_value1  custom_value2  custom_value3  custom_value4  custom_value5  custom_value6  custom_value7  custom_value8  custom_value9  custom_value10  custom_value11  custom_value12  custom_value13  custom_value14  custom_value15  benchmark_identity  benchmark_sub_identity  client_identity  client_sub_identity                                                                                       pred_summary_1                                                                                       pred_summary_2  \\\n",
       "0       0                   SAW     UCANR            93005         Conduct & Behavioral - Comments  Is it possible the commitment to diversity is so strong that it goes so far in one direction tha...                136                    NaN               NaN               NaN               NaN                NaN                NaN                NaN                NaN                NaN                NaN                NaN                NaN           NaN            NaN            NaN            NaN            NaN            NaN            NaN            NaN            NaN             NaN             NaN             NaN             NaN             NaN             NaN                 NaN                     NaN              NaN                  NaN  I feel harassed and bullied by an employee out of my department and don't feel like there is any...  I would like to point out that I would say \"Never\" for all areas, except for a single individual...   \n",
       "1       1                   SAW     UCANR            93069  Comments re Work Environment at UC ANR  I believe ANR leadership is completely disconnected from the work of campus-based specialists. W...                293                    NaN               NaN               NaN               NaN                NaN                NaN                NaN                NaN                NaN                NaN                NaN                NaN           NaN            NaN            NaN            NaN            NaN            NaN            NaN            NaN            NaN             NaN             NaN             NaN             NaN             NaN             NaN                 NaN                     NaN              NaN                  NaN  I'm frustrated with wages and lack of opportunity to move up in my job classification. I believe...  I'm frustrated with wages and lack of opportunity to move up in my job classification. I believe...   \n",
       "2       2                   SAW     UCANR            93005         Conduct & Behavioral - Comments  Is it possible the commitment to diversity is so strong that it goes so far in one direction tha...                136                    EDI               NaN               NaN               NaN                NaN                NaN                NaN                NaN                NaN                NaN                NaN                NaN           NaN            NaN            NaN            NaN            NaN            NaN            NaN            NaN            NaN             NaN             NaN             NaN             NaN             NaN             NaN                 NaN                     NaN              NaN                  NaN  I feel harassed and bullied by an employee out of my department and don't feel like there is any...  I would like to point out that I would say \"Never\" for all areas, except for a single individual...   \n",
       "3      10                   SAW     UCANR            93005         Conduct & Behavioral - Comments  Is it possible the commitment to diversity is so strong that it goes so far in one direction tha...                136                    NaN               NaN               NaN               NaN           999999.0                NaN                NaN                NaN                NaN                NaN                NaN                NaN           NaN            NaN            NaN            NaN            NaN            NaN            NaN            NaN            NaN             NaN             NaN             NaN             NaN             NaN             NaN                 NaN                     NaN              NaN                  NaN  I feel harassed and bullied by an employee out of my department and don't feel like there is any...  I would like to point out that I would say \"Never\" for all areas, except for a single individual...   \n",
       "4      11                   SAW     UCANR            93069  Comments re Work Environment at UC ANR  I believe ANR leadership is completely disconnected from the work of campus-based specialists. W...                293                    NaN               NaN               NaN               NaN           999999.0                NaN                NaN                NaN                NaN                NaN                NaN                NaN           NaN            NaN            NaN            NaN            NaN            NaN            NaN            NaN            NaN             NaN             NaN             NaN             NaN             NaN             NaN                 NaN                     NaN              NaN                  NaN  I'm frustrated with wages and lack of opportunity to move up in my job classification. I believe...  I'm frustrated with wages and lack of opportunity to move up in my job classification. I believe...   \n",
       "5      12                   SAW     UCANR            93005         Conduct & Behavioral - Comments                               the negativity is from academics outside of my unit who resent my unit                  1                    NaN               NaN               NaN               NaN           999999.0           100000.0                NaN                NaN                NaN                NaN                NaN                NaN           NaN            NaN            NaN            NaN            NaN            NaN            NaN            NaN            NaN             NaN             NaN             NaN             NaN             NaN             NaN                 NaN                     NaN              NaN                  NaN  \"The negativity is from academics outside of my unit who resent my unit,\" she says. \"It's not my...  \"The negativity is from academics outside of my unit who resent my unit,\" she says. \"It's not my...   \n",
       "6      13                   SAW     UCANR            93005         Conduct & Behavioral - Comments  Is it possible the commitment to diversity is so strong that it goes so far in one direction tha...                120                    NaN               NaN               NaN               NaN           999999.0           200000.0                NaN                NaN                NaN                NaN                NaN                NaN           NaN            NaN            NaN            NaN            NaN            NaN            NaN            NaN            NaN             NaN             NaN             NaN             NaN             NaN             NaN                 NaN                     NaN              NaN                  NaN  In general there could be more awareness of the fact that many people are not Christian. Staff a...  In general there could be more awareness of the fact that many people are not Christian. Staff a...   \n",
       "7      14                   SAW     UCANR            93005         Conduct & Behavioral - Comments  I would like to point out that I would say \"Never\" for all areas, except for a single individual...                 15                    NaN               NaN               NaN               NaN           999999.0           300000.0                NaN                NaN                NaN                NaN                NaN                NaN           NaN            NaN            NaN            NaN            NaN            NaN            NaN            NaN            NaN             NaN             NaN             NaN             NaN             NaN             NaN                 NaN                     NaN              NaN                  NaN  I feel bullied and unappreciated for my skills and the hard work I do by a prior supervisor and ...  I feel bullied and unappreciated for my skills and the hard work I do by a prior supervisor and ...   \n",
       "8      15                   SAW     UCANR            93069  Comments re Work Environment at UC ANR  I wonder if the negative leadership issues we experience are related to lack of business/managem...                  1                    NaN               NaN               NaN               NaN           999999.0           100000.0                NaN                NaN                NaN                NaN                NaN                NaN           NaN            NaN            NaN            NaN            NaN            NaN            NaN            NaN            NaN             NaN             NaN             NaN             NaN             NaN             NaN                 NaN                     NaN              NaN                  NaN  \"I wonder if the negative leadership issues we experience are related to lack of business/manage...  \"I wonder if the negative leadership issues we experience are related to lack of business/manage...   \n",
       "9      16                   SAW     UCANR            93069  Comments re Work Environment at UC ANR  I believe ANR leadership is completely disconnected from the work of campus-based specialists. W...                268                    NaN               NaN               NaN               NaN           999999.0           200000.0                NaN                NaN                NaN                NaN                NaN                NaN           NaN            NaN            NaN            NaN            NaN            NaN            NaN            NaN            NaN             NaN             NaN             NaN             NaN             NaN             NaN                 NaN                     NaN              NaN                  NaN  I'm frustrated with wages and lack of opportunity to move up in my job classification. I believe...  I'm frustrated with wages and lack of opportunity to move up in my job classification. I believe...   \n",
       "10     17                   SAW     UCANR            93069  Comments re Work Environment at UC ANR  While our department has a good work environment as a whole there are several area's that are a ...                 24                    NaN               NaN               NaN               NaN           999999.0           300000.0                NaN                NaN                NaN                NaN                NaN                NaN           NaN            NaN            NaN            NaN            NaN            NaN            NaN            NaN            NaN             NaN             NaN             NaN             NaN             NaN             NaN                 NaN                     NaN              NaN                  NaN  Staff development is STILL a problem to me -- even if it was actively encouraged, I'd have troub...  Staff development is STILL a problem to me -- even if it was actively encouraged, I'd have troub...   \n",
       "11     18                   SAW     UCANR            93005         Conduct & Behavioral - Comments  I'd be interested to hear leadership's thoughts on including pronouns in our email signatures, o...                  1                    NaN               NaN               NaN               NaN           999999.0           200000.0           210000.0                NaN                NaN                NaN                NaN                NaN           NaN            NaN            NaN            NaN            NaN            NaN            NaN            NaN            NaN             NaN             NaN             NaN             NaN             NaN             NaN                 NaN                     NaN              NaN                  NaN  I'd be interested to hear leadership's thoughts on including pronouns in our email signatures, o...  I'd be interested to hear leadership's thoughts on including pronouns in our email signatures, o...   \n",
       "12     19                   SAW     UCANR            93005         Conduct & Behavioral - Comments  I don't know if people \"talked behind my back.\"I have had no problems in this area.As a staff me...                  4                    NaN               NaN               NaN               NaN           999999.0           200000.0           220000.0                NaN                NaN                NaN                NaN                NaN           NaN            NaN            NaN            NaN            NaN            NaN            NaN            NaN            NaN             NaN             NaN             NaN             NaN             NaN             NaN                 NaN                     NaN              NaN                  NaN  As a staff member, I feel less valued than academic employees. There are a few people who get st...  As a staff member, I feel less valued than academic employees. There are a few people who get st...   \n",
       "13     20                   SAW     UCANR            93005         Conduct & Behavioral - Comments  Most people I interact with treat people as people and the race/sexual identity stuff is not imp...                 10                    NaN               NaN               NaN               NaN           999999.0           200000.0           230000.0                NaN                NaN                NaN                NaN                NaN           NaN            NaN            NaN            NaN            NaN            NaN            NaN            NaN            NaN             NaN             NaN             NaN             NaN             NaN             NaN                 NaN                     NaN              NaN                  NaN  The individual who used to treat me this was no longer works at UCANR. Most people I interact wi...  The individual who used to treat me this was no longer works at UCANR. My supervisor handled the...   \n",
       "14     21                   SAW     UCANR            93005         Conduct & Behavioral - Comments  Is it possible the commitment to diversity is so strong that it goes so far in one direction tha...                 78                    NaN               NaN               NaN               NaN           999999.0           200000.0           240000.0                NaN                NaN                NaN                NaN                NaN           NaN            NaN            NaN            NaN            NaN            NaN            NaN            NaN            NaN             NaN             NaN             NaN             NaN             NaN             NaN                 NaN                     NaN              NaN                  NaN  I feel harassed and bullied by an employee out of my department and don't feel like there is any...  I feel harassed and bullied by an employee out of my department. I enjoy working with my immedia...   \n",
       "15     22                   SAW     UCANR            93005         Conduct & Behavioral - Comments  In general there could be more awareness of the fact that many people are not Christian. I find ...                 18                    NaN               NaN               NaN               NaN           999999.0           200000.0           250000.0                NaN                NaN                NaN                NaN                NaN           NaN            NaN            NaN            NaN            NaN            NaN            NaN            NaN            NaN             NaN             NaN             NaN             NaN             NaN             NaN                 NaN                     NaN              NaN                  NaN  Staff are sometimes kept out of discussions about projects they are working on. In general there...  Staff are sometimes kept out of discussions about projects they are working on. In general there...   \n",
       "16     23                   SAW     UCANR            93005         Conduct & Behavioral - Comments  this set of questions seem to lump professional differences of opinion based strongly on the per...                  9                    NaN               NaN               NaN               NaN           999999.0           200000.0           260000.0                NaN                NaN                NaN                NaN                NaN           NaN            NaN            NaN            NaN            NaN            NaN            NaN            NaN            NaN             NaN             NaN             NaN             NaN             NaN             NaN                 NaN                     NaN              NaN                  NaN  Older male colleagues sometimes do not recognize their attitudes are out of step with the times;...  Older male colleagues sometimes do not recognize their attitudes are out of step with the times;...   \n",
       "17     24                   SAW     UCANR            93005         Conduct & Behavioral - Comments  I would like to point out that I would say \"Never\" for all areas, except for a single individual...                 15                    NaN               NaN               NaN               NaN           999999.0           300000.0           320000.0                NaN                NaN                NaN                NaN                NaN           NaN            NaN            NaN            NaN            NaN            NaN            NaN            NaN            NaN             NaN             NaN             NaN             NaN             NaN             NaN                 NaN                     NaN              NaN                  NaN  I feel bullied and unappreciated for my skills and the hard work I do by a prior supervisor and ...  I feel bullied and unappreciated for my skills and the hard work I do by a prior supervisor and ...   \n",
       "18     25                   SAW     UCANR            93069  Comments re Work Environment at UC ANR  Concerns: The recharge model creates a heavy administrative burden and is anti-collaborative. Th...                  4                    NaN               NaN               NaN               NaN           999999.0           200000.0           210000.0                NaN                NaN                NaN                NaN                NaN           NaN            NaN            NaN            NaN            NaN            NaN            NaN            NaN            NaN             NaN             NaN             NaN             NaN             NaN             NaN                 NaN                     NaN              NaN                  NaN  The recharge model creates a heavy administrative burden and is anti-collaborative. The ongoing ...  The recharge model creates a heavy administrative burden and is anti-collaborative. The ongoing ...   \n",
       "19     26                   SAW     UCANR            93069  Comments re Work Environment at UC ANR  There is no opportunity for career advancement for staff. The only option is to leave the univer...                 13                    NaN               NaN               NaN               NaN           999999.0           200000.0           220000.0                NaN                NaN                NaN                NaN                NaN           NaN            NaN            NaN            NaN            NaN            NaN            NaN            NaN            NaN             NaN             NaN             NaN             NaN             NaN             NaN                 NaN                     NaN              NaN                  NaN  There is no opportunity for career advancement for staff. The only option is to leave the univer...  There is no opportunity for career advancement for staff. The only option is to leave the univer...   \n",
       "\n",
       "                                                                                         pred_summary_3                                                                                 pred_summary_cnndm_1                                                                                 pred_summary_cnndm_2                                                                                 pred_summary_cnndm_3                                                                                  pred_summary_xsum_1                                                                                  pred_summary_xsum_2                                                                                  pred_summary_xsum_3  \n",
       "0   I feel harassed and bullied by an employee out of my department and don't feel like there is any...  I feel harassed and bullied by an employee out of my department and don't feel like there is any...  I would like to point out that I would say \"Never\" for all areas, except for a single individual...  I feel harassed and bullied by an employee out of my department and don't feel like there is any...  As part of a series of responses to a survey on diversity at the University of California, Berke...  As part of a series of responses to a survey on diversity at the University of California, Berke...  As part of a series of responses to a survey on diversity at the University of California, Berke...  \n",
       "1   I believe ANR leadership is completely disconnected from the work of campus-based specialists. I...  I'm frustrated with wages and lack of opportunity to move up in my job classification. I believe...  I'm frustrated with wages and lack of opportunity to move up in my job classification. I believe...  I believe ANR leadership is completely disconnected from the work of campus-based specialists. I...  As part of a series of responses to a report by the University of California, Davis, on the stat...  As part of a series of responses to a report by the University of California, Davis, on the stat...  As part of a series of responses to a report by the University of California, Davis, on the stat...  \n",
       "2   I feel harassed and bullied by an employee out of my department and don't feel like there is any...  I feel harassed and bullied by an employee out of my department and don't feel like there is any...  I would like to point out that I would say \"Never\" for all areas, except for a single individual...  I feel harassed and bullied by an employee out of my department and don't feel like there is any...  As part of a series of responses to a survey on diversity at the University of California, Berke...  As part of a series of responses to a survey on diversity at the University of California, Berke...  As part of a series of responses to a survey on diversity at the University of California, Berke...  \n",
       "3   I feel harassed and bullied by an employee out of my department and don't feel like there is any...  I feel harassed and bullied by an employee out of my department and don't feel like there is any...  I would like to point out that I would say \"Never\" for all areas, except for a single individual...  I feel harassed and bullied by an employee out of my department and don't feel like there is any...  As part of a series of responses to a survey on diversity at the University of California, Berke...  As part of a series of responses to a survey on diversity at the University of California, Berke...  As part of a series of responses to a survey on diversity at the University of California, Berke...  \n",
       "4   I believe ANR leadership is completely disconnected from the work of campus-based specialists. I...  I'm frustrated with wages and lack of opportunity to move up in my job classification. I believe...  I'm frustrated with wages and lack of opportunity to move up in my job classification. I believe...  I believe ANR leadership is completely disconnected from the work of campus-based specialists. I...  As part of a series of responses to a report by the University of California, Davis, on the stat...  As part of a series of responses to a report by the University of California, Davis, on the stat...  As part of a series of responses to a report by the University of California, Davis, on the stat...  \n",
       "5   \"The negativity is from academics outside of my unit who resent my unit,\" she says. \"It's not my...  \"The negativity is from academics outside of my unit who resent my unit,\" she says. \"It's not my...  \"The negativity is from academics outside of my unit who resent my unit,\" she says. \"It's not my...  \"The negativity is from academics outside of my unit who resent my unit,\" she says. \"It's not my...  I have been receiving a lot of negativity about my work at the University of Aberdeen, but it is...  I have been receiving a lot of negativity about my work at the University of Aberdeen, but it is...  I have been receiving a lot of negativity about my work at the University of Aberdeen, but it is...  \n",
       "6   In general there could be more awareness of the fact that many people are not Christian. Staff a...  In general there could be more awareness of the fact that many people are not Christian. Staff a...  In general there could be more awareness of the fact that many people are not Christian. Staff a...  In general there could be more awareness of the fact that many people are not Christian. Staff a...  What do you think are some of the most common complaints about the work environment at the Unive...  What do you think are some of the most common complaints about the work environment at the Unive...  What do you think are some of the most common complaints about the work environment at the Unive...  \n",
       "7   I feel bullied and unappreciated for my skills and the hard work I do by a prior supervisor and ...  I feel bullied and unappreciated for my skills and the hard work I do by a prior supervisor and ...  I feel bullied and unappreciated for my skills and the hard work I do by a prior supervisor and ...  I feel bullied and unappreciated for my skills and the hard work I do by a prior supervisor and ...  Here are some of the responses to a survey by the American National Registry (ANR) asking staff ...  Here are some of the responses to a survey by the American National Registry (ANR) asking staff ...  Here are some of the responses to a survey by the American National Registry (ANR) asking staff ...  \n",
       "8   \"I wonder if the negative leadership issues we experience are related to lack of business/manage...  \"I wonder if the negative leadership issues we experience are related to lack of business/manage...  \"I wonder if the negative leadership issues we experience are related to lack of business/manage...  \"I wonder if the negative leadership issues we experience are related to lack of business/manage...  In my experience as a senior manager at an international insurance company, there is a culture o...  In my experience as a senior manager at an international insurance company, there is a culture o...  In my experience as a senior manager at an international insurance company, there is a culture o...  \n",
       "9   I'm frustrated with wages and lack of opportunity to move up in my job classification. I believe...  I'm frustrated with wages and lack of opportunity to move up in my job classification. I believe...  I'm frustrated with wages and lack of opportunity to move up in my job classification. I believe...  I'm frustrated with wages and lack of opportunity to move up in my job classification. I believe...  As part of a series of responses to a survey by the California Department of Agricultural and Na...  As part of a series of responses to a survey by the California Department of Agricultural and Na...  As part of a series of responses to a survey by the California Department of Agricultural and Na...  \n",
       "10  Staff development is STILL a problem to me -- even if it was actively encouraged, I'd have troub...  Staff development is STILL a problem to me -- even if it was actively encouraged, I'd have troub...  Staff development is STILL a problem to me -- even if it was actively encouraged, I'd have troub...  Staff development is STILL a problem to me -- even if it was actively encouraged, I'd have troub...  A member of the staff at the University of California Agricultural and Natural Resources Divisio...  A member of the staff at the University of California Agricultural and Natural Resources Divisio...  A member of the staff at the University of California Agricultural and Natural Resources Divisio...  \n",
       "11  I'd be interested to hear leadership's thoughts on including pronouns in our email signatures, o...  I'd be interested to hear leadership's thoughts on including pronouns in our email signatures, o...  I'd be interested to hear leadership's thoughts on including pronouns in our email signatures, o...  I'd be interested to hear leadership's thoughts on including pronouns in our email signatures, o...  As part of our ongoing efforts to promote gender equality in the workplace, I've been asked to w...  As part of our ongoing efforts to promote gender equality in the workplace, I've been asked to w...  As part of our ongoing efforts to promote gender equality in the workplace, I've been asked to w...  \n",
       "12  As a staff member, I feel less valued than academic employees. There are a few people who get st...  As a staff member, I feel less valued than academic employees. There are a few people who get st...  As a staff member, I feel less valued than academic employees. There are a few people who get st...  As a staff member, I feel less valued than academic employees. There are a few people who get st...  There are a few people who get stressed and lash out, but most people are very respectful and un...  There are a few people who get stressed and lash out, but most people are very respectful and un...  There are a few people who get stressed and lash out, but most people are very respectful and un...  \n",
       "13  The individual who used to treat me this was no longer works at UCANR. My supervisor handled the...  The individual who used to treat me this was no longer works at UCANR. Most people I interact wi...  The individual who used to treat me this was no longer works at UCANR. My supervisor handled the...  The individual who used to treat me this was no longer works at UCANR. My supervisor handled the...  I don't have personal experience at work with discrimination or harassment, but I have been the ...  I don't have personal experience at work with discrimination or harassment, but I have been the ...  I don't have personal experience at work with discrimination or harassment, but I have been the ...  \n",
       "14  I feel harassed and bullied by an employee out of my department. I enjoy working with my immedia...  I feel harassed and bullied by an employee out of my department and don't feel like there is any...  I feel harassed and bullied by an employee out of my department. I enjoy working with my immedia...  I feel harassed and bullied by an employee out of my department. I enjoy working with my immedia...  What are your experiences of discrimination and harassment in the workplace at the University of...  What are your experiences of discrimination and harassment in the workplace at the University of...  What are your experiences of discrimination and harassment in the workplace at the University of...  \n",
       "15  As a person of color in the United States, I experience micro-aggressions frequently, throughout...  Staff are sometimes kept out of discussions about projects they are working on. In general there...  Staff are sometimes kept out of discussions about projects they are working on. In general there...  As a person of color in the United States, I experience micro-aggressions frequently, throughout...  A number of people have sent in their experiences of working at the University of California, An...  A number of people have sent in their experiences of working at the University of California, An...  A number of people have sent in their experiences of working at the University of California, An...  \n",
       "16  Older male colleagues sometimes do not recognize their attitudes are out of step with the times;...  Older male colleagues sometimes do not recognize their attitudes are out of step with the times;...  Older male colleagues sometimes do not recognize their attitudes are out of step with the times;...  Older male colleagues sometimes do not recognize their attitudes are out of step with the times;...  The challenges in this job relate to interactions with people who make decisions that impact my ...  The challenges in this job relate to interactions with people who make decisions that impact my ...  The challenges in this job relate to interactions with people who make decisions that impact my ...  \n",
       "17  I feel bullied and unappreciated for my skills and the hard work I do by a prior supervisor and ...  I feel bullied and unappreciated for my skills and the hard work I do by a prior supervisor and ...  I feel bullied and unappreciated for my skills and the hard work I do by a prior supervisor and ...  I feel bullied and unappreciated for my skills and the hard work I do by a prior supervisor and ...  Here are some of the responses to a survey by the American National Registry (ANR) asking staff ...  Here are some of the responses to a survey by the American National Registry (ANR) asking staff ...  Here are some of the responses to a survey by the American National Registry (ANR) asking staff ...  \n",
       "18  The recharge model creates a heavy administrative burden and is anti-collaborative. The ongoing ...  The recharge model creates a heavy administrative burden and is anti-collaborative. The ongoing ...  The recharge model creates a heavy administrative burden and is anti-collaborative. The ongoing ...  The recharge model creates a heavy administrative burden and is anti-collaborative. The ongoing ...  As part of a series of letters to the editor from Californians, a member of the staff of the Ass...  As part of a series of letters to the editor from Californians, a member of the staff of the Ass...  As part of a series of letters to the editor from Californians, a member of the staff of the Ass...  \n",
       "19  There is no opportunity for career advancement for staff. The only option is to leave the univer...  There is no opportunity for career advancement for staff. The only option is to leave the univer...  There is no opportunity for career advancement for staff. The only option is to leave the univer...  There is no opportunity for career advancement for staff. The only option is to leave the univer...  Here are some of the comments from people who have worked at the American National Research Coun...  Here are some of the comments from people who work for the American National Research Council (A...  Here are some of the comments from people who have worked at the American National Research Coun...  "
      ]
     },
     "execution_count": 37,
     "metadata": {},
     "output_type": "execute_result"
    }
   ],
   "source": [
    "summarization_df.head(20)"
   ]
  },
  {
   "cell_type": "code",
   "execution_count": 38,
   "metadata": {},
   "outputs": [
    {
     "data": {
      "text/plain": [
       "371"
      ]
     },
     "execution_count": 38,
     "metadata": {},
     "output_type": "execute_result"
    }
   ],
   "source": [
    "len(summarization_df)"
   ]
  },
  {
   "cell_type": "code",
   "execution_count": 39,
   "metadata": {},
   "outputs": [],
   "source": [
    "summarization_df.to_excel('./data/anr_summaries.xlsx', index=False)"
   ]
  },
  {
   "cell_type": "code",
   "execution_count": null,
   "metadata": {},
   "outputs": [],
   "source": []
  },
  {
   "cell_type": "code",
   "execution_count": null,
   "metadata": {},
   "outputs": [],
   "source": []
  },
  {
   "cell_type": "code",
   "execution_count": null,
   "metadata": {},
   "outputs": [],
   "source": []
  },
  {
   "cell_type": "markdown",
   "metadata": {},
   "source": [
    "## Data"
   ]
  },
  {
   "cell_type": "markdown",
   "metadata": {},
   "source": [
    "Basic Configuration"
   ]
  },
  {
   "cell_type": "code",
   "execution_count": null,
   "metadata": {},
   "outputs": [],
   "source": [
    "vocab = pickle.load(open(LM_PATH/'vocab.pkl', 'rb')); len(vocab)"
   ]
  },
  {
   "cell_type": "code",
   "execution_count": null,
   "metadata": {},
   "outputs": [],
   "source": [
    "bsz = 80\n",
    "bptt= 72\n",
    "wd = 1e-7"
   ]
  },
  {
   "cell_type": "code",
   "execution_count": null,
   "metadata": {},
   "outputs": [],
   "source": [
    "chunksize = 24000\n",
    "\n",
    "include_fld_tok = True\n",
    "include_bos_tok = True\n",
    "include_eos_tok = False"
   ]
  },
  {
   "cell_type": "code",
   "execution_count": null,
   "metadata": {},
   "outputs": [],
   "source": [
    "# define what text columns to use (can be multiple)\n",
    "corpus_cols = ['theme', 'answer_text'] \n",
    "\n",
    "# define how to identify the text we are using for the LM\n",
    "corpus_suf = '_multitask' #'_cleaned'"
   ]
  },
  {
   "cell_type": "markdown",
   "metadata": {},
   "source": [
    "Prepare the data source"
   ]
  },
  {
   "cell_type": "code",
   "execution_count": null,
   "metadata": {},
   "outputs": [],
   "source": [
    "train_df = pd.read_csv(STANDARD_THEME_META_PATH/'train.csv')\n",
    "valid_df = pd.read_csv(STANDARD_THEME_META_PATH/'test.csv')"
   ]
  },
  {
   "cell_type": "code",
   "execution_count": null,
   "metadata": {},
   "outputs": [],
   "source": [
    "train_df.is_example.dtype"
   ]
  },
  {
   "cell_type": "markdown",
   "metadata": {},
   "source": [
    "Remove any rows whre the \"corpus_cols\" are nan"
   ]
  },
  {
   "cell_type": "code",
   "execution_count": null,
   "metadata": {},
   "outputs": [],
   "source": [
    "train_df.dropna(subset=corpus_cols, inplace=True)\n",
    "valid_df.dropna(subset=corpus_cols, inplace=True)"
   ]
  },
  {
   "cell_type": "code",
   "execution_count": null,
   "metadata": {},
   "outputs": [],
   "source": [
    "# list(set(train_df.theme.unique()))"
   ]
  },
  {
   "cell_type": "code",
   "execution_count": null,
   "metadata": {},
   "outputs": [],
   "source": [
    "# vocab.itos += [ item.lower() for item in list(set(train_df.theme.unique())) ]\n",
    "# vocab.stoi = collections.defaultdict(int,{v:k for k,v in enumerate(vocab.itos)})"
   ]
  },
  {
   "cell_type": "code",
   "execution_count": null,
   "metadata": {},
   "outputs": [],
   "source": [
    "train_df['is_valid'] = False\n",
    "valid_df['is_valid'] = True\n",
    "df = pd.concat([train_df, valid_df])"
   ]
  },
  {
   "cell_type": "code",
   "execution_count": null,
   "metadata": {},
   "outputs": [],
   "source": [
    "# prepend custom tokenization rules to defaults\n",
    "custom_lowercase = partial(lowercase, add_bos=include_bos_tok, add_eos=include_eos_tok)\n",
    "\n",
    "custom_tok_rules = defaults.text_proc_rules[:-1] + [custom_lowercase, \n",
    "                                                    make_replacements, \n",
    "                                                    fix_ampm, \n",
    "                                                    fix_sentence_ends, \n",
    "                                                    fix_hyphenated_words]"
   ]
  },
  {
   "cell_type": "markdown",
   "metadata": {},
   "source": [
    "Using the mid-level `DataBlocks` API"
   ]
  },
  {
   "cell_type": "code",
   "execution_count": null,
   "metadata": {},
   "outputs": [],
   "source": [
    "%%time\n",
    "\n",
    "blocks = (\n",
    "    TextBlock.from_df(corpus_cols, vocab=vocab, seq_len=bptt, rules=custom_tok_rules, mark_fields=include_fld_tok),\n",
    "    RegressionBlock(),\n",
    "    CategoryBlock()\n",
    ")\n",
    "\n",
    "dblock = DataBlock(blocks=blocks, \n",
    "                   get_x=ColReader('text'),\n",
    "                   get_y=[ColReader('avg_sentiment'), ColReader('is_example')],\n",
    "                   splitter=ColSplitter(col='is_valid'), \n",
    "                   n_inp=1)"
   ]
  },
  {
   "cell_type": "code",
   "execution_count": null,
   "metadata": {},
   "outputs": [],
   "source": [
    "# dblock.summary(df)"
   ]
  },
  {
   "cell_type": "code",
   "execution_count": null,
   "metadata": {
    "scrolled": true
   },
   "outputs": [],
   "source": [
    "%%time\n",
    "dls = dblock.dataloaders(df, bs=bsz, seq_len=bptt)"
   ]
  },
  {
   "cell_type": "code",
   "execution_count": null,
   "metadata": {},
   "outputs": [],
   "source": [
    "print((\n",
    "    f'The Datasets vocab has {len(dls.vocab)} items : the inputs vocab ({len(dls.vocab[0])} items), '\n",
    "    f'and the targets ({len(dls.vocab[1])} items)'))"
   ]
  },
  {
   "cell_type": "code",
   "execution_count": null,
   "metadata": {},
   "outputs": [],
   "source": [
    "print(dls.train_ds[21])"
   ]
  },
  {
   "cell_type": "code",
   "execution_count": null,
   "metadata": {},
   "outputs": [],
   "source": [
    "dls.show_batch(max_n=2)"
   ]
  },
  {
   "cell_type": "code",
   "execution_count": null,
   "metadata": {},
   "outputs": [],
   "source": [
    "batch = next(iter(dls.train))\n",
    "print(batch[0].size(), batch[0].type(), batch[1].size(), batch[2].size(), batch[1].type(), batch[2].type(), bsz)"
   ]
  },
  {
   "cell_type": "code",
   "execution_count": null,
   "metadata": {},
   "outputs": [],
   "source": [
    "' '.join([ dls.vocab[0][idx] for idx in batch[0][0,:] ])"
   ]
  },
  {
   "cell_type": "markdown",
   "metadata": {},
   "source": [
    "Save the `Dataloaders` object for future use"
   ]
  },
  {
   "cell_type": "code",
   "execution_count": null,
   "metadata": {},
   "outputs": [],
   "source": [
    "# save dataloaders\n",
    "torch.save(dls, STANDARD_THEME_META_PATH/f'data_standard_theme_meta.pkl')\n",
    "# dls = torch.load(STANDARD_THEME_META_PATH/f'data_standard_theme_meta.pkl')"
   ]
  },
  {
   "cell_type": "markdown",
   "metadata": {},
   "source": [
    "## Training"
   ]
  },
  {
   "cell_type": "markdown",
   "metadata": {},
   "source": [
    "Configure a forward or backwards run"
   ]
  },
  {
   "cell_type": "code",
   "execution_count": null,
   "metadata": {},
   "outputs": [],
   "source": [
    "backwards = True\n",
    "m_suf = '_multitask' #'_cleaned'\n",
    "m_pre = 'bwd_' if (backwards) else 'fwd_'\n",
    "\n",
    "dls = torch.load(STANDARD_THEME_META_PATH/f'data_standard_theme_meta.pkl')\n",
    "\n",
    "def reverse_text(nums): return nums.flip(0)\n",
    "if (backwards): \n",
    "    dls.tfms.append(Transform(reverse_text))\n",
    "    dls.before_batch = partial(pad_input_chunk, pad_first=not backwards)"
   ]
  },
  {
   "cell_type": "code",
   "execution_count": null,
   "metadata": {},
   "outputs": [],
   "source": [
    "# copied from /lm/models -> class/models (both fwd and bwd weights)\n",
    "! cp {LM_PATH/'models/*_lm_enc.pth'} {STANDARD_THEME_META_PATH/'models/'}  "
   ]
  },
  {
   "cell_type": "markdown",
   "metadata": {},
   "source": [
    "Configure MM head"
   ]
  },
  {
   "cell_type": "code",
   "execution_count": null,
   "metadata": {},
   "outputs": [],
   "source": [
    "class MM(Module):\n",
    "    def __init__(self, in_features=50): \n",
    "        super().__init__()\n",
    "        self.pred_is_example = nn.Linear(in_features, 2, bias=False)\n",
    "        self.pred_avg_sentiment = nn.Linear(in_features, 1, bias=False)\n",
    "        self.pred_avg_sent_range = SigmoidRange(1., 5.1)\n",
    "        \n",
    "    def forward(self, x):\n",
    "        is_example = self.pred_is_example(x)\n",
    "        avg_sentiment = self.pred_avg_sent_range(self.pred_avg_sentiment(x))\n",
    "        \n",
    "        return avg_sentiment, is_example"
   ]
  },
  {
   "cell_type": "code",
   "execution_count": null,
   "metadata": {},
   "outputs": [],
   "source": [
    "is_example_weights = list(np.max(train_df.is_example.value_counts()) /train_df.is_example.value_counts())\n",
    "print(is_example_weights)"
   ]
  },
  {
   "cell_type": "markdown",
   "metadata": {},
   "source": [
    "Configure learner"
   ]
  },
  {
   "cell_type": "code",
   "execution_count": null,
   "metadata": {},
   "outputs": [],
   "source": [
    "# define metrics\n",
    "def sentiment_mse(preds, *targs):\n",
    "    return mse(preds[0], targs[0])\n",
    "\n",
    "def is_example_acc(preds, *targs):\n",
    "    return accuracy(preds[1], targs[1])"
   ]
  },
  {
   "cell_type": "code",
   "execution_count": null,
   "metadata": {},
   "outputs": [],
   "source": [
    "# define callbacks\n",
    "best_model_cb = SaveModelCallback(monitor='valid_loss', comp=np.less, fname=f'{m_pre}mm_bestmodel{m_suf}')"
   ]
  },
  {
   "cell_type": "code",
   "execution_count": null,
   "metadata": {},
   "outputs": [],
   "source": [
    "# define our custom multi-target loss\n",
    "multi_targ_loss = MultiTargetLoss(loss_classes=[MSELossFlat, CrossEntropyLossFlat],\n",
    "                                  loss_classes_kwargs=[{}, {'weight': FloatTensor(is_example_weights).to('cuda:1')}],\n",
    "                                  weights=[1, 0.1], \n",
    "                                  reduction='mean')"
   ]
  },
  {
   "cell_type": "code",
   "execution_count": null,
   "metadata": {},
   "outputs": [],
   "source": [
    "learn_cbs = [best_model_cb]\n",
    "fit_cbs = []\n",
    "\n",
    "learn_metrics = [is_example_acc, sentiment_mse]\n",
    "\n",
    "# build learner\n",
    "learn = text_classifier_learner(dls, \n",
    "                                AWD_LSTM, \n",
    "                                pretrained=False,\n",
    "                                alpha=2.0, beta=1.0,      # default - alpha=2.0, beta=1.0\n",
    "                                moms=(0.8,0.7,0.8),       # default - (0.95, 0.85, 0.95)\n",
    "                                wd=wd,                    # default - None\n",
    "                                seq_len=bptt,             # default - 72\n",
    "                                drop_mult=0.5,            # default - 0.5\n",
    "                                lin_ftrs=[50],            # default - [50]\n",
    "                                ps=[0.1],                 # default - [0.1]\n",
    "                                metrics=learn_metrics, \n",
    "                                cbs=learn_cbs,\n",
    "                                n_out=1,\n",
    "                                path=STANDARD_THEME_META_PATH)\n",
    "\n",
    "learn.loss_func = multi_targ_loss"
   ]
  },
  {
   "cell_type": "code",
   "execution_count": null,
   "metadata": {},
   "outputs": [],
   "source": [
    "# learn.summary()"
   ]
  },
  {
   "cell_type": "code",
   "execution_count": null,
   "metadata": {},
   "outputs": [],
   "source": [
    "learn = learn.load_encoder(f'{m_pre}lm_enc')"
   ]
  },
  {
   "cell_type": "code",
   "execution_count": null,
   "metadata": {},
   "outputs": [],
   "source": [
    "learn.model._modules['1']._modules['layers']._modules['1']"
   ]
  },
  {
   "cell_type": "code",
   "execution_count": null,
   "metadata": {},
   "outputs": [],
   "source": [
    "learn.model._modules['1']._modules['layers']._modules['1']._modules['2'] = MM(50)"
   ]
  },
  {
   "cell_type": "code",
   "execution_count": null,
   "metadata": {},
   "outputs": [],
   "source": [
    "learn.model = learn.model.to('cuda:1')"
   ]
  },
  {
   "cell_type": "code",
   "execution_count": null,
   "metadata": {},
   "outputs": [],
   "source": [
    "learn.splitter = awd_lstm_clas_split\n",
    "learn.opt = learn.create_opt()"
   ]
  },
  {
   "cell_type": "code",
   "execution_count": null,
   "metadata": {},
   "outputs": [],
   "source": [
    "learn.freeze()"
   ]
  },
  {
   "cell_type": "code",
   "execution_count": null,
   "metadata": {
    "scrolled": true
   },
   "outputs": [],
   "source": [
    "learn.summary()"
   ]
  },
  {
   "cell_type": "code",
   "execution_count": null,
   "metadata": {},
   "outputs": [],
   "source": [
    "# learn.show_training_loop()"
   ]
  },
  {
   "cell_type": "code",
   "execution_count": null,
   "metadata": {},
   "outputs": [],
   "source": [
    "best_model_path = STANDARD_THEME_META_PATH/f'models/{m_pre}mm_bestmodel{m_suf}*'\n",
    "if (best_model_path.exists()): best_model_path.unlink(missing_ok=False)"
   ]
  },
  {
   "cell_type": "markdown",
   "metadata": {},
   "source": [
    "Train"
   ]
  },
  {
   "cell_type": "code",
   "execution_count": null,
   "metadata": {},
   "outputs": [],
   "source": [
    "lr= 5e-2"
   ]
  },
  {
   "cell_type": "code",
   "execution_count": null,
   "metadata": {},
   "outputs": [],
   "source": [
    "learn.lr_find()"
   ]
  },
  {
   "cell_type": "code",
   "execution_count": null,
   "metadata": {},
   "outputs": [],
   "source": [
    "learn.fit_one_cycle(1, lr_max=lr, cbs=fit_cbs)"
   ]
  },
  {
   "cell_type": "code",
   "execution_count": null,
   "metadata": {},
   "outputs": [],
   "source": [
    "learn.save(f'{m_pre}mm_last_ft{m_suf}')"
   ]
  },
  {
   "cell_type": "code",
   "execution_count": null,
   "metadata": {},
   "outputs": [],
   "source": [
    "learn.freeze_to(-2)\n",
    "learn.fit_one_cycle(1, lr_max=slice(5e-2/(2.6**4), 5e-2), cbs=fit_cbs)"
   ]
  },
  {
   "cell_type": "code",
   "execution_count": null,
   "metadata": {},
   "outputs": [],
   "source": [
    "learn.save(f'{m_pre}mm_last2_ft{m_suf}')"
   ]
  },
  {
   "cell_type": "code",
   "execution_count": null,
   "metadata": {},
   "outputs": [],
   "source": [
    "learn.freeze_to(-3)\n",
    "learn.fit_one_cycle(1, lr_max=slice(1e-2/(2.6**4),5e-3), cbs=fit_cbs)"
   ]
  },
  {
   "cell_type": "code",
   "execution_count": null,
   "metadata": {},
   "outputs": [],
   "source": [
    "learn.save(f'{m_pre}mm_last3_ft{m_suf}')"
   ]
  },
  {
   "cell_type": "code",
   "execution_count": null,
   "metadata": {},
   "outputs": [],
   "source": [
    "learn.unfreeze()\n",
    "learn.fit_one_cycle(10, lr_max=slice(5e-3/(2.6**4),5e-3), cbs=fit_cbs)"
   ]
  },
  {
   "cell_type": "code",
   "execution_count": null,
   "metadata": {},
   "outputs": [],
   "source": [
    "learn.save(f'{m_pre}mm{m_suf}')"
   ]
  },
  {
   "cell_type": "markdown",
   "metadata": {},
   "source": [
    "Export model for inference"
   ]
  },
  {
   "cell_type": "code",
   "execution_count": null,
   "metadata": {},
   "outputs": [],
   "source": [
    "learn.export(fname=f'{m_pre}export_mm{m_suf}.pkl')"
   ]
  },
  {
   "cell_type": "markdown",
   "metadata": {},
   "source": [
    "Look at results"
   ]
  },
  {
   "cell_type": "code",
   "execution_count": null,
   "metadata": {},
   "outputs": [],
   "source": [
    "learn = learn.load(f'{m_pre}mm_bestmodel{m_suf}')"
   ]
  },
  {
   "cell_type": "code",
   "execution_count": null,
   "metadata": {},
   "outputs": [],
   "source": [
    "learn.validate() # ... returns [loss, metrics]"
   ]
  },
  {
   "cell_type": "code",
   "execution_count": null,
   "metadata": {},
   "outputs": [],
   "source": [
    "learn.show_results(max_n=4, trunc_at=60)"
   ]
  },
  {
   "cell_type": "markdown",
   "metadata": {},
   "source": [
    "Use it for inference"
   ]
  },
  {
   "cell_type": "code",
   "execution_count": null,
   "metadata": {},
   "outputs": [],
   "source": [
    "inf_learn = load_learner(STANDARD_THEME_META_PATH/f'{m_pre}export_mm{m_suf}.pkl')"
   ]
  },
  {
   "cell_type": "code",
   "execution_count": null,
   "metadata": {},
   "outputs": [],
   "source": [
    "inf_learn.predict('I feel very uncomfortable talking to my supervisor even though she loves dogs. Help!!!', \n",
    "                  with_input=True)"
   ]
  },
  {
   "cell_type": "markdown",
   "metadata": {},
   "source": [
    "Review final validation loss for best model"
   ]
  },
  {
   "cell_type": "code",
   "execution_count": null,
   "metadata": {},
   "outputs": [],
   "source": [
    "print(STANDARD_THEME_META_LABELS)"
   ]
  },
  {
   "cell_type": "code",
   "execution_count": null,
   "metadata": {},
   "outputs": [],
   "source": [
    "learn = learn.load(f'{m_pre}mm_bestmodel{m_suf}')"
   ]
  },
  {
   "cell_type": "code",
   "execution_count": null,
   "metadata": {},
   "outputs": [],
   "source": [
    "learn.validate()"
   ]
  },
  {
   "cell_type": "code",
   "execution_count": null,
   "metadata": {},
   "outputs": [],
   "source": [
    "probs, targs, loss = learn.get_preds(dl=dls.valid, with_loss=True)\n",
    "\n",
    "print(f'Validation Loss: {loss.mean()}')\n",
    "# print(f'Validation Loss (per label): {loss.mean(dim=0)}') # ... no longer works (see forum comment from sylvain)"
   ]
  },
  {
   "cell_type": "code",
   "execution_count": null,
   "metadata": {},
   "outputs": [],
   "source": [
    "for prob_sent, prob_example, targ_sent, targ_example in zip(*probs,*targs):\n",
    "    print(prob_sent, targ_sent, torch.argmax(prob_example, dim=-1), targ_example)"
   ]
  },
  {
   "cell_type": "code",
   "execution_count": null,
   "metadata": {},
   "outputs": [],
   "source": [
    "learn.predict(\"No one cares. No one listens.  My supervisor doesn't follow ethical conduct.\")"
   ]
  },
  {
   "cell_type": "code",
   "execution_count": null,
   "metadata": {},
   "outputs": [],
   "source": [
    "learn.predict(\"plenty of parking available. found a spot every day I came to work. availability is solid\")"
   ]
  },
  {
   "cell_type": "markdown",
   "metadata": {},
   "source": [
    "## Review"
   ]
  },
  {
   "cell_type": "markdown",
   "metadata": {},
   "source": [
    "### Lets look at validation metrics"
   ]
  },
  {
   "cell_type": "code",
   "execution_count": null,
   "metadata": {},
   "outputs": [],
   "source": [
    "# predictions for a single model using the learner's model and data loaders\n",
    "learn = learn.load(f'{m_pre}mm_bestmodel{m_suf}')\n",
    "learn.model.cuda(1)\n",
    "probs, targs, loss  = learn.get_preds(with_loss=True)\n",
    "\n",
    "probs[0].shape, probs[1].shape, targs[0].shape, targs[1].shape, loss.mean()"
   ]
  },
  {
   "cell_type": "code",
   "execution_count": null,
   "metadata": {},
   "outputs": [],
   "source": [
    "is_example_prob_true = torch.softmax(probs[1], dim=-1)[:,1]\n",
    "# is_example_prob_true"
   ]
  },
  {
   "cell_type": "code",
   "execution_count": null,
   "metadata": {},
   "outputs": [],
   "source": [
    "# determine optimal threshold based on desired f-score\n",
    "f05 = OptimalMultiThresholdMetrics(beta=0.5, start=0.05, end=.9, sigmoid=False, \n",
    "                                   average='binary', sample_weight=None)\n",
    "f1 = OptimalMultiThresholdMetrics(beta=1, start=0.05, end=.9, sigmoid=False, \n",
    "                                   average='binary', sample_weight=None)\n",
    "f2 = OptimalMultiThresholdMetrics(beta=2, start=0.05, end=.9, sigmoid=False, \n",
    "                                   average='binary', sample_weight=None)"
   ]
  },
  {
   "cell_type": "code",
   "execution_count": null,
   "metadata": {},
   "outputs": [],
   "source": [
    "is_example_threshold_f05 = f05.opt_th(is_example_prob_true, targs[1])\n",
    "is_example_threshold_f1 = f1.opt_th(is_example_prob_true, targs[1])\n",
    "is_example_threshold_f2 = f2.opt_th(is_example_prob_true, targs[1])\n",
    "\n",
    "is_example_threshold_f05, is_example_threshold_f1, is_example_threshold_f2"
   ]
  },
  {
   "cell_type": "code",
   "execution_count": null,
   "metadata": {},
   "outputs": [],
   "source": [
    "res = skm.fbeta_score(targs[1], (is_example_prob_true > is_example_threshold_f1), beta=1, average='binary')\n",
    "res"
   ]
  },
  {
   "cell_type": "code",
   "execution_count": null,
   "metadata": {},
   "outputs": [],
   "source": [
    "preds = ((is_example_prob_true > is_example_threshold_f1).byte() == targs[1].byte()).float().mean()\n",
    "preds.item()"
   ]
  },
  {
   "cell_type": "code",
   "execution_count": null,
   "metadata": {},
   "outputs": [],
   "source": [
    "# determine accuracy based on optimal threshold\n",
    "is_example_val_acc_f05 = accuracy_multi(torch.argmax(probs[1], dim=-1), targs[1], is_example_threshold_f05, sigmoid=False).item()\n",
    "is_example_val_acc_f1 = accuracy_multi(torch.argmax(probs[1], dim=-1), targs[1], is_example_threshold_f1, sigmoid=False).item()\n",
    "is_example_val_acc_f2 = accuracy_multi(torch.argmax(probs[1], dim=-1), targs[1], is_example_threshold_f2, sigmoid=False).item()\n",
    "\n",
    "is_example_val_acc_f05, is_example_val_acc_f1, is_example_val_acc_f2"
   ]
  },
  {
   "cell_type": "markdown",
   "metadata": {},
   "source": [
    "### Review classifier - Is Example"
   ]
  },
  {
   "cell_type": "code",
   "execution_count": null,
   "metadata": {},
   "outputs": [],
   "source": [
    "eval_targs = targs[1].flatten() # targs[:,0]\n",
    "eval_probs = is_example_prob_true.flatten()"
   ]
  },
  {
   "cell_type": "code",
   "execution_count": null,
   "metadata": {},
   "outputs": [],
   "source": [
    "eval_targs.shape, eval_probs.shape"
   ]
  },
  {
   "cell_type": "markdown",
   "metadata": {},
   "source": [
    "#### Classification Accuracy\n",
    "\n",
    "The percentage of correct predictions.  Answers the question, *\"Overall, how often is the classifier correct?\"*"
   ]
  },
  {
   "cell_type": "code",
   "execution_count": null,
   "metadata": {},
   "outputs": [],
   "source": [
    "print(skm.accuracy_score(eval_targs, (eval_probs > is_example_threshold_f1).float(), sample_weight=None))"
   ]
  },
  {
   "cell_type": "markdown",
   "metadata": {},
   "source": [
    "#### Null Accuracy\n",
    " \n",
    "The accuracy achieved by always predicting the most frequent class.  Answers the question, *\"What would the accuracy be by always predicting the most frequent case?\"*"
   ]
  },
  {
   "cell_type": "code",
   "execution_count": null,
   "metadata": {},
   "outputs": [],
   "source": [
    "u_classes, u_counts = np.unique(eval_targs, return_counts=True)\n",
    "most_freq_class, most_freq_class_count = u_classes[np.argmax(u_counts)], np.max(u_counts)\n",
    "print(most_freq_class, most_freq_class_count)"
   ]
  },
  {
   "cell_type": "code",
   "execution_count": null,
   "metadata": {},
   "outputs": [],
   "source": [
    "most_freq_class_count / len(eval_targs)"
   ]
  },
  {
   "cell_type": "markdown",
   "metadata": {},
   "source": [
    "#### Cohen's kappa\n",
    "\n",
    "This measure is intended to compare labelings by different human annotators (not a classifier vs. ground truth)\n",
    "\n",
    "Kappa socres are between -1 and 1 ( >= .8 is generally considered good agreement; <= 0 means no agreement ... e.g., practically random labels)"
   ]
  },
  {
   "cell_type": "code",
   "execution_count": null,
   "metadata": {},
   "outputs": [],
   "source": [
    "print(skm.cohen_kappa_score(eval_targs, (eval_probs > is_example_threshold_f1).float(), \n",
    "                            weights=None, sample_weight=None))"
   ]
  },
  {
   "cell_type": "markdown",
   "metadata": {},
   "source": [
    "#### Confusion Matrix\n",
    "\n",
    "Describes the performance of a classification model"
   ]
  },
  {
   "cell_type": "code",
   "execution_count": null,
   "metadata": {},
   "outputs": [],
   "source": [
    "def plot_confusion_matrix(cm, classes, normalize=False, \n",
    "                          title='Confusion matrix', cmap=plt.cm.Blues, print_info=False):\n",
    "    \"\"\"\n",
    "    This function prints and plots the confusion matrix.\n",
    "    Normalization can be applied by setting `normalize=True`.\n",
    "    \"\"\"\n",
    "    if normalize:\n",
    "        cm = cm.astype('float') / cm.sum(axis=1)[:, np.newaxis]\n",
    "        if (print_info): print(\"Normalized confusion matrix\")\n",
    "    else:\n",
    "        if (print_info): print('Confusion matrix, without normalization')\n",
    "\n",
    "    if (print_info): print(cm)\n",
    "\n",
    "    plt.imshow(cm, interpolation='nearest', cmap=cmap)\n",
    "    plt.title(title)\n",
    "    plt.colorbar(fraction=0.046, pad=0.04)\n",
    "    tick_marks = np.arange(len(classes))\n",
    "    plt.xticks(tick_marks, classes, rotation=45)\n",
    "    plt.yticks(tick_marks, classes)\n",
    "\n",
    "    fmt = '.2f' if normalize else 'd'\n",
    "    thresh = cm.max() / 2.\n",
    "    for i, j in itertools.product(range(cm.shape[0]), range(cm.shape[1])):\n",
    "        plt.text(j, i, format(cm[i, j], fmt),\n",
    "                 horizontalalignment=\"center\",\n",
    "                 color=\"white\" if cm[i, j] > thresh else \"black\")\n",
    "\n",
    "    plt.tight_layout()\n",
    "    plt.ylabel('True label')\n",
    "    plt.xlabel('Predicted label')\n",
    "    plt.grid(None)"
   ]
  },
  {
   "cell_type": "code",
   "execution_count": null,
   "metadata": {},
   "outputs": [],
   "source": [
    "cm = skm.confusion_matrix(eval_targs, (eval_probs > is_example_threshold_f1).float(), sample_weight=None)"
   ]
  },
  {
   "cell_type": "code",
   "execution_count": null,
   "metadata": {},
   "outputs": [],
   "source": [
    "# Plot non-normalized confusion matrix\n",
    "fig = plt.figure(figsize=(12,8))\n",
    "plt.subplot(1, 2, 1)\n",
    "plot_confusion_matrix(cm, classes=u_classes,\n",
    "                      title='Confusion matrix, without normalization')\n",
    "\n",
    "# Plot normalized confusion matrix\n",
    "plt.subplot(1, 2, 2)\n",
    "plot_confusion_matrix(cm, classes=u_classes, normalize=True,\n",
    "                      title='Normalized confusion matrix')\n",
    "\n",
    "fig.subplots_adjust(wspace=0.5)\n",
    "plt.show()"
   ]
  },
  {
   "cell_type": "code",
   "execution_count": null,
   "metadata": {},
   "outputs": [],
   "source": [
    "print(skm.classification_report(eval_targs, (eval_probs > is_example_threshold_f1).float(), [0,1], \n",
    "                                sample_weight=None))"
   ]
  },
  {
   "cell_type": "markdown",
   "metadata": {},
   "source": [
    "#### Raw probability distribution\n",
    "\n",
    "Useful to see how the threshold can be adjusted to increase sensitivity or specificity"
   ]
  },
  {
   "cell_type": "code",
   "execution_count": null,
   "metadata": {},
   "outputs": [],
   "source": [
    "plt.hist(eval_probs, bins=10)\n",
    "# plt.xlim(0,1)\n",
    "plt.title('Histogram of predicted probabilities')\n",
    "plt.xlabel('Predicted probability of IsVeryPositive')\n",
    "plt.ylabel('Frequency')"
   ]
  },
  {
   "cell_type": "markdown",
   "metadata": {},
   "source": [
    "#### ROC curves and Area Under the Curve (AUC)\n",
    "\n",
    "***ROC Curve*** answers the question, *\"How would sensitivity and specificity be affected by various thresholds without changing the threshold?\"*  It is a way **to visualize the performance of a binary classifier.**\n",
    "\n",
    "The ROC curve can help you **choose a threshold** that balances sensitivity and specificity based on your particular business case.\n",
    "\n",
    "ROC curves visualize all possible classification thresholds whereas misclassification rate only represents your error rate for a single threshold.\n",
    "\n",
    "A classifier that does a good job at separating the classes will have a ROC curve that hugs the upper left corner of the plot.  Converseley, a classifier the does a poor job separating the classes will have a ROC curve that is close to the diagonal line (0,0 -> 1,1).  That diagonal line represents a classifier that does no better than random guessing."
   ]
  },
  {
   "cell_type": "code",
   "execution_count": null,
   "metadata": {},
   "outputs": [],
   "source": [
    "fpr, tpr, thresholds = skm.roc_curve(eval_targs, eval_probs, sample_weight=None)"
   ]
  },
  {
   "cell_type": "code",
   "execution_count": null,
   "metadata": {},
   "outputs": [],
   "source": [
    "plt.plot(fpr, tpr)\n",
    "plt.xlim = ([0.0, 1.0])\n",
    "plt.ylim = ([0.0, 1.0])\n",
    "plt.title('ROC curve for all labels')\n",
    "plt.xlabel('False Positive Rate (1 - Specificity)')\n",
    "plt.ylabel('True Positive Rate (Sensitivity/Recall)')\n",
    "plt.grid(True)"
   ]
  },
  {
   "cell_type": "markdown",
   "metadata": {},
   "source": [
    "***AUC*** = the percentage of the ROC plot that is underneath the curve.  \n",
    "\n",
    "AUC summarizes the performance of a classifier in a **single number**.  It says, *\"If you randomly chose one positive and one negative observation, what is the likelihood that your classifier will assign a higher predicted probability to the positive observation.\"*\n",
    "\n",
    "**An AUC of ~ 0.8 is very good while an AUC of ~ 0.5 represents a poor classifier.**\n",
    "\n",
    "The ROC curve and AUC are insensitive to whether your predicted probabilities are properly calibrated to actually represent probabilities of class membership (e.g., it works if predicted probs range from 0.9 to 1 instead of 0 to 1).  All the AUC metric cares about is how well your classifier separated the two classes\n",
    "\n",
    "Notes:\n",
    "1.  AUC is useful even when there is **high class imbalance** (unlike classification accuracy)\n",
    "2.  AUC is useful even when predicted probabilities are not properly calibrated (e.g., not between 0 and 1)"
   ]
  },
  {
   "cell_type": "code",
   "execution_count": null,
   "metadata": {},
   "outputs": [],
   "source": [
    "print(skm.roc_auc_score(eval_targs, eval_probs, average='weighted', sample_weight=None))"
   ]
  },
  {
   "cell_type": "markdown",
   "metadata": {},
   "source": [
    "### Review regression - Sentiment"
   ]
  },
  {
   "cell_type": "code",
   "execution_count": null,
   "metadata": {},
   "outputs": [],
   "source": [
    "# mse\n",
    "skm.mean_squared_error(targs[0], probs[0])"
   ]
  },
  {
   "cell_type": "code",
   "execution_count": null,
   "metadata": {},
   "outputs": [],
   "source": [
    "# rmse\n",
    "math.sqrt(skm.mean_squared_error(targs[0], probs[0]))"
   ]
  },
  {
   "cell_type": "code",
   "execution_count": null,
   "metadata": {},
   "outputs": [],
   "source": [
    "# mae\n",
    "skm.mean_absolute_error(targs[0], probs[0])"
   ]
  },
  {
   "cell_type": "markdown",
   "metadata": {},
   "source": [
    "## Ensemble forwards and backwards passes"
   ]
  },
  {
   "cell_type": "code",
   "execution_count": null,
   "metadata": {},
   "outputs": [],
   "source": [
    "try:\n",
    "    learn_fwd.purge(); learn = None;\n",
    "    learn_bwd.purge(); learn_bwd = None;\n",
    "    gc.collect()\n",
    "    torch.cuda.empty_cache()\n",
    "except: pass\n",
    "\n",
    "bsz = 80\n",
    "m_suf = '_multitask'\n",
    "\n",
    "dls = torch.load(STANDARD_THEME_META_PATH/f'data_standard_theme_meta.pkl')\n",
    "\n",
    "learn_fwd = load_learner(fname=STANDARD_THEME_META_PATH/f'fwd_export_mm{m_suf}.pkl')\n",
    "learn_fwd.dls = dls\n",
    "learn_bwd = load_learner(fname=STANDARD_THEME_META_PATH/f'bwd_export_mm{m_suf}.pkl')\n",
    "learn_bwd.dls = dls"
   ]
  },
  {
   "cell_type": "code",
   "execution_count": null,
   "metadata": {},
   "outputs": [],
   "source": [
    "learn_fwd.loss_func = multi_targ_loss\n",
    "learn_bwd.loss_func = multi_targ_loss"
   ]
  },
  {
   "cell_type": "code",
   "execution_count": null,
   "metadata": {},
   "outputs": [],
   "source": [
    "probs_fwd, lbl_fwd, loss_fwd = learn_fwd.get_preds(with_loss=True, reorder=True)\n",
    "probs_bwd, lbl_bwd, loss_bwd = learn_bwd.get_preds(with_loss=True, reorder=True)\n",
    "\n",
    "probs_fwd[0].shape, probs_bwd[0].shape, loss_fwd.shape"
   ]
  },
  {
   "cell_type": "code",
   "execution_count": null,
   "metadata": {},
   "outputs": [],
   "source": [
    "loss_fwd.mean(), loss_bwd.mean(), (loss_fwd.mean() + loss_bwd.mean()) / 2"
   ]
  },
  {
   "cell_type": "code",
   "execution_count": null,
   "metadata": {},
   "outputs": [],
   "source": [
    "probs_final_sent = (probs_fwd[0] + probs_bwd[0]) / 2\n",
    "probs_final_is_example = (probs_fwd[1] + probs_bwd[1]) / 2"
   ]
  },
  {
   "cell_type": "markdown",
   "metadata": {},
   "source": [
    "### Results"
   ]
  },
  {
   "cell_type": "code",
   "execution_count": null,
   "metadata": {},
   "outputs": [],
   "source": [
    "# determine optimal threshold based on desired f-score\n",
    "f05 = OptimalMultiThresholdMetrics(beta=0.5, start=0.05, end=.9, sigmoid=False, \n",
    "                                   average='binary', sample_weight=None)\n",
    "f1 = OptimalMultiThresholdMetrics(beta=1, start=0.05, end=.9, sigmoid=False, \n",
    "                                   average='binary', sample_weight=None)\n",
    "f2 = OptimalMultiThresholdMetrics(beta=2, start=0.05, end=.9, sigmoid=False, \n",
    "                                   average='binary', sample_weight=None)"
   ]
  },
  {
   "cell_type": "code",
   "execution_count": null,
   "metadata": {},
   "outputs": [],
   "source": [
    "is_example_prob_true_fwd = torch.softmax(probs_fwd[1], dim=-1)[:,1]\n",
    "is_example_prob_true_bwd = torch.softmax(probs_bwd[1], dim=-1)[:,1]\n",
    "is_example_prob_true_ensemble = torch.softmax(probs_final_is_example, dim=-1)[:,1]\n",
    "\n",
    "# is_example_prob_true_fwd, is_example_prob_true_bwd, is_example_prob_true_ensemble"
   ]
  },
  {
   "cell_type": "code",
   "execution_count": null,
   "metadata": {},
   "outputs": [],
   "source": [
    "# determine optimal threshold based on desired f-score\n",
    "is_example_threshold_f05 = f05.opt_th(is_example_prob_true_fwd, lbl_fwd[1])\n",
    "is_example_threshold_f1 = f1.opt_th(is_example_prob_true_fwd, lbl_fwd[1])\n",
    "is_example_threshold_f2 = f2.opt_th(is_example_prob_true_fwd, lbl_fwd[1])\n",
    "\n",
    "is_example_threshold_f05, is_example_threshold_f1, is_example_threshold_f2\n",
    "\n",
    "# determine accuracy based on optimal threshold\n",
    "val_acc_f05 = accuracy_multi(is_example_prob_true_fwd, lbl_fwd[1], is_example_threshold_f05, sigmoid=False).item()\n",
    "val_acc_f1 = accuracy_multi(is_example_prob_true_fwd, lbl_fwd[1], is_example_threshold_f1, sigmoid=False).item()\n",
    "val_acc_f2 = accuracy_multi(is_example_prob_true_fwd, lbl_fwd[1], is_example_threshold_f2, sigmoid=False).item()\n",
    "\n",
    "print('Fowards Only\\n-------------')\n",
    "print(f'f05:\\tOptimal threshold = {is_example_threshold_f05}\\t(Accuracy = {val_acc_f05})')\n",
    "print(f'f1:\\tOptimal threshold = {is_example_threshold_f1}\\t(Accuracy = {val_acc_f1})')\n",
    "print(f'f2:\\tOptimal threshold = {is_example_threshold_f2}\\t(Accuracy = {val_acc_f2})')\n",
    "\n",
    "print(f'\\nAccuracy: {skm.accuracy_score(lbl_fwd[1], (is_example_prob_true_fwd > is_example_threshold_f1).float())}')"
   ]
  },
  {
   "cell_type": "code",
   "execution_count": null,
   "metadata": {},
   "outputs": [],
   "source": [
    "# determine optimal threshold based on desired f-score\n",
    "is_example_threshold_f05 = f05.opt_th(is_example_prob_true_bwd, lbl_fwd[1])\n",
    "is_example_threshold_f1 = f1.opt_th(is_example_prob_true_bwd, lbl_fwd[1])\n",
    "is_example_threshold_f2 = f2.opt_th(is_example_prob_true_bwd, lbl_fwd[1])\n",
    "\n",
    "is_example_threshold_f05, is_example_threshold_f1, is_example_threshold_f2\n",
    "\n",
    "# determine accuracy based on optimal threshold\n",
    "val_acc_f05 = accuracy_multi(is_example_prob_true_bwd, lbl_fwd[1], is_example_threshold_f05, sigmoid=False).item()\n",
    "val_acc_f1 = accuracy_multi(is_example_prob_true_bwd, lbl_fwd[1], is_example_threshold_f1, sigmoid=False).item()\n",
    "val_acc_f2 = accuracy_multi(is_example_prob_true_bwd, lbl_fwd[1], is_example_threshold_f2, sigmoid=False).item()\n",
    "\n",
    "print('Backwards Only\\n-------------')\n",
    "print(f'f05:\\tOptimal threshold = {is_example_threshold_f05}\\t(Accuracy = {val_acc_f05})')\n",
    "print(f'f1:\\tOptimal threshold = {is_example_threshold_f1}\\t(Accuracy = {val_acc_f1})')\n",
    "print(f'f2:\\tOptimal threshold = {is_example_threshold_f2}\\t(Accuracy = {val_acc_f2})')\n",
    "\n",
    "print(f'\\nAccuracy: {skm.accuracy_score(lbl_fwd[1], (is_example_prob_true_bwd > is_example_threshold_f1).float())}')"
   ]
  },
  {
   "cell_type": "code",
   "execution_count": null,
   "metadata": {},
   "outputs": [],
   "source": [
    "# determine optimal threshold based on desired f-score\n",
    "is_example_threshold_f05 = f05.opt_th(is_example_prob_true_ensemble, lbl_fwd[1])\n",
    "is_example_threshold_f1 = f1.opt_th(is_example_prob_true_ensemble, lbl_fwd[1])\n",
    "is_example_threshold_f2 = f2.opt_th(is_example_prob_true_ensemble, lbl_fwd[1])\n",
    "\n",
    "is_example_threshold_f05, is_example_threshold_f1, is_example_threshold_f2\n",
    "\n",
    "# determine accuracy based on optimal threshold\n",
    "val_acc_f05 = accuracy_multi(is_example_prob_true_ensemble, lbl_fwd[1], is_example_threshold_f05, sigmoid=False).item()\n",
    "val_acc_f1 = accuracy_multi(is_example_prob_true_ensemble, lbl_fwd[1], is_example_threshold_f1, sigmoid=False).item()\n",
    "val_acc_f2 = accuracy_multi(is_example_prob_true_ensemble, lbl_fwd[1], is_example_threshold_f2, sigmoid=False).item()\n",
    "\n",
    "print('Ensemble Only\\n-------------')\n",
    "print(f'f05:\\tOptimal threshold = {is_example_threshold_f05}\\t(Accuracy = {val_acc_f05})')\n",
    "print(f'f1:\\tOptimal threshold = {is_example_threshold_f1}\\t(Accuracy = {val_acc_f1})')\n",
    "print(f'f2:\\tOptimal threshold = {is_example_threshold_f2}\\t(Accuracy = {val_acc_f2})')\n",
    "\n",
    "print(f'\\nAccuracy: {skm.accuracy_score(lbl_fwd[1], (is_example_prob_true_ensemble > is_example_threshold_f1).float())}')"
   ]
  },
  {
   "cell_type": "code",
   "execution_count": null,
   "metadata": {},
   "outputs": [],
   "source": [
    "# sentiment metrics\n",
    "sentiment_mae = skm.mean_absolute_error(lbl_fwd[0], probs_final_sent)\n",
    "sentiment_mse = skm.mean_squared_error(lbl_fwd[0], probs_final_sent)\n",
    "sentiment_rmse = math.sqrt(skm.mean_squared_error(lbl_fwd[0], probs_final_sent))\n",
    "\n",
    "print(sentiment_mae, sentiment_mse, sentiment_rmse)"
   ]
  },
  {
   "cell_type": "code",
   "execution_count": null,
   "metadata": {},
   "outputs": [],
   "source": [
    "final_valid_loss = (loss_fwd.mean() + loss_bwd.mean()) / 2; final_valid_loss"
   ]
  },
  {
   "cell_type": "code",
   "execution_count": null,
   "metadata": {},
   "outputs": [],
   "source": [
    "float(sentiment_mae)"
   ]
  },
  {
   "cell_type": "code",
   "execution_count": null,
   "metadata": {},
   "outputs": [],
   "source": [
    "# save this information to be added to inference returned data\n",
    "model_results = {\n",
    "    'is_example_threshold_f05': is_example_threshold_f05,\n",
    "    'is_example_threshold_f1': is_example_threshold_f1,\n",
    "    'is_example_threshold_f2': is_example_threshold_f2,\n",
    "    \n",
    "    'val_acc_f05': val_acc_f05,\n",
    "    'val_acc_f1': val_acc_f1,\n",
    "    'val_acc_f2': val_acc_f2,\n",
    "    \n",
    "    'sentiment_mae': float(sentiment_mae),\n",
    "    'sentiment_mse': float(sentiment_mse),\n",
    "    'sentiment_rmse': float(sentiment_rmse),\n",
    "    \n",
    "    'final_valid_loss': final_valid_loss.item()\n",
    "}\n",
    "\n",
    "with open(STANDARD_THEME_META_PATH/'model_results.json', 'w') as f: json.dump(model_results, f)"
   ]
  },
  {
   "cell_type": "markdown",
   "metadata": {},
   "source": [
    "### Inference (ad-hoc documents)"
   ]
  },
  {
   "cell_type": "code",
   "execution_count": null,
   "metadata": {},
   "outputs": [],
   "source": [
    "print(STANDARD_THEME_META_LABELS)"
   ]
  },
  {
   "cell_type": "code",
   "execution_count": null,
   "metadata": {},
   "outputs": [],
   "source": [
    "test_comments = [\n",
    "    'The parking situation REALLY sucks around here.  It needs to be fixed',\n",
    "    'I LOVE working at UCSD!!!  It is wonderful',\n",
    "    \"\"\"Some staff are just uninformed.There is no support for solo-individual study (no closed off rooms).\n",
    "        Once a guy (quite tall) walked in into the girl's restroom and used the stalls standing up. \n",
    "        There was no line in the guy's restroom. This happened when I done and was going to walk out. \n",
    "        I was extremely uncomfortable\"\"\",\n",
    "    \"I love UCSD!!! It is a terrible place to work!\",\n",
    "    \"I was really uncomfortable to express my opinion!!!\"\n",
    "]\n",
    "\n",
    "for c in test_comments: print(learn_fwd.predict(c, with_input=True))"
   ]
  },
  {
   "cell_type": "markdown",
   "metadata": {},
   "source": [
    "### Inference (batch ensemble)"
   ]
  },
  {
   "cell_type": "code",
   "execution_count": null,
   "metadata": {},
   "outputs": [],
   "source": [
    "import datetime\n",
    "yyyymmdd = datetime.date.today().strftime(\"%Y%m%d\")\n",
    "\n",
    "m_suf = '_multitask'\n",
    "\n",
    "# device = torch.device('cpu')\n",
    "device = torch.device('cuda:1') if torch.cuda.is_available() else torch.device('cpu')\n",
    "print(device)"
   ]
  },
  {
   "cell_type": "code",
   "execution_count": null,
   "metadata": {},
   "outputs": [],
   "source": [
    "verbatims_df = pd.read_csv(STANDARD_THEME_SAW_PATH/'20200511_ensemble_predictions_multilabel.csv', \n",
    "                           dtype={**TASK_LM_DTYPES}, parse_dates=[])\n",
    "\n",
    "inf_df = verbatims_df.copy() #verbatims_df[test_df.SurveyID == 130].copy()\n",
    "inf_df.reset_index(drop=True, inplace=True)\n",
    "print(len(verbatims_df))\n",
    "\n",
    "corpus_cols = ['theme', 'AnswerText'] "
   ]
  },
  {
   "cell_type": "code",
   "execution_count": null,
   "metadata": {},
   "outputs": [],
   "source": [
    "inf_df.head(1)"
   ]
  },
  {
   "cell_type": "code",
   "execution_count": null,
   "metadata": {},
   "outputs": [],
   "source": [
    "pred_theme_cols = filter_col = [col for col in inf_df if col.startswith('prob_')]\n",
    "# pred_theme_cols"
   ]
  },
  {
   "cell_type": "code",
   "execution_count": null,
   "metadata": {},
   "outputs": [],
   "source": [
    "inf_df = inf_df.melt(id_vars=list(TASK_LM_DTYPES.keys()) + ['threshold_f05', 'threshold_f1', 'threshold_f2', 'val_acc_f05', 'val_acc_f1', 'val_acc_f2', 'val_loss'], \n",
    "                     value_vars=pred_theme_cols, \n",
    "                     var_name='theme', \n",
    "                     value_name='theme_prob')\n",
    "len(inf_df)"
   ]
  },
  {
   "cell_type": "code",
   "execution_count": null,
   "metadata": {},
   "outputs": [],
   "source": [
    "inf_df = inf_df.loc[inf_df.theme_prob >= inf_df.threshold_f2]\n",
    "len(inf_df)"
   ]
  },
  {
   "cell_type": "code",
   "execution_count": null,
   "metadata": {},
   "outputs": [],
   "source": [
    "inf_df['url_friendly_theme'] = inf_df.theme.apply(\n",
    "    lambda s: re.sub(\"(.*?)_([a-zA-Z])\",\"\\g<1> \\g<2>\",s).replace('prob', '').strip().title().replace(' ',''))\n",
    "\n",
    "inf_df['theme'] = inf_df.url_friendly_theme.apply(lambda s: re.sub(\"([a-z])([A-Z])\",\"\\g<1> \\g<2>\",s))"
   ]
  },
  {
   "cell_type": "code",
   "execution_count": null,
   "metadata": {},
   "outputs": [],
   "source": [
    "inf_df.reset_index(inplace=True)"
   ]
  },
  {
   "cell_type": "code",
   "execution_count": null,
   "metadata": {},
   "outputs": [],
   "source": [
    "inf_df.head()"
   ]
  },
  {
   "cell_type": "code",
   "execution_count": null,
   "metadata": {},
   "outputs": [],
   "source": [
    "def get_model_results(backwards:bool=False, m_suf:str='multilabel'):\n",
    "    \n",
    "    model_prefix = 'bwd' if backwards else 'fwd'\n",
    "    \n",
    "    # 1. grab learner, procs, and data\n",
    "    inf_learn = load_learner(fname=STANDARD_THEME_META_PATH/f'{model_prefix}_export_mm_{m_suf}.pkl', cpu=False)\n",
    "    inf_learn.model = inf_learn.model.to(device)\n",
    "    inf_learn.model = inf_learn.model.eval()\n",
    "    \n",
    "    # 2. define a suitable dataloader\n",
    "    tok_inf_df, tok_counts = tokenize_df(inf_df, corpus_cols)\n",
    "    inf_dl = inf_learn.dls.test_dl(tok_inf_df, rm_type_tfms=None, bs=128)\n",
    "    if (backwards): inf_dl.tfms.add(Transform(lambda nums: nums.flip(0)))\n",
    "\n",
    "    # 3. get probs\n",
    "    test_probs_sent, test_probs_is_example = [], []\n",
    "    with torch.no_grad():\n",
    "        for index, b in enumerate(inf_dl):\n",
    "            if index % 1000 == 0:  print(index)\n",
    "\n",
    "            # reset hidden state (if you don't do this you will OOM)\n",
    "            inf_learn.model.reset()\n",
    "            \n",
    "            # note: even though there is no targets, each batch is a tuple!\n",
    "            probs, raw_outputs, outputs = inf_learn.model(b[0])\n",
    "            \n",
    "            # why \"detach\"? the computation of gradients wrt the weights of netG can be fully \n",
    "            # avoided in the backward pass if the graph is detached where it is.\n",
    "            test_probs_sent.append(to_detach(probs[0]))\n",
    "            test_probs_is_example.append(to_detach(probs[1]))\n",
    "\n",
    "    all_probs_sent = L(torch.cat(test_probs_sent))\n",
    "    all_probs_is_example = L(torch.cat(test_probs_is_example))\n",
    "\n",
    "    # 4. ensure results are returned in order\n",
    "    # test_dl.get_idxs() => unsorted/original order items\n",
    "    all_probs_sent = all_probs_sent[0][np.argsort(inf_dl.get_idxs())]\n",
    "    all_probs_is_example = all_probs_is_example[0][np.argsort(inf_dl.get_idxs())]\n",
    "\n",
    "    # 5. return ordered results\n",
    "    inf_learn, inf_data = None, None; gc.collect()\n",
    "    \n",
    "    return all_probs_sent, all_probs_is_example"
   ]
  },
  {
   "cell_type": "code",
   "execution_count": null,
   "metadata": {},
   "outputs": [],
   "source": [
    "%time\n",
    "\n",
    "probs_fwd_sent, probs_fwd_is_example = get_model_results(backwards=False, m_suf='multitask')\n",
    "probs_bwd_sent, probs_bwd_is_example = get_model_results(backwards=True, m_suf='multitask')\n",
    "\n",
    "probs_final_sent = (probs_fwd_sent + probs_bwd_sent) / 2\n",
    "probs_final_is_example = torch.softmax((probs_fwd_is_example + probs_bwd_is_example) / 2, dim=-1)[:,1]\n",
    "\n",
    "# probs_final = torch.sigmoid((probs_fwd + probs_bwd) / 2)\n",
    "\n",
    "print(probs_final_sent.shape)\n",
    "print(probs_final_sent[:5])\n",
    "print(probs_final_is_example.shape)\n",
    "print(probs_final_is_example[:5])"
   ]
  },
  {
   "cell_type": "markdown",
   "metadata": {},
   "source": [
    "Add the probabilities of each label to `inf_df`"
   ]
  },
  {
   "cell_type": "code",
   "execution_count": null,
   "metadata": {},
   "outputs": [],
   "source": [
    "np.concatenate((probs_final_sent.numpy(), probs_final_is_example.numpy()[:,None]), axis=1)"
   ]
  },
  {
   "cell_type": "code",
   "execution_count": null,
   "metadata": {},
   "outputs": [],
   "source": [
    "combined_probs = np.concatenate((probs_final_sent.numpy(), probs_final_is_example.numpy()[:,None]), axis=1)"
   ]
  },
  {
   "cell_type": "code",
   "execution_count": null,
   "metadata": {
    "scrolled": true
   },
   "outputs": [],
   "source": [
    "prob_labels = ['prob_' + lbl for lbl in STANDARD_THEME_META_LABELS]\n",
    "probs_df = pd.DataFrame(combined_probs, columns=prob_labels)\n",
    "probs_df.head()"
   ]
  },
  {
   "cell_type": "code",
   "execution_count": null,
   "metadata": {},
   "outputs": [],
   "source": [
    "# test_df_filtered.update(probs_df)\n",
    "final_df = pd.concat([inf_df, probs_df], axis=1)\n",
    "final_df.head()"
   ]
  },
  {
   "cell_type": "markdown",
   "metadata": {},
   "source": [
    "Add in predictions based on f1 threshold"
   ]
  },
  {
   "cell_type": "code",
   "execution_count": null,
   "metadata": {},
   "outputs": [],
   "source": [
    "for lbl in STANDARD_THEME_META_LABELS[1:]:\n",
    "    final_df[f'pred_{lbl}'] = (final_df[f'prob_{lbl}'] > is_example_threshold_f1).astype(np.int64)"
   ]
  },
  {
   "cell_type": "markdown",
   "metadata": {},
   "source": [
    "Include found thresholds"
   ]
  },
  {
   "cell_type": "code",
   "execution_count": null,
   "metadata": {},
   "outputs": [],
   "source": [
    "final_df['is_example_threshold_f05'] = is_example_threshold_f05\n",
    "final_df['is_example_threshold_f1'] = is_example_threshold_f1\n",
    "final_df['is_example_threshold_f2'] = is_example_threshold_f2\n",
    "\n",
    "final_df['is_example_val_acc_f05'] = val_acc_f05\n",
    "final_df['is_example_val_acc_f1'] = val_acc_f1\n",
    "final_df['is_example_val_acc_f2'] = val_acc_f2"
   ]
  },
  {
   "cell_type": "code",
   "execution_count": null,
   "metadata": {},
   "outputs": [],
   "source": [
    "final_df['sentiment_mae'] = sentiment_mae.item()\n",
    "final_df['sentiment_mse'] = sentiment_mse.item()\n",
    "final_df['sentiment_rmse'] = sentiment_rmse"
   ]
  },
  {
   "cell_type": "code",
   "execution_count": null,
   "metadata": {},
   "outputs": [],
   "source": [
    "final_df['val_loss_metadata'] = final_valid_loss.item()"
   ]
  },
  {
   "cell_type": "code",
   "execution_count": null,
   "metadata": {},
   "outputs": [],
   "source": [
    "final_df.head()"
   ]
  },
  {
   "cell_type": "code",
   "execution_count": null,
   "metadata": {},
   "outputs": [],
   "source": [
    "import datetime\n",
    "final_df.to_csv(STANDARD_THEME_META_PATH/f'{yyyymmdd}_ensemble_predictions{m_suf}.csv', index=False)"
   ]
  },
  {
   "cell_type": "markdown",
   "metadata": {},
   "source": [
    "### Playground"
   ]
  },
  {
   "cell_type": "code",
   "execution_count": null,
   "metadata": {},
   "outputs": [],
   "source": [
    "final_df.head()"
   ]
  },
  {
   "cell_type": "code",
   "execution_count": null,
   "metadata": {},
   "outputs": [],
   "source": [
    "print(final_df[final_df.Id == 589305].AnswerText.values[0])\n",
    "final_df[final_df.Id == 589305]"
   ]
  },
  {
   "cell_type": "code",
   "execution_count": null,
   "metadata": {},
   "outputs": [],
   "source": [
    "print(final_df.iloc[0].is_example_threshold_f05)\n",
    "print(final_df.iloc[0].is_example_threshold_f1)\n",
    "print(final_df.iloc[0].is_example_threshold_f2)\n",
    "print(final_df.prob_avg_sentiment.mean())"
   ]
  },
  {
   "cell_type": "code",
   "execution_count": null,
   "metadata": {},
   "outputs": [],
   "source": [
    "len(learn.opt.param_groups)"
   ]
  },
  {
   "cell_type": "code",
   "execution_count": null,
   "metadata": {},
   "outputs": [],
   "source": [
    "[ print(f'{lg}\\n') for lg in learn.opt.param_groups ]"
   ]
  },
  {
   "cell_type": "code",
   "execution_count": null,
   "metadata": {},
   "outputs": [],
   "source": [
    "losses = np.array([1,2,3,4,5,6,7,8,9,10]); losses"
   ]
  },
  {
   "cell_type": "code",
   "execution_count": null,
   "metadata": {},
   "outputs": [],
   "source": [
    "losses.mean()"
   ]
  },
  {
   "cell_type": "code",
   "execution_count": null,
   "metadata": {},
   "outputs": [],
   "source": [
    "(losses[:5].mean() + losses[5:].mean()) / 2"
   ]
  },
  {
   "cell_type": "code",
   "execution_count": null,
   "metadata": {},
   "outputs": [],
   "source": []
  }
 ],
 "metadata": {
  "kernelspec": {
   "display_name": "Python 3",
   "language": "python",
   "name": "python3"
  },
  "language_info": {
   "codemirror_mode": {
    "name": "ipython",
    "version": 3
   },
   "file_extension": ".py",
   "mimetype": "text/x-python",
   "name": "python",
   "nbconvert_exporter": "python",
   "pygments_lexer": "ipython3",
   "version": "3.7.6"
  },
  "varInspector": {
   "cols": {
    "lenName": 16,
    "lenType": 16,
    "lenVar": 40
   },
   "kernels_config": {
    "python": {
     "delete_cmd_postfix": "",
     "delete_cmd_prefix": "del ",
     "library": "var_list.py",
     "varRefreshCmd": "print(var_dic_list())"
    },
    "r": {
     "delete_cmd_postfix": ") ",
     "delete_cmd_prefix": "rm(",
     "library": "var_list.r",
     "varRefreshCmd": "cat(var_dic_list()) "
    }
   },
   "position": {
    "height": "468px",
    "left": "1307px",
    "right": "20px",
    "top": "120px",
    "width": "353px"
   },
   "types_to_exclude": [
    "module",
    "function",
    "builtin_function_or_method",
    "instance",
    "_Feature"
   ],
   "window_display": false
  }
 },
 "nbformat": 4,
 "nbformat_minor": 2
}
