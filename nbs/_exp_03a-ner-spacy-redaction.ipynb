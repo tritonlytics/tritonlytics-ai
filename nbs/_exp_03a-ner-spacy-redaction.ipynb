{
 "cells": [
  {
   "cell_type": "markdown",
   "metadata": {},
   "source": [
    "# Tritonlytics - Redaction (using spacy models)"
   ]
  },
  {
   "cell_type": "code",
   "execution_count": 1,
   "metadata": {},
   "outputs": [],
   "source": [
    "%reload_ext autoreload\n",
    "%autoreload 2\n",
    "%matplotlib inline\n",
    "\n",
    "import sys\n",
    "sys.path.append('..')"
   ]
  },
  {
   "cell_type": "code",
   "execution_count": 2,
   "metadata": {},
   "outputs": [],
   "source": [
    "import html, pdb\n",
    "from collections import Counter, defaultdict\n",
    "import multiprocessing as mp\n",
    "import tqdm\n",
    "\n",
    "from fastai.text import *\n",
    "from tritonlytics import Metrics as metrics_util, DataGeneration as dg_util, PandasUtil as pd_util\n",
    "from tritonlytics.callbacks import RocAucEvaluation\n",
    "\n",
    "import dill as pickle\n",
    "\n",
    "import spacy\n",
    "spacy_en = spacy.load('en')\n",
    "spacy_es = spacy.load('es')\n",
    "\n",
    "from wordcloud import WordCloud, STOPWORDS\n",
    "\n",
    "# pandas and plotting config\n",
    "import seaborn as sns\n",
    "sns.set_style('whitegrid')\n",
    "\n",
    "plt.rcParams['figure.figsize'] = (9,6)\n",
    "\n",
    "pd.set_option('display.max_rows', 500)\n",
    "pd.set_option('display.max_columns', 500)\n",
    "pd.set_option('display.width', 1000)\n",
    "pd.set_option('display.max_colwidth', 100)"
   ]
  },
  {
   "cell_type": "code",
   "execution_count": 3,
   "metadata": {},
   "outputs": [
    {
     "name": "stdout",
     "output_type": "stream",
     "text": [
      "fastai version: 1.0.45\n"
     ]
    }
   ],
   "source": [
    "print(f'fastai version: {__version__}')"
   ]
  },
  {
   "cell_type": "code",
   "execution_count": 4,
   "metadata": {},
   "outputs": [
    {
     "name": "stdout",
     "output_type": "stream",
     "text": [
      "Using GPU #1\n"
     ]
    }
   ],
   "source": [
    "torch.cuda.set_device(1)\n",
    "print(f'Using GPU #{torch.cuda.current_device()}')"
   ]
  },
  {
   "cell_type": "markdown",
   "metadata": {},
   "source": [
    "## Configuration"
   ]
  },
  {
   "cell_type": "code",
   "execution_count": 5,
   "metadata": {},
   "outputs": [],
   "source": [
    "# various default, LM, and classification paths\n",
    "RAW_DATA_PATH = Path('../data/raw')\n",
    "PATH = Path('../data/entity_identification')\n",
    "\n",
    "(PATH/'models').mkdir(parents=True, exist_ok=True)\n",
    "(PATH/'tmp').mkdir(exist_ok=True)"
   ]
  },
  {
   "cell_type": "code",
   "execution_count": 6,
   "metadata": {},
   "outputs": [],
   "source": [
    "# [child for child in PATH.iterdir()]\n",
    "# %ls {str(PATH)}"
   ]
  },
  {
   "cell_type": "code",
   "execution_count": 7,
   "metadata": {},
   "outputs": [],
   "source": [
    "# dataframe config\n",
    "verbatims_raw_filename = 'verbatims-raw.csv'\n",
    "verbatims_clean_filename = 'verbatims-clean-entities.csv'\n",
    "\n",
    "# basic columns\n",
    "col_dtypes = { \n",
    "    'AnswerText': str, 'AnswerText_NonEnglish': str, 'Language': str,\n",
    "    \n",
    "    'SurveyTypeID': int, 'BenchmarkSurveyType': str, 'ClientId': str,\n",
    "    \n",
    "    'QuestionReportAbbr': str, 'QuestionText': str, 'QuestionClass': str, \n",
    "    \n",
    "    'QuestionCategoryID': float, 'QuestionCategoryAbbr': str, 'QuestionCategoryLabel': str, \n",
    "    'BenchmarkLevel1': str, 'BenchmarkLevel2': str, 'BenchmarkLevel3': str, 'ClientBenchmarkLevel': str,\n",
    "    \n",
    "    'GroupCode': float, 'GroupName': str, \n",
    "    'GroupLevel1Code': float, 'GroupLevel1Name': str, 'GroupLevel2Code': float, 'GroupLevel2Name': str, \n",
    "    'GroupLevel3Code': float, 'GroupLevel3Name': str, 'GroupLevel4Code': float, 'GroupLevel4Name': str,\n",
    "    'GroupLevel5Code': float, 'GroupLevel5Name': str, 'GroupLevel6Code': float, 'GroupLevel6Name': str, \n",
    "    'GroupLevel7Code': float, 'GroupLevel7Name': str, 'GroupLevel8Code': float, 'GroupLevel8Name': str,\n",
    "    \n",
    "    'TagCount': int\n",
    "}\n",
    "\n",
    "# sentiment and entity labels\n",
    "sent_dtypes = { \n",
    "    'OverallSentiment': int, 'IsVeryPositive': int, 'IsPositive': int, 'IsVeryNegative': int, 'IsNegative' : int, \n",
    "    'IsSuggestion' : int, 'FeelsThreatened' : int, 'HasProfanity' : int, 'IsNonsense' : int \n",
    "}\n",
    "\n",
    "# date columns\n",
    "date_cols = ['LastTaggedOn']\n",
    "\n",
    "dtypes = {**col_dtypes, **sent_dtypes }\n",
    "\n",
    "\n",
    "# string columns (that can be used in language modeling), labels and classes\n",
    "TXT_COLS = [\n",
    "    'AnswerText', 'AnswerText_NonEnglish', 'Language',\n",
    "    'BenchmarkSurveyType', 'ClientId',\n",
    "    'QuestionReportAbbr', 'QuestionText', 'QuestionClass', \n",
    "    'QuestionCategoryAbbr', 'QuestionCategoryLabel',\n",
    "    'BenchmarkLevel1', 'BenchmarkLevel2', 'BenchmarkLevel3', 'ClientBenchmarkLevel',\n",
    "    'GroupName', \n",
    "    'GroupLevel1Name', 'GroupLevel2Name', 'GroupLevel3Name', 'GroupLevel4Name', \n",
    "    'GroupLevel5Name', 'GroupLevel6Name', 'GroupLevel7Name', 'GroupLevel8Name'\n",
    "]\n",
    "\n",
    "LABELS_SENT = list(sent_dtypes.keys())\n",
    "LABELS = LABELS_SENT\n",
    "\n",
    "CLASSES = [['Very Negative', 'Negative', 'Neutral', 'Positive', 'VeryPositive'], ['no', 'yes']]"
   ]
  },
  {
   "cell_type": "markdown",
   "metadata": {},
   "source": [
    "## Utility Methods"
   ]
  },
  {
   "cell_type": "code",
   "execution_count": null,
   "metadata": {},
   "outputs": [],
   "source": []
  },
  {
   "cell_type": "markdown",
   "metadata": {},
   "source": [
    "## Data Preparation"
   ]
  },
  {
   "cell_type": "markdown",
   "metadata": {},
   "source": [
    "Review data and cleanup as necessary"
   ]
  },
  {
   "cell_type": "code",
   "execution_count": 8,
   "metadata": {},
   "outputs": [],
   "source": [
    "survey_id = 199 # 199 latest UW"
   ]
  },
  {
   "cell_type": "code",
   "execution_count": 9,
   "metadata": {},
   "outputs": [
    {
     "data": {
      "text/plain": [
       "21360"
      ]
     },
     "metadata": {},
     "output_type": "display_data"
    },
    {
     "data": {
      "text/html": [
       "<div>\n",
       "<style scoped>\n",
       "    .dataframe tbody tr th:only-of-type {\n",
       "        vertical-align: middle;\n",
       "    }\n",
       "\n",
       "    .dataframe tbody tr th {\n",
       "        vertical-align: top;\n",
       "    }\n",
       "\n",
       "    .dataframe thead th {\n",
       "        text-align: right;\n",
       "    }\n",
       "</style>\n",
       "<table border=\"1\" class=\"dataframe\">\n",
       "  <thead>\n",
       "    <tr style=\"text-align: right;\">\n",
       "      <th></th>\n",
       "      <th>Id</th>\n",
       "      <th>SurveyID</th>\n",
       "      <th>QuestionAnsID</th>\n",
       "      <th>RspID</th>\n",
       "      <th>QuestionCategoryID</th>\n",
       "      <th>GroupID</th>\n",
       "      <th>AnswerText</th>\n",
       "      <th>AnswerText_NonEnglish</th>\n",
       "      <th>Language</th>\n",
       "      <th>SurveyTypeID</th>\n",
       "      <th>BenchmarkSurveyType</th>\n",
       "      <th>ClientId</th>\n",
       "      <th>QuestionReportAbbr</th>\n",
       "      <th>QuestionClass</th>\n",
       "      <th>QuestionText</th>\n",
       "      <th>QuestionCategoryAbbr</th>\n",
       "      <th>QuestionCategoryLabel</th>\n",
       "      <th>BenchmarkLevel1</th>\n",
       "      <th>BenchmarkLevel2</th>\n",
       "      <th>BenchmarkLevel3</th>\n",
       "      <th>ClientBenchmarkLevel</th>\n",
       "      <th>GroupCode</th>\n",
       "      <th>GroupName</th>\n",
       "      <th>GroupLevel1Code</th>\n",
       "      <th>GroupLevel1Name</th>\n",
       "      <th>GroupLevel2Code</th>\n",
       "      <th>GroupLevel2Name</th>\n",
       "      <th>GroupLevel3Code</th>\n",
       "      <th>GroupLevel3Name</th>\n",
       "      <th>GroupLevel4Code</th>\n",
       "      <th>GroupLevel4Name</th>\n",
       "      <th>GroupLevel5Code</th>\n",
       "      <th>GroupLevel5Name</th>\n",
       "      <th>GroupLevel6Code</th>\n",
       "      <th>GroupLevel6Name</th>\n",
       "      <th>GroupLevel7Code</th>\n",
       "      <th>GroupLevel7Name</th>\n",
       "      <th>GroupLevel8Code</th>\n",
       "      <th>GroupLevel8Name</th>\n",
       "      <th>OverallSentiment</th>\n",
       "      <th>IsVeryPositive</th>\n",
       "      <th>IsPositive</th>\n",
       "      <th>IsVeryNegative</th>\n",
       "      <th>IsNegative</th>\n",
       "      <th>IsSuggestion</th>\n",
       "      <th>FeelsThreatened</th>\n",
       "      <th>HasProfanity</th>\n",
       "      <th>IsNonsense</th>\n",
       "      <th>TagCount</th>\n",
       "      <th>LastTaggedOn</th>\n",
       "    </tr>\n",
       "  </thead>\n",
       "  <tbody>\n",
       "    <tr>\n",
       "      <th>323189</th>\n",
       "      <td>424934</td>\n",
       "      <td>199</td>\n",
       "      <td>27977</td>\n",
       "      <td>384580</td>\n",
       "      <td>361.0</td>\n",
       "      <td>-1</td>\n",
       "      <td>Unfortunately, I don't find the academic coaching helpful.  Even though the issues are outlined ...</td>\n",
       "      <td>NaN</td>\n",
       "      <td>English</td>\n",
       "      <td>24</td>\n",
       "      <td>CSS</td>\n",
       "      <td>UW</td>\n",
       "      <td>HousingDisabilities_Experience</td>\n",
       "      <td>Verbatim-Dept-Question</td>\n",
       "      <td>Is there anything else we should know about your experience with Disability Resources for Students?</td>\n",
       "      <td>Acad Housing Students w Disabilities</td>\n",
       "      <td>Academic &amp; Housing Accommodations for Students with Disabilities</td>\n",
       "      <td>Student</td>\n",
       "      <td>Student Life</td>\n",
       "      <td>Student Activities</td>\n",
       "      <td>1</td>\n",
       "      <td>-1.0</td>\n",
       "      <td>None</td>\n",
       "      <td>-1.0</td>\n",
       "      <td>None</td>\n",
       "      <td>NaN</td>\n",
       "      <td>NaN</td>\n",
       "      <td>NaN</td>\n",
       "      <td>NaN</td>\n",
       "      <td>NaN</td>\n",
       "      <td>NaN</td>\n",
       "      <td>NaN</td>\n",
       "      <td>NaN</td>\n",
       "      <td>NaN</td>\n",
       "      <td>NaN</td>\n",
       "      <td>NaN</td>\n",
       "      <td>NaN</td>\n",
       "      <td>NaN</td>\n",
       "      <td>NaN</td>\n",
       "      <td>3</td>\n",
       "      <td>0</td>\n",
       "      <td>0</td>\n",
       "      <td>0</td>\n",
       "      <td>0</td>\n",
       "      <td>0</td>\n",
       "      <td>0</td>\n",
       "      <td>0</td>\n",
       "      <td>0</td>\n",
       "      <td>0</td>\n",
       "      <td>NaT</td>\n",
       "    </tr>\n",
       "  </tbody>\n",
       "</table>\n",
       "</div>"
      ],
      "text/plain": [
       "            Id  SurveyID  QuestionAnsID   RspID  QuestionCategoryID  GroupID                                                                                           AnswerText AnswerText_NonEnglish Language  SurveyTypeID BenchmarkSurveyType ClientId              QuestionReportAbbr           QuestionClass                                                                                         QuestionText                  QuestionCategoryAbbr                                             QuestionCategoryLabel BenchmarkLevel1 BenchmarkLevel2     BenchmarkLevel3 ClientBenchmarkLevel  GroupCode GroupName  GroupLevel1Code GroupLevel1Name  GroupLevel2Code GroupLevel2Name  GroupLevel3Code GroupLevel3Name  GroupLevel4Code GroupLevel4Name  GroupLevel5Code GroupLevel5Name  GroupLevel6Code GroupLevel6Name  GroupLevel7Code GroupLevel7Name  GroupLevel8Code GroupLevel8Name  OverallSentiment  IsVeryPositive  IsPositive  IsVeryNegative  IsNegative  IsSuggestion  FeelsThreatened  HasProfanity  \\\n",
       "323189  424934       199          27977  384580               361.0       -1  Unfortunately, I don't find the academic coaching helpful.  Even though the issues are outlined ...                   NaN  English            24                 CSS       UW  HousingDisabilities_Experience  Verbatim-Dept-Question  Is there anything else we should know about your experience with Disability Resources for Students?  Acad Housing Students w Disabilities  Academic & Housing Accommodations for Students with Disabilities         Student    Student Life  Student Activities                    1       -1.0      None             -1.0            None              NaN             NaN              NaN             NaN              NaN             NaN              NaN             NaN              NaN             NaN              NaN             NaN              NaN             NaN                 3               0           0               0           0             0                0             0   \n",
       "\n",
       "        IsNonsense  TagCount LastTaggedOn  \n",
       "323189           0         0          NaT  "
      ]
     },
     "metadata": {},
     "output_type": "display_data"
    }
   ],
   "source": [
    "df = pd.read_csv(RAW_DATA_PATH/verbatims_raw_filename, dtype=dtypes, parse_dates=date_cols)\n",
    "df = df[df.SurveyID == survey_id].copy()\n",
    "\n",
    "display(len(df))\n",
    "display(df.head(1))"
   ]
  },
  {
   "cell_type": "markdown",
   "metadata": {},
   "source": [
    "Replace new lines with space"
   ]
  },
  {
   "cell_type": "code",
   "execution_count": 10,
   "metadata": {},
   "outputs": [],
   "source": [
    "# df.loc[(pd.notnull(df.AnswerText)) & (df.AnswerText.str.contains(r\"\\\\r\\\\n\")), \n",
    "#        'AnswerText'] = df.AnswerText.str.replace(r\"\\r\\n\", ' ', regex=False)"
   ]
  },
  {
   "cell_type": "code",
   "execution_count": 11,
   "metadata": {},
   "outputs": [],
   "source": [
    "# len(df.loc[(pd.notnull(df.AnswerText)) & (df.AnswerText.str.contains(r\"\\\\r\\\\n\"))])"
   ]
  },
  {
   "cell_type": "code",
   "execution_count": 12,
   "metadata": {},
   "outputs": [],
   "source": [
    "# df.loc[(pd.notnull(df.AnswerText_NonEnglish)) & (df.AnswerText_NonEnglish.str.contains(r\"\\\\r\\\\n\")), \n",
    "#        'AnswerText_NonEnglish'] = df.AnswerText_NonEnglish.str.replace(r\"\\r\\n\", ' ', regex=False)"
   ]
  },
  {
   "cell_type": "code",
   "execution_count": 13,
   "metadata": {},
   "outputs": [],
   "source": [
    "# len(df.loc[(pd.notnull(df.AnswerText_NonEnglish)) & (df.AnswerText_NonEnglish.str.contains(r\"\\\\r\\\\n\"))])"
   ]
  },
  {
   "cell_type": "code",
   "execution_count": 14,
   "metadata": {},
   "outputs": [],
   "source": [
    "# df.head(2)"
   ]
  },
  {
   "cell_type": "markdown",
   "metadata": {},
   "source": [
    "## Redaction methods"
   ]
  },
  {
   "cell_type": "code",
   "execution_count": 15,
   "metadata": {},
   "outputs": [],
   "source": [
    "spacy_models = collections.defaultdict(lambda: None, { 'English': spacy_en, 'Spanish': spacy_es })\n",
    "lang_cols = collections.defaultdict(lambda: 'AnswerText_NonEnglish', { 'English': 'AnswerText'})"
   ]
  },
  {
   "cell_type": "code",
   "execution_count": 16,
   "metadata": {},
   "outputs": [],
   "source": [
    "pre_identified_entities = {} #{ 'TITLE': ['Mr.', 'Mrs.', 'Dr.'] }\n",
    "entities = ['PERSON']"
   ]
  },
  {
   "cell_type": "code",
   "execution_count": 17,
   "metadata": {},
   "outputs": [],
   "source": [
    "def get_redacted_text(df, entities_to_remove=['PERSON'], pre_identified_entities_to_remove={}, \n",
    "                      lang_col='Language', ):\n",
    "    \n",
    "    redacted_items = []\n",
    "    \n",
    "    for index, row in df.iterrows():\n",
    "        # get the correct spacy model for the language\n",
    "        spacy_fn = spacy_models[row[lang_col]]\n",
    "        if (spacy_fn == None): continue;\n",
    "            \n",
    "        # only process the text field if something is there\n",
    "        txt_col = lang_cols[row[lang_col]]\n",
    "        txt = str(row[txt_col])\n",
    "        if (txt == None): continue\n",
    "            \n",
    "        # process the text first using spacy model since it may use tokens that\n",
    "        # we replace via \"pre_identified_entities_to_remove\"\n",
    "        doc = spacy_fn(txt)\n",
    "            \n",
    "        # 1. replace pre-identified entities first\n",
    "        for k,v in pre_identified_entities_to_remove.items():\n",
    "            ent_label = k\n",
    "            for ent_value in v: txt = txt.replace(ent_value, f'<{ent_label}>')\n",
    "        \n",
    "        # 2. replace entities based on model\n",
    "        for ent in doc.ents:\n",
    "            if (ent.label_ not in entities_to_remove): continue\n",
    "                    \n",
    "            #print(ent.text, ent.start_char, ent.end_char, ent.label_)\n",
    "            txt = txt.replace(ent.text, f'<{ent.label_}>')\n",
    "            \n",
    "        redacted_items.append({ 'Id': row['Id'], 'RedactedAnswerText': txt })\n",
    "    \n",
    "    return redacted_items"
   ]
  },
  {
   "cell_type": "code",
   "execution_count": 18,
   "metadata": {},
   "outputs": [],
   "source": [
    "items = get_redacted_text(df, entities, pre_identified_entities)"
   ]
  },
  {
   "cell_type": "code",
   "execution_count": 19,
   "metadata": {},
   "outputs": [
    {
     "data": {
      "text/plain": [
       "(21360, 2)"
      ]
     },
     "execution_count": 19,
     "metadata": {},
     "output_type": "execute_result"
    }
   ],
   "source": [
    "redacted_df = pd.DataFrame(items)\n",
    "redacted_df.shape"
   ]
  },
  {
   "cell_type": "code",
   "execution_count": 20,
   "metadata": {},
   "outputs": [
    {
     "data": {
      "text/html": [
       "<div>\n",
       "<style scoped>\n",
       "    .dataframe tbody tr th:only-of-type {\n",
       "        vertical-align: middle;\n",
       "    }\n",
       "\n",
       "    .dataframe tbody tr th {\n",
       "        vertical-align: top;\n",
       "    }\n",
       "\n",
       "    .dataframe thead th {\n",
       "        text-align: right;\n",
       "    }\n",
       "</style>\n",
       "<table border=\"1\" class=\"dataframe\">\n",
       "  <thead>\n",
       "    <tr style=\"text-align: right;\">\n",
       "      <th></th>\n",
       "      <th>Id</th>\n",
       "      <th>SurveyID</th>\n",
       "      <th>QuestionAnsID</th>\n",
       "      <th>RspID</th>\n",
       "      <th>QuestionCategoryID</th>\n",
       "      <th>GroupID</th>\n",
       "      <th>AnswerText</th>\n",
       "      <th>AnswerText_NonEnglish</th>\n",
       "      <th>Language</th>\n",
       "      <th>SurveyTypeID</th>\n",
       "      <th>BenchmarkSurveyType</th>\n",
       "      <th>ClientId</th>\n",
       "      <th>QuestionReportAbbr</th>\n",
       "      <th>QuestionClass</th>\n",
       "      <th>QuestionText</th>\n",
       "      <th>QuestionCategoryAbbr</th>\n",
       "      <th>QuestionCategoryLabel</th>\n",
       "      <th>BenchmarkLevel1</th>\n",
       "      <th>BenchmarkLevel2</th>\n",
       "      <th>BenchmarkLevel3</th>\n",
       "      <th>ClientBenchmarkLevel</th>\n",
       "      <th>GroupCode</th>\n",
       "      <th>GroupName</th>\n",
       "      <th>GroupLevel1Code</th>\n",
       "      <th>GroupLevel1Name</th>\n",
       "      <th>GroupLevel2Code</th>\n",
       "      <th>GroupLevel2Name</th>\n",
       "      <th>GroupLevel3Code</th>\n",
       "      <th>GroupLevel3Name</th>\n",
       "      <th>GroupLevel4Code</th>\n",
       "      <th>GroupLevel4Name</th>\n",
       "      <th>GroupLevel5Code</th>\n",
       "      <th>GroupLevel5Name</th>\n",
       "      <th>GroupLevel6Code</th>\n",
       "      <th>GroupLevel6Name</th>\n",
       "      <th>GroupLevel7Code</th>\n",
       "      <th>GroupLevel7Name</th>\n",
       "      <th>GroupLevel8Code</th>\n",
       "      <th>GroupLevel8Name</th>\n",
       "      <th>OverallSentiment</th>\n",
       "      <th>IsVeryPositive</th>\n",
       "      <th>IsPositive</th>\n",
       "      <th>IsVeryNegative</th>\n",
       "      <th>IsNegative</th>\n",
       "      <th>IsSuggestion</th>\n",
       "      <th>FeelsThreatened</th>\n",
       "      <th>HasProfanity</th>\n",
       "      <th>IsNonsense</th>\n",
       "      <th>TagCount</th>\n",
       "      <th>LastTaggedOn</th>\n",
       "      <th>RedactedAnswerText</th>\n",
       "    </tr>\n",
       "  </thead>\n",
       "  <tbody>\n",
       "    <tr>\n",
       "      <th>0</th>\n",
       "      <td>424934</td>\n",
       "      <td>199</td>\n",
       "      <td>27977</td>\n",
       "      <td>384580</td>\n",
       "      <td>361.0</td>\n",
       "      <td>-1</td>\n",
       "      <td>Unfortunately, I don't find the academic coaching helpful.  Even though the issues are outlined ...</td>\n",
       "      <td>NaN</td>\n",
       "      <td>English</td>\n",
       "      <td>24</td>\n",
       "      <td>CSS</td>\n",
       "      <td>UW</td>\n",
       "      <td>HousingDisabilities_Experience</td>\n",
       "      <td>Verbatim-Dept-Question</td>\n",
       "      <td>Is there anything else we should know about your experience with Disability Resources for Students?</td>\n",
       "      <td>Acad Housing Students w Disabilities</td>\n",
       "      <td>Academic &amp; Housing Accommodations for Students with Disabilities</td>\n",
       "      <td>Student</td>\n",
       "      <td>Student Life</td>\n",
       "      <td>Student Activities</td>\n",
       "      <td>1</td>\n",
       "      <td>-1.0</td>\n",
       "      <td>None</td>\n",
       "      <td>-1.0</td>\n",
       "      <td>None</td>\n",
       "      <td>NaN</td>\n",
       "      <td>NaN</td>\n",
       "      <td>NaN</td>\n",
       "      <td>NaN</td>\n",
       "      <td>NaN</td>\n",
       "      <td>NaN</td>\n",
       "      <td>NaN</td>\n",
       "      <td>NaN</td>\n",
       "      <td>NaN</td>\n",
       "      <td>NaN</td>\n",
       "      <td>NaN</td>\n",
       "      <td>NaN</td>\n",
       "      <td>NaN</td>\n",
       "      <td>NaN</td>\n",
       "      <td>3</td>\n",
       "      <td>0</td>\n",
       "      <td>0</td>\n",
       "      <td>0</td>\n",
       "      <td>0</td>\n",
       "      <td>0</td>\n",
       "      <td>0</td>\n",
       "      <td>0</td>\n",
       "      <td>0</td>\n",
       "      <td>0</td>\n",
       "      <td>NaT</td>\n",
       "      <td>Unfortunately, I don't find the academic coaching helpful.  Even though the issues are outlined ...</td>\n",
       "    </tr>\n",
       "    <tr>\n",
       "      <th>1</th>\n",
       "      <td>424936</td>\n",
       "      <td>199</td>\n",
       "      <td>27977</td>\n",
       "      <td>384822</td>\n",
       "      <td>361.0</td>\n",
       "      <td>-1</td>\n",
       "      <td>Its apparent that theyre understaffed.</td>\n",
       "      <td>NaN</td>\n",
       "      <td>English</td>\n",
       "      <td>24</td>\n",
       "      <td>CSS</td>\n",
       "      <td>UW</td>\n",
       "      <td>HousingDisabilities_Experience</td>\n",
       "      <td>Verbatim-Dept-Question</td>\n",
       "      <td>Is there anything else we should know about your experience with Disability Resources for Students?</td>\n",
       "      <td>Acad Housing Students w Disabilities</td>\n",
       "      <td>Academic &amp; Housing Accommodations for Students with Disabilities</td>\n",
       "      <td>Student</td>\n",
       "      <td>Student Life</td>\n",
       "      <td>Student Activities</td>\n",
       "      <td>1</td>\n",
       "      <td>-1.0</td>\n",
       "      <td>None</td>\n",
       "      <td>-1.0</td>\n",
       "      <td>None</td>\n",
       "      <td>NaN</td>\n",
       "      <td>NaN</td>\n",
       "      <td>NaN</td>\n",
       "      <td>NaN</td>\n",
       "      <td>NaN</td>\n",
       "      <td>NaN</td>\n",
       "      <td>NaN</td>\n",
       "      <td>NaN</td>\n",
       "      <td>NaN</td>\n",
       "      <td>NaN</td>\n",
       "      <td>NaN</td>\n",
       "      <td>NaN</td>\n",
       "      <td>NaN</td>\n",
       "      <td>NaN</td>\n",
       "      <td>3</td>\n",
       "      <td>0</td>\n",
       "      <td>0</td>\n",
       "      <td>0</td>\n",
       "      <td>0</td>\n",
       "      <td>0</td>\n",
       "      <td>0</td>\n",
       "      <td>0</td>\n",
       "      <td>0</td>\n",
       "      <td>0</td>\n",
       "      <td>NaT</td>\n",
       "      <td>Its apparent that theyre understaffed.</td>\n",
       "    </tr>\n",
       "  </tbody>\n",
       "</table>\n",
       "</div>"
      ],
      "text/plain": [
       "       Id  SurveyID  QuestionAnsID   RspID  QuestionCategoryID  GroupID                                                                                           AnswerText AnswerText_NonEnglish Language  SurveyTypeID BenchmarkSurveyType ClientId              QuestionReportAbbr           QuestionClass                                                                                         QuestionText                  QuestionCategoryAbbr                                             QuestionCategoryLabel BenchmarkLevel1 BenchmarkLevel2     BenchmarkLevel3 ClientBenchmarkLevel  GroupCode GroupName  GroupLevel1Code GroupLevel1Name  GroupLevel2Code GroupLevel2Name  GroupLevel3Code GroupLevel3Name  GroupLevel4Code GroupLevel4Name  GroupLevel5Code GroupLevel5Name  GroupLevel6Code GroupLevel6Name  GroupLevel7Code GroupLevel7Name  GroupLevel8Code GroupLevel8Name  OverallSentiment  IsVeryPositive  IsPositive  IsVeryNegative  IsNegative  IsSuggestion  FeelsThreatened  HasProfanity  IsNonsense  \\\n",
       "0  424934       199          27977  384580               361.0       -1  Unfortunately, I don't find the academic coaching helpful.  Even though the issues are outlined ...                   NaN  English            24                 CSS       UW  HousingDisabilities_Experience  Verbatim-Dept-Question  Is there anything else we should know about your experience with Disability Resources for Students?  Acad Housing Students w Disabilities  Academic & Housing Accommodations for Students with Disabilities         Student    Student Life  Student Activities                    1       -1.0      None             -1.0            None              NaN             NaN              NaN             NaN              NaN             NaN              NaN             NaN              NaN             NaN              NaN             NaN              NaN             NaN                 3               0           0               0           0             0                0             0           0   \n",
       "1  424936       199          27977  384822               361.0       -1                                                               Its apparent that theyre understaffed.                   NaN  English            24                 CSS       UW  HousingDisabilities_Experience  Verbatim-Dept-Question  Is there anything else we should know about your experience with Disability Resources for Students?  Acad Housing Students w Disabilities  Academic & Housing Accommodations for Students with Disabilities         Student    Student Life  Student Activities                    1       -1.0      None             -1.0            None              NaN             NaN              NaN             NaN              NaN             NaN              NaN             NaN              NaN             NaN              NaN             NaN              NaN             NaN                 3               0           0               0           0             0                0             0           0   \n",
       "\n",
       "   TagCount LastTaggedOn                                                                                   RedactedAnswerText  \n",
       "0         0          NaT  Unfortunately, I don't find the academic coaching helpful.  Even though the issues are outlined ...  \n",
       "1         0          NaT                                                               Its apparent that theyre understaffed.  "
      ]
     },
     "execution_count": 20,
     "metadata": {},
     "output_type": "execute_result"
    }
   ],
   "source": [
    "df = df.merge(redacted_df, on='Id')\n",
    "df.head(2)"
   ]
  },
  {
   "cell_type": "markdown",
   "metadata": {},
   "source": [
    "### Save predictions"
   ]
  },
  {
   "cell_type": "code",
   "execution_count": 21,
   "metadata": {},
   "outputs": [],
   "source": [
    "import datetime\n",
    "file_prefix = datetime.date.today().strftime(\"%Y%m%d\")"
   ]
  },
  {
   "cell_type": "code",
   "execution_count": 22,
   "metadata": {},
   "outputs": [],
   "source": [
    "df.to_csv(PATH/f'{survey_id}_{file_prefix}_verbatims_redaction.csv', index=False)"
   ]
  },
  {
   "cell_type": "markdown",
   "metadata": {},
   "source": [
    "## Review redacted results"
   ]
  },
  {
   "cell_type": "code",
   "execution_count": 23,
   "metadata": {},
   "outputs": [
    {
     "data": {
      "text/html": [
       "<div>\n",
       "<style scoped>\n",
       "    .dataframe tbody tr th:only-of-type {\n",
       "        vertical-align: middle;\n",
       "    }\n",
       "\n",
       "    .dataframe tbody tr th {\n",
       "        vertical-align: top;\n",
       "    }\n",
       "\n",
       "    .dataframe thead th {\n",
       "        text-align: right;\n",
       "    }\n",
       "</style>\n",
       "<table border=\"1\" class=\"dataframe\">\n",
       "  <thead>\n",
       "    <tr style=\"text-align: right;\">\n",
       "      <th></th>\n",
       "      <th>Id</th>\n",
       "      <th>SurveyID</th>\n",
       "      <th>QuestionAnsID</th>\n",
       "      <th>RspID</th>\n",
       "      <th>QuestionCategoryID</th>\n",
       "      <th>GroupID</th>\n",
       "      <th>AnswerText</th>\n",
       "      <th>AnswerText_NonEnglish</th>\n",
       "      <th>Language</th>\n",
       "      <th>SurveyTypeID</th>\n",
       "      <th>BenchmarkSurveyType</th>\n",
       "      <th>ClientId</th>\n",
       "      <th>QuestionReportAbbr</th>\n",
       "      <th>QuestionClass</th>\n",
       "      <th>QuestionText</th>\n",
       "      <th>QuestionCategoryAbbr</th>\n",
       "      <th>QuestionCategoryLabel</th>\n",
       "      <th>BenchmarkLevel1</th>\n",
       "      <th>BenchmarkLevel2</th>\n",
       "      <th>BenchmarkLevel3</th>\n",
       "      <th>ClientBenchmarkLevel</th>\n",
       "      <th>GroupCode</th>\n",
       "      <th>GroupName</th>\n",
       "      <th>GroupLevel1Code</th>\n",
       "      <th>GroupLevel1Name</th>\n",
       "      <th>GroupLevel2Code</th>\n",
       "      <th>GroupLevel2Name</th>\n",
       "      <th>GroupLevel3Code</th>\n",
       "      <th>GroupLevel3Name</th>\n",
       "      <th>GroupLevel4Code</th>\n",
       "      <th>GroupLevel4Name</th>\n",
       "      <th>GroupLevel5Code</th>\n",
       "      <th>GroupLevel5Name</th>\n",
       "      <th>GroupLevel6Code</th>\n",
       "      <th>GroupLevel6Name</th>\n",
       "      <th>GroupLevel7Code</th>\n",
       "      <th>GroupLevel7Name</th>\n",
       "      <th>GroupLevel8Code</th>\n",
       "      <th>GroupLevel8Name</th>\n",
       "      <th>OverallSentiment</th>\n",
       "      <th>IsVeryPositive</th>\n",
       "      <th>IsPositive</th>\n",
       "      <th>IsVeryNegative</th>\n",
       "      <th>IsNegative</th>\n",
       "      <th>IsSuggestion</th>\n",
       "      <th>FeelsThreatened</th>\n",
       "      <th>HasProfanity</th>\n",
       "      <th>IsNonsense</th>\n",
       "      <th>TagCount</th>\n",
       "      <th>LastTaggedOn</th>\n",
       "      <th>RedactedAnswerText</th>\n",
       "    </tr>\n",
       "  </thead>\n",
       "  <tbody>\n",
       "    <tr>\n",
       "      <th>30</th>\n",
       "      <td>425050</td>\n",
       "      <td>199</td>\n",
       "      <td>27977</td>\n",
       "      <td>397945</td>\n",
       "      <td>361.0</td>\n",
       "      <td>-1</td>\n",
       "      <td>I understand that there has been a significant staff turn over in the DRS office. I question why...</td>\n",
       "      <td>NaN</td>\n",
       "      <td>English</td>\n",
       "      <td>24</td>\n",
       "      <td>CSS</td>\n",
       "      <td>UW</td>\n",
       "      <td>HousingDisabilities_Experience</td>\n",
       "      <td>Verbatim-Dept-Question</td>\n",
       "      <td>Is there anything else we should know about your experience with Disability Resources for Students?</td>\n",
       "      <td>Acad Housing Students w Disabilities</td>\n",
       "      <td>Academic &amp; Housing Accommodations for Students with Disabilities</td>\n",
       "      <td>Student</td>\n",
       "      <td>Student Life</td>\n",
       "      <td>Student Activities</td>\n",
       "      <td>1</td>\n",
       "      <td>-1.0</td>\n",
       "      <td>None</td>\n",
       "      <td>-1.0</td>\n",
       "      <td>None</td>\n",
       "      <td>NaN</td>\n",
       "      <td>NaN</td>\n",
       "      <td>NaN</td>\n",
       "      <td>NaN</td>\n",
       "      <td>NaN</td>\n",
       "      <td>NaN</td>\n",
       "      <td>NaN</td>\n",
       "      <td>NaN</td>\n",
       "      <td>NaN</td>\n",
       "      <td>NaN</td>\n",
       "      <td>NaN</td>\n",
       "      <td>NaN</td>\n",
       "      <td>NaN</td>\n",
       "      <td>NaN</td>\n",
       "      <td>3</td>\n",
       "      <td>0</td>\n",
       "      <td>0</td>\n",
       "      <td>0</td>\n",
       "      <td>0</td>\n",
       "      <td>0</td>\n",
       "      <td>0</td>\n",
       "      <td>0</td>\n",
       "      <td>0</td>\n",
       "      <td>0</td>\n",
       "      <td>NaT</td>\n",
       "      <td>I understand that there has been a significant staff turn over in the DRS office. I question why...</td>\n",
       "    </tr>\n",
       "    <tr>\n",
       "      <th>74</th>\n",
       "      <td>425232</td>\n",
       "      <td>199</td>\n",
       "      <td>28321</td>\n",
       "      <td>400398</td>\n",
       "      <td>369.0</td>\n",
       "      <td>-1</td>\n",
       "      <td>This is a program I believe in, and can get more exposure in my opinion. I don't like it, for in...</td>\n",
       "      <td>NaN</td>\n",
       "      <td>English</td>\n",
       "      <td>24</td>\n",
       "      <td>CSS</td>\n",
       "      <td>UW</td>\n",
       "      <td>BusDivPurAw_Experience</td>\n",
       "      <td>Verbatim-Dept-Question</td>\n",
       "      <td>Is there anything else we should know about your experience with Purchasing Awareness?</td>\n",
       "      <td>Bus Div Purchasing Awareness</td>\n",
       "      <td>Business Diversity Purchasing Awareness</td>\n",
       "      <td>Finance</td>\n",
       "      <td>Procurement &amp; Contracts</td>\n",
       "      <td>Business Outreach</td>\n",
       "      <td>1</td>\n",
       "      <td>-1.0</td>\n",
       "      <td>None</td>\n",
       "      <td>-1.0</td>\n",
       "      <td>None</td>\n",
       "      <td>NaN</td>\n",
       "      <td>NaN</td>\n",
       "      <td>NaN</td>\n",
       "      <td>NaN</td>\n",
       "      <td>NaN</td>\n",
       "      <td>NaN</td>\n",
       "      <td>NaN</td>\n",
       "      <td>NaN</td>\n",
       "      <td>NaN</td>\n",
       "      <td>NaN</td>\n",
       "      <td>NaN</td>\n",
       "      <td>NaN</td>\n",
       "      <td>NaN</td>\n",
       "      <td>NaN</td>\n",
       "      <td>3</td>\n",
       "      <td>0</td>\n",
       "      <td>0</td>\n",
       "      <td>0</td>\n",
       "      <td>0</td>\n",
       "      <td>0</td>\n",
       "      <td>0</td>\n",
       "      <td>0</td>\n",
       "      <td>0</td>\n",
       "      <td>0</td>\n",
       "      <td>NaT</td>\n",
       "      <td>This is a program I believe in, and can get more exposure in my opinion. I don't like it, for in...</td>\n",
       "    </tr>\n",
       "  </tbody>\n",
       "</table>\n",
       "</div>"
      ],
      "text/plain": [
       "        Id  SurveyID  QuestionAnsID   RspID  QuestionCategoryID  GroupID                                                                                           AnswerText AnswerText_NonEnglish Language  SurveyTypeID BenchmarkSurveyType ClientId              QuestionReportAbbr           QuestionClass                                                                                         QuestionText                  QuestionCategoryAbbr                                             QuestionCategoryLabel BenchmarkLevel1          BenchmarkLevel2     BenchmarkLevel3 ClientBenchmarkLevel  GroupCode GroupName  GroupLevel1Code GroupLevel1Name  GroupLevel2Code GroupLevel2Name  GroupLevel3Code GroupLevel3Name  GroupLevel4Code GroupLevel4Name  GroupLevel5Code GroupLevel5Name  GroupLevel6Code GroupLevel6Name  GroupLevel7Code GroupLevel7Name  GroupLevel8Code GroupLevel8Name  OverallSentiment  IsVeryPositive  IsPositive  IsVeryNegative  IsNegative  IsSuggestion  FeelsThreatened  HasProfanity  \\\n",
       "30  425050       199          27977  397945               361.0       -1  I understand that there has been a significant staff turn over in the DRS office. I question why...                   NaN  English            24                 CSS       UW  HousingDisabilities_Experience  Verbatim-Dept-Question  Is there anything else we should know about your experience with Disability Resources for Students?  Acad Housing Students w Disabilities  Academic & Housing Accommodations for Students with Disabilities         Student             Student Life  Student Activities                    1       -1.0      None             -1.0            None              NaN             NaN              NaN             NaN              NaN             NaN              NaN             NaN              NaN             NaN              NaN             NaN              NaN             NaN                 3               0           0               0           0             0                0             0   \n",
       "74  425232       199          28321  400398               369.0       -1  This is a program I believe in, and can get more exposure in my opinion. I don't like it, for in...                   NaN  English            24                 CSS       UW          BusDivPurAw_Experience  Verbatim-Dept-Question               Is there anything else we should know about your experience with Purchasing Awareness?          Bus Div Purchasing Awareness                           Business Diversity Purchasing Awareness         Finance  Procurement & Contracts   Business Outreach                    1       -1.0      None             -1.0            None              NaN             NaN              NaN             NaN              NaN             NaN              NaN             NaN              NaN             NaN              NaN             NaN              NaN             NaN                 3               0           0               0           0             0                0             0   \n",
       "\n",
       "    IsNonsense  TagCount LastTaggedOn                                                                                   RedactedAnswerText  \n",
       "30           0         0          NaT  I understand that there has been a significant staff turn over in the DRS office. I question why...  \n",
       "74           0         0          NaT  This is a program I believe in, and can get more exposure in my opinion. I don't like it, for in...  "
      ]
     },
     "execution_count": 23,
     "metadata": {},
     "output_type": "execute_result"
    }
   ],
   "source": [
    "df[df.RedactedAnswerText.str.contains('<PERSON>')].head(2)"
   ]
  },
  {
   "cell_type": "code",
   "execution_count": null,
   "metadata": {},
   "outputs": [],
   "source": []
  },
  {
   "cell_type": "code",
   "execution_count": null,
   "metadata": {},
   "outputs": [],
   "source": []
  }
 ],
 "metadata": {
  "kernelspec": {
   "display_name": "Python 3",
   "language": "python",
   "name": "python3"
  },
  "language_info": {
   "codemirror_mode": {
    "name": "ipython",
    "version": 3
   },
   "file_extension": ".py",
   "mimetype": "text/x-python",
   "name": "python",
   "nbconvert_exporter": "python",
   "pygments_lexer": "ipython3",
   "version": "3.7.6"
  },
  "varInspector": {
   "cols": {
    "lenName": 16,
    "lenType": 16,
    "lenVar": 40
   },
   "kernels_config": {
    "python": {
     "delete_cmd_postfix": "",
     "delete_cmd_prefix": "del ",
     "library": "var_list.py",
     "varRefreshCmd": "print(var_dic_list())"
    },
    "r": {
     "delete_cmd_postfix": ") ",
     "delete_cmd_prefix": "rm(",
     "library": "var_list.r",
     "varRefreshCmd": "cat(var_dic_list()) "
    }
   },
   "types_to_exclude": [
    "module",
    "function",
    "builtin_function_or_method",
    "instance",
    "_Feature"
   ],
   "window_display": false
  }
 },
 "nbformat": 4,
 "nbformat_minor": 2
}
